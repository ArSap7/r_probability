{
 "cells": [
  {
   "cell_type": "code",
   "execution_count": 2,
   "metadata": {},
   "outputs": [],
   "source": [
    "library('dplyr')\n",
    "library('ggplot2')"
   ]
  },
  {
   "cell_type": "code",
   "execution_count": null,
   "metadata": {},
   "outputs": [],
   "source": []
  },
  {
   "cell_type": "code",
   "execution_count": null,
   "metadata": {},
   "outputs": [],
   "source": []
  },
  {
   "cell_type": "code",
   "execution_count": null,
   "metadata": {},
   "outputs": [],
   "source": []
  },
  {
   "cell_type": "code",
   "execution_count": null,
   "metadata": {},
   "outputs": [],
   "source": []
  },
  {
   "cell_type": "code",
   "execution_count": 6,
   "metadata": {},
   "outputs": [],
   "source": [
    "df = read.csv('titanic.csv', sep=',', dec='.')"
   ]
  },
  {
   "cell_type": "code",
   "execution_count": 7,
   "metadata": {},
   "outputs": [
    {
     "data": {
      "text/html": [
       "<table>\n",
       "<thead><tr><th scope=col>X</th><th scope=col>pclass</th><th scope=col>survived</th><th scope=col>name</th><th scope=col>sex</th><th scope=col>age</th><th scope=col>sibsp</th><th scope=col>parch</th><th scope=col>ticket</th><th scope=col>fare</th><th scope=col>cabin</th><th scope=col>embarked</th><th scope=col>boat</th><th scope=col>body</th><th scope=col>home.dest</th></tr></thead>\n",
       "<tbody>\n",
       "\t<tr><td>1                              </td><td>1st                            </td><td>1                              </td><td>Allen, Miss. Elisabeth Walton  </td><td>female                         </td><td>29.0000                        </td><td>0                              </td><td>0                              </td><td>24160                          </td><td>211.3375                       </td><td>B5                             </td><td>Southampton                    </td><td>2                              </td><td> NA                            </td><td>St Louis, MO                   </td></tr>\n",
       "\t<tr><td>2                              </td><td>1st                            </td><td>1                              </td><td>Allison, Master. Hudson Trevor </td><td>male                           </td><td> 0.9167                        </td><td>1                              </td><td>2                              </td><td>113781                         </td><td>151.5500                       </td><td>C22 C26                        </td><td>Southampton                    </td><td>11                             </td><td> NA                            </td><td>Montreal, PQ / Chesterville, ON</td></tr>\n",
       "\t<tr><td>3                              </td><td>1st                            </td><td>0                              </td><td>Allison, Miss. Helen Loraine   </td><td>female                         </td><td> 2.0000                        </td><td>1                              </td><td>2                              </td><td>113781                         </td><td>151.5500                       </td><td>C22 C26                        </td><td>Southampton                    </td><td>                               </td><td> NA                            </td><td>Montreal, PQ / Chesterville, ON</td></tr>\n",
       "\t<tr><td>4                              </td><td>1st                            </td><td>0                              </td><td>Allison, Mr. Hudson Joshua Crei</td><td>male                           </td><td>30.0000                        </td><td>1                              </td><td>2                              </td><td>113781                         </td><td>151.5500                       </td><td>C22 C26                        </td><td>Southampton                    </td><td>                               </td><td>135                            </td><td>Montreal, PQ / Chesterville, ON</td></tr>\n",
       "\t<tr><td>5                              </td><td>1st                            </td><td>0                              </td><td>Allison, Mrs. Hudson J C (Bessi</td><td>female                         </td><td>25.0000                        </td><td>1                              </td><td>2                              </td><td>113781                         </td><td>151.5500                       </td><td>C22 C26                        </td><td>Southampton                    </td><td>                               </td><td> NA                            </td><td>Montreal, PQ / Chesterville, ON</td></tr>\n",
       "</tbody>\n",
       "</table>\n"
      ],
      "text/latex": [
       "\\begin{tabular}{r|lllllllllllllll}\n",
       " X & pclass & survived & name & sex & age & sibsp & parch & ticket & fare & cabin & embarked & boat & body & home.dest\\\\\n",
       "\\hline\n",
       "\t 1                               & 1st                             & 1                               & Allen, Miss. Elisabeth Walton   & female                          & 29.0000                         & 0                               & 0                               & 24160                           & 211.3375                        & B5                              & Southampton                     & 2                               &  NA                             & St Louis, MO                   \\\\\n",
       "\t 2                               & 1st                             & 1                               & Allison, Master. Hudson Trevor  & male                            &  0.9167                         & 1                               & 2                               & 113781                          & 151.5500                        & C22 C26                         & Southampton                     & 11                              &  NA                             & Montreal, PQ / Chesterville, ON\\\\\n",
       "\t 3                               & 1st                             & 0                               & Allison, Miss. Helen Loraine    & female                          &  2.0000                         & 1                               & 2                               & 113781                          & 151.5500                        & C22 C26                         & Southampton                     &                                 &  NA                             & Montreal, PQ / Chesterville, ON\\\\\n",
       "\t 4                               & 1st                             & 0                               & Allison, Mr. Hudson Joshua Crei & male                            & 30.0000                         & 1                               & 2                               & 113781                          & 151.5500                        & C22 C26                         & Southampton                     &                                 & 135                             & Montreal, PQ / Chesterville, ON\\\\\n",
       "\t 5                               & 1st                             & 0                               & Allison, Mrs. Hudson J C (Bessi & female                          & 25.0000                         & 1                               & 2                               & 113781                          & 151.5500                        & C22 C26                         & Southampton                     &                                 &  NA                             & Montreal, PQ / Chesterville, ON\\\\\n",
       "\\end{tabular}\n"
      ],
      "text/markdown": [
       "\n",
       "X | pclass | survived | name | sex | age | sibsp | parch | ticket | fare | cabin | embarked | boat | body | home.dest | \n",
       "|---|---|---|---|---|\n",
       "| 1                               | 1st                             | 1                               | Allen, Miss. Elisabeth Walton   | female                          | 29.0000                         | 0                               | 0                               | 24160                           | 211.3375                        | B5                              | Southampton                     | 2                               |  NA                             | St Louis, MO                    | \n",
       "| 2                               | 1st                             | 1                               | Allison, Master. Hudson Trevor  | male                            |  0.9167                         | 1                               | 2                               | 113781                          | 151.5500                        | C22 C26                         | Southampton                     | 11                              |  NA                             | Montreal, PQ / Chesterville, ON | \n",
       "| 3                               | 1st                             | 0                               | Allison, Miss. Helen Loraine    | female                          |  2.0000                         | 1                               | 2                               | 113781                          | 151.5500                        | C22 C26                         | Southampton                     |                                 |  NA                             | Montreal, PQ / Chesterville, ON | \n",
       "| 4                               | 1st                             | 0                               | Allison, Mr. Hudson Joshua Crei | male                            | 30.0000                         | 1                               | 2                               | 113781                          | 151.5500                        | C22 C26                         | Southampton                     |                                 | 135                             | Montreal, PQ / Chesterville, ON | \n",
       "| 5                               | 1st                             | 0                               | Allison, Mrs. Hudson J C (Bessi | female                          | 25.0000                         | 1                               | 2                               | 113781                          | 151.5500                        | C22 C26                         | Southampton                     |                                 |  NA                             | Montreal, PQ / Chesterville, ON | \n",
       "\n",
       "\n"
      ],
      "text/plain": [
       "  X pclass survived name                            sex    age     sibsp parch\n",
       "1 1 1st    1        Allen, Miss. Elisabeth Walton   female 29.0000 0     0    \n",
       "2 2 1st    1        Allison, Master. Hudson Trevor  male    0.9167 1     2    \n",
       "3 3 1st    0        Allison, Miss. Helen Loraine    female  2.0000 1     2    \n",
       "4 4 1st    0        Allison, Mr. Hudson Joshua Crei male   30.0000 1     2    \n",
       "5 5 1st    0        Allison, Mrs. Hudson J C (Bessi female 25.0000 1     2    \n",
       "  ticket fare     cabin   embarked    boat body home.dest                      \n",
       "1 24160  211.3375 B5      Southampton 2     NA  St Louis, MO                   \n",
       "2 113781 151.5500 C22 C26 Southampton 11    NA  Montreal, PQ / Chesterville, ON\n",
       "3 113781 151.5500 C22 C26 Southampton       NA  Montreal, PQ / Chesterville, ON\n",
       "4 113781 151.5500 C22 C26 Southampton      135  Montreal, PQ / Chesterville, ON\n",
       "5 113781 151.5500 C22 C26 Southampton       NA  Montreal, PQ / Chesterville, ON"
      ]
     },
     "metadata": {},
     "output_type": "display_data"
    }
   ],
   "source": [
    "head(df, 5)"
   ]
  },
  {
   "cell_type": "code",
   "execution_count": null,
   "metadata": {},
   "outputs": [],
   "source": []
  },
  {
   "cell_type": "markdown",
   "metadata": {},
   "source": [
    "## 1.1 Изучаем таблицу\n",
    "\n",
    "Можно посмотреть на первые пять строк!"
   ]
  },
  {
   "cell_type": "code",
   "execution_count": 6,
   "metadata": {},
   "outputs": [
    {
     "data": {
      "text/html": [
       "<table>\n",
       "<thead><tr><th scope=col>PassengerId</th><th scope=col>Survived</th><th scope=col>Pclass</th><th scope=col>Name</th><th scope=col>Sex</th><th scope=col>Age</th><th scope=col>SibSp</th><th scope=col>Parch</th><th scope=col>Ticket</th><th scope=col>Fare</th><th scope=col>Cabin</th><th scope=col>Embarked</th></tr></thead>\n",
       "<tbody>\n",
       "\t<tr><td>1                                                  </td><td>0                                                  </td><td>3                                                  </td><td>Braund, Mr. Owen Harris                            </td><td>male                                               </td><td>22                                                 </td><td>1                                                  </td><td>0                                                  </td><td>A/5 21171                                          </td><td> 7.2500                                            </td><td>                                                   </td><td>S                                                  </td></tr>\n",
       "\t<tr><td>2                                                  </td><td>1                                                  </td><td>1                                                  </td><td>Cumings, Mrs. John Bradley (Florence Briggs Thayer)</td><td>female                                             </td><td>38                                                 </td><td>1                                                  </td><td>0                                                  </td><td>PC 17599                                           </td><td>71.2833                                            </td><td>C85                                                </td><td>C                                                  </td></tr>\n",
       "\t<tr><td>3                                                  </td><td>1                                                  </td><td>3                                                  </td><td>Heikkinen, Miss. Laina                             </td><td>female                                             </td><td>26                                                 </td><td>0                                                  </td><td>0                                                  </td><td>STON/O2. 3101282                                   </td><td> 7.9250                                            </td><td>                                                   </td><td>S                                                  </td></tr>\n",
       "\t<tr><td>4                                                  </td><td>1                                                  </td><td>1                                                  </td><td>Futrelle, Mrs. Jacques Heath (Lily May Peel)       </td><td>female                                             </td><td>35                                                 </td><td>1                                                  </td><td>0                                                  </td><td>113803                                             </td><td>53.1000                                            </td><td>C123                                               </td><td>S                                                  </td></tr>\n",
       "\t<tr><td>5                                                  </td><td>0                                                  </td><td>3                                                  </td><td>Allen, Mr. William Henry                           </td><td>male                                               </td><td>35                                                 </td><td>0                                                  </td><td>0                                                  </td><td>373450                                             </td><td> 8.0500                                            </td><td>                                                   </td><td>S                                                  </td></tr>\n",
       "</tbody>\n",
       "</table>\n"
      ],
      "text/latex": [
       "\\begin{tabular}{r|llllllllllll}\n",
       " PassengerId & Survived & Pclass & Name & Sex & Age & SibSp & Parch & Ticket & Fare & Cabin & Embarked\\\\\n",
       "\\hline\n",
       "\t 1                                                   & 0                                                   & 3                                                   & Braund, Mr. Owen Harris                             & male                                                & 22                                                  & 1                                                   & 0                                                   & A/5 21171                                           &  7.2500                                             &                                                     & S                                                  \\\\\n",
       "\t 2                                                   & 1                                                   & 1                                                   & Cumings, Mrs. John Bradley (Florence Briggs Thayer) & female                                              & 38                                                  & 1                                                   & 0                                                   & PC 17599                                            & 71.2833                                             & C85                                                 & C                                                  \\\\\n",
       "\t 3                                                   & 1                                                   & 3                                                   & Heikkinen, Miss. Laina                              & female                                              & 26                                                  & 0                                                   & 0                                                   & STON/O2. 3101282                                    &  7.9250                                             &                                                     & S                                                  \\\\\n",
       "\t 4                                                   & 1                                                   & 1                                                   & Futrelle, Mrs. Jacques Heath (Lily May Peel)        & female                                              & 35                                                  & 1                                                   & 0                                                   & 113803                                              & 53.1000                                             & C123                                                & S                                                  \\\\\n",
       "\t 5                                                   & 0                                                   & 3                                                   & Allen, Mr. William Henry                            & male                                                & 35                                                  & 0                                                   & 0                                                   & 373450                                              &  8.0500                                             &                                                     & S                                                  \\\\\n",
       "\\end{tabular}\n"
      ],
      "text/markdown": [
       "\n",
       "PassengerId | Survived | Pclass | Name | Sex | Age | SibSp | Parch | Ticket | Fare | Cabin | Embarked | \n",
       "|---|---|---|---|---|\n",
       "| 1                                                   | 0                                                   | 3                                                   | Braund, Mr. Owen Harris                             | male                                                | 22                                                  | 1                                                   | 0                                                   | A/5 21171                                           |  7.2500                                             |                                                     | S                                                   | \n",
       "| 2                                                   | 1                                                   | 1                                                   | Cumings, Mrs. John Bradley (Florence Briggs Thayer) | female                                              | 38                                                  | 1                                                   | 0                                                   | PC 17599                                            | 71.2833                                             | C85                                                 | C                                                   | \n",
       "| 3                                                   | 1                                                   | 3                                                   | Heikkinen, Miss. Laina                              | female                                              | 26                                                  | 0                                                   | 0                                                   | STON/O2. 3101282                                    |  7.9250                                             |                                                     | S                                                   | \n",
       "| 4                                                   | 1                                                   | 1                                                   | Futrelle, Mrs. Jacques Heath (Lily May Peel)        | female                                              | 35                                                  | 1                                                   | 0                                                   | 113803                                              | 53.1000                                             | C123                                                | S                                                   | \n",
       "| 5                                                   | 0                                                   | 3                                                   | Allen, Mr. William Henry                            | male                                                | 35                                                  | 0                                                   | 0                                                   | 373450                                              |  8.0500                                             |                                                     | S                                                   | \n",
       "\n",
       "\n"
      ],
      "text/plain": [
       "  PassengerId Survived Pclass\n",
       "1 1           0        3     \n",
       "2 2           1        1     \n",
       "3 3           1        3     \n",
       "4 4           1        1     \n",
       "5 5           0        3     \n",
       "  Name                                                Sex    Age SibSp Parch\n",
       "1 Braund, Mr. Owen Harris                             male   22  1     0    \n",
       "2 Cumings, Mrs. John Bradley (Florence Briggs Thayer) female 38  1     0    \n",
       "3 Heikkinen, Miss. Laina                              female 26  0     0    \n",
       "4 Futrelle, Mrs. Jacques Heath (Lily May Peel)        female 35  1     0    \n",
       "5 Allen, Mr. William Henry                            male   35  0     0    \n",
       "  Ticket           Fare    Cabin Embarked\n",
       "1 A/5 21171         7.2500       S       \n",
       "2 PC 17599         71.2833 C85   C       \n",
       "3 STON/O2. 3101282  7.9250       S       \n",
       "4 113803           53.1000 C123  S       \n",
       "5 373450            8.0500       S       "
      ]
     },
     "metadata": {},
     "output_type": "display_data"
    }
   ],
   "source": [
    "head(df,5)"
   ]
  },
  {
   "cell_type": "markdown",
   "metadata": {},
   "source": [
    "Можно посмотреть на последние пять строк!"
   ]
  },
  {
   "cell_type": "code",
   "execution_count": 7,
   "metadata": {
    "scrolled": true
   },
   "outputs": [
    {
     "data": {
      "text/html": [
       "<table>\n",
       "<thead><tr><th></th><th scope=col>PassengerId</th><th scope=col>Survived</th><th scope=col>Pclass</th><th scope=col>Name</th><th scope=col>Sex</th><th scope=col>Age</th><th scope=col>SibSp</th><th scope=col>Parch</th><th scope=col>Ticket</th><th scope=col>Fare</th><th scope=col>Cabin</th><th scope=col>Embarked</th></tr></thead>\n",
       "<tbody>\n",
       "\t<tr><th scope=row>887</th><td>887                                     </td><td>0                                       </td><td>2                                       </td><td>Montvila, Rev. Juozas                   </td><td>male                                    </td><td>27                                      </td><td>0                                       </td><td>0                                       </td><td>211536                                  </td><td>13.00                                   </td><td>                                        </td><td>S                                       </td></tr>\n",
       "\t<tr><th scope=row>888</th><td>888                                     </td><td>1                                       </td><td>1                                       </td><td>Graham, Miss. Margaret Edith            </td><td>female                                  </td><td>19                                      </td><td>0                                       </td><td>0                                       </td><td>112053                                  </td><td>30.00                                   </td><td>B42                                     </td><td>S                                       </td></tr>\n",
       "\t<tr><th scope=row>889</th><td>889                                     </td><td>0                                       </td><td>3                                       </td><td>Johnston, Miss. Catherine Helen \"Carrie\"</td><td>female                                  </td><td>NA                                      </td><td>1                                       </td><td>2                                       </td><td>W./C. 6607                              </td><td>23.45                                   </td><td>                                        </td><td>S                                       </td></tr>\n",
       "\t<tr><th scope=row>890</th><td>890                                     </td><td>1                                       </td><td>1                                       </td><td>Behr, Mr. Karl Howell                   </td><td>male                                    </td><td>26                                      </td><td>0                                       </td><td>0                                       </td><td>111369                                  </td><td>30.00                                   </td><td>C148                                    </td><td>C                                       </td></tr>\n",
       "\t<tr><th scope=row>891</th><td>891                                     </td><td>0                                       </td><td>3                                       </td><td>Dooley, Mr. Patrick                     </td><td>male                                    </td><td>32                                      </td><td>0                                       </td><td>0                                       </td><td>370376                                  </td><td> 7.75                                   </td><td>                                        </td><td>Q                                       </td></tr>\n",
       "</tbody>\n",
       "</table>\n"
      ],
      "text/latex": [
       "\\begin{tabular}{r|llllllllllll}\n",
       "  & PassengerId & Survived & Pclass & Name & Sex & Age & SibSp & Parch & Ticket & Fare & Cabin & Embarked\\\\\n",
       "\\hline\n",
       "\t887 & 887                                      & 0                                        & 2                                        & Montvila, Rev. Juozas                    & male                                     & 27                                       & 0                                        & 0                                        & 211536                                   & 13.00                                    &                                          & S                                       \\\\\n",
       "\t888 & 888                                      & 1                                        & 1                                        & Graham, Miss. Margaret Edith             & female                                   & 19                                       & 0                                        & 0                                        & 112053                                   & 30.00                                    & B42                                      & S                                       \\\\\n",
       "\t889 & 889                                      & 0                                        & 3                                        & Johnston, Miss. Catherine Helen \"Carrie\" & female                                   & NA                                       & 1                                        & 2                                        & W./C. 6607                               & 23.45                                    &                                          & S                                       \\\\\n",
       "\t890 & 890                                      & 1                                        & 1                                        & Behr, Mr. Karl Howell                    & male                                     & 26                                       & 0                                        & 0                                        & 111369                                   & 30.00                                    & C148                                     & C                                       \\\\\n",
       "\t891 & 891                                      & 0                                        & 3                                        & Dooley, Mr. Patrick                      & male                                     & 32                                       & 0                                        & 0                                        & 370376                                   &  7.75                                    &                                          & Q                                       \\\\\n",
       "\\end{tabular}\n"
      ],
      "text/markdown": [
       "\n",
       "| <!--/--> | PassengerId | Survived | Pclass | Name | Sex | Age | SibSp | Parch | Ticket | Fare | Cabin | Embarked | \n",
       "|---|---|---|---|---|\n",
       "| 887 | 887                                      | 0                                        | 2                                        | Montvila, Rev. Juozas                    | male                                     | 27                                       | 0                                        | 0                                        | 211536                                   | 13.00                                    |                                          | S                                        | \n",
       "| 888 | 888                                      | 1                                        | 1                                        | Graham, Miss. Margaret Edith             | female                                   | 19                                       | 0                                        | 0                                        | 112053                                   | 30.00                                    | B42                                      | S                                        | \n",
       "| 889 | 889                                      | 0                                        | 3                                        | Johnston, Miss. Catherine Helen \"Carrie\" | female                                   | NA                                       | 1                                        | 2                                        | W./C. 6607                               | 23.45                                    |                                          | S                                        | \n",
       "| 890 | 890                                      | 1                                        | 1                                        | Behr, Mr. Karl Howell                    | male                                     | 26                                       | 0                                        | 0                                        | 111369                                   | 30.00                                    | C148                                     | C                                        | \n",
       "| 891 | 891                                      | 0                                        | 3                                        | Dooley, Mr. Patrick                      | male                                     | 32                                       | 0                                        | 0                                        | 370376                                   |  7.75                                    |                                          | Q                                        | \n",
       "\n",
       "\n"
      ],
      "text/plain": [
       "    PassengerId Survived Pclass Name                                     Sex   \n",
       "887 887         0        2      Montvila, Rev. Juozas                    male  \n",
       "888 888         1        1      Graham, Miss. Margaret Edith             female\n",
       "889 889         0        3      Johnston, Miss. Catherine Helen \"Carrie\" female\n",
       "890 890         1        1      Behr, Mr. Karl Howell                    male  \n",
       "891 891         0        3      Dooley, Mr. Patrick                      male  \n",
       "    Age SibSp Parch Ticket     Fare  Cabin Embarked\n",
       "887 27  0     0     211536     13.00       S       \n",
       "888 19  0     0     112053     30.00 B42   S       \n",
       "889 NA  1     2     W./C. 6607 23.45       S       \n",
       "890 26  0     0     111369     30.00 C148  C       \n",
       "891 32  0     0     370376      7.75       Q       "
      ]
     },
     "metadata": {},
     "output_type": "display_data"
    }
   ],
   "source": [
    "tail(df,5)"
   ]
  },
  {
   "cell_type": "markdown",
   "metadata": {},
   "source": [
    "Можно посмотреть на число колонок, строк и размерность таблицы."
   ]
  },
  {
   "cell_type": "code",
   "execution_count": 8,
   "metadata": {},
   "outputs": [
    {
     "data": {
      "text/html": [
       "15"
      ],
      "text/latex": [
       "15"
      ],
      "text/markdown": [
       "15"
      ],
      "text/plain": [
       "[1] 15"
      ]
     },
     "metadata": {},
     "output_type": "display_data"
    },
    {
     "data": {
      "text/html": [
       "1309"
      ],
      "text/latex": [
       "1309"
      ],
      "text/markdown": [
       "1309"
      ],
      "text/plain": [
       "[1] 1309"
      ]
     },
     "metadata": {},
     "output_type": "display_data"
    },
    {
     "data": {
      "text/html": [
       "<ol class=list-inline>\n",
       "\t<li>1309</li>\n",
       "\t<li>15</li>\n",
       "</ol>\n"
      ],
      "text/latex": [
       "\\begin{enumerate*}\n",
       "\\item 1309\n",
       "\\item 15\n",
       "\\end{enumerate*}\n"
      ],
      "text/markdown": [
       "1. 1309\n",
       "2. 15\n",
       "\n",
       "\n"
      ],
      "text/plain": [
       "[1] 1309   15"
      ]
     },
     "metadata": {},
     "output_type": "display_data"
    }
   ],
   "source": [
    "ncol(df)  # число колонок\n",
    "nrow(df)  # число строк\n",
    "dim(df)   # размерность таблицы"
   ]
  },
  {
   "cell_type": "markdown",
   "metadata": {},
   "source": [
    "Можно бросить взор на нашу таблицу!"
   ]
  },
  {
   "cell_type": "code",
   "execution_count": 9,
   "metadata": {},
   "outputs": [
    {
     "name": "stdout",
     "output_type": "stream",
     "text": [
      "Observations: 1,309\n",
      "Variables: 15\n",
      "$ X         <int> 1, 2, 3, 4, 5, 6, 7, 8, 9, 10, 11, 12, 13, 14, 15, 16, 17...\n",
      "$ pclass    <fctr> 1st, 1st, 1st, 1st, 1st, 1st, 1st, 1st, 1st, 1st, 1st, 1...\n",
      "$ survived  <int> 1, 1, 0, 0, 0, 1, 1, 0, 1, 0, 0, 1, 1, 1, 1, 0, 0, 1, 1, ...\n",
      "$ name      <fctr> Allen, Miss. Elisabeth Walton, Allison, Master. Hudson T...\n",
      "$ sex       <fctr> female, male, female, male, female, male, female, male, ...\n",
      "$ age       <dbl> 29.0000, 0.9167, 2.0000, 30.0000, 25.0000, 48.0000, 63.00...\n",
      "$ sibsp     <int> 0, 1, 1, 1, 1, 0, 1, 0, 2, 0, 1, 1, 0, 0, 0, 0, 0, 0, 0, ...\n",
      "$ parch     <int> 0, 2, 2, 2, 2, 0, 0, 0, 0, 0, 0, 0, 0, 0, 0, 0, 1, 1, 0, ...\n",
      "$ ticket    <fctr> 24160, 113781, 113781, 113781, 113781, 19952, 13502, 112...\n",
      "$ fare      <dbl> 211.3375, 151.5500, 151.5500, 151.5500, 151.5500, 26.5500...\n",
      "$ cabin     <fctr> B5, C22 C26, C22 C26, C22 C26, C22 C26, E12, D7, A36, C1...\n",
      "$ embarked  <fctr> Southampton, Southampton, Southampton, Southampton, Sout...\n",
      "$ boat      <fctr> 2, 11, , , , 3, 10, , D, , , 4, 9, 6, B, , , 6, 8, A, 5,...\n",
      "$ body      <int> NA, NA, NA, 135, NA, NA, NA, NA, NA, 22, 124, NA, NA, NA,...\n",
      "$ home.dest <fctr> St Louis, MO, Montreal, PQ / Chesterville, ON, Montreal,...\n"
     ]
    }
   ],
   "source": [
    "glimpse(df)"
   ]
  },
  {
   "cell_type": "markdown",
   "metadata": {},
   "source": [
    "Можно посмотреть по таблице основные характеристики."
   ]
  },
  {
   "cell_type": "code",
   "execution_count": 16,
   "metadata": {},
   "outputs": [
    {
     "data": {
      "text/plain": [
       "     Sex           Age            Pclass          SibSp            Ticket   \n",
       " female:314   Min.   : 0.42   Min.   :1.000   Min.   :0.000   1601    :  7  \n",
       " male  :577   1st Qu.:20.12   1st Qu.:2.000   1st Qu.:0.000   347082  :  7  \n",
       "              Median :28.00   Median :3.000   Median :0.000   CA. 2343:  7  \n",
       "              Mean   :29.70   Mean   :2.309   Mean   :0.523   3101295 :  6  \n",
       "              3rd Qu.:38.00   3rd Qu.:3.000   3rd Qu.:1.000   347088  :  6  \n",
       "              Max.   :80.00   Max.   :3.000   Max.   :8.000   CA 2144 :  6  \n",
       "              NA's   :177                                     (Other) :852  "
      ]
     },
     "metadata": {},
     "output_type": "display_data"
    }
   ],
   "source": [
    "summary(df[c('Sex', 'Age', 'Pclass', 'SibSp', 'Ticket') ])"
   ]
  },
  {
   "cell_type": "code",
   "execution_count": 12,
   "metadata": {},
   "outputs": [
    {
     "data": {
      "text/html": [
       "<ol class=list-inline>\n",
       "\t<li>2</li>\n",
       "\t<li>2</li>\n",
       "</ol>\n"
      ],
      "text/latex": [
       "\\begin{enumerate*}\n",
       "\\item 2\n",
       "\\item 2\n",
       "\\end{enumerate*}\n"
      ],
      "text/markdown": [
       "1. 2\n",
       "2. 2\n",
       "\n",
       "\n"
      ],
      "text/plain": [
       "[1] 2 2"
      ]
     },
     "metadata": {},
     "output_type": "display_data"
    }
   ],
   "source": [
    "x = c(1,2,3,2,1)\n",
    "x[x == 2]"
   ]
  },
  {
   "cell_type": "code",
   "execution_count": null,
   "metadata": {},
   "outputs": [],
   "source": []
  },
  {
   "cell_type": "code",
   "execution_count": null,
   "metadata": {},
   "outputs": [],
   "source": []
  },
  {
   "cell_type": "code",
   "execution_count": 49,
   "metadata": {},
   "outputs": [
    {
     "data": {
      "text/html": [
       "339"
      ],
      "text/latex": [
       "339"
      ],
      "text/markdown": [
       "339"
      ],
      "text/plain": [
       "[1] 339"
      ]
     },
     "metadata": {},
     "output_type": "display_data"
    }
   ],
   "source": [
    "nrow(df[(df$sex == 'female')&(df$survived == 1),])"
   ]
  },
  {
   "cell_type": "code",
   "execution_count": 50,
   "metadata": {},
   "outputs": [
    {
     "data": {
      "text/html": [
       "161"
      ],
      "text/latex": [
       "161"
      ],
      "text/markdown": [
       "161"
      ],
      "text/plain": [
       "[1] 161"
      ]
     },
     "metadata": {},
     "output_type": "display_data"
    }
   ],
   "source": [
    "nrow(df[(df$sex == 'male')&(df$survived == 1),])"
   ]
  },
  {
   "cell_type": "code",
   "execution_count": 57,
   "metadata": {},
   "outputs": [
    {
     "data": {
      "text/html": [
       "0.380804953560372"
      ],
      "text/latex": [
       "0.380804953560372"
      ],
      "text/markdown": [
       "0.380804953560372"
      ],
      "text/plain": [
       "[1] 0.380805"
      ]
     },
     "metadata": {},
     "output_type": "display_data"
    }
   ],
   "source": [
    "n1 = nrow(df[df$pclass == '1st',])\n",
    "m1 = nrow(df[(df$pclass == '1st')&(df$survived == 0),])\n",
    "\n",
    "m1/n1"
   ]
  },
  {
   "cell_type": "code",
   "execution_count": 54,
   "metadata": {},
   "outputs": [
    {
     "data": {
      "text/html": [
       "<table>\n",
       "<thead><tr><th scope=col>X</th><th scope=col>pclass</th><th scope=col>survived</th><th scope=col>name</th><th scope=col>sex</th><th scope=col>age</th><th scope=col>sibsp</th><th scope=col>parch</th><th scope=col>ticket</th><th scope=col>fare</th><th scope=col>cabin</th><th scope=col>embarked</th><th scope=col>boat</th><th scope=col>body</th><th scope=col>home.dest</th></tr></thead>\n",
       "<tbody>\n",
       "\t<tr><td> 1                              </td><td>1st                             </td><td>1                               </td><td>Allen, Miss. Elisabeth Walton   </td><td>female                          </td><td>29.0000                         </td><td>0                               </td><td>0                               </td><td>24160                           </td><td>211.3375                        </td><td>B5                              </td><td>Southampton                     </td><td>2                               </td><td> NA                             </td><td>St Louis, MO                    </td></tr>\n",
       "\t<tr><td> 2                              </td><td>1st                             </td><td>1                               </td><td>Allison, Master. Hudson Trevor  </td><td>male                            </td><td> 0.9167                         </td><td>1                               </td><td>2                               </td><td>113781                          </td><td>151.5500                        </td><td>C22 C26                         </td><td>Southampton                     </td><td>11                              </td><td> NA                             </td><td>Montreal, PQ / Chesterville, ON </td></tr>\n",
       "\t<tr><td> 3                              </td><td>1st                             </td><td>0                               </td><td>Allison, Miss. Helen Loraine    </td><td>female                          </td><td> 2.0000                         </td><td>1                               </td><td>2                               </td><td>113781                          </td><td>151.5500                        </td><td>C22 C26                         </td><td>Southampton                     </td><td>                                </td><td> NA                             </td><td>Montreal, PQ / Chesterville, ON </td></tr>\n",
       "\t<tr><td> 4                              </td><td>1st                             </td><td>0                               </td><td>Allison, Mr. Hudson Joshua Crei </td><td>male                            </td><td>30.0000                         </td><td>1                               </td><td>2                               </td><td>113781                          </td><td>151.5500                        </td><td>C22 C26                         </td><td>Southampton                     </td><td>                                </td><td>135                             </td><td>Montreal, PQ / Chesterville, ON </td></tr>\n",
       "\t<tr><td> 5                              </td><td>1st                             </td><td>0                               </td><td>Allison, Mrs. Hudson J C (Bessi </td><td>female                          </td><td>25.0000                         </td><td>1                               </td><td>2                               </td><td>113781                          </td><td>151.5500                        </td><td>C22 C26                         </td><td>Southampton                     </td><td>                                </td><td> NA                             </td><td>Montreal, PQ / Chesterville, ON </td></tr>\n",
       "\t<tr><td> 6                              </td><td>1st                             </td><td>1                               </td><td>Anderson, Mr. Harry             </td><td>male                            </td><td>48.0000                         </td><td>0                               </td><td>0                               </td><td>19952                           </td><td> 26.5500                        </td><td>E12                             </td><td>Southampton                     </td><td>3                               </td><td> NA                             </td><td>New York, NY                    </td></tr>\n",
       "\t<tr><td> 7                              </td><td>1st                             </td><td>1                               </td><td>Andrews, Miss. Kornelia Theodos </td><td>female                          </td><td>63.0000                         </td><td>1                               </td><td>0                               </td><td>13502                           </td><td> 77.9583                        </td><td>D7                              </td><td>Southampton                     </td><td>10                              </td><td> NA                             </td><td>Hudson, NY                      </td></tr>\n",
       "\t<tr><td> 8                              </td><td>1st                             </td><td>0                               </td><td>Andrews, Mr. Thomas Jr          </td><td>male                            </td><td>39.0000                         </td><td>0                               </td><td>0                               </td><td>112050                          </td><td>  0.0000                        </td><td>A36                             </td><td>Southampton                     </td><td>                                </td><td> NA                             </td><td>Belfast, NI                     </td></tr>\n",
       "\t<tr><td> 9                              </td><td>1st                             </td><td>1                               </td><td>Appleton, Mrs. Edward Dale (Cha </td><td>female                          </td><td>53.0000                         </td><td>2                               </td><td>0                               </td><td>11769                           </td><td> 51.4792                        </td><td>C101                            </td><td>Southampton                     </td><td>D                               </td><td> NA                             </td><td>Bayside, Queens, NY             </td></tr>\n",
       "\t<tr><td>10                              </td><td>1st                             </td><td>0                               </td><td>Artagaveytia, Mr. Ramon         </td><td>male                            </td><td>71.0000                         </td><td>0                               </td><td>0                               </td><td>PC 17609                        </td><td> 49.5042                        </td><td>                                </td><td>Cherbourg                       </td><td>                                </td><td> 22                             </td><td>Montevideo, Uruguay             </td></tr>\n",
       "\t<tr><td>11                              </td><td>1st                             </td><td>0                               </td><td>Astor, Col. John Jacob          </td><td>male                            </td><td>47.0000                         </td><td>1                               </td><td>0                               </td><td>PC 17757                        </td><td>227.5250                        </td><td>C62 C64                         </td><td>Cherbourg                       </td><td>                                </td><td>124                             </td><td>New York, NY                    </td></tr>\n",
       "\t<tr><td>12                              </td><td>1st                             </td><td>1                               </td><td>Astor, Mrs. John Jacob (Madelei </td><td>female                          </td><td>18.0000                         </td><td>1                               </td><td>0                               </td><td>PC 17757                        </td><td>227.5250                        </td><td>C62 C64                         </td><td>Cherbourg                       </td><td>4                               </td><td> NA                             </td><td>New York, NY                    </td></tr>\n",
       "\t<tr><td>13                              </td><td>1st                             </td><td>1                               </td><td>Aubart, Mme. Leontine Pauline   </td><td>female                          </td><td>24.0000                         </td><td>0                               </td><td>0                               </td><td>PC 17477                        </td><td> 69.3000                        </td><td>B35                             </td><td>Cherbourg                       </td><td>9                               </td><td> NA                             </td><td>Paris, France                   </td></tr>\n",
       "\t<tr><td>14                              </td><td>1st                             </td><td>1                               </td><td>Barber, Miss. Ellen \\\"Nellie\\\"</td><td>female                          </td><td>26.0000                         </td><td>0                               </td><td>0                               </td><td>19877                           </td><td> 78.8500                        </td><td>                                </td><td>Southampton                     </td><td>6                               </td><td> NA                             </td><td>                                </td></tr>\n",
       "\t<tr><td>15                              </td><td>1st                             </td><td>1                               </td><td>Barkworth, Mr. Algernon Henry W </td><td>male                            </td><td>80.0000                         </td><td>0                               </td><td>0                               </td><td>27042                           </td><td> 30.0000                        </td><td>A23                             </td><td>Southampton                     </td><td>B                               </td><td> NA                             </td><td>Hessle, Yorks                   </td></tr>\n",
       "\t<tr><td>16                              </td><td>1st                             </td><td>0                               </td><td>Baumann, Mr. John D             </td><td>male                            </td><td>     NA                         </td><td>0                               </td><td>0                               </td><td>PC 17318                        </td><td> 25.9250                        </td><td>                                </td><td>Southampton                     </td><td>                                </td><td> NA                             </td><td>New York, NY                    </td></tr>\n",
       "\t<tr><td>17                              </td><td>1st                             </td><td>0                               </td><td>Baxter, Mr. Quigg Edmond        </td><td>male                            </td><td>24.0000                         </td><td>0                               </td><td>1                               </td><td>PC 17558                        </td><td>247.5208                        </td><td>B58 B60                         </td><td>Cherbourg                       </td><td>                                </td><td> NA                             </td><td>Montreal, PQ                    </td></tr>\n",
       "\t<tr><td>18                              </td><td>1st                             </td><td>1                               </td><td>Baxter, Mrs. James (Helene DeLa </td><td>female                          </td><td>50.0000                         </td><td>0                               </td><td>1                               </td><td>PC 17558                        </td><td>247.5208                        </td><td>B58 B60                         </td><td>Cherbourg                       </td><td>6                               </td><td> NA                             </td><td>Montreal, PQ                    </td></tr>\n",
       "\t<tr><td>19                              </td><td>1st                             </td><td>1                               </td><td>Bazzani, Miss. Albina           </td><td>female                          </td><td>32.0000                         </td><td>0                               </td><td>0                               </td><td>11813                           </td><td> 76.2917                        </td><td>D15                             </td><td>Cherbourg                       </td><td>8                               </td><td> NA                             </td><td>                                </td></tr>\n",
       "\t<tr><td>20                              </td><td>1st                             </td><td>0                               </td><td>Beattie, Mr. Thomson            </td><td>male                            </td><td>36.0000                         </td><td>0                               </td><td>0                               </td><td>13050                           </td><td> 75.2417                        </td><td>C6                              </td><td>Cherbourg                       </td><td>A                               </td><td> NA                             </td><td>Winnipeg, MN                    </td></tr>\n",
       "\t<tr><td>21                              </td><td>1st                             </td><td>1                               </td><td>Beckwith, Mr. Richard Leonard   </td><td>male                            </td><td>37.0000                         </td><td>1                               </td><td>1                               </td><td>11751                           </td><td> 52.5542                        </td><td>D35                             </td><td>Southampton                     </td><td>5                               </td><td> NA                             </td><td>New York, NY                    </td></tr>\n",
       "\t<tr><td>22                              </td><td>1st                             </td><td>1                               </td><td>Beckwith, Mrs. Richard Leonard  </td><td>female                          </td><td>47.0000                         </td><td>1                               </td><td>1                               </td><td>11751                           </td><td> 52.5542                        </td><td>D35                             </td><td>Southampton                     </td><td>5                               </td><td> NA                             </td><td>New York, NY                    </td></tr>\n",
       "\t<tr><td>23                              </td><td>1st                             </td><td>1                               </td><td>Behr, Mr. Karl Howell           </td><td>male                            </td><td>26.0000                         </td><td>0                               </td><td>0                               </td><td>111369                          </td><td> 30.0000                        </td><td>C148                            </td><td>Cherbourg                       </td><td>5                               </td><td> NA                             </td><td>New York, NY                    </td></tr>\n",
       "\t<tr><td>24                              </td><td>1st                             </td><td>1                               </td><td>Bidois, Miss. Rosalie           </td><td>female                          </td><td>42.0000                         </td><td>0                               </td><td>0                               </td><td>PC 17757                        </td><td>227.5250                        </td><td>                                </td><td>Cherbourg                       </td><td>4                               </td><td> NA                             </td><td>                                </td></tr>\n",
       "\t<tr><td>25                              </td><td>1st                             </td><td>1                               </td><td>Bird, Miss. Ellen               </td><td>female                          </td><td>29.0000                         </td><td>0                               </td><td>0                               </td><td>PC 17483                        </td><td>221.7792                        </td><td>C97                             </td><td>Southampton                     </td><td>8                               </td><td> NA                             </td><td>                                </td></tr>\n",
       "\t<tr><td>26                              </td><td>1st                             </td><td>0                               </td><td>Birnbaum, Mr. Jakob             </td><td>male                            </td><td>25.0000                         </td><td>0                               </td><td>0                               </td><td>13905                           </td><td> 26.0000                        </td><td>                                </td><td>Cherbourg                       </td><td>                                </td><td>148                             </td><td>San Francisco, CA               </td></tr>\n",
       "\t<tr><td>27                              </td><td>1st                             </td><td>1                               </td><td>Bishop, Mr. Dickinson H         </td><td>male                            </td><td>25.0000                         </td><td>1                               </td><td>0                               </td><td>11967                           </td><td> 91.0792                        </td><td>B49                             </td><td>Cherbourg                       </td><td>7                               </td><td> NA                             </td><td>Dowagiac, MI                    </td></tr>\n",
       "\t<tr><td>28                              </td><td>1st                             </td><td>1                               </td><td>Bishop, Mrs. Dickinson H (Helen </td><td>female                          </td><td>19.0000                         </td><td>1                               </td><td>0                               </td><td>11967                           </td><td> 91.0792                        </td><td>B49                             </td><td>Cherbourg                       </td><td>7                               </td><td> NA                             </td><td>Dowagiac, MI                    </td></tr>\n",
       "\t<tr><td>29                              </td><td>1st                             </td><td>1                               </td><td>Bissette, Miss. Amelia          </td><td>female                          </td><td>35.0000                         </td><td>0                               </td><td>0                               </td><td>PC 17760                        </td><td>135.6333                        </td><td>C99                             </td><td>Southampton                     </td><td>8                               </td><td> NA                             </td><td>                                </td></tr>\n",
       "\t<tr><td>30                              </td><td>1st                             </td><td>1                               </td><td>Bjornstrom-Steffansson, Mr. Mau </td><td>male                            </td><td>28.0000                         </td><td>0                               </td><td>0                               </td><td>110564                          </td><td> 26.5500                        </td><td>C52                             </td><td>Southampton                     </td><td>D                               </td><td> NA                             </td><td>Stockholm, Sweden / Washington, </td></tr>\n",
       "\t<tr><td>⋮</td><td>⋮</td><td>⋮</td><td>⋮</td><td>⋮</td><td>⋮</td><td>⋮</td><td>⋮</td><td>⋮</td><td>⋮</td><td>⋮</td><td>⋮</td><td>⋮</td><td>⋮</td><td>⋮</td></tr>\n",
       "\t<tr><td>294                            </td><td>1st                            </td><td>1                              </td><td>Taylor, Mrs. Elmer Zebley (Juli</td><td>female                         </td><td>NA                             </td><td>1                              </td><td>0                              </td><td>19996                          </td><td> 52.0000                       </td><td>C126                           </td><td>Southampton                    </td><td>5 7                            </td><td> NA                            </td><td>London /  East Orange, NJ      </td></tr>\n",
       "\t<tr><td>295                            </td><td>1st                            </td><td>0                              </td><td>Thayer, Mr. John Borland       </td><td>male                           </td><td>49                             </td><td>1                              </td><td>1                              </td><td>17421                          </td><td>110.8833                       </td><td>C68                            </td><td>Cherbourg                      </td><td>                               </td><td> NA                            </td><td>Haverford, PA                  </td></tr>\n",
       "\t<tr><td>296                            </td><td>1st                            </td><td>1                              </td><td>Thayer, Mr. John Borland Jr    </td><td>male                           </td><td>17                             </td><td>0                              </td><td>2                              </td><td>17421                          </td><td>110.8833                       </td><td>C70                            </td><td>Cherbourg                      </td><td>B                              </td><td> NA                            </td><td>Haverford, PA                  </td></tr>\n",
       "\t<tr><td>297                            </td><td>1st                            </td><td>1                              </td><td>Thayer, Mrs. John Borland (Mari</td><td>female                         </td><td>39                             </td><td>1                              </td><td>1                              </td><td>17421                          </td><td>110.8833                       </td><td>C68                            </td><td>Cherbourg                      </td><td>4                              </td><td> NA                            </td><td>Haverford, PA                  </td></tr>\n",
       "\t<tr><td>298                            </td><td>1st                            </td><td>1                              </td><td>Thorne, Mrs. Gertrude Maybelle </td><td>female                         </td><td>NA                             </td><td>0                              </td><td>0                              </td><td>PC 17585                       </td><td> 79.2000                       </td><td>                               </td><td>Cherbourg                      </td><td>D                              </td><td> NA                            </td><td>New York, NY                   </td></tr>\n",
       "\t<tr><td>299                            </td><td>1st                            </td><td>1                              </td><td>Tucker, Mr. Gilbert Milligan Jr</td><td>male                           </td><td>31                             </td><td>0                              </td><td>0                              </td><td>2543                           </td><td> 28.5375                       </td><td>C53                            </td><td>Cherbourg                      </td><td>7                              </td><td> NA                            </td><td>Albany, NY                     </td></tr>\n",
       "\t<tr><td>300                            </td><td>1st                            </td><td>0                              </td><td>Uruchurtu, Don. Manuel E       </td><td>male                           </td><td>40                             </td><td>0                              </td><td>0                              </td><td>PC 17601                       </td><td> 27.7208                       </td><td>                               </td><td>Cherbourg                      </td><td>                               </td><td> NA                            </td><td>Mexico City, Mexico            </td></tr>\n",
       "\t<tr><td>301                            </td><td>1st                            </td><td>0                              </td><td>Van der hoef, Mr. Wyckoff      </td><td>male                           </td><td>61                             </td><td>0                              </td><td>0                              </td><td>111240                         </td><td> 33.5000                       </td><td>B19                            </td><td>Southampton                    </td><td>                               </td><td>245                            </td><td>Brooklyn, NY                   </td></tr>\n",
       "\t<tr><td>302                            </td><td>1st                            </td><td>0                              </td><td>Walker, Mr. William Anderson   </td><td>male                           </td><td>47                             </td><td>0                              </td><td>0                              </td><td>36967                          </td><td> 34.0208                       </td><td>D46                            </td><td>Southampton                    </td><td>                               </td><td> NA                            </td><td>East Orange, NJ                </td></tr>\n",
       "\t<tr><td>303                            </td><td>1st                            </td><td>1                              </td><td>Ward, Miss. Anna               </td><td>female                         </td><td>35                             </td><td>0                              </td><td>0                              </td><td>PC 17755                       </td><td>512.3292                       </td><td>                               </td><td>Cherbourg                      </td><td>3                              </td><td> NA                            </td><td>                               </td></tr>\n",
       "\t<tr><td>304                            </td><td>1st                            </td><td>0                              </td><td>Warren, Mr. Frank Manley       </td><td>male                           </td><td>64                             </td><td>1                              </td><td>0                              </td><td>110813                         </td><td> 75.2500                       </td><td>D37                            </td><td>Cherbourg                      </td><td>                               </td><td> NA                            </td><td>Portland, OR                   </td></tr>\n",
       "\t<tr><td>305                            </td><td>1st                            </td><td>1                              </td><td>Warren, Mrs. Frank Manley (Anna</td><td>female                         </td><td>60                             </td><td>1                              </td><td>0                              </td><td>110813                         </td><td> 75.2500                       </td><td>D37                            </td><td>Cherbourg                      </td><td>5                              </td><td> NA                            </td><td>Portland, OR                   </td></tr>\n",
       "\t<tr><td>306                            </td><td>1st                            </td><td>0                              </td><td>Weir, Col. John                </td><td>male                           </td><td>60                             </td><td>0                              </td><td>0                              </td><td>113800                         </td><td> 26.5500                       </td><td>                               </td><td>Southampton                    </td><td>                               </td><td> NA                            </td><td>England Salt Lake City, Utah   </td></tr>\n",
       "\t<tr><td>307                            </td><td>1st                            </td><td>0                              </td><td>White, Mr. Percival Wayland    </td><td>male                           </td><td>54                             </td><td>0                              </td><td>1                              </td><td>35281                          </td><td> 77.2875                       </td><td>D26                            </td><td>Southampton                    </td><td>                               </td><td> NA                            </td><td>Brunswick, ME                  </td></tr>\n",
       "\t<tr><td>308                            </td><td>1st                            </td><td>0                              </td><td>White, Mr. Richard Frasar      </td><td>male                           </td><td>21                             </td><td>0                              </td><td>1                              </td><td>35281                          </td><td> 77.2875                       </td><td>D26                            </td><td>Southampton                    </td><td>                               </td><td>169                            </td><td>Brunswick, ME                  </td></tr>\n",
       "\t<tr><td>309                            </td><td>1st                            </td><td>1                              </td><td>White, Mrs. John Stuart (Ella H</td><td>female                         </td><td>55                             </td><td>0                              </td><td>0                              </td><td>PC 17760                       </td><td>135.6333                       </td><td>C32                            </td><td>Cherbourg                      </td><td>8                              </td><td> NA                            </td><td>New York, NY / Briarcliff Manor</td></tr>\n",
       "\t<tr><td>310                            </td><td>1st                            </td><td>1                              </td><td>Wick, Miss. Mary Natalie       </td><td>female                         </td><td>31                             </td><td>0                              </td><td>2                              </td><td>36928                          </td><td>164.8667                       </td><td>C7                             </td><td>Southampton                    </td><td>8                              </td><td> NA                            </td><td>Youngstown, OH                 </td></tr>\n",
       "\t<tr><td>311                            </td><td>1st                            </td><td>0                              </td><td>Wick, Mr. George Dennick       </td><td>male                           </td><td>57                             </td><td>1                              </td><td>1                              </td><td>36928                          </td><td>164.8667                       </td><td>                               </td><td>Southampton                    </td><td>                               </td><td> NA                            </td><td>Youngstown, OH                 </td></tr>\n",
       "\t<tr><td>312                            </td><td>1st                            </td><td>1                              </td><td>Wick, Mrs. George Dennick (Mary</td><td>female                         </td><td>45                             </td><td>1                              </td><td>1                              </td><td>36928                          </td><td>164.8667                       </td><td>                               </td><td>Southampton                    </td><td>8                              </td><td> NA                            </td><td>Youngstown, OH                 </td></tr>\n",
       "\t<tr><td>313                            </td><td>1st                            </td><td>0                              </td><td>Widener, Mr. George Dunton     </td><td>male                           </td><td>50                             </td><td>1                              </td><td>1                              </td><td>113503                         </td><td>211.5000                       </td><td>C80                            </td><td>Cherbourg                      </td><td>                               </td><td> NA                            </td><td>Elkins Park, PA                </td></tr>\n",
       "\t<tr><td>314                            </td><td>1st                            </td><td>0                              </td><td>Widener, Mr. Harry Elkins      </td><td>male                           </td><td>27                             </td><td>0                              </td><td>2                              </td><td>113503                         </td><td>211.5000                       </td><td>C82                            </td><td>Cherbourg                      </td><td>                               </td><td> NA                            </td><td>Elkins Park, PA                </td></tr>\n",
       "\t<tr><td>315                            </td><td>1st                            </td><td>1                              </td><td>Widener, Mrs. George Dunton (El</td><td>female                         </td><td>50                             </td><td>1                              </td><td>1                              </td><td>113503                         </td><td>211.5000                       </td><td>C80                            </td><td>Cherbourg                      </td><td>4                              </td><td> NA                            </td><td>Elkins Park, PA                </td></tr>\n",
       "\t<tr><td>316                            </td><td>1st                            </td><td>1                              </td><td>Willard, Miss. Constance       </td><td>female                         </td><td>21                             </td><td>0                              </td><td>0                              </td><td>113795                         </td><td> 26.5500                       </td><td>                               </td><td>Southampton                    </td><td>8 10                           </td><td> NA                            </td><td>Duluth, MN                     </td></tr>\n",
       "\t<tr><td>317                            </td><td>1st                            </td><td>0                              </td><td>Williams, Mr. Charles Duane    </td><td>male                           </td><td>51                             </td><td>0                              </td><td>1                              </td><td>PC 17597                       </td><td> 61.3792                       </td><td>                               </td><td>Cherbourg                      </td><td>                               </td><td> NA                            </td><td>Geneva, Switzerland / Radnor, P</td></tr>\n",
       "\t<tr><td>318                            </td><td>1st                            </td><td>1                              </td><td>Williams, Mr. Richard Norris II</td><td>male                           </td><td>21                             </td><td>0                              </td><td>1                              </td><td>PC 17597                       </td><td> 61.3792                       </td><td>                               </td><td>Cherbourg                      </td><td>A                              </td><td> NA                            </td><td>Geneva, Switzerland / Radnor, P</td></tr>\n",
       "\t<tr><td>319                            </td><td>1st                            </td><td>0                              </td><td>Williams-Lambert, Mr. Fletcher </td><td>male                           </td><td>NA                             </td><td>0                              </td><td>0                              </td><td>113510                         </td><td> 35.0000                       </td><td>C128                           </td><td>Southampton                    </td><td>                               </td><td> NA                            </td><td>London, England                </td></tr>\n",
       "\t<tr><td>320                            </td><td>1st                            </td><td>1                              </td><td>Wilson, Miss. Helen Alice      </td><td>female                         </td><td>31                             </td><td>0                              </td><td>0                              </td><td>16966                          </td><td>134.5000                       </td><td>E39 E41                        </td><td>Cherbourg                      </td><td>3                              </td><td> NA                            </td><td>                               </td></tr>\n",
       "\t<tr><td>321                            </td><td>1st                            </td><td>1                              </td><td>Woolner, Mr. Hugh              </td><td>male                           </td><td>NA                             </td><td>0                              </td><td>0                              </td><td>19947                          </td><td> 35.5000                       </td><td>C52                            </td><td>Southampton                    </td><td>D                              </td><td> NA                            </td><td>London, England                </td></tr>\n",
       "\t<tr><td>322                            </td><td>1st                            </td><td>0                              </td><td>Wright, Mr. George             </td><td>male                           </td><td>62                             </td><td>0                              </td><td>0                              </td><td>113807                         </td><td> 26.5500                       </td><td>                               </td><td>Southampton                    </td><td>                               </td><td> NA                            </td><td>Halifax, NS                    </td></tr>\n",
       "\t<tr><td>323                            </td><td>1st                            </td><td>1                              </td><td>Young, Miss. Marie Grice       </td><td>female                         </td><td>36                             </td><td>0                              </td><td>0                              </td><td>PC 17760                       </td><td>135.6333                       </td><td>C32                            </td><td>Cherbourg                      </td><td>8                              </td><td> NA                            </td><td>New York, NY / Washington, DC  </td></tr>\n",
       "</tbody>\n",
       "</table>\n"
      ],
      "text/latex": [
       "\\begin{tabular}{r|lllllllllllllll}\n",
       " X & pclass & survived & name & sex & age & sibsp & parch & ticket & fare & cabin & embarked & boat & body & home.dest\\\\\n",
       "\\hline\n",
       "\t  1                               & 1st                              & 1                                & Allen, Miss. Elisabeth Walton    & female                           & 29.0000                          & 0                                & 0                                & 24160                            & 211.3375                         & B5                               & Southampton                      & 2                                &  NA                              & St Louis, MO                    \\\\\n",
       "\t  2                               & 1st                              & 1                                & Allison, Master. Hudson Trevor   & male                             &  0.9167                          & 1                                & 2                                & 113781                           & 151.5500                         & C22 C26                          & Southampton                      & 11                               &  NA                              & Montreal, PQ / Chesterville, ON \\\\\n",
       "\t  3                               & 1st                              & 0                                & Allison, Miss. Helen Loraine     & female                           &  2.0000                          & 1                                & 2                                & 113781                           & 151.5500                         & C22 C26                          & Southampton                      &                                  &  NA                              & Montreal, PQ / Chesterville, ON \\\\\n",
       "\t  4                               & 1st                              & 0                                & Allison, Mr. Hudson Joshua Crei  & male                             & 30.0000                          & 1                                & 2                                & 113781                           & 151.5500                         & C22 C26                          & Southampton                      &                                  & 135                              & Montreal, PQ / Chesterville, ON \\\\\n",
       "\t  5                               & 1st                              & 0                                & Allison, Mrs. Hudson J C (Bessi  & female                           & 25.0000                          & 1                                & 2                                & 113781                           & 151.5500                         & C22 C26                          & Southampton                      &                                  &  NA                              & Montreal, PQ / Chesterville, ON \\\\\n",
       "\t  6                               & 1st                              & 1                                & Anderson, Mr. Harry              & male                             & 48.0000                          & 0                                & 0                                & 19952                            &  26.5500                         & E12                              & Southampton                      & 3                                &  NA                              & New York, NY                    \\\\\n",
       "\t  7                               & 1st                              & 1                                & Andrews, Miss. Kornelia Theodos  & female                           & 63.0000                          & 1                                & 0                                & 13502                            &  77.9583                         & D7                               & Southampton                      & 10                               &  NA                              & Hudson, NY                      \\\\\n",
       "\t  8                               & 1st                              & 0                                & Andrews, Mr. Thomas Jr           & male                             & 39.0000                          & 0                                & 0                                & 112050                           &   0.0000                         & A36                              & Southampton                      &                                  &  NA                              & Belfast, NI                     \\\\\n",
       "\t  9                               & 1st                              & 1                                & Appleton, Mrs. Edward Dale (Cha  & female                           & 53.0000                          & 2                                & 0                                & 11769                            &  51.4792                         & C101                             & Southampton                      & D                                &  NA                              & Bayside, Queens, NY             \\\\\n",
       "\t 10                               & 1st                              & 0                                & Artagaveytia, Mr. Ramon          & male                             & 71.0000                          & 0                                & 0                                & PC 17609                         &  49.5042                         &                                  & Cherbourg                        &                                  &  22                              & Montevideo, Uruguay             \\\\\n",
       "\t 11                               & 1st                              & 0                                & Astor, Col. John Jacob           & male                             & 47.0000                          & 1                                & 0                                & PC 17757                         & 227.5250                         & C62 C64                          & Cherbourg                        &                                  & 124                              & New York, NY                    \\\\\n",
       "\t 12                               & 1st                              & 1                                & Astor, Mrs. John Jacob (Madelei  & female                           & 18.0000                          & 1                                & 0                                & PC 17757                         & 227.5250                         & C62 C64                          & Cherbourg                        & 4                                &  NA                              & New York, NY                    \\\\\n",
       "\t 13                               & 1st                              & 1                                & Aubart, Mme. Leontine Pauline    & female                           & 24.0000                          & 0                                & 0                                & PC 17477                         &  69.3000                         & B35                              & Cherbourg                        & 9                                &  NA                              & Paris, France                   \\\\\n",
       "\t 14                                                             & 1st                                                            & 1                                                              & Barber, Miss. Ellen \\textbackslash{}\"Nellie\\textbackslash{}\" & female                                                         & 26.0000                                                        & 0                                                              & 0                                                              & 19877                                                          &  78.8500                                                       &                                                                & Southampton                                                    & 6                                                              &  NA                                                            &                                                               \\\\\n",
       "\t 15                               & 1st                              & 1                                & Barkworth, Mr. Algernon Henry W  & male                             & 80.0000                          & 0                                & 0                                & 27042                            &  30.0000                         & A23                              & Southampton                      & B                                &  NA                              & Hessle, Yorks                   \\\\\n",
       "\t 16                               & 1st                              & 0                                & Baumann, Mr. John D              & male                             &      NA                          & 0                                & 0                                & PC 17318                         &  25.9250                         &                                  & Southampton                      &                                  &  NA                              & New York, NY                    \\\\\n",
       "\t 17                               & 1st                              & 0                                & Baxter, Mr. Quigg Edmond         & male                             & 24.0000                          & 0                                & 1                                & PC 17558                         & 247.5208                         & B58 B60                          & Cherbourg                        &                                  &  NA                              & Montreal, PQ                    \\\\\n",
       "\t 18                               & 1st                              & 1                                & Baxter, Mrs. James (Helene DeLa  & female                           & 50.0000                          & 0                                & 1                                & PC 17558                         & 247.5208                         & B58 B60                          & Cherbourg                        & 6                                &  NA                              & Montreal, PQ                    \\\\\n",
       "\t 19                               & 1st                              & 1                                & Bazzani, Miss. Albina            & female                           & 32.0000                          & 0                                & 0                                & 11813                            &  76.2917                         & D15                              & Cherbourg                        & 8                                &  NA                              &                                 \\\\\n",
       "\t 20                               & 1st                              & 0                                & Beattie, Mr. Thomson             & male                             & 36.0000                          & 0                                & 0                                & 13050                            &  75.2417                         & C6                               & Cherbourg                        & A                                &  NA                              & Winnipeg, MN                    \\\\\n",
       "\t 21                               & 1st                              & 1                                & Beckwith, Mr. Richard Leonard    & male                             & 37.0000                          & 1                                & 1                                & 11751                            &  52.5542                         & D35                              & Southampton                      & 5                                &  NA                              & New York, NY                    \\\\\n",
       "\t 22                               & 1st                              & 1                                & Beckwith, Mrs. Richard Leonard   & female                           & 47.0000                          & 1                                & 1                                & 11751                            &  52.5542                         & D35                              & Southampton                      & 5                                &  NA                              & New York, NY                    \\\\\n",
       "\t 23                               & 1st                              & 1                                & Behr, Mr. Karl Howell            & male                             & 26.0000                          & 0                                & 0                                & 111369                           &  30.0000                         & C148                             & Cherbourg                        & 5                                &  NA                              & New York, NY                    \\\\\n",
       "\t 24                               & 1st                              & 1                                & Bidois, Miss. Rosalie            & female                           & 42.0000                          & 0                                & 0                                & PC 17757                         & 227.5250                         &                                  & Cherbourg                        & 4                                &  NA                              &                                 \\\\\n",
       "\t 25                               & 1st                              & 1                                & Bird, Miss. Ellen                & female                           & 29.0000                          & 0                                & 0                                & PC 17483                         & 221.7792                         & C97                              & Southampton                      & 8                                &  NA                              &                                 \\\\\n",
       "\t 26                               & 1st                              & 0                                & Birnbaum, Mr. Jakob              & male                             & 25.0000                          & 0                                & 0                                & 13905                            &  26.0000                         &                                  & Cherbourg                        &                                  & 148                              & San Francisco, CA               \\\\\n",
       "\t 27                               & 1st                              & 1                                & Bishop, Mr. Dickinson H          & male                             & 25.0000                          & 1                                & 0                                & 11967                            &  91.0792                         & B49                              & Cherbourg                        & 7                                &  NA                              & Dowagiac, MI                    \\\\\n",
       "\t 28                               & 1st                              & 1                                & Bishop, Mrs. Dickinson H (Helen  & female                           & 19.0000                          & 1                                & 0                                & 11967                            &  91.0792                         & B49                              & Cherbourg                        & 7                                &  NA                              & Dowagiac, MI                    \\\\\n",
       "\t 29                               & 1st                              & 1                                & Bissette, Miss. Amelia           & female                           & 35.0000                          & 0                                & 0                                & PC 17760                         & 135.6333                         & C99                              & Southampton                      & 8                                &  NA                              &                                 \\\\\n",
       "\t 30                               & 1st                              & 1                                & Bjornstrom-Steffansson, Mr. Mau  & male                             & 28.0000                          & 0                                & 0                                & 110564                           &  26.5500                         & C52                              & Southampton                      & D                                &  NA                              & Stockholm, Sweden / Washington, \\\\\n",
       "\t ⋮ & ⋮ & ⋮ & ⋮ & ⋮ & ⋮ & ⋮ & ⋮ & ⋮ & ⋮ & ⋮ & ⋮ & ⋮ & ⋮ & ⋮\\\\\n",
       "\t 294                             & 1st                             & 1                               & Taylor, Mrs. Elmer Zebley (Juli & female                          & NA                              & 1                               & 0                               & 19996                           &  52.0000                        & C126                            & Southampton                     & 5 7                             &  NA                             & London /  East Orange, NJ      \\\\\n",
       "\t 295                             & 1st                             & 0                               & Thayer, Mr. John Borland        & male                            & 49                              & 1                               & 1                               & 17421                           & 110.8833                        & C68                             & Cherbourg                       &                                 &  NA                             & Haverford, PA                  \\\\\n",
       "\t 296                             & 1st                             & 1                               & Thayer, Mr. John Borland Jr     & male                            & 17                              & 0                               & 2                               & 17421                           & 110.8833                        & C70                             & Cherbourg                       & B                               &  NA                             & Haverford, PA                  \\\\\n",
       "\t 297                             & 1st                             & 1                               & Thayer, Mrs. John Borland (Mari & female                          & 39                              & 1                               & 1                               & 17421                           & 110.8833                        & C68                             & Cherbourg                       & 4                               &  NA                             & Haverford, PA                  \\\\\n",
       "\t 298                             & 1st                             & 1                               & Thorne, Mrs. Gertrude Maybelle  & female                          & NA                              & 0                               & 0                               & PC 17585                        &  79.2000                        &                                 & Cherbourg                       & D                               &  NA                             & New York, NY                   \\\\\n",
       "\t 299                             & 1st                             & 1                               & Tucker, Mr. Gilbert Milligan Jr & male                            & 31                              & 0                               & 0                               & 2543                            &  28.5375                        & C53                             & Cherbourg                       & 7                               &  NA                             & Albany, NY                     \\\\\n",
       "\t 300                             & 1st                             & 0                               & Uruchurtu, Don. Manuel E        & male                            & 40                              & 0                               & 0                               & PC 17601                        &  27.7208                        &                                 & Cherbourg                       &                                 &  NA                             & Mexico City, Mexico            \\\\\n",
       "\t 301                             & 1st                             & 0                               & Van der hoef, Mr. Wyckoff       & male                            & 61                              & 0                               & 0                               & 111240                          &  33.5000                        & B19                             & Southampton                     &                                 & 245                             & Brooklyn, NY                   \\\\\n",
       "\t 302                             & 1st                             & 0                               & Walker, Mr. William Anderson    & male                            & 47                              & 0                               & 0                               & 36967                           &  34.0208                        & D46                             & Southampton                     &                                 &  NA                             & East Orange, NJ                \\\\\n",
       "\t 303                             & 1st                             & 1                               & Ward, Miss. Anna                & female                          & 35                              & 0                               & 0                               & PC 17755                        & 512.3292                        &                                 & Cherbourg                       & 3                               &  NA                             &                                \\\\\n",
       "\t 304                             & 1st                             & 0                               & Warren, Mr. Frank Manley        & male                            & 64                              & 1                               & 0                               & 110813                          &  75.2500                        & D37                             & Cherbourg                       &                                 &  NA                             & Portland, OR                   \\\\\n",
       "\t 305                             & 1st                             & 1                               & Warren, Mrs. Frank Manley (Anna & female                          & 60                              & 1                               & 0                               & 110813                          &  75.2500                        & D37                             & Cherbourg                       & 5                               &  NA                             & Portland, OR                   \\\\\n",
       "\t 306                             & 1st                             & 0                               & Weir, Col. John                 & male                            & 60                              & 0                               & 0                               & 113800                          &  26.5500                        &                                 & Southampton                     &                                 &  NA                             & England Salt Lake City, Utah   \\\\\n",
       "\t 307                             & 1st                             & 0                               & White, Mr. Percival Wayland     & male                            & 54                              & 0                               & 1                               & 35281                           &  77.2875                        & D26                             & Southampton                     &                                 &  NA                             & Brunswick, ME                  \\\\\n",
       "\t 308                             & 1st                             & 0                               & White, Mr. Richard Frasar       & male                            & 21                              & 0                               & 1                               & 35281                           &  77.2875                        & D26                             & Southampton                     &                                 & 169                             & Brunswick, ME                  \\\\\n",
       "\t 309                             & 1st                             & 1                               & White, Mrs. John Stuart (Ella H & female                          & 55                              & 0                               & 0                               & PC 17760                        & 135.6333                        & C32                             & Cherbourg                       & 8                               &  NA                             & New York, NY / Briarcliff Manor\\\\\n",
       "\t 310                             & 1st                             & 1                               & Wick, Miss. Mary Natalie        & female                          & 31                              & 0                               & 2                               & 36928                           & 164.8667                        & C7                              & Southampton                     & 8                               &  NA                             & Youngstown, OH                 \\\\\n",
       "\t 311                             & 1st                             & 0                               & Wick, Mr. George Dennick        & male                            & 57                              & 1                               & 1                               & 36928                           & 164.8667                        &                                 & Southampton                     &                                 &  NA                             & Youngstown, OH                 \\\\\n",
       "\t 312                             & 1st                             & 1                               & Wick, Mrs. George Dennick (Mary & female                          & 45                              & 1                               & 1                               & 36928                           & 164.8667                        &                                 & Southampton                     & 8                               &  NA                             & Youngstown, OH                 \\\\\n",
       "\t 313                             & 1st                             & 0                               & Widener, Mr. George Dunton      & male                            & 50                              & 1                               & 1                               & 113503                          & 211.5000                        & C80                             & Cherbourg                       &                                 &  NA                             & Elkins Park, PA                \\\\\n",
       "\t 314                             & 1st                             & 0                               & Widener, Mr. Harry Elkins       & male                            & 27                              & 0                               & 2                               & 113503                          & 211.5000                        & C82                             & Cherbourg                       &                                 &  NA                             & Elkins Park, PA                \\\\\n",
       "\t 315                             & 1st                             & 1                               & Widener, Mrs. George Dunton (El & female                          & 50                              & 1                               & 1                               & 113503                          & 211.5000                        & C80                             & Cherbourg                       & 4                               &  NA                             & Elkins Park, PA                \\\\\n",
       "\t 316                             & 1st                             & 1                               & Willard, Miss. Constance        & female                          & 21                              & 0                               & 0                               & 113795                          &  26.5500                        &                                 & Southampton                     & 8 10                            &  NA                             & Duluth, MN                     \\\\\n",
       "\t 317                             & 1st                             & 0                               & Williams, Mr. Charles Duane     & male                            & 51                              & 0                               & 1                               & PC 17597                        &  61.3792                        &                                 & Cherbourg                       &                                 &  NA                             & Geneva, Switzerland / Radnor, P\\\\\n",
       "\t 318                             & 1st                             & 1                               & Williams, Mr. Richard Norris II & male                            & 21                              & 0                               & 1                               & PC 17597                        &  61.3792                        &                                 & Cherbourg                       & A                               &  NA                             & Geneva, Switzerland / Radnor, P\\\\\n",
       "\t 319                             & 1st                             & 0                               & Williams-Lambert, Mr. Fletcher  & male                            & NA                              & 0                               & 0                               & 113510                          &  35.0000                        & C128                            & Southampton                     &                                 &  NA                             & London, England                \\\\\n",
       "\t 320                             & 1st                             & 1                               & Wilson, Miss. Helen Alice       & female                          & 31                              & 0                               & 0                               & 16966                           & 134.5000                        & E39 E41                         & Cherbourg                       & 3                               &  NA                             &                                \\\\\n",
       "\t 321                             & 1st                             & 1                               & Woolner, Mr. Hugh               & male                            & NA                              & 0                               & 0                               & 19947                           &  35.5000                        & C52                             & Southampton                     & D                               &  NA                             & London, England                \\\\\n",
       "\t 322                             & 1st                             & 0                               & Wright, Mr. George              & male                            & 62                              & 0                               & 0                               & 113807                          &  26.5500                        &                                 & Southampton                     &                                 &  NA                             & Halifax, NS                    \\\\\n",
       "\t 323                             & 1st                             & 1                               & Young, Miss. Marie Grice        & female                          & 36                              & 0                               & 0                               & PC 17760                        & 135.6333                        & C32                             & Cherbourg                       & 8                               &  NA                             & New York, NY / Washington, DC  \\\\\n",
       "\\end{tabular}\n"
      ],
      "text/markdown": [
       "\n",
       "X | pclass | survived | name | sex | age | sibsp | parch | ticket | fare | cabin | embarked | boat | body | home.dest | \n",
       "|---|---|---|---|---|---|---|---|---|---|---|---|---|---|---|---|---|---|---|---|---|---|---|---|---|---|---|---|---|---|---|---|---|---|---|---|---|---|---|---|---|---|---|---|---|---|---|---|---|---|---|---|---|---|---|---|---|---|---|---|---|\n",
       "|  1                               | 1st                              | 1                                | Allen, Miss. Elisabeth Walton    | female                           | 29.0000                          | 0                                | 0                                | 24160                            | 211.3375                         | B5                               | Southampton                      | 2                                |  NA                              | St Louis, MO                     | \n",
       "|  2                               | 1st                              | 1                                | Allison, Master. Hudson Trevor   | male                             |  0.9167                          | 1                                | 2                                | 113781                           | 151.5500                         | C22 C26                          | Southampton                      | 11                               |  NA                              | Montreal, PQ / Chesterville, ON  | \n",
       "|  3                               | 1st                              | 0                                | Allison, Miss. Helen Loraine     | female                           |  2.0000                          | 1                                | 2                                | 113781                           | 151.5500                         | C22 C26                          | Southampton                      |                                  |  NA                              | Montreal, PQ / Chesterville, ON  | \n",
       "|  4                               | 1st                              | 0                                | Allison, Mr. Hudson Joshua Crei  | male                             | 30.0000                          | 1                                | 2                                | 113781                           | 151.5500                         | C22 C26                          | Southampton                      |                                  | 135                              | Montreal, PQ / Chesterville, ON  | \n",
       "|  5                               | 1st                              | 0                                | Allison, Mrs. Hudson J C (Bessi  | female                           | 25.0000                          | 1                                | 2                                | 113781                           | 151.5500                         | C22 C26                          | Southampton                      |                                  |  NA                              | Montreal, PQ / Chesterville, ON  | \n",
       "|  6                               | 1st                              | 1                                | Anderson, Mr. Harry              | male                             | 48.0000                          | 0                                | 0                                | 19952                            |  26.5500                         | E12                              | Southampton                      | 3                                |  NA                              | New York, NY                     | \n",
       "|  7                               | 1st                              | 1                                | Andrews, Miss. Kornelia Theodos  | female                           | 63.0000                          | 1                                | 0                                | 13502                            |  77.9583                         | D7                               | Southampton                      | 10                               |  NA                              | Hudson, NY                       | \n",
       "|  8                               | 1st                              | 0                                | Andrews, Mr. Thomas Jr           | male                             | 39.0000                          | 0                                | 0                                | 112050                           |   0.0000                         | A36                              | Southampton                      |                                  |  NA                              | Belfast, NI                      | \n",
       "|  9                               | 1st                              | 1                                | Appleton, Mrs. Edward Dale (Cha  | female                           | 53.0000                          | 2                                | 0                                | 11769                            |  51.4792                         | C101                             | Southampton                      | D                                |  NA                              | Bayside, Queens, NY              | \n",
       "| 10                               | 1st                              | 0                                | Artagaveytia, Mr. Ramon          | male                             | 71.0000                          | 0                                | 0                                | PC 17609                         |  49.5042                         |                                  | Cherbourg                        |                                  |  22                              | Montevideo, Uruguay              | \n",
       "| 11                               | 1st                              | 0                                | Astor, Col. John Jacob           | male                             | 47.0000                          | 1                                | 0                                | PC 17757                         | 227.5250                         | C62 C64                          | Cherbourg                        |                                  | 124                              | New York, NY                     | \n",
       "| 12                               | 1st                              | 1                                | Astor, Mrs. John Jacob (Madelei  | female                           | 18.0000                          | 1                                | 0                                | PC 17757                         | 227.5250                         | C62 C64                          | Cherbourg                        | 4                                |  NA                              | New York, NY                     | \n",
       "| 13                               | 1st                              | 1                                | Aubart, Mme. Leontine Pauline    | female                           | 24.0000                          | 0                                | 0                                | PC 17477                         |  69.3000                         | B35                              | Cherbourg                        | 9                                |  NA                              | Paris, France                    | \n",
       "| 14                               | 1st                              | 1                                | Barber, Miss. Ellen \\\"Nellie\\\" | female                           | 26.0000                          | 0                                | 0                                | 19877                            |  78.8500                         |                                  | Southampton                      | 6                                |  NA                              |                                  | \n",
       "| 15                               | 1st                              | 1                                | Barkworth, Mr. Algernon Henry W  | male                             | 80.0000                          | 0                                | 0                                | 27042                            |  30.0000                         | A23                              | Southampton                      | B                                |  NA                              | Hessle, Yorks                    | \n",
       "| 16                               | 1st                              | 0                                | Baumann, Mr. John D              | male                             |      NA                          | 0                                | 0                                | PC 17318                         |  25.9250                         |                                  | Southampton                      |                                  |  NA                              | New York, NY                     | \n",
       "| 17                               | 1st                              | 0                                | Baxter, Mr. Quigg Edmond         | male                             | 24.0000                          | 0                                | 1                                | PC 17558                         | 247.5208                         | B58 B60                          | Cherbourg                        |                                  |  NA                              | Montreal, PQ                     | \n",
       "| 18                               | 1st                              | 1                                | Baxter, Mrs. James (Helene DeLa  | female                           | 50.0000                          | 0                                | 1                                | PC 17558                         | 247.5208                         | B58 B60                          | Cherbourg                        | 6                                |  NA                              | Montreal, PQ                     | \n",
       "| 19                               | 1st                              | 1                                | Bazzani, Miss. Albina            | female                           | 32.0000                          | 0                                | 0                                | 11813                            |  76.2917                         | D15                              | Cherbourg                        | 8                                |  NA                              |                                  | \n",
       "| 20                               | 1st                              | 0                                | Beattie, Mr. Thomson             | male                             | 36.0000                          | 0                                | 0                                | 13050                            |  75.2417                         | C6                               | Cherbourg                        | A                                |  NA                              | Winnipeg, MN                     | \n",
       "| 21                               | 1st                              | 1                                | Beckwith, Mr. Richard Leonard    | male                             | 37.0000                          | 1                                | 1                                | 11751                            |  52.5542                         | D35                              | Southampton                      | 5                                |  NA                              | New York, NY                     | \n",
       "| 22                               | 1st                              | 1                                | Beckwith, Mrs. Richard Leonard   | female                           | 47.0000                          | 1                                | 1                                | 11751                            |  52.5542                         | D35                              | Southampton                      | 5                                |  NA                              | New York, NY                     | \n",
       "| 23                               | 1st                              | 1                                | Behr, Mr. Karl Howell            | male                             | 26.0000                          | 0                                | 0                                | 111369                           |  30.0000                         | C148                             | Cherbourg                        | 5                                |  NA                              | New York, NY                     | \n",
       "| 24                               | 1st                              | 1                                | Bidois, Miss. Rosalie            | female                           | 42.0000                          | 0                                | 0                                | PC 17757                         | 227.5250                         |                                  | Cherbourg                        | 4                                |  NA                              |                                  | \n",
       "| 25                               | 1st                              | 1                                | Bird, Miss. Ellen                | female                           | 29.0000                          | 0                                | 0                                | PC 17483                         | 221.7792                         | C97                              | Southampton                      | 8                                |  NA                              |                                  | \n",
       "| 26                               | 1st                              | 0                                | Birnbaum, Mr. Jakob              | male                             | 25.0000                          | 0                                | 0                                | 13905                            |  26.0000                         |                                  | Cherbourg                        |                                  | 148                              | San Francisco, CA                | \n",
       "| 27                               | 1st                              | 1                                | Bishop, Mr. Dickinson H          | male                             | 25.0000                          | 1                                | 0                                | 11967                            |  91.0792                         | B49                              | Cherbourg                        | 7                                |  NA                              | Dowagiac, MI                     | \n",
       "| 28                               | 1st                              | 1                                | Bishop, Mrs. Dickinson H (Helen  | female                           | 19.0000                          | 1                                | 0                                | 11967                            |  91.0792                         | B49                              | Cherbourg                        | 7                                |  NA                              | Dowagiac, MI                     | \n",
       "| 29                               | 1st                              | 1                                | Bissette, Miss. Amelia           | female                           | 35.0000                          | 0                                | 0                                | PC 17760                         | 135.6333                         | C99                              | Southampton                      | 8                                |  NA                              |                                  | \n",
       "| 30                               | 1st                              | 1                                | Bjornstrom-Steffansson, Mr. Mau  | male                             | 28.0000                          | 0                                | 0                                | 110564                           |  26.5500                         | C52                              | Southampton                      | D                                |  NA                              | Stockholm, Sweden / Washington,  | \n",
       "| ⋮ | ⋮ | ⋮ | ⋮ | ⋮ | ⋮ | ⋮ | ⋮ | ⋮ | ⋮ | ⋮ | ⋮ | ⋮ | ⋮ | ⋮ | \n",
       "| 294                             | 1st                             | 1                               | Taylor, Mrs. Elmer Zebley (Juli | female                          | NA                              | 1                               | 0                               | 19996                           |  52.0000                        | C126                            | Southampton                     | 5 7                             |  NA                             | London /  East Orange, NJ       | \n",
       "| 295                             | 1st                             | 0                               | Thayer, Mr. John Borland        | male                            | 49                              | 1                               | 1                               | 17421                           | 110.8833                        | C68                             | Cherbourg                       |                                 |  NA                             | Haverford, PA                   | \n",
       "| 296                             | 1st                             | 1                               | Thayer, Mr. John Borland Jr     | male                            | 17                              | 0                               | 2                               | 17421                           | 110.8833                        | C70                             | Cherbourg                       | B                               |  NA                             | Haverford, PA                   | \n",
       "| 297                             | 1st                             | 1                               | Thayer, Mrs. John Borland (Mari | female                          | 39                              | 1                               | 1                               | 17421                           | 110.8833                        | C68                             | Cherbourg                       | 4                               |  NA                             | Haverford, PA                   | \n",
       "| 298                             | 1st                             | 1                               | Thorne, Mrs. Gertrude Maybelle  | female                          | NA                              | 0                               | 0                               | PC 17585                        |  79.2000                        |                                 | Cherbourg                       | D                               |  NA                             | New York, NY                    | \n",
       "| 299                             | 1st                             | 1                               | Tucker, Mr. Gilbert Milligan Jr | male                            | 31                              | 0                               | 0                               | 2543                            |  28.5375                        | C53                             | Cherbourg                       | 7                               |  NA                             | Albany, NY                      | \n",
       "| 300                             | 1st                             | 0                               | Uruchurtu, Don. Manuel E        | male                            | 40                              | 0                               | 0                               | PC 17601                        |  27.7208                        |                                 | Cherbourg                       |                                 |  NA                             | Mexico City, Mexico             | \n",
       "| 301                             | 1st                             | 0                               | Van der hoef, Mr. Wyckoff       | male                            | 61                              | 0                               | 0                               | 111240                          |  33.5000                        | B19                             | Southampton                     |                                 | 245                             | Brooklyn, NY                    | \n",
       "| 302                             | 1st                             | 0                               | Walker, Mr. William Anderson    | male                            | 47                              | 0                               | 0                               | 36967                           |  34.0208                        | D46                             | Southampton                     |                                 |  NA                             | East Orange, NJ                 | \n",
       "| 303                             | 1st                             | 1                               | Ward, Miss. Anna                | female                          | 35                              | 0                               | 0                               | PC 17755                        | 512.3292                        |                                 | Cherbourg                       | 3                               |  NA                             |                                 | \n",
       "| 304                             | 1st                             | 0                               | Warren, Mr. Frank Manley        | male                            | 64                              | 1                               | 0                               | 110813                          |  75.2500                        | D37                             | Cherbourg                       |                                 |  NA                             | Portland, OR                    | \n",
       "| 305                             | 1st                             | 1                               | Warren, Mrs. Frank Manley (Anna | female                          | 60                              | 1                               | 0                               | 110813                          |  75.2500                        | D37                             | Cherbourg                       | 5                               |  NA                             | Portland, OR                    | \n",
       "| 306                             | 1st                             | 0                               | Weir, Col. John                 | male                            | 60                              | 0                               | 0                               | 113800                          |  26.5500                        |                                 | Southampton                     |                                 |  NA                             | England Salt Lake City, Utah    | \n",
       "| 307                             | 1st                             | 0                               | White, Mr. Percival Wayland     | male                            | 54                              | 0                               | 1                               | 35281                           |  77.2875                        | D26                             | Southampton                     |                                 |  NA                             | Brunswick, ME                   | \n",
       "| 308                             | 1st                             | 0                               | White, Mr. Richard Frasar       | male                            | 21                              | 0                               | 1                               | 35281                           |  77.2875                        | D26                             | Southampton                     |                                 | 169                             | Brunswick, ME                   | \n",
       "| 309                             | 1st                             | 1                               | White, Mrs. John Stuart (Ella H | female                          | 55                              | 0                               | 0                               | PC 17760                        | 135.6333                        | C32                             | Cherbourg                       | 8                               |  NA                             | New York, NY / Briarcliff Manor | \n",
       "| 310                             | 1st                             | 1                               | Wick, Miss. Mary Natalie        | female                          | 31                              | 0                               | 2                               | 36928                           | 164.8667                        | C7                              | Southampton                     | 8                               |  NA                             | Youngstown, OH                  | \n",
       "| 311                             | 1st                             | 0                               | Wick, Mr. George Dennick        | male                            | 57                              | 1                               | 1                               | 36928                           | 164.8667                        |                                 | Southampton                     |                                 |  NA                             | Youngstown, OH                  | \n",
       "| 312                             | 1st                             | 1                               | Wick, Mrs. George Dennick (Mary | female                          | 45                              | 1                               | 1                               | 36928                           | 164.8667                        |                                 | Southampton                     | 8                               |  NA                             | Youngstown, OH                  | \n",
       "| 313                             | 1st                             | 0                               | Widener, Mr. George Dunton      | male                            | 50                              | 1                               | 1                               | 113503                          | 211.5000                        | C80                             | Cherbourg                       |                                 |  NA                             | Elkins Park, PA                 | \n",
       "| 314                             | 1st                             | 0                               | Widener, Mr. Harry Elkins       | male                            | 27                              | 0                               | 2                               | 113503                          | 211.5000                        | C82                             | Cherbourg                       |                                 |  NA                             | Elkins Park, PA                 | \n",
       "| 315                             | 1st                             | 1                               | Widener, Mrs. George Dunton (El | female                          | 50                              | 1                               | 1                               | 113503                          | 211.5000                        | C80                             | Cherbourg                       | 4                               |  NA                             | Elkins Park, PA                 | \n",
       "| 316                             | 1st                             | 1                               | Willard, Miss. Constance        | female                          | 21                              | 0                               | 0                               | 113795                          |  26.5500                        |                                 | Southampton                     | 8 10                            |  NA                             | Duluth, MN                      | \n",
       "| 317                             | 1st                             | 0                               | Williams, Mr. Charles Duane     | male                            | 51                              | 0                               | 1                               | PC 17597                        |  61.3792                        |                                 | Cherbourg                       |                                 |  NA                             | Geneva, Switzerland / Radnor, P | \n",
       "| 318                             | 1st                             | 1                               | Williams, Mr. Richard Norris II | male                            | 21                              | 0                               | 1                               | PC 17597                        |  61.3792                        |                                 | Cherbourg                       | A                               |  NA                             | Geneva, Switzerland / Radnor, P | \n",
       "| 319                             | 1st                             | 0                               | Williams-Lambert, Mr. Fletcher  | male                            | NA                              | 0                               | 0                               | 113510                          |  35.0000                        | C128                            | Southampton                     |                                 |  NA                             | London, England                 | \n",
       "| 320                             | 1st                             | 1                               | Wilson, Miss. Helen Alice       | female                          | 31                              | 0                               | 0                               | 16966                           | 134.5000                        | E39 E41                         | Cherbourg                       | 3                               |  NA                             |                                 | \n",
       "| 321                             | 1st                             | 1                               | Woolner, Mr. Hugh               | male                            | NA                              | 0                               | 0                               | 19947                           |  35.5000                        | C52                             | Southampton                     | D                               |  NA                             | London, England                 | \n",
       "| 322                             | 1st                             | 0                               | Wright, Mr. George              | male                            | 62                              | 0                               | 0                               | 113807                          |  26.5500                        |                                 | Southampton                     |                                 |  NA                             | Halifax, NS                     | \n",
       "| 323                             | 1st                             | 1                               | Young, Miss. Marie Grice        | female                          | 36                              | 0                               | 0                               | PC 17760                        | 135.6333                        | C32                             | Cherbourg                       | 8                               |  NA                             | New York, NY / Washington, DC   | \n",
       "\n",
       "\n"
      ],
      "text/plain": [
       "    X   pclass survived name                             sex    age     sibsp\n",
       "1    1  1st    1        Allen, Miss. Elisabeth Walton    female 29.0000 0    \n",
       "2    2  1st    1        Allison, Master. Hudson Trevor   male    0.9167 1    \n",
       "3    3  1st    0        Allison, Miss. Helen Loraine     female  2.0000 1    \n",
       "4    4  1st    0        Allison, Mr. Hudson Joshua Crei  male   30.0000 1    \n",
       "5    5  1st    0        Allison, Mrs. Hudson J C (Bessi  female 25.0000 1    \n",
       "6    6  1st    1        Anderson, Mr. Harry              male   48.0000 0    \n",
       "7    7  1st    1        Andrews, Miss. Kornelia Theodos  female 63.0000 1    \n",
       "8    8  1st    0        Andrews, Mr. Thomas Jr           male   39.0000 0    \n",
       "9    9  1st    1        Appleton, Mrs. Edward Dale (Cha  female 53.0000 2    \n",
       "10  10  1st    0        Artagaveytia, Mr. Ramon          male   71.0000 0    \n",
       "11  11  1st    0        Astor, Col. John Jacob           male   47.0000 1    \n",
       "12  12  1st    1        Astor, Mrs. John Jacob (Madelei  female 18.0000 1    \n",
       "13  13  1st    1        Aubart, Mme. Leontine Pauline    female 24.0000 0    \n",
       "14  14  1st    1        Barber, Miss. Ellen \\\\\"Nellie\\\\\" female 26.0000 0    \n",
       "15  15  1st    1        Barkworth, Mr. Algernon Henry W  male   80.0000 0    \n",
       "16  16  1st    0        Baumann, Mr. John D              male        NA 0    \n",
       "17  17  1st    0        Baxter, Mr. Quigg Edmond         male   24.0000 0    \n",
       "18  18  1st    1        Baxter, Mrs. James (Helene DeLa  female 50.0000 0    \n",
       "19  19  1st    1        Bazzani, Miss. Albina            female 32.0000 0    \n",
       "20  20  1st    0        Beattie, Mr. Thomson             male   36.0000 0    \n",
       "21  21  1st    1        Beckwith, Mr. Richard Leonard    male   37.0000 1    \n",
       "22  22  1st    1        Beckwith, Mrs. Richard Leonard   female 47.0000 1    \n",
       "23  23  1st    1        Behr, Mr. Karl Howell            male   26.0000 0    \n",
       "24  24  1st    1        Bidois, Miss. Rosalie            female 42.0000 0    \n",
       "25  25  1st    1        Bird, Miss. Ellen                female 29.0000 0    \n",
       "26  26  1st    0        Birnbaum, Mr. Jakob              male   25.0000 0    \n",
       "27  27  1st    1        Bishop, Mr. Dickinson H          male   25.0000 1    \n",
       "28  28  1st    1        Bishop, Mrs. Dickinson H (Helen  female 19.0000 1    \n",
       "29  29  1st    1        Bissette, Miss. Amelia           female 35.0000 0    \n",
       "30  30  1st    1        Bjornstrom-Steffansson, Mr. Mau  male   28.0000 0    \n",
       "⋮   ⋮   ⋮      ⋮        ⋮                                ⋮      ⋮       ⋮    \n",
       "294 294 1st    1        Taylor, Mrs. Elmer Zebley (Juli  female NA      1    \n",
       "295 295 1st    0        Thayer, Mr. John Borland         male   49      1    \n",
       "296 296 1st    1        Thayer, Mr. John Borland Jr      male   17      0    \n",
       "297 297 1st    1        Thayer, Mrs. John Borland (Mari  female 39      1    \n",
       "298 298 1st    1        Thorne, Mrs. Gertrude Maybelle   female NA      0    \n",
       "299 299 1st    1        Tucker, Mr. Gilbert Milligan Jr  male   31      0    \n",
       "300 300 1st    0        Uruchurtu, Don. Manuel E         male   40      0    \n",
       "301 301 1st    0        Van der hoef, Mr. Wyckoff        male   61      0    \n",
       "302 302 1st    0        Walker, Mr. William Anderson     male   47      0    \n",
       "303 303 1st    1        Ward, Miss. Anna                 female 35      0    \n",
       "304 304 1st    0        Warren, Mr. Frank Manley         male   64      1    \n",
       "305 305 1st    1        Warren, Mrs. Frank Manley (Anna  female 60      1    \n",
       "306 306 1st    0        Weir, Col. John                  male   60      0    \n",
       "307 307 1st    0        White, Mr. Percival Wayland      male   54      0    \n",
       "308 308 1st    0        White, Mr. Richard Frasar        male   21      0    \n",
       "309 309 1st    1        White, Mrs. John Stuart (Ella H  female 55      0    \n",
       "310 310 1st    1        Wick, Miss. Mary Natalie         female 31      0    \n",
       "311 311 1st    0        Wick, Mr. George Dennick         male   57      1    \n",
       "312 312 1st    1        Wick, Mrs. George Dennick (Mary  female 45      1    \n",
       "313 313 1st    0        Widener, Mr. George Dunton       male   50      1    \n",
       "314 314 1st    0        Widener, Mr. Harry Elkins        male   27      0    \n",
       "315 315 1st    1        Widener, Mrs. George Dunton (El  female 50      1    \n",
       "316 316 1st    1        Willard, Miss. Constance         female 21      0    \n",
       "317 317 1st    0        Williams, Mr. Charles Duane      male   51      0    \n",
       "318 318 1st    1        Williams, Mr. Richard Norris II  male   21      0    \n",
       "319 319 1st    0        Williams-Lambert, Mr. Fletcher   male   NA      0    \n",
       "320 320 1st    1        Wilson, Miss. Helen Alice        female 31      0    \n",
       "321 321 1st    1        Woolner, Mr. Hugh                male   NA      0    \n",
       "322 322 1st    0        Wright, Mr. George               male   62      0    \n",
       "323 323 1st    1        Young, Miss. Marie Grice         female 36      0    \n",
       "    parch ticket   fare     cabin   embarked    boat body\n",
       "1   0     24160    211.3375 B5      Southampton 2     NA \n",
       "2   2     113781   151.5500 C22 C26 Southampton 11    NA \n",
       "3   2     113781   151.5500 C22 C26 Southampton       NA \n",
       "4   2     113781   151.5500 C22 C26 Southampton      135 \n",
       "5   2     113781   151.5500 C22 C26 Southampton       NA \n",
       "6   0     19952     26.5500 E12     Southampton 3     NA \n",
       "7   0     13502     77.9583 D7      Southampton 10    NA \n",
       "8   0     112050     0.0000 A36     Southampton       NA \n",
       "9   0     11769     51.4792 C101    Southampton D     NA \n",
       "10  0     PC 17609  49.5042         Cherbourg         22 \n",
       "11  0     PC 17757 227.5250 C62 C64 Cherbourg        124 \n",
       "12  0     PC 17757 227.5250 C62 C64 Cherbourg   4     NA \n",
       "13  0     PC 17477  69.3000 B35     Cherbourg   9     NA \n",
       "14  0     19877     78.8500         Southampton 6     NA \n",
       "15  0     27042     30.0000 A23     Southampton B     NA \n",
       "16  0     PC 17318  25.9250         Southampton       NA \n",
       "17  1     PC 17558 247.5208 B58 B60 Cherbourg         NA \n",
       "18  1     PC 17558 247.5208 B58 B60 Cherbourg   6     NA \n",
       "19  0     11813     76.2917 D15     Cherbourg   8     NA \n",
       "20  0     13050     75.2417 C6      Cherbourg   A     NA \n",
       "21  1     11751     52.5542 D35     Southampton 5     NA \n",
       "22  1     11751     52.5542 D35     Southampton 5     NA \n",
       "23  0     111369    30.0000 C148    Cherbourg   5     NA \n",
       "24  0     PC 17757 227.5250         Cherbourg   4     NA \n",
       "25  0     PC 17483 221.7792 C97     Southampton 8     NA \n",
       "26  0     13905     26.0000         Cherbourg        148 \n",
       "27  0     11967     91.0792 B49     Cherbourg   7     NA \n",
       "28  0     11967     91.0792 B49     Cherbourg   7     NA \n",
       "29  0     PC 17760 135.6333 C99     Southampton 8     NA \n",
       "30  0     110564    26.5500 C52     Southampton D     NA \n",
       "⋮   ⋮     ⋮        ⋮        ⋮       ⋮           ⋮    ⋮   \n",
       "294 0     19996     52.0000 C126    Southampton 5 7   NA \n",
       "295 1     17421    110.8833 C68     Cherbourg         NA \n",
       "296 2     17421    110.8833 C70     Cherbourg   B     NA \n",
       "297 1     17421    110.8833 C68     Cherbourg   4     NA \n",
       "298 0     PC 17585  79.2000         Cherbourg   D     NA \n",
       "299 0     2543      28.5375 C53     Cherbourg   7     NA \n",
       "300 0     PC 17601  27.7208         Cherbourg         NA \n",
       "301 0     111240    33.5000 B19     Southampton      245 \n",
       "302 0     36967     34.0208 D46     Southampton       NA \n",
       "303 0     PC 17755 512.3292         Cherbourg   3     NA \n",
       "304 0     110813    75.2500 D37     Cherbourg         NA \n",
       "305 0     110813    75.2500 D37     Cherbourg   5     NA \n",
       "306 0     113800    26.5500         Southampton       NA \n",
       "307 1     35281     77.2875 D26     Southampton       NA \n",
       "308 1     35281     77.2875 D26     Southampton      169 \n",
       "309 0     PC 17760 135.6333 C32     Cherbourg   8     NA \n",
       "310 2     36928    164.8667 C7      Southampton 8     NA \n",
       "311 1     36928    164.8667         Southampton       NA \n",
       "312 1     36928    164.8667         Southampton 8     NA \n",
       "313 1     113503   211.5000 C80     Cherbourg         NA \n",
       "314 2     113503   211.5000 C82     Cherbourg         NA \n",
       "315 1     113503   211.5000 C80     Cherbourg   4     NA \n",
       "316 0     113795    26.5500         Southampton 8 10  NA \n",
       "317 1     PC 17597  61.3792         Cherbourg         NA \n",
       "318 1     PC 17597  61.3792         Cherbourg   A     NA \n",
       "319 0     113510    35.0000 C128    Southampton       NA \n",
       "320 0     16966    134.5000 E39 E41 Cherbourg   3     NA \n",
       "321 0     19947     35.5000 C52     Southampton D     NA \n",
       "322 0     113807    26.5500         Southampton       NA \n",
       "323 0     PC 17760 135.6333 C32     Cherbourg   8     NA \n",
       "    home.dest                      \n",
       "1   St Louis, MO                   \n",
       "2   Montreal, PQ / Chesterville, ON\n",
       "3   Montreal, PQ / Chesterville, ON\n",
       "4   Montreal, PQ / Chesterville, ON\n",
       "5   Montreal, PQ / Chesterville, ON\n",
       "6   New York, NY                   \n",
       "7   Hudson, NY                     \n",
       "8   Belfast, NI                    \n",
       "9   Bayside, Queens, NY            \n",
       "10  Montevideo, Uruguay            \n",
       "11  New York, NY                   \n",
       "12  New York, NY                   \n",
       "13  Paris, France                  \n",
       "14                                 \n",
       "15  Hessle, Yorks                  \n",
       "16  New York, NY                   \n",
       "17  Montreal, PQ                   \n",
       "18  Montreal, PQ                   \n",
       "19                                 \n",
       "20  Winnipeg, MN                   \n",
       "21  New York, NY                   \n",
       "22  New York, NY                   \n",
       "23  New York, NY                   \n",
       "24                                 \n",
       "25                                 \n",
       "26  San Francisco, CA              \n",
       "27  Dowagiac, MI                   \n",
       "28  Dowagiac, MI                   \n",
       "29                                 \n",
       "30  Stockholm, Sweden / Washington,\n",
       "⋮   ⋮                              \n",
       "294 London /  East Orange, NJ      \n",
       "295 Haverford, PA                  \n",
       "296 Haverford, PA                  \n",
       "297 Haverford, PA                  \n",
       "298 New York, NY                   \n",
       "299 Albany, NY                     \n",
       "300 Mexico City, Mexico            \n",
       "301 Brooklyn, NY                   \n",
       "302 East Orange, NJ                \n",
       "303                                \n",
       "304 Portland, OR                   \n",
       "305 Portland, OR                   \n",
       "306 England Salt Lake City, Utah   \n",
       "307 Brunswick, ME                  \n",
       "308 Brunswick, ME                  \n",
       "309 New York, NY / Briarcliff Manor\n",
       "310 Youngstown, OH                 \n",
       "311 Youngstown, OH                 \n",
       "312 Youngstown, OH                 \n",
       "313 Elkins Park, PA                \n",
       "314 Elkins Park, PA                \n",
       "315 Elkins Park, PA                \n",
       "316 Duluth, MN                     \n",
       "317 Geneva, Switzerland / Radnor, P\n",
       "318 Geneva, Switzerland / Radnor, P\n",
       "319 London, England                \n",
       "320                                \n",
       "321 London, England                \n",
       "322 Halifax, NS                    \n",
       "323 New York, NY / Washington, DC  "
      ]
     },
     "metadata": {},
     "output_type": "display_data"
    }
   ],
   "source": []
  },
  {
   "cell_type": "code",
   "execution_count": null,
   "metadata": {},
   "outputs": [],
   "source": []
  },
  {
   "cell_type": "markdown",
   "metadata": {},
   "source": [
    "## 1.2 Основные операции над таблицами и dplyr"
   ]
  },
  {
   "cell_type": "code",
   "execution_count": null,
   "metadata": {},
   "outputs": [],
   "source": []
  },
  {
   "cell_type": "code",
   "execution_count": null,
   "metadata": {},
   "outputs": [],
   "source": []
  },
  {
   "cell_type": "code",
   "execution_count": null,
   "metadata": {},
   "outputs": [],
   "source": []
  },
  {
   "cell_type": "code",
   "execution_count": null,
   "metadata": {},
   "outputs": [],
   "source": []
  },
  {
   "cell_type": "code",
   "execution_count": null,
   "metadata": {},
   "outputs": [],
   "source": []
  },
  {
   "cell_type": "code",
   "execution_count": null,
   "metadata": {},
   "outputs": [],
   "source": []
  },
  {
   "cell_type": "code",
   "execution_count": null,
   "metadata": {},
   "outputs": [],
   "source": []
  },
  {
   "cell_type": "code",
   "execution_count": null,
   "metadata": {},
   "outputs": [],
   "source": []
  },
  {
   "cell_type": "code",
   "execution_count": null,
   "metadata": {},
   "outputs": [],
   "source": []
  },
  {
   "cell_type": "code",
   "execution_count": null,
   "metadata": {},
   "outputs": [],
   "source": []
  }
 ],
 "metadata": {
  "kernelspec": {
   "display_name": "R",
   "language": "R",
   "name": "ir"
  },
  "language_info": {
   "codemirror_mode": "r",
   "file_extension": ".r",
   "mimetype": "text/x-r-source",
   "name": "R",
   "pygments_lexer": "r",
   "version": "3.4.2"
  }
 },
 "nbformat": 4,
 "nbformat_minor": 2
}
