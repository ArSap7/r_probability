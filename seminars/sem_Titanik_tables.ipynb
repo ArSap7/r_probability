{
 "cells": [
  {
   "cell_type": "markdown",
   "metadata": {},
   "source": [
    "\n",
    "\n",
    "<img src=\"https://hsto.org/files/530/f91/bf0/530f91bf048d46b7ad9f53854d9af266.png\" height=\"600\" width=\"900\">\n",
    "\n",
    "\n",
    "# <center> R для тервера и матстата. <br>  <br> 5.1 Титаник. </center>\n",
    "\n",
    "Данный ноутбук является конспектом по курсу «R для теории вероятностей и математической статистики» (РАНХиГС, 2017-2018). Автор ноутбука [вот этот парень по имени Филипп.](https://vk.com/ppilif) Если у вас для него есть деньги, слава или женщины, он от этого всего не откажется. Ноутбук распространяется на условиях лицензии [Creative Commons Attribution-Share Alike 4.0.](https://creativecommons.org/licenses/by-sa/4.0/) При использовании обязательно упоминание автора курса и аффилиации. При наличии технической возможности необходимо также указать активную гиперссылку на [страницу курса.](https://fulyankin.github.io/R_probability/) На ней можно найти другие материалы. Фрагменты кода, включенные в этот notebook, публикуются как [общественное достояние.](https://creativecommons.org/publicdomain/zero/1.0/)\n",
    "\n",
    "---------\n",
    "\n",
    "В прошлый раз мы попытались просечь метод максимального правдоподобия и оценили парочку простых моделей. Сегодня мы продолжим разбираться с ним и оценим свою первую настоящую модель. Она называется логистической регрессией и очень часто, с небольшими видоизменениями, используется на практике.\n"
   ]
  },
  {
   "cell_type": "markdown",
   "metadata": {},
   "source": [
    "# 1. Регрессия и классификация: что это такое и зачем надо\n",
    "\n",
    "\n",
    "* дописать 1 пункт \n",
    "* вставить картинку в предобработку данных \n",
    "* выбросить пропуски!\n",
    "\n",
    "\n",
    "\n"
   ]
  },
  {
   "cell_type": "markdown",
   "metadata": {},
   "source": [
    "# 2. Что мы хотим, а также предобработка данных \n",
    "\n",
    "У нас в руках есть данные о пассажирах титаника с [соревнования на Kaggle](https://www.kaggle.com/c/titanic) (Kaggle -это такая платформа для проведения соревнований по анализу данных. Там много чего интересного есть). __Наша цель:__ научиться предсказывать умрёт ли пассажир титаника по его характеристикам. Это задача классификации. Нам нужно научиться разбивать все объекты на две категории. Попутно неплохо было бы научиться предсказывать вероятность смерти. \n",
    "\n",
    "Подгружаем все необходимые пакеты. Если каких-то из них у нас нет, устанавливаем."
   ]
  },
  {
   "cell_type": "code",
   "execution_count": 2,
   "metadata": {},
   "outputs": [],
   "source": [
    "library('dplyr')\n",
    "library('ggplot2')\n",
    "library('maxLik') # пакет для метода макс. правдоподобия\n",
    "options(repr.plot.width=4, repr.plot.height=3)"
   ]
  },
  {
   "cell_type": "markdown",
   "metadata": {},
   "source": [
    "Выборка пассажиров титаника разбита на две части: тренировочную и тестовую. Обычно, на тренировочной выборке учат модель, на тестовой выборке проверяют насколько хорошо она работает. Выборка, на которой мы учимся, не подходит для этих целей. Так как знания об этих объектах уже будут лежать в нашей модели, а в реальной жизни будут встречаться и новые, ранее неизвестные объекты. Часть, которую мы отложили, алгоритм ещё не видел. Значит можно использовать её для имитации этих самых новых объектов из реальной жизни и посмотреть какое на них будет качество. \n",
    "\n",
    "Такой подход помогает избежать переобучения модели. __Переобучением__ называют ситуации, когда модели тупо запоминают тренировочную выборку вместо того, чтобы извлечь из неё какие-то закономерности. Обычно на обучение пускают $70-80\\%$ выборки, а на тестирование $30-20\\%$."
   ]
  },
  {
   "cell_type": "code",
   "execution_count": 3,
   "metadata": {},
   "outputs": [],
   "source": [
    "df = read.csv('/Users/fulyankin/Yandex.Disk.localized/R/R_prob_data/titanic_train.csv', sep=',')"
   ]
  },
  {
   "cell_type": "code",
   "execution_count": 4,
   "metadata": {},
   "outputs": [
    {
     "data": {
      "text/html": [
       "<table>\n",
       "<thead><tr><th scope=col>PassengerId</th><th scope=col>Survived</th><th scope=col>Pclass</th><th scope=col>Name</th><th scope=col>Sex</th><th scope=col>Age</th><th scope=col>SibSp</th><th scope=col>Parch</th><th scope=col>Ticket</th><th scope=col>Fare</th><th scope=col>Cabin</th><th scope=col>Embarked</th></tr></thead>\n",
       "<tbody>\n",
       "\t<tr><td>1                                                  </td><td>0                                                  </td><td>3                                                  </td><td>Braund, Mr. Owen Harris                            </td><td>male                                               </td><td>22                                                 </td><td>1                                                  </td><td>0                                                  </td><td>A/5 21171                                          </td><td> 7.2500                                            </td><td>                                                   </td><td>S                                                  </td></tr>\n",
       "\t<tr><td>2                                                  </td><td>1                                                  </td><td>1                                                  </td><td>Cumings, Mrs. John Bradley (Florence Briggs Thayer)</td><td>female                                             </td><td>38                                                 </td><td>1                                                  </td><td>0                                                  </td><td>PC 17599                                           </td><td>71.2833                                            </td><td>C85                                                </td><td>C                                                  </td></tr>\n",
       "\t<tr><td>3                                                  </td><td>1                                                  </td><td>3                                                  </td><td>Heikkinen, Miss. Laina                             </td><td>female                                             </td><td>26                                                 </td><td>0                                                  </td><td>0                                                  </td><td>STON/O2. 3101282                                   </td><td> 7.9250                                            </td><td>                                                   </td><td>S                                                  </td></tr>\n",
       "\t<tr><td>4                                                  </td><td>1                                                  </td><td>1                                                  </td><td>Futrelle, Mrs. Jacques Heath (Lily May Peel)       </td><td>female                                             </td><td>35                                                 </td><td>1                                                  </td><td>0                                                  </td><td>113803                                             </td><td>53.1000                                            </td><td>C123                                               </td><td>S                                                  </td></tr>\n",
       "\t<tr><td>5                                                  </td><td>0                                                  </td><td>3                                                  </td><td>Allen, Mr. William Henry                           </td><td>male                                               </td><td>35                                                 </td><td>0                                                  </td><td>0                                                  </td><td>373450                                             </td><td> 8.0500                                            </td><td>                                                   </td><td>S                                                  </td></tr>\n",
       "</tbody>\n",
       "</table>\n"
      ],
      "text/latex": [
       "\\begin{tabular}{r|llllllllllll}\n",
       " PassengerId & Survived & Pclass & Name & Sex & Age & SibSp & Parch & Ticket & Fare & Cabin & Embarked\\\\\n",
       "\\hline\n",
       "\t 1                                                   & 0                                                   & 3                                                   & Braund, Mr. Owen Harris                             & male                                                & 22                                                  & 1                                                   & 0                                                   & A/5 21171                                           &  7.2500                                             &                                                     & S                                                  \\\\\n",
       "\t 2                                                   & 1                                                   & 1                                                   & Cumings, Mrs. John Bradley (Florence Briggs Thayer) & female                                              & 38                                                  & 1                                                   & 0                                                   & PC 17599                                            & 71.2833                                             & C85                                                 & C                                                  \\\\\n",
       "\t 3                                                   & 1                                                   & 3                                                   & Heikkinen, Miss. Laina                              & female                                              & 26                                                  & 0                                                   & 0                                                   & STON/O2. 3101282                                    &  7.9250                                             &                                                     & S                                                  \\\\\n",
       "\t 4                                                   & 1                                                   & 1                                                   & Futrelle, Mrs. Jacques Heath (Lily May Peel)        & female                                              & 35                                                  & 1                                                   & 0                                                   & 113803                                              & 53.1000                                             & C123                                                & S                                                  \\\\\n",
       "\t 5                                                   & 0                                                   & 3                                                   & Allen, Mr. William Henry                            & male                                                & 35                                                  & 0                                                   & 0                                                   & 373450                                              &  8.0500                                             &                                                     & S                                                  \\\\\n",
       "\\end{tabular}\n"
      ],
      "text/markdown": [
       "\n",
       "PassengerId | Survived | Pclass | Name | Sex | Age | SibSp | Parch | Ticket | Fare | Cabin | Embarked | \n",
       "|---|---|---|---|---|\n",
       "| 1                                                   | 0                                                   | 3                                                   | Braund, Mr. Owen Harris                             | male                                                | 22                                                  | 1                                                   | 0                                                   | A/5 21171                                           |  7.2500                                             |                                                     | S                                                   | \n",
       "| 2                                                   | 1                                                   | 1                                                   | Cumings, Mrs. John Bradley (Florence Briggs Thayer) | female                                              | 38                                                  | 1                                                   | 0                                                   | PC 17599                                            | 71.2833                                             | C85                                                 | C                                                   | \n",
       "| 3                                                   | 1                                                   | 3                                                   | Heikkinen, Miss. Laina                              | female                                              | 26                                                  | 0                                                   | 0                                                   | STON/O2. 3101282                                    |  7.9250                                             |                                                     | S                                                   | \n",
       "| 4                                                   | 1                                                   | 1                                                   | Futrelle, Mrs. Jacques Heath (Lily May Peel)        | female                                              | 35                                                  | 1                                                   | 0                                                   | 113803                                              | 53.1000                                             | C123                                                | S                                                   | \n",
       "| 5                                                   | 0                                                   | 3                                                   | Allen, Mr. William Henry                            | male                                                | 35                                                  | 0                                                   | 0                                                   | 373450                                              |  8.0500                                             |                                                     | S                                                   | \n",
       "\n",
       "\n"
      ],
      "text/plain": [
       "  PassengerId Survived Pclass\n",
       "1 1           0        3     \n",
       "2 2           1        1     \n",
       "3 3           1        3     \n",
       "4 4           1        1     \n",
       "5 5           0        3     \n",
       "  Name                                                Sex    Age SibSp Parch\n",
       "1 Braund, Mr. Owen Harris                             male   22  1     0    \n",
       "2 Cumings, Mrs. John Bradley (Florence Briggs Thayer) female 38  1     0    \n",
       "3 Heikkinen, Miss. Laina                              female 26  0     0    \n",
       "4 Futrelle, Mrs. Jacques Heath (Lily May Peel)        female 35  1     0    \n",
       "5 Allen, Mr. William Henry                            male   35  0     0    \n",
       "  Ticket           Fare    Cabin Embarked\n",
       "1 A/5 21171         7.2500       S       \n",
       "2 PC 17599         71.2833 C85   C       \n",
       "3 STON/O2. 3101282  7.9250       S       \n",
       "4 113803           53.1000 C123  S       \n",
       "5 373450            8.0500       S       "
      ]
     },
     "metadata": {},
     "output_type": "display_data"
    }
   ],
   "source": [
    "# Можно посмотреть на первые пять строк!\n",
    "head(df, 5)"
   ]
  },
  {
   "cell_type": "code",
   "execution_count": 5,
   "metadata": {
    "scrolled": true
   },
   "outputs": [
    {
     "data": {
      "text/html": [
       "<table>\n",
       "<thead><tr><th></th><th scope=col>PassengerId</th><th scope=col>Survived</th><th scope=col>Pclass</th><th scope=col>Name</th><th scope=col>Sex</th><th scope=col>Age</th><th scope=col>SibSp</th><th scope=col>Parch</th><th scope=col>Ticket</th><th scope=col>Fare</th><th scope=col>Cabin</th><th scope=col>Embarked</th></tr></thead>\n",
       "<tbody>\n",
       "\t<tr><th scope=row>887</th><td>887                                     </td><td>0                                       </td><td>2                                       </td><td>Montvila, Rev. Juozas                   </td><td>male                                    </td><td>27                                      </td><td>0                                       </td><td>0                                       </td><td>211536                                  </td><td>13.00                                   </td><td>                                        </td><td>S                                       </td></tr>\n",
       "\t<tr><th scope=row>888</th><td>888                                     </td><td>1                                       </td><td>1                                       </td><td>Graham, Miss. Margaret Edith            </td><td>female                                  </td><td>19                                      </td><td>0                                       </td><td>0                                       </td><td>112053                                  </td><td>30.00                                   </td><td>B42                                     </td><td>S                                       </td></tr>\n",
       "\t<tr><th scope=row>889</th><td>889                                     </td><td>0                                       </td><td>3                                       </td><td>Johnston, Miss. Catherine Helen \"Carrie\"</td><td>female                                  </td><td>NA                                      </td><td>1                                       </td><td>2                                       </td><td>W./C. 6607                              </td><td>23.45                                   </td><td>                                        </td><td>S                                       </td></tr>\n",
       "\t<tr><th scope=row>890</th><td>890                                     </td><td>1                                       </td><td>1                                       </td><td>Behr, Mr. Karl Howell                   </td><td>male                                    </td><td>26                                      </td><td>0                                       </td><td>0                                       </td><td>111369                                  </td><td>30.00                                   </td><td>C148                                    </td><td>C                                       </td></tr>\n",
       "\t<tr><th scope=row>891</th><td>891                                     </td><td>0                                       </td><td>3                                       </td><td>Dooley, Mr. Patrick                     </td><td>male                                    </td><td>32                                      </td><td>0                                       </td><td>0                                       </td><td>370376                                  </td><td> 7.75                                   </td><td>                                        </td><td>Q                                       </td></tr>\n",
       "</tbody>\n",
       "</table>\n"
      ],
      "text/latex": [
       "\\begin{tabular}{r|llllllllllll}\n",
       "  & PassengerId & Survived & Pclass & Name & Sex & Age & SibSp & Parch & Ticket & Fare & Cabin & Embarked\\\\\n",
       "\\hline\n",
       "\t887 & 887                                      & 0                                        & 2                                        & Montvila, Rev. Juozas                    & male                                     & 27                                       & 0                                        & 0                                        & 211536                                   & 13.00                                    &                                          & S                                       \\\\\n",
       "\t888 & 888                                      & 1                                        & 1                                        & Graham, Miss. Margaret Edith             & female                                   & 19                                       & 0                                        & 0                                        & 112053                                   & 30.00                                    & B42                                      & S                                       \\\\\n",
       "\t889 & 889                                      & 0                                        & 3                                        & Johnston, Miss. Catherine Helen \"Carrie\" & female                                   & NA                                       & 1                                        & 2                                        & W./C. 6607                               & 23.45                                    &                                          & S                                       \\\\\n",
       "\t890 & 890                                      & 1                                        & 1                                        & Behr, Mr. Karl Howell                    & male                                     & 26                                       & 0                                        & 0                                        & 111369                                   & 30.00                                    & C148                                     & C                                       \\\\\n",
       "\t891 & 891                                      & 0                                        & 3                                        & Dooley, Mr. Patrick                      & male                                     & 32                                       & 0                                        & 0                                        & 370376                                   &  7.75                                    &                                          & Q                                       \\\\\n",
       "\\end{tabular}\n"
      ],
      "text/markdown": [
       "\n",
       "| <!--/--> | PassengerId | Survived | Pclass | Name | Sex | Age | SibSp | Parch | Ticket | Fare | Cabin | Embarked | \n",
       "|---|---|---|---|---|\n",
       "| 887 | 887                                      | 0                                        | 2                                        | Montvila, Rev. Juozas                    | male                                     | 27                                       | 0                                        | 0                                        | 211536                                   | 13.00                                    |                                          | S                                        | \n",
       "| 888 | 888                                      | 1                                        | 1                                        | Graham, Miss. Margaret Edith             | female                                   | 19                                       | 0                                        | 0                                        | 112053                                   | 30.00                                    | B42                                      | S                                        | \n",
       "| 889 | 889                                      | 0                                        | 3                                        | Johnston, Miss. Catherine Helen \"Carrie\" | female                                   | NA                                       | 1                                        | 2                                        | W./C. 6607                               | 23.45                                    |                                          | S                                        | \n",
       "| 890 | 890                                      | 1                                        | 1                                        | Behr, Mr. Karl Howell                    | male                                     | 26                                       | 0                                        | 0                                        | 111369                                   | 30.00                                    | C148                                     | C                                        | \n",
       "| 891 | 891                                      | 0                                        | 3                                        | Dooley, Mr. Patrick                      | male                                     | 32                                       | 0                                        | 0                                        | 370376                                   |  7.75                                    |                                          | Q                                        | \n",
       "\n",
       "\n"
      ],
      "text/plain": [
       "    PassengerId Survived Pclass Name                                     Sex   \n",
       "887 887         0        2      Montvila, Rev. Juozas                    male  \n",
       "888 888         1        1      Graham, Miss. Margaret Edith             female\n",
       "889 889         0        3      Johnston, Miss. Catherine Helen \"Carrie\" female\n",
       "890 890         1        1      Behr, Mr. Karl Howell                    male  \n",
       "891 891         0        3      Dooley, Mr. Patrick                      male  \n",
       "    Age SibSp Parch Ticket     Fare  Cabin Embarked\n",
       "887 27  0     0     211536     13.00       S       \n",
       "888 19  0     0     112053     30.00 B42   S       \n",
       "889 NA  1     2     W./C. 6607 23.45       S       \n",
       "890 26  0     0     111369     30.00 C148  C       \n",
       "891 32  0     0     370376      7.75       Q       "
      ]
     },
     "metadata": {},
     "output_type": "display_data"
    }
   ],
   "source": [
    "# Можно посмотреть на последние пять строк!\n",
    "tail(df, 5)"
   ]
  },
  {
   "cell_type": "code",
   "execution_count": 6,
   "metadata": {},
   "outputs": [
    {
     "name": "stdout",
     "output_type": "stream",
     "text": [
      "Observations: 891\n",
      "Variables: 12\n",
      "$ PassengerId <int> 1, 2, 3, 4, 5, 6, 7, 8, 9, 10, 11, 12, 13, 14, 15, 16, ...\n",
      "$ Survived    <int> 0, 1, 1, 1, 0, 0, 0, 0, 1, 1, 1, 1, 0, 0, 0, 1, 0, 1, 0...\n",
      "$ Pclass      <int> 3, 1, 3, 1, 3, 3, 1, 3, 3, 2, 3, 1, 3, 3, 3, 2, 3, 2, 3...\n",
      "$ Name        <fctr> Braund, Mr. Owen Harris, Cumings, Mrs. John Bradley (F...\n",
      "$ Sex         <fctr> male, female, female, female, male, male, male, male, ...\n",
      "$ Age         <dbl> 22, 38, 26, 35, 35, NA, 54, 2, 27, 14, 4, 58, 20, 39, 1...\n",
      "$ SibSp       <int> 1, 1, 0, 1, 0, 0, 0, 3, 0, 1, 1, 0, 0, 1, 0, 0, 4, 0, 1...\n",
      "$ Parch       <int> 0, 0, 0, 0, 0, 0, 0, 1, 2, 0, 1, 0, 0, 5, 0, 0, 1, 0, 0...\n",
      "$ Ticket      <fctr> A/5 21171, PC 17599, STON/O2. 3101282, 113803, 373450,...\n",
      "$ Fare        <dbl> 7.2500, 71.2833, 7.9250, 53.1000, 8.0500, 8.4583, 51.86...\n",
      "$ Cabin       <fctr> , C85, , C123, , , E46, , , , G6, C103, , , , , , , , ...\n",
      "$ Embarked    <fctr> S, C, S, S, S, Q, S, S, S, C, S, S, S, S, S, S, Q, S, ...\n"
     ]
    }
   ],
   "source": [
    "# Можно кинуть свой взор на таблицу и посмотреть какой тип у каких переменных \n",
    "glimpse(df)"
   ]
  },
  {
   "cell_type": "markdown",
   "metadata": {},
   "source": [
    "Давайте наконец выясним, что какая переменная обозначает.\n",
    "\n",
    "* Survived - выжил человек или нет, целевая переменная \n",
    "* Pclass - класс, в котором ехал человек \n",
    "* Name - имя человека \n",
    "* Sex - пол \n",
    "* Age - возраст \n",
    "* SibSp - сколько было на борту братьев, сестер, супругов на борту Титаника\n",
    "* Parch - число детей и родителей на борту Титаника \n",
    "* Ticket - номер билета \n",
    "* Fare - стоимость билета \n",
    "* Cabin - номер каюты \n",
    "* Embarked - порт посадки (C = Шербур, Q = Квинстаун, S = Саутгемптон) \n",
    "\n",
    "Часть из этих переменных являются действительными (возраст, цена билета), часть категориальными (класс, в котором плыл человек, пол человека). В выдаче от `glimse` числовые переменные обозначены как `<int>` и `<dbl>`. Для категориальных переменных у R есть свой специальный тип, `<fctr>`, факторный. Это бывает очень удобно при оценке моделей.\n",
    "\n",
    "Дело в том, что метод максимального правдоподобия (как в прочем и любые другие методы и модели) понимает только цифры. Напрмер, он не знает что такое `male` и `female` и не может посчитать от них среднее. Приходится придумывать способы перегнать такие переменные в цифры. В случае пола, например, можно обозначить всех мужчин единичками, а всех женщин нулями. Тогда итоговая модель, получая единичку, будет понимать, что c ней делать, а мы будем понимать, что она делает это с мужчинами. Такая переменная, принимающая два значения: ноль и один, называется __дамми-переменной.__\n",
    "\n",
    "В случае более сложных переменных, например порта посадки, возникает желание переобозначить Шербур за единички, Квинстаун за двойки, а Саутгемптон за тройку.  Это неправильный подход. Если так сделать, то алгоритмы будут дамать, что третий порт самый лучший, а первый самый плохой. Очень большой вопрос почему мы определили порядок портов именно так. Это запутает модель. Чтобы не путать алгоритм, поступают следующим образом: делают из категориальной переменной много дамми. Вот так:\n",
    "\n",
    "\n",
    "![ ]( )\n",
    "\n",
    "Если человек плыл из порта $C$, то у него в соответствующем столбце будет стоять единичка, а в остальных нули. По аналогии получится с другими портами. \n",
    "\n",
    "__Приятный бонус:__  Не нужно бороться с пропусками в данных. Для пропусков будет своя дамми и мы не потеряем информации. Такой способ работы с категориями называется One Hot Encoding. Дословно можно перевести как одно горячее кодирование.\n",
    "\n",
    "В чём минус одного горячего кодирования? Можно обжечься. Если категорий внутри переменной много, то мы переработаем её в слишком большое число столбцов. В конечном итоге это может привести к тому, что модели не хватит наблюдений, чтобы научиться в этом огромном числе столбцов ориентироваться.\n",
    "\n",
    "Есть и другие способы обработки категориальных переменных, но мы будем пользоваться этим. Он самый простой. Более того, тип переменной `<fctr>` позволяет делать это по дефолту без предобработки. Обратите внимание, что часть категориальных переменных, R воспринял как числовые. Это нужно исправить."
   ]
  },
  {
   "cell_type": "code",
   "execution_count": 7,
   "metadata": {},
   "outputs": [],
   "source": [
    "# команда mutate делает из выборки мутанта, изменяя её :)\n",
    "df <- mutate(df, Pclass=as.factor(Pclass), Survived=as.factor(Survived))"
   ]
  },
  {
   "cell_type": "markdown",
   "metadata": {},
   "source": [
    "На самом деле, на этом предобработка переменных не заканчивается, есть огромное количество тонкостей. Большую часть времени аналитики проводят, подготавливая данные. Меньшую часть, оценивая модели. Всем этим тонкостям посвящён курсы по машинному обучению и эконометрике. Мы же всё ещё в курсе матстата, поэтому в этом блокноте сосредоточимся на методе максимального правдоподобия. "
   ]
  },
  {
   "cell_type": "code",
   "execution_count": 41,
   "metadata": {},
   "outputs": [
    {
     "data": {
      "text/plain": [
       "      Age            SibSp           Parch             Fare       \n",
       " Min.   : 0.42   Min.   :0.000   Min.   :0.0000   Min.   :  0.00  \n",
       " 1st Qu.:20.12   1st Qu.:0.000   1st Qu.:0.0000   1st Qu.:  7.91  \n",
       " Median :28.00   Median :0.000   Median :0.0000   Median : 14.45  \n",
       " Mean   :29.70   Mean   :0.523   Mean   :0.3816   Mean   : 32.20  \n",
       " 3rd Qu.:38.00   3rd Qu.:1.000   3rd Qu.:0.0000   3rd Qu.: 31.00  \n",
       " Max.   :80.00   Max.   :8.000   Max.   :6.0000   Max.   :512.33  \n",
       " NA's   :177                                                      "
      ]
     },
     "metadata": {},
     "output_type": "display_data"
    }
   ],
   "source": [
    "# Выбросим неинтересные для нас переменные и посмотрим по интересным основную статистику\n",
    "\n",
    "variables <- c('Survived', 'Pclass', 'Sex', 'Age', 'SibSp', 'Parch', 'Fare')\n",
    "df = df[variables]\n",
    "\n",
    "summary(df[c( 'Age', 'SibSp', 'Parch', 'Fare')])"
   ]
  },
  {
   "cell_type": "code",
   "execution_count": 43,
   "metadata": {},
   "outputs": [
    {
     "data": {
      "text/plain": [
       " Survived Pclass      Sex     \n",
       " 0:549    1:216   female:314  \n",
       " 1:342    2:184   male  :577  \n",
       "          3:491               "
      ]
     },
     "metadata": {},
     "output_type": "display_data"
    }
   ],
   "source": [
    "summary(df[c('Survived', 'Pclass', 'Sex')])"
   ]
  },
  {
   "cell_type": "markdown",
   "metadata": {},
   "source": [
    "Разобьём выборку, как и планировали в самом начале, на тестовую и тренировочную. "
   ]
  },
  {
   "cell_type": "code",
   "execution_count": 44,
   "metadata": {},
   "outputs": [
    {
     "data": {
      "text/html": [
       "<ol class=list-inline>\n",
       "\t<li>736</li>\n",
       "\t<li>815</li>\n",
       "\t<li>800</li>\n",
       "\t<li>850</li>\n",
       "\t<li>323</li>\n",
       "\t<li>845</li>\n",
       "\t<li>111</li>\n",
       "\t<li>92</li>\n",
       "\t<li>6</li>\n",
       "\t<li>201</li>\n",
       "</ol>\n"
      ],
      "text/latex": [
       "\\begin{enumerate*}\n",
       "\\item 736\n",
       "\\item 815\n",
       "\\item 800\n",
       "\\item 850\n",
       "\\item 323\n",
       "\\item 845\n",
       "\\item 111\n",
       "\\item 92\n",
       "\\item 6\n",
       "\\item 201\n",
       "\\end{enumerate*}\n"
      ],
      "text/markdown": [
       "1. 736\n",
       "2. 815\n",
       "3. 800\n",
       "4. 850\n",
       "5. 323\n",
       "6. 845\n",
       "7. 111\n",
       "8. 92\n",
       "9. 6\n",
       "10. 201\n",
       "\n",
       "\n"
      ],
      "text/plain": [
       " [1] 736 815 800 850 323 845 111  92   6 201"
      ]
     },
     "metadata": {},
     "output_type": "display_data"
    }
   ],
   "source": [
    "RowIndex <- sample(1:nrow(df), round(0.8*nrow(df)))  # отбираем рандомные индексы для теста и трэйна\n",
    "RowIndex[1:10]"
   ]
  },
  {
   "cell_type": "code",
   "execution_count": 45,
   "metadata": {},
   "outputs": [],
   "source": [
    "df_train <- df[RowIndex, ]  # тренировчная будет состоять из 80% наблюдений\n",
    "df_test <- df[-RowIndex, ]  # тестовая будет состоять из 20%"
   ]
  },
  {
   "cell_type": "code",
   "execution_count": 46,
   "metadata": {},
   "outputs": [
    {
     "data": {
      "text/html": [
       "<ol class=list-inline>\n",
       "\t<li>713</li>\n",
       "\t<li>7</li>\n",
       "</ol>\n"
      ],
      "text/latex": [
       "\\begin{enumerate*}\n",
       "\\item 713\n",
       "\\item 7\n",
       "\\end{enumerate*}\n"
      ],
      "text/markdown": [
       "1. 713\n",
       "2. 7\n",
       "\n",
       "\n"
      ],
      "text/plain": [
       "[1] 713   7"
      ]
     },
     "metadata": {},
     "output_type": "display_data"
    },
    {
     "data": {
      "text/html": [
       "<ol class=list-inline>\n",
       "\t<li>178</li>\n",
       "\t<li>7</li>\n",
       "</ol>\n"
      ],
      "text/latex": [
       "\\begin{enumerate*}\n",
       "\\item 178\n",
       "\\item 7\n",
       "\\end{enumerate*}\n"
      ],
      "text/markdown": [
       "1. 178\n",
       "2. 7\n",
       "\n",
       "\n"
      ],
      "text/plain": [
       "[1] 178   7"
      ]
     },
     "metadata": {},
     "output_type": "display_data"
    }
   ],
   "source": [
    "dim(df_train)\n",
    "dim(df_test)"
   ]
  },
  {
   "cell_type": "markdown",
   "metadata": {},
   "source": [
    "# 3. Немного картинок\n",
    "\n",
    "Давайте построим пару визуализаций датасета и порассуждаем о том, что в нём происходит. "
   ]
  },
  {
   "cell_type": "code",
   "execution_count": 47,
   "metadata": {},
   "outputs": [],
   "source": [
    "# картинка с балансом между классами\n",
    "# матрица корреляций \n",
    "# распределение всех признаков "
   ]
  },
  {
   "cell_type": "code",
   "execution_count": 48,
   "metadata": {},
   "outputs": [
    {
     "name": "stderr",
     "output_type": "stream",
     "text": [
      "Warning message:\n",
      "“Removed 141 rows containing non-finite values (stat_ydensity).”"
     ]
    },
    {
     "data": {},
     "metadata": {},
     "output_type": "display_data"
    },
    {
     "data": {
      "image/png": "[encoded data removed]",
      "text/plain": [
       "plot without title"
      ]
     },
     "metadata": {},
     "output_type": "display_data"
    }
   ],
   "source": [
    "qplot(data=df_train,x=Survived,y=Age,geom=\"violin\")\n",
    "\n",
    "\n",
    "#если поделить пассажиров на выживших и не выживших\n",
    "#и отдожить по вертикали количественную переменную\n",
    "#а именно возраст, то мы видим что возраст меняется от\n",
    "# 0 до 80 и среди тех и других по возрастам распределение\n",
    "# примерно одинаковое."
   ]
  },
  {
   "cell_type": "code",
   "execution_count": 49,
   "metadata": {},
   "outputs": [
    {
     "name": "stderr",
     "output_type": "stream",
     "text": [
      "Warning message:\n",
      "“`position` is deprecated”Warning message:\n",
      "“Removed 141 rows containing non-finite values (stat_density).”"
     ]
    },
    {
     "data": {},
     "metadata": {},
     "output_type": "display_data"
    },
    {
     "data": {
      "image/png": "[encoded data removed]",
      "text/plain": [
       "plot without title"
      ]
     },
     "metadata": {},
     "output_type": "display_data"
    }
   ],
   "source": [
    "#Построим плотности выживших и невыживших на одном графике. \n",
    "qplot(data=df_train, x=Age, y=..count.., fill=Survived, geom=\"density\", position=\"stack\")\n",
    "#                             количество    закраска                    как расположены     \n",
    "#                             наблюдений    в соотв.                    накапливаются по   \n",
    "#                             комп сам      выжил или нет               вертикали\n"
   ]
  },
  {
   "cell_type": "markdown",
   "metadata": {},
   "source": [
    "Все эти закономерности надо каким-то образом учесть, при оценивании вероятности выживания. Ещё больше картинок можно найти [в статье по титанику на хабре.](https://habr.com/company/mlclass/blog/270973/)"
   ]
  },
  {
   "cell_type": "markdown",
   "metadata": {},
   "source": [
    "# 4. Оцениваем модель!\n",
    "\n",
    "## 4.1 Данные? Какие данные?\n",
    "\n",
    "На первои шаге забудем про все переменные, кроме выживаемости. Вытащим из таблицы только колонку из нулей и единиц, где $1$ означает, что человек выжил, а $0$, что нет. По этой колонке нам хотелось бы оценить вероятность выживания. До сегодняшнего дня мы делали это следущим способом:\n",
    "\n",
    "$$\n",
    "L = p \\cdot p \\cdot \\ldots \\cdot p \\cdot (1-p) \\cdot (1-p) \\cdot \\ldots \\cdot (1-p) = p^{\\sum_{i=1}^n y_i} \\cdot (1-p)^{n- \\sum_{i=1}^n y_i}.\n",
    "$$\n",
    "\n",
    "Прологорифмировав, мы получали функцию для оптимизации:\n",
    "\n",
    "$$\n",
    "\\ln L = \\sum_{i=1}^n y_i \\ln p + (n- \\sum_{i=1}^n y_i) (1-p).\n",
    "$$"
   ]
  },
  {
   "cell_type": "markdown",
   "metadata": {},
   "source": [
    "Немного технических сложностей. Помните, мы сделали переменную `Survived` факторной?"
   ]
  },
  {
   "cell_type": "code",
   "execution_count": 50,
   "metadata": {},
   "outputs": [
    {
     "name": "stdout",
     "output_type": "stream",
     "text": [
      " Factor w/ 2 levels \"0\",\"1\": 1 1 1 2 2 1 1 1 1 1 ...\n"
     ]
    }
   ],
   "source": [
    "str(df_train$Survived)"
   ]
  },
  {
   "cell_type": "markdown",
   "metadata": {},
   "source": [
    "Если мы захотим работать с ней не в рамках готовых для моделирования пакетов, начнут возникать проблемы."
   ]
  },
  {
   "cell_type": "code",
   "execution_count": 51,
   "metadata": {},
   "outputs": [
    {
     "name": "stderr",
     "output_type": "stream",
     "text": [
      "Warning message in mean.default(df_train$Survived):\n",
      "“argument is not numeric or logical: returning NA”"
     ]
    },
    {
     "data": {
      "text/html": [
       "&lt;NA&gt;"
      ],
      "text/latex": [
       "<NA>"
      ],
      "text/markdown": [
       "&lt;NA&gt;"
      ],
      "text/plain": [
       "[1] NA"
      ]
     },
     "metadata": {},
     "output_type": "display_data"
    }
   ],
   "source": [
    "mean(df_train$Survived)"
   ]
  },
  {
   "cell_type": "markdown",
   "metadata": {},
   "source": [
    "Давайте до поры, до времени, вернём нашей переменной числовой тип. Если мы сделаем это командой `as.numeric` от столбца, на метсо нулей и единиц подставятся номера категорий (факторов). В данном случае, либо первая, либо вторая. Это плохо, потому что изначально категории были закодированы нулями и единицами."
   ]
  },
  {
   "cell_type": "code",
   "execution_count": 52,
   "metadata": {},
   "outputs": [
    {
     "name": "stdout",
     "output_type": "stream",
     "text": [
      " Factor w/ 2 levels \"0\",\"1\": 1 1 1 2 2 1 1 1 1 1 ...\n",
      " num(0) \n"
     ]
    }
   ],
   "source": [
    "str(as.numeric(str(df_train$Survived)))"
   ]
  },
  {
   "cell_type": "markdown",
   "metadata": {},
   "source": [
    "Чтобы избежать этого, придётся сделать переменную сначала тектсовой, потом уже числовой."
   ]
  },
  {
   "cell_type": "code",
   "execution_count": 53,
   "metadata": {},
   "outputs": [
    {
     "name": "stdout",
     "output_type": "stream",
     "text": [
      " num [1:713] 0 0 0 1 1 0 0 0 0 0 ...\n"
     ]
    }
   ],
   "source": [
    "str(as.numeric(as.character(df_train$Survived)))"
   ]
  },
  {
   "cell_type": "markdown",
   "metadata": {},
   "source": [
    "Это была малоприятная техническая деталь, которая обычно взрывает мозг многим ребятам, которые впервые работают в R с таблицами. Поэтому я решил это тут показать. Пришло время вбить функцию логарифма правдоподобия и посмотреть на пару её значений в разных точках."
   ]
  },
  {
   "cell_type": "code",
   "execution_count": 54,
   "metadata": {
    "scrolled": false
   },
   "outputs": [
    {
     "data": {
      "text/html": [
       "-1.07944154167984"
      ],
      "text/latex": [
       "-1.07944154167984"
      ],
      "text/markdown": [
       "-1.07944154167984"
      ],
      "text/plain": [
       "[1] -1.079442"
      ]
     },
     "metadata": {},
     "output_type": "display_data"
    },
    {
     "data": {
      "text/html": [
       "31.9639668876949"
      ],
      "text/latex": [
       "31.9639668876949"
      ],
      "text/markdown": [
       "31.9639668876949"
      ],
      "text/plain": [
       "[1] 31.96397"
      ]
     },
     "metadata": {},
     "output_type": "display_data"
    }
   ],
   "source": [
    "# вернём пока что числовой тип целевой переменной \n",
    "df_train = mutate(df_train, Survived = as.numeric(as.character(Survived)))\n",
    "\n",
    "y_sur = df_train$Survived\n",
    "\n",
    "lnL <- function(p,y){\n",
    "    ans <- sum(y)*log(p) + (length(y) - sum(y))*(1-p)\n",
    "  return(ans)\n",
    "}\n",
    "\n",
    "lnL(0.5, c(1,0,1,0,1))\n",
    "lnL(0.5, y_sur)"
   ]
  },
  {
   "cell_type": "markdown",
   "metadata": {},
   "source": [
    "Оптимизируем! "
   ]
  },
  {
   "cell_type": "code",
   "execution_count": 55,
   "metadata": {},
   "outputs": [
    {
     "data": {
      "text/plain": [
       "--------------------------------------------\n",
       "Maximum Likelihood estimation\n",
       "Newton-Raphson maximisation, 4 iterations\n",
       "Return code 1: gradient close to zero\n",
       "Log-Likelihood: 37.55796 \n",
       "1  free parameters\n",
       "Estimates:\n",
       "     Estimate Std. error t value Pr(> t)    \n",
       "[1,]   0.6168     0.0374   16.49  <2e-16 ***\n",
       "---\n",
       "Signif. codes:  0 ‘***’ 0.001 ‘**’ 0.01 ‘*’ 0.05 ‘.’ 0.1 ‘ ’ 1\n",
       "--------------------------------------------"
      ]
     },
     "metadata": {},
     "output_type": "display_data"
    }
   ],
   "source": [
    "res <- maxLik(lnL, start=0.5, y = y_sur) # какую стартовую точку взять? \n",
    "summary(res)                             # 0.5 это логично для оценки вероятности "
   ]
  },
  {
   "cell_type": "code",
   "execution_count": 56,
   "metadata": {},
   "outputs": [
    {
     "data": {
      "text/html": [
       "0.38148667601683"
      ],
      "text/latex": [
       "0.38148667601683"
      ],
      "text/markdown": [
       "0.38148667601683"
      ],
      "text/plain": [
       "[1] 0.3814867"
      ]
     },
     "metadata": {},
     "output_type": "display_data"
    }
   ],
   "source": [
    "mean(y_sur)  # всё ок! :) Получили ожидаемый результат."
   ]
  },
  {
   "cell_type": "markdown",
   "metadata": {},
   "source": [
    "Для того, чтобы в дальнейшем нам было удобно сопоставлять разные формулы, давайте перепишем уже полученное выше правдоподобие немного иначе и прологарифмируем\n",
    "\n",
    "$$\n",
    "L = \\prod_{i=1}^{n} p^{y_i} (1-p)^{1-y_i}\n",
    "$$\n",
    "\n",
    "$$\n",
    "\\ln L = \\sum_{i=1}^n [y_i \\ln p + (1-y_i) \\ln(1-p)].\n",
    "$$\n",
    "\n",
    "## 4.2 Линейная вероятностная модель\n",
    "\n",
    "Итак, что только что произошло? Мы получили вероятность того, что человек выживет на титанике. Она для каждого из нас равна $0.38$. На интуитивном уровне сразу же понятно, что это очень плохая оценка. Она никак не учитывает в себе, что люди бывают разными.\n",
    "\n",
    "На картинках выше, мы с вами увидели, что для женщин вероятность выжить намного больше, чем для мужчин. Было бы неплохо оценить для мужчин свою вероятность, а для женщин свою. Мы, зная, что $\\hat p_{ML} = \\bar x$, легко можем сделать это. Заодно изучим прикольный приём под названием __трубочка.__  Если мы хотим взять синус от числа, а потом прологорифмировать, мы можем сделать это так:"
   ]
  },
  {
   "cell_type": "code",
   "execution_count": 57,
   "metadata": {},
   "outputs": [
    {
     "data": {
      "text/html": [
       "-0.0106987817830851"
      ],
      "text/latex": [
       "-0.0106987817830851"
      ],
      "text/markdown": [
       "-0.0106987817830851"
      ],
      "text/plain": [
       "[1] -0.01069878"
      ]
     },
     "metadata": {},
     "output_type": "display_data"
    }
   ],
   "source": [
    "log(sin(8))"
   ]
  },
  {
   "cell_type": "markdown",
   "metadata": {},
   "source": [
    "Если мы хотим от этого взять ещё косинус, то слева нужно дописать новую функцию."
   ]
  },
  {
   "cell_type": "code",
   "execution_count": 58,
   "metadata": {},
   "outputs": [
    {
     "data": {
      "text/html": [
       "0.999942768580093"
      ],
      "text/latex": [
       "0.999942768580093"
      ],
      "text/markdown": [
       "0.999942768580093"
      ],
      "text/plain": [
       "[1] 0.9999428"
      ]
     },
     "metadata": {},
     "output_type": "display_data"
    }
   ],
   "source": [
    "cos(log(sin(8)))"
   ]
  },
  {
   "cell_type": "markdown",
   "metadata": {},
   "source": [
    "Постоянно надо будет плодить новые скобки и ... это не удобно. Легко забыть или запутаться. Особенно когда ты работаешь с таблицами. Для того, чтобы не путаться, внутри пакета `dplyr` лежит трубочка: удобная опирация для последовательных дйствий."
   ]
  },
  {
   "cell_type": "code",
   "execution_count": 59,
   "metadata": {},
   "outputs": [
    {
     "data": {
      "text/html": [
       "0.999942768580093"
      ],
      "text/latex": [
       "0.999942768580093"
      ],
      "text/markdown": [
       "0.999942768580093"
      ],
      "text/plain": [
       "[1] 0.9999428"
      ]
     },
     "metadata": {},
     "output_type": "display_data"
    }
   ],
   "source": [
    "8 %>% sin %>% log %>% cos"
   ]
  },
  {
   "cell_type": "markdown",
   "metadata": {},
   "source": [
    "Это выглядит так как будто мы берём число $5$ и пропускаем его через трубочку по очереди в каждую функцию. Никаких скобок и удобно. Обычно трубочками работают с таблицами. Например, ниже мы отфильтровали в таблице все строки с мужчинами, а затем посчитали среднее по колонке `Survived`."
   ]
  },
  {
   "cell_type": "code",
   "execution_count": 60,
   "metadata": {},
   "outputs": [
    {
     "data": {
      "text/html": [
       "<table>\n",
       "<thead><tr><th scope=col>male_p</th></tr></thead>\n",
       "<tbody>\n",
       "\t<tr><td>0.187905</td></tr>\n",
       "</tbody>\n",
       "</table>\n"
      ],
      "text/latex": [
       "\\begin{tabular}{r|l}\n",
       " male\\_p\\\\\n",
       "\\hline\n",
       "\t 0.187905\\\\\n",
       "\\end{tabular}\n"
      ],
      "text/markdown": [
       "\n",
       "male_p | \n",
       "|---|\n",
       "| 0.187905 | \n",
       "\n",
       "\n"
      ],
      "text/plain": [
       "  male_p  \n",
       "1 0.187905"
      ]
     },
     "metadata": {},
     "output_type": "display_data"
    },
    {
     "data": {
      "text/html": [
       "<table>\n",
       "<thead><tr><th scope=col>female_p</th></tr></thead>\n",
       "<tbody>\n",
       "\t<tr><td>0.74</td></tr>\n",
       "</tbody>\n",
       "</table>\n"
      ],
      "text/latex": [
       "\\begin{tabular}{r|l}\n",
       " female\\_p\\\\\n",
       "\\hline\n",
       "\t 0.74\\\\\n",
       "\\end{tabular}\n"
      ],
      "text/markdown": [
       "\n",
       "female_p | \n",
       "|---|\n",
       "| 0.74 | \n",
       "\n",
       "\n"
      ],
      "text/plain": [
       "  female_p\n",
       "1 0.74    "
      ]
     },
     "metadata": {},
     "output_type": "display_data"
    }
   ],
   "source": [
    "df_train %>% filter(Sex == 'male') %>% summarise(male_p = mean(Survived))\n",
    "df_train %>% filter(Sex == 'female') %>% summarise(female_p = mean(Survived))"
   ]
  },
  {
   "cell_type": "markdown",
   "metadata": {},
   "source": [
    "Такая оценка будет намного лучше нашей первой. Но стоит ли останавливаться на этом? Нет! Идея требует своего развития. Кажется, что вероятность выжить это функция от всех параметров, которыми обладает человек\n",
    "\n",
    "$$p = F(age, sex, ...).$$ \n",
    "\n",
    "Предположим, что она линейная, то есть каждый фактор, пол, возраст и тп, взвешиваются с какими-то весами, $\\beta$, и получается вероятность\n",
    "\n",
    "$$p = \\beta_0 + \\beta_1 sex + \\beta_2 age + \\ldots.$$\n",
    "\n",
    "Например, как мы уже выяснили, женщины выживают чаще мужчин, более старые люди выживают редко. Возможно, что $p = 0.2*sex - 0.01 age_i$. Тогда получится, что если переменная $sex$ принимает значение $1$, вероятность выжить подскакивает на $0.2$. При этом, с каждым прожитым годом, вероятность выжить падает. Осталось только понять откуда взять эти две бэты.  \n",
    "\n",
    "Найти методом максимального правдоподобия! Берём и заменям в нашей изначальной формуле все $p$ на $F(x)$ и занимаемся её оптимизацией по параметрам $\\beta$\n",
    "\n",
    "$$\n",
    "\\ln L = \\sum_{i=1}^n [y_i \\ln F(x_i) + (1-y_i) \\ln(1-F(x_i))].\n",
    "$$\n",
    "\n",
    "Попробуем для начала сделать это только с полом:\n",
    "\n",
    "$$\n",
    "\\ln L = \\sum_{i=1}^n [y_i \\ln (\\beta_0 + \\beta_1 sex_i) + (1-y_i) \\ln(1-(\\beta_0 + \\beta_1 sex_i))].\n",
    "$$"
   ]
  },
  {
   "cell_type": "markdown",
   "metadata": {},
   "source": [
    "В каждом слагаемом находится своё уникальное значение $sex_i$. Из-за этого у нас не получится так просто вбить функцию правдоподобия, как мы сделали это выше. Хорошо, что у нас есть матрицы и линал, которые помогут :) Предположим, что у нас есть вот такая вот табличка из четырёх наблюдений: \n",
    "\n",
    "$$\n",
    "X = \\begin{pmatrix} 1 & sex_1 \\\\ 1 & sex_2 \\\\ 1 & sex_3 \\\\ 1 & sex_4 \\end{pmatrix} \n",
    "$$"
   ]
  },
  {
   "cell_type": "markdown",
   "metadata": {},
   "source": [
    "Во втором столбике записано то, какого пола каждый человек. В первом столбике написаны единички. Это небольшой технический приём, чтобы получить потом $\\beta_0$. Запишем вектор из $\\beta$ в виде столбика:\n",
    "\n",
    "$$\n",
    "\\beta = \\begin{pmatrix} \\beta_0 \\\\ \\beta_1 \\end{pmatrix}\n",
    "$$"
   ]
  },
  {
   "cell_type": "markdown",
   "metadata": {},
   "source": [
    "Тогда если мы перемножим матрицу $X$ и столбик $\\beta$, то мы получим \n",
    "\n",
    "$$\n",
    "X \\cdot \\beta = \\begin{pmatrix} \\beta_0 + \\beta_1 sex_1 \\\\ \\beta_0 + \\beta_1 sex_2 \\\\ \\beta_0 + \\beta_1 sex_3 \\\\\\beta_0 + \\beta_1 sex_4 \\end{pmatrix}\n",
    "$$"
   ]
  },
  {
   "cell_type": "markdown",
   "metadata": {},
   "source": [
    "Домножим каждой слагаемое на свой $y_i$, тогда: \n",
    "\n",
    "$$\n",
    "y*X \\cdot \\beta = \\begin{pmatrix} y_1 \\cdot(\\beta_0 + \\beta_1 sex_1) \\\\ y_2 \\cdot(\\beta_0 + \\beta_1 sex_2) \\\\ y_3 \\cdot(\\beta_0 + \\beta_1 sex_3) \\\\ y_4 \\cdot(\\beta_0 + \\beta_1 sex_4) \\end{pmatrix}\n",
    "$$\n",
    "\n",
    "Если мы просуммируем всё это, то получим первый кусочек суммы. Аналогично можно получить второй кусочек. Давайте вобьём это в R."
   ]
  },
  {
   "cell_type": "code",
   "execution_count": 61,
   "metadata": {},
   "outputs": [
    {
     "data": {
      "text/html": [
       "<table>\n",
       "<tbody>\n",
       "\t<tr><td>1        </td><td>0.2548366</td></tr>\n",
       "\t<tr><td>1        </td><td>0.1412458</td></tr>\n",
       "\t<tr><td>1        </td><td>0.3679176</td></tr>\n",
       "\t<tr><td>1        </td><td>0.3228432</td></tr>\n",
       "\t<tr><td>1        </td><td>0.1873537</td></tr>\n",
       "</tbody>\n",
       "</table>\n"
      ],
      "text/latex": [
       "\\begin{tabular}{ll}\n",
       "\t 1         & 0.2548366\\\\\n",
       "\t 1         & 0.1412458\\\\\n",
       "\t 1         & 0.3679176\\\\\n",
       "\t 1         & 0.3228432\\\\\n",
       "\t 1         & 0.1873537\\\\\n",
       "\\end{tabular}\n"
      ],
      "text/markdown": [
       "\n",
       "| 1         | 0.2548366 | \n",
       "| 1         | 0.1412458 | \n",
       "| 1         | 0.3679176 | \n",
       "| 1         | 0.3228432 | \n",
       "| 1         | 0.1873537 | \n",
       "\n",
       "\n"
      ],
      "text/plain": [
       "     [,1] [,2]     \n",
       "[1,] 1    0.2548366\n",
       "[2,] 1    0.1412458\n",
       "[3,] 1    0.3679176\n",
       "[4,] 1    0.3228432\n",
       "[5,] 1    0.1873537"
      ]
     },
     "metadata": {},
     "output_type": "display_data"
    }
   ],
   "source": [
    "X <- cbind(1,runif(5))  # cbind объединяет столбики\n",
    "X # матрица из наблюдений"
   ]
  },
  {
   "cell_type": "code",
   "execution_count": 62,
   "metadata": {},
   "outputs": [
    {
     "data": {
      "text/html": [
       "<ol class=list-inline>\n",
       "\t<li>2</li>\n",
       "\t<li>4</li>\n",
       "</ol>\n"
      ],
      "text/latex": [
       "\\begin{enumerate*}\n",
       "\\item 2\n",
       "\\item 4\n",
       "\\end{enumerate*}\n"
      ],
      "text/markdown": [
       "1. 2\n",
       "2. 4\n",
       "\n",
       "\n"
      ],
      "text/plain": [
       "[1] 2 4"
      ]
     },
     "metadata": {},
     "output_type": "display_data"
    }
   ],
   "source": [
    "b <- c(2, 4)\n",
    "b # вектор из параметров"
   ]
  },
  {
   "cell_type": "code",
   "execution_count": 63,
   "metadata": {},
   "outputs": [
    {
     "data": {
      "text/html": [
       "<table>\n",
       "<tbody>\n",
       "\t<tr><td>3.019346</td></tr>\n",
       "\t<tr><td>2.564983</td></tr>\n",
       "\t<tr><td>3.471670</td></tr>\n",
       "\t<tr><td>3.291373</td></tr>\n",
       "\t<tr><td>2.749415</td></tr>\n",
       "</tbody>\n",
       "</table>\n"
      ],
      "text/latex": [
       "\\begin{tabular}{l}\n",
       "\t 3.019346\\\\\n",
       "\t 2.564983\\\\\n",
       "\t 3.471670\\\\\n",
       "\t 3.291373\\\\\n",
       "\t 2.749415\\\\\n",
       "\\end{tabular}\n"
      ],
      "text/markdown": [
       "\n",
       "| 3.019346 | \n",
       "| 2.564983 | \n",
       "| 3.471670 | \n",
       "| 3.291373 | \n",
       "| 2.749415 | \n",
       "\n",
       "\n"
      ],
      "text/plain": [
       "     [,1]    \n",
       "[1,] 3.019346\n",
       "[2,] 2.564983\n",
       "[3,] 3.471670\n",
       "[4,] 3.291373\n",
       "[5,] 2.749415"
      ]
     },
     "metadata": {},
     "output_type": "display_data"
    }
   ],
   "source": [
    "X%*%b  # матричное умножение "
   ]
  },
  {
   "cell_type": "code",
   "execution_count": 64,
   "metadata": {},
   "outputs": [
    {
     "data": {
      "text/html": [
       "<table>\n",
       "<tbody>\n",
       "\t<tr><td>0.000000</td></tr>\n",
       "\t<tr><td>0.941952</td></tr>\n",
       "\t<tr><td>0.000000</td></tr>\n",
       "\t<tr><td>1.191305</td></tr>\n",
       "\t<tr><td>1.011388</td></tr>\n",
       "</tbody>\n",
       "</table>\n"
      ],
      "text/latex": [
       "\\begin{tabular}{l}\n",
       "\t 0.000000\\\\\n",
       "\t 0.941952\\\\\n",
       "\t 0.000000\\\\\n",
       "\t 1.191305\\\\\n",
       "\t 1.011388\\\\\n",
       "\\end{tabular}\n"
      ],
      "text/markdown": [
       "\n",
       "| 0.000000 | \n",
       "| 0.941952 | \n",
       "| 0.000000 | \n",
       "| 1.191305 | \n",
       "| 1.011388 | \n",
       "\n",
       "\n"
      ],
      "text/plain": [
       "     [,1]    \n",
       "[1,] 0.000000\n",
       "[2,] 0.941952\n",
       "[3,] 0.000000\n",
       "[4,] 1.191305\n",
       "[5,] 1.011388"
      ]
     },
     "metadata": {},
     "output_type": "display_data"
    }
   ],
   "source": [
    "y <- c(0,1,0,1,1)\n",
    "y*log(X%*%b)   # домножаем поэлементно на соответствующие игреки и получаем первое слагаемое "
   ]
  },
  {
   "cell_type": "code",
   "execution_count": 65,
   "metadata": {},
   "outputs": [
    {
     "name": "stderr",
     "output_type": "stream",
     "text": [
      "Warning message in log(1 - X %*% b):\n",
      "“созданы NaN”"
     ]
    },
    {
     "data": {
      "text/html": [
       "<table>\n",
       "<tbody>\n",
       "\t<tr><td>NaN</td></tr>\n",
       "\t<tr><td>NaN</td></tr>\n",
       "\t<tr><td>NaN</td></tr>\n",
       "\t<tr><td>NaN</td></tr>\n",
       "\t<tr><td>NaN</td></tr>\n",
       "</tbody>\n",
       "</table>\n"
      ],
      "text/latex": [
       "\\begin{tabular}{l}\n",
       "\t NaN\\\\\n",
       "\t NaN\\\\\n",
       "\t NaN\\\\\n",
       "\t NaN\\\\\n",
       "\t NaN\\\\\n",
       "\\end{tabular}\n"
      ],
      "text/markdown": [
       "\n",
       "| NaN | \n",
       "| NaN | \n",
       "| NaN | \n",
       "| NaN | \n",
       "| NaN | \n",
       "\n",
       "\n"
      ],
      "text/plain": [
       "     [,1]\n",
       "[1,] NaN \n",
       "[2,] NaN \n",
       "[3,] NaN \n",
       "[4,] NaN \n",
       "[5,] NaN "
      ]
     },
     "metadata": {},
     "output_type": "display_data"
    }
   ],
   "source": [
    "(1-y)*log(1 - X%*%b)  # при поиске второго слагаемого возникли проблемы :("
   ]
  },
  {
   "cell_type": "code",
   "execution_count": 66,
   "metadata": {},
   "outputs": [
    {
     "data": {
      "text/html": [
       "<table>\n",
       "<tbody>\n",
       "\t<tr><td>-2.019346</td></tr>\n",
       "\t<tr><td>-1.564983</td></tr>\n",
       "\t<tr><td>-2.471670</td></tr>\n",
       "\t<tr><td>-2.291373</td></tr>\n",
       "\t<tr><td>-1.749415</td></tr>\n",
       "</tbody>\n",
       "</table>\n"
      ],
      "text/latex": [
       "\\begin{tabular}{l}\n",
       "\t -2.019346\\\\\n",
       "\t -1.564983\\\\\n",
       "\t -2.471670\\\\\n",
       "\t -2.291373\\\\\n",
       "\t -1.749415\\\\\n",
       "\\end{tabular}\n"
      ],
      "text/markdown": [
       "\n",
       "| -2.019346 | \n",
       "| -1.564983 | \n",
       "| -2.471670 | \n",
       "| -2.291373 | \n",
       "| -1.749415 | \n",
       "\n",
       "\n"
      ],
      "text/plain": [
       "     [,1]     \n",
       "[1,] -2.019346\n",
       "[2,] -1.564983\n",
       "[3,] -2.471670\n",
       "[4,] -2.291373\n",
       "[5,] -1.749415"
      ]
     },
     "metadata": {},
     "output_type": "display_data"
    }
   ],
   "source": [
    "# Откуда проблемы? Отрицательные числа под логарифмами. \n",
    "1 - X%*%b"
   ]
  },
  {
   "cell_type": "code",
   "execution_count": 67,
   "metadata": {},
   "outputs": [
    {
     "data": {
      "text/html": [
       "-1.39020826044103"
      ],
      "text/latex": [
       "-1.39020826044103"
      ],
      "text/markdown": [
       "-1.39020826044103"
      ],
      "text/plain": [
       "[1] -1.390208"
      ]
     },
     "metadata": {},
     "output_type": "display_data"
    }
   ],
   "source": [
    "# Итоговое правдоподобие выглядело бы вот так:\n",
    "\n",
    "lnL <- function(beta,y,X){\n",
    "    ans <- sum(y*log(X%*%b) + (1-y)*log(1 - X%*%b))\n",
    "  return(ans)\n",
    "}\n",
    "\n",
    "# Можно даже подбрать ситуации, когда с ним всё окей и нет ошибок:\n",
    "y <- c(0,1)\n",
    "X <- cbind(1,c(1/16,1/16))\n",
    "b <- c(0.5,0.5)\n",
    "lnL(b,y,X)"
   ]
  },
  {
   "cell_type": "markdown",
   "metadata": {},
   "source": [
    "Когда мы предположили, что $p = \\beta_0 + \\beta_1 sex_i$, мы оказались неправы. Наш главный косяк был в том, что вероятность должна принимать значения от нуля до единицы. При предположенной нами зависимости, возникают ситуации, когда она пробивает этот диапазон. Из-за этого под логарифм попадают отрицательные числа и вся концепция рушится. Нужно исправить это.\n",
    "\n",
    "\n",
    "\n",
    "\n",
    "\n",
    "\n",
    "\n"
   ]
  },
  {
   "cell_type": "code",
   "execution_count": null,
   "metadata": {},
   "outputs": [],
   "source": []
  },
  {
   "cell_type": "code",
   "execution_count": null,
   "metadata": {},
   "outputs": [],
   "source": []
  },
  {
   "cell_type": "markdown",
   "metadata": {},
   "source": [
    "$$\n",
    "\\ln L = \\sum_{i=1}^n [y_i \\ln (\\beta_0 + \\beta_1 sex_i) + (1-y_i) \\ln(1-(\\beta_0 + \\beta_1 sex_i))].\n",
    "$$"
   ]
  },
  {
   "cell_type": "code",
   "execution_count": null,
   "metadata": {},
   "outputs": [],
   "source": []
  },
  {
   "cell_type": "code",
   "execution_count": 68,
   "metadata": {},
   "outputs": [
    {
     "data": {
      "text/html": [
       "0.993307149075715"
      ],
      "text/latex": [
       "0.993307149075715"
      ],
      "text/markdown": [
       "0.993307149075715"
      ],
      "text/plain": [
       "[1] 0.9933071"
      ]
     },
     "metadata": {},
     "output_type": "display_data"
    }
   ],
   "source": [
    "sigmoid <- function(z){\n",
    "    return(exp(z)/(1 + exp(z)))\n",
    "}\n",
    "\n",
    "sigmoid(5)"
   ]
  },
  {
   "cell_type": "code",
   "execution_count": 69,
   "metadata": {},
   "outputs": [
    {
     "data": {
      "text/html": [
       "-1.45603657926966"
      ],
      "text/latex": [
       "-1.45603657926966"
      ],
      "text/markdown": [
       "-1.45603657926966"
      ],
      "text/plain": [
       "[1] -1.456037"
      ]
     },
     "metadata": {},
     "output_type": "display_data"
    }
   ],
   "source": [
    "lnL <- function(b, y, X){\n",
    "    answ = sum(y*log(sigmoid(-1*X%*%b)) + (1-y)*log(1 - sigmoid(-1*X%*%b)))\n",
    "    return(answ)\n",
    "}\n",
    "\n",
    "y <- c(0,1)\n",
    "X <- cbind(1,c(1/16,1/16))\n",
    "b <- c(0.5,0.5)\n",
    "lnL(b,y,X)"
   ]
  },
  {
   "cell_type": "code",
   "execution_count": 70,
   "metadata": {},
   "outputs": [
    {
     "data": {
      "text/html": [
       "-443.059407365964"
      ],
      "text/latex": [
       "-443.059407365964"
      ],
      "text/markdown": [
       "-443.059407365964"
      ],
      "text/plain": [
       "[1] -443.0594"
      ]
     },
     "metadata": {},
     "output_type": "display_data"
    }
   ],
   "source": [
    "# Пол нужно сделать числовым вида 1 - мужчины, 0 - женщины\n",
    "X = cbind(1, as.numeric(df_train$Sex) - 1)\n",
    "lnL(b,y_sur,X)"
   ]
  },
  {
   "cell_type": "code",
   "execution_count": 71,
   "metadata": {},
   "outputs": [
    {
     "data": {
      "text/plain": [
       "--------------------------------------------\n",
       "Maximum Likelihood estimation\n",
       "Newton-Raphson maximisation, 4 iterations\n",
       "Return code 1: gradient close to zero\n",
       "Log-Likelihood: -366.9723 \n",
       "2  free parameters\n",
       "Estimates:\n",
       "     Estimate Std. error t value  Pr(> t)    \n",
       "[1,]  -1.0460     0.1443  -7.249 4.19e-13 ***\n",
       "[2,]   2.5096     0.1870  13.420  < 2e-16 ***\n",
       "---\n",
       "Signif. codes:  0 ‘***’ 0.001 ‘**’ 0.01 ‘*’ 0.05 ‘.’ 0.1 ‘ ’ 1\n",
       "--------------------------------------------"
      ]
     },
     "metadata": {},
     "output_type": "display_data"
    }
   ],
   "source": [
    "res <- maxLik(lnL, start=c(0.5,0.5), y = y_sur, X = X)  \n",
    "summary(res)                                    "
   ]
  },
  {
   "cell_type": "code",
   "execution_count": 72,
   "metadata": {},
   "outputs": [
    {
     "data": {
      "text/plain": [
       "--------------------------------------------\n",
       "Maximum Likelihood estimation\n",
       "Newton-Raphson maximisation, 0 iterations\n",
       "Return code 100: Initial value out of range.\n",
       "--------------------------------------------"
      ]
     },
     "metadata": {},
     "output_type": "display_data"
    }
   ],
   "source": [
    "# Пол нужно сделать числовым вида 1 - мужчины, 0 - женщины\n",
    "X = cbind(1, as.numeric(df_train$Sex) - 1, df_train$Age)\n",
    "\n",
    "res <- maxLik(lnL, start=c(0.5,0.5,2), y = y_sur, X = X)  \n",
    "summary(res)    "
   ]
  },
  {
   "cell_type": "code",
   "execution_count": 73,
   "metadata": {},
   "outputs": [
    {
     "data": {
      "text/html": [
       "<table>\n",
       "<tbody>\n",
       "\t<tr><td>1   </td><td>1   </td><td>28.5</td></tr>\n",
       "\t<tr><td>1   </td><td>1   </td><td>30.5</td></tr>\n",
       "\t<tr><td>1   </td><td>0   </td><td>30.0</td></tr>\n",
       "\t<tr><td>1   </td><td>0   </td><td>  NA</td></tr>\n",
       "\t<tr><td>1   </td><td>0   </td><td>30.0</td></tr>\n",
       "\t<tr><td>1   </td><td>1   </td><td>17.0</td></tr>\n",
       "\t<tr><td>1   </td><td>1   </td><td>47.0</td></tr>\n",
       "</tbody>\n",
       "</table>\n"
      ],
      "text/latex": [
       "\\begin{tabular}{lll}\n",
       "\t 1    & 1    & 28.5\\\\\n",
       "\t 1    & 1    & 30.5\\\\\n",
       "\t 1    & 0    & 30.0\\\\\n",
       "\t 1    & 0    &   NA\\\\\n",
       "\t 1    & 0    & 30.0\\\\\n",
       "\t 1    & 1    & 17.0\\\\\n",
       "\t 1    & 1    & 47.0\\\\\n",
       "\\end{tabular}\n"
      ],
      "text/markdown": [
       "\n",
       "| 1    | 1    | 28.5 | \n",
       "| 1    | 1    | 30.5 | \n",
       "| 1    | 0    | 30.0 | \n",
       "| 1    | 0    |   NA | \n",
       "| 1    | 0    | 30.0 | \n",
       "| 1    | 1    | 17.0 | \n",
       "| 1    | 1    | 47.0 | \n",
       "\n",
       "\n"
      ],
      "text/plain": [
       "     [,1] [,2] [,3]\n",
       "[1,] 1    1    28.5\n",
       "[2,] 1    1    30.5\n",
       "[3,] 1    0    30.0\n",
       "[4,] 1    0      NA\n",
       "[5,] 1    0    30.0\n",
       "[6,] 1    1    17.0\n",
       "[7,] 1    1    47.0"
      ]
     },
     "metadata": {},
     "output_type": "display_data"
    }
   ],
   "source": [
    "X[1:7,]"
   ]
  },
  {
   "cell_type": "code",
   "execution_count": null,
   "metadata": {},
   "outputs": [],
   "source": []
  },
  {
   "cell_type": "code",
   "execution_count": null,
   "metadata": {},
   "outputs": [],
   "source": []
  },
  {
   "cell_type": "code",
   "execution_count": 74,
   "metadata": {},
   "outputs": [
    {
     "data": {
      "text/plain": [
       "--------------------------------------------\n",
       "Maximum Likelihood estimation\n",
       "Newton-Raphson maximisation, 36 iterations\n",
       "Return code 2: successive function values within tolerance limit\n",
       "Log-Likelihood: -301.8593 \n",
       "3  free parameters\n",
       "Estimates:\n",
       "      Estimate Std. error t value  Pr(> t)    \n",
       "[1,] -1.338116   0.259632  -5.154 2.55e-07 ***\n",
       "[2,]  2.447614   0.206627  11.846  < 2e-16 ***\n",
       "[3,]  0.007366   0.007133   1.033    0.302    \n",
       "---\n",
       "Signif. codes:  0 ‘***’ 0.001 ‘**’ 0.01 ‘*’ 0.05 ‘.’ 0.1 ‘ ’ 1\n",
       "--------------------------------------------"
      ]
     },
     "metadata": {},
     "output_type": "display_data"
    }
   ],
   "source": [
    "df_drona_age <- df_train[!is.na(df_train['Age']),]\n",
    "y <- df_drona_age$Survived\n",
    "X <- cbind(1, as.numeric(df_drona_age$Sex) - 1, df_drona_age$Age)\n",
    "\n",
    "res <- maxLik(lnL, start=c(0.5,0.5,2), y = y, X = X)  \n",
    "summary(res)   "
   ]
  },
  {
   "cell_type": "code",
   "execution_count": null,
   "metadata": {},
   "outputs": [],
   "source": []
  },
  {
   "cell_type": "markdown",
   "metadata": {},
   "source": [
    "## 4.3 Всё то же самое, но более удобно\n",
    "\n",
    "  "
   ]
  },
  {
   "cell_type": "code",
   "execution_count": null,
   "metadata": {},
   "outputs": [],
   "source": []
  },
  {
   "cell_type": "code",
   "execution_count": 75,
   "metadata": {},
   "outputs": [
    {
     "data": {
      "text/plain": [
       "\n",
       "Call:\n",
       "glm(formula = Survived ~ Sex + Age + Pclass + Fare, family = binomial(link = \"logit\"), \n",
       "    data = df_train)\n",
       "\n",
       "Deviance Residuals: \n",
       "    Min       1Q   Median       3Q      Max  \n",
       "-2.6965  -0.6733  -0.4181   0.6997   2.4188  \n",
       "\n",
       "Coefficients:\n",
       "              Estimate Std. Error z value Pr(>|z|)    \n",
       "(Intercept)  3.7939160  0.5206429   7.287 3.17e-13 ***\n",
       "Sexmale     -2.5158249  0.2295258 -10.961  < 2e-16 ***\n",
       "Age         -0.0371725  0.0086354  -4.305 1.67e-05 ***\n",
       "Pclass2     -1.4189482  0.3525852  -4.024 5.71e-05 ***\n",
       "Pclass3     -2.4695322  0.3640186  -6.784 1.17e-11 ***\n",
       "Fare        -0.0007299  0.0026237  -0.278    0.781    \n",
       "---\n",
       "Signif. codes:  0 ‘***’ 0.001 ‘**’ 0.01 ‘*’ 0.05 ‘.’ 0.1 ‘ ’ 1\n",
       "\n",
       "(Dispersion parameter for binomial family taken to be 1)\n",
       "\n",
       "    Null deviance: 773.95  on 571  degrees of freedom\n",
       "Residual deviance: 529.84  on 566  degrees of freedom\n",
       "  (141 observations deleted due to missingness)\n",
       "AIC: 541.84\n",
       "\n",
       "Number of Fisher Scoring iterations: 4\n"
      ]
     },
     "metadata": {},
     "output_type": "display_data"
    }
   ],
   "source": [
    "\n",
    "df_train <- mutate(df_train, Survived = as.factor(Survived))\n",
    "\n",
    "m_logit <- glm(data=df_train, Survived~Sex+Age+Pclass+Fare, \n",
    "                  family=binomial(link=\"logit\"))\n",
    "\n",
    "summary(m_logit)"
   ]
  },
  {
   "cell_type": "code",
   "execution_count": 76,
   "metadata": {},
   "outputs": [
    {
     "data": {
      "text/html": [
       "<table>\n",
       "<thead><tr><th></th><th scope=col>(Intercept)</th><th scope=col>Sexmale</th><th scope=col>Age</th><th scope=col>Pclass2</th><th scope=col>Pclass3</th><th scope=col>Fare</th></tr></thead>\n",
       "<tbody>\n",
       "\t<tr><th scope=row>(Intercept)</th><td> 0.2710690010</td><td>-0.0526697372</td><td>-3.335665e-03</td><td>-0.1289658568</td><td>-0.1587789050</td><td>-7.305329e-04</td></tr>\n",
       "\t<tr><th scope=row>Sexmale</th><td>-0.0526697372</td><td> 0.0526820792</td><td> 1.705887e-04</td><td> 0.0143830286</td><td> 0.0216568883</td><td> 6.890740e-05</td></tr>\n",
       "\t<tr><th scope=row>Age</th><td>-0.0033356654</td><td> 0.0001705887</td><td> 7.457066e-05</td><td> 0.0010580292</td><td> 0.0015074455</td><td> 3.381941e-06</td></tr>\n",
       "\t<tr><th scope=row>Pclass2</th><td>-0.1289658568</td><td> 0.0143830286</td><td> 1.058029e-03</td><td> 0.1243163136</td><td> 0.0915724422</td><td> 4.401786e-04</td></tr>\n",
       "\t<tr><th scope=row>Pclass3</th><td>-0.1587789050</td><td> 0.0216568883</td><td> 1.507445e-03</td><td> 0.0915724422</td><td> 0.1325095211</td><td> 5.226304e-04</td></tr>\n",
       "\t<tr><th scope=row>Fare</th><td>-0.0007305329</td><td> 0.0000689074</td><td> 3.381941e-06</td><td> 0.0004401786</td><td> 0.0005226304</td><td> 6.883981e-06</td></tr>\n",
       "</tbody>\n",
       "</table>\n"
      ],
      "text/latex": [
       "\\begin{tabular}{r|llllll}\n",
       "  & (Intercept) & Sexmale & Age & Pclass2 & Pclass3 & Fare\\\\\n",
       "\\hline\n",
       "\t(Intercept) &  0.2710690010 & -0.0526697372 & -3.335665e-03 & -0.1289658568 & -0.1587789050 & -7.305329e-04\\\\\n",
       "\tSexmale & -0.0526697372 &  0.0526820792 &  1.705887e-04 &  0.0143830286 &  0.0216568883 &  6.890740e-05\\\\\n",
       "\tAge & -0.0033356654 &  0.0001705887 &  7.457066e-05 &  0.0010580292 &  0.0015074455 &  3.381941e-06\\\\\n",
       "\tPclass2 & -0.1289658568 &  0.0143830286 &  1.058029e-03 &  0.1243163136 &  0.0915724422 &  4.401786e-04\\\\\n",
       "\tPclass3 & -0.1587789050 &  0.0216568883 &  1.507445e-03 &  0.0915724422 &  0.1325095211 &  5.226304e-04\\\\\n",
       "\tFare & -0.0007305329 &  0.0000689074 &  3.381941e-06 &  0.0004401786 &  0.0005226304 &  6.883981e-06\\\\\n",
       "\\end{tabular}\n"
      ],
      "text/markdown": [
       "\n",
       "| <!--/--> | (Intercept) | Sexmale | Age | Pclass2 | Pclass3 | Fare | \n",
       "|---|---|---|---|---|---|\n",
       "| (Intercept) |  0.2710690010 | -0.0526697372 | -3.335665e-03 | -0.1289658568 | -0.1587789050 | -7.305329e-04 | \n",
       "| Sexmale | -0.0526697372 |  0.0526820792 |  1.705887e-04 |  0.0143830286 |  0.0216568883 |  6.890740e-05 | \n",
       "| Age | -0.0033356654 |  0.0001705887 |  7.457066e-05 |  0.0010580292 |  0.0015074455 |  3.381941e-06 | \n",
       "| Pclass2 | -0.1289658568 |  0.0143830286 |  1.058029e-03 |  0.1243163136 |  0.0915724422 |  4.401786e-04 | \n",
       "| Pclass3 | -0.1587789050 |  0.0216568883 |  1.507445e-03 |  0.0915724422 |  0.1325095211 |  5.226304e-04 | \n",
       "| Fare | -0.0007305329 |  0.0000689074 |  3.381941e-06 |  0.0004401786 |  0.0005226304 |  6.883981e-06 | \n",
       "\n",
       "\n"
      ],
      "text/plain": [
       "            (Intercept)   Sexmale       Age           Pclass2      \n",
       "(Intercept)  0.2710690010 -0.0526697372 -3.335665e-03 -0.1289658568\n",
       "Sexmale     -0.0526697372  0.0526820792  1.705887e-04  0.0143830286\n",
       "Age         -0.0033356654  0.0001705887  7.457066e-05  0.0010580292\n",
       "Pclass2     -0.1289658568  0.0143830286  1.058029e-03  0.1243163136\n",
       "Pclass3     -0.1587789050  0.0216568883  1.507445e-03  0.0915724422\n",
       "Fare        -0.0007305329  0.0000689074  3.381941e-06  0.0004401786\n",
       "            Pclass3       Fare         \n",
       "(Intercept) -0.1587789050 -7.305329e-04\n",
       "Sexmale      0.0216568883  6.890740e-05\n",
       "Age          0.0015074455  3.381941e-06\n",
       "Pclass2      0.0915724422  4.401786e-04\n",
       "Pclass3      0.1325095211  5.226304e-04\n",
       "Fare         0.0005226304  6.883981e-06"
      ]
     },
     "metadata": {},
     "output_type": "display_data"
    }
   ],
   "source": [
    "vcov(m_logit)"
   ]
  },
  {
   "cell_type": "code",
   "execution_count": null,
   "metadata": {},
   "outputs": [],
   "source": []
  },
  {
   "cell_type": "markdown",
   "metadata": {},
   "source": [
    "Построим прогнозы для тестовой выборки!"
   ]
  },
  {
   "cell_type": "code",
   "execution_count": 86,
   "metadata": {},
   "outputs": [
    {
     "data": {
      "text/html": [
       "<table>\n",
       "<thead><tr><th></th><th scope=col>Survived</th><th scope=col>Pclass</th><th scope=col>Sex</th><th scope=col>Age</th><th scope=col>SibSp</th><th scope=col>Parch</th><th scope=col>Fare</th><th scope=col>fit</th><th scope=col>se.fit</th><th scope=col>residual.scale</th></tr></thead>\n",
       "<tbody>\n",
       "\t<tr><th scope=row>4</th><td>1         </td><td>1         </td><td>female    </td><td>35        </td><td>1         </td><td>0         </td><td>53.1000   </td><td> 2.4541224</td><td>0.2886515 </td><td>1         </td></tr>\n",
       "\t<tr><th scope=row>14</th><td>0         </td><td>3         </td><td>male      </td><td>39        </td><td>1         </td><td>5         </td><td>31.2750   </td><td>-2.6639953</td><td>0.2590235 </td><td>1         </td></tr>\n",
       "\t<tr><th scope=row>16</th><td>1         </td><td>2         </td><td>female    </td><td>55        </td><td>0         </td><td>0         </td><td>16.0000   </td><td> 0.3188024</td><td>0.3330361 </td><td>1         </td></tr>\n",
       "\t<tr><th scope=row>21</th><td>0         </td><td>2         </td><td>male      </td><td>35        </td><td>0         </td><td>0         </td><td>26.0000   </td><td>-1.4608712</td><td>0.2381417 </td><td>1         </td></tr>\n",
       "\t<tr><th scope=row>25</th><td>0         </td><td>3         </td><td>female    </td><td> 8        </td><td>3         </td><td>1         </td><td>21.0750   </td><td> 1.0116218</td><td>0.2386977 </td><td>1         </td></tr>\n",
       "\t<tr><th scope=row>29</th><td>1         </td><td>3         </td><td>female    </td><td>NA        </td><td>0         </td><td>0         </td><td> 7.8792   </td><td>        NA</td><td>       NA </td><td>1         </td></tr>\n",
       "</tbody>\n",
       "</table>\n"
      ],
      "text/latex": [
       "\\begin{tabular}{r|llllllllll}\n",
       "  & Survived & Pclass & Sex & Age & SibSp & Parch & Fare & fit & se.fit & residual.scale\\\\\n",
       "\\hline\n",
       "\t4 & 1          & 1          & female     & 35         & 1          & 0          & 53.1000    &  2.4541224 & 0.2886515  & 1         \\\\\n",
       "\t14 & 0          & 3          & male       & 39         & 1          & 5          & 31.2750    & -2.6639953 & 0.2590235  & 1         \\\\\n",
       "\t16 & 1          & 2          & female     & 55         & 0          & 0          & 16.0000    &  0.3188024 & 0.3330361  & 1         \\\\\n",
       "\t21 & 0          & 2          & male       & 35         & 0          & 0          & 26.0000    & -1.4608712 & 0.2381417  & 1         \\\\\n",
       "\t25 & 0          & 3          & female     &  8         & 3          & 1          & 21.0750    &  1.0116218 & 0.2386977  & 1         \\\\\n",
       "\t29 & 1          & 3          & female     & NA         & 0          & 0          &  7.8792    &         NA &        NA  & 1         \\\\\n",
       "\\end{tabular}\n"
      ],
      "text/markdown": [
       "\n",
       "| <!--/--> | Survived | Pclass | Sex | Age | SibSp | Parch | Fare | fit | se.fit | residual.scale | \n",
       "|---|---|---|---|---|---|\n",
       "| 4 | 1          | 1          | female     | 35         | 1          | 0          | 53.1000    |  2.4541224 | 0.2886515  | 1          | \n",
       "| 14 | 0          | 3          | male       | 39         | 1          | 5          | 31.2750    | -2.6639953 | 0.2590235  | 1          | \n",
       "| 16 | 1          | 2          | female     | 55         | 0          | 0          | 16.0000    |  0.3188024 | 0.3330361  | 1          | \n",
       "| 21 | 0          | 2          | male       | 35         | 0          | 0          | 26.0000    | -1.4608712 | 0.2381417  | 1          | \n",
       "| 25 | 0          | 3          | female     |  8         | 3          | 1          | 21.0750    |  1.0116218 | 0.2386977  | 1          | \n",
       "| 29 | 1          | 3          | female     | NA         | 0          | 0          |  7.8792    |         NA |        NA  | 1          | \n",
       "\n",
       "\n"
      ],
      "text/plain": [
       "   Survived Pclass Sex    Age SibSp Parch Fare    fit        se.fit   \n",
       "4  1        1      female 35  1     0     53.1000  2.4541224 0.2886515\n",
       "14 0        3      male   39  1     5     31.2750 -2.6639953 0.2590235\n",
       "16 1        2      female 55  0     0     16.0000  0.3188024 0.3330361\n",
       "21 0        2      male   35  0     0     26.0000 -1.4608712 0.2381417\n",
       "25 0        3      female  8  3     1     21.0750  1.0116218 0.2386977\n",
       "29 1        3      female NA  0     0      7.8792         NA        NA\n",
       "   residual.scale\n",
       "4  1             \n",
       "14 1             \n",
       "16 1             \n",
       "21 1             \n",
       "25 1             \n",
       "29 1             "
      ]
     },
     "metadata": {},
     "output_type": "display_data"
    }
   ],
   "source": [
    "pr_logit <- predict(m_logit, df_test[,-1], se=TRUE)  # Строим прогнозы по нашей модели на тесте \n",
    "df_test <- cbind(df_test, pr_logit) # объеядиним прогнозы с тестовой табилчкой \n",
    "head(df_test)"
   ]
  },
  {
   "cell_type": "code",
   "execution_count": 87,
   "metadata": {},
   "outputs": [
    {
     "ename": "ERROR",
     "evalue": "Error in mutate(newdata_pr, prob = plogis(fit), left_ci = plogis(fit - : объект 'newdata_pr' не найден\n",
     "output_type": "error",
     "traceback": [
      "Error in mutate(newdata_pr, prob = plogis(fit), left_ci = plogis(fit - : объект 'newdata_pr' не найден\nTraceback:\n",
      "1. mutate(newdata_pr, prob = plogis(fit), left_ci = plogis(fit - \n .     1.96 * se.fit), right_ci = plogis(fit + 1.96 * se.fit))"
     ]
    }
   ],
   "source": []
  },
  {
   "cell_type": "code",
   "execution_count": null,
   "metadata": {},
   "outputs": [],
   "source": [
    "\n",
    "head(newdata_pr)\n",
    "#переменная fit - предсказанная y* residual.scale - вспомогательная \n",
    "\n",
    "#Доверительный интервал для вероятности и LR тест в R\n",
    "newdata_pr <- mutate(newdata_pr,prob=plogis(fit),\n",
    "                     left_ci=plogis(fit-1.96*se.fit),\n",
    "                     right_ci=plogis(fit+1.96*se.fit))\n",
    "head(newdata_pr)\n",
    "\n",
    "#Проилюстрируем графически\n",
    "qplot(data=newdata_pr, x=age,y=prob,geom=\"line\")\n",
    "#видим, что при росте возраста вероятность выжить падает\n",
    "qplot(data=newdata_pr, x=age,y=prob,geom=\"line\")+\n",
    "  geom_ribbon(aes(ymin=left_ci,ymax=right_ci),alpha=0.2)\n",
    "#добавили доверительные интервалы. Точность прогнозирования\n",
    "# увеличивается с возрастом, т.к. мало детей\n",
    "\n",
    "\n"
   ]
  },
  {
   "cell_type": "markdown",
   "metadata": {},
   "source": [
    "Последний шаг для этого скрипта. Зная качество прогнозов на тестовой выборке, давайте построим прогноз для себя."
   ]
  },
  {
   "cell_type": "code",
   "execution_count": null,
   "metadata": {},
   "outputs": [],
   "source": []
  },
  {
   "cell_type": "code",
   "execution_count": null,
   "metadata": {},
   "outputs": [],
   "source": []
  },
  {
   "cell_type": "markdown",
   "metadata": {},
   "source": [
    "Логичтическая регрессия очень часто используется на практике. Многие модели, которые работают у крупных фирм в продакшене это именно она. Правда немного модернизированная. \n",
    "\n",
    "Первая модернизация заключается в метрике, по которой оценивается работоспособность модели. Мы посмотрели выше на качество работы нашей модели по метрике, которая называется Accuracy (доля верных ответов). Интуитивно понятная, очевидная и почти неиспользуемая метрика. \n",
    "\n",
    "Её главная проблема в том, что она бесполезна в задачах с неравными классами. Например, пусть у нас есть $50$ больных и $950$ здоровых. Мы хотим научиться их различать. Пусть наш алгоритм предсказывает, что все здоровы. В этом случае доля правлиьных ответов составит $95\\%$, но алгорим окажется абсолютно бесполезным. Чтобы избежать таких эксцессов, а также учитывать, что разные типы ошибок могут иметь разную цену, строят другие две метрики. Про них можно найти более подробную информацию в почиташках.  \n",
    "\n",
    "\n",
    "## Почиташки\n",
    "\n",
    "* [Моя статья из иканам гранд рисёрча]() с небольшим введением в машинное обучение. Там я строил для предказани отчисяемости людей именно логистическую регрессию. В этой же статейке можно почитать про другие метрики качества.\n",
    "* [Статья на хабре]() про метрики, которые используются для оценки качества моделей.\n",
    "* [Ршение титаника в R с хабра]() от какого-то парня. В этой статейке можно углубиться в код, если есть такое желание."
   ]
  },
  {
   "cell_type": "markdown",
   "metadata": {},
   "source": [
    "<img src=\"https://ic.pics.livejournal.com/kobayashi_corp/71797700/3420/3420_original.jpg\" height=\"600\" width=\"600\">\n"
   ]
  }
 ],
 "metadata": {
  "kernelspec": {
   "display_name": "R",
   "language": "R",
   "name": "ir"
  },
  "language_info": {
   "codemirror_mode": "r",
   "file_extension": ".r",
   "mimetype": "text/x-r-source",
   "name": "R",
   "pygments_lexer": "r",
   "version": "3.4.2"
  }
 },
 "nbformat": 4,
 "nbformat_minor": 2
}
