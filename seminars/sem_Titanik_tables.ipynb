{
 "cells": [
  {
   "cell_type": "code",
   "execution_count": 1,
   "metadata": {},
   "outputs": [
    {
     "name": "stderr",
     "output_type": "stream",
     "text": [
      "\n",
      "Attaching package: ‘dplyr’\n",
      "\n",
      "The following objects are masked from ‘package:stats’:\n",
      "\n",
      "    filter, lag\n",
      "\n",
      "The following objects are masked from ‘package:base’:\n",
      "\n",
      "    intersect, setdiff, setequal, union\n",
      "\n"
     ]
    }
   ],
   "source": [
    "library('dplyr')\n",
    "library('ggplot2')"
   ]
  },
  {
   "cell_type": "code",
   "execution_count": null,
   "metadata": {},
   "outputs": [],
   "source": []
  },
  {
   "cell_type": "code",
   "execution_count": null,
   "metadata": {},
   "outputs": [],
   "source": []
  },
  {
   "cell_type": "code",
   "execution_count": null,
   "metadata": {},
   "outputs": [],
   "source": []
  },
  {
   "cell_type": "code",
   "execution_count": null,
   "metadata": {},
   "outputs": [],
   "source": []
  },
  {
   "cell_type": "code",
   "execution_count": 6,
   "metadata": {},
   "outputs": [],
   "source": [
    "df = read.csv('titanic.csv', sep=',', dec='.')"
   ]
  },
  {
   "cell_type": "code",
   "execution_count": 7,
   "metadata": {},
   "outputs": [
    {
     "data": {
      "text/html": [
       "<table>\n",
       "<thead><tr><th scope=col>X</th><th scope=col>pclass</th><th scope=col>survived</th><th scope=col>name</th><th scope=col>sex</th><th scope=col>age</th><th scope=col>sibsp</th><th scope=col>parch</th><th scope=col>ticket</th><th scope=col>fare</th><th scope=col>cabin</th><th scope=col>embarked</th><th scope=col>boat</th><th scope=col>body</th><th scope=col>home.dest</th></tr></thead>\n",
       "<tbody>\n",
       "\t<tr><td>1                              </td><td>1st                            </td><td>1                              </td><td>Allen, Miss. Elisabeth Walton  </td><td>female                         </td><td>29.0000                        </td><td>0                              </td><td>0                              </td><td>24160                          </td><td>211.3375                       </td><td>B5                             </td><td>Southampton                    </td><td>2                              </td><td> NA                            </td><td>St Louis, MO                   </td></tr>\n",
       "\t<tr><td>2                              </td><td>1st                            </td><td>1                              </td><td>Allison, Master. Hudson Trevor </td><td>male                           </td><td> 0.9167                        </td><td>1                              </td><td>2                              </td><td>113781                         </td><td>151.5500                       </td><td>C22 C26                        </td><td>Southampton                    </td><td>11                             </td><td> NA                            </td><td>Montreal, PQ / Chesterville, ON</td></tr>\n",
       "\t<tr><td>3                              </td><td>1st                            </td><td>0                              </td><td>Allison, Miss. Helen Loraine   </td><td>female                         </td><td> 2.0000                        </td><td>1                              </td><td>2                              </td><td>113781                         </td><td>151.5500                       </td><td>C22 C26                        </td><td>Southampton                    </td><td>                               </td><td> NA                            </td><td>Montreal, PQ / Chesterville, ON</td></tr>\n",
       "\t<tr><td>4                              </td><td>1st                            </td><td>0                              </td><td>Allison, Mr. Hudson Joshua Crei</td><td>male                           </td><td>30.0000                        </td><td>1                              </td><td>2                              </td><td>113781                         </td><td>151.5500                       </td><td>C22 C26                        </td><td>Southampton                    </td><td>                               </td><td>135                            </td><td>Montreal, PQ / Chesterville, ON</td></tr>\n",
       "\t<tr><td>5                              </td><td>1st                            </td><td>0                              </td><td>Allison, Mrs. Hudson J C (Bessi</td><td>female                         </td><td>25.0000                        </td><td>1                              </td><td>2                              </td><td>113781                         </td><td>151.5500                       </td><td>C22 C26                        </td><td>Southampton                    </td><td>                               </td><td> NA                            </td><td>Montreal, PQ / Chesterville, ON</td></tr>\n",
       "</tbody>\n",
       "</table>\n"
      ],
      "text/latex": [
       "\\begin{tabular}{r|lllllllllllllll}\n",
       " X & pclass & survived & name & sex & age & sibsp & parch & ticket & fare & cabin & embarked & boat & body & home.dest\\\\\n",
       "\\hline\n",
       "\t 1                               & 1st                             & 1                               & Allen, Miss. Elisabeth Walton   & female                          & 29.0000                         & 0                               & 0                               & 24160                           & 211.3375                        & B5                              & Southampton                     & 2                               &  NA                             & St Louis, MO                   \\\\\n",
       "\t 2                               & 1st                             & 1                               & Allison, Master. Hudson Trevor  & male                            &  0.9167                         & 1                               & 2                               & 113781                          & 151.5500                        & C22 C26                         & Southampton                     & 11                              &  NA                             & Montreal, PQ / Chesterville, ON\\\\\n",
       "\t 3                               & 1st                             & 0                               & Allison, Miss. Helen Loraine    & female                          &  2.0000                         & 1                               & 2                               & 113781                          & 151.5500                        & C22 C26                         & Southampton                     &                                 &  NA                             & Montreal, PQ / Chesterville, ON\\\\\n",
       "\t 4                               & 1st                             & 0                               & Allison, Mr. Hudson Joshua Crei & male                            & 30.0000                         & 1                               & 2                               & 113781                          & 151.5500                        & C22 C26                         & Southampton                     &                                 & 135                             & Montreal, PQ / Chesterville, ON\\\\\n",
       "\t 5                               & 1st                             & 0                               & Allison, Mrs. Hudson J C (Bessi & female                          & 25.0000                         & 1                               & 2                               & 113781                          & 151.5500                        & C22 C26                         & Southampton                     &                                 &  NA                             & Montreal, PQ / Chesterville, ON\\\\\n",
       "\\end{tabular}\n"
      ],
      "text/markdown": [
       "\n",
       "X | pclass | survived | name | sex | age | sibsp | parch | ticket | fare | cabin | embarked | boat | body | home.dest | \n",
       "|---|---|---|---|---|\n",
       "| 1                               | 1st                             | 1                               | Allen, Miss. Elisabeth Walton   | female                          | 29.0000                         | 0                               | 0                               | 24160                           | 211.3375                        | B5                              | Southampton                     | 2                               |  NA                             | St Louis, MO                    | \n",
       "| 2                               | 1st                             | 1                               | Allison, Master. Hudson Trevor  | male                            |  0.9167                         | 1                               | 2                               | 113781                          | 151.5500                        | C22 C26                         | Southampton                     | 11                              |  NA                             | Montreal, PQ / Chesterville, ON | \n",
       "| 3                               | 1st                             | 0                               | Allison, Miss. Helen Loraine    | female                          |  2.0000                         | 1                               | 2                               | 113781                          | 151.5500                        | C22 C26                         | Southampton                     |                                 |  NA                             | Montreal, PQ / Chesterville, ON | \n",
       "| 4                               | 1st                             | 0                               | Allison, Mr. Hudson Joshua Crei | male                            | 30.0000                         | 1                               | 2                               | 113781                          | 151.5500                        | C22 C26                         | Southampton                     |                                 | 135                             | Montreal, PQ / Chesterville, ON | \n",
       "| 5                               | 1st                             | 0                               | Allison, Mrs. Hudson J C (Bessi | female                          | 25.0000                         | 1                               | 2                               | 113781                          | 151.5500                        | C22 C26                         | Southampton                     |                                 |  NA                             | Montreal, PQ / Chesterville, ON | \n",
       "\n",
       "\n"
      ],
      "text/plain": [
       "  X pclass survived name                            sex    age     sibsp parch\n",
       "1 1 1st    1        Allen, Miss. Elisabeth Walton   female 29.0000 0     0    \n",
       "2 2 1st    1        Allison, Master. Hudson Trevor  male    0.9167 1     2    \n",
       "3 3 1st    0        Allison, Miss. Helen Loraine    female  2.0000 1     2    \n",
       "4 4 1st    0        Allison, Mr. Hudson Joshua Crei male   30.0000 1     2    \n",
       "5 5 1st    0        Allison, Mrs. Hudson J C (Bessi female 25.0000 1     2    \n",
       "  ticket fare     cabin   embarked    boat body home.dest                      \n",
       "1 24160  211.3375 B5      Southampton 2     NA  St Louis, MO                   \n",
       "2 113781 151.5500 C22 C26 Southampton 11    NA  Montreal, PQ / Chesterville, ON\n",
       "3 113781 151.5500 C22 C26 Southampton       NA  Montreal, PQ / Chesterville, ON\n",
       "4 113781 151.5500 C22 C26 Southampton      135  Montreal, PQ / Chesterville, ON\n",
       "5 113781 151.5500 C22 C26 Southampton       NA  Montreal, PQ / Chesterville, ON"
      ]
     },
     "metadata": {},
     "output_type": "display_data"
    }
   ],
   "source": [
    "head(df, 5)"
   ]
  },
  {
   "cell_type": "code",
   "execution_count": null,
   "metadata": {},
   "outputs": [],
   "source": []
  },
  {
   "cell_type": "markdown",
   "metadata": {},
   "source": [
    "## 1.1 Изучаем таблицу\n",
    "\n",
    "Можно посмотреть на первые пять строк!"
   ]
  },
  {
   "cell_type": "code",
   "execution_count": 6,
   "metadata": {},
   "outputs": [
    {
     "data": {
      "text/html": [
       "<table>\n",
       "<thead><tr><th scope=col>PassengerId</th><th scope=col>Survived</th><th scope=col>Pclass</th><th scope=col>Name</th><th scope=col>Sex</th><th scope=col>Age</th><th scope=col>SibSp</th><th scope=col>Parch</th><th scope=col>Ticket</th><th scope=col>Fare</th><th scope=col>Cabin</th><th scope=col>Embarked</th></tr></thead>\n",
       "<tbody>\n",
       "\t<tr><td>1                                                  </td><td>0                                                  </td><td>3                                                  </td><td>Braund, Mr. Owen Harris                            </td><td>male                                               </td><td>22                                                 </td><td>1                                                  </td><td>0                                                  </td><td>A/5 21171                                          </td><td> 7.2500                                            </td><td>                                                   </td><td>S                                                  </td></tr>\n",
       "\t<tr><td>2                                                  </td><td>1                                                  </td><td>1                                                  </td><td>Cumings, Mrs. John Bradley (Florence Briggs Thayer)</td><td>female                                             </td><td>38                                                 </td><td>1                                                  </td><td>0                                                  </td><td>PC 17599                                           </td><td>71.2833                                            </td><td>C85                                                </td><td>C                                                  </td></tr>\n",
       "\t<tr><td>3                                                  </td><td>1                                                  </td><td>3                                                  </td><td>Heikkinen, Miss. Laina                             </td><td>female                                             </td><td>26                                                 </td><td>0                                                  </td><td>0                                                  </td><td>STON/O2. 3101282                                   </td><td> 7.9250                                            </td><td>                                                   </td><td>S                                                  </td></tr>\n",
       "\t<tr><td>4                                                  </td><td>1                                                  </td><td>1                                                  </td><td>Futrelle, Mrs. Jacques Heath (Lily May Peel)       </td><td>female                                             </td><td>35                                                 </td><td>1                                                  </td><td>0                                                  </td><td>113803                                             </td><td>53.1000                                            </td><td>C123                                               </td><td>S                                                  </td></tr>\n",
       "\t<tr><td>5                                                  </td><td>0                                                  </td><td>3                                                  </td><td>Allen, Mr. William Henry                           </td><td>male                                               </td><td>35                                                 </td><td>0                                                  </td><td>0                                                  </td><td>373450                                             </td><td> 8.0500                                            </td><td>                                                   </td><td>S                                                  </td></tr>\n",
       "</tbody>\n",
       "</table>\n"
      ],
      "text/latex": [
       "\\begin{tabular}{r|llllllllllll}\n",
       " PassengerId & Survived & Pclass & Name & Sex & Age & SibSp & Parch & Ticket & Fare & Cabin & Embarked\\\\\n",
       "\\hline\n",
       "\t 1                                                   & 0                                                   & 3                                                   & Braund, Mr. Owen Harris                             & male                                                & 22                                                  & 1                                                   & 0                                                   & A/5 21171                                           &  7.2500                                             &                                                     & S                                                  \\\\\n",
       "\t 2                                                   & 1                                                   & 1                                                   & Cumings, Mrs. John Bradley (Florence Briggs Thayer) & female                                              & 38                                                  & 1                                                   & 0                                                   & PC 17599                                            & 71.2833                                             & C85                                                 & C                                                  \\\\\n",
       "\t 3                                                   & 1                                                   & 3                                                   & Heikkinen, Miss. Laina                              & female                                              & 26                                                  & 0                                                   & 0                                                   & STON/O2. 3101282                                    &  7.9250                                             &                                                     & S                                                  \\\\\n",
       "\t 4                                                   & 1                                                   & 1                                                   & Futrelle, Mrs. Jacques Heath (Lily May Peel)        & female                                              & 35                                                  & 1                                                   & 0                                                   & 113803                                              & 53.1000                                             & C123                                                & S                                                  \\\\\n",
       "\t 5                                                   & 0                                                   & 3                                                   & Allen, Mr. William Henry                            & male                                                & 35                                                  & 0                                                   & 0                                                   & 373450                                              &  8.0500                                             &                                                     & S                                                  \\\\\n",
       "\\end{tabular}\n"
      ],
      "text/markdown": [
       "\n",
       "PassengerId | Survived | Pclass | Name | Sex | Age | SibSp | Parch | Ticket | Fare | Cabin | Embarked | \n",
       "|---|---|---|---|---|\n",
       "| 1                                                   | 0                                                   | 3                                                   | Braund, Mr. Owen Harris                             | male                                                | 22                                                  | 1                                                   | 0                                                   | A/5 21171                                           |  7.2500                                             |                                                     | S                                                   | \n",
       "| 2                                                   | 1                                                   | 1                                                   | Cumings, Mrs. John Bradley (Florence Briggs Thayer) | female                                              | 38                                                  | 1                                                   | 0                                                   | PC 17599                                            | 71.2833                                             | C85                                                 | C                                                   | \n",
       "| 3                                                   | 1                                                   | 3                                                   | Heikkinen, Miss. Laina                              | female                                              | 26                                                  | 0                                                   | 0                                                   | STON/O2. 3101282                                    |  7.9250                                             |                                                     | S                                                   | \n",
       "| 4                                                   | 1                                                   | 1                                                   | Futrelle, Mrs. Jacques Heath (Lily May Peel)        | female                                              | 35                                                  | 1                                                   | 0                                                   | 113803                                              | 53.1000                                             | C123                                                | S                                                   | \n",
       "| 5                                                   | 0                                                   | 3                                                   | Allen, Mr. William Henry                            | male                                                | 35                                                  | 0                                                   | 0                                                   | 373450                                              |  8.0500                                             |                                                     | S                                                   | \n",
       "\n",
       "\n"
      ],
      "text/plain": [
       "  PassengerId Survived Pclass\n",
       "1 1           0        3     \n",
       "2 2           1        1     \n",
       "3 3           1        3     \n",
       "4 4           1        1     \n",
       "5 5           0        3     \n",
       "  Name                                                Sex    Age SibSp Parch\n",
       "1 Braund, Mr. Owen Harris                             male   22  1     0    \n",
       "2 Cumings, Mrs. John Bradley (Florence Briggs Thayer) female 38  1     0    \n",
       "3 Heikkinen, Miss. Laina                              female 26  0     0    \n",
       "4 Futrelle, Mrs. Jacques Heath (Lily May Peel)        female 35  1     0    \n",
       "5 Allen, Mr. William Henry                            male   35  0     0    \n",
       "  Ticket           Fare    Cabin Embarked\n",
       "1 A/5 21171         7.2500       S       \n",
       "2 PC 17599         71.2833 C85   C       \n",
       "3 STON/O2. 3101282  7.9250       S       \n",
       "4 113803           53.1000 C123  S       \n",
       "5 373450            8.0500       S       "
      ]
     },
     "metadata": {},
     "output_type": "display_data"
    }
   ],
   "source": [
    "head(df,5)"
   ]
  },
  {
   "cell_type": "markdown",
   "metadata": {},
   "source": [
    "Можно посмотреть на последние пять строк!"
   ]
  },
  {
   "cell_type": "code",
   "execution_count": 7,
   "metadata": {
    "scrolled": true
   },
   "outputs": [
    {
     "data": {
      "text/html": [
       "<table>\n",
       "<thead><tr><th></th><th scope=col>PassengerId</th><th scope=col>Survived</th><th scope=col>Pclass</th><th scope=col>Name</th><th scope=col>Sex</th><th scope=col>Age</th><th scope=col>SibSp</th><th scope=col>Parch</th><th scope=col>Ticket</th><th scope=col>Fare</th><th scope=col>Cabin</th><th scope=col>Embarked</th></tr></thead>\n",
       "<tbody>\n",
       "\t<tr><th scope=row>887</th><td>887                                     </td><td>0                                       </td><td>2                                       </td><td>Montvila, Rev. Juozas                   </td><td>male                                    </td><td>27                                      </td><td>0                                       </td><td>0                                       </td><td>211536                                  </td><td>13.00                                   </td><td>                                        </td><td>S                                       </td></tr>\n",
       "\t<tr><th scope=row>888</th><td>888                                     </td><td>1                                       </td><td>1                                       </td><td>Graham, Miss. Margaret Edith            </td><td>female                                  </td><td>19                                      </td><td>0                                       </td><td>0                                       </td><td>112053                                  </td><td>30.00                                   </td><td>B42                                     </td><td>S                                       </td></tr>\n",
       "\t<tr><th scope=row>889</th><td>889                                     </td><td>0                                       </td><td>3                                       </td><td>Johnston, Miss. Catherine Helen \"Carrie\"</td><td>female                                  </td><td>NA                                      </td><td>1                                       </td><td>2                                       </td><td>W./C. 6607                              </td><td>23.45                                   </td><td>                                        </td><td>S                                       </td></tr>\n",
       "\t<tr><th scope=row>890</th><td>890                                     </td><td>1                                       </td><td>1                                       </td><td>Behr, Mr. Karl Howell                   </td><td>male                                    </td><td>26                                      </td><td>0                                       </td><td>0                                       </td><td>111369                                  </td><td>30.00                                   </td><td>C148                                    </td><td>C                                       </td></tr>\n",
       "\t<tr><th scope=row>891</th><td>891                                     </td><td>0                                       </td><td>3                                       </td><td>Dooley, Mr. Patrick                     </td><td>male                                    </td><td>32                                      </td><td>0                                       </td><td>0                                       </td><td>370376                                  </td><td> 7.75                                   </td><td>                                        </td><td>Q                                       </td></tr>\n",
       "</tbody>\n",
       "</table>\n"
      ],
      "text/latex": [
       "\\begin{tabular}{r|llllllllllll}\n",
       "  & PassengerId & Survived & Pclass & Name & Sex & Age & SibSp & Parch & Ticket & Fare & Cabin & Embarked\\\\\n",
       "\\hline\n",
       "\t887 & 887                                      & 0                                        & 2                                        & Montvila, Rev. Juozas                    & male                                     & 27                                       & 0                                        & 0                                        & 211536                                   & 13.00                                    &                                          & S                                       \\\\\n",
       "\t888 & 888                                      & 1                                        & 1                                        & Graham, Miss. Margaret Edith             & female                                   & 19                                       & 0                                        & 0                                        & 112053                                   & 30.00                                    & B42                                      & S                                       \\\\\n",
       "\t889 & 889                                      & 0                                        & 3                                        & Johnston, Miss. Catherine Helen \"Carrie\" & female                                   & NA                                       & 1                                        & 2                                        & W./C. 6607                               & 23.45                                    &                                          & S                                       \\\\\n",
       "\t890 & 890                                      & 1                                        & 1                                        & Behr, Mr. Karl Howell                    & male                                     & 26                                       & 0                                        & 0                                        & 111369                                   & 30.00                                    & C148                                     & C                                       \\\\\n",
       "\t891 & 891                                      & 0                                        & 3                                        & Dooley, Mr. Patrick                      & male                                     & 32                                       & 0                                        & 0                                        & 370376                                   &  7.75                                    &                                          & Q                                       \\\\\n",
       "\\end{tabular}\n"
      ],
      "text/markdown": [
       "\n",
       "| <!--/--> | PassengerId | Survived | Pclass | Name | Sex | Age | SibSp | Parch | Ticket | Fare | Cabin | Embarked | \n",
       "|---|---|---|---|---|\n",
       "| 887 | 887                                      | 0                                        | 2                                        | Montvila, Rev. Juozas                    | male                                     | 27                                       | 0                                        | 0                                        | 211536                                   | 13.00                                    |                                          | S                                        | \n",
       "| 888 | 888                                      | 1                                        | 1                                        | Graham, Miss. Margaret Edith             | female                                   | 19                                       | 0                                        | 0                                        | 112053                                   | 30.00                                    | B42                                      | S                                        | \n",
       "| 889 | 889                                      | 0                                        | 3                                        | Johnston, Miss. Catherine Helen \"Carrie\" | female                                   | NA                                       | 1                                        | 2                                        | W./C. 6607                               | 23.45                                    |                                          | S                                        | \n",
       "| 890 | 890                                      | 1                                        | 1                                        | Behr, Mr. Karl Howell                    | male                                     | 26                                       | 0                                        | 0                                        | 111369                                   | 30.00                                    | C148                                     | C                                        | \n",
       "| 891 | 891                                      | 0                                        | 3                                        | Dooley, Mr. Patrick                      | male                                     | 32                                       | 0                                        | 0                                        | 370376                                   |  7.75                                    |                                          | Q                                        | \n",
       "\n",
       "\n"
      ],
      "text/plain": [
       "    PassengerId Survived Pclass Name                                     Sex   \n",
       "887 887         0        2      Montvila, Rev. Juozas                    male  \n",
       "888 888         1        1      Graham, Miss. Margaret Edith             female\n",
       "889 889         0        3      Johnston, Miss. Catherine Helen \"Carrie\" female\n",
       "890 890         1        1      Behr, Mr. Karl Howell                    male  \n",
       "891 891         0        3      Dooley, Mr. Patrick                      male  \n",
       "    Age SibSp Parch Ticket     Fare  Cabin Embarked\n",
       "887 27  0     0     211536     13.00       S       \n",
       "888 19  0     0     112053     30.00 B42   S       \n",
       "889 NA  1     2     W./C. 6607 23.45       S       \n",
       "890 26  0     0     111369     30.00 C148  C       \n",
       "891 32  0     0     370376      7.75       Q       "
      ]
     },
     "metadata": {},
     "output_type": "display_data"
    }
   ],
   "source": [
    "tail(df,5)"
   ]
  },
  {
   "cell_type": "markdown",
   "metadata": {},
   "source": [
    "Можно посмотреть на число колонок, строк и размерность таблицы."
   ]
  },
  {
   "cell_type": "code",
   "execution_count": 8,
   "metadata": {},
   "outputs": [
    {
     "data": {
      "text/html": [
       "15"
      ],
      "text/latex": [
       "15"
      ],
      "text/markdown": [
       "15"
      ],
      "text/plain": [
       "[1] 15"
      ]
     },
     "metadata": {},
     "output_type": "display_data"
    },
    {
     "data": {
      "text/html": [
       "1309"
      ],
      "text/latex": [
       "1309"
      ],
      "text/markdown": [
       "1309"
      ],
      "text/plain": [
       "[1] 1309"
      ]
     },
     "metadata": {},
     "output_type": "display_data"
    },
    {
     "data": {
      "text/html": [
       "<ol class=list-inline>\n",
       "\t<li>1309</li>\n",
       "\t<li>15</li>\n",
       "</ol>\n"
      ],
      "text/latex": [
       "\\begin{enumerate*}\n",
       "\\item 1309\n",
       "\\item 15\n",
       "\\end{enumerate*}\n"
      ],
      "text/markdown": [
       "1. 1309\n",
       "2. 15\n",
       "\n",
       "\n"
      ],
      "text/plain": [
       "[1] 1309   15"
      ]
     },
     "metadata": {},
     "output_type": "display_data"
    }
   ],
   "source": [
    "ncol(df)  # число колонок\n",
    "nrow(df)  # число строк\n",
    "dim(df)   # размерность таблицы"
   ]
  },
  {
   "cell_type": "markdown",
   "metadata": {},
   "source": [
    "Можно бросить взор на нашу таблицу!"
   ]
  },
  {
   "cell_type": "code",
   "execution_count": 9,
   "metadata": {},
   "outputs": [
    {
     "name": "stdout",
     "output_type": "stream",
     "text": [
      "Observations: 1,309\n",
      "Variables: 15\n",
      "$ X         <int> 1, 2, 3, 4, 5, 6, 7, 8, 9, 10, 11, 12, 13, 14, 15, 16, 17...\n",
      "$ pclass    <fctr> 1st, 1st, 1st, 1st, 1st, 1st, 1st, 1st, 1st, 1st, 1st, 1...\n",
      "$ survived  <int> 1, 1, 0, 0, 0, 1, 1, 0, 1, 0, 0, 1, 1, 1, 1, 0, 0, 1, 1, ...\n",
      "$ name      <fctr> Allen, Miss. Elisabeth Walton, Allison, Master. Hudson T...\n",
      "$ sex       <fctr> female, male, female, male, female, male, female, male, ...\n",
      "$ age       <dbl> 29.0000, 0.9167, 2.0000, 30.0000, 25.0000, 48.0000, 63.00...\n",
      "$ sibsp     <int> 0, 1, 1, 1, 1, 0, 1, 0, 2, 0, 1, 1, 0, 0, 0, 0, 0, 0, 0, ...\n",
      "$ parch     <int> 0, 2, 2, 2, 2, 0, 0, 0, 0, 0, 0, 0, 0, 0, 0, 0, 1, 1, 0, ...\n",
      "$ ticket    <fctr> 24160, 113781, 113781, 113781, 113781, 19952, 13502, 112...\n",
      "$ fare      <dbl> 211.3375, 151.5500, 151.5500, 151.5500, 151.5500, 26.5500...\n",
      "$ cabin     <fctr> B5, C22 C26, C22 C26, C22 C26, C22 C26, E12, D7, A36, C1...\n",
      "$ embarked  <fctr> Southampton, Southampton, Southampton, Southampton, Sout...\n",
      "$ boat      <fctr> 2, 11, , , , 3, 10, , D, , , 4, 9, 6, B, , , 6, 8, A, 5,...\n",
      "$ body      <int> NA, NA, NA, 135, NA, NA, NA, NA, NA, 22, 124, NA, NA, NA,...\n",
      "$ home.dest <fctr> St Louis, MO, Montreal, PQ / Chesterville, ON, Montreal,...\n"
     ]
    }
   ],
   "source": [
    "glimpse(df)"
   ]
  },
  {
   "cell_type": "markdown",
   "metadata": {},
   "source": [
    "Можно посмотреть по таблице основные характеристики."
   ]
  },
  {
   "cell_type": "code",
   "execution_count": 16,
   "metadata": {},
   "outputs": [
    {
     "data": {
      "text/plain": [
       "     Sex           Age            Pclass          SibSp            Ticket   \n",
       " female:314   Min.   : 0.42   Min.   :1.000   Min.   :0.000   1601    :  7  \n",
       " male  :577   1st Qu.:20.12   1st Qu.:2.000   1st Qu.:0.000   347082  :  7  \n",
       "              Median :28.00   Median :3.000   Median :0.000   CA. 2343:  7  \n",
       "              Mean   :29.70   Mean   :2.309   Mean   :0.523   3101295 :  6  \n",
       "              3rd Qu.:38.00   3rd Qu.:3.000   3rd Qu.:1.000   347088  :  6  \n",
       "              Max.   :80.00   Max.   :3.000   Max.   :8.000   CA 2144 :  6  \n",
       "              NA's   :177                                     (Other) :852  "
      ]
     },
     "metadata": {},
     "output_type": "display_data"
    }
   ],
   "source": [
    "summary(df[c('Sex', 'Age', 'Pclass', 'SibSp', 'Ticket') ])"
   ]
  },
  {
   "cell_type": "markdown",
   "metadata": {},
   "source": [
    "## 1.2 Основные операции над таблицами и dplyr"
   ]
  },
  {
   "cell_type": "code",
   "execution_count": null,
   "metadata": {},
   "outputs": [],
   "source": []
  },
  {
   "cell_type": "code",
   "execution_count": null,
   "metadata": {},
   "outputs": [],
   "source": []
  },
  {
   "cell_type": "code",
   "execution_count": null,
   "metadata": {},
   "outputs": [],
   "source": []
  },
  {
   "cell_type": "code",
   "execution_count": null,
   "metadata": {},
   "outputs": [],
   "source": []
  },
  {
   "cell_type": "code",
   "execution_count": null,
   "metadata": {},
   "outputs": [],
   "source": []
  },
  {
   "cell_type": "code",
   "execution_count": null,
   "metadata": {},
   "outputs": [],
   "source": []
  },
  {
   "cell_type": "code",
   "execution_count": null,
   "metadata": {},
   "outputs": [],
   "source": []
  },
  {
   "cell_type": "code",
   "execution_count": null,
   "metadata": {},
   "outputs": [],
   "source": []
  },
  {
   "cell_type": "code",
   "execution_count": null,
   "metadata": {},
   "outputs": [],
   "source": []
  },
  {
   "cell_type": "code",
   "execution_count": null,
   "metadata": {},
   "outputs": [],
   "source": []
  }
 ],
 "metadata": {
  "kernelspec": {
   "display_name": "R",
   "language": "R",
   "name": "ir"
  },
  "language_info": {
   "codemirror_mode": "r",
   "file_extension": ".r",
   "mimetype": "text/x-r-source",
   "name": "R",
   "pygments_lexer": "r",
   "version": "3.4.2"
  }
 },
 "nbformat": 4,
 "nbformat_minor": 2
}
