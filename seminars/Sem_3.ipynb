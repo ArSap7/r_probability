{
 "cells": [
  {
   "cell_type": "code",
   "execution_count": 1,
   "metadata": {},
   "outputs": [],
   "source": [
    "library(\"ggplot2\")  # Пакет для красивых графиков \n",
    "library(\"grid\")     # Пакет для субплотов\n",
    "\n",
    "# Отрегулируем размер картинок, которые будут выдаваться в нашей тетрадке\n",
    "library('repr')\n",
    "options(repr.plot.width=4, repr.plot.height=3)"
   ]
  },
  {
   "cell_type": "code",
   "execution_count": null,
   "metadata": {},
   "outputs": [],
   "source": []
  },
  {
   "cell_type": "markdown",
   "metadata": {},
   "source": [
    "## Резкое погружение в финансовый мир \n",
    "\n",
    "В финансах есть много разных инструментов: акции, облигации, деривативы и т.п. \n",
    "\n",
    "В основе огромного бесчисленного числа современных экономических теорий лежит гипотеза о том, что движение котировок подчиняется логнормальному распределению. То есть доходности распределены нормально. На всём этом строится пресловутый Блэк-Шоулз с их Нобелевской премией. В реальности всё гораздо сложнее и нам предстоит в этом убедиться. \n",
    "\n",
    "\n",
    "## Добыча финансовых данных\n",
    "\n",
    "Для того, чтобы погрузиться в мир финансов, нам нужно раздобыть финансовых данных. В R для всего есть пакеты, верно? Воспользуемся пакетом `quantmod`, чтобы достать данных с Yahoo.Finance. "
   ]
  },
  {
   "cell_type": "code",
   "execution_count": 2,
   "metadata": {},
   "outputs": [
    {
     "name": "stderr",
     "output_type": "stream",
     "text": [
      "Installing package into ‘/usr/local/lib/R/3.4/site-library’\n",
      "(as ‘lib’ is unspecified)\n",
      "also installing the dependencies ‘xts’, ‘TTR’\n",
      "\n"
     ]
    }
   ],
   "source": [
    "install.packages(\"quantmod\")  # Устанавливаем пакет, если его нет \n",
    "# Внимание: устанавливать пакет надо один раз в жизни! \n",
    "# После установки пакета можно эту строчку удалить навсегода. "
   ]
  },
  {
   "cell_type": "code",
   "execution_count": 4,
   "metadata": {},
   "outputs": [],
   "source": [
    "library(quantmod) # Эта команда подключает пакет\n",
    "# Внимание: подключать пакет нужно каждый раз, когда\n",
    "# вы хотите использовать его в своём скрипте"
   ]
  },
  {
   "cell_type": "markdown",
   "metadata": {},
   "source": [
    "Получаем данные о котировках apple с сайта Yahoo. Команда `getSymbols` умеет делать это."
   ]
  },
  {
   "cell_type": "code",
   "execution_count": 6,
   "metadata": {},
   "outputs": [
    {
     "data": {
      "text/html": [
       "'AAPL'"
      ],
      "text/latex": [
       "'AAPL'"
      ],
      "text/markdown": [
       "'AAPL'"
      ],
      "text/plain": [
       "[1] \"AAPL\""
      ]
     },
     "metadata": {},
     "output_type": "display_data"
    }
   ],
   "source": [
    "getSymbols(\"AAPL\", from=\"2015-01-01\")"
   ]
  },
  {
   "cell_type": "code",
   "execution_count": 19,
   "metadata": {},
   "outputs": [
    {
     "data": {
      "text/plain": [
       "           AAPL.Open AAPL.High AAPL.Low AAPL.Close AAPL.Volume AAPL.Adjusted\n",
       "2015-01-02    111.39    111.44   107.35     109.33    53204600      103.0742\n",
       "2015-01-05    108.29    108.65   105.41     106.25    64285500      100.1704\n",
       "2015-01-06    106.54    107.43   104.63     106.26    65797100      100.1798\n",
       "2015-01-07    107.20    108.20   106.70     107.75    40105900      101.5846\n",
       "2015-01-08    109.23    112.15   108.70     111.89    59364500      105.4877\n",
       "2015-01-09    112.67    113.25   110.21     112.01    53699500      105.6008"
      ]
     },
     "metadata": {},
     "output_type": "display_data"
    }
   ],
   "source": [
    "data <- AAPL\n",
    "head(data)"
   ]
  },
  {
   "cell_type": "code",
   "execution_count": 20,
   "metadata": {},
   "outputs": [
    {
     "data": {
      "text/html": [
       "<ol class=list-inline>\n",
       "\t<li>793</li>\n",
       "\t<li>6</li>\n",
       "</ol>\n"
      ],
      "text/latex": [
       "\\begin{enumerate*}\n",
       "\\item 793\n",
       "\\item 6\n",
       "\\end{enumerate*}\n"
      ],
      "text/markdown": [
       "1. 793\n",
       "2. 6\n",
       "\n",
       "\n"
      ],
      "text/plain": [
       "[1] 793   6"
      ]
     },
     "metadata": {},
     "output_type": "display_data"
    }
   ],
   "source": [
    "dim(data) # размеры таблички"
   ]
  },
  {
   "cell_type": "markdown",
   "metadata": {},
   "source": [
    "Как видите, цены бывают разными. Открытия, закрытия, самая высокая и низкая. "
   ]
  },
  {
   "cell_type": "code",
   "execution_count": null,
   "metadata": {},
   "outputs": [],
   "source": [
    "# график с динамикой цен \n",
    "ggplot(data)"
   ]
  },
  {
   "cell_type": "code",
   "execution_count": 26,
   "metadata": {},
   "outputs": [
    {
     "data": {
      "text/html": [
       "<ol class=list-inline>\n",
       "\t<li>111.389999</li>\n",
       "\t<li>108.290001</li>\n",
       "\t<li>106.540001</li>\n",
       "\t<li>107.199997</li>\n",
       "\t<li>109.230003</li>\n",
       "</ol>\n"
      ],
      "text/latex": [
       "\\begin{enumerate*}\n",
       "\\item 111.389999\n",
       "\\item 108.290001\n",
       "\\item 106.540001\n",
       "\\item 107.199997\n",
       "\\item 109.230003\n",
       "\\end{enumerate*}\n"
      ],
      "text/markdown": [
       "1. 111.389999\n",
       "2. 108.290001\n",
       "3. 106.540001\n",
       "4. 107.199997\n",
       "5. 109.230003\n",
       "\n",
       "\n"
      ],
      "text/plain": [
       "[1] 111.39 108.29 106.54 107.20 109.23"
      ]
     },
     "metadata": {},
     "output_type": "display_data"
    }
   ],
   "source": [
    "price <- as.vector(prices$AAPL.Open)\n",
    "price[1:5]"
   ]
  },
  {
   "cell_type": "markdown",
   "metadata": {},
   "source": [
    "Перейдём от цен к изменению цен, то есть к доходностям:\n",
    "\n",
    "$$\n",
    "R_t = \\frac{P_t - P_{t-1}}{P_{t-1}}\n",
    "$$\n",
    "\n",
    "Команда `diff` вернёт нам вектор из приращений в каждой точке. "
   ]
  },
  {
   "cell_type": "code",
   "execution_count": 27,
   "metadata": {},
   "outputs": [
    {
     "data": {
      "text/html": [
       "<ol class=list-inline>\n",
       "\t<li>-3.099998</li>\n",
       "\t<li>-1.75</li>\n",
       "\t<li>0.659995999999992</li>\n",
       "\t<li>2.030006</li>\n",
       "\t<li>3.43999500000001</li>\n",
       "</ol>\n"
      ],
      "text/latex": [
       "\\begin{enumerate*}\n",
       "\\item -3.099998\n",
       "\\item -1.75\n",
       "\\item 0.659995999999992\n",
       "\\item 2.030006\n",
       "\\item 3.43999500000001\n",
       "\\end{enumerate*}\n"
      ],
      "text/markdown": [
       "1. -3.099998\n",
       "2. -1.75\n",
       "3. 0.659995999999992\n",
       "4. 2.030006\n",
       "5. 3.43999500000001\n",
       "\n",
       "\n"
      ],
      "text/plain": [
       "[1] -3.099998 -1.750000  0.659996  2.030006  3.439995"
      ]
     },
     "metadata": {},
     "output_type": "display_data"
    }
   ],
   "source": [
    "diff(price)[1:5]"
   ]
  },
  {
   "cell_type": "markdown",
   "metadata": {},
   "source": [
    "Хотелось бы теперь просто разделить его на значения цен, но нельзя - они разной длины. Поэтому придётся выбросить первый элемент из вектора цен. "
   ]
  },
  {
   "cell_type": "code",
   "execution_count": 28,
   "metadata": {},
   "outputs": [
    {
     "data": {
      "text/html": [
       "<ol class=list-inline>\n",
       "\t<li>-0.0286268166162451</li>\n",
       "\t<li>-0.0164257554305824</li>\n",
       "\t<li>0.00615667927677267</li>\n",
       "\t<li>0.0185846923395214</li>\n",
       "\t<li>0.0305315972402876</li>\n",
       "</ol>\n"
      ],
      "text/latex": [
       "\\begin{enumerate*}\n",
       "\\item -0.0286268166162451\n",
       "\\item -0.0164257554305824\n",
       "\\item 0.00615667927677267\n",
       "\\item 0.0185846923395214\n",
       "\\item 0.0305315972402876\n",
       "\\end{enumerate*}\n"
      ],
      "text/markdown": [
       "1. -0.0286268166162451\n",
       "2. -0.0164257554305824\n",
       "3. 0.00615667927677267\n",
       "4. 0.0185846923395214\n",
       "5. 0.0305315972402876\n",
       "\n",
       "\n"
      ],
      "text/plain": [
       "[1] -0.028626817 -0.016425755  0.006156679  0.018584692  0.030531597"
      ]
     },
     "metadata": {},
     "output_type": "display_data"
    }
   ],
   "source": [
    "R <- diff(price)/price[-1]\n",
    "R[1:5]"
   ]
  },
  {
   "cell_type": "code",
   "execution_count": 29,
   "metadata": {},
   "outputs": [
    {
     "name": "stderr",
     "output_type": "stream",
     "text": [
      "`stat_bin()` using `bins = 30`. Pick better value with `binwidth`.\n"
     ]
    },
    {
     "data": {},
     "metadata": {},
     "output_type": "display_data"
    },
    {
     "data": {
      "image/png": "[encoded data removed]",
      "text/plain": [
       "plot without title"
      ]
     },
     "metadata": {},
     "output_type": "display_data"
    }
   ],
   "source": [
    "qplot(R)"
   ]
  },
  {
   "cell_type": "code",
   "execution_count": 31,
   "metadata": {},
   "outputs": [
    {
     "data": {
      "text/html": [
       "0.00043946479588451"
      ],
      "text/latex": [
       "0.00043946479588451"
      ],
      "text/markdown": [
       "0.00043946479588451"
      ],
      "text/plain": [
       "[1] 0.0004394648"
      ]
     },
     "metadata": {},
     "output_type": "display_data"
    }
   ],
   "source": [
    "mean(R)"
   ]
  },
  {
   "cell_type": "code",
   "execution_count": 32,
   "metadata": {},
   "outputs": [
    {
     "data": {
      "text/html": [
       "0.0168058650772007"
      ],
      "text/latex": [
       "0.0168058650772007"
      ],
      "text/markdown": [
       "0.0168058650772007"
      ],
      "text/plain": [
       "[1] 0.01680587"
      ]
     },
     "metadata": {},
     "output_type": "display_data"
    }
   ],
   "source": [
    "sd(R)"
   ]
  },
  {
   "cell_type": "markdown",
   "metadata": {},
   "source": [
    "Возникает вопрос. Имеют ли доходности нормальное распределение. Чтобы дать ответ на этот вопрос, обычно, проверяют гипотезы.  Проверим "
   ]
  },
  {
   "cell_type": "code",
   "execution_count": 34,
   "metadata": {},
   "outputs": [
    {
     "data": {
      "text/plain": [
       "\n",
       "\tShapiro-Wilk normality test\n",
       "\n",
       "data:  R\n",
       "W = 0.85082, p-value < 2.2e-16\n"
      ]
     },
     "metadata": {},
     "output_type": "display_data"
    }
   ],
   "source": [
    "shapiro.test(R)"
   ]
  },
  {
   "cell_type": "code",
   "execution_count": 36,
   "metadata": {},
   "outputs": [
    {
     "data": {
      "image/png": "[encoded data removed]",
      "text/plain": [
       "Plot with title “Normal Q-Q Plot”"
      ]
     },
     "metadata": {},
     "output_type": "display_data"
    }
   ],
   "source": [
    "qqnorm(R)\n",
    "qqline(R)"
   ]
  },
  {
   "cell_type": "markdown",
   "metadata": {},
   "source": [
    "Тяжёлые хвосты или лёгкие? Что это значит? "
   ]
  },
  {
   "cell_type": "code",
   "execution_count": null,
   "metadata": {},
   "outputs": [],
   "source": []
  },
  {
   "cell_type": "markdown",
   "metadata": {},
   "source": [
    "Финансовые продукты характеризуются двумя основными характеристикам – доходностью и риском. С доходностью все довольно понятно – это процентное изменение стоимости за некоторый промежуток времени. Чтобы не быть голословным, будем изучать все на каких-нибудь примерах. Возьмем котировки компании Tesla Motors за 2014 год:"
   ]
  },
  {
   "cell_type": "code",
   "execution_count": 37,
   "metadata": {},
   "outputs": [
    {
     "data": {
      "text/html": [
       "'TSLA'"
      ],
      "text/latex": [
       "'TSLA'"
      ],
      "text/markdown": [
       "'TSLA'"
      ],
      "text/plain": [
       "[1] \"TSLA\""
      ]
     },
     "metadata": {},
     "output_type": "display_data"
    }
   ],
   "source": [
    "library(quantmod)\n",
    "getSymbols(\"TSLA\", from=\"2014-01-01\", to=\"2015-01-01\")"
   ]
  },
  {
   "cell_type": "code",
   "execution_count": 38,
   "metadata": {},
   "outputs": [
    {
     "name": "stderr",
     "output_type": "stream",
     "text": [
      "Warning message in title(...):\n",
      "“ошибка конвертации 'Акции Tesla Motors' в 'mbcsToSbcs': точка заменена на <d0>”Warning message in title(...):\n",
      "“ошибка конвертации 'Акции Tesla Motors' в 'mbcsToSbcs': точка заменена на <90>”Warning message in title(...):\n",
      "“ошибка конвертации 'Акции Tesla Motors' в 'mbcsToSbcs': точка заменена на <d0>”Warning message in title(...):\n",
      "“ошибка конвертации 'Акции Tesla Motors' в 'mbcsToSbcs': точка заменена на <ba>”Warning message in title(...):\n",
      "“ошибка конвертации 'Акции Tesla Motors' в 'mbcsToSbcs': точка заменена на <d1>”Warning message in title(...):\n",
      "“ошибка конвертации 'Акции Tesla Motors' в 'mbcsToSbcs': точка заменена на <86>”Warning message in title(...):\n",
      "“ошибка конвертации 'Акции Tesla Motors' в 'mbcsToSbcs': точка заменена на <d0>”Warning message in title(...):\n",
      "“ошибка конвертации 'Акции Tesla Motors' в 'mbcsToSbcs': точка заменена на <b8>”Warning message in title(...):\n",
      "“ошибка конвертации 'Акции Tesla Motors' в 'mbcsToSbcs': точка заменена на <d0>”Warning message in title(...):\n",
      "“ошибка конвертации 'Акции Tesla Motors' в 'mbcsToSbcs': точка заменена на <b8>”"
     ]
    },
    {
     "data": {
      "image/png": "[encoded data removed]",
      "text/plain": [
       "Plot with title “Акции Tesla Motors”"
      ]
     },
     "metadata": {},
     "output_type": "display_data"
    }
   ],
   "source": [
    "prices <- as.numeric(Ad(TSLA))\n",
    "plot(prices, type=\"l\", main=\"Акции Tesla Motors\")"
   ]
  },
  {
   "cell_type": "markdown",
   "metadata": {},
   "source": [
    "Как найти годовую доходность? Это просто процентное изменение последней точки к первой:"
   ]
  },
  {
   "cell_type": "code",
   "execution_count": 39,
   "metadata": {},
   "outputs": [
    {
     "data": {
      "text/html": [
       "0.48174547041657"
      ],
      "text/latex": [
       "0.48174547041657"
      ],
      "text/markdown": [
       "0.48174547041657"
      ],
      "text/plain": [
       "[1] 0.4817455"
      ]
     },
     "metadata": {},
     "output_type": "display_data"
    }
   ],
   "source": [
    "tail(prices, 1)/head(prices, 1) - 1"
   ]
  },
  {
   "cell_type": "markdown",
   "metadata": {},
   "source": [
    "Это много? Почему?\n",
    "\n",
    "Но вот что считать мерой риска? Мы рассмотрим 4 популярные характеристики, а дальше сосредоточимся на двух.\n",
    "\n",
    "## Стандартное отклонение доходности \n",
    "\n",
    "Название говорит само за себя. Возьмём ряд доходностей, найжём его стандартное отклонение. "
   ]
  },
  {
   "cell_type": "code",
   "execution_count": 40,
   "metadata": {},
   "outputs": [
    {
     "data": {
      "text/html": [
       "0.00202453085809588"
      ],
      "text/latex": [
       "0.00202453085809588"
      ],
      "text/markdown": [
       "0.00202453085809588"
      ],
      "text/plain": [
       "[1] 0.002024531"
      ]
     },
     "metadata": {},
     "output_type": "display_data"
    }
   ],
   "source": [
    "ret <- diff(prices)/head(prices, -1)\n",
    "mean(ret)"
   ]
  },
  {
   "cell_type": "code",
   "execution_count": 41,
   "metadata": {},
   "outputs": [
    {
     "data": {
      "text/html": [
       "0.0304980168293633"
      ],
      "text/latex": [
       "0.0304980168293633"
      ],
      "text/markdown": [
       "0.0304980168293633"
      ],
      "text/plain": [
       "[1] 0.03049802"
      ]
     },
     "metadata": {},
     "output_type": "display_data"
    }
   ],
   "source": [
    "sd(ret)"
   ]
  },
  {
   "cell_type": "markdown",
   "metadata": {},
   "source": [
    "А это много? Вкладываем деньги или нет? \n",
    "\n",
    "__NB:__ Сравнивать акции на основе стандартного отклонения можно при равных доходностях. А чтобы сравнивать разные акции нужно использовать комбинированные метрики. Например, Коэффициент Шарпа – отношение ожидаемой доходности к ее стандартному отклонению:"
   ]
  },
  {
   "cell_type": "code",
   "execution_count": 43,
   "metadata": {},
   "outputs": [
    {
     "data": {
      "text/html": [
       "0.0663823772353182"
      ],
      "text/latex": [
       "0.0663823772353182"
      ],
      "text/markdown": [
       "0.0663823772353182"
      ],
      "text/plain": [
       "[1] 0.06638238"
      ]
     },
     "metadata": {},
     "output_type": "display_data"
    }
   ],
   "source": [
    "mean(ret)/sd(ret)"
   ]
  },
  {
   "cell_type": "markdown",
   "metadata": {},
   "source": [
    "Такой метод оценки риска хорош, так как прост и понятен, но есть пара минусов. Во-первых стандартное отклонение ничего не говорит об экстремальности распределения. Во-вторых, стандартное отклонение не естественно, то есть на интуитивном уровне не понятно."
   ]
  },
  {
   "cell_type": "markdown",
   "metadata": {},
   "source": [
    "## Максимальная просадка \n",
    "\n",
    "Максимальная просадка (maximum drawdown) – это то, насколько сильно просел наш актив после максимального влета. Для графика выше максимальная просадка - это разница между максимальным значением около 170 и минимальным около 250. В R есть готовые способы найти максимальную просадку. Но мы же хотим все прочувствовать сами. Алгоритм:\n",
    "\n",
    "1. Говорим, что максимальная просадка равна 0.\n",
    "2. Берем первую точку и объявляем ее максимумом цены.\n",
    "3. Идем к следующей точке.\n",
    "    * Если она больше максимума, то обновляем максимум.\n",
    "    * Если меньше, то считаем в ней просадку. Если просадка больше максимальной, то обновляем максимальную\n",
    "4. Повторяем шаг 3, пока не дойдем до конца."
   ]
  },
  {
   "cell_type": "code",
   "execution_count": 44,
   "metadata": {},
   "outputs": [
    {
     "data": {
      "text/html": [
       "286.040009"
      ],
      "text/latex": [
       "286.040009"
      ],
      "text/markdown": [
       "286.040009"
      ],
      "text/plain": [
       "[1] 286.04"
      ]
     },
     "metadata": {},
     "output_type": "display_data"
    }
   ],
   "source": [
    "maxDD <- 0\n",
    "maxPr <- prices[1]\n",
    "\n",
    "for (i in 2:length(prices)) { # Проходим по всем точкам, начиная со второй\n",
    "  if (prices[i] > maxPr) { # Проверяем не больше ли она текущего максимума\n",
    "    maxPr <- prices[i] # Если больше, то меняем максимум на эту точку\n",
    "  } else {\n",
    "    DD <- (maxPr - prices[i])/maxPr # А иначе считаем просадку\n",
    "    if (DD > maxDD) { # И смотрим не больше ли эта просадка максимальной\n",
    "      maxDD <- DD # А если больше, то меняем значение максимальной просадки\n",
    "      }\n",
    "  }\n",
    "}\n",
    "maxPr"
   ]
  },
  {
   "cell_type": "code",
   "execution_count": 45,
   "metadata": {},
   "outputs": [
    {
     "data": {
      "text/html": [
       "0.308453391916933"
      ],
      "text/latex": [
       "0.308453391916933"
      ],
      "text/markdown": [
       "0.308453391916933"
      ],
      "text/plain": [
       "[1] 0.3084534"
      ]
     },
     "metadata": {},
     "output_type": "display_data"
    }
   ],
   "source": [
    "maxDD"
   ]
  },
  {
   "cell_type": "markdown",
   "metadata": {},
   "source": [
    "Чем хороша эта мера? А чем плоха?\n",
    "\n"
   ]
  },
  {
   "cell_type": "markdown",
   "metadata": {},
   "source": [
    "## Value-at-Risk\n",
    "\n",
    "… или статистика 16:15. Value-at-Risk на каком-либо уровне (скажем, 5%) – это просто квантиль на уровне 5%. То есть это такая доходность, что в 95% случаев у нас дела будут лучше. Вот если сейчас не понятно, то точно стоит меня прервать. Считаем ее элементарно:"
   ]
  },
  {
   "cell_type": "code",
   "execution_count": 46,
   "metadata": {},
   "outputs": [
    {
     "data": {
      "text/html": [
       "<strong>5%:</strong> -0.042360159613219"
      ],
      "text/latex": [
       "\\textbf{5\\textbackslash{}\\%:} -0.042360159613219"
      ],
      "text/markdown": [
       "**5%:** -0.042360159613219"
      ],
      "text/plain": [
       "         5% \n",
       "-0.04236016 "
      ]
     },
     "metadata": {},
     "output_type": "display_data"
    }
   ],
   "source": [
    "quantile(ret, 0.05)"
   ]
  },
  {
   "cell_type": "code",
   "execution_count": 47,
   "metadata": {},
   "outputs": [
    {
     "data": {
      "text/html": [
       "-0.0430728126906754"
      ],
      "text/latex": [
       "-0.0430728126906754"
      ],
      "text/markdown": [
       "-0.0430728126906754"
      ],
      "text/plain": [
       "[1] -0.04307281"
      ]
     },
     "metadata": {},
     "output_type": "display_data"
    }
   ],
   "source": [
    "sort(ret)[0.05*length(ret)]"
   ]
  },
  {
   "cell_type": "markdown",
   "metadata": {},
   "source": [
    "VaR хорош, так как не требует гипотез о хоть какой-либо форме распределения и описывает именно ту часть распределения, которую мы боимся. Но VaR - это лучшее из 5% худших случаев. А что лежит в тех 5%?…"
   ]
  },
  {
   "cell_type": "markdown",
   "metadata": {},
   "source": [
    "## Expected shortfall\n",
    "\n",
    "Он же ES, conditional value at risk (CVaR), average value at risk (AVaR), и expected tail loss (ETL). Но мы будем говорить ES. ES - Это среднее значение по всем тем точкам, что оказались левее VaR, То есть среднее по худшим 5%. Считаем:"
   ]
  },
  {
   "cell_type": "code",
   "execution_count": 48,
   "metadata": {},
   "outputs": [
    {
     "data": {
      "text/html": [
       "-0.0607232269074342"
      ],
      "text/latex": [
       "-0.0607232269074342"
      ],
      "text/markdown": [
       "-0.0607232269074342"
      ],
      "text/plain": [
       "[1] -0.06072323"
      ]
     },
     "metadata": {},
     "output_type": "display_data"
    }
   ],
   "source": [
    "mean(ret[ret <= quantile(ret, 0.05)]) # Попросите меня разобрать эту формулу подробнее."
   ]
  },
  {
   "cell_type": "markdown",
   "metadata": {},
   "source": [
    "Чем ES хуже VaR? А чем лучше?"
   ]
  },
  {
   "cell_type": "markdown",
   "metadata": {},
   "source": [
    "## Кто побеждает? \n",
    "\n",
    "Да никто. Все рассуждения о риске – это попытки запихнуть функцию распределения доходностей в одно единственное число. Поэтому информация потеряется и все метрики будут не идеальны. В лучшем случае посредственны. А к чему это приведет, можно прочитать в этой книге (обязательно к прочтению для тех, кто видит себя трейдером, и занятное чтиво для остальных).\n",
    "\n",
    "А чем будем пользоваться мы? VaR и иногда ES. И еще пару метрик появятся по ходу изложения курса.\n",
    "\n",
    "\n",
    "Вот мы уже умеем находим VaR и понимаем, что это такое. Взяли цены акций за год, нашли квантиль 5%. И говорим, что в будущем акции будут вести себя так же. То есть занимаемся моделированием, предсказанием, алхимией. А значит нужно научиться проверять наши прогнозы.\n",
    "\n",
    "### Тренировочная и тестовая выборка\n",
    "\n",
    "Но сначала о методологии анализа данных. Если вы занимаетесь моделированием чего угодно на данных, то вам нужно иметь две выборки: тренировочную и тестовую. На тренировочной вы строите модель, а на тестовой должны проверить ее качество. Давайте на примерах.\n",
    "\n",
    "### Кривая VaR\n",
    "\n",
    "Поэтому когда мы найдем значение VaR, то верифицировать его мы должны будем на другой части наблюдений. У нас есть"
   ]
  },
  {
   "cell_type": "code",
   "execution_count": 49,
   "metadata": {},
   "outputs": [
    {
     "data": {
      "text/html": [
       "251"
      ],
      "text/latex": [
       "251"
      ],
      "text/markdown": [
       "251"
      ],
      "text/plain": [
       "[1] 251"
      ]
     },
     "metadata": {},
     "output_type": "display_data"
    }
   ],
   "source": [
    "length(ret)"
   ]
  },
  {
   "cell_type": "markdown",
   "metadata": {},
   "source": [
    "наблюдение. Давайте на первых 150-ти наблюдениях найдем VaR, а на второй его оценим.\n",
    "\n",
    "Разбиваем на две выборки:"
   ]
  },
  {
   "cell_type": "code",
   "execution_count": 50,
   "metadata": {},
   "outputs": [],
   "source": [
    "train <- ret[1:150]\n",
    "test  <- ret[151:length(ret)]"
   ]
  },
  {
   "cell_type": "code",
   "execution_count": 51,
   "metadata": {},
   "outputs": [],
   "source": [
    "var <- quantile(train, 0.05)"
   ]
  },
  {
   "cell_type": "code",
   "execution_count": 53,
   "metadata": {},
   "outputs": [
    {
     "name": "stderr",
     "output_type": "stream",
     "text": [
      "Warning message in title(...):\n",
      "“ошибка конвертации 'Кривая VaR' в 'mbcsToSbcs': точка заменена на <d0>”Warning message in title(...):\n",
      "“ошибка конвертации 'Кривая VaR' в 'mbcsToSbcs': точка заменена на <9a>”Warning message in title(...):\n",
      "“ошибка конвертации 'Кривая VaR' в 'mbcsToSbcs': точка заменена на <d1>”Warning message in title(...):\n",
      "“ошибка конвертации 'Кривая VaR' в 'mbcsToSbcs': точка заменена на <80>”Warning message in title(...):\n",
      "“ошибка конвертации 'Кривая VaR' в 'mbcsToSbcs': точка заменена на <d0>”Warning message in title(...):\n",
      "“ошибка конвертации 'Кривая VaR' в 'mbcsToSbcs': точка заменена на <b8>”Warning message in title(...):\n",
      "“ошибка конвертации 'Кривая VaR' в 'mbcsToSbcs': точка заменена на <d0>”Warning message in title(...):\n",
      "“ошибка конвертации 'Кривая VaR' в 'mbcsToSbcs': точка заменена на <b2>”Warning message in title(...):\n",
      "“ошибка конвертации 'Кривая VaR' в 'mbcsToSbcs': точка заменена на <d0>”Warning message in title(...):\n",
      "“ошибка конвертации 'Кривая VaR' в 'mbcsToSbcs': точка заменена на <b0>”Warning message in title(...):\n",
      "“ошибка конвертации 'Кривая VaR' в 'mbcsToSbcs': точка заменена на <d1>”Warning message in title(...):\n",
      "“ошибка конвертации 'Кривая VaR' в 'mbcsToSbcs': точка заменена на <8f>”"
     ]
    },
    {
     "data": {
      "image/png": "[encoded data removed]",
      "text/plain": [
       "Plot with title “Кривая VaR”"
      ]
     },
     "metadata": {},
     "output_type": "display_data"
    }
   ],
   "source": [
    "plot(test, type=\"p\", main = \"Кривая VaR\")\n",
    "abline(h = var, col=\"red\")"
   ]
  },
  {
   "cell_type": "markdown",
   "metadata": {},
   "source": [
    "Мы видим, что на деле 6 точек попали ниже кривой, а должны были:\n",
    "\n",
    "https://rpubs.com/iezepov/e502lec2\n"
   ]
  },
  {
   "cell_type": "code",
   "execution_count": null,
   "metadata": {},
   "outputs": [],
   "source": [
    "0.05*length(test)\n"
   ]
  },
  {
   "cell_type": "code",
   "execution_count": null,
   "metadata": {},
   "outputs": [],
   "source": []
  },
  {
   "cell_type": "code",
   "execution_count": null,
   "metadata": {},
   "outputs": [],
   "source": []
  },
  {
   "cell_type": "code",
   "execution_count": null,
   "metadata": {},
   "outputs": [],
   "source": []
  },
  {
   "cell_type": "markdown",
   "metadata": {},
   "source": [
    "## Авторские права и почиташки \n",
    "\n",
    "Курс Ильи Езепова по рискам и всяким другим прикольным штукам в R. На самом деле, вы ещё не готовы к этому курсу. Для того, чтобы успешно его освоить, надо уметь хорошо проверять гипотезы, а также немного подучить эконометрику. \n",
    "\n",
    "Однако, вы смело можете попробовать ознакомиться с лекцией 1, лекцией 2 и лекцией 5. Материалы из них я использовал для создания этой тетрадки. Иногда вплоть до копипасты. \n",
    "\n",
    "* [Лекция 1, вводная](https://rpubs.com/iezepov/e502lec1)\n",
    "* [Лекция 2, кривая VaR, пакет ghyp и Монте-Карло](https://rpubs.com/iezepov/e502lec2)\n",
    "* [Лекция 3 - разговоры о волатильности, GARCH и ARCH модели. ](https://rpubs.com/iezepov/e502lec3)\n",
    "* [Лекция 4 - инвестируем в портфель и изучаем копулы.](https://rpubs.com/iezepov/e502lec4)\n",
    "* [Лекция 5 - много разных картинок.](https://rpubs.com/iezepov/e502lec5)\n",
    "* [Лекция 6 - моделирование хвостов и непараметриеские оценки.](https://rpubs.com/iezepov/e502lec6)\n",
    "* [Лекция 7 - PCA, факторный анализ, кластеризация и многое другое.](https://rpubs.com/iezepov/e502lec7)\n",
    "* [Лекция 8 - Временные ряды и панельные данные в R](https://rpubs.com/iezepov/e502lec8) \n",
    "\n",
    "Пусть ссылки на все эти лекции лежат тут. Когда вы морально будете готовы вникнуть в них, читайте! :) \n",
    "\n",
    "\n",
    "\n",
    "+ Книга кванты\n",
    "+ Хулиномика "
   ]
  },
  {
   "cell_type": "code",
   "execution_count": null,
   "metadata": {},
   "outputs": [],
   "source": []
  },
  {
   "cell_type": "code",
   "execution_count": null,
   "metadata": {},
   "outputs": [],
   "source": []
  },
  {
   "cell_type": "code",
   "execution_count": null,
   "metadata": {},
   "outputs": [],
   "source": []
  },
  {
   "cell_type": "code",
   "execution_count": null,
   "metadata": {},
   "outputs": [],
   "source": []
  },
  {
   "cell_type": "code",
   "execution_count": null,
   "metadata": {},
   "outputs": [],
   "source": []
  }
 ],
 "metadata": {
  "kernelspec": {
   "display_name": "R",
   "language": "R",
   "name": "ir"
  },
  "language_info": {
   "codemirror_mode": "r",
   "file_extension": ".r",
   "mimetype": "text/x-r-source",
   "name": "R",
   "pygments_lexer": "r",
   "version": "3.4.2"
  }
 },
 "nbformat": 4,
 "nbformat_minor": 2
}
