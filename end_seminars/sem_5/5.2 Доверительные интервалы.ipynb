{
 "cells": [
  {
   "cell_type": "markdown",
   "metadata": {},
   "source": [
    "<img src=\"https://raw.githubusercontent.com/FUlyankin/r_probability/master/end_seminars/sem_5/pEbNtDxzx0Q.jpg\" height=\"500\" width=\"500\"> \n",
    "\n",
    "# <center> R для тервера и матстата. <br>  <br> 5.2 Доверительные интервалы. </center>\n",
    "\n",
    "Данный ноутбук является конспектом по курсу «R для теории вероятностей и математической статистики» (РАНХиГС, 2017-2018). Автор ноутбука [вот этот парень по имени Филипп.](https://vk.com/ppilif) Если у вас для него есть деньги, слава или женщины, он от этого всего не откажется. Ноутбук распространяется на условиях лицензии [Creative Commons Attribution-Share Alike 4.0.](https://creativecommons.org/licenses/by-sa/4.0/) При использовании обязательно упоминание автора курса и аффилиации. При наличии технической возможности необходимо также указать активную гиперссылку на [страницу курса.](https://fulyankin.github.io/R_probability/) На ней можно найти другие материалы. Фрагменты кода, включенные в этот notebook, публикуются как [общественное достояние.](https://creativecommons.org/publicdomain/zero/1.0/)\n",
    "\n",
    "---------\n",
    "\n",
    "В этой части речь пойдёт о построении интервальных оценок. Мы уже говорили о доверительных интервалах в рамках метода максимального правдоподобия. В этой тетрадке мы как следует углубимся в это дело. В ней мы будем работать со сгенерированными данными. Настоящим данным мы посвятим следущую тетрадку."
   ]
  },
  {
   "cell_type": "code",
   "execution_count": 1,
   "metadata": {},
   "outputs": [],
   "source": [
    "library('ggplot2')"
   ]
  },
  {
   "cell_type": "markdown",
   "metadata": {},
   "source": [
    "# 1. В целом про доверительные интервалы \n",
    "\n",
    "Если объём выборки небольшой, то точечная оценка является очень грубой. Нам бы хотелось понимать насколько сильно мы ошибаемся. Для этого строятся доверительные интервалы.\n",
    "\n",
    "__Определение:__  интервал  $(\\theta_L; \\theta_R)$ называеся доверительным интервалом для параметра $\\theta$ с уровнем доверия $\\gamma$, если  при бесконечном повторении эксперимента в $100 \\cdot \\gamma \\%$ случаев этот интервал будет накрывать истиное значение параметра $\\theta$. \n",
    "\n",
    "Величина $\\alpha = 1 - \\gamma$ называется уровнем значимости. Обычно все определения записывают именно через него. Уровень значимости фиксируют до начала эксперимента. Загадывая уровень значимости, мы говорим в скольки случаях из $100$ мы согласны ошибиться. Например, если мы упаковываем в рюкзаеи $100$ парашютов на уровне значимости $5\\%$, значит $5$ парашютистов умрут. Чуть подробнее мы поговорим о нём, когда будем обсуждать проверку гипотез. \n",
    "\n",
    "Чтобы построить для оценки параметра доверительный интервал, нужно знать как эта оценка распределена. Давайте рассмотрим какой-нибудь простой пример. Пусть у нас есть какой-то продукт. Например, кофе. Нам хотелось бы оценить какой доле людей нравится наш кофе. Введём случайную величину: \n",
    "\n",
    "$$\n",
    "X = \\begin{cases} 1, \\text{ человеку нравится} \\\\ 0, \\text{ иначе} \\end{cases}.\n",
    "$$\n",
    "\n",
    "Такая случайная величина имеет распределение Бернулли с параметром $p$ - вероятностью, что люди любят наш кофе, $ X \\sim Ber(p)$.\n",
    "\n",
    "Измерить любовь к кофе можно с помощью опроса. Если в нём примут участие $n$ человек, то на выходе мы получим выборку, состоящую из нулей и единиц. Оценкой любви к кофе будет выборочная доля:\n",
    "\n",
    "$$\n",
    "\\hat p = \\frac{1}{n} \\sum_{i=1}^n x_i.\n",
    "$$\n",
    "\n",
    "По сути, эта оценка является выборочным средним. Значит мы можем воспользоваться ЦПТ и сказать, что: \n",
    "\n",
    "$$\n",
    "\\hat p \\sim N\\left(E(X), \\frac{Var(X)}{n}\\right).\n",
    "$$\n",
    "\n",
    "Для случайной величины, имеющей распределение Бернулли $E(X) = p$, $Var(X) = p \\cdot (1-p)$. Значит \n",
    "\n",
    "$$\n",
    "\\hat p \\sim N \\left(p, \\frac{p \\cdot (1-p)}{n}\\right).\n",
    "$$\n",
    "\n",
    "В параметрах распределения находится $p$, которое мы не знаем. Мы можем оценить их, подставив туда вместо $p$ его оценку.\n",
    "\n",
    "Тогда распределение параметра будет для нас полностью известно. Дальше мы можем пустить в ход небольшую [эвристику,](https://ru.wikipedia.org/wiki/Эвристический_алгоритм) которая называется правилом двух сигм. \n",
    "\n",
    "В прошлом семестре, вам показывали на лекции, что если $X \\sim N(\\mu,\\sigma^2)$, тогда интервал $(\\mu - 2\\cdot \\sigma; \\mu + 2 \\cdot \\sigma)$ покроет примерно $95\\%$ вероятностной массы распределния. Если вы не помните этого, то срочно отправляйтесь в лекции, в свойства нормального распределения и вспоминайте доказательство! \n",
    "\n",
    "Вспомнили? Давайте теперь используем его. Мы можем сказать, что\n",
    "\n",
    "$$\n",
    "P\\left(\\hat p - 2 \\sqrt{\\frac{\\hat p \\cdot (1 - \\hat p)}{n}} \\le p \\le \\hat p + 2 \\sqrt{\\frac{\\hat p \\cdot (1 - \\hat p)}{n}} \\right) = 0.95.\n",
    "$$\n",
    "\n",
    "Это выражение и будет $95\\%$ доверительным интервалом для доли любителей кофе. Если мы начнём собирать выборку по кофеманам и выясним, что для $n=10$, $\\hat p = 0.6$, доверительный интервал окажется равен $(0.29; 0.91)$. Если окажется, что для $n=100$, $\\hat p = 0.44$, то доверительный интервал окажется равен $(0.34; 0.54)$. \n",
    "\n",
    "Для второй ситуации он оказался намного уже. При сотне наблюдений наша уверенность в оценке увеличилась. Обратите внимание, что при $n=10$ мы поулчили оценку $0.6$. Доверительный интервал при этом не исключал возможность того, что истиный параметр равен $0.44$. В то же самое время, при сотне наблюдений вероятность того, что истиное значение параметра равно $0.6$ довольно сильно упала. Вот такие вот доверительные интервалы. \n",
    "\n",
    "Для правила двух сигм есть ещё две вариации. Это правило одной сигмы, которое покрывает $69 \\%$ вероятностной массы и правило трёх сигм, которое покрывает $99.7\\%$ вероятностной массы. \n",
    "\n",
    "В данном примере мы построили доверительный интервал на основе ЦПТ. Такой интервал является асимптотическим. На самом деле можно строить другие, более точные доверительные интервалы. Ниже мы научимся делать это и построим парочку. \n",
    "\n",
    "На практике обычно используют именно асимптотические методы строительства доверительных интервалов. Когда мы находим оценку максимального правдоподобия, мы по дефолту знаем, что она асимптотически имеет нормальное распределение. Грех не воспользоваться этим удобным фактом. Когда мы находим оценку метода моментов, она обычно выражается через средние. Мы, с помощью дельта-метода, можем определить её асимптотическое распределение и воспользоваться им для строительства доверительных интервалов. Это довольно удобно. \n",
    "\n",
    "На практике обычно не используют правило двух сигм. Его недостаточно. Во-первых, оно работает очень грубо. Во-вторых, хочется строить оценки не только для вероятности $95\\%$, а для любой вероятности. "
   ]
  },
  {
   "cell_type": "code",
   "execution_count": 2,
   "metadata": {},
   "outputs": [
    {
     "data": {
      "text/html": [
       "<ol class=list-inline>\n",
       "\t<li>&lt;NA&gt;</li>\n",
       "\t<li>&lt;NA&gt;</li>\n",
       "\t<li>0.398942280401433</li>\n",
       "\t<li>0.241970724519143</li>\n",
       "\t<li>0.0539909665131881</li>\n",
       "\t<li>&lt;NA&gt;</li>\n",
       "\t<li>&lt;NA&gt;</li>\n",
       "</ol>\n"
      ],
      "text/latex": [
       "\\begin{enumerate*}\n",
       "\\item <NA>\n",
       "\\item <NA>\n",
       "\\item 0.398942280401433\n",
       "\\item 0.241970724519143\n",
       "\\item 0.0539909665131881\n",
       "\\item <NA>\n",
       "\\item <NA>\n",
       "\\end{enumerate*}\n"
      ],
      "text/markdown": [
       "1. &lt;NA&gt;\n",
       "2. &lt;NA&gt;\n",
       "3. 0.398942280401433\n",
       "4. 0.241970724519143\n",
       "5. 0.0539909665131881\n",
       "6. &lt;NA&gt;\n",
       "7. &lt;NA&gt;\n",
       "\n",
       "\n"
      ],
      "text/plain": [
       "[1]         NA         NA 0.39894228 0.24197072 0.05399097         NA         NA"
      ]
     },
     "metadata": {},
     "output_type": "display_data"
    }
   ],
   "source": [
    "# Код для строительства картинки. Как обычно, вы не обязаны понимать его.\n",
    "# Взят отсюда: http://rstudio-pubs-static.s3.amazonaws.com/58753_13e35d9c089d4f55b176057235778679.html\n",
    "\n",
    "# Область, которую надо будет закрасить на графике \n",
    "limitRange <- function(fun, min, max) {\n",
    "    function(x) {\n",
    "        y <- fun(x)\n",
    "        y[x < min  |  x > max] <- NA\n",
    "        return(y)\n",
    "    }\n",
    "}\n",
    "  \n",
    "# Наша функция для закрашивания области порождает функцию. Звучит сложно, но это не так :)\n",
    "dlimit <- limitRange(dnorm, 0, 2)\n",
    "\n",
    "# Новая функция будет искать значения плотности нормального распределения только на фиксированном диапазоне\n",
    "dlimit(-2:4)"
   ]
  },
  {
   "cell_type": "code",
   "execution_count": 3,
   "metadata": {},
   "outputs": [
    {
     "data": {},
     "metadata": {},
     "output_type": "display_data"
    },
    {
     "data": {
      "image/png": "[encoded data removed]",
      "text/plain": [
       "plot without title"
      ]
     },
     "metadata": {},
     "output_type": "display_data"
    }
   ],
   "source": [
    "options(repr.plot.width=6, repr.plot.height=3)\n",
    "\n",
    "dlimit <- limitRange(dnorm, 0, 2) # какую область красим в голубой\n",
    "\n",
    "ggplot(data.frame(x=c(-3, 3)), aes(x = x))+\n",
    "       stat_function(fun=dnorm) +  # вся функция \n",
    "       stat_function(fun=dlimit, geom=\"area\", fill=\"blue\", alpha=0.2) # область для закраски"
   ]
  },
  {
   "cell_type": "code",
   "execution_count": 4,
   "metadata": {},
   "outputs": [
    {
     "data": {},
     "metadata": {},
     "output_type": "display_data"
    },
    {
     "data": {
      "image/png": "[encoded data removed]",
      "text/plain": [
       "plot without title"
      ]
     },
     "metadata": {},
     "output_type": "display_data"
    }
   ],
   "source": [
    "options(repr.plot.width=6, repr.plot.height=3)\n",
    "\n",
    "dnorm_one_sd <- limitRange(dnorm, -1, 1) \n",
    "dnorm_two_sd <- limitRange(dnorm, -2, 2)  \n",
    "dnorm_three_sd <- limitRange(dnorm, -3, 3)  \n",
    "\n",
    "ggplot(data.frame(x=c(-5, 5)), aes(x = x))+\n",
    "        stat_function(fun = dnorm) +  \n",
    "        stat_function(fun = dnorm_three_sd, geom = \"area\", fill = \"green\", alpha = 0.3) +\n",
    "        stat_function(fun = dnorm_two_sd, geom = \"area\", fill = \"orange\", alpha = 0.3) +\n",
    "        stat_function(fun = dnorm_one_sd, geom = \"area\", fill = \"red\", alpha = 0.3) +\n",
    "        geom_text(x = 0, y = 0.22, size = 4, fontface = \"bold\",\n",
    "        label = paste0(round(pnorm(1) - pnorm(-1), 4) * 100, \"%\")) +\n",
    "        geom_text(x = 0, y = 0.15, size = 4, fontface = \"bold\",\n",
    "        label = paste0(round(pnorm(2) - pnorm(-2), 4) * 100, \"%\")) +\n",
    "        geom_text(x = 0, y = 0.025, size = 4, fontface = \"bold\",\n",
    "        label = paste0(round(pnorm(3) - pnorm(-3), 4) * 100, \"%\"))"
   ]
  },
  {
   "cell_type": "markdown",
   "metadata": {},
   "source": [
    "Чтобы уточнить правило двух сигм, можно воспользовться таблицами с квантилями. Давайте я напомню вам определение квантиля. \n",
    "\n",
    "__Определение:__ Квантилем уровня $\\alpha$ случайной величины $X$ называется такое значение $X_{\\alpha}$ этой случайной величины, что $P(X \\le X_{\\alpha}) = \\alpha$. \n",
    "\n",
    "Например, ниже, изображён двух с половиной процентный квантиль нормальной случайной величины. Как вы можете убедиться, это не двойка, a $-1.96$"
   ]
  },
  {
   "cell_type": "code",
   "execution_count": 5,
   "metadata": {},
   "outputs": [
    {
     "data": {},
     "metadata": {},
     "output_type": "display_data"
    },
    {
     "data": {
      "image/png": "[encoded data removed]",
      "text/plain": [
       "plot without title"
      ]
     },
     "metadata": {},
     "output_type": "display_data"
    }
   ],
   "source": [
    "options(repr.plot.width=6, repr.plot.height=3)\n",
    "\n",
    "dlimit <- limitRange(dnorm, -Inf, qnorm(0.05/2)) # какую область красим в голубой\n",
    "\n",
    "ggplot(data.frame(x=c(-3, 3)), aes(x = x))+\n",
    "       stat_function(fun=dnorm) +  # вся функция \n",
    "       stat_function(fun=dlimit, geom=\"area\", fill=\"blue\", alpha=0.2) # область для закраски"
   ]
  },
  {
   "cell_type": "code",
   "execution_count": 6,
   "metadata": {},
   "outputs": [
    {
     "data": {
      "text/html": [
       "-1.95996398454005"
      ],
      "text/latex": [
       "-1.95996398454005"
      ],
      "text/markdown": [
       "-1.95996398454005"
      ],
      "text/plain": [
       "[1] -1.959964"
      ]
     },
     "metadata": {},
     "output_type": "display_data"
    }
   ],
   "source": [
    "qnorm(0.05/2)"
   ]
  },
  {
   "cell_type": "markdown",
   "metadata": {},
   "source": [
    "Можно переписать определение квантиля немного иным языком. Так как $P(X \\le X_{\\alpha}) = F_{X} (\\alpha)$, мы можем написать, что $X_{\\alpha} = F^{-1}_X (\\alpha)$. Тогда уточнённое правило двух сигм a.k.a. (as known as) настоящий асимптотический $95\\%$ доверительный интервал, можно записать как \n",
    "\n",
    "$$ F^{-1}_{\\hat p}\\left(\\frac{\\alpha}{2}\\right) \\le \\hat p \\le F^{-1}_{\\hat p}\\left(1 -\\frac{\\alpha}{2}\\right)$$\n",
    "\n",
    "Эти квантили будут задавать доверительный интервал с уровнем доверия $1 - \\alpha$.  Чтобы не быть голословными, давайте насобираем каких-нибудь данных и как следует настроим асимптотических доверительных интервалов!"
   ]
  },
  {
   "cell_type": "markdown",
   "metadata": {},
   "source": [
    "# 2. Асимптотические доверительные интервалы\n",
    "\n",
    "Резюмирую первый параграф тетрадки: очень часто на практике \n",
    "\n",
    "$$\n",
    "\\frac{\\hat \\theta - \\theta}{se(\\hat \\theta)} \\to N(0,1)\n",
    "$$\n",
    "\n",
    "по распределению. Исходя из этого строят доверительные интервалы. $se$ в данном случае это стандартная ошибка, то есть оценка стандартного отклонения нашей оценки, $ se(\\hat \\theta) = \\sqrt{\\hat{Var}(\\hat \\theta)}$.\n",
    "\n",
    "\n",
    "## 2.1 Асимптотический доверительный интервал для доли\n",
    "\n",
    "Поехали! Пусть мы пердполагаем, что $X \\sim Bern(p)$, мы собрали выборку, получили $\\hat p$ методом максимального правдоподобия и теперь хотим построить для неё доверительный интервал. \n",
    "\n",
    "Зафиксируем зерно генерации (вспомните зачем это делается) и создадим огромную генеральную совокупность. Давайте считать, что это генеральная совокупность состоит из любителей кофе. Один означает, что человек любит кофе, нолик что нет. Всего в городе живет $100000$ человек."
   ]
  },
  {
   "cell_type": "code",
   "execution_count": 7,
   "metadata": {},
   "outputs": [],
   "source": [
    "set.seed(42)\n",
    "x_general = sample(x = c(0,1), prob = c(0.3,0.7), size = 10^5, replace = TRUE)"
   ]
  },
  {
   "cell_type": "markdown",
   "metadata": {},
   "source": [
    "Представим себе, что мы не знаем что находится в генеральной совокупности. Две строчки выше за нас запустила природа. И не показала их нам. \n",
    "\n",
    "Мы, как исследователи, понимаем, что опрашивать каждого из ста тысяч дорого. Но долю любетелей кофе оценить хотелось бы. Поэтому мы решаем опросить $100$ случайных человек. "
   ]
  },
  {
   "cell_type": "code",
   "execution_count": 8,
   "metadata": {},
   "outputs": [],
   "source": [
    "set.seed(42)\n",
    "x_sample = sample(size = 100, x_general)"
   ]
  },
  {
   "cell_type": "markdown",
   "metadata": {},
   "source": [
    "Вот у нас и появилась выборка. Мы можем получить точечную оценку доли, напрмер, воспользовавшись методом максимального правдоподобия. Это будет среднее. "
   ]
  },
  {
   "cell_type": "code",
   "execution_count": 9,
   "metadata": {},
   "outputs": [
    {
     "data": {
      "text/html": [
       "0.67"
      ],
      "text/latex": [
       "0.67"
      ],
      "text/markdown": [
       "0.67"
      ],
      "text/plain": [
       "[1] 0.67"
      ]
     },
     "metadata": {},
     "output_type": "display_data"
    }
   ],
   "source": [
    "mean(x_sample)"
   ]
  },
  {
   "cell_type": "markdown",
   "metadata": {},
   "source": [
    "При этом реальное, посчитанное по всей генеральной совокупности среднее будет"
   ]
  },
  {
   "cell_type": "code",
   "execution_count": 10,
   "metadata": {},
   "outputs": [
    {
     "data": {
      "text/html": [
       "0.69773"
      ],
      "text/latex": [
       "0.69773"
      ],
      "text/markdown": [
       "0.69773"
      ],
      "text/plain": [
       "[1] 0.69773"
      ]
     },
     "metadata": {},
     "output_type": "display_data"
    }
   ],
   "source": [
    "mean(x_general)"
   ]
  },
  {
   "cell_type": "markdown",
   "metadata": {},
   "source": [
    "Мы не знаем его. У нас есть точечная оценка и мы хотим построить по ней доверительный интервал. Мы знаем, что \n",
    "\n",
    "$$\n",
    "\\hat p \\sim N \\left(p, \\frac{p \\cdot (1-p)}{n}\\right).\n",
    "$$\n",
    "\n",
    "Значит доверительный интервал для доли будет выглядеть как:\n",
    "\n",
    "$$\n",
    "\\hat{p}\\pm z_{1-\\frac{\\alpha}{2}} \\sqrt{\\frac{\\hat{p}\\left(1-\\hat{p}\\right)}{n}}\n",
    "$$\n",
    "\n",
    "В данном случае $z_{\\alpha}$ это квантиль нормального распределения уровня $\\alpha$. Это стандартное обозначение.\n",
    "Дело за малым, найти интервал:"
   ]
  },
  {
   "cell_type": "code",
   "execution_count": 11,
   "metadata": {},
   "outputs": [
    {
     "data": {
      "text/html": [
       "0.67"
      ],
      "text/latex": [
       "0.67"
      ],
      "text/markdown": [
       "0.67"
      ],
      "text/plain": [
       "[1] 0.67"
      ]
     },
     "metadata": {},
     "output_type": "display_data"
    },
    {
     "data": {
      "text/html": [
       "0.047021271782035"
      ],
      "text/latex": [
       "0.047021271782035"
      ],
      "text/markdown": [
       "0.047021271782035"
      ],
      "text/plain": [
       "[1] 0.04702127"
      ]
     },
     "metadata": {},
     "output_type": "display_data"
    }
   ],
   "source": [
    "p_hat = mean(x_sample)\n",
    "p_hat\n",
    "\n",
    "sd_p = sqrt(p_hat*(1-p_hat)/100)\n",
    "sd_p"
   ]
  },
  {
   "cell_type": "code",
   "execution_count": 12,
   "metadata": {},
   "outputs": [
    {
     "name": "stdout",
     "output_type": "stream",
     "text": [
      "Параметр p с вероятностью 95% лежит между 0.57784 и 0.76216 \n",
      "Длина интервала: 0.18432"
     ]
    }
   ],
   "source": [
    "p_left  = p_hat - qnorm(1-0.05/2)*sd_p\n",
    "p_right = p_hat + qnorm(1-0.05/2)*sd_p\n",
    "cat('Параметр p с вероятностью 95% лежит между',p_left, 'и',p_right, '\\n')\n",
    "cat('Длина интервала:', p_right-p_left)"
   ]
  },
  {
   "cell_type": "markdown",
   "metadata": {},
   "source": [
    "Ясное дело, что если мы возьмём в выборку большее число респондентов, интервал станет уже. "
   ]
  },
  {
   "cell_type": "code",
   "execution_count": 13,
   "metadata": {},
   "outputs": [
    {
     "name": "stdout",
     "output_type": "stream",
     "text": [
      "Параметр p с вероятностью 95% лежит между 0.6439243 и 0.7020757 \n",
      "Длина интервала: 0.05815131"
     ]
    }
   ],
   "source": [
    "set.seed(42)\n",
    "x_sample = sample(size = 1000, x_general)\n",
    "\n",
    "p_hat = mean(x_sample)\n",
    "sd_p = sqrt(p_hat*(1-p_hat)/1000)\n",
    "\n",
    "p_left  = p_hat - qnorm(1-0.05/2)*sd_p\n",
    "p_right = p_hat + qnorm(1-0.05/2)*sd_p\n",
    "cat('Параметр p с вероятностью 95% лежит между',p_left, 'и',p_right, '\\n')\n",
    "cat('Длина интервала:', p_right-p_left)"
   ]
  },
  {
   "cell_type": "markdown",
   "metadata": {},
   "source": [
    "В связи с этим может возникнуть вопрос: а какое количество наблюдений надо взять, чтобы интервал получился заданной ширины? К счастью это не проблема. Ширину доверительного интервала можно вычислить как:\n",
    "\n",
    "$$\n",
    "p_{left} - p_{right} = 2 \\cdot z_{1-\\frac{\\alpha}{2}} \\sqrt{\\frac{\\hat{p}\\left(1-\\hat{p}\\right)}{n}}\n",
    "$$\n",
    "\n",
    "Отсюда можно посчитать число наблюдений, которое нам необходимо для строительства доверительного интервала фиксированной ширины:\n",
    "\n",
    "$$\n",
    "n = \\frac{4 z^2 \\cdot p \\cdot (1-p)}{(p_{left} - p_{right})^2}\n",
    "$$"
   ]
  },
  {
   "cell_type": "code",
   "execution_count": 14,
   "metadata": {},
   "outputs": [
    {
     "data": {
      "text/html": [
       "338.157473651591"
      ],
      "text/latex": [
       "338.157473651591"
      ],
      "text/markdown": [
       "338.157473651591"
      ],
      "text/plain": [
       "[1] 338.1575"
      ]
     },
     "metadata": {},
     "output_type": "display_data"
    },
    {
     "data": {
      "text/html": [
       "1352.62989460636"
      ],
      "text/latex": [
       "1352.62989460636"
      ],
      "text/markdown": [
       "1352.62989460636"
      ],
      "text/plain": [
       "[1] 1352.63"
      ]
     },
     "metadata": {},
     "output_type": "display_data"
    }
   ],
   "source": [
    "sample_len <- function(len){\n",
    "    return(4*qnorm(1-0.05/2)^2*p_hat*(1-p_hat)/len^2)\n",
    "    }\n",
    "\n",
    "sample_len(0.1)  # для длины 0.1  нужно 338 наблюдения\n",
    "sample_len(0.05) # для длины 0.05 нужно 1352 наблюдения"
   ]
  },
  {
   "cell_type": "markdown",
   "metadata": {},
   "source": [
    "Ясное дело, что можно сделать всё это в рамках какого-нибудь пакета. Например, в пакете `binom` присутствует довольно много разных методов построения доверительных интервалов для долей. "
   ]
  },
  {
   "cell_type": "code",
   "execution_count": 15,
   "metadata": {},
   "outputs": [
    {
     "data": {
      "text/html": [
       "<table>\n",
       "<thead><tr><th scope=col>method</th><th scope=col>x</th><th scope=col>n</th><th scope=col>mean</th><th scope=col>lower</th><th scope=col>upper</th></tr></thead>\n",
       "<tbody>\n",
       "\t<tr><td>asymptotic</td><td>673       </td><td>1000      </td><td>0.673     </td><td>0.6439243 </td><td>0.7020757 </td></tr>\n",
       "</tbody>\n",
       "</table>\n"
      ],
      "text/latex": [
       "\\begin{tabular}{r|llllll}\n",
       " method & x & n & mean & lower & upper\\\\\n",
       "\\hline\n",
       "\t asymptotic & 673        & 1000       & 0.673      & 0.6439243  & 0.7020757 \\\\\n",
       "\\end{tabular}\n"
      ],
      "text/markdown": [
       "\n",
       "method | x | n | mean | lower | upper | \n",
       "|---|\n",
       "| asymptotic | 673        | 1000       | 0.673      | 0.6439243  | 0.7020757  | \n",
       "\n",
       "\n"
      ],
      "text/plain": [
       "  method     x   n    mean  lower     upper    \n",
       "1 asymptotic 673 1000 0.673 0.6439243 0.7020757"
      ]
     },
     "metadata": {},
     "output_type": "display_data"
    }
   ],
   "source": [
    "library('binom')\n",
    "binom.confint(sum(x_sample), length(x_sample), conf.level = 0.95, methods = 'asymptotic')"
   ]
  },
  {
   "cell_type": "markdown",
   "metadata": {},
   "source": [
    "С помощью этого же пакета можно выяснить какой будет ширина доверительного интервала для доли при фиксированном числе наблюдений."
   ]
  },
  {
   "cell_type": "code",
   "execution_count": 16,
   "metadata": {},
   "outputs": [
    {
     "data": {
      "text/html": [
       "<table>\n",
       "<thead><tr><th scope=col>method</th><th scope=col>n</th><th scope=col>p</th><th scope=col>length</th></tr></thead>\n",
       "<tbody>\n",
       "\t<tr><td>asymptotic</td><td>  10      </td><td>0.673     </td><td>0.54172133</td></tr>\n",
       "\t<tr><td>asymptotic</td><td>  50      </td><td>0.673     </td><td>0.25704406</td></tr>\n",
       "\t<tr><td>asymptotic</td><td> 100      </td><td>0.673     </td><td>0.18283545</td></tr>\n",
       "\t<tr><td>asymptotic</td><td>1000      </td><td>0.673     </td><td>0.05811825</td></tr>\n",
       "</tbody>\n",
       "</table>\n"
      ],
      "text/latex": [
       "\\begin{tabular}{r|llll}\n",
       " method & n & p & length\\\\\n",
       "\\hline\n",
       "\t asymptotic &   10       & 0.673      & 0.54172133\\\\\n",
       "\t asymptotic &   50       & 0.673      & 0.25704406\\\\\n",
       "\t asymptotic &  100       & 0.673      & 0.18283545\\\\\n",
       "\t asymptotic & 1000       & 0.673      & 0.05811825\\\\\n",
       "\\end{tabular}\n"
      ],
      "text/markdown": [
       "\n",
       "method | n | p | length | \n",
       "|---|---|---|---|\n",
       "| asymptotic |   10       | 0.673      | 0.54172133 | \n",
       "| asymptotic |   50       | 0.673      | 0.25704406 | \n",
       "| asymptotic |  100       | 0.673      | 0.18283545 | \n",
       "| asymptotic | 1000       | 0.673      | 0.05811825 | \n",
       "\n",
       "\n"
      ],
      "text/plain": [
       "  method     n    p     length    \n",
       "1 asymptotic   10 0.673 0.54172133\n",
       "2 asymptotic   50 0.673 0.25704406\n",
       "3 asymptotic  100 0.673 0.18283545\n",
       "4 asymptotic 1000 0.673 0.05811825"
      ]
     },
     "metadata": {},
     "output_type": "display_data"
    }
   ],
   "source": [
    "binom.length(p = p_hat, n = c(10,50,100,1000), methods = 'asymptotic')"
   ]
  },
  {
   "cell_type": "markdown",
   "metadata": {},
   "source": [
    "Какие другие методы есть в пакете? Например, есть доверительный интервал Уилсона. Это улучшенный доверительный интервал, который даёт качественные оценки на границах. При близкой к нулю или единице доли. Также неплох для малых выборок.\n",
    "\n",
    "$$\\frac1{ 1 + \\frac{z^2}{n} } \\left( \\hat{p} + \\frac{z^2}{2n} \\pm z \\sqrt{ \\frac{ \\hat{p}\\left(1-\\hat{p}\\right)}{n} + \\frac{\n",
    "z^2}{4n^2} } \\right), \\;\\; z \\equiv z_{1-\\frac{\\alpha}{2}}$$ \n"
   ]
  },
  {
   "cell_type": "code",
   "execution_count": 17,
   "metadata": {},
   "outputs": [
    {
     "data": {
      "text/html": [
       "<table>\n",
       "<thead><tr><th scope=col>method</th><th scope=col>x</th><th scope=col>n</th><th scope=col>mean</th><th scope=col>lower</th><th scope=col>upper</th></tr></thead>\n",
       "<tbody>\n",
       "\t<tr><td>asymptotic</td><td>94        </td><td>100       </td><td>0.94      </td><td>0.8934534 </td><td>0.9865466 </td></tr>\n",
       "\t<tr><td>wilson    </td><td>94        </td><td>100       </td><td>0.94      </td><td>0.8752318 </td><td>0.9722139 </td></tr>\n",
       "</tbody>\n",
       "</table>\n"
      ],
      "text/latex": [
       "\\begin{tabular}{r|llllll}\n",
       " method & x & n & mean & lower & upper\\\\\n",
       "\\hline\n",
       "\t asymptotic & 94         & 100        & 0.94       & 0.8934534  & 0.9865466 \\\\\n",
       "\t wilson     & 94         & 100        & 0.94       & 0.8752318  & 0.9722139 \\\\\n",
       "\\end{tabular}\n"
      ],
      "text/markdown": [
       "\n",
       "method | x | n | mean | lower | upper | \n",
       "|---|---|\n",
       "| asymptotic | 94         | 100        | 0.94       | 0.8934534  | 0.9865466  | \n",
       "| wilson     | 94         | 100        | 0.94       | 0.8752318  | 0.9722139  | \n",
       "\n",
       "\n"
      ],
      "text/plain": [
       "  method     x  n   mean lower     upper    \n",
       "1 asymptotic 94 100 0.94 0.8934534 0.9865466\n",
       "2 wilson     94 100 0.94 0.8752318 0.9722139"
      ]
     },
     "metadata": {},
     "output_type": "display_data"
    }
   ],
   "source": [
    "set.seed(42)\n",
    "x_sample = sample(x = c(0,1), prob = c(0.05,0.95), size = 100, replace = TRUE)\n",
    "\n",
    "binom.confint(sum(x_sample), length(x_sample), conf.level = 0.95, methods = c('asymptotic', 'wilson'))"
   ]
  },
  {
   "cell_type": "markdown",
   "metadata": {},
   "source": [
    "## 2.2 Асимптотический доверительный интервал для параметра показательного распределения. \n",
    "\n",
    "Подъехало разнообразие, но это неточно. Пусть $X \\sim Exp(\\alpha)$. Как вы помните оценкой максимального правдоподобия для $\\alpha$ является $\\frac{1}{\\bar x}$. Если мы хотим построить для $\\alpha$ на основе этой оценки доверительный интервал, мы должны понять какое распределение будет у $\\frac{1}{\\bar x}$? "
   ]
  },
  {
   "cell_type": "markdown",
   "metadata": {},
   "source": [
    "__Путь хитрюшки:__ а давайте сделаем замену параметра и будем интересоваться $\\lambda = \\frac{1}{\\alpha}$. Тогда оценкой максимального правдоподобия для $\\lambda$ будет как раз $\\bar x$. А оно имеет асимптотически нормальное распределение: \n",
    "\n",
    "$$\n",
    "\\bar x \\sim N (\\lambda, \\frac{\\lambda^2}{n}).\n",
    "$$\n",
    "\n",
    "Мы можем построить доверительный интервал для $\\lambda$. Мы знаем, что \n",
    "\n",
    "$$\n",
    "\\frac{\\bar x - \\lambda}{\\frac{\\lambda}{\\sqrt{n}}} = \\sqrt{n}\\left(\\frac{\\bar x}{\\lambda} - 1 \\right) = \\sqrt{n} (\\alpha \\bar x - 1) \\sim N(0,1),\n",
    "$$\n",
    "\n",
    "тогда\n",
    "\n",
    "$$\n",
    "- z_{1-\\frac{\\alpha}{2}}\\le \\sqrt{n} (\\alpha \\bar x - 1) \\le  z_{1-\\frac{\\alpha}{2}}.\n",
    "$$\n",
    "\n",
    "В итоге получаем:\n",
    "\n",
    "$$\n",
    "\\frac{1}{\\bar x} - z_{1-\\frac{\\alpha}{2}} \\cdot \\frac{1}{\\sqrt{n} \\bar{x}} \\le \\alpha \\le \\frac{1}{\\bar x} + z_{1-\\frac{\\alpha}{2}} \\cdot \\frac{1}{\\sqrt{n} \\bar{x}}.\n",
    "$$"
   ]
  },
  {
   "cell_type": "markdown",
   "metadata": {},
   "source": [
    "__Путь простушки:__ наша оценка это функция от среднего! А для таких ситуаций есть дельта-метод, который поможет нам найти характеристики нашего параметра. Ну а дальше всё построится само. \n",
    "\n",
    "$$\n",
    "\\begin{aligned}\n",
    "E(X) = \\frac{1}{\\alpha} \\\\  Var(X) = \\frac{1}{\\alpha^2} \\\\\n",
    "g(t) = \\frac{1}{t} \\\\ g'(t) = -\\frac{1}{t^2} \\\\\n",
    "\\end{aligned}\n",
    "$$\n",
    "\n",
    "В итоге получаем, что $$\\frac{1}{\\bar x} \\sim N \\left(\\alpha, \\frac{\\alpha^2}{n} \\right).$$ Исходя отсюда строим доверительный интервал:\n",
    "\n",
    "$$\n",
    "\\frac{1}{\\bar x} - z_{1-\\frac{\\alpha}{2}} \\cdot \\frac{1}{\\sqrt{n} \\bar{x}} \\le \\alpha \\le \\frac{1}{\\bar x} + z_{1-\\frac{\\alpha}{2}} \\cdot \\frac{1}{\\sqrt{n} \\bar{x}}\n",
    "$$\n",
    "\n",
    "Какой бы путь вы не выбрали: хитрюшки или простушки, вы получите в конце один и тот же асимптотический интервал."
   ]
  },
  {
   "cell_type": "markdown",
   "metadata": {},
   "source": [
    "#### Общая схема строительства асимптотического доверительного интервала заключается в том, что нужно:\n",
    "\n",
    "1. Понять какой асимптотическое распределение у нашей оценки. Из-за того, что чаще всего она выражена через средние, оно чаще всего будет нормальным. \n",
    "2. Найти квантили этого асимптотического распределения.\n",
    "3. Выразить через квантили доверительный интервал. \n",
    "\n",
    "Ничего сложного. А что если попробовать найти не асимптотическое распределение, а точное? Тогда же интервалы будут точнее... Хорошая идея! И иногда можно такое утроить. "
   ]
  },
  {
   "cell_type": "markdown",
   "metadata": {},
   "source": [
    "# 3. Точные доверительные интервалы \n",
    "\n",
    "В общем случае $\\bar x$ имеет асимптотически нормальное распределение. Когда $X \\sim N(\\mu, \\sigma^2)$, статистика $\\bar x$ имеет в точности нормальное распределение. Это означает, что для данного узкого случая мы можем построить точные доверительные интервалы. \n",
    "\n",
    "## 3.1 Доверительный интервал для математического ожидания нормального распределения \n",
    "\n",
    "Пусть процесс порождения данных даровал нам случайную величину из нормального распределения, $X \\sim N(\\mu, \\sigma^2)$. Сгенерируем для неё генеральную совокупность! "
   ]
  },
  {
   "cell_type": "code",
   "execution_count": 18,
   "metadata": {},
   "outputs": [],
   "source": [
    "set.seed(42)\n",
    "x_general = rnorm(10^5, mean = 4, sd = 50)"
   ]
  },
  {
   "cell_type": "markdown",
   "metadata": {},
   "source": [
    "Мы пронаблюдали какую-то выборку, при этом о задумке природы относительно генеральной совокупности ничего не зная."
   ]
  },
  {
   "cell_type": "code",
   "execution_count": 19,
   "metadata": {},
   "outputs": [],
   "source": [
    "set.seed(42)\n",
    "x_sample = sample(x = x_general, size = 100)"
   ]
  },
  {
   "cell_type": "markdown",
   "metadata": {},
   "source": [
    "По этой выборке мы оценили параметр $\\mu$. Как мы помним, хорошей оценкой для него является среднее. "
   ]
  },
  {
   "cell_type": "code",
   "execution_count": 20,
   "metadata": {},
   "outputs": [
    {
     "data": {
      "text/html": [
       "6.24937833676195"
      ],
      "text/latex": [
       "6.24937833676195"
      ],
      "text/markdown": [
       "6.24937833676195"
      ],
      "text/plain": [
       "[1] 6.249378"
      ]
     },
     "metadata": {},
     "output_type": "display_data"
    }
   ],
   "source": [
    "mu_hat = mean(x_sample)\n",
    "mu_hat"
   ]
  },
  {
   "cell_type": "markdown",
   "metadata": {},
   "source": [
    "При этом истиное значение мю было равно"
   ]
  },
  {
   "cell_type": "code",
   "execution_count": 21,
   "metadata": {},
   "outputs": [
    {
     "data": {
      "text/html": [
       "3.79369088501736"
      ],
      "text/latex": [
       "3.79369088501736"
      ],
      "text/markdown": [
       "3.79369088501736"
      ],
      "text/plain": [
       "[1] 3.793691"
      ]
     },
     "metadata": {},
     "output_type": "display_data"
    }
   ],
   "source": [
    "mean(x_general)"
   ]
  },
  {
   "cell_type": "markdown",
   "metadata": {},
   "source": [
    "Мы знаем, что \n",
    "\n",
    "$$\n",
    "\\bar x \\sim N(\\mu, \\frac{\\sigma^2}{n}).\n",
    "$$\n",
    "\n",
    "Причём это распределение получено не на основе ЦПТ. Оно является точным. \n",
    "\n",
    "$$\n",
    "\\bar x = \\frac{x_1 + \\ldots + x_n}{n}\n",
    "$$\n",
    "\n",
    "Случайные величины $x_1, \\ldots, x_n$ имеют нормальное распределение. Как мы помним из свойств нормального распределения, сумма нормальных распределений распределена нормально. То, что среднее будет распределено именно с такими параметрами, вы должны получить сами. Если вы не можете сделать это, пишите мне в л.c. У вас большие проблемы. Зная, что среднее иммеет нормальное распрделение, рассуждая по аналогии с долей любителей кофе, получаем доверительный интервал для $\\mu$:\n",
    "\n",
    "$$\n",
    "\\bar{x} - z_{1-\\frac{\\alpha}{2}} \\frac{\\sigma}{\\sqrt{n}} \\le \\mu \\le \\bar{x} + z_{1-\\frac{\\alpha}{2}} \\frac{\\sigma}{\\sqrt{n}}\n",
    "$$\n",
    "\n",
    "\n",
    "В этой формуле есть один неизвестный нам элемент, $\\sigma$. Допустим, нам откуда-то известно, что дисперсия $\\sigma^2=50^2$. Построим доверительные интервал для этого случая."
   ]
  },
  {
   "cell_type": "code",
   "execution_count": 22,
   "metadata": {},
   "outputs": [
    {
     "name": "stdout",
     "output_type": "stream",
     "text": [
      "Параметр mu с вероятностью 95% лежит между -3.550442 и 16.0492 \n",
      "Длина интервала: 19.59964"
     ]
    }
   ],
   "source": [
    "mu_hat  = mean(x_sample)\n",
    "mu_left = mu_hat - qnorm(1-0.05/2)*50/sqrt(100)\n",
    "mu_right= mu_hat + qnorm(1-0.05/2)*50/sqrt(100)\n",
    "cat('Параметр mu с вероятностью 95% лежит между',mu_left, 'и',mu_right, '\\n')\n",
    "cat('Длина интервала:', mu_right-mu_left)"
   ]
  },
  {
   "cell_type": "markdown",
   "metadata": {},
   "source": [
    "В чём минус этого интервала? Дисперсия взята с потолка. Случаи, когда она известна, очень редки. Пример случая, когда можно использовать такой интервал, - оценка работы некоторого прибора. В таких ситуациях известна его погрешность, а значит, и дисперсия. \n",
    "\n",
    "В случаях, когда она неизвестна, её нужно оценить по выборке. Тогда мы можем сказать, что выборочное среднее будет иметь распределение:\n",
    "\n",
    "$$\n",
    "\\bar x \\sim N(\\mu, \\frac{s^2}{n}).\n",
    "$$\n",
    "\n",
    "Это распределение уже будет асимптотическим, потому что мы считали оценку дисперсии по выборке. Посмотрим каким окажется доверительный интервал: "
   ]
  },
  {
   "cell_type": "code",
   "execution_count": 23,
   "metadata": {},
   "outputs": [
    {
     "name": "stdout",
     "output_type": "stream",
     "text": [
      "Параметр mu с вероятностью 95% лежит между -2.967016 и 15.46577 \n",
      "Длина интервала: 18.43279"
     ]
    }
   ],
   "source": [
    "mu_hat  = mean(x_sample)\n",
    "mu_left = mu_hat - qnorm(1-0.05/2)*sd(x_sample)/sqrt(100)\n",
    "mu_right= mu_hat + qnorm(1-0.05/2)*sd(x_sample)/sqrt(100)\n",
    "cat('Параметр mu с вероятностью 95% лежит между',mu_left, 'и',mu_right, '\\n')\n",
    "cat('Длина интервала:', mu_right-mu_left)"
   ]
  },
  {
   "cell_type": "markdown",
   "metadata": {},
   "source": [
    "В чём минус такого интервала? Он асимптотический. А можно было бы построить точный. Можно показать, что случайная величина $\\sqrt{n} \\cdot \\frac{\\bar x - \\mu}{s}$ имеет распределение стьюдента с $n-1$ степенью свободы. \n",
    "\n",
    "Что делать, если дисперсия неизвестна? Оценить её по выборке! Тогда у нас будет уже целых два распределения: для среднего и для выборочной дисперсии. Со средним всё просто: \n",
    "\n",
    "$$\n",
    "\\hat \\mu \\sim N\\left(\\mu, \\frac{\\sigma^2}{n}  \\right)\n",
    "$$\n",
    "\n",
    "С дисперсией чуток сложнее. По Тореме Фишера, если генеральная совокупность имеет нормальное распределение, то статистика $\\frac{n s^2}{\\sigma^2} \\sim \\chi^2_{n-1}$. Не помните такого факта? Марш в лекции! Найдите его и внимательно изучите!\n",
    "\n",
    "Владея этим фактом, мы можем сделать для статистики для проверки гипотезы небольшой финт: \n",
    "\n",
    "$$\n",
    "\\frac{\\bar x - \\mu}{\\frac{s}{\\sqrt{n}}} = \\frac{\\bar x - \\mu}{\\frac{\\sigma}{\\sqrt{n}}} : \\sqrt{\\frac{1}{n-1} \\frac{(n-1) s^2}{\\sigma^2}} \\sim \\frac{N(0,1)}{\\sqrt{\\frac{\\chi^2_{n-1}}{n-1}}} = t_{n-1} \n",
    "$$\n",
    "\n",
    "Подытожим. Если дисперсия неизвестна и её надо оценить, то\n",
    "\n",
    "$$\n",
    "\\frac{\\bar x - \\mu}{\\frac{s}{\\sqrt{n}}} \\sim t(n-1).\n",
    "$$\n",
    "\n",
    "Обратите внимание, что это распределение точное. Также обратите внимание, что при $n \\to \\infty$ распределение Стьюдента сходится к нормальному. Значит наша статистика будет иметь асимптотически нормальное распределение и при больших $n$ можно смело использовать его. Погрешность при его использовании будет небольшой. Но ежели нужен точный результат, а не асимптотический, используйте распределение Стьюдента. Зная точное распределение, мы можем построить для математического ожидания точный доверительный интервал: \n",
    "\n",
    "$$\n",
    "\\bar{x} \\pm t_{1-\\frac{\\alpha}{2}} \\frac{s}{\\sqrt{n}}\n",
    "$$\n"
   ]
  },
  {
   "cell_type": "code",
   "execution_count": 24,
   "metadata": {},
   "outputs": [
    {
     "name": "stdout",
     "output_type": "stream",
     "text": [
      "Параметр mu с вероятностью 95% лежит между -3.081062 и 15.57982 \n",
      "Длина интервала: 18.66088"
     ]
    }
   ],
   "source": [
    "mu_hat  = mean(x_sample)\n",
    "mu_left = mu_hat - qt(1-0.05/2, df=99)*sd(x_sample)/sqrt(100)\n",
    "mu_right= mu_hat + qt(1-0.05/2, df=99)*sd(x_sample)/sqrt(100)\n",
    "cat('Параметр mu с вероятностью 95% лежит между',mu_left, 'и',mu_right, '\\n')\n",
    "cat('Длина интервала:', mu_right-mu_left)"
   ]
  },
  {
   "cell_type": "markdown",
   "metadata": {},
   "source": [
    "Обратите внимание, что на тех же самых наблюдениях, доверительный интервал, основанный на $t$-статистике, обладает немного большей длиной. Как считаете с чем это связано? \n",
    "\n",
    "Конечно же с тем, что он точный! Хвосты распределения Стьюдента толще хвостов нормального распределения. Из-за этого, ширина интервала больше. Точный интервал гарантированно накрывает истиное значение параметра в $95\\%$ случаев. Асимптотический интервал делает это только при бесконечно большом $n$. \n",
    "\n",
    "В R есть встроенная команда `t.test`, позволяющая строить доверительные интервалы для средних, а также проверять для них гипотезы. Сейчас нас интересует из этой команды только строчка с $95\\%$ доверительным интервалом. Он совпадает с тем, что мы посчитале выше вручную. "
   ]
  },
  {
   "cell_type": "code",
   "execution_count": 25,
   "metadata": {},
   "outputs": [
    {
     "data": {
      "text/plain": [
       "\n",
       "\tOne Sample t-test\n",
       "\n",
       "data:  x_sample\n",
       "t = 1.329, df = 99, p-value = 0.1869\n",
       "alternative hypothesis: true mean is not equal to 0\n",
       "95 percent confidence interval:\n",
       " -3.081062 15.579818\n",
       "sample estimates:\n",
       "mean of x \n",
       " 6.249378 \n"
      ]
     },
     "metadata": {},
     "output_type": "display_data"
    }
   ],
   "source": [
    "tt <- t.test(x_sample)\n",
    "tt"
   ]
  },
  {
   "cell_type": "code",
   "execution_count": 26,
   "metadata": {},
   "outputs": [
    {
     "data": {
      "text/html": [
       "<ol class=list-inline>\n",
       "\t<li>-3.08106155128027</li>\n",
       "\t<li>15.5798182248042</li>\n",
       "</ol>\n"
      ],
      "text/latex": [
       "\\begin{enumerate*}\n",
       "\\item -3.08106155128027\n",
       "\\item 15.5798182248042\n",
       "\\end{enumerate*}\n"
      ],
      "text/markdown": [
       "1. -3.08106155128027\n",
       "2. 15.5798182248042\n",
       "\n",
       "\n"
      ],
      "text/plain": [
       "[1] -3.081062 15.579818\n",
       "attr(,\"conf.level\")\n",
       "[1] 0.95"
      ]
     },
     "metadata": {},
     "output_type": "display_data"
    }
   ],
   "source": [
    "tt$conf.int"
   ]
  },
  {
   "cell_type": "markdown",
   "metadata": {},
   "source": [
    "## 3.2 Доверительный интервал для дисперсии нормального распределения \n",
    "\n",
    "По аналогии мы можем построить точные доверительные интервалы для дисперсии. Как для случая, когда мы знаем математическое ожидание, так и для случая когда мы его не знаем. Оба доверительных интервала будут точными. \n",
    "\n",
    "Делай раз! Пусть $ X \\sim N(\\mu, \\sigma^2)$ и мы знаем, что $\\mu = 4.$  В таком случае \n",
    "\n",
    "$$s^2 = \\frac{1}{n} \\sum_{i=1}^n (X_i - 4)^2.$$\n",
    "\n",
    "Каждая случайная величина $X_i - 4$ будет иметь нормальное распределение с нулевым математическим ожиданием и дисперсией $\\sigma^2$. Хотелось бы, чтобы эта величина имела распределение $N(0,1)$, тогда бы в нашем распоряжении оказалась бы сумма квадратов $n$ стандартных случайных величин, которая распределена как $\\chi^2_n$. Тогда бы мы смогли построить доверительный интервал для $\\sigma^2$, отталкиваясь от этого распределения. Поделим штуку в скобках на сигму. Тогда придётся поделить $s^2$ на $\\sigma^2$\n",
    "\n",
    "$$\\frac{s^2}{\\sigma^2} = \\frac{1}{n} \\sum_{i=1}^n \\left(\\frac{X_i - 4}{\\sigma}\\right)^2.$$\n",
    "\n",
    "Почти готово. Осталось избавиться от буквы $n$. Для этого домножаем обе части на неё и получаем справа случайную величину, имеющую \"хи-квадрат\" распределение\n",
    "\n",
    "$$\\frac{n s^2}{\\sigma^2} =\\sum_{i=1}^n \\left(\\frac{X_i - 4}{\\sigma}\\right)^2 \\sim \\chi^2_n.$$"
   ]
  },
  {
   "cell_type": "markdown",
   "metadata": {},
   "source": [
    "С вероятностью $95\\%$ будет выполнено неравенство\n",
    "\n",
    "$$\n",
    "\\chi^2_n (\\frac{\\alpha}{2}) \\le \\frac{n s^2}{\\sigma^2} \\le \\chi^2_n (1-\\frac{\\alpha}{2}).\n",
    "$$\n",
    "\n",
    "Разворачиваем его относительно нашего параметра $\\sigma^2$\n",
    "\n",
    "$$\n",
    "\\frac{n s^2}{\\chi^2_n (1 - \\frac{\\alpha}{2})}\n",
    "\\le \\sigma^2 \\le \\frac{n s^2}{\\chi^2_n (\\frac{\\alpha}{2})}.\n",
    "$$\n",
    "\n",
    "Готово! Это распределение точное. В случае, если математическое ожидание неизвестно, у нас начинаются проблемы. Оценка дисперсии будет завязана на среднем\n",
    "\n",
    "$$s^2 = \\frac{1}{n-1} \\sum_{i=1}^n (X_i - \\bar x)^2.$$\n",
    "\n",
    "Случайная величина $X_i - \\bar x$ не будет нормально распределена почти наверное (подумайте почему почти наверное). К счастью, возникшие проблемы решает теорема Фишера, которая говорит, что \n",
    "\n",
    "$$\n",
    "\\frac{(n-1) s^2}{\\sigma^2}  \\sim \\chi^2_{n-1}.\n",
    "$$\n",
    "\n",
    "В случае, когда среднее неизвестно мы снова получаем распределение хи-квадрат, но уже с $n-1$ степенью свободы. Интуитивно можно сказать, что это происходит из-за того, что мы сковываем нашу выборку двумя уравнениями: на среднее и на выборочную дисперсию. Из-за этого между двумя наблюдениями из выборки возникает линейная зависимомть и мы можем свободно варьеровать в ней только $n-1$ случайную величину. Полученное в итоге распределение тоже будет точным."
   ]
  },
  {
   "cell_type": "code",
   "execution_count": 27,
   "metadata": {},
   "outputs": [
    {
     "data": {
      "text/html": [
       "2396.56420727466"
      ],
      "text/latex": [
       "2396.56420727466"
      ],
      "text/markdown": [
       "2396.56420727466"
      ],
      "text/plain": [
       "[1] 2396.564"
      ]
     },
     "metadata": {},
     "output_type": "display_data"
    }
   ],
   "source": [
    "x_sample = sample(x = x_general, size = 1000)\n",
    "var(x_sample)"
   ]
  },
  {
   "cell_type": "code",
   "execution_count": 28,
   "metadata": {},
   "outputs": [
    {
     "name": "stdout",
     "output_type": "stream",
     "text": [
      "Параметр mu с вероятностью 95% лежит между 2197.559 и 2618.857 \n",
      "Длина интервала: 421.2977"
     ]
    }
   ],
   "source": [
    "# Если знаем математическое ожидание!\n",
    "n = length(x_sample)\n",
    "s = sqrt(1/n*sum((x_sample - 4)^2))\n",
    "\n",
    "sigma_left  = n*s^2/(qchisq(1 - 0.05/2,df=n))\n",
    "sigma_right = n*s^2/(qchisq(0.05/2,df=n))\n",
    "\n",
    "cat('Параметр mu с вероятностью 95% лежит между',sigma_left, 'и', sigma_right, '\\n')\n",
    "cat('Длина интервала:', sigma_right - sigma_left)"
   ]
  },
  {
   "cell_type": "code",
   "execution_count": 29,
   "metadata": {},
   "outputs": [
    {
     "name": "stdout",
     "output_type": "stream",
     "text": [
      "Параметр mu с вероятностью 95% лежит между 2199.537 и 2621.444 \n",
      "Длина интервала: 421.9072"
     ]
    }
   ],
   "source": [
    "# Если не знаем математического ожидания!\n",
    "n = length(x_sample)\n",
    "s = sd(x_sample)\n",
    "\n",
    "sigma_left  = (n-1)*s^2/(qchisq(1 - 0.05/2,df=n-1))\n",
    "sigma_right = (n-1)*s^2/(qchisq(0.05/2,df=n-1))\n",
    "\n",
    "cat('Параметр mu с вероятностью 95% лежит между',sigma_left, 'и', sigma_right, '\\n')\n",
    "cat('Длина интервала:', sigma_right - sigma_left)"
   ]
  },
  {
   "cell_type": "markdown",
   "metadata": {},
   "source": [
    "## 3.3 Общая схема строительства точных доверительных интервалов\n",
    "\n",
    "На самом деле можно постараться построить точный доверительный интервал и для других распределений. Например, в [учебнике Черновой](http://old.nsu.ru/mmf/tvims/chernova/tv/lec/node53.html) на страницах $60-61$ это делается для равномерного распределения. Если интересно, немпременно загляните туда. "
   ]
  },
  {
   "cell_type": "markdown",
   "metadata": {},
   "source": [
    "# 4. Парные доверительные интервалы \n",
    "\n",
    "## 4.1 Доверительный интервал для двух долей\n",
    "\n",
    "Выше мы с вами выяснили как построить доверительный интервал для доли. Иногда требуется сделать это для разности долей. Представим себе товар, который нужно рекламировать. Для этих целей используется рекламный баннер. Если появляется новый баннер, который кажется более красивым, то возникает необходимость проверить какой из баннеров лучше, а также понять насколько новый баннер красивее первого. \n",
    "\n",
    "В нашем распоряжении есть выборка из кликов по первому банеру, $X$ и по второму банеру, $Y$.\n",
    "\n",
    "$$\n",
    "\\begin{aligned}\n",
    "X_1, \\ldots, X_{n_1} \\sim iid \\hspace{1mm} Bern(p_1) \\\\\n",
    "Y_1, \\ldots, Y_{n_2} \\sim iid \\hspace{1mm} Bern(p_1)\n",
    "\\end{aligned}\n",
    "$$\n",
    "\n",
    "Мы можем найти оценки для обеих вероятностей через средние. Оба средних будут иметь асимптотически нормальные распределения со своими параметрами: \n",
    "\n",
    "$$\n",
    "\\begin{aligned}\n",
    "\\hat p_1 = \\bar x \\sim N \\left(p_1, \\frac{p_1(1-p_1)}{n_1} \\right)\\\\\n",
    "\\hat p_2 = \\bar y \\sim N \\left(p_2, \\frac{p_2(1-p_2)}{n_2} \\right)\n",
    "\\end{aligned}\n",
    "$$\n",
    "\n",
    "Если выборки независимы, разность долей будет тоже иметь асимптотически нормальное распределение! Его параметры довольно легко найти: \n",
    "\n",
    "$$\n",
    "\\hat p_1 - \\hat p_2  \\sim N \\left(p_1 - p_2, \\frac{p_1(1-p_1)}{n_1} + \\frac{p_2(1-p_2)}{n_2} \\right).\n",
    "$$\n",
    "\n",
    "Отсюда можно легко найти доверительный интервал для разности долей: \n",
    "\n",
    "$$\n",
    "\\hat{p}_1 - \\hat{p}_2 \\pm z_{1-\\frac{\\alpha}{2}}\\sqrt{\\frac{\\hat{p}_1(1 - \\hat{p}_1)}{n_1} + \\frac{\\hat{p}_2(1 - \\hat{p}_2)}{n_2}}\n",
    "$$"
   ]
  },
  {
   "cell_type": "code",
   "execution_count": 30,
   "metadata": {},
   "outputs": [
    {
     "name": "stdout",
     "output_type": "stream",
     "text": [
      "Разность p1-p2 с вероятностью 95% лежит между -0.219059 и 0.419059 \n",
      "Длина интервала: 0.638118"
     ]
    }
   ],
   "source": [
    "z = qnorm(1 - 0.05/2)\n",
    "p1 = 0.6  # Возьмём цифры просто из головы\n",
    "p2 = 0.5  # Ясное дело, их можно посчитать по выборке\n",
    "n1 = 10\n",
    "n2 = 100\n",
    "\n",
    "sd = sqrt(p1*(1-p1)/n1 + p2*(1-p2)/n2)\n",
    "left  = (p1 - p2) - z*sd\n",
    "right = (p1 - p2) + z*sd\n",
    "\n",
    "cat('Разность p1-p2 с вероятностью 95% лежит между', left, 'и', right, '\\n')\n",
    "cat('Длина интервала:', right - left)"
   ]
  },
  {
   "cell_type": "markdown",
   "metadata": {},
   "source": [
    "По аналогии можно легко найти асимптотический доверительный интервал для разности математических ожиданий. Попробуйте сделать это сами. :) \n",
    "\n",
    "__Важно:__ всё, что было написано выше, работает только в ситуации, когда выборки $X$ и $Y$ независимы друг от друга. Если между ними ест взаимосвязь (например, оба баннера кликали одни и те же люди), то доверительные интервалы строят немного по другой методике, учитывающей эту взаимосвязь. Но об этом мы говорить в этой тетрадке не будем. "
   ]
  }
 ],
 "metadata": {
  "kernelspec": {
   "display_name": "R",
   "language": "R",
   "name": "ir"
  },
  "language_info": {
   "codemirror_mode": "r",
   "file_extension": ".r",
   "mimetype": "text/x-r-source",
   "name": "R",
   "pygments_lexer": "r",
   "version": "3.4.4"
  }
 },
 "nbformat": 4,
 "nbformat_minor": 2
}
