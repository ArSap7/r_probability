{
 "cells": [
  {
   "cell_type": "markdown",
   "metadata": {},
   "source": [
    "\n",
    "\n",
    "<img src=\"https://hsto.org/files/530/f91/bf0/530f91bf048d46b7ad9f53854d9af266.png\" height=\"600\" width=\"900\">\n",
    "\n",
    "\n",
    "# <center> R для тервера и матстата. <br>  <br> 5.1 Титаник. </center>\n",
    "\n",
    "Данный ноутбук является конспектом по курсу «R для теории вероятностей и математической статистики» (РАНХиГС, 2017-2018). Автор ноутбука [вот этот парень по имени Филипп.](https://vk.com/ppilif) Если у вас для него есть деньги, слава или женщины, он от этого всего не откажется. Ноутбук распространяется на условиях лицензии [Creative Commons Attribution-Share Alike 4.0.](https://creativecommons.org/licenses/by-sa/4.0/) При использовании обязательно упоминание автора курса и аффилиации. При наличии технической возможности необходимо также указать активную гиперссылку на [страницу курса.](https://fulyankin.github.io/R_probability/) На ней можно найти другие материалы. Фрагменты кода, включенные в этот notebook, публикуются как [общественное достояние.](https://creativecommons.org/publicdomain/zero/1.0/)\n",
    "\n",
    "---------\n",
    "\n",
    "В прошлый раз мы попытались просечь метод максимального правдоподобия и оценили парочку простых моделей. Сегодня мы продолжим разбираться с ним и оценим свою первую настоящую модель. Она называется логистической регрессией и очень часто, с небольшими видоизменениями, используется на практике.\n"
   ]
  },
  {
   "cell_type": "markdown",
   "metadata": {},
   "source": [
    "# 1. Регрессия и классификация: что это такое и зачем надо\n",
    "\n",
    "Что мы делали до этого? Мы:\n",
    "\n",
    "1. Собирали независимую репрезентативную выборку;\n",
    "2. Предполагали из какого распределения она к нам пришла;\n",
    "3. Оценивали параметры этого распределения;\n",
    "4. Делали какие-то выводы о том, в каком диапазоне реализуется наша случайная величина.\n",
    "\n",
    "В этом подходе мы забывали про очень существенную вещь: наблюдаемая нами случайная величина зависит от других случайных величин. Например, цена на квартиру, зависит от её метража, этажности здания, криминагенности района и многих других факторов. Выживет ли человек на Титанике зависит от его пола, возраста, каюты и тп. Так почему бы не учесть все эти факторы при моделировании. \n",
    "\n",
    "В случае квартир мы должны спрогнозировать цену. Это непрерывная переменная. Задача, состоящая в строительстве модели для непрерывной переменной, называется задачей регрессии. В случае Титаника мы должны ответить на вопрос \"Умрёт ли человек?\" либо да, либо нет, а также найти вероятность того, что да. Такая задача, с конечным множеством ответов, называется задачей классификации. \n",
    "\n",
    "Именно задачу классификации мы с вами будем решать в этой тетрадке. В бонусной тетрадке самые отпетые из вас смогут посмотреть на то как выглядит задача регрессии и как можно решить её методом максимального правдоподобия. "
   ]
  },
  {
   "cell_type": "markdown",
   "metadata": {},
   "source": [
    "# 2. Что мы хотим, а также предобработка данных \n",
    "\n",
    "У нас в руках есть данные о пассажирах титаника с [соревнования на Kaggle](https://www.kaggle.com/c/titanic) (Kaggle -это такая платформа для проведения соревнований по анализу данных. Там много чего интересного есть). __Наша цель:__ научиться предсказывать умрёт ли пассажир титаника по его характеристикам. Попутно неплохо было бы научиться предсказывать вероятность смерти. \n",
    "\n",
    "Подгружаем все необходимые пакеты. Если каких-то из них у нас нет, устанавливаем."
   ]
  },
  {
   "cell_type": "code",
   "execution_count": 3,
   "metadata": {},
   "outputs": [],
   "source": [
    "library('dplyr')\n",
    "library('ggplot2')\n",
    "library('maxLik') # пакет для метода макс. правдоподобия\n",
    "options(repr.plot.width=4, repr.plot.height=3)"
   ]
  },
  {
   "cell_type": "markdown",
   "metadata": {},
   "source": [
    "Выборку пассажиров титаника надо будет разбить на две части: тренировочную и тестовую. Обычно, на тренировочной выборке учат модель, на тестовой выборке проверяют насколько хорошо она работает. Выборка, на которой мы учимся, не подходит для этих целей, так как знания об этих объектах уже будут лежать в нашей модели, а в реальной жизни будут встречаться и новые, ранее неизвестные объекты. Часть, которую мы отложили, алгоритм ещё не видел. Значит можно использовать её для имитации этих самых новых объектов из реальной жизни и посмотреть какое на них будет качество. \n",
    "\n",
    "Такой подход помогает избежать переобучения модели. __Переобучением__ называют ситуации, когда модели тупо запоминают тренировочную выборку вместо того, чтобы извлечь из неё какие-то закономерности. Обычно на обучение пускают $70-80\\%$ выборки, а на тестирование $30-20\\%$."
   ]
  },
  {
   "cell_type": "code",
   "execution_count": 4,
   "metadata": {},
   "outputs": [],
   "source": [
    "df = read.csv('/Users/fulyankin/Yandex.Disk.localized/R/R_prob_data/titanic_train.csv', sep=',')"
   ]
  },
  {
   "cell_type": "code",
   "execution_count": 5,
   "metadata": {},
   "outputs": [
    {
     "data": {
      "text/html": [
       "<table>\n",
       "<thead><tr><th scope=col>PassengerId</th><th scope=col>Survived</th><th scope=col>Pclass</th><th scope=col>Name</th><th scope=col>Sex</th><th scope=col>Age</th><th scope=col>SibSp</th><th scope=col>Parch</th><th scope=col>Ticket</th><th scope=col>Fare</th><th scope=col>Cabin</th><th scope=col>Embarked</th></tr></thead>\n",
       "<tbody>\n",
       "\t<tr><td>1                                                  </td><td>0                                                  </td><td>3                                                  </td><td>Braund, Mr. Owen Harris                            </td><td>male                                               </td><td>22                                                 </td><td>1                                                  </td><td>0                                                  </td><td>A/5 21171                                          </td><td> 7.2500                                            </td><td>                                                   </td><td>S                                                  </td></tr>\n",
       "\t<tr><td>2                                                  </td><td>1                                                  </td><td>1                                                  </td><td>Cumings, Mrs. John Bradley (Florence Briggs Thayer)</td><td>female                                             </td><td>38                                                 </td><td>1                                                  </td><td>0                                                  </td><td>PC 17599                                           </td><td>71.2833                                            </td><td>C85                                                </td><td>C                                                  </td></tr>\n",
       "\t<tr><td>3                                                  </td><td>1                                                  </td><td>3                                                  </td><td>Heikkinen, Miss. Laina                             </td><td>female                                             </td><td>26                                                 </td><td>0                                                  </td><td>0                                                  </td><td>STON/O2. 3101282                                   </td><td> 7.9250                                            </td><td>                                                   </td><td>S                                                  </td></tr>\n",
       "\t<tr><td>4                                                  </td><td>1                                                  </td><td>1                                                  </td><td>Futrelle, Mrs. Jacques Heath (Lily May Peel)       </td><td>female                                             </td><td>35                                                 </td><td>1                                                  </td><td>0                                                  </td><td>113803                                             </td><td>53.1000                                            </td><td>C123                                               </td><td>S                                                  </td></tr>\n",
       "\t<tr><td>5                                                  </td><td>0                                                  </td><td>3                                                  </td><td>Allen, Mr. William Henry                           </td><td>male                                               </td><td>35                                                 </td><td>0                                                  </td><td>0                                                  </td><td>373450                                             </td><td> 8.0500                                            </td><td>                                                   </td><td>S                                                  </td></tr>\n",
       "</tbody>\n",
       "</table>\n"
      ],
      "text/latex": [
       "\\begin{tabular}{r|llllllllllll}\n",
       " PassengerId & Survived & Pclass & Name & Sex & Age & SibSp & Parch & Ticket & Fare & Cabin & Embarked\\\\\n",
       "\\hline\n",
       "\t 1                                                   & 0                                                   & 3                                                   & Braund, Mr. Owen Harris                             & male                                                & 22                                                  & 1                                                   & 0                                                   & A/5 21171                                           &  7.2500                                             &                                                     & S                                                  \\\\\n",
       "\t 2                                                   & 1                                                   & 1                                                   & Cumings, Mrs. John Bradley (Florence Briggs Thayer) & female                                              & 38                                                  & 1                                                   & 0                                                   & PC 17599                                            & 71.2833                                             & C85                                                 & C                                                  \\\\\n",
       "\t 3                                                   & 1                                                   & 3                                                   & Heikkinen, Miss. Laina                              & female                                              & 26                                                  & 0                                                   & 0                                                   & STON/O2. 3101282                                    &  7.9250                                             &                                                     & S                                                  \\\\\n",
       "\t 4                                                   & 1                                                   & 1                                                   & Futrelle, Mrs. Jacques Heath (Lily May Peel)        & female                                              & 35                                                  & 1                                                   & 0                                                   & 113803                                              & 53.1000                                             & C123                                                & S                                                  \\\\\n",
       "\t 5                                                   & 0                                                   & 3                                                   & Allen, Mr. William Henry                            & male                                                & 35                                                  & 0                                                   & 0                                                   & 373450                                              &  8.0500                                             &                                                     & S                                                  \\\\\n",
       "\\end{tabular}\n"
      ],
      "text/markdown": [
       "\n",
       "PassengerId | Survived | Pclass | Name | Sex | Age | SibSp | Parch | Ticket | Fare | Cabin | Embarked | \n",
       "|---|---|---|---|---|\n",
       "| 1                                                   | 0                                                   | 3                                                   | Braund, Mr. Owen Harris                             | male                                                | 22                                                  | 1                                                   | 0                                                   | A/5 21171                                           |  7.2500                                             |                                                     | S                                                   | \n",
       "| 2                                                   | 1                                                   | 1                                                   | Cumings, Mrs. John Bradley (Florence Briggs Thayer) | female                                              | 38                                                  | 1                                                   | 0                                                   | PC 17599                                            | 71.2833                                             | C85                                                 | C                                                   | \n",
       "| 3                                                   | 1                                                   | 3                                                   | Heikkinen, Miss. Laina                              | female                                              | 26                                                  | 0                                                   | 0                                                   | STON/O2. 3101282                                    |  7.9250                                             |                                                     | S                                                   | \n",
       "| 4                                                   | 1                                                   | 1                                                   | Futrelle, Mrs. Jacques Heath (Lily May Peel)        | female                                              | 35                                                  | 1                                                   | 0                                                   | 113803                                              | 53.1000                                             | C123                                                | S                                                   | \n",
       "| 5                                                   | 0                                                   | 3                                                   | Allen, Mr. William Henry                            | male                                                | 35                                                  | 0                                                   | 0                                                   | 373450                                              |  8.0500                                             |                                                     | S                                                   | \n",
       "\n",
       "\n"
      ],
      "text/plain": [
       "  PassengerId Survived Pclass\n",
       "1 1           0        3     \n",
       "2 2           1        1     \n",
       "3 3           1        3     \n",
       "4 4           1        1     \n",
       "5 5           0        3     \n",
       "  Name                                                Sex    Age SibSp Parch\n",
       "1 Braund, Mr. Owen Harris                             male   22  1     0    \n",
       "2 Cumings, Mrs. John Bradley (Florence Briggs Thayer) female 38  1     0    \n",
       "3 Heikkinen, Miss. Laina                              female 26  0     0    \n",
       "4 Futrelle, Mrs. Jacques Heath (Lily May Peel)        female 35  1     0    \n",
       "5 Allen, Mr. William Henry                            male   35  0     0    \n",
       "  Ticket           Fare    Cabin Embarked\n",
       "1 A/5 21171         7.2500       S       \n",
       "2 PC 17599         71.2833 C85   C       \n",
       "3 STON/O2. 3101282  7.9250       S       \n",
       "4 113803           53.1000 C123  S       \n",
       "5 373450            8.0500       S       "
      ]
     },
     "metadata": {},
     "output_type": "display_data"
    }
   ],
   "source": [
    "# Можно посмотреть на первые пять строк!\n",
    "head(df, 5)"
   ]
  },
  {
   "cell_type": "code",
   "execution_count": 6,
   "metadata": {
    "scrolled": true
   },
   "outputs": [
    {
     "data": {
      "text/html": [
       "<table>\n",
       "<thead><tr><th></th><th scope=col>PassengerId</th><th scope=col>Survived</th><th scope=col>Pclass</th><th scope=col>Name</th><th scope=col>Sex</th><th scope=col>Age</th><th scope=col>SibSp</th><th scope=col>Parch</th><th scope=col>Ticket</th><th scope=col>Fare</th><th scope=col>Cabin</th><th scope=col>Embarked</th></tr></thead>\n",
       "<tbody>\n",
       "\t<tr><th scope=row>887</th><td>887                                     </td><td>0                                       </td><td>2                                       </td><td>Montvila, Rev. Juozas                   </td><td>male                                    </td><td>27                                      </td><td>0                                       </td><td>0                                       </td><td>211536                                  </td><td>13.00                                   </td><td>                                        </td><td>S                                       </td></tr>\n",
       "\t<tr><th scope=row>888</th><td>888                                     </td><td>1                                       </td><td>1                                       </td><td>Graham, Miss. Margaret Edith            </td><td>female                                  </td><td>19                                      </td><td>0                                       </td><td>0                                       </td><td>112053                                  </td><td>30.00                                   </td><td>B42                                     </td><td>S                                       </td></tr>\n",
       "\t<tr><th scope=row>889</th><td>889                                     </td><td>0                                       </td><td>3                                       </td><td>Johnston, Miss. Catherine Helen \"Carrie\"</td><td>female                                  </td><td>NA                                      </td><td>1                                       </td><td>2                                       </td><td>W./C. 6607                              </td><td>23.45                                   </td><td>                                        </td><td>S                                       </td></tr>\n",
       "\t<tr><th scope=row>890</th><td>890                                     </td><td>1                                       </td><td>1                                       </td><td>Behr, Mr. Karl Howell                   </td><td>male                                    </td><td>26                                      </td><td>0                                       </td><td>0                                       </td><td>111369                                  </td><td>30.00                                   </td><td>C148                                    </td><td>C                                       </td></tr>\n",
       "\t<tr><th scope=row>891</th><td>891                                     </td><td>0                                       </td><td>3                                       </td><td>Dooley, Mr. Patrick                     </td><td>male                                    </td><td>32                                      </td><td>0                                       </td><td>0                                       </td><td>370376                                  </td><td> 7.75                                   </td><td>                                        </td><td>Q                                       </td></tr>\n",
       "</tbody>\n",
       "</table>\n"
      ],
      "text/latex": [
       "\\begin{tabular}{r|llllllllllll}\n",
       "  & PassengerId & Survived & Pclass & Name & Sex & Age & SibSp & Parch & Ticket & Fare & Cabin & Embarked\\\\\n",
       "\\hline\n",
       "\t887 & 887                                      & 0                                        & 2                                        & Montvila, Rev. Juozas                    & male                                     & 27                                       & 0                                        & 0                                        & 211536                                   & 13.00                                    &                                          & S                                       \\\\\n",
       "\t888 & 888                                      & 1                                        & 1                                        & Graham, Miss. Margaret Edith             & female                                   & 19                                       & 0                                        & 0                                        & 112053                                   & 30.00                                    & B42                                      & S                                       \\\\\n",
       "\t889 & 889                                      & 0                                        & 3                                        & Johnston, Miss. Catherine Helen \"Carrie\" & female                                   & NA                                       & 1                                        & 2                                        & W./C. 6607                               & 23.45                                    &                                          & S                                       \\\\\n",
       "\t890 & 890                                      & 1                                        & 1                                        & Behr, Mr. Karl Howell                    & male                                     & 26                                       & 0                                        & 0                                        & 111369                                   & 30.00                                    & C148                                     & C                                       \\\\\n",
       "\t891 & 891                                      & 0                                        & 3                                        & Dooley, Mr. Patrick                      & male                                     & 32                                       & 0                                        & 0                                        & 370376                                   &  7.75                                    &                                          & Q                                       \\\\\n",
       "\\end{tabular}\n"
      ],
      "text/markdown": [
       "\n",
       "| <!--/--> | PassengerId | Survived | Pclass | Name | Sex | Age | SibSp | Parch | Ticket | Fare | Cabin | Embarked | \n",
       "|---|---|---|---|---|\n",
       "| 887 | 887                                      | 0                                        | 2                                        | Montvila, Rev. Juozas                    | male                                     | 27                                       | 0                                        | 0                                        | 211536                                   | 13.00                                    |                                          | S                                        | \n",
       "| 888 | 888                                      | 1                                        | 1                                        | Graham, Miss. Margaret Edith             | female                                   | 19                                       | 0                                        | 0                                        | 112053                                   | 30.00                                    | B42                                      | S                                        | \n",
       "| 889 | 889                                      | 0                                        | 3                                        | Johnston, Miss. Catherine Helen \"Carrie\" | female                                   | NA                                       | 1                                        | 2                                        | W./C. 6607                               | 23.45                                    |                                          | S                                        | \n",
       "| 890 | 890                                      | 1                                        | 1                                        | Behr, Mr. Karl Howell                    | male                                     | 26                                       | 0                                        | 0                                        | 111369                                   | 30.00                                    | C148                                     | C                                        | \n",
       "| 891 | 891                                      | 0                                        | 3                                        | Dooley, Mr. Patrick                      | male                                     | 32                                       | 0                                        | 0                                        | 370376                                   |  7.75                                    |                                          | Q                                        | \n",
       "\n",
       "\n"
      ],
      "text/plain": [
       "    PassengerId Survived Pclass Name                                     Sex   \n",
       "887 887         0        2      Montvila, Rev. Juozas                    male  \n",
       "888 888         1        1      Graham, Miss. Margaret Edith             female\n",
       "889 889         0        3      Johnston, Miss. Catherine Helen \"Carrie\" female\n",
       "890 890         1        1      Behr, Mr. Karl Howell                    male  \n",
       "891 891         0        3      Dooley, Mr. Patrick                      male  \n",
       "    Age SibSp Parch Ticket     Fare  Cabin Embarked\n",
       "887 27  0     0     211536     13.00       S       \n",
       "888 19  0     0     112053     30.00 B42   S       \n",
       "889 NA  1     2     W./C. 6607 23.45       S       \n",
       "890 26  0     0     111369     30.00 C148  C       \n",
       "891 32  0     0     370376      7.75       Q       "
      ]
     },
     "metadata": {},
     "output_type": "display_data"
    }
   ],
   "source": [
    "# Можно посмотреть на последние пять строк!\n",
    "tail(df, 5)"
   ]
  },
  {
   "cell_type": "code",
   "execution_count": 7,
   "metadata": {},
   "outputs": [
    {
     "name": "stdout",
     "output_type": "stream",
     "text": [
      "Observations: 891\n",
      "Variables: 12\n",
      "$ PassengerId <int> 1, 2, 3, 4, 5, 6, 7, 8, 9, 10, 11, 12, 13, 14, 15, 16, ...\n",
      "$ Survived    <int> 0, 1, 1, 1, 0, 0, 0, 0, 1, 1, 1, 1, 0, 0, 0, 1, 0, 1, 0...\n",
      "$ Pclass      <int> 3, 1, 3, 1, 3, 3, 1, 3, 3, 2, 3, 1, 3, 3, 3, 2, 3, 2, 3...\n",
      "$ Name        <fctr> Braund, Mr. Owen Harris, Cumings, Mrs. John Bradley (F...\n",
      "$ Sex         <fctr> male, female, female, female, male, male, male, male, ...\n",
      "$ Age         <dbl> 22, 38, 26, 35, 35, NA, 54, 2, 27, 14, 4, 58, 20, 39, 1...\n",
      "$ SibSp       <int> 1, 1, 0, 1, 0, 0, 0, 3, 0, 1, 1, 0, 0, 1, 0, 0, 4, 0, 1...\n",
      "$ Parch       <int> 0, 0, 0, 0, 0, 0, 0, 1, 2, 0, 1, 0, 0, 5, 0, 0, 1, 0, 0...\n",
      "$ Ticket      <fctr> A/5 21171, PC 17599, STON/O2. 3101282, 113803, 373450,...\n",
      "$ Fare        <dbl> 7.2500, 71.2833, 7.9250, 53.1000, 8.0500, 8.4583, 51.86...\n",
      "$ Cabin       <fctr> , C85, , C123, , , E46, , , , G6, C103, , , , , , , , ...\n",
      "$ Embarked    <fctr> S, C, S, S, S, Q, S, S, S, C, S, S, S, S, S, S, Q, S, ...\n"
     ]
    }
   ],
   "source": [
    "# Можно кинуть свой взор на таблицу и посмотреть какой тип у каких переменных \n",
    "glimpse(df)"
   ]
  },
  {
   "cell_type": "markdown",
   "metadata": {},
   "source": [
    "Давайте наконец выясним, что какая переменная обозначает.\n",
    "\n",
    "* Survived - выжил человек или нет, целевая переменная \n",
    "* Pclass - класс, в котором ехал человек \n",
    "* Name - имя человека \n",
    "* Sex - пол \n",
    "* Age - возраст \n",
    "* SibSp - сколько было на борту братьев, сестер, супругов на борту Титаника\n",
    "* Parch - число детей и родителей на борту Титаника \n",
    "* Ticket - номер билета \n",
    "* Fare - стоимость билета \n",
    "* Cabin - номер каюты \n",
    "* Embarked - порт посадки (C = Шербур, Q = Квинстаун, S = Саутгемптон) \n",
    "\n",
    "Часть из этих переменных являются действительными (возраст, цена билета), часть категориальными (класс, в котором плыл человек, пол человека). В выдаче от `glimse` числовые переменные обозначены как `<int>` и `<dbl>`. Для категориальных переменных у R есть свой специальный тип, `<fctr>`, факторный. Это бывает очень удобно при оценке моделей.\n",
    "\n",
    "Дело в том, что метод максимального правдоподобия (как в прочем и любые другие методы и модели) понимает только цифры. Напрмер, он не знает что такое `male` и `female` и не может посчитать от них среднее. Приходится придумывать способы перегнать такие переменные в цифры. В случае пола, например, можно обозначить всех мужчин единичками, а всех женщин нулями. Тогда итоговая модель, получая единичку, будет понимать, что c ней делать, а мы будем понимать, что она делает это с мужчинами. Такая переменная, принимающая два значения: ноль и один, называется __дамми-переменной.__\n",
    "\n",
    "В случае более сложных переменных, например порта посадки, возникает желание переобозначить Шербур за единички, Квинстаун за двойки, а Саутгемптон за тройку.  Это неправильный подход. Если так сделать, то алгоритмы будут дамать, что третий порт самый лучший, а первый самый плохой. Очень большой вопрос почему мы определили порядок портов именно так. Это запутает модель. Чтобы не путать алгоритм, поступают следующим образом: делают из категориальной переменной много дамми. Вот так:\n",
    "\n",
    "<img src=\"https://raw.githubusercontent.com/FUlyankin/r_probability/master/end_seminars/sem_5/OHE.png\" height=\"600\" width=\"500\">\n",
    "\n",
    "Если человек плыл из порта $C$, то у него в соответствующем столбце будет стоять единичка, а в остальных нули. По аналогии получится с другими портами. \n",
    "\n",
    "__Приятный бонус:__  Не нужно бороться с пропусками в данных. Для пропусков будет своя дамми и мы не потеряем информации. Такой способ работы с категориями называется One Hot Encoding. Дословно можно перевести как одно горячее кодирование.\n",
    "\n",
    "В чём минус одного горячего кодирования? Можно обжечься. Если категорий внутри переменной много, то мы переработаем её в слишком большое число столбцов. В конечном итоге это может привести к тому, что модели не хватит наблюдений, чтобы научиться в этом огромном числе столбцов ориентироваться.\n",
    "\n",
    "Есть и другие способы обработки категориальных переменных, но мы будем пользоваться этим. Он самый простой. Более того, тип переменной `<fctr>` позволяет делать это по дефолту без предобработки. Обратите внимание, что часть категориальных переменных, R воспринял как числовые. Это нужно исправить."
   ]
  },
  {
   "cell_type": "code",
   "execution_count": 8,
   "metadata": {},
   "outputs": [],
   "source": [
    "# команда mutate делает из выборки мутанта, изменяя её :)\n",
    "df <- mutate(df, Pclass = as.factor(Pclass), Survived = as.factor(Survived))"
   ]
  },
  {
   "cell_type": "markdown",
   "metadata": {},
   "source": [
    "Давайте сразу же разберёмся со всякими техническими тонкостями, связанными с факторными переменными. Этот тип данных нужен, чтобы было удобнее работать с пакетами, которые оценивают модели, а также чтобы было удобно строить рисунки. При этом, при ручной работе с факторными переменными, будут возникать проблемы."
   ]
  },
  {
   "cell_type": "code",
   "execution_count": 30,
   "metadata": {},
   "outputs": [
    {
     "name": "stderr",
     "output_type": "stream",
     "text": [
      "Warning message in mean.default(df_train$Survived):\n",
      "“argument is not numeric or logical: returning NA”"
     ]
    },
    {
     "data": {
      "text/html": [
       "&lt;NA&gt;"
      ],
      "text/latex": [
       "<NA>"
      ],
      "text/markdown": [
       "&lt;NA&gt;"
      ],
      "text/plain": [
       "[1] NA"
      ]
     },
     "metadata": {},
     "output_type": "display_data"
    }
   ],
   "source": [
    "mean(df_train$Survived)"
   ]
  },
  {
   "cell_type": "markdown",
   "metadata": {},
   "source": [
    "Посмотрим на структуру факторной переменной. Это помогает сделать команда `str`. В каждой факторной переменой записаны две штуки. Первая - её значения, в данном случае это ноль и один. Обратите внимание, они записаны как строки, а не как числа. Вторая - уровни, которые этим значениям приписываются. R отталкиваясь от этих уровней сам делает внутри пакетов для оценивания моделей одно горяее кодирование. "
   ]
  },
  {
   "cell_type": "code",
   "execution_count": 29,
   "metadata": {},
   "outputs": [
    {
     "name": "stdout",
     "output_type": "stream",
     "text": [
      " Factor w/ 2 levels \"0\",\"1\": 1 2 2 1 2 1 1 2 1 2 ...\n"
     ]
    }
   ],
   "source": [
    "str(df_train$Survived)"
   ]
  },
  {
   "cell_type": "markdown",
   "metadata": {},
   "source": [
    "Чтобы работать с переменной, как с числом, придётся преобразовать её обратно. Если мы сделаем это командой `as.numeric` от столбца, на метсо нулей и единиц подставятся номера категорий (факторов). В данном случае, либо первая, либо вторая. Это плохо, потому что изначально категории были закодированы нулями и единицами."
   ]
  },
  {
   "cell_type": "code",
   "execution_count": 31,
   "metadata": {},
   "outputs": [
    {
     "name": "stdout",
     "output_type": "stream",
     "text": [
      " num [1:713] 1 2 2 1 2 1 1 2 1 2 ...\n"
     ]
    }
   ],
   "source": [
    "str(as.numeric(df_train$Survived))"
   ]
  },
  {
   "cell_type": "markdown",
   "metadata": {},
   "source": [
    "Чтобы избежать этого, придётся сделать переменную сначала тектсовой, потом уже числовой."
   ]
  },
  {
   "cell_type": "code",
   "execution_count": 32,
   "metadata": {},
   "outputs": [
    {
     "name": "stdout",
     "output_type": "stream",
     "text": [
      " num [1:713] 0 1 1 0 1 0 0 1 0 1 ...\n"
     ]
    }
   ],
   "source": [
    "str(as.numeric(as.character(df_train$Survived)))"
   ]
  },
  {
   "cell_type": "markdown",
   "metadata": {},
   "source": [
    "Это была малоприятная техническая деталь, которая обычно взрывает мозг многим ребятам, которые впервые работают в R с таблицами. Поэтому я решил это тут показать. \n",
    "\n",
    "На самом деле, на этом предобработка переменных не заканчивается, есть огромное количество тонкостей. Большую часть времени аналитики проводят, подготавливая данные. Меньшую часть, оценивая модели. Всем этим тонкостям посвящены курсы по машинному обучению и эконометрике. Мы же всё ещё в курсе матстата, поэтому в этом блокноте сосредоточимся на методе максимального правдоподобия. "
   ]
  },
  {
   "cell_type": "code",
   "execution_count": 9,
   "metadata": {},
   "outputs": [
    {
     "data": {
      "text/plain": [
       "      Age            SibSp           Parch             Fare       \n",
       " Min.   : 0.42   Min.   :0.000   Min.   :0.0000   Min.   :  0.00  \n",
       " 1st Qu.:20.12   1st Qu.:0.000   1st Qu.:0.0000   1st Qu.:  7.91  \n",
       " Median :28.00   Median :0.000   Median :0.0000   Median : 14.45  \n",
       " Mean   :29.70   Mean   :0.523   Mean   :0.3816   Mean   : 32.20  \n",
       " 3rd Qu.:38.00   3rd Qu.:1.000   3rd Qu.:0.0000   3rd Qu.: 31.00  \n",
       " Max.   :80.00   Max.   :8.000   Max.   :6.0000   Max.   :512.33  \n",
       " NA's   :177                                                      "
      ]
     },
     "metadata": {},
     "output_type": "display_data"
    }
   ],
   "source": [
    "# Выбросим неинтересные для нас переменные и посмотрим по интересным основную статистику\n",
    "variables <- c('Survived', 'Pclass', 'Sex', 'Age', 'SibSp', 'Parch', 'Fare')\n",
    "df = df[variables]\n",
    "\n",
    "summary(df[c( 'Age', 'SibSp', 'Parch', 'Fare')])"
   ]
  },
  {
   "cell_type": "code",
   "execution_count": 10,
   "metadata": {},
   "outputs": [
    {
     "data": {
      "text/plain": [
       " Survived Pclass      Sex     \n",
       " 0:549    1:216   female:314  \n",
       " 1:342    2:184   male  :577  \n",
       "          3:491               "
      ]
     },
     "metadata": {},
     "output_type": "display_data"
    }
   ],
   "source": [
    "summary(df[c('Survived', 'Pclass', 'Sex')])"
   ]
  },
  {
   "cell_type": "markdown",
   "metadata": {},
   "source": [
    "Последняя проблема предобработки, которую мы сегодня исправим заключается в пропусках. Обратите внимание на переменную `Age`. В ней $177$ пропусков. Метод максимального правдоподобия оценивает модели на числах и не любит пропуски. Поэтому с ними надо что-то сделать.\n",
    "\n",
    "Первое решение: выбросить все эти наблюдения. Проблема такого подхода в том, что другие то переменные для этих наблюдений не пропущены. Значит, выбросив строчки, соответствующие пропускам, мы потеряем кучу информации. Полезной информации. Информацию и без всех наших преобразований легко потерять, сложно найти и невозможно забыть, а мы её ещё и выкинуть хотим. \n",
    "\n",
    "Обычно, если пропусков в переменной не очень много, их заполняют чем-нибудь нейтральным. Например, медианами. Когда алгоритм будет натыкаться на них, он будет думать: \"Хммм, ну тут ничего особенного, всё как в среднем по выборке, пойду посмотрю другую переменную\". И тогда всё будет хорошо. \n",
    "\n",
    "Тем не менее, если пропусков в переменной очень много, то лучше выбросить её. Заполнение будет только путать алгоритм. Что лучше, выкинуть строки или заполнить их, во многом зависит от задачи, которую вы решаете. Можно построить несколько разных моделей с разной предобработкой пропусков и посмотреть у какой из них качество будет лучше. \n",
    "\n",
    "Заполним пропуски в возрасте медианами."
   ]
  },
  {
   "cell_type": "code",
   "execution_count": 11,
   "metadata": {},
   "outputs": [
    {
     "data": {
      "text/html": [
       "&lt;NA&gt;"
      ],
      "text/latex": [
       "<NA>"
      ],
      "text/markdown": [
       "&lt;NA&gt;"
      ],
      "text/plain": [
       "[1] NA"
      ]
     },
     "metadata": {},
     "output_type": "display_data"
    }
   ],
   "source": [
    "median(df$Age) # не расчитало медиану из-за пропусков :("
   ]
  },
  {
   "cell_type": "code",
   "execution_count": 12,
   "metadata": {},
   "outputs": [
    {
     "data": {
      "text/html": [
       "28"
      ],
      "text/latex": [
       "28"
      ],
      "text/markdown": [
       "28"
      ],
      "text/plain": [
       "[1] 28"
      ]
     },
     "metadata": {},
     "output_type": "display_data"
    }
   ],
   "source": [
    "median(df$Age, na.rm = TRUE) # включили опцию игнорить пропуски и медиана расчиталась"
   ]
  },
  {
   "cell_type": "code",
   "execution_count": 13,
   "metadata": {},
   "outputs": [],
   "source": [
    "# сделали срез по всем ячейкам с пропусками и залили их медианой\n",
    "df[is.na(df$Age),]$Age = median(df$Age, na.rm = TRUE)"
   ]
  },
  {
   "cell_type": "code",
   "execution_count": 14,
   "metadata": {},
   "outputs": [
    {
     "data": {
      "text/html": [
       "28"
      ],
      "text/latex": [
       "28"
      ],
      "text/markdown": [
       "28"
      ],
      "text/plain": [
       "[1] 28"
      ]
     },
     "metadata": {},
     "output_type": "display_data"
    }
   ],
   "source": [
    "median(df$Age) # теперь пропусков нет и всё считается!"
   ]
  },
  {
   "cell_type": "markdown",
   "metadata": {},
   "source": [
    "Повторюсь, что проблемы, связанные с предобработкой, на этом не заканчиваются. Большую часть времени приходится возиться с данными: работать с пропусками, придумывать новые переменные, обрабатывать неструктурированные переменные (например, текст) и т.п. \n",
    "\n",
    "Мы останавливаемся на этом только потому, что хотим посмотреть на то, как работает метод максимального правдоподобия на реальной задаче, а не прослушать вводный курс машинки. Разобьём выборку, как и планировали в самом начале, на тестовую и тренировочную. "
   ]
  },
  {
   "cell_type": "code",
   "execution_count": 15,
   "metadata": {},
   "outputs": [
    {
     "data": {
      "text/html": [
       "<ol class=list-inline>\n",
       "\t<li>737</li>\n",
       "\t<li>324</li>\n",
       "\t<li>317</li>\n",
       "\t<li>662</li>\n",
       "\t<li>329</li>\n",
       "\t<li>844</li>\n",
       "\t<li>877</li>\n",
       "\t<li>652</li>\n",
       "\t<li>115</li>\n",
       "\t<li>83</li>\n",
       "</ol>\n"
      ],
      "text/latex": [
       "\\begin{enumerate*}\n",
       "\\item 737\n",
       "\\item 324\n",
       "\\item 317\n",
       "\\item 662\n",
       "\\item 329\n",
       "\\item 844\n",
       "\\item 877\n",
       "\\item 652\n",
       "\\item 115\n",
       "\\item 83\n",
       "\\end{enumerate*}\n"
      ],
      "text/markdown": [
       "1. 737\n",
       "2. 324\n",
       "3. 317\n",
       "4. 662\n",
       "5. 329\n",
       "6. 844\n",
       "7. 877\n",
       "8. 652\n",
       "9. 115\n",
       "10. 83\n",
       "\n",
       "\n"
      ],
      "text/plain": [
       " [1] 737 324 317 662 329 844 877 652 115  83"
      ]
     },
     "metadata": {},
     "output_type": "display_data"
    }
   ],
   "source": [
    "RowIndex <- sample(1:nrow(df), round(0.8*nrow(df)))  # отбираем рандомные индексы для теста и трэйна\n",
    "RowIndex[1:10]"
   ]
  },
  {
   "cell_type": "code",
   "execution_count": 16,
   "metadata": {},
   "outputs": [],
   "source": [
    "df_train <- df[RowIndex, ]  # тренировчная будет состоять из 80% наблюдений\n",
    "df_test <- df[-RowIndex, ]  # тестовая будет состоять из 20%"
   ]
  },
  {
   "cell_type": "code",
   "execution_count": 17,
   "metadata": {},
   "outputs": [
    {
     "data": {
      "text/html": [
       "<ol class=list-inline>\n",
       "\t<li>713</li>\n",
       "\t<li>7</li>\n",
       "</ol>\n"
      ],
      "text/latex": [
       "\\begin{enumerate*}\n",
       "\\item 713\n",
       "\\item 7\n",
       "\\end{enumerate*}\n"
      ],
      "text/markdown": [
       "1. 713\n",
       "2. 7\n",
       "\n",
       "\n"
      ],
      "text/plain": [
       "[1] 713   7"
      ]
     },
     "metadata": {},
     "output_type": "display_data"
    },
    {
     "data": {
      "text/html": [
       "<ol class=list-inline>\n",
       "\t<li>178</li>\n",
       "\t<li>7</li>\n",
       "</ol>\n"
      ],
      "text/latex": [
       "\\begin{enumerate*}\n",
       "\\item 178\n",
       "\\item 7\n",
       "\\end{enumerate*}\n"
      ],
      "text/markdown": [
       "1. 178\n",
       "2. 7\n",
       "\n",
       "\n"
      ],
      "text/plain": [
       "[1] 178   7"
      ]
     },
     "metadata": {},
     "output_type": "display_data"
    }
   ],
   "source": [
    "dim(df_train)\n",
    "dim(df_test)"
   ]
  },
  {
   "cell_type": "markdown",
   "metadata": {},
   "source": [
    "# 3. Немного картинок\n",
    "\n",
    "Давайте построим пару визуализаций датасета. Просто, чтобы было. Во-первых давайте посмотрим на распределение выживших и мёртвых. Классы несбалансированы. Примеров с выжившими меньше, чем с мёртвыми. Запомните эту деталь. Она нам понадоибится в самом конце."
   ]
  },
  {
   "cell_type": "code",
   "execution_count": 33,
   "metadata": {},
   "outputs": [
    {
     "data": {},
     "metadata": {},
     "output_type": "display_data"
    },
    {
     "data": {
      "image/png": "[encoded data removed]",
      "text/plain": [
       "plot without title"
      ]
     },
     "metadata": {},
     "output_type": "display_data"
    }
   ],
   "source": [
    "ggplot(df_train, aes(x=Survived))+\n",
    "    geom_bar(stat=\"count\", width=0.7, fill=\"steelblue\")"
   ]
  },
  {
   "cell_type": "markdown",
   "metadata": {},
   "source": [
    "Можно посмотреть на кучу других картинок. Например, вот на такую:"
   ]
  },
  {
   "cell_type": "code",
   "execution_count": 61,
   "metadata": {},
   "outputs": [
    {
     "data": {},
     "metadata": {},
     "output_type": "display_data"
    },
    {
     "data": {
      "image/png": "[encoded data removed]",
      "text/plain": [
       "plot without title"
      ]
     },
     "metadata": {},
     "output_type": "display_data"
    }
   ],
   "source": [
    "#Построим плотности выживших и невыживших на одном графике. \n",
    "qplot(data=df_train, x=Age, y=..count.., fill=Survived, geom=\"density\")\n",
    "#                             количество    закраска                 \n",
    "#                             наблюдений    в соотв.                \n",
    "#                             комп сам      выжил или нет   \n"
   ]
  },
  {
   "cell_type": "markdown",
   "metadata": {},
   "source": [
    "На картинке построены две условные плотности распределения возраста. Одна для выживших, другая для мёртвых. На них видно, что большая часть пожилых погибла. Большая часть младенцев выжила."
   ]
  },
  {
   "cell_type": "code",
   "execution_count": 62,
   "metadata": {},
   "outputs": [
    {
     "data": {},
     "metadata": {},
     "output_type": "display_data"
    },
    {
     "data": {
      "image/png": "[encoded data removed]",
      "text/plain": [
       "plot without title"
      ]
     },
     "metadata": {},
     "output_type": "display_data"
    }
   ],
   "source": [
    "qplot(data=df_train,x=Survived,y=Age,geom=\"violin\")\n",
    "\n",
    "#если поделить пассажиров на выживших и не выживших\n",
    "#и отдожить по вертикали количественную переменную\n",
    "#а именно возраст, то мы видим что возраст меняется от\n",
    "# 0 до 80 и среди тех и других по возрастам распределение\n",
    "# примерно одинаковое."
   ]
  },
  {
   "cell_type": "markdown",
   "metadata": {},
   "source": [
    "Ещё больше картинок можно найти [в статье по титанику на хабре.](https://habr.com/company/mlclass/blog/270973/)"
   ]
  },
  {
   "cell_type": "markdown",
   "metadata": {},
   "source": [
    "# 4. Оцениваем модель!\n",
    "\n",
    "## 4.1 Данные? Какие данные?\n",
    "\n",
    "На первои шаге забудем про все переменные, кроме выживаемости. Вытащим из таблицы только колонку из нулей и единиц, где $1$ означает, что человек выжил, а $0$, что нет. По этой колонке нам хотелось бы оценить вероятность выживания. До сегодняшнего дня мы делали это следущим способом:\n",
    "\n",
    "$$\n",
    "L = p \\cdot p \\cdot \\ldots \\cdot p \\cdot (1-p) \\cdot (1-p) \\cdot \\ldots \\cdot (1-p) = p^{\\sum_{i=1}^n y_i} \\cdot (1-p)^{n- \\sum_{i=1}^n y_i}.\n",
    "$$\n",
    "\n",
    "Прологорифмировав, мы получали функцию для оптимизации:\n",
    "\n",
    "$$\n",
    "\\ln L = \\sum_{i=1}^n y_i \\ln p + (n- \\sum_{i=1}^n y_i) (1-p).\n",
    "$$"
   ]
  },
  {
   "cell_type": "markdown",
   "metadata": {},
   "source": [
    "Пришло время вбить функцию логарифма правдоподобия и посмотреть на пару её значений в разных точках. Мы будем делать это руками. Поэтому давайте вернём переменной `Survived` числовой тип."
   ]
  },
  {
   "cell_type": "code",
   "execution_count": 63,
   "metadata": {
    "scrolled": false
   },
   "outputs": [
    {
     "data": {
      "text/html": [
       "-1.07944154167984"
      ],
      "text/latex": [
       "-1.07944154167984"
      ],
      "text/markdown": [
       "-1.07944154167984"
      ],
      "text/plain": [
       "[1] -1.079442"
      ]
     },
     "metadata": {},
     "output_type": "display_data"
    },
    {
     "data": {
      "text/html": [
       "27.1913781654551"
      ],
      "text/latex": [
       "27.1913781654551"
      ],
      "text/markdown": [
       "27.1913781654551"
      ],
      "text/plain": [
       "[1] 27.19138"
      ]
     },
     "metadata": {},
     "output_type": "display_data"
    }
   ],
   "source": [
    "# вернём пока что числовой тип целевой переменной \n",
    "df_train = mutate(df_train, Survived = as.numeric(as.character(Survived)))\n",
    "\n",
    "y_sur = df_train$Survived\n",
    "\n",
    "lnL <- function(p,y){\n",
    "    ans <- sum(y)*log(p) + (length(y) - sum(y))*(1-p)\n",
    "  return(ans)\n",
    "}\n",
    "\n",
    "lnL(0.5, c(1,0,1,0,1))\n",
    "lnL(0.5, y_sur)"
   ]
  },
  {
   "cell_type": "markdown",
   "metadata": {},
   "source": [
    "Оптимизируем! "
   ]
  },
  {
   "cell_type": "code",
   "execution_count": 64,
   "metadata": {},
   "outputs": [
    {
     "data": {
      "text/plain": [
       "--------------------------------------------\n",
       "Maximum Likelihood estimation\n",
       "Newton-Raphson maximisation, 4 iterations\n",
       "Return code 1: gradient close to zero\n",
       "Log-Likelihood: 34.16908 \n",
       "1  free parameters\n",
       "Estimates:\n",
       "     Estimate Std. error t value Pr(> t)    \n",
       "[1,]  0.63158    0.03802   16.61  <2e-16 ***\n",
       "---\n",
       "Signif. codes:  0 ‘***’ 0.001 ‘**’ 0.01 ‘*’ 0.05 ‘.’ 0.1 ‘ ’ 1\n",
       "--------------------------------------------"
      ]
     },
     "metadata": {},
     "output_type": "display_data"
    }
   ],
   "source": [
    "res <- maxLik(lnL, start=0.5, y = y_sur) # какую стартовую точку взять? \n",
    "summary(res)                             # 0.5 это логично для оценки вероятности "
   ]
  },
  {
   "cell_type": "code",
   "execution_count": 65,
   "metadata": {},
   "outputs": [
    {
     "data": {
      "text/html": [
       "0.387096774193548"
      ],
      "text/latex": [
       "0.387096774193548"
      ],
      "text/markdown": [
       "0.387096774193548"
      ],
      "text/plain": [
       "[1] 0.3870968"
      ]
     },
     "metadata": {},
     "output_type": "display_data"
    }
   ],
   "source": [
    "mean(y_sur)  # всё ок! :) Получили ожидаемый результат."
   ]
  },
  {
   "cell_type": "markdown",
   "metadata": {},
   "source": [
    "Для того, чтобы в дальнейшем нам было удобно сопоставлять разные формулы, давайте перепишем уже полученное выше правдоподобие немного иначе и прологарифмируем\n",
    "\n",
    "$$\n",
    "L = \\prod_{i=1}^{n} p^{y_i} (1-p)^{1-y_i}\n",
    "$$\n",
    "\n",
    "$$\n",
    "\\ln L = \\sum_{i=1}^n [y_i \\ln p + (1-y_i) \\ln(1-p)].\n",
    "$$\n",
    "\n",
    "## 4.2 Линейная вероятностная модель\n",
    "\n",
    "Итак, что только что произошло? Мы получили вероятность того, что человек выживет на титанике. Она для каждого из нас равна $0.38$. На интуитивном уровне сразу же понятно, что это очень плохая оценка. Она никак не учитывает в себе, что люди бывают разными.\n",
    "\n",
    "На картинках выше, мы с вами увидели, что для женщин вероятность выжить намного больше, чем для мужчин. Было бы неплохо оценить для мужчин свою вероятность, а для женщин свою. Мы, зная, что $\\hat p_{ML} = \\bar x$, легко можем сделать это. Заодно изучим прикольный приём под названием __трубочка.__  Если мы хотим взять синус от числа, а потом прологорифмировать, мы можем сделать это так:"
   ]
  },
  {
   "cell_type": "code",
   "execution_count": 66,
   "metadata": {},
   "outputs": [
    {
     "data": {
      "text/html": [
       "-0.0106987817830851"
      ],
      "text/latex": [
       "-0.0106987817830851"
      ],
      "text/markdown": [
       "-0.0106987817830851"
      ],
      "text/plain": [
       "[1] -0.01069878"
      ]
     },
     "metadata": {},
     "output_type": "display_data"
    }
   ],
   "source": [
    "log(sin(8))"
   ]
  },
  {
   "cell_type": "markdown",
   "metadata": {},
   "source": [
    "Если мы хотим от этого взять ещё косинус, то слева нужно дописать новую функцию."
   ]
  },
  {
   "cell_type": "code",
   "execution_count": 67,
   "metadata": {},
   "outputs": [
    {
     "data": {
      "text/html": [
       "0.999942768580093"
      ],
      "text/latex": [
       "0.999942768580093"
      ],
      "text/markdown": [
       "0.999942768580093"
      ],
      "text/plain": [
       "[1] 0.9999428"
      ]
     },
     "metadata": {},
     "output_type": "display_data"
    }
   ],
   "source": [
    "cos(log(sin(8)))"
   ]
  },
  {
   "cell_type": "markdown",
   "metadata": {},
   "source": [
    "Постоянно надо будет плодить новые скобки и ... это не удобно. Легко забыть или запутаться. Особенно когда ты работаешь с таблицами. Для того, чтобы не путаться, внутри пакета `dplyr` лежит трубочка: удобная опирация для последовательных дйствий."
   ]
  },
  {
   "cell_type": "code",
   "execution_count": 68,
   "metadata": {},
   "outputs": [
    {
     "data": {
      "text/html": [
       "0.999942768580093"
      ],
      "text/latex": [
       "0.999942768580093"
      ],
      "text/markdown": [
       "0.999942768580093"
      ],
      "text/plain": [
       "[1] 0.9999428"
      ]
     },
     "metadata": {},
     "output_type": "display_data"
    }
   ],
   "source": [
    "8 %>% sin %>% log %>% cos"
   ]
  },
  {
   "cell_type": "markdown",
   "metadata": {},
   "source": [
    "Это выглядит так как будто мы берём число $5$ и пропускаем его через трубочку по очереди в каждую функцию. Никаких скобок и удобно. Обычно трубочками работают с таблицами. Например, ниже мы отфильтровали в таблице все строки с мужчинами, а затем посчитали среднее по колонке `Survived`."
   ]
  },
  {
   "cell_type": "code",
   "execution_count": 69,
   "metadata": {},
   "outputs": [
    {
     "data": {
      "text/html": [
       "<table>\n",
       "<thead><tr><th scope=col>male_p</th></tr></thead>\n",
       "<tbody>\n",
       "\t<tr><td>0.1906874</td></tr>\n",
       "</tbody>\n",
       "</table>\n"
      ],
      "text/latex": [
       "\\begin{tabular}{r|l}\n",
       " male\\_p\\\\\n",
       "\\hline\n",
       "\t 0.1906874\\\\\n",
       "\\end{tabular}\n"
      ],
      "text/markdown": [
       "\n",
       "male_p | \n",
       "|---|\n",
       "| 0.1906874 | \n",
       "\n",
       "\n"
      ],
      "text/plain": [
       "  male_p   \n",
       "1 0.1906874"
      ]
     },
     "metadata": {},
     "output_type": "display_data"
    },
    {
     "data": {
      "text/html": [
       "<table>\n",
       "<thead><tr><th scope=col>female_p</th></tr></thead>\n",
       "<tbody>\n",
       "\t<tr><td>0.7251908</td></tr>\n",
       "</tbody>\n",
       "</table>\n"
      ],
      "text/latex": [
       "\\begin{tabular}{r|l}\n",
       " female\\_p\\\\\n",
       "\\hline\n",
       "\t 0.7251908\\\\\n",
       "\\end{tabular}\n"
      ],
      "text/markdown": [
       "\n",
       "female_p | \n",
       "|---|\n",
       "| 0.7251908 | \n",
       "\n",
       "\n"
      ],
      "text/plain": [
       "  female_p \n",
       "1 0.7251908"
      ]
     },
     "metadata": {},
     "output_type": "display_data"
    }
   ],
   "source": [
    "df_train %>% filter(Sex == 'male') %>% summarise(male_p = mean(Survived))\n",
    "df_train %>% filter(Sex == 'female') %>% summarise(female_p = mean(Survived))"
   ]
  },
  {
   "cell_type": "markdown",
   "metadata": {},
   "source": [
    "Такая оценка будет намного лучше нашей первой. Если вы женщина, вероятность выжить для вас довольно высока. Но стоит ли останавливаться на этом? Нет! Идея требует своего развития. Кажется, что вероятность выжить это функция от всех параметров, которыми обладает человек\n",
    "\n",
    "$$p = F(age, sex, ...).$$ \n",
    "\n",
    "Предположим, что она линейная, то есть каждый фактор, пол, возраст и тп, взвешиваются с какими-то весами, $\\beta$, и получается вероятность\n",
    "\n",
    "$$p = \\beta_0 + \\beta_1 sex + \\beta_2 age + \\ldots.$$\n",
    "\n",
    "Например, как мы уже выяснили, женщины выживают чаще мужчин, более старые люди выживают редко. Возможно, что $p = 0.2*sex - 0.01 age_i$. Тогда получится, что если переменная $sex$ принимает значение $1$, вероятность выжить подскакивает на $0.2$. При этом, с каждым прожитым годом, вероятность выжить падает. Осталось только понять откуда взять эти две бэты.  \n",
    "\n",
    "Найти методом максимального правдоподобия! Берём и заменям в нашей изначальной формуле все $p$ на $F(x)$ и занимаемся её оптимизацией по параметрам $\\beta$\n",
    "\n",
    "$$\n",
    "\\ln L = \\sum_{i=1}^n [y_i \\ln F(x_i) + (1-y_i) \\ln(1-F(x_i))].\n",
    "$$\n",
    "\n",
    "Попробуем для начала сделать это только с полом:\n",
    "\n",
    "$$\n",
    "\\ln L = \\sum_{i=1}^n [y_i \\ln (\\beta_0 + \\beta_1 sex_i) + (1-y_i) \\ln(1-(\\beta_0 + \\beta_1 sex_i))].\n",
    "$$"
   ]
  },
  {
   "cell_type": "markdown",
   "metadata": {},
   "source": [
    "В каждом слагаемом находится своё уникальное значение $sex_i$. Из-за этого у нас не получится так просто вбить функцию правдоподобия, как мы сделали это выше. Хорошо, что у нас есть матрицы и линал, которые помогут :) Предположим, что у нас есть вот такая вот табличка из четырёх наблюдений: \n",
    "\n",
    "$$\n",
    "X = \\begin{pmatrix} 1 & sex_1 \\\\ 1 & sex_2 \\\\ 1 & sex_3 \\\\ 1 & sex_4 \\end{pmatrix} \n",
    "$$"
   ]
  },
  {
   "cell_type": "markdown",
   "metadata": {},
   "source": [
    "Во втором столбике записано то, какого пола каждый человек. В первом столбике написаны единички. Это небольшой технический приём, чтобы получить потом $\\beta_0$. Запишем вектор из $\\beta$ в виде столбика:\n",
    "\n",
    "$$\n",
    "\\beta = \\begin{pmatrix} \\beta_0 \\\\ \\beta_1 \\end{pmatrix}\n",
    "$$"
   ]
  },
  {
   "cell_type": "markdown",
   "metadata": {},
   "source": [
    "Тогда если мы перемножим матрицу $X$ и столбик $\\beta$, то мы получим \n",
    "\n",
    "$$\n",
    "X \\cdot \\beta = \\begin{pmatrix} \\beta_0 + \\beta_1 sex_1 \\\\ \\beta_0 + \\beta_1 sex_2 \\\\ \\beta_0 + \\beta_1 sex_3 \\\\\\beta_0 + \\beta_1 sex_4 \\end{pmatrix}\n",
    "$$"
   ]
  },
  {
   "cell_type": "markdown",
   "metadata": {},
   "source": [
    "Домножим каждой слагаемое на свой $y_i$, тогда: \n",
    "\n",
    "$$\n",
    "y*X \\cdot \\beta = \\begin{pmatrix} y_1 \\cdot(\\beta_0 + \\beta_1 sex_1) \\\\ y_2 \\cdot(\\beta_0 + \\beta_1 sex_2) \\\\ y_3 \\cdot(\\beta_0 + \\beta_1 sex_3) \\\\ y_4 \\cdot(\\beta_0 + \\beta_1 sex_4) \\end{pmatrix}\n",
    "$$\n",
    "\n",
    "Если мы просуммируем всё это, то получим первый кусочек суммы. Аналогично можно получить второй кусочек. Давайте вобьём это в R."
   ]
  },
  {
   "cell_type": "code",
   "execution_count": 70,
   "metadata": {},
   "outputs": [
    {
     "data": {
      "text/html": [
       "<table>\n",
       "<tbody>\n",
       "\t<tr><td>1           </td><td>0.3590383327</td></tr>\n",
       "\t<tr><td>1           </td><td>0.7923830762</td></tr>\n",
       "\t<tr><td>1           </td><td>0.4680810818</td></tr>\n",
       "\t<tr><td>1           </td><td>0.0004320503</td></tr>\n",
       "\t<tr><td>1           </td><td>0.0935492811</td></tr>\n",
       "</tbody>\n",
       "</table>\n"
      ],
      "text/latex": [
       "\\begin{tabular}{ll}\n",
       "\t 1            & 0.3590383327\\\\\n",
       "\t 1            & 0.7923830762\\\\\n",
       "\t 1            & 0.4680810818\\\\\n",
       "\t 1            & 0.0004320503\\\\\n",
       "\t 1            & 0.0935492811\\\\\n",
       "\\end{tabular}\n"
      ],
      "text/markdown": [
       "\n",
       "| 1            | 0.3590383327 | \n",
       "| 1            | 0.7923830762 | \n",
       "| 1            | 0.4680810818 | \n",
       "| 1            | 0.0004320503 | \n",
       "| 1            | 0.0935492811 | \n",
       "\n",
       "\n"
      ],
      "text/plain": [
       "     [,1] [,2]        \n",
       "[1,] 1    0.3590383327\n",
       "[2,] 1    0.7923830762\n",
       "[3,] 1    0.4680810818\n",
       "[4,] 1    0.0004320503\n",
       "[5,] 1    0.0935492811"
      ]
     },
     "metadata": {},
     "output_type": "display_data"
    }
   ],
   "source": [
    "X <- cbind(1,runif(5))  # cbind объединяет столбики\n",
    "X # матрица из наблюдений"
   ]
  },
  {
   "cell_type": "code",
   "execution_count": 71,
   "metadata": {},
   "outputs": [
    {
     "data": {
      "text/html": [
       "<ol class=list-inline>\n",
       "\t<li>2</li>\n",
       "\t<li>4</li>\n",
       "</ol>\n"
      ],
      "text/latex": [
       "\\begin{enumerate*}\n",
       "\\item 2\n",
       "\\item 4\n",
       "\\end{enumerate*}\n"
      ],
      "text/markdown": [
       "1. 2\n",
       "2. 4\n",
       "\n",
       "\n"
      ],
      "text/plain": [
       "[1] 2 4"
      ]
     },
     "metadata": {},
     "output_type": "display_data"
    }
   ],
   "source": [
    "b <- c(2, 4)\n",
    "b # вектор из параметров"
   ]
  },
  {
   "cell_type": "code",
   "execution_count": 72,
   "metadata": {},
   "outputs": [
    {
     "data": {
      "text/html": [
       "<table>\n",
       "<tbody>\n",
       "\t<tr><td>3.436153</td></tr>\n",
       "\t<tr><td>5.169532</td></tr>\n",
       "\t<tr><td>3.872324</td></tr>\n",
       "\t<tr><td>2.001728</td></tr>\n",
       "\t<tr><td>2.374197</td></tr>\n",
       "</tbody>\n",
       "</table>\n"
      ],
      "text/latex": [
       "\\begin{tabular}{l}\n",
       "\t 3.436153\\\\\n",
       "\t 5.169532\\\\\n",
       "\t 3.872324\\\\\n",
       "\t 2.001728\\\\\n",
       "\t 2.374197\\\\\n",
       "\\end{tabular}\n"
      ],
      "text/markdown": [
       "\n",
       "| 3.436153 | \n",
       "| 5.169532 | \n",
       "| 3.872324 | \n",
       "| 2.001728 | \n",
       "| 2.374197 | \n",
       "\n",
       "\n"
      ],
      "text/plain": [
       "     [,1]    \n",
       "[1,] 3.436153\n",
       "[2,] 5.169532\n",
       "[3,] 3.872324\n",
       "[4,] 2.001728\n",
       "[5,] 2.374197"
      ]
     },
     "metadata": {},
     "output_type": "display_data"
    }
   ],
   "source": [
    "X%*%b  # матричное умножение "
   ]
  },
  {
   "cell_type": "code",
   "execution_count": 73,
   "metadata": {},
   "outputs": [
    {
     "data": {
      "text/html": [
       "<table>\n",
       "<tbody>\n",
       "\t<tr><td>0.0000000</td></tr>\n",
       "\t<tr><td>1.6427822</td></tr>\n",
       "\t<tr><td>0.0000000</td></tr>\n",
       "\t<tr><td>0.6940109</td></tr>\n",
       "\t<tr><td>0.8646593</td></tr>\n",
       "</tbody>\n",
       "</table>\n"
      ],
      "text/latex": [
       "\\begin{tabular}{l}\n",
       "\t 0.0000000\\\\\n",
       "\t 1.6427822\\\\\n",
       "\t 0.0000000\\\\\n",
       "\t 0.6940109\\\\\n",
       "\t 0.8646593\\\\\n",
       "\\end{tabular}\n"
      ],
      "text/markdown": [
       "\n",
       "| 0.0000000 | \n",
       "| 1.6427822 | \n",
       "| 0.0000000 | \n",
       "| 0.6940109 | \n",
       "| 0.8646593 | \n",
       "\n",
       "\n"
      ],
      "text/plain": [
       "     [,1]     \n",
       "[1,] 0.0000000\n",
       "[2,] 1.6427822\n",
       "[3,] 0.0000000\n",
       "[4,] 0.6940109\n",
       "[5,] 0.8646593"
      ]
     },
     "metadata": {},
     "output_type": "display_data"
    }
   ],
   "source": [
    "y <- c(0,1,0,1,1)\n",
    "y*log(X%*%b)   # домножаем поэлементно на соответствующие игреки и получаем первое слагаемое "
   ]
  },
  {
   "cell_type": "code",
   "execution_count": 74,
   "metadata": {},
   "outputs": [
    {
     "name": "stderr",
     "output_type": "stream",
     "text": [
      "Warning message in log(1 - X %*% b):\n",
      "“созданы NaN”"
     ]
    },
    {
     "data": {
      "text/html": [
       "<table>\n",
       "<tbody>\n",
       "\t<tr><td>NaN</td></tr>\n",
       "\t<tr><td>NaN</td></tr>\n",
       "\t<tr><td>NaN</td></tr>\n",
       "\t<tr><td>NaN</td></tr>\n",
       "\t<tr><td>NaN</td></tr>\n",
       "</tbody>\n",
       "</table>\n"
      ],
      "text/latex": [
       "\\begin{tabular}{l}\n",
       "\t NaN\\\\\n",
       "\t NaN\\\\\n",
       "\t NaN\\\\\n",
       "\t NaN\\\\\n",
       "\t NaN\\\\\n",
       "\\end{tabular}\n"
      ],
      "text/markdown": [
       "\n",
       "| NaN | \n",
       "| NaN | \n",
       "| NaN | \n",
       "| NaN | \n",
       "| NaN | \n",
       "\n",
       "\n"
      ],
      "text/plain": [
       "     [,1]\n",
       "[1,] NaN \n",
       "[2,] NaN \n",
       "[3,] NaN \n",
       "[4,] NaN \n",
       "[5,] NaN "
      ]
     },
     "metadata": {},
     "output_type": "display_data"
    }
   ],
   "source": [
    "(1-y)*log(1 - X%*%b)  # при поиске второго слагаемого возникли проблемы :("
   ]
  },
  {
   "cell_type": "code",
   "execution_count": 75,
   "metadata": {},
   "outputs": [
    {
     "data": {
      "text/html": [
       "<table>\n",
       "<tbody>\n",
       "\t<tr><td>-2.436153</td></tr>\n",
       "\t<tr><td>-4.169532</td></tr>\n",
       "\t<tr><td>-2.872324</td></tr>\n",
       "\t<tr><td>-1.001728</td></tr>\n",
       "\t<tr><td>-1.374197</td></tr>\n",
       "</tbody>\n",
       "</table>\n"
      ],
      "text/latex": [
       "\\begin{tabular}{l}\n",
       "\t -2.436153\\\\\n",
       "\t -4.169532\\\\\n",
       "\t -2.872324\\\\\n",
       "\t -1.001728\\\\\n",
       "\t -1.374197\\\\\n",
       "\\end{tabular}\n"
      ],
      "text/markdown": [
       "\n",
       "| -2.436153 | \n",
       "| -4.169532 | \n",
       "| -2.872324 | \n",
       "| -1.001728 | \n",
       "| -1.374197 | \n",
       "\n",
       "\n"
      ],
      "text/plain": [
       "     [,1]     \n",
       "[1,] -2.436153\n",
       "[2,] -4.169532\n",
       "[3,] -2.872324\n",
       "[4,] -1.001728\n",
       "[5,] -1.374197"
      ]
     },
     "metadata": {},
     "output_type": "display_data"
    }
   ],
   "source": [
    "# Откуда проблемы? Отрицательные числа под логарифмами. \n",
    "1 - X%*%b"
   ]
  },
  {
   "cell_type": "code",
   "execution_count": 76,
   "metadata": {},
   "outputs": [
    {
     "data": {
      "text/html": [
       "-1.39020826044103"
      ],
      "text/latex": [
       "-1.39020826044103"
      ],
      "text/markdown": [
       "-1.39020826044103"
      ],
      "text/plain": [
       "[1] -1.390208"
      ]
     },
     "metadata": {},
     "output_type": "display_data"
    }
   ],
   "source": [
    "# Итоговое правдоподобие выглядело бы вот так:\n",
    "\n",
    "lnL <- function(beta,y,X){\n",
    "    ans <- sum(y*log(X%*%b) + (1-y)*log(1 - X%*%b))\n",
    "  return(ans)\n",
    "}\n",
    "\n",
    "# Можно даже подбрать ситуации, когда с ним всё окей и нет ошибок:\n",
    "y <- c(0,1)\n",
    "X <- cbind(1,c(1/16,1/16))\n",
    "b <- c(0.5,0.5)\n",
    "lnL(b,y,X)"
   ]
  },
  {
   "cell_type": "markdown",
   "metadata": {},
   "source": [
    "Когда мы предположили, что $p = \\beta_0 + \\beta_1 sex_i$, мы оказались неправы. Наш главный косяк был в том, что вероятность должна принимать значения от нуля до единицы. При предположенной нами зависимости, возникают ситуации, когда она пробивает этот диапазон. Из-за этого под логарифм попадают отрицательные числа и вся концепция рушится. Нужно исправить это. Надо перевести нашу линейную комбинацию в шкалу от нуля до единицы. Для этого нужна вот такая функция:\n",
    "\n",
    "<img src=\"https://upload.wikimedia.org/wikipedia/commons/b/b5/SigmoidFunction.png\" height=\"200\" width=\"400\">\n",
    "\n",
    "\n",
    "\n",
    "\n",
    "\n",
    "\n"
   ]
  },
  {
   "cell_type": "markdown",
   "metadata": {},
   "source": [
    "Она будет отображать действительные числа на отрезок от нуля до единицы. Обычно для этого используют функцию под названием сигмоида:\n",
    "\n",
    "$$\n",
    "F(z) = \\frac{e^z}{1 + e^z} = \\frac{1}{1 + e^{-z}}.\n",
    "$$\n",
    "\n",
    "Почему именно её? Потому что она няшная! Внимательный студент узнал в ней функцию распределения для логистической случайной величины, которая фигугрировала в первой домашке. При её использовании модель получается интерпретируемой. Но об этом вы узнаете позже. Сама по себе модель с такой функцией называется __логистической регрессией.__ Вероятность того, что $y_i = 1$ выпишится как:\n",
    "\n",
    "$$\n",
    "P(y_i = 1) = \\frac{1}{1 + e^{-(\\beta_0 + \\beta_1 sex_i)}}\n",
    "$$\n",
    "\n",
    "\n",
    "А логарифм правдоподобия примет вид:\n",
    "\n",
    "\n",
    "$$\n",
    "\\ln L = \\sum_{i=1}^n y_i \\ln \\left( \\frac{1}{1 + e^{-(\\beta_0 + \\beta_1 sex_i)}}\\right) + (1-y_i) \\ln\\left(1- \\frac{1}{1 + e^{-(\\beta_0 + \\beta_1 sex_i)}}\\right).\n",
    "$$\n",
    "\n",
    "Осталось только закодить."
   ]
  },
  {
   "cell_type": "code",
   "execution_count": 77,
   "metadata": {},
   "outputs": [
    {
     "data": {
      "text/html": [
       "0.993307149075715"
      ],
      "text/latex": [
       "0.993307149075715"
      ],
      "text/markdown": [
       "0.993307149075715"
      ],
      "text/plain": [
       "[1] 0.9933071"
      ]
     },
     "metadata": {},
     "output_type": "display_data"
    }
   ],
   "source": [
    "# Это сигмоид!\n",
    "\n",
    "sigmoid <- function(z){\n",
    "    return(exp(z)/(1 + exp(z)))\n",
    "}\n",
    "\n",
    "sigmoid(5)"
   ]
  },
  {
   "cell_type": "code",
   "execution_count": 79,
   "metadata": {},
   "outputs": [
    {
     "data": {
      "text/html": [
       "-1.45603657926966"
      ],
      "text/latex": [
       "-1.45603657926966"
      ],
      "text/markdown": [
       "-1.45603657926966"
      ],
      "text/plain": [
       "[1] -1.456037"
      ]
     },
     "metadata": {},
     "output_type": "display_data"
    }
   ],
   "source": [
    "# это логарифм правдоподобия!\n",
    "\n",
    "lnL <- function(b, y, X){\n",
    "    answ = sum(y*log(sigmoid(-1*X%*%b)) + (1-y)*log(1 - sigmoid(-1*X%*%b)))\n",
    "    return(answ)\n",
    "}\n",
    "\n",
    "y <- c(0,1)\n",
    "X <- cbind(1,c(1/16,1/16))\n",
    "b <- c(0.5,0.5)\n",
    "lnL(b,y,X)"
   ]
  },
  {
   "cell_type": "code",
   "execution_count": 80,
   "metadata": {},
   "outputs": [
    {
     "data": {
      "text/html": [
       "-446.489190925906"
      ],
      "text/latex": [
       "-446.489190925906"
      ],
      "text/markdown": [
       "-446.489190925906"
      ],
      "text/plain": [
       "[1] -446.4892"
      ]
     },
     "metadata": {},
     "output_type": "display_data"
    }
   ],
   "source": [
    "# Пол нужно сделать числовым вида 1 - мужчины, 0 - женщины\n",
    "X = cbind(1, as.numeric(df_train$Sex) - 1)\n",
    "lnL(b,y_sur,X)"
   ]
  },
  {
   "cell_type": "code",
   "execution_count": 81,
   "metadata": {},
   "outputs": [
    {
     "data": {
      "text/plain": [
       "--------------------------------------------\n",
       "Maximum Likelihood estimation\n",
       "Newton-Raphson maximisation, 4 iterations\n",
       "Return code 1: gradient close to zero\n",
       "Log-Likelihood: -373.7871 \n",
       "2  free parameters\n",
       "Estimates:\n",
       "     Estimate Std. error t value  Pr(> t)    \n",
       "[1,]  -0.9704     0.1384  -7.013 2.33e-12 ***\n",
       "[2,]   2.4159     0.1831  13.194  < 2e-16 ***\n",
       "---\n",
       "Signif. codes:  0 ‘***’ 0.001 ‘**’ 0.01 ‘*’ 0.05 ‘.’ 0.1 ‘ ’ 1\n",
       "--------------------------------------------"
      ]
     },
     "metadata": {},
     "output_type": "display_data"
    }
   ],
   "source": [
    "res <- maxLik(lnL, start=c(0.5,0.5), y = y_sur, X = X)  \n",
    "summary(res)                                    "
   ]
  },
  {
   "cell_type": "markdown",
   "metadata": {},
   "source": [
    "Всё работает. Теперь вероятность выживания это функция от пола. Расчитать вероятность выживания для мужчин можно вот так:\n",
    "\n",
    "$$\n",
    "P(y_i = 1 \\mid sex_i = male) = \\frac{1}{1 + e^{-(-0.97 + 2.42 \\cdot 1)}} = 0.19\n",
    "$$\n",
    "\n",
    "А вероятность выживания для женщин так:\n",
    "\n",
    "$$\n",
    "P(y_i = 1 \\mid sex_i = female) = \\frac{1}{1 + e^{-(-0.97 + 2.42 \\cdot 0)}} = 0.73\n",
    "$$\n",
    "\n",
    "Получается удобно. Давайте добавим в модель возраст. Получим новую модель :)"
   ]
  },
  {
   "cell_type": "code",
   "execution_count": 86,
   "metadata": {},
   "outputs": [
    {
     "data": {
      "text/plain": [
       "--------------------------------------------\n",
       "Maximum Likelihood estimation\n",
       "Newton-Raphson maximisation, 6 iterations\n",
       "Return code 2: successive function values within tolerance limit\n",
       "Log-Likelihood: -373.653 \n",
       "3  free parameters\n",
       "Estimates:\n",
       "      Estimate Std. error t value  Pr(> t)    \n",
       "[1,] -1.068298   0.235441  -4.537 5.69e-06 ***\n",
       "[2,]  2.408176   0.183565  13.119  < 2e-16 ***\n",
       "[3,]  0.003508   0.006786   0.517    0.605    \n",
       "---\n",
       "Signif. codes:  0 ‘***’ 0.001 ‘**’ 0.01 ‘*’ 0.05 ‘.’ 0.1 ‘ ’ 1\n",
       "--------------------------------------------"
      ]
     },
     "metadata": {},
     "output_type": "display_data"
    }
   ],
   "source": [
    "# Пол нужно сделать числовым вида 1 - мужчины, 0 - женщины\n",
    "X = cbind(1, as.numeric(df_train$Sex) - 1, df_train$Age)\n",
    "\n",
    "res <- maxLik(lnL, start=c(0.5,0.5,2), y = y_sur, X = X)  \n",
    "summary(res)    "
   ]
  },
  {
   "cell_type": "markdown",
   "metadata": {},
   "source": [
    "Вероятность выживания $30$-летнего мужчины тогда будет расчитываться по формуле:\n",
    "\n",
    "$$\n",
    "P(y_i = 1 \\mid sex_i = male, age_i = 30) = \\frac{1}{1 + e^{-(-1.068 + 2.408 \\cdot 1 +0.004 \\cdot 30 )}} = 0.026\n",
    "$$\n",
    "\n",
    "Похоже, что Джек (если его так звали) был обречён. "
   ]
  },
  {
   "cell_type": "markdown",
   "metadata": {},
   "source": [
    "## 4.3 Всё то же самое, но более удобно\n",
    "\n",
    "Всё то же самое можно сделать более удобно внутри команды `glm`, которая расшифровывается как general linear model. Внутри этой команды лежит много няшных моделей. В том числе и логистическая регрессия. "
   ]
  },
  {
   "cell_type": "code",
   "execution_count": 89,
   "metadata": {},
   "outputs": [
    {
     "data": {
      "text/plain": [
       "\n",
       "Call:\n",
       "glm(formula = Survived ~ Sex + Age + Pclass + Fare, family = binomial(link = \"logit\"), \n",
       "    data = df_train)\n",
       "\n",
       "Deviance Residuals: \n",
       "    Min       1Q   Median       3Q      Max  \n",
       "-2.5667  -0.7183  -0.4367   0.6560   2.3834  \n",
       "\n",
       "Coefficients:\n",
       "             Estimate Std. Error z value Pr(>|z|)    \n",
       "(Intercept)  3.129534   0.444319   7.043 1.88e-12 ***\n",
       "Sexmale     -2.484069   0.203714 -12.194  < 2e-16 ***\n",
       "Age         -0.029922   0.007894  -3.790  0.00015 ***\n",
       "Pclass2     -0.905203   0.310072  -2.919  0.00351 ** \n",
       "Pclass3     -2.118817   0.306747  -6.907 4.94e-12 ***\n",
       "Fare         0.001230   0.002255   0.546  0.58528    \n",
       "---\n",
       "Signif. codes:  0 ‘***’ 0.001 ‘**’ 0.01 ‘*’ 0.05 ‘.’ 0.1 ‘ ’ 1\n",
       "\n",
       "(Dispersion parameter for binomial family taken to be 1)\n",
       "\n",
       "    Null deviance: 951.76  on 712  degrees of freedom\n",
       "Residual deviance: 664.78  on 707  degrees of freedom\n",
       "AIC: 676.78\n",
       "\n",
       "Number of Fisher Scoring iterations: 4\n"
      ]
     },
     "metadata": {},
     "output_type": "display_data"
    }
   ],
   "source": [
    "# сделаем целевую переменную факторной (мы до этого сделали её числовой)\n",
    "df_train <- mutate(df_train, Survived = as.factor(Survived))\n",
    "\n",
    "# обучаем модель! Первый аргумент - табличка, второй - уравнение\n",
    "# мы хотим прогнозировать выживаемость по полу, возрасту, классу и цене за билет \n",
    "# третий аргумент - семейство моделей, в нашем случае это логистическая регрессия\n",
    "m_logit <- glm(data=df_train, Survived~Sex+Age+Pclass+Fare, \n",
    "                  family=binomial(link=\"logit\"))\n",
    "\n",
    "summary(m_logit)"
   ]
  },
  {
   "cell_type": "markdown",
   "metadata": {},
   "source": [
    "Получаем протокол с оценками. Мы уже получали много протоколов. Давайте наконец научимся читать его. Первая колонка - оценка коэффициентов. Intercept это константа $\\beta_0$. Второй столбец - оценка стандартных ошибок для каждого коэфициента. С их помощью можно построить доверительные интервалы для коэффициентов. Например, коэффициент перед полом с вероятностью $95\\%$ будет лежать в интервале:"
   ]
  },
  {
   "cell_type": "code",
   "execution_count": 92,
   "metadata": {},
   "outputs": [
    {
     "data": {
      "text/html": [
       "-2.88334110314659"
      ],
      "text/latex": [
       "-2.88334110314659"
      ],
      "text/markdown": [
       "-2.88334110314659"
      ],
      "text/plain": [
       "[1] -2.883341"
      ]
     },
     "metadata": {},
     "output_type": "display_data"
    },
    {
     "data": {
      "text/html": [
       "-2.08479689685341"
      ],
      "text/latex": [
       "-2.08479689685341"
      ],
      "text/markdown": [
       "-2.08479689685341"
      ],
      "text/plain": [
       "[1] -2.084797"
      ]
     },
     "metadata": {},
     "output_type": "display_data"
    }
   ],
   "source": [
    "-2.484069 - qnorm(1 - 0.05/2)*0.203714\n",
    "-2.484069 + qnorm(1 - 0.05/2)*0.203714"
   ]
  },
  {
   "cell_type": "markdown",
   "metadata": {},
   "source": [
    "Этот доверительный интервал будет асимптотическим. Он строится на основе того, что любая оценка максимального правдоподобия имеет асимптотически нормальное распределение. Кстати говоря, можно посмотреть на ковариационную матрицу, которую мы в прошлый раз получали из гессиана:"
   ]
  },
  {
   "cell_type": "code",
   "execution_count": 93,
   "metadata": {},
   "outputs": [
    {
     "data": {
      "text/html": [
       "<table>\n",
       "<thead><tr><th></th><th scope=col>(Intercept)</th><th scope=col>Sexmale</th><th scope=col>Age</th><th scope=col>Pclass2</th><th scope=col>Pclass3</th><th scope=col>Fare</th></tr></thead>\n",
       "<tbody>\n",
       "\t<tr><th scope=row>(Intercept)</th><td> 0.1974191158</td><td>-3.775000e-02</td><td>-2.565048e-03</td><td>-0.0883898835</td><td>-0.1120282475</td><td>-4.785463e-04</td></tr>\n",
       "\t<tr><th scope=row>Sexmale</th><td>-0.0377500011</td><td> 4.149945e-02</td><td> 7.192217e-05</td><td> 0.0090984504</td><td> 0.0167800795</td><td> 4.654275e-05</td></tr>\n",
       "\t<tr><th scope=row>Age</th><td>-0.0025650478</td><td> 7.192217e-05</td><td> 6.231689e-05</td><td> 0.0006425882</td><td> 0.0010204559</td><td> 1.596519e-06</td></tr>\n",
       "\t<tr><th scope=row>Pclass2</th><td>-0.0883898835</td><td> 9.098450e-03</td><td> 6.425882e-04</td><td> 0.0961444056</td><td> 0.0644492777</td><td> 2.983607e-04</td></tr>\n",
       "\t<tr><th scope=row>Pclass3</th><td>-0.1120282475</td><td> 1.678008e-02</td><td> 1.020456e-03</td><td> 0.0644492777</td><td> 0.0940938999</td><td> 3.424597e-04</td></tr>\n",
       "\t<tr><th scope=row>Fare</th><td>-0.0004785463</td><td> 4.654275e-05</td><td> 1.596519e-06</td><td> 0.0002983607</td><td> 0.0003424597</td><td> 5.083539e-06</td></tr>\n",
       "</tbody>\n",
       "</table>\n"
      ],
      "text/latex": [
       "\\begin{tabular}{r|llllll}\n",
       "  & (Intercept) & Sexmale & Age & Pclass2 & Pclass3 & Fare\\\\\n",
       "\\hline\n",
       "\t(Intercept) &  0.1974191158 & -3.775000e-02 & -2.565048e-03 & -0.0883898835 & -0.1120282475 & -4.785463e-04\\\\\n",
       "\tSexmale & -0.0377500011 &  4.149945e-02 &  7.192217e-05 &  0.0090984504 &  0.0167800795 &  4.654275e-05\\\\\n",
       "\tAge & -0.0025650478 &  7.192217e-05 &  6.231689e-05 &  0.0006425882 &  0.0010204559 &  1.596519e-06\\\\\n",
       "\tPclass2 & -0.0883898835 &  9.098450e-03 &  6.425882e-04 &  0.0961444056 &  0.0644492777 &  2.983607e-04\\\\\n",
       "\tPclass3 & -0.1120282475 &  1.678008e-02 &  1.020456e-03 &  0.0644492777 &  0.0940938999 &  3.424597e-04\\\\\n",
       "\tFare & -0.0004785463 &  4.654275e-05 &  1.596519e-06 &  0.0002983607 &  0.0003424597 &  5.083539e-06\\\\\n",
       "\\end{tabular}\n"
      ],
      "text/markdown": [
       "\n",
       "| <!--/--> | (Intercept) | Sexmale | Age | Pclass2 | Pclass3 | Fare | \n",
       "|---|---|---|---|---|---|\n",
       "| (Intercept) |  0.1974191158 | -3.775000e-02 | -2.565048e-03 | -0.0883898835 | -0.1120282475 | -4.785463e-04 | \n",
       "| Sexmale | -0.0377500011 |  4.149945e-02 |  7.192217e-05 |  0.0090984504 |  0.0167800795 |  4.654275e-05 | \n",
       "| Age | -0.0025650478 |  7.192217e-05 |  6.231689e-05 |  0.0006425882 |  0.0010204559 |  1.596519e-06 | \n",
       "| Pclass2 | -0.0883898835 |  9.098450e-03 |  6.425882e-04 |  0.0961444056 |  0.0644492777 |  2.983607e-04 | \n",
       "| Pclass3 | -0.1120282475 |  1.678008e-02 |  1.020456e-03 |  0.0644492777 |  0.0940938999 |  3.424597e-04 | \n",
       "| Fare | -0.0004785463 |  4.654275e-05 |  1.596519e-06 |  0.0002983607 |  0.0003424597 |  5.083539e-06 | \n",
       "\n",
       "\n"
      ],
      "text/plain": [
       "            (Intercept)   Sexmale       Age           Pclass2      \n",
       "(Intercept)  0.1974191158 -3.775000e-02 -2.565048e-03 -0.0883898835\n",
       "Sexmale     -0.0377500011  4.149945e-02  7.192217e-05  0.0090984504\n",
       "Age         -0.0025650478  7.192217e-05  6.231689e-05  0.0006425882\n",
       "Pclass2     -0.0883898835  9.098450e-03  6.425882e-04  0.0961444056\n",
       "Pclass3     -0.1120282475  1.678008e-02  1.020456e-03  0.0644492777\n",
       "Fare        -0.0004785463  4.654275e-05  1.596519e-06  0.0002983607\n",
       "            Pclass3       Fare         \n",
       "(Intercept) -0.1120282475 -4.785463e-04\n",
       "Sexmale      0.0167800795  4.654275e-05\n",
       "Age          0.0010204559  1.596519e-06\n",
       "Pclass2      0.0644492777  2.983607e-04\n",
       "Pclass3      0.0940938999  3.424597e-04\n",
       "Fare         0.0003424597  5.083539e-06"
      ]
     },
     "metadata": {},
     "output_type": "display_data"
    }
   ],
   "source": [
    "vcov(m_logit)"
   ]
  },
  {
   "cell_type": "markdown",
   "metadata": {},
   "source": [
    "По диагонали стоят дисперсии. Взяв из них квадратный корень мы получим вторую колонку со стандартными ошибками из нашего протокола."
   ]
  },
  {
   "cell_type": "code",
   "execution_count": 94,
   "metadata": {},
   "outputs": [
    {
     "data": {
      "text/html": [
       "0.203714137948253"
      ],
      "text/latex": [
       "0.203714137948253"
      ],
      "text/markdown": [
       "0.203714137948253"
      ],
      "text/plain": [
       "[1] 0.2037141"
      ]
     },
     "metadata": {},
     "output_type": "display_data"
    }
   ],
   "source": [
    "sqrt(4.149945e-02)"
   ]
  },
  {
   "cell_type": "code",
   "execution_count": 103,
   "metadata": {},
   "outputs": [
    {
     "data": {
      "text/html": [
       "<table>\n",
       "<thead><tr><th scope=col>Survived</th><th scope=col>Pclass</th><th scope=col>Sex</th><th scope=col>Age</th><th scope=col>SibSp</th><th scope=col>Parch</th><th scope=col>Fare</th><th scope=col>fit</th><th scope=col>se.fit</th><th scope=col>residual.scale</th></tr></thead>\n",
       "<tbody>\n",
       "\t<tr><td>0        </td><td>3        </td><td>male     </td><td>22       </td><td>1        </td><td>0        </td><td>7.25     </td><td>-2.122707</td><td>0.1784885</td><td>1        </td></tr>\n",
       "</tbody>\n",
       "</table>\n"
      ],
      "text/latex": [
       "\\begin{tabular}{r|llllllllll}\n",
       " Survived & Pclass & Sex & Age & SibSp & Parch & Fare & fit & se.fit & residual.scale\\\\\n",
       "\\hline\n",
       "\t 0         & 3         & male      & 22        & 1         & 0         & 7.25      & -2.122707 & 0.1784885 & 1        \\\\\n",
       "\\end{tabular}\n"
      ],
      "text/markdown": [
       "\n",
       "Survived | Pclass | Sex | Age | SibSp | Parch | Fare | fit | se.fit | residual.scale | \n",
       "|---|\n",
       "| 0         | 3         | male      | 22        | 1         | 0         | 7.25      | -2.122707 | 0.1784885 | 1         | \n",
       "\n",
       "\n"
      ],
      "text/plain": [
       "  Survived Pclass Sex  Age SibSp Parch Fare fit       se.fit    residual.scale\n",
       "1 0        3      male 22  1     0     7.25 -2.122707 0.1784885 1             "
      ]
     },
     "metadata": {},
     "output_type": "display_data"
    }
   ],
   "source": [
    "df_test[1,]"
   ]
  },
  {
   "cell_type": "markdown",
   "metadata": {},
   "source": [
    "На пересечениях стоят ковариации между оценками. В оставшихся двух колонках проверяется гипотеза о том, что каждый из коэффициентов равен нулю. Но об этом позже. Построим прогнозы для тестовой выборки."
   ]
  },
  {
   "cell_type": "code",
   "execution_count": 136,
   "metadata": {
    "scrolled": true
   },
   "outputs": [
    {
     "data": {
      "text/html": [
       "<table>\n",
       "<thead><tr><th></th><th scope=col>Survived</th><th scope=col>Pclass</th><th scope=col>Sex</th><th scope=col>Age</th><th scope=col>SibSp</th><th scope=col>Parch</th><th scope=col>Fare</th><th scope=col>fit</th><th scope=col>se.fit</th><th scope=col>residual.scale</th><th scope=col>sigmoid(pr_logit$fit)</th><th scope=col>pr_logit$se.fit</th><th scope=col>prob_surv</th><th scope=col>prob_surv</th></tr></thead>\n",
       "<tbody>\n",
       "\t<tr><th scope=row>1</th><td>0         </td><td>3         </td><td>male      </td><td>22        </td><td>1         </td><td>0         </td><td>  7.2500  </td><td>-2.1227075</td><td>0.1784885 </td><td>1         </td><td>0.10690929</td><td>0.1784885 </td><td>0.10690929</td><td>0.10690929</td></tr>\n",
       "\t<tr><th scope=row>15</th><td>0         </td><td>3         </td><td>female    </td><td>14        </td><td>0         </td><td>0         </td><td>  7.8542  </td><td> 0.6014780</td><td>0.1869467 </td><td>1         </td><td>0.64599437</td><td>0.1869467 </td><td>0.64599437</td><td>0.64599437</td></tr>\n",
       "\t<tr><th scope=row>31</th><td>0         </td><td>1         </td><td>male      </td><td>40        </td><td>0         </td><td>0         </td><td> 27.7208  </td><td>-0.5172934</td><td>0.2171901 </td><td>1         </td><td>0.37348534</td><td>0.2171901 </td><td>0.37348534</td><td>0.37348534</td></tr>\n",
       "\t<tr><th scope=row>32</th><td>1         </td><td>1         </td><td>female    </td><td>28        </td><td>1         </td><td>0         </td><td>146.5208  </td><td> 2.4720006</td><td>0.2909189 </td><td>1         </td><td>0.92215550</td><td>0.2909189 </td><td>0.92215550</td><td>0.92215550</td></tr>\n",
       "\t<tr><th scope=row>33</th><td>1         </td><td>3         </td><td>female    </td><td>28        </td><td>0         </td><td>0         </td><td>  7.7500  </td><td> 0.1824471</td><td>0.1694246 </td><td>1         </td><td>0.54548566</td><td>0.1694246 </td><td>0.54548566</td><td>0.54548566</td></tr>\n",
       "\t<tr><th scope=row>43</th><td>0         </td><td>3         </td><td>male      </td><td>28        </td><td>0         </td><td>0         </td><td>  7.8958  </td><td>-2.3014426</td><td>0.1816917 </td><td>1         </td><td>0.09100355</td><td>0.1816917 </td><td>0.09100355</td><td>0.09100355</td></tr>\n",
       "</tbody>\n",
       "</table>\n"
      ],
      "text/latex": [
       "\\begin{tabular}{r|llllllllllllll}\n",
       "  & Survived & Pclass & Sex & Age & SibSp & Parch & Fare & fit & se.fit & residual.scale & sigmoid(pr\\_logit\\$fit) & pr\\_logit\\$se.fit & prob\\_surv & prob\\_surv\\\\\n",
       "\\hline\n",
       "\t1 & 0          & 3          & male       & 22         & 1          & 0          &   7.2500   & -2.1227075 & 0.1784885  & 1          & 0.10690929 & 0.1784885  & 0.10690929 & 0.10690929\\\\\n",
       "\t15 & 0          & 3          & female     & 14         & 0          & 0          &   7.8542   &  0.6014780 & 0.1869467  & 1          & 0.64599437 & 0.1869467  & 0.64599437 & 0.64599437\\\\\n",
       "\t31 & 0          & 1          & male       & 40         & 0          & 0          &  27.7208   & -0.5172934 & 0.2171901  & 1          & 0.37348534 & 0.2171901  & 0.37348534 & 0.37348534\\\\\n",
       "\t32 & 1          & 1          & female     & 28         & 1          & 0          & 146.5208   &  2.4720006 & 0.2909189  & 1          & 0.92215550 & 0.2909189  & 0.92215550 & 0.92215550\\\\\n",
       "\t33 & 1          & 3          & female     & 28         & 0          & 0          &   7.7500   &  0.1824471 & 0.1694246  & 1          & 0.54548566 & 0.1694246  & 0.54548566 & 0.54548566\\\\\n",
       "\t43 & 0          & 3          & male       & 28         & 0          & 0          &   7.8958   & -2.3014426 & 0.1816917  & 1          & 0.09100355 & 0.1816917  & 0.09100355 & 0.09100355\\\\\n",
       "\\end{tabular}\n"
      ],
      "text/markdown": [
       "\n",
       "| <!--/--> | Survived | Pclass | Sex | Age | SibSp | Parch | Fare | fit | se.fit | residual.scale | sigmoid(pr_logit$fit) | pr_logit$se.fit | prob_surv | prob_surv | \n",
       "|---|---|---|---|---|---|\n",
       "| 1 | 0          | 3          | male       | 22         | 1          | 0          |   7.2500   | -2.1227075 | 0.1784885  | 1          | 0.10690929 | 0.1784885  | 0.10690929 | 0.10690929 | \n",
       "| 15 | 0          | 3          | female     | 14         | 0          | 0          |   7.8542   |  0.6014780 | 0.1869467  | 1          | 0.64599437 | 0.1869467  | 0.64599437 | 0.64599437 | \n",
       "| 31 | 0          | 1          | male       | 40         | 0          | 0          |  27.7208   | -0.5172934 | 0.2171901  | 1          | 0.37348534 | 0.2171901  | 0.37348534 | 0.37348534 | \n",
       "| 32 | 1          | 1          | female     | 28         | 1          | 0          | 146.5208   |  2.4720006 | 0.2909189  | 1          | 0.92215550 | 0.2909189  | 0.92215550 | 0.92215550 | \n",
       "| 33 | 1          | 3          | female     | 28         | 0          | 0          |   7.7500   |  0.1824471 | 0.1694246  | 1          | 0.54548566 | 0.1694246  | 0.54548566 | 0.54548566 | \n",
       "| 43 | 0          | 3          | male       | 28         | 0          | 0          |   7.8958   | -2.3014426 | 0.1816917  | 1          | 0.09100355 | 0.1816917  | 0.09100355 | 0.09100355 | \n",
       "\n",
       "\n"
      ],
      "text/plain": [
       "   Survived Pclass Sex    Age SibSp Parch Fare     fit        se.fit   \n",
       "1  0        3      male   22  1     0       7.2500 -2.1227075 0.1784885\n",
       "15 0        3      female 14  0     0       7.8542  0.6014780 0.1869467\n",
       "31 0        1      male   40  0     0      27.7208 -0.5172934 0.2171901\n",
       "32 1        1      female 28  1     0     146.5208  2.4720006 0.2909189\n",
       "33 1        3      female 28  0     0       7.7500  0.1824471 0.1694246\n",
       "43 0        3      male   28  0     0       7.8958 -2.3014426 0.1816917\n",
       "   residual.scale sigmoid(pr_logit$fit) pr_logit$se.fit prob_surv  prob_surv \n",
       "1  1              0.10690929            0.1784885       0.10690929 0.10690929\n",
       "15 1              0.64599437            0.1869467       0.64599437 0.64599437\n",
       "31 1              0.37348534            0.2171901       0.37348534 0.37348534\n",
       "32 1              0.92215550            0.2909189       0.92215550 0.92215550\n",
       "33 1              0.54548566            0.1694246       0.54548566 0.54548566\n",
       "43 1              0.09100355            0.1816917       0.09100355 0.09100355"
      ]
     },
     "metadata": {},
     "output_type": "display_data"
    }
   ],
   "source": [
    "pr_logit <- predict(m_logit, df_test[,-1], se=TRUE)  # Строим прогнозы по нашей модели на тесте \n",
    "\n",
    "df_test <- cbind(df_test, prob_surv = sigmoid(pr_logit$fit)) # объеядиним прогнозы с тестовой табилчкой \n",
    "head(df_test)"
   ]
  },
  {
   "cell_type": "markdown",
   "metadata": {},
   "source": [
    "В колонке `prob_surv` находится прогноз вероятности выжить. Давайте будем считать, что все, у кого она больше $0.5$ выживут."
   ]
  },
  {
   "cell_type": "code",
   "execution_count": 132,
   "metadata": {},
   "outputs": [
    {
     "data": {
      "text/html": [
       "0.831460674157303"
      ],
      "text/latex": [
       "0.831460674157303"
      ],
      "text/markdown": [
       "0.831460674157303"
      ],
      "text/plain": [
       "[1] 0.8314607"
      ]
     },
     "metadata": {},
     "output_type": "display_data"
    }
   ],
   "source": [
    "y_real = as.numeric(as.character(df_test$Survived))\n",
    "sum(y_real == 1*(df_test$prob_surv > 0.5))/nrow(df_test)"
   ]
  },
  {
   "cell_type": "markdown",
   "metadata": {},
   "source": [
    "Точность прогноза $83\\%$. Неплохо. Помните мы в самом начале построили картинку для частоты выживших и умерших и поняли, что выборка несбалансирована. Давайте посмотим какой будет тончость прогноза на тестовой выборке, если мы скажем, что все живы или все мертвы. "
   ]
  },
  {
   "cell_type": "code",
   "execution_count": 133,
   "metadata": {},
   "outputs": [
    {
     "data": {
      "text/html": [
       "0.370786516853933"
      ],
      "text/latex": [
       "0.370786516853933"
      ],
      "text/markdown": [
       "0.370786516853933"
      ],
      "text/plain": [
       "[1] 0.3707865"
      ]
     },
     "metadata": {},
     "output_type": "display_data"
    }
   ],
   "source": [
    "sum(y_real == 1)/nrow(df_test)"
   ]
  },
  {
   "cell_type": "code",
   "execution_count": 134,
   "metadata": {},
   "outputs": [
    {
     "data": {
      "text/html": [
       "0.629213483146067"
      ],
      "text/latex": [
       "0.629213483146067"
      ],
      "text/markdown": [
       "0.629213483146067"
      ],
      "text/plain": [
       "[1] 0.6292135"
      ]
     },
     "metadata": {},
     "output_type": "display_data"
    }
   ],
   "source": [
    "sum(y_real == 0)/nrow(df_test)"
   ]
  },
  {
   "cell_type": "markdown",
   "metadata": {},
   "source": [
    "Если сказать, что все умрут, то точность модели составит $63\\%$. Имеет смысл верить модели  только если её точность намного больше этого числа. Такая метрика, количество верных прогнозов, называется Accuracy. Она интуитивно понятная, очевидная и почти неиспользуемая на практике. \n",
    "\n",
    "Её главная проблема в том, что она бесполезна в задачах с неравными классами. Например, пусть у нас есть $50$ больных и $950$ здоровых. Мы хотим научиться их различать. Пусть наш алгоритм предсказывает, что все здоровы. В этом случае доля правлиьных ответов составит $95\\%$, но алгорим окажется абсолютно бесполезным. Чтобы избежать таких эксцессов, а также учитывать, что разные типы ошибок могут иметь разную цену, строят другие две метрики. Про них можно найти более подробную информацию в почиташках.  \n",
    "\n",
    "Последний шаг для этого скрипта. Зная качество прогнозов на тестовой выборке, давайте построим прогноз для себя."
   ]
  },
  {
   "cell_type": "code",
   "execution_count": 147,
   "metadata": {},
   "outputs": [
    {
     "name": "stdout",
     "output_type": "stream",
     "text": [
      "Вероятность выживавания: 0.1207168"
     ]
    }
   ],
   "source": [
    "# Вбейте данные о себе:\n",
    "you_data <- data.frame(Sex='male', Age=20, Pclass='3', Fare=70)\n",
    "\n",
    "# Вероятность того, что вы окажетесь в живых \n",
    "cat('Вероятность выживавания:', sigmoid(predict(m_logit, you_data, se=TRUE)$fit))"
   ]
  },
  {
   "cell_type": "markdown",
   "metadata": {},
   "source": [
    "Логисчтическая регрессия очень часто используется на практике. Многие модели, которые работают у крупных фирм в продакшене это именно она. Правда немного модернизированная. \n",
    "\n",
    "* Первая модернизация заключается в метрике, по которой оценивается работоспособность модели. Мы посмотрели выше на качество работы нашей модели по метрике, которая называется Accuracy (доля верных ответов). На практике используют другие. Также для оценки качества модели используют немного иные процедуры.\n",
    "* Вторая модернизация заключается в том, что к функции правдоподобия приплюсовывают всякие штуки под названием регуляризаторы. С их помощью пытаются добиться, чтобы итоговая модель обладала определёнными свойствами. Подробнее об этом можно узнать в почиташках.\n",
    "\n",
    "## Почиташки\n",
    "\n",
    "* [Моя статья из иканам гранд рисёрча](http://nbviewer.jupyter.org/github/FUlyankin/ekanam_grand_research/blob/master/Posts/4.2%20models.ipynb) с небольшим введением в машинное обучение. Там я строил для предcказаниz отчисяемости людей именно логистическую регрессию. В этой же статейке можно почитать про другие метрики качества. Там же есть [статейка про предобработку данных.](http://nbviewer.jupyter.org/github/FUlyankin/ekanam_grand_research/blob/master/Posts/4.1%20Data%20Prepare.ipynb)\n",
    "* [Статья на хабре](https://habr.com/company/ods/blog/328372/) про метрики, которые используются для оценки качества моделей.\n",
    "* [Ршение титаника в R с хабра](https://habr.com/company/mlclass/blog/270973/) от какого-то парня. В этой статейке можно углубиться в код, если есть такое желание."
   ]
  },
  {
   "cell_type": "markdown",
   "metadata": {},
   "source": [
    "![](https://medialeaks.ru/wp-content/uploads/2016/02/15.jpg)"
   ]
  },
  {
   "cell_type": "code",
   "execution_count": null,
   "metadata": {},
   "outputs": [],
   "source": []
  }
 ],
 "metadata": {
  "kernelspec": {
   "display_name": "R",
   "language": "R",
   "name": "ir"
  },
  "language_info": {
   "codemirror_mode": "r",
   "file_extension": ".r",
   "mimetype": "text/x-r-source",
   "name": "R",
   "pygments_lexer": "r",
   "version": "3.4.2"
  }
 },
 "nbformat": 4,
 "nbformat_minor": 2
}
