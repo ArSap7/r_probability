{
 "cells": [
  {
   "cell_type": "markdown",
   "metadata": {},
   "source": [
    "\n",
    "`pines.csv`\n",
    "\n",
    "The Wage Tract — заповедник в округе Тома, Джорджия, США, деревья в котором не затронуты деятельностью человека со времён первых поселенцев. Для участка заповедника размером 200х200 м имеется информация о координатах сосен (sn — координата в направлении север-юг, we — в направлении запад-восток, обе от 0 до 200).\n",
    "\n",
    "Проверим, можно ли пространственное распределение сосен считать равномерным, или они растут кластерами.\n",
    "\n",
    "Загрузите данные, поделите участок на 5х5 одинаковых квадратов размера 40x40 м, посчитайте количество сосен в каждом квадрате (чтобы получить такой же результат, как у нас, используйте функцию `scipy.stats.binned_statistic_2d`).\n",
    "\n",
    "Если сосны действительно растут равномерно, какое среднее ожидаемое количество сосен в каждом квадрате? В правильном ответе два знака после десятичной точки.\n",
    "\n",
    "\n",
    "\n",
    "\n",
    "\n",
    "\n",
    "Чтобы сравнить распределение сосен с равномерным, посчитайте значение статистики хи-квадрат для полученных 5х5 квадратов. Округлите ответ до двух знаков после десятичной точки.\n",
    "\n",
    "\n",
    "\n",
    "\n",
    "\n",
    "\n",
    "\n",
    "\n",
    "Насколько велико это значение? Если нулевая гипотеза справедлива, с какой вероятностью его можно было получить случайно?\n",
    "\n",
    "Нулевое распределение статистики — хи-квадрат с 25−1=24 степенями свободы (поскольку у равномерного распределения, с которым мы сравниваем данные, нет ни одного оцениваемого по выборке параметра, число степеней свободы K−1, где K — количество интервалов).\n",
    "\n",
    "Посчитайте достигаемый уровень значимости.\n",
    "\n",
    "Если вы используете функцию scipy.stats.chi2.cdf, в качестве значения параметра df нужно взять 24 (это число степеней свободы); если функцию scipy.stats.chisquare — параметр ddof нужно брать равным 0 (это как раз количество параметров теоретического распределения, оцениваемых по выборке).\n",
    "\n",
    "Отвергается ли гипотеза равномерности на уровне значимости 0.05?\n",
    "\n",
    "\n",
    "\n",
    "* построить картинку с расположением сосен \n",
    "* "
   ]
  },
  {
   "cell_type": "code",
   "execution_count": null,
   "metadata": {},
   "outputs": [],
   "source": []
  },
  {
   "cell_type": "code",
   "execution_count": null,
   "metadata": {},
   "outputs": [],
   "source": []
  },
  {
   "cell_type": "markdown",
   "metadata": {},
   "source": [
    "### Задачка\n",
    "\n",
    "Случайная величина $X$ имеет распределение пуассона с $\\lambda = 2$. Иногда пишут, что $X \\sim Pois(2)$. С помощью симуляций оцените $P(X > 10)$, $P(X > 10 \\mid X > 5)$, $P(X < 5 \\cap X > 7)$, а также $E(X^7)$ и $E(X \\mid X > 5)$. "
   ]
  },
  {
   "cell_type": "markdown",
   "metadata": {},
   "source": [
    "### Задачка \n",
    "\n",
    "Подбрасывается правильная монетка. В любой момент вы можете сказать \"Хватит\". Ваш выигрыш равен доле орлов на момент остановки. С помощью компьютера определите, чему равен ожидаемый выигрыш при использовании оптимальной стратегии? При решении на компьютере можно считать. что число подбрасываний ограничено $500$. "
   ]
  },
  {
   "cell_type": "code",
   "execution_count": null,
   "metadata": {},
   "outputs": [],
   "source": []
  },
  {
   "cell_type": "markdown",
   "metadata": {},
   "source": [
    "A strict reviewer needs t1 minutes to check assigned application to Deep|Bayes\n",
    "summer school, where t1 has normal distribution with parameters µ1 = 30, σ1 =\n",
    "10 While a kind reviewer needs t2 minutes to check an application, where t2\n",
    "has normal distribution with parameters µ2 = 20, σ2 = 5. For each application\n",
    "the reviewer is randomly selected with 0.5 probability. Given that the time of\n",
    "review t = 10, calculate the conditional probability that the application was\n",
    "checked by a kind reviewer"
   ]
  },
  {
   "cell_type": "code",
   "execution_count": null,
   "metadata": {},
   "outputs": [],
   "source": []
  },
  {
   "cell_type": "markdown",
   "metadata": {},
   "source": [
    "### Задача 3\n",
    "\n",
    "Все персонажи и события из этой задачи реальны. Все совпадения неслучайность. В именах ошибки нет. \n",
    "\n",
    "Филя и Никита решили попытать счастья и попасть на стажировку в ЦБ. В качестве вступительного испытания, они получили листочки с задачками по терверу и случайным процессам. Одна из задач из листочка выглядела следующим образом:\n",
    "\n",
    "Пусть $X \\sim N(0, \\sigma^2)$. Пусть $F_X(x)$ - функция распределения для $N(0,1)$. Какое распределение будет у \n",
    "\n",
    "\n",
    "Собеседователи, дав Филе и Никите задание, сказали, что у них 2 часа и куда-то ушли. Пользоваться можно чем угодно (но это неточно). В голове у парней есть какое-то решение. Правда они в нём не уверены. Зато у них с собой есть ноутбуки. Помогите Филе и Никите посмотреть на симуляциях что получится в итоге. \n",
    "\n",
    "__P.S.__ На стажировку в ЦБ парни конечно же не попали.Ё"
   ]
  },
  {
   "cell_type": "code",
   "execution_count": null,
   "metadata": {},
   "outputs": [],
   "source": []
  },
  {
   "cell_type": "code",
   "execution_count": 17,
   "metadata": {},
   "outputs": [
    {
     "data": {
      "text/html": [
       "0.666666666666667"
      ],
      "text/latex": [
       "0.666666666666667"
      ],
      "text/markdown": [
       "0.666666666666667"
      ],
      "text/plain": [
       "[1] 0.6666667"
      ]
     },
     "metadata": {},
     "output_type": "display_data"
    }
   ],
   "source": [
    "# В теории:\n",
    "A = exp((10-20)^2/(2*25)) + 1/2*exp((10-30)^2/(2*100))\n",
    "h1 = exp((10-20)^2/(2*25))\n",
    "\n",
    "h1/A"
   ]
  },
  {
   "cell_type": "code",
   "execution_count": 14,
   "metadata": {},
   "outputs": [],
   "source": [
    "# Симуляции: \n",
    "n_obs = 10^7\n",
    "\n",
    "m1 = 0\n",
    "m2 = 0\n",
    "\n",
    "for(i in 1:n_obs){\n",
    "    t1 = rnorm(1, mean = 30, sd = 10)\n",
    "    t2 = rnorm(1, mean = 20, sd = 5)\n",
    "    \n",
    "    if((9.8 < t1)&(t1 < 10.2)){\n",
    "        m1 = m1 + 1\n",
    "    }\n",
    "    if((9.8 < t2)&(t2 < 10.2)){\n",
    "        m2 = m2 + 1\n",
    "    }\n",
    "}"
   ]
  },
  {
   "cell_type": "code",
   "execution_count": 15,
   "metadata": {},
   "outputs": [
    {
     "data": {
      "text/html": [
       "0.335153784268829"
      ],
      "text/latex": [
       "0.335153784268829"
      ],
      "text/markdown": [
       "0.335153784268829"
      ],
      "text/plain": [
       "[1] 0.3351538"
      ]
     },
     "metadata": {},
     "output_type": "display_data"
    }
   ],
   "source": [
    "m1/(m1 + m2)"
   ]
  },
  {
   "cell_type": "code",
   "execution_count": 16,
   "metadata": {},
   "outputs": [
    {
     "data": {
      "text/html": [
       "0.664846215731172"
      ],
      "text/latex": [
       "0.664846215731172"
      ],
      "text/markdown": [
       "0.664846215731172"
      ],
      "text/plain": [
       "[1] 0.6648462"
      ]
     },
     "metadata": {},
     "output_type": "display_data"
    }
   ],
   "source": [
    "m2/(m1 + m2)"
   ]
  },
  {
   "cell_type": "markdown",
   "metadata": {},
   "source": [
    "The random variable ξ has Poisson distribution with the parameter λ. If ξ = k\n",
    "we perform k Bernoulli trials with the probability of success p. Let us define\n",
    "the random variable η as the number of successful outcomes of Bernoulli trials.\n",
    "Prove that η has Poisson distribution with the parameter pλ"
   ]
  },
  {
   "cell_type": "code",
   "execution_count": null,
   "metadata": {},
   "outputs": [],
   "source": []
  },
  {
   "cell_type": "code",
   "execution_count": null,
   "metadata": {},
   "outputs": [],
   "source": [
    "# в гипотезы : \n",
    "# zero inflated model на лайках "
   ]
  },
  {
   "cell_type": "code",
   "execution_count": null,
   "metadata": {},
   "outputs": [],
   "source": []
  },
  {
   "cell_type": "markdown",
   "metadata": {},
   "source": [
    "Какая-нибудь херь с описанием как будут решать задачу большую. Посмотреть на: \n",
    "\n",
    "* Задачу оттока \n",
    "* Кредитный скоринг \n",
    "* какие-нибудь аб тесты, я хз рили "
   ]
  },
  {
   "cell_type": "code",
   "execution_count": null,
   "metadata": {},
   "outputs": [],
   "source": []
  },
  {
   "cell_type": "code",
   "execution_count": null,
   "metadata": {},
   "outputs": [],
   "source": [
    "# Вместо циклов можно делать так!!! \n",
    "\n",
    "# Existing code for finding the first instance of heads\n",
    "which(rbinom(100, 1, .2) == 1)[1]\n",
    "\n",
    "# Replicate this 100,000 times using replicate()\n",
    "replications <- replicate(100000, which(rbinom(100, 1, .2) == 1)[1])\n",
    "\n",
    "# Histogram the replications with qplot\n",
    "qplot(replications)"
   ]
  },
  {
   "cell_type": "code",
   "execution_count": null,
   "metadata": {},
   "outputs": [],
   "source": [
    "# Replications from the last exercise\n",
    "replications <- replicate(100000, which(rbinom(100, 1, .2) == 1)[1])\n",
    "\n",
    "# Generate 100,000 draws from the corresponding geometric distribution\n",
    "geom_sample <- rgeom(100000, .2)\n",
    "\n",
    "# Compare the two distributions with compare_histograms\n",
    "compare_histograms(replications, geom_sample)"
   ]
  },
  {
   "cell_type": "code",
   "execution_count": null,
   "metadata": {},
   "outputs": [],
   "source": []
  },
  {
   "cell_type": "markdown",
   "metadata": {},
   "source": []
  },
  {
   "cell_type": "markdown",
   "metadata": {},
   "source": [
    "Доверительные интервалы для квартир"
   ]
  },
  {
   "cell_type": "code",
   "execution_count": null,
   "metadata": {},
   "outputs": [],
   "source": [
    "### задача 3а\n",
    "\n",
    "# setwd(\"d:/koko\") # говорим R, с какой директорией мы собираемся работать\n",
    "setwd(\"~/science/probability/pr201/training_koko/koko/\")\n",
    "dir() # смотрим список файлов в директории\n",
    "\n",
    "h <- read.table(\"flats_moscow.txt\",header=TRUE) # читаем содержимое файла в табличку h\n",
    "\n",
    "str(h) # информация о табличке h\n",
    "\n",
    "h$price[1:5]\n",
    "\n",
    "mean(h$price)\n",
    "sd(h$price)\n",
    "\n",
    "z.cr <- qnorm(0.975) # табличное или критическое значение z\n",
    "z.cr\n",
    "\n",
    "ci.left <- mean(h$price)-z.cr*sd(h$price) # левая граница доверительного интервала\n",
    "ci.right <- mean(h$price)+z.cr*sd(h$price) # правая граница доверительного интервала\n",
    "\n",
    "# ответ на 3а\n",
    "ci.left\n",
    "ci.right\n",
    "\n"
   ]
  },
  {
   "cell_type": "code",
   "execution_count": null,
   "metadata": {},
   "outputs": [],
   "source": []
  },
  {
   "cell_type": "code",
   "execution_count": null,
   "metadata": {},
   "outputs": [],
   "source": []
  },
  {
   "cell_type": "code",
   "execution_count": 5,
   "metadata": {},
   "outputs": [
    {
     "data": {
      "text/html": [
       "<ol class=list-inline>\n",
       "\t<li>0.914806043496355</li>\n",
       "\t<li>0.937075413297862</li>\n",
       "\t<li>0.286139534786344</li>\n",
       "\t<li>0.830447626067325</li>\n",
       "\t<li>0.641745518893003</li>\n",
       "</ol>\n"
      ],
      "text/latex": [
       "\\begin{enumerate*}\n",
       "\\item 0.914806043496355\n",
       "\\item 0.937075413297862\n",
       "\\item 0.286139534786344\n",
       "\\item 0.830447626067325\n",
       "\\item 0.641745518893003\n",
       "\\end{enumerate*}\n"
      ],
      "text/markdown": [
       "1. 0.914806043496355\n",
       "2. 0.937075413297862\n",
       "3. 0.286139534786344\n",
       "4. 0.830447626067325\n",
       "5. 0.641745518893003\n",
       "\n",
       "\n"
      ],
      "text/plain": [
       "[1] 0.9148060 0.9370754 0.2861395 0.8304476 0.6417455"
      ]
     },
     "metadata": {},
     "output_type": "display_data"
    },
    {
     "data": {
      "text/html": [
       "63.9036780901237"
      ],
      "text/latex": [
       "63.9036780901237"
      ],
      "text/markdown": [
       "63.9036780901237"
      ],
      "text/plain": [
       "[1] 63.90368"
      ]
     },
     "metadata": {},
     "output_type": "display_data"
    },
    {
     "name": "stderr",
     "output_type": "stream",
     "text": [
      "Warning message in log(a):\n",
      "“созданы NaN”"
     ]
    },
    {
     "data": {
      "text/html": [
       "NaN"
      ],
      "text/latex": [
       "NaN"
      ],
      "text/markdown": [
       "NaN"
      ],
      "text/plain": [
       "[1] NaN"
      ]
     },
     "metadata": {},
     "output_type": "display_data"
    }
   ],
   "source": [
    "set.seed(42)  # установим стартовое значение для генератора случайных чисел\n",
    "x <- runif(200) # сгенерим 200 равномерных на [0;1]\n",
    "x[1:5]\n",
    "\n",
    "# логарифмическая функция правдоподобия для задачи 4 со знаком минус\n",
    "log_lik <- function(a,dat) {\n",
    "  n <- length(dat) # количество элементов в векторе dat\n",
    "  res <- n*log(a) + (a-1)*sum(log(dat))\n",
    "  return(-res)\n",
    "}\n",
    "\n",
    "\n",
    "# считаем для пробы значения нашей функции в некоторых точках\n",
    "# числа 2 и 5 взяты от фонаря\n",
    "log_lik(2,x)\n",
    "log_lik(-1,x)"
   ]
  },
  {
   "cell_type": "code",
   "execution_count": null,
   "metadata": {},
   "outputs": [],
   "source": []
  },
  {
   "cell_type": "code",
   "execution_count": null,
   "metadata": {},
   "outputs": [],
   "source": [
    "\n",
    "\n",
    "# нелинейная оптимизация\n",
    "?nlm\n",
    "\n",
    "opt <- nlm(log_lik,p=5,hessian=TRUE,dat=x)\n",
    "# p=5 - стартовое значение параметра, от которого R начинает искать экстремум.\n",
    "\n",
    "a.hat <- opt$estimate # точка минимума функции\n",
    "a.hat # оценка методом ML\n",
    "\n",
    "var.hat <- 1/opt$hessian # матрица Гессе в точке минимума функции\n",
    "var.hat # оценка дисперсии ML оценки\n"
   ]
  },
  {
   "cell_type": "code",
   "execution_count": null,
   "metadata": {},
   "outputs": [],
   "source": [
    "########## 5\n",
    "\n",
    "# генерим искусственные данные\n",
    "x <- rnorm(200,mean=4,sd=3)\n",
    "\n",
    "# функция правдоподобия зависит от двух параметров и вектора данных\n",
    "# param - вектор из двух параметров\n",
    "# data - вектор данных\n",
    "log_lik <- function(param,data) {\n",
    "  mu <- param[1]\n",
    "  s2 <- param[2]\n",
    "  n <- length(data)\n",
    "  result <- -n/2*log(2*pi)-n/2*log(s2)-sum((data-mu)^2)/(2*s2)\n",
    "  return(-result)\n",
    "}\n",
    "\n",
    "log_lik(c(3,5),x)\n",
    "\n",
    "# результаты оптимизации\n",
    "optimum <- nlm(log_lik,p=c(0,1),hessian=TRUE,data=x)\n",
    "optimum\n",
    "\n",
    "# вектор оценок неизвестных параметров\n",
    "theta.hat <- optimum$estimate\n",
    "\n",
    "# матрица Гессе в точке оптимума\n",
    "H <- optimum$hessian\n",
    "print(H,digits=2)\n",
    "\n",
    "# оценка ковариационной матрицы - это обратная матрица к матрице Гессе\n",
    "var.theta <- solve(H) \n",
    "\n",
    "# стандартные отклонения - это корни из диагональных элементов\n",
    "st.devs <- sqrt(diag(var.theta))\n",
    "st.devs\n",
    "z.cr\n",
    "\n",
    "ci.left <- theta.hat - z.cr*st.devs\n",
    "ci.right <- theta.hat + z.cr*st.devs\n",
    "\n",
    "ci.left\n",
    "ci.right"
   ]
  },
  {
   "cell_type": "code",
   "execution_count": null,
   "metadata": {},
   "outputs": [],
   "source": [
    "# впиздюлить в картинке по квартирным данным \n",
    "\n",
    "ggplot(data = gss, mapping = aes(x = wordsum)) +\n",
    "  geom_histogram(binwidth = 1) +\n",
    "  facet_grid(class ~ .)"
   ]
  },
  {
   "cell_type": "code",
   "execution_count": null,
   "metadata": {},
   "outputs": [],
   "source": [
    "# какой-то тест с пиздатыми поправками по дефолту!\n",
    "\n",
    "pairwise.t.test(gss$wordsum, gss$class, p.adjust = \"none\") %>%\n",
    "  tidy()"
   ]
  },
  {
   "cell_type": "code",
   "execution_count": null,
   "metadata": {},
   "outputs": [],
   "source": []
  },
  {
   "cell_type": "code",
   "execution_count": null,
   "metadata": {},
   "outputs": [],
   "source": [
    "# глянут в бутстрапе \n",
    "\n",
    "# Remove NA visits\n",
    "ncbirths_complete_visits <- ncbirths %>%\n",
    "  filter(!is.na(visits))\n",
    "\n",
    "# Generate 15000 bootstrap means\n",
    "visit_ci_mean <- ncbirths_complete_visits %>%\n",
    "  specify(response = visits) %>%\n",
    "  generate(reps = 15000, type = \"bootstrap\") %>%\n",
    "  calculate(stat = \"mean\")\n",
    "  \n",
    "# Calculate the 90% CI via percentile method\n",
    "visit_ci_mean %>%\n",
    "  summarize(l = quantile(stat, 0.05),\n",
    "            u = quantile(stat, 0.95))"
   ]
  },
  {
   "cell_type": "code",
   "execution_count": null,
   "metadata": {},
   "outputs": [],
   "source": [
    "# Generate 15000 bootstrap samples centered at null\n",
    "rent_med_ht <- manhattan %>%\n",
    "  specify(response = rent) %>%\n",
    "  hypothesize(null = \"point\", med = 2500) %>% \n",
    "  generate(reps = 15000, type = \"bootstrap\") %>% \n",
    "  calculate(stat = \"median\")\n",
    "  \n",
    "# Calculate observed median\n",
    "rent_med_obs <- manhattan %>%\n",
    "  summarize(median(rent)) %>%\n",
    "  pull()\n",
    "\n",
    "# Calculate p-value\n",
    "rent_med_ht %>%\n",
    "  filter(stat > rent_med_obs) %>%\n",
    "  summarize(n() / 15000)"
   ]
  },
  {
   "cell_type": "code",
   "execution_count": null,
   "metadata": {},
   "outputs": [],
   "source": []
  },
  {
   "cell_type": "code",
   "execution_count": null,
   "metadata": {},
   "outputs": [],
   "source": []
  },
  {
   "cell_type": "markdown",
   "metadata": {},
   "source": [
    "## Не очень удачная задача про серебро и Испанию\n",
    "\n",
    "[В таблице](https://yadi.sk/i/RAVU_ok83XNTVw) `spanish-silver.csv` лежат данные о том сколько серебра Испанцы производили в колониальную эпоху. Данные о производстве лежат в колонке `silver_minted` и измерены в килограммах."
   ]
  },
  {
   "cell_type": "code",
   "execution_count": null,
   "metadata": {},
   "outputs": [],
   "source": [
    "df = read.csv('/Users/fulyankin/Yandex.Disk.localized/R/R_prob_data/spanish-silver.csv', sep=',')\n",
    "head(df)"
   ]
  },
  {
   "cell_type": "markdown",
   "metadata": {},
   "source": [
    "Для удобсва перейдём к тоннам."
   ]
  },
  {
   "cell_type": "code",
   "execution_count": null,
   "metadata": {},
   "outputs": [],
   "source": [
    "library('dplyr')\n",
    "df = mutate(df, silver_minted = silver_minted/1000)\n",
    "head(df)"
   ]
  },
  {
   "cell_type": "code",
   "execution_count": null,
   "metadata": {},
   "outputs": [],
   "source": [
    "var(df$silver_minted)"
   ]
  },
  {
   "cell_type": "markdown",
   "metadata": {},
   "source": [
    "Правда ли сказать, что дисперсия добычи серебра равна 24 млн. квадратных тонн? "
   ]
  },
  {
   "cell_type": "markdown",
   "metadata": {},
   "source": [
    "В каком году судя по датасету началась американская революция?"
   ]
  },
  {
   "cell_type": "markdown",
   "metadata": {},
   "source": [
    "Давайте посмотрим на то, как добыча серебра изменялась во времени."
   ]
  },
  {
   "cell_type": "code",
   "execution_count": null,
   "metadata": {},
   "outputs": [],
   "source": [
    "options(repr.plot.width=6, repr.plot.height=3)\n",
    "library('ggplot2')\n",
    "qplot(df$year, df$silver_minted, geom='line')"
   ]
  },
  {
   "cell_type": "code",
   "execution_count": null,
   "metadata": {},
   "outputs": [],
   "source": [
    "Правда ли, что после начала американской революции добыча серебра стала более непредсказуемой?"
   ]
  },
  {
   "cell_type": "code",
   "execution_count": null,
   "metadata": {},
   "outputs": [],
   "source": [
    "# ваш код "
   ]
  },
  {
   "cell_type": "code",
   "execution_count": null,
   "metadata": {},
   "outputs": [],
   "source": []
  },
  {
   "cell_type": "code",
   "execution_count": null,
   "metadata": {},
   "outputs": [],
   "source": []
  },
  {
   "cell_type": "code",
   "execution_count": null,
   "metadata": {},
   "outputs": [],
   "source": []
  },
  {
   "cell_type": "code",
   "execution_count": null,
   "metadata": {},
   "outputs": [],
   "source": []
  }
 ],
 "metadata": {
  "kernelspec": {
   "display_name": "R",
   "language": "R",
   "name": "ir"
  },
  "language_info": {
   "codemirror_mode": "r",
   "file_extension": ".r",
   "mimetype": "text/x-r-source",
   "name": "R",
   "pygments_lexer": "r",
   "version": "3.4.2"
  }
 },
 "nbformat": 4,
 "nbformat_minor": 2
}
