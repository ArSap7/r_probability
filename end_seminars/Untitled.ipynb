{
 "cells": [
  {
   "cell_type": "markdown",
   "metadata": {},
   "source": [
    "### Задачка\n",
    "\n",
    "Случайная величина $X$ имеет распределение пуассона с $\\lambda = 2$. Иногда пишут, что $X \\sim Pois(2)$. С помощью симуляций оцените $P(X > 10)$, $P(X > 10 \\mid X > 5)$, $P(X < 5 \\cap X > 7)$, а также $E(X^7)$ и $E(X \\mid X > 5)$. "
   ]
  },
  {
   "cell_type": "markdown",
   "metadata": {},
   "source": [
    "### Задачка \n",
    "\n",
    "Подбрасывается правильная монетка. В любой момент вы можете сказать \"Хватит\". Ваш выигрыш равен доле орлов на момент остановки. С помощью компьютера определите, чему равен ожидаемый выигрыш при использовании оптимальной стратегии? При решении на компьютере можно считать. что число подбрасываний ограничено $500$. "
   ]
  },
  {
   "cell_type": "code",
   "execution_count": null,
   "metadata": {},
   "outputs": [],
   "source": []
  },
  {
   "cell_type": "markdown",
   "metadata": {},
   "source": [
    "A strict reviewer needs t1 minutes to check assigned application to Deep|Bayes\n",
    "summer school, where t1 has normal distribution with parameters µ1 = 30, σ1 =\n",
    "10 While a kind reviewer needs t2 minutes to check an application, where t2\n",
    "has normal distribution with parameters µ2 = 20, σ2 = 5. For each application\n",
    "the reviewer is randomly selected with 0.5 probability. Given that the time of\n",
    "review t = 10, calculate the conditional probability that the application was\n",
    "checked by a kind reviewer"
   ]
  },
  {
   "cell_type": "code",
   "execution_count": null,
   "metadata": {},
   "outputs": [],
   "source": []
  },
  {
   "cell_type": "markdown",
   "metadata": {},
   "source": [
    "### Задача 3\n",
    "\n",
    "Все персонажи и события из этой задачи реальны. Все совпадения неслучайность. В именах ошибки нет. \n",
    "\n",
    "Филя и Никита решили попытать счастья и попасть на стажировку в ЦБ. В качестве вступительного испытания, они получили листочки с задачками по терверу и случайным процессам. Одна из задач из листочка выглядела следующим образом:\n",
    "\n",
    "Пусть $X \\sim N(0, \\sigma^2)$. Пусть $F_X(x)$ - функция распределения для $N(0,1)$. Какое распределение будет у \n",
    "\n",
    "\n",
    "Собеседователи, дав Филе и Никите задание, сказали, что у них 2 часа и куда-то ушли. Пользоваться можно чем угодно (но это неточно). В голове у парней есть какое-то решение. Правда они в нём не уверены. Зато у них с собой есть ноутбуки. Помогите Филе и Никите посмотреть на симуляциях что получится в итоге. \n",
    "\n",
    "__P.S.__ На стажировку в ЦБ парни конечно же не попали.Ё"
   ]
  },
  {
   "cell_type": "code",
   "execution_count": null,
   "metadata": {},
   "outputs": [],
   "source": []
  },
  {
   "cell_type": "code",
   "execution_count": 17,
   "metadata": {},
   "outputs": [
    {
     "data": {
      "text/html": [
       "0.666666666666667"
      ],
      "text/latex": [
       "0.666666666666667"
      ],
      "text/markdown": [
       "0.666666666666667"
      ],
      "text/plain": [
       "[1] 0.6666667"
      ]
     },
     "metadata": {},
     "output_type": "display_data"
    }
   ],
   "source": [
    "# В теории:\n",
    "A = exp((10-20)^2/(2*25)) + 1/2*exp((10-30)^2/(2*100))\n",
    "h1 = exp((10-20)^2/(2*25))\n",
    "\n",
    "h1/A"
   ]
  },
  {
   "cell_type": "code",
   "execution_count": 14,
   "metadata": {},
   "outputs": [],
   "source": [
    "# Симуляции: \n",
    "n_obs = 10^7\n",
    "\n",
    "m1 = 0\n",
    "m2 = 0\n",
    "\n",
    "for(i in 1:n_obs){\n",
    "    t1 = rnorm(1, mean = 30, sd = 10)\n",
    "    t2 = rnorm(1, mean = 20, sd = 5)\n",
    "    \n",
    "    if((9.8 < t1)&(t1 < 10.2)){\n",
    "        m1 = m1 + 1\n",
    "    }\n",
    "    if((9.8 < t2)&(t2 < 10.2)){\n",
    "        m2 = m2 + 1\n",
    "    }\n",
    "}"
   ]
  },
  {
   "cell_type": "code",
   "execution_count": 15,
   "metadata": {},
   "outputs": [
    {
     "data": {
      "text/html": [
       "0.335153784268829"
      ],
      "text/latex": [
       "0.335153784268829"
      ],
      "text/markdown": [
       "0.335153784268829"
      ],
      "text/plain": [
       "[1] 0.3351538"
      ]
     },
     "metadata": {},
     "output_type": "display_data"
    }
   ],
   "source": [
    "m1/(m1 + m2)"
   ]
  },
  {
   "cell_type": "code",
   "execution_count": 16,
   "metadata": {},
   "outputs": [
    {
     "data": {
      "text/html": [
       "0.664846215731172"
      ],
      "text/latex": [
       "0.664846215731172"
      ],
      "text/markdown": [
       "0.664846215731172"
      ],
      "text/plain": [
       "[1] 0.6648462"
      ]
     },
     "metadata": {},
     "output_type": "display_data"
    }
   ],
   "source": [
    "m2/(m1 + m2)"
   ]
  },
  {
   "cell_type": "markdown",
   "metadata": {},
   "source": [
    "The random variable ξ has Poisson distribution with the parameter λ. If ξ = k\n",
    "we perform k Bernoulli trials with the probability of success p. Let us define\n",
    "the random variable η as the number of successful outcomes of Bernoulli trials.\n",
    "Prove that η has Poisson distribution with the parameter pλ"
   ]
  },
  {
   "cell_type": "code",
   "execution_count": null,
   "metadata": {},
   "outputs": [],
   "source": []
  },
  {
   "cell_type": "code",
   "execution_count": null,
   "metadata": {},
   "outputs": [],
   "source": []
  },
  {
   "cell_type": "code",
   "execution_count": null,
   "metadata": {},
   "outputs": [],
   "source": []
  },
  {
   "cell_type": "code",
   "execution_count": null,
   "metadata": {},
   "outputs": [],
   "source": []
  },
  {
   "cell_type": "markdown",
   "metadata": {},
   "source": [
    "Доверительные интервалы для квартир"
   ]
  },
  {
   "cell_type": "code",
   "execution_count": null,
   "metadata": {},
   "outputs": [],
   "source": [
    "### задача 3а\n",
    "\n",
    "# setwd(\"d:/koko\") # говорим R, с какой директорией мы собираемся работать\n",
    "setwd(\"~/science/probability/pr201/training_koko/koko/\")\n",
    "dir() # смотрим список файлов в директории\n",
    "\n",
    "h <- read.table(\"flats_moscow.txt\",header=TRUE) # читаем содержимое файла в табличку h\n",
    "\n",
    "str(h) # информация о табличке h\n",
    "\n",
    "h$price[1:5]\n",
    "\n",
    "mean(h$price)\n",
    "sd(h$price)\n",
    "\n",
    "z.cr <- qnorm(0.975) # табличное или критическое значение z\n",
    "z.cr\n",
    "\n",
    "ci.left <- mean(h$price)-z.cr*sd(h$price) # левая граница доверительного интервала\n",
    "ci.right <- mean(h$price)+z.cr*sd(h$price) # правая граница доверительного интервала\n",
    "\n",
    "# ответ на 3а\n",
    "ci.left\n",
    "ci.right\n",
    "\n"
   ]
  }
 ],
 "metadata": {
  "kernelspec": {
   "display_name": "R",
   "language": "R",
   "name": "ir"
  },
  "language_info": {
   "codemirror_mode": "r",
   "file_extension": ".r",
   "mimetype": "text/x-r-source",
   "name": "R",
   "pygments_lexer": "r",
   "version": "3.4.2"
  }
 },
 "nbformat": 4,
 "nbformat_minor": 2
}
