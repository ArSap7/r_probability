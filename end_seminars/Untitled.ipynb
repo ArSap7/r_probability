{
 "cells": [
  {
   "cell_type": "markdown",
   "metadata": {},
   "source": [
    "\n",
    "`pines.csv`\n",
    "\n",
    "The Wage Tract — заповедник в округе Тома, Джорджия, США, деревья в котором не затронуты деятельностью человека со времён первых поселенцев. Для участка заповедника размером 200х200 м имеется информация о координатах сосен (sn — координата в направлении север-юг, we — в направлении запад-восток, обе от 0 до 200).\n",
    "\n",
    "Проверим, можно ли пространственное распределение сосен считать равномерным, или они растут кластерами.\n",
    "\n",
    "Загрузите данные, поделите участок на 5х5 одинаковых квадратов размера 40x40 м, посчитайте количество сосен в каждом квадрате (чтобы получить такой же результат, как у нас, используйте функцию `scipy.stats.binned_statistic_2d`).\n",
    "\n",
    "Если сосны действительно растут равномерно, какое среднее ожидаемое количество сосен в каждом квадрате? В правильном ответе два знака после десятичной точки.\n",
    "\n",
    "\n",
    "\n",
    "\n",
    "\n",
    "\n",
    "Чтобы сравнить распределение сосен с равномерным, посчитайте значение статистики хи-квадрат для полученных 5х5 квадратов. Округлите ответ до двух знаков после десятичной точки.\n",
    "\n",
    "\n",
    "\n",
    "\n",
    "\n",
    "\n",
    "\n",
    "\n",
    "Насколько велико это значение? Если нулевая гипотеза справедлива, с какой вероятностью его можно было получить случайно?\n",
    "\n",
    "Нулевое распределение статистики — хи-квадрат с 25−1=24 степенями свободы (поскольку у равномерного распределения, с которым мы сравниваем данные, нет ни одного оцениваемого по выборке параметра, число степеней свободы K−1, где K — количество интервалов).\n",
    "\n",
    "Посчитайте достигаемый уровень значимости.\n",
    "\n",
    "Если вы используете функцию scipy.stats.chi2.cdf, в качестве значения параметра df нужно взять 24 (это число степеней свободы); если функцию scipy.stats.chisquare — параметр ddof нужно брать равным 0 (это как раз количество параметров теоретического распределения, оцениваемых по выборке).\n",
    "\n",
    "Отвергается ли гипотеза равномерности на уровне значимости 0.05?"
   ]
  },
  {
   "cell_type": "code",
   "execution_count": null,
   "metadata": {},
   "outputs": [],
   "source": []
  },
  {
   "cell_type": "code",
   "execution_count": null,
   "metadata": {},
   "outputs": [],
   "source": []
  },
  {
   "cell_type": "markdown",
   "metadata": {},
   "source": [
    "### Задачка\n",
    "\n",
    "Случайная величина $X$ имеет распределение пуассона с $\\lambda = 2$. Иногда пишут, что $X \\sim Pois(2)$. С помощью симуляций оцените $P(X > 10)$, $P(X > 10 \\mid X > 5)$, $P(X < 5 \\cap X > 7)$, а также $E(X^7)$ и $E(X \\mid X > 5)$. "
   ]
  },
  {
   "cell_type": "markdown",
   "metadata": {},
   "source": [
    "### Задачка \n",
    "\n",
    "Подбрасывается правильная монетка. В любой момент вы можете сказать \"Хватит\". Ваш выигрыш равен доле орлов на момент остановки. С помощью компьютера определите, чему равен ожидаемый выигрыш при использовании оптимальной стратегии? При решении на компьютере можно считать. что число подбрасываний ограничено $500$. "
   ]
  },
  {
   "cell_type": "code",
   "execution_count": null,
   "metadata": {},
   "outputs": [],
   "source": []
  },
  {
   "cell_type": "markdown",
   "metadata": {},
   "source": [
    "A strict reviewer needs t1 minutes to check assigned application to Deep|Bayes\n",
    "summer school, where t1 has normal distribution with parameters µ1 = 30, σ1 =\n",
    "10 While a kind reviewer needs t2 minutes to check an application, where t2\n",
    "has normal distribution with parameters µ2 = 20, σ2 = 5. For each application\n",
    "the reviewer is randomly selected with 0.5 probability. Given that the time of\n",
    "review t = 10, calculate the conditional probability that the application was\n",
    "checked by a kind reviewer"
   ]
  },
  {
   "cell_type": "code",
   "execution_count": null,
   "metadata": {},
   "outputs": [],
   "source": []
  },
  {
   "cell_type": "markdown",
   "metadata": {},
   "source": [
    "### Задача 3\n",
    "\n",
    "Все персонажи и события из этой задачи реальны. Все совпадения неслучайность. В именах ошибки нет. \n",
    "\n",
    "Филя и Никита решили попытать счастья и попасть на стажировку в ЦБ. В качестве вступительного испытания, они получили листочки с задачками по терверу и случайным процессам. Одна из задач из листочка выглядела следующим образом:\n",
    "\n",
    "Пусть $X \\sim N(0, \\sigma^2)$. Пусть $F_X(x)$ - функция распределения для $N(0,1)$. Какое распределение будет у \n",
    "\n",
    "\n",
    "Собеседователи, дав Филе и Никите задание, сказали, что у них 2 часа и куда-то ушли. Пользоваться можно чем угодно (но это неточно). В голове у парней есть какое-то решение. Правда они в нём не уверены. Зато у них с собой есть ноутбуки. Помогите Филе и Никите посмотреть на симуляциях что получится в итоге. \n",
    "\n",
    "__P.S.__ На стажировку в ЦБ парни конечно же не попали.Ё"
   ]
  },
  {
   "cell_type": "code",
   "execution_count": null,
   "metadata": {},
   "outputs": [],
   "source": []
  },
  {
   "cell_type": "code",
   "execution_count": 17,
   "metadata": {},
   "outputs": [
    {
     "data": {
      "text/html": [
       "0.666666666666667"
      ],
      "text/latex": [
       "0.666666666666667"
      ],
      "text/markdown": [
       "0.666666666666667"
      ],
      "text/plain": [
       "[1] 0.6666667"
      ]
     },
     "metadata": {},
     "output_type": "display_data"
    }
   ],
   "source": [
    "# В теории:\n",
    "A = exp((10-20)^2/(2*25)) + 1/2*exp((10-30)^2/(2*100))\n",
    "h1 = exp((10-20)^2/(2*25))\n",
    "\n",
    "h1/A"
   ]
  },
  {
   "cell_type": "code",
   "execution_count": 14,
   "metadata": {},
   "outputs": [],
   "source": [
    "# Симуляции: \n",
    "n_obs = 10^7\n",
    "\n",
    "m1 = 0\n",
    "m2 = 0\n",
    "\n",
    "for(i in 1:n_obs){\n",
    "    t1 = rnorm(1, mean = 30, sd = 10)\n",
    "    t2 = rnorm(1, mean = 20, sd = 5)\n",
    "    \n",
    "    if((9.8 < t1)&(t1 < 10.2)){\n",
    "        m1 = m1 + 1\n",
    "    }\n",
    "    if((9.8 < t2)&(t2 < 10.2)){\n",
    "        m2 = m2 + 1\n",
    "    }\n",
    "}"
   ]
  },
  {
   "cell_type": "code",
   "execution_count": 15,
   "metadata": {},
   "outputs": [
    {
     "data": {
      "text/html": [
       "0.335153784268829"
      ],
      "text/latex": [
       "0.335153784268829"
      ],
      "text/markdown": [
       "0.335153784268829"
      ],
      "text/plain": [
       "[1] 0.3351538"
      ]
     },
     "metadata": {},
     "output_type": "display_data"
    }
   ],
   "source": [
    "m1/(m1 + m2)"
   ]
  },
  {
   "cell_type": "code",
   "execution_count": 16,
   "metadata": {},
   "outputs": [
    {
     "data": {
      "text/html": [
       "0.664846215731172"
      ],
      "text/latex": [
       "0.664846215731172"
      ],
      "text/markdown": [
       "0.664846215731172"
      ],
      "text/plain": [
       "[1] 0.6648462"
      ]
     },
     "metadata": {},
     "output_type": "display_data"
    }
   ],
   "source": [
    "m2/(m1 + m2)"
   ]
  },
  {
   "cell_type": "markdown",
   "metadata": {},
   "source": [
    "The random variable ξ has Poisson distribution with the parameter λ. If ξ = k\n",
    "we perform k Bernoulli trials with the probability of success p. Let us define\n",
    "the random variable η as the number of successful outcomes of Bernoulli trials.\n",
    "Prove that η has Poisson distribution with the parameter pλ"
   ]
  },
  {
   "cell_type": "code",
   "execution_count": null,
   "metadata": {},
   "outputs": [],
   "source": []
  },
  {
   "cell_type": "code",
   "execution_count": null,
   "metadata": {},
   "outputs": [],
   "source": [
    "# в гипотезы : \n",
    "# zero inflated model на лайках "
   ]
  },
  {
   "cell_type": "code",
   "execution_count": null,
   "metadata": {},
   "outputs": [],
   "source": []
  },
  {
   "cell_type": "markdown",
   "metadata": {},
   "source": [
    "__Описание переменных:__\n",
    "\n",
    "```\n",
    "n – номер квартиры по порядку\n",
    "price – цена квартиры в $1000\n",
    "totsp – общая площадь квартиры, кв.м.\n",
    "livesp жилая площадь квартиры, кв.м.\n",
    "kitsp – площадь кухни, кв.м.\n",
    "dist – расстояние от центра в км.\n",
    "metrdist – расстояние до метро в минутах\n",
    "walk – 1 – пешком от метро, 0 – на транспорте\n",
    "brick 1 – кирпичный, монолит ж/б, 0 – другой\n",
    "floor 1 – этаж кроме первого и последнего, 0 – иначе.\n",
    "code – число от 1 до 8, при помощи которого мы группируем наблюдения по\n",
    "подвыборкам:\n",
    "1. Наблюдения сгруппированы на севере, вокруг Калужско-Рижской линии\n",
    "метрополитена\n",
    "2. Север, вокруг Серпуховско-Тимирязевской линии метрополитена\n",
    "3. Северо-запад, вокруг Замоскворецкой линии метрополитена\n",
    "4. Северо-запад, вокруг Таганско-Краснопресненской линии метрополитена\n",
    "5. Юго-восток, вокруг Люблинской линии метрополитена\n",
    "6. Юго-восток, вокруг Таганско-Краснопресненской линии метрополитена\n",
    "7. Восток, вокруг Калиниской линии метрополитена\n",
    "8. Восток, вокруг Арбатско-Покровской линии метрополитена\n",
    "```"
   ]
  },
  {
   "cell_type": "markdown",
   "metadata": {},
   "source": [
    "Доверительные интервалы для квартир"
   ]
  },
  {
   "cell_type": "code",
   "execution_count": null,
   "metadata": {},
   "outputs": [],
   "source": [
    "### задача 3а\n",
    "\n",
    "# setwd(\"d:/koko\") # говорим R, с какой директорией мы собираемся работать\n",
    "setwd(\"~/science/probability/pr201/training_koko/koko/\")\n",
    "dir() # смотрим список файлов в директории\n",
    "\n",
    "h <- read.table(\"flats_moscow.txt\",header=TRUE) # читаем содержимое файла в табличку h\n",
    "\n",
    "str(h) # информация о табличке h\n",
    "\n",
    "h$price[1:5]\n",
    "\n",
    "mean(h$price)\n",
    "sd(h$price)\n",
    "\n",
    "z.cr <- qnorm(0.975) # табличное или критическое значение z\n",
    "z.cr\n",
    "\n",
    "ci.left <- mean(h$price)-z.cr*sd(h$price) # левая граница доверительного интервала\n",
    "ci.right <- mean(h$price)+z.cr*sd(h$price) # правая граница доверительного интервала\n",
    "\n",
    "# ответ на 3а\n",
    "ci.left\n",
    "ci.right\n",
    "\n"
   ]
  },
  {
   "cell_type": "code",
   "execution_count": null,
   "metadata": {},
   "outputs": [],
   "source": []
  },
  {
   "cell_type": "code",
   "execution_count": null,
   "metadata": {},
   "outputs": [],
   "source": []
  },
  {
   "cell_type": "code",
   "execution_count": null,
   "metadata": {},
   "outputs": [],
   "source": []
  },
  {
   "cell_type": "code",
   "execution_count": null,
   "metadata": {},
   "outputs": [],
   "source": [
    "### задача 4\n",
    "\n",
    "set.seed(42)  # установим стартовое значение для генератора случайных чисел\n",
    "x <- runif(200) # сгенерим 200 равномерных на [0;1]\n",
    "x[1:5]\n",
    "\n",
    "\n",
    "# логарифмическая функция правдоподобия для задачи 4 со знаком минус\n",
    "log_lik <- function(a,dat) {\n",
    "  n <- length(dat) # количество элементов в векторе dat\n",
    "  res <- n*log(a) + (a-1)*sum(log(dat))\n",
    "  return(-res)\n",
    "}\n",
    "\n",
    "# считаем для пробы значения нашей функции в некоторых точках\n",
    "# числа 2 и 5 взяты от фонаря\n",
    "log_lik(2,x)\n",
    "log_lik(5,x)\n",
    "\n",
    "# нелинейная оптимизация\n",
    "?nlm\n",
    "\n",
    "opt <- nlm(log_lik,p=5,hessian=TRUE,dat=x)\n",
    "# p=5 - стартовое значение параметра, от которого R начинает искать экстремум.\n",
    "\n",
    "a.hat <- opt$estimate # точка минимума функции\n",
    "a.hat # оценка методом ML\n",
    "\n",
    "var.hat <- 1/opt$hessian # матрица Гессе в точке минимума функции\n",
    "var.hat # оценка дисперсии ML оценки\n"
   ]
  },
  {
   "cell_type": "code",
   "execution_count": null,
   "metadata": {},
   "outputs": [],
   "source": [
    "########## 5\n",
    "\n",
    "# генерим искусственные данные\n",
    "x <- rnorm(200,mean=4,sd=3)\n",
    "\n",
    "# функция правдоподобия зависит от двух параметров и вектора данных\n",
    "# param - вектор из двух параметров\n",
    "# data - вектор данных\n",
    "log_lik <- function(param,data) {\n",
    "  mu <- param[1]\n",
    "  s2 <- param[2]\n",
    "  n <- length(data)\n",
    "  result <- -n/2*log(2*pi)-n/2*log(s2)-sum((data-mu)^2)/(2*s2)\n",
    "  return(-result)\n",
    "}\n",
    "\n",
    "log_lik(c(3,5),x)\n",
    "\n",
    "# результаты оптимизации\n",
    "optimum <- nlm(log_lik,p=c(0,1),hessian=TRUE,data=x)\n",
    "optimum\n",
    "\n",
    "# вектор оценок неизвестных параметров\n",
    "theta.hat <- optimum$estimate\n",
    "\n",
    "# матрица Гессе в точке оптимума\n",
    "H <- optimum$hessian\n",
    "print(H,digits=2)\n",
    "\n",
    "# оценка ковариационной матрицы - это обратная матрица к матрице Гессе\n",
    "var.theta <- solve(H) \n",
    "\n",
    "# стандартные отклонения - это корни из диагональных элементов\n",
    "st.devs <- sqrt(diag(var.theta))\n",
    "st.devs\n",
    "z.cr\n",
    "\n",
    "ci.left <- theta.hat - z.cr*st.devs\n",
    "ci.right <- theta.hat + z.cr*st.devs\n",
    "\n",
    "ci.left\n",
    "ci.right"
   ]
  }
 ],
 "metadata": {
  "kernelspec": {
   "display_name": "R",
   "language": "R",
   "name": "ir"
  },
  "language_info": {
   "codemirror_mode": "r",
   "file_extension": ".r",
   "mimetype": "text/x-r-source",
   "name": "R",
   "pygments_lexer": "r",
   "version": "3.4.2"
  }
 },
 "nbformat": 4,
 "nbformat_minor": 2
}
