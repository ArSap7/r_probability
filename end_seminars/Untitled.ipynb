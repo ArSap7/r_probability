{
 "cells": [
  {
   "cell_type": "markdown",
   "metadata": {},
   "source": [
    "### Задачка\n",
    "\n",
    "Случайная величина $X$ имеет распределение пуассона с $\\lambda = 2$. Иногда пишут, что $X \\sim Pois(2)$. С помощью симуляций оцените $P(X > 10)$, $P(X > 10 \\mid X > 5)$, $P(X < 5 \\cap X > 7)$, а также $E(X^7)$ и $E(X \\mid X > 5)$. "
   ]
  },
  {
   "cell_type": "markdown",
   "metadata": {},
   "source": [
    "### Задачка \n",
    "\n",
    "Подбрасывается правильная монетка. В любой момент вы можете сказать \"Хватит\". Ваш выигрыш равен доле орлов на момент остановки. С помощью компьютера определите, чему равен ожидаемый выигрыш при использовании оптимальной стратегии? При решении на компьютере можно считать. что число подбрасываний ограничено $500$. "
   ]
  },
  {
   "cell_type": "code",
   "execution_count": null,
   "metadata": {},
   "outputs": [],
   "source": []
  },
  {
   "cell_type": "markdown",
   "metadata": {},
   "source": [
    "A strict reviewer needs t1 minutes to check assigned application to Deep|Bayes\n",
    "summer school, where t1 has normal distribution with parameters µ1 = 30, σ1 =\n",
    "10 While a kind reviewer needs t2 minutes to check an application, where t2\n",
    "has normal distribution with parameters µ2 = 20, σ2 = 5. For each application\n",
    "the reviewer is randomly selected with 0.5 probability. Given that the time of\n",
    "review t = 10, calculate the conditional probability that the application was\n",
    "checked by a kind reviewer"
   ]
  },
  {
   "cell_type": "code",
   "execution_count": null,
   "metadata": {},
   "outputs": [],
   "source": []
  },
  {
   "cell_type": "code",
   "execution_count": 17,
   "metadata": {},
   "outputs": [
    {
     "data": {
      "text/html": [
       "0.666666666666667"
      ],
      "text/latex": [
       "0.666666666666667"
      ],
      "text/markdown": [
       "0.666666666666667"
      ],
      "text/plain": [
       "[1] 0.6666667"
      ]
     },
     "metadata": {},
     "output_type": "display_data"
    }
   ],
   "source": [
    "# В теории:\n",
    "A = exp((10-20)^2/(2*25)) + 1/2*exp((10-30)^2/(2*100))\n",
    "h1 = exp((10-20)^2/(2*25))\n",
    "\n",
    "h1/A"
   ]
  },
  {
   "cell_type": "code",
   "execution_count": 14,
   "metadata": {},
   "outputs": [],
   "source": [
    "# Симуляции: \n",
    "n_obs = 10^7\n",
    "\n",
    "m1 = 0\n",
    "m2 = 0\n",
    "\n",
    "for(i in 1:n_obs){\n",
    "    t1 = rnorm(1, mean = 30, sd = 10)\n",
    "    t2 = rnorm(1, mean = 20, sd = 5)\n",
    "    \n",
    "    if((9.8 < t1)&(t1 < 10.2)){\n",
    "        m1 = m1 + 1\n",
    "    }\n",
    "    if((9.8 < t2)&(t2 < 10.2)){\n",
    "        m2 = m2 + 1\n",
    "    }\n",
    "}"
   ]
  },
  {
   "cell_type": "code",
   "execution_count": 15,
   "metadata": {},
   "outputs": [
    {
     "data": {
      "text/html": [
       "0.335153784268829"
      ],
      "text/latex": [
       "0.335153784268829"
      ],
      "text/markdown": [
       "0.335153784268829"
      ],
      "text/plain": [
       "[1] 0.3351538"
      ]
     },
     "metadata": {},
     "output_type": "display_data"
    }
   ],
   "source": [
    "m1/(m1 + m2)"
   ]
  },
  {
   "cell_type": "code",
   "execution_count": 16,
   "metadata": {},
   "outputs": [
    {
     "data": {
      "text/html": [
       "0.664846215731172"
      ],
      "text/latex": [
       "0.664846215731172"
      ],
      "text/markdown": [
       "0.664846215731172"
      ],
      "text/plain": [
       "[1] 0.6648462"
      ]
     },
     "metadata": {},
     "output_type": "display_data"
    }
   ],
   "source": [
    "m2/(m1 + m2)"
   ]
  },
  {
   "cell_type": "markdown",
   "metadata": {},
   "source": [
    "The random variable ξ has Poisson distribution with the parameter λ. If ξ = k\n",
    "we perform k Bernoulli trials with the probability of success p. Let us define\n",
    "the random variable η as the number of successful outcomes of Bernoulli trials.\n",
    "Prove that η has Poisson distribution with the parameter pλ"
   ]
  },
  {
   "cell_type": "code",
   "execution_count": null,
   "metadata": {},
   "outputs": [],
   "source": []
  }
 ],
 "metadata": {
  "kernelspec": {
   "display_name": "R",
   "language": "R",
   "name": "ir"
  },
  "language_info": {
   "codemirror_mode": "r",
   "file_extension": ".r",
   "mimetype": "text/x-r-source",
   "name": "R",
   "pygments_lexer": "r",
   "version": "3.4.2"
  }
 },
 "nbformat": 4,
 "nbformat_minor": 2
}
