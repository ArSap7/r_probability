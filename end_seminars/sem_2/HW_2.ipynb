{
 "cells": [
  {
   "cell_type": "markdown",
   "metadata": {},
   "source": [
    "<img src=\"https://www.python.org/static/community_logos/python-logo-generic.svg\" height=\"500\" width=\"500\"> \n",
    "\n",
    "# <center> R для тервера и матстата. <br>  <br> Домашка номер два! </center>\n",
    "\n",
    "Данный ноутбук является домашкой по курсу «R для теории вероятностей и математической статистики» (РАНХиГС, 2017-2018). Автор ноутбука [вот этот парень по имени Филипп.](https://vk.com/ppilif) Если у вас для него есть деньги, слава или женщины, он от этого всего не откажется. Ноутбук распространяется на условиях лицензии [Creative Commons Attribution-Share Alike 4.0.](https://creativecommons.org/licenses/by-sa/4.0/) При использовании обязательно упоминание автора курса и аффилиации. При наличии технической возможности необходимо также указать активную гиперссылку на [страницу курса.](https://fulyankin.github.io/R_probability/) На ней можно найти другие материалы. Фрагменты кода, включенные в этот notebook, публикуются как [общественное достояние.](https://creativecommons.org/publicdomain/zero/1.0/)\n",
    "\n",
    "----------------------\n",
    "\n",
    "Приветствую вас внутри второй домашки. По-прежнему, моими героями являетесь вы. Люблю вас. Всем лафки-плюшки. __Краткий брифинг:__\n",
    "\n",
    "* В тетрадке $6$ задачек. Часть из них решается в пару строк кода, часть потребует написать один цикл. Не надо только пугаться циклов. Это циклы должны пугаться вас.\n",
    "* Снова некоторые задачи можно решать вручную. Если хочется, можно попробовать. Все решения опубликую после дедлайна.\n",
    "* Дедлайн: следующая среда (2 мая), утро. \n",
    "* Следующая пара снова начнётся с разбора домашки.\n",
    "\n",
    "Ближе к делу. С чего начинается любой скрипт? Правильно! С подгрузки пакетов :) "
   ]
  },
  {
   "cell_type": "code",
   "execution_count": 1,
   "metadata": {},
   "outputs": [],
   "source": [
    "library(\"ggplot2\")  # Пакет для красивых графиков \n",
    "library(\"grid\")     # Пакет для субплотов\n",
    "\n",
    "# Отрегулируем размер картинок, которые будут выдаваться в нашей тетрадке\n",
    "library('repr')\n",
    "options(repr.plot.width=4, repr.plot.height=3)\n",
    "\n",
    "# Внимание! Если вы делаете дз в Rstudio, то вам не нужны пакеты grid, repr и т.п."
   ]
  },
  {
   "cell_type": "markdown",
   "metadata": {},
   "source": [
    "### Задачка 1 \n",
    "\n",
    "Сгенерируйте выборку для случайной величины, которая обладает следующей функцией распределения:\n",
    "\n",
    "\n",
    "$$\n",
    "F(x) = \\begin{cases} 0, x \\le 0 \\\\ \\sin(x), x \\in (0, \\pi/2] \\\\ 1, x>\\pi/2 \\end{cases}\n",
    "$$"
   ]
  },
  {
   "cell_type": "code",
   "execution_count": null,
   "metadata": {},
   "outputs": [],
   "source": []
  },
  {
   "cell_type": "markdown",
   "metadata": {},
   "source": [
    "### Задачка 2\n",
    "\n",
    "Помните? Мы всё это изучаем, чтобы решать реальные проблемы! С помощью генераций в R мы можем оценить любое математическое ожидание и любые вероятности. Нам позволяет сделать это великий и могучий фундаментальный ЗБЧ!\n",
    "\n",
    "Давайте попробуем проверить несколько свойств математических ожиданий и дисперсий, которые вы доказали на лекциях по теории вероятностей в прошлом семестре. Выберите конкретные случайные величины (любые) и проверьте для них утверждения, перечисленные ниже. \n",
    "\n",
    "a) Верно ли, что $E(X + Y) = E(X) + E(Y)$? \n",
    "\n",
    "b) Верно ли, что $E(X \\cdot Y) = E(X) \\cdot E(Y)$?\n",
    "\n",
    "c) Верно ли, что $Var(X + Y) = Var(X) + Var(Y) + 2 \\cdot Cov(X,Y)$? \n",
    "\n",
    "d) Верно ли, что $Var(X \\cdot Y) = Var(X) \\cdot Var(Y)$? \n",
    "\n",
    "e) Верно ли, что если $Cov(X, Y) = 0$, то две случайные величины независимы? Удастся ли проверить это с помощью генераций? "
   ]
  },
  {
   "cell_type": "code",
   "execution_count": null,
   "metadata": {},
   "outputs": [],
   "source": []
  },
  {
   "cell_type": "markdown",
   "metadata": {},
   "source": [
    "### Задачка 3 \n",
    "\n",
    "Помните распределение пуассона, экспоненциальное, равномерное и геометрическое? Помните какие там в теории должны быть у этих распределений математические ожидания и дисперсии? А сможете показать с помощью симуляций, что их выборочные дисперсия и среднее сходятся при $n \\to \\infty$ к теоретическим? Сделайте это для одного из распределений на свой выбор. "
   ]
  },
  {
   "cell_type": "code",
   "execution_count": null,
   "metadata": {},
   "outputs": [],
   "source": []
  },
  {
   "cell_type": "markdown",
   "metadata": {},
   "source": [
    "Второй раз в течение тетрадки я пишу \"А помните?\". Это достойно следующей картинки!\n",
    "\n",
    "![](https://res.cloudinary.com/teepublic/image/private/s--7w8iwo9Z--/t_Preview/b_rgb:191919,c_lpad,f_jpg,h_630,q_90,w_1200/v1482178539/production/designs/968854_1.jpg)"
   ]
  },
  {
   "cell_type": "markdown",
   "metadata": {},
   "source": [
    "### Задачка 4 (Распределение Коши) \n",
    "\n",
    "Распределение Коши тот ещё фрукт. У стандартного распределения Коши следующая плотность: \n",
    "\n",
    "$$\n",
    "f_X(x) = \\frac{1}{\\pi(1+x^2)}\n",
    "$$\n",
    "\n",
    "Выглядит довольно красиво, но эта красота обманчива. У распределения Коши есть куча проблем. Одна из таких проблем это отсутствие математического ожидания и дисперсии. Закон больших чисел позволяет нам сказать, что для некоторых распределений \n",
    "\n",
    "$$ P( \\mid \\bar x - E(X)\\mid \\le \\varepsilon  ) \\to 1, $$\n",
    "\n",
    "то есть выборочное среднее по вероятности сходится к математическому ожиданию. Как мы знаем, для распределения Коши математического ожидания не существует. Интересно было бы узнать к чему в таком случае сходится выборочное среднее. Для решения вам понадобится функция `rcauchy`.\n",
    "\n",
    "a) Постройте для распределения Коши точно такую же картинку, какую мы строили на паре для подбрасывания игральной кости. Попытайтесь проинтерпретировать то, что вы увидете. Если не получается, не печальтесь. Когда я печалюсь, я обычно перестаю печалиться и просто становлюсь клёвым. И это правда. Советую вам делать также. "
   ]
  },
  {
   "cell_type": "code",
   "execution_count": null,
   "metadata": {},
   "outputs": [],
   "source": []
  },
  {
   "cell_type": "markdown",
   "metadata": {},
   "source": [
    "b) Попробуйте точно также посмотреть к чему сходится выборочная дисперсия. "
   ]
  },
  {
   "cell_type": "code",
   "execution_count": null,
   "metadata": {},
   "outputs": [],
   "source": []
  },
  {
   "cell_type": "markdown",
   "metadata": {},
   "source": [
    "У распределения Коши тоже есть разные забавные свойства. Например, если у нас есть две независимые нормально распределённые случайные виличины $X_1 \\sim N(0,1)$ и $X_2 \\sim N(0,1)$, то случайная величина $Y = \\dfrac{X_1}{X_2}$ будет иметь распределение Коши. Если вы хорошо учите математическую статистку, то вы уже догадались, что распределение Стьюдента с одной степенью свободы, $t(1)$ — это ни что иное как распределение Коши. Посмотрите в лекциях чему равно математическое ожидание и дисперсия для распределеняи Стьюдента и попытайтесь соотнести это с тем, что было получено вами выше.\n",
    "\n",
    "На следующей паре мы будем более подробно говорить про разные сходимости (по вероятности, почти наверное, слабая и тп), а также про распределение Стьюдента. Как бы таинственно это для вас не прозвучало, но оно обладает тяжёлыми хвостами. Поднимем таинсвенность на новый уровень: тяжёлые хвосты способствуют порождению чёрных лебедей. В финансах это вызывает большой скоп проблем. Попробуем успеть поговорить и про это. "
   ]
  },
  {
   "cell_type": "markdown",
   "metadata": {},
   "source": [
    "### Задачка 5 (Парадокс дней рождений)\n",
    "\n",
    "Вы когда-нибудь слышали про парадокс дней рождений? На википедии есть статья. Остановитесь, не нужно её гуглить. Давайте попробуем поразмышлять. Как думаете какова вероятность того, что в комнате, в которой находится $23$ человека, хотябы у двоих из них дни рождения совпадают (не у вас с кем-нибудь совпадёт, а у двоих произвольных людей)? \n",
    "\n",
    "__Внимание, ответ:__ вероятность этого $0.5$. Если в комнате $50$ человек, то вероятность этого возрастает до $0.97$. Получается, что если вы находитесь в большой аудитории, то вы смело можете ставить деньги на то, что в ней дни рождения у каких-нибудь двух произвольных людей совпадут. Делая такие ставки довольно часто, вы сможете обогатиться. Конечно же, иногда вы будете проигрывать, но математическое ожидание такой игры будет суперположительным. Например, если вы будете ставить $1000$ рублей, ваш ожидаемый выигрыш составит\n",
    "\n",
    "$$\n",
    "E(X) = 0.97\\cdot1000 - 0.03\\cdot1000.\n",
    "$$ \n",
    "\n",
    "Слабо найти вероятность того, что хотябы у двоих людей из $n$ дни рождения совпадут руками? Если слабо, добро пожаловать на [википедию.](https://ru.wikipedia.org/wiki/Парадокс_дней_рождения)\n",
    "\n",
    "Почему нам трудно в это поверить? Ответ математический: степени трудно осознать. Как визирь в [древней задаче про шахматы и зёрнышки,](https://ru.wikipedia.org/wiki/Задача_о_зёрнах_на_шахматной_доске) мы плохо понимаем степенную функцию. Даже если мы подучились математике и статистике, это всё равно как-то непривычно. Вот пример неправильной логики: какова вероятность выпадения $10$ решек подряд?\n",
    "\n",
    "Нетренированный мозг может составить примерно такую цепочку мыслей: одна решка - $50%$, две решки - $25%$. Значит десяток решек в $10$ раз труднее, ну то есть $5%$. Ну вот мы и облажались. Реальный шанс это $0.5^{10}$. Ошиблись немного. Примерно в $50$ раз.\n",
    "\n",
    "Итак, в произвольной группе из $50$ человек вероятность того, что хотябы у двоих людей дни рождения совпадут равна $0.97$. Но это всё только в теории. При решении задачи мы предполагаем, что рождения людей равномерно распределены в течение года. Однако на практике это может быть не так. В связи с этим реальная вероятность может отличаться от теоретической. \n",
    "\n",
    "В этой задачке вам предстоит проверить парадокс дней рождений на эмпирических данных. В табличке `vk_bdates.csv` лежит информация о $4589300$ пользователей из вконтакте. В табличке можно найти данные о имени пользователя `first_name`, его поле `sex`, его родном городе `home_town`, городе проживания `city`, дне `bdate`, месяце `bmonth` и годе `byear` рождения. Также там лежит информация о том удалена ли его страничка `deactivated`. \n",
    "\n",
    "Попробуйте на основе данных из этой таблички проверить парадокс дней рождений. Проверять его мы будем, конечно же в R. От вас требуется: \n",
    "\n",
    "1. Удалить из таблички всех людей, чьи страницы были забанены или удалены.\n",
    "2. Удалить из таблички всех людей, для которых недоступны день и месяц рождения.\n",
    "3. Постройте гистограмму, на которой было бы понятно в какой месяц родилось какое количество людей. Команда для этого приведена ниже. Как считате помесячная рождаемость имеет равномерное распределение?\n",
    "4. Постройте точно такую же гистограмму для дней рождений. Вас ждёт небольшой сюрприз. Избавьтесь от этого сюрприза, чтобы он не замусоривал данные. Как считатет, подневная рождаемость имеет равномерное распределение? \n",
    "5. Постройте заключительную гистограмму для сочетания колонок `bmonth` и `bday`, чтобы понять как дни рождения распределны в течение года. \n",
    "6. Предпоследнее! Эмпирически оцените вероятность того, что в группе из 50 произвольных людей найдётся хотя бы двое с одинаковым днём рождения. Для этого напишите цикл, в ходе которого из таблички с помощью команды `sample` будет делаться подвыборка из 50 строк. Для этих 50 строк внутри условия вы должны проверить совпадение дней рождений. Если совпало, то нужно запомнить это в переменную счётчик, которую вы впоследствии, чтобы получить вероятность, поделите на длину цикла. \n",
    "7. Попробуйте проделать ту же оценку отдельно для подмножества женщин и подмножества мужчин. Насколько оценки вероятностей разнятся? "
   ]
  },
  {
   "cell_type": "code",
   "execution_count": 26,
   "metadata": {},
   "outputs": [
    {
     "data": {
      "text/html": [
       "<ol class=list-inline>\n",
       "\t<li>4589300</li>\n",
       "\t<li>11</li>\n",
       "</ol>\n"
      ],
      "text/latex": [
       "\\begin{enumerate*}\n",
       "\\item 4589300\n",
       "\\item 11\n",
       "\\end{enumerate*}\n"
      ],
      "text/markdown": [
       "1. 4589300\n",
       "2. 11\n",
       "\n",
       "\n"
      ],
      "text/plain": [
       "[1] 4589300      11"
      ]
     },
     "metadata": {},
     "output_type": "display_data"
    },
    {
     "data": {
      "text/html": [
       "<table>\n",
       "<thead><tr><th scope=col>X</th><th scope=col>city</th><th scope=col>deactivated</th><th scope=col>first_name</th><th scope=col>home_town</th><th scope=col>id</th><th scope=col>last_name</th><th scope=col>sex</th><th scope=col>byear</th><th scope=col>bmonth</th><th scope=col>bday</th></tr></thead>\n",
       "<tbody>\n",
       "\t<tr><td>0              </td><td>Москва         </td><td>               </td><td>Илья           </td><td>               </td><td> 5             </td><td>Перекопский    </td><td>2              </td><td>NA             </td><td>11             </td><td>18             </td></tr>\n",
       "\t<tr><td>1              </td><td>Санкт-Петербург</td><td>               </td><td>Николай        </td><td>               </td><td> 6             </td><td>Дуров          </td><td>2              </td><td>NA             </td><td>NA             </td><td>NA             </td></tr>\n",
       "\t<tr><td>2              </td><td>Санкт-Петербург</td><td>               </td><td>Михаил         </td><td>Санкт-Петербург</td><td>11             </td><td>Петров         </td><td>2              </td><td>NA             </td><td>12             </td><td>18             </td></tr>\n",
       "\t<tr><td>3              </td><td>Санкт-Петербург</td><td>               </td><td>Татьяна        </td><td>               </td><td>34             </td><td>Плуталова      </td><td>1              </td><td>NA             </td><td>NA             </td><td>NA             </td></tr>\n",
       "\t<tr><td>4              </td><td>               </td><td>banned         </td><td>Габриел        </td><td>               </td><td>47             </td><td>Шалел          </td><td>2              </td><td>NA             </td><td>NA             </td><td>NA             </td></tr>\n",
       "\t<tr><td>5              </td><td>               </td><td>               </td><td>Сергей         </td><td>               </td><td>57             </td><td>Владимиров     </td><td>2              </td><td>NA             </td><td>NA             </td><td>NA             </td></tr>\n",
       "</tbody>\n",
       "</table>\n"
      ],
      "text/latex": [
       "\\begin{tabular}{r|lllllllllll}\n",
       " X & city & deactivated & first\\_name & home\\_town & id & last\\_name & sex & byear & bmonth & bday\\\\\n",
       "\\hline\n",
       "\t 0               & Москва          &                 & Илья            &                 &  5              & Перекопский     & 2               & NA              & 11              & 18             \\\\\n",
       "\t 1               & Санкт-Петербург &                 & Николай         &                 &  6              & Дуров           & 2               & NA              & NA              & NA             \\\\\n",
       "\t 2               & Санкт-Петербург &                 & Михаил          & Санкт-Петербург & 11              & Петров          & 2               & NA              & 12              & 18             \\\\\n",
       "\t 3               & Санкт-Петербург &                 & Татьяна         &                 & 34              & Плуталова       & 1               & NA              & NA              & NA             \\\\\n",
       "\t 4               &                 & banned          & Габриел         &                 & 47              & Шалел           & 2               & NA              & NA              & NA             \\\\\n",
       "\t 5               &                 &                 & Сергей          &                 & 57              & Владимиров      & 2               & NA              & NA              & NA             \\\\\n",
       "\\end{tabular}\n"
      ],
      "text/markdown": [
       "\n",
       "X | city | deactivated | first_name | home_town | id | last_name | sex | byear | bmonth | bday | \n",
       "|---|---|---|---|---|---|\n",
       "| 0               | Москва          |                 | Илья            |                 |  5              | Перекопский     | 2               | NA              | 11              | 18              | \n",
       "| 1               | Санкт-Петербург |                 | Николай         |                 |  6              | Дуров           | 2               | NA              | NA              | NA              | \n",
       "| 2               | Санкт-Петербург |                 | Михаил          | Санкт-Петербург | 11              | Петров          | 2               | NA              | 12              | 18              | \n",
       "| 3               | Санкт-Петербург |                 | Татьяна         |                 | 34              | Плуталова       | 1               | NA              | NA              | NA              | \n",
       "| 4               |                 | banned          | Габриел         |                 | 47              | Шалел           | 2               | NA              | NA              | NA              | \n",
       "| 5               |                 |                 | Сергей          |                 | 57              | Владимиров      | 2               | NA              | NA              | NA              | \n",
       "\n",
       "\n"
      ],
      "text/plain": [
       "  X city            deactivated first_name home_town       id last_name   sex\n",
       "1 0 Москва                      Илья                        5 Перекопский 2  \n",
       "2 1 Санкт-Петербург             Николай                     6 Дуров       2  \n",
       "3 2 Санкт-Петербург             Михаил     Санкт-Петербург 11 Петров      2  \n",
       "4 3 Санкт-Петербург             Татьяна                    34 Плуталова   1  \n",
       "5 4                 banned      Габриел                    47 Шалел       2  \n",
       "6 5                             Сергей                     57 Владимиров  2  \n",
       "  byear bmonth bday\n",
       "1 NA    11     18  \n",
       "2 NA    NA     NA  \n",
       "3 NA    12     18  \n",
       "4 NA    NA     NA  \n",
       "5 NA    NA     NA  \n",
       "6 NA    NA     NA  "
      ]
     },
     "metadata": {},
     "output_type": "display_data"
    }
   ],
   "source": [
    "df = read.csv('data/vk_bdates.csv', sep='\\t', dec='.')\n",
    "\n",
    "dim(df)\n",
    "head(df)"
   ]
  },
  {
   "cell_type": "code",
   "execution_count": 27,
   "metadata": {},
   "outputs": [
    {
     "data": {},
     "metadata": {},
     "output_type": "display_data"
    },
    {
     "data": {
      "image/png": "[encoded data removed]",
      "text/plain": [
       "plot without title"
      ]
     },
     "metadata": {},
     "output_type": "display_data"
    }
   ],
   "source": [
    "# Когда будете строить такой график, избавьтесь от колонки NA\n",
    "# Это позволяет сделать грамотное выполнение 1 и 2 пунктов инструкции :) \n",
    "ggplot(df, aes(x=factor(bmonth)))+\n",
    "  geom_bar(stat=\"count\", width=0.7, fill=\"steelblue\")"
   ]
  },
  {
   "cell_type": "code",
   "execution_count": null,
   "metadata": {},
   "outputs": [],
   "source": []
  },
  {
   "cell_type": "code",
   "execution_count": null,
   "metadata": {},
   "outputs": [],
   "source": []
  },
  {
   "cell_type": "markdown",
   "metadata": {},
   "source": [
    "На самом деле мы с вами только что впервые попробовали вскрыть внутренности сундука, о котором мы говорили на прошлой паре, по итоговой выборке. Закон больших чисел в форме Бернулли (помните из лекций по терверу?) позволил нам оценить вероятность события на основе его частоты. Очень круто, когда математика разрешает тебе сделать что-нибудь клёвое. "
   ]
  },
  {
   "cell_type": "markdown",
   "metadata": {},
   "source": [
    "### Задачка 6 (Киллер) \n",
    "\n",
    "Почти все пункты данной задачи можно попытаться решить руками. Это вполне себе реально.\n",
    "\n",
    "Эконом играет в киллера! Всего участие в игре принимает $100$ человек. Краткие правила игры: \n",
    "\n",
    "1. Каждый игрок одновременно и убийца и жертва. \n",
    "2. Игроку даётся конверт, в котором лежит имя человека, которого он должен убить. \n",
    "3. Сам игрок также находится у кого-то в конверте. Нужно не допустить своей смерти. \n",
    "4. Чтобы убить другого игрока, надо оказаться с ним наедине и застрелить из пальца. \n",
    "5. Жертва убитого становится новой жертвой игрока. \n",
    "6. Побеждает тот, кто совершит наибольшее число убийств. \n",
    "\n",
    "Организаторы игры сразу же столкнулись с несколькими проблемами. Первая проблема это __суицидники.__ Если Максиму в конверте попался Максим, то Максим должен убить сам себя. Он - суицидник.  В такой ситуации организаторам придётся поменять конверт. Хотелось бы, чтобы подобных ситуаций было как можно меньше.\n",
    "\n",
    "a) Оцените с помощью симуляций вероятность того, что хотя бы один человек получит в конверте сам себя. Какова вероятность того, что суицидником окажется именно Максим? "
   ]
  },
  {
   "cell_type": "code",
   "execution_count": null,
   "metadata": {},
   "outputs": [],
   "source": []
  },
  {
   "cell_type": "markdown",
   "metadata": {},
   "source": [
    "b) Пусть случайная величина $X$ - количество суицидников. Оцените $E(X)$ с помощью симуляций. Проинтерпретируйте величину $E(X)$. Что она означает для организаторов игры? "
   ]
  },
  {
   "cell_type": "code",
   "execution_count": null,
   "metadata": {},
   "outputs": [],
   "source": []
  },
  {
   "cell_type": "markdown",
   "metadata": {},
   "source": [
    "Вторая проблема это __мэтчинги__. Если у Глеба в конверте оказалась Аня, а у Ани в конверте оказался Глеб, то между ними возник мэтчинг. Когда игроки останутся наедине, они попробуют убить друг-друга, и у них ничего не выйдет. Организатором придётся заменить Ане и Глебу конверты с жертвами. \n",
    "\n",
    "c) Оцените вероятность того, что в раздаче возник хотя бы один мэтчинг. Какова вероятность того, что мэтчинг возникнет именно между Аней и Глебом? "
   ]
  },
  {
   "cell_type": "code",
   "execution_count": null,
   "metadata": {},
   "outputs": [],
   "source": []
  },
  {
   "cell_type": "markdown",
   "metadata": {},
   "source": [
    "d) Пусть случайная величина $Y$ - количество мэтчингов. Оцените $E(Y)$. Проинтерпретируйте величину $E(Y)$. Что она означает для организаторов?"
   ]
  },
  {
   "cell_type": "code",
   "execution_count": null,
   "metadata": {},
   "outputs": [],
   "source": []
  },
  {
   "cell_type": "markdown",
   "metadata": {},
   "source": [
    "e) Кроме мэтчингов в игре существуют __цепи.__  Например, у Ахмеда в конверте могла оказаться Рита, у Риты Максим, а у Максима Ахмед. Игроки выстраиваются в цепь. После того как Рита убьёт Максима, а затем Ахмеда, цепь замкнётся и у Риты окажется она же сама. Ответьте устно на вопрос: какова вероятность того, что в игре ни один игрок в ходе разрыва такой цепи не окажется сам у себя. \n",
    "\n",
    "Пусть случайная величина $Z$ - количество цепей в игре. Оцените $E(Z)$. Что эта величина означает для организаторов? Проинтерпретируйе её.  "
   ]
  },
  {
   "cell_type": "code",
   "execution_count": null,
   "metadata": {},
   "outputs": [],
   "source": []
  },
  {
   "cell_type": "markdown",
   "metadata": {},
   "source": [
    "f) Пусть случайная величина $Scriptonit$ - длина цепи, возникшей в игре. Оцените с помощью симуляций среднюю длину цепей, то есть $E(Scriptonit)$."
   ]
  },
  {
   "cell_type": "code",
   "execution_count": null,
   "metadata": {},
   "outputs": [],
   "source": []
  },
  {
   "cell_type": "markdown",
   "metadata": {},
   "source": [
    "Эх! Организаторы столкнуться с довольно большим числом сложностей. На основе всего того анализа, который вы провели выше, дайте им пару советов: о чём стоит беспокоиться, а о чём нет. Также подумайте о том, что ещё следует проверить. "
   ]
  }
 ],
 "metadata": {
  "kernelspec": {
   "display_name": "R",
   "language": "R",
   "name": "ir"
  },
  "language_info": {
   "codemirror_mode": "r",
   "file_extension": ".r",
   "mimetype": "text/x-r-source",
   "name": "R",
   "pygments_lexer": "r",
   "version": "3.4.2"
  }
 },
 "nbformat": 4,
 "nbformat_minor": 2
}
