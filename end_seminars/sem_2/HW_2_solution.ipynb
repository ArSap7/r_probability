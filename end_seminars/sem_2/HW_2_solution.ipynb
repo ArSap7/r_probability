{
 "cells": [
  {
   "cell_type": "markdown",
   "metadata": {},
   "source": [
    "<img src=\"https://raw.githubusercontent.com/FUlyankin/r_probability/master/end_seminars/sem_2/yYGiBqtirSM.jpg\" height=\"300\" width=\"300\"> \n",
    "\n",
    "# <center> R для тервера и матстата. <br>  <br> Домашка номер два! </center>\n",
    "\n",
    "Данный ноутбук является домашкой по курсу «R для теории вероятностей и математической статистики» (РАНХиГС, 2017-2018). Автор ноутбука [вот этот парень по имени Филипп.](https://vk.com/ppilif) Если у вас для него есть деньги, слава или женщины, он от этого всего не откажется. Ноутбук распространяется на условиях лицензии [Creative Commons Attribution-Share Alike 4.0.](https://creativecommons.org/licenses/by-sa/4.0/) При использовании обязательно упоминание автора курса и аффилиации. При наличии технической возможности необходимо также указать активную гиперссылку на [страницу курса.](https://fulyankin.github.io/R_probability/) На ней можно найти другие материалы. Фрагменты кода, включенные в этот notebook, публикуются как [общественное достояние.](https://creativecommons.org/publicdomain/zero/1.0/)\n",
    "\n",
    "----------------------\n",
    "\n",
    "Приветствую вас внутри второй домашки. По-прежнему, моими героями являетесь вы. Люблю вас. Всем лафки-плюшки. __Краткий брифинг:__\n",
    "\n",
    "* В тетрадке $7$ задачек. Часть из них решается в пару строк кода, часть потребует написать один цикл. Не надо только пугаться циклов. Это циклы должны пугаться вас. решите любые 3 задачки на свой выбор. Самые интересные находятся внизу.  \n",
    "* Снова некоторые задачи можно решать вручную. Если хочется, можно попробовать. Все решения опубликую после дедлайна.\n",
    "* Дедлайн: следующая среда (2 мая), утро. \n",
    "* Следующая пара снова начнётся с разбора домашки.\n",
    "\n",
    "Ближе к делу. С чего начинается любой скрипт? Правильно! С подгрузки пакетов :) "
   ]
  },
  {
   "cell_type": "code",
   "execution_count": 1,
   "metadata": {},
   "outputs": [],
   "source": [
    "library(\"ggplot2\")  # Пакет для красивых графиков \n",
    "library(\"grid\")     # Пакет для субплотов\n",
    "\n",
    "# Отрегулируем размер картинок, которые будут выдаваться в нашей тетрадке\n",
    "library('repr')\n",
    "options(repr.plot.width=4, repr.plot.height=3)\n",
    "\n",
    "# Внимание! Если вы делаете дз в Rstudio, то вам не нужны пакеты grid, repr и т.п."
   ]
  },
  {
   "cell_type": "markdown",
   "metadata": {},
   "source": [
    "### Задачка 1 \n",
    "\n",
    "Сгенерируйте выборку для случайной величины, которая обладает следующей функцией распределения:\n",
    "\n",
    "\n",
    "$$\n",
    "F(x) = \\begin{cases} 0, x \\le 0 \\\\ \\sin(x), x \\in (0, \\pi/2] \\\\ 1, x>\\pi/2 \\end{cases}\n",
    "$$"
   ]
  },
  {
   "cell_type": "code",
   "execution_count": 2,
   "metadata": {},
   "outputs": [
    {
     "data": {},
     "metadata": {},
     "output_type": "display_data"
    },
    {
     "data": {
      "image/png": "[encoded data removed]",
      "text/plain": [
       "plot without title"
      ]
     },
     "metadata": {},
     "output_type": "display_data"
    }
   ],
   "source": [
    "y = runif(10^6)\n",
    "x = asin(y)\n",
    "qplot(x, bins=50)"
   ]
  },
  {
   "cell_type": "markdown",
   "metadata": {},
   "source": [
    "### Задачка 2\n",
    "\n",
    "Помните? Мы всё это изучаем, чтобы решать реальные проблемы! С помощью генераций в R мы можем оценить любое математическое ожидание и любые вероятности. Нам позволяет сделать это великий и могучий фундаментальный ЗБЧ!\n",
    "\n",
    "Давайте попробуем проверить несколько свойств математических ожиданий и дисперсий, которые вы доказали на лекциях по теории вероятностей в прошлом семестре. Выберите конкретные случайные величины (любые) и проверьте для них утверждения, перечисленные ниже. \n",
    "\n",
    "a) Верно ли, что $E(X + Y) = E(X) + E(Y)$? \n",
    "\n",
    "b) Верно ли, что $E(X \\cdot Y) = E(X) \\cdot E(Y)$?\n",
    "\n",
    "c) Верно ли, что $Var(X + Y) = Var(X) + Var(Y) + 2 \\cdot Cov(X,Y)$? \n",
    "\n",
    "d) Верно ли, что $Var(X \\cdot Y) = Var(X) \\cdot Var(Y)$? \n",
    "\n",
    "e) Верно ли, что если $Cov(X, Y) = 0$, то две случайные величины независимы? Удастся ли проверить это с помощью генераций? "
   ]
  },
  {
   "cell_type": "code",
   "execution_count": 3,
   "metadata": {},
   "outputs": [],
   "source": [
    "# Хочу экспоненциальную и равномерную, нанизанную на экспоненциальную!\n",
    "# Так зависимсоть между величинами будет\n",
    "\n",
    "n_obs = 10^6\n",
    "\n",
    "x = rexp(n_obs, rate = 2)\n",
    "y = x + runif(n_obs, min = 2, max = 5)"
   ]
  },
  {
   "cell_type": "code",
   "execution_count": 4,
   "metadata": {},
   "outputs": [
    {
     "data": {
      "text/html": [
       "4.4968359381245"
      ],
      "text/latex": [
       "4.4968359381245"
      ],
      "text/markdown": [
       "4.4968359381245"
      ],
      "text/plain": [
       "[1] 4.496836"
      ]
     },
     "metadata": {},
     "output_type": "display_data"
    },
    {
     "data": {
      "text/html": [
       "4.4968359381245"
      ],
      "text/latex": [
       "4.4968359381245"
      ],
      "text/markdown": [
       "4.4968359381245"
      ],
      "text/plain": [
       "[1] 4.496836"
      ]
     },
     "metadata": {},
     "output_type": "display_data"
    }
   ],
   "source": [
    "# a) Из курс тервера мы знаем, что это правда всегда \n",
    "mean(x + y)\n",
    "mean(x) + mean(y)"
   ]
  },
  {
   "cell_type": "code",
   "execution_count": 5,
   "metadata": {},
   "outputs": [
    {
     "data": {
      "text/html": [
       "2.24302369727862"
      ],
      "text/latex": [
       "2.24302369727862"
      ],
      "text/markdown": [
       "2.24302369727862"
      ],
      "text/plain": [
       "[1] 2.243024"
      ]
     },
     "metadata": {},
     "output_type": "display_data"
    },
    {
     "data": {
      "text/html": [
       "1.99341283550951"
      ],
      "text/latex": [
       "1.99341283550951"
      ],
      "text/markdown": [
       "1.99341283550951"
      ],
      "text/plain": [
       "[1] 1.993413"
      ]
     },
     "metadata": {},
     "output_type": "display_data"
    }
   ],
   "source": [
    "# b) Ну тут явно чего-то не хватает...\n",
    "mean(x*y)\n",
    "mean(x)*mean(y)"
   ]
  },
  {
   "cell_type": "code",
   "execution_count": 6,
   "metadata": {},
   "outputs": [
    {
     "data": {
      "text/html": [
       "2.24302394688973"
      ],
      "text/latex": [
       "2.24302394688973"
      ],
      "text/markdown": [
       "2.24302394688973"
      ],
      "text/plain": [
       "[1] 2.243024"
      ]
     },
     "metadata": {},
     "output_type": "display_data"
    }
   ],
   "source": [
    "# Давайте посмотрим лекции по терверу и вспомним чего не хватает :) \n",
    "mean(x)*mean(y) + cov(x,y)"
   ]
  },
  {
   "cell_type": "code",
   "execution_count": 7,
   "metadata": {},
   "outputs": [
    {
     "data": {
      "text/html": [
       "1.74890526979017"
      ],
      "text/latex": [
       "1.74890526979017"
      ],
      "text/markdown": [
       "1.74890526979017"
      ],
      "text/plain": [
       "[1] 1.748905"
      ]
     },
     "metadata": {},
     "output_type": "display_data"
    },
    {
     "data": {
      "text/html": [
       "1.74890526979017"
      ],
      "text/latex": [
       "1.74890526979017"
      ],
      "text/markdown": [
       "1.74890526979017"
      ],
      "text/plain": [
       "[1] 1.748905"
      ]
     },
     "metadata": {},
     "output_type": "display_data"
    }
   ],
   "source": [
    "#c) Это чистая правда! В лекциях даже доказательство есть!\n",
    "var(x + y)\n",
    "var(x) + var(y) + 2*cov(x,y)"
   ]
  },
  {
   "cell_type": "code",
   "execution_count": 8,
   "metadata": {},
   "outputs": [
    {
     "data": {
      "text/html": [
       "8.1930483602144"
      ],
      "text/latex": [
       "8.1930483602144"
      ],
      "text/markdown": [
       "8.1930483602144"
      ],
      "text/plain": [
       "[1] 8.193048"
      ]
     },
     "metadata": {},
     "output_type": "display_data"
    },
    {
     "data": {
      "text/html": [
       "0.249684793140707"
      ],
      "text/latex": [
       "0.249684793140707"
      ],
      "text/markdown": [
       "0.249684793140707"
      ],
      "text/plain": [
       "[1] 0.2496848"
      ]
     },
     "metadata": {},
     "output_type": "display_data"
    }
   ],
   "source": [
    "#d) Ложь! Очередная! А слабо найти правильную формулу? Она довольно неочевидна :)\n",
    "var(x*y)\n",
    "var(x)*var(y)"
   ]
  },
  {
   "cell_type": "markdown",
   "metadata": {},
   "source": [
    "e) Это наглая ложь! Простейший пример. Пусть случайная величина $X$ равновероятно принимает три значения:\n",
    "\n",
    "|$X$|$-1$|$0$|$1$| \n",
    "|---|----|---|---|\n",
    "|   |1/3 |1/3|1/3|\n",
    "\n",
    "Пусть $Z = |X|$.\n",
    "\n",
    "|$Z$|$0$|$1$| \n",
    "|---|---|---|\n",
    "|   |1/3|2/3|\n",
    "\n",
    "Тогда эти две виличины явно зависимы. Одна выражается через другую. Но при этом \n",
    "\n",
    "$$\n",
    "Cov(X,Z) = E(X \\cdot Z) - E(X) \\cdot E(Z) = 0.\n",
    "$$"
   ]
  },
  {
   "cell_type": "code",
   "execution_count": 9,
   "metadata": {},
   "outputs": [
    {
     "data": {
      "text/html": [
       "-0.000397768413768414"
      ],
      "text/latex": [
       "-0.000397768413768414"
      ],
      "text/markdown": [
       "-0.000397768413768414"
      ],
      "text/plain": [
       "[1] -0.0003977684"
      ]
     },
     "metadata": {},
     "output_type": "display_data"
    }
   ],
   "source": [
    "x = sample(c(-1,0,1), size = n_obs, replace = TRUE)\n",
    "z = abs(x)  # задаём зависимость между z и x  \n",
    "cov(x,z)    # получаем близкое к нулю число"
   ]
  },
  {
   "cell_type": "markdown",
   "metadata": {},
   "source": [
    "### Задачка 3 \n",
    "\n",
    "Помните распределение пуассона, экспоненциальное, равномерное и геометрическое? Помните какие там в теории должны быть у этих распределений математические ожидания и дисперсии? А сможете показать с помощью симуляций, что их выборочные дисперсия и среднее сходятся при $n \\to \\infty$ к теоретическим? Сделайте это для одного из распределений на свой выбор. "
   ]
  },
  {
   "cell_type": "code",
   "execution_count": 10,
   "metadata": {},
   "outputs": [
    {
     "data": {},
     "metadata": {},
     "output_type": "display_data"
    },
    {
     "data": {
      "image/png": "[encoded data removed]",
      "text/plain": [
       "plot without title"
      ]
     },
     "metadata": {},
     "output_type": "display_data"
    }
   ],
   "source": [
    "# хочу Хи-квадрат с 20 степенями свободы! \n",
    "# для такого распределения математическое ожидание равно числу степеней свободы\n",
    "# дисперсия равна двойке умножить на число степеней свободы\n",
    "\n",
    "n_obs = 10^3\n",
    "z = rep(0, n_obs)  # вектор для средних\n",
    "for(i in 1:n_obs){\n",
    "    z[i] = mean(rchisq(i, df = 20))\n",
    "}\n",
    "\n",
    "qplot(1:n_obs, z, geom='line')"
   ]
  },
  {
   "cell_type": "code",
   "execution_count": 11,
   "metadata": {},
   "outputs": [
    {
     "name": "stderr",
     "output_type": "stream",
     "text": [
      "Warning message:\n",
      "“Removed 1 rows containing missing values (geom_path).”"
     ]
    },
    {
     "data": {},
     "metadata": {},
     "output_type": "display_data"
    },
    {
     "data": {
      "image/png": "[encoded data removed]",
      "text/plain": [
       "plot without title"
      ]
     },
     "metadata": {},
     "output_type": "display_data"
    }
   ],
   "source": [
    "n_obs = 10^3\n",
    "z = rep(0, n_obs)  # вектор для дисперсий\n",
    "for(i in 1:n_obs){\n",
    "    z[i] = var(rchisq(i, df = 20))\n",
    "}\n",
    "\n",
    "qplot(1:n_obs, z, geom='line')\n",
    "\n",
    "# Ура! На картинках есть сходимость. Крутяк!"
   ]
  },
  {
   "cell_type": "markdown",
   "metadata": {},
   "source": [
    "Второй раз в течение тетрадки я пишу \"А помните?\". Это достойно следующей картинки!\n",
    "\n",
    "![](https://res.cloudinary.com/teepublic/image/private/s--7w8iwo9Z--/t_Preview/b_rgb:191919,c_lpad,f_jpg,h_630,q_90,w_1200/v1482178539/production/designs/968854_1.jpg)"
   ]
  },
  {
   "cell_type": "markdown",
   "metadata": {},
   "source": [
    "### Задачка 4 (Распределение Коши) \n",
    "\n",
    "Распределение Коши тот ещё фрукт. У стандартного распределения Коши следующая плотность: \n",
    "\n",
    "$$\n",
    "f_X(x) = \\frac{1}{\\pi(1+x^2)}\n",
    "$$\n",
    "\n",
    "Выглядит довольно красиво, но эта красота обманчива. У распределения Коши есть куча проблем. Одна из таких проблем это отсутствие математического ожидания и дисперсии. Закон больших чисел позволяет нам сказать, что для некоторых распределений \n",
    "\n",
    "$$ P( \\mid \\bar x - E(X)\\mid \\le \\varepsilon  ) \\to 1, $$\n",
    "\n",
    "то есть выборочное среднее по вероятности сходится к математическому ожиданию. Как мы знаем, для распределения Коши математического ожидания не существует. Интересно было бы узнать к чему в таком случае сходится выборочное среднее. Для решения вам понадобится функция `rcauchy`.\n",
    "\n",
    "a) Постройте для распределения Коши точно такую же картинку, какую мы строили на паре для подбрасывания игральной кости. Попытайтесь проинтерпретировать то, что вы увидете. Если не получается, не печальтесь. Когда я печалюсь, я обычно перестаю печалиться и просто становлюсь клёвым. И это правда. Советую вам делать также. "
   ]
  },
  {
   "cell_type": "code",
   "execution_count": 12,
   "metadata": {},
   "outputs": [
    {
     "data": {},
     "metadata": {},
     "output_type": "display_data"
    },
    {
     "data": {
      "image/png": "[encoded data removed]",
      "text/plain": [
       "plot without title"
      ]
     },
     "metadata": {},
     "output_type": "display_data"
    }
   ],
   "source": [
    "# Чудо, а не задание! Копипаста кода и замена распределения на Коши :) \n",
    "\n",
    "n_obs = 10^3\n",
    "z = rep(0, n_obs)  # вектор для средних\n",
    "\n",
    "for(i in 1:n_obs){\n",
    "    z[i] = mean(rcauchy(i))\n",
    "}\n",
    "\n",
    "qplot(1:n_obs, z, geom='line')"
   ]
  },
  {
   "cell_type": "markdown",
   "metadata": {},
   "source": [
    "b) Попробуйте точно также посмотреть к чему сходится выборочная дисперсия. "
   ]
  },
  {
   "cell_type": "code",
   "execution_count": 13,
   "metadata": {},
   "outputs": [
    {
     "name": "stderr",
     "output_type": "stream",
     "text": [
      "Warning message:\n",
      "“Removed 1 rows containing missing values (geom_path).”"
     ]
    },
    {
     "data": {},
     "metadata": {},
     "output_type": "display_data"
    },
    {
     "data": {
      "image/png": "[encoded data removed]",
      "text/plain": [
       "plot without title"
      ]
     },
     "metadata": {},
     "output_type": "display_data"
    }
   ],
   "source": [
    "# И ещё одна копипаста кода \n",
    "n_obs = 10^3\n",
    "z = rep(0, n_obs)  # вектор для выборочных дисперсий\n",
    "\n",
    "for(i in 1:n_obs){\n",
    "    z[i] = var(rcauchy(i))\n",
    "}\n",
    "\n",
    "qplot(1:n_obs, z, geom='line')"
   ]
  },
  {
   "cell_type": "markdown",
   "metadata": {},
   "source": [
    "У распределения Коши тоже есть разные забавные свойства. Например, если у нас есть две независимые нормально распределённые случайные виличины $X_1 \\sim N(0,1)$ и $X_2 \\sim N(0,1)$, то случайная величина $Y = \\dfrac{X_1}{X_2}$ будет иметь распределение Коши. Если вы хорошо учите математическую статистку, то вы уже догадались, что распределение Стьюдента с одной степенью свободы, $t(1)$ — это ни что иное как распределение Коши. Посмотрите в лекциях чему равно математическое ожидание и дисперсия для распределеняи Стьюдента и попытайтесь соотнести это с тем, что было получено вами выше.\n",
    "\n",
    "На следующей паре мы будем более подробно говорить про разные сходимости (по вероятности, почти наверное, слабая и тп), а также про распределение Стьюдента. Как бы таинственно это для вас не прозвучало, но оно обладает тяжёлыми хвостами. Поднимем таинсвенность на новый уровень: тяжёлые хвосты способствуют порождению чёрных лебедей. В финансах это вызывает большой скоп проблем. Попробуем успеть поговорить и про это. "
   ]
  },
  {
   "cell_type": "markdown",
   "metadata": {},
   "source": [
    "### Задачка 5 (Миша - страховщик)\n",
    "\n",
    "У Миши проблемы с бизнесом. Торговля газетами приносит денег, но не в тех объёмах, в которых хотелось бы. Плюс ещё этот долбанный аналитик написал в R один цикл и теперь просит кучу денег за свою <<работу>>. Миша хотел бы перейти на новый уровень. Недавно он читал [учебник по финансам нового поколения](https://www.ozon.ru/context/detail/id/141895538/), и его очень сильно заинтересовала глава про страховки. Жилка комерса нашептала Мише, что нужно выходить на новый уровень.\n",
    "\n",
    "Миша решил начать страховать всех этих бездарей, которые продают газеты. На районе работает $20$ киосков (в простонародье ларьков), продающих газеты. Количество потенциальных покупателей - случайная величина с распределением Пуассона. Cреднее значение случайной величины равно $50$. Это значение было получено эмпирическим путём. Все фирмы пытаются максимизировать свою прибыль, а значит покупают число газет равное среднему значению покупателей. Газеты покупаются по $15$ рублей, а продаются по $30$.\n",
    "\n",
    "Миша строит свой страховой бизнес следующим образом. Киоск платит Мише страховой взнос в размере $z$ рублей каждый день. Если в этот день киоск закупает большее число газет, чем продаёт, Миша должен выплатить фирме себестоимость этих газет. __Например:__ киоск закупил 50 газет, заплатил Мише за страховку $z$ рублей, продал в течение дня только $48$ газет. Оставшиеся две газеты Миша выкупает у киоска за $2 \\cdot 15$ рублей. \n",
    "\n",
    "a) Помигите Мише сварганить новый бизнес и ещё раз проконсультируйте его по теории вероятностей. Пусть Миша устанавливает для всех фирм единый страховой взнос. Какой должна быть минимальная величина этого взноса? \n",
    "\n",
    "b) Не хотели бы вы тоже бросить учёбу и уйти в бизнес вместе с Мишей? "
   ]
  },
  {
   "cell_type": "markdown",
   "metadata": {},
   "source": [
    "__Решение:__ \n",
    "\n",
    "Рассмотрим только один киоск. Если для него $X \\ge 50$, Миша получает $z$ рублей. Если $X = k < 50$, он получает $z - 15 \\cdot (50 - k)$ рублей. Ожидаемая прибыль Миши равна \n",
    "\n",
    "$$\n",
    " P(X \\ge 50) \\cdot z + \\sum_{k=0}^{49} P(X = k) \\cdot (z - 15 \\cdot (50 - k))\n",
    "$$\n",
    "\n",
    "Нужно приравнять её к нулю и найти минимальную возможную ставку $z$. Если решить это уравнение руками или в вольфраме, получится $z=42.24$. Давайте сделаем это с помощью симуляций. "
   ]
  },
  {
   "cell_type": "code",
   "execution_count": 28,
   "metadata": {},
   "outputs": [],
   "source": [
    "simulation <- function(n_obs, z){\n",
    "\n",
    "    x = rpois(n_obs, lambda = 50)\n",
    "\n",
    "    profit = sum(x > 50)/n_obs * z\n",
    "    for(k in 0:49){\n",
    "        profit = profit + sum(x == k)/n_obs *(z - 15*(50-k))\n",
    "    }\n",
    "\n",
    "    return(profit)\n",
    "}"
   ]
  },
  {
   "cell_type": "markdown",
   "metadata": {},
   "source": [
    "Сделаем парочку пристрелочных выстрелов, чтобы понять в каких диапазонах перебирать $z$. Если бы мы не знали, что $z=43$, мы бы поступили именно так. "
   ]
  },
  {
   "cell_type": "code",
   "execution_count": 34,
   "metadata": {},
   "outputs": [
    {
     "data": {
      "text/html": [
       "-5.15"
      ],
      "text/latex": [
       "-5.15"
      ],
      "text/markdown": [
       "-5.15"
      ],
      "text/plain": [
       "[1] -5.15"
      ]
     },
     "metadata": {},
     "output_type": "display_data"
    },
    {
     "data": {
      "text/html": [
       "2.565"
      ],
      "text/latex": [
       "2.565"
      ],
      "text/markdown": [
       "2.565"
      ],
      "text/plain": [
       "[1] 2.565"
      ]
     },
     "metadata": {},
     "output_type": "display_data"
    }
   ],
   "source": [
    "simulation(1000,40)\n",
    "\n",
    "simulation(1000,45)"
   ]
  },
  {
   "cell_type": "markdown",
   "metadata": {},
   "source": [
    "Определились! "
   ]
  },
  {
   "cell_type": "code",
   "execution_count": 37,
   "metadata": {},
   "outputs": [
    {
     "data": {
      "text/html": [
       "<ol class=list-inline>\n",
       "\t<li>-4.437395</li>\n",
       "\t<li>-3.663672</li>\n",
       "\t<li>-2.645841</li>\n",
       "\t<li>-1.611325</li>\n",
       "\t<li>-0.763590999999997</li>\n",
       "\t<li>0.188850000000004</li>\n",
       "</ol>\n"
      ],
      "text/latex": [
       "\\begin{enumerate*}\n",
       "\\item -4.437395\n",
       "\\item -3.663672\n",
       "\\item -2.645841\n",
       "\\item -1.611325\n",
       "\\item -0.763590999999997\n",
       "\\item 0.188850000000004\n",
       "\\end{enumerate*}\n"
      ],
      "text/markdown": [
       "1. -4.437395\n",
       "2. -3.663672\n",
       "3. -2.645841\n",
       "4. -1.611325\n",
       "5. -0.763590999999997\n",
       "6. 0.188850000000004\n",
       "\n",
       "\n"
      ],
      "text/plain": [
       "[1] -4.437395 -3.663672 -2.645841 -1.611325 -0.763591  0.188850"
      ]
     },
     "metadata": {},
     "output_type": "display_data"
    }
   ],
   "source": [
    "prof = rep(0,5)\n",
    "\n",
    "for(z in 40:45){\n",
    "    prof[z-39] = simulation(10^6, z)\n",
    "}\n",
    "\n",
    "prof"
   ]
  },
  {
   "cell_type": "markdown",
   "metadata": {},
   "source": [
    "Ну что-то похожее на правду. Нужно только симуляций побольше. Когда я придумывал задачку, я не знал ответа. Также я не знал какая именно информация из условия понадобится для решения. Итак, Миша начал выходить в плюс в районе $z = 43$. Обратите внимание, что на рынке есть всего 20 фирм. При таком маленьком $n$ вероятность отклониться от среднего значения довольно высока. "
   ]
  },
  {
   "cell_type": "markdown",
   "metadata": {},
   "source": [
    "### Задачка 6 (Парадокс дней рождений)\n",
    "\n",
    "Вы когда-нибудь слышали про парадокс дней рождений? На википедии есть статья. Остановитесь, не нужно её гуглить. Давайте попробуем поразмышлять. Как думаете какова вероятность того, что в комнате, в которой находится $23$ человека, хотябы у двоих из них дни рождения совпадают (не у вас с кем-нибудь совпадёт, а у двоих произвольных людей)? \n",
    "\n",
    "__Внимание, ответ:__ вероятность этого $0.5$. Если в комнате $50$ человек, то вероятность этого возрастает до $0.97$. Получается, что если вы находитесь в большой аудитории, то вы смело можете ставить деньги на то, что в ней дни рождения у каких-нибудь двух произвольных людей совпадут. Делая такие ставки довольно часто, вы сможете обогатиться. Конечно же, иногда вы будете проигрывать, но математическое ожидание такой игры будет суперположительным. Например, если вы будете ставить $1000$ рублей, ваш ожидаемый выигрыш составит\n",
    "\n",
    "$$\n",
    "E(X) = 0.97\\cdot1000 - 0.03\\cdot1000.\n",
    "$$ \n",
    "\n",
    "Слабо найти вероятность того, что хотябы у двоих людей из $n$ дни рождения совпадут руками? Если слабо, добро пожаловать на [википедию.](https://ru.wikipedia.org/wiki/Парадокс_дней_рождения)\n",
    "\n",
    "Почему нам трудно в это поверить? Ответ математический: степени трудно осознать. Как визирь в [древней задаче про шахматы и зёрнышки,](https://ru.wikipedia.org/wiki/Задача_о_зёрнах_на_шахматной_доске) мы плохо понимаем степенную функцию. Даже если мы подучились математике и статистике, это всё равно как-то непривычно. Вот пример неправильной логики: какова вероятность выпадения $10$ решек подряд?\n",
    "\n",
    "Нетренированный мозг может составить примерно такую цепочку мыслей: одна решка - $50%$, две решки - $25%$. Значит десяток решек в $10$ раз труднее, ну то есть $5%$. Ну вот мы и облажались. Реальный шанс это $0.5^{10}$. Ошиблись немного. Примерно в $50$ раз.\n",
    "\n",
    "Итак, в произвольной группе из $50$ человек вероятность того, что хотябы у двоих людей дни рождения совпадут равна $0.97$. Но это всё только в теории. При решении задачи мы предполагаем, что рождения людей равномерно распределены в течение года. Однако на практике это может быть не так. В связи с этим реальная вероятность может отличаться от теоретической. \n",
    "\n",
    "В этой задачке вам предстоит проверить парадокс дней рождений на эмпирических данных. В табличке `vk_bdates.csv` лежит информация о $4589300$ пользователей из вконтакте. В табличке можно найти данные о имени пользователя `first_name`, его поле `sex`, его родном городе `home_town`, городе проживания `city`, дне `bdate`, месяце `bmonth` и годе `byear` рождения. Также там лежит информация о том удалена ли его страничка `deactivated`. \n",
    "\n",
    "Попробуйте на основе данных из этой таблички проверить парадокс дней рождений. Проверять его мы будем, конечно же в R. От вас требуется: \n",
    "\n",
    "1. Удалить из таблички всех людей, чьи страницы были забанены или удалены.\n",
    "2. Удалить из таблички всех людей, для которых недоступны день и месяц рождения.\n",
    "3. Постройте гистограмму, на которой было бы понятно в какой месяц родилось какое количество людей. Команда для этого приведена ниже. Как считате помесячная рождаемость имеет равномерное распределение?\n",
    "4. Постройте точно такую же гистограмму для дней рождений. Вас ждёт небольшой сюрприз. Избавьтесь от этого сюрприза, чтобы он не замусоривал данные. Как считатет, подневная рождаемость имеет равномерное распределение? \n",
    "5. Постройте заключительную гистограмму для сочетания колонок `bmonth` и `bday`, чтобы понять как дни рождения распределны в течение года. \n",
    "6. Предпоследнее! Эмпирически оцените вероятность того, что в группе из 50 произвольных людей найдётся хотя бы двое с одинаковым днём рождения. Для этого напишите цикл, в ходе которого из таблички с помощью команды `sample` будет делаться подвыборка из 50 строк. Для этих 50 строк внутри условия вы должны проверить совпадение дней рождений. Если совпало, то нужно запомнить это в переменную счётчик, которую вы впоследствии, чтобы получить вероятность, поделите на длину цикла. \n",
    "7. Попробуйте проделать ту же оценку отдельно для подмножества женщин и подмножества мужчин. Насколько оценки вероятностей разнятся? "
   ]
  },
  {
   "cell_type": "code",
   "execution_count": null,
   "metadata": {
    "scrolled": true
   },
   "outputs": [],
   "source": [
    "df = read.csv('/Users/fulyankin/Yandex.Disk.localized/R/R_prob_data/vk_bdates.csv', sep='\\t', dec='.')\n",
    "\n",
    "dim(df)   # размер таблицы\n",
    "head(df,10)  # её шапочка "
   ]
  },
  {
   "cell_type": "markdown",
   "metadata": {},
   "source": [
    "Попробуем порешать всё это при участии пакета для работы с таблицами `dplyr`. При желании можно сделать всё это и без него."
   ]
  },
  {
   "cell_type": "code",
   "execution_count": null,
   "metadata": {},
   "outputs": [],
   "source": [
    "# если пакет не установлен, установите его!\n",
    "library('dplyr')\n",
    "\n",
    "options(repr.plot.width=8, repr.plot.height=3) # размер картинок"
   ]
  },
  {
   "cell_type": "code",
   "execution_count": null,
   "metadata": {},
   "outputs": [],
   "source": [
    "# Посмотрим какие у нас в колонке deactivated бывают значения. \n",
    "# Можно сделать это напрямую\n",
    "# команда select вытащила столбец из таблицы, distinct оставила уникальные значения\n",
    "distinct(select(df, deactivated))"
   ]
  },
  {
   "cell_type": "code",
   "execution_count": null,
   "metadata": {},
   "outputs": [],
   "source": [
    "# А можно сделать это через трубочку, которая будет последовательно применять \n",
    "# команды к тому, что слева было получено на выходе :)\n",
    "\n",
    "df %>% select(deactivated) %>% distinct()"
   ]
  },
  {
   "cell_type": "code",
   "execution_count": null,
   "metadata": {},
   "outputs": [],
   "source": [
    "# Посмотрим сколько у нас в таблице заблоченых и удалённых людей\n",
    "# cat это модный print\n",
    "\n",
    "cat('Были забанены:', sum(df$deactivated == 'banned'),'\\n')\n",
    "cat('Удалили свои страницы:', sum(df$deactivated == 'deleted'))"
   ]
  },
  {
   "cell_type": "code",
   "execution_count": null,
   "metadata": {},
   "outputs": [],
   "source": [
    "# 1. Чистим таблицу от удалённых и забаненых \n",
    "\n",
    "df_clean = df %>% filter(deactivated != 'banned', deactivated != 'deleted')\n",
    "head(df_clean)"
   ]
  },
  {
   "cell_type": "code",
   "execution_count": null,
   "metadata": {},
   "outputs": [],
   "source": [
    "# Срез df_clean = df[(df$deactivated != 'banned')&(df$deactivated != 'deleted'),]\n",
    "# дал бы на выход то же самое, но он бы отработал медленнее деплировской фильтрации.\n",
    "# Ниже все срезы мы будем делать командой filter()."
   ]
  },
  {
   "cell_type": "code",
   "execution_count": null,
   "metadata": {},
   "outputs": [],
   "source": [
    "# 2. Дропаем NA по дням и месяцам\n",
    "df_dropna = df_clean %>% filter(!is.na(bday),!is.na(bmonth))\n",
    "\n",
    "dim(df_dropna)  # число строк довольно сильно упало :(\n",
    "head(df_dropna)"
   ]
  },
  {
   "cell_type": "code",
   "execution_count": null,
   "metadata": {},
   "outputs": [],
   "source": [
    "# 3. Гистограмма с рождаемостью по месяцам \n",
    "ggplot(df_dropna, aes(x=factor(bmonth)))+\n",
    "    geom_bar(stat=\"count\", width=0.7, fill=\"steelblue\") + \n",
    "    xlab('Month') + ylab('Count')"
   ]
  },
  {
   "cell_type": "markdown",
   "metadata": {},
   "source": [
    "Такс такс такс, что тут у нас. Учитывая, что выборка довольно большого объёма, сложно списать разницу в высоте столбиков на случайность. Если мы будем проверять гипотезу о равномерности распределения, скорее всего, она будет отвергаться. Почему-то в конце года рождается меньше людей. "
   ]
  },
  {
   "cell_type": "code",
   "execution_count": null,
   "metadata": {},
   "outputs": [],
   "source": [
    "# 4. Аналогичная картинка для дней \n",
    "ggplot(df_dropna, aes(x=factor(bday)))+\n",
    "    geom_bar(stat=\"count\", width=0.7, fill=\"steelblue\") + \n",
    "    xlab('Days') + ylab('Count')"
   ]
  },
  {
   "cell_type": "code",
   "execution_count": null,
   "metadata": {},
   "outputs": [],
   "source": [
    "# Что за?! \n",
    "df_dropna %>% select(bday) %>% distinct() %>% tail()"
   ]
  },
  {
   "cell_type": "markdown",
   "metadata": {},
   "source": [
    "Сюрприз! Вконтакте есть приколисты. Служба поддержки отвечат, что в давнем времени была возможность обходить валидацию и писать некорректные данные в некоторые поля. Придётся нам отфильтровать это. "
   ]
  },
  {
   "cell_type": "code",
   "execution_count": null,
   "metadata": {},
   "outputs": [],
   "source": [
    "df_dropna = df_dropna %>% filter(bday >=0, bday <=31)\n",
    "\n",
    "ggplot(df_dropna, aes(x=factor(bday)))+\n",
    "    geom_bar(stat=\"count\", width=0.7, fill=\"steelblue\") + \n",
    "    xlab('Days') + ylab('Count')"
   ]
  },
  {
   "cell_type": "markdown",
   "metadata": {},
   "source": [
    "Снова равномерное распределение не особо наблюдается. Почему-то дети любят рождаться в самом начале месяца. "
   ]
  },
  {
   "cell_type": "code",
   "execution_count": null,
   "metadata": {},
   "outputs": [],
   "source": [
    "# 5. Заключительная гистограмма. Для её построения нам придётся изучить команду mutate, которая\n",
    "# изменяет внутренности таблицы \n",
    "\n",
    "# install.packages(\"lubridate\")  # Чтобы всё было совсем красиво, установим пакет для работы с датами\n",
    "# Подробнее: https://rpubs.com/davoodastaraky/lubridate\n",
    "# можно было бы сделать это и без пакета, оставив в виде '3-10', но тогда бы на гистограмме не было бы \n",
    "# автоматической красивой сортировки\n",
    "\n",
    "library(\"lubridate\")\n",
    "\n",
    "# подписали рандомный год, чтобы не париться\n",
    "df_dropna = df_dropna %>% mutate(bdate = mdy(paste(bmonth,bday,'2000',sep = '-'))) \n",
    "head(df_dropna)"
   ]
  },
  {
   "cell_type": "code",
   "execution_count": null,
   "metadata": {
    "scrolled": false
   },
   "outputs": [],
   "source": [
    "options(repr.plot.width=5, repr.plot.height=40) # размер картинки\n",
    "\n",
    "ggplot(df_dropna, aes(x=factor(bdate)))+\n",
    "    geom_bar(stat=\"count\", width=0.7, fill=\"steelblue\") + \n",
    "    coord_flip()  # команда перевернет оси"
   ]
  },
  {
   "cell_type": "markdown",
   "metadata": {},
   "source": [
    "Означает ли это, что люди любят рождаться 1 января? Вовсе нет. Давайте вспомним откуда мы взяли данные. Из контакта. Такой выброс на 1 января сомнителен. Скорее всего он происходит из-за наличия приколистов.  Также на картинке есть 29 февраля. В него рождается примерно в 4 раза меньше людей, чем в остальные месяцы. Очень мило, что мы можем увидеть это на гистограмме. "
   ]
  },
  {
   "cell_type": "code",
   "execution_count": null,
   "metadata": {},
   "outputs": [],
   "source": [
    "# 6. Посмотрим какой будет реальная вероятность того, что у двух произвольных людей из 50 др совпадут.\n",
    "\n",
    "# sample_n  выбрала рандомные 50 строк \n",
    "# после мы выбрали колонку с датами\n",
    "# в колонке с датами оставили уникальные значения\n",
    "# подсчитали их количество \n",
    "# если уникальных значений меньше 50, значит два др совпали \n",
    "\n",
    "df_dropna %>% sample_n(50) %>% select(bdate) %>% distinct() %>% nrow()"
   ]
  },
  {
   "cell_type": "code",
   "execution_count": null,
   "metadata": {},
   "outputs": [],
   "source": [
    "# Засунем всё это в функцию \n",
    "prob_estimator <- function(df, n_ppl, n_obs){\n",
    "    \n",
    "    m = 0\n",
    "    for(i in 1:n_obs){\n",
    "        k = df %>% sample_n(n_ppl) %>% select(bdate) %>% distinct() %>% nrow()\n",
    "        if(k != n_ppl){\n",
    "            m = m + 1\n",
    "        }\n",
    "    }\n",
    "\n",
    "    return(m/n_obs)\n",
    "}"
   ]
  },
  {
   "cell_type": "code",
   "execution_count": null,
   "metadata": {},
   "outputs": [],
   "source": [
    "# для 100 человек\n",
    "prob_estimator(df_dropna, 100, 1000)"
   ]
  },
  {
   "cell_type": "code",
   "execution_count": null,
   "metadata": {},
   "outputs": [],
   "source": [
    "# Посмотрим то же самое для 23 человек \n",
    "prob_estimator(df_dropna, 23, 1000)"
   ]
  },
  {
   "cell_type": "markdown",
   "metadata": {},
   "source": [
    "Вроде бы всё более-менее согласуется с теорией и вероятности получаются похожими на неё, хоть и немного другими. Попробуем позапускать эксперимент на разном числе людей в группе. Оценки будем строить на основе $1000$ наблюдений. На основе запусков составим следущую забавную табличку: \n",
    "\n",
    "\n",
    "| Людей в группе |Теоретическая вероятность|Эмпирическая вероятность|\n",
    "|----------------|-------------------------|------------------------|\n",
    "|10              |0.12                     | 0.13                   |\n",
    "|20              |0.41                     | 0.45                   |\n",
    "|30              |0.70                     | 0.71                   |\n",
    "|50              |0.97                     | 0.98                   |\n",
    "|100             |0.99                     | 1                      |\n",
    "\n",
    "Поосторожнее с идеей проверить правильной ли получилась табличка. Код для оценивания всех вероятностей в ней работает довольно долго. \n",
    "\n",
    "В конечном счёте наши оценки довольно похожи на цифры, полученные в теории. Парадокс дней рождений разрешён в нашу пользу. На самом деле неплохо было бы построить для каждой из долей доверительный интервалы и чисто формально проверить гипотезу о том, что каждая из долей совпадает с теоретической, но это мы оставим до будущих занятий. "
   ]
  },
  {
   "cell_type": "code",
   "execution_count": null,
   "metadata": {},
   "outputs": [],
   "source": [
    "# 7. Посмотрим различаются ли вероятности для женщин и мужчин\n",
    "\n",
    "df_male = df_dropna %>% filter(sex == 2)\n",
    "df_female = df_dropna %>% filter(sex == 1)\n",
    "\n",
    "prob_estimator(df_male,   50, 1000)\n",
    "prob_estimator(df_female, 50, 1000)"
   ]
  },
  {
   "cell_type": "code",
   "execution_count": null,
   "metadata": {},
   "outputs": [],
   "source": [
    "prob_estimator(df_male,   23, 1000)\n",
    "prob_estimator(df_female, 23, 1000)"
   ]
  },
  {
   "cell_type": "markdown",
   "metadata": {},
   "source": [
    "Оценки разнятся не то чтобы особо сильно. Опять же, было бы неплохо проверить гипотезу о равенстве долей для мужчин и женщин. Но это тоже остаётся на будущее.\n",
    "\n",
    "На самом деле мы с вами только что впервые попробовали вскрыть внутренности сундука, о котором мы говорили на прошлой паре, по итоговой выборке. Закон больших чисел в форме Бернулли (помните из лекций по терверу?) позволил нам оценить вероятность события на основе его частоты. Очень круто, когда математика разрешает тебе сделать что-нибудь клёвое. "
   ]
  },
  {
   "cell_type": "markdown",
   "metadata": {},
   "source": [
    "### Задачка 7 (Киллер) \n",
    "\n",
    "Почти все пункты данной задачи можно попытаться решить руками. Это вполне себе реально.\n",
    "\n",
    "Эконом играет в киллера! Всего участие в игре принимает $100$ человек. Краткие правила игры: \n",
    "\n",
    "1. Каждый игрок одновременно и убийца и жертва. \n",
    "2. Игроку даётся конверт, в котором лежит имя человека, которого он должен убить. \n",
    "3. Сам игрок также находится у кого-то в конверте. Нужно не допустить своей смерти. \n",
    "4. Чтобы убить другого игрока, надо оказаться с ним наедине и застрелить из пальца. \n",
    "5. Жертва убитого становится новой жертвой игрока. \n",
    "6. Побеждает тот, кто совершит наибольшее число убийств. \n",
    "\n",
    "Организаторы игры сразу же столкнулись с несколькими проблемами. Первая проблема это __суицидники.__ Если Максиму в конверте попался Максим, то Максим должен убить сам себя. Он - суицидник.  В такой ситуации организаторам придётся поменять конверт. Хотелось бы, чтобы подобных ситуаций было как можно меньше.\n",
    "\n",
    "a) Оцените с помощью симуляций вероятность того, что хотя бы один человек получит в конверте сам себя. Какова вероятность того, что суицидником окажется именно Максим? "
   ]
  },
  {
   "cell_type": "code",
   "execution_count": 39,
   "metadata": {},
   "outputs": [
    {
     "data": {
      "text/html": [
       "<ol class=list-inline>\n",
       "\t<li>7</li>\n",
       "\t<li>42</li>\n",
       "\t<li>25</li>\n",
       "\t<li>32</li>\n",
       "\t<li>49</li>\n",
       "\t<li>8</li>\n",
       "\t<li>85</li>\n",
       "\t<li>36</li>\n",
       "\t<li>77</li>\n",
       "\t<li>96</li>\n",
       "\t<li>21</li>\n",
       "\t<li>60</li>\n",
       "\t<li>28</li>\n",
       "\t<li>69</li>\n",
       "\t<li>35</li>\n",
       "\t<li>48</li>\n",
       "\t<li>86</li>\n",
       "\t<li>33</li>\n",
       "\t<li>80</li>\n",
       "\t<li>72</li>\n",
       "\t<li>74</li>\n",
       "\t<li>12</li>\n",
       "\t<li>50</li>\n",
       "\t<li>14</li>\n",
       "\t<li>100</li>\n",
       "\t<li>20</li>\n",
       "\t<li>18</li>\n",
       "\t<li>17</li>\n",
       "\t<li>64</li>\n",
       "\t<li>4</li>\n",
       "\t<li>58</li>\n",
       "\t<li>43</li>\n",
       "\t<li>24</li>\n",
       "\t<li>73</li>\n",
       "\t<li>9</li>\n",
       "\t<li>83</li>\n",
       "\t<li>66</li>\n",
       "\t<li>19</li>\n",
       "\t<li>44</li>\n",
       "\t<li>5</li>\n",
       "\t<li>82</li>\n",
       "\t<li>65</li>\n",
       "\t<li>37</li>\n",
       "\t<li>10</li>\n",
       "\t<li>31</li>\n",
       "\t<li>67</li>\n",
       "\t<li>97</li>\n",
       "\t<li>47</li>\n",
       "\t<li>61</li>\n",
       "\t<li>84</li>\n",
       "\t<li>68</li>\n",
       "\t<li>13</li>\n",
       "\t<li>57</li>\n",
       "\t<li>78</li>\n",
       "\t<li>89</li>\n",
       "\t<li>99</li>\n",
       "\t<li>76</li>\n",
       "\t<li>75</li>\n",
       "\t<li>56</li>\n",
       "\t<li>98</li>\n",
       "\t<li>3</li>\n",
       "\t<li>53</li>\n",
       "\t<li>79</li>\n",
       "\t<li>27</li>\n",
       "\t<li>87</li>\n",
       "\t<li>23</li>\n",
       "\t<li>95</li>\n",
       "\t<li>30</li>\n",
       "\t<li>54</li>\n",
       "\t<li>94</li>\n",
       "\t<li>2</li>\n",
       "\t<li>92</li>\n",
       "\t<li>46</li>\n",
       "\t<li>45</li>\n",
       "\t<li>15</li>\n",
       "\t<li>93</li>\n",
       "\t<li>88</li>\n",
       "\t<li>11</li>\n",
       "\t<li>34</li>\n",
       "\t<li>40</li>\n",
       "\t<li>1</li>\n",
       "\t<li>81</li>\n",
       "\t<li>16</li>\n",
       "\t<li>52</li>\n",
       "\t<li>91</li>\n",
       "\t<li>51</li>\n",
       "\t<li>26</li>\n",
       "\t<li>29</li>\n",
       "\t<li>71</li>\n",
       "\t<li>62</li>\n",
       "\t<li>41</li>\n",
       "\t<li>6</li>\n",
       "\t<li>59</li>\n",
       "\t<li>70</li>\n",
       "\t<li>38</li>\n",
       "\t<li>63</li>\n",
       "\t<li>55</li>\n",
       "\t<li>90</li>\n",
       "\t<li>39</li>\n",
       "\t<li>22</li>\n",
       "</ol>\n"
      ],
      "text/latex": [
       "\\begin{enumerate*}\n",
       "\\item 7\n",
       "\\item 42\n",
       "\\item 25\n",
       "\\item 32\n",
       "\\item 49\n",
       "\\item 8\n",
       "\\item 85\n",
       "\\item 36\n",
       "\\item 77\n",
       "\\item 96\n",
       "\\item 21\n",
       "\\item 60\n",
       "\\item 28\n",
       "\\item 69\n",
       "\\item 35\n",
       "\\item 48\n",
       "\\item 86\n",
       "\\item 33\n",
       "\\item 80\n",
       "\\item 72\n",
       "\\item 74\n",
       "\\item 12\n",
       "\\item 50\n",
       "\\item 14\n",
       "\\item 100\n",
       "\\item 20\n",
       "\\item 18\n",
       "\\item 17\n",
       "\\item 64\n",
       "\\item 4\n",
       "\\item 58\n",
       "\\item 43\n",
       "\\item 24\n",
       "\\item 73\n",
       "\\item 9\n",
       "\\item 83\n",
       "\\item 66\n",
       "\\item 19\n",
       "\\item 44\n",
       "\\item 5\n",
       "\\item 82\n",
       "\\item 65\n",
       "\\item 37\n",
       "\\item 10\n",
       "\\item 31\n",
       "\\item 67\n",
       "\\item 97\n",
       "\\item 47\n",
       "\\item 61\n",
       "\\item 84\n",
       "\\item 68\n",
       "\\item 13\n",
       "\\item 57\n",
       "\\item 78\n",
       "\\item 89\n",
       "\\item 99\n",
       "\\item 76\n",
       "\\item 75\n",
       "\\item 56\n",
       "\\item 98\n",
       "\\item 3\n",
       "\\item 53\n",
       "\\item 79\n",
       "\\item 27\n",
       "\\item 87\n",
       "\\item 23\n",
       "\\item 95\n",
       "\\item 30\n",
       "\\item 54\n",
       "\\item 94\n",
       "\\item 2\n",
       "\\item 92\n",
       "\\item 46\n",
       "\\item 45\n",
       "\\item 15\n",
       "\\item 93\n",
       "\\item 88\n",
       "\\item 11\n",
       "\\item 34\n",
       "\\item 40\n",
       "\\item 1\n",
       "\\item 81\n",
       "\\item 16\n",
       "\\item 52\n",
       "\\item 91\n",
       "\\item 51\n",
       "\\item 26\n",
       "\\item 29\n",
       "\\item 71\n",
       "\\item 62\n",
       "\\item 41\n",
       "\\item 6\n",
       "\\item 59\n",
       "\\item 70\n",
       "\\item 38\n",
       "\\item 63\n",
       "\\item 55\n",
       "\\item 90\n",
       "\\item 39\n",
       "\\item 22\n",
       "\\end{enumerate*}\n"
      ],
      "text/markdown": [
       "1. 7\n",
       "2. 42\n",
       "3. 25\n",
       "4. 32\n",
       "5. 49\n",
       "6. 8\n",
       "7. 85\n",
       "8. 36\n",
       "9. 77\n",
       "10. 96\n",
       "11. 21\n",
       "12. 60\n",
       "13. 28\n",
       "14. 69\n",
       "15. 35\n",
       "16. 48\n",
       "17. 86\n",
       "18. 33\n",
       "19. 80\n",
       "20. 72\n",
       "21. 74\n",
       "22. 12\n",
       "23. 50\n",
       "24. 14\n",
       "25. 100\n",
       "26. 20\n",
       "27. 18\n",
       "28. 17\n",
       "29. 64\n",
       "30. 4\n",
       "31. 58\n",
       "32. 43\n",
       "33. 24\n",
       "34. 73\n",
       "35. 9\n",
       "36. 83\n",
       "37. 66\n",
       "38. 19\n",
       "39. 44\n",
       "40. 5\n",
       "41. 82\n",
       "42. 65\n",
       "43. 37\n",
       "44. 10\n",
       "45. 31\n",
       "46. 67\n",
       "47. 97\n",
       "48. 47\n",
       "49. 61\n",
       "50. 84\n",
       "51. 68\n",
       "52. 13\n",
       "53. 57\n",
       "54. 78\n",
       "55. 89\n",
       "56. 99\n",
       "57. 76\n",
       "58. 75\n",
       "59. 56\n",
       "60. 98\n",
       "61. 3\n",
       "62. 53\n",
       "63. 79\n",
       "64. 27\n",
       "65. 87\n",
       "66. 23\n",
       "67. 95\n",
       "68. 30\n",
       "69. 54\n",
       "70. 94\n",
       "71. 2\n",
       "72. 92\n",
       "73. 46\n",
       "74. 45\n",
       "75. 15\n",
       "76. 93\n",
       "77. 88\n",
       "78. 11\n",
       "79. 34\n",
       "80. 40\n",
       "81. 1\n",
       "82. 81\n",
       "83. 16\n",
       "84. 52\n",
       "85. 91\n",
       "86. 51\n",
       "87. 26\n",
       "88. 29\n",
       "89. 71\n",
       "90. 62\n",
       "91. 41\n",
       "92. 6\n",
       "93. 59\n",
       "94. 70\n",
       "95. 38\n",
       "96. 63\n",
       "97. 55\n",
       "98. 90\n",
       "99. 39\n",
       "100. 22\n",
       "\n",
       "\n"
      ],
      "text/plain": [
       "  [1]   7  42  25  32  49   8  85  36  77  96  21  60  28  69  35  48  86  33\n",
       " [19]  80  72  74  12  50  14 100  20  18  17  64   4  58  43  24  73   9  83\n",
       " [37]  66  19  44   5  82  65  37  10  31  67  97  47  61  84  68  13  57  78\n",
       " [55]  89  99  76  75  56  98   3  53  79  27  87  23  95  30  54  94   2  92\n",
       " [73]  46  45  15  93  88  11  34  40   1  81  16  52  91  51  26  29  71  62\n",
       " [91]  41   6  59  70  38  63  55  90  39  22"
      ]
     },
     "metadata": {},
     "output_type": "display_data"
    }
   ],
   "source": [
    "# Зафиксируем людей. Раздаём конверты. \n",
    "n = 100\n",
    "konv = sample(1:n) # если номер письма совпадает с порядковым номером в векторе, человек получил самого себя. \n",
    "konv"
   ]
  },
  {
   "cell_type": "code",
   "execution_count": 40,
   "metadata": {},
   "outputs": [
    {
     "data": {
      "text/html": [
       "<ol class=list-inline>\n",
       "\t<li>FALSE</li>\n",
       "\t<li>FALSE</li>\n",
       "\t<li>FALSE</li>\n",
       "\t<li>FALSE</li>\n",
       "\t<li>FALSE</li>\n",
       "\t<li>FALSE</li>\n",
       "\t<li>FALSE</li>\n",
       "\t<li>FALSE</li>\n",
       "\t<li>FALSE</li>\n",
       "\t<li>FALSE</li>\n",
       "\t<li>FALSE</li>\n",
       "\t<li>FALSE</li>\n",
       "\t<li>FALSE</li>\n",
       "\t<li>FALSE</li>\n",
       "\t<li>FALSE</li>\n",
       "\t<li>FALSE</li>\n",
       "\t<li>FALSE</li>\n",
       "\t<li>FALSE</li>\n",
       "\t<li>FALSE</li>\n",
       "\t<li>FALSE</li>\n",
       "\t<li>FALSE</li>\n",
       "\t<li>FALSE</li>\n",
       "\t<li>FALSE</li>\n",
       "\t<li>FALSE</li>\n",
       "\t<li>FALSE</li>\n",
       "\t<li>FALSE</li>\n",
       "\t<li>FALSE</li>\n",
       "\t<li>FALSE</li>\n",
       "\t<li>FALSE</li>\n",
       "\t<li>FALSE</li>\n",
       "\t<li>FALSE</li>\n",
       "\t<li>FALSE</li>\n",
       "\t<li>FALSE</li>\n",
       "\t<li>FALSE</li>\n",
       "\t<li>FALSE</li>\n",
       "\t<li>FALSE</li>\n",
       "\t<li>FALSE</li>\n",
       "\t<li>FALSE</li>\n",
       "\t<li>FALSE</li>\n",
       "\t<li>FALSE</li>\n",
       "\t<li>FALSE</li>\n",
       "\t<li>FALSE</li>\n",
       "\t<li>FALSE</li>\n",
       "\t<li>FALSE</li>\n",
       "\t<li>FALSE</li>\n",
       "\t<li>FALSE</li>\n",
       "\t<li>FALSE</li>\n",
       "\t<li>FALSE</li>\n",
       "\t<li>FALSE</li>\n",
       "\t<li>FALSE</li>\n",
       "\t<li>FALSE</li>\n",
       "\t<li>FALSE</li>\n",
       "\t<li>FALSE</li>\n",
       "\t<li>FALSE</li>\n",
       "\t<li>FALSE</li>\n",
       "\t<li>FALSE</li>\n",
       "\t<li>FALSE</li>\n",
       "\t<li>FALSE</li>\n",
       "\t<li>FALSE</li>\n",
       "\t<li>FALSE</li>\n",
       "\t<li>FALSE</li>\n",
       "\t<li>FALSE</li>\n",
       "\t<li>FALSE</li>\n",
       "\t<li>FALSE</li>\n",
       "\t<li>FALSE</li>\n",
       "\t<li>FALSE</li>\n",
       "\t<li>FALSE</li>\n",
       "\t<li>FALSE</li>\n",
       "\t<li>FALSE</li>\n",
       "\t<li>FALSE</li>\n",
       "\t<li>FALSE</li>\n",
       "\t<li>FALSE</li>\n",
       "\t<li>FALSE</li>\n",
       "\t<li>FALSE</li>\n",
       "\t<li>FALSE</li>\n",
       "\t<li>FALSE</li>\n",
       "\t<li>FALSE</li>\n",
       "\t<li>FALSE</li>\n",
       "\t<li>FALSE</li>\n",
       "\t<li>FALSE</li>\n",
       "\t<li>FALSE</li>\n",
       "\t<li>FALSE</li>\n",
       "\t<li>FALSE</li>\n",
       "\t<li>FALSE</li>\n",
       "\t<li>FALSE</li>\n",
       "\t<li>FALSE</li>\n",
       "\t<li>FALSE</li>\n",
       "\t<li>FALSE</li>\n",
       "\t<li>FALSE</li>\n",
       "\t<li>FALSE</li>\n",
       "\t<li>FALSE</li>\n",
       "\t<li>FALSE</li>\n",
       "\t<li>FALSE</li>\n",
       "\t<li>FALSE</li>\n",
       "\t<li>FALSE</li>\n",
       "\t<li>FALSE</li>\n",
       "\t<li>FALSE</li>\n",
       "\t<li>FALSE</li>\n",
       "\t<li>FALSE</li>\n",
       "\t<li>FALSE</li>\n",
       "</ol>\n"
      ],
      "text/latex": [
       "\\begin{enumerate*}\n",
       "\\item FALSE\n",
       "\\item FALSE\n",
       "\\item FALSE\n",
       "\\item FALSE\n",
       "\\item FALSE\n",
       "\\item FALSE\n",
       "\\item FALSE\n",
       "\\item FALSE\n",
       "\\item FALSE\n",
       "\\item FALSE\n",
       "\\item FALSE\n",
       "\\item FALSE\n",
       "\\item FALSE\n",
       "\\item FALSE\n",
       "\\item FALSE\n",
       "\\item FALSE\n",
       "\\item FALSE\n",
       "\\item FALSE\n",
       "\\item FALSE\n",
       "\\item FALSE\n",
       "\\item FALSE\n",
       "\\item FALSE\n",
       "\\item FALSE\n",
       "\\item FALSE\n",
       "\\item FALSE\n",
       "\\item FALSE\n",
       "\\item FALSE\n",
       "\\item FALSE\n",
       "\\item FALSE\n",
       "\\item FALSE\n",
       "\\item FALSE\n",
       "\\item FALSE\n",
       "\\item FALSE\n",
       "\\item FALSE\n",
       "\\item FALSE\n",
       "\\item FALSE\n",
       "\\item FALSE\n",
       "\\item FALSE\n",
       "\\item FALSE\n",
       "\\item FALSE\n",
       "\\item FALSE\n",
       "\\item FALSE\n",
       "\\item FALSE\n",
       "\\item FALSE\n",
       "\\item FALSE\n",
       "\\item FALSE\n",
       "\\item FALSE\n",
       "\\item FALSE\n",
       "\\item FALSE\n",
       "\\item FALSE\n",
       "\\item FALSE\n",
       "\\item FALSE\n",
       "\\item FALSE\n",
       "\\item FALSE\n",
       "\\item FALSE\n",
       "\\item FALSE\n",
       "\\item FALSE\n",
       "\\item FALSE\n",
       "\\item FALSE\n",
       "\\item FALSE\n",
       "\\item FALSE\n",
       "\\item FALSE\n",
       "\\item FALSE\n",
       "\\item FALSE\n",
       "\\item FALSE\n",
       "\\item FALSE\n",
       "\\item FALSE\n",
       "\\item FALSE\n",
       "\\item FALSE\n",
       "\\item FALSE\n",
       "\\item FALSE\n",
       "\\item FALSE\n",
       "\\item FALSE\n",
       "\\item FALSE\n",
       "\\item FALSE\n",
       "\\item FALSE\n",
       "\\item FALSE\n",
       "\\item FALSE\n",
       "\\item FALSE\n",
       "\\item FALSE\n",
       "\\item FALSE\n",
       "\\item FALSE\n",
       "\\item FALSE\n",
       "\\item FALSE\n",
       "\\item FALSE\n",
       "\\item FALSE\n",
       "\\item FALSE\n",
       "\\item FALSE\n",
       "\\item FALSE\n",
       "\\item FALSE\n",
       "\\item FALSE\n",
       "\\item FALSE\n",
       "\\item FALSE\n",
       "\\item FALSE\n",
       "\\item FALSE\n",
       "\\item FALSE\n",
       "\\item FALSE\n",
       "\\item FALSE\n",
       "\\item FALSE\n",
       "\\item FALSE\n",
       "\\end{enumerate*}\n"
      ],
      "text/markdown": [
       "1. FALSE\n",
       "2. FALSE\n",
       "3. FALSE\n",
       "4. FALSE\n",
       "5. FALSE\n",
       "6. FALSE\n",
       "7. FALSE\n",
       "8. FALSE\n",
       "9. FALSE\n",
       "10. FALSE\n",
       "11. FALSE\n",
       "12. FALSE\n",
       "13. FALSE\n",
       "14. FALSE\n",
       "15. FALSE\n",
       "16. FALSE\n",
       "17. FALSE\n",
       "18. FALSE\n",
       "19. FALSE\n",
       "20. FALSE\n",
       "21. FALSE\n",
       "22. FALSE\n",
       "23. FALSE\n",
       "24. FALSE\n",
       "25. FALSE\n",
       "26. FALSE\n",
       "27. FALSE\n",
       "28. FALSE\n",
       "29. FALSE\n",
       "30. FALSE\n",
       "31. FALSE\n",
       "32. FALSE\n",
       "33. FALSE\n",
       "34. FALSE\n",
       "35. FALSE\n",
       "36. FALSE\n",
       "37. FALSE\n",
       "38. FALSE\n",
       "39. FALSE\n",
       "40. FALSE\n",
       "41. FALSE\n",
       "42. FALSE\n",
       "43. FALSE\n",
       "44. FALSE\n",
       "45. FALSE\n",
       "46. FALSE\n",
       "47. FALSE\n",
       "48. FALSE\n",
       "49. FALSE\n",
       "50. FALSE\n",
       "51. FALSE\n",
       "52. FALSE\n",
       "53. FALSE\n",
       "54. FALSE\n",
       "55. FALSE\n",
       "56. FALSE\n",
       "57. FALSE\n",
       "58. FALSE\n",
       "59. FALSE\n",
       "60. FALSE\n",
       "61. FALSE\n",
       "62. FALSE\n",
       "63. FALSE\n",
       "64. FALSE\n",
       "65. FALSE\n",
       "66. FALSE\n",
       "67. FALSE\n",
       "68. FALSE\n",
       "69. FALSE\n",
       "70. FALSE\n",
       "71. FALSE\n",
       "72. FALSE\n",
       "73. FALSE\n",
       "74. FALSE\n",
       "75. FALSE\n",
       "76. FALSE\n",
       "77. FALSE\n",
       "78. FALSE\n",
       "79. FALSE\n",
       "80. FALSE\n",
       "81. FALSE\n",
       "82. FALSE\n",
       "83. FALSE\n",
       "84. FALSE\n",
       "85. FALSE\n",
       "86. FALSE\n",
       "87. FALSE\n",
       "88. FALSE\n",
       "89. FALSE\n",
       "90. FALSE\n",
       "91. FALSE\n",
       "92. FALSE\n",
       "93. FALSE\n",
       "94. FALSE\n",
       "95. FALSE\n",
       "96. FALSE\n",
       "97. FALSE\n",
       "98. FALSE\n",
       "99. FALSE\n",
       "100. FALSE\n",
       "\n",
       "\n"
      ],
      "text/plain": [
       "  [1] FALSE FALSE FALSE FALSE FALSE FALSE FALSE FALSE FALSE FALSE FALSE FALSE\n",
       " [13] FALSE FALSE FALSE FALSE FALSE FALSE FALSE FALSE FALSE FALSE FALSE FALSE\n",
       " [25] FALSE FALSE FALSE FALSE FALSE FALSE FALSE FALSE FALSE FALSE FALSE FALSE\n",
       " [37] FALSE FALSE FALSE FALSE FALSE FALSE FALSE FALSE FALSE FALSE FALSE FALSE\n",
       " [49] FALSE FALSE FALSE FALSE FALSE FALSE FALSE FALSE FALSE FALSE FALSE FALSE\n",
       " [61] FALSE FALSE FALSE FALSE FALSE FALSE FALSE FALSE FALSE FALSE FALSE FALSE\n",
       " [73] FALSE FALSE FALSE FALSE FALSE FALSE FALSE FALSE FALSE FALSE FALSE FALSE\n",
       " [85] FALSE FALSE FALSE FALSE FALSE FALSE FALSE FALSE FALSE FALSE FALSE FALSE\n",
       " [97] FALSE FALSE FALSE FALSE"
      ]
     },
     "metadata": {},
     "output_type": "display_data"
    }
   ],
   "source": [
    "konv == 1:n  # если хотя бы один человек у себя в конверте, увидим в векторе TRUE"
   ]
  },
  {
   "cell_type": "code",
   "execution_count": 41,
   "metadata": {},
   "outputs": [
    {
     "data": {
      "text/html": [
       "0"
      ],
      "text/latex": [
       "0"
      ],
      "text/markdown": [
       "0"
      ],
      "text/plain": [
       "[1] 0"
      ]
     },
     "metadata": {},
     "output_type": "display_data"
    }
   ],
   "source": [
    "sum(konv == 1:n) # получаем число суицидников"
   ]
  },
  {
   "cell_type": "code",
   "execution_count": 42,
   "metadata": {},
   "outputs": [
    {
     "data": {
      "text/html": [
       "0.632157"
      ],
      "text/latex": [
       "0.632157"
      ],
      "text/markdown": [
       "0.632157"
      ],
      "text/plain": [
       "[1] 0.632157"
      ]
     },
     "metadata": {},
     "output_type": "display_data"
    }
   ],
   "source": [
    "# А теперь всё вместе! \n",
    "n_obs = 10^6  # устроим миллион раздач! \n",
    "n = 100       # число игроков\n",
    "\n",
    "x = rep(0, n_obs)  # сюда будем заносить число суицидников\n",
    "for(i in 1:n_obs){\n",
    "    konv = sample(1:n)      # раздача конвертов \n",
    "    x[i] = sum(konv == 1:n) # число суицидников в раздаче \n",
    "}\n",
    "\n",
    "sum(x > 0)/n_obs  # вероятность хотя бы одного суицида "
   ]
  },
  {
   "cell_type": "markdown",
   "metadata": {},
   "source": [
    "$$\n",
    "P(\\text{Максим суицидник}) = \\frac{(n-1)!}{n!} = \\frac{1}{n} = 0.01\n",
    "$$"
   ]
  },
  {
   "cell_type": "markdown",
   "metadata": {},
   "source": [
    "b) Пусть случайная величина $X$ - количество суицидников. Оцените $E(X)$ с помощью симуляций. Проинтерпретируйте величину $E(X)$. Что она означает для организаторов игры? "
   ]
  },
  {
   "cell_type": "code",
   "execution_count": 43,
   "metadata": {},
   "outputs": [
    {
     "data": {
      "text/html": [
       "0.999197"
      ],
      "text/latex": [
       "0.999197"
      ],
      "text/markdown": [
       "0.999197"
      ],
      "text/plain": [
       "[1] 0.999197"
      ]
     },
     "metadata": {},
     "output_type": "display_data"
    }
   ],
   "source": [
    "mean(x) # среднее число суицидников"
   ]
  },
  {
   "cell_type": "markdown",
   "metadata": {},
   "source": [
    "Вторая проблема это __мэтчинги__. Если у Глеба в конверте оказалась Аня, а у Ани в конверте оказался Глеб, то между ними возник мэтчинг. Когда игроки останутся наедине, они попробуют убить друг-друга, и у них ничего не выйдет. Организатором придётся заменить Ане и Глебу конверты с жертвами. \n",
    "\n",
    "c) Оцените вероятность того, что в раздаче возник хотя бы один мэтчинг. Какова вероятность того, что мэтчинг возникнет именно между Аней и Глебом? "
   ]
  },
  {
   "cell_type": "code",
   "execution_count": 44,
   "metadata": {},
   "outputs": [
    {
     "data": {
      "text/html": [
       "2"
      ],
      "text/latex": [
       "2"
      ],
      "text/markdown": [
       "2"
      ],
      "text/plain": [
       "[1] 2"
      ]
     },
     "metadata": {},
     "output_type": "display_data"
    },
    {
     "data": {
      "text/html": [
       "5"
      ],
      "text/latex": [
       "5"
      ],
      "text/markdown": [
       "5"
      ],
      "text/plain": [
       "[1] 5"
      ]
     },
     "metadata": {},
     "output_type": "display_data"
    }
   ],
   "source": [
    "# Мэтчинги это уже чуть более серьёзный разговор. На позиции i должно оказаться j, а на позиции j i\n",
    "\n",
    "# Простой пример: [3,5,1,2,4]\n",
    "# Между 3 и 1 игроком мэтчинг, так как x[1] = 3, а x[3] = 1\n",
    "# это то же самое что и x[x[1]] = 1 или x[x[3]] = 3\n",
    "\n",
    "z = c(3,5,1,2,4)\n",
    "sum(z[z] == 1:5) # получается двойка\n",
    "                 \n",
    "z = c(3,2,1,5,4) # два мэтчинга и суицидник\n",
    "sum(z[z] == 1:5) # нечётное число "
   ]
  },
  {
   "cell_type": "code",
   "execution_count": 45,
   "metadata": {},
   "outputs": [
    {
     "data": {
      "text/html": [
       "1"
      ],
      "text/latex": [
       "1"
      ],
      "text/markdown": [
       "1"
      ],
      "text/plain": [
       "[1] 1"
      ]
     },
     "metadata": {},
     "output_type": "display_data"
    }
   ],
   "source": [
    "konv = sample(1:n)            # раздача конвертов\n",
    "sum(konv[konv] == 1:n) %/% 2  # число мэтчингов"
   ]
  },
  {
   "cell_type": "code",
   "execution_count": 46,
   "metadata": {},
   "outputs": [
    {
     "data": {
      "text/html": [
       "0.55364"
      ],
      "text/latex": [
       "0.55364"
      ],
      "text/markdown": [
       "0.55364"
      ],
      "text/plain": [
       "[1] 0.55364"
      ]
     },
     "metadata": {},
     "output_type": "display_data"
    }
   ],
   "source": [
    "# А теперь всё вместе! \n",
    "n_obs = 10^6  # устроим миллион раздач! \n",
    "n = 100       # число игроков\n",
    "\n",
    "x = rep(0, n_obs)  # сюда будем заносить число мэтчингов в раздаче\n",
    "\n",
    "for(i in 1:n_obs){\n",
    "    konv = sample(1:n)                   # раздача конвертов \n",
    "    x[i] = sum(konv[konv] == 1:n)  %/% 2 # число мэтчингов\n",
    "}\n",
    "\n",
    "sum(x > 0)/n_obs  # вероятность хотя бы одного мэтчинга"
   ]
  },
  {
   "cell_type": "markdown",
   "metadata": {},
   "source": [
    "d) Пусть случайная величина $Y$ - количество мэтчингов. Оцените $E(Y)$. Проинтерпретируйте величину $E(Y)$. Что она означает для организаторов?"
   ]
  },
  {
   "cell_type": "code",
   "execution_count": 47,
   "metadata": {},
   "outputs": [
    {
     "data": {
      "text/html": [
       "<ol class=list-inline>\n",
       "\t<li>4</li>\n",
       "\t<li>0</li>\n",
       "\t<li>1</li>\n",
       "\t<li>0</li>\n",
       "\t<li>0</li>\n",
       "\t<li>2</li>\n",
       "\t<li>1</li>\n",
       "\t<li>1</li>\n",
       "\t<li>1</li>\n",
       "\t<li>2</li>\n",
       "\t<li>1</li>\n",
       "\t<li>1</li>\n",
       "\t<li>1</li>\n",
       "\t<li>1</li>\n",
       "\t<li>0</li>\n",
       "\t<li>1</li>\n",
       "\t<li>0</li>\n",
       "\t<li>1</li>\n",
       "\t<li>2</li>\n",
       "\t<li>0</li>\n",
       "</ol>\n"
      ],
      "text/latex": [
       "\\begin{enumerate*}\n",
       "\\item 4\n",
       "\\item 0\n",
       "\\item 1\n",
       "\\item 0\n",
       "\\item 0\n",
       "\\item 2\n",
       "\\item 1\n",
       "\\item 1\n",
       "\\item 1\n",
       "\\item 2\n",
       "\\item 1\n",
       "\\item 1\n",
       "\\item 1\n",
       "\\item 1\n",
       "\\item 0\n",
       "\\item 1\n",
       "\\item 0\n",
       "\\item 1\n",
       "\\item 2\n",
       "\\item 0\n",
       "\\end{enumerate*}\n"
      ],
      "text/markdown": [
       "1. 4\n",
       "2. 0\n",
       "3. 1\n",
       "4. 0\n",
       "5. 0\n",
       "6. 2\n",
       "7. 1\n",
       "8. 1\n",
       "9. 1\n",
       "10. 2\n",
       "11. 1\n",
       "12. 1\n",
       "13. 1\n",
       "14. 1\n",
       "15. 0\n",
       "16. 1\n",
       "17. 0\n",
       "18. 1\n",
       "19. 2\n",
       "20. 0\n",
       "\n",
       "\n"
      ],
      "text/plain": [
       " [1] 4 0 1 0 0 2 1 1 1 2 1 1 1 1 0 1 0 1 2 0"
      ]
     },
     "metadata": {},
     "output_type": "display_data"
    }
   ],
   "source": [
    "# мэтчинги в разных играх\n",
    "x[1:20]"
   ]
  },
  {
   "cell_type": "code",
   "execution_count": 48,
   "metadata": {},
   "outputs": [
    {
     "data": {
      "text/html": [
       "0.783267"
      ],
      "text/latex": [
       "0.783267"
      ],
      "text/markdown": [
       "0.783267"
      ],
      "text/plain": [
       "[1] 0.783267"
      ]
     },
     "metadata": {},
     "output_type": "display_data"
    }
   ],
   "source": [
    "mean(x)   # среднее число мэтчингов"
   ]
  },
  {
   "cell_type": "code",
   "execution_count": 49,
   "metadata": {},
   "outputs": [
    {
     "data": {
      "text/html": [
       "1"
      ],
      "text/latex": [
       "1"
      ],
      "text/markdown": [
       "1"
      ],
      "text/plain": [
       "[1] 1"
      ]
     },
     "metadata": {},
     "output_type": "display_data"
    }
   ],
   "source": [
    "median(x) # медиана равна 1, в игре стоит ожидать хотябы один мэтчинг"
   ]
  },
  {
   "cell_type": "markdown",
   "metadata": {},
   "source": [
    "$$\n",
    "P(\\text{мэтчинг у Ани и Глеба}) = \\frac{(n-2)!}{n!} = \\frac{1}{n \\cdot (n-1)} = 0.0001\n",
    "$$"
   ]
  },
  {
   "cell_type": "markdown",
   "metadata": {},
   "source": [
    "e) Кроме мэтчингов в игре существуют __цепи.__  Например, у Ахмеда в конверте могла оказаться Рита, у Риты Максим, а у Максима Ахмед. Игроки выстраиваются в цепь. После того как Рита убьёт Максима, а затем Ахмеда, цепь замкнётся и у Риты окажется она же сама. Ответьте устно на вопрос: какова вероятность того, что в игре ни один игрок в ходе разрыва такой цепи не окажется сам у себя. \n",
    "\n",
    "__Ответ на устный вопрос:__ ни один игрок не окажется сам у себя только, если вся раздача - одна большая цепь. Вероятность этого $\\frac{1}{n!}$.\n",
    "\n",
    "Пусть случайная величина $Z$ - количество цепей в игре. Оцените $E(Z)$. Что эта величина означает для организаторов? Проинтерпретируйе её.  "
   ]
  },
  {
   "cell_type": "code",
   "execution_count": 84,
   "metadata": {},
   "outputs": [
    {
     "data": {
      "text/html": [
       "<ol class=list-inline>\n",
       "\t<li>3</li>\n",
       "\t<li>2</li>\n",
       "\t<li>1</li>\n",
       "</ol>\n"
      ],
      "text/latex": [
       "\\begin{enumerate*}\n",
       "\\item 3\n",
       "\\item 2\n",
       "\\item 1\n",
       "\\end{enumerate*}\n"
      ],
      "text/markdown": [
       "1. 3\n",
       "2. 2\n",
       "3. 1\n",
       "\n",
       "\n"
      ],
      "text/plain": [
       "[1] 3 2 1"
      ]
     },
     "metadata": {},
     "output_type": "display_data"
    },
    {
     "data": {
      "text/html": [
       "<ol class=list-inline>\n",
       "\t<li>1</li>\n",
       "\t<li>2</li>\n",
       "\t<li>3</li>\n",
       "</ol>\n"
      ],
      "text/latex": [
       "\\begin{enumerate*}\n",
       "\\item 1\n",
       "\\item 2\n",
       "\\item 3\n",
       "\\end{enumerate*}\n"
      ],
      "text/markdown": [
       "1. 1\n",
       "2. 2\n",
       "3. 3\n",
       "\n",
       "\n"
      ],
      "text/plain": [
       "[1] 1 2 3"
      ]
     },
     "metadata": {},
     "output_type": "display_data"
    }
   ],
   "source": [
    "# Можно было бы конечно написать огромную функцию с огромными циклами, но мы не будем\n",
    "# Немного пораскинем мозгами и придумаем более простой алгоритм поиска цепей. \n",
    "# При решении прошлого пункта мы с вами начились искать пары делая z[z]\n",
    "\n",
    "z = c(3,2,1)\n",
    "z\n",
    "z[z]  # Пары меняются местами => profit"
   ]
  },
  {
   "cell_type": "code",
   "execution_count": 85,
   "metadata": {},
   "outputs": [
    {
     "data": {
      "text/html": [
       "<ol class=list-inline>\n",
       "\t<li>3</li>\n",
       "\t<li>1</li>\n",
       "\t<li>2</li>\n",
       "</ol>\n"
      ],
      "text/latex": [
       "\\begin{enumerate*}\n",
       "\\item 3\n",
       "\\item 1\n",
       "\\item 2\n",
       "\\end{enumerate*}\n"
      ],
      "text/markdown": [
       "1. 3\n",
       "2. 1\n",
       "3. 2\n",
       "\n",
       "\n"
      ],
      "text/plain": [
       "[1] 3 1 2"
      ]
     },
     "metadata": {},
     "output_type": "display_data"
    },
    {
     "data": {
      "text/html": [
       "<ol class=list-inline>\n",
       "\t<li>2</li>\n",
       "\t<li>3</li>\n",
       "\t<li>1</li>\n",
       "</ol>\n"
      ],
      "text/latex": [
       "\\begin{enumerate*}\n",
       "\\item 2\n",
       "\\item 3\n",
       "\\item 1\n",
       "\\end{enumerate*}\n"
      ],
      "text/markdown": [
       "1. 2\n",
       "2. 3\n",
       "3. 1\n",
       "\n",
       "\n"
      ],
      "text/plain": [
       "[1] 2 3 1"
      ]
     },
     "metadata": {},
     "output_type": "display_data"
    },
    {
     "data": {
      "text/html": [
       "<ol class=list-inline>\n",
       "\t<li>1</li>\n",
       "\t<li>2</li>\n",
       "\t<li>3</li>\n",
       "</ol>\n"
      ],
      "text/latex": [
       "\\begin{enumerate*}\n",
       "\\item 1\n",
       "\\item 2\n",
       "\\item 3\n",
       "\\end{enumerate*}\n"
      ],
      "text/markdown": [
       "1. 1\n",
       "2. 2\n",
       "3. 3\n",
       "\n",
       "\n"
      ],
      "text/plain": [
       "[1] 1 2 3"
      ]
     },
     "metadata": {},
     "output_type": "display_data"
    }
   ],
   "source": [
    "# По аналогии можно искать и тройки\n",
    "z = c(3,1,2)\n",
    "z\n",
    "x = z[z]\n",
    "x\n",
    "x[z]  # Но для поиска троек придется сделать z[z] два раза"
   ]
  },
  {
   "cell_type": "code",
   "execution_count": 86,
   "metadata": {},
   "outputs": [
    {
     "data": {
      "text/html": [
       "<ol class=list-inline>\n",
       "\t<li>4</li>\n",
       "\t<li>1</li>\n",
       "\t<li>2</li>\n",
       "\t<li>3</li>\n",
       "</ol>\n"
      ],
      "text/latex": [
       "\\begin{enumerate*}\n",
       "\\item 4\n",
       "\\item 1\n",
       "\\item 2\n",
       "\\item 3\n",
       "\\end{enumerate*}\n"
      ],
      "text/markdown": [
       "1. 4\n",
       "2. 1\n",
       "3. 2\n",
       "4. 3\n",
       "\n",
       "\n"
      ],
      "text/plain": [
       "[1] 4 1 2 3"
      ]
     },
     "metadata": {},
     "output_type": "display_data"
    },
    {
     "data": {
      "text/html": [
       "<ol class=list-inline>\n",
       "\t<li>3</li>\n",
       "\t<li>4</li>\n",
       "\t<li>1</li>\n",
       "\t<li>2</li>\n",
       "</ol>\n"
      ],
      "text/latex": [
       "\\begin{enumerate*}\n",
       "\\item 3\n",
       "\\item 4\n",
       "\\item 1\n",
       "\\item 2\n",
       "\\end{enumerate*}\n"
      ],
      "text/markdown": [
       "1. 3\n",
       "2. 4\n",
       "3. 1\n",
       "4. 2\n",
       "\n",
       "\n"
      ],
      "text/plain": [
       "[1] 3 4 1 2"
      ]
     },
     "metadata": {},
     "output_type": "display_data"
    },
    {
     "data": {
      "text/html": [
       "<ol class=list-inline>\n",
       "\t<li>2</li>\n",
       "\t<li>3</li>\n",
       "\t<li>4</li>\n",
       "\t<li>1</li>\n",
       "</ol>\n"
      ],
      "text/latex": [
       "\\begin{enumerate*}\n",
       "\\item 2\n",
       "\\item 3\n",
       "\\item 4\n",
       "\\item 1\n",
       "\\end{enumerate*}\n"
      ],
      "text/markdown": [
       "1. 2\n",
       "2. 3\n",
       "3. 4\n",
       "4. 1\n",
       "\n",
       "\n"
      ],
      "text/plain": [
       "[1] 2 3 4 1"
      ]
     },
     "metadata": {},
     "output_type": "display_data"
    },
    {
     "data": {
      "text/html": [
       "<ol class=list-inline>\n",
       "\t<li>1</li>\n",
       "\t<li>2</li>\n",
       "\t<li>3</li>\n",
       "\t<li>4</li>\n",
       "</ol>\n"
      ],
      "text/latex": [
       "\\begin{enumerate*}\n",
       "\\item 1\n",
       "\\item 2\n",
       "\\item 3\n",
       "\\item 4\n",
       "\\end{enumerate*}\n"
      ],
      "text/markdown": [
       "1. 1\n",
       "2. 2\n",
       "3. 3\n",
       "4. 4\n",
       "\n",
       "\n"
      ],
      "text/plain": [
       "[1] 1 2 3 4"
      ]
     },
     "metadata": {},
     "output_type": "display_data"
    }
   ],
   "source": [
    "# Соответственно z[z] три раза поможет нам найти четвёрки\n",
    "z = c(4,1,2,3)\n",
    "x = z[z]\n",
    "z\n",
    "x\n",
    "y = x[z]\n",
    "y\n",
    "y[z]"
   ]
  },
  {
   "cell_type": "code",
   "execution_count": 88,
   "metadata": {},
   "outputs": [
    {
     "data": {
      "text/html": [
       "<ol class=list-inline>\n",
       "\t<li>4</li>\n",
       "\t<li>5</li>\n",
       "\t<li>2</li>\n",
       "\t<li>1</li>\n",
       "\t<li>3</li>\n",
       "</ol>\n"
      ],
      "text/latex": [
       "\\begin{enumerate*}\n",
       "\\item 4\n",
       "\\item 5\n",
       "\\item 2\n",
       "\\item 1\n",
       "\\item 3\n",
       "\\end{enumerate*}\n"
      ],
      "text/markdown": [
       "1. 4\n",
       "2. 5\n",
       "3. 2\n",
       "4. 1\n",
       "5. 3\n",
       "\n",
       "\n"
      ],
      "text/plain": [
       "[1] 4 5 2 1 3"
      ]
     },
     "metadata": {},
     "output_type": "display_data"
    },
    {
     "data": {
      "text/html": [
       "<ol class=list-inline>\n",
       "\t<li>1</li>\n",
       "\t<li>3</li>\n",
       "\t<li>5</li>\n",
       "\t<li>4</li>\n",
       "\t<li>2</li>\n",
       "</ol>\n"
      ],
      "text/latex": [
       "\\begin{enumerate*}\n",
       "\\item 1\n",
       "\\item 3\n",
       "\\item 5\n",
       "\\item 4\n",
       "\\item 2\n",
       "\\end{enumerate*}\n"
      ],
      "text/markdown": [
       "1. 1\n",
       "2. 3\n",
       "3. 5\n",
       "4. 4\n",
       "5. 2\n",
       "\n",
       "\n"
      ],
      "text/plain": [
       "[1] 1 3 5 4 2"
      ]
     },
     "metadata": {},
     "output_type": "display_data"
    },
    {
     "data": {
      "text/html": [
       "<ol class=list-inline>\n",
       "\t<li>4</li>\n",
       "\t<li>2</li>\n",
       "\t<li>3</li>\n",
       "\t<li>1</li>\n",
       "\t<li>5</li>\n",
       "</ol>\n"
      ],
      "text/latex": [
       "\\begin{enumerate*}\n",
       "\\item 4\n",
       "\\item 2\n",
       "\\item 3\n",
       "\\item 1\n",
       "\\item 5\n",
       "\\end{enumerate*}\n"
      ],
      "text/markdown": [
       "1. 4\n",
       "2. 2\n",
       "3. 3\n",
       "4. 1\n",
       "5. 5\n",
       "\n",
       "\n"
      ],
      "text/plain": [
       "[1] 4 2 3 1 5"
      ]
     },
     "metadata": {},
     "output_type": "display_data"
    },
    {
     "data": {
      "text/html": [
       "<ol class=list-inline>\n",
       "\t<li>1</li>\n",
       "\t<li>5</li>\n",
       "\t<li>2</li>\n",
       "\t<li>4</li>\n",
       "\t<li>3</li>\n",
       "</ol>\n"
      ],
      "text/latex": [
       "\\begin{enumerate*}\n",
       "\\item 1\n",
       "\\item 5\n",
       "\\item 2\n",
       "\\item 4\n",
       "\\item 3\n",
       "\\end{enumerate*}\n"
      ],
      "text/markdown": [
       "1. 1\n",
       "2. 5\n",
       "3. 2\n",
       "4. 4\n",
       "5. 3\n",
       "\n",
       "\n"
      ],
      "text/plain": [
       "[1] 1 5 2 4 3"
      ]
     },
     "metadata": {},
     "output_type": "display_data"
    }
   ],
   "source": [
    "# Кажется, что алгоритм готов! На самом деле не совсем. \n",
    "# Давайте посмотрим на случай из тройки и пары: \n",
    "z = c(4,5,2,1,3)\n",
    "z\n",
    "x = z[z] # При первой махинации пара встанет на свои места\n",
    "x\n",
    "y = x[z] # При второй махинации тройка встанет на свои места, а пара испортится\n",
    "y\n",
    "y[z]     # При третьей махинации тройка испотится, а пара встанет на места"
   ]
  },
  {
   "cell_type": "code",
   "execution_count": 95,
   "metadata": {},
   "outputs": [
    {
     "data": {
      "text/html": [
       "<ol class=list-inline>\n",
       "\t<li>4</li>\n",
       "\t<li>5</li>\n",
       "\t<li>2</li>\n",
       "\t<li>1</li>\n",
       "\t<li>3</li>\n",
       "</ol>\n"
      ],
      "text/latex": [
       "\\begin{enumerate*}\n",
       "\\item 4\n",
       "\\item 5\n",
       "\\item 2\n",
       "\\item 1\n",
       "\\item 3\n",
       "\\end{enumerate*}\n"
      ],
      "text/markdown": [
       "1. 4\n",
       "2. 5\n",
       "3. 2\n",
       "4. 1\n",
       "5. 3\n",
       "\n",
       "\n"
      ],
      "text/plain": [
       "[1] 4 5 2 1 3"
      ]
     },
     "metadata": {},
     "output_type": "display_data"
    },
    {
     "data": {
      "text/html": [
       "<ol class=list-inline>\n",
       "\t<li>1</li>\n",
       "\t<li>3</li>\n",
       "\t<li>5</li>\n",
       "\t<li>4</li>\n",
       "\t<li>2</li>\n",
       "</ol>\n"
      ],
      "text/latex": [
       "\\begin{enumerate*}\n",
       "\\item 1\n",
       "\\item 3\n",
       "\\item 5\n",
       "\\item 4\n",
       "\\item 2\n",
       "\\end{enumerate*}\n"
      ],
      "text/markdown": [
       "1. 1\n",
       "2. 3\n",
       "3. 5\n",
       "4. 4\n",
       "5. 2\n",
       "\n",
       "\n"
      ],
      "text/plain": [
       "[1] 1 3 5 4 2"
      ]
     },
     "metadata": {},
     "output_type": "display_data"
    },
    {
     "data": {
      "text/html": [
       "<ol class=list-inline>\n",
       "\t<li>1</li>\n",
       "\t<li>2</li>\n",
       "\t<li>3</li>\n",
       "\t<li>4</li>\n",
       "\t<li>5</li>\n",
       "</ol>\n"
      ],
      "text/latex": [
       "\\begin{enumerate*}\n",
       "\\item 1\n",
       "\\item 2\n",
       "\\item 3\n",
       "\\item 4\n",
       "\\item 5\n",
       "\\end{enumerate*}\n"
      ],
      "text/markdown": [
       "1. 1\n",
       "2. 2\n",
       "3. 3\n",
       "4. 4\n",
       "5. 5\n",
       "\n",
       "\n"
      ],
      "text/plain": [
       "[1] 1 2 3 4 5"
      ]
     },
     "metadata": {},
     "output_type": "display_data"
    }
   ],
   "source": [
    "# Проблема в том, что у перестановок разный цикл и когда одна из них входит \n",
    "# в норму, другая неизбежно портится. Но выход есть. Будем искуственно вмешиваться\n",
    "# в работу перестановок и не давать двигаться тем позициям, которые уже оказались \n",
    "# на своих местах. \n",
    "\n",
    "z = c(4,5,2,1,3)\n",
    "z\n",
    "yp = z==1:5  # смотрим кто уже на своих местах\n",
    "y = z[yp]  # запоминаем их \n",
    "\n",
    "x = z[z]   # При первой махинации пара встанет на свои места\n",
    "x[yp] = y  # Выправляем то, что уже было на своих местах, но перемешалось\n",
    "x\n",
    "\n",
    "yp = x==1:5  # снова смотрим кто на своих местах\n",
    "y = x[yp]  # запоминаем их \n",
    "x = x[z]   # на своих местах оказываются тройки, пара смешивается\n",
    "x[yp] = y  # исправляем это\n",
    "x"
   ]
  },
  {
   "cell_type": "code",
   "execution_count": 125,
   "metadata": {},
   "outputs": [
    {
     "data": {
      "text/html": [
       "<ol class=list-inline>\n",
       "\t<li>1</li>\n",
       "\t<li>3</li>\n",
       "\t<li>5</li>\n",
       "\t<li>4</li>\n",
       "\t<li>2</li>\n",
       "</ol>\n"
      ],
      "text/latex": [
       "\\begin{enumerate*}\n",
       "\\item 1\n",
       "\\item 3\n",
       "\\item 5\n",
       "\\item 4\n",
       "\\item 2\n",
       "\\end{enumerate*}\n"
      ],
      "text/markdown": [
       "1. 1\n",
       "2. 3\n",
       "3. 5\n",
       "4. 4\n",
       "5. 2\n",
       "\n",
       "\n"
      ],
      "text/plain": [
       "[1] 1 3 5 4 2"
      ]
     },
     "metadata": {},
     "output_type": "display_data"
    },
    {
     "data": {
      "text/html": [
       "<ol class=list-inline>\n",
       "\t<li>1</li>\n",
       "\t<li>2</li>\n",
       "\t<li>3</li>\n",
       "\t<li>4</li>\n",
       "\t<li>5</li>\n",
       "</ol>\n"
      ],
      "text/latex": [
       "\\begin{enumerate*}\n",
       "\\item 1\n",
       "\\item 2\n",
       "\\item 3\n",
       "\\item 4\n",
       "\\item 5\n",
       "\\end{enumerate*}\n"
      ],
      "text/markdown": [
       "1. 1\n",
       "2. 2\n",
       "3. 3\n",
       "4. 4\n",
       "5. 5\n",
       "\n",
       "\n"
      ],
      "text/plain": [
       "[1] 1 2 3 4 5"
      ]
     },
     "metadata": {},
     "output_type": "display_data"
    }
   ],
   "source": [
    "# Напишем функцию для одной перестановки \n",
    "\n",
    "permutation <- function(vect, z){\n",
    "    yp = vect==1:length(vect)\n",
    "    y = vect[yp]\n",
    "    \n",
    "    x = vect[z]\n",
    "    x[yp] = y\n",
    "    return(x) \n",
    "}\n",
    "\n",
    "z = c(4,5,2,1,3)\n",
    "x = permutation(z,z)\n",
    "x\n",
    "x = permutation(x,z)\n",
    "x"
   ]
  },
  {
   "cell_type": "code",
   "execution_count": 204,
   "metadata": {},
   "outputs": [
    {
     "name": "stdout",
     "output_type": "stream",
     "text": [
      " Число суицидников: 1 \n",
      "\n",
      " Длина цепи: 5 \n",
      " Число цепей: 1 \n",
      "\n",
      " Длина цепи: 12 \n",
      " Число цепей: 1 \n",
      "\n",
      " Длина цепи: 30 \n",
      " Число цепей: 1 \n",
      "\n",
      " Длина цепи: 52 \n",
      " Число цепей: 1 \n",
      "\n",
      "Всего цепей в игре: 5"
     ]
    }
   ],
   "source": [
    "# Отлично! Функция готова, остался цикл.\n",
    "n = 100 \n",
    "konv = sample(1:n)  \n",
    "\n",
    "i_iter = 1                 # счётчик для итераций (цепи такого размера мы сейчас нашли)\n",
    "i_chain = sum(konv == 1:n) # число цепей, суицидники - цепи длины 1\n",
    "i_sum = sum(konv == 1:n)   # люди, которые на текущей итерации на своей позиции\n",
    "\n",
    "x = konv  # Копируем раздачу, чтобы был вектор, который мы будем менять \n",
    "\n",
    "cat(' Число суицидников:', i_chain, '\\n\\n')\n",
    "while(i_sum != n){ # цикл идёт пока все не встанут на свои места\n",
    "    \n",
    "    x = permutation(x,konv)  # сделали перестановку \n",
    "    i_iter = i_iter + 1      # плюс одна итерация\n",
    "    \n",
    "    # выяснили сколько цепей было обнаружено на данном шаге\n",
    "    chain_count = (sum(x == 1:n) - i_sum) / i_iter \n",
    "    \n",
    "    # увеличили счётчик цепей на число найденных цепей\n",
    "    i_chain = i_chain + chain_count\n",
    "    \n",
    "    # увеличили сумму с людьми на своих же позициях\n",
    "    i_sum = i_sum + (sum(x == 1:n) - i_sum) \n",
    "    if(chain_count > 0){\n",
    "        cat(' Длина цепи:', i_iter, '\\n', 'Число цепей:', chain_count, '\\n\\n')\n",
    "    }\n",
    "       \n",
    "}\n",
    "\n",
    "cat('Всего цепей в игре:',i_chain)"
   ]
  },
  {
   "cell_type": "code",
   "execution_count": null,
   "metadata": {},
   "outputs": [],
   "source": [
    "# Это было жёстко. Даже для меня. Попробуем позапускать код на малых выборках\n",
    "# и посмотрим состыкуется ли. Вроде бы состыкуется. \n",
    "\n",
    "# Нам нужно узнать среднее число цепей в игре. Значит цикл по размотке придётся \n",
    "# запускать много-много раз. Давайте оформим его как функцию. "
   ]
  },
  {
   "cell_type": "code",
   "execution_count": 211,
   "metadata": {},
   "outputs": [],
   "source": [
    "one_chain <- function(konv){\n",
    "    n = length(konv)\n",
    "    \n",
    "    i_iter = 1                 # счётчик для итераций (цепи такого размера мы сейчас нашли)\n",
    "    i_chain = sum(konv == 1:n) # число цепей, суицидники - цепи длины 1\n",
    "    i_sum = sum(konv == 1:n)   # люди, которые на текущей итерации на своей позиции\n",
    "\n",
    "    x = konv  # Копируем раздачу, чтобы был вектор, который мы будем менять \n",
    "\n",
    "    while(i_sum != n){ # цикл идёт пока все не встанут на свои места\n",
    "\n",
    "        x = permutation(x,konv)  # сделали перестановку \n",
    "        i_iter = i_iter + 1      # плюс одна итерация\n",
    "\n",
    "        # выяснили сколько цепей было обнаружено на данном шаге\n",
    "        chain_count = (sum(x == 1:n) - i_sum) / i_iter \n",
    "\n",
    "        # увеличили счётчик цепей на число найденных цепей\n",
    "        i_chain = i_chain + chain_count\n",
    "\n",
    "        # увеличили сумму с людьми на своих же позициях\n",
    "        i_sum = i_sum + (sum(x == 1:n) - i_sum) \n",
    "    }\n",
    "    \n",
    "    return(i_chain)\n",
    "}\n"
   ]
  },
  {
   "cell_type": "code",
   "execution_count": 216,
   "metadata": {},
   "outputs": [],
   "source": [
    "n_obs = 10^5\n",
    "s = rep(0,n_obs) # вектор для числа цепей\n",
    "\n",
    "for(i in 1:n_obs){\n",
    "    s[i] = one_chain(sample(1:n))   \n",
    "}"
   ]
  },
  {
   "cell_type": "code",
   "execution_count": 217,
   "metadata": {},
   "outputs": [
    {
     "data": {
      "text/html": [
       "<ol class=list-inline>\n",
       "\t<li>4</li>\n",
       "\t<li>3</li>\n",
       "\t<li>5</li>\n",
       "\t<li>5</li>\n",
       "\t<li>8</li>\n",
       "\t<li>3</li>\n",
       "\t<li>4</li>\n",
       "\t<li>4</li>\n",
       "\t<li>2</li>\n",
       "\t<li>6</li>\n",
       "</ol>\n"
      ],
      "text/latex": [
       "\\begin{enumerate*}\n",
       "\\item 4\n",
       "\\item 3\n",
       "\\item 5\n",
       "\\item 5\n",
       "\\item 8\n",
       "\\item 3\n",
       "\\item 4\n",
       "\\item 4\n",
       "\\item 2\n",
       "\\item 6\n",
       "\\end{enumerate*}\n"
      ],
      "text/markdown": [
       "1. 4\n",
       "2. 3\n",
       "3. 5\n",
       "4. 5\n",
       "5. 8\n",
       "6. 3\n",
       "7. 4\n",
       "8. 4\n",
       "9. 2\n",
       "10. 6\n",
       "\n",
       "\n"
      ],
      "text/plain": [
       " [1] 4 3 5 5 8 3 4 4 2 6"
      ]
     },
     "metadata": {},
     "output_type": "display_data"
    }
   ],
   "source": [
    "s[1:10]"
   ]
  },
  {
   "cell_type": "code",
   "execution_count": 218,
   "metadata": {},
   "outputs": [
    {
     "data": {
      "text/html": [
       "5.18833"
      ],
      "text/latex": [
       "5.18833"
      ],
      "text/markdown": [
       "5.18833"
      ],
      "text/plain": [
       "[1] 5.18833"
      ]
     },
     "metadata": {},
     "output_type": "display_data"
    }
   ],
   "source": [
    "mean(s)  # вот и получили среднюю длину цепи"
   ]
  },
  {
   "cell_type": "markdown",
   "metadata": {},
   "source": [
    "f) Пусть случайная величина $Scriptonit$ - длина цепи, возникшей в игре. Оцените с помощью симуляций среднюю длину цепей, то есть $E(Scriptonit)$."
   ]
  },
  {
   "cell_type": "code",
   "execution_count": null,
   "metadata": {},
   "outputs": [],
   "source": []
  },
  {
   "cell_type": "markdown",
   "metadata": {},
   "source": [
    "Эх! Организаторы столкнуться с довольно большим числом сложностей. На основе всего того анализа, который вы провели выше, дайте им пару советов: о чём стоит беспокоиться, а о чём нет. Также подумайте о том, что ещё следует проверить. \n",
    "\n",
    "\n",
    "Ясно, что полюбак будет один суицидник, ясно что полюбак будет один мэтчинг. Вот прям зуб даю. Значит стоит раздавать последние конвертов $5$ разом, чтобы в случае чего можно было бы их свапнуть. При этом, раздавая конверты, надо не забыть сохранить конфедициальность."
   ]
  }
 ],
 "metadata": {
  "kernelspec": {
   "display_name": "R",
   "language": "R",
   "name": "ir"
  },
  "language_info": {
   "codemirror_mode": "r",
   "file_extension": ".r",
   "mimetype": "text/x-r-source",
   "name": "R",
   "pygments_lexer": "r",
   "version": "3.4.2"
  }
 },
 "nbformat": 4,
 "nbformat_minor": 2
}
