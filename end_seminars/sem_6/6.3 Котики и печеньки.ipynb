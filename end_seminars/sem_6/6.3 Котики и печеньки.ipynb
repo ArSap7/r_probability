{
 "cells": [
  {
   "cell_type": "markdown",
   "metadata": {},
   "source": [
    "<img src=\" \" height=\"300\" width=\"300\"> \n",
    "\n",
    "# <center> R для тервера и матстата. <br>  <br> 6.2 Проверка гипотез. Поющие коты и AБ-тесты. </center>\n",
    "\n",
    "Данный ноутбук является конспектом по курсу «R для теории вероятностей и математической статистики» (РАНХиГС, 2017-2018). Автор ноутбука [вот этот парень по имени Филипп.](https://vk.com/ppilif) Если у вас для него есть деньги, слава или женщины, он от этого всего не откажется. Ноутбук распространяется на условиях лицензии [Creative Commons Attribution-Share Alike 4.0.](https://creativecommons.org/licenses/by-sa/4.0/) При использовании обязательно упоминание автора курса и аффилиации. При наличии технической возможности необходимо также указать активную гиперссылку на [страницу курса.](https://fulyankin.github.io/R_probability/) На ней можно найти другие материалы. Фрагменты кода, включенные в этот notebook, публикуются как [общественное достояние.](https://creativecommons.org/publicdomain/zero/1.0/)\n",
    "\n",
    "---------\n",
    "\n",
    "В этой тетрадке мы посмотрим чего эдакого рисёрчеры в крупных компаниях проверяют на ежедневной основе. Делать это мы будем на примере поющих котов."
   ]
  },
  {
   "cell_type": "markdown",
   "metadata": {},
   "source": [
    "## 1. В целом про АБ-тесты\n",
    "\n",
    "Этот параграф писался на основе [вот этой виньетки.](https://yadi.sk/i/FlQe3QHt3WiYyp)"
   ]
  },
  {
   "cell_type": "markdown",
   "metadata": {},
   "source": [
    "Во всех сферах бизнеса постоянно требуется улучшать его ключевые показатели. Идеи улучшения могут быть совершенно разными. Обычно их очень много. Хочется проверить какие из них будут работать, а какие нет. Тестировать идеи нужно на реальных пользователях. Выделяется группа пользователей, которой показывается некоторое новшество. Когда наберётся достаточно информации, проверяется гипотеза об улучшении ключевой метрики. Схема такой проверки называется A/Б-тестом. \n",
    "\n",
    "### Что за улучшение и метрики\n",
    "\n",
    "Итак, мы придумали идею, которая должна улучшить мир. Чтобы сделать вывод реально ли улучшает наша идея мир, мы должны выбрать какой-то показатель и посмотреть вырастет он или упадёт. Такие показатели называются метриками. Чаще всего при проведении А/Б-теста мы пытаемся понять улучшилось ли состояние бизнеса и поэтому используем метрики, связанные с деньгами. \n",
    "\n",
    "Например, увеличились ли продажи, когда мы изменили алгоритм рекомендации товаров. Стали ли люди донатить больше денег, когда мы усложнили прохождение уровня в игре. Выросли ли продажи, когда мы провели маркетинговую компанию и тп. \n",
    "\n",
    "Метрики, связанные с деньгами бывают очень грубыми. Они могут слабо реагировать на небольшие изменения или после внесения изменений может потребоваться очень много времени, чтобы измерить их. Из-за этого часто используют промежуточные метрики, который, с одной стороны достаточно чувствительны к изменениям, а с другой, хорошо согласуются с бизнес-показателями, которые в реальности требуется измерить. Например, при внесении изменений на сайт с арендой квартир в качестве такой метрики можно взять \"среднее количество визитов на сайт в день\" или \"среднее число уникальных пользователей\" или \"количество репостов сайта в социальных сетях\".\n",
    "\n",
    "### Где используются А/Б тесты \n",
    "\n",
    "* Любые сайты, независимо от их профиля, используют механизм A/Б-тестирования для принятия решения о внесении каких-то изменений. Аналогично тестируются любые изменения дизайна или функциональности в приложениях или играх. \n",
    "* Работоспособность лекарств. Тех, кто согласен принять участие в тесте, делят на две части. Одной дают плацебо, другой реальное лекарство. После смотрят какая доля людей в обеих группах поправилась и делают выводы об эффективности.\n",
    "* Перед тем как автоматизировать какой-то процесс с помощью алгоритма машинного обучения, всегда проверяется с помощью А/Б-теста будет ли он работать в реальности лучше, чем человек. \n",
    "* А/Б-тестирование встречается и в довольно неожиданных местах. При правительствах США и Великобритани есть небольшие группы, которые совместно с психологами-бихевиористами выдвигают гипотезы о том, как люди взаимодействуют с государством, и на основании таких гипотез проводятся эксперименты: например, небольшие изменения в дизайне налоговой формы, или изменения в способе записи на донорство или трансплантацию органов. Такие вещи, которые легко и очень дешево можно поменять, оказывается, приводят к тому, что государство может сэкономить миллионы.\n",
    "\n",
    "\n",
    "### Кекс про кока-колу\n",
    "\n",
    "Компания, выпускающая колу решила протестировать как повлияет на продажи увеличение количества сахара в напитке. Для этого была собрана фокус-группа, которой предложили на выбор два напитка: со стандартным содержанием сахара и увеличенным. Людям нужно было попробовать оба и выбрать тот, который им больше понравился. В результате этого исследования выяснилось, что большее количество людей предпочитает Кока-Колу с увеличенным количеством сахара. Было решено увеличить количество сахара в напитке для более широкой аудитории. Неожиданно продажи упали. __Вопрос:__ что пошло не так? \n",
    "\n",
    "__Ответ:__ Эксперты стали разбираться почему так произошло, ведь в рамках фокус-группы было показано, что больше сахара — это вкуснее. Выяснилось, что это исследование проходило не в тех самых условиях, в которых люди обычно пьют Кока-Колу. Если речь идёт всего лишь об одном стакане, то, действительно, людям нравится большее количество сахара. Однако если напиток употребляется постоянно в больших количествах, то больше сахара — хуже. Кажется, что это логично: сложно выпить большое количество очень сладкого напитка. Поэтому, когда проводятся исследования на фокус-группах, нужно следить за тем, чтобы условия были максимально приближены к настоящим.\n",
    "\n",
    "__Мораль:__ любые исследования, которые проводятся в реальности стоят денег и могут привести к потерям. Тестирование идей должно происходить в максимально приближённых к реальности условиях.\n",
    "\n",
    "\n",
    "### Подводные камни\n",
    "\n",
    "В целом, процесс A/Б-тестирования распадается на две большие части. Первая часть — это планирование эксперимента: как именно будет выглядеть A/Б-тест, как пользователей будут делить на группы, сколько будет длиться тест и многие другие вопросы, связанные с этим. Вторая часть — это непосредственно проверка гипотез, принятие решения о том, положительно или отрицательно влияют изменения на бизнес в целом. На этапе дизайна возникает огромное количество проблем. \n",
    "\n",
    "Мы уже обсудили первый подводный камень: любые изменения должны тестироваться в максимально приближенных к реальности условиях. Иначе можно потерпеть фиаско аналогичное Кока-Коле. \n",
    "\n",
    "Есть и другие проблемы. Например, всегда хочется как можно меньше времени тратить на эксперименты и проверить много идей сразу. В такой ситуации будет сложно понять какое именно изменение привело к улучшению. Нужно следить, чтобы один и тот же пользователь не попал сразу в несколько экспериментальных групп. \n",
    "\n",
    "Более того, может оказаться, что изменения взаимоуничтожают друг-друга. Одно улучшает метрики, второе всё портит. Если проводится много экспериментов сразу, нужно следить за тем, чтобы они не противоречили друг-другу. Например, известна история о том, как Google тестировал 41 оттенок синего в цвете ссылок в поисковой выдаче. Если допустить, что одновременно еще проводился бы эксперимент о том, как выбрать цвет страницы или цвет, на фоне которого показываются эти ссылки, очевидно, что они не должны быть тех же самых цветов, что и текст ссылок, иначе пользователь просто не сможет ничего прочитать. То есть пример подбора одновременно цвета текста и цвета фона, на котором он показывается, — это пример экспериментов, которые друг с другом не сочетаются.\n",
    "\n",
    "Для проведения эксперимента требуется небольшая группа пользователей, которой будут показаны изменения. Для того, чтобы результаты, полученные на этой группе, можно было обобщить на всю выборку, она должна быть репрезентативной. Мы уже обсуждали до этого чем череваты проблемы с выборками в плане оценок параметров. Те же проблемы всплывают и тут. С одной стороны экспериментальная группа должна быть рандомизирована. С другой стороны в ней должна быть сохранена стратификация. Так, если известно, что 2/3 пользователей продукта - женщины, то в экспериментальной группе должно быть 2/3 женщин. При дизайне эксперимента между двумя этими вещами должен быть сохранён баланс. При этом не стоит забывать про закон больших чисел. Если в выборке довольно много людей, то, скорее всего, она охватит все страты в нужных пропрорциях. \n",
    "\n",
    "Эксперимент может ставиться на одних и тех же пользователях. Может оказаться важным как один и тот же пользователь реагирует на товар без изменений и с изменениями. Как вы помните, такие выборки называются связными. Возможно, что важен порядок предъевляемых изменений. Для того, чтобы понять влияние порядка изменений, можно попробовать использовать дизайн крест-накрест: половине пользователей показать сначала новый вариант, потом - старый, а другой половине - наоборот. \n",
    "\n",
    "Можно увидеть изменения там, где их нет. Например, если произошла выкатка на сайт новой кнопки, пользователи могут начать тыкать на неё из-за того, что они удивились новому изменению и хотят проверить что произойдёт. Мы при этом можем обрадоваться тому, что количество кликов увеличилось и решить, что это принесёт нам денег. Такую штуку можно детектировать с помощью обратного эксперимента. Пусть мы выкатили новую версию кнопки. Она показала себя лучше. Давайте расширим её до более большого числа пользователей, но при этом какой-то узкой группе людей продолжим показывать старую версию. Когда ажиотаж из-за любопытства стихнет, мы сможем удостовериться, что число кликов выросло из-за дизайна, проведя на длинном горизонте повторный А/Б-тест. \n",
    "\n",
    "Как мы с вами только что убедились, при проверке гипотез можно встреться с подводными камнями вообще везде. Иногда для того, чтобы определить насколько хорошим получился дизайн эксперимента, используют А/А-тест. Технология такого тестированя работает следующим образом: пользователей делят на две группы в соответствии с дизайном и показывают обеим группам старый вариант. Далее проверяют гипотезу о том, что метрики в группах совпадают. Если гипотеза не отвергается, всё круто. Если видны значимые изменения в метриках, у нашего дизайна есть проблемы. "
   ]
  },
  {
   "cell_type": "markdown",
   "metadata": {},
   "source": [
    "### Размер выборки \n",
    "\n",
    "Итак, дизайн эксперимента разработан, метрики выбраны. Вся экспериментальная структура устойчива и готова к пуску эксеримента. Осталось только решить сколько человек брать в выборку и как долго тест должен длиться. \n",
    "\n",
    "Задача определения объёма выборки тесто связана с тем, какой именно статистический инструмент будет использоваться для тестирования. Для каждого критерия подбор объёма осуществляется своим способом.\n",
    "\n",
    "Обычно, нужно понять какой минимальный размер эффекта мы хотим детектировать. Далее мы должны выбрать уровень значимости и размер ошибки второго рода. Далее, если взять статистический критерий и выразить из него величину $n$, можно понять при каких объёмах выборки этот размер будет улавливаться как значимый. Для различных критериев существуют калькуляторы мощности, в которые можно внести зафиксированные величины и получить на выход неизвестные. "
   ]
  },
  {
   "cell_type": "markdown",
   "metadata": {},
   "source": [
    "## 2. О котах и печеньках \n",
    "\n",
    "Давайте посмотрим на данные одной мобильной игрушки под названием \"Cookie Cats\", разработанной компанией <a href=\"http://tactile.dk\">Tactile Entertainment</a>. Это стандартный match-three пазл, где игрокам нужно соединять элементы одинаковых цветов, чтобы очистить поле и выиграть на уровне. И еще там есть поющие коты. Это важно. \n",
    "\n",
    "<p><a href=\"https://youtu.be/GaP5f0jVTWE\"><img src=\"https://s3.amazonaws.com/assets.datacamp.com/production/project_184/img/cookie_cats_video.jpeg\" style=\"width: 500px\"></a></p>\n",
    "\n",
    "По мере того, как игроки проходят уровни, они встречают ворота-блокеры, которые вынуждают их либо ждать длительное время, либо совершить внутриигровую покупку, чтобы продолжить играть. Помимо того, что эти ворота приносят разработчикам деньги от покупок, они еще и вынуждают игроков делать перерыв, в надежде на то, что те вернутся с новыми силами и снова начнут получать удовольствие от котиков. \n",
    "\n",
    "<p><img src=\"https://s3.amazonaws.com/assets.datacamp.com/production/project_184/img/cc_gates.png\" alt=\"\"></p>\n",
    "\n",
    "Но возникает вопрос - когда и где ставить эти ворота? Изначально первые ворота стояли на 30-м уровне игры, однако в этом ноутбуке мы будем анализировать АБ-тест, в котором разработчики передвинули ворота на 40-й уровень. В частности мы будем смотреть влияние этого изменения на такой важный показатель как \"retention\" или удержание игроков, который расчитывается как отношение уникальных игроков, зашедших в игру на 1-й, 2-й, ... N-й день после установки ко всем игрокам, установившим приложение в этот день.  Данные можно скачать по [ссылке.](https://yadi.sk/i/3KxFDTIT3WiZ3Q)"
   ]
  },
  {
   "cell_type": "code",
   "execution_count": 3,
   "metadata": {},
   "outputs": [
    {
     "data": {
      "text/html": [
       "<table>\n",
       "<thead><tr><th scope=col>userid</th><th scope=col>version</th><th scope=col>sum_gamerounds</th><th scope=col>retention_1</th><th scope=col>retention_7</th></tr></thead>\n",
       "<tbody>\n",
       "\t<tr><td>116    </td><td>gate_30</td><td>  3    </td><td>FALSE  </td><td>FALSE  </td></tr>\n",
       "\t<tr><td>337    </td><td>gate_30</td><td> 38    </td><td> TRUE  </td><td>FALSE  </td></tr>\n",
       "\t<tr><td>377    </td><td>gate_40</td><td>165    </td><td> TRUE  </td><td>FALSE  </td></tr>\n",
       "\t<tr><td>483    </td><td>gate_40</td><td>  1    </td><td>FALSE  </td><td>FALSE  </td></tr>\n",
       "\t<tr><td>488    </td><td>gate_40</td><td>179    </td><td> TRUE  </td><td> TRUE  </td></tr>\n",
       "</tbody>\n",
       "</table>\n"
      ],
      "text/latex": [
       "\\begin{tabular}{r|lllll}\n",
       " userid & version & sum\\_gamerounds & retention\\_1 & retention\\_7\\\\\n",
       "\\hline\n",
       "\t 116       & gate\\_30 &   3       & FALSE     & FALSE    \\\\\n",
       "\t 337       & gate\\_30 &  38       &  TRUE     & FALSE    \\\\\n",
       "\t 377       & gate\\_40 & 165       &  TRUE     & FALSE    \\\\\n",
       "\t 483       & gate\\_40 &   1       & FALSE     & FALSE    \\\\\n",
       "\t 488       & gate\\_40 & 179       &  TRUE     &  TRUE    \\\\\n",
       "\\end{tabular}\n"
      ],
      "text/markdown": [
       "\n",
       "userid | version | sum_gamerounds | retention_1 | retention_7 | \n",
       "|---|---|---|---|---|\n",
       "| 116     | gate_30 |   3     | FALSE   | FALSE   | \n",
       "| 337     | gate_30 |  38     |  TRUE   | FALSE   | \n",
       "| 377     | gate_40 | 165     |  TRUE   | FALSE   | \n",
       "| 483     | gate_40 |   1     | FALSE   | FALSE   | \n",
       "| 488     | gate_40 | 179     |  TRUE   |  TRUE   | \n",
       "\n",
       "\n"
      ],
      "text/plain": [
       "  userid version sum_gamerounds retention_1 retention_7\n",
       "1 116    gate_30   3            FALSE       FALSE      \n",
       "2 337    gate_30  38             TRUE       FALSE      \n",
       "3 377    gate_40 165             TRUE       FALSE      \n",
       "4 483    gate_40   1            FALSE       FALSE      \n",
       "5 488    gate_40 179             TRUE        TRUE      "
      ]
     },
     "metadata": {},
     "output_type": "display_data"
    }
   ],
   "source": [
    "library('dplyr')  # библиотека для работы с таблицами\n",
    "\n",
    "# Загружаем табличку с данными \n",
    "df = read.csv('/Users/fulyankin/Yandex.Disk.localized/R/R_prob_data/cookie_cats.csv', sep=',', dec='.',\n",
    "               colClasses=c(\"retention_1\"='logical',\"retention_7\"='logical'))\n",
    "\n",
    "head(df, 5)  # шапка таблицы"
   ]
  },
  {
   "cell_type": "code",
   "execution_count": 4,
   "metadata": {},
   "outputs": [
    {
     "data": {
      "text/html": [
       "<ol class=list-inline>\n",
       "\t<li>90189</li>\n",
       "\t<li>5</li>\n",
       "</ol>\n"
      ],
      "text/latex": [
       "\\begin{enumerate*}\n",
       "\\item 90189\n",
       "\\item 5\n",
       "\\end{enumerate*}\n"
      ],
      "text/markdown": [
       "1. 90189\n",
       "2. 5\n",
       "\n",
       "\n"
      ],
      "text/plain": [
       "[1] 90189     5"
      ]
     },
     "metadata": {},
     "output_type": "display_data"
    }
   ],
   "source": [
    "dim(df)   # размер таблицы"
   ]
  },
  {
   "cell_type": "markdown",
   "metadata": {},
   "source": [
    "## 3. Данные для АБ-теста\n",
    "\n",
    "Итак, собраны данные по 90189 игрокам, которые установили игру во время запущенного теста. У нас есть следующие переменные:\n",
    "\n",
    "<ul>\n",
    "<li><code>userid</code> - уникальный номер, идентифицирующий каждого игрока.</li>\n",
    "<li><code>version</code> - был ли пользователь отнесен к контрольной группе (<code>gate_30</code> - ворота на 30-м уровне) или к тестовой (<code>gate_40</code> - ворота на 40-м уровне).</li>\n",
    "<li><code>sum_gamerounds</code> - число сессий, сыгранных игроком в течение первых 14 дней после установки игры.</li>\n",
    "<li><code>retention_1</code> - вернулся ли игрок после <strong>первого</strong> дня с момента установки?</li>\n",
    "<li><code>retention_7</code> - вернулся ли игрок после <strong>седьмого</strong> дня с момента установки?</li>\n",
    "</ul>\n",
    "\n",
    "Когда игрок устанавливает игру, он/она случайным образом относятся либо к группе gate_30, либо gate_40. На всякий случай, давайте проверим, действительно ли их примерно поровну в каждой из группу."
   ]
  },
  {
   "cell_type": "code",
   "execution_count": 5,
   "metadata": {},
   "outputs": [
    {
     "data": {
      "text/html": [
       "<table>\n",
       "<thead><tr><th scope=col>version</th><th scope=col>n</th></tr></thead>\n",
       "<tbody>\n",
       "\t<tr><td>gate_30</td><td>44700  </td></tr>\n",
       "\t<tr><td>gate_40</td><td>45489  </td></tr>\n",
       "</tbody>\n",
       "</table>\n"
      ],
      "text/latex": [
       "\\begin{tabular}{r|ll}\n",
       " version & n\\\\\n",
       "\\hline\n",
       "\t gate\\_30 & 44700    \\\\\n",
       "\t gate\\_40 & 45489    \\\\\n",
       "\\end{tabular}\n"
      ],
      "text/markdown": [
       "\n",
       "version | n | \n",
       "|---|---|\n",
       "| gate_30 | 44700   | \n",
       "| gate_40 | 45489   | \n",
       "\n",
       "\n"
      ],
      "text/plain": [
       "  version n    \n",
       "1 gate_30 44700\n",
       "2 gate_40 45489"
      ]
     },
     "metadata": {},
     "output_type": "display_data"
    }
   ],
   "source": [
    "df %>% group_by(version) %>% summarise(n = n())"
   ]
  },
  {
   "cell_type": "markdown",
   "metadata": {},
   "source": [
    "## 4. Распределение числа игровых сессий\n",
    "<p><img src=\"https://s3.amazonaws.com/assets.datacamp.com/production/project_184/img/mr_waffles_smiling.png\" style=\"width:200px; float:left\"> </p>\n",
    "<p>Похоже, что игроков действительно примерно поровну в каждой из групп, отлично!</p>\n",
    "<p>Фокус нашего анализа будет сосредоточен на удержании игроков (retention), но ради интереса давайте построим распределение числа игровых сессий, сыгранных игроками в течение их первой недели жизни в игре.</p>"
   ]
  },
  {
   "cell_type": "code",
   "execution_count": 6,
   "metadata": {},
   "outputs": [
    {
     "data": {
      "text/html": [
       "<table>\n",
       "<thead><tr><th scope=col>sum_gamerounds</th><th scope=col>number_of_players</th></tr></thead>\n",
       "<tbody>\n",
       "\t<tr><td>0   </td><td>3994</td></tr>\n",
       "\t<tr><td>1   </td><td>5538</td></tr>\n",
       "\t<tr><td>2   </td><td>4606</td></tr>\n",
       "\t<tr><td>3   </td><td>3958</td></tr>\n",
       "\t<tr><td>4   </td><td>3629</td></tr>\n",
       "</tbody>\n",
       "</table>\n"
      ],
      "text/latex": [
       "\\begin{tabular}{r|ll}\n",
       " sum\\_gamerounds & number\\_of\\_players\\\\\n",
       "\\hline\n",
       "\t 0    & 3994\\\\\n",
       "\t 1    & 5538\\\\\n",
       "\t 2    & 4606\\\\\n",
       "\t 3    & 3958\\\\\n",
       "\t 4    & 3629\\\\\n",
       "\\end{tabular}\n"
      ],
      "text/markdown": [
       "\n",
       "sum_gamerounds | number_of_players | \n",
       "|---|---|---|---|---|\n",
       "| 0    | 3994 | \n",
       "| 1    | 5538 | \n",
       "| 2    | 4606 | \n",
       "| 3    | 3958 | \n",
       "| 4    | 3629 | \n",
       "\n",
       "\n"
      ],
      "text/plain": [
       "  sum_gamerounds number_of_players\n",
       "1 0              3994             \n",
       "2 1              5538             \n",
       "3 2              4606             \n",
       "4 3              3958             \n",
       "5 4              3629             "
      ]
     },
     "metadata": {},
     "output_type": "display_data"
    }
   ],
   "source": [
    "library('ggplot2')  # Пакет для картинок\n",
    "\n",
    "# Подсчитываем число людей, сыгравших каждое количество раундов\n",
    "plot_df = df %>% group_by(sum_gamerounds) %>% summarise(number_of_players = n())\n",
    "\n",
    "head(plot_df,5)"
   ]
  },
  {
   "cell_type": "code",
   "execution_count": 7,
   "metadata": {},
   "outputs": [
    {
     "data": {},
     "metadata": {},
     "output_type": "display_data"
    },
    {
     "data": {
      "image/png": "[encoded data removed]",
      "text/plain": [
       "plot without title"
      ]
     },
     "metadata": {},
     "output_type": "display_data"
    }
   ],
   "source": [
    "# Рисуем распределение этих людей \n",
    "options(repr.plot.width=6, repr.plot.height=3)\n",
    "\n",
    "ggplot(plot_df[1:100,], aes(x=sum_gamerounds, y=number_of_players))+\n",
    "    geom_line()"
   ]
  },
  {
   "cell_type": "markdown",
   "metadata": {},
   "source": [
    "## 5. Общее удержание первого дня (1-day retention)\n",
    "<p>На графике вверху мы видим, что некоторые игроки установили игру, но даже ни разу не поиграли (0 сессий), многие игроки закончили лишь пару сессий за первую неделю, а некоторые действительно подсели и сыграли более 80 раз!</p>\n",
    "<p>Конечно, мы хотим, чтобы игроки были заинтересованы в игрушке и возвращались в неё снова и снова. Обычная метрика, использующаяся в гейм-индустрии, чтобы измерить, насколько игрушка веселая и захватывающая, - это <em>удержание первого дня</em> (1-day retention): Процент игроков, которые вренулись и снова стали играть спустя 1 день после установки. Чем выше удержание первого дня, тем проще и дальше удерживать пользователей и строить себе большую базу фанатов.</p>\n",
    "<p>В качестве первого шага, давайте посмотрим, как в целом выглядит 1-day retention.</p>"
   ]
  },
  {
   "cell_type": "code",
   "execution_count": 8,
   "metadata": {},
   "outputs": [
    {
     "data": {
      "text/html": [
       "0.445209504485026"
      ],
      "text/latex": [
       "0.445209504485026"
      ],
      "text/markdown": [
       "0.445209504485026"
      ],
      "text/plain": [
       "[1] 0.4452095"
      ]
     },
     "metadata": {},
     "output_type": "display_data"
    }
   ],
   "source": [
    "mean(df$retention_1)"
   ]
  },
  {
   "cell_type": "markdown",
   "metadata": {},
   "source": [
    "## 6. 1-day retention по АБ-группам \n",
    "<p><img src=\"https://s3.amazonaws.com/assets.datacamp.com/production/project_184/img/belle_cookie.png\" style=\"width:200px; float:right\"> </p>\n",
    "<p>Итак, немногим меьше половины всех игроков возвращяются к нам спустя один день после установки. Теперь давайте посмотрим, как отличается 1-day retention внутри наших тестовых групп.</p>"
   ]
  },
  {
   "cell_type": "code",
   "execution_count": 9,
   "metadata": {},
   "outputs": [
    {
     "data": {
      "text/html": [
       "<table>\n",
       "<thead><tr><th scope=col>version</th><th scope=col>mean(retention_1)</th></tr></thead>\n",
       "<tbody>\n",
       "\t<tr><td>gate_30  </td><td>0.4481879</td></tr>\n",
       "\t<tr><td>gate_40  </td><td>0.4422827</td></tr>\n",
       "</tbody>\n",
       "</table>\n"
      ],
      "text/latex": [
       "\\begin{tabular}{r|ll}\n",
       " version & mean(retention\\_1)\\\\\n",
       "\\hline\n",
       "\t gate\\_30 & 0.4481879\\\\\n",
       "\t gate\\_40 & 0.4422827\\\\\n",
       "\\end{tabular}\n"
      ],
      "text/markdown": [
       "\n",
       "version | mean(retention_1) | \n",
       "|---|---|\n",
       "| gate_30   | 0.4481879 | \n",
       "| gate_40   | 0.4422827 | \n",
       "\n",
       "\n"
      ],
      "text/plain": [
       "  version mean(retention_1)\n",
       "1 gate_30 0.4481879        \n",
       "2 gate_40 0.4422827        "
      ]
     },
     "metadata": {},
     "output_type": "display_data"
    }
   ],
   "source": [
    "df %>% group_by(version) %>% summarise(mean(retention_1))"
   ]
  },
  {
   "cell_type": "markdown",
   "metadata": {},
   "source": [
    "## 7. Должны ли мы быть уверены в разнице? \n",
    "<p>Похоже, что у нас есть небольшое ухудшение в удержании первого дня, если мы двигаем ворота к сороковому уровню (44.2%) в сравнеии с контрольной группой, где ворота остались на 30-м уровне (44.8%). Разница, конечно, невелика, но даже маленькие изменений в удержании могут иметь значительные последствия. Однако сейчас мы уверены, что различие есть в наблюдаемых данных, а будет ли вариант с воротами на сороковом уровне хуже в будущем?</p>\n",
    "<p>Есть несколько способов оценки нашей уверенности в наблюдаемых цифрах. \n",
    "Здесь мы попробуем воспользоваться $z$-критерием для проверки гипотезы о равенстве долей, а также бустрапом (bootstrap).  Бутсрап подразумевает, что мы будем последовательно ресэмплить с возвращением наш датасет (то есть выбирать случайную подвыборку из всего множества наблюдений) и для каждой выборки считать удержание первого дня. Дисперсия нашего 1-day retention при таком способе вычисления даст нам указание на то, насколько мы должны быть неуверены в оценках нашего удержания.</p>"
   ]
  },
  {
   "cell_type": "code",
   "execution_count": 10,
   "metadata": {},
   "outputs": [],
   "source": [
    "iterations = 500 # число итераций"
   ]
  },
  {
   "cell_type": "code",
   "execution_count": 11,
   "metadata": {},
   "outputs": [
    {
     "data": {
      "text/html": [
       "<table>\n",
       "<thead><tr><th scope=col>gate_30_mean</th><th scope=col>gate_40_mean</th></tr></thead>\n",
       "<tbody>\n",
       "\t<tr><td>0.4511725</td><td>0.4379922</td></tr>\n",
       "\t<tr><td>0.4468566</td><td>0.4392336</td></tr>\n",
       "\t<tr><td>0.4486125</td><td>0.4418851</td></tr>\n",
       "\t<tr><td>0.4467628</td><td>0.4461677</td></tr>\n",
       "\t<tr><td>0.4453667</td><td>0.4446114</td></tr>\n",
       "\t<tr><td>0.4476762</td><td>0.4437294</td></tr>\n",
       "</tbody>\n",
       "</table>\n"
      ],
      "text/latex": [
       "\\begin{tabular}{r|ll}\n",
       " gate\\_30\\_mean & gate\\_40\\_mean\\\\\n",
       "\\hline\n",
       "\t 0.4511725 & 0.4379922\\\\\n",
       "\t 0.4468566 & 0.4392336\\\\\n",
       "\t 0.4486125 & 0.4418851\\\\\n",
       "\t 0.4467628 & 0.4461677\\\\\n",
       "\t 0.4453667 & 0.4446114\\\\\n",
       "\t 0.4476762 & 0.4437294\\\\\n",
       "\\end{tabular}\n"
      ],
      "text/markdown": [
       "\n",
       "gate_30_mean | gate_40_mean | \n",
       "|---|---|---|---|---|---|\n",
       "| 0.4511725 | 0.4379922 | \n",
       "| 0.4468566 | 0.4392336 | \n",
       "| 0.4486125 | 0.4418851 | \n",
       "| 0.4467628 | 0.4461677 | \n",
       "| 0.4453667 | 0.4446114 | \n",
       "| 0.4476762 | 0.4437294 | \n",
       "\n",
       "\n"
      ],
      "text/plain": [
       "  gate_30_mean gate_40_mean\n",
       "1 0.4511725    0.4379922   \n",
       "2 0.4468566    0.4392336   \n",
       "3 0.4486125    0.4418851   \n",
       "4 0.4467628    0.4461677   \n",
       "5 0.4453667    0.4446114   \n",
       "6 0.4476762    0.4437294   "
      ]
     },
     "metadata": {},
     "output_type": "display_data"
    }
   ],
   "source": [
    "boot_1d_30 = rep(0, iterations)  # вектор для средних по воротам на 30 уровне\n",
    "boot_1d_40 = rep(0, iterations)  # вектор для средних по воротам на 40 уровне\n",
    "\n",
    "for(i in 1:iterations){\n",
    "    # генерируем таблицу с повторениями соответствующую по размерам оригинальной\n",
    "    boot_mean = sample_n(df, size = dim(df)[1], replace=TRUE) %>% \n",
    "                    group_by(version) %>% summarise(mean = mean(retention_1))\n",
    "    \n",
    "    boot_1d_30[i] = boot_mean[1,2]$mean # считаем средние и записываем их в вектора\n",
    "    boot_1d_40[i] = boot_mean[2,2]$mean    \n",
    "}\n",
    "\n",
    "# строим общую табличку и смотрим на неё\n",
    "# в колонка таблицы лежат сбутстрапированные распределения для долей вернувшихся в игру с воротами \n",
    "# на разных уровнях\n",
    "plot_df = data.frame(gate_30_mean = boot_1d_30, gate_40_mean = boot_1d_40)\n",
    "head(plot_df)"
   ]
  },
  {
   "cell_type": "code",
   "execution_count": 12,
   "metadata": {},
   "outputs": [
    {
     "data": {},
     "metadata": {},
     "output_type": "display_data"
    },
    {
     "data": {
      "image/png": "[encoded data removed]",
      "text/plain": [
       "plot without title"
      ]
     },
     "metadata": {},
     "output_type": "display_data"
    }
   ],
   "source": [
    "ggplot(plot_df)+ \n",
    "    geom_density(aes(x=gate_30_mean, y=..density.., fill='gate_30'),alpha=0.4) +\n",
    "    geom_density(aes(x=gate_40_mean, y=..density.., fill='gate_40'),alpha=0.4)"
   ]
  },
  {
   "cell_type": "markdown",
   "metadata": {},
   "source": [
    "## 8. Смотрим на разницу поближе\n",
    "<p>Эти два распределения представляют собой оценку распределений 1-day retention для наших двух АБ-групп. Даже просто визуально понятно, что какое-то доказательство различия двух групп у нас есть. Посмотрим теперь подробнее на разницу в ретеншене у двух групп.</p>\n",
    "<p>(<em>Чтобы посчиталось быстрее число  итераций мы выбрали достаточно небольшим - всего 500 раз считаем средние по выборкам. В боевых условиях число было бы больше, например, 10 тысяч итераций. </em>)</p>"
   ]
  },
  {
   "cell_type": "code",
   "execution_count": 13,
   "metadata": {},
   "outputs": [
    {
     "data": {},
     "metadata": {},
     "output_type": "display_data"
    },
    {
     "data": {
      "image/png": "[encoded data removed]",
      "text/plain": [
       "plot without title"
      ]
     },
     "metadata": {},
     "output_type": "display_data"
    }
   ],
   "source": [
    "plot_df['diff'] = (plot_df$gate_30_mean - plot_df$gate_40_mean)/plot_df$gate_40_mean*100\n",
    "\n",
    "ggplot(plot_df)+ \n",
    "     geom_density(aes(x=diff, y=..density.., fill='diff'),alpha=0.4)"
   ]
  },
  {
   "cell_type": "markdown",
   "metadata": {},
   "source": [
    "## 9. Вероятность разницы\n",
    "<p><img src=\"https://s3.amazonaws.com/assets.datacamp.com/production/project_184/img/ziggy_smiling.png\" style=\"width:200px; float:left\"> </p>\n",
    "<p>Из этого графика мы видим, что наиболее вероятная разница составляет примерно 1%-2%, а большая часть распределения находится справа от нуля, то есть вариант с воротами на 30 уровне пока выигрывает. Но какова вероятность того, что эта разница больше 0%? Посчитаем и её тоже.</p>"
   ]
  },
  {
   "cell_type": "code",
   "execution_count": 14,
   "metadata": {},
   "outputs": [
    {
     "data": {
      "text/html": [
       "0.956"
      ],
      "text/latex": [
       "0.956"
      ],
      "text/markdown": [
       "0.956"
      ],
      "text/plain": [
       "[1] 0.956"
      ]
     },
     "metadata": {},
     "output_type": "display_data"
    }
   ],
   "source": [
    "mean(plot_df$diff > 0)"
   ]
  },
  {
   "cell_type": "markdown",
   "metadata": {},
   "source": [
    "## 10. 7-day retention по АБ-группам\n",
    "<p>Бутстрап-анализ свидетельствует о высокой вероятности того, что удержание первого дня лучше в группе с воротами на 30-м уровне, чем на 40-м. Однако, так как игроки успели пожить в игре всего один день, вполне возможно, что их большинство еще даже не дошли даже до 30-го уровня. А значит, многие игроки не будут затронуты нашим изменением и сильного эффекта мы не увидим.</p>\n",
    "<p>Однако спустя неделю после установки, уже больше игроков пройдут 40 уровней, поэтому имеет смысл посмотреть на удержание седьмого дня. Т.е., какой процент людей, установивших игру, снова показался в игре через 7 дней.</p>\n",
    "<p>Начнем с рассчета 7-day retention для двух АБ-групп.</p>"
   ]
  },
  {
   "cell_type": "code",
   "execution_count": 15,
   "metadata": {},
   "outputs": [
    {
     "data": {
      "text/html": [
       "<table>\n",
       "<thead><tr><th scope=col>version</th><th scope=col>mean(retention_7)</th></tr></thead>\n",
       "<tbody>\n",
       "\t<tr><td>gate_30  </td><td>0.1902013</td></tr>\n",
       "\t<tr><td>gate_40  </td><td>0.1820000</td></tr>\n",
       "</tbody>\n",
       "</table>\n"
      ],
      "text/latex": [
       "\\begin{tabular}{r|ll}\n",
       " version & mean(retention\\_7)\\\\\n",
       "\\hline\n",
       "\t gate\\_30 & 0.1902013\\\\\n",
       "\t gate\\_40 & 0.1820000\\\\\n",
       "\\end{tabular}\n"
      ],
      "text/markdown": [
       "\n",
       "version | mean(retention_7) | \n",
       "|---|---|\n",
       "| gate_30   | 0.1902013 | \n",
       "| gate_40   | 0.1820000 | \n",
       "\n",
       "\n"
      ],
      "text/plain": [
       "  version mean(retention_7)\n",
       "1 gate_30 0.1902013        \n",
       "2 gate_40 0.1820000        "
      ]
     },
     "metadata": {},
     "output_type": "display_data"
    }
   ],
   "source": [
    "df %>% group_by(version) %>% summarise(mean(retention_7))"
   ]
  },
  {
   "cell_type": "markdown",
   "metadata": {},
   "source": [
    "## 11. Снова бутстрапим разницу \n",
    "<p>Как и с 1-day retention, мы видим, что 7-day retention немного ниже (18.2%), когда ворота находятся на 40-м уровне, чем на 30-м (19.0%). Эта разница также выше, чем для удержания первого дня, скорее всего из-за того, что игроки имели больше времени на то, чтобы столкнуться с первыми воротами. Мы также видим, что удержание 7-го дня в целом ниже, чем удержание 1-го - спустя неделю намного меньше людей всё ещё заходит в игру.<p>Но как и раньше, давайте применим бутстрап анализ и выясним, насколько уверены мы должны быть в разнице между двумя АБ-группами.</p>"
   ]
  },
  {
   "cell_type": "code",
   "execution_count": 16,
   "metadata": {},
   "outputs": [
    {
     "data": {
      "text/html": [
       "<table>\n",
       "<thead><tr><th scope=col>gate_30_mean</th><th scope=col>gate_40_mean</th></tr></thead>\n",
       "<tbody>\n",
       "\t<tr><td>0.1898322</td><td>0.1799632</td></tr>\n",
       "\t<tr><td>0.1898799</td><td>0.1842500</td></tr>\n",
       "\t<tr><td>0.1943012</td><td>0.1824568</td></tr>\n",
       "\t<tr><td>0.1902426</td><td>0.1808297</td></tr>\n",
       "\t<tr><td>0.1891226</td><td>0.1828430</td></tr>\n",
       "\t<tr><td>0.1900943</td><td>0.1822900</td></tr>\n",
       "</tbody>\n",
       "</table>\n"
      ],
      "text/latex": [
       "\\begin{tabular}{r|ll}\n",
       " gate\\_30\\_mean & gate\\_40\\_mean\\\\\n",
       "\\hline\n",
       "\t 0.1898322 & 0.1799632\\\\\n",
       "\t 0.1898799 & 0.1842500\\\\\n",
       "\t 0.1943012 & 0.1824568\\\\\n",
       "\t 0.1902426 & 0.1808297\\\\\n",
       "\t 0.1891226 & 0.1828430\\\\\n",
       "\t 0.1900943 & 0.1822900\\\\\n",
       "\\end{tabular}\n"
      ],
      "text/markdown": [
       "\n",
       "gate_30_mean | gate_40_mean | \n",
       "|---|---|---|---|---|---|\n",
       "| 0.1898322 | 0.1799632 | \n",
       "| 0.1898799 | 0.1842500 | \n",
       "| 0.1943012 | 0.1824568 | \n",
       "| 0.1902426 | 0.1808297 | \n",
       "| 0.1891226 | 0.1828430 | \n",
       "| 0.1900943 | 0.1822900 | \n",
       "\n",
       "\n"
      ],
      "text/plain": [
       "  gate_30_mean gate_40_mean\n",
       "1 0.1898322    0.1799632   \n",
       "2 0.1898799    0.1842500   \n",
       "3 0.1943012    0.1824568   \n",
       "4 0.1902426    0.1808297   \n",
       "5 0.1891226    0.1828430   \n",
       "6 0.1900943    0.1822900   "
      ]
     },
     "metadata": {},
     "output_type": "display_data"
    }
   ],
   "source": [
    "boot_7d_30 = rep(0, iterations)\n",
    "boot_7d_40 = rep(0, iterations)\n",
    "\n",
    "for(i in 1:iterations){\n",
    "    boot_mean = sample_n(df, size = dim(df)[1], replace=TRUE)%>% group_by(version) %>% summarise(mean = mean(retention_7))\n",
    "    boot_7d_30[i] = boot_mean[1,2]$mean\n",
    "    boot_7d_40[i] = boot_mean[2,2]$mean    \n",
    "}\n",
    "\n",
    "plot_df7 = data.frame(gate_30_mean = boot_7d_30, gate_40_mean = boot_7d_40)\n",
    "head(plot_df7)"
   ]
  },
  {
   "cell_type": "code",
   "execution_count": 17,
   "metadata": {},
   "outputs": [
    {
     "data": {},
     "metadata": {},
     "output_type": "display_data"
    },
    {
     "data": {
      "image/png": "[encoded data removed]",
      "text/plain": [
       "plot without title"
      ]
     },
     "metadata": {},
     "output_type": "display_data"
    }
   ],
   "source": [
    "plot_df7['diff'] = (plot_df7$gate_30_mean - plot_df7$gate_40_mean)/plot_df7$gate_40_mean*100\n",
    "\n",
    "ggplot(plot_df7)+ \n",
    "     geom_density(aes(x=diff, y=..density.., fill='diff'),alpha=0.4)"
   ]
  },
  {
   "cell_type": "code",
   "execution_count": 18,
   "metadata": {},
   "outputs": [
    {
     "data": {
      "text/html": [
       "1"
      ],
      "text/latex": [
       "1"
      ],
      "text/markdown": [
       "1"
      ],
      "text/plain": [
       "[1] 1"
      ]
     },
     "metadata": {},
     "output_type": "display_data"
    }
   ],
   "source": [
    "mean(plot_df7$diff > 0)"
   ]
  },
  {
   "cell_type": "markdown",
   "metadata": {},
   "source": [
    "## 12.  Выводы\n",
    "<p>Итак, результаты бутстрапа говорят нам о том, что есть значительное доказательство превышения 7-day retentino в группе с воротами на 30-м уровне над группой с воротами на 40-м. Значит, если мы хотим держать ретеншн на высоком уровне и иметь большее число игроков, нам <strong>не нужно</strong> сдвигать ворота с 30-го на 40-й уровень.\n",
    "<p><img src=\"https://s3.amazonaws.com/assets.datacamp.com/production/project_184/img/cookie_yellow.png\" style=\"width:100px; float:center\"> </p>\n",
    "<p>Так почему же ретеншн выше, когда ворота расположены раньше? Логично было бы ожидать обратной ситуации - чем позже ставится препятствие, тем дольше игроки будут взаимодействовать с игрой. Однако это не то, что мы видим в данных. Теория гедонистической адаптации может помочь с объяснением. Если вкратце, гедонистическая адаптация - это тенденция получать всё меньше и меньше удовольствия от деятельности, если она продолжается длительное время. Заставляя игроков сделать паузу, когда они достигают 30-го уровня, мы продлеваем им удовольствие от игры, в результате чего они хотят в неё возвращаться. И напротив, сдвигая ворота к 40-му уровню мы даем игрокам возможность наиграться и просто заскучать.</p>"
   ]
  },
  {
   "cell_type": "markdown",
   "metadata": {},
   "source": [
    "## 13. Z-тест\n",
    "\n",
    "Бутсрап позволил нам посмотреть не просто на какие-то отдельные значения долей, он позволил нам намного большее, сымитировать распределение этих долей. Давайте попробуем воспользоваться здесь z-тестом для равенства долей. Будем проверять гипотезу о том, что 1-day retention с воротами на разных уровнях не отличаются друг от друга против альтернативы, что разичаются. Каких-то априорных мыслей о знаке отличия у нас не возникает, поэтому приходится рассматривать двустороннюю альтернативу."
   ]
  },
  {
   "cell_type": "code",
   "execution_count": 19,
   "metadata": {},
   "outputs": [
    {
     "data": {
      "text/html": [
       "<table>\n",
       "<thead><tr><th scope=col>version</th><th scope=col>m</th><th scope=col>n</th></tr></thead>\n",
       "<tbody>\n",
       "\t<tr><td>gate_30</td><td>20034  </td><td>44700  </td></tr>\n",
       "\t<tr><td>gate_40</td><td>20119  </td><td>45489  </td></tr>\n",
       "</tbody>\n",
       "</table>\n"
      ],
      "text/latex": [
       "\\begin{tabular}{r|lll}\n",
       " version & m & n\\\\\n",
       "\\hline\n",
       "\t gate\\_30 & 20034     & 44700    \\\\\n",
       "\t gate\\_40 & 20119     & 45489    \\\\\n",
       "\\end{tabular}\n"
      ],
      "text/markdown": [
       "\n",
       "version | m | n | \n",
       "|---|---|\n",
       "| gate_30 | 20034   | 44700   | \n",
       "| gate_40 | 20119   | 45489   | \n",
       "\n",
       "\n"
      ],
      "text/plain": [
       "  version m     n    \n",
       "1 gate_30 20034 44700\n",
       "2 gate_40 20119 45489"
      ]
     },
     "metadata": {},
     "output_type": "display_data"
    }
   ],
   "source": [
    "df_ex = df %>% group_by(version) %>% summarise(m = sum(retention_1),n = n())\n",
    "df_ex"
   ]
  },
  {
   "cell_type": "code",
   "execution_count": 20,
   "metadata": {},
   "outputs": [
    {
     "data": {
      "text/plain": [
       "\n",
       "\t2-sample test for equality of proportions without continuity\n",
       "\tcorrection\n",
       "\n",
       "data:  df_ex$m out of df_ex$n\n",
       "X-squared = 3.183, df = 1, p-value = 0.07441\n",
       "alternative hypothesis: two.sided\n",
       "95 percent confidence interval:\n",
       " -0.0005820999  0.0123924394\n",
       "sample estimates:\n",
       "   prop 1    prop 2 \n",
       "0.4481879 0.4422827 \n"
      ]
     },
     "metadata": {},
     "output_type": "display_data"
    }
   ],
   "source": [
    "test_res = prop.test(x = df_ex$m, n = df_ex$n, correct = FALSE)\n",
    "test_res"
   ]
  },
  {
   "cell_type": "markdown",
   "metadata": {},
   "source": [
    "Видим, что гипотеза о равенстве показателей при воротах на разных уровнях не отвергается на $5\\%$ уровне значимости. В первый день критерий не может обнаружить различий. Стоит обратить внимание, что в этом примере мы находимся на границе. "
   ]
  },
  {
   "cell_type": "code",
   "execution_count": 21,
   "metadata": {},
   "outputs": [
    {
     "data": {
      "text/html": [
       "<table>\n",
       "<thead><tr><th scope=col>version</th><th scope=col>m</th><th scope=col>n</th></tr></thead>\n",
       "<tbody>\n",
       "\t<tr><td>gate_30</td><td>8502   </td><td>44700  </td></tr>\n",
       "\t<tr><td>gate_40</td><td>8279   </td><td>45489  </td></tr>\n",
       "</tbody>\n",
       "</table>\n"
      ],
      "text/latex": [
       "\\begin{tabular}{r|lll}\n",
       " version & m & n\\\\\n",
       "\\hline\n",
       "\t gate\\_30 & 8502      & 44700    \\\\\n",
       "\t gate\\_40 & 8279      & 45489    \\\\\n",
       "\\end{tabular}\n"
      ],
      "text/markdown": [
       "\n",
       "version | m | n | \n",
       "|---|---|\n",
       "| gate_30 | 8502    | 44700   | \n",
       "| gate_40 | 8279    | 45489   | \n",
       "\n",
       "\n"
      ],
      "text/plain": [
       "  version m    n    \n",
       "1 gate_30 8502 44700\n",
       "2 gate_40 8279 45489"
      ]
     },
     "metadata": {},
     "output_type": "display_data"
    }
   ],
   "source": [
    "df_ex = df %>% group_by(version) %>% summarise(m = sum(retention_7),n = n())\n",
    "df_ex"
   ]
  },
  {
   "cell_type": "code",
   "execution_count": 22,
   "metadata": {},
   "outputs": [
    {
     "data": {
      "text/plain": [
       "\n",
       "\t2-sample test for equality of proportions without continuity\n",
       "\tcorrection\n",
       "\n",
       "data:  df_ex$m out of df_ex$n\n",
       "X-squared = 10.013, df = 1, p-value = 0.001554\n",
       "alternative hypothesis: two.sided\n",
       "95 percent confidence interval:\n",
       " 0.003121044 0.013281552\n",
       "sample estimates:\n",
       "   prop 1    prop 2 \n",
       "0.1902013 0.1820000 \n"
      ]
     },
     "metadata": {},
     "output_type": "display_data"
    }
   ],
   "source": [
    "test_res = prop.test(x = df_ex$m, n = df_ex$n, correct = FALSE)\n",
    "test_res"
   ]
  },
  {
   "cell_type": "markdown",
   "metadata": {},
   "source": [
    "На $7$ день различия начинают быть более существенными и гипотеза о равенстве отвергается, причём довольно уверенно отвергается."
   ]
  }
 ],
 "metadata": {
  "kernelspec": {
   "display_name": "R",
   "language": "R",
   "name": "ir"
  },
  "language_info": {
   "codemirror_mode": "r",
   "file_extension": ".r",
   "mimetype": "text/x-r-source",
   "name": "R",
   "pygments_lexer": "r",
   "version": "3.4.2"
  }
 },
 "nbformat": 4,
 "nbformat_minor": 2
}
