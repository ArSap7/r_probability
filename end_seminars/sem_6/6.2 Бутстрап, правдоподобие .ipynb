{
 "cells": [
  {
   "cell_type": "markdown",
   "metadata": {},
   "source": [
    "<img src=\" \" height=\"300\" width=\"300\"> \n",
    "\n",
    "# <center> R для тервера и матстата. <br>  <br> 6.2 Проверка гипотез. Бустрап и правдоподобие. </center>\n",
    "\n",
    "Данный ноутбук является конспектом по курсу «R для теории вероятностей и математической статистики» (РАНХиГС, 2017-2018). Автор ноутбука [вот этот парень по имени Филипп.](https://vk.com/ppilif) Если у вас для него есть деньги, слава или женщины, он от этого всего не откажется. Ноутбук распространяется на условиях лицензии [Creative Commons Attribution-Share Alike 4.0.](https://creativecommons.org/licenses/by-sa/4.0/) При использовании обязательно упоминание автора курса и аффилиации. При наличии технической возможности необходимо также указать активную гиперссылку на [страницу курса.](https://fulyankin.github.io/R_probability/) На ней можно найти другие материалы. Фрагменты кода, включенные в этот notebook, публикуются как [общественное достояние.](https://creativecommons.org/publicdomain/zero/1.0/)\n",
    "\n",
    "---------\n",
    "\n",
    "В прошлой тетрадке мы обсудили небольшое количество критериев для простых известных распределений. В мире осталось ещё куча неизведанного. И с этим неизведанным хочется расправляться одной левой. В этой тетрадке пойдёт речь о борьбе с неизвестностью. Будет затронуто три сюжета: "
   ]
  },
  {
   "cell_type": "markdown",
   "metadata": {},
   "source": [
    "# 1. Отношение правдоподобий \n",
    "\n",
    "Итак, есть небольшое количество простых известных распределений. \n",
    "\n",
    "\n",
    "\n",
    "\n",
    "И это можно. Оказыватеся, что  \n",
    "\n",
    "$$\n",
    "LR = 2\\cdot(\\ln L(\\hat \\theta_ML) - \\ln L(\\theta_0)) \\sim \\chi^2_q,\n",
    "$$\n",
    "\n",
    "где $q$ это количество ограничений. Проверка любой параметрической гипотезы благодаря методу максимального правдоподобия сводится к простому рецепту:\n",
    "\n",
    "1. Оцениваем модель без ограничений. \n",
    "2. Оцениваем модель с ограничением, которое на неё накладывает $H_0$.\n",
    "3. Смотрим как сильно отличаются правдоподобия. "
   ]
  },
  {
   "cell_type": "code",
   "execution_count": null,
   "metadata": {},
   "outputs": [],
   "source": []
  },
  {
   "cell_type": "code",
   "execution_count": null,
   "metadata": {},
   "outputs": [],
   "source": []
  },
  {
   "cell_type": "code",
   "execution_count": null,
   "metadata": {},
   "outputs": [],
   "source": []
  },
  {
   "cell_type": "code",
   "execution_count": null,
   "metadata": {},
   "outputs": [],
   "source": []
  },
  {
   "cell_type": "code",
   "execution_count": null,
   "metadata": {},
   "outputs": [],
   "source": []
  },
  {
   "cell_type": "code",
   "execution_count": null,
   "metadata": {},
   "outputs": [],
   "source": []
  },
  {
   "cell_type": "markdown",
   "metadata": {},
   "source": [
    "# 1. Бутсрап\n",
    "\n",
    "__Бутстрап__ - это метод оценки статистик сложных распределений. Часто возникает необходимость проверить гипотезу о какой-то очень неудобной статистике, распределение которой неизвестно или построить для неё доверительный интервал. \n",
    "\n",
    "Чтобы сделать это, надо придумать как распределение этой статистики получить. Мы с вами уже знаем два способа сделать это. \n",
    "\n",
    "Способ номер один называется параметрическим. Мы предполагаем, что генеральная совокупность имеет какое-то распределение. Мы можем даже проверить гипотезу об этом с помощью какого-нибудь критерия. После мы на основе этого распределения можем придумать адекватную случайную величину для проверки гипотезы. Именно так мы поступали раньше. Иногда такую случайную величину придумать сложно или вовсе невозможно. Например, поди придумай адекватный критерий для медианы или моды. К тому же не очень понятно из каких соображений выбирать семейство распределений для проверки гипотезы, так как про данные ничего неизвестно. \n",
    "\n",
    "Способ номер два говорит следущее: давайте извлечём из генеральной совокупности какое-то количество выборок, посчитаем по ним нашу статистику, для которой доверительный интервалы мы хотим получить, а потом оценим эмпирически её выборочное распределение и на его основе получим доверительные интервалы. Этот способ применим скорее в теории, чем на практике. Если мы можем генерировать бесконечное число выборок из генеральной совокупности, то для нас незатруднительно посчитать истиное значение интересующих нас параметров.  \n",
    "\n",
    "Второй способ подводит нас к идее бустрапа. В нашем распоряжении есть выборка. Давайте сделаем вид, что она и есть генеральная совокупность и будем извлекать из неё с повторением элементы. На основе получившихся подвыборок мы можем оценить всё, что нашей душе угодно. Поначалу такое кажется безумием, но это реально работает. И есть даже несколько теорем, которые доказывают почему это работает и как нужно правильно делать это в сложных ситуациях. \n",
    "\n",
    "Опишем бутсрап чуть более формально. Пусть имется выборка $X$ размера $N$. Равномерно возьмём из выборки $N$ объектов с возвращением. Это означает, что мы будем $N$ раз выбирать произвольный объект выборки (считаем, что каждый объект достаётся с одинаковой вероятность $\\frac{1}{N}$), причём каждый раз мы выбираем из всех исходных $N$ объектов. Можно представить себе мешок, из которого достают шарики: выбранный на каком-то шаге шарик возвращается обратно в мешок, и следующий выбор опять делается равновероятно из того же числа шариков. Конечно же из-за возвращения среди них окажутся повторы. \n",
    "\n",
    "![](https://hsto.org/getpro/habr/post_images/198/14a/3f7/19814a3f7efaa3b7d1a3f8ab35889832.jpg)\n",
    "\n",
    "Обозначим новую выборку через $X_1$. Повторяя процедуру $M$ раз, сгенерируем $M$ подвыборок $X_1, \\ldots, X_M$. Теперь мы имеем достаточно большое число выборок и можем оценивать различные статистики исходного распределения. "
   ]
  },
  {
   "cell_type": "markdown",
   "metadata": {},
   "source": [
    "По изначальной выборке мы могли посчитать всего одну статистику. По сгенерированным подвыборкам мы можем посчитать $M$ статистик и увидеть как наша неизвестная статистика распределена. \n",
    "\n",
    "Скорее всего, вам кажется это сложным. Давайте попробуем посмотреть на конкретный пример. Возможно, станет легче. Но это неточно. "
   ]
  },
  {
   "cell_type": "markdown",
   "metadata": {},
   "source": [
    "### Проблема \n",
    "\n",
    "Verizon — основная региональная телекоммуникационная компания (Incumbent Local Exchange Carrier, ILEC) в западной \n",
    "части США. В связи с этим данная компания обязана предоставлять сервис ремонта телекоммуникационного оборудования \n",
    "не только для своих клиентов, но и для клиентов других локальных телекоммуникационых компаний (Competing Local Exchange Carriers, CLEC). При этом в случаях, когда время ремонта оборудования для клиентов других компаний существенно выше, чем для собственных, Verizon может быть оштрафована. \n",
    "\n",
    "Проверим правда ли время на ремонт своего оборудования существенно ниже чем время на ремонт других компаний."
   ]
  },
  {
   "cell_type": "code",
   "execution_count": 55,
   "metadata": {},
   "outputs": [
    {
     "data": {
      "text/html": [
       "<table>\n",
       "<thead><tr><th scope=col>Time</th><th scope=col>Group</th></tr></thead>\n",
       "<tbody>\n",
       "\t<tr><td>17.50</td><td>ILEC </td></tr>\n",
       "\t<tr><td> 2.40</td><td>ILEC </td></tr>\n",
       "\t<tr><td> 0.00</td><td>ILEC </td></tr>\n",
       "\t<tr><td> 0.65</td><td>ILEC </td></tr>\n",
       "\t<tr><td>22.23</td><td>ILEC </td></tr>\n",
       "\t<tr><td> 1.20</td><td>ILEC </td></tr>\n",
       "</tbody>\n",
       "</table>\n"
      ],
      "text/latex": [
       "\\begin{tabular}{r|ll}\n",
       " Time & Group\\\\\n",
       "\\hline\n",
       "\t 17.50 & ILEC \\\\\n",
       "\t  2.40 & ILEC \\\\\n",
       "\t  0.00 & ILEC \\\\\n",
       "\t  0.65 & ILEC \\\\\n",
       "\t 22.23 & ILEC \\\\\n",
       "\t  1.20 & ILEC \\\\\n",
       "\\end{tabular}\n"
      ],
      "text/markdown": [
       "\n",
       "Time | Group | \n",
       "|---|---|---|---|---|---|\n",
       "| 17.50 | ILEC  | \n",
       "|  2.40 | ILEC  | \n",
       "|  0.00 | ILEC  | \n",
       "|  0.65 | ILEC  | \n",
       "| 22.23 | ILEC  | \n",
       "|  1.20 | ILEC  | \n",
       "\n",
       "\n"
      ],
      "text/plain": [
       "  Time  Group\n",
       "1 17.50 ILEC \n",
       "2  2.40 ILEC \n",
       "3  0.00 ILEC \n",
       "4  0.65 ILEC \n",
       "5 22.23 ILEC \n",
       "6  1.20 ILEC "
      ]
     },
     "metadata": {},
     "output_type": "display_data"
    }
   ],
   "source": [
    "library('dplyr')\n",
    "df = read.csv('/Users/fulyankin/Yandex.Disk.localized/R/R_prob_data/verizon.csv', sep='\\t')\n",
    "# ILEC - внутренний клиент \n",
    "# CLEC - внешние клиенты \n",
    "head(df)"
   ]
  },
  {
   "cell_type": "markdown",
   "metadata": {},
   "source": [
    "В выборке имеется сильный перекос в наблюдениях. "
   ]
  },
  {
   "cell_type": "code",
   "execution_count": 56,
   "metadata": {},
   "outputs": [
    {
     "data": {
      "text/html": [
       "1664"
      ],
      "text/latex": [
       "1664"
      ],
      "text/markdown": [
       "1664"
      ],
      "text/plain": [
       "[1] 1664"
      ]
     },
     "metadata": {},
     "output_type": "display_data"
    },
    {
     "data": {
      "text/html": [
       "23"
      ],
      "text/latex": [
       "23"
      ],
      "text/markdown": [
       "23"
      ],
      "text/plain": [
       "[1] 23"
      ]
     },
     "metadata": {},
     "output_type": "display_data"
    }
   ],
   "source": [
    "sum(df$Group == 'ILEC')\n",
    "sum(df$Group == 'CLEC')"
   ]
  },
  {
   "cell_type": "markdown",
   "metadata": {},
   "source": [
    "Из-за наличия такого перекоса гипотезу уместно сформулировать в терминах медиан, так как они нечувствительны к выбросам в отличие от средних. \n",
    "\n",
    "$$\n",
    "\\begin{aligned}\n",
    "&H_0: \\hspace{2mm} med_1 = med_2 \\\\\n",
    "&H_1: \\hspace{2mm} med_1 > med_2\n",
    "\\end{aligned}\n",
    "$$\n",
    "\n",
    "Беда в том, что для медиан как раз у нас нет хорошей статистики. Это весомый повод прибегнуть к бустрапу!\n",
    "\n",
    "Давайте построим для наших медиан доверительные интервалы с помощью бутстрапа. Напишем две функции. Одна будет создавать забустрапированную выборку размера `n_samples`. "
   ]
  },
  {
   "cell_type": "code",
   "execution_count": 61,
   "metadata": {},
   "outputs": [],
   "source": [
    "get_bootstrap_samples <- function(data, n_samples){\n",
    "    samples = list() # лист, куда мы будем записывать выборки\n",
    "    \n",
    "    for(i in 1:n_samples){\n",
    "        # генерируем таблицу с повторениями соответствующую по размерам оригинальной\n",
    "        # и записываем её в лист как одну из выборок и так n_samples раз \n",
    "         samples[[i]] = sample(data, size = length(data), replace=TRUE)\n",
    "        }\n",
    "    return(samples)\n",
    "    }"
   ]
  },
  {
   "cell_type": "code",
   "execution_count": 64,
   "metadata": {},
   "outputs": [
    {
     "data": {
      "text/html": [
       "<ol>\n",
       "\t<li><ol class=list-inline>\n",
       "\t<li>2.4</li>\n",
       "\t<li>22.23</li>\n",
       "\t<li>2.4</li>\n",
       "\t<li>0.65</li>\n",
       "\t<li>0</li>\n",
       "</ol>\n",
       "</li>\n",
       "\t<li><ol class=list-inline>\n",
       "\t<li>0</li>\n",
       "\t<li>17.5</li>\n",
       "\t<li>2.4</li>\n",
       "\t<li>0</li>\n",
       "\t<li>0</li>\n",
       "</ol>\n",
       "</li>\n",
       "\t<li><ol class=list-inline>\n",
       "\t<li>0.65</li>\n",
       "\t<li>17.5</li>\n",
       "\t<li>0</li>\n",
       "\t<li>0</li>\n",
       "\t<li>22.23</li>\n",
       "</ol>\n",
       "</li>\n",
       "\t<li><ol class=list-inline>\n",
       "\t<li>0.65</li>\n",
       "\t<li>22.23</li>\n",
       "\t<li>2.4</li>\n",
       "\t<li>2.4</li>\n",
       "\t<li>0</li>\n",
       "</ol>\n",
       "</li>\n",
       "</ol>\n"
      ],
      "text/latex": [
       "\\begin{enumerate}\n",
       "\\item \\begin{enumerate*}\n",
       "\\item 2.4\n",
       "\\item 22.23\n",
       "\\item 2.4\n",
       "\\item 0.65\n",
       "\\item 0\n",
       "\\end{enumerate*}\n",
       "\n",
       "\\item \\begin{enumerate*}\n",
       "\\item 0\n",
       "\\item 17.5\n",
       "\\item 2.4\n",
       "\\item 0\n",
       "\\item 0\n",
       "\\end{enumerate*}\n",
       "\n",
       "\\item \\begin{enumerate*}\n",
       "\\item 0.65\n",
       "\\item 17.5\n",
       "\\item 0\n",
       "\\item 0\n",
       "\\item 22.23\n",
       "\\end{enumerate*}\n",
       "\n",
       "\\item \\begin{enumerate*}\n",
       "\\item 0.65\n",
       "\\item 22.23\n",
       "\\item 2.4\n",
       "\\item 2.4\n",
       "\\item 0\n",
       "\\end{enumerate*}\n",
       "\n",
       "\\end{enumerate}\n"
      ],
      "text/markdown": [
       "1. 1. 2.4\n",
       "2. 22.23\n",
       "3. 2.4\n",
       "4. 0.65\n",
       "5. 0\n",
       "\n",
       "\n",
       "\n",
       "2. 1. 0\n",
       "2. 17.5\n",
       "3. 2.4\n",
       "4. 0\n",
       "5. 0\n",
       "\n",
       "\n",
       "\n",
       "3. 1. 0.65\n",
       "2. 17.5\n",
       "3. 0\n",
       "4. 0\n",
       "5. 22.23\n",
       "\n",
       "\n",
       "\n",
       "4. 1. 0.65\n",
       "2. 22.23\n",
       "3. 2.4\n",
       "4. 2.4\n",
       "5. 0\n",
       "\n",
       "\n",
       "\n",
       "\n",
       "\n"
      ],
      "text/plain": [
       "[[1]]\n",
       "[1]  2.40 22.23  2.40  0.65  0.00\n",
       "\n",
       "[[2]]\n",
       "[1]  0.0 17.5  2.4  0.0  0.0\n",
       "\n",
       "[[3]]\n",
       "[1]  0.65 17.50  0.00  0.00 22.23\n",
       "\n",
       "[[4]]\n",
       "[1]  0.65 22.23  2.40  2.40  0.00\n"
      ]
     },
     "metadata": {},
     "output_type": "display_data"
    }
   ],
   "source": [
    "get_bootstrap_samples (df$Time[1:5], 4) # та дам! четыре выборки внутри нашего листа :) "
   ]
  },
  {
   "cell_type": "markdown",
   "metadata": {},
   "source": [
    "Вторая функция будет искать квантили сгерированого распределения. "
   ]
  },
  {
   "cell_type": "code",
   "execution_count": 98,
   "metadata": {},
   "outputs": [],
   "source": [
    "stat_intervals <- function(stat,alpha){\n",
    "    return(quantile(stat, c(alpha/2,(1-alpha/2)), name = FALSE))\n",
    "    }"
   ]
  },
  {
   "cell_type": "markdown",
   "metadata": {},
   "source": [
    "Отделим данные по внутренним и внешним клиентам друг от друга и построим доверительные интервалы для каждой из медиан. Будем бустрапировать $1000$ выборок. "
   ]
  },
  {
   "cell_type": "code",
   "execution_count": 99,
   "metadata": {},
   "outputs": [],
   "source": [
    "ilec = df[df$Group == 'ILEC',]\n",
    "clec = df[df$Group == 'CLEC',]\n",
    "\n",
    "# Делаем 1000 выборок для первой таблички и считаем по каждой медиану \n",
    "# функция lapply применяет функцию median к каждой выборке \n",
    "# команда as.numeric сделает листы векторами\n",
    "\n",
    "clec_median_scores = as.numeric(lapply(get_bootstrap_samples(clec$Time, 1000), median))\n",
    "ilec_median_scores = as.numeric(lapply(get_bootstrap_samples(ilec$Time, 1000), median))"
   ]
  },
  {
   "cell_type": "markdown",
   "metadata": {},
   "source": [
    "Смотрим на итоговые доверительный интервалы. "
   ]
  },
  {
   "cell_type": "code",
   "execution_count": 103,
   "metadata": {},
   "outputs": [
    {
     "name": "stdout",
     "output_type": "stream",
     "text": [
      "95% confidence interval for the ILEC median repair time: 3.22 3.820125 \n",
      "95% confidence interval for the CLEC median repair time: 5.79125 20.28"
     ]
    }
   ],
   "source": [
    "cat(\"95% confidence interval for the ILEC median repair time:\", stat_intervals(ilec_median_scores, 0.05),'\\n')\n",
    "cat(\"95% confidence interval for the CLEC median repair time:\", stat_intervals(clec_median_scores, 0.05))"
   ]
  },
  {
   "cell_type": "markdown",
   "metadata": {},
   "source": [
    "По аналогии найдём доверительный интервал для разности медиан. "
   ]
  },
  {
   "cell_type": "code",
   "execution_count": 106,
   "metadata": {},
   "outputs": [
    {
     "name": "stdout",
     "output_type": "stream",
     "text": [
      "95% confidence interval for the CLEC median repair time: 2.04975 16.6805"
     ]
    }
   ],
   "source": [
    "delta_median_scores = clec_median_scores - ilec_median_scores\n",
    "cat(\"95% confidence interval for the diff median repair time:\", stat_intervals(delta_median_scores, 0.05))"
   ]
  },
  {
   "cell_type": "markdown",
   "metadata": {},
   "source": [
    "Оценим вероятность того, что разность больше нуля. "
   ]
  },
  {
   "cell_type": "code",
   "execution_count": 112,
   "metadata": {},
   "outputs": [
    {
     "data": {
      "text/html": [
       "0.999"
      ],
      "text/latex": [
       "0.999"
      ],
      "text/markdown": [
       "0.999"
      ],
      "text/plain": [
       "[1] 0.999"
      ]
     },
     "metadata": {},
     "output_type": "display_data"
    }
   ],
   "source": [
    "sum(delta_median_scores > 0)/length(delta_median_scores)"
   ]
  },
  {
   "cell_type": "markdown",
   "metadata": {},
   "source": [
    "Кажется, команию пришло время оштрафовать. \n",
    "\n",
    "# 2. Генерируем распределение для среднего \n",
    "\n"
   ]
  },
  {
   "cell_type": "code",
   "execution_count": null,
   "metadata": {},
   "outputs": [],
   "source": []
  },
  {
   "cell_type": "code",
   "execution_count": null,
   "metadata": {},
   "outputs": [],
   "source": []
  },
  {
   "cell_type": "code",
   "execution_count": null,
   "metadata": {},
   "outputs": [],
   "source": []
  },
  {
   "cell_type": "code",
   "execution_count": null,
   "metadata": {},
   "outputs": [],
   "source": []
  },
  {
   "cell_type": "code",
   "execution_count": null,
   "metadata": {},
   "outputs": [],
   "source": []
  },
  {
   "cell_type": "code",
   "execution_count": null,
   "metadata": {},
   "outputs": [],
   "source": []
  },
  {
   "cell_type": "code",
   "execution_count": null,
   "metadata": {},
   "outputs": [],
   "source": []
  }
 ],
 "metadata": {
  "kernelspec": {
   "display_name": "R",
   "language": "R",
   "name": "ir"
  },
  "language_info": {
   "codemirror_mode": "r",
   "file_extension": ".r",
   "mimetype": "text/x-r-source",
   "name": "R",
   "pygments_lexer": "r",
   "version": "3.4.2"
  }
 },
 "nbformat": 4,
 "nbformat_minor": 2
}
