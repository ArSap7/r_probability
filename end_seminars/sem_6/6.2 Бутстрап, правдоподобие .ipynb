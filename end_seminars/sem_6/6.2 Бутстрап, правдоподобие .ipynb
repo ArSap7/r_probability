{
 "cells": [
  {
   "cell_type": "markdown",
   "metadata": {},
   "source": [
    "<img src=\"https://raw.githubusercontent.com/FUlyankin/r_probability/master/end_seminars/sem_6/student_teacher_dist.png\" height=\"300\" width=\"600\"> \n",
    "\n",
    "# <center> R для тервера и матстата. <br>  <br> 6.2 Проверка гипотез. Бустрап и правдоподобие. </center>\n",
    "\n",
    "Данный ноутбук является конспектом по курсу «R для теории вероятностей и математической статистики» (РАНХиГС, 2017-2018). Автор ноутбука [вот этот парень по имени Филипп.](https://vk.com/ppilif) Если у вас для него есть деньги, слава или женщины, он от этого всего не откажется. Ноутбук распространяется на условиях лицензии [Creative Commons Attribution-Share Alike 4.0.](https://creativecommons.org/licenses/by-sa/4.0/) При использовании обязательно упоминание автора курса и аффилиации. При наличии технической возможности необходимо также указать активную гиперссылку на [страницу курса.](https://fulyankin.github.io/R_probability/) На ней можно найти другие материалы. Фрагменты кода, включенные в этот notebook, публикуются как [общественное достояние.](https://creativecommons.org/publicdomain/zero/1.0/)\n",
    "\n",
    "---------\n",
    "\n",
    "В прошлой тетрадке мы обсудили небольшое количество критериев для простых известных распределений. В мире осталось ещё куча неизведанного. И с этим неизведанным хочется расправляться одной левой. В этой тетрадке пойдёт речь о борьбе с неизвестностью. Будет затронуто три сюжета: "
   ]
  },
  {
   "cell_type": "markdown",
   "metadata": {},
   "source": []
  },
  {
   "cell_type": "code",
   "execution_count": null,
   "metadata": {},
   "outputs": [],
   "source": []
  },
  {
   "cell_type": "code",
   "execution_count": null,
   "metadata": {},
   "outputs": [],
   "source": []
  },
  {
   "cell_type": "code",
   "execution_count": null,
   "metadata": {},
   "outputs": [],
   "source": []
  },
  {
   "cell_type": "code",
   "execution_count": 3,
   "metadata": {},
   "outputs": [
    {
     "data": {
      "text/html": [
       "<table>\n",
       "<thead><tr><th scope=col>n</th><th scope=col>price</th><th scope=col>totsp</th><th scope=col>livesp</th><th scope=col>kitsp</th><th scope=col>dist</th><th scope=col>metrdist</th><th scope=col>walk</th><th scope=col>brick</th><th scope=col>floor</th><th scope=col>code</th></tr></thead>\n",
       "<tbody>\n",
       "\t<tr><td>1   </td><td> 81 </td><td> 58 </td><td>40  </td><td> 6  </td><td>12.5</td><td>7   </td><td>1   </td><td>1   </td><td>1   </td><td>3   </td></tr>\n",
       "\t<tr><td>2   </td><td> 75 </td><td> 44 </td><td>28  </td><td> 6  </td><td>13.5</td><td>7   </td><td>1   </td><td>0   </td><td>1   </td><td>6   </td></tr>\n",
       "\t<tr><td>3   </td><td>128 </td><td> 70 </td><td>42  </td><td> 6  </td><td>14.5</td><td>3   </td><td>1   </td><td>1   </td><td>1   </td><td>3   </td></tr>\n",
       "\t<tr><td>4   </td><td> 95 </td><td> 61 </td><td>37  </td><td> 6  </td><td>13.5</td><td>7   </td><td>1   </td><td>0   </td><td>1   </td><td>1   </td></tr>\n",
       "\t<tr><td>5   </td><td>330 </td><td>104 </td><td>60  </td><td>11  </td><td>10.5</td><td>7   </td><td>0   </td><td>1   </td><td>1   </td><td>3   </td></tr>\n",
       "\t<tr><td>6   </td><td>137 </td><td> 76 </td><td>50  </td><td> 9  </td><td>11.0</td><td>7   </td><td>1   </td><td>1   </td><td>1   </td><td>8   </td></tr>\n",
       "</tbody>\n",
       "</table>\n"
      ],
      "text/latex": [
       "\\begin{tabular}{r|lllllllllll}\n",
       " n & price & totsp & livesp & kitsp & dist & metrdist & walk & brick & floor & code\\\\\n",
       "\\hline\n",
       "\t 1    &  81  &  58  & 40   &  6   & 12.5 & 7    & 1    & 1    & 1    & 3   \\\\\n",
       "\t 2    &  75  &  44  & 28   &  6   & 13.5 & 7    & 1    & 0    & 1    & 6   \\\\\n",
       "\t 3    & 128  &  70  & 42   &  6   & 14.5 & 3    & 1    & 1    & 1    & 3   \\\\\n",
       "\t 4    &  95  &  61  & 37   &  6   & 13.5 & 7    & 1    & 0    & 1    & 1   \\\\\n",
       "\t 5    & 330  & 104  & 60   & 11   & 10.5 & 7    & 0    & 1    & 1    & 3   \\\\\n",
       "\t 6    & 137  &  76  & 50   &  9   & 11.0 & 7    & 1    & 1    & 1    & 8   \\\\\n",
       "\\end{tabular}\n"
      ],
      "text/markdown": [
       "\n",
       "n | price | totsp | livesp | kitsp | dist | metrdist | walk | brick | floor | code | \n",
       "|---|---|---|---|---|---|\n",
       "| 1    |  81  |  58  | 40   |  6   | 12.5 | 7    | 1    | 1    | 1    | 3    | \n",
       "| 2    |  75  |  44  | 28   |  6   | 13.5 | 7    | 1    | 0    | 1    | 6    | \n",
       "| 3    | 128  |  70  | 42   |  6   | 14.5 | 3    | 1    | 1    | 1    | 3    | \n",
       "| 4    |  95  |  61  | 37   |  6   | 13.5 | 7    | 1    | 0    | 1    | 1    | \n",
       "| 5    | 330  | 104  | 60   | 11   | 10.5 | 7    | 0    | 1    | 1    | 3    | \n",
       "| 6    | 137  |  76  | 50   |  9   | 11.0 | 7    | 1    | 1    | 1    | 8    | \n",
       "\n",
       "\n"
      ],
      "text/plain": [
       "  n price totsp livesp kitsp dist metrdist walk brick floor code\n",
       "1 1  81    58   40      6    12.5 7        1    1     1     3   \n",
       "2 2  75    44   28      6    13.5 7        1    0     1     6   \n",
       "3 3 128    70   42      6    14.5 3        1    1     1     3   \n",
       "4 4  95    61   37      6    13.5 7        1    0     1     1   \n",
       "5 5 330   104   60     11    10.5 7        0    1     1     3   \n",
       "6 6 137    76   50      9    11.0 7        1    1     1     8   "
      ]
     },
     "metadata": {},
     "output_type": "display_data"
    }
   ],
   "source": [
    "df = read.csv('/Users/fulyankin/Yandex.Disk.localized/R/R_prob_data/flat.csv', sep='\\t') \n",
    "head(df)"
   ]
  },
  {
   "cell_type": "code",
   "execution_count": 15,
   "metadata": {},
   "outputs": [],
   "source": [
    "x = log(df$price)\n",
    "\n",
    "lnL <- function(param,data) {\n",
    "  n <- length(data)\n",
    "  result <- -n/2*log(2*pi)-n/2*log(param[2]^2)-sum((data-param[1])^2)/(2*param[2]^2)\n",
    "  return(result)\n",
    "}"
   ]
  },
  {
   "cell_type": "code",
   "execution_count": 12,
   "metadata": {},
   "outputs": [
    {
     "data": {
      "text/html": [
       "4.79137482129692"
      ],
      "text/latex": [
       "4.79137482129692"
      ],
      "text/markdown": [
       "4.79137482129692"
      ],
      "text/plain": [
       "[1] 4.791375"
      ]
     },
     "metadata": {},
     "output_type": "display_data"
    },
    {
     "data": {
      "text/html": [
       "0.315236694118102"
      ],
      "text/latex": [
       "0.315236694118102"
      ],
      "text/markdown": [
       "0.315236694118102"
      ],
      "text/plain": [
       "[1] 0.3152367"
      ]
     },
     "metadata": {},
     "output_type": "display_data"
    }
   ],
   "source": [
    "mean(x)\n",
    "sd(x)"
   ]
  },
  {
   "cell_type": "code",
   "execution_count": 31,
   "metadata": {},
   "outputs": [
    {
     "data": {
      "text/plain": [
       "--------------------------------------------\n",
       "Maximum Likelihood estimation\n",
       "Newton-Raphson maximisation, 16 iterations\n",
       "Return code 1: gradient close to zero\n",
       "Log-Likelihood: -539.0942 \n",
       "2  free parameters\n",
       "Estimates:\n",
       "     Estimate Std. error t value Pr(> t)    \n",
       "[1,] 4.791375   0.006978  686.66  <2e-16 ***\n",
       "[2,] 0.315159   0.004934   63.88  <2e-16 ***\n",
       "---\n",
       "Signif. codes:  0 ‘***’ 0.001 ‘**’ 0.01 ‘*’ 0.05 ‘.’ 0.1 ‘ ’ 1\n",
       "--------------------------------------------"
      ]
     },
     "metadata": {},
     "output_type": "display_data"
    }
   ],
   "source": [
    "library('maxLik') \n",
    "res <- maxLik(lnL, start=c(0.1,0.1),data=x)\n",
    "summary(res)"
   ]
  },
  {
   "cell_type": "code",
   "execution_count": 32,
   "metadata": {},
   "outputs": [
    {
     "data": {
      "text/html": [
       "-539.094199801767"
      ],
      "text/latex": [
       "-539.094199801767"
      ],
      "text/markdown": [
       "-539.094199801767"
      ],
      "text/plain": [
       "[1] -539.0942"
      ]
     },
     "metadata": {},
     "output_type": "display_data"
    }
   ],
   "source": [
    "par = res$estimate\n",
    "lnL(par, x)"
   ]
  },
  {
   "cell_type": "code",
   "execution_count": 33,
   "metadata": {},
   "outputs": [
    {
     "data": {
      "text/plain": [
       "--------------------------------------------\n",
       "Maximum Likelihood estimation\n",
       "Newton-Raphson maximisation, 9 iterations\n",
       "Return code 2: successive function values within tolerance limit\n",
       "Log-Likelihood: -909.7547 \n",
       "1  free parameters\n",
       "Estimates:\n",
       "     Estimate Std. error t value Pr(> t)    \n",
       "[1,] 0.377955   0.005917   63.87  <2e-16 ***\n",
       "---\n",
       "Signif. codes:  0 ‘***’ 0.001 ‘**’ 0.01 ‘*’ 0.05 ‘.’ 0.1 ‘ ’ 1\n",
       "--------------------------------------------"
      ]
     },
     "metadata": {},
     "output_type": "display_data"
    }
   ],
   "source": [
    "lnL_res <- function(sigma,data) lnL(c(5,sigma),x)\n",
    "res_restr <- maxLik(lnL_res, start=0.1,data=x)\n",
    "summary(res_restr)\n",
    "par_restr <- c(5, res_restr$estimate)"
   ]
  },
  {
   "cell_type": "code",
   "execution_count": 34,
   "metadata": {},
   "outputs": [
    {
     "data": {
      "text/html": [
       "741.321047867725"
      ],
      "text/latex": [
       "741.321047867725"
      ],
      "text/markdown": [
       "741.321047867725"
      ],
      "text/plain": [
       "[1] 741.321"
      ]
     },
     "metadata": {},
     "output_type": "display_data"
    }
   ],
   "source": [
    "2*(lnL(par, x) - lnL(par_restr, x))"
   ]
  },
  {
   "cell_type": "code",
   "execution_count": null,
   "metadata": {},
   "outputs": [],
   "source": []
  },
  {
   "cell_type": "code",
   "execution_count": null,
   "metadata": {},
   "outputs": [],
   "source": []
  },
  {
   "cell_type": "code",
   "execution_count": null,
   "metadata": {},
   "outputs": [],
   "source": []
  },
  {
   "cell_type": "code",
   "execution_count": null,
   "metadata": {},
   "outputs": [],
   "source": []
  },
  {
   "cell_type": "code",
   "execution_count": null,
   "metadata": {},
   "outputs": [],
   "source": []
  },
  {
   "cell_type": "code",
   "execution_count": 9,
   "metadata": {},
   "outputs": [
    {
     "data": {
      "text/html": [
       "-6979.48622257326"
      ],
      "text/latex": [
       "-6979.48622257326"
      ],
      "text/markdown": [
       "-6979.48622257326"
      ],
      "text/plain": [
       "[1] -6979.486"
      ]
     },
     "metadata": {},
     "output_type": "display_data"
    }
   ],
   "source": [
    "log_lik(c(1,2),x)"
   ]
  },
  {
   "cell_type": "markdown",
   "metadata": {},
   "source": [
    "В [табличке](https://yadi.sk/i/hDxMJ0fw3VSDmu) лежит информация о стоимости квартир в Москве и о основных параметрах этих квартир. Пусть цена на квартиры имеет логарифмически нормальное распределение. Оцените параметры $\\mu$ и $\\sigma$ методом максимального правдоподобия. Постройте для оценок доверительные интервалы. "
   ]
  },
  {
   "cell_type": "code",
   "execution_count": null,
   "metadata": {},
   "outputs": [],
   "source": []
  },
  {
   "cell_type": "code",
   "execution_count": null,
   "metadata": {},
   "outputs": [],
   "source": []
  },
  {
   "cell_type": "code",
   "execution_count": null,
   "metadata": {},
   "outputs": [],
   "source": []
  },
  {
   "cell_type": "code",
   "execution_count": null,
   "metadata": {},
   "outputs": [],
   "source": []
  }
 ],
 "metadata": {
  "kernelspec": {
   "display_name": "R",
   "language": "R",
   "name": "ir"
  },
  "language_info": {
   "codemirror_mode": "r",
   "file_extension": ".r",
   "mimetype": "text/x-r-source",
   "name": "R",
   "pygments_lexer": "r",
   "version": "3.5.3"
  }
 },
 "nbformat": 4,
 "nbformat_minor": 2
}
