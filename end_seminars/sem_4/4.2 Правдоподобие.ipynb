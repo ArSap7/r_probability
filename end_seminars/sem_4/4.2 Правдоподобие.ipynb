{
 "cells": [
  {
   "cell_type": "markdown",
   "metadata": {},
   "source": [
    "<img src=\"https://raw.githubusercontent.com/FUlyankin/r_probability/master/end_seminars/sem_4/M_MPlain_grande.png\" height=\"300\" width=\"300\"> \n",
    "\n",
    "# <center> R для тервера и матстата. <br>  <br> 4.2 Максимальное правдоподобие, часть первая! </center>\n",
    "\n",
    "Данный ноутбук является конспектом по курсу «R для теории вероятностей и математической статистики» (РАНХиГС, 2017-2018). Автор ноутбука [вот этот парень по имени Филипп.](https://vk.com/ppilif) Если у вас для него есть деньги, слава или женщины, он от этого всего не откажется. Ноутбук распространяется на условиях лицензии [Creative Commons Attribution-Share Alike 4.0.](https://creativecommons.org/licenses/by-sa/4.0/) При использовании обязательно упоминание автора курса и аффилиации. При наличии технической возможности необходимо также указать активную гиперссылку на [страницу курса.](https://fulyankin.github.io/R_probability/) На ней можно найти другие материалы. Фрагменты кода, включенные в этот notebook, публикуются как [общественное достояние.](https://creativecommons.org/publicdomain/zero/1.0/)\n",
    "\n",
    "---------\n",
    "\n",
    "\n",
    "Метод максимального правдоподобия — это основная лошадка современной статистики. Функция правдоподобия встречается абсолютно во всех областях от эконометрики и байесовской статистики до нейронных сетей и рекомендательных систем. Из-за этого очень важно как следует понять как она устроена. \n",
    "\n",
    "В этой тетрадке именно этим мы и займёмся. Для начала мы попробуем посмотреть на поднаготную метода максимального правдоподобия и понять где это там в нём зарыта информация Фишера. И почему это вообще информация. Скорее всего, вас довольно давно будоражит этот вопрос. Затем мы решим в R парочку задачек. "
   ]
  },
  {
   "cell_type": "code",
   "execution_count": 1,
   "metadata": {},
   "outputs": [],
   "source": [
    "library(\"ggplot2\")  # Пакет для красивых графиков \n",
    "library(\"grid\")     # Пакет для субплотов\n",
    "\n",
    "# Отрегулируем размер картинок, которые будут выдаваться в нашей тетрадке\n",
    "library('repr')\n",
    "options(repr.plot.width=4, repr.plot.height=3)"
   ]
  },
  {
   "cell_type": "markdown",
   "metadata": {},
   "source": [
    "## 1. Пытаемся прочувствовать функцию правдоподобия на картинках\n",
    "\n",
    "Пришло время формул! Итак, пусть в нашем распоряжении оказалась выборка $x_1, \\ldots x_n$. Пусть мы предположили, что эту выбору на нас из сундука выплюнула случайная величина с плотностью распределения $f(x \\mid \\theta)$. Про параметр $\\theta$ нам ничего не известно и мы хотели бы оценить его по выборке. \n",
    "\n",
    "Запишем правдоподобие наших данных, то есть вероятность пронаблюдать именно эту выборку: \n",
    "\n",
    "$$L( \\theta \\mid x_1, \\ldots, x_n) = f(x_1, \\ldots, x_n \\mid \\theta) = \\prod_{i=1}^n f(x_i \\mid \\theta)$$\n",
    "\n",
    "Наша выборка - фиксирована. При разных значениях $\\theta$ мы получаем большую или меньшую вероятность получить выборку близку к наблюдаемой. Было бы круто найти такое значение $\\theta$, для которого эта вероятность оказалась бы максимальной. \n",
    "\n",
    "Обратите внимание, что функцию $L( \\theta \\mid x_1, \\ldots, x_n)$ уже нельзя трактовать как плотность распределения. Параметр $\\theta$ здесь не рассматривается как случайная величина, он фиксирован. Интеграл $L( \\theta \\mid x_1, \\ldots, x_n)$ по всем возможным значениям $\\theta$ не будет равен единице. \n",
    "\n",
    "Для максимизации правдоподобия нам придётся брать производные. Куда приятнее их брать от логарифма, потому что все произведения превратятся в суммы и жить станет проще. Выпишем логарифм правдоподобия:\n",
    "\n",
    "$$\n",
    "\\ln L( \\theta \\mid x_1, \\ldots, x_n) =  \\sum_{i=1}^n \\ln f(x_i \\mid \\theta).\n",
    "$$\n",
    "\n",
    "Берём производную и приравниваем её к нулю. \n",
    "\n",
    "$$\n",
    "\\frac{\\partial \\ln L}{\\partial \\theta} = \\sum_{i=1}^n \\frac{\\partial \\ln f(x_i \\mid \\theta)}{\\partial \\theta} = 0\n",
    "$$\n",
    "\n",
    "Решив это уравнение мы получим оценку максимального правдоподобия. \n"
   ]
  },
  {
   "cell_type": "markdown",
   "metadata": {},
   "source": [
    "Посмотрим на одно слагаемое $\\ln f(x_i \\mid \\theta)$. Его можно интерпретировать как логарифм правдоподобия, посчитанного на основании только одного наблюдения $x_i$.\n",
    "\n",
    "Когда у нас в выборке появляются новые наблюдения, к нашей функции плюсуется дополнительное слагаемое. Интересно было бы посмотреть на то, как при этом функция изменяется. \n",
    "\n",
    "У нас есть R. Сгенерируем выборку объёма $5$ из нормального стандартного распределения и посмотрим. "
   ]
  },
  {
   "cell_type": "code",
   "execution_count": 2,
   "metadata": {},
   "outputs": [
    {
     "data": {
      "text/html": [
       "<ol class=list-inline>\n",
       "\t<li>0.989643123285613</li>\n",
       "\t<li>-1.07025641918679</li>\n",
       "\t<li>0.655992660252927</li>\n",
       "\t<li>0.135126640511176</li>\n",
       "\t<li>0.649112437337591</li>\n",
       "</ol>\n"
      ],
      "text/latex": [
       "\\begin{enumerate*}\n",
       "\\item 0.989643123285613\n",
       "\\item -1.07025641918679\n",
       "\\item 0.655992660252927\n",
       "\\item 0.135126640511176\n",
       "\\item 0.649112437337591\n",
       "\\end{enumerate*}\n"
      ],
      "text/markdown": [
       "1. 0.989643123285613\n",
       "2. -1.07025641918679\n",
       "3. 0.655992660252927\n",
       "4. 0.135126640511176\n",
       "5. 0.649112437337591\n",
       "\n",
       "\n"
      ],
      "text/plain": [
       "[1]  0.9896431 -1.0702564  0.6559927  0.1351266  0.6491124"
      ]
     },
     "metadata": {},
     "output_type": "display_data"
    }
   ],
   "source": [
    "x <- rnorm(5)\n",
    "x"
   ]
  },
  {
   "cell_type": "markdown",
   "metadata": {},
   "source": [
    "Выпишем для нормального распределения логарифмическую функцию правдоподобия. Она будет зависеть от двух векторов: выборки и параметров.\n",
    "\n",
    "$$\n",
    "\\ln L(\\mu, \\sigma^2 \\mid x) = -\\frac{n}{2}\\ln(2\\pi)-\\frac{n}{2}\\ln(\\sigma)-\\sum_{i=1}^n\\frac{(x_i - \\mu)^2}{2\\sigma^2}\n",
    "$$\n",
    "\n",
    "\n",
    "Предположим, что $\\sigma$ известна и нам хочется оценить только $\\mu$. Перебьём такую функцию в R."
   ]
  },
  {
   "cell_type": "code",
   "execution_count": 3,
   "metadata": {},
   "outputs": [],
   "source": [
    "# mu - оцениваемый параметр\n",
    "# data - вектор данных\n",
    "\n",
    "log_lik <- function(mu,data) {\n",
    "  n <- length(data)\n",
    "  result <- -n/2*log(2*pi)-n/2*log(1)-sum((data-mu)^2)/(2*1)\n",
    "  return(result)\n",
    "}"
   ]
  },
  {
   "cell_type": "markdown",
   "metadata": {},
   "source": [
    "Найдём значение нашей функции в какой-нибудь точке чисто ради фана."
   ]
  },
  {
   "cell_type": "code",
   "execution_count": 4,
   "metadata": {},
   "outputs": [
    {
     "data": {
      "text/html": [
       "-7.23246164875531"
      ],
      "text/latex": [
       "-7.23246164875531"
      ],
      "text/markdown": [
       "-7.23246164875531"
      ],
      "text/plain": [
       "[1] -7.232462"
      ]
     },
     "metadata": {},
     "output_type": "display_data"
    },
    {
     "data": {
      "text/html": [
       "-242.495895668951"
      ],
      "text/latex": [
       "-242.495895668951"
      ],
      "text/markdown": [
       "-242.495895668951"
      ],
      "text/plain": [
       "[1] -242.4959"
      ]
     },
     "metadata": {},
     "output_type": "display_data"
    }
   ],
   "source": [
    "log_lik(1,x)\n",
    "log_lik(10,x)"
   ]
  },
  {
   "cell_type": "markdown",
   "metadata": {},
   "source": [
    "Посмотрим как функция выглядит на картинке."
   ]
  },
  {
   "cell_type": "code",
   "execution_count": 5,
   "metadata": {},
   "outputs": [
    {
     "data": {},
     "metadata": {},
     "output_type": "display_data"
    },
    {
     "data": {
      "image/png": "[encoded data removed]",
      "text/plain": [
       "plot without title"
      ]
     },
     "metadata": {},
     "output_type": "display_data"
    }
   ],
   "source": [
    "mu  = seq(-12,11,0.01)\n",
    "lnL = rep(0,length(mu))\n",
    "\n",
    "for(i in 1:length(lnL)){\n",
    "    lnL[i] = log_lik(mu[i],x)\n",
    "}\n",
    "\n",
    "qplot(mu, lnL, geom='line')"
   ]
  },
  {
   "cell_type": "markdown",
   "metadata": {},
   "source": [
    "Выглядит прелестно. Её максимум достигается в районе нуля, но не чётко в нуле. Построим такие же функции для отдельных наблюдений. "
   ]
  },
  {
   "cell_type": "code",
   "execution_count": 6,
   "metadata": {},
   "outputs": [
    {
     "data": {},
     "metadata": {},
     "output_type": "display_data"
    },
    {
     "data": {
      "image/png": "[encoded data removed]",
      "text/plain": [
       "plot without title"
      ]
     },
     "metadata": {},
     "output_type": "display_data"
    }
   ],
   "source": [
    "mu  = seq(-12,11,0.01)\n",
    "\n",
    "lnL = rep(0,length(mu))\n",
    "lnL1 = rep(0,length(mu))\n",
    "lnL2 = rep(0,length(mu))\n",
    "lnL3 = rep(0,length(mu))\n",
    "lnL4 = rep(0,length(mu))\n",
    "lnL5 = rep(0,length(mu))\n",
    "\n",
    "for(i in 1:length(lnL)){\n",
    "    lnL[i] = log_lik(mu[i],x)\n",
    "    lnL1[i] = log_lik(mu[i],x[1])\n",
    "    lnL2[i] = log_lik(mu[i],x[2])\n",
    "    lnL3[i] = log_lik(mu[i],x[3])\n",
    "    lnL4[i] = log_lik(mu[i],x[4])\n",
    "    lnL5[i] = log_lik(mu[i],x[5])\n",
    "}\n",
    "\n",
    "df_L = data.frame(mu=mu,lnL = lnL, lnL1 = lnL1, lnL2 = lnL2,\n",
    "                  lnL3 = lnL3,lnL4 = lnL4,lnL5 = lnL5)\n",
    "\n",
    "ggplot(df_L, aes(x=mu))+\n",
    "    geom_line(aes(y=lnL))+\n",
    "    geom_line(aes(y=lnL1),color='red')+\n",
    "    geom_line(aes(y=lnL2),color='red')+\n",
    "    geom_line(aes(y=lnL3),color='red')+\n",
    "    geom_line(aes(y=lnL4),color='red')+\n",
    "    geom_line(aes(y=lnL5),color='red')"
   ]
  },
  {
   "cell_type": "markdown",
   "metadata": {},
   "source": [
    "Черная функция для всей выборки равна сумме логарифмических правдоподобий для отдельных наблюдений (красные линии). Она имеет более выраженный максимум по сравнению с логарифмическими функциями для отдельных наблюдений. \n",
    "\n",
    "Можно построить аналогичную картинку, на которой мы будем постепенно накапливать наблюдения внутри нашей суммы. При добавлении всё новых слагаемых, максимум будет становиться более чётким. "
   ]
  },
  {
   "cell_type": "code",
   "execution_count": 7,
   "metadata": {},
   "outputs": [
    {
     "data": {},
     "metadata": {},
     "output_type": "display_data"
    },
    {
     "data": {
      "image/png": "[encoded data removed]",
      "text/plain": [
       "plot without title"
      ]
     },
     "metadata": {},
     "output_type": "display_data"
    }
   ],
   "source": [
    "mu  = seq(-12,11,0.01)\n",
    "\n",
    "lnL = rep(0,length(mu))\n",
    "lnL1 = rep(0,length(mu))\n",
    "lnL2 = rep(0,length(mu))\n",
    "lnL3 = rep(0,length(mu))\n",
    "lnL4 = rep(0,length(mu))\n",
    "lnL5 = rep(0,length(mu))\n",
    "\n",
    "for(i in 1:length(lnL)){\n",
    "    lnL[i] = log_lik(mu[i],x)\n",
    "    lnL1[i] = log_lik(mu[i],x[1])\n",
    "    lnL2[i] = log_lik(mu[i],x[1:2])\n",
    "    lnL3[i] = log_lik(mu[i],x[1:3])\n",
    "    lnL4[i] = log_lik(mu[i],x[1:4])\n",
    "}\n",
    "\n",
    "df_L = data.frame(mu=mu,lnL = lnL, lnL1 = lnL1, lnL2 = lnL2,\n",
    "                  lnL3 = lnL3,lnL4 = lnL4)\n",
    "\n",
    "ggplot(df_L, aes(x=mu))+\n",
    "    geom_line(aes(y=lnL))+\n",
    "    geom_line(aes(y=lnL1),color='red')+\n",
    "    geom_line(aes(y=lnL2),color='red')+\n",
    "    geom_line(aes(y=lnL3),color='red')+\n",
    "    geom_line(aes(y=lnL4),color='red')"
   ]
  },
  {
   "cell_type": "markdown",
   "metadata": {},
   "source": [
    "Итак, чем более выпукла функция, тем более выражен максимум, тем более сильно мы уверенны в том, что оценка параметра была найдена хорошо.\n",
    "\n",
    "Что отвечает за выпуклость функции? Правильно! Вторая производная. Именно её, взятую со знаком минус, интерпретируют как наблюдённую информацию.  \n",
    "\n",
    "$$\n",
    "I_o(\\theta) =  - \\left( \\frac{\\partial^2 \\ln L}{\\partial \\theta^2}  \\right)\n",
    "$$\n",
    "\n",
    "Почему со знаком минус? Потому что у нас максимум, в точке максимума вторая производная отрицательна. А информация должна быть положительной. Если параметр векторный, то в этом случае наблюдэнная информация представляется наблюдённой информационной матрицей: \n",
    "\n",
    "$$\n",
    "I_o(\\theta) =  - \\left( \\frac{\\partial^2 \\ln L}{\\partial \\theta_i \\partial \\theta_j}  \\right) = - H\n",
    "$$\n",
    "\n",
    "Индекс o в данном случае обозначает observed, информацию, которую мы реально видели. В матрице на во всех клетках стоят числа. Они зависят от конкретных значений наблюдений. \n",
    "\n",
    "Обратите внимание, что на первой картинке, правдоподобия, построенные для разных наблюдений выпуклы по разному. Получается, что каждое наблюдение вносит в заострённость нашего правдоподобия разный вклад, то есть в каждом наблюдении содержится разное количество информации. "
   ]
  },
  {
   "cell_type": "markdown",
   "metadata": {},
   "source": [
    "Математическое ожидание этой матрицы по распределению $x$ называется информационной матрицей Фишера. \n",
    "\n",
    "$$\n",
    "I(\\theta) =  - E\\left( \\frac{\\partial^2 \\ln L}{\\partial \\theta_i \\partial \\theta_j}  \\right) = -E(H)\n",
    "$$\n",
    "\n",
    "Ожидаемая информация зависит только от закона распределения наблюдений. Она отражает то, какую информацию в среднем вносит в наше правдоподобие, каждое наблюдение. \n",
    "\n",
    "Если функция плотности $f(x \\mid \\theta)$ удовлетворяет условиям регулярности, то тогда для любой несмещённой оценки $\\hat \\theta$ выполняется неравенство Рао-Фреше-Крамера: \n",
    "\n",
    "$$\n",
    "Var(\\hat \\theta) \\ge [I(\\theta)]^{-1}\n",
    "$$\n",
    "\n",
    "Более того, в этом случае \n",
    "\n",
    "$$\n",
    "I(\\theta) =  - E\\left( \\frac{\\partial^2 \\ln L}{\\partial \\theta^2}  \\right) = E\\left[ \\left( \\frac{\\partial \\ln L}{\\partial \\theta} \\right)^2  \\right],\n",
    "$$\n",
    "\n",
    "но доказывать это здесь, мы конечно же не будем. "
   ]
  },
  {
   "cell_type": "markdown",
   "metadata": {},
   "source": [
    "При тех же условиях регулярности, оценка максимального правдоподоия обладает набором приятных асимптотических свойств: \n",
    "\n",
    "1. Состоятельность \n",
    "2. Асимптотическая несмещённость\n",
    "3. Асимптотическая эффективность\n",
    "4. Асимптотическая нормальность: \n",
    "\n",
    "$$\n",
    "\\hat \\theta \\to N(\\theta, I(\\theta)^{-1}) \n",
    "$$\n",
    "\n",
    "\n",
    "Асимптотическую нормальность обычно используют на практике для строительства доверительных интервалов и проверки гипотез. Чтобы сделать это, yужно найти подходящую оценку для информации Фишера, посчитанную на основе выборки. \n",
    "\n",
    "Обычно поступают двумя путями: либо заменяют в матрице Гессе, $-H$, все $\\theta$ на оценки, либо заменяют в матрице $-E(H)$ все $\\theta$ на оценки. Именно так мы с вами поступим, когда будем решать задачки."
   ]
  },
  {
   "cell_type": "markdown",
   "metadata": {},
   "source": [
    "## 2. Задача об эм-энд-эмсинах\n",
    "\n",
    "Я купил несколько упаковок с конфетками и посчитал как часто в них встречаются жёлтые конфетки и красные конфетки. Красных оказалось $46$ штук. Жёлтых $44$ штуки. Остальных цветов $237$ штук. Распределение конфеток на мой взгляд выглядит следующим образом: \n",
    "\n",
    "| X | красная | жёлтая | другой цвет   |\n",
    "|---|---------|--------|---------------|\n",
    "|   |  $p_1$  |  $p_2$ |  $1-p_1 - p_2$|\n",
    "\n",
    "У нас в выборке есть $x_1$ красных конфеток и $x_2$ жёлтых. $p_1$ и $p_2$ это ненаблюдаемые константы. $X_1$ и $X_2$ это наблюдаемые случайные величины. Наша цель найти $\\hat p_1(X_1, X_2)$ и  $\\hat p_2(X_1, X_2)$. \n",
    "\n",
    "Для этого выписываем функцию правдоподобия! \n",
    "\n",
    "$$\n",
    "L = p_1^{X_1} \\cdot p_2^{X_2} \\cdot (1-p_1-p_2)^{n-X_1-X_2}\n",
    "$$\n",
    "\n",
    "Логарифмируем её:\n",
    "\n",
    "$$\n",
    "ln L = X_1 \\ln p_1 + X_2 \\ln p_2 + (n - X_1 - X_2) \\ln(1-p_1-p_2)\n",
    "$$\n",
    "\n",
    "Чтобы найти максимум, берём производные!\n",
    "\n",
    "$$\n",
    "\\begin{cases} \n",
    "\\frac{\\partial \\ln L}{\\partial p_1} = \\frac{X_1}{p_1} - \\frac{n-X_1-X_2}{1-p_1-p_2} \\\\\n",
    "\\frac{\\partial \\ln L}{\\partial p_2} = \\frac{X_2}{p_2} - \\frac{n-X_1-X_2}{1-p_1-p_2}\n",
    "\\end{cases}\n",
    "$$\n",
    "\n",
    "Приравниваем всё это добро к нулю, на буквами $p$ появляются колпачки. С этого момента мы имеем дело с оценками параметров. При настоящих значениях $p$ производные могут быть не равны нулю в доставшихся нам $x_i$. \n",
    "\n",
    "В результате решения системы получаем, что \n",
    "\n",
    "$$\n",
    "\\begin{cases} \n",
    "\\hat p_1^{ML} = \\frac{X_1}{n} \\\\\n",
    "\\hat p_2^{ML} = \\frac{X_2}{n}\n",
    "\\end{cases}\n",
    "$$\n",
    "\n",
    "В общем то это довольно логичный результат. То, что я вижу вне ящика, то и происходит в ящике. Таковы наши оценки. \n",
    "\n",
    "Займёмся вторыми производными. Через них найдём оценку информационной матрицы $I$. Это можно сделать двумя способами: найти $-H$ и подставить в неё $\\hat p$, либо найти $-E(H)$  и подставить в неё $\\hat p$. Дальше мы можем найти оценку для $Var(\\hat p)$. Эта оценка позволит нам построить для оценок $\\hat p$ доверительные интервалы и понять насколько точными получились наши оценки. \n",
    "\n",
    "Найдём матрицу Гессе:\n",
    "\n",
    "$$\n",
    "H = \\begin{pmatrix} \n",
    "\\frac{\\partial^2 \\ln L}{\\partial p_1^2}, \\frac{\\partial^2 \\ln L}{\\partial p_1 \\partial  p_2} \\\\\n",
    "\\frac{\\partial^2 \\ln L}{\\partial p_2 \\partial p_1}, \\frac{\\partial^2 \\ln L}{\\partial p_2^2}\n",
    "\\end{pmatrix}\n",
    "$$\n",
    "\n",
    "Сделать это несложно. Нужно просто взять четыре производные. \n",
    "\n",
    "$$\n",
    "H = \\begin{pmatrix} \n",
    "-\\frac{X_1}{p_1^2} - \\frac{n-X_1 -X_2}{(1-p_1-p_2)^2}, - \\frac{n-X_1 -X_2}{(1-p_1-p_2)^2} \\\\\n",
    "- \\frac{n-X_1 -X_2}{(1-p_1-p_2)^2}, -\\frac{X_2}{p_2^2} - \\frac{n-X_1 -X_2}{(1-p_1-p_2)^2}\n",
    "\\end{pmatrix}\n",
    "$$\n",
    "\n",
    "$-H$ в точке $\\hat p$ будет оценкой информационной матрицы. Осталось подставить в неё $\\hat p$ и обратить. Делать это вручную лениво. Давайте воспользуемся для этого мощью R."
   ]
  },
  {
   "cell_type": "code",
   "execution_count": 10,
   "metadata": {},
   "outputs": [
    {
     "data": {
      "text/html": [
       "<table>\n",
       "<tbody>\n",
       "\t<tr><td>2791.6751</td><td> 444.7363</td></tr>\n",
       "\t<tr><td> 444.7363</td><td>2689.6343</td></tr>\n",
       "</tbody>\n",
       "</table>\n"
      ],
      "text/latex": [
       "\\begin{tabular}{ll}\n",
       "\t 2791.6751 &  444.7363\\\\\n",
       "\t  444.7363 & 2689.6343\\\\\n",
       "\\end{tabular}\n"
      ],
      "text/markdown": [
       "\n",
       "| 2791.6751 |  444.7363 | \n",
       "|  444.7363 | 2689.6343 | \n",
       "\n",
       "\n"
      ],
      "text/plain": [
       "     [,1]      [,2]     \n",
       "[1,] 2791.6751  444.7363\n",
       "[2,]  444.7363 2689.6343"
      ]
     },
     "metadata": {},
     "output_type": "display_data"
    }
   ],
   "source": [
    "# задаем оценку информационной матрицы руками\n",
    "# Первый способ - подставим в -H оценки параметров: \n",
    "x1 = 46\n",
    "x2 = 44 \n",
    "x3 = 237 \n",
    "n = x1 + x2 + x3\n",
    "\n",
    "hat.I <- matrix(c(x1/0.14^2+237/0.73^2, 237/0.73^2,\n",
    "                  237/0.73^2, x2/0.14^2+237/0.73^2),nrow=2)\n",
    "hat.I"
   ]
  },
  {
   "cell_type": "code",
   "execution_count": 11,
   "metadata": {},
   "outputs": [
    {
     "data": {
      "text/html": [
       "<table>\n",
       "<tbody>\n",
       "\t<tr><td> 3.678990e-04</td><td>-6.083283e-05</td></tr>\n",
       "\t<tr><td>-6.083283e-05</td><td> 3.818566e-04</td></tr>\n",
       "</tbody>\n",
       "</table>\n"
      ],
      "text/latex": [
       "\\begin{tabular}{ll}\n",
       "\t  3.678990e-04 & -6.083283e-05\\\\\n",
       "\t -6.083283e-05 &  3.818566e-04\\\\\n",
       "\\end{tabular}\n"
      ],
      "text/markdown": [
       "\n",
       "|  3.678990e-04 | -6.083283e-05 | \n",
       "| -6.083283e-05 |  3.818566e-04 | \n",
       "\n",
       "\n"
      ],
      "text/plain": [
       "     [,1]          [,2]         \n",
       "[1,]  3.678990e-04 -6.083283e-05\n",
       "[2,] -6.083283e-05  3.818566e-04"
      ]
     },
     "metadata": {},
     "output_type": "display_data"
    }
   ],
   "source": [
    "# считаем обратную --- это будет оценка ковариационной матрицы ошибок\n",
    "hat.Var <- solve(hat.I)\n",
    "hat.Var"
   ]
  },
  {
   "cell_type": "markdown",
   "metadata": {},
   "source": [
    "Мы получили оценку ковариационной матрицы для наших параметров $\\hat p_1$ и $\\hat p_2$. На диагонали стоят оценки дисперсий этих параметров, на побочной диагонали стоит ковариация между нашими оценками. \n",
    "\n",
    "Построи оценку ковариационной матрицы вторым способом. Для этого найдём $E(H)$. Как мы помним, $X_i \\sim Bin(n,p_1)$. Значит $E(X_1) = np_1$. Получается, что: \n",
    "\n",
    "$$\n",
    "E(H) = \\begin{pmatrix} \n",
    "-\\frac{n}{p_1} - \\frac{n}{1-p_1-p_2}, - \\frac{n}{1-p_1-p_2} \\\\\n",
    "- \\frac{n}{1-p_1-p_2}, -\\frac{n}{p_2^2} - \\frac{n}{1-p_1-p_2}\n",
    "\\end{pmatrix}\n",
    "$$\n",
    "\n",
    "Подставими в матрицу $\\hat p$ и обратим её."
   ]
  },
  {
   "cell_type": "code",
   "execution_count": 12,
   "metadata": {},
   "outputs": [
    {
     "data": {
      "text/html": [
       "<table>\n",
       "<tbody>\n",
       "\t<tr><td>2783.6595</td><td> 447.9452</td></tr>\n",
       "\t<tr><td> 447.9452</td><td>2783.6595</td></tr>\n",
       "</tbody>\n",
       "</table>\n"
      ],
      "text/latex": [
       "\\begin{tabular}{ll}\n",
       "\t 2783.6595 &  447.9452\\\\\n",
       "\t  447.9452 & 2783.6595\\\\\n",
       "\\end{tabular}\n"
      ],
      "text/markdown": [
       "\n",
       "| 2783.6595 |  447.9452 | \n",
       "|  447.9452 | 2783.6595 | \n",
       "\n",
       "\n"
      ],
      "text/plain": [
       "     [,1]      [,2]     \n",
       "[1,] 2783.6595  447.9452\n",
       "[2,]  447.9452 2783.6595"
      ]
     },
     "metadata": {},
     "output_type": "display_data"
    }
   ],
   "source": [
    "# Второй способ - подставим в -E(H) оценки параметров: \n",
    "hat.I <- matrix(c(n/0.14 + n/0.73, n/0.73,\n",
    "                  n/0.73, n/0.14 + n/0.73),nrow=2)\n",
    "hat.I"
   ]
  },
  {
   "cell_type": "code",
   "execution_count": 13,
   "metadata": {},
   "outputs": [
    {
     "data": {
      "text/html": [
       "<table>\n",
       "<tbody>\n",
       "\t<tr><td> 3.687892e-04</td><td>-5.934538e-05</td></tr>\n",
       "\t<tr><td>-5.934538e-05</td><td> 3.687892e-04</td></tr>\n",
       "</tbody>\n",
       "</table>\n"
      ],
      "text/latex": [
       "\\begin{tabular}{ll}\n",
       "\t  3.687892e-04 & -5.934538e-05\\\\\n",
       "\t -5.934538e-05 &  3.687892e-04\\\\\n",
       "\\end{tabular}\n"
      ],
      "text/markdown": [
       "\n",
       "|  3.687892e-04 | -5.934538e-05 | \n",
       "| -5.934538e-05 |  3.687892e-04 | \n",
       "\n",
       "\n"
      ],
      "text/plain": [
       "     [,1]          [,2]         \n",
       "[1,]  3.687892e-04 -5.934538e-05\n",
       "[2,] -5.934538e-05  3.687892e-04"
      ]
     },
     "metadata": {},
     "output_type": "display_data"
    }
   ],
   "source": [
    "# считаем обратную --- это будет оценка ковариационной матрицы ошибок\n",
    "hat.Var <- solve(hat.I)\n",
    "hat.Var"
   ]
  },
  {
   "cell_type": "markdown",
   "metadata": {},
   "source": [
    "Это милый результат, но он довольно ручной. Мне бы хотелось теперь проделать все те же изыскания в R от начала до конца. Однако сначала напомню про функции! Обычно, функции в R пишут тогда, когда нужно постоянно выполнять один и тот же кусок кода. Устроена функция как-то так:"
   ]
  },
  {
   "cell_type": "code",
   "execution_count": 14,
   "metadata": {},
   "outputs": [
    {
     "data": {
      "text/html": [
       "49"
      ],
      "text/latex": [
       "49"
      ],
      "text/markdown": [
       "49"
      ],
      "text/plain": [
       "[1] 49"
      ]
     },
     "metadata": {},
     "output_type": "display_data"
    }
   ],
   "source": [
    "# функция лена возводит числа в квадрат\n",
    "lena <- function(x) {\n",
    "  return(x^2)\n",
    "}\n",
    "\n",
    "lena(7)"
   ]
  },
  {
   "cell_type": "markdown",
   "metadata": {},
   "source": [
    "В виде точно такой же функции можно записать нашу логарифмическую функцию правдоподобия. \n",
    "\n",
    "Она будет зависеть от двух аргументов: выборки и параметров, которые нужно оценить. В дальнейшем нам нужно максимизировать функцию правдоподобия. R умеет минимизировать. Поэтому домножим функцию на $-1$. Минимизируя $-L$, мы максимизируем $L$."
   ]
  },
  {
   "cell_type": "code",
   "execution_count": 15,
   "metadata": {},
   "outputs": [],
   "source": [
    "lnL <- function(p,X,n) {\n",
    "    ans <- X[1]*log(p[1])+X[2]*log(p[2])+ (n-X[1]-X[2])*log(1-p[1]-p[2])\n",
    "  return(-ans)\n",
    "}"
   ]
  },
  {
   "cell_type": "markdown",
   "metadata": {},
   "source": [
    "Убедимся, что сы сделали всё правильно и возьмём пробу в паре рандомных точек."
   ]
  },
  {
   "cell_type": "code",
   "execution_count": 16,
   "metadata": {},
   "outputs": [
    {
     "data": {
      "text/html": [
       "45.4514926749802"
      ],
      "text/latex": [
       "45.4514926749802"
      ],
      "text/markdown": [
       "45.4514926749802"
      ],
      "text/plain": [
       "[1] 45.45149"
      ]
     },
     "metadata": {},
     "output_type": "display_data"
    },
    {
     "data": {
      "text/html": [
       "51.5814001601721"
      ],
      "text/latex": [
       "51.5814001601721"
      ],
      "text/markdown": [
       "51.5814001601721"
      ],
      "text/plain": [
       "[1] 51.5814"
      ]
     },
     "metadata": {},
     "output_type": "display_data"
    }
   ],
   "source": [
    "lnL(c(0.2,0.5),c(16,18),40)\n",
    "lnL(c(0.2,0.3),c(16,18),40)"
   ]
  },
  {
   "cell_type": "markdown",
   "metadata": {},
   "source": [
    "Дело за малым! Минимизировать :) "
   ]
  },
  {
   "cell_type": "code",
   "execution_count": 39,
   "metadata": {},
   "outputs": [],
   "source": [
    "?nlm  # можно почитать подсказку"
   ]
  },
  {
   "cell_type": "code",
   "execution_count": 18,
   "metadata": {},
   "outputs": [
    {
     "name": "stderr",
     "output_type": "stream",
     "text": [
      "Warning message in log(p[1]):\n",
      "“созданы NaN”Warning message in log(p[2]):\n",
      "“созданы NaN”Warning message in nlm(lnL, c(1/3, 1/3), hessian = TRUE, X = c(x1, x2), n):\n",
      "“NA/Inf заменены максимальным положительным значением”Warning message in log(p[1]):\n",
      "“созданы NaN”Warning message in log(p[2]):\n",
      "“созданы NaN”Warning message in nlm(lnL, c(1/3, 1/3), hessian = TRUE, X = c(x1, x2), n):\n",
      "“NA/Inf заменены максимальным положительным значением”Warning message in log(p[1]):\n",
      "“созданы NaN”Warning message in log(p[2]):\n",
      "“созданы NaN”Warning message in nlm(lnL, c(1/3, 1/3), hessian = TRUE, X = c(x1, x2), n):\n",
      "“NA/Inf заменены максимальным положительным значением”Warning message in log(p[1]):\n",
      "“созданы NaN”Warning message in log(p[2]):\n",
      "“созданы NaN”Warning message in nlm(lnL, c(1/3, 1/3), hessian = TRUE, X = c(x1, x2), n):\n",
      "“NA/Inf заменены максимальным положительным значением”"
     ]
    }
   ],
   "source": [
    "# минимизируем минус правдоподобие <=> максимизируем правдоподобие\n",
    "res <- nlm(lnL,c(1/3,1/3),\n",
    "            hessian=TRUE,\n",
    "            X=c(x1,x2),n)"
   ]
  },
  {
   "cell_type": "code",
   "execution_count": 19,
   "metadata": {},
   "outputs": [
    {
     "data": {
      "text/html": [
       "<dl>\n",
       "\t<dt>$minimum</dt>\n",
       "\t\t<dd>254.764874304125</dd>\n",
       "\t<dt>$estimate</dt>\n",
       "\t\t<dd><ol class=list-inline>\n",
       "\t<li>0.140672341223262</li>\n",
       "\t<li>0.134556125933412</li>\n",
       "</ol>\n",
       "</dd>\n",
       "\t<dt>$gradient</dt>\n",
       "\t\t<dd><ol class=list-inline>\n",
       "\t<li>-4.05862010666169e-05</li>\n",
       "\t<li>-5.23243670613738e-05</li>\n",
       "</ol>\n",
       "</dd>\n",
       "\t<dt>$hessian</dt>\n",
       "\t\t<dd><table>\n",
       "<tbody>\n",
       "\t<tr><td>2772.5579</td><td> 451.3006</td></tr>\n",
       "\t<tr><td> 451.3006</td><td>2877.9139</td></tr>\n",
       "</tbody>\n",
       "</table>\n",
       "</dd>\n",
       "\t<dt>$code</dt>\n",
       "\t\t<dd>1</dd>\n",
       "\t<dt>$iterations</dt>\n",
       "\t\t<dd>8</dd>\n",
       "</dl>\n"
      ],
      "text/latex": [
       "\\begin{description}\n",
       "\\item[\\$minimum] 254.764874304125\n",
       "\\item[\\$estimate] \\begin{enumerate*}\n",
       "\\item 0.140672341223262\n",
       "\\item 0.134556125933412\n",
       "\\end{enumerate*}\n",
       "\n",
       "\\item[\\$gradient] \\begin{enumerate*}\n",
       "\\item -4.05862010666169e-05\n",
       "\\item -5.23243670613738e-05\n",
       "\\end{enumerate*}\n",
       "\n",
       "\\item[\\$hessian] \\begin{tabular}{ll}\n",
       "\t 2772.5579 &  451.3006\\\\\n",
       "\t  451.3006 & 2877.9139\\\\\n",
       "\\end{tabular}\n",
       "\n",
       "\\item[\\$code] 1\n",
       "\\item[\\$iterations] 8\n",
       "\\end{description}\n"
      ],
      "text/markdown": [
       "$minimum\n",
       ":   254.764874304125\n",
       "$estimate\n",
       ":   1. 0.140672341223262\n",
       "2. 0.134556125933412\n",
       "\n",
       "\n",
       "\n",
       "$gradient\n",
       ":   1. -4.05862010666169e-05\n",
       "2. -5.23243670613738e-05\n",
       "\n",
       "\n",
       "\n",
       "$hessian\n",
       ":   \n",
       "| 2772.5579 |  451.3006 | \n",
       "|  451.3006 | 2877.9139 | \n",
       "\n",
       "\n",
       "\n",
       "$code\n",
       ":   1\n",
       "$iterations\n",
       ":   8\n",
       "\n",
       "\n"
      ],
      "text/plain": [
       "$minimum\n",
       "[1] 254.7649\n",
       "\n",
       "$estimate\n",
       "[1] 0.1406723 0.1345561\n",
       "\n",
       "$gradient\n",
       "[1] -4.058620e-05 -5.232437e-05\n",
       "\n",
       "$hessian\n",
       "          [,1]      [,2]\n",
       "[1,] 2772.5579  451.3006\n",
       "[2,]  451.3006 2877.9139\n",
       "\n",
       "$code\n",
       "[1] 1\n",
       "\n",
       "$iterations\n",
       "[1] 8\n"
      ]
     },
     "metadata": {},
     "output_type": "display_data"
    }
   ],
   "source": [
    "res"
   ]
  },
  {
   "cell_type": "code",
   "execution_count": 20,
   "metadata": {},
   "outputs": [
    {
     "data": {
      "text/html": [
       "<ol class=list-inline>\n",
       "\t<li>0.140672341223262</li>\n",
       "\t<li>0.134556125933412</li>\n",
       "</ol>\n"
      ],
      "text/latex": [
       "\\begin{enumerate*}\n",
       "\\item 0.140672341223262\n",
       "\\item 0.134556125933412\n",
       "\\end{enumerate*}\n"
      ],
      "text/markdown": [
       "1. 0.140672341223262\n",
       "2. 0.134556125933412\n",
       "\n",
       "\n"
      ],
      "text/plain": [
       "[1] 0.1406723 0.1345561"
      ]
     },
     "metadata": {},
     "output_type": "display_data"
    }
   ],
   "source": [
    "res$estimate # оценки правдоподобия"
   ]
  },
  {
   "cell_type": "code",
   "execution_count": 21,
   "metadata": {},
   "outputs": [
    {
     "data": {
      "text/html": [
       "<table>\n",
       "<tbody>\n",
       "\t<tr><td> 3.701254e-04</td><td>-5.804129e-05</td></tr>\n",
       "\t<tr><td>-5.804129e-05</td><td> 3.565757e-04</td></tr>\n",
       "</tbody>\n",
       "</table>\n"
      ],
      "text/latex": [
       "\\begin{tabular}{ll}\n",
       "\t  3.701254e-04 & -5.804129e-05\\\\\n",
       "\t -5.804129e-05 &  3.565757e-04\\\\\n",
       "\\end{tabular}\n"
      ],
      "text/markdown": [
       "\n",
       "|  3.701254e-04 | -5.804129e-05 | \n",
       "| -5.804129e-05 |  3.565757e-04 | \n",
       "\n",
       "\n"
      ],
      "text/plain": [
       "     [,1]          [,2]         \n",
       "[1,]  3.701254e-04 -5.804129e-05\n",
       "[2,] -5.804129e-05  3.565757e-04"
      ]
     },
     "metadata": {},
     "output_type": "display_data"
    }
   ],
   "source": [
    "solve(res$hessian) # оценка ковариационной матрицы оценок"
   ]
  },
  {
   "cell_type": "markdown",
   "metadata": {},
   "source": [
    "Матрицы совпали. Ура! Давайте попробуем теперь сделать то же самое, но при участии пакета, который занимается максимазицей правдоподобия самостоятельно. "
   ]
  },
  {
   "cell_type": "code",
   "execution_count": 25,
   "metadata": {},
   "outputs": [
    {
     "data": {
      "text/plain": [
       "--------------------------------------------\n",
       "Maximum Likelihood estimation\n",
       "Newton-Raphson maximisation, 4 iterations\n",
       "Return code 1: gradient close to zero\n",
       "Log-Likelihood: -254.7649 \n",
       "2  free parameters\n",
       "Estimates:\n",
       "     Estimate Std. error t value  Pr(> t)    \n",
       "[1,]  0.13456    0.01887   7.130 1.00e-12 ***\n",
       "[2,]  0.14067    0.01923   7.316 2.55e-13 ***\n",
       "---\n",
       "Signif. codes:  0 ‘***’ 0.001 ‘**’ 0.01 ‘*’ 0.05 ‘.’ 0.1 ‘ ’ 1\n",
       "--------------------------------------------"
      ]
     },
     "metadata": {},
     "output_type": "display_data"
    }
   ],
   "source": [
    "# install.packages('maxLik')  # если пакет не установлен\n",
    "library('maxLik') # пакет для метода макс. правдоподобия\n",
    "\n",
    "# Логарифмическое правдоподобие со знаком плюс!\n",
    "# Грубо говоря, пакет сам домножает на минус единицу.\n",
    "\n",
    "lnL <- function(p,X) {\n",
    "    ans <- X[1]*log(p[1])+X[2]*log(p[2])+ (X[3])*log(1-p[1]-p[2])\n",
    "  return(ans)\n",
    "}\n",
    "\n",
    "res <- maxLik(lnL, start=c(0.1,0.1),X=c(44,46,237))\n",
    "\n",
    "summary(res) # краткий отчет о результатах оценивания\n",
    "\n",
    "# первый столбик --- сами оценки по методу максимального правдоподобия\n",
    "# второй столбик --- оценки стандартных ошибок\n",
    "# т.е. корни из диагональных элементов оценённой ковариационной матрицы\n",
    "# в третьем и четвёртом столбиках проверятся гипотеза о равенстве этих параметров нулю,\n",
    "# но об этом позже :)"
   ]
  },
  {
   "cell_type": "code",
   "execution_count": 26,
   "metadata": {},
   "outputs": [
    {
     "data": {
      "text/html": [
       "<ol class=list-inline>\n",
       "\t<li>0.134556574942643</li>\n",
       "\t<li>0.140672782905346</li>\n",
       "</ol>\n"
      ],
      "text/latex": [
       "\\begin{enumerate*}\n",
       "\\item 0.134556574942643\n",
       "\\item 0.140672782905346\n",
       "\\end{enumerate*}\n"
      ],
      "text/markdown": [
       "1. 0.134556574942643\n",
       "2. 0.140672782905346\n",
       "\n",
       "\n"
      ],
      "text/plain": [
       "[1] 0.1345566 0.1406728"
      ]
     },
     "metadata": {},
     "output_type": "display_data"
    },
    {
     "data": {
      "text/html": [
       "<table>\n",
       "<tbody>\n",
       "\t<tr><td>-2881.3361</td><td> -451.1946</td></tr>\n",
       "\t<tr><td> -451.1946</td><td>-2775.7210</td></tr>\n",
       "</tbody>\n",
       "</table>\n"
      ],
      "text/latex": [
       "\\begin{tabular}{ll}\n",
       "\t -2881.3361 &  -451.1946\\\\\n",
       "\t  -451.1946 & -2775.7210\\\\\n",
       "\\end{tabular}\n"
      ],
      "text/markdown": [
       "\n",
       "| -2881.3361 |  -451.1946 | \n",
       "|  -451.1946 | -2775.7210 | \n",
       "\n",
       "\n"
      ],
      "text/plain": [
       "     [,1]       [,2]      \n",
       "[1,] -2881.3361  -451.1946\n",
       "[2,]  -451.1946 -2775.7210"
      ]
     },
     "metadata": {},
     "output_type": "display_data"
    },
    {
     "data": {
      "text/html": [
       "<table>\n",
       "<tbody>\n",
       "\t<tr><td>-3.561261e-04</td><td> 5.788845e-05</td></tr>\n",
       "\t<tr><td> 5.788845e-05</td><td>-3.696765e-04</td></tr>\n",
       "</tbody>\n",
       "</table>\n"
      ],
      "text/latex": [
       "\\begin{tabular}{ll}\n",
       "\t -3.561261e-04 &  5.788845e-05\\\\\n",
       "\t  5.788845e-05 & -3.696765e-04\\\\\n",
       "\\end{tabular}\n"
      ],
      "text/markdown": [
       "\n",
       "| -3.561261e-04 |  5.788845e-05 | \n",
       "|  5.788845e-05 | -3.696765e-04 | \n",
       "\n",
       "\n"
      ],
      "text/plain": [
       "     [,1]          [,2]         \n",
       "[1,] -3.561261e-04  5.788845e-05\n",
       "[2,]  5.788845e-05 -3.696765e-04"
      ]
     },
     "metadata": {},
     "output_type": "display_data"
    }
   ],
   "source": [
    "res$estimate        # оценки\n",
    "res$hessian         # оценка матрицы Гессе\n",
    "solve(res$hessian)  # оценка ковариационной матрицы оценок"
   ]
  },
  {
   "cell_type": "markdown",
   "metadata": {},
   "source": [
    "На картинке ниже находится эм-энд-мсовый тймлайн. Можно посмотреть в какие годы какими были цвета у конфеток.\n",
    "\n",
    "<img src=\"https://raw.githubusercontent.com/FUlyankin/r_probability/master/end_seminars/sem_4/manams_col.png\" height=\"750\" width=\"750\"> \n"
   ]
  },
  {
   "cell_type": "markdown",
   "metadata": {},
   "source": [
    "## 3. Угольные шахты и аварии на них\n",
    "\n",
    "В [табличке](https://yadi.sk/i/wIFZJJ3X3VdPow) лежат данные о количестве крупных аварий на английских угольных шахтах."
   ]
  },
  {
   "cell_type": "code",
   "execution_count": 27,
   "metadata": {},
   "outputs": [
    {
     "data": {
      "text/html": [
       "<table>\n",
       "<thead><tr><th scope=col>X</th><th scope=col>year</th><th scope=col>count</th></tr></thead>\n",
       "<tbody>\n",
       "\t<tr><td>1   </td><td>1851</td><td>4   </td></tr>\n",
       "\t<tr><td>2   </td><td>1852</td><td>5   </td></tr>\n",
       "\t<tr><td>3   </td><td>1853</td><td>4   </td></tr>\n",
       "\t<tr><td>4   </td><td>1854</td><td>1   </td></tr>\n",
       "\t<tr><td>5   </td><td>1855</td><td>0   </td></tr>\n",
       "\t<tr><td>6   </td><td>1856</td><td>4   </td></tr>\n",
       "</tbody>\n",
       "</table>\n"
      ],
      "text/latex": [
       "\\begin{tabular}{r|lll}\n",
       " X & year & count\\\\\n",
       "\\hline\n",
       "\t 1    & 1851 & 4   \\\\\n",
       "\t 2    & 1852 & 5   \\\\\n",
       "\t 3    & 1853 & 4   \\\\\n",
       "\t 4    & 1854 & 1   \\\\\n",
       "\t 5    & 1855 & 0   \\\\\n",
       "\t 6    & 1856 & 4   \\\\\n",
       "\\end{tabular}\n"
      ],
      "text/markdown": [
       "\n",
       "X | year | count | \n",
       "|---|---|---|---|---|---|\n",
       "| 1    | 1851 | 4    | \n",
       "| 2    | 1852 | 5    | \n",
       "| 3    | 1853 | 4    | \n",
       "| 4    | 1854 | 1    | \n",
       "| 5    | 1855 | 0    | \n",
       "| 6    | 1856 | 4    | \n",
       "\n",
       "\n"
      ],
      "text/plain": [
       "  X year count\n",
       "1 1 1851 4    \n",
       "2 2 1852 5    \n",
       "3 3 1853 4    \n",
       "4 4 1854 1    \n",
       "5 5 1855 0    \n",
       "6 6 1856 4    "
      ]
     },
     "metadata": {},
     "output_type": "display_data"
    }
   ],
   "source": [
    "df = read.csv('/Users/fulyankin/Yandex.Disk.localized/R/R_prob_data/coal.csv', sep=',')\n",
    "head(df)"
   ]
  },
  {
   "cell_type": "code",
   "execution_count": 28,
   "metadata": {},
   "outputs": [
    {
     "data": {
      "text/html": [
       "112"
      ],
      "text/latex": [
       "112"
      ],
      "text/markdown": [
       "112"
      ],
      "text/plain": [
       "[1] 112"
      ]
     },
     "metadata": {},
     "output_type": "display_data"
    },
    {
     "data": {},
     "metadata": {},
     "output_type": "display_data"
    },
    {
     "data": {
      "image/png": "[encoded data removed]",
      "text/plain": [
       "plot without title"
      ]
     },
     "metadata": {},
     "output_type": "display_data"
    }
   ],
   "source": [
    "x <- df$count        # наша выборка \n",
    "length(x)            # размер выборки \n",
    "qplot(x, bins=30)"
   ]
  },
  {
   "cell_type": "markdown",
   "metadata": {},
   "source": [
    "Судя по гистограмме уместно предположить, что число аварий имеет распределение Пуассона, $Poiss(\\lambda)$. Попробуем оценить параметр $\\lambda$ методом максимального правдоподобия. \n",
    "\n",
    "Вероятность значения: $$\\frac{e^{-\\lambda} \\lambda^k}{k!}$$\n",
    "\n",
    "Логарифмическое правдоподобие: $$ \\sum x_i \\ln \\lambda - n \\lambda$$\n",
    "\n",
    "Производная номер один: $$ \\frac{\\partial \\ln L}{\\partial \\lambda} =  \\frac{\\sum x_i}{\\lambda}  - n $$\n",
    "\n",
    "Оценка максимального правдоподобия: $$\\hat \\lambda^{ML} = \\bar x$$\n",
    "\n",
    "А теперь всё то эе самое, но в R!"
   ]
  },
  {
   "cell_type": "code",
   "execution_count": 29,
   "metadata": {
    "scrolled": false
   },
   "outputs": [],
   "source": [
    "lnL <- function(lambda, x) {\n",
    "  n <- length(x)\n",
    "  answer <- -lambda*n+log(lambda)*sum(x)\n",
    "  return(answer)\n",
    "}"
   ]
  },
  {
   "cell_type": "code",
   "execution_count": 30,
   "metadata": {},
   "outputs": [
    {
     "data": {
      "text/html": [
       "-112"
      ],
      "text/latex": [
       "-112"
      ],
      "text/markdown": [
       "-112"
      ],
      "text/plain": [
       "[1] -112"
      ]
     },
     "metadata": {},
     "output_type": "display_data"
    },
    {
     "data": {
      "text/html": [
       "-188.39111148695"
      ],
      "text/latex": [
       "-188.39111148695"
      ],
      "text/markdown": [
       "-188.39111148695"
      ],
      "text/plain": [
       "[1] -188.3911"
      ]
     },
     "metadata": {},
     "output_type": "display_data"
    }
   ],
   "source": [
    "# Пара значений функции\n",
    "lnL(1, x)\n",
    "lnL(0.5, x)"
   ]
  },
  {
   "cell_type": "code",
   "execution_count": 31,
   "metadata": {},
   "outputs": [
    {
     "data": {
      "text/plain": [
       "--------------------------------------------\n",
       "Maximum Likelihood estimation\n",
       "Newton-Raphson maximisation, 4 iterations\n",
       "Return code 1: gradient close to zero\n",
       "Log-Likelihood: -89.04906 \n",
       "1  free parameters\n",
       "Estimates:\n",
       "     Estimate Std. error t value Pr(> t)    \n",
       "[1,]   1.7054     0.1234   13.82  <2e-16 ***\n",
       "---\n",
       "Signif. codes:  0 ‘***’ 0.001 ‘**’ 0.01 ‘*’ 0.05 ‘.’ 0.1 ‘ ’ 1\n",
       "--------------------------------------------"
      ]
     },
     "metadata": {},
     "output_type": "display_data"
    }
   ],
   "source": [
    "result <- maxLik(lnL, start=2, x=x)\n",
    "summary(result)"
   ]
  },
  {
   "cell_type": "code",
   "execution_count": 32,
   "metadata": {},
   "outputs": [
    {
     "data": {
      "text/html": [
       "1.70535714285714"
      ],
      "text/latex": [
       "1.70535714285714"
      ],
      "text/markdown": [
       "1.70535714285714"
      ],
      "text/plain": [
       "[1] 1.705357"
      ]
     },
     "metadata": {},
     "output_type": "display_data"
    }
   ],
   "source": [
    "# сверимся с теорией! Оценка получилась хорошей :) \n",
    "mean(x)"
   ]
  },
  {
   "cell_type": "code",
   "execution_count": 33,
   "metadata": {},
   "outputs": [
    {
     "data": {
      "text/html": [
       "1.70535714310698"
      ],
      "text/latex": [
       "1.70535714310698"
      ],
      "text/markdown": [
       "1.70535714310698"
      ],
      "text/plain": [
       "[1] 1.705357"
      ]
     },
     "metadata": {},
     "output_type": "display_data"
    }
   ],
   "source": [
    "# Вытащим оценку в отдельную переменную\n",
    "lambda_hat <- result$estimate\n",
    "lambda_hat"
   ]
  },
  {
   "cell_type": "markdown",
   "metadata": {},
   "source": [
    "Вторая производная : $$ \\frac{\\partial^2 \\ln L}{\\partial \\lambda^2} =  -\\frac{\\sum x_i}{\\lambda^2} $$\n",
    "\n",
    "В этой задачке только один параметр. Поэтому матрица гессе это только одна единственная производная. Давайте найдём оценку дисперсии для нашей $\\hat \\lambda$: \n",
    "\n",
    "$$\n",
    "- H = \\frac{\\sum x_i}{\\lambda^2}\n",
    "$$\n",
    "\n",
    "$$\n",
    "- E(H) =  \\frac{n}{\\lambda}\n",
    "$$"
   ]
  },
  {
   "cell_type": "code",
   "execution_count": 34,
   "metadata": {},
   "outputs": [
    {
     "data": {
      "text/html": [
       "0.0152264030656858"
      ],
      "text/latex": [
       "0.0152264030656858"
      ],
      "text/markdown": [
       "0.0152264030656858"
      ],
      "text/plain": [
       "[1] 0.0152264"
      ]
     },
     "metadata": {},
     "output_type": "display_data"
    }
   ],
   "source": [
    "# Первая оценка: \n",
    "1/(sum(x)/lambda_hat^2)"
   ]
  },
  {
   "cell_type": "code",
   "execution_count": 35,
   "metadata": {},
   "outputs": [
    {
     "data": {
      "text/html": [
       "0.0152264030634552"
      ],
      "text/latex": [
       "0.0152264030634552"
      ],
      "text/markdown": [
       "0.0152264030634552"
      ],
      "text/plain": [
       "[1] 0.0152264"
      ]
     },
     "metadata": {},
     "output_type": "display_data"
    }
   ],
   "source": [
    "# Вторая оценка: \n",
    "1/(length(x)/lambda_hat)"
   ]
  },
  {
   "cell_type": "code",
   "execution_count": 36,
   "metadata": {},
   "outputs": [
    {
     "data": {
      "text/html": [
       "<table>\n",
       "<tbody>\n",
       "\t<tr><td>0.01523463</td></tr>\n",
       "</tbody>\n",
       "</table>\n"
      ],
      "text/latex": [
       "\\begin{tabular}{l}\n",
       "\t 0.01523463\\\\\n",
       "\\end{tabular}\n"
      ],
      "text/markdown": [
       "\n",
       "| 0.01523463 | \n",
       "\n",
       "\n"
      ],
      "text/plain": [
       "     [,1]      \n",
       "[1,] 0.01523463"
      ]
     },
     "metadata": {},
     "output_type": "display_data"
    }
   ],
   "source": [
    "# Оценка из пакета: \n",
    "-1*1/result$hessian"
   ]
  },
  {
   "cell_type": "markdown",
   "metadata": {},
   "source": [
    "Давайте попробуем воспользоваться этой оценкой. Мы с вами помним, что оценка максимального правдоподобия довольно няшная. Она имеет асимптотически нормальное распределение: \n",
    "\n",
    "$$\\hat \\lambda \\sim N(\\lambda, 0.01524)$$\n",
    "\n",
    "Давайте построим для неё, отталкиваясь от этой информации доверительный интервал."
   ]
  },
  {
   "cell_type": "code",
   "execution_count": 37,
   "metadata": {},
   "outputs": [
    {
     "name": "stdout",
     "output_type": "stream",
     "text": [
      "Параметр lambda с вероятностью 95% лежит между 1.463441 и 1.947273"
     ]
    }
   ],
   "source": [
    "se = sqrt(-1*1/result$hessian)\n",
    "lambda_left  = lambda_hat - qnorm(1-0.05/2)*se\n",
    "lambda_right = lambda_hat + qnorm(1-0.05/2)*se\n",
    "cat('Параметр lambda с вероятностью 95% лежит между',lambda_left, 'и',lambda_right)"
   ]
  },
  {
   "cell_type": "markdown",
   "metadata": {},
   "source": [
    "Обратите внимание, что интервал получился довольно коротким. Это сигнализирует о высокой точности оценки. Давайте посмотрим с какой вероятностью в следующем году произойдёт какое количество катастроф, то есть построим прогноз для наших угольных шахт:"
   ]
  },
  {
   "cell_type": "code",
   "execution_count": 38,
   "metadata": {},
   "outputs": [
    {
     "data": {
      "text/html": [
       "<ol class=list-inline>\n",
       "\t<li>0.18</li>\n",
       "\t<li>0.31</li>\n",
       "\t<li>0.26</li>\n",
       "\t<li>0.15</li>\n",
       "\t<li>0.06</li>\n",
       "\t<li>0.02</li>\n",
       "</ol>\n"
      ],
      "text/latex": [
       "\\begin{enumerate*}\n",
       "\\item 0.18\n",
       "\\item 0.31\n",
       "\\item 0.26\n",
       "\\item 0.15\n",
       "\\item 0.06\n",
       "\\item 0.02\n",
       "\\end{enumerate*}\n"
      ],
      "text/markdown": [
       "1. 0.18\n",
       "2. 0.31\n",
       "3. 0.26\n",
       "4. 0.15\n",
       "5. 0.06\n",
       "6. 0.02\n",
       "\n",
       "\n"
      ],
      "text/plain": [
       "[1] 0.18 0.31 0.26 0.15 0.06 0.02"
      ]
     },
     "metadata": {},
     "output_type": "display_data"
    }
   ],
   "source": [
    "f <- 0:5\n",
    "round(exp(-lambda_hat)*lambda_hat^f/factorial(f),2)"
   ]
  },
  {
   "cell_type": "markdown",
   "metadata": {},
   "source": [
    "Вероятнее всего на шахте произойдёт две катастрофы. Надо быть готовым к этому. На практике распределение Пуассона часто используют во всемирной организации здравоохрания. У каждого вируса гриппа есть свои особенности и нельзя привить людей сразу от всех недугов. Поэтому с помощью распределения Пуассона пытаются прогнозировать какие разновидности гриппа будут самыми популярными. Вакцину для прививок специфицируют именно под эти разновидности. Ясное дело, что они оценивают на основе распределения Пуассона более сложные модели. Какие именно, мы увидим на следующей паре."
   ]
  },
  {
   "cell_type": "markdown",
   "metadata": {},
   "source": [
    "Остался последний нюанс. Выше мы сказали, что если функция плотности $f(x \\mid \\theta)$ удовлетворяет условиям регулярности, то тогда для любой несмещённой оценки $\\hat \\theta$ выполняется:\n",
    "\n",
    "$$\n",
    "I(\\theta) =  E\\left( \\frac{\\partial^2 \\ln L}{\\partial \\theta^2}  \\right) = E\\left[ \\left( \\frac{\\partial \\ln L}{\\partial \\theta} \\right)^2  \\right],\n",
    "$$\n",
    "\n",
    "то есть вторая производная является ничем иным как информацией Фишера. Давайте убедимся в этом на примере распределения Пуассона. Для простоты будем считать, что у нас есть только одно наблюдение и $\\ln L = \\ln f(x,\\lambda)$. Если мы откроем семинары/лекции или ручками найдём информацию Фишера для распределения Пуассона, мы увидим, что:\n",
    "\n",
    "$$\n",
    "J(\\lambda) = \\frac{1}{\\lambda}\n",
    "$$\n",
    "\n",
    "Это совпадает с $-E(H)$ для одного наблдюдения. __Остановитесь! И задумайтесь о том в чём смысл информации Фишера, при чём тут вторая производная и почему это информация.__ Если вы смогли ответить на эти вопросы, двигайтесь дальше. Если не смогли, то перечитайте начало блокнота. Если вы всё ещё ничего не поняли, пишите в лс :)"
   ]
  }
 ],
 "metadata": {
  "kernelspec": {
   "display_name": "R",
   "language": "R",
   "name": "ir"
  },
  "language_info": {
   "codemirror_mode": "r",
   "file_extension": ".r",
   "mimetype": "text/x-r-source",
   "name": "R",
   "pygments_lexer": "r",
   "version": "3.4.2"
  }
 },
 "nbformat": 4,
 "nbformat_minor": 2
}
