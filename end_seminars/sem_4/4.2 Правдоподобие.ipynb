{
 "cells": [
  {
   "cell_type": "code",
   "execution_count": null,
   "metadata": {},
   "outputs": [],
   "source": []
  },
  {
   "cell_type": "code",
   "execution_count": null,
   "metadata": {},
   "outputs": [],
   "source": []
  },
  {
   "cell_type": "markdown",
   "metadata": {},
   "source": [
    "## M&Ms\n"
   ]
  },
  {
   "cell_type": "code",
   "execution_count": null,
   "metadata": {},
   "outputs": [],
   "source": []
  },
  {
   "cell_type": "code",
   "execution_count": null,
   "metadata": {},
   "outputs": [],
   "source": []
  },
  {
   "cell_type": "code",
   "execution_count": null,
   "metadata": {},
   "outputs": [],
   "source": []
  },
  {
   "cell_type": "code",
   "execution_count": null,
   "metadata": {},
   "outputs": [],
   "source": []
  },
  {
   "cell_type": "code",
   "execution_count": null,
   "metadata": {},
   "outputs": [],
   "source": []
  },
  {
   "cell_type": "code",
   "execution_count": null,
   "metadata": {},
   "outputs": [],
   "source": []
  },
  {
   "cell_type": "code",
   "execution_count": null,
   "metadata": {},
   "outputs": [],
   "source": [
    "### задача 4\n",
    "\n",
    "set.seed(42)  # установим стартовое значение для генератора случайных чисел\n",
    "x <- runif(200) # сгенерим 200 равномерных на [0;1]\n",
    "x[1:5]\n",
    "\n",
    "# функция ксюша возводит числа в квадрат\n",
    "ksusha <- function(x) {\n",
    "  return(x^2)\n",
    "}\n",
    "\n",
    "ksusha(7)\n",
    "\n",
    "# логарифмическая функция правдоподобия для задачи 4 со знаком минус\n",
    "log_lik <- function(a,dat) {\n",
    "  n <- length(dat) # количество элементов в векторе dat\n",
    "  res <- n*log(a) + (a-1)*sum(log(dat))\n",
    "  return(-res)\n",
    "}\n",
    "\n",
    "# считаем для пробы значения нашей функции в некоторых точках\n",
    "# числа 2 и 5 взяты от фонаря\n",
    "log_lik(2,x)\n",
    "log_lik(5,x)\n",
    "\n",
    "# нелинейная оптимизация\n",
    "?nlm\n",
    "\n",
    "opt <- nlm(log_lik,p=5,hessian=TRUE,dat=x)\n",
    "# p=5 - стартовое значение параметра, от которого R начинает искать экстремум.\n",
    "\n",
    "a.hat <- opt$estimate # точка минимума функции\n",
    "a.hat # оценка методом ML\n",
    "\n",
    "var.hat <- 1/opt$hessian # матрица Гессе в точке минимума функции\n",
    "var.hat # оценка дисперсии ML оценки\n"
   ]
  },
  {
   "cell_type": "code",
   "execution_count": null,
   "metadata": {},
   "outputs": [],
   "source": [
    "########## 5\n",
    "\n",
    "# генерим искусственные данные\n",
    "x <- rnorm(200,mean=4,sd=3)\n",
    "\n",
    "# функция правдоподобия зависит от двух параметров и вектора данных\n",
    "# param - вектор из двух параметров\n",
    "# data - вектор данных\n",
    "log_lik <- function(param,data) {\n",
    "  mu <- param[1]\n",
    "  s2 <- param[2]\n",
    "  n <- length(data)\n",
    "  result <- -n/2*log(2*pi)-n/2*log(s2)-sum((data-mu)^2)/(2*s2)\n",
    "  return(-result)\n",
    "}\n",
    "\n",
    "log_lik(c(3,5),x)\n",
    "\n",
    "# результаты оптимизации\n",
    "optimum <- nlm(log_lik,p=c(0,1),hessian=TRUE,data=x)\n",
    "optimum\n",
    "\n",
    "# вектор оценок неизвестных параметров\n",
    "theta.hat <- optimum$estimate\n",
    "\n",
    "# матрица Гессе в точке оптимума\n",
    "H <- optimum$hessian\n",
    "print(H,digits=2)\n",
    "\n",
    "# оценка ковариационной матрицы - это обратная матрица к матрице Гессе\n",
    "var.theta <- solve(H) \n",
    "\n",
    "# стандартные отклонения - это корни из диагональных элементов\n",
    "st.devs <- sqrt(diag(var.theta))\n",
    "st.devs\n",
    "z.cr\n",
    "\n",
    "ci.left <- theta.hat - z.cr*st.devs\n",
    "ci.right <- theta.hat + z.cr*st.devs\n",
    "\n",
    "ci.left\n",
    "ci.right"
   ]
  },
  {
   "cell_type": "code",
   "execution_count": null,
   "metadata": {},
   "outputs": [],
   "source": []
  },
  {
   "cell_type": "code",
   "execution_count": null,
   "metadata": {},
   "outputs": [],
   "source": []
  },
  {
   "cell_type": "code",
   "execution_count": null,
   "metadata": {},
   "outputs": [],
   "source": []
  }
 ],
 "metadata": {
  "kernelspec": {
   "display_name": "R",
   "language": "R",
   "name": "ir"
  },
  "language_info": {
   "codemirror_mode": "r",
   "file_extension": ".r",
   "mimetype": "text/x-r-source",
   "name": "R",
   "pygments_lexer": "r",
   "version": "3.4.2"
  }
 },
 "nbformat": 4,
 "nbformat_minor": 2
}
