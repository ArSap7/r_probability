{
 "cells": [
  {
   "cell_type": "markdown",
   "metadata": {},
   "source": [
    "<img src=\"https://raw.githubusercontent.com/FUlyankin/r_probability/master/end_seminars/sem_3/swan3.png\" height=\"300\" width=\"300\"> \n",
    "\n",
    "# <center> R для тервера и матстата. <br>  <br> 4.2 Максимальное правдоподобие, часть первая! </center>\n",
    "\n",
    "Данный ноутбук является конспектом по курсу «R для теории вероятностей и математической статистики» (РАНХиГС, 2017-2018). Автор ноутбука [вот этот парень по имени Филипп.](https://vk.com/ppilif) Если у вас для него есть деньги, слава или женщины, он от этого всего не откажется. Ноутбук распространяется на условиях лицензии [Creative Commons Attribution-Share Alike 4.0.](https://creativecommons.org/licenses/by-sa/4.0/) При использовании обязательно упоминание автора курса и аффилиации. При наличии технической возможности необходимо также указать активную гиперссылку на [страницу курса.](https://fulyankin.github.io/R_probability/) На ней можно найти другие материалы. Фрагменты кода, включенные в этот notebook, публикуются как [общественное достояние.](https://creativecommons.org/publicdomain/zero/1.0/)\n",
    "\n",
    "---------\n",
    "\n",
    "\n",
    "Метод максимального правдоподобия - это основная лошадка современной статистики. Функция правдоподобия встречается абсолютно во всех областях от эконометрики и байесовской статистики до нейронных сетей и рекомендательных систем. Из-за этого очень важно как следует понять как она устроена. \n",
    "\n",
    "В этой тетрадке именно этим мы и займёмся. Для начала мы попробуем решить в R парочку задачек на метод максимального правдоподобия. Затем мы посмотрим на его поднаготную. Побочным плюсом наших изысканий станет понимание того, что такое информация Фишера и почему она ищется именно так, как ищется. Скорее всего, вас довольно давно будоражит этот вопрос. "
   ]
  },
  {
   "cell_type": "code",
   "execution_count": 17,
   "metadata": {},
   "outputs": [],
   "source": [
    "library(\"ggplot2\")  # Пакет для красивых графиков \n",
    "library(\"grid\")     # Пакет для субплотов\n",
    "\n",
    "# Отрегулируем размер картинок, которые будут выдаваться в нашей тетрадке\n",
    "library('repr')\n",
    "options(repr.plot.width=4, repr.plot.height=3)"
   ]
  },
  {
   "cell_type": "code",
   "execution_count": null,
   "metadata": {},
   "outputs": [],
   "source": []
  },
  {
   "cell_type": "markdown",
   "metadata": {},
   "source": [
    "## 1. Задача об эм-энд-эмсинах\n",
    "\n",
    "Я купил несколько упаковок с конфетками и посчитал как часто в них встречаются жёлтые конфетки и красные конфетки. Распределение конфеток на мой взгляд выглядит следующим образом: \n",
    "\n",
    "| X | красная | жёлтая | другой цвет   |\n",
    "|---|---------|--------|---------------|\n",
    "|   |  $p_1$  |  $p_2$ |  $1-p_1 - p_2$|\n",
    "\n",
    "Мы выписали на доске функцию правдоподобия для этой задачки и руками нашли оценки для неизвестных параметров. После мы нашли оценку ковариационной матрицы для этих параметров и поговорили о доверительных интервалах. Конечно же нам было лень обращать матрицу вручную, поэтому мы решили сделать это в R:"
   ]
  },
  {
   "cell_type": "code",
   "execution_count": 14,
   "metadata": {},
   "outputs": [
    {
     "data": {
      "text/html": [
       "<table>\n",
       "<tbody>\n",
       "\t<tr><td>776.5152</td><td>151.5152</td></tr>\n",
       "\t<tr><td>151.5152</td><td>707.0707</td></tr>\n",
       "</tbody>\n",
       "</table>\n"
      ],
      "text/latex": [
       "\\begin{tabular}{ll}\n",
       "\t 776.5152 & 151.5152\\\\\n",
       "\t 151.5152 & 707.0707\\\\\n",
       "\\end{tabular}\n"
      ],
      "text/markdown": [
       "\n",
       "| 776.5152 | 151.5152 | \n",
       "| 151.5152 | 707.0707 | \n",
       "\n",
       "\n"
      ],
      "text/plain": [
       "     [,1]     [,2]    \n",
       "[1,] 776.5152 151.5152\n",
       "[2,] 151.5152 707.0707"
      ]
     },
     "metadata": {},
     "output_type": "display_data"
    }
   ],
   "source": [
    "# задаем оценку информационной матрицы руками\n",
    "hat.I <- matrix(c(16/0.16^2+66/0.66^2,66/0.66^2,\n",
    "                  66/0.66^2,18/0.18^2+66/0.66^2),nrow=2)\n",
    "hat.I"
   ]
  },
  {
   "cell_type": "code",
   "execution_count": 15,
   "metadata": {},
   "outputs": [
    {
     "data": {
      "text/html": [
       "<table>\n",
       "<tbody>\n",
       "\t<tr><td> 0.001344</td><td>-0.000288</td></tr>\n",
       "\t<tr><td>-0.000288</td><td> 0.001476</td></tr>\n",
       "</tbody>\n",
       "</table>\n"
      ],
      "text/latex": [
       "\\begin{tabular}{ll}\n",
       "\t  0.001344 & -0.000288\\\\\n",
       "\t -0.000288 &  0.001476\\\\\n",
       "\\end{tabular}\n"
      ],
      "text/markdown": [
       "\n",
       "|  0.001344 | -0.000288 | \n",
       "| -0.000288 |  0.001476 | \n",
       "\n",
       "\n"
      ],
      "text/plain": [
       "     [,1]      [,2]     \n",
       "[1,]  0.001344 -0.000288\n",
       "[2,] -0.000288  0.001476"
      ]
     },
     "metadata": {},
     "output_type": "display_data"
    }
   ],
   "source": [
    "# считаем обратную --- это будет оценка ковариационной матрицы ошибок\n",
    "hat.Var <- solve(hat.I)\n",
    "hat.Var"
   ]
  },
  {
   "cell_type": "markdown",
   "metadata": {},
   "source": [
    "Это милый результат, но он довольно ручной. Мне бы хотелось теперь проделать все те же изыскания в R от начала до конца. Однако сначала напомню про функции! Обычно, функции в R пишут тогда, когда нужно постоянно выполнять один и тот же кусок кода. Устроена функция как-то так:"
   ]
  },
  {
   "cell_type": "code",
   "execution_count": 1,
   "metadata": {},
   "outputs": [
    {
     "data": {
      "text/html": [
       "49"
      ],
      "text/latex": [
       "49"
      ],
      "text/markdown": [
       "49"
      ],
      "text/plain": [
       "[1] 49"
      ]
     },
     "metadata": {},
     "output_type": "display_data"
    }
   ],
   "source": [
    "# функция лена возводит числа в квадрат\n",
    "lena <- function(x) {\n",
    "  return(x^2)\n",
    "}\n",
    "\n",
    "lena(7)"
   ]
  },
  {
   "cell_type": "markdown",
   "metadata": {},
   "source": [
    "В виде точно такой же функции можно записать нашу логарифмическую функцию правдоподобия. \n",
    "\n",
    "Она будет зависеть от двух аргументов: выборки и параметров, которые нужно оценить. В дальнейшем нам нужно максимизировать функцию правдоподобия. R умеет минимизировать. Поэтому домножим функцию на $-1$. Минимизируя $-L$, мы максимизируем $L$."
   ]
  },
  {
   "cell_type": "code",
   "execution_count": 4,
   "metadata": {},
   "outputs": [],
   "source": [
    "lnL <- function(p,X) {\n",
    "    ans <- X[1]*log(p[1])+X[2]*log(p[2])+ (100-X[1]-X[2])*log(1-p[1]-p[2])\n",
    "  return(-ans)\n",
    "}"
   ]
  },
  {
   "cell_type": "markdown",
   "metadata": {},
   "source": [
    "Убедимся, что сы сделали всё правильно и возьмём пробу в паре рандомных точек."
   ]
  },
  {
   "cell_type": "code",
   "execution_count": 5,
   "metadata": {},
   "outputs": [
    {
     "data": {
      "text/html": [
       "117.689860934536"
      ],
      "text/latex": [
       "117.689860934536"
      ],
      "text/markdown": [
       "117.689860934536"
      ],
      "text/plain": [
       "[1] 117.6899"
      ]
     },
     "metadata": {},
     "output_type": "display_data"
    },
    {
     "data": {
      "text/html": [
       "93.1702309937688"
      ],
      "text/latex": [
       "93.1702309937688"
      ],
      "text/markdown": [
       "93.1702309937688"
      ],
      "text/plain": [
       "[1] 93.17023"
      ]
     },
     "metadata": {},
     "output_type": "display_data"
    }
   ],
   "source": [
    "lnL(c(0.2,0.5),c(16,18))\n",
    "lnL(c(0.2,0.3),c(16,18))"
   ]
  },
  {
   "cell_type": "markdown",
   "metadata": {},
   "source": [
    "Дело за малым! Минимизировать :) "
   ]
  },
  {
   "cell_type": "code",
   "execution_count": 6,
   "metadata": {},
   "outputs": [],
   "source": [
    "?nlm  # можно почитать подсказку"
   ]
  },
  {
   "cell_type": "code",
   "execution_count": 10,
   "metadata": {},
   "outputs": [
    {
     "name": "stderr",
     "output_type": "stream",
     "text": [
      "Warning message in log(p[1]):\n",
      "“созданы NaN”Warning message in log(p[2]):\n",
      "“созданы NaN”Warning message in nlm(lnL, c(1/3, 1/3), hessian = TRUE, X = c(16, 18)):\n",
      "“NA/Inf заменены максимальным положительным значением”Warning message in log(p[1]):\n",
      "“созданы NaN”Warning message in log(p[2]):\n",
      "“созданы NaN”Warning message in nlm(lnL, c(1/3, 1/3), hessian = TRUE, X = c(16, 18)):\n",
      "“NA/Inf заменены максимальным положительным значением”Warning message in log(p[1]):\n",
      "“созданы NaN”Warning message in log(p[2]):\n",
      "“созданы NaN”Warning message in nlm(lnL, c(1/3, 1/3), hessian = TRUE, X = c(16, 18)):\n",
      "“NA/Inf заменены максимальным положительным значением”"
     ]
    }
   ],
   "source": [
    "# минимизируем минус правдоподобие <=> максимизируем правдоподобие\n",
    "res <- nlm(lnL,c(1/3,1/3),\n",
    "            hessian=TRUE,\n",
    "            X=c(16,18))"
   ]
  },
  {
   "cell_type": "code",
   "execution_count": 11,
   "metadata": {},
   "outputs": [
    {
     "data": {
      "text/html": [
       "<dl>\n",
       "\t<dt>$minimum</dt>\n",
       "\t\t<dd>87.6116944272515</dd>\n",
       "\t<dt>$estimate</dt>\n",
       "\t\t<dd><ol class=list-inline>\n",
       "\t<li>0.159999579178663</li>\n",
       "\t<li>0.179999591258612</li>\n",
       "</ol>\n",
       "</dd>\n",
       "\t<dt>$gradient</dt>\n",
       "\t\t<dd><ol class=list-inline>\n",
       "\t<li>-4.54747350886464e-07</li>\n",
       "\t<li>7.53175299905706e-07</li>\n",
       "</ol>\n",
       "</dd>\n",
       "\t<dt>$hessian</dt>\n",
       "\t\t<dd><table>\n",
       "<tbody>\n",
       "\t<tr><td>775.7836</td><td>151.5607</td></tr>\n",
       "\t<tr><td>151.5607</td><td>706.5021</td></tr>\n",
       "</tbody>\n",
       "</table>\n",
       "</dd>\n",
       "\t<dt>$code</dt>\n",
       "\t\t<dd>1</dd>\n",
       "\t<dt>$iterations</dt>\n",
       "\t\t<dd>7</dd>\n",
       "</dl>\n"
      ],
      "text/latex": [
       "\\begin{description}\n",
       "\\item[\\$minimum] 87.6116944272515\n",
       "\\item[\\$estimate] \\begin{enumerate*}\n",
       "\\item 0.159999579178663\n",
       "\\item 0.179999591258612\n",
       "\\end{enumerate*}\n",
       "\n",
       "\\item[\\$gradient] \\begin{enumerate*}\n",
       "\\item -4.54747350886464e-07\n",
       "\\item 7.53175299905706e-07\n",
       "\\end{enumerate*}\n",
       "\n",
       "\\item[\\$hessian] \\begin{tabular}{ll}\n",
       "\t 775.7836 & 151.5607\\\\\n",
       "\t 151.5607 & 706.5021\\\\\n",
       "\\end{tabular}\n",
       "\n",
       "\\item[\\$code] 1\n",
       "\\item[\\$iterations] 7\n",
       "\\end{description}\n"
      ],
      "text/markdown": [
       "$minimum\n",
       ":   87.6116944272515\n",
       "$estimate\n",
       ":   1. 0.159999579178663\n",
       "2. 0.179999591258612\n",
       "\n",
       "\n",
       "\n",
       "$gradient\n",
       ":   1. -4.54747350886464e-07\n",
       "2. 7.53175299905706e-07\n",
       "\n",
       "\n",
       "\n",
       "$hessian\n",
       ":   \n",
       "| 775.7836 | 151.5607 | \n",
       "| 151.5607 | 706.5021 | \n",
       "\n",
       "\n",
       "\n",
       "$code\n",
       ":   1\n",
       "$iterations\n",
       ":   7\n",
       "\n",
       "\n"
      ],
      "text/plain": [
       "$minimum\n",
       "[1] 87.61169\n",
       "\n",
       "$estimate\n",
       "[1] 0.1599996 0.1799996\n",
       "\n",
       "$gradient\n",
       "[1] -4.547474e-07  7.531753e-07\n",
       "\n",
       "$hessian\n",
       "         [,1]     [,2]\n",
       "[1,] 775.7836 151.5607\n",
       "[2,] 151.5607 706.5021\n",
       "\n",
       "$code\n",
       "[1] 1\n",
       "\n",
       "$iterations\n",
       "[1] 7\n"
      ]
     },
     "metadata": {},
     "output_type": "display_data"
    }
   ],
   "source": [
    "res"
   ]
  },
  {
   "cell_type": "code",
   "execution_count": 12,
   "metadata": {},
   "outputs": [
    {
     "data": {
      "text/html": [
       "<ol class=list-inline>\n",
       "\t<li>0.159999579178663</li>\n",
       "\t<li>0.179999591258612</li>\n",
       "</ol>\n"
      ],
      "text/latex": [
       "\\begin{enumerate*}\n",
       "\\item 0.159999579178663\n",
       "\\item 0.179999591258612\n",
       "\\end{enumerate*}\n"
      ],
      "text/markdown": [
       "1. 0.159999579178663\n",
       "2. 0.179999591258612\n",
       "\n",
       "\n"
      ],
      "text/plain": [
       "[1] 0.1599996 0.1799996"
      ]
     },
     "metadata": {},
     "output_type": "display_data"
    }
   ],
   "source": [
    "res$estimate # оценки правдоподобия"
   ]
  },
  {
   "cell_type": "code",
   "execution_count": 13,
   "metadata": {},
   "outputs": [
    {
     "data": {
      "text/html": [
       "<table>\n",
       "<tbody>\n",
       "\t<tr><td> 0.0013454054</td><td>-0.0002886199</td></tr>\n",
       "\t<tr><td>-0.0002886199</td><td> 0.0014773395</td></tr>\n",
       "</tbody>\n",
       "</table>\n"
      ],
      "text/latex": [
       "\\begin{tabular}{ll}\n",
       "\t  0.0013454054 & -0.0002886199\\\\\n",
       "\t -0.0002886199 &  0.0014773395\\\\\n",
       "\\end{tabular}\n"
      ],
      "text/markdown": [
       "\n",
       "|  0.0013454054 | -0.0002886199 | \n",
       "| -0.0002886199 |  0.0014773395 | \n",
       "\n",
       "\n"
      ],
      "text/plain": [
       "     [,1]          [,2]         \n",
       "[1,]  0.0013454054 -0.0002886199\n",
       "[2,] -0.0002886199  0.0014773395"
      ]
     },
     "metadata": {},
     "output_type": "display_data"
    }
   ],
   "source": [
    "solve(res$hessian) # оценка ковариационной матрицы оценок"
   ]
  },
  {
   "cell_type": "markdown",
   "metadata": {},
   "source": [
    "Матрицы совпали. Ура! Давайте попробуем теперь сделать то же самое, но при участии пакета, который занимается максимазицей правдоподобия самостоятельно. "
   ]
  },
  {
   "cell_type": "code",
   "execution_count": 20,
   "metadata": {},
   "outputs": [
    {
     "data": {
      "text/plain": [
       "--------------------------------------------\n",
       "Maximum Likelihood estimation\n",
       "Newton-Raphson maximisation, 5 iterations\n",
       "Return code 1: gradient close to zero\n",
       "Log-Likelihood: -87.61169 \n",
       "2  free parameters\n",
       "Estimates:\n",
       "     Estimate Std. error t value  Pr(> t)    \n",
       "[1,]  0.16000    0.03666   4.364 1.28e-05 ***\n",
       "[2,]  0.18000    0.03842   4.685 2.80e-06 ***\n",
       "---\n",
       "Signif. codes:  0 ‘***’ 0.001 ‘**’ 0.01 ‘*’ 0.05 ‘.’ 0.1 ‘ ’ 1\n",
       "--------------------------------------------"
      ]
     },
     "metadata": {},
     "output_type": "display_data"
    }
   ],
   "source": [
    "# install.packages('maxLik')  # если пакет не установлен\n",
    "library('maxLik') # пакет для метода макс. правдоподобия\n",
    "\n",
    "# Логарифмическое правдоподобие со знаком плюс!\n",
    "# Грубо говоря, пакет сам домножает на минус единицу.\n",
    "\n",
    "lnL <- function(p,X) {\n",
    "    ans <- X[1]*log(p[1])+X[2]*log(p[2])+ (100-X[1]-X[2])*log(1-p[1]-p[2])\n",
    "  return(ans)\n",
    "}\n",
    "\n",
    "res <- maxLik(lnL, start=c(0.1,0.1),X=c(16,18))\n",
    "\n",
    "summary(res) # краткий отчет о результатах оценивания\n",
    "\n",
    "# первый столбик --- сами оценки по методу максимального правдоподобия\n",
    "# второй столбик --- оценки стандартных ошибок\n",
    "# т.е. корни из диагональных элементов оценённой ковариационной матрицы\n",
    "# в третьем и четвёртом столбиках проверятся гипотеза о равенстве этих параметров нулю,\n",
    "# но об этом позже :)"
   ]
  },
  {
   "cell_type": "code",
   "execution_count": 25,
   "metadata": {},
   "outputs": [
    {
     "data": {
      "text/html": [
       "<ol class=list-inline>\n",
       "\t<li>0.160000000014203</li>\n",
       "\t<li>0.17999999999588</li>\n",
       "</ol>\n"
      ],
      "text/latex": [
       "\\begin{enumerate*}\n",
       "\\item 0.160000000014203\n",
       "\\item 0.17999999999588\n",
       "\\end{enumerate*}\n"
      ],
      "text/markdown": [
       "1. 0.160000000014203\n",
       "2. 0.17999999999588\n",
       "\n",
       "\n"
      ],
      "text/plain": [
       "[1] 0.16 0.18"
      ]
     },
     "metadata": {},
     "output_type": "display_data"
    },
    {
     "data": {
      "text/html": [
       "<table>\n",
       "<tbody>\n",
       "\t<tr><td>-776.4953</td><td>-151.5161</td></tr>\n",
       "\t<tr><td>-151.5161</td><td>-707.0611</td></tr>\n",
       "</tbody>\n",
       "</table>\n"
      ],
      "text/latex": [
       "\\begin{tabular}{ll}\n",
       "\t -776.4953 & -151.5161\\\\\n",
       "\t -151.5161 & -707.0611\\\\\n",
       "\\end{tabular}\n"
      ],
      "text/markdown": [
       "\n",
       "| -776.4953 | -151.5161 | \n",
       "| -151.5161 | -707.0611 | \n",
       "\n",
       "\n"
      ],
      "text/plain": [
       "     [,1]      [,2]     \n",
       "[1,] -776.4953 -151.5161\n",
       "[2,] -151.5161 -707.0611"
      ]
     },
     "metadata": {},
     "output_type": "display_data"
    },
    {
     "data": {
      "text/html": [
       "<table>\n",
       "<tbody>\n",
       "\t<tr><td>-0.0013440374</td><td> 0.0002880138</td></tr>\n",
       "\t<tr><td> 0.0002880138</td><td>-0.0014760235</td></tr>\n",
       "</tbody>\n",
       "</table>\n"
      ],
      "text/latex": [
       "\\begin{tabular}{ll}\n",
       "\t -0.0013440374 &  0.0002880138\\\\\n",
       "\t  0.0002880138 & -0.0014760235\\\\\n",
       "\\end{tabular}\n"
      ],
      "text/markdown": [
       "\n",
       "| -0.0013440374 |  0.0002880138 | \n",
       "|  0.0002880138 | -0.0014760235 | \n",
       "\n",
       "\n"
      ],
      "text/plain": [
       "     [,1]          [,2]         \n",
       "[1,] -0.0013440374  0.0002880138\n",
       "[2,]  0.0002880138 -0.0014760235"
      ]
     },
     "metadata": {},
     "output_type": "display_data"
    }
   ],
   "source": [
    "res$estimate        # оценки\n",
    "res$hessian         # оценка матрицы Гессе\n",
    "solve(res$hessian)  # оценка ковариационной матрицы оценок"
   ]
  },
  {
   "cell_type": "code",
   "execution_count": null,
   "metadata": {},
   "outputs": [],
   "source": [
    "# доверительные интервалы к бою! "
   ]
  },
  {
   "cell_type": "code",
   "execution_count": null,
   "metadata": {},
   "outputs": [],
   "source": []
  },
  {
   "cell_type": "code",
   "execution_count": null,
   "metadata": {},
   "outputs": [],
   "source": []
  },
  {
   "cell_type": "markdown",
   "metadata": {},
   "source": [
    "## 3. Какое-нибудь непрерывное распределение прям с табличкой с данными "
   ]
  },
  {
   "cell_type": "code",
   "execution_count": null,
   "metadata": {},
   "outputs": [],
   "source": []
  },
  {
   "cell_type": "code",
   "execution_count": null,
   "metadata": {},
   "outputs": [],
   "source": []
  },
  {
   "cell_type": "code",
   "execution_count": null,
   "metadata": {},
   "outputs": [],
   "source": []
  },
  {
   "cell_type": "code",
   "execution_count": null,
   "metadata": {},
   "outputs": [],
   "source": [
    "x <- c(0.7, 1, 0.8)\n",
    "x\n",
    "\n",
    "# demo function\n",
    "pikachu <- function(a) {\n",
    "  answer <- sum(a)^2\n",
    "  return(answer)\n",
    "}\n",
    "\n",
    "pikachu(x)\n",
    "\n",
    "# log likelihood for 12.3c\n",
    "log_f <- function(theta, data) {\n",
    "  n <- length(data)\n",
    "  answer <- n*log(theta) - theta^2/2*sum(1/data)\n",
    "  return(answer)\n",
    "}\n",
    "\n",
    "log_f(1, x)\n",
    "\n",
    "result <- maxLik(log_f, start=7, data=x)\n",
    "summary(result)\n",
    "str(result)\n",
    "\n",
    "theta_hat <- result$estimate\n",
    "theta_hat"
   ]
  },
  {
   "cell_type": "code",
   "execution_count": null,
   "metadata": {},
   "outputs": [],
   "source": [
    "### задача 4\n",
    "\n",
    "set.seed(42)  # установим стартовое значение для генератора случайных чисел\n",
    "x <- runif(200) # сгенерим 200 равномерных на [0;1]\n",
    "x[1:5]\n",
    "\n",
    "\n",
    "# логарифмическая функция правдоподобия для задачи 4 со знаком минус\n",
    "log_lik <- function(a,dat) {\n",
    "  n <- length(dat) # количество элементов в векторе dat\n",
    "  res <- n*log(a) + (a-1)*sum(log(dat))\n",
    "  return(-res)\n",
    "}\n",
    "\n",
    "# считаем для пробы значения нашей функции в некоторых точках\n",
    "# числа 2 и 5 взяты от фонаря\n",
    "log_lik(2,x)\n",
    "log_lik(5,x)\n",
    "\n",
    "# нелинейная оптимизация\n",
    "?nlm\n",
    "\n",
    "opt <- nlm(log_lik,p=5,hessian=TRUE,dat=x)\n",
    "# p=5 - стартовое значение параметра, от которого R начинает искать экстремум.\n",
    "\n",
    "a.hat <- opt$estimate # точка минимума функции\n",
    "a.hat # оценка методом ML\n",
    "\n",
    "var.hat <- 1/opt$hessian # матрица Гессе в точке минимума функции\n",
    "var.hat # оценка дисперсии ML оценки\n"
   ]
  },
  {
   "cell_type": "code",
   "execution_count": null,
   "metadata": {},
   "outputs": [],
   "source": [
    "########## 5\n",
    "\n",
    "# генерим искусственные данные\n",
    "x <- rnorm(200,mean=4,sd=3)\n",
    "\n",
    "# функция правдоподобия зависит от двух параметров и вектора данных\n",
    "# param - вектор из двух параметров\n",
    "# data - вектор данных\n",
    "log_lik <- function(param,data) {\n",
    "  mu <- param[1]\n",
    "  s2 <- param[2]\n",
    "  n <- length(data)\n",
    "  result <- -n/2*log(2*pi)-n/2*log(s2)-sum((data-mu)^2)/(2*s2)\n",
    "  return(-result)\n",
    "}\n",
    "\n",
    "log_lik(c(3,5),x)\n",
    "\n",
    "# результаты оптимизации\n",
    "optimum <- nlm(log_lik,p=c(0,1),hessian=TRUE,data=x)\n",
    "optimum\n",
    "\n",
    "# вектор оценок неизвестных параметров\n",
    "theta.hat <- optimum$estimate\n",
    "\n",
    "# матрица Гессе в точке оптимума\n",
    "H <- optimum$hessian\n",
    "print(H,digits=2)\n",
    "\n",
    "# оценка ковариационной матрицы - это обратная матрица к матрице Гессе\n",
    "var.theta <- solve(H) \n",
    "\n",
    "# стандартные отклонения - это корни из диагональных элементов\n",
    "st.devs <- sqrt(diag(var.theta))\n",
    "st.devs\n",
    "z.cr\n",
    "\n",
    "ci.left <- theta.hat - z.cr*st.devs\n",
    "ci.right <- theta.hat + z.cr*st.devs\n",
    "\n",
    "ci.left\n",
    "ci.right"
   ]
  },
  {
   "cell_type": "code",
   "execution_count": null,
   "metadata": {},
   "outputs": [],
   "source": []
  },
  {
   "cell_type": "code",
   "execution_count": null,
   "metadata": {},
   "outputs": [],
   "source": [
    "\n",
    "# download file\n",
    "# http://goo.gl/TKgzBk\n",
    "\n",
    "# Session - Set working directory - Choose\n",
    "setwd(\"~/Downloads/\")\n",
    "\n",
    "h <- read.csv(\"coal.csv\")\n",
    "h\n",
    "head(h)\n",
    "y <- h$count\n",
    "y\n",
    "\n",
    "\n",
    "# help(maxLik)\n",
    "\n",
    "# poisson model for data\n",
    "log_f <- function(lambda, data) {\n",
    "  n <- length(data)\n",
    "  answer <- -lambda*n+log(lambda)*sum(data)\n",
    "  return(answer)\n",
    "}\n",
    "\n",
    "log_f(1, y)\n",
    "log_f(2, y)\n",
    "\n",
    "result <- maxLik(log_f, start=2, data=y)\n",
    "summary(result)\n",
    "\n",
    "lambda_hat <- result$estimate\n",
    "lambda_hat\n",
    "\n",
    "# geometric distribution model for data\n",
    "log_f2 <- function(p, data) {\n",
    "  n <- length(data)\n",
    "  answer <- sum(data)*log(1-p)+log(p)*n\n",
    "  return(answer)\n",
    "}\n",
    "\n",
    "log_f2(0.5, y)\n",
    "\n",
    "result2 <- maxLik(log_f2, start=0.2, data=y)\n",
    "summary(result2)\n",
    "p_hat <- result2$estimate\n",
    "p_hat\n",
    "\n",
    "# forecast of P(Y=1)\n",
    "(1-p_hat)*p_hat\n",
    "exp(-lambda_hat)*lambda_hat\n",
    "\n",
    "# forecast of P(Y=f) for f=0,1...5\n",
    "f <- 0:5\n",
    "f\n",
    "\n",
    "prognoz_1 <- exp(-lambda_hat)*\n",
    "  lambda_hat^f/factorial(f)\n",
    "prognoz_2 <- (1-p_hat)^f*p_hat\n",
    "prognoz_1\n",
    "prognoz_2"
   ]
  },
  {
   "cell_type": "code",
   "execution_count": null,
   "metadata": {},
   "outputs": [],
   "source": []
  },
  {
   "cell_type": "code",
   "execution_count": null,
   "metadata": {},
   "outputs": [],
   "source": []
  },
  {
   "cell_type": "markdown",
   "metadata": {},
   "source": [
    "## 3. Пытаемся прочувствовать функцию правдоподобия на картинках\n",
    "\n",
    "Пришло время формул! Итак, пусть в нашем распоряжении оказалась выборка $x_1, \\ldots x_n$. Пусть мы предположили, что эту выбору на нас из сундука выплюнула случайная величина с плотностью распределения $f(x \\mid \\theta)$. Про параметр $\\theta$ нам ничего не известно и мы хотели бы оценить его по выборке. \n",
    "\n",
    "Запишем правдоподобие наших данных, то есть вероятность пронаблюдать именно эту выборку: \n",
    "\n",
    "$$L( \\theta \\mid x_1, \\ldots, x_n) = f(x_1, \\ldots, x_n \\mid \\theta) = \\prod_{i=1}^n f(x_i \\mid \\theta)$$\n",
    "\n",
    "Наша выборка - фиксирована. При разных значениях $\\theta$ мы получаем большую или меньшую вероятность получить выборку близку к наблюдаемой. Было бы круто найти такое значение $\\theta$, для которого эта вероятность оказалась бы максимальной. \n",
    "\n",
    "Обратите внимание, что функцию $L( \\theta \\mid x_1, \\ldots, x_n)$ уже нельзя трактовать как плотность распределения. Параметр $\\theta$ здесь не рассматривается как случайная величина, он фиксирован. Интеграл $L( \\theta \\mid x_1, \\ldots, x_n)$ по всем возможным значениям $\\theta$ не будет равен единице. \n",
    "\n",
    "Для максимизации правдоподобия нам придётся брать производные. Куда приятнее их брать от логарифма, потому что все произведения превратятся в суммы и жить станет проще. Выпишем логарифм правдоподобия:\n",
    "\n",
    "$$\n",
    "\\ln L( \\theta \\mid x_1, \\ldots, x_n) =  \\sum_{i=1}^n \\ln f(x_i \\mid \\theta).\n",
    "$$\n",
    "\n",
    "Берём производную и приравниваем её к нулю. \n",
    "\n",
    "$$\n",
    "\\frac{\\partial \\ln L}{\\partial \\theta} = \\sum_{i=1}^n \\frac{\\partial \\ln f(x_i \\mid \\theta)}{\\partial \\theta} = 0\n",
    "$$\n",
    "\n",
    "Решив это уравнение мы получим оценку максимального правдоподобия. \n"
   ]
  },
  {
   "cell_type": "markdown",
   "metadata": {},
   "source": [
    "Посмотрим на одно слагаемое $\\ln f(x_i \\mid \\theta)$. Его можно интерпретировать как логарифм правдоподобия, посчитанного на основании только одного наблюдения $x_i$.\n",
    "\n",
    "Когда у нас в выборке появляются новые наблюдения, к нашей функции плюсуется дополнительное слагаемое. Интересно было бы посмотреть на то, как при этом функция изменяется. \n",
    "\n",
    "У нас есть R. Сгенерируем выборку объёма $5$ из нормального стандартного распределения и посмотрим. "
   ]
  },
  {
   "cell_type": "code",
   "execution_count": 20,
   "metadata": {},
   "outputs": [
    {
     "data": {
      "text/html": [
       "<ol class=list-inline>\n",
       "\t<li>-0.804581263101305</li>\n",
       "\t<li>-0.580090029600029</li>\n",
       "\t<li>0.834918320833566</li>\n",
       "\t<li>1.76366191357793</li>\n",
       "\t<li>0.460358939757587</li>\n",
       "</ol>\n"
      ],
      "text/latex": [
       "\\begin{enumerate*}\n",
       "\\item -0.804581263101305\n",
       "\\item -0.580090029600029\n",
       "\\item 0.834918320833566\n",
       "\\item 1.76366191357793\n",
       "\\item 0.460358939757587\n",
       "\\end{enumerate*}\n"
      ],
      "text/markdown": [
       "1. -0.804581263101305\n",
       "2. -0.580090029600029\n",
       "3. 0.834918320833566\n",
       "4. 1.76366191357793\n",
       "5. 0.460358939757587\n",
       "\n",
       "\n"
      ],
      "text/plain": [
       "[1] -0.8045813 -0.5800900  0.8349183  1.7636619  0.4603589"
      ]
     },
     "metadata": {},
     "output_type": "display_data"
    }
   ],
   "source": [
    "x <- rnorm(5)\n",
    "x"
   ]
  },
  {
   "cell_type": "markdown",
   "metadata": {},
   "source": [
    "Выпишем для нормального распределения логарифмическую функцию правдоподобия. Она будет зависеть от двух векторов: выборки и параметров.\n",
    "\n",
    "$$\n",
    "\\ln L(\\mu, \\sigma^2 \\mid x) = \n",
    "$$\n",
    "\n",
    "\n",
    "Предположим, что $\\sigma$ известна и нам хочется оценить только $\\mu$. Перебьём такую функцию в R."
   ]
  },
  {
   "cell_type": "code",
   "execution_count": 39,
   "metadata": {},
   "outputs": [],
   "source": [
    "# mu - оцениваемый параметр\n",
    "# data - вектор данных\n",
    "\n",
    "log_lik <- function(mu,data) {\n",
    "  n <- length(data)\n",
    "  result <- -n/2*log(2*pi)-n/2*log(1)-sum((data-mu)^2)/(2*1)\n",
    "  return(result)\n",
    "}"
   ]
  },
  {
   "cell_type": "markdown",
   "metadata": {},
   "source": [
    "Найдём значение нашей функции в какой-нибудь точке чисто ради фана."
   ]
  },
  {
   "cell_type": "code",
   "execution_count": 29,
   "metadata": {},
   "outputs": [
    {
     "data": {
      "text/html": [
       "-7.92211366088496"
      ],
      "text/latex": [
       "-7.92211366088496"
      ],
      "text/markdown": [
       "-7.92211366088496"
      ],
      "text/plain": [
       "[1] -7.922114"
      ]
     },
     "metadata": {},
     "output_type": "display_data"
    },
    {
     "data": {
      "text/html": [
       "-240.353702727675"
      ],
      "text/latex": [
       "-240.353702727675"
      ],
      "text/markdown": [
       "-240.353702727675"
      ],
      "text/plain": [
       "[1] -240.3537"
      ]
     },
     "metadata": {},
     "output_type": "display_data"
    }
   ],
   "source": [
    "log_lik(1,x)\n",
    "log_lik(10,x)"
   ]
  },
  {
   "cell_type": "markdown",
   "metadata": {},
   "source": [
    "Посмотрим как функция выглядит на картинке."
   ]
  },
  {
   "cell_type": "code",
   "execution_count": 46,
   "metadata": {},
   "outputs": [
    {
     "data": {},
     "metadata": {},
     "output_type": "display_data"
    },
    {
     "data": {
      "image/png": "[encoded data removed]",
      "text/plain": [
       "plot without title"
      ]
     },
     "metadata": {},
     "output_type": "display_data"
    }
   ],
   "source": [
    "mu  = seq(-10,11,0.01)\n",
    "lnL = rep(0,length(mu))\n",
    "\n",
    "for(i in 1:length(lnL)){\n",
    "    lnL[i] = log_lik(mu[i],x)\n",
    "}\n",
    "\n",
    "qplot(mu, lnL, geom='line')"
   ]
  },
  {
   "cell_type": "markdown",
   "metadata": {},
   "source": [
    "Выглядит прелестно. Её максимум достигается в районе нуля, но не чётко в нуле. Построим такие же функции для отдельных наблюдений. "
   ]
  },
  {
   "cell_type": "code",
   "execution_count": 57,
   "metadata": {},
   "outputs": [
    {
     "data": {},
     "metadata": {},
     "output_type": "display_data"
    },
    {
     "data": {
      "image/png": "[encoded data removed]",
      "text/plain": [
       "plot without title"
      ]
     },
     "metadata": {},
     "output_type": "display_data"
    }
   ],
   "source": [
    "mu  = seq(-10,11,0.01)\n",
    "\n",
    "lnL = rep(0,length(mu))\n",
    "lnL1 = rep(0,length(mu))\n",
    "lnL2 = rep(0,length(mu))\n",
    "lnL3 = rep(0,length(mu))\n",
    "lnL4 = rep(0,length(mu))\n",
    "lnL5 = rep(0,length(mu))\n",
    "\n",
    "for(i in 1:length(lnL)){\n",
    "    lnL[i] = log_lik(mu[i],x)\n",
    "    lnL1[i] = log_lik(mu[i],x[1])\n",
    "    lnL2[i] = log_lik(mu[i],x[2])\n",
    "    lnL3[i] = log_lik(mu[i],x[3])\n",
    "    lnL4[i] = log_lik(mu[i],x[4])\n",
    "    lnL5[i] = log_lik(mu[i],x[5])\n",
    "}\n",
    "\n",
    "df_L = data.frame(mu=mu,lnL = lnL, lnL1 = lnL1, lnL2 = lnL2,\n",
    "                  lnL3 = lnL3,lnL4 = lnL4,lnL5 = lnL5)\n",
    "\n",
    "ggplot(df_L, aes(x=mu))+\n",
    "    geom_line(aes(y=lnL))+\n",
    "    geom_line(aes(y=lnL1),color='red')+\n",
    "    geom_line(aes(y=lnL2),color='red')+\n",
    "    geom_line(aes(y=lnL3),color='red')+\n",
    "    geom_line(aes(y=lnL4),color='red')+\n",
    "    geom_line(aes(y=lnL5),color='red')"
   ]
  },
  {
   "cell_type": "markdown",
   "metadata": {},
   "source": [
    "Черная функция для всей выборки равна сумме логарифмических правдоподобий для отдельных наблюдений (красные линии). Она имеет более выраженный максимум по сравнению с логарифмическими функциями для отдельных наблюдений. \n",
    "\n",
    "Можно построить аналогичную картинку, на которой мы будем постепенно накапливать наблюдения внутри нашей суммы. При добавлении всё новых слагаемых, максимум будет становиться более чётким. "
   ]
  },
  {
   "cell_type": "code",
   "execution_count": 59,
   "metadata": {},
   "outputs": [
    {
     "data": {},
     "metadata": {},
     "output_type": "display_data"
    },
    {
     "data": {
      "image/png": "[encoded data removed]",
      "text/plain": [
       "plot without title"
      ]
     },
     "metadata": {},
     "output_type": "display_data"
    }
   ],
   "source": [
    "mu  = seq(-10,11,0.01)\n",
    "\n",
    "lnL = rep(0,length(mu))\n",
    "lnL1 = rep(0,length(mu))\n",
    "lnL2 = rep(0,length(mu))\n",
    "lnL3 = rep(0,length(mu))\n",
    "lnL4 = rep(0,length(mu))\n",
    "lnL5 = rep(0,length(mu))\n",
    "\n",
    "for(i in 1:length(lnL)){\n",
    "    lnL[i] = log_lik(mu[i],x)\n",
    "    lnL1[i] = log_lik(mu[i],x[1])\n",
    "    lnL2[i] = log_lik(mu[i],x[1:2])\n",
    "    lnL3[i] = log_lik(mu[i],x[1:3])\n",
    "    lnL4[i] = log_lik(mu[i],x[1:4])\n",
    "}\n",
    "\n",
    "df_L = data.frame(mu=mu,lnL = lnL, lnL1 = lnL1, lnL2 = lnL2,\n",
    "                  lnL3 = lnL3,lnL4 = lnL4)\n",
    "\n",
    "ggplot(df_L, aes(x=mu))+\n",
    "    geom_line(aes(y=lnL))+\n",
    "    geom_line(aes(y=lnL1),color='red')+\n",
    "    geom_line(aes(y=lnL2),color='red')+\n",
    "    geom_line(aes(y=lnL3),color='red')+\n",
    "    geom_line(aes(y=lnL4),color='red')"
   ]
  },
  {
   "cell_type": "markdown",
   "metadata": {},
   "source": [
    "Итак, чем более выпукла функция, тем более выражен максимум, тем более сильно мы уверенны в том, что оценка параметра была найдена хорошо.\n",
    "\n",
    "Что отвечает за выпуклость функции? Правильно! Вторая производная. Именно её, взятую со знаком минус, интерпретируют как наблюдённую информацию.  \n",
    "\n",
    "$$\n",
    "I_o(\\theta) =  - \\left( \\frac{\\partial^2 \\ln L}{\\partial \\theta^2}  \\right)\n",
    "$$\n",
    "\n",
    "Почему со знаком минус? Потому что у нас максимум, в точке максимума вторая производная отрицательна. А информация должна быть положительной. Если параметр векторный, то в этом случае наблюдэнная информация представляется наблюдённой информационной матрицей: \n",
    "\n",
    "$$\n",
    "I_o(\\theta) =  - \\left( \\frac{\\partial^2 \\ln L}{\\partial \\theta_i \\partial \\theta_j}  \\right) = - H\n",
    "$$\n",
    "\n",
    "Индекс o в данном случае обозначает observed, информацию, которую мы реально видели. В матрице на во всех клетках стоят числа. Они зависят от конкретных значений наблюдений. \n",
    "\n",
    "Обратите внимание, что на первой картинке, правдоподобия, построенные для разных наблюдений выпуклы по разному. Получается, что каждое наблюдение вносит в заострённость нашего правдоподобия разный вклад, то есть в каждом наблюдении содержится разное количество информации. "
   ]
  },
  {
   "cell_type": "markdown",
   "metadata": {},
   "source": [
    "Математическое ожидание этой матрицы по распределению $x$ называется информационной матрицей Фишера. \n",
    "\n",
    "$$\n",
    "I(\\theta) =  - E\\left( \\frac{\\partial^2 \\ln L}{\\partial \\theta_i \\partial \\theta_j}  \\right) = -E(H)\n",
    "$$\n",
    "\n",
    "Ожидаемая информация зависит только от закона распределения наблюдений. Она отражает то, какую информацию в среднем вносит в наше правдоподобие, каждое наблюдение. \n",
    "\n",
    "Если функция плотности $f(x \\mid \\theta)$ удовлетворяет условиям регулярности, то тогда для любой несмещённой оценки $\\hat \\theta$ выполняется неравенство Рао-Фреше-Крамера: \n",
    "\n",
    "$$\n",
    "Var(\\hat \\theta) \\ge [I(\\theta)]^{-1}\n",
    "$$\n",
    "\n",
    "Более того, в этом случае \n",
    "\n",
    "$$\n",
    "I(\\theta) =  E\\left( \\frac{\\partial^2 \\ln L}{\\partial \\theta^2}  \\right) = E\\left[ \\left( \\frac{\\partial \\ln L}{\\partial \\theta} \\right)^2  \\right],\n",
    "$$\n",
    "\n",
    "но доказывать это здесь, мы конечно же не будем. "
   ]
  },
  {
   "cell_type": "markdown",
   "metadata": {},
   "source": [
    "При тех же условиях регулярности, оценка максимального правдоподоия обладает набором приятных асимптотических свойств: \n",
    "\n",
    "1. Состоятельность \n",
    "2. Асимптотическая несмещённость\n",
    "3. Асимптотическая эффективность\n",
    "4. Асимптотическая нормальность: \n",
    "\n",
    "$$\n",
    "\\hat \\theta \\to N(\\theta, I(\\theta)^{-1}) \n",
    "$$\n"
   ]
  },
  {
   "cell_type": "markdown",
   "metadata": {},
   "source": [
    "Асимптотическую нормальность обычно используют на практике для строительства доверительных интервалов и проверки гипотез. Чтобы сделать это, yужно найти подходящую оценку для информации Фишера, посчитанную на основе выборки. \n",
    "\n",
    "Обычно поступают двумя путями: либо заменяют в матрице Гессе, $-H$, все $\\theta$ на оценки, либо заменяют в матрице $-E(H)$ все $\\theta$ на оценки. Именно так мы с вами поступили выше, решая задачки."
   ]
  },
  {
   "cell_type": "code",
   "execution_count": null,
   "metadata": {},
   "outputs": [],
   "source": []
  },
  {
   "cell_type": "code",
   "execution_count": null,
   "metadata": {},
   "outputs": [],
   "source": []
  },
  {
   "cell_type": "code",
   "execution_count": null,
   "metadata": {},
   "outputs": [],
   "source": []
  },
  {
   "cell_type": "code",
   "execution_count": null,
   "metadata": {},
   "outputs": [],
   "source": []
  },
  {
   "cell_type": "code",
   "execution_count": null,
   "metadata": {},
   "outputs": [],
   "source": []
  }
 ],
 "metadata": {
  "kernelspec": {
   "display_name": "R",
   "language": "R",
   "name": "ir"
  },
  "language_info": {
   "codemirror_mode": "r",
   "file_extension": ".r",
   "mimetype": "text/x-r-source",
   "name": "R",
   "pygments_lexer": "r",
   "version": "3.4.2"
  }
 },
 "nbformat": 4,
 "nbformat_minor": 2
}
