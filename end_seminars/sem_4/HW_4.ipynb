{
 "cells": [
  {
   "cell_type": "markdown",
   "metadata": {},
   "source": [
    "<img src=\"https://raw.githubusercontent.com/FUlyankin/r_probability/master/end_seminars/sem_3/swan3.png\" height=\"300\" width=\"300\"> \n",
    "\n",
    "# <center> R для тервера и матстата. <br>  <br> Домашка номер четыре! </center>\n",
    "\n",
    "Данный ноутбук является домашкой по курсу «R для теории вероятностей и математической статистики» (РАНХиГС, 2017-2018). Автор ноутбука [вот этот парень по имени Филипп.](https://vk.com/ppilif) Если у вас для него есть деньги, слава или женщины, он от этого всего не откажется. Ноутбук распространяется на условиях лицензии [Creative Commons Attribution-Share Alike 4.0.](https://creativecommons.org/licenses/by-sa/4.0/) При использовании обязательно упоминание автора курса и аффилиации. При наличии технической возможности необходимо также указать активную гиперссылку на [страницу курса.](https://fulyankin.github.io/R_probability/) На ней можно найти другие материалы. Фрагменты кода, включенные в этот notebook, публикуются как [общественное достояние.](https://creativecommons.org/publicdomain/zero/1.0/)\n",
    "\n",
    "----------------------\n",
    "\n",
    "Приветствую вас внутри четвёртой домашки. __Краткий брифинг:__\n",
    "\n",
    "* В тетрадке два блока задач. Один блок про свойства оценок. Второй блок про оценки максимального правдоподобия. Из первого блока нужно решить как минимум одну задачку, из второго блока как минимум две задачки.\n",
    "* Не бойтесь задачек, это они должны бояться вас! При возникновении проблем, пишите ;) "
   ]
  },
  {
   "cell_type": "code",
   "execution_count": 2,
   "metadata": {},
   "outputs": [],
   "source": [
    "library('maxLik') # пакет для метода макс. правдоподобия\n",
    "library('dplyr')  # пакет для работы с таблицами \n",
    "\n",
    "library(\"ggplot2\")  # Пакет для красивых графиков \n",
    "library(\"grid\")     # Пакет для субплотов\n",
    "\n",
    "# Отрегулируем размер картинок, которые будут выдаваться в нашей тетрадке\n",
    "library('repr')\n",
    "options(repr.plot.width=4, repr.plot.height=3)"
   ]
  },
  {
   "cell_type": "markdown",
   "metadata": {},
   "source": [
    "## Блок задачек про оценки\n",
    "\n",
    "### Задачка 1 \n"
   ]
  },
  {
   "cell_type": "code",
   "execution_count": null,
   "metadata": {},
   "outputs": [],
   "source": []
  },
  {
   "cell_type": "markdown",
   "metadata": {},
   "source": [
    "### Задачка 2"
   ]
  },
  {
   "cell_type": "code",
   "execution_count": null,
   "metadata": {},
   "outputs": [],
   "source": []
  },
  {
   "cell_type": "markdown",
   "metadata": {},
   "source": [
    "## Блок задачек про максимальное правдоподобие \n",
    "\n",
    "### Задачка 3\n",
    "\n",
    "Света любит кино. Каждую неделю она смотрит какое-то количество фильмов. Ира подглядывает за светой и записывает число фильмов в блокнотик. Ира предполагает, что число фильмов, просмотренное Светой за день, имеет распределение Пуассона, $X_i \\sim Poiss(\\lambda)$. Также предполагается, что  Света смотрит каждый день кино независимо от того, сколько кино она смотрела до этого. Помогите Ире оценить параметр $\\lambda$ с помощью метода максимального правдоподобия. Сделайте это на бумажке, а затем в R. Не надо присылать мне на почту свои изыскания, сделанные на бумажке. Будет достаточно кода в R. "
   ]
  },
  {
   "cell_type": "code",
   "execution_count": null,
   "metadata": {},
   "outputs": [],
   "source": []
  },
  {
   "cell_type": "code",
   "execution_count": null,
   "metadata": {},
   "outputs": [],
   "source": []
  },
  {
   "cell_type": "code",
   "execution_count": null,
   "metadata": {},
   "outputs": [],
   "source": [
    "https://vk.com/weirdkerneltricks"
   ]
  },
  {
   "cell_type": "code",
   "execution_count": 6,
   "metadata": {},
   "outputs": [
    {
     "data": {
      "text/html": [
       "53.45"
      ],
      "text/latex": [
       "53.45"
      ],
      "text/markdown": [
       "53.45"
      ],
      "text/plain": [
       "[1] 53.45"
      ]
     },
     "metadata": {},
     "output_type": "display_data"
    },
    {
     "data": {
      "text/html": [
       "<ol class=list-inline>\n",
       "\t<li>34</li>\n",
       "\t<li>100</li>\n",
       "\t<li>48</li>\n",
       "\t<li>73</li>\n",
       "\t<li>45</li>\n",
       "\t<li>77</li>\n",
       "\t<li>43</li>\n",
       "\t<li>63</li>\n",
       "\t<li>34</li>\n",
       "\t<li>97</li>\n",
       "\t<li>77</li>\n",
       "\t<li>20</li>\n",
       "\t<li>15</li>\n",
       "\t<li>25</li>\n",
       "\t<li>49</li>\n",
       "\t<li>61</li>\n",
       "\t<li>22</li>\n",
       "\t<li>10</li>\n",
       "\t<li>80</li>\n",
       "\t<li>63</li>\n",
       "\t<li>16</li>\n",
       "\t<li>19</li>\n",
       "\t<li>59</li>\n",
       "\t<li>83</li>\n",
       "\t<li>59</li>\n",
       "\t<li>61</li>\n",
       "\t<li>92</li>\n",
       "\t<li>41</li>\n",
       "\t<li>60</li>\n",
       "\t<li>68</li>\n",
       "\t<li>10</li>\n",
       "\t<li>85</li>\n",
       "\t<li>21</li>\n",
       "\t<li>76</li>\n",
       "\t<li>72</li>\n",
       "\t<li>39</li>\n",
       "\t<li>50</li>\n",
       "\t<li>37</li>\n",
       "\t<li>61</li>\n",
       "\t<li>76</li>\n",
       "\t<li>14</li>\n",
       "\t<li>82</li>\n",
       "\t<li>31</li>\n",
       "\t<li>96</li>\n",
       "\t<li>71</li>\n",
       "\t<li>30</li>\n",
       "\t<li>78</li>\n",
       "\t<li>38</li>\n",
       "\t<li>10</li>\n",
       "\t<li>85</li>\n",
       "\t<li>45</li>\n",
       "\t<li>53</li>\n",
       "\t<li>62</li>\n",
       "\t<li>87</li>\n",
       "\t<li>49</li>\n",
       "\t<li>82</li>\n",
       "\t<li>51</li>\n",
       "\t<li>20</li>\n",
       "\t<li>49</li>\n",
       "\t<li>53</li>\n",
       "</ol>\n"
      ],
      "text/latex": [
       "\\begin{enumerate*}\n",
       "\\item 34\n",
       "\\item 100\n",
       "\\item 48\n",
       "\\item 73\n",
       "\\item 45\n",
       "\\item 77\n",
       "\\item 43\n",
       "\\item 63\n",
       "\\item 34\n",
       "\\item 97\n",
       "\\item 77\n",
       "\\item 20\n",
       "\\item 15\n",
       "\\item 25\n",
       "\\item 49\n",
       "\\item 61\n",
       "\\item 22\n",
       "\\item 10\n",
       "\\item 80\n",
       "\\item 63\n",
       "\\item 16\n",
       "\\item 19\n",
       "\\item 59\n",
       "\\item 83\n",
       "\\item 59\n",
       "\\item 61\n",
       "\\item 92\n",
       "\\item 41\n",
       "\\item 60\n",
       "\\item 68\n",
       "\\item 10\n",
       "\\item 85\n",
       "\\item 21\n",
       "\\item 76\n",
       "\\item 72\n",
       "\\item 39\n",
       "\\item 50\n",
       "\\item 37\n",
       "\\item 61\n",
       "\\item 76\n",
       "\\item 14\n",
       "\\item 82\n",
       "\\item 31\n",
       "\\item 96\n",
       "\\item 71\n",
       "\\item 30\n",
       "\\item 78\n",
       "\\item 38\n",
       "\\item 10\n",
       "\\item 85\n",
       "\\item 45\n",
       "\\item 53\n",
       "\\item 62\n",
       "\\item 87\n",
       "\\item 49\n",
       "\\item 82\n",
       "\\item 51\n",
       "\\item 20\n",
       "\\item 49\n",
       "\\item 53\n",
       "\\end{enumerate*}\n"
      ],
      "text/markdown": [
       "1. 34\n",
       "2. 100\n",
       "3. 48\n",
       "4. 73\n",
       "5. 45\n",
       "6. 77\n",
       "7. 43\n",
       "8. 63\n",
       "9. 34\n",
       "10. 97\n",
       "11. 77\n",
       "12. 20\n",
       "13. 15\n",
       "14. 25\n",
       "15. 49\n",
       "16. 61\n",
       "17. 22\n",
       "18. 10\n",
       "19. 80\n",
       "20. 63\n",
       "21. 16\n",
       "22. 19\n",
       "23. 59\n",
       "24. 83\n",
       "25. 59\n",
       "26. 61\n",
       "27. 92\n",
       "28. 41\n",
       "29. 60\n",
       "30. 68\n",
       "31. 10\n",
       "32. 85\n",
       "33. 21\n",
       "34. 76\n",
       "35. 72\n",
       "36. 39\n",
       "37. 50\n",
       "38. 37\n",
       "39. 61\n",
       "40. 76\n",
       "41. 14\n",
       "42. 82\n",
       "43. 31\n",
       "44. 96\n",
       "45. 71\n",
       "46. 30\n",
       "47. 78\n",
       "48. 38\n",
       "49. 10\n",
       "50. 85\n",
       "51. 45\n",
       "52. 53\n",
       "53. 62\n",
       "54. 87\n",
       "55. 49\n",
       "56. 82\n",
       "57. 51\n",
       "58. 20\n",
       "59. 49\n",
       "60. 53\n",
       "\n",
       "\n"
      ],
      "text/plain": [
       " [1]  34 100  48  73  45  77  43  63  34  97  77  20  15  25  49  61  22  10  80\n",
       "[20]  63  16  19  59  83  59  61  92  41  60  68  10  85  21  76  72  39  50  37\n",
       "[39]  61  76  14  82  31  96  71  30  78  38  10  85  45  53  62  87  49  82  51\n",
       "[58]  20  49  53"
      ]
     },
     "metadata": {},
     "output_type": "display_data"
    }
   ],
   "source": [
    "x <- c(34,100,48,73,45,77,43,63,34,97,77,20,15,25,49,61,22,10,80,63,16,19,59,\n",
    "       83,59,61,92,41,60,68,10,85,20,76,72,39,50,37,61,76,14,82,31,96,71,30,78,\n",
    "       38,10,85,45,53,62,87,49,82,50,20,49,10)\n",
    "\n"
   ]
  },
  {
   "cell_type": "code",
   "execution_count": 21,
   "metadata": {},
   "outputs": [
    {
     "data": {
      "text/html": [
       "52.7"
      ],
      "text/latex": [
       "52.7"
      ],
      "text/markdown": [
       "52.7"
      ],
      "text/plain": [
       "[1] 52.7"
      ]
     },
     "metadata": {},
     "output_type": "display_data"
    }
   ],
   "source": [
    "\n",
    "mean(x)"
   ]
  },
  {
   "cell_type": "markdown",
   "metadata": {},
   "source": [
    "### Задачка 4 \n",
    "\n",
    "Александр раздобыл два золотых слитка массой $m$ каждый. Также он раздобыл весы, которые работают с некоторой погрешностью. Сначала Саша положил на весы первый золотой слиток и получил в результате взвешивания $m + \\varepsilon_1$, где $ \\varepsilon_1$ - случайная величина, ошибка первого взвешивания. Затем Саша положил на весы сразу оба слитка и получил в результате взвешивания $2m + \\varepsilon_2$, где $ \\varepsilon_2$ - случайная величина, ошибка второго взвешивания. Оказалось, что $y_1 = 60$, $y_2 = 110$.\n",
    "\n",
    "С помощью метода максимального правдоподобия оцените вес слитка $m$ и погрешность весов, $b$, если ошибки не зависят друг от друга и \n",
    "\n",
    "a)  $\\varepsilon_i \\sim U[-b,b]$\n",
    "\n",
    "b)  $\\varepsilon_i \\sim N(0,b^2)$\n",
    "\n",
    "Сначала получите оценки на бумажке, ручками, а затем в R. Присылать мне на почту свои изыскания на бумажках не нужно! Достаточно кода. "
   ]
  },
  {
   "cell_type": "code",
   "execution_count": null,
   "metadata": {},
   "outputs": [],
   "source": [
    "# ваши записи на бумажках и коды :3 "
   ]
  },
  {
   "cell_type": "code",
   "execution_count": null,
   "metadata": {},
   "outputs": [],
   "source": []
  },
  {
   "cell_type": "markdown",
   "metadata": {},
   "source": [
    "### Задачка 5\n",
    "\n"
   ]
  },
  {
   "cell_type": "code",
   "execution_count": null,
   "metadata": {},
   "outputs": [],
   "source": []
  },
  {
   "cell_type": "markdown",
   "metadata": {},
   "source": [
    "### Задачка 6\n",
    "\n",
    "Задачка про наркотики и оценку коэффициентов"
   ]
  },
  {
   "cell_type": "code",
   "execution_count": null,
   "metadata": {},
   "outputs": [],
   "source": []
  },
  {
   "cell_type": "code",
   "execution_count": null,
   "metadata": {},
   "outputs": [],
   "source": []
  },
  {
   "cell_type": "markdown",
   "metadata": {},
   "source": [
    "### Задачка 7"
   ]
  },
  {
   "cell_type": "code",
   "execution_count": null,
   "metadata": {},
   "outputs": [],
   "source": []
  },
  {
   "cell_type": "code",
   "execution_count": null,
   "metadata": {},
   "outputs": [],
   "source": []
  }
 ],
 "metadata": {
  "kernelspec": {
   "display_name": "R",
   "language": "R",
   "name": "ir"
  },
  "language_info": {
   "codemirror_mode": "r",
   "file_extension": ".r",
   "mimetype": "text/x-r-source",
   "name": "R",
   "pygments_lexer": "r",
   "version": "3.4.2"
  }
 },
 "nbformat": 4,
 "nbformat_minor": 2
}
