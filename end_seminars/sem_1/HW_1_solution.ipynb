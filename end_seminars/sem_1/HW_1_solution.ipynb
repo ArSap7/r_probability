{
 "cells": [
  {
   "cell_type": "markdown",
   "metadata": {},
   "source": [
    "<img src=\"https://raw.githubusercontent.com/FUlyankin/r_probability/master/800x800-04.jpg\" height=\"200\" width=\"300\"> \n",
    "\n",
    "# <center> R для тервера и матстата. <br>  <br> Домашка номер раз! </center>\n",
    "\n",
    "Данный ноутбук является домашкой по курсу «R для теории вероятностей и математической статистики» (РАНХиГС, 2017-2018). Автор ноутбука [вот этот парень по имени Филипп.](https://vk.com/ppilif) Если у вас для него есть деньги, слава или женщины, он от этого всего не откажется. Ноутбук распространяется на условиях лицензии [Creative Commons Attribution-Share Alike 4.0.](https://creativecommons.org/licenses/by-sa/4.0/) При использовании обязательно упоминание автора курса и аффилиации. При наличии технической возможности необходимо также указать активную гиперссылку на [страницу курса.](https://fulyankin.github.io/R_probability/) На ней можно найти другие материалы. Фрагменты кода, включенные в этот notebook, публикуются как [общественное достояние.](https://creativecommons.org/publicdomain/zero/1.0/)\n",
    "\n",
    "----------------------\n",
    "\n",
    "Приветствую вас внутри первой домашки. У каждой домашки должны быть свои герои (но это неточно). Моими героями являетесь вы! Вы - герои не потому, что я хочу кого-то простебать или обидеть, а потому что я всех вас очень люблю и хочу увековечить. Кто-то называет именами любимых людей вновь открытые звёзды и острова, кто-то вновь созданный вордовский файл для нира, а кто-то делает их героями своих историй. Я не Джордж Мартин, в моих историях никто не погибнет. \n",
    "\n",
    "__Краткий брифинг:__\n",
    "\n",
    "* В тетрадке $ 10 $ задачек. Нужно решить любые пять.\n",
    "* Некоторые задачи можно решить вручную. За это баллы не ставятся, но можно попробовать.\n",
    "* Все решения выложу после дедлайна. \n",
    "* Дедлайн: следующая среда (25 апреля), утро. \n",
    "* Следующая пара начнётся с разбора домашки.\n",
    "\n",
    "Ближе к делу. С чего начинается любой скрипт? Правильно! С подгрузки пакетов :) "
   ]
  },
  {
   "cell_type": "code",
   "execution_count": 1,
   "metadata": {},
   "outputs": [],
   "source": [
    "library(\"ggplot2\")  # Пакет для красивых графиков \n",
    "library(\"grid\")     # Пакет для субплотов\n",
    "\n",
    "# Отрегулируем размер картинок, которые будут выдаваться в нашей тетрадке\n",
    "library('repr')\n",
    "options(repr.plot.width=4, repr.plot.height=3)\n",
    "\n",
    "# Внимание! Если вы делаете дз в Rstudio, то вам не нужны пакеты grid, repr и т.п.\n",
    "# Вам нужен только пакет ggplot2! "
   ]
  },
  {
   "cell_type": "markdown",
   "metadata": {},
   "source": [
    "### Полезные функции: "
   ]
  },
  {
   "cell_type": "code",
   "execution_count": 2,
   "metadata": {},
   "outputs": [
    {
     "data": {
      "text/html": [
       "<ol class=list-inline>\n",
       "\t<li>2</li>\n",
       "\t<li>2</li>\n",
       "\t<li>2</li>\n",
       "\t<li>2</li>\n",
       "\t<li>2</li>\n",
       "</ol>\n"
      ],
      "text/latex": [
       "\\begin{enumerate*}\n",
       "\\item 2\n",
       "\\item 2\n",
       "\\item 2\n",
       "\\item 2\n",
       "\\item 2\n",
       "\\end{enumerate*}\n"
      ],
      "text/markdown": [
       "1. 2\n",
       "2. 2\n",
       "3. 2\n",
       "4. 2\n",
       "5. 2\n",
       "\n",
       "\n"
      ],
      "text/plain": [
       "[1] 2 2 2 2 2"
      ]
     },
     "metadata": {},
     "output_type": "display_data"
    }
   ],
   "source": [
    "rep(2,5)  # повторяет число 2 целых 5 раз"
   ]
  },
  {
   "cell_type": "code",
   "execution_count": 3,
   "metadata": {},
   "outputs": [
    {
     "data": {
      "text/html": [
       "<ol class=list-inline>\n",
       "\t<li>0</li>\n",
       "\t<li>0.2</li>\n",
       "\t<li>0.4</li>\n",
       "\t<li>0.6</li>\n",
       "\t<li>0.8</li>\n",
       "\t<li>1</li>\n",
       "</ol>\n"
      ],
      "text/latex": [
       "\\begin{enumerate*}\n",
       "\\item 0\n",
       "\\item 0.2\n",
       "\\item 0.4\n",
       "\\item 0.6\n",
       "\\item 0.8\n",
       "\\item 1\n",
       "\\end{enumerate*}\n"
      ],
      "text/markdown": [
       "1. 0\n",
       "2. 0.2\n",
       "3. 0.4\n",
       "4. 0.6\n",
       "5. 0.8\n",
       "6. 1\n",
       "\n",
       "\n"
      ],
      "text/plain": [
       "[1] 0.0 0.2 0.4 0.6 0.8 1.0"
      ]
     },
     "metadata": {},
     "output_type": "display_data"
    }
   ],
   "source": [
    "seq(0,1,0.2)  # выдаёт все числа от 0 до 1 с шагом 0.2 "
   ]
  },
  {
   "cell_type": "code",
   "execution_count": 4,
   "metadata": {},
   "outputs": [
    {
     "data": {
      "text/html": [
       "<ol class=list-inline>\n",
       "\t<li>1</li>\n",
       "\t<li>-1</li>\n",
       "\t<li>2</li>\n",
       "</ol>\n"
      ],
      "text/latex": [
       "\\begin{enumerate*}\n",
       "\\item 1\n",
       "\\item -1\n",
       "\\item 2\n",
       "\\end{enumerate*}\n"
      ],
      "text/markdown": [
       "1. 1\n",
       "2. -1\n",
       "3. 2\n",
       "\n",
       "\n"
      ],
      "text/plain": [
       "[1]  1 -1  2"
      ]
     },
     "metadata": {},
     "output_type": "display_data"
    }
   ],
   "source": [
    "x <- c(1,2,3)\n",
    "y <- c(2,-1,4)\n",
    "z <- c(3,5,2)\n",
    "\n",
    "pmin(x,y,z)   # находит поэлементные минимумы во всех векторах"
   ]
  },
  {
   "cell_type": "code",
   "execution_count": 5,
   "metadata": {},
   "outputs": [
    {
     "data": {
      "text/html": [
       "3"
      ],
      "text/latex": [
       "3"
      ],
      "text/markdown": [
       "3"
      ],
      "text/plain": [
       "[1] 3"
      ]
     },
     "metadata": {},
     "output_type": "display_data"
    }
   ],
   "source": [
    "which.max(x) # выдаёт позицию максимума"
   ]
  },
  {
   "cell_type": "markdown",
   "metadata": {},
   "source": [
    "### Задачка 1\n",
    "\n",
    "В R куча встроенных наборов данных. Например, в наборе данных `chickwts` лежат веса куриц и тип корма, который используется для их выращивания."
   ]
  },
  {
   "cell_type": "code",
   "execution_count": 6,
   "metadata": {},
   "outputs": [
    {
     "data": {
      "text/html": [
       "<table>\n",
       "<thead><tr><th scope=col>weight</th><th scope=col>feed</th></tr></thead>\n",
       "<tbody>\n",
       "\t<tr><td>179      </td><td>horsebean</td></tr>\n",
       "\t<tr><td>160      </td><td>horsebean</td></tr>\n",
       "\t<tr><td>136      </td><td>horsebean</td></tr>\n",
       "\t<tr><td>227      </td><td>horsebean</td></tr>\n",
       "\t<tr><td>217      </td><td>horsebean</td></tr>\n",
       "</tbody>\n",
       "</table>\n"
      ],
      "text/latex": [
       "\\begin{tabular}{r|ll}\n",
       " weight & feed\\\\\n",
       "\\hline\n",
       "\t 179       & horsebean\\\\\n",
       "\t 160       & horsebean\\\\\n",
       "\t 136       & horsebean\\\\\n",
       "\t 227       & horsebean\\\\\n",
       "\t 217       & horsebean\\\\\n",
       "\\end{tabular}\n"
      ],
      "text/markdown": [
       "\n",
       "weight | feed | \n",
       "|---|---|---|---|---|\n",
       "| 179       | horsebean | \n",
       "| 160       | horsebean | \n",
       "| 136       | horsebean | \n",
       "| 227       | horsebean | \n",
       "| 217       | horsebean | \n",
       "\n",
       "\n"
      ],
      "text/plain": [
       "  weight feed     \n",
       "1 179    horsebean\n",
       "2 160    horsebean\n",
       "3 136    horsebean\n",
       "4 227    horsebean\n",
       "5 217    horsebean"
      ]
     },
     "metadata": {},
     "output_type": "display_data"
    }
   ],
   "source": [
    "head(chickwts,5)  # команда head позволяет посмотреть на\n",
    "                  # первые пять строк таблички "
   ]
  },
  {
   "cell_type": "markdown",
   "metadata": {},
   "source": [
    "Постройте гистограмму с распределением веса куриц с 20 столбиками. "
   ]
  },
  {
   "cell_type": "code",
   "execution_count": 7,
   "metadata": {},
   "outputs": [
    {
     "data": {},
     "metadata": {},
     "output_type": "display_data"
    },
    {
     "data": {
      "image/png": "[encoded data removed]",
      "text/plain": [
       "plot without title"
      ]
     },
     "metadata": {},
     "output_type": "display_data"
    }
   ],
   "source": [
    "# легче лёгкого! \n",
    "qplot(chickwts$weight, bins=20)"
   ]
  },
  {
   "cell_type": "markdown",
   "metadata": {},
   "source": [
    "Постройте эмпирическую функцию распределения для веса куриц. "
   ]
  },
  {
   "cell_type": "code",
   "execution_count": 8,
   "metadata": {},
   "outputs": [
    {
     "data": {},
     "metadata": {},
     "output_type": "display_data"
    },
    {
     "data": {
      "image/png": "[encoded data removed]",
      "text/plain": [
       "plot without title"
      ]
     },
     "metadata": {},
     "output_type": "display_data"
    }
   ],
   "source": [
    "# скопипастим код из лекции\n",
    "ggplot(chickwts, aes(x = weight))+   # на какой таблице строи график \n",
    "        stat_ecdf( )                 # какой именно график строим "
   ]
  },
  {
   "cell_type": "code",
   "execution_count": 9,
   "metadata": {},
   "outputs": [
    {
     "data": {},
     "metadata": {},
     "output_type": "display_data"
    },
    {
     "data": {
      "image/png": "[encoded data removed]",
      "text/plain": [
       "plot without title"
      ]
     },
     "metadata": {},
     "output_type": "display_data"
    }
   ],
   "source": [
    "# Можно сделать график чуть красивше! Розовым, пунктирным и большим! \n",
    "ggplot(chickwts, aes(x = weight))+\n",
    "        stat_ecdf(linetype = 'dashed', color = \"magenta\", size = 5)"
   ]
  },
  {
   "cell_type": "markdown",
   "metadata": {},
   "source": [
    "Найдите базовые характеристики распределения:\n",
    "\n",
    "* средний вес курицы\n",
    "* медианный вес курицы\n",
    "* дисперсию веса куриц \n",
    "* среднее квадратическо отклонения веса куриц \n",
    "* эмпирические квантили уровня 5%, 50% и 95%. \n",
    "* правда ли, что 50% квантиль совпал с медианой? А почему?"
   ]
  },
  {
   "cell_type": "code",
   "execution_count": 10,
   "metadata": {},
   "outputs": [
    {
     "data": {
      "text/html": [
       "261.30985915493"
      ],
      "text/latex": [
       "261.30985915493"
      ],
      "text/markdown": [
       "261.30985915493"
      ],
      "text/plain": [
       "[1] 261.3099"
      ]
     },
     "metadata": {},
     "output_type": "display_data"
    }
   ],
   "source": [
    "# сохраним вес курицы в отдельный вектор, чтобы было проще\n",
    "x <- chickwts$weight\n",
    "mean(x) # среднее"
   ]
  },
  {
   "cell_type": "code",
   "execution_count": 11,
   "metadata": {},
   "outputs": [
    {
     "data": {
      "text/html": [
       "258"
      ],
      "text/latex": [
       "258"
      ],
      "text/markdown": [
       "258"
      ],
      "text/plain": [
       "[1] 258"
      ]
     },
     "metadata": {},
     "output_type": "display_data"
    }
   ],
   "source": [
    "median(x) # медиана"
   ]
  },
  {
   "cell_type": "code",
   "execution_count": 12,
   "metadata": {},
   "outputs": [
    {
     "data": {
      "text/html": [
       "6095.50261569416"
      ],
      "text/latex": [
       "6095.50261569416"
      ],
      "text/markdown": [
       "6095.50261569416"
      ],
      "text/plain": [
       "[1] 6095.503"
      ]
     },
     "metadata": {},
     "output_type": "display_data"
    }
   ],
   "source": [
    "var(x) # дисперсия"
   ]
  },
  {
   "cell_type": "code",
   "execution_count": 13,
   "metadata": {},
   "outputs": [
    {
     "data": {
      "text/html": [
       "78.0736998975594"
      ],
      "text/latex": [
       "78.0736998975594"
      ],
      "text/markdown": [
       "78.0736998975594"
      ],
      "text/plain": [
       "[1] 78.0737"
      ]
     },
     "metadata": {},
     "output_type": "display_data"
    }
   ],
   "source": [
    "sd(x) # стандартное отклонение (корень из дисперсии)"
   ]
  },
  {
   "cell_type": "code",
   "execution_count": 14,
   "metadata": {},
   "outputs": [
    {
     "data": {
      "text/html": [
       "<dl class=dl-horizontal>\n",
       "\t<dt>5%</dt>\n",
       "\t\t<dd>140.5</dd>\n",
       "\t<dt>50%</dt>\n",
       "\t\t<dd>258</dd>\n",
       "\t<dt>95%</dt>\n",
       "\t\t<dd>385</dd>\n",
       "</dl>\n"
      ],
      "text/latex": [
       "\\begin{description*}\n",
       "\\item[5\\textbackslash{}\\%] 140.5\n",
       "\\item[50\\textbackslash{}\\%] 258\n",
       "\\item[95\\textbackslash{}\\%] 385\n",
       "\\end{description*}\n"
      ],
      "text/markdown": [
       "5%\n",
       ":   140.550%\n",
       ":   25895%\n",
       ":   385\n",
       "\n"
      ],
      "text/plain": [
       "   5%   50%   95% \n",
       "140.5 258.0 385.0 "
      ]
     },
     "metadata": {},
     "output_type": "display_data"
    }
   ],
   "source": [
    "q = c(0.05, 0.5, 0.95)\n",
    "quantile(x,q)"
   ]
  },
  {
   "cell_type": "code",
   "execution_count": 15,
   "metadata": {},
   "outputs": [
    {
     "data": {
      "text/html": [
       "TRUE"
      ],
      "text/latex": [
       "TRUE"
      ],
      "text/markdown": [
       "TRUE"
      ],
      "text/plain": [
       "[1] TRUE"
      ]
     },
     "metadata": {},
     "output_type": "display_data"
    }
   ],
   "source": [
    "# конечно правда! Медиана это и есть 50% квантиль\n",
    "median(x) == quantile(x, 0.5, names = FALSE)  # names отвечает за подписывание имён"
   ]
  },
  {
   "cell_type": "markdown",
   "metadata": {},
   "source": [
    "Сделали упражнение? Ответили на вопросы? Вы офигенны! Вы уже можете больше, чем среднестатистический аудитор из большой четвёрки ;) Двигайтесь дальше в таком же темпе. "
   ]
  },
  {
   "cell_type": "markdown",
   "metadata": {},
   "source": [
    "### Задачка 2 \n",
    "\n",
    "Случайные величины $X_1, \\ldots, X_5$ имею равномерное распределение на отрезке $[0;1]$ и независимы. С помощью симуляций оцените:\n",
    "\n",
    "а) $P(\\min\\{X_1, \\ldots, X_5\\} > 0.2)$\n",
    "\n",
    "б) $P(\\min\\{X_1, \\ldots, X_5\\} > 0.2 \\mid X_1 + X_2 < 0.5)$\n",
    "\n",
    "в) $E(\\min\\{X_1, \\ldots, X_5\\})$\n",
    "\n",
    "г) $E(\\min\\{X_1, \\ldots, X_5\\} \\mid X_1 + X_2 < 0.5)$\n",
    "\n",
    "Насколько логично то, что вы получили? Попробуйте порассуждать на эту тему. Постройте гистограмму для распределения минимума из этих случайных величини гистограмму для распределения максимума из этих случайных величин. Вспомните как выглядит теоретическая плотность распределения максимума и теоретическая плотность распределения минимума. Мы ещё с ними столкнёмся ;) "
   ]
  },
  {
   "cell_type": "code",
   "execution_count": 16,
   "metadata": {},
   "outputs": [
    {
     "name": "stderr",
     "output_type": "stream",
     "text": [
      "`stat_bin()` using `bins = 30`. Pick better value with `binwidth`.\n"
     ]
    },
    {
     "data": {},
     "metadata": {},
     "output_type": "display_data"
    },
    {
     "data": {
      "image/png": "[encoded data removed]",
      "text/plain": [
       "plot without title"
      ]
     },
     "metadata": {},
     "output_type": "display_data"
    }
   ],
   "source": [
    "# немного осмысленной копипасты из леции\n",
    "n_obs <- 10^6  # чтсло наблюдений\n",
    "\n",
    "# пяток случайных величин\n",
    "x_1 <- runif(n_obs, min = 0, max = 1)\n",
    "x_2 <- runif(n_obs, min = 0, max = 1)\n",
    "x_3 <- runif(n_obs, min = 0, max = 1)\n",
    "x_4 <- runif(n_obs, min = 0, max = 1)\n",
    "x_5 <- runif(n_obs, min = 0, max = 1)\n",
    "\n",
    "# находим минимальное значение в каждой пятёрке чисел \n",
    "mn <- pmin(x_1, x_2, x_3, x_4, x_5)\n",
    "\n",
    "qplot(mn)  # посмотрим на гистограмму, интересно же! "
   ]
  },
  {
   "cell_type": "code",
   "execution_count": 17,
   "metadata": {},
   "outputs": [
    {
     "data": {
      "text/html": [
       "0.326704"
      ],
      "text/latex": [
       "0.326704"
      ],
      "text/markdown": [
       "0.326704"
      ],
      "text/plain": [
       "[1] 0.326704"
      ]
     },
     "metadata": {},
     "output_type": "display_data"
    }
   ],
   "source": [
    "success <- mn > 0.2     # TRUE будет стоять в тех местах, где это правда \n",
    "sum(success) / n_obs    # а вот и итоговая оценка вероятности! :) "
   ]
  },
  {
   "cell_type": "code",
   "execution_count": 18,
   "metadata": {},
   "outputs": [
    {
     "data": {
      "text/html": [
       "0.00251"
      ],
      "text/latex": [
       "0.00251"
      ],
      "text/markdown": [
       "0.00251"
      ],
      "text/plain": [
       "[1] 0.00251"
      ]
     },
     "metadata": {},
     "output_type": "display_data"
    }
   ],
   "source": [
    "# также легко решаем пункт b) \n",
    "\n",
    "uslovie = x_1 + x_2 < 0.5  # находим позиции, где выполнено условие \n",
    "\n",
    "success <- mn[uslovie] > 0.2  # делаем срез по этому условию \n",
    "sum(success) / n_obs          # наконец получаем оценку вероятности \n",
    "# Вполне логично, что она уменьшилась по сравнению с предыдущей, мы же наложили ограничения! "
   ]
  },
  {
   "cell_type": "code",
   "execution_count": 19,
   "metadata": {},
   "outputs": [
    {
     "data": {
      "text/html": [
       "0.166390304621442"
      ],
      "text/latex": [
       "0.166390304621442"
      ],
      "text/markdown": [
       "0.166390304621442"
      ],
      "text/plain": [
       "[1] 0.1663903"
      ]
     },
     "metadata": {},
     "output_type": "display_data"
    }
   ],
   "source": [
    "# решаем пункт c) \n",
    "mean(mn)"
   ]
  },
  {
   "cell_type": "code",
   "execution_count": 20,
   "metadata": {},
   "outputs": [
    {
     "data": {
      "text/html": [
       "0.069153804009563"
      ],
      "text/latex": [
       "0.069153804009563"
      ],
      "text/markdown": [
       "0.069153804009563"
      ],
      "text/plain": [
       "[1] 0.0691538"
      ]
     },
     "metadata": {},
     "output_type": "display_data"
    }
   ],
   "source": [
    "# и также пункт d) \n",
    "# Вполне логично, что математическое ожидание меньше, у нас же ограничения! \n",
    "mean(mn[uslovie])"
   ]
  },
  {
   "cell_type": "markdown",
   "metadata": {},
   "source": [
    "### Задачка 3\n",
    "\n",
    "Иван Фёдорович Крузенштерн (ШТО?!) случайным образом с возможностью повторов выбирает $10$ натуральных чисел от $1$ до $100$. Пусть $X$ — минимум из этих чисел, а $Y$ — максимум. С помощью симуляций оцените \n",
    "\n",
    "а) $ P(Y > 3X)$\n",
    "\n",
    "б) $E(X \\cdot Y)$\n",
    "\n",
    "в) $P(Y > 3X \\mid Y < X^2)$\n",
    "\n",
    "г) $E(X \\cdot Y \\mid Y < X^2)$\n",
    "\n",
    "д) $E \\left( \\frac{X}{X + 2Y} \\right)$\n",
    "\n",
    "е) $Corr(X,Y)$"
   ]
  },
  {
   "cell_type": "code",
   "execution_count": 21,
   "metadata": {},
   "outputs": [
    {
     "data": {
      "text/html": [
       "<ol class=list-inline>\n",
       "\t<li>52</li>\n",
       "\t<li>14</li>\n",
       "\t<li>54</li>\n",
       "\t<li>64</li>\n",
       "\t<li>62</li>\n",
       "</ol>\n"
      ],
      "text/latex": [
       "\\begin{enumerate*}\n",
       "\\item 52\n",
       "\\item 14\n",
       "\\item 54\n",
       "\\item 64\n",
       "\\item 62\n",
       "\\end{enumerate*}\n"
      ],
      "text/markdown": [
       "1. 52\n",
       "2. 14\n",
       "3. 54\n",
       "4. 64\n",
       "5. 62\n",
       "\n",
       "\n"
      ],
      "text/plain": [
       "[1] 52 14 54 64 62"
      ]
     },
     "metadata": {},
     "output_type": "display_data"
    },
    {
     "data": {
      "text/html": [
       "14"
      ],
      "text/latex": [
       "14"
      ],
      "text/markdown": [
       "14"
      ],
      "text/plain": [
       "[1] 14"
      ]
     },
     "metadata": {},
     "output_type": "display_data"
    },
    {
     "data": {
      "text/html": [
       "64"
      ],
      "text/latex": [
       "64"
      ],
      "text/markdown": [
       "64"
      ],
      "text/plain": [
       "[1] 64"
      ]
     },
     "metadata": {},
     "output_type": "display_data"
    }
   ],
   "source": [
    "# Ивану Фёдоровичу грех не помочь!\n",
    "# Основная сложность этой задачи в генерации выборки, давайте попрубуем \n",
    "# разобраться пошагово и для начала сгенерируем только одну выборку\n",
    "\n",
    "natural <- sample(1:100, size = 5, replace = TRUE)\n",
    "\n",
    "natural\n",
    "\n",
    "min(natural)  # случайная величина X\n",
    "max(natural)  # случайная величина Y\n",
    "\n",
    "# нам таких выборок понадобится очень много, придётся написать цикл для их генерации..."
   ]
  },
  {
   "cell_type": "code",
   "execution_count": 22,
   "metadata": {},
   "outputs": [
    {
     "data": {
      "text/html": [
       "0.972039"
      ],
      "text/latex": [
       "0.972039"
      ],
      "text/markdown": [
       "0.972039"
      ],
      "text/plain": [
       "[1] 0.972039"
      ]
     },
     "metadata": {},
     "output_type": "display_data"
    }
   ],
   "source": [
    "n_obs = 10^6\n",
    "x = rep(0, n_obs)   # создаём два вектора из нулей, так будет быстрее работать \n",
    "y = rep(0, n_obs)   # чем ежели создавать пустой вектор (почему объясню на паре)\n",
    "                    # в вектор x будем записывать минимумы, в y максимумы\n",
    "for(i in 1:n_obs){\n",
    "    natural = sample(1:100, size = 10, replace = TRUE)  # сгенерировали выборку\n",
    "    x[i] = min(natural)                               # нашли минимум и максимум для неё\n",
    "    y[i] = max(natural)\n",
    "}\n",
    "\n",
    "# Вот и вся генерация, осталось только ответить на вопросы задачи\n",
    "# a)\n",
    "\n",
    "success = y > 3*x\n",
    "sum(success) / n_obs  "
   ]
  },
  {
   "cell_type": "code",
   "execution_count": 23,
   "metadata": {},
   "outputs": [
    {
     "data": {
      "text/html": [
       "884.313443"
      ],
      "text/latex": [
       "884.313443"
      ],
      "text/markdown": [
       "884.313443"
      ],
      "text/plain": [
       "[1] 884.3134"
      ]
     },
     "metadata": {},
     "output_type": "display_data"
    }
   ],
   "source": [
    "# б) \n",
    "mean(x*y)"
   ]
  },
  {
   "cell_type": "code",
   "execution_count": 24,
   "metadata": {},
   "outputs": [
    {
     "data": {
      "text/html": [
       "0.362894"
      ],
      "text/latex": [
       "0.362894"
      ],
      "text/markdown": [
       "0.362894"
      ],
      "text/plain": [
       "[1] 0.362894"
      ]
     },
     "metadata": {},
     "output_type": "display_data"
    }
   ],
   "source": [
    "# в) \n",
    "usl = y < x^2\n",
    "\n",
    "success <- y[usl] > 3*x[usl]\n",
    "sum(success) / n_obs  "
   ]
  },
  {
   "cell_type": "code",
   "execution_count": 25,
   "metadata": {},
   "outputs": [
    {
     "data": {
      "text/html": [
       "1637.99115272927"
      ],
      "text/latex": [
       "1637.99115272927"
      ],
      "text/markdown": [
       "1637.99115272927"
      ],
      "text/plain": [
       "[1] 1637.991"
      ]
     },
     "metadata": {},
     "output_type": "display_data"
    }
   ],
   "source": [
    "# г) \n",
    "mean(x[usl]*y[usl])"
   ]
  },
  {
   "cell_type": "code",
   "execution_count": 26,
   "metadata": {},
   "outputs": [
    {
     "data": {
      "text/html": [
       "0.0482726217560322"
      ],
      "text/latex": [
       "0.0482726217560322"
      ],
      "text/markdown": [
       "0.0482726217560322"
      ],
      "text/plain": [
       "[1] 0.04827262"
      ]
     },
     "metadata": {},
     "output_type": "display_data"
    }
   ],
   "source": [
    "# д)\n",
    "z = x/(x + 2*y)\n",
    "mean(z)"
   ]
  },
  {
   "cell_type": "code",
   "execution_count": 27,
   "metadata": {},
   "outputs": [
    {
     "data": {
      "text/html": [
       "0.100590803342845"
      ],
      "text/latex": [
       "0.100590803342845"
      ],
      "text/markdown": [
       "0.100590803342845"
      ],
      "text/plain": [
       "[1] 0.1005908"
      ]
     },
     "metadata": {},
     "output_type": "display_data"
    }
   ],
   "source": [
    "# e)\n",
    "cor(x,y)"
   ]
  },
  {
   "cell_type": "markdown",
   "metadata": {},
   "source": [
    "### Задачка 4\n",
    "\n",
    "Миша поступил на первый курс экономического факультета, потому что у него в крови всегда была предпренимательская жилка. На первом курсе она довела его, и он решил учёбу забросить и стать комерсом. На паблике \"Бизнес-молодость\" Миша подсмотрел шикарную бизнес-модель и решил, что будет торговать еженедельными газетами. На первом курсе Миша прослушал курс микроэкономики и понимает, что в условиях совершенной конкуренции, цену определяет рынок. Миша никак не может влиять на неё, однако он может влиять на то, какое количество газет следует закупить. На втором курсе Миша не учился. Из-за этого он не знает теорию вероятностей и вынужден для решения своих повседневных проблем нанять аналитика. \n",
    "\n",
    "Покупать газету Миша решил по $15$ рублей, а продавать за $30$. Количество потенциальных покупателей - случайная величина с распределением Пуассона. Опытным путём было установлено, что среднее значение этой величины равно $50$. Нераспроданные газеты ничего не стоят. Пусть $n$- количество газет, максимизирующее ожидаемую прибыль Мишы. \n",
    "\n",
    "a) Чему примерно должно быть равно значение функции распределения в точке $n$? \n",
    "\n",
    "b) С помощью компьютера найдите оптимальное значение $n$ и ожидаемую прибыль.\n",
    "\n",
    "с) Правильно ли поступил Миша, что бросил учёбу и ушёл в коммерцию? "
   ]
  },
  {
   "cell_type": "code",
   "execution_count": 28,
   "metadata": {},
   "outputs": [
    {
     "data": {
      "text/html": [
       "449.94387"
      ],
      "text/latex": [
       "449.94387"
      ],
      "text/markdown": [
       "449.94387"
      ],
      "text/plain": [
       "[1] 449.9439"
      ]
     },
     "metadata": {},
     "output_type": "display_data"
    }
   ],
   "source": [
    "# Ох уж этот Миша!  \n",
    "# Найдём оптимальное количество газет для закупки!\n",
    "\n",
    "n_obs = 10^6  # число наблюдений \n",
    "\n",
    "cost = 15   # издержки на покупку газеты \n",
    "price = 30  # цена, по которой будем продавать газету \n",
    "\n",
    "x = rpois(n_obs, lambda = 50)  # среднее значение совпадает с lambda\n",
    "\n",
    "# посмотрим на прибыль, еслм мы будем продавать 30 газет!\n",
    "# покупатели не могут купить больше 30 газет \n",
    "x[x > 30] = 30  # заменим всё, что больше 30 на 30\n",
    "\n",
    "# найдём все прибыли\n",
    "profit = x*price - 30*cost \n",
    "\n",
    "# найдём среднюю прибыль \n",
    "mean(profit)"
   ]
  },
  {
   "cell_type": "code",
   "execution_count": 29,
   "metadata": {},
   "outputs": [],
   "source": [
    "# Отлично! Дело осталось за малым, перебрать все возможноые варианты покупок и выбрать оптимальный \n",
    "\n",
    "profits = rep(0,100) # будем записывать средние прибыли\n",
    "for(s in 1:100){\n",
    "    x = rpois(n_obs, lambda = 50)  # генерируем покупочки \n",
    "    \n",
    "    x[x > s] = s  # нельзя продать лишнее\n",
    "    \n",
    "    profits[s] = mean(x*price - s*cost)  # запоминем среднюю прибыль\n",
    "}"
   ]
  },
  {
   "cell_type": "code",
   "execution_count": 30,
   "metadata": {},
   "outputs": [
    {
     "data": {},
     "metadata": {},
     "output_type": "display_data"
    },
    {
     "data": {
      "image/png": "[encoded data removed]",
      "text/plain": [
       "plot without title"
      ]
     },
     "metadata": {},
     "output_type": "display_data"
    }
   ],
   "source": [
    "# Посмотрим на график средней прибыли. Вполне ожидаемо, что это парабола\n",
    "qplot(1:100, profits, geom='line')"
   ]
  },
  {
   "cell_type": "code",
   "execution_count": 31,
   "metadata": {},
   "outputs": [
    {
     "data": {
      "text/html": [
       "665.58789"
      ],
      "text/latex": [
       "665.58789"
      ],
      "text/markdown": [
       "665.58789"
      ],
      "text/plain": [
       "[1] 665.5879"
      ]
     },
     "metadata": {},
     "output_type": "display_data"
    },
    {
     "data": {
      "text/html": [
       "50"
      ],
      "text/latex": [
       "50"
      ],
      "text/markdown": [
       "50"
      ],
      "text/plain": [
       "[1] 50"
      ]
     },
     "metadata": {},
     "output_type": "display_data"
    }
   ],
   "source": [
    "# Наконец мы видим прибыль Миши и сколько газет ему надо закупать :) \n",
    "max(profits)\n",
    "which.max(profits)"
   ]
  },
  {
   "cell_type": "code",
   "execution_count": 32,
   "metadata": {},
   "outputs": [],
   "source": [
    "# с) На этот пункт у меня для вас ответа нет. "
   ]
  },
  {
   "cell_type": "markdown",
   "metadata": {},
   "source": [
    "### Задачка 5\n",
    "\n",
    "Глеб раздобыл кубик и собирается как следует изучить его свойства. Для этого он подбросил его $n$ раз. Величина $X_1$ — число выпадений единицы, а $X_6$ — число выпадений $6$. Глебу интересно какова корреляцие между этими двумя случайными величинами. Что вам на этот счёт подсказывает интуиция? Какой знак будет у этой корреляии: положительным или отрицательным?\n",
    "\n",
    "Оцените с помощью симуляций $Corr(X_1,X_6)$. Пусть $n=10$. Обратите внимание, что $n$ в данном случае это не количество симуляций. Десять подбрасываний это всего лишь одно испытание. После симуляций попытайтесь найти эту корреляцию руками. на бумажке. "
   ]
  },
  {
   "cell_type": "code",
   "execution_count": 33,
   "metadata": {
    "scrolled": true
   },
   "outputs": [
    {
     "data": {
      "text/html": [
       "1"
      ],
      "text/latex": [
       "1"
      ],
      "text/markdown": [
       "1"
      ],
      "text/plain": [
       "[1] 1"
      ]
     },
     "metadata": {},
     "output_type": "display_data"
    },
    {
     "data": {
      "text/html": [
       "4"
      ],
      "text/latex": [
       "4"
      ],
      "text/markdown": [
       "4"
      ],
      "text/plain": [
       "[1] 4"
      ]
     },
     "metadata": {},
     "output_type": "display_data"
    }
   ],
   "source": [
    "# подбросим кубик 10 раз и вычислим значения X1 и X6 \n",
    "\n",
    "smpl = sample(size = 10, 1:6, prob = rep(1/6,6), replace = TRUE)\n",
    "\n",
    "sum(smpl == 1) # это X1\n",
    "sum(smpl == 6) # это X6"
   ]
  },
  {
   "cell_type": "code",
   "execution_count": 34,
   "metadata": {},
   "outputs": [
    {
     "data": {
      "text/html": [
       "-0.199566595765921"
      ],
      "text/latex": [
       "-0.199566595765921"
      ],
      "text/markdown": [
       "-0.199566595765921"
      ],
      "text/plain": [
       "[1] -0.1995666"
      ]
     },
     "metadata": {},
     "output_type": "display_data"
    }
   ],
   "source": [
    "n_obs = 10^6  # сделаем 10 подбрасываний n раз\n",
    "\n",
    "x1 = rep(0, n_obs)  # сюда будем записывать количество 1 в каждой серии испытаний\n",
    "x6 = rep(0, n_obs)  # сюда будем записывать число 6 в каждой серии испытаний\n",
    "\n",
    "for(i in 1:n_obs){\n",
    "    smpl = sample(size = 10, 1:6, prob = rep(1/6,6), replace = TRUE) # первая серия испытаний!\n",
    "    \n",
    "    x1[i] = sum(smpl == 1)\n",
    "    x6[i] = sum(smpl == 6)    \n",
    "}\n",
    "\n",
    "cor(x1, x6)"
   ]
  },
  {
   "cell_type": "markdown",
   "metadata": {},
   "source": [
    "### Задача 6\n",
    "\n",
    "Случайная величина $X$ распределена равномерно на отрезке $[0;1]$. Женя подкидывает эту случайную величину. Она принимает значение $x$. После подбрасывания Женя изготавливает монетку, которая выпадает «орлом» с вероятностью $x$ и передаёт её Дане. Даня, не зная $x$, подкидывает монетку один раз. Она выпала «орлом». \n",
    "\n",
    "a) Какова вероятность, что она снова выпадет «орлом»?"
   ]
  },
  {
   "cell_type": "code",
   "execution_count": 35,
   "metadata": {},
   "outputs": [
    {
     "name": "stdout",
     "output_type": "stream",
     "text": [
      "Вероятность орла на монетке: 0.3865895\n",
      "У Дани выпало: О Р"
     ]
    }
   ],
   "source": [
    "# смодулируем одну итерацию всего этого процесса\n",
    "\n",
    "x = runif(1, min = 0, max = 1)        # Женя делает монетку\n",
    "cat('Вероятность орла на монетке:',x)  # Команда cat это более пафосный print\n",
    "\n",
    "# Даня два раза подкидывает монетку\n",
    "y = sample(c('О','Р'), prob = c(x, 1-x), size = 2, replace = TRUE)\n",
    "cat('\\nУ Дани выпало:', y)"
   ]
  },
  {
   "cell_type": "code",
   "execution_count": 36,
   "metadata": {},
   "outputs": [
    {
     "data": {
      "text/html": [
       "<ol class=list-inline>\n",
       "\t<li>0.167171410750598</li>\n",
       "\t<li>0.640614168019965</li>\n",
       "\t<li>0.238702712813392</li>\n",
       "\t<li>0.41304379911162</li>\n",
       "\t<li>0.289650892373174</li>\n",
       "</ol>\n"
      ],
      "text/latex": [
       "\\begin{enumerate*}\n",
       "\\item 0.167171410750598\n",
       "\\item 0.640614168019965\n",
       "\\item 0.238702712813392\n",
       "\\item 0.41304379911162\n",
       "\\item 0.289650892373174\n",
       "\\end{enumerate*}\n"
      ],
      "text/markdown": [
       "1. 0.167171410750598\n",
       "2. 0.640614168019965\n",
       "3. 0.238702712813392\n",
       "4. 0.41304379911162\n",
       "5. 0.289650892373174\n",
       "\n",
       "\n"
      ],
      "text/plain": [
       "[1] 0.1671714 0.6406142 0.2387027 0.4130438 0.2896509"
      ]
     },
     "metadata": {},
     "output_type": "display_data"
    }
   ],
   "source": [
    "# Отлично! Теперь мы должны сделать как можно больше разных монет и подкинуть их как можно больше раз. \n",
    "# Из-за того, что наш эксперимент происходит последовательно, придётся подкидывать каждую монетку Жени много раз.\n",
    "\n",
    "n_zenia = 100                       # сколько монеток сделал Женя\n",
    "x = runif(n_obs, min = 0, max = 1)  # Женя делает свой ход n_zenia раз\n",
    "x[1:5]                              # первые пять монеток, созданные Женей :) "
   ]
  },
  {
   "cell_type": "code",
   "execution_count": 37,
   "metadata": {},
   "outputs": [],
   "source": [
    "# Знаете, иногда так бывает, что тебе лень что-то делать и ты откладываешь это до лучших времён. \n",
    "# Вот и я отложил. Сейчас, когда я пишу это, до пары остаётся два часа. Можно было бы взять и \n",
    "# написать тут два цикла для генерации вероятностей вместо это текста, но я не хочу их писать. \n",
    "# Они будут большими и страшными. И вообще я бы эту задачку лучше бы убрал из домашки, так как \n",
    "# она для генераций не очень удачная. "
   ]
  },
  {
   "cell_type": "markdown",
   "metadata": {},
   "source": [
    "b) Как выглядит ответ, если Дане известно, что монетка при $n$ подбрасываниях $k$ раз выпадала орлом? "
   ]
  },
  {
   "cell_type": "code",
   "execution_count": 38,
   "metadata": {},
   "outputs": [],
   "source": [
    "# Ня! Решение пропущено. Или отложено до лучших времён. Не знаю. "
   ]
  },
  {
   "cell_type": "markdown",
   "metadata": {},
   "source": [
    "А сможете найти эти вероятности вручную? "
   ]
  },
  {
   "cell_type": "markdown",
   "metadata": {},
   "source": [
    "### Задачка 7.1 \n",
    "\n",
    "Пусть $X \\sim Exp(2)$. Аня помнит, что такое распределение называется экспоненциальным и что в такой ситуации функция распределения случайной величины $X$ выглядит как: \n",
    "\n",
    "$$ F(x) = 1 - e^{-2 x}$$\n",
    "\n",
    "Аня хочет понять какое распределение будет у случайной величины $Y$, если \n",
    "\n",
    "$$ Y = 1 - e^{-2 X}$$ \n",
    "\n",
    "Попробуйте ссимулировать такую случайную величину, посмотреть на её гистограмму и дать ответ на вопрос Ани. Подумайте почему ответ получился именно таким."
   ]
  },
  {
   "cell_type": "code",
   "execution_count": 39,
   "metadata": {},
   "outputs": [
    {
     "name": "stderr",
     "output_type": "stream",
     "text": [
      "`stat_bin()` using `bins = 30`. Pick better value with `binwidth`.\n"
     ]
    },
    {
     "data": {},
     "metadata": {},
     "output_type": "display_data"
    },
    {
     "data": {
      "image/png": "[encoded data removed]",
      "text/plain": [
       "plot without title"
      ]
     },
     "metadata": {},
     "output_type": "display_data"
    }
   ],
   "source": [
    "n_obs = 10^6\n",
    "x = rexp(n_obs, rate = 2)\n",
    "y = 1 - exp(-2*x)\n",
    "qplot(y)           # равномерная на отрезке [0; 1]"
   ]
  },
  {
   "cell_type": "markdown",
   "metadata": {},
   "source": [
    "### Задачка 7.2\n",
    "\n",
    "Маша и Виолетта живут в общежитии в одной комнате. Маша постоянно что-то говорит про нейронные сети. Виолетта не очень понимает о чём идёт речь, но хотела бы разобраться, чтобы быть с подругой на одной волне. Для этого она залезла в [мудрую книгу](https://yadi.sk/i/wBswqtL33UDYsD) и стала читать. В одной из первых глав она узнала, что в качестве функции активации в нейронах часто используют сигмоида, которая представляет из себя функцию распределения для логистической случайной величины. Функция выглядит как-то так: \n",
    "\n",
    "$$ F(x) = \\frac{1}{1 + e^{-x}} $$\n",
    "\n",
    "Виолетта пока не поняла что такое нейрон, сигмоида и функция активации, зато она очень хорошо знает что такое распределение случайной величины. Ей жутко интересно как оно выглядит.\n",
    "\n",
    "а) Помогите Виолетте сгенирировать случайную величину $X$, имеющую логистическое распределение. Постройте для неё гистограмму, плотность и функцию распределения прямо как на паре. \n",
    "\n",
    "б) Также Виолетте хотелось бы узнать какое распределение будет у случайной величины $Y = F(X)$. Попробуйте посмотреть на него с помощью симуляций. Как следует подумайте почему ответ получился именно таким. Функция `rlogis` с параметрами `location = 0` и  `scale = 1` вам в помощь! "
   ]
  },
  {
   "cell_type": "code",
   "execution_count": 40,
   "metadata": {},
   "outputs": [
    {
     "data": {},
     "metadata": {},
     "output_type": "display_data"
    },
    {
     "data": {
      "image/png": "[encoded data removed]",
      "text/plain": [
       "plot without title"
      ]
     },
     "metadata": {},
     "output_type": "display_data"
    }
   ],
   "source": [
    "# a) \n",
    "n_obs = 10^3 # не будем генерировать особо много, а то функция не построится и всё зависнет \n",
    "\n",
    "x = rlogis(n_obs, location=0, scale=1)  #сгенерировали\n",
    "\n",
    "# построим функцию распределения \n",
    "df = data.frame(sample = x)\n",
    "ggplot(df, aes(x = sample)) + stat_ecdf( )"
   ]
  },
  {
   "cell_type": "code",
   "execution_count": 41,
   "metadata": {},
   "outputs": [
    {
     "name": "stderr",
     "output_type": "stream",
     "text": [
      "`stat_bin()` using `bins = 30`. Pick better value with `binwidth`.\n"
     ]
    },
    {
     "data": {},
     "metadata": {},
     "output_type": "display_data"
    },
    {
     "data": {
      "image/png": "[encoded data removed]",
      "text/plain": [
       "plot without title"
      ]
     },
     "metadata": {},
     "output_type": "display_data"
    }
   ],
   "source": [
    "# построи гистограмму и плотность \n",
    "ggplot(df, aes(x = sample))+\n",
    "            # Наносим гистограмму \n",
    "            geom_histogram(aes(y = ..density..))+  # опция ..density.. нормирует площадь гистограмы к 1\n",
    "                                                   # попробуйте стереть её и посмотреть что будет \n",
    "             # Наносим плотность распределения\n",
    "            stat_function(fun = dlogis, args = c(0,1), color = \"darkred\", size=1)"
   ]
  },
  {
   "cell_type": "code",
   "execution_count": 42,
   "metadata": {},
   "outputs": [
    {
     "name": "stderr",
     "output_type": "stream",
     "text": [
      "`stat_bin()` using `bins = 30`. Pick better value with `binwidth`.\n"
     ]
    },
    {
     "data": {},
     "metadata": {},
     "output_type": "display_data"
    },
    {
     "data": {
      "image/png": "[encoded data removed]",
      "text/plain": [
       "plot without title"
      ]
     },
     "metadata": {},
     "output_type": "display_data"
    }
   ],
   "source": [
    "# b) сгенерируем выборку в нормальном объёме \n",
    "n_obs = 10^6\n",
    "x = rlogis(n_obs, location=0, scale=1)  #сгенерировали\n",
    "\n",
    "y = 1/(1 + exp(-x))\n",
    "qplot(y)           # равномерная на отрезке [0; 1]"
   ]
  },
  {
   "cell_type": "markdown",
   "metadata": {},
   "source": [
    "Воу, воу, воу, теория вероятностей, палехче! В обеих задачах получился одинаковый ответ. Видимо, в случайной величине $Y = F(X)$, где $F(x)$ - функция распределения случайной величины $X$, есть какая-то магия. Подумайте о том какая и постарайтесь доказать наличие этой магии на бумаге. На семинаре мы попробуем сделать это совместно. "
   ]
  },
  {
   "cell_type": "markdown",
   "metadata": {},
   "source": [
    "### Задачка 9 \n",
    "\n",
    "Было бы нечестно, если после задач $7.1$ и $7.2$ следовала бы задачка с номером $8$. Поэтому тут задачка с номером $9$! \n",
    "\n",
    "Есть две монеты, у которых вероятности выпадения орла при однократном подбрасывании равны $0.6$ и $0.4$. Камила подбрасывает первую монетку до появления орла. Вика делает то же самое со второй монеткой. Найдите с помощью симуляций вероятность того, что \n",
    "\n",
    "a) Вика сделает больше подбрасываний, чем Камила;\n",
    "\n",
    "b) Камила сделает больше подбрасываний, чем Вика;\n",
    "\n",
    "c) Камила и Вика сделают одинаковое число подбрасываний.\n",
    "\n",
    "d) Верно ли, что в сумме эти три вероятности дают единицу? Логично ли это? \n",
    "\n",
    "e) Найдите математическое ожидание суммарного количества бросков. "
   ]
  },
  {
   "cell_type": "code",
   "execution_count": 43,
   "metadata": {},
   "outputs": [
    {
     "data": {
      "text/html": [
       "<ol class=list-inline>\n",
       "\t<li>0</li>\n",
       "\t<li>0</li>\n",
       "\t<li>0</li>\n",
       "\t<li>2</li>\n",
       "\t<li>4</li>\n",
       "\t<li>0</li>\n",
       "\t<li>0</li>\n",
       "\t<li>0</li>\n",
       "\t<li>0</li>\n",
       "\t<li>0</li>\n",
       "</ol>\n"
      ],
      "text/latex": [
       "\\begin{enumerate*}\n",
       "\\item 0\n",
       "\\item 0\n",
       "\\item 0\n",
       "\\item 2\n",
       "\\item 4\n",
       "\\item 0\n",
       "\\item 0\n",
       "\\item 0\n",
       "\\item 0\n",
       "\\item 0\n",
       "\\end{enumerate*}\n"
      ],
      "text/markdown": [
       "1. 0\n",
       "2. 0\n",
       "3. 0\n",
       "4. 2\n",
       "5. 4\n",
       "6. 0\n",
       "7. 0\n",
       "8. 0\n",
       "9. 0\n",
       "10. 0\n",
       "\n",
       "\n"
      ],
      "text/plain": [
       " [1] 0 0 0 2 4 0 0 0 0 0"
      ]
     },
     "metadata": {},
     "output_type": "display_data"
    }
   ],
   "source": [
    "n_obs = 10^6\n",
    "p1 = 0.6\n",
    "p2 = 0.4 \n",
    "\n",
    "# симулируем подбрасывания Вики и Камилы\n",
    "x_kamila = rgeom(n_obs, prob = p1)\n",
    "x_vika = rgeom(n_obs, prob = p2)\n",
    "\n",
    "x_kamila[1:10]  # в векторе стоит число подбрасываний до первого орла"
   ]
  },
  {
   "cell_type": "code",
   "execution_count": 44,
   "metadata": {},
   "outputs": [
    {
     "data": {
      "text/html": [
       "0.473513"
      ],
      "text/latex": [
       "0.473513"
      ],
      "text/markdown": [
       "0.473513"
      ],
      "text/plain": [
       "[1] 0.473513"
      ]
     },
     "metadata": {},
     "output_type": "display_data"
    }
   ],
   "source": [
    "# a)  # логично, Вике больше повезло с монткой!\n",
    "sum(x_vika > x_kamila)/n_obs"
   ]
  },
  {
   "cell_type": "code",
   "execution_count": 45,
   "metadata": {},
   "outputs": [
    {
     "data": {
      "text/html": [
       "0.21105"
      ],
      "text/latex": [
       "0.21105"
      ],
      "text/markdown": [
       "0.21105"
      ],
      "text/plain": [
       "[1] 0.21105"
      ]
     },
     "metadata": {},
     "output_type": "display_data"
    }
   ],
   "source": [
    "# b) \n",
    "sum(x_vika < x_kamila)/n_obs"
   ]
  },
  {
   "cell_type": "code",
   "execution_count": 46,
   "metadata": {},
   "outputs": [
    {
     "data": {
      "text/html": [
       "0.315437"
      ],
      "text/latex": [
       "0.315437"
      ],
      "text/markdown": [
       "0.315437"
      ],
      "text/plain": [
       "[1] 0.315437"
      ]
     },
     "metadata": {},
     "output_type": "display_data"
    }
   ],
   "source": [
    "# c) \n",
    "sum(x_vika == x_kamila)/n_obs"
   ]
  },
  {
   "cell_type": "code",
   "execution_count": 47,
   "metadata": {},
   "outputs": [
    {
     "data": {
      "text/html": [
       "1"
      ],
      "text/latex": [
       "1"
      ],
      "text/markdown": [
       "1"
      ],
      "text/plain": [
       "[1] 1"
      ]
     },
     "metadata": {},
     "output_type": "display_data"
    }
   ],
   "source": [
    "# d) \n",
    "# да, эти вероятности дадут в сумме единицу, потому что других исходов не бывает\n",
    "sum(x_vika > x_kamila)/n_obs + sum(x_vika < x_kamila)/n_obs + sum(x_vika == x_kamila)/n_obs"
   ]
  },
  {
   "cell_type": "code",
   "execution_count": 48,
   "metadata": {},
   "outputs": [
    {
     "data": {
      "text/html": [
       "2.165407"
      ],
      "text/latex": [
       "2.165407"
      ],
      "text/markdown": [
       "2.165407"
      ],
      "text/plain": [
       "[1] 2.165407"
      ]
     },
     "metadata": {},
     "output_type": "display_data"
    }
   ],
   "source": [
    "# e) \n",
    "mean(x_vika + x_kamila)"
   ]
  },
  {
   "cell_type": "markdown",
   "metadata": {},
   "source": [
    "Продемонстрируйте с помощью симуляций, что у геометрического распределения нет памяти. Определение [отсутствия памяти ищи тут](https://ru.wikipedia.org/wiki/Геометрическое_распределение). Что это означает для Вики и Камилы? \n",
    "\n",
    "Читаем определение! У распределения нет памяти, если количество прошлых неудач не влияет на количество будущих неудач\n",
    "\n",
    "$$ P( Y >  m + n \\mid Y \\ge m) = P(Y > n).$$ \n",
    "\n",
    "Ровно это и закодим."
   ]
  },
  {
   "cell_type": "code",
   "execution_count": 49,
   "metadata": {},
   "outputs": [
    {
     "data": {
      "text/html": [
       "0.4094132"
      ],
      "text/latex": [
       "0.4094132"
      ],
      "text/markdown": [
       "0.4094132"
      ],
      "text/plain": [
       "[1] 0.4094132"
      ]
     },
     "metadata": {},
     "output_type": "display_data"
    }
   ],
   "source": [
    "n_obs <- 10^7\n",
    "p <- 0.2 \n",
    "\n",
    "y <- rgeom(n_obs, prob = p)\n",
    "\n",
    "sum(y > 3)/n_obs  # Правая часть равенства "
   ]
  },
  {
   "cell_type": "code",
   "execution_count": 50,
   "metadata": {},
   "outputs": [
    {
     "data": {
      "text/html": [
       "0.409433924505966"
      ],
      "text/latex": [
       "0.409433924505966"
      ],
      "text/markdown": [
       "0.409433924505966"
      ],
      "text/plain": [
       "[1] 0.4094339"
      ]
     },
     "metadata": {},
     "output_type": "display_data"
    }
   ],
   "source": [
    "# Левая часть равенства \n",
    "y = y[y >= 2] \n",
    "sum(y > 2 + 3)/length(y)  "
   ]
  },
  {
   "cell_type": "markdown",
   "metadata": {},
   "source": [
    "\n",
    "Эту задачку тоже можно решить руками на бумаге. Слабо? "
   ]
  },
  {
   "cell_type": "markdown",
   "metadata": {},
   "source": [
    "### Задачка 10\n",
    "\n",
    "Света очень долго сидела и думала. В конечном счёте у неё возникло очень много разнообразных вопросов. Помогите Свете ответить на них. \n",
    "\n",
    "a) Пусть $X \\sim N(5,9)$, а $Y \\sim N(3, 16)$. Верно ли, что сумма нормальных случайных величин будет нормальной случайной величиной? Какими будут математическое ожидние и дисперсия у итоговой случайной величины.  Проверьте это с помощью симуляций.\n",
    "\n",
    "___ВНИМАНИЕ:___ код с симуляциями ни в коем случае не является доказательством верных фактов, их строгие доказательства можно найти в лекциях. Но при этом он является опровержением неверных фактов. Помните о том, что в математике да это всегда да, а нет это хотя бы один раз нет. "
   ]
  },
  {
   "cell_type": "code",
   "execution_count": 51,
   "metadata": {},
   "outputs": [
    {
     "data": {
      "text/html": [
       "7.99883670704661"
      ],
      "text/latex": [
       "7.99883670704661"
      ],
      "text/markdown": [
       "7.99883670704661"
      ],
      "text/plain": [
       "[1] 7.998837"
      ]
     },
     "metadata": {},
     "output_type": "display_data"
    },
    {
     "data": {
      "text/html": [
       "25.0105410207091"
      ],
      "text/latex": [
       "25.0105410207091"
      ],
      "text/markdown": [
       "25.0105410207091"
      ],
      "text/plain": [
       "[1] 25.01054"
      ]
     },
     "metadata": {},
     "output_type": "display_data"
    },
    {
     "name": "stderr",
     "output_type": "stream",
     "text": [
      "`stat_bin()` using `bins = 30`. Pick better value with `binwidth`.\n"
     ]
    },
    {
     "data": {},
     "metadata": {},
     "output_type": "display_data"
    },
    {
     "data": {
      "image/png": "[encoded data removed]",
      "text/plain": [
       "plot without title"
      ]
     },
     "metadata": {},
     "output_type": "display_data"
    }
   ],
   "source": [
    "n_obs = 10^4\n",
    "x <- rnorm(n_obs, mean=5, sd=3)  # обратите внимание, что мы указываем sd а не дисперсию!\n",
    "y <- rnorm(n_obs, mean=3, sd=4)\n",
    "\n",
    "mean(x+y)     # 8 = 5 + 3     всё как в лекциях!\n",
    "var(x+y)      # 25 = 9 + 16   снова всё как в лекциях!\n",
    "qplot(x + y)  # посмотрим на гистограмку :3"
   ]
  },
  {
   "cell_type": "markdown",
   "metadata": {},
   "source": [
    "b) Пусть $X \\sim N(\\mu, \\sigma^2)$. Верно ли, что $\\frac{X-\\mu}{\\sigma} \\sim N(0,1)$? Проверьте это с помощью симуляций. "
   ]
  },
  {
   "cell_type": "code",
   "execution_count": 52,
   "metadata": {},
   "outputs": [
    {
     "data": {
      "text/html": [
       "1.55032324358072e-05"
      ],
      "text/latex": [
       "1.55032324358072e-05"
      ],
      "text/markdown": [
       "1.55032324358072e-05"
      ],
      "text/plain": [
       "[1] 1.550323e-05"
      ]
     },
     "metadata": {},
     "output_type": "display_data"
    },
    {
     "data": {
      "text/html": [
       "0.99932616770797"
      ],
      "text/latex": [
       "0.99932616770797"
      ],
      "text/markdown": [
       "0.99932616770797"
      ],
      "text/plain": [
       "[1] 0.9993262"
      ]
     },
     "metadata": {},
     "output_type": "display_data"
    },
    {
     "name": "stderr",
     "output_type": "stream",
     "text": [
      "`stat_bin()` using `bins = 30`. Pick better value with `binwidth`.\n"
     ]
    },
    {
     "data": {},
     "metadata": {},
     "output_type": "display_data"
    },
    {
     "data": {
      "image/png": "[encoded data removed]",
      "text/plain": [
       "plot without title"
      ]
     },
     "metadata": {},
     "output_type": "display_data"
    }
   ],
   "source": [
    "# конечно верно! такая процедура называется стандартизацией случайной величины \n",
    "# хорошо бы попробовать код для разных примеров нормальных случайных величин\n",
    "\n",
    "x = rnorm(n_obs, mean=5, sd=3)\n",
    "y = (x - 5)/3\n",
    "mean(y)\n",
    "var(y)\n",
    "qplot(y)"
   ]
  },
  {
   "cell_type": "markdown",
   "metadata": {},
   "source": [
    "с) Пусть $X \\sim U[0;1]$ и $Y \\sim U[0;1]$. Верно ли, что $X + Y$ также будет иметь равномерное распределение? Проверьте это с помощью симуляций? "
   ]
  },
  {
   "cell_type": "code",
   "execution_count": 53,
   "metadata": {},
   "outputs": [
    {
     "name": "stderr",
     "output_type": "stream",
     "text": [
      "`stat_bin()` using `bins = 30`. Pick better value with `binwidth`.\n"
     ]
    },
    {
     "data": {},
     "metadata": {},
     "output_type": "display_data"
    },
    {
     "data": {
      "image/png": "[encoded data removed]",
      "text/plain": [
       "plot without title"
      ]
     },
     "metadata": {},
     "output_type": "display_data"
    }
   ],
   "source": [
    "# конечно неверно, это чушь! сумма равномерных величин иметт распределение треугольника\n",
    "\n",
    "x <- runif(n_obs, min = 0, max = 1)\n",
    "y <- runif(n_obs, min = 0, max = 1)\n",
    "qplot(x+y)"
   ]
  },
  {
   "cell_type": "markdown",
   "metadata": {},
   "source": [
    "d) Пусть $X \\sim U[0;1]$. Какое распределение будет у $Y = 5 + 3\\cdot X$? Узнайте это с помощью симуляций. "
   ]
  },
  {
   "cell_type": "code",
   "execution_count": 54,
   "metadata": {},
   "outputs": [
    {
     "name": "stderr",
     "output_type": "stream",
     "text": [
      "`stat_bin()` using `bins = 30`. Pick better value with `binwidth`.\n"
     ]
    },
    {
     "data": {},
     "metadata": {},
     "output_type": "display_data"
    },
    {
     "data": {
      "image/png": "[encoded data removed]",
      "text/plain": [
       "plot without title"
      ]
     },
     "metadata": {},
     "output_type": "display_data"
    }
   ],
   "source": [
    "# она будет равномерной на отрезке от 5 до 8 :) \n",
    "# мы сдвинули распределение вправо на 5 и растянули в три раза\n",
    "\n",
    "x <- runif(n_obs, min = 0, max = 1)\n",
    "y = 5 + 3*x\n",
    "qplot(y)"
   ]
  },
  {
   "cell_type": "markdown",
   "metadata": {},
   "source": [
    "Когда сумма случайных величин из одного семейства даёт случайную величину из этого же семейства, то такое распределение называется устойчивым относительно суммирования. Получилось ли, что нормальное и равномерное распределения устойчивы относительно суммирования?  Как думает распределение Пуассона, экспоненциальное и Хи-квадрат устойчивы относительно суммирования? "
   ]
  },
  {
   "cell_type": "markdown",
   "metadata": {},
   "source": [
    "Найдите в лекциях по теории вероятностей весь материал, который касается свойств нормального распределния и повторите его. "
   ]
  }
 ],
 "metadata": {
  "kernelspec": {
   "display_name": "R",
   "language": "R",
   "name": "ir"
  },
  "language_info": {
   "codemirror_mode": "r",
   "file_extension": ".r",
   "mimetype": "text/x-r-source",
   "name": "R",
   "pygments_lexer": "r",
   "version": "3.4.2"
  }
 },
 "nbformat": 4,
 "nbformat_minor": 2
}
