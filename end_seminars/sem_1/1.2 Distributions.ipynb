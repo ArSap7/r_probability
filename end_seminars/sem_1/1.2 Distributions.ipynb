{
 "cells": [
  {
   "cell_type": "markdown",
   "metadata": {},
   "source": [
    "<img src=\"https://raw.githubusercontent.com/FUlyankin/r_probability/master/800x800-04.jpg\" height=\"200\" width=\"300\"> \n",
    "\n",
    "# <center> R для тервера и матстата. <br>  <br> 1.2 Генерация распределений. </center>\n",
    "\n",
    "\n",
    "Данный ноутбук является конспектом по курсу «R для теории вероятностей и математической статистики» (РАНХиГС, 2017-2018). Автор ноутбука [вот этот парень по имени Филипп.](https://vk.com/ppilif) Если у вас для него есть деньги, слава или женщины, он от этого всего не откажется. Ноутбук распространяется на условиях лицензии [Creative Commons Attribution-Share Alike 4.0.](https://creativecommons.org/licenses/by-sa/4.0/) При использовании обязательно упоминание автора курса и аффилиации. При наличии технической возможности необходимо также указать активную гиперссылку на [страницу курса.](https://fulyankin.github.io/R_probability/) На ней можно найти другие материалы. Фрагменты кода, включенные в этот notebook, публикуются как [общественное достояние.](https://creativecommons.org/publicdomain/zero/1.0/)\n",
    "\n",
    "---------------"
   ]
  },
  {
   "cell_type": "markdown",
   "metadata": {},
   "source": [
    "Вы будете в шоке, но на самом деле R ориентирован на статитсику и всё что с ней связано! Пора бы поизучать его с этой точки зрения...  Подгружать пакеты для разных красивостей можно командой `library`. Вы должны знать об этом с первого курса..."
   ]
  },
  {
   "cell_type": "code",
   "execution_count": null,
   "metadata": {},
   "outputs": [],
   "source": [
    "library(\"ggplot2\")  # Пакет для красивых графиков \n",
    "     \n",
    "# Если вы работаете в R-studio, вы можете избежать подгрузки пакетов ниже\n",
    "# Отрегулируем размер картинок, которые будут выдаваться в нашей тетрадке\n",
    "library('repr') \n",
    "library(\"grid\")  # Пакет для субплотов\n",
    "options(repr.plot.width=4, repr.plot.height=3)"
   ]
  },
  {
   "cell_type": "markdown",
   "metadata": {},
   "source": [
    "## 1. Генерим случайные величины \n",
    "\n",
    "Иногда для решения задач по теории вероятностей или исследования свойств статистических алгоритмов нужно сгенерировать случайную выборку из какого-нибудь распределения. Чтобы сварить в R любую случайную величину, нужно знать четыре буквы: r, d, p и q. \n",
    "\n",
    "Посмотрим как это работает на примере **нормального распределения**. Того самого распределения, плотность которого выглядит как-то вот так: \n",
    "\n",
    "$$\n",
    "f(x) = \\frac{1}{\\sigma \\sqrt{2 \\pi}} \\cdot  e^{-\\frac{(x - \\mu)^2}{2 \\sigma^2}}\n",
    "$$\n",
    "\n",
    "* `rnorm` эта команда сгенерирует выборку из нормального распределения\n",
    "* `dnorm` эта команда вычислит значение плотности в указанной точке\n",
    "* `pnorm` эта команда находит вероятность \n",
    "* `qnorm` эта команда находит квантили \n",
    "\n",
    "Аналогично можно работать со многими другими распределениями. Нужно только загуглить названия этих распределений. Например, команда `rchisq` всё ещё генерирует выборку, но уже из распределения хи-квадрат. \n",
    "\n",
    "Сгенерируем случайную величину из нормального распределения с математическим ожиданием $5$ и дисперсией $9$. "
   ]
  },
  {
   "cell_type": "code",
   "execution_count": null,
   "metadata": {},
   "outputs": [],
   "source": [
    "x <- rnorm(1000, mean=5, sd=3)  # если дисперсия 9, то стандартное отклонение 3\n",
    "x[10:20]"
   ]
  },
  {
   "cell_type": "markdown",
   "metadata": {},
   "source": [
    "Мы можем посчитать какие-нибудь характеристики для нашей случайной величины! "
   ]
  },
  {
   "cell_type": "code",
   "execution_count": null,
   "metadata": {},
   "outputs": [],
   "source": [
    "mean(x) # среднее выборочное (при больших n похоже на математическое ожидание)"
   ]
  },
  {
   "cell_type": "code",
   "execution_count": null,
   "metadata": {},
   "outputs": [],
   "source": [
    "var(x) # выборочная дисперсия"
   ]
  },
  {
   "cell_type": "code",
   "execution_count": null,
   "metadata": {},
   "outputs": [],
   "source": [
    "sd(x) # выборочное стандартное отклонение"
   ]
  },
  {
   "cell_type": "code",
   "execution_count": null,
   "metadata": {},
   "outputs": [],
   "source": [
    "median(x) # выборочная медиана"
   ]
  },
  {
   "cell_type": "markdown",
   "metadata": {},
   "source": [
    "Также мы можем построить гистограмму!"
   ]
  },
  {
   "cell_type": "code",
   "execution_count": null,
   "metadata": {},
   "outputs": [],
   "source": [
    "qplot(x) # гистограма "
   ]
  },
  {
   "cell_type": "code",
   "execution_count": null,
   "metadata": {},
   "outputs": [],
   "source": [
    "#построим функцию плотности\n",
    "x <- seq(-5, 15, by=0.5)\n",
    "y <- dnorm(x, mean=5, sd=3)\n",
    "qplot(x, y, geom=\"line\")"
   ]
  },
  {
   "cell_type": "markdown",
   "metadata": {},
   "source": [
    "Найдём вероятность того, что нормально распределённая случайная величина с выбранными параметрами примет значение меньше $3$!\n",
    "\n",
    "$$ P(X < 3) = \\int_{-\\infty}^3 f(x)dx = F(3)$$"
   ]
  },
  {
   "cell_type": "code",
   "execution_count": null,
   "metadata": {},
   "outputs": [],
   "source": [
    "pnorm(3, mean=5, sd=3)"
   ]
  },
  {
   "cell_type": "markdown",
   "metadata": {},
   "source": [
    "А теперь найдём ещё одну вероятность! \n",
    "\n",
    "$$ P(4 < X < 9) = \\int_4^9 f(x) dx = F(9) - F(4)$$"
   ]
  },
  {
   "cell_type": "code",
   "execution_count": null,
   "metadata": {},
   "outputs": [],
   "source": []
  },
  {
   "cell_type": "markdown",
   "metadata": {},
   "source": [
    "Для полноты картины осталось только найти какой-нибудь квантиль! Не будем забывать о том, что квантиль уровня $\\gamma$ это такое число $q$, что \n",
    "\n",
    "$$P(X < q) = \\gamma$$"
   ]
  },
  {
   "cell_type": "code",
   "execution_count": null,
   "metadata": {},
   "outputs": [],
   "source": [
    "qnorm(0.7, mean=5, sd=3)"
   ]
  },
  {
   "cell_type": "markdown",
   "metadata": {},
   "source": [
    "Можно использовать R как весёлый калькулятор для поиска квантелей нормального распределения при проверке гипотез!"
   ]
  },
  {
   "cell_type": "code",
   "execution_count": null,
   "metadata": {},
   "outputs": [],
   "source": [
    "x <- c(0.95, 0.975, 0.995)\n",
    "qnorm(x, mean = 0, sd = 1)"
   ]
  },
  {
   "cell_type": "markdown",
   "metadata": {},
   "source": [
    "Давайте попробуем получить те же самые квантили, но для распределения Стьюдента! "
   ]
  },
  {
   "cell_type": "code",
   "execution_count": null,
   "metadata": {},
   "outputs": [],
   "source": []
  },
  {
   "cell_type": "markdown",
   "metadata": {},
   "source": [
    "Остался один вопрос на засыпку. А что сгенерирует команда `rnorm(20)`? "
   ]
  },
  {
   "cell_type": "code",
   "execution_count": null,
   "metadata": {},
   "outputs": [],
   "source": []
  },
  {
   "cell_type": "markdown",
   "metadata": {},
   "source": [
    "## 2. Зачем это надо? \n",
    "\n",
    "Чтобы решать рельные проблемы! Например, с помощью R можно оценить математическое ожидание случайной величины $\\frac{1}{X}$, где $X \\sim N(5; 3)$ без взятия страшных интегралов. Для этого надо лишь вспомнить [Закон Больших Чисел](https://ru.wikipedia.org/wiki/Закон_больших_чисел). Он говорит, что арифметическое среднее по большой выборке стремится по вероятности и почти наверное к математическому ожиданию. Поэтому мы просто сгенерируем большую выборку в миллион наблюдений:"
   ]
  },
  {
   "cell_type": "code",
   "execution_count": null,
   "metadata": {},
   "outputs": [],
   "source": [
    "n_obs <- 10^6\n",
    "x <- rnorm(n_obs, mean = 5, sd = 3)\n",
    "mean(1/x)"
   ]
  },
  {
   "cell_type": "markdown",
   "metadata": {},
   "source": [
    "Вот и наше математическое ожидание! Попробуйте ради забавы найти его на досуге вручную. Также легко оценить многие вероятности. Например, оценим вероятность $P(X_1 + X_2 + X_3^2 > 5)$, где величины $X_i$ независимы и одинаково распределены $X_i \\sim U[0;2]$:"
   ]
  },
  {
   "cell_type": "code",
   "execution_count": null,
   "metadata": {},
   "outputs": [],
   "source": [
    "n_obs <- 10^6\n",
    "x_1 <- runif(n_obs, min = 0, max = 2)\n",
    "x_2 <- runif(n_obs, min = 0, max = 2)\n",
    "x_3 <- runif(n_obs, min = 0, max = 2)\n",
    "\n",
    "success <- x_1 + x_2 + x_3^2 > 5\n",
    "sum(success) / n_obs"
   ]
  },
  {
   "cell_type": "markdown",
   "metadata": {},
   "source": [
    "Здесь вектор success будет содержать значение `TRUE` там, где условие `x_1 + x_2 + x_3^2 > 5` выполнено, и `FALSE` там, где условие не выполнено. При сложении командой `sum()` каждое `TRUE` будет посчитано как единица, а каждое `FALSE` как ноль. Поэтому `sum(success)` даст количество раз, когда условие `x_1 + x_2 + x_3^2 > 5` выполнено.\n",
    "\n",
    "И снова, на досуге попробуйте сделать это на бумажке своими руками. С такой же лёгкостью можно находить разные условные вероятности. Например, давайте найдём $P(X_1 + X_2 > 0.8 \\mid X_3 < 0.1)$"
   ]
  },
  {
   "cell_type": "code",
   "execution_count": null,
   "metadata": {},
   "outputs": [],
   "source": [
    "uslovie <- x_3 < 0.1\n",
    "uslovie[1:10]"
   ]
  },
  {
   "cell_type": "code",
   "execution_count": null,
   "metadata": {},
   "outputs": [],
   "source": [
    "# можно посмотреть сколько раз за всю симуляцию x_3 < 0.1\n",
    "sum(uslovie)"
   ]
  },
  {
   "cell_type": "code",
   "execution_count": null,
   "metadata": {},
   "outputs": [],
   "source": [
    "# ищем успех при условии\n",
    "success <- x_1[uslovie] + x_2[uslovie] > 0.8\n",
    "\n",
    "sum(success)/ n_obs"
   ]
  },
  {
   "cell_type": "markdown",
   "metadata": {},
   "source": [
    "## 3. Генерация выборок \n",
    "\n",
    "С помощью таких же нехитрых манипуляций можно симулировать различные события. Например, можно сгенерировать выборку без повторений из вектора `1:10` размера `5`. Все элементы будут выбираться равновероятно."
   ]
  },
  {
   "cell_type": "code",
   "execution_count": null,
   "metadata": {},
   "outputs": [],
   "source": [
    "sample(1:10, size = 5)"
   ]
  },
  {
   "cell_type": "markdown",
   "metadata": {},
   "source": [
    "Можно внести в это дело немного хаоса и сгенеровать ту же выборку, но с повторениями. "
   ]
  },
  {
   "cell_type": "code",
   "execution_count": null,
   "metadata": {},
   "outputs": [],
   "source": [
    "sample(1:10, size = 5, replace = TRUE)"
   ]
  },
  {
   "cell_type": "markdown",
   "metadata": {},
   "source": [
    "А ещё можно самостоятельно расставить вероятности событий. Давайте, например ссимулируем 10 подбрасываний неправильной монетки!"
   ]
  },
  {
   "cell_type": "code",
   "execution_count": null,
   "metadata": {},
   "outputs": [],
   "source": [
    "sample(c(\"Орёл\", \"Решка\"), size = 10, replace = TRUE, prob = c(0.3, 0.7))"
   ]
  },
  {
   "cell_type": "markdown",
   "metadata": {},
   "source": [
    "А если упороться и ссимулировать огромное число наблюдений, то можно даже оценить вероятность выпадения решек. Хвала __Закону Больших Чисел__ за это!"
   ]
  },
  {
   "cell_type": "code",
   "execution_count": null,
   "metadata": {},
   "outputs": [],
   "source": [
    "x <-  sample(c(\"Орёл\", \"Решка\"), size = 10^6, replace = TRUE, prob = c(0.3, 0.7))\n",
    "\n",
    "sum(x == 'Орёл')/length(x)"
   ]
  },
  {
   "cell_type": "markdown",
   "metadata": {},
   "source": [
    "## 4. Зёрна\n",
    "\n",
    "Если выполнить команду `rnorm(10, mean = 2, sd = 3)` на двух разных компьютерах или два раза на одном и том же, то результат будет разный. Не зря же они случайные :) Однако генерирование случайных величин никак не противоречит идее абсолютно точной воспроизводимости исследований. Для того, чтобы получились одинаковые результаты, необходимо синхронизировать генераторы случайных чисел на этих двух компьютерах. Делается это путём задания зерна генератора случайных чисел (seed). Зерно также называют стартовым значением. В качестве зерна подойдёт любое целое число."
   ]
  },
  {
   "cell_type": "code",
   "execution_count": null,
   "metadata": {},
   "outputs": [],
   "source": [
    "set.seed(42)\n",
    "rnorm(1, mean = 2, sd = 3)"
   ]
  },
  {
   "cell_type": "code",
   "execution_count": null,
   "metadata": {},
   "outputs": [],
   "source": [
    "rnorm(1, mean = 2, sd = 3)"
   ]
  },
  {
   "cell_type": "markdown",
   "metadata": {},
   "source": [
    "Угадайте, какие числа чаще всего используют для зёрен?\n",
    "\n",
    "Многие алгоритмы в машинном обучении и эконометрике в какой-то степени основаны на случайности. Чтобы добиться воспроизводимых одинаковых результатов, нужно устанавливать зерно генерации. "
   ]
  },
  {
   "cell_type": "markdown",
   "metadata": {},
   "source": [
    "## 5. Дискретные  распределения\n",
    "\n",
    "Сгенерируем каких-нибудь дискретных случайных величин и посмотрим на то как они выглядят."
   ]
  },
  {
   "cell_type": "code",
   "execution_count": null,
   "metadata": {},
   "outputs": [],
   "source": [
    "n = 1000\n",
    "\n",
    "# Биномиальное распределение, Binom(size, p)\n",
    "size = 20\n",
    "p = 0.5\n",
    "x <- rbinom(n, size = size, prob = p)\n",
    "\n",
    "# Распределение Пуассона, Pois(lambda)\n",
    "# lambda = 2\n",
    "# x <- rpois(n, lambda = lambda)\n",
    "\n",
    "# Геометрическое распределение, Geom(p)\n",
    "# p = 0.5\n",
    "# x <- rgeom(n, prob = p)\n",
    "\n",
    "# Произвольное дискретное распределение\n",
    "# x <- sample(c(1,2,3,4), size = n, replace = TRUE, prob = c(0.1, 0.4, 0.2, 0.2))\n",
    "\n",
    "df = data.frame(sample = x)"
   ]
  },
  {
   "cell_type": "code",
   "execution_count": null,
   "metadata": {},
   "outputs": [],
   "source": [
    "# Размеры картинки \n",
    "options(repr.plot.width=8, repr.plot.height=3)\n",
    "\n",
    "binwidth = 1  # ширина бинов\n",
    "p1 = ggplot(df, aes(x = sample, binwidth = binwidth))+\n",
    "        # Наносим гистограмму \n",
    "        geom_histogram(aes(y=..density..), binwidth = binwidth, colour = \"white\", fill = \"cornflowerblue\", size = 0.1)\n",
    "                                        # цвет линий разделителей, заливка, толщина линий разделителей\n",
    "\n",
    "\n",
    "p2 = ggplot(df, aes(x = sample, binwidth = binwidth))+\n",
    "        stat_ecdf(color = \"darkred\", size = 1)\n",
    "\n",
    "# Располагаем графики рядом. Этот код нужен только для юпитерской тетрадки. \n",
    "pushViewport(viewport(layout = grid.layout(1, 2)))\n",
    "print(p1, vp = viewport(layout.pos.row = 1, layout.pos.col = 1))\n",
    "print(p2, vp = viewport(layout.pos.row = 1, layout.pos.col = 2))"
   ]
  },
  {
   "cell_type": "markdown",
   "metadata": {},
   "source": [
    "## 6. Непрерывные распределения\n"
   ]
  },
  {
   "cell_type": "code",
   "execution_count": null,
   "metadata": {},
   "outputs": [],
   "source": [
    "n = 10000\n",
    "\n",
    "# Нормальное распределение, N(mu, sigma)\n",
    "mu = 0;  sigma = 1\n",
    "x <- rnorm(n, mean = mu, sd = sigma)\n",
    "f <- dnorm\n",
    "fun_args <- list(mean = mu, sd = sigma)\n",
    "\n",
    "# Экспоненциальное распределение, Exp(alpha)\n",
    "# alpha = 0.1\n",
    "# x <- rexp(n, rate = alpha)\n",
    "# f <- dexp\n",
    "# fun_args <- list(rate = alpha)\n",
    "\n",
    "# Равномерное распределение, U[mn;mx]\n",
    "# mn=0;   mx=24\n",
    "# x <- runif(n, min = mn, max = mx)\n",
    "# f <- dunif\n",
    "# fun_args <- list(min = mn, max = mx)\n",
    "\n",
    "df = data.frame(sample = x)"
   ]
  },
  {
   "cell_type": "code",
   "execution_count": null,
   "metadata": {},
   "outputs": [],
   "source": [
    "# Размеры картинки \n",
    "options(repr.plot.width=8, repr.plot.height=3)\n",
    "\n",
    "binwidth = 1  # ширина бинов\n",
    "p1 = ggplot(df, aes(x = sample, binwidth = binwidth))+\n",
    "        # Наносим гистограмму \n",
    "        geom_histogram(aes(y=..density..), binwidth = binwidth, colour = \"white\", fill = \"cornflowerblue\", size = 0.1)+\n",
    "                                        # цвет линий разделителей, заливка, толщина линий разделителей\n",
    "        # Наносим плотность распределения\n",
    "        stat_function(fun = f, args = fun_args, color = \"darkred\", size = 1)\n",
    "\n",
    "p2 = ggplot(df, aes(x = sample, binwidth = binwidth))+\n",
    "        stat_ecdf(color = \"darkred\", size = 1) + \n",
    "\n",
    "# Располагаем графики рядом. Этот код нужен только для юпитерской тетрадки. \n",
    "pushViewport(viewport(layout = grid.layout(1, 2)))\n",
    "print(p1, vp = viewport(layout.pos.row = 1, layout.pos.col = 1))\n",
    "print(p2, vp = viewport(layout.pos.row = 1, layout.pos.col = 2))"
   ]
  },
  {
   "cell_type": "markdown",
   "metadata": {},
   "source": [
    "Посмотрим чуть более подробно как меняется плотность и функция распределения для наших непрерывных распределений при изменении значения параметра! "
   ]
  },
  {
   "cell_type": "code",
   "execution_count": null,
   "metadata": {},
   "outputs": [],
   "source": [
    "options(repr.plot.width=6, repr.plot.height=3)\n",
    "\n",
    "ggplot(NULL, aes(c(0,10)))+\n",
    "    stat_function(fun = dexp, args = c(rate=0.1), aes(color = 'a=0.1'), size = 1) +\n",
    "    stat_function(fun = dexp, args = c(rate=0.5), aes(color = 'a=0.5'), size = 1) +\n",
    "    stat_function(fun = dexp, args = c(rate=2), aes(color = 'a=2'), size = 1) + \n",
    "    stat_function(fun = dexp, args = c(rate=3), aes(color = 'a=3'), size = 1) +\n",
    "        \n",
    "    labs(x = \"x\", y = \"f(x)\", title = \"Exponential Distribution Density Plots\", color = \"alpha\") +\n",
    "    theme(plot.title = element_text(hjust = 0.5), \n",
    "          legend.title = element_text(face=\"bold\", size = 10),\n",
    "          legend.position = \"right\")"
   ]
  },
  {
   "cell_type": "code",
   "execution_count": null,
   "metadata": {},
   "outputs": [],
   "source": [
    "options(repr.plot.width=6, repr.plot.height=3)\n",
    "\n",
    "ggplot(NULL, aes(c(0,10)))+\n",
    "    stat_function(fun = pexp, args = c(rate=0.1), aes(color = 'a=0.1'), size = 1) +\n",
    "    stat_function(fun = pexp, args = c(rate=0.5), aes(color = 'a=0.5'), size = 1) +\n",
    "    stat_function(fun = pexp, args = c(rate=2), aes(color = 'a=2'), size = 1) + \n",
    "    stat_function(fun = pexp, args = c(rate=3), aes(color = 'a=3'), size = 1) +\n",
    "        \n",
    "    labs(x = \"x\", y = \"f(x)\", title = \"Exponential Distribution Function\", color = \"alpha\") +\n",
    "    theme(plot.title = element_text(hjust = 0.5), \n",
    "          legend.title = element_text(face=\"bold\", size = 10),\n",
    "          legend.position = \"right\")"
   ]
  },
  {
   "cell_type": "markdown",
   "metadata": {},
   "source": [
    "Ещё немного распределений, о которых мы будем говорить позже! "
   ]
  },
  {
   "cell_type": "code",
   "execution_count": null,
   "metadata": {},
   "outputs": [],
   "source": [
    "rchisq(5, df=10)      # Хи-квадрат\n",
    "rt(5, df=10)          # Стьюдента\n",
    "rf(5, df1=10, df2=5)  # Фишера (F-распределение)"
   ]
  },
  {
   "cell_type": "markdown",
   "metadata": {},
   "source": [
    "## 5. ЦПТ и равномерные величины\n",
    "\n",
    "Давайте ещё разок вспомним ЦПТ! \n",
    "\n",
    "__Центральная предельная теорема в формулировке Ляпунова:__\n",
    "\n",
    "Пусть $X_1, \\ldots X_n$ случайные величины, имеющие одинаковое распределение с конечными математическим ожиданием и дисперсией. Обычно этот факт записывают вот так:\n",
    "\n",
    "$$\n",
    "X_1, \\ldots X_n \\sim iid(\\mu,\\sigma^2)\n",
    "$$\n",
    "\n",
    "тогда при $n \\to \\infty$ имеет место сходимость по распределению: \n",
    "\n",
    "$$\n",
    "\\frac{X_1 + \\ldots X_n - \\mu \\cdot n}{\\sqrt{n} \\sigma } \\Rightarrow N(0,1)\n",
    "$$\n",
    "\n",
    "На практике это означает, что при больших значениях $n$ мы можем апроксимировать распределение некоторой статистики нормальным. Возникает вопрос: __А что такое большие значения n? Когда наступает асимптотика?__ Для разных распределений  и природных явлений она наступает по-разному. Например, удивительно, сумма из равномерно-распределённых случайных величин, довольно быстро становится куполообразной. Давайте посмотрим на это."
   ]
  },
  {
   "cell_type": "code",
   "execution_count": null,
   "metadata": {},
   "outputs": [],
   "source": [
    "n = 10^4\n",
    "X1 <- runif(n, min = -1, max = 1)\n",
    "X2 <- runif(n, min = -1, max = 1)\n",
    "X3 <- runif(n, min = -1, max = 1)\n",
    "X4 <- runif(n, min = -1, max = 1)\n",
    "X5 <-runif(n, min = -1, max = 1)"
   ]
  },
  {
   "cell_type": "code",
   "execution_count": null,
   "metadata": {},
   "outputs": [],
   "source": [
    "options(repr.plot.width=4, repr.plot.height=3)"
   ]
  },
  {
   "cell_type": "code",
   "execution_count": null,
   "metadata": {},
   "outputs": [],
   "source": [
    "qplot(X1, bins = 70) # гистограма "
   ]
  },
  {
   "cell_type": "code",
   "execution_count": null,
   "metadata": {},
   "outputs": [],
   "source": [
    "qplot(X1 + X2, bins = 70)"
   ]
  },
  {
   "cell_type": "code",
   "execution_count": null,
   "metadata": {},
   "outputs": [],
   "source": [
    "qplot(X1 + X2 + X3, bins = 70)"
   ]
  },
  {
   "cell_type": "code",
   "execution_count": null,
   "metadata": {},
   "outputs": [],
   "source": [
    "qplot(X1 + X2 + X3 + X4 +X5, bins = 70)"
   ]
  },
  {
   "cell_type": "markdown",
   "metadata": {},
   "source": [
    "Из довольно медленно сходящихся к нормальному распределений, наверное, можно выделить логнормальное распределение. Попробуйте посмотреть на досуге на его сходимость. "
   ]
  },
  {
   "cell_type": "markdown",
   "metadata": {},
   "source": [
    "## Соблюдение авторских прав\n",
    "\n",
    "* При написании первой части блокнота очень сильно (вплоть до копипасты) использовалась [первая глава](https://github.com/bdemeshev/r_manual_book/blob/master/03_statistics_and_more.Rmd) [учебника по языку R для начинающих от Демешева Б.Б.](https://bdemeshev.github.io/r_manual_book/)\n",
    "\n",
    "\n",
    "## Почиташки \n",
    "\n",
    "*  Ещё один недописаный учебник с [разными распределениями и всяким таким в R](http://www.ievbras.ru/ecostat/Kiril/R/Biblio/R_rus/%C7%E0%F0%FF%E4%EE%E2%20%F7%E0%F1%F2%FC_2.pdf)\n",
    "*  [Шпаргалка по ggplot2](https://www.rstudio.com/wp-content/uploads/2015/03/ggplot2-cheatsheet.pdf)\n",
    "* [15 распределений на все случаи жизни](https://habrahabr.ru/post/311092/) \n"
   ]
  }
 ],
 "metadata": {
  "kernelspec": {
   "display_name": "R",
   "language": "R",
   "name": "ir"
  },
  "language_info": {
   "codemirror_mode": "r",
   "file_extension": ".r",
   "mimetype": "text/x-r-source",
   "name": "R",
   "pygments_lexer": "r",
   "version": "3.4.2"
  }
 },
 "nbformat": 4,
 "nbformat_minor": 2
}
