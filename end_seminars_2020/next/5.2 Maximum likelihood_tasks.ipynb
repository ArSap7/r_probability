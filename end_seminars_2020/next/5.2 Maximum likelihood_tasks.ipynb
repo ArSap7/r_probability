{
 "cells": [
  {
   "cell_type": "markdown",
   "metadata": {
    "slideshow": {
     "slide_type": "slide"
    }
   },
   "source": [
    "<center>\n",
    "\n",
    "# R для тервера и матстата\n",
    "## Максимальное правдоподобие\n",
    "\n",
    "<center>\n",
    "<img src=\"https://raw.githubusercontent.com/FUlyankin/r_probability/master/end_seminars/sem_4/M_MPlain_grande.png\" height=\"200\" width=\"350\"> \n",
    "\n",
    "\n",
    "\n"
   ]
  },
  {
   "cell_type": "markdown",
   "metadata": {
    "slideshow": {
     "slide_type": "skip"
    }
   },
   "source": [
    "Данный ноутбук является конспектом по курсу «R для теории вероятностей и математической статистики» (РАНХиГС, 2019). Автор ноутбука - [вот этот парень по имени Филипп.](https://vk.com/ppilif) Если у вас для него есть деньги, слава или женщины, он от этого всего не откажется. Ноутбук распространяется на условиях лицензии [Creative Commons Attribution-Share Alike 4.0.](https://creativecommons.org/licenses/by-sa/4.0/) При использовании обязательно упоминание автора курса и аффилиации. При наличии технической возможности необходимо также указать активную гиперссылку на [страницу курса.](https://fulyankin.github.io/R_probability/) На ней можно найти другие материалы. Фрагменты кода, включенные в этот notebook, публикуются как [общественное достояние.](https://creativecommons.org/publicdomain/zero/1.0/)\n",
    "\n",
    "-------------------------------\n"
   ]
  },
  {
   "cell_type": "markdown",
   "metadata": {
    "slideshow": {
     "slide_type": "skip"
    }
   },
   "source": [
    "В прошлый раз мы с вами поговорили точечные оценки, их свойства и доверительные интервалы. Также мы немного вспомнили метод моментов, который помогает эти самые точечные оценки получать. Сегодня мы во всех подробностях обсудим другой метод получения точечных оценок, __метод максимального правдоподобия.__\n",
    "\n",
    "Метод максимального правдоподобия — это основная лошадка современной статистики. Функция правдоподобия встречается абсолютно во всех областях от эконометрики и байесовской статистики до нейронных сетей и рекомендательных систем. Из-за этого очень важно как следует понять как она устроена. В этой тетрадке именно этим мы и займёмся. Итак, сегодня в программе: \n",
    "\n",
    "* Что такое метод максимального правдоподобия, вырабатываем интуицию \n",
    "* Решаем задачу про конфеты и смотрим на свойства оценок максимального правдоподобия \n",
    "* Из метода максимального правдоподобия на нас неожиданно выпрыгивает информация Фишера, разбираемся с тем почему эта штука называется информацией Фишера\n",
    "* Решаем несколько задачек\n",
    "* Строим тест отношения правдоподобий __(НЕ ПУТАТЬ С ЛЕММОЙ Неймана-Пирсона из ваших лекций, где тоже фигурировало отношение правдоподобий! Это разные вещи!)__"
   ]
  },
  {
   "cell_type": "code",
   "execution_count": 1,
   "metadata": {
    "slideshow": {
     "slide_type": "skip"
    }
   },
   "outputs": [],
   "source": [
    "library(\"ggplot2\")  # Пакет для красивых графиков \n",
    "library(\"grid\")     # Пакет для субплотов\n",
    "\n",
    "# Отрегулируем размер картинок, которые будут выдаваться в нашей тетрадке\n",
    "library('repr')\n",
    "options(repr.plot.width=4, repr.plot.height=3)"
   ]
  },
  {
   "cell_type": "code",
   "execution_count": 3,
   "metadata": {
    "slideshow": {
     "slide_type": "skip"
    }
   },
   "outputs": [],
   "source": [
    "# В этом блоке написаны несколько функций, которые рисуют красивые картинки для проверки гипотез.\n",
    "# Можно не обращать на них внимание :) \n",
    "\n",
    "# Область, которую надо будет закрасить на графике \n",
    "limitRange <- function(fun, min, max) {\n",
    "    function(x) {\n",
    "        y <- fun(x)\n",
    "        y[x < min  |  x > max] <- NA\n",
    "        return(y)\n",
    "    }\n",
    "}\n",
    "\n",
    "\n",
    "# Эта страшная функция нужна для карсивых картинок для хи-квадрат распределения\n",
    "chi_stat_picture <- function(chi_stat, n, alpha =0.05, alternative = 'two-sided'){\n",
    "    # Опции для размеров графика\n",
    "    options(repr.plot.width=6, repr.plot.height=3)\n",
    "    \n",
    "    # Какие области надо закрасить (зависит от алтиернативы)\n",
    "    if(alternative == 'two-sided'){\n",
    "        chi_crit1 <- qchisq(1-(alpha/2), df=n)\n",
    "        chi_crit2 <- qchisq(alpha/2, df=n)\n",
    "        dlimit_left  <- limitRange(function(x) dchisq(x, df=n), 0, chi_crit2) \n",
    "        dlimit_right <- limitRange(function(x) dchisq(x, df=n), chi_crit1, Inf) \n",
    "        }\n",
    "    if(alternative == 'less'){\n",
    "        chi_crit2 <- qchisq(alpha,df=n)\n",
    "        dlimit_left  <- limitRange(function(x) dchisq(x, df=n), 0, chi_crit2)\n",
    "        dlimit_right <- limitRange(function(x) dchisq(x, df=n), Inf, Inf)        \n",
    "    }\n",
    "    if(alternative == 'greater'){\n",
    "        chi_crit1 <- qchisq(1 - alpha,df=n)\n",
    "        dlimit_left  <- limitRange(function(x) dchisq(x, df=n), 0, 0)\n",
    "        dlimit_right <- limitRange(function(x) dchisq(x, df=n), chi_crit1, Inf)\n",
    "        }        \n",
    "      \n",
    "    # Основная картинка\n",
    "    p <- ggplot(data.frame(x=c(0, qchisq(1-(alpha/2), df=n) + 2)), aes(x = x))+\n",
    "       stat_function(fun=dchisq, args = list(df=n)) +  # вся функция \n",
    "       stat_function(fun=dlimit_left, geom=\"area\",  fill=\"blue\", alpha=0.2) +\n",
    "       stat_function(fun=dlimit_right, geom=\"area\", fill=\"blue\", alpha=0.2) +\n",
    "       geom_point(aes(x=chi_stat,y=0), color=\"red\", size=2) +\n",
    "       geom_vline(xintercept = chi_stat, size=0.3, linetype=\"dashed\", color=\"red\") +\n",
    "       annotate(\"text\", label=round(chi_stat,2), x= chi_stat, y=0.2, parse=T, size=4, color=\"darkred\")\n",
    "    \n",
    "    # Рисуем критические точки \n",
    "    if(alternative == 'two-sided'){\n",
    "       p <- p + annotate(\"text\", label=round(chi_crit1,2), x=chi_crit1+0.1, y=-0.02, parse=T, size=4) + \n",
    "                annotate(\"text\", label=round(chi_crit2,2), x=chi_crit2-0.1, y=-0.02, parse=T, size=4)\n",
    "        }\n",
    "    if(alternative == 'less'){\n",
    "       p <- p + annotate(\"text\", label=round(chi_crit2,2), x=chi_crit2-0.1, y=-0.02, parse=T, size=4)\n",
    "        }\n",
    "    if(alternative == 'greater'){\n",
    "       p <- p + annotate(\"text\", label=round(chi_crit1,2), x=chi_crit1+0.1, y=-0.02, parse=T, size=4)\n",
    "        }      \n",
    "    \n",
    "    # Немного заключительных настроек, связанных с темой и вывод на экран \n",
    "    p <- p + theme(\n",
    "             axis.text.x = element_blank(),\n",
    "             axis.text.y = element_blank(),\n",
    "             axis.ticks = element_blank(),\n",
    "             axis.title.x = element_blank(),\n",
    "             axis.title.y = element_blank()\n",
    "            )\n",
    "    \n",
    "    return(p)\n",
    "}"
   ]
  },
  {
   "cell_type": "markdown",
   "metadata": {
    "slideshow": {
     "slide_type": "slide"
    }
   },
   "source": [
    "# 5. Аварии на угольных шахтах  \n",
    "\n",
    "В [табличке](https://yadi.sk/i/wIFZJJ3X3VdPow) лежат данные о количестве крупных аварий на английских угольных шахтах. Хочется оценить интенсивность этих аварий. "
   ]
  },
  {
   "cell_type": "code",
   "execution_count": 24,
   "metadata": {
    "slideshow": {
     "slide_type": "fragment"
    }
   },
   "outputs": [
    {
     "data": {
      "text/html": [
       "<table>\n",
       "<thead><tr><th scope=col>X</th><th scope=col>year</th><th scope=col>count</th></tr></thead>\n",
       "<tbody>\n",
       "\t<tr><td>1   </td><td>1851</td><td>4   </td></tr>\n",
       "\t<tr><td>2   </td><td>1852</td><td>5   </td></tr>\n",
       "\t<tr><td>3   </td><td>1853</td><td>4   </td></tr>\n",
       "\t<tr><td>4   </td><td>1854</td><td>1   </td></tr>\n",
       "\t<tr><td>5   </td><td>1855</td><td>0   </td></tr>\n",
       "\t<tr><td>6   </td><td>1856</td><td>4   </td></tr>\n",
       "</tbody>\n",
       "</table>\n"
      ],
      "text/latex": [
       "\\begin{tabular}{r|lll}\n",
       " X & year & count\\\\\n",
       "\\hline\n",
       "\t 1    & 1851 & 4   \\\\\n",
       "\t 2    & 1852 & 5   \\\\\n",
       "\t 3    & 1853 & 4   \\\\\n",
       "\t 4    & 1854 & 1   \\\\\n",
       "\t 5    & 1855 & 0   \\\\\n",
       "\t 6    & 1856 & 4   \\\\\n",
       "\\end{tabular}\n"
      ],
      "text/markdown": [
       "\n",
       "| X | year | count |\n",
       "|---|---|---|\n",
       "| 1    | 1851 | 4    |\n",
       "| 2    | 1852 | 5    |\n",
       "| 3    | 1853 | 4    |\n",
       "| 4    | 1854 | 1    |\n",
       "| 5    | 1855 | 0    |\n",
       "| 6    | 1856 | 4    |\n",
       "\n"
      ],
      "text/plain": [
       "  X year count\n",
       "1 1 1851 4    \n",
       "2 2 1852 5    \n",
       "3 3 1853 4    \n",
       "4 4 1854 1    \n",
       "5 5 1855 0    \n",
       "6 6 1856 4    "
      ]
     },
     "metadata": {},
     "output_type": "display_data"
    }
   ],
   "source": [
    "df = read.csv('/Users/fulyankin/Yandex.Disk.localized/R/R_prob_data/coal.csv', sep=',')\n",
    "head(df)"
   ]
  },
  {
   "cell_type": "code",
   "execution_count": 25,
   "metadata": {
    "slideshow": {
     "slide_type": "slide"
    }
   },
   "outputs": [
    {
     "data": {
      "text/html": [
       "112"
      ],
      "text/latex": [
       "112"
      ],
      "text/markdown": [
       "112"
      ],
      "text/plain": [
       "[1] 112"
      ]
     },
     "metadata": {},
     "output_type": "display_data"
    },
    {
     "data": {
      "image/png": "[encoded data removed]",
      "text/plain": [
       "plot without title"
      ]
     },
     "metadata": {},
     "output_type": "display_data"
    }
   ],
   "source": [
    "x <- df$count        # наша выборка \n",
    "length(x)            # размер выборки \n",
    "qplot(x, bins=30)"
   ]
  },
  {
   "cell_type": "markdown",
   "metadata": {
    "slideshow": {
     "slide_type": "skip"
    }
   },
   "source": [
    "Судя по гистограмме уместно предположить, что число аварий имеет распределение Пуассона, $Poiss(\\lambda)$. Попробуем оценить параметр $\\lambda$ методом максимального правдоподобия. \n",
    "\n",
    "Вероятность значения: $$ P(X = k) = \\frac{e^{-\\lambda} \\lambda^k}{k!}$$\n",
    "\n",
    "Логарифмическое правдоподобие: $$ \\ln L = \\sum x_i \\ln \\lambda - n \\lambda$$\n",
    "\n",
    "Производная номер один: $$ \\frac{\\partial \\ln L}{\\partial \\lambda} =  \\frac{\\sum x_i}{\\lambda}  - n $$\n",
    "\n",
    "Оценка максимального правдоподобия: $$\\hat \\lambda^{ML} = \\bar x$$\n",
    "\n",
    "А теперь всё то эе самое, но в R!"
   ]
  },
  {
   "cell_type": "code",
   "execution_count": 26,
   "metadata": {
    "slideshow": {
     "slide_type": "slide"
    }
   },
   "outputs": [],
   "source": [
    "lnL <- function(lambda, x) {\n",
    "  n <- length(x)\n",
    "  answer <- -lambda*n+log(lambda)*sum(x)\n",
    "  return(answer)\n",
    "}"
   ]
  },
  {
   "cell_type": "code",
   "execution_count": 27,
   "metadata": {
    "slideshow": {
     "slide_type": "fragment"
    }
   },
   "outputs": [
    {
     "data": {
      "text/html": [
       "-112"
      ],
      "text/latex": [
       "-112"
      ],
      "text/markdown": [
       "-112"
      ],
      "text/plain": [
       "[1] -112"
      ]
     },
     "metadata": {},
     "output_type": "display_data"
    },
    {
     "data": {
      "text/html": [
       "-188.39111148695"
      ],
      "text/latex": [
       "-188.39111148695"
      ],
      "text/markdown": [
       "-188.39111148695"
      ],
      "text/plain": [
       "[1] -188.3911"
      ]
     },
     "metadata": {},
     "output_type": "display_data"
    }
   ],
   "source": [
    "# Пара значений функции\n",
    "lnL(1, x)\n",
    "lnL(0.5, x)"
   ]
  },
  {
   "cell_type": "markdown",
   "metadata": {
    "slideshow": {
     "slide_type": "slide"
    }
   },
   "source": [
    "Кстати говоря, можно было не делать все эти расчёты и вбить функцию правдоподобия вот так: "
   ]
  },
  {
   "cell_type": "code",
   "execution_count": 28,
   "metadata": {
    "slideshow": {
     "slide_type": "fragment"
    }
   },
   "outputs": [
    {
     "data": {
      "text/html": [
       "-226.80879194192"
      ],
      "text/latex": [
       "-226.80879194192"
      ],
      "text/markdown": [
       "-226.80879194192"
      ],
      "text/plain": [
       "[1] -226.8088"
      ]
     },
     "metadata": {},
     "output_type": "display_data"
    }
   ],
   "source": [
    "lnL_2 <- function(lambda, x) {\n",
    "  answer <- dpois(x = x, lambda = lambda)\n",
    "  return(sum(log(answer)))\n",
    "}\n",
    "\n",
    "lnL_2(1, x)"
   ]
  },
  {
   "cell_type": "markdown",
   "metadata": {
    "slideshow": {
     "slide_type": "fragment"
    }
   },
   "source": [
    "Точка на выходе получилась другой, потому что в ручном варианте мы избавились от всех лишних констант. Тут они остались. Если мы будем максимизировать `lnL_2` вместо `lnL`, мы получим тот же результат. Но таскать за собой константы не очень хочется. Иногда они портят процедуру сходимости, поэтому мы будем использовать ручной вариант. __В домашках, в тех местах, где сложно вбить функцию правдоподобия в явном виде (например, гамма-распределение), используйте вариант с `lnL_2`.__  "
   ]
  },
  {
   "cell_type": "markdown",
   "metadata": {
    "slideshow": {
     "slide_type": "slide"
    }
   },
   "source": [
    "Давайте посмотрим как выглядит наша функция правдоподобия на картинке. Мы ещё никогда не смотрели на неё на реальной выборке. "
   ]
  },
  {
   "cell_type": "code",
   "execution_count": 29,
   "metadata": {
    "slideshow": {
     "slide_type": "fragment"
    }
   },
   "outputs": [
    {
     "data": {
      "image/png": "[encoded data removed]",
      "text/plain": [
       "plot without title"
      ]
     },
     "metadata": {},
     "output_type": "display_data"
    }
   ],
   "source": [
    "lambda = seq(0.1, 10, 0.1)\n",
    "likelihood = lnL(lambda, x)\n",
    "qplot(lambda, likelihood, geom='line')"
   ]
  },
  {
   "cell_type": "markdown",
   "metadata": {
    "slideshow": {
     "slide_type": "slide"
    }
   },
   "source": [
    "Ещё давайте посмотрим небольшую гифку с тем, как эта функция правдоподобия накапливается из отдельных наблюдений.\n",
    "\n",
    "![Гифка](https://raw.githubusercontent.com/FUlyankin/r_probability/master/end_seminars_2019/gif_creator/animation_likelihood.gif)"
   ]
  },
  {
   "cell_type": "markdown",
   "metadata": {
    "slideshow": {
     "slide_type": "slide"
    }
   },
   "source": [
    "Давайте найдём оценку максимального правдоподобия. Пакет позволяет. "
   ]
  },
  {
   "cell_type": "code",
   "execution_count": 30,
   "metadata": {
    "slideshow": {
     "slide_type": "fragment"
    }
   },
   "outputs": [
    {
     "data": {
      "text/plain": [
       "--------------------------------------------\n",
       "Maximum Likelihood estimation\n",
       "Newton-Raphson maximisation, 4 iterations\n",
       "Return code 1: gradient close to zero\n",
       "Log-Likelihood: -89.04906 \n",
       "1  free parameters\n",
       "Estimates:\n",
       "     Estimate Std. error t value Pr(> t)    \n",
       "[1,]   1.7054     0.1234   13.82  <2e-16 ***\n",
       "---\n",
       "Signif. codes:  0 ‘***’ 0.001 ‘**’ 0.01 ‘*’ 0.05 ‘.’ 0.1 ‘ ’ 1\n",
       "--------------------------------------------"
      ]
     },
     "metadata": {},
     "output_type": "display_data"
    }
   ],
   "source": [
    "result <- maxLik(lnL, start=2, x=x)\n",
    "summary(result)"
   ]
  },
  {
   "cell_type": "code",
   "execution_count": 31,
   "metadata": {
    "slideshow": {
     "slide_type": "fragment"
    }
   },
   "outputs": [
    {
     "data": {
      "text/html": [
       "1.70535714285714"
      ],
      "text/latex": [
       "1.70535714285714"
      ],
      "text/markdown": [
       "1.70535714285714"
      ],
      "text/plain": [
       "[1] 1.705357"
      ]
     },
     "metadata": {},
     "output_type": "display_data"
    }
   ],
   "source": [
    "# сверимся с теорией! Оценка получилась хорошей :) \n",
    "mean(x)"
   ]
  },
  {
   "cell_type": "code",
   "execution_count": 32,
   "metadata": {
    "slideshow": {
     "slide_type": "fragment"
    }
   },
   "outputs": [],
   "source": [
    "# Вытащим оценку в отдельную переменную\n",
    "lambda_hat <- result$estimate"
   ]
  },
  {
   "cell_type": "markdown",
   "metadata": {
    "slideshow": {
     "slide_type": "skip"
    }
   },
   "source": [
    "Оценка есть. Теперь хотим доверительный интервал. Сначала построим его вручную, чтобы закрепить теорию. Для этого нам нужна вторая производная :\n",
    "\n",
    "$$ \\frac{\\partial^2 \\ln L}{\\partial \\lambda^2} =  -\\frac{\\sum x_i}{\\lambda^2} $$\n",
    "\n",
    "В этой задачке только один параметр. Поэтому матрица гессе это только одна единственная производная. Давайте найдём оценку дисперсии для нашей $\\hat \\lambda$: \n",
    "\n",
    "$$\n",
    "- H = \\frac{\\sum x_i}{\\lambda^2}\n",
    "$$\n",
    "\n",
    "$$\n",
    "- E(H) =  \\frac{n}{\\lambda}\n",
    "$$"
   ]
  },
  {
   "cell_type": "code",
   "execution_count": 33,
   "metadata": {
    "slideshow": {
     "slide_type": "slide"
    }
   },
   "outputs": [
    {
     "data": {
      "text/html": [
       "0.0152264030656858"
      ],
      "text/latex": [
       "0.0152264030656858"
      ],
      "text/markdown": [
       "0.0152264030656858"
      ],
      "text/plain": [
       "[1] 0.0152264"
      ]
     },
     "metadata": {},
     "output_type": "display_data"
    }
   ],
   "source": [
    "# Первая оценка: \n",
    "1/(sum(x)/lambda_hat^2)"
   ]
  },
  {
   "cell_type": "code",
   "execution_count": 34,
   "metadata": {
    "slideshow": {
     "slide_type": "fragment"
    }
   },
   "outputs": [
    {
     "data": {
      "text/html": [
       "0.0152264030634552"
      ],
      "text/latex": [
       "0.0152264030634552"
      ],
      "text/markdown": [
       "0.0152264030634552"
      ],
      "text/plain": [
       "[1] 0.0152264"
      ]
     },
     "metadata": {},
     "output_type": "display_data"
    }
   ],
   "source": [
    "# Вторая оценка: \n",
    "1/(length(x)/lambda_hat)"
   ]
  },
  {
   "cell_type": "code",
   "execution_count": 35,
   "metadata": {
    "slideshow": {
     "slide_type": "fragment"
    }
   },
   "outputs": [
    {
     "data": {
      "text/html": [
       "<table>\n",
       "<tbody>\n",
       "\t<tr><td>0.01523463</td></tr>\n",
       "</tbody>\n",
       "</table>\n"
      ],
      "text/latex": [
       "\\begin{tabular}{l}\n",
       "\t 0.01523463\\\\\n",
       "\\end{tabular}\n"
      ],
      "text/markdown": [
       "\n",
       "| 0.01523463 |\n",
       "\n"
      ],
      "text/plain": [
       "     [,1]      \n",
       "[1,] 0.01523463"
      ]
     },
     "metadata": {},
     "output_type": "display_data"
    }
   ],
   "source": [
    "# Оценка из пакета: \n",
    "-1*1/result$hessian"
   ]
  },
  {
   "cell_type": "markdown",
   "metadata": {
    "slideshow": {
     "slide_type": "skip"
    }
   },
   "source": [
    "Давайте попробуем воспользоваться этой оценкой. Мы с вами помним, что оценка максимального правдоподобия довольно няшная. Она имеет асимптотически нормальное распределение: \n",
    "\n",
    "$$\\hat \\lambda \\sim N(\\lambda, 0.015)$$\n",
    "\n",
    "Давайте построим для неё, отталкиваясь от этой информации доверительный интервал."
   ]
  },
  {
   "cell_type": "code",
   "execution_count": 36,
   "metadata": {
    "slideshow": {
     "slide_type": "slide"
    }
   },
   "outputs": [
    {
     "name": "stdout",
     "output_type": "stream",
     "text": [
      "Параметр lambda с вероятностью 95% лежит между 1.463441 и 1.947273"
     ]
    }
   ],
   "source": [
    "alpha = 0.05\n",
    "\n",
    "z_alpha = qnorm(1 - alpha/2)\n",
    "\n",
    "se = sqrt(-1*1/result$hessian)\n",
    "\n",
    "lambda_left  = lambda_hat - z_alpha*se\n",
    "lambda_right = lambda_hat + z_alpha*se\n",
    "cat('Параметр lambda с вероятностью 95% лежит между',lambda_left, 'и',lambda_right)"
   ]
  },
  {
   "cell_type": "markdown",
   "metadata": {
    "slideshow": {
     "slide_type": "slide"
    }
   },
   "source": [
    "Обратите внимание, что интервал получился довольно коротким. Это сигнализирует о высокой точности оценки. Давайте посмотрим с какой вероятностью в следующем году произойдёт какое количество катастроф, то есть построим прогноз для наших угольных шахт:"
   ]
  },
  {
   "cell_type": "code",
   "execution_count": 37,
   "metadata": {
    "slideshow": {
     "slide_type": "fragment"
    }
   },
   "outputs": [
    {
     "data": {
      "text/html": [
       "<ol class=list-inline>\n",
       "\t<li>0.18</li>\n",
       "\t<li>0.31</li>\n",
       "\t<li>0.26</li>\n",
       "\t<li>0.15</li>\n",
       "\t<li>0.06</li>\n",
       "\t<li>0.02</li>\n",
       "</ol>\n"
      ],
      "text/latex": [
       "\\begin{enumerate*}\n",
       "\\item 0.18\n",
       "\\item 0.31\n",
       "\\item 0.26\n",
       "\\item 0.15\n",
       "\\item 0.06\n",
       "\\item 0.02\n",
       "\\end{enumerate*}\n"
      ],
      "text/markdown": [
       "1. 0.18\n",
       "2. 0.31\n",
       "3. 0.26\n",
       "4. 0.15\n",
       "5. 0.06\n",
       "6. 0.02\n",
       "\n",
       "\n"
      ],
      "text/plain": [
       "[1] 0.18 0.31 0.26 0.15 0.06 0.02"
      ]
     },
     "metadata": {},
     "output_type": "display_data"
    }
   ],
   "source": [
    "f <- 0:5\n",
    "round(exp(-lambda_hat)*lambda_hat^f/factorial(f),2)"
   ]
  },
  {
   "cell_type": "markdown",
   "metadata": {
    "slideshow": {
     "slide_type": "skip"
    }
   },
   "source": [
    "Вероятнее всего на шахте произойдёт две катастрофы. Надо быть готовым к этому. \n",
    "\n",
    "На практике распределение Пуассона часто используют во всемирной организации здравоохрания. У каждого вируса гриппа есть свои особенности и нельзя привить людей сразу от всех недугов. Поэтому с помощью распределения Пуассона пытаются прогнозировать какие разновидности гриппа будут самыми популярными. Вакцину для прививок специфицируют именно под эти разновидности. Ясное дело, что они оценивают на основе распределения Пуассона более сложные модели. Например, Пуассоновскую регрессию. __Если захотите со мной ещё факультативов, поговорим про неё в будущем.__ "
   ]
  },
  {
   "cell_type": "markdown",
   "metadata": {
    "slideshow": {
     "slide_type": "skip"
    }
   },
   "source": [
    "Остался последний нюанс. Выше мы сказали, что если функция плотности $f(x \\mid \\theta)$ удовлетворяет условиям регулярности, то тогда для любой несмещённой оценки $\\hat \\theta$ выполняется:\n",
    "\n",
    "$$\n",
    "I(\\theta) =  E\\left( \\frac{\\partial^2 \\ln L}{\\partial \\theta^2}  \\right) = E\\left[ \\left( \\frac{\\partial \\ln L}{\\partial \\theta} \\right)^2  \\right],\n",
    "$$\n",
    "\n",
    "то есть вторая производная является ничем иным как информацией Фишера. Давайте убедимся в этом на примере распределения Пуассона. Для простоты будем считать, что у нас есть только одно наблюдение и \n",
    "\n",
    "$$\\ln L = \\ln f(x,\\lambda).$$ \n",
    "\n",
    "Если мы откроем семинары/лекции или ручками найдём информацию Фишера для распределения Пуассона, мы увидим, что:\n",
    "\n",
    "$$\n",
    "J(\\lambda) = \\frac{1}{\\lambda}\n",
    "$$\n",
    "\n",
    "Это совпадает с $-E(H)$ для одного наблюдения. __Остановитесь! И задумайтесь о том в чём смысл информации Фишера, при чём тут вторая производная и почему это информация.__ Если вы смогли ответить на эти вопросы, двигайтесь дальше. Если не смогли, то перечитайте начало блокнота. Если вы всё ещё ничего не поняли, пишите в лс :)"
   ]
  },
  {
   "cell_type": "markdown",
   "metadata": {
    "slideshow": {
     "slide_type": "slide"
    }
   },
   "source": [
    "# 6. Задача про наркотики, сбор статистики"
   ]
  },
  {
   "cell_type": "markdown",
   "metadata": {
    "slideshow": {
     "slide_type": "slide"
    }
   },
   "source": [
    "# 7. Тест отношения правдоподобий\n",
    "\n",
    "Метод максимального правдоподобия очень распространён. Он используется практически везде. Ещё одноим его полезным своством является то, что с его помощью можно проверять гипотезы. Можно просто брать и смотреть насколько они правдоподобны с точки зрения собранной выборки. \n",
    "\n",
    "Давайте посмотрим на ситуацию с шахтами. Нарисуем на картинке функцию правдоподобия, а также точку оптимума. Она будет красной. Кроме неё, нарисуем ещё одну синюю точку. "
   ]
  },
  {
   "cell_type": "code",
   "execution_count": 38,
   "metadata": {},
   "outputs": [
    {
     "data": {
      "image/png": "[encoded data removed]",
      "text/plain": [
       "plot without title"
      ]
     },
     "metadata": {},
     "output_type": "display_data"
    }
   ],
   "source": [
    "lambda = seq(0.1, 10, 0.1)\n",
    "likelihood = lnL(lambda, x)\n",
    "\n",
    "df_L = data.frame(lambda=lambda, likelihood = likelihood)\n",
    "\n",
    "ggplot(df_L, aes(x=lambda))+\n",
    "    geom_line(aes(y=likelihood)) +\n",
    "    geom_point(aes(x=lambda_hat ,y=lnL(lambda_hat, x)), color=\"red\", size=2) +\n",
    "    geom_point(aes(x=1 ,y=lnL(1, x)), color=\"blue\", size=2) "
   ]
  },
  {
   "cell_type": "markdown",
   "metadata": {},
   "source": [
    "По выборке мы получили в качестве оптимума красную точку. Любая оценка, полученная по выборке - случайная величина. А что, если наши данные просто так выпали, что оптимум в красной точке, а на самом деле он в синей, и $\\lambda = 1$.\n",
    "\n",
    "Тест отношения правдоподобий позволяе проверить гипотезы о любых ограничениях на параметры, заданные внутри модели. Нампример, в нашей ситуации гипотеза \n",
    "\n",
    "$$\n",
    "H_0: \\lambda = 1\n",
    "$$\n",
    "\n",
    "Накладывает ограничение на параметр $\\lambda$. Если значение правдоподобия в синей точке не очень сильно отличается от значения в красной точке, мы можем сказать, что данные не противоречат гипотезе и она не отвергается. Осталось только понять как будет распределено расстояние между правдоподобиями. Это же тоже случайные величины."
   ]
  },
  {
   "cell_type": "markdown",
   "metadata": {},
   "source": [
    "Оказыватеся, что это расстояние между правдоподобиями распределено как\n",
    "\n",
    "$$\n",
    "LR = 2\\cdot(\\ln L(\\hat \\theta_{ML}) - \\ln L(\\theta_0)) \\sim \\chi^2_q,\n",
    "$$\n",
    "\n",
    "где $q$ это количество ограничений. Проверка любой параметрической гипотезы благодаря методу максимального правдоподобия сводится к простому рецепту:\n",
    "\n",
    "1. Оцениваем модель без ограничений. \n",
    "2. Оцениваем модель с ограничением, которое на неё накладывает $H_0$.\n",
    "3. Смотрим как сильно отличаются правдоподобия. \n",
    "\n",
    "Этот рецепт называется __тестом отношения правдоподобий.__ Кстати говоря, этот тест хорош ещё и тем, что в случае простых гипотез, на его основе можно построить критерий максимальной мощности. Про это говорит лемма Неймана-Пирсона, которая была у вас в лекциях. Но о ней мы поговорим в другой раз.  Сейчас давайте попробуем воспользоваться тестом отношения правдоподобий и проверить гипотезу о том, что $\\lambda = 1$. "
   ]
  },
  {
   "cell_type": "markdown",
   "metadata": {},
   "source": [
    "Найдём наблюдаемое значение статистики:"
   ]
  },
  {
   "cell_type": "code",
   "execution_count": 39,
   "metadata": {},
   "outputs": [
    {
     "data": {
      "text/html": [
       "45.9018806790865"
      ],
      "text/latex": [
       "45.9018806790865"
      ],
      "text/markdown": [
       "45.9018806790865"
      ],
      "text/plain": [
       "[1] 45.90188"
      ]
     },
     "metadata": {},
     "output_type": "display_data"
    }
   ],
   "source": [
    "lambda_0 = 1\n",
    "LR_obs = 2*(lnL(lambda_hat, x) - lnL(lambda_0, x))\n",
    "LR_obs"
   ]
  },
  {
   "cell_type": "markdown",
   "metadata": {},
   "source": [
    "Теперь критическое значение. "
   ]
  },
  {
   "cell_type": "code",
   "execution_count": 40,
   "metadata": {},
   "outputs": [
    {
     "data": {
      "text/html": [
       "5.02388618731488"
      ],
      "text/latex": [
       "5.02388618731488"
      ],
      "text/markdown": [
       "5.02388618731488"
      ],
      "text/plain": [
       "[1] 5.023886"
      ]
     },
     "metadata": {},
     "output_type": "display_data"
    }
   ],
   "source": [
    "alpha = 0.05\n",
    "qchisq(1 - alpha/2, df = 1)"
   ]
  },
  {
   "cell_type": "markdown",
   "metadata": {},
   "source": [
    "Построим для этого добра картинку по аналогии с теми, которые были в тетрадке про гипотезы. "
   ]
  },
  {
   "cell_type": "code",
   "execution_count": 41,
   "metadata": {},
   "outputs": [
    {
     "data": {
      "image/png": "[encoded data removed]",
      "text/plain": [
       "plot without title"
      ]
     },
     "metadata": {},
     "output_type": "display_data"
    }
   ],
   "source": [
    "chi_stat_picture(LR_obs, 1)"
   ]
  },
  {
   "cell_type": "markdown",
   "metadata": {},
   "source": [
    "Наблюдаемое значение статистики попадает глубоко в хвост. Получается, что расстояние между двумя правдоподобиями слишком большое, и гипотеза об ограничении отвергается. "
   ]
  },
  {
   "cell_type": "markdown",
   "metadata": {
    "slideshow": {
     "slide_type": "slide"
    }
   },
   "source": [
    "# 8. Толи нормальные толи равномерные весы "
   ]
  },
  {
   "cell_type": "markdown",
   "metadata": {
    "slideshow": {
     "slide_type": "slide"
    }
   },
   "source": [
    "Решим ещё одну задачку. Пусть Ира раздобыла два золотых слитка массой $m$ каждый (для неё это вообще не проблема, её отец же король, а она принцесса). Также она раздобыла весы, которые работают с погрешностью. \n",
    "\n",
    "Сначала Ира положила на весы первый золотой слиток и получила в результате взвешивания $m + \\varepsilon_1$, где $ \\varepsilon_1$ - случайная величина, ошибка первого взвешивания. Затем Ира положила на весы сразу оба слитка и получил в результате взвешивания $2m + \\varepsilon_2$, где $ \\varepsilon_2$ - случайная величина, ошибка второго взвешивания. Оказалось, что $y_1 = 60$, $y_2 = 110$.\n",
    "\n",
    "__a)__ Теперь Ира хочет с помощью метода максимального правдоподобия оценить вес слитка $m$ и погрешность весов $\\sigma$, если ошибки не зависят друг от друга и при этом \n",
    "\n",
    "$$\\varepsilon_i \\sim N(0,\\sigma^2)$$\n",
    "\n",
    "__b)__ Ира хочет $80\\%$ доверительные интревалы для обоих параметров \n",
    "\n",
    "__с)__ Ира хочет проверить гипотезу о том, что $m = 70$ с помощью статистики отношения правдоподобий. \n",
    "\n",
    "__d)__ А ещё у Иры есть такая гипотеза:  $\\mu = 60$, $\\sigma = 15$. "
   ]
  },
  {
   "cell_type": "markdown",
   "metadata": {
    "slideshow": {
     "slide_type": "slide"
    }
   },
   "source": [
    "Для начала осознаем как распределена выборка. \n",
    "\n",
    "\\begin{equation*}\n",
    "\\begin{aligned}\n",
    "& y_1 = m + \\varepsilon_1 \\sim N(m, \\sigma^2) \\\\\n",
    "& y_2 = 2m + \\varepsilon_2 \\sim N(2m, \\sigma^2)\n",
    "\\end{aligned}\n",
    "\\end{equation*}\n",
    "\n",
    "Выписываем функцию правдоподобия: \n",
    "\n",
    "$$\n",
    "L = \\frac{1}{\\sqrt{2 \\pi \\sigma^2}} \\cdot e^{-\\frac{(y_1 - m)^2}{2 \\sigma^2}} \\cdot \\frac{1}{\\sqrt{2 \\pi \\sigma^2}} \\cdot e^{-\\frac{(y_2 - 2m)^2}{2 \\sigma^2}}\n",
    "$$\n",
    "\n",
    "Прологарифмируем: \n",
    "\n",
    "$$\n",
    "\\ln L \\propto - \\ln \\sigma^2 - \\frac{(y_1 -m)^2 + (y_2 - 2m)^2}{2 \\sigma^2}\n",
    "$$\n",
    "\n",
    "Значком $\\propto$ обычно обозначают равенство с точностью до константы. Мы, когда выписывали логарифм правдоподобия, избавились от лишних констант, которые никак не влияли на решение задачи. Вбиваем функцию в R. "
   ]
  },
  {
   "cell_type": "code",
   "execution_count": 42,
   "metadata": {
    "slideshow": {
     "slide_type": "slide"
    }
   },
   "outputs": [
    {
     "data": {
      "text/html": [
       "-3650.69314718056"
      ],
      "text/latex": [
       "-3650.69314718056"
      ],
      "text/markdown": [
       "-3650.69314718056"
      ],
      "text/plain": [
       "[1] -3650.693"
      ]
     },
     "metadata": {},
     "output_type": "display_data"
    }
   ],
   "source": [
    "y <- c(60, 110)\n",
    "\n",
    "lnL <- function(th, y){\n",
    "    return(-log(th[2]) - ((y[1] - th[1])^2 + (y[2] - 2*th[1])^2)/(2*th[2]))\n",
    "}\n",
    "\n",
    "# все наши параметры в векторе th\n",
    "lnL(c(2,2), y)"
   ]
  },
  {
   "cell_type": "markdown",
   "metadata": {
    "slideshow": {
     "slide_type": "slide"
    }
   },
   "source": [
    "Находим оптимум:"
   ]
  },
  {
   "cell_type": "code",
   "execution_count": 43,
   "metadata": {
    "slideshow": {
     "slide_type": "fragment"
    }
   },
   "outputs": [
    {
     "name": "stderr",
     "output_type": "stream",
     "text": [
      "Warning message in log(th[2]):\n",
      "“созданы NaN”Warning message in log(th[2]):\n",
      "“созданы NaN”Warning message in log(th[2]):\n",
      "“созданы NaN”Warning message in log(th[2]):\n",
      "“созданы NaN”Warning message in log(th[2]):\n",
      "“созданы NaN”Warning message in log(th[2]):\n",
      "“созданы NaN”Warning message in log(th[2]):\n",
      "“созданы NaN”Warning message in log(th[2]):\n",
      "“созданы NaN”Warning message in log(th[2]):\n",
      "“созданы NaN”Warning message in log(th[2]):\n",
      "“созданы NaN”Warning message in log(th[2]):\n",
      "“созданы NaN”Warning message in log(th[2]):\n",
      "“созданы NaN”Warning message in log(th[2]):\n",
      "“созданы NaN”Warning message in log(th[2]):\n",
      "“созданы NaN”Warning message in log(th[2]):\n",
      "“созданы NaN”Warning message in log(th[2]):\n",
      "“созданы NaN”Warning message in log(th[2]):\n",
      "“созданы NaN”Warning message in log(th[2]):\n",
      "“созданы NaN”Warning message in log(th[2]):\n",
      "“созданы NaN”Warning message in log(th[2]):\n",
      "“созданы NaN”Warning message in log(th[2]):\n",
      "“созданы NaN”Warning message in log(th[2]):\n",
      "“созданы NaN”Warning message in log(th[2]):\n",
      "“созданы NaN”"
     ]
    },
    {
     "data": {
      "text/plain": [
       "--------------------------------------------\n",
       "Maximum Likelihood estimation\n",
       "Newton-Raphson maximisation, 21 iterations\n",
       "Return code 1: gradient close to zero\n",
       "Log-Likelihood: -3.302585 \n",
       "2  free parameters\n",
       "Estimates:\n",
       "     Estimate Std. error t value Pr(> t)    \n",
       "[1,]   56.000      1.414  39.600  <2e-16 ***\n",
       "[2,]   10.000      9.895   1.011   0.312    \n",
       "---\n",
       "Signif. codes:  0 ‘***’ 0.001 ‘**’ 0.01 ‘*’ 0.05 ‘.’ 0.1 ‘ ’ 1\n",
       "--------------------------------------------"
      ]
     },
     "metadata": {},
     "output_type": "display_data"
    }
   ],
   "source": [
    "result <- maxLik(lnL, start=c(2,4), y=y)\n",
    "summary(result)"
   ]
  },
  {
   "cell_type": "markdown",
   "metadata": {
    "slideshow": {
     "slide_type": "skip"
    }
   },
   "source": [
    "При желании можно свериться с ручными оценками: \n",
    "\n",
    "\\begin{equation*}\n",
    "\\begin{aligned}\n",
    "& \\hat m = \\frac{y_1 + 2 \\cdot y_2}{5} \\\\\n",
    "& \\hat \\sigma^2 = \\frac{1}{2} \\cdot((y_1 - \\hat m)^2 + (y_2 - 2 \\hat m)^2)\n",
    "\\end{aligned}\n",
    "\\end{equation*}"
   ]
  },
  {
   "cell_type": "markdown",
   "metadata": {
    "slideshow": {
     "slide_type": "slide"
    }
   },
   "source": [
    "Давайте построим $80%$ доверительный интервал для $\\sigma^2$. "
   ]
  },
  {
   "cell_type": "code",
   "execution_count": 44,
   "metadata": {
    "slideshow": {
     "slide_type": "fragment"
    }
   },
   "outputs": [
    {
     "data": {
      "text/html": [
       "<table>\n",
       "<thead><tr><th scope=col>Estimate</th><th scope=col>Std. error</th><th scope=col>t value</th><th scope=col>Pr(&gt; t)</th></tr></thead>\n",
       "<tbody>\n",
       "\t<tr><td>56.00000 </td><td>1.414151 </td><td>39.599740</td><td>0.0000000</td></tr>\n",
       "\t<tr><td> 9.99991 </td><td>9.894662 </td><td> 1.010637</td><td>0.3121903</td></tr>\n",
       "</tbody>\n",
       "</table>\n"
      ],
      "text/latex": [
       "\\begin{tabular}{llll}\n",
       " Estimate & Std. error & t value & Pr(> t)\\\\\n",
       "\\hline\n",
       "\t 56.00000  & 1.414151  & 39.599740 & 0.0000000\\\\\n",
       "\t  9.99991  & 9.894662  &  1.010637 & 0.3121903\\\\\n",
       "\\end{tabular}\n"
      ],
      "text/markdown": [
       "\n",
       "| Estimate | Std. error | t value | Pr(> t) |\n",
       "|---|---|---|---|\n",
       "| 56.00000  | 1.414151  | 39.599740 | 0.0000000 |\n",
       "|  9.99991  | 9.894662  |  1.010637 | 0.3121903 |\n",
       "\n"
      ],
      "text/plain": [
       "     Estimate Std. error t value   Pr(> t)  \n",
       "[1,] 56.00000 1.414151   39.599740 0.0000000\n",
       "[2,]  9.99991 9.894662    1.010637 0.3121903"
      ]
     },
     "metadata": {},
     "output_type": "display_data"
    }
   ],
   "source": [
    "table <- summary(result)$estimate\n",
    "table"
   ]
  },
  {
   "cell_type": "code",
   "execution_count": 45,
   "metadata": {
    "slideshow": {
     "slide_type": "fragment"
    }
   },
   "outputs": [
    {
     "name": "stdout",
     "output_type": "stream",
     "text": [
      "Параметр mu с вероятностью 95% лежит между -2.68061 и 22.68043 \n",
      "Длина интервала: 25.36104"
     ]
    }
   ],
   "source": [
    "alpha = 0.2\n",
    "z_alpha = qnorm(1 - alpha/2)\n",
    "left = table[2,1] -  z_alpha*table[2,2]\n",
    "right = table[2,1] +  z_alpha*table[2,2]\n",
    "cat('Параметр mu с вероятностью 95% лежит между', left, 'и',right, '\\n')\n",
    "cat('Длина интервала:', right - left)"
   ]
  },
  {
   "cell_type": "markdown",
   "metadata": {
    "slideshow": {
     "slide_type": "slide"
    }
   },
   "source": [
    "Теперь проверим гипотезу, что $m = 70$. Для этого будем использовать статистику отношения правдоподобий. Зафиксируем значение $\\mu$ и найдём оптимальную оценку для $\\sigma$. "
   ]
  },
  {
   "cell_type": "code",
   "execution_count": 50,
   "metadata": {},
   "outputs": [
    {
     "data": {
      "text/plain": [
       "--------------------------------------------\n",
       "Maximum Likelihood estimation\n",
       "Newton-Raphson maximisation, 32 iterations\n",
       "Return code 1: gradient close to zero\n",
       "Log-Likelihood: -7.214608 \n",
       "1  free parameters\n",
       "Estimates:\n",
       "     Estimate Std. error t value Pr(> t)    \n",
       "[1,]   500.03      23.73   21.07  <2e-16 ***\n",
       "---\n",
       "Signif. codes:  0 ‘***’ 0.001 ‘**’ 0.01 ‘*’ 0.05 ‘.’ 0.1 ‘ ’ 1\n",
       "--------------------------------------------"
      ]
     },
     "metadata": {},
     "output_type": "display_data"
    }
   ],
   "source": [
    "mu0 = 70\n",
    "\n",
    "lnL_resricted <- function(th, y){\n",
    "    return(-log(th) - ((y[1] - mu0)^2 + (y[2] - 2*mu0)^2)/(2*th))\n",
    "}\n",
    "\n",
    "result_restricted <- maxLik(lnL_resricted, start=4, y=y)\n",
    "summary(result_restricted)"
   ]
  },
  {
   "cell_type": "markdown",
   "metadata": {},
   "source": [
    "Теперь можем найти наблюдаемое значение статистики и сравнить его с критическим: "
   ]
  },
  {
   "cell_type": "code",
   "execution_count": 55,
   "metadata": {},
   "outputs": [
    {
     "data": {
      "image/png": "[encoded data removed]",
      "text/plain": [
       "plot without title"
      ]
     },
     "metadata": {},
     "output_type": "display_data"
    }
   ],
   "source": [
    "LR_obs = 2*(lnL(result$estimate, y) - lnL_resricted(result_restricted$estimate, y))\n",
    "chi_stat_picture(LR_obs, 1)"
   ]
  },
  {
   "cell_type": "markdown",
   "metadata": {},
   "source": [
    "Видим, что гипотеза отвергается. "
   ]
  },
  {
   "cell_type": "markdown",
   "metadata": {},
   "source": [
    "Пришло время завершающей гипотезы о том, что одновременно  $\\mu = 60$ и $\\sigma = 15$. В обычных параметрических критериях мы не обсуждали критерий, который мог бы протестировать сразу же два ограничения. Статистика отношения правдоподобий первый из них. "
   ]
  },
  {
   "cell_type": "code",
   "execution_count": 57,
   "metadata": {},
   "outputs": [],
   "source": [
    "mu0 = 60\n",
    "sigma0 = 70\n",
    "LR_obs = 2*(lnL(result$estimate, y) - lnL(c(mu0,sigma0), y))"
   ]
  },
  {
   "cell_type": "markdown",
   "metadata": {},
   "source": [
    "Вспоминаем, что \n",
    "\n",
    "$$\n",
    "LR = 2\\cdot(\\ln L(\\hat \\theta_{ML}) - \\ln L(\\theta_0)) \\sim \\chi^2_q,\n",
    "$$\n",
    "\n",
    "где $q$ это количество ограничений. В нашей гипотезе сразу два ограничения. Поэтому число степеней свободы, $q=2$.  Давайте найдём наблюдаемое значение статистики и критическое. "
   ]
  },
  {
   "cell_type": "code",
   "execution_count": 58,
   "metadata": {},
   "outputs": [
    {
     "data": {
      "image/png": "[encoded data removed]",
      "text/plain": [
       "plot without title"
      ]
     },
     "metadata": {},
     "output_type": "display_data"
    }
   ],
   "source": [
    "chi_stat_picture(LR_obs, 2)"
   ]
  },
  {
   "cell_type": "markdown",
   "metadata": {},
   "source": [
    "Гипотеза не отвергается."
   ]
  },
  {
   "cell_type": "markdown",
   "metadata": {},
   "source": [
    "## 9. Киллер и тренд во времени.\n",
    "\n",
    "Помните в первой домашке мы изучали с помощью симуляций игру в Киллера. В послених пунктах домашки мы смотрели, насколько быстро игра протухнет, если интерес к ней падает. На экономе мы играли в киллера дважды. У нас есть немного статистике по игре. Целых два наблюдений. Время между смертями в перой игре и время между смертями во второй игре. Давайте подгрузим их. "
   ]
  },
  {
   "cell_type": "code",
   "execution_count": 59,
   "metadata": {},
   "outputs": [
    {
     "name": "stderr",
     "output_type": "stream",
     "text": [
      "`stat_bin()` using `bins = 30`. Pick better value with `binwidth`.\n"
     ]
    },
    {
     "data": {
      "image/png": "[encoded data removed]",
      "text/plain": [
       "plot without title"
      ]
     },
     "metadata": {},
     "output_type": "display_data"
    }
   ],
   "source": [
    "game_1 = read.csv('killer_time1.csv', sep = '\\t', dec=',')$hours_between_kill/24\n",
    "qplot(game_1)"
   ]
  },
  {
   "cell_type": "code",
   "execution_count": 60,
   "metadata": {},
   "outputs": [
    {
     "name": "stderr",
     "output_type": "stream",
     "text": [
      "`stat_bin()` using `bins = 30`. Pick better value with `binwidth`.\n"
     ]
    },
    {
     "data": {
      "image/png": "[encoded data removed]",
      "text/plain": [
       "plot without title"
      ]
     },
     "metadata": {},
     "output_type": "display_data"
    }
   ],
   "source": [
    "game_2 = read.csv('killer_time2.csv', sep = '\\t', dec=',')$hours_between_kill/24\n",
    "qplot(game_2)"
   ]
  },
  {
   "cell_type": "markdown",
   "metadata": {},
   "source": [
    "Предположим, что время между смертями имеет экспоненциальное распределение. Судя по гистограммам это похоже на правду. Можно даже гипотезу об этом проверить, при желании. На самом деле время между наступлением событий не всегда распределено экспоненциально. В домашке вы это увидите на примере гейзеров.\n",
    "\n",
    "Окей, давайте попробуем методом максимального правдоподобия оценить для одной из игр параметр $\\alpha$. "
   ]
  },
  {
   "cell_type": "code",
   "execution_count": 61,
   "metadata": {},
   "outputs": [
    {
     "data": {
      "text/plain": [
       "--------------------------------------------\n",
       "Maximum Likelihood estimation\n",
       "Newton-Raphson maximisation, 6 iterations\n",
       "Return code 1: gradient close to zero\n",
       "Log-Likelihood: -53.19531 \n",
       "1  free parameters\n",
       "Estimates:\n",
       "     Estimate Std. error t value  Pr(> t)    \n",
       "[1,]   0.6202     0.1034       6 1.97e-09 ***\n",
       "---\n",
       "Signif. codes:  0 ‘***’ 0.001 ‘**’ 0.01 ‘*’ 0.05 ‘.’ 0.1 ‘ ’ 1\n",
       "--------------------------------------------"
      ]
     },
     "metadata": {},
     "output_type": "display_data"
    }
   ],
   "source": [
    "lnL <- function(alpha, x) {\n",
    "  n <- length(x)\n",
    "  answer <- -alpha*sum(x)+log(alpha)*n\n",
    "  return(answer)\n",
    "}\n",
    "\n",
    "result <- maxLik(lnL, start=1, x=game_1)\n",
    "summary(result)"
   ]
  },
  {
   "cell_type": "code",
   "execution_count": 62,
   "metadata": {},
   "outputs": [
    {
     "data": {
      "text/html": [
       "0.620240758421918"
      ],
      "text/latex": [
       "0.620240758421918"
      ],
      "text/markdown": [
       "0.620240758421918"
      ],
      "text/plain": [
       "[1] 0.6202408"
      ]
     },
     "metadata": {},
     "output_type": "display_data"
    }
   ],
   "source": [
    "1/mean(game_1)"
   ]
  },
  {
   "cell_type": "markdown",
   "metadata": {},
   "source": [
    "Вроде бы совпало. Теперь давайте попробуем усложнить модель. Мы с вами говорили, что протухание в игре должно как-то зависеть от времени, прошедшего с её начала. При симуляциях в первой домашке, мы брали какие-то дискретные моменты времени, и изменяли в них значение $\\alpha$. Давайте сделаем умнее. Предположим, что $\\alpha$ это функция от времени, прошедшего с начала игры.\n",
    "\n",
    "Например, предположим, что затухание интереса к игре происходит линейно, то есть \n",
    "\n",
    "$$\n",
    "\\alpha = \\beta_0 + \\beta_1 \\cdot t.\n",
    "$$\n",
    "\n",
    "В таком случае $X_i \\sim Exp(\\beta_0 + \\beta_1 \\cdot t)$, и нам надо оценить параметры $\\beta_0$ и $\\beta_1$ вместо $\\alpha$. Вобьём функцию правдоподобия для такой ситуации. "
   ]
  },
  {
   "cell_type": "code",
   "execution_count": 65,
   "metadata": {},
   "outputs": [
    {
     "data": {
      "text/html": [
       "<table>\n",
       "<thead><tr><th scope=col>time</th><th scope=col>betwen_kill</th></tr></thead>\n",
       "<tbody>\n",
       "\t<tr><td>0.249382 </td><td>0.2493820</td></tr>\n",
       "\t<tr><td>1.248449 </td><td>0.9990668</td></tr>\n",
       "\t<tr><td>2.317757 </td><td>1.0693085</td></tr>\n",
       "\t<tr><td>3.821953 </td><td>1.5041962</td></tr>\n",
       "\t<tr><td>3.997485 </td><td>0.1755315</td></tr>\n",
       "\t<tr><td>4.238015 </td><td>0.2405298</td></tr>\n",
       "</tbody>\n",
       "</table>\n"
      ],
      "text/latex": [
       "\\begin{tabular}{r|ll}\n",
       " time & betwen\\_kill\\\\\n",
       "\\hline\n",
       "\t 0.249382  & 0.2493820\\\\\n",
       "\t 1.248449  & 0.9990668\\\\\n",
       "\t 2.317757  & 1.0693085\\\\\n",
       "\t 3.821953  & 1.5041962\\\\\n",
       "\t 3.997485  & 0.1755315\\\\\n",
       "\t 4.238015  & 0.2405298\\\\\n",
       "\\end{tabular}\n"
      ],
      "text/markdown": [
       "\n",
       "| time | betwen_kill |\n",
       "|---|---|\n",
       "| 0.249382  | 0.2493820 |\n",
       "| 1.248449  | 0.9990668 |\n",
       "| 2.317757  | 1.0693085 |\n",
       "| 3.821953  | 1.5041962 |\n",
       "| 3.997485  | 0.1755315 |\n",
       "| 4.238015  | 0.2405298 |\n",
       "\n"
      ],
      "text/plain": [
       "  time     betwen_kill\n",
       "1 0.249382 0.2493820  \n",
       "2 1.248449 0.9990668  \n",
       "3 2.317757 1.0693085  \n",
       "4 3.821953 1.5041962  \n",
       "5 3.997485 0.1755315  \n",
       "6 4.238015 0.2405298  "
      ]
     },
     "metadata": {},
     "output_type": "display_data"
    }
   ],
   "source": [
    "betwen_kill = c(game_1, game_2)\n",
    "time = c(cumsum(game_1), cumsum(game_2))\n",
    "X = data.frame(time = time,  betwen_kill = betwen_kill)\n",
    "head(X)"
   ]
  },
  {
   "cell_type": "code",
   "execution_count": 66,
   "metadata": {},
   "outputs": [],
   "source": [
    "lnL <- function(beta, X) {\n",
    "  alpha = beta[1] + beta[2]*X$time\n",
    "  answer = sum(log(dexp(X$betwen_kill, rate = alpha)))\n",
    "  return(answer)\n",
    "}"
   ]
  },
  {
   "cell_type": "code",
   "execution_count": 67,
   "metadata": {
    "scrolled": false
   },
   "outputs": [
    {
     "name": "stderr",
     "output_type": "stream",
     "text": [
      "Warning message in dexp(X$betwen_kill, rate = alpha):\n",
      "“созданы NaN”Warning message in dexp(X$betwen_kill, rate = alpha):\n",
      "“созданы NaN”Warning message in dexp(X$betwen_kill, rate = alpha):\n",
      "“созданы NaN”Warning message in dexp(X$betwen_kill, rate = alpha):\n",
      "“созданы NaN”Warning message in dexp(X$betwen_kill, rate = alpha):\n",
      "“созданы NaN”Warning message in dexp(X$betwen_kill, rate = alpha):\n",
      "“созданы NaN”Warning message in dexp(X$betwen_kill, rate = alpha):\n",
      "“созданы NaN”Warning message in dexp(X$betwen_kill, rate = alpha):\n",
      "“созданы NaN”Warning message in dexp(X$betwen_kill, rate = alpha):\n",
      "“созданы NaN”Warning message in dexp(X$betwen_kill, rate = alpha):\n",
      "“созданы NaN”Warning message in dexp(X$betwen_kill, rate = alpha):\n",
      "“созданы NaN”Warning message in dexp(X$betwen_kill, rate = alpha):\n",
      "“созданы NaN”Warning message in dexp(X$betwen_kill, rate = alpha):\n",
      "“созданы NaN”Warning message in dexp(X$betwen_kill, rate = alpha):\n",
      "“созданы NaN”Warning message in dexp(X$betwen_kill, rate = alpha):\n",
      "“созданы NaN”Warning message in dexp(X$betwen_kill, rate = alpha):\n",
      "“созданы NaN”Warning message in dexp(X$betwen_kill, rate = alpha):\n",
      "“созданы NaN”Warning message in dexp(X$betwen_kill, rate = alpha):\n",
      "“созданы NaN”Warning message in dexp(X$betwen_kill, rate = alpha):\n",
      "“созданы NaN”Warning message in dexp(X$betwen_kill, rate = alpha):\n",
      "“созданы NaN”Warning message in dexp(X$betwen_kill, rate = alpha):\n",
      "“созданы NaN”Warning message in dexp(X$betwen_kill, rate = alpha):\n",
      "“созданы NaN”Warning message in dexp(X$betwen_kill, rate = alpha):\n",
      "“созданы NaN”Warning message in dexp(X$betwen_kill, rate = alpha):\n",
      "“созданы NaN”Warning message in dexp(X$betwen_kill, rate = alpha):\n",
      "“созданы NaN”Warning message in dexp(X$betwen_kill, rate = alpha):\n",
      "“созданы NaN”"
     ]
    },
    {
     "data": {
      "text/plain": [
       "--------------------------------------------\n",
       "Maximum Likelihood estimation\n",
       "Newton-Raphson maximisation, 11 iterations\n",
       "Return code 1: gradient close to zero\n",
       "Log-Likelihood: -79.27675 \n",
       "2  free parameters\n",
       "Estimates:\n",
       "      Estimate Std. error t value  Pr(> t)    \n",
       "[1,]  0.904094   0.142894   6.327 2.50e-10 ***\n",
       "[2,] -0.013288   0.003077  -4.319 1.57e-05 ***\n",
       "---\n",
       "Signif. codes:  0 ‘***’ 0.001 ‘**’ 0.01 ‘*’ 0.05 ‘.’ 0.1 ‘ ’ 1\n",
       "--------------------------------------------"
      ]
     },
     "metadata": {},
     "output_type": "display_data"
    }
   ],
   "source": [
    "result <- maxLik(lnL, start=c(1, 1), X=X)\n",
    "summary(result)"
   ]
  },
  {
   "cell_type": "code",
   "execution_count": 69,
   "metadata": {},
   "outputs": [
    {
     "data": {
      "image/png": "[encoded data removed]",
      "text/plain": [
       "plot without title"
      ]
     },
     "metadata": {},
     "output_type": "display_data"
    }
   ],
   "source": [
    "ggplot(X, aes(x=time))+\n",
    "      geom_point(aes(y=betwen_kill)) + \n",
    "      geom_line(aes(y=0.9 - 0.01*betwen_kill), col='red')"
   ]
  },
  {
   "cell_type": "markdown",
   "metadata": {},
   "source": [
    "Можно попробовать более сложную гипотезу. Например, что \n",
    "\n",
    "$$\n",
    "\\alpha = \\beta_0 + \\beta_1 \\cdot e^{\\beta_2 \\cdot t}\n",
    "$$"
   ]
  },
  {
   "cell_type": "code",
   "execution_count": 70,
   "metadata": {
    "scrolled": false
   },
   "outputs": [
    {
     "name": "stderr",
     "output_type": "stream",
     "text": [
      "Warning message in dexp(X$betwen_kill, rate = alpha):\n",
      "“созданы NaN”Warning message in dexp(X$betwen_kill, rate = alpha):\n",
      "“созданы NaN”Warning message in dexp(X$betwen_kill, rate = alpha):\n",
      "“созданы NaN”Warning message in dexp(X$betwen_kill, rate = alpha):\n",
      "“созданы NaN”Warning message in dexp(X$betwen_kill, rate = alpha):\n",
      "“созданы NaN”Warning message in dexp(X$betwen_kill, rate = alpha):\n",
      "“созданы NaN”Warning message in dexp(X$betwen_kill, rate = alpha):\n",
      "“созданы NaN”Warning message in dexp(X$betwen_kill, rate = alpha):\n",
      "“созданы NaN”Warning message in dexp(X$betwen_kill, rate = alpha):\n",
      "“созданы NaN”Warning message in dexp(X$betwen_kill, rate = alpha):\n",
      "“созданы NaN”Warning message in dexp(X$betwen_kill, rate = alpha):\n",
      "“созданы NaN”Warning message in dexp(X$betwen_kill, rate = alpha):\n",
      "“созданы NaN”Warning message in dexp(X$betwen_kill, rate = alpha):\n",
      "“созданы NaN”Warning message in dexp(X$betwen_kill, rate = alpha):\n",
      "“созданы NaN”Warning message in dexp(X$betwen_kill, rate = alpha):\n",
      "“созданы NaN”Warning message in dexp(X$betwen_kill, rate = alpha):\n",
      "“созданы NaN”Warning message in dexp(X$betwen_kill, rate = alpha):\n",
      "“созданы NaN”Warning message in dexp(X$betwen_kill, rate = alpha):\n",
      "“созданы NaN”Warning message in dexp(X$betwen_kill, rate = alpha):\n",
      "“созданы NaN”Warning message in dexp(X$betwen_kill, rate = alpha):\n",
      "“созданы NaN”Warning message in dexp(X$betwen_kill, rate = alpha):\n",
      "“созданы NaN”Warning message in dexp(X$betwen_kill, rate = alpha):\n",
      "“созданы NaN”Warning message in dexp(X$betwen_kill, rate = alpha):\n",
      "“созданы NaN”Warning message in dexp(X$betwen_kill, rate = alpha):\n",
      "“созданы NaN”Warning message in dexp(X$betwen_kill, rate = alpha):\n",
      "“созданы NaN”Warning message in dexp(X$betwen_kill, rate = alpha):\n",
      "“созданы NaN”Warning message in dexp(X$betwen_kill, rate = alpha):\n",
      "“созданы NaN”Warning message in dexp(X$betwen_kill, rate = alpha):\n",
      "“созданы NaN”Warning message in dexp(X$betwen_kill, rate = alpha):\n",
      "“созданы NaN”Warning message in dexp(X$betwen_kill, rate = alpha):\n",
      "“созданы NaN”Warning message in dexp(X$betwen_kill, rate = alpha):\n",
      "“созданы NaN”Warning message in dexp(X$betwen_kill, rate = alpha):\n",
      "“созданы NaN”Warning message in dexp(X$betwen_kill, rate = alpha):\n",
      "“созданы NaN”Warning message in dexp(X$betwen_kill, rate = alpha):\n",
      "“созданы NaN”Warning message in dexp(X$betwen_kill, rate = alpha):\n",
      "“созданы NaN”Warning message in dexp(X$betwen_kill, rate = alpha):\n",
      "“созданы NaN”Warning message in dexp(X$betwen_kill, rate = alpha):\n",
      "“созданы NaN”Warning message in dexp(X$betwen_kill, rate = alpha):\n",
      "“созданы NaN”Warning message in dexp(X$betwen_kill, rate = alpha):\n",
      "“созданы NaN”Warning message in dexp(X$betwen_kill, rate = alpha):\n",
      "“созданы NaN”Warning message in dexp(X$betwen_kill, rate = alpha):\n",
      "“созданы NaN”Warning message in dexp(X$betwen_kill, rate = alpha):\n",
      "“созданы NaN”Warning message in dexp(X$betwen_kill, rate = alpha):\n",
      "“созданы NaN”Warning message in dexp(X$betwen_kill, rate = alpha):\n",
      "“созданы NaN”Warning message in dexp(X$betwen_kill, rate = alpha):\n",
      "“созданы NaN”Warning message in dexp(X$betwen_kill, rate = alpha):\n",
      "“созданы NaN”Warning message in dexp(X$betwen_kill, rate = alpha):\n",
      "“созданы NaN”Warning message in dexp(X$betwen_kill, rate = alpha):\n",
      "“созданы NaN”Warning message in dexp(X$betwen_kill, rate = alpha):\n",
      "“созданы NaN”Warning message in dexp(X$betwen_kill, rate = alpha):\n",
      "“созданы NaN”Warning message in dexp(X$betwen_kill, rate = alpha):\n",
      "“созданы NaN”Warning message in dexp(X$betwen_kill, rate = alpha):\n",
      "“созданы NaN”Warning message in dexp(X$betwen_kill, rate = alpha):\n",
      "“созданы NaN”Warning message in dexp(X$betwen_kill, rate = alpha):\n",
      "“созданы NaN”Warning message in dexp(X$betwen_kill, rate = alpha):\n",
      "“созданы NaN”Warning message in dexp(X$betwen_kill, rate = alpha):\n",
      "“созданы NaN”Warning message in dexp(X$betwen_kill, rate = alpha):\n",
      "“созданы NaN”Warning message in dexp(X$betwen_kill, rate = alpha):\n",
      "“созданы NaN”Warning message in dexp(X$betwen_kill, rate = alpha):\n",
      "“созданы NaN”Warning message in dexp(X$betwen_kill, rate = alpha):\n",
      "“созданы NaN”Warning message in dexp(X$betwen_kill, rate = alpha):\n",
      "“созданы NaN”Warning message in dexp(X$betwen_kill, rate = alpha):\n",
      "“созданы NaN”Warning message in dexp(X$betwen_kill, rate = alpha):\n",
      "“созданы NaN”"
     ]
    },
    {
     "data": {
      "text/plain": [
       "--------------------------------------------\n",
       "Maximum Likelihood estimation\n",
       "Newton-Raphson maximisation, 10 iterations\n",
       "Return code 1: gradient close to zero\n",
       "Log-Likelihood: -74.64443 \n",
       "3  free parameters\n",
       "Estimates:\n",
       "     Estimate Std. error t value Pr(> t)   \n",
       "[1,]  0.20592    0.08887   2.317 0.02050 * \n",
       "[2,]  1.69736    0.53791   3.155 0.00160 **\n",
       "[3,] -0.09203    0.03551  -2.591 0.00956 **\n",
       "---\n",
       "Signif. codes:  0 ‘***’ 0.001 ‘**’ 0.01 ‘*’ 0.05 ‘.’ 0.1 ‘ ’ 1\n",
       "--------------------------------------------"
      ]
     },
     "metadata": {},
     "output_type": "display_data"
    }
   ],
   "source": [
    "lnL <- function(beta, X) {\n",
    "  alpha = beta[1] + beta[2]*exp(beta[3]*X$time)\n",
    "  answer = sum(log(dexp(X$betwen_kill, rate = alpha)))\n",
    "  return(answer)\n",
    "}\n",
    "\n",
    "result <- maxLik(lnL, start=c(1, 1, -2), X=X)\n",
    "summary(result)"
   ]
  },
  {
   "cell_type": "code",
   "execution_count": 71,
   "metadata": {},
   "outputs": [
    {
     "data": {
      "image/png": "[encoded data removed]",
      "text/plain": [
       "plot without title"
      ]
     },
     "metadata": {},
     "output_type": "display_data"
    }
   ],
   "source": [
    "b = result$estimate\n",
    "\n",
    "ggplot(X, aes(x=time))+\n",
    "      geom_point(aes(y=betwen_kill)) + \n",
    "      geom_line(aes(y=b[1] + b[2]*exp(b[3]*betwen_kill)), col='red')"
   ]
  },
  {
   "cell_type": "markdown",
   "metadata": {},
   "source": [
    "Давайте посмотрим внимательно на протокол оценивания. Вполне возможно, что трэнд незначим, и на самом деле параметр $\\alpha$ никак не зависит от времени, которое длится игра. В протоколе для каждого из коэффициентов трэнда проверяется гипотеза о том, что они равны нулю. Это делается на основе асимптотически нормального распределения, так как метод максимального правдоподобия хорошо дружит с ЦПТ."
   ]
  },
  {
   "cell_type": "code",
   "execution_count": 72,
   "metadata": {},
   "outputs": [
    {
     "data": {
      "text/plain": [
       "--------------------------------------------\n",
       "Maximum Likelihood estimation\n",
       "Newton-Raphson maximisation, 10 iterations\n",
       "Return code 1: gradient close to zero\n",
       "Log-Likelihood: -74.64443 \n",
       "3  free parameters\n",
       "Estimates:\n",
       "     Estimate Std. error t value Pr(> t)   \n",
       "[1,]  0.20592    0.08887   2.317 0.02050 * \n",
       "[2,]  1.69736    0.53791   3.155 0.00160 **\n",
       "[3,] -0.09203    0.03551  -2.591 0.00956 **\n",
       "---\n",
       "Signif. codes:  0 ‘***’ 0.001 ‘**’ 0.01 ‘*’ 0.05 ‘.’ 0.1 ‘ ’ 1\n",
       "--------------------------------------------"
      ]
     },
     "metadata": {},
     "output_type": "display_data"
    }
   ],
   "source": [
    "summary(result)"
   ]
  },
  {
   "cell_type": "markdown",
   "metadata": {},
   "source": [
    "В нашем случае все три коэффициента по отдельности значимы. Тем не менее, они могут оказаться нулевыми по отдельности. Давайте проверим гипотезу об этом тестом максимального правдоподобия. В этот раз $q=3$, так как мы зануляем сразу три коэффициента. "
   ]
  },
  {
   "cell_type": "code",
   "execution_count": 76,
   "metadata": {},
   "outputs": [
    {
     "data": {
      "image/png": "[encoded data removed]",
      "text/plain": [
       "plot without title"
      ]
     },
     "metadata": {},
     "output_type": "display_data"
    }
   ],
   "source": [
    "LR_obs = 2*(lnL(b, X) - lnL(c(0,0,0), X))\n",
    "chi_stat_picture(LR_obs, 3)"
   ]
  },
  {
   "cell_type": "markdown",
   "metadata": {},
   "source": [
    "Отличная новость! Гипотеза отвергается. Это означает, что при симуляции игры в Киллера мы можем попробовать использовать оценённую нами модель. "
   ]
  },
  {
   "cell_type": "markdown",
   "metadata": {
    "slideshow": {
     "slide_type": "slide"
    }
   },
   "source": [
    "# Что мы сегодня осознали? \n",
    "\n",
    "* Метод максимального правдоподобия - что я вижу, то и есть на самом деле.  \n",
    "* Производные содержут в себе информацию и именно они используются для её передачи в современной статистике и машинном обучении. Например, вторая производная функции правдоподобия говорит о том, насколько ярко выражен пик правдоподобия. \n",
    "* Информация Фишера говорит о острие пика, это усреднённая по выборке вторая производная, взятая со знаком минус (потому что мы максимизируем правдоподобие, в оптимуме вторая производная отрицательна, надо это компенсировать ещё одним минусом).\n"
   ]
  }
 ],
 "metadata": {
  "celltoolbar": "Slideshow",
  "kernelspec": {
   "display_name": "R",
   "language": "R",
   "name": "ir"
  },
  "language_info": {
   "codemirror_mode": "r",
   "file_extension": ".r",
   "mimetype": "text/x-r-source",
   "name": "R",
   "pygments_lexer": "r",
   "version": "3.5.3"
  }
 },
 "nbformat": 4,
 "nbformat_minor": 2
}
