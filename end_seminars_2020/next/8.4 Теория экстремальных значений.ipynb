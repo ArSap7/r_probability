{
 "cells": [
  {
   "cell_type": "markdown",
   "metadata": {
    "slideshow": {
     "slide_type": "slide"
    }
   },
   "source": [
    "<img src=\"https://raw.githubusercontent.com/FUlyankin/r_probability/master/end_seminars/sem_3/swan3.png\" height=\"300\" width=\"300\"> \n",
    "\n",
    "\n",
    "# <center> R для тервера и матстата <br>  <br> 8.3 Резкое погружение в финансовый мир с Максимами </center>"
   ]
  },
  {
   "cell_type": "markdown",
   "metadata": {
    "slideshow": {
     "slide_type": "skip"
    }
   },
   "source": [
    "Данный ноутбук является конспектом по курсу «R для теории вероятностей и математической статистики» (РАНХиГС, 2019). Автор ноутбука - [вот этот парень по имени Филипп.](https://vk.com/ppilif) Если у вас для него есть деньги, слава или женщины, он от этого всего не откажется. Ноутбук распространяется на условиях лицензии [Creative Commons Attribution-Share Alike 4.0.](https://creativecommons.org/licenses/by-sa/4.0/) При использовании обязательно упоминание автора курса и аффилиации. При наличии технической возможности необходимо также указать активную гиперссылку на [страницу курса.](https://fulyankin.github.io/R_probability/) На ней можно найти другие материалы. Фрагменты кода, включенные в этот notebook, публикуются как [общественное достояние.](https://creativecommons.org/publicdomain/zero/1.0/)\n",
    "\n",
    "-------------------------------\n"
   ]
  },
  {
   "cell_type": "markdown",
   "metadata": {
    "slideshow": {
     "slide_type": "slide"
    }
   },
   "source": [
    "* Вполне естественный вопрос: \"Кто нафиг такой этот Максим, и что он забыл в Финансовом мире?!\"\n",
    "\n",
    "* Спокойно. Сейчас всё расскажу. "
   ]
  },
  {
   "cell_type": "code",
   "execution_count": 2,
   "metadata": {
    "slideshow": {
     "slide_type": "skip"
    }
   },
   "outputs": [],
   "source": [
    "library(\"ggplot2\")  # Пакет для красивых графиков \n",
    "library(\"grid\")     # Пакет для субплотов\n",
    "library(\"dplyr\")    # Куда же без пакета под таблички :) \n",
    "\n",
    "# Отрегулируем размер картинок, которые будут выдаваться в нашей тетрадке\n",
    "library('repr')\n",
    "options(repr.plot.width=4, repr.plot.height=3)"
   ]
  },
  {
   "cell_type": "markdown",
   "metadata": {
    "slideshow": {
     "slide_type": "slide"
    }
   },
   "source": [
    "* Как и в прошлой тетрадке, подгрузим акции. "
   ]
  },
  {
   "cell_type": "code",
   "execution_count": 5,
   "metadata": {
    "slideshow": {
     "slide_type": "fragment"
    }
   },
   "outputs": [
    {
     "data": {
      "text/html": [
       "'YNDX'"
      ],
      "text/latex": [
       "'YNDX'"
      ],
      "text/markdown": [
       "'YNDX'"
      ],
      "text/plain": [
       "[1] \"YNDX\""
      ]
     },
     "metadata": {},
     "output_type": "display_data"
    },
    {
     "data": {
      "text/plain": [
       "            open  high   low close  volume adjusted time\n",
       "2014-01-02 43.31 43.34 42.36 42.63 1724200    42.63    1\n",
       "2014-01-03 42.99 43.34 42.63 42.90 1130400    42.90    2\n",
       "2014-01-06 42.89 43.19 42.61 42.91 1809900    42.91    3\n",
       "2014-01-07 43.17 43.94 42.06 43.53 2821300    43.53    4\n",
       "2014-01-08 43.77 44.24 42.22 42.25 3146300    42.25    5\n",
       "2014-01-09 43.43 45.42 43.17 44.22 5685700    44.22    6"
      ]
     },
     "metadata": {},
     "output_type": "display_data"
    }
   ],
   "source": [
    "library(\"quantmod\")\n",
    "getSymbols(\"YNDX\", from=\"2014-01-01\", to=\"2020-01-01\")\n",
    "df = YNDX        # Данные по акциям в таблицу df! \n",
    "\n",
    "colnames(df) = c('open', 'high', 'low', 'close', 'volume', 'adjusted')\n",
    "df$time = 1:nrow(df) # Колонка под время для удобства\n",
    "\n",
    "df %>% head( )   # Все данные дневные"
   ]
  },
  {
   "cell_type": "markdown",
   "metadata": {
    "slideshow": {
     "slide_type": "slide"
    }
   },
   "source": [
    "* Возьмём цены закрытия и перейдём к доходностям, гипотезу о нормальности по второму разу тестить не будем. "
   ]
  },
  {
   "cell_type": "code",
   "execution_count": 7,
   "metadata": {
    "slideshow": {
     "slide_type": "fragment"
    }
   },
   "outputs": [],
   "source": [
    "price <- as.numeric(df$close)\n",
    "R = diff(price)/price[-length(price)]"
   ]
  },
  {
   "cell_type": "markdown",
   "metadata": {
    "slideshow": {
     "slide_type": "slide"
    }
   },
   "source": [
    "# 1. Хвосты\n",
    "\n",
    "![](https://sopurrfect.com/wp-content/uploads/2017/10/zachem-koshke-hvost-1170x767.jpg)"
   ]
  },
  {
   "cell_type": "markdown",
   "metadata": {
    "slideshow": {
     "slide_type": "slide"
    }
   },
   "source": [
    "## Крайнестан и среднестан \n",
    "\n",
    "* В начале курса, когда мы обсуждали ЦПТ, мы говорили, что есть две зоны: __среднестан__ и __крайнестан.__ \n",
    "\n",
    "* __Среднестан__ хорош тем, что по нему у нас огромная куча статистики. Случайные величины чаще всего вылезают на нас именно из него, в среднестане мы можем строить хорошие модели \n",
    "\n",
    "* __Крайнестан__ очень непредсказуем и опасен. Данные из хвостов на нас выпрыгивают редко. Сложно набрать достаточное количество статистики, чтобы адекватно оценить с какой вероятностью произойдёт катастрофа. Наши оценки постоянно будут занижены. Для работы с крайнестаном нужны свои статистические методы. "
   ]
  },
  {
   "cell_type": "code",
   "execution_count": 9,
   "metadata": {
    "slideshow": {
     "slide_type": "slide"
    }
   },
   "outputs": [
    {
     "data": {
      "image/png": "[encoded data removed]",
      "text/plain": [
       "plot without title"
      ]
     },
     "metadata": {},
     "output_type": "display_data"
    }
   ],
   "source": [
    "qplot(R, bins=80) "
   ]
  },
  {
   "cell_type": "markdown",
   "metadata": {
    "slideshow": {
     "slide_type": "slide"
    }
   },
   "source": [
    "## Теория экстремальных значений \n",
    "\n",
    "* Изучает хвосты распределений, помогает понять какие воздействия выскакивают на нас в экстремальных условиях\n",
    "\n",
    "* Используется в задачах, где важно смотреть на хвосты (риск-менеджмент, климатология, урбанистика и тп)\n",
    "\n",
    "* В ней есть куча теории вероятностей, своих тонкостей и разных теорем, на одну из них мы сейчас посмотрим чуть ближе"
   ]
  },
  {
   "cell_type": "markdown",
   "metadata": {
    "slideshow": {
     "slide_type": "slide"
    }
   },
   "source": [
    "# 2. Распределение максимумов\n",
    "\n",
    "Так как наша сверхзадача состоит в моделировании $VaR$ и прочих мер риска, то ключевую роль для нас играют именно экстремальные значения, хвосты распределения. А особенно левый хвост. И мысль здесь следующая: нам не нужно уметь хорошо моделировать все распределение, нам нужно уметь хорошо моделировать только экстремальные события, особенно экстремально плохие события."
   ]
  },
  {
   "cell_type": "markdown",
   "metadata": {
    "slideshow": {
     "slide_type": "slide"
    }
   },
   "source": [
    "Нам нужно будет делить все на блоки, поэтому выкинем последние точки, чтобы лучше делилось. Мы можем делить на блоки произвольной длины, я выберу 20 (в этом будет смысл). А значит я хочу, чтобы массив делился на блоки по 20 нацело."
   ]
  },
  {
   "cell_type": "code",
   "execution_count": 11,
   "metadata": {
    "slideshow": {
     "slide_type": "fragment"
    }
   },
   "outputs": [
    {
     "data": {
      "text/html": [
       "1369"
      ],
      "text/latex": [
       "1369"
      ],
      "text/markdown": [
       "1369"
      ],
      "text/plain": [
       "[1] 1369"
      ]
     },
     "metadata": {},
     "output_type": "display_data"
    }
   ],
   "source": [
    "length(R)"
   ]
  },
  {
   "cell_type": "code",
   "execution_count": 12,
   "metadata": {
    "slideshow": {
     "slide_type": "fragment"
    }
   },
   "outputs": [
    {
     "data": {
      "text/html": [
       "68.45"
      ],
      "text/latex": [
       "68.45"
      ],
      "text/markdown": [
       "68.45"
      ],
      "text/plain": [
       "[1] 68.45"
      ]
     },
     "metadata": {},
     "output_type": "display_data"
    }
   ],
   "source": [
    "k <- 20\n",
    "length(R)/k"
   ]
  },
  {
   "cell_type": "code",
   "execution_count": 14,
   "metadata": {
    "slideshow": {
     "slide_type": "fragment"
    }
   },
   "outputs": [
    {
     "data": {
      "text/html": [
       "68"
      ],
      "text/latex": [
       "68"
      ],
      "text/markdown": [
       "68"
      ],
      "text/plain": [
       "[1] 68"
      ]
     },
     "metadata": {},
     "output_type": "display_data"
    }
   ],
   "source": [
    "M <- floor(length(R)/k)\n",
    "M"
   ]
  },
  {
   "cell_type": "code",
   "execution_count": 16,
   "metadata": {
    "slideshow": {
     "slide_type": "fragment"
    }
   },
   "outputs": [],
   "source": [
    "R <- R[1:(M*k)]"
   ]
  },
  {
   "cell_type": "markdown",
   "metadata": {
    "slideshow": {
     "slide_type": "slide"
    }
   },
   "source": [
    "Моделировать мы будем убытки, поэтому перейдем к ним:"
   ]
  },
  {
   "cell_type": "code",
   "execution_count": 18,
   "metadata": {
    "slideshow": {
     "slide_type": "fragment"
    }
   },
   "outputs": [],
   "source": [
    "loss <- -R"
   ]
  },
  {
   "cell_type": "markdown",
   "metadata": {
    "slideshow": {
     "slide_type": "slide"
    }
   },
   "source": [
    "Теперь пройдем по блокам и в каждом блоке найдем максимальный убыток:"
   ]
  },
  {
   "cell_type": "code",
   "execution_count": 32,
   "metadata": {
    "slideshow": {
     "slide_type": "fragment"
    }
   },
   "outputs": [
    {
     "data": {
      "text/html": [
       "<ol class=list-inline>\n",
       "\t<li>0.0697332779479637</li>\n",
       "\t<li>0.140533333333333</li>\n",
       "\t<li>0.0841708542713568</li>\n",
       "\t<li>0.100786845230916</li>\n",
       "\t<li>0.0253589978612893</li>\n",
       "\t<li>0.0278089060566802</li>\n",
       "\t<li>0.0635111125371146</li>\n",
       "\t<li>0.0311271297509829</li>\n",
       "\t<li>0.0525981955829594</li>\n",
       "\t<li>0.0488709470845972</li>\n",
       "\t<li>0.0466812910284465</li>\n",
       "\t<li>0.113190324052944</li>\n",
       "\t<li>0.0522591697191523</li>\n",
       "\t<li>0.0868113014363552</li>\n",
       "\t<li>0.0446796002351559</li>\n",
       "\t<li>0.0320163487738419</li>\n",
       "\t<li>0.0527873211642822</li>\n",
       "\t<li>0.040147913365029</li>\n",
       "\t<li>0.0613535736875396</li>\n",
       "\t<li>0.0668397144711226</li>\n",
       "\t<li>0.075386012715713</li>\n",
       "\t<li>0.051639344262295</li>\n",
       "\t<li>0.0232209737827716</li>\n",
       "\t<li>0.0439422473320778</li>\n",
       "\t<li>0.0582079790712884</li>\n",
       "\t<li>0.0728376327769347</li>\n",
       "\t<li>0.0602941176470588</li>\n",
       "\t<li>0.0563961485557083</li>\n",
       "\t<li>0.0208062418725618</li>\n",
       "\t<li>0.0321931102712834</li>\n",
       "\t<li>0.0537261698440207</li>\n",
       "\t<li>0.069658675533365</li>\n",
       "\t<li>0.0304523063143753</li>\n",
       "\t<li>0.0704805949656751</li>\n",
       "\t<li>0.0579439252336448</li>\n",
       "\t<li>0.0535714285714287</li>\n",
       "\t<li>0.0481026214913212</li>\n",
       "\t<li>0.0287217821312485</li>\n",
       "\t<li>0.0224290741611965</li>\n",
       "\t<li>0.0293356341673857</li>\n",
       "\t<li>0.055366269165247</li>\n",
       "\t<li>0.0471615720524017</li>\n",
       "\t<li>0.048637461193515</li>\n",
       "\t<li>0.0358436627138427</li>\n",
       "\t<li>0.0399869635890768</li>\n",
       "\t<li>0.045943302510808</li>\n",
       "\t<li>0.0345349006079917</li>\n",
       "\t<li>0.0370260685441984</li>\n",
       "\t<li>0.0291353383458648</li>\n",
       "\t<li>0.0446506497738097</li>\n",
       "\t<li>0.0178068427245764</li>\n",
       "\t<li>0.0481340995132503</li>\n",
       "\t<li>0.0252932386620721</li>\n",
       "\t<li>0.120081216554486</li>\n",
       "\t<li>0.0275386968577539</li>\n",
       "\t<li>0.0416200570284932</li>\n",
       "\t<li>0.0282313858779025</li>\n",
       "\t<li>0.0920904750231369</li>\n",
       "\t<li>0.0413036786060019</li>\n",
       "\t<li>0.0386518243661102</li>\n",
       "\t<li>0.178093668392038</li>\n",
       "\t<li>0.0436520826391203</li>\n",
       "\t<li>0.0379792189179505</li>\n",
       "\t<li>0.0235935262070925</li>\n",
       "\t<li>0.0854403080499853</li>\n",
       "\t<li>0.0353932042355732</li>\n",
       "\t<li>0.0225131145938974</li>\n",
       "\t<li>0.0414916469804807</li>\n",
       "</ol>\n"
      ],
      "text/latex": [
       "\\begin{enumerate*}\n",
       "\\item 0.0697332779479637\n",
       "\\item 0.140533333333333\n",
       "\\item 0.0841708542713568\n",
       "\\item 0.100786845230916\n",
       "\\item 0.0253589978612893\n",
       "\\item 0.0278089060566802\n",
       "\\item 0.0635111125371146\n",
       "\\item 0.0311271297509829\n",
       "\\item 0.0525981955829594\n",
       "\\item 0.0488709470845972\n",
       "\\item 0.0466812910284465\n",
       "\\item 0.113190324052944\n",
       "\\item 0.0522591697191523\n",
       "\\item 0.0868113014363552\n",
       "\\item 0.0446796002351559\n",
       "\\item 0.0320163487738419\n",
       "\\item 0.0527873211642822\n",
       "\\item 0.040147913365029\n",
       "\\item 0.0613535736875396\n",
       "\\item 0.0668397144711226\n",
       "\\item 0.075386012715713\n",
       "\\item 0.051639344262295\n",
       "\\item 0.0232209737827716\n",
       "\\item 0.0439422473320778\n",
       "\\item 0.0582079790712884\n",
       "\\item 0.0728376327769347\n",
       "\\item 0.0602941176470588\n",
       "\\item 0.0563961485557083\n",
       "\\item 0.0208062418725618\n",
       "\\item 0.0321931102712834\n",
       "\\item 0.0537261698440207\n",
       "\\item 0.069658675533365\n",
       "\\item 0.0304523063143753\n",
       "\\item 0.0704805949656751\n",
       "\\item 0.0579439252336448\n",
       "\\item 0.0535714285714287\n",
       "\\item 0.0481026214913212\n",
       "\\item 0.0287217821312485\n",
       "\\item 0.0224290741611965\n",
       "\\item 0.0293356341673857\n",
       "\\item 0.055366269165247\n",
       "\\item 0.0471615720524017\n",
       "\\item 0.048637461193515\n",
       "\\item 0.0358436627138427\n",
       "\\item 0.0399869635890768\n",
       "\\item 0.045943302510808\n",
       "\\item 0.0345349006079917\n",
       "\\item 0.0370260685441984\n",
       "\\item 0.0291353383458648\n",
       "\\item 0.0446506497738097\n",
       "\\item 0.0178068427245764\n",
       "\\item 0.0481340995132503\n",
       "\\item 0.0252932386620721\n",
       "\\item 0.120081216554486\n",
       "\\item 0.0275386968577539\n",
       "\\item 0.0416200570284932\n",
       "\\item 0.0282313858779025\n",
       "\\item 0.0920904750231369\n",
       "\\item 0.0413036786060019\n",
       "\\item 0.0386518243661102\n",
       "\\item 0.178093668392038\n",
       "\\item 0.0436520826391203\n",
       "\\item 0.0379792189179505\n",
       "\\item 0.0235935262070925\n",
       "\\item 0.0854403080499853\n",
       "\\item 0.0353932042355732\n",
       "\\item 0.0225131145938974\n",
       "\\item 0.0414916469804807\n",
       "\\end{enumerate*}\n"
      ],
      "text/markdown": [
       "1. 0.0697332779479637\n",
       "2. 0.140533333333333\n",
       "3. 0.0841708542713568\n",
       "4. 0.100786845230916\n",
       "5. 0.0253589978612893\n",
       "6. 0.0278089060566802\n",
       "7. 0.0635111125371146\n",
       "8. 0.0311271297509829\n",
       "9. 0.0525981955829594\n",
       "10. 0.0488709470845972\n",
       "11. 0.0466812910284465\n",
       "12. 0.113190324052944\n",
       "13. 0.0522591697191523\n",
       "14. 0.0868113014363552\n",
       "15. 0.0446796002351559\n",
       "16. 0.0320163487738419\n",
       "17. 0.0527873211642822\n",
       "18. 0.040147913365029\n",
       "19. 0.0613535736875396\n",
       "20. 0.0668397144711226\n",
       "21. 0.075386012715713\n",
       "22. 0.051639344262295\n",
       "23. 0.0232209737827716\n",
       "24. 0.0439422473320778\n",
       "25. 0.0582079790712884\n",
       "26. 0.0728376327769347\n",
       "27. 0.0602941176470588\n",
       "28. 0.0563961485557083\n",
       "29. 0.0208062418725618\n",
       "30. 0.0321931102712834\n",
       "31. 0.0537261698440207\n",
       "32. 0.069658675533365\n",
       "33. 0.0304523063143753\n",
       "34. 0.0704805949656751\n",
       "35. 0.0579439252336448\n",
       "36. 0.0535714285714287\n",
       "37. 0.0481026214913212\n",
       "38. 0.0287217821312485\n",
       "39. 0.0224290741611965\n",
       "40. 0.0293356341673857\n",
       "41. 0.055366269165247\n",
       "42. 0.0471615720524017\n",
       "43. 0.048637461193515\n",
       "44. 0.0358436627138427\n",
       "45. 0.0399869635890768\n",
       "46. 0.045943302510808\n",
       "47. 0.0345349006079917\n",
       "48. 0.0370260685441984\n",
       "49. 0.0291353383458648\n",
       "50. 0.0446506497738097\n",
       "51. 0.0178068427245764\n",
       "52. 0.0481340995132503\n",
       "53. 0.0252932386620721\n",
       "54. 0.120081216554486\n",
       "55. 0.0275386968577539\n",
       "56. 0.0416200570284932\n",
       "57. 0.0282313858779025\n",
       "58. 0.0920904750231369\n",
       "59. 0.0413036786060019\n",
       "60. 0.0386518243661102\n",
       "61. 0.178093668392038\n",
       "62. 0.0436520826391203\n",
       "63. 0.0379792189179505\n",
       "64. 0.0235935262070925\n",
       "65. 0.0854403080499853\n",
       "66. 0.0353932042355732\n",
       "67. 0.0225131145938974\n",
       "68. 0.0414916469804807\n",
       "\n",
       "\n"
      ],
      "text/plain": [
       " [1] 0.06973328 0.14053333 0.08417085 0.10078685 0.02535900 0.02780891\n",
       " [7] 0.06351111 0.03112713 0.05259820 0.04887095 0.04668129 0.11319032\n",
       "[13] 0.05225917 0.08681130 0.04467960 0.03201635 0.05278732 0.04014791\n",
       "[19] 0.06135357 0.06683971 0.07538601 0.05163934 0.02322097 0.04394225\n",
       "[25] 0.05820798 0.07283763 0.06029412 0.05639615 0.02080624 0.03219311\n",
       "[31] 0.05372617 0.06965868 0.03045231 0.07048059 0.05794393 0.05357143\n",
       "[37] 0.04810262 0.02872178 0.02242907 0.02933563 0.05536627 0.04716157\n",
       "[43] 0.04863746 0.03584366 0.03998696 0.04594330 0.03453490 0.03702607\n",
       "[49] 0.02913534 0.04465065 0.01780684 0.04813410 0.02529324 0.12008122\n",
       "[55] 0.02753870 0.04162006 0.02823139 0.09209048 0.04130368 0.03865182\n",
       "[61] 0.17809367 0.04365208 0.03797922 0.02359353 0.08544031 0.03539320\n",
       "[67] 0.02251311 0.04149165"
      ]
     },
     "metadata": {},
     "output_type": "display_data"
    }
   ],
   "source": [
    "maxs <- rep(0, M)\n",
    "\n",
    "for (i in 1:M){\n",
    "  maxs[i] <- max(loss[((i-1)*k+1):(i*k)])\n",
    "}\n",
    "\n",
    "maxs"
   ]
  },
  {
   "cell_type": "code",
   "execution_count": 33,
   "metadata": {
    "slideshow": {
     "slide_type": "slide"
    }
   },
   "outputs": [
    {
     "data": {
      "image/png": "[encoded data removed]",
      "text/plain": [
       "plot without title"
      ]
     },
     "metadata": {},
     "output_type": "display_data"
    }
   ],
   "source": [
    "qplot(maxs, bins=20)"
   ]
  },
  {
   "cell_type": "markdown",
   "metadata": {
    "slideshow": {
     "slide_type": "fragment"
    }
   },
   "source": [
    "В каком-то смысле это распределение $VaR$-ов, так как это распределения худших дней из блоков по $20$. То есть мы взяли блок, выделили в нем максимальную потерю (то есть $5\\%$ худших данных) и построили их распределение."
   ]
  },
  {
   "cell_type": "code",
   "execution_count": 34,
   "metadata": {
    "slideshow": {
     "slide_type": "slide"
    }
   },
   "outputs": [
    {
     "data": {
      "text/html": [
       "0.0463122967696272"
      ],
      "text/latex": [
       "0.0463122967696272"
      ],
      "text/markdown": [
       "0.0463122967696272"
      ],
      "text/plain": [
       "[1] 0.0463123"
      ]
     },
     "metadata": {},
     "output_type": "display_data"
    }
   ],
   "source": [
    "median(maxs)"
   ]
  },
  {
   "cell_type": "code",
   "execution_count": 35,
   "metadata": {
    "slideshow": {
     "slide_type": "fragment"
    }
   },
   "outputs": [
    {
     "data": {
      "text/html": [
       "<strong>95%:</strong> 0.0422055784414175"
      ],
      "text/latex": [
       "\\textbf{95\\textbackslash{}\\%:} 0.0422055784414175"
      ],
      "text/markdown": [
       "**95%:** 0.0422055784414175"
      ],
      "text/plain": [
       "       95% \n",
       "0.04220558 "
      ]
     },
     "metadata": {},
     "output_type": "display_data"
    }
   ],
   "source": [
    "quantile(loss, 1-0.05)"
   ]
  },
  {
   "cell_type": "markdown",
   "metadata": {
    "slideshow": {
     "slide_type": "slide"
    }
   },
   "source": [
    "# 3. GEV \n",
    "\n",
    "* GEV (Generalized extreme value distribution) - обобщённое распределение экстремальных значений. \n",
    "\n",
    "* Распределение опирается на три параметра: среднее $\\mu$, дисперсию $\\sigma$ и параметр формы $\\xi$. Функция распределения у GEV поприятнее, чем у ОГР: \n",
    "\n",
    "$$\n",
    "F(x) = \\begin{cases} \n",
    "exp(-(1 + \\xi \\cdot \\frac{x - \\mu}{\\sigma})^{-\\frac{1}{\\xi}}, \\xi \\ne 0 \\\\\n",
    "exp(-exp(-\\frac{x - \\mu}{\\sigma})), \\xi = 0\n",
    "\\end{cases}\n",
    "$$"
   ]
  },
  {
   "cell_type": "markdown",
   "metadata": {
    "slideshow": {
     "slide_type": "slide"
    }
   },
   "source": [
    "* В крайнестане GEV играет роль очень похожую на роль ЦПТ в среднестане. \n",
    "\n",
    "* ЦПТ говорила нам о том, как ведёт себя сумма $X_1 + \\ldots + X_n$, при $n \\to \\infty$ (если ни одна из случаынйх величин не выделяется)\n",
    "\n",
    "* [Теорема Фишера-Типпета-Гнеденко](https://en.wikipedia.org/wiki/Fisher–Tippett–Gnedenko_theorem) говорит нам о том, что максимум из $n$ случайных величин $\\cdot \\max(X_1, \\ldots, X_n)$ при $n \\to \\infty$ будет вести себя в соответствии с GEV распределением\n",
    "\n",
    "* Важно, чтобы $X_1, \\ldots, X_n \\sim iid$"
   ]
  },
  {
   "cell_type": "markdown",
   "metadata": {
    "slideshow": {
     "slide_type": "skip"
    }
   },
   "source": [
    "Когда мы говорили с вами о сходимостях случайных величин, мы даже доказали эту сходимость для частного случая. Мы посмотрели к чему будет сходится максимум из $n$ равномерных случайных величин. "
   ]
  },
  {
   "cell_type": "code",
   "execution_count": 39,
   "metadata": {
    "slideshow": {
     "slide_type": "slide"
    }
   },
   "outputs": [],
   "source": [
    "# install.packages(\"evd\")\n",
    "library(\"evd\")"
   ]
  },
  {
   "cell_type": "code",
   "execution_count": 40,
   "metadata": {
    "slideshow": {
     "slide_type": "fragment"
    }
   },
   "outputs": [
    {
     "data": {
      "text/plain": [
       "\n",
       "Call: fgev(x = maxs) \n",
       "Deviance: -327.4042 \n",
       "\n",
       "Estimates\n",
       "    loc    scale    shape  \n",
       "0.03855  0.01626  0.23726  \n",
       "\n",
       "Standard Errors\n",
       "     loc     scale     shape  \n",
       "0.002285  0.001824  0.113916  \n",
       "\n",
       "Optimization Information\n",
       "  Convergence: successful \n",
       "  Function Evaluations: 51 \n",
       "  Gradient Evaluations: 8 \n"
      ]
     },
     "metadata": {},
     "output_type": "display_data"
    }
   ],
   "source": [
    "maxs.fit <- fgev(maxs)\n",
    "maxs.fit"
   ]
  },
  {
   "cell_type": "code",
   "execution_count": 46,
   "metadata": {
    "slideshow": {
     "slide_type": "slide"
    }
   },
   "outputs": [
    {
     "data": {
      "image/png": "[encoded data removed]",
      "text/plain": [
       "Plot with title “Quantile Plot”"
      ]
     },
     "metadata": {},
     "output_type": "display_data"
    }
   ],
   "source": [
    "# which это тип картинки\n",
    "plot(maxs.fit, which=2)"
   ]
  },
  {
   "cell_type": "code",
   "execution_count": 45,
   "metadata": {
    "slideshow": {
     "slide_type": "slide"
    }
   },
   "outputs": [
    {
     "data": {
      "image/png": "[encoded data removed]",
      "text/plain": [
       "Plot with title “Density Plot”"
      ]
     },
     "metadata": {},
     "output_type": "display_data"
    }
   ],
   "source": [
    "plot(maxs.fit, which=3)"
   ]
  },
  {
   "cell_type": "markdown",
   "metadata": {
    "slideshow": {
     "slide_type": "slide"
    }
   },
   "source": [
    "## Новые меры риска\n",
    "\n",
    "* Так как мы не работаем непосредственно с нашим распределением доходностей, то и говорить прямо о $VaR$ мы не можем. Но можем ввести две новые очень естественные меры."
   ]
  },
  {
   "cell_type": "code",
   "execution_count": 48,
   "metadata": {
    "slideshow": {
     "slide_type": "slide"
    }
   },
   "outputs": [
    {
     "data": {
      "text/html": [
       "<strong>loc:</strong> 0.0385491707858208"
      ],
      "text/latex": [
       "\\textbf{loc:} 0.0385491707858208"
      ],
      "text/markdown": [
       "**loc:** 0.0385491707858208"
      ],
      "text/plain": [
       "       loc \n",
       "0.03854917 "
      ]
     },
     "metadata": {},
     "output_type": "display_data"
    }
   ],
   "source": [
    "# среднее значение \n",
    "mu <- maxs.fit$estimate[1]\n",
    "mu"
   ]
  },
  {
   "cell_type": "code",
   "execution_count": 49,
   "metadata": {
    "slideshow": {
     "slide_type": "fragment"
    }
   },
   "outputs": [
    {
     "data": {
      "text/html": [
       "<strong>scale:</strong> 0.0162599588012214"
      ],
      "text/latex": [
       "\\textbf{scale:} 0.0162599588012214"
      ],
      "text/markdown": [
       "**scale:** 0.0162599588012214"
      ],
      "text/plain": [
       "     scale \n",
       "0.01625996 "
      ]
     },
     "metadata": {},
     "output_type": "display_data"
    }
   ],
   "source": [
    "# разброс\n",
    "sigma <- maxs.fit$estimate[2]\n",
    "sigma"
   ]
  },
  {
   "cell_type": "code",
   "execution_count": 50,
   "metadata": {
    "slideshow": {
     "slide_type": "fragment"
    }
   },
   "outputs": [
    {
     "data": {
      "text/html": [
       "<strong>shape:</strong> 0.2372638062339"
      ],
      "text/latex": [
       "\\textbf{shape:} 0.2372638062339"
      ],
      "text/markdown": [
       "**shape:** 0.2372638062339"
      ],
      "text/plain": [
       "    shape \n",
       "0.2372638 "
      ]
     },
     "metadata": {},
     "output_type": "display_data"
    }
   ],
   "source": [
    "# искажение\n",
    "xi <- maxs.fit$estimate[3]\n",
    "xi"
   ]
  },
  {
   "cell_type": "markdown",
   "metadata": {
    "slideshow": {
     "slide_type": "slide"
    }
   },
   "source": [
    "__Мера 1:__ уровень, который будет превзойдён в среднем $1$ раз за $n$ блоков по $k$ наблюдений (квантиль)  \n",
    "\n",
    "$$\n",
    "q_{1-\\frac{1}{k}} = F^{-1} \\left(1-\\frac{1}{k} \\right) = \\mu + \\frac{\\sigma}{\\xi} \\cdot \\left( \\left(-\\ln \\left(1 - \\frac{1}{k} \\right) \\right)^{-\\xi} - 1 \\right)\n",
    "$$"
   ]
  },
  {
   "cell_type": "code",
   "execution_count": 52,
   "metadata": {
    "slideshow": {
     "slide_type": "fragment"
    }
   },
   "outputs": [
    {
     "data": {
      "text/html": [
       "<strong>loc:</strong> 0.0923354127692353"
      ],
      "text/latex": [
       "\\textbf{loc:} 0.0923354127692353"
      ],
      "text/markdown": [
       "**loc:** 0.0923354127692353"
      ],
      "text/plain": [
       "       loc \n",
       "0.09233541 "
      ]
     },
     "metadata": {},
     "output_type": "display_data"
    }
   ],
   "source": [
    "n <- 12\n",
    "mu + sigma/xi*((-log(1-1/n))^(-xi)-1)"
   ]
  },
  {
   "cell_type": "markdown",
   "metadata": {
    "slideshow": {
     "slide_type": "fragment"
    }
   },
   "source": [
    "То есть раз в $12$ блоков по 20 наблюдений мы будем ловить убыток в $9.2\\%$. "
   ]
  },
  {
   "cell_type": "markdown",
   "metadata": {
    "slideshow": {
     "slide_type": "slide"
    }
   },
   "source": [
    "__Мера 2:__ среднее время наступления события (математическое ожидание геометрической случайной величины).\n",
    "\n",
    "$$\n",
    "\\frac{1}{1 - F(BigLoss)}\n",
    "$$"
   ]
  },
  {
   "cell_type": "code",
   "execution_count": 53,
   "metadata": {
    "slideshow": {
     "slide_type": "fragment"
    }
   },
   "outputs": [
    {
     "data": {
      "text/html": [
       "<strong>shape:</strong> 164.984352844871"
      ],
      "text/latex": [
       "\\textbf{shape:} 164.984352844871"
      ],
      "text/markdown": [
       "**shape:** 164.984352844871"
      ],
      "text/plain": [
       "   shape \n",
       "164.9844 "
      ]
     },
     "metadata": {},
     "output_type": "display_data"
    }
   ],
   "source": [
    "BigLoss <- 0.2\n",
    "1/(1-pgev(BigLoss, loc=mu, scale=sigma, shape=xi))"
   ]
  },
  {
   "cell_type": "markdown",
   "metadata": {
    "slideshow": {
     "slide_type": "fragment"
    }
   },
   "source": [
    "То есть потери в $20\\%$ можно ожидать раз в $165$ блоков по $20$ наблюдений, то есть где-то раз в $13$ лет "
   ]
  },
  {
   "cell_type": "code",
   "execution_count": 55,
   "metadata": {
    "slideshow": {
     "slide_type": "skip"
    }
   },
   "outputs": [
    {
     "data": {
      "text/html": [
       "13.0952380952381"
      ],
      "text/latex": [
       "13.0952380952381"
      ],
      "text/markdown": [
       "13.0952380952381"
      ],
      "text/plain": [
       "[1] 13.09524"
      ]
     },
     "metadata": {},
     "output_type": "display_data"
    }
   ],
   "source": [
    "20*165/252 # 252 торговых дня в году"
   ]
  },
  {
   "cell_type": "markdown",
   "metadata": {
    "slideshow": {
     "slide_type": "slide"
    }
   },
   "source": [
    "# 4. GPD\n",
    "\n",
    "Вторая интересная идея – моделировать только хвост распределения. Обычно основная проблема заключается в том, что мы не дооцениваем то, что происходит в хвосте из-за нехватки экстремальных данных. Можно попробовать моделировать хвосты с помощью [обобщённого распределения Парето, GPD.](https://en.wikipedia.org/wiki/Generalized_Pareto_distribution)\n",
    "\n",
    "Функция распределения будет в этом случае выглядеть как \n",
    "\n",
    "$$\n",
    "F_{GPD}(x) = \\begin{cases}\n",
    "1 - \\left(1+ \\frac{\\xi(x-\\mu)}{\\sigma}\\right)^{-1/\\xi} & \\text{for }\\xi \\neq 0, \\\\\n",
    "1 - \\exp \\left(-\\frac{x-\\mu}{\\sigma}\\right) & \\text{for }\\xi = 0.\n",
    "\\end{cases}\n",
    "$$"
   ]
  },
  {
   "cell_type": "markdown",
   "metadata": {
    "slideshow": {
     "slide_type": "slide"
    }
   },
   "source": [
    "Пусть случайная величина $X$ распределена с функцией распределения $F(x)$. Нас интересуют её значения, превышающие некоторый порог $u$, то есть значения из хвоста. Интересно было бы посмотреть как именно будут распределены такие значения. Чтобы найти функцию распределения, нужно воспользоваться формулой условной вероятности: \n",
    "\n",
    "$$\n",
    "F_u(x) = P(X - U \\le x \\mid X > U) = \\frac{F(x + u) - F(u)}{1 - F(u)} \n",
    "$$\n",
    "\n",
    "[Теорема Пикандса-Балкема-де Хаана](https://en.wikipedia.org/wiki/Pickands–Balkema–de_Haan_theorem) говорит, что \n",
    "\n",
    "$$\n",
    "\\sup_{x \\in \\mathbb{R}} \\mid \\hat F_u(x) - F_{GPD}(x) \\mid \\overset{\\text{п.н.}}{\\to} 0.\n",
    "$$\n",
    "\n",
    "Иначе говоря, эта теорема разрешает нам моделировать хвосты отдельно при большом числе наблюдений и высоком значении порога. "
   ]
  },
  {
   "cell_type": "markdown",
   "metadata": {
    "slideshow": {
     "slide_type": "slide"
    }
   },
   "source": [
    "Будем моделировать худшие $10\\%$ доходностей. "
   ]
  },
  {
   "cell_type": "code",
   "execution_count": 170,
   "metadata": {
    "slideshow": {
     "slide_type": "fragment"
    }
   },
   "outputs": [
    {
     "data": {
      "text/plain": [
       "\n",
       "Call: fpot(x = loss, threshold = u, model = \"gpd\") \n",
       "Deviance: -833.0356 \n",
       "\n",
       "Threshold: 0.0308 \n",
       "Number Above: 136 \n",
       "Proportion Above: 0.1 \n",
       "\n",
       "Estimates\n",
       "  scale    shape  \n",
       "0.01435  0.18258  \n",
       "\n",
       "Standard Errors\n",
       "   scale     shape  \n",
       "0.001871  0.101231  \n",
       "\n",
       "Optimization Information\n",
       "  Convergence: successful \n",
       "  Function Evaluations: 40 \n",
       "  Gradient Evaluations: 6 \n"
      ]
     },
     "metadata": {},
     "output_type": "display_data"
    }
   ],
   "source": [
    "# Выставляем порог и находим пороговое значение\n",
    "th = 0.1\n",
    "u = quantile(loss, 1-th, names = FALSE)\n",
    "\n",
    "GPD.fit = fpot(loss, threshold = u, model = \"gpd\")\n",
    "GPD.fit"
   ]
  },
  {
   "cell_type": "code",
   "execution_count": 171,
   "metadata": {
    "slideshow": {
     "slide_type": "slide"
    }
   },
   "outputs": [
    {
     "data": {
      "image/png": "[encoded data removed]",
      "text/plain": [
       "Plot with title “Quantile Plot”"
      ]
     },
     "metadata": {},
     "output_type": "display_data"
    }
   ],
   "source": [
    "plot(GPD.fit, which = 2)"
   ]
  },
  {
   "cell_type": "code",
   "execution_count": 172,
   "metadata": {
    "slideshow": {
     "slide_type": "slide"
    }
   },
   "outputs": [
    {
     "data": {
      "image/png": "[encoded data removed]",
      "text/plain": [
       "Plot with title “Density Plot”"
      ]
     },
     "metadata": {},
     "output_type": "display_data"
    }
   ],
   "source": [
    "plot(GPD.fit, which = 3)"
   ]
  },
  {
   "cell_type": "markdown",
   "metadata": {
    "slideshow": {
     "slide_type": "slide"
    }
   },
   "source": [
    "Дело за малым, [найти VaR.](https://www.rdocumentation.org/packages/SpatialExtremes/versions/2.0-7/topics/Generalized%20Pareto%20Distribution) Формулу для его поиска можно по-честному найти из функции распределения. Либо подсмотреть [тут.](https://pdfs.semanticscholar.org/0370/690046e78892402385887d04f1d9af2e5bb5.pdf) Там же можно найти формулу для ES."
   ]
  },
  {
   "cell_type": "code",
   "execution_count": 207,
   "metadata": {
    "slideshow": {
     "slide_type": "fragment"
    }
   },
   "outputs": [
    {
     "data": {
      "text/html": [
       "<strong>scale:</strong> -0.0414312669579475"
      ],
      "text/latex": [
       "\\textbf{scale:} -0.0414312669579475"
      ],
      "text/markdown": [
       "**scale:** -0.0414312669579475"
      ],
      "text/plain": [
       "      scale \n",
       "-0.04143127 "
      ]
     },
     "metadata": {},
     "output_type": "display_data"
    }
   ],
   "source": [
    "scale <- GPD.fit$estimate[1]\n",
    "xi <- GPD.fit$estimate[2]\n",
    "\n",
    "alpha = 0.05\n",
    "VaR <- scale/xi*((th/alpha)^xi - 1) + u\n",
    "-VaR"
   ]
  },
  {
   "cell_type": "code",
   "execution_count": 209,
   "metadata": {
    "slideshow": {
     "slide_type": "fragment"
    }
   },
   "outputs": [
    {
     "data": {
      "text/html": [
       "<strong>scale:</strong> -0.0613504465063808"
      ],
      "text/latex": [
       "\\textbf{scale:} -0.0613504465063808"
      ],
      "text/markdown": [
       "**scale:** -0.0613504465063808"
      ],
      "text/plain": [
       "      scale \n",
       "-0.06135045 "
      ]
     },
     "metadata": {},
     "output_type": "display_data"
    }
   ],
   "source": [
    "ES <- (VaR + sigma - xi*u)/(1 - xi)\n",
    "-ES"
   ]
  },
  {
   "cell_type": "markdown",
   "metadata": {
    "slideshow": {
     "slide_type": "slide"
    }
   },
   "source": [
    "## Резюме\n",
    "\n",
    "* Распределение максимумов сходится к GEV, с помощью него можно попытаться смоделировать их\n",
    "* Превышение некоторого порога $u$ сходится к GPD, мы можем отсечь у распределения какой-то процент плохих случаев и попытаться замоделировать его"
   ]
  },
  {
   "cell_type": "markdown",
   "metadata": {
    "slideshow": {
     "slide_type": "slide"
    }
   },
   "source": [
    "## Авторские права и почиташки \n",
    "\n",
    "В основе этой тетрадки (вплоть до копипасты) лежит [курс моего друга, Ильи Езепова](https://rpubs.com/iezepov) по рискам и всяким другим прикольным штукам в R. Для того, чтобы успешно его освоить, надо уметь хорошо проверять гипотезы, а также немного подучить эконометрику. \n",
    "\n",
    "Вы смело можете попробовать ознакомиться с ним. \n",
    "\n",
    "* [Лекция 1 - вводная](https://rpubs.com/iezepov/e502lec1)\n",
    "* [Лекция 2 - кривая VaR, пакет ghyp и Монте-Карло](https://rpubs.com/iezepov/e502lec2)\n",
    "* [Лекция 3 - разговоры о волатильности, GARCH и ARCH модели. ](https://rpubs.com/iezepov/e502lec3)\n",
    "* [Лекция 4 - инвестируем в портфель и изучаем копулы.](https://rpubs.com/iezepov/e502lec4)\n",
    "* [Лекция 5 - много разных картинок.](https://rpubs.com/iezepov/e502lec5)\n",
    "* [Лекция 6 - моделирование хвостов и непараметрические оценки.](https://rpubs.com/iezepov/e502lec6)\n",
    "* [Лекция 7 - PCA, факторный анализ, кластеризация и многое другое.](https://rpubs.com/iezepov/e502lec7)\n",
    "* [Лекция 8 - Временные ряды и панельные данные в R](https://rpubs.com/iezepov/e502lec8) \n",
    "\n",
    "Пусть ссылки на все эти лекции лежат тут. Когда вы морально будете готовы вникнуть в них, читайте! :) Кстатит говоря, если хотите погрузится в финансовый мир не так резко, как мы это сделали сегодня, прочтите [книгу Кванты](https://yadi.sk/i/ryFfPZ8_1uTO6g) и книгу [Хулиганская экономика.](https://yadi.sk/i/dpNfMQNSQexUTg) Пацаны очень чётко в них всё расписывают. Такой научпоп сойдёт за курс введения в финансы.\n",
    "\n",
    "* Если есть желание почитать серьёзный учебник, подойдёт [вот эта книга.](https://yadi.sk/i/B2wAalCi_kNpDg) Вся 7 глава в ней описывает теорию экстремальных значений. \n",
    "* [Небольшой холивар Талеба и Пинкера о войнах и тяжёлых хвостах](https://newochem.ru/politika/neuzhto-stalo-menshe-vojn/)"
   ]
  },
  {
   "cell_type": "markdown",
   "metadata": {
    "slideshow": {
     "slide_type": "slide"
    }
   },
   "source": [
    "![](https://i.pinimg.com/736x/f6/3a/d3/f63ad308f4a2073def67c5dbb4f701bb--earth-raccoons.jpg)"
   ]
  }
 ],
 "metadata": {
  "celltoolbar": "Slideshow",
  "kernelspec": {
   "display_name": "R",
   "language": "R",
   "name": "ir"
  },
  "language_info": {
   "codemirror_mode": "r",
   "file_extension": ".r",
   "mimetype": "text/x-r-source",
   "name": "R",
   "pygments_lexer": "r",
   "version": "3.5.3"
  }
 },
 "nbformat": 4,
 "nbformat_minor": 2
}
