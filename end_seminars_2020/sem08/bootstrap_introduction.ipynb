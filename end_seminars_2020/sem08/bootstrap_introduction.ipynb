{
 "cells": [
  {
   "cell_type": "markdown",
   "metadata": {},
   "source": [
    "<center>\n",
    "<img src=\"https://raw.githubusercontent.com/FUlyankin/r_probability/master/end_seminars_2020/sem08/real_expect.png\" height=\"300\" width=\"700\"> \n",
    "</center>\n",
    "\n",
    "# <center> R для тервера и матстата. <br>  <br>  Бутсрап </center>\n",
    "\n",
    "\n",
    "---------------\n",
    "\n",
    "Данный ноутбук является конспектом по курсу «R для теории вероятностей и математической статистики» (РАНХиГС, 2020). Автор ноутбука - [вот этот парень по имени Филипп.](https://vk.com/ppilif) Если у вас для него есть деньги, слава или женщины, он от этого всего не откажется. Ноутбук распространяется на условиях лицензии [Creative Commons Attribution-Share Alike 4.0.](https://creativecommons.org/licenses/by-sa/4.0/) При использовании обязательно упоминание автора курса и аффилиации. При наличии технической возможности необходимо также указать активную гиперссылку на [страницу курса.](https://github.com/FUlyankin/r_probability) На ней можно найти другие материалы. Фрагменты кода, включенные в этот notebook, публикуются как [общественное достояние.](https://creativecommons.org/publicdomain/zero/1.0/)\n",
    "\n",
    "-----------"
   ]
  },
  {
   "cell_type": "code",
   "execution_count": 1,
   "metadata": {},
   "outputs": [],
   "source": [
    "library(\"ggplot2\")  # Пакет для красивых графиков \n",
    "library(\"grid\")     # Пакет для субплотов\n",
    "library('rio')  \n",
    "\n",
    "# Отрегулируем размер картинок, которые будут выдаваться в нашей тетрадке\n",
    "library('repr')\n",
    "options(repr.plot.width=4, repr.plot.height=3)"
   ]
  },
  {
   "cell_type": "markdown",
   "metadata": {},
   "source": [
    "# 1. Что за Бутстрап\n",
    "\n",
    "\n",
    "__Бутстрап__ - это метод оценки статистик сложных распределений. Часто возникает необходимость проверить гипотезу о какой-то очень неудобной статистике, распределение которой неизвестно или построить для неё доверительный интервал. \n",
    "\n",
    "Чтобы сделать это, надо придумать как распределение этой статистики получить. Мы с вами уже знаем два способа сделать это. \n",
    "\n",
    "Способ номер один называется параметрическим. Мы предполагаем, что генеральная совокупность имеет какое-то распределение. Мы можем даже проверить гипотезу об этом с помощью какого-нибудь критерия. После мы на основе этого распределения можем придумать адекватную случайную величину для проверки гипотезы. Именно так мы поступали раньше. Иногда такую случайную величину придумать сложно или вовсе невозможно. Например, поди придумай адекватный критерий для медианы или моды. К тому же не очень понятно из каких соображений выбирать семейство распределений для проверки гипотезы, так как про данные ничего неизвестно. Другим способом был тест отношения правдоподобий. Пришло время познакомиться с третьим методом.\n",
    "\n",
    "Он говорит следующее: давайте извлечём из генеральной совокупности какое-то количество выборок, посчитаем по ним нашу статистику, для которой доверительный интервалы мы хотим получить, а потом оценим эмпирически её выборочное распределение и на его основе получим доверительные интервалы. Этот способ применим скорее в теории, чем на практике. Если мы можем генерировать бесконечное число выборок из генеральной совокупности, то для нас незатруднительно посчитать истинное значение интересующих нас параметров.  \n",
    "\n",
    "Эти мысли подводят нас к идее бутстрапа. В нашем распоряжении есть выборка. Давайте сделаем вид, что она и есть генеральная совокупность и будем извлекать из неё с повторением элементы. На основе получившихся подвыборок мы можем оценить всё, что нашей душе угодно. Поначалу такое кажется безумием, но это реально работает. И есть даже несколько теорем, которые доказывают почему это работает и как нужно правильно делать это в сложных ситуациях. \n",
    "\n",
    "Опишем бутстрап чуть более формально. Пусть имеется выборка $X$ размера $N$. Равномерно возьмём из выборки $N$ объектов с возвращением. Это означает, что мы будем $N$ раз выбирать произвольный объект выборки (считаем, что каждый объект достаётся с одинаковой вероятность $\\frac{1}{N}$), причём каждый раз мы выбираем из всех исходных $N$ объектов. Можно представить себе мешок, из которого достают шарики: выбранный на каком-то шаге шарик возвращается обратно в мешок, и следующий выбор опять делается равновероятно из того же числа шариков. Конечно же из-за возвращения среди них окажутся повторы. \n",
    "\n",
    "Обозначим новую выборку через $X_1$. Повторяя процедуру $B$ раз, сгенерируем $B$ подвыборок $X_1, \\ldots, X_B$. Теперь мы имеем достаточно большое число выборок и можем оценивать различные статистики исходного распределения."
   ]
  },
  {
   "cell_type": "markdown",
   "metadata": {},
   "source": [
    "![](https://hsto.org/getpro/habr/post_images/198/14a/3f7/19814a3f7efaa3b7d1a3f8ab35889832.jpg)"
   ]
  },
  {
   "cell_type": "markdown",
   "metadata": {},
   "source": [
    "\n",
    "\n",
    "![](https://raw.githubusercontent.com/FUlyankin/r_probability/master/end_seminars/sem_7/7.1%20presa_AB/bootstrap.png)"
   ]
  },
  {
   "cell_type": "markdown",
   "metadata": {},
   "source": [
    "По изначальной выборке мы могли посчитать всего одну статистику. По сгенерированным подвыборкам мы можем посчитать $B$ статистик и увидеть как наша неизвестная статистика распределена. Скорее всего, вам кажется это сложным. Давайте попробуем посмотреть на конкретный пример. Возможно, станет легче. Но это неточно. "
   ]
  },
  {
   "cell_type": "markdown",
   "metadata": {},
   "source": [
    "----- \n",
    "\n",
    "### Упражнение 1\n",
    "\n",
    "У Маши есть выборка $1,2,3,4$! Постройте по ней бутсрап-распеределение для статистики $\\bar x$! \n"
   ]
  },
  {
   "cell_type": "raw",
   "metadata": {},
   "source": []
  },
  {
   "cell_type": "markdown",
   "metadata": {},
   "source": [
    "### Упражнение 2\n",
    "\n",
    "У Винни-Пуха есть $100$ песенок (кричалок, вопелок, пыхтелок и сопелок). Каждый день он выбирает и поёт одну из них равновероятно наугад. Одну и ту же песенку он может петь несколько раз. Сколько в среднем песенок оказываются неспетыми за $100$ дней?"
   ]
  },
  {
   "cell_type": "raw",
   "metadata": {},
   "source": []
  },
  {
   "cell_type": "markdown",
   "metadata": {},
   "source": [
    "----------------\n",
    "\n",
    "### Упражнение 3\n",
    "\n",
    "Verizon — основная региональная телекоммуникационная компания (Incumbent Local Exchange Carrier, ILEC) в западной \n",
    "части США. В связи с этим данная компания обязана предоставлять сервис ремонта телекоммуникационного оборудования \n",
    "не только для своих клиентов, но и для клиентов других локальных телекоммуникационых компаний (Competing Local Exchange Carriers, CLEC). При этом в случаях, когда время ремонта оборудования для клиентов других компаний существенно выше, чем для собственных, Verizon может быть оштрафована. \n",
    "\n",
    "Проверим правда ли время на ремонт своего оборудования существенно ниже чем время на ремонт других компаний."
   ]
  },
  {
   "cell_type": "code",
   "execution_count": 3,
   "metadata": {},
   "outputs": [
    {
     "data": {
      "text/html": [
       "<table>\n",
       "<thead><tr><th scope=col>Time</th><th scope=col>Group</th></tr></thead>\n",
       "<tbody>\n",
       "\t<tr><td>17.50</td><td>ILEC </td></tr>\n",
       "\t<tr><td> 2.40</td><td>ILEC </td></tr>\n",
       "\t<tr><td> 0.00</td><td>ILEC </td></tr>\n",
       "\t<tr><td> 0.65</td><td>ILEC </td></tr>\n",
       "\t<tr><td>22.23</td><td>ILEC </td></tr>\n",
       "\t<tr><td> 1.20</td><td>ILEC </td></tr>\n",
       "</tbody>\n",
       "</table>\n"
      ],
      "text/latex": [
       "\\begin{tabular}{r|ll}\n",
       " Time & Group\\\\\n",
       "\\hline\n",
       "\t 17.50 & ILEC \\\\\n",
       "\t  2.40 & ILEC \\\\\n",
       "\t  0.00 & ILEC \\\\\n",
       "\t  0.65 & ILEC \\\\\n",
       "\t 22.23 & ILEC \\\\\n",
       "\t  1.20 & ILEC \\\\\n",
       "\\end{tabular}\n"
      ],
      "text/markdown": [
       "\n",
       "| Time | Group |\n",
       "|---|---|\n",
       "| 17.50 | ILEC  |\n",
       "|  2.40 | ILEC  |\n",
       "|  0.00 | ILEC  |\n",
       "|  0.65 | ILEC  |\n",
       "| 22.23 | ILEC  |\n",
       "|  1.20 | ILEC  |\n",
       "\n"
      ],
      "text/plain": [
       "  Time  Group\n",
       "1 17.50 ILEC \n",
       "2  2.40 ILEC \n",
       "3  0.00 ILEC \n",
       "4  0.65 ILEC \n",
       "5 22.23 ILEC \n",
       "6  1.20 ILEC "
      ]
     },
     "metadata": {},
     "output_type": "display_data"
    }
   ],
   "source": [
    "library('dplyr')\n",
    "library('rio') # тут import, который сам догадается до разделителей и даже excel прочтёт\n",
    "\n",
    "df = import('verizon.csv')\n",
    "\n",
    "# ILEC - внутренний клиент \n",
    "# CLEC - внешние клиенты \n",
    "head(df)"
   ]
  },
  {
   "cell_type": "markdown",
   "metadata": {},
   "source": [
    "В выборке имеется сильный перекос в наблюдениях. "
   ]
  },
  {
   "cell_type": "code",
   "execution_count": 4,
   "metadata": {},
   "outputs": [
    {
     "data": {
      "text/html": [
       "<table>\n",
       "<thead><tr><th scope=col>Group</th><th scope=col>count</th><th scope=col>mean</th><th scope=col>median</th></tr></thead>\n",
       "<tbody>\n",
       "\t<tr><td>CLEC     </td><td>  23     </td><td>16.509130</td><td>14.33    </td></tr>\n",
       "\t<tr><td>ILEC     </td><td>1664     </td><td> 8.411611</td><td> 3.59    </td></tr>\n",
       "</tbody>\n",
       "</table>\n"
      ],
      "text/latex": [
       "\\begin{tabular}{r|llll}\n",
       " Group & count & mean & median\\\\\n",
       "\\hline\n",
       "\t CLEC      &   23      & 16.509130 & 14.33    \\\\\n",
       "\t ILEC      & 1664      &  8.411611 &  3.59    \\\\\n",
       "\\end{tabular}\n"
      ],
      "text/markdown": [
       "\n",
       "| Group | count | mean | median |\n",
       "|---|---|---|---|\n",
       "| CLEC      |   23      | 16.509130 | 14.33     |\n",
       "| ILEC      | 1664      |  8.411611 |  3.59     |\n",
       "\n"
      ],
      "text/plain": [
       "  Group count mean      median\n",
       "1 CLEC    23  16.509130 14.33 \n",
       "2 ILEC  1664   8.411611  3.59 "
      ]
     },
     "metadata": {},
     "output_type": "display_data"
    }
   ],
   "source": [
    "df %>% group_by(Group) %>% summarise(count = n(), mean = mean(Time), median = median(Time))"
   ]
  },
  {
   "cell_type": "markdown",
   "metadata": {},
   "source": [
    "В выборке есть выбросы. "
   ]
  },
  {
   "cell_type": "code",
   "execution_count": 6,
   "metadata": {},
   "outputs": [
    {
     "data": {
      "image/png": "[encoded data removed]",
      "text/plain": [
       "plot without title"
      ]
     },
     "metadata": {},
     "output_type": "display_data"
    }
   ],
   "source": [
    "qplot(df$Time, bins=20)"
   ]
  },
  {
   "cell_type": "markdown",
   "metadata": {},
   "source": [
    "Из-за этого средние будут не очень адекватной оценкой для типичного представителя выборки. Используя их, мы будем искуственно находиться на стороне компании. Поэтому гораздо уместнее сформулировать в терминах медиан, так как они нечувствительны к выбросам в отличие от средних. \n",
    "\n",
    "$$\n",
    "\\begin{aligned}\n",
    "&H_0: \\hspace{2mm} med_1 = med_2 \\\\\n",
    "&H_1: \\hspace{2mm} med_1 > med_2\n",
    "\\end{aligned}\n",
    "$$"
   ]
  },
  {
   "cell_type": "markdown",
   "metadata": {},
   "source": [
    "Беда в том, что для медиан как раз у нас нет хорошей статистики. Это весомый повод прибегнуть к бустрапу!"
   ]
  },
  {
   "cell_type": "code",
   "execution_count": 7,
   "metadata": {},
   "outputs": [
    {
     "data": {
      "text/html": [
       "<table>\n",
       "<thead><tr><th scope=col>Time</th><th scope=col>Group</th></tr></thead>\n",
       "<tbody>\n",
       "\t<tr><td>23.60</td><td>ILEC </td></tr>\n",
       "\t<tr><td> 4.03</td><td>ILEC </td></tr>\n",
       "\t<tr><td>16.87</td><td>ILEC </td></tr>\n",
       "</tbody>\n",
       "</table>\n"
      ],
      "text/latex": [
       "\\begin{tabular}{r|ll}\n",
       " Time & Group\\\\\n",
       "\\hline\n",
       "\t 23.60 & ILEC \\\\\n",
       "\t  4.03 & ILEC \\\\\n",
       "\t 16.87 & ILEC \\\\\n",
       "\\end{tabular}\n"
      ],
      "text/markdown": [
       "\n",
       "| Time | Group |\n",
       "|---|---|\n",
       "| 23.60 | ILEC  |\n",
       "|  4.03 | ILEC  |\n",
       "| 16.87 | ILEC  |\n",
       "\n"
      ],
      "text/plain": [
       "  Time  Group\n",
       "1 23.60 ILEC \n",
       "2  4.03 ILEC \n",
       "3 16.87 ILEC "
      ]
     },
     "metadata": {},
     "output_type": "display_data"
    }
   ],
   "source": [
    "df %>% sample_n(size = 3, replace=TRUE)"
   ]
  },
  {
   "cell_type": "markdown",
   "metadata": {},
   "source": [
    "Сделали подвыборку размера $3$ с повторениями, потом по ней можно что-нибудь посчитать. Например, медианы. Закодим бустрап в виде двух функций. Первая будет делать `B_sample` выборок."
   ]
  },
  {
   "cell_type": "code",
   "execution_count": 8,
   "metadata": {},
   "outputs": [],
   "source": [
    "get_bootstrap_samples <- function(data, B_sample){\n",
    "    samples = list() # лист, куда мы будем записывать выборки\n",
    "    \n",
    "    for(i in 1:B_sample){\n",
    "        # генерируем выборки с повторениями соответствующую по размерам оригинальной  \n",
    "        # и записываем её в лист\n",
    "        samples[[i]] = sample(data, size = length(data), replace=TRUE)\n",
    "        }\n",
    "    return(samples)\n",
    "    }"
   ]
  },
  {
   "cell_type": "code",
   "execution_count": null,
   "metadata": {},
   "outputs": [],
   "source": [
    "# неколько сбустрапированных выборк\n",
    "# get_bootstrap_samples(df$Time, 3)"
   ]
  },
  {
   "cell_type": "markdown",
   "metadata": {},
   "source": [
    "Вторая функция будет искать квантили сгерированого распределения. "
   ]
  },
  {
   "cell_type": "code",
   "execution_count": 9,
   "metadata": {},
   "outputs": [],
   "source": [
    "stat_intervals <- function(stat, alpha){\n",
    "    return(quantile(stat, c(alpha/2,(1-alpha/2)), name = FALSE))\n",
    "    }"
   ]
  },
  {
   "cell_type": "markdown",
   "metadata": {},
   "source": [
    "Отделим данные по внутренним и внешним клиентам друг от друга и построим доверительные интервалы для каждой из медиан. Будем бустрапировать $1000$ выборок. "
   ]
  },
  {
   "cell_type": "code",
   "execution_count": 10,
   "metadata": {},
   "outputs": [],
   "source": [
    "ilec = df %>% filter(Group == 'ILEC')\n",
    "clec = df %>% filter(Group == 'CLEC')\n",
    "\n",
    "# Делаем 1000 выборок для первой таблички и считаем по каждой медиану \n",
    "# функция lapply применяет функцию median к каждой выборке \n",
    "# команда as.numeric сделает листы векторами\n",
    "\n",
    "clec_median_scores = as.numeric(lapply(get_bootstrap_samples(clec$Time, 10000), median))\n",
    "ilec_median_scores = as.numeric(lapply(get_bootstrap_samples(ilec$Time, 10000), median))"
   ]
  },
  {
   "cell_type": "markdown",
   "metadata": {},
   "source": [
    "Смотрим на итоговые доверительный интервалы. "
   ]
  },
  {
   "cell_type": "code",
   "execution_count": 11,
   "metadata": {},
   "outputs": [
    {
     "name": "stdout",
     "output_type": "stream",
     "text": [
      "95% confidence interval for the ILEC median repair time: 3.22 3.835 \n",
      "95% confidence interval for the CLEC median repair time: 5.8 20"
     ]
    }
   ],
   "source": [
    "cat(\"95% confidence interval for the ILEC median repair time:\", stat_intervals(ilec_median_scores, 0.05),'\\n')\n",
    "cat(\"95% confidence interval for the CLEC median repair time:\", stat_intervals(clec_median_scores, 0.05))"
   ]
  },
  {
   "cell_type": "markdown",
   "metadata": {},
   "source": [
    "По аналогии найдём доверительный интервал для разности медиан. "
   ]
  },
  {
   "cell_type": "code",
   "execution_count": 12,
   "metadata": {},
   "outputs": [
    {
     "name": "stdout",
     "output_type": "stream",
     "text": [
      "95% confidence interval for the diff median repair time: 2.04 16.63"
     ]
    }
   ],
   "source": [
    "delta_median_scores = clec_median_scores - ilec_median_scores\n",
    "cat(\"95% confidence interval for the diff median repair time:\", stat_intervals(delta_median_scores, 0.05))"
   ]
  },
  {
   "cell_type": "markdown",
   "metadata": {},
   "source": [
    "Оценим вероятность того, что разность больше нуля. "
   ]
  },
  {
   "cell_type": "code",
   "execution_count": 13,
   "metadata": {},
   "outputs": [
    {
     "data": {
      "text/html": [
       "0.9983"
      ],
      "text/latex": [
       "0.9983"
      ],
      "text/markdown": [
       "0.9983"
      ],
      "text/plain": [
       "[1] 0.9983"
      ]
     },
     "metadata": {},
     "output_type": "display_data"
    }
   ],
   "source": [
    "sum(delta_median_scores > 0)/length(delta_median_scores)"
   ]
  },
  {
   "cell_type": "markdown",
   "metadata": {},
   "source": [
    "Кажется, компанию пришло время оштрафовать. Ещё один пример на бустрап мы посмотрим в тетрадке с поющими котами."
   ]
  },
  {
   "cell_type": "markdown",
   "metadata": {},
   "source": [
    "## Почиташки:\n",
    "\n",
    "* [Статья про бустрэп от Анатольева,](http://quantile.ru/03/03-SA.pdf) она немного брутальная из-за регрессий и тп. Саму статью вы не поймёте, но в конце неё есть ссылки на то, что можно почитать на более простом уровне и углубиться в тему. \n",
    "* [Годная статейка про бутстрап в R](https://moderndive.com/8-confidence-intervals.html) да и вообще книжка про статистику в R неплохая\n",
    "* [Ещё немного брутального бутстрэпа](https://yadi.sk/i/uc0ZbMuR27bvmQ) "
   ]
  },
  {
   "cell_type": "markdown",
   "metadata": {},
   "source": [
    " "
   ]
  }
 ],
 "metadata": {
  "kernelspec": {
   "display_name": "R",
   "language": "R",
   "name": "ir"
  },
  "language_info": {
   "codemirror_mode": "r",
   "file_extension": ".r",
   "mimetype": "text/x-r-source",
   "name": "R",
   "pygments_lexer": "r",
   "version": "3.5.3"
  }
 },
 "nbformat": 4,
 "nbformat_minor": 2
}
