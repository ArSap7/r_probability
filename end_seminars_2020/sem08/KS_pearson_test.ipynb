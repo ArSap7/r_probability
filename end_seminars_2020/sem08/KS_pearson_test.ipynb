{
 "cells": [
  {
   "cell_type": "markdown",
   "metadata": {},
   "source": [
    "<center>\n",
    "<img src=\"https://raw.githubusercontent.com/FUlyankin/r_probability/master/end_seminars_2019/sem_6/student_teacher_dist.png\" height=\"300\" width=\"700\"> \n",
    "</center>\n",
    "\n",
    "# <center> R для тервера и матстата. <br>  <br> Критерии согласия </center>\n",
    "\n",
    "\n",
    "---------------\n",
    "\n",
    "Данный ноутбук является конспектом по курсу «R для теории вероятностей и математической статистики» (РАНХиГС, 2020). Автор ноутбука - [вот этот парень по имени Филипп.](https://vk.com/ppilif) Если у вас для него есть деньги, слава или женщины, он от этого всего не откажется. Ноутбук распространяется на условиях лицензии [Creative Commons Attribution-Share Alike 4.0.](https://creativecommons.org/licenses/by-sa/4.0/) При использовании обязательно упоминание автора курса и аффилиации. При наличии технической возможности необходимо также указать активную гиперссылку на [страницу курса.](https://github.com/FUlyankin/r_probability) На ней можно найти другие материалы. Фрагменты кода, включенные в этот notebook, публикуются как [общественное достояние.](https://creativecommons.org/publicdomain/zero/1.0/)\n",
    "\n",
    "-----------\n",
    "\n",
    "Пришло время обсудить критерии согласия.  __Критерий согласия -__ критерий о виде неизвестного закона распределения. Критерии согласия бывают разными. Все они строятся ровно на той же мысли, что и параметрические критерии. Нужно считать расстояния. И в данной ситуации это расстояния между распределениями. "
   ]
  },
  {
   "cell_type": "code",
   "execution_count": 7,
   "metadata": {},
   "outputs": [],
   "source": [
    "library(\"ggplot2\")  # Пакет для красивых графиков \n",
    "library(\"grid\")     # Пакет для субплотов\n",
    "library(\"dplyr\")    # Куда же без пакета под таблички :) \n",
    "library(\"rio\")\n",
    "\n",
    "# Отрегулируем размер картинок, которые будут выдаваться в нашей тетрадке\n",
    "library('repr')\n",
    "options(repr.plot.width=4, repr.plot.height=3)"
   ]
  },
  {
   "cell_type": "markdown",
   "metadata": {},
   "source": [
    "# 1. Эмпирическая функция распределения \n",
    "\n",
    "Эмпирическая функция распределения это:\n",
    "\n",
    "$$\n",
    "F_n(y) = \\frac{1}{n} \\sum_{i=1}^n I_{x_i \\le y}\n",
    "$$\n",
    "\n",
    "Обычно её используют как оценку теоретической функции распределения. __Вопрос:__ какими свойствами обладает такая оценка? Можно ли для неё построить доверительный интервал? "
   ]
  },
  {
   "cell_type": "raw",
   "metadata": {},
   "source": []
  },
  {
   "cell_type": "markdown",
   "metadata": {},
   "source": [
    "### Упражнение \n",
    "\n",
    "Помните данные по угольным шахтам? Давайте построим по ним эмпирическую функцию распределения. И для каждой точке на ней построи доверительный интервал. "
   ]
  },
  {
   "cell_type": "code",
   "execution_count": 8,
   "metadata": {},
   "outputs": [
    {
     "data": {
      "text/html": [
       "<table>\n",
       "<thead><tr><th scope=col>V1</th><th scope=col>year</th><th scope=col>count</th></tr></thead>\n",
       "<tbody>\n",
       "\t<tr><td>1   </td><td>1851</td><td>4   </td></tr>\n",
       "\t<tr><td>2   </td><td>1852</td><td>5   </td></tr>\n",
       "\t<tr><td>3   </td><td>1853</td><td>4   </td></tr>\n",
       "\t<tr><td>4   </td><td>1854</td><td>1   </td></tr>\n",
       "\t<tr><td>5   </td><td>1855</td><td>0   </td></tr>\n",
       "\t<tr><td>6   </td><td>1856</td><td>4   </td></tr>\n",
       "</tbody>\n",
       "</table>\n"
      ],
      "text/latex": [
       "\\begin{tabular}{r|lll}\n",
       " V1 & year & count\\\\\n",
       "\\hline\n",
       "\t 1    & 1851 & 4   \\\\\n",
       "\t 2    & 1852 & 5   \\\\\n",
       "\t 3    & 1853 & 4   \\\\\n",
       "\t 4    & 1854 & 1   \\\\\n",
       "\t 5    & 1855 & 0   \\\\\n",
       "\t 6    & 1856 & 4   \\\\\n",
       "\\end{tabular}\n"
      ],
      "text/markdown": [
       "\n",
       "| V1 | year | count |\n",
       "|---|---|---|\n",
       "| 1    | 1851 | 4    |\n",
       "| 2    | 1852 | 5    |\n",
       "| 3    | 1853 | 4    |\n",
       "| 4    | 1854 | 1    |\n",
       "| 5    | 1855 | 0    |\n",
       "| 6    | 1856 | 4    |\n",
       "\n"
      ],
      "text/plain": [
       "  V1 year count\n",
       "1 1  1851 4    \n",
       "2 2  1852 5    \n",
       "3 3  1853 4    \n",
       "4 4  1854 1    \n",
       "5 5  1855 0    \n",
       "6 6  1856 4    "
      ]
     },
     "metadata": {},
     "output_type": "display_data"
    }
   ],
   "source": [
    "df = import('coals.txt')\n",
    "head(df)"
   ]
  },
  {
   "cell_type": "code",
   "execution_count": null,
   "metadata": {},
   "outputs": [],
   "source": [
    "# код :3"
   ]
  },
  {
   "cell_type": "raw",
   "metadata": {},
   "source": [
    "Какие-то выводы? Хз :) "
   ]
  },
  {
   "cell_type": "markdown",
   "metadata": {},
   "source": [
    "-----"
   ]
  },
  {
   "cell_type": "markdown",
   "metadata": {},
   "source": [
    "# 2. Расстояние между распределениями\n",
    "\n",
    "Для начала построим красивую картинку и попытаемся понять как можно измерить расстояние между двумя разными распределениями. "
   ]
  },
  {
   "cell_type": "code",
   "execution_count": 9,
   "metadata": {},
   "outputs": [],
   "source": [
    "n_obs = 100\n",
    "sample1 <- rnorm(n_obs, mean=10, sd=5)\n",
    "sample2 <- rnorm(n_obs, mean=1, sd=5)\n",
    "\n",
    "# создали эмпирические функции распределения на основе данных\n",
    "cdf1 <- ecdf(sample1) \n",
    "cdf2 <- ecdf(sample2) \n",
    "\n",
    "df <- data.frame(sample1 = sample1, sample2 = sample2)\n",
    "\n",
    "# находим супремум (ниже поймём зачем)\n",
    "minMax <- seq(min(sample1, sample2), max(sample1, sample2), length.out=length(sample1)) \n",
    "x0 <- minMax[which(abs(cdf1(minMax) - cdf2(minMax)) == max(abs(cdf1(minMax) - cdf2(minMax))))] \n",
    "y0 <- cdf1(x0) \n",
    "y1 <- cdf2(x0) "
   ]
  },
  {
   "cell_type": "code",
   "execution_count": 10,
   "metadata": {},
   "outputs": [
    {
     "data": {
      "image/png": "[encoded data removed]",
      "text/plain": [
       "plot without title"
      ]
     },
     "metadata": {},
     "output_type": "display_data"
    }
   ],
   "source": [
    "ggplot(df)+\n",
    "    stat_ecdf(aes(x=sample1), col='magenta') + \n",
    "    stat_ecdf(aes(x=sample2), col='blue') +\n",
    "    geom_segment(aes(x = x0[1], y = y0[1], xend = x0[1], yend = y1[1]),\n",
    "        linetype = \"dashed\", color = \"red\") + \n",
    "\n",
    "    geom_point(aes(x = x0[1] , y= y0[1]), color=\"red\", size=2) +\n",
    "    geom_point(aes(x = x0[1] , y= y1[1]), color=\"red\", size=2) +\n",
    "    xlab(\"Sample\") +\n",
    "    ylab(\"ECDF\")"
   ]
  },
  {
   "cell_type": "markdown",
   "metadata": {},
   "source": [
    "### Теорема (ЗБЧ)\n",
    "\n",
    "Как это ни странно $\\hat F_n(x) \\overset{\\text{p}}{\\to} F(x)$ для любой точки $x$ (поточечная сходимость)."
   ]
  },
  {
   "cell_type": "markdown",
   "metadata": {},
   "source": [
    "### Теорема (Гливенко-Кантелли)\n",
    "\n",
    "Пусть $X_1, \\ldots, X_n \\sim iid F$, где $F$ - какой-то закон распределения. Тогда для эмпирической функции распределения $\\hat F_n$, построенной на основе этой выборки справедливо, что \n",
    "\n",
    "$$\n",
    "\\sup_{x \\in \\mathbb{R}} \\mid \\hat F_n(x) - F(x) \\mid \\overset{\\text{п.н.}}{\\to} 0\n",
    "$$\n",
    "\n",
    "Эта теорема сильнее, чем ЗБЧ и говорит о равномерной сходимости по всем $x$, а не о сходимости в какой-то конкретной точке. "
   ]
  },
  {
   "cell_type": "markdown",
   "metadata": {},
   "source": [
    "### Теорема (Колмогорова)\n",
    "\n",
    "Пусть $X_1, \\ldots, X_n \\sim iid F$, где $F$ - какой-то __непрерывный__ закон распределения. Тогда для эмпирической функции распределения $\\hat F_n$, построенной на основе этой выборки справедливо, что \n",
    "\n",
    "$$\n",
    "\\sqrt{n} \\cdot \\sup_{x \\in \\mathbb{R}} \\mid \\hat F_n(x) - F(x) \\mid \\overset{d}{\\to} D,\n",
    "$$\n",
    "\n",
    "где функция распределения случайной величины $D$ выглядит как\n",
    "\n",
    "$$\n",
    "F_D(x) = 1 + 2 \\cdot \\sum_{i=1}^{+\\infty} (-1)^k \\cdot e^{-2k^2 x^2}.\n",
    "$$"
   ]
  },
  {
   "cell_type": "markdown",
   "metadata": {},
   "source": [
    "# 3. Критерий Колмогорова\n",
    "\n",
    "Теорема Колмогорова - наш новый союзник! Она подсказывает нам как именно будет распределён супремум между эмпирической функцией распределения и теоретической функцией распределения. Нам остаётся только найти по выборке оценку для этого супремума и посмотреть попал ли он в критическую область. \n",
    "\n",
    "__Гипотеза:__ \n",
    "\n",
    "$$\n",
    "\\begin{aligned}\n",
    "H_0 : X \\sim F_0 \\\\\n",
    "H_1 : X \\nsim F_0\n",
    "\\end{aligned}\n",
    "$$\n",
    "\n",
    "__Статистика:__ \n",
    "\n",
    "$$\n",
    "D_n (x_1, \\ldots x_n) = \\sup_{x \\in \\mathbb{R}} \\mid \\hat F_n(x) - F(x) \\mid =  \\max_{1 \\le i \\le n} \\left(\\frac{i}{n} - F(x_{(i)});  F(x_{(i)}) - \\frac{i - 1}{n} \\right)  \n",
    "$$\n",
    "\n",
    "При справедливости нулевой гипотезы распределение статистики $D_n$ одинаково для любого исходного непрерывного распределения."
   ]
  },
  {
   "cell_type": "code",
   "execution_count": 5,
   "metadata": {},
   "outputs": [
    {
     "data": {
      "text/html": [
       "<ol class=list-inline>\n",
       "\t<li>-1.66666523748178</li>\n",
       "\t<li>-1.36407022170401</li>\n",
       "\t<li>-0.92259783325719</li>\n",
       "\t<li>-0.888529337412976</li>\n",
       "\t<li>-0.744232841397572</li>\n",
       "\t<li>-0.338781217987717</li>\n",
       "\t<li>-0.28323959786509</li>\n",
       "\t<li>0.599048575493145</li>\n",
       "\t<li>0.722462284014283</li>\n",
       "\t<li>1.45243688677972</li>\n",
       "</ol>\n"
      ],
      "text/latex": [
       "\\begin{enumerate*}\n",
       "\\item -1.66666523748178\n",
       "\\item -1.36407022170401\n",
       "\\item -0.92259783325719\n",
       "\\item -0.888529337412976\n",
       "\\item -0.744232841397572\n",
       "\\item -0.338781217987717\n",
       "\\item -0.28323959786509\n",
       "\\item 0.599048575493145\n",
       "\\item 0.722462284014283\n",
       "\\item 1.45243688677972\n",
       "\\end{enumerate*}\n"
      ],
      "text/markdown": [
       "1. -1.66666523748178\n",
       "2. -1.36407022170401\n",
       "3. -0.92259783325719\n",
       "4. -0.888529337412976\n",
       "5. -0.744232841397572\n",
       "6. -0.338781217987717\n",
       "7. -0.28323959786509\n",
       "8. 0.599048575493145\n",
       "9. 0.722462284014283\n",
       "10. 1.45243688677972\n",
       "\n",
       "\n"
      ],
      "text/plain": [
       " [1] -1.6666652 -1.3640702 -0.9225978 -0.8885293 -0.7442328 -0.3387812\n",
       " [7] -0.2832396  0.5990486  0.7224623  1.4524369"
      ]
     },
     "metadata": {},
     "output_type": "display_data"
    }
   ],
   "source": [
    "x <- rnorm(10) # выборка \n",
    "x <- sort(x)   # отсортируем её \n",
    "x"
   ]
  },
  {
   "cell_type": "code",
   "execution_count": 6,
   "metadata": {},
   "outputs": [
    {
     "data": {
      "text/html": [
       "<ol class=list-inline>\n",
       "\t<li>0.0477904944442073</li>\n",
       "\t<li>0.0862727329167345</li>\n",
       "\t<li>0.178108412629866</li>\n",
       "\t<li>0.187128041078553</li>\n",
       "\t<li>0.228367811421952</li>\n",
       "\t<li>0.367387275667561</li>\n",
       "\t<li>0.388496587953404</li>\n",
       "\t<li>0.725429753735746</li>\n",
       "\t<li>0.764994847166797</li>\n",
       "\t<li>0.926809916967704</li>\n",
       "</ol>\n"
      ],
      "text/latex": [
       "\\begin{enumerate*}\n",
       "\\item 0.0477904944442073\n",
       "\\item 0.0862727329167345\n",
       "\\item 0.178108412629866\n",
       "\\item 0.187128041078553\n",
       "\\item 0.228367811421952\n",
       "\\item 0.367387275667561\n",
       "\\item 0.388496587953404\n",
       "\\item 0.725429753735746\n",
       "\\item 0.764994847166797\n",
       "\\item 0.926809916967704\n",
       "\\end{enumerate*}\n"
      ],
      "text/markdown": [
       "1. 0.0477904944442073\n",
       "2. 0.0862727329167345\n",
       "3. 0.178108412629866\n",
       "4. 0.187128041078553\n",
       "5. 0.228367811421952\n",
       "6. 0.367387275667561\n",
       "7. 0.388496587953404\n",
       "8. 0.725429753735746\n",
       "9. 0.764994847166797\n",
       "10. 0.926809916967704\n",
       "\n",
       "\n"
      ],
      "text/plain": [
       " [1] 0.04779049 0.08627273 0.17810841 0.18712804 0.22836781 0.36738728\n",
       " [7] 0.38849659 0.72542975 0.76499485 0.92680992"
      ]
     },
     "metadata": {},
     "output_type": "display_data"
    }
   ],
   "source": [
    "# значения настоящей функции распределения в соотвествующих точках\n",
    "pnorm(sort(x))"
   ]
  },
  {
   "cell_type": "code",
   "execution_count": 7,
   "metadata": {},
   "outputs": [
    {
     "data": {
      "text/html": [
       "0.311503412046596"
      ],
      "text/latex": [
       "0.311503412046596"
      ],
      "text/markdown": [
       "0.311503412046596"
      ],
      "text/plain": [
       "[1] 0.3115034"
      ]
     },
     "metadata": {},
     "output_type": "display_data"
    }
   ],
   "source": [
    "D = 0 # для наблюдаемого значения статистики\n",
    "\n",
    "# идём по всем наблюдениям по очереди\n",
    "for(i in 1:10){\n",
    "    # оценили эмпирическую функцию в текущей точке и вычли теоретическую \n",
    "    d1 = i/10 - pnorm(x[i])\n",
    "    \n",
    "    # наоборот, если знак отрицательный, -1, чтобы учесть что P(X <= x)\n",
    "    d2 = pnorm(x[i]) - (i - 1)/10\n",
    "    \n",
    "    # выбрали максимум\n",
    "    if(max(d1, d2) > D){\n",
    "        D = max(d1, d2)\n",
    "    }\n",
    "}\n",
    "\n",
    "D"
   ]
  },
  {
   "cell_type": "markdown",
   "metadata": {},
   "source": [
    "Сверимся с пакетом из R! "
   ]
  },
  {
   "cell_type": "code",
   "execution_count": 8,
   "metadata": {},
   "outputs": [
    {
     "data": {
      "text/plain": [
       "\n",
       "\tOne-sample Kolmogorov-Smirnov test\n",
       "\n",
       "data:  x\n",
       "D = 0.3115, p-value = 0.2327\n",
       "alternative hypothesis: two-sided\n"
      ]
     },
     "metadata": {},
     "output_type": "display_data"
    }
   ],
   "source": [
    "ks.test(x, \"pnorm\", mean = 0, sd = 1)"
   ]
  },
  {
   "cell_type": "markdown",
   "metadata": {},
   "source": [
    "__Другой пример.__ Сгенерируем выборку из равномерного распределения и протестируем её на нормальность."
   ]
  },
  {
   "cell_type": "code",
   "execution_count": 10,
   "metadata": {
    "scrolled": true
   },
   "outputs": [
    {
     "data": {
      "text/plain": [
       "\n",
       "\tOne-sample Kolmogorov-Smirnov test\n",
       "\n",
       "data:  x\n",
       "D = 0.075062, p-value = 2.553e-05\n",
       "alternative hypothesis: two-sided\n"
      ]
     },
     "metadata": {},
     "output_type": "display_data"
    }
   ],
   "source": [
    "x <- runif(1000)\n",
    "ks.test(x, \"pnorm\", mean = mean(x), sd = sd(x))"
   ]
  },
  {
   "cell_type": "markdown",
   "metadata": {},
   "source": [
    "$p$-value очень низкое. Гипотеза о нормальности отвергается. По аналогии можно протестировать гипотезу для любого распределения. Вот пример с экспоненциальным распределением: "
   ]
  },
  {
   "cell_type": "code",
   "execution_count": 11,
   "metadata": {},
   "outputs": [
    {
     "data": {
      "text/plain": [
       "\n",
       "\tOne-sample Kolmogorov-Smirnov test\n",
       "\n",
       "data:  x\n",
       "D = 0.026691, p-value = 0.4744\n",
       "alternative hypothesis: two-sided\n"
      ]
     },
     "metadata": {},
     "output_type": "display_data"
    }
   ],
   "source": [
    "x <- rexp(1000, rate = 2)\n",
    "ks.test(x, \"pexp\", rate = 2)"
   ]
  },
  {
   "cell_type": "markdown",
   "metadata": {},
   "source": [
    "__Ещё одно полезное свойство критерия:__ можно проверять гипотезу об однородности выборок, то есть пытаться понять из одного ли распределения они к нам пришли. Колмогоров доказал, что для этого случая распределение Колмогорова тоже подходит. В R это реализуется следующим образом: "
   ]
  },
  {
   "cell_type": "code",
   "execution_count": 13,
   "metadata": {},
   "outputs": [
    {
     "data": {
      "text/plain": [
       "\n",
       "\tTwo-sample Kolmogorov-Smirnov test\n",
       "\n",
       "data:  x and y\n",
       "D = 0.08, p-value = 0.9062\n",
       "alternative hypothesis: two-sided\n"
      ]
     },
     "metadata": {},
     "output_type": "display_data"
    }
   ],
   "source": [
    "x <- rexp(100, rate = 2)\n",
    "y <- rexp(100, rate = 2)\n",
    "ks.test(x, y)"
   ]
  },
  {
   "cell_type": "code",
   "execution_count": 14,
   "metadata": {},
   "outputs": [
    {
     "data": {
      "text/plain": [
       "\n",
       "\tTwo-sample Kolmogorov-Smirnov test\n",
       "\n",
       "data:  x and y\n",
       "D = 0.56, p-value = 4.807e-14\n",
       "alternative hypothesis: two-sided\n"
      ]
     },
     "metadata": {},
     "output_type": "display_data"
    }
   ],
   "source": [
    "x <- rexp(100, rate = 2)\n",
    "y <- rnorm(100)\n",
    "ks.test(x, y)"
   ]
  },
  {
   "cell_type": "markdown",
   "metadata": {},
   "source": [
    "> __Важно:__  Критерий работает только для непрерывных распределений! Для дискретных ситуаций обычно используют критерий Пирсона. "
   ]
  },
  {
   "cell_type": "markdown",
   "metadata": {},
   "source": [
    "# 4. Критерий Пирсона \n",
    "\n",
    "Расстояния между распределениями можно считать очень по-разному. Выше мы делали это через супремум. Критерий Пирсона предлагает делать это с помощью сверки эмпирических частот и теоретических. \n",
    "\n",
    "__Гипотеза:__ \n",
    "\n",
    "$$\n",
    "\\begin{aligned}\n",
    "H_0 : X \\sim F_0 \\\\\n",
    "H_1 : X \\nsim F_0\n",
    "\\end{aligned}\n",
    "$$\n",
    "\n",
    "\n",
    "__Статистика:__ \n",
    "\n",
    "$$\n",
    "\\sum_{j=1}^k \\frac{(v_j - n \\cdot p_j(\\hat \\theta))^2}{n \\cdot p_j(\\hat \\theta)} \\sim \\chi^2_{s - k - 1},\n",
    "$$\n",
    "\n",
    "где $\\hat \\theta$ - любая состоятельная оценка параметра, $v_j$ - частота, с которой значение $j$ встречалось в выборке, $p_j$ - теоретическая вероятность того, что выпадет значение $j$,  $s$ - число значений, которые может принимать случайная величина, $k$ - размерность вектора параметров $\\theta$, \n",
    "\n",
    "------\n",
    "\n",
    "Этот факт называется __Теоремой Пирсона.__ Её доказательства для $s=2$ и для любого $k$ есть в [Черновой на странице 125.](https://github.com/FUlyankin/r_probability/raw/master/books/Хороший%20учебник%20по%20матстату.pdf) Там вылезает многомерное нормальное распределение и матрицы. Можно доказать чуть проще, если знать один очень крутой факт: \n",
    "\n",
    "Если $\\varepsilon$ - вектор из независимых нормально распределенных случайных величин, $N(0, 1)$, а $A$ - симметричная матрица с собственными значениями $0$ и $1$, тогда случайная величина $\\varepsilon^T A \\varepsilon \\sim \\chi^2_{rank(A)}.$ Может быть когда-нибудь после карантина докажем вместе :) "
   ]
  },
  {
   "cell_type": "markdown",
   "metadata": {},
   "source": [
    "### Упражнение\n",
    "\n",
    "Бюфон подкидывал монетку $4040$ раз, чтобы убедиться, что вероятность выпадения орла действительно равна $0.5$. В итоге он получил $2048$ орла и $1992$ решки. Проверьте гипотезу о том, что данные пришли из распределения Бернулли с вероятностью $0.5$. "
   ]
  },
  {
   "cell_type": "raw",
   "metadata": {},
   "source": [
    "# решение"
   ]
  },
  {
   "cell_type": "markdown",
   "metadata": {},
   "source": [
    "Статистика не зависит от того, каким было исходное распределение.  Тест Пирсона реализован в R."
   ]
  },
  {
   "cell_type": "code",
   "execution_count": 33,
   "metadata": {},
   "outputs": [
    {
     "data": {
      "text/plain": [
       "\n",
       "\tChi-squared test for given probabilities\n",
       "\n",
       "data:  x\n",
       "X-squared = 0.77624, df = 1, p-value = 0.3783\n"
      ]
     },
     "metadata": {},
     "output_type": "display_data"
    }
   ],
   "source": [
    "x <- c(2048, 1992)\n",
    "p <- c(0.5, 0.5)\n",
    "\n",
    "chisq.test(x, p = p)"
   ]
  },
  {
   "cell_type": "code",
   "execution_count": 32,
   "metadata": {},
   "outputs": [
    {
     "data": {
      "text/plain": [
       "\n",
       "\tChi-squared test for given probabilities\n",
       "\n",
       "data:  x\n",
       "X-squared = 0.77624, df = 1, p-value = 0.3783\n"
      ]
     },
     "metadata": {},
     "output_type": "display_data"
    }
   ],
   "source": [
    "# Если удобно, можно на вход послать np\n",
    "np = c(2020, 2020)\n",
    "chisq.test(x, p = np, rescale.p = TRUE)"
   ]
  },
  {
   "cell_type": "markdown",
   "metadata": {},
   "source": [
    "> __Проблема:__ критерий не состоятелен против всех альтернатив. То есть бывают альтернативы, которые критерий друг от друга не отличает. __Критерий может различать между собой не все распределения.__\n",
    "\n",
    "Критерий можно использовать для непрерывных распределений. Для этого надо: \n",
    "\n",
    "1. Разобьём все значения, которые может принимать случайная величина на $s$ отрезков. \n",
    "2. Посчитаем с какой частотой случайная величина попадает на какой отрезок. Это оценка вероятности $P(a \\le X \\le b)$. Обозначим за $v_j$ - количество элементов, попавших в отрезок $j$. \n",
    "3. Найдём теоретические значения вероятностей попасть в соответствующие отрезки, $p_j$. \n",
    "4. Если разницы $p_j - \\frac{v_j}{n}$ окажутся не очень большими, мы на коне. Гипотезу отвергать нельзя. "
   ]
  },
  {
   "cell_type": "markdown",
   "metadata": {},
   "source": [
    "> Это плохая практика. Результат зависит от числа отрезков, на которые мы делаем разбиение. Более того, если  у альтернативной гипотезы вероятности попадания в интервалы точно такие же, как и у нелевой гипотезы, критерий не сможет различить гипотезы между собой. Из-за этого для непрерывных распределений лучше использовать тест Колмогорова-Смирнова. "
   ]
  },
  {
   "cell_type": "markdown",
   "metadata": {},
   "source": [
    "По аналогии с тестом Колмогорова, тест Пирсона можно использовать, чтобы проверять выборки на однородность. В таком случае критерий хочет получить на вход таблицу сопряжённости для двух распределений. \n",
    "\n",
    "### Упражнение \n",
    "\n",
    "Мужчин и женщин опрашивают о их политических взглядах. Правда ли, что их распределение значимо различается. "
   ]
  },
  {
   "cell_type": "code",
   "execution_count": 36,
   "metadata": {},
   "outputs": [
    {
     "data": {
      "text/plain": [
       "      party\n",
       "gender Democrat Independent Republican\n",
       "     F      762         327        468\n",
       "     M      484         239        477"
      ]
     },
     "metadata": {},
     "output_type": "display_data"
    }
   ],
   "source": [
    "M <- as.table(rbind(c(762, 327, 468), c(484, 239, 477)))\n",
    "\n",
    "dimnames(M) <- list(gender = c(\"F\", \"M\"),\n",
    "                    party = c(\"Democrat\",\"Independent\", \"Republican\"))\n",
    "\n",
    "M"
   ]
  },
  {
   "cell_type": "code",
   "execution_count": 37,
   "metadata": {},
   "outputs": [
    {
     "data": {
      "text/plain": [
       "\n",
       "\tPearson's Chi-squared test\n",
       "\n",
       "data:  M\n",
       "X-squared = 30.07, df = 2, p-value = 2.954e-07\n"
      ]
     },
     "metadata": {},
     "output_type": "display_data"
    }
   ],
   "source": [
    "chisq.test(M)"
   ]
  },
  {
   "cell_type": "markdown",
   "metadata": {},
   "source": [
    "# 5. Вместо итога. \n",
    "\n",
    "Измерять расстояния между распределениями можно очень по-разному. В течение своей жизни вы будете сталкиваться с самыми разными критериями. Здесь я приведу две модернизации критерия Колмогорова и успокоюсь.\n",
    "\n",
    "В критерии Колмогорова мы искали \n",
    "\n",
    "$$\n",
    "\\sup_{x \\in \\mathbb{R}} \\mid \\hat F_n(x) - F(x) \\mid,\n",
    "$$ \n",
    "\n",
    "то есть мерили расстояние с помощью супремума. Можно заменить супремум на какую-нибудь другую метрику, например на вот такую: \n",
    "\n",
    "$$\n",
    "\\int_{-\\infty}^{+\\infty} (\\hat F_n(x) - F(x))^2 \\cdot \\psi(F(x)) f(x) dx \n",
    "$$\n",
    "\n",
    "В этом случае мы будем смотреть на всю площадь между кривыми и, по аналогии с критерием Пирсона, более сильно штрафовать более большие расстояния между функциями. \n",
    "\n",
    "> Если взять $\\psi(F(x)) = 1$, мы получим __критерий Крамера-Мизеса.__  Из-за квадрата он более чувствителен к отклонениям в среднестане, чем критерий Колмогорова. \n",
    "\n",
    "> Если взять $\\psi(F(x)) = \\frac{1}{F(x) (1 - F(x))}$, мы получим __критерий Андерсона-Дарлинга.__   Он придаёт дополнительный, более большой вес, хвостам распределения и чётче улавливает разницу в них. \n",
    "\n",
    "На эти два критерия более пристально мы посмотрим, когда будем говорить о финансах и доходностях. "
   ]
  },
  {
   "cell_type": "markdown",
   "metadata": {},
   "source": [
    "------"
   ]
  }
 ],
 "metadata": {
  "kernelspec": {
   "display_name": "R",
   "language": "R",
   "name": "ir"
  },
  "language_info": {
   "codemirror_mode": "r",
   "file_extension": ".r",
   "mimetype": "text/x-r-source",
   "name": "R",
   "pygments_lexer": "r",
   "version": "3.5.3"
  }
 },
 "nbformat": 4,
 "nbformat_minor": 2
}
