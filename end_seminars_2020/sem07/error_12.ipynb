{
 "cells": [
  {
   "cell_type": "markdown",
   "metadata": {},
   "source": [
    "<center>\n",
    "<img src=\"https://raw.githubusercontent.com/FUlyankin/r_probability/master/end_seminars_2019/sem_6/student_teacher_dist.png\" height=\"300\" width=\"700\"> \n",
    "</center>\n",
    "\n",
    "# <center> R для тервера и матстата. <br>  <br>  Ошибки 1 и 2 рода </center>\n",
    "\n",
    "\n",
    "---------------\n",
    "\n",
    "Данный ноутбук является конспектом по курсу «R для теории вероятностей и математической статистики» (РАНХиГС, 2020). Автор ноутбука - [вот этот парень по имени Филипп.](https://vk.com/ppilif) Если у вас для него есть деньги, слава или женщины, он от этого всего не откажется. Ноутбук распространяется на условиях лицензии [Creative Commons Attribution-Share Alike 4.0.](https://creativecommons.org/licenses/by-sa/4.0/) При использовании обязательно упоминание автора курса и аффилиации. При наличии технической возможности необходимо также указать активную гиперссылку на [страницу курса.](https://github.com/FUlyankin/r_probability) На ней можно найти другие материалы. Фрагменты кода, включенные в этот notebook, публикуются как [общественное достояние.](https://creativecommons.org/publicdomain/zero/1.0/)\n",
    "\n",
    "-----------"
   ]
  },
  {
   "cell_type": "code",
   "execution_count": null,
   "metadata": {},
   "outputs": [],
   "source": [
    "library(\"ggplot2\")  # Пакет для красивых графиков \n",
    "library(\"grid\")     # Пакет для субплотов\n",
    "library('rio')  \n",
    "\n",
    "# Отрегулируем размер картинок, которые будут выдаваться в нашей тетрадке\n",
    "library('repr')\n",
    "options(repr.plot.width=4, repr.plot.height=3)"
   ]
  },
  {
   "cell_type": "markdown",
   "metadata": {},
   "source": [
    "# 1. Ошибки 1 и 2 рода"
   ]
  },
  {
   "cell_type": "markdown",
   "metadata": {},
   "source": [
    "__Задание 1:__\n",
    "\n",
    "Харви подкидывает монетку $n$ раз. Получается выборка $X_1, \\ldots, X_n$. Он хочет проверить гипотезу $H_0: p = 1$ против $H_a: p < 1$. Для этого он использует критерий \"не отвергать гипотезу $H_0$, если $\\sum_{i=1}^n X_i < n$.\n",
    "\n",
    "__а)__ Предположим, что на самом деле $p = 1$. С какой вероятностью гипотеза $H_0$ будет отвергнута? \n"
   ]
  },
  {
   "cell_type": "raw",
   "metadata": {},
   "source": [
    "# :3 "
   ]
  },
  {
   "cell_type": "markdown",
   "metadata": {},
   "source": [
    "__б)__ Пусть $ 0 < p < 1$. Выписать мощность критерия, как функцию от $n$ и $p$. "
   ]
  },
  {
   "cell_type": "raw",
   "metadata": {},
   "source": [
    "# :3 "
   ]
  },
  {
   "cell_type": "markdown",
   "metadata": {},
   "source": [
    "__Задание 2:__\n",
    "\n",
    "Величины $X_1$ и $X_2$ независимы и равномерны на отрезке $[0; a]$. Есть две гипотезы, $H_0: a = 1$\n",
    "и $H_a: a = 2$. Мальвина отвергает $H_0$ в том случае, если $X1 + X2 > 1.5$. Найдите вероятность\n",
    "ошибок первого и второго рода."
   ]
  },
  {
   "cell_type": "raw",
   "metadata": {},
   "source": [
    "# :3 "
   ]
  },
  {
   "cell_type": "markdown",
   "metadata": {},
   "source": [
    "# 2. Держи свой уровень значимости в узде! "
   ]
  },
  {
   "cell_type": "markdown",
   "metadata": {},
   "source": [
    "\n",
    "<center>\n",
    "<img src=\"https://raw.githubusercontent.com/FUlyankin/r_probability/master/end_seminars/sem_7/6.2%20presa%20-%20bootstrap%2C%20LR/losos.jpg\" width=\"600\"> \n",
    "</center>"
   ]
  },
  {
   "cell_type": "markdown",
   "metadata": {},
   "source": [
    "- В 2012 году ряд авторов получил шнобелевскую премию по нейробиологии\n",
    "\n",
    "- Нужно было протестировать аппарат МРТ, обычно для этого берут шарик с маслом и сканируют его \n",
    "\n",
    "<center>\n",
    "<img src=\"https://raw.githubusercontent.com/FUlyankin/r_probability/master/end_seminars/sem_7/6.2%20presa%20-%20bootstrap%2C%20LR/mrt.jpg\" width=\"400\"> \n",
    "</center>"
   ]
  },
  {
   "cell_type": "markdown",
   "metadata": {},
   "source": [
    "- Скучно, купили мёртвого лосося\n",
    "\n",
    "- Стали показывать ему фотки людей\n",
    "\n",
    "- Задача показать, что в голове лосося нет мозговой активности \n",
    "\n",
    "- Аппарат МРТ возвращает кучу данных. Один объект - воксель. Для исследования активности мозга в целом, надо провести множественное тестирование гипотез относительно каждого вокселя.\n",
    "\n",
    "- Оказалось, что у лосося есть рекация в мозгу на людей, написали [статью](http://prefrontal.org/files/posters/Bennett-Salmon-2009.pdf)"
   ]
  },
  {
   "cell_type": "markdown",
   "metadata": {},
   "source": [
    "## Проверка гипотезы: \n",
    "\n",
    "__Уровень значимости:__  $P(\\text{отвергнуть} H_0 \\mid H_0 \\text{верна}) = \\alpha$ \n",
    "\n",
    "__Выборка:__ $X_1, \\ldots, X_n \\sim iid \\hspace{1mm} F_X(x, \\theta)$\n",
    "\n",
    "__Нулевая гипотеза:__ $H_0 : \\theta = \\theta_0 $ \n",
    "\n",
    "__Альтернатива:__ $H_1 : \\theta \\ne \\theta_0 $ \n",
    "\n",
    "__Статистика:__ $T(X_1, \\ldots, X_n)$\n",
    "\n",
    "Если $p$-значение $< \\alpha$, гипотеза отвергается "
   ]
  },
  {
   "cell_type": "markdown",
   "metadata": {},
   "source": [
    "## Две гипотезы \n",
    "\n",
    "- Гипотеза сразу о двух параметрах \n",
    "\n",
    "- Всё усложняется: можно ошибиться в обеих гипотезах, ошибиться только в первой или только во второй\n",
    "\n",
    "- Накопление вероятности ошибки первого рода \n",
    "\n",
    "$$\n",
    "P(\\text{ошибочно отвергнуть } H_0 ) = P(\\text{ошибочно отвергнуть хотя бы одну из гипотез}) \\le \\\\\n",
    "\\le P(\\text{ошибка в первой}) + P(\\text{ошибка во второй}) = \\alpha + \\alpha = 2\\alpha\n",
    "$$"
   ]
  },
  {
   "cell_type": "markdown",
   "metadata": {},
   "source": [
    "-------------"
   ]
  },
  {
   "cell_type": "markdown",
   "metadata": {},
   "source": [
    "__Задание 3:__ \n",
    "\n",
    "Жизнь исследователя Винни-Пуха прекрасна. Наблюдений много, гипотеза о равенстве ожиданий верна, а наблюдения — нормальны. \n",
    "\n",
    "А именно, величины $X_1$, ..., $X_{n}$ независимы и нормальны $N(0;1)$, величины $Y_1$, ..., $Y_n$ независимы и нормальны $N(0;2)$. И пусть $n_x=100$ и $n_y=200$."
   ]
  },
  {
   "cell_type": "markdown",
   "metadata": {},
   "source": [
    "Винни-Пух правда этого ничего не знает, потому что у него в голове опилки, и тестирует сначала гипотезу о равенстве дисперсий двух выборок на уровне значимости $5\\%$.\n",
    "\n",
    "__а)__ Проведите $10^6$ экспериментов, то есть $10^6$ раз попробуйте за Винни-Пуха проверить гипотезу. Хорошо бы $10^8$, но оттестируйте сначала свой код на $10^6$. \n",
    "\n",
    "Постройте гистограмму распределения тестовой статистики о равенстве дисперсий. В скольки процентах случаев гипотеза о равенстве дисперсий отвергнута? "
   ]
  },
  {
   "cell_type": "code",
   "execution_count": null,
   "metadata": {},
   "outputs": [],
   "source": [
    "# :3"
   ]
  },
  {
   "cell_type": "markdown",
   "metadata": {},
   "source": [
    "__б)__ Если гипотеза о равенстве дисперсий не отвергается, то Винни использует $t$-статистику для проверки гипотезы о равенстве ожиданий при равенстве дисперсий. \n",
    "\n",
    "Для тех экспериментов, в которых гипотеза о равенстве дисперсий не отверглась, проверьте гипотезу о равенстве ожиданий на уровне значимости $5\\%$. \n",
    "\n",
    "Постройте гистограмму распределения $t$-статистики. В скольки процентах случаев гипотеза о равенстве ожиданий отвергнута?"
   ]
  },
  {
   "cell_type": "code",
   "execution_count": null,
   "metadata": {},
   "outputs": [],
   "source": [
    "# :3"
   ]
  },
  {
   "cell_type": "markdown",
   "metadata": {},
   "source": [
    "__в)__ Словами объясните, почему нехорошо сначала тестировать на равенство дисперсий, а потом на равенство средних при равных дисперсиях, если на первом шаге гипотеза $H_0$ не отверглась. "
   ]
  },
  {
   "cell_type": "code",
   "execution_count": null,
   "metadata": {},
   "outputs": [],
   "source": [
    "# :3"
   ]
  },
  {
   "cell_type": "markdown",
   "metadata": {},
   "source": [
    "-------------"
   ]
  },
  {
   "cell_type": "markdown",
   "metadata": {},
   "source": [
    "## Рецепт лечения \n",
    "\n",
    "- Будем проверять каждую из двух гипотез на уровне значимости $\\frac{\\alpha}{2}$\n",
    "\n",
    "- Если гипотез $K$, то каждую проверяем на уровне $\\frac{\\alpha}{K}$\n",
    "\n",
    "- Такой подход называется __поправкой Бонферрони__"
   ]
  },
  {
   "cell_type": "markdown",
   "metadata": {},
   "source": [
    "## Разрешение парадокса о лососе\n",
    "\n",
    "- Если ввести поправку Бонферрони, мёртвый лосось остаётся мёртвым\n",
    "\n",
    "- Реальный вклад в науку, анализ работ по нйробиологии до 2010 года показал, что окло 40% не используют поправку при множественном тестировании гипотез\n",
    "\n",
    "- После публикации количество статей, где его не используют упало до 10%"
   ]
  },
  {
   "cell_type": "markdown",
   "metadata": {},
   "source": [
    "__Задание 4:__  \n",
    "\n",
    "Говорят, Джордж Р.Р. Мартин, автор цикла \"Песнь Льда и Пламени\", истребляет Старков: чаще убивает персонажей, относящихся к этому дому, чем персонажей других домов. В таблице ниже приведено количество персонажей, относящихся к тому или иному дому, упомянутых за первые $4$ книги, а так же количество погибших персонажей.\n",
    "\n",
    "| Дом | Упомянутые персонажи | Погибшие персонажи |\n",
    "|-----|---------------------|------|\n",
    "|House Stark\t| 72 | 18 |\n",
    "|House Lannister | 49 | 11 |\n",
    "|House Greyjoy | 41 | 12 |\n",
    "|Night's Watch |105 | 41 |\n",
    "\n",
    "\n",
    "Данные взяты из [датасета по ссылке.](https://www.kaggle.com/mylesoneill/game-of-thrones) Нужно проверить гипотезу об этом на $5\\%$ уровне значимости. "
   ]
  },
  {
   "cell_type": "markdown",
   "metadata": {},
   "source": [
    "### Формализация задачи:\n",
    "\n",
    "Нам нужно проверить гипотезу о том, что доля смертей среди старков совпадает со всеми остальными долями против альтернативы, что хотя бы в одной из ситуаций смертность в доме Старков больше:\n",
    "\n",
    "\\begin{equation*}\n",
    "\\begin{aligned} \n",
    "H_0: p_1 = p_2 \\\\\n",
    "H_1: p_1 > p_2 \n",
    "\\end{aligned}\n",
    "\\end{equation*}\n",
    "\n",
    "Протестируем все гипотезы без коррекции на множественное тестирование, а потом введём её. "
   ]
  },
  {
   "cell_type": "code",
   "execution_count": 1,
   "metadata": {},
   "outputs": [],
   "source": [
    "n_st = 72 \n",
    "m_st = 18\n",
    "\n",
    "n_lan = 49\n",
    "m_lan = 11\n",
    "\n",
    "n_gr = 41\n",
    "m_gr = 12 \n",
    "\n",
    "n_nw = 105\n",
    "m_nw = 41 \n",
    "\n",
    "alpha = 0.05"
   ]
  },
  {
   "cell_type": "markdown",
   "metadata": {},
   "source": [
    "Закодим тест для проверки гипотезы о равенстве долей в виде двух функций. Одна будет считать значение статистики, вторая находить `p_value`. "
   ]
  },
  {
   "cell_type": "code",
   "execution_count": 2,
   "metadata": {},
   "outputs": [],
   "source": [
    "proportions_diff_zstat = function(n1, m1, n2, m2){ \n",
    "    p1 = m1/n1\n",
    "    p2 = m2/n2\n",
    "    P = (p1*n1 + p2*n2)/(n1 + n2)\n",
    "    z_stat = (p1 - p2)/sqrt(P * (1-P) * (1/n1 + 1/n2))\n",
    "    return(z_stat)\n",
    "}\n",
    "\n",
    "proportions_diff_ztest = function(z_stat, alternative = 'two-sided'){\n",
    "    if(alternative == 'two-sided'){\n",
    "        return(2 * (1 - pnorm(np.abs(z_stat))))\n",
    "    }\n",
    "    \n",
    "    if(alternative == 'less'){\n",
    "        return(pnorm(z_stat))\n",
    "    }\n",
    "    \n",
    "    if(alternative == 'greater'){\n",
    "        return(1 - pnorm(z_stat))\n",
    "    }\n",
    "}"
   ]
  },
  {
   "cell_type": "markdown",
   "metadata": {},
   "source": [
    "Проверяем три гипотезы!"
   ]
  },
  {
   "cell_type": "code",
   "execution_count": 4,
   "metadata": {},
   "outputs": [
    {
     "data": {
      "text/html": [
       "0.689356939101605"
      ],
      "text/latex": [
       "0.689356939101605"
      ],
      "text/markdown": [
       "0.689356939101605"
      ],
      "text/plain": [
       "[1] 0.6893569"
      ]
     },
     "metadata": {},
     "output_type": "display_data"
    },
    {
     "data": {
      "text/html": [
       "0.373467127205706"
      ],
      "text/latex": [
       "0.373467127205706"
      ],
      "text/markdown": [
       "0.373467127205706"
      ],
      "text/plain": [
       "[1] 0.3734671"
      ]
     },
     "metadata": {},
     "output_type": "display_data"
    },
    {
     "data": {
      "text/html": [
       "0.974264141304402"
      ],
      "text/latex": [
       "0.974264141304402"
      ],
      "text/markdown": [
       "0.974264141304402"
      ],
      "text/plain": [
       "[1] 0.9742641"
      ]
     },
     "metadata": {},
     "output_type": "display_data"
    }
   ],
   "source": [
    "# Для всех трёх случаев гипотеза о рпвенстве долей не отвергается. \n",
    "proportions_diff_ztest(proportions_diff_zstat(n_st, m_st, n_gr, m_gr),'greater')\n",
    "\n",
    "proportions_diff_ztest(proportions_diff_zstat(n_st, m_st, n_lan, m_lan),'greater')\n",
    "\n",
    "proportions_diff_ztest(proportions_diff_zstat(n_st, m_st, n_nw, m_nw),'greater')"
   ]
  },
  {
   "cell_type": "markdown",
   "metadata": {},
   "source": [
    "Чтобы ввести коррекцию Бонферони, будем сравнивать с $\\frac{\\alpha}{3}$. "
   ]
  },
  {
   "cell_type": "code",
   "execution_count": 3,
   "metadata": {},
   "outputs": [
    {
     "data": {
      "text/html": [
       "<ol class=list-inline>\n",
       "\t<li>TRUE</li>\n",
       "\t<li>TRUE</li>\n",
       "\t<li>TRUE</li>\n",
       "</ol>\n"
      ],
      "text/latex": [
       "\\begin{enumerate*}\n",
       "\\item TRUE\n",
       "\\item TRUE\n",
       "\\item TRUE\n",
       "\\end{enumerate*}\n"
      ],
      "text/markdown": [
       "1. TRUE\n",
       "2. TRUE\n",
       "3. TRUE\n",
       "\n",
       "\n"
      ],
      "text/plain": [
       "[1] TRUE TRUE TRUE"
      ]
     },
     "metadata": {},
     "output_type": "display_data"
    }
   ],
   "source": [
    "pvalues = rep(0,3)\n",
    "pvalues[1] = proportions_diff_ztest(proportions_diff_zstat(n_st, m_st, n_gr, m_gr),'greater')\n",
    "pvalues[2] = proportions_diff_ztest(proportions_diff_zstat(n_st, m_st, n_lan, m_lan),'greater')\n",
    "pvalues[3] = proportions_diff_ztest(proportions_diff_zstat(n_st, m_st, n_nw, m_nw),'greater')\n",
    "pvalues > 0.05/3 # не отвергается "
   ]
  },
  {
   "cell_type": "markdown",
   "metadata": {},
   "source": [
    "В чём минус такой поправки? Выше мы выписали неравенство \n",
    "\n",
    "$$\n",
    "P(\\text{ошибочно отвергнуть } H_0 ) = P(\\text{ошибочно отвергнуть хотя бы одну из гипотез}) \\le \\\\\n",
    "\\le P(\\text{ошибка в первой}) + P(\\text{ошибка во второй}) = \\alpha + \\alpha = 2\\alpha.\n",
    "$$\n",
    "\n",
    "В нём фигурировало две гипотезы. Если бы мы захотели бы по-честному выписать равенство, нужно было бы по формуле включений-исключений отнять вероятность пересечения событий. Если гипотез нужно проверить очень много, формула включений-исключений получается огромной. Мы в нашем неравенстве пользуемся только первым её членом. Получается, что реальный уровень значимости, на котором мы проверяем гипотезу оказывается намного меньше, чем заявленный нами $\\alpha$. В идеале нам бы хотелось, чтобы вероятность совершить хотя бы одну ошибку первого рода была в точности равна $\\alpha$.\n",
    "\n",
    "__Ещё раз, ещё раз:__ При использовании метода Бонферрони эта вероятность ограничивается гораздо более низкой величиной, чем$\\alpha$. Это плохо, потому что перестраховываясь в отношении ошибки первого рода, мы неизбежно совершаем больше ошибок второго рода, то есть мощность такой статистической процедуры снижается."
   ]
  },
  {
   "cell_type": "markdown",
   "metadata": {},
   "source": [
    "## Другие поправки \n",
    "\n",
    "- Поправку Бонферрони очень просто применять, но у такой процедуры низкая мощность \n",
    "\n",
    "- Поправка Бонферрони берёт $\\alpha_i$ одинаковыми\n",
    "\n",
    "- Можно улучшить процедуру, если брать $\\alpha_i$ разными "
   ]
  },
  {
   "cell_type": "markdown",
   "metadata": {},
   "source": [
    "## Нисходящие методы \n",
    "\n",
    "- Отсортируем полученные p-значения \n",
    "\n",
    "$$\n",
    "p_{(1)} \\le p_{(2)} \\le \\ldots \\le p_{(m)}\n",
    "$$\n",
    "- Если $p_{(1)} \\ge \\alpha_1$, не отвергаем все нулевые гипотезы, иначе отвергаем $H_{(1)}$ и продолжаем \n",
    "\n",
    "- Если $p_{(2)} \\ge \\alpha_2$, не отвергаем все нулевые гипотезы, иначе отвергаем $H_{(2)}$ и продолжаем \n",
    "\n",
    "- Делаем так, пока не закончатся гипотезы\n",
    "\n",
    "- Нисходящая процедура, так как движемся по убыванию значимости"
   ]
  },
  {
   "cell_type": "markdown",
   "metadata": {},
   "source": [
    "## Метод Холма \n",
    "\n",
    "Если взять уровни значимости \n",
    "\n",
    "$$\\alpha_1 = \\frac{\\alpha}{m}, \\alpha_2 = \\frac{\\alpha}{m-1}, \\ldots, \\alpha_i = \\frac{\\alpha}{m-i+1}, \\ldots, \\alpha_m = \\alpha$$ \n",
    "мы получим __метод холма.__ "
   ]
  },
  {
   "cell_type": "code",
   "execution_count": 5,
   "metadata": {},
   "outputs": [
    {
     "data": {
      "text/html": [
       "<ol class=list-inline>\n",
       "\t<li>0.373467127205706</li>\n",
       "\t<li>0.689356939101605</li>\n",
       "\t<li>0.974264141304402</li>\n",
       "</ol>\n"
      ],
      "text/latex": [
       "\\begin{enumerate*}\n",
       "\\item 0.373467127205706\n",
       "\\item 0.689356939101605\n",
       "\\item 0.974264141304402\n",
       "\\end{enumerate*}\n"
      ],
      "text/markdown": [
       "1. 0.373467127205706\n",
       "2. 0.689356939101605\n",
       "3. 0.974264141304402\n",
       "\n",
       "\n"
      ],
      "text/plain": [
       "[1] 0.3734671 0.6893569 0.9742641"
      ]
     },
     "metadata": {},
     "output_type": "display_data"
    }
   ],
   "source": [
    "sort(pvalues)"
   ]
  },
  {
   "cell_type": "code",
   "execution_count": 6,
   "metadata": {},
   "outputs": [
    {
     "data": {
      "text/html": [
       "<ol class=list-inline>\n",
       "\t<li>3</li>\n",
       "\t<li>2</li>\n",
       "\t<li>1</li>\n",
       "</ol>\n"
      ],
      "text/latex": [
       "\\begin{enumerate*}\n",
       "\\item 3\n",
       "\\item 2\n",
       "\\item 1\n",
       "\\end{enumerate*}\n"
      ],
      "text/markdown": [
       "1. 3\n",
       "2. 2\n",
       "3. 1\n",
       "\n",
       "\n"
      ],
      "text/plain": [
       "[1] 3 2 1"
      ]
     },
     "metadata": {},
     "output_type": "display_data"
    },
    {
     "data": {
      "text/html": [
       "<ol class=list-inline>\n",
       "\t<li>0.0166666666666667</li>\n",
       "\t<li>0.025</li>\n",
       "\t<li>0.05</li>\n",
       "</ol>\n"
      ],
      "text/latex": [
       "\\begin{enumerate*}\n",
       "\\item 0.0166666666666667\n",
       "\\item 0.025\n",
       "\\item 0.05\n",
       "\\end{enumerate*}\n"
      ],
      "text/markdown": [
       "1. 0.0166666666666667\n",
       "2. 0.025\n",
       "3. 0.05\n",
       "\n",
       "\n"
      ],
      "text/plain": [
       "[1] 0.01666667 0.02500000 0.05000000"
      ]
     },
     "metadata": {},
     "output_type": "display_data"
    }
   ],
   "source": [
    "seq(3,1,by=-1)\n",
    "alpha/seq(3,1,by=-1)"
   ]
  },
  {
   "cell_type": "code",
   "execution_count": 7,
   "metadata": {},
   "outputs": [
    {
     "data": {
      "text/html": [
       "<ol class=list-inline>\n",
       "\t<li>TRUE</li>\n",
       "\t<li>TRUE</li>\n",
       "\t<li>TRUE</li>\n",
       "</ol>\n"
      ],
      "text/latex": [
       "\\begin{enumerate*}\n",
       "\\item TRUE\n",
       "\\item TRUE\n",
       "\\item TRUE\n",
       "\\end{enumerate*}\n"
      ],
      "text/markdown": [
       "1. TRUE\n",
       "2. TRUE\n",
       "3. TRUE\n",
       "\n",
       "\n"
      ],
      "text/plain": [
       "[1] TRUE TRUE TRUE"
      ]
     },
     "metadata": {},
     "output_type": "display_data"
    }
   ],
   "source": [
    "sort(pvalues) > alpha/seq(3,1,by=-1) # гипотеза не отвергается "
   ]
  },
  {
   "cell_type": "markdown",
   "metadata": {},
   "source": [
    "## Восходящие методы \n",
    "\n",
    "- В поправках выше мы контролировали вероятность групповой ошибки, то есть вероятность совершить хотя бы одну ошибку первого рода \n",
    "\n",
    "- Когда проверяется слишком большое количество гипотез, можно допустить какое-то число ошибок первого рода ради повышения мощности процедуры, это позволит отвергнуть больше неверных гипотез \n"
   ]
  },
  {
   "cell_type": "markdown",
   "metadata": {},
   "source": [
    "## Восходящие vs нисходящие\n",
    "\n",
    "| $\\mbox{ }$                 | число верных $H_i$ | число неверных $H_i$ |\n",
    "|----------------------------|--------------------|----------------------|\n",
    "|число не отвергнутых $H_i$  |    U               |   T                  |\n",
    "|число отвернутых $H_i$      |    V               |   S                  |\n",
    "\n",
    "* Нисходящие процедуры минимизируют $$P(V > 0)$$ \n",
    "* Восходящие процедуры минимизируют долю ложных отклонений \n",
    "\n",
    "$$E \\left(\\frac{V}{\\max(V + S, 1)} \\right)$$"
   ]
  },
  {
   "cell_type": "markdown",
   "metadata": {},
   "source": [
    "## Восходящие методы \n",
    "\n",
    "- Отсортируем полученные p-значения \n",
    "\n",
    "$$\n",
    "p_{(1)} \\le p_{(2)} \\le \\ldots \\le p_{(m)}\n",
    "$$\n",
    "\n",
    "- Если $p_{(m)} \\le \\alpha_m$, тогда все нулевые гипотезы отвергаются, иначе $H_m$ не отвергается и процедура продолжается\n",
    "\n",
    "- Если $p_{(m-1)} \\le \\alpha_{m-1}$, тогда все оставшиеся гипотезы отвергаются, иначе $H_{m-1}$ тоже не отвергаетмя и мы продолжаем процедуру\n",
    "\n",
    "- Делаем так, пока не закончатся гипотезы\n",
    "\n",
    "- Восходящая процедура, так как движемся по возростанию значимости, она помогает отвергать больше гипотез"
   ]
  },
  {
   "cell_type": "markdown",
   "metadata": {},
   "source": [
    "Если для одних и тех же значений $\\alpha_i$ построить восходящую и нисходящую процедуры, то восходящая процедура всегда будет отвергать не меньше гипотез, чем нисходящая."
   ]
  },
  {
   "cell_type": "markdown",
   "metadata": {},
   "source": [
    "## Метод Бенджамини-Хохберга\n",
    "\n",
    "Если взять уровни значимости \n",
    "\n",
    "$$\\alpha_1 = \\frac{\\alpha}{m}, \\ldots, \\alpha_i = \\frac{i \\cdot \\alpha}{m}, \\ldots, \\alpha_m = \\alpha$$ \n",
    "мы получим __метод Бенджамини-Хохберга.__  Тут в отличие от метода Холма уровни значимости возрастают по Гиперболе, а не линейно. "
   ]
  },
  {
   "cell_type": "markdown",
   "metadata": {},
   "source": [
    "## Встроенная в R функция\n",
    " \n",
    "В R есть [встроенная функция,](https://stat.ethz.ch/R-manual/R-devel/library/stats/html/p.adjust.html) позвоялющая сделать коррекцию на множественное тестирование гипотез"
   ]
  },
  {
   "cell_type": "code",
   "execution_count": 8,
   "metadata": {},
   "outputs": [
    {
     "data": {
      "text/html": [
       "<ol class=list-inline>\n",
       "\t<li>0.03</li>\n",
       "\t<li>0.06</li>\n",
       "\t<li>0.21</li>\n",
       "</ol>\n"
      ],
      "text/latex": [
       "\\begin{enumerate*}\n",
       "\\item 0.03\n",
       "\\item 0.06\n",
       "\\item 0.21\n",
       "\\end{enumerate*}\n"
      ],
      "text/markdown": [
       "1. 0.03\n",
       "2. 0.06\n",
       "3. 0.21\n",
       "\n",
       "\n"
      ],
      "text/plain": [
       "[1] 0.03 0.06 0.21"
      ]
     },
     "metadata": {},
     "output_type": "display_data"
    }
   ],
   "source": [
    "p.adjust(c(0.01,0.02,0.07), \"bonferroni\")"
   ]
  },
  {
   "cell_type": "code",
   "execution_count": 9,
   "metadata": {},
   "outputs": [
    {
     "data": {
      "text/html": [
       "<ol class=list-inline>\n",
       "\t<li>0.03</li>\n",
       "\t<li>0.04</li>\n",
       "\t<li>0.07</li>\n",
       "</ol>\n"
      ],
      "text/latex": [
       "\\begin{enumerate*}\n",
       "\\item 0.03\n",
       "\\item 0.04\n",
       "\\item 0.07\n",
       "\\end{enumerate*}\n"
      ],
      "text/markdown": [
       "1. 0.03\n",
       "2. 0.04\n",
       "3. 0.07\n",
       "\n",
       "\n"
      ],
      "text/plain": [
       "[1] 0.03 0.04 0.07"
      ]
     },
     "metadata": {},
     "output_type": "display_data"
    }
   ],
   "source": [
    "p.adjust(c(0.01,0.02,0.07), \"holm\")"
   ]
  },
  {
   "cell_type": "code",
   "execution_count": 10,
   "metadata": {},
   "outputs": [
    {
     "data": {
      "text/html": [
       "<ol class=list-inline>\n",
       "\t<li>0.03</li>\n",
       "\t<li>0.03</li>\n",
       "\t<li>0.03</li>\n",
       "</ol>\n"
      ],
      "text/latex": [
       "\\begin{enumerate*}\n",
       "\\item 0.03\n",
       "\\item 0.03\n",
       "\\item 0.03\n",
       "\\end{enumerate*}\n"
      ],
      "text/markdown": [
       "1. 0.03\n",
       "2. 0.03\n",
       "3. 0.03\n",
       "\n",
       "\n"
      ],
      "text/plain": [
       "[1] 0.03 0.03 0.03"
      ]
     },
     "metadata": {},
     "output_type": "display_data"
    }
   ],
   "source": [
    "p.adjust(c(0.01,0.02,0.03), \"hochberg\")"
   ]
  },
  {
   "cell_type": "markdown",
   "metadata": {},
   "source": [
    "* В пакете есть и другие методы коррекции"
   ]
  },
  {
   "cell_type": "markdown",
   "metadata": {},
   "source": [
    "  "
   ]
  }
 ],
 "metadata": {
  "kernelspec": {
   "display_name": "R",
   "language": "R",
   "name": "ir"
  },
  "language_info": {
   "codemirror_mode": "r",
   "file_extension": ".r",
   "mimetype": "text/x-r-source",
   "name": "R",
   "pygments_lexer": "r",
   "version": "3.5.3"
  }
 },
 "nbformat": 4,
 "nbformat_minor": 2
}
