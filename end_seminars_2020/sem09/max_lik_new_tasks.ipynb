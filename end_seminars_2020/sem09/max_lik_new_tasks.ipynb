{
 "cells": [
  {
   "cell_type": "markdown",
   "metadata": {},
   "source": [
    "<center>\n",
    "\n",
    "# R для тервера и матстата\n",
    "## Дайте мне таблетки от жадности! И побольше, побольше!\n",
    "\n",
    "<br>\n",
    "\n",
    "<center>\n",
    "<img src=\"https://cs4.pikabu.ru/post_img/2016/08/12/8/1471008417115067244.jpg\" height=\"200\" width=\"450\"> \n",
    "    "
   ]
  },
  {
   "cell_type": "markdown",
   "metadata": {},
   "source": [
    "# 1. Многомерное нормальное распределение"
   ]
  },
  {
   "cell_type": "raw",
   "metadata": {},
   "source": [
    "# Тут будет длинный, но простой рассказ про многомерное нормальное, пристегнитесь! "
   ]
  },
  {
   "cell_type": "markdown",
   "metadata": {},
   "source": [
    "# 2. Задачки на правдоподобие  "
   ]
  },
  {
   "cell_type": "raw",
   "metadata": {},
   "source": [
    "# Тут смотрим презу про правдоподобие и M&M's"
   ]
  },
  {
   "cell_type": "markdown",
   "metadata": {},
   "source": [
    "## Задаченька 1 (о призраках)\n",
    "\n",
    "<center>\n",
    "<img src=\"https://pbs.twimg.com/media/DqWmCg9X4AAkl0n.jpg\" height=\"200\" width=\"350\"> \n",
    "</center>\n",
    "\n",
    "Фрекен Бок видит призраков! У нас даже есть данные о числе призраков, которых она видела в течение недели: "
   ]
  },
  {
   "cell_type": "code",
   "execution_count": 3,
   "metadata": {},
   "outputs": [],
   "source": [
    "ghosts =  c(1, 2, 0, 0, 2, 0)"
   ]
  },
  {
   "cell_type": "markdown",
   "metadata": {},
   "source": [
    "Предположим, что количество привидений имеет пуассоновское распределение с параметром $\\lambda$. \n",
    "\n",
    "__а)__ Оцените $\\lambda$ с помощью ММП:"
   ]
  },
  {
   "cell_type": "raw",
   "metadata": {},
   "source": [
    "# Выписываем руками"
   ]
  },
  {
   "cell_type": "markdown",
   "metadata": {},
   "source": [
    "Чтобы гарантировать положительность параметра $\\lambda$, можно внутри функции оценивать $\\ln \\lambda$. Правда в плане дисперсий это приведёт к кое-каким проблемам :) "
   ]
  },
  {
   "cell_type": "code",
   "execution_count": null,
   "metadata": {},
   "outputs": [],
   "source": [
    "# вбиваем в компухтер"
   ]
  },
  {
   "cell_type": "markdown",
   "metadata": {},
   "source": [
    "__б)__ Нарисуйте получившийся экстремум и функцию правдоподобия на картинке."
   ]
  },
  {
   "cell_type": "code",
   "execution_count": null,
   "metadata": {},
   "outputs": [],
   "source": [
    "# вбиваем в компухтер"
   ]
  },
  {
   "cell_type": "markdown",
   "metadata": {},
   "source": [
    "__в)__ Постройте для параметра $\\lambda$  $80\\%$ доверительный интервал."
   ]
  },
  {
   "cell_type": "code",
   "execution_count": null,
   "metadata": {},
   "outputs": [],
   "source": [
    "# вбиваем в компухтер"
   ]
  },
  {
   "cell_type": "markdown",
   "metadata": {},
   "source": [
    "__г)__ С помощью теста отношения правдоподобий проверьте гипотезу о том, что $\\lambda = 1$. "
   ]
  },
  {
   "cell_type": "code",
   "execution_count": 4,
   "metadata": {},
   "outputs": [],
   "source": [
    "# Тут я нагло пойду в прошлогоднюю тетрадку и сопру из неё кусок текста :) "
   ]
  },
  {
   "cell_type": "code",
   "execution_count": null,
   "metadata": {},
   "outputs": [],
   "source": []
  },
  {
   "cell_type": "markdown",
   "metadata": {},
   "source": [
    "--------------"
   ]
  },
  {
   "cell_type": "markdown",
   "metadata": {},
   "source": [
    "## Задаченька 2 (о пользе алкоголя)\n",
    "\n",
    "[Как известно](https://www.livelib.ru/quote/305456-malysh-i-karlson-kotoryj-zhivet-na-kryshe-astrid-lindgren), Фрекен Бок пьёт коньяк по утрам.\n",
    "\n",
    "<center>\n",
    "<img src=\"http://semyarf.com/UPLOAD/2016/01/21/frekenbok-216_700_0.jpg\" height=\"200\" width=\"350\"> \n",
    "</center>\n",
    "\n",
    "А у нас даже есть дневные данные (в граммах):"
   ]
  },
  {
   "cell_type": "code",
   "execution_count": 1,
   "metadata": {},
   "outputs": [],
   "source": [
    "x = c(3.2, 7.9, 5.4, 4.9, 6.2, 4.3)"
   ]
  },
  {
   "cell_type": "markdown",
   "metadata": {},
   "source": [
    "__а)__ Предполагая, что $y_i$ независимы и нормальны $N(\\mu, \\sigma^2)$ выпишите функцию правдоподобия."
   ]
  },
  {
   "cell_type": "raw",
   "metadata": {},
   "source": [
    "# Руками!"
   ]
  },
  {
   "cell_type": "markdown",
   "metadata": {},
   "source": [
    "Чтобы гарантировать положительность параметра $\\sigma^2$ функция у нас будет зависеть от вектора параметров $\\theta$, причем $\\theta_1 = \\mu$, а $\\theta_2 = \\ln \\sigma^2$."
   ]
  },
  {
   "cell_type": "code",
   "execution_count": null,
   "metadata": {},
   "outputs": [],
   "source": [
    "# На компе"
   ]
  },
  {
   "cell_type": "markdown",
   "metadata": {},
   "source": [
    "__б)__ Найдите экстремум функции правдоподобия."
   ]
  },
  {
   "cell_type": "code",
   "execution_count": null,
   "metadata": {},
   "outputs": [],
   "source": [
    "# На компе"
   ]
  },
  {
   "cell_type": "markdown",
   "metadata": {},
   "source": [
    "__в)__ Как выглядит ковариационная матрица для оценок максимального правдоподобия? Постройте $80\\%$ доверительный интервал для $\\hat \\mu$."
   ]
  },
  {
   "cell_type": "code",
   "execution_count": null,
   "metadata": {},
   "outputs": [],
   "source": [
    "# На компе"
   ]
  },
  {
   "cell_type": "markdown",
   "metadata": {},
   "source": [
    "__г)__ Проверьте гипотезу о том, что $\\mu = 5$ с помощью теста отношения правдоподобий. "
   ]
  },
  {
   "cell_type": "code",
   "execution_count": null,
   "metadata": {},
   "outputs": [],
   "source": [
    "# На компе"
   ]
  },
  {
   "cell_type": "markdown",
   "metadata": {},
   "source": [
    "__д)__ Проверьте гипотезу о том, что $\\mu = 5$, а $\\sigma^2 = 3$ с помощью теста отношения правдоподобий."
   ]
  },
  {
   "cell_type": "code",
   "execution_count": null,
   "metadata": {},
   "outputs": [],
   "source": [
    "# На компе"
   ]
  },
  {
   "cell_type": "markdown",
   "metadata": {},
   "source": [
    "-----------"
   ]
  },
  {
   "cell_type": "markdown",
   "metadata": {},
   "source": [
    "## Задаченька 3 (о взаимосвязях)\n",
    "\n",
    "Возможно, что Фрекен-Бок видит призраков из-за коньяка.\n",
    "\n",
    "Предположим, что в $i$-й день интенсивность пуассоновского распределения $\\lambda_i$ связана с количеством выпитого коньяка формулой $\\lambda_i = \\exp(a + b y_i)$.\n",
    "\n",
    "__а)__ Оцените параметры $a$ и $b$, лапками выписав функцию правдоподобия. "
   ]
  },
  {
   "cell_type": "code",
   "execution_count": null,
   "metadata": {},
   "outputs": [],
   "source": [
    "# лапками"
   ]
  },
  {
   "cell_type": "code",
   "execution_count": null,
   "metadata": {},
   "outputs": [],
   "source": [
    "# на компухтере"
   ]
  },
  {
   "cell_type": "markdown",
   "metadata": {},
   "source": [
    "__б)__ С помощью теста отношения правдоподобий проверьте гипотезу о взаимосвязи призраков и выпитого коньяка."
   ]
  },
  {
   "cell_type": "code",
   "execution_count": null,
   "metadata": {},
   "outputs": [],
   "source": [
    "# лапками"
   ]
  },
  {
   "cell_type": "markdown",
   "metadata": {},
   "source": [
    "## Задаченька 4 (логистическая регрессия)\n",
    "\n",
    "Предположим другую вероятностную модель. Теперь мы будем предполагать, что сам факт обнаружения хотя бы одного приведения, имеет вероятность $p_i$, зависящую от $y_i$:\n",
    "\n",
    "$$\n",
    "p_i = \\frac{e^{a + b y_i}}{1 + e^{a + b y_i}} = \\frac{1}{1 + e^{-(a + b y_i)}}\n",
    "$$\n",
    "\n",
    "__а)__ Введите дамми-переменную равную 1, если Фрекен Бок видела приведение:"
   ]
  },
  {
   "cell_type": "code",
   "execution_count": null,
   "metadata": {},
   "outputs": [],
   "source": [
    "# на компухтере"
   ]
  },
  {
   "cell_type": "markdown",
   "metadata": {},
   "source": [
    "__б)__ Определив лапками функцию правдоподобия, оцените $a$ и $b$:"
   ]
  },
  {
   "cell_type": "code",
   "execution_count": null,
   "metadata": {},
   "outputs": [],
   "source": [
    "# на компухтере"
   ]
  },
  {
   "cell_type": "markdown",
   "metadata": {},
   "source": [
    "# 3. Многомерный дельта-метод\n",
    "\n",
    "Предположим, что мы воспользовались методом максимального правдоподобия и получили, что \n",
    "\n",
    "$$\n",
    "\\begin{aligned}\n",
    "\\hat p = \\begin{pmatrix} \\frac{1}{3} \\\\ \\frac{2}{3} \\end{pmatrix} & \\hspace{2cm} \\hat{Var}(p) = \\begin{pmatrix} 5 & 2 \\\\ 2 & 1 \\end{pmatrix}\n",
    "\\end{aligned}\n",
    "$$"
   ]
  },
  {
   "cell_type": "markdown",
   "metadata": {},
   "source": [
    "__а)__ Пстройте $80\\%$ асимптотический доверительный интервал для $p_1$."
   ]
  },
  {
   "cell_type": "code",
   "execution_count": null,
   "metadata": {},
   "outputs": [],
   "source": []
  },
  {
   "cell_type": "markdown",
   "metadata": {},
   "source": [
    "__б)__ Пстройте $80\\%$ асимптотический доверительный интервал для $p_1 - p_2$."
   ]
  },
  {
   "cell_type": "code",
   "execution_count": null,
   "metadata": {},
   "outputs": [],
   "source": []
  },
  {
   "cell_type": "markdown",
   "metadata": {},
   "source": [
    "__в)__ Пстройте $80\\%$ асимптотический доверительный интервал для $\\ln p_1$ с помощью дельта-метода."
   ]
  },
  {
   "cell_type": "code",
   "execution_count": null,
   "metadata": {},
   "outputs": [],
   "source": []
  },
  {
   "cell_type": "markdown",
   "metadata": {},
   "source": [
    "__г)__ Пстройте $80\\%$ асимптотический доверительный интервал для $p^2_1 - p^2_2$ с помощью дельа-метода."
   ]
  },
  {
   "cell_type": "code",
   "execution_count": null,
   "metadata": {},
   "outputs": [],
   "source": []
  },
  {
   "cell_type": "markdown",
   "metadata": {},
   "source": [
    "Под занавес докажем многомерный дельта-метод с помощью разложения в ряд Тэйлора!"
   ]
  },
  {
   "cell_type": "code",
   "execution_count": null,
   "metadata": {},
   "outputs": [],
   "source": []
  },
  {
   "cell_type": "markdown",
   "metadata": {},
   "source": [
    "--------------------"
   ]
  }
 ],
 "metadata": {
  "kernelspec": {
   "display_name": "R",
   "language": "R",
   "name": "ir"
  },
  "language_info": {
   "codemirror_mode": "r",
   "file_extension": ".r",
   "mimetype": "text/x-r-source",
   "name": "R",
   "pygments_lexer": "r",
   "version": "3.5.3"
  }
 },
 "nbformat": 4,
 "nbformat_minor": 2
}
