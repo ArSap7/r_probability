{
 "cells": [
  {
   "cell_type": "markdown",
   "metadata": {},
   "source": [
    "<center>\n",
    "\n",
    "# R для тервера и матстата\n",
    "## Дайте мне таблетки от жадности! И побольше, побольше!\n",
    "\n",
    "<br>\n",
    "\n",
    "<center>\n",
    "<img src=\"https://cs4.pikabu.ru/post_img/2016/08/12/8/1471008417115067244.jpg\" height=\"200\" width=\"450\"> \n",
    "    "
   ]
  },
  {
   "cell_type": "markdown",
   "metadata": {},
   "source": [
    "# 1. Многомерное нормальное распределение"
   ]
  },
  {
   "cell_type": "code",
   "execution_count": 2,
   "metadata": {},
   "outputs": [],
   "source": [
    "library(\"ggplot2\")  # Пакет для красивых графиков \n",
    "library(\"grid\")     # Пакет для субплотов\n",
    "\n",
    "# Отрегулируем размер картинок, которые будут выдаваться в нашей тетрадке\n",
    "library('repr')\n",
    "options(repr.plot.width=4, repr.plot.height=3)"
   ]
  },
  {
   "cell_type": "markdown",
   "metadata": {},
   "source": [
    "__Многомерная случайная величина__ - просто столбец из нескольких случайных величин.\n",
    "\n",
    "\\begin{equation*}\n",
    "\\begin{aligned}\n",
    "X = \\begin{pmatrix} X_1 \\\\ X_2 \\end{pmatrix}\n",
    "\\end{aligned}\n",
    "\\end{equation*}\n",
    "\n",
    "__Математическое ожидание:__ \n",
    "\n",
    "\n",
    "\\begin{equation*}\n",
    "\\begin{aligned}\n",
    "\\mathbb{E}(X) = \\begin{pmatrix} \\mathbb{E}(X_1) \\\\ \\mathbb{E}(X_2) \\end{pmatrix}\n",
    "\\end{aligned}\n",
    "\\end{equation*}\n",
    "\n",
    "__Дисперсия (ковариационная матрица):__ \n",
    "\n",
    "\\begin{equation*}\n",
    "\\begin{aligned}\n",
    "Var (X) = \\begin{pmatrix} Var(X_1) & Cov(X_1, X_2) \\\\ Cov(X_2, X_1) & Var(X_2) \\end{pmatrix}\n",
    "\\end{aligned}\n",
    "\\end{equation*}\n",
    "\n",
    "Матрица симметричная, так как ковариация считается так:\n",
    "\n",
    "$$\n",
    "Cov(X_1, X_2) = \\mathbb{E}(X_1 \\cdot X_2) - \\mathbb{E}(X_1) \\cdot \\mathbb{E}(X_2)\n",
    "$$"
   ]
  },
  {
   "cell_type": "markdown",
   "metadata": {},
   "source": [
    "__Упражнение:__\n",
    "\n",
    "$Y = X_1 + X_2$ \n",
    "\n",
    "__а)__ $\\mathbb{E}(Y), Var(Y)$ - ?\n",
    "\n",
    "__Решение:__\n",
    "\n",
    "$$\n",
    "\\mathbb{E}(Y) = \\mathbb{E}(X_1 + X_2) = \\mathbb{E}(X_1) + \\mathbb{E}(X_2)\n",
    "$$\n",
    "\n",
    "$$\n",
    "Var(Y) = Var(X_1 + X_2) = Var(X_1) + Var(X_2) + 2 \\cdot Cov(X_2, X_1)\n",
    "$$"
   ]
  },
  {
   "cell_type": "markdown",
   "metadata": {},
   "source": [
    "__б)__ $A \\cdot X$ - ?\n",
    "\n",
    "__Решение:__\n",
    "\n",
    "\n",
    "\\begin{equation*}\n",
    "\\begin{aligned}\n",
    "\\begin{pmatrix} a_{11} & a_{12} \\\\ a_{21} & a_{22}  \\end{pmatrix} \\cdot \\begin{pmatrix} X_1 \\\\ X_2  \\end{pmatrix}  = \\begin{pmatrix} a_{11} \\cdot X_1 + a_{12} \\cdot X_2 \\\\ a_{21} \\cdot X_1 + a_{22} \\cdot X_2  \\end{pmatrix}\n",
    "\\end{aligned}\n",
    "\\end{equation*}"
   ]
  },
  {
   "cell_type": "markdown",
   "metadata": {},
   "source": [
    "$\\mathbb{E}(A \\cdot X) = A \\cdot \\mathbb{E} (X)$\n",
    "\n",
    "$Var(A \\cdot X) = A \\cdot Var (X) \\cdot A^T$"
   ]
  },
  {
   "cell_type": "markdown",
   "metadata": {},
   "source": [
    "__ПОЧЕМУ для дисперсии формула именно такая?__\n",
    "\n",
    "\\begin{multline*}\n",
    "Var(a_{11} \\cdot X_1 + a_{12} \\cdot X_2) = \\\\ = a_{11}^2 \\cdot Var(X_1) + a_{12}^2 \\cdot Var(X_2) + 2 \\cdot Cov(a_{11} \\cdot X_2, a_{12} \\cdot X_1) = \\\\ = a_{11}^2 \\cdot Var(X_1) + a_{12}^2 \\cdot Var(X_2) + 2 \\cdot a_{11} \\cdot a_{12} \\cdot Cov( X_2,  X_1)\n",
    "\\end{multline*}"
   ]
  },
  {
   "cell_type": "markdown",
   "metadata": {},
   "source": [
    "\\begin{equation*}\n",
    "\\begin{aligned}\n",
    "\\begin{pmatrix} a_{11} & a_{12} \\end{pmatrix} \\cdot \\begin{pmatrix} Var(X_1) & Cov(X_1, X_2) \\\\ Cov(X_2, X_1) & Var(X_2) \\end{pmatrix} \\cdot \\begin{pmatrix} a_{11} \\\\ a_{12} \\end{pmatrix}\n",
    "\\end{aligned}\n",
    "\\end{equation*}"
   ]
  },
  {
   "cell_type": "raw",
   "metadata": {},
   "source": [
    "(1 x 2)  (2 x 2)  (2 x 1) => (1 x 2)  (2 x 1) =>  (1 x 1)"
   ]
  },
  {
   "cell_type": "markdown",
   "metadata": {},
   "source": [
    "__Упражнение:__\n",
    "\n",
    "Какие из перечисленных матриц могут быть ковариационными? \n",
    "\n",
    "\\begin{equation*}\n",
    "\\begin{aligned}\n",
    "\\begin{pmatrix} 4 & -3 \\\\ -7 & 9 \\end{pmatrix}  \\quad  \\begin{pmatrix} 4 & 1 \\\\ 1 & -9 \\end{pmatrix}  \\quad  \\begin{pmatrix} 1 & 5 \\\\ 5 & 2 \\end{pmatrix} \n",
    "\\end{aligned} \n",
    "\\end{equation*}\n",
    "\n",
    "\n",
    "- Первая не может быть, так как она несимметричная \n",
    "- Вторая не может быть, так как там отрицательная дисперсия\n",
    "- Третья не может быть, так как\n",
    "\n",
    "$$\n",
    "Var(X_1 - X_2) = 1 + 2 - 2 \\cdot 5 = -7\n",
    "$$"
   ]
  },
  {
   "cell_type": "markdown",
   "metadata": {},
   "source": [
    "__Свойства ковариационных матриц:__ \n",
    "\n",
    "- Должна быть симметричной, тк $Cov(X, Y) = Cov(Y, X)$\n",
    "- На главной диагонали все числа $> 0$, так как дисперсия не мб отрицательной или нулевой\n",
    "- Любая линейная комбинация случайных величин даёт дисперсию $> 0$\n",
    "\n"
   ]
  },
  {
   "cell_type": "markdown",
   "metadata": {},
   "source": [
    "$$\n",
    "Var(a_{11} \\cdot X_1 + a_{12} \\cdot X_2) = a_{11}^2 \\cdot Var(X_1) + a_{12}^2 \\cdot Var(X_2) + 2 \\cdot a_{11} \\cdot a_{12} \\cdot Cov( X_2,  X_1)\n",
    "$$"
   ]
  },
  {
   "cell_type": "markdown",
   "metadata": {},
   "source": [
    "Квадратичная форма, которая соответсвует ковариационной матрице должна быть положительно определена. Это можно проверить с помощью Критерий Сильвестра. "
   ]
  },
  {
   "cell_type": "markdown",
   "metadata": {},
   "source": [
    "Многомерное нормальное распределение: \n",
    "\n",
    "\\begin{equation*}\n",
    "\\begin{aligned}\n",
    "X = \\begin{pmatrix} X_1 \\\\ X_2 \\end{pmatrix} \\sim N \\left( \\begin{pmatrix} \\mathbb{E}(X_1) \\\\ \\mathbb{E}(X_2) \\end{pmatrix};  \\begin{pmatrix} Var(X_1) & Cov(X_1, X_2) \\\\ Cov(X_2, X_1) & Var(X_2) \\end{pmatrix} \\right)\n",
    "\\end{aligned}\n",
    "\\end{equation*}\n"
   ]
  },
  {
   "cell_type": "markdown",
   "metadata": {},
   "source": [
    "А как выглядит линейное преобразование для $X$, которое может сделать случайные величины из него независимыми. \n",
    "\n",
    "$$\n",
    "Y = A \\cdot X\n",
    "$$\n",
    "\n",
    "\\begin{equation*}\n",
    "\\begin{aligned}\n",
    "\\begin{pmatrix} Y_1 \\\\ Y_2 \\end{pmatrix} \\sim N \\left( \\begin{pmatrix} \\mathbb{E}(Y_1) \\\\ \\mathbb{E}(Y_2) \\end{pmatrix};  \\begin{pmatrix} Var(Y_1) & 0 \\\\ 0 & Var(Y_2) \\end{pmatrix} \\right)\n",
    "\\end{aligned}\n",
    "\\end{equation*}\n",
    "\n",
    "$$\n",
    "Var(X) =  B \\cdot D \\cdot B^T \n",
    "$$"
   ]
  },
  {
   "cell_type": "markdown",
   "metadata": {},
   "source": [
    "__Упражнение:__ \n",
    "\n",
    "\\begin{equation*}\n",
    "\\begin{aligned}\n",
    "X = \\begin{pmatrix} X_1 \\\\ X_2 \\end{pmatrix} \\sim N \\left( \\begin{pmatrix} 0 \\\\ 0\\end{pmatrix};  \\begin{pmatrix} 5 & 2 \\\\ 2 & 2 \\end{pmatrix} \\right)\n",
    "\\end{aligned}\n",
    "\\end{equation*}"
   ]
  },
  {
   "cell_type": "markdown",
   "metadata": {},
   "source": [
    "1. Найду собственные значения для ковариационной матрицы \n",
    "\n",
    "__Собственное значение это когда:__ \n",
    "\n",
    "\\begin{equation*}\n",
    "\\begin{aligned}\n",
    "A \\cdot x = \\lambda \\cdot x \\\\\n",
    "(A - \\lambda \\cdot I) \\cdot x = 0 \\\\\n",
    "det (A - \\lambda \\cdot I) = 0 \n",
    "\\end{aligned}\n",
    "\\end{equation*}\n",
    "\n",
    "Найдём собственные значения: \n",
    "\n",
    "\\begin{equation*}\n",
    "\\begin{aligned}\n",
    "& det(Var(X) - \\lambda \\cdot I) = 0 \\\\ \n",
    "& det\\left( \\begin{pmatrix} 5 & 2 \\\\ 2 & 2 \\end{pmatrix}  - \\begin{pmatrix} \\lambda & 0 \\\\ 0 & \\lambda \\end{pmatrix} \\right) = 0 \\\\\n",
    "& det \\begin{pmatrix} 5 - \\lambda & 2 \\\\ 2 & 2 - \\lambda \\end{pmatrix}   = 0 \\\\ \n",
    "& (5 - \\lambda) \\cdot (2 - \\lambda) - 4 = 0\n",
    "\\end{aligned}\n",
    "\\end{equation*}\n",
    "\n",
    "Решение этого квадратного уравнения: $\\lambda_1 = 1, \\lambda_2 = 6$"
   ]
  },
  {
   "cell_type": "code",
   "execution_count": 25,
   "metadata": {},
   "outputs": [],
   "source": [
    "x1 = c(3, 1)\n",
    "x2 = c(1, 2)"
   ]
  },
  {
   "cell_type": "raw",
   "metadata": {},
   "source": [
    "(-1*x + 0*y; 0*x + 1*y)"
   ]
  },
  {
   "cell_type": "code",
   "execution_count": 42,
   "metadata": {
    "scrolled": true
   },
   "outputs": [
    {
     "data": {
      "text/html": [
       "<table>\n",
       "<tbody>\n",
       "\t<tr><td>-1</td><td>0 </td></tr>\n",
       "\t<tr><td> 0</td><td>1 </td></tr>\n",
       "</tbody>\n",
       "</table>\n"
      ],
      "text/latex": [
       "\\begin{tabular}{ll}\n",
       "\t -1 & 0 \\\\\n",
       "\t  0 & 1 \\\\\n",
       "\\end{tabular}\n"
      ],
      "text/markdown": [
       "\n",
       "| -1 | 0  |\n",
       "|  0 | 1  |\n",
       "\n"
      ],
      "text/plain": [
       "     [,1] [,2]\n",
       "[1,] -1   0   \n",
       "[2,]  0   1   "
      ]
     },
     "metadata": {},
     "output_type": "display_data"
    }
   ],
   "source": [
    "A = matrix(c(-1,0,0,1), nrow=2)\n",
    "A"
   ]
  },
  {
   "cell_type": "code",
   "execution_count": 43,
   "metadata": {},
   "outputs": [
    {
     "data": {
      "text/html": [
       "<table>\n",
       "<tbody>\n",
       "\t<tr><td>-3</td></tr>\n",
       "\t<tr><td> 1</td></tr>\n",
       "</tbody>\n",
       "</table>\n"
      ],
      "text/latex": [
       "\\begin{tabular}{l}\n",
       "\t -3\\\\\n",
       "\t  1\\\\\n",
       "\\end{tabular}\n"
      ],
      "text/markdown": [
       "\n",
       "| -3 |\n",
       "|  1 |\n",
       "\n"
      ],
      "text/plain": [
       "     [,1]\n",
       "[1,] -3  \n",
       "[2,]  1  "
      ]
     },
     "metadata": {},
     "output_type": "display_data"
    }
   ],
   "source": [
    "A%*%x1"
   ]
  },
  {
   "cell_type": "code",
   "execution_count": 44,
   "metadata": {},
   "outputs": [
    {
     "data": {
      "text/html": [
       "<table>\n",
       "<tbody>\n",
       "\t<tr><td>-1</td></tr>\n",
       "\t<tr><td> 2</td></tr>\n",
       "</tbody>\n",
       "</table>\n"
      ],
      "text/latex": [
       "\\begin{tabular}{l}\n",
       "\t -1\\\\\n",
       "\t  2\\\\\n",
       "\\end{tabular}\n"
      ],
      "text/markdown": [
       "\n",
       "| -1 |\n",
       "|  2 |\n",
       "\n"
      ],
      "text/plain": [
       "     [,1]\n",
       "[1,] -1  \n",
       "[2,]  2  "
      ]
     },
     "metadata": {},
     "output_type": "display_data"
    }
   ],
   "source": [
    "A%*%x2"
   ]
  },
  {
   "cell_type": "markdown",
   "metadata": {},
   "source": [
    "2. Найти собственные вектора \n",
    "\n",
    "$$\n",
    "(A - \\lambda \\cdot I) \\cdot x = 0\n",
    "$$"
   ]
  },
  {
   "cell_type": "markdown",
   "metadata": {},
   "source": [
    "\\begin{equation*}\n",
    "\\begin{aligned}\n",
    "& \\begin{pmatrix} 4 & 2 \\\\ 2 & 1 \\end{pmatrix} \\cdot \\begin{pmatrix} v_1 \\\\ v_2 \\end{pmatrix} = \\begin{pmatrix} 0 \\\\ 0 \\end{pmatrix} \\\\ \n",
    "\\end{aligned}\n",
    "\\end{equation*}"
   ]
  },
  {
   "cell_type": "markdown",
   "metadata": {},
   "source": [
    "\\begin{equation*}\n",
    "\\begin{cases}\n",
    "4 \\cdot v_1 + 2 \\cdot v_2 = 0 \\\\\n",
    "2 \\cdot v_1 + 1 \\cdot v_2 = 0\n",
    "\\end{cases}\n",
    "\\end{equation*}\n",
    "\n",
    "Получается, что $v = (-1, 2)$"
   ]
  },
  {
   "cell_type": "markdown",
   "metadata": {},
   "source": [
    "\\begin{equation*}\n",
    "\\begin{aligned}\n",
    "& \\begin{pmatrix} -1 & 2 \\\\ 2 & -4 \\end{pmatrix} \\cdot \\begin{pmatrix} v_1 \\\\ v_2 \\end{pmatrix} = \\begin{pmatrix} 0 \\\\ 0 \\end{pmatrix} \n",
    "\\end{aligned}\n",
    "\\end{equation*}\n",
    "\n",
    "Получается, что $v = (2, 1)$"
   ]
  },
  {
   "cell_type": "markdown",
   "metadata": {},
   "source": [
    "3. Вспоминаем теорему, что для положительно определённых симметричных матриц: \n",
    "\n",
    "$$\n",
    "A = V \\cdot D \\cdot V^{-1}\n",
    "$$\n",
    "\n",
    "Внутри $V$ собственные вектора записаны как столбцы! "
   ]
  },
  {
   "cell_type": "markdown",
   "metadata": {},
   "source": [
    "\\begin{equation*}\n",
    "\\begin{aligned}\n",
    "Var(X) = \\begin{pmatrix} 5 & 2 \\\\ 2 & 2 \\end{pmatrix}  = \\begin{pmatrix} -1 & 2 \\\\ 2 & 1 \\end{pmatrix} \\cdot \\begin{pmatrix} 1 & 0\\\\ 0 & 6 \\end{pmatrix} \\cdot \\begin{pmatrix} -1 & 2 \\\\ 2 & 1 \\end{pmatrix}^{-1}\n",
    "\\end{aligned}\n",
    "\\end{equation*}"
   ]
  },
  {
   "cell_type": "markdown",
   "metadata": {},
   "source": [
    "\\begin{equation*}\n",
    "\\begin{aligned}\n",
    "& A = V \\cdot D \\cdot V^{-1} \\\\ \n",
    "& V^{-1} \\cdot A \\cdot V = V^{-1} \\cdot V \\cdot D \\cdot V^{-1} \\cdot V \\\\\n",
    "& V^{-1} \\cdot A \\cdot V = D\n",
    "\\end{aligned}\n",
    "\\end{equation*}"
   ]
  },
  {
   "cell_type": "markdown",
   "metadata": {},
   "source": [
    "- Если у нас матрица $A$ симметричная, то её можно диагонализировать. \n",
    "- Если $A$ симметричная и собственные вектора единичной длины, тогда $V^{-1} = V^T$"
   ]
  },
  {
   "cell_type": "markdown",
   "metadata": {},
   "source": [
    "4. Нормировка собственных векторов \n",
    "\n",
    "$v = (-1, 2) \\quad \\Rightarrow \\quad ||v|| = \\sqrt{-1^2 + 2^2} = \\sqrt{5}$\n",
    "\n",
    "$v = (2, 1) \\quad \\Rightarrow \\quad ||v|| = \\sqrt{2^2 + 1^2} = \\sqrt{5}$"
   ]
  },
  {
   "cell_type": "markdown",
   "metadata": {},
   "source": [
    "После нормировки  $\\frac{V}{\\sqrt{5}}$"
   ]
  },
  {
   "cell_type": "markdown",
   "metadata": {},
   "source": [
    "$$\n",
    "Var(Y) = P^{T} \\cdot Var(X) \\cdot P = D\n",
    "$$\n",
    "\n",
    "Получается итоговое преобразование:\n",
    "\n",
    "$$\n",
    "Y = P^T \\cdot X\n",
    "$$"
   ]
  },
  {
   "cell_type": "markdown",
   "metadata": {},
   "source": [
    "- __Отсылка к видосу__ \n",
    "\n",
    "- __Отсулка к главе Черновой про многомерное нормальное распределение__ "
   ]
  },
  {
   "cell_type": "markdown",
   "metadata": {},
   "source": [
    "# 2. Задачки на правдоподобие  "
   ]
  },
  {
   "cell_type": "raw",
   "metadata": {},
   "source": [
    "# Тут смотрим презу про правдоподобие и M&M's"
   ]
  },
  {
   "cell_type": "markdown",
   "metadata": {},
   "source": [
    "__Упражнение (Задача про M&M's)__ \n",
    "\n",
    "- Красных - $X_1 = 46$ штук\n",
    "- Жёлтых - $X_2 = 44$ штуки \n",
    "- Другие - $n - X_1 - X_2 = 237$ штук "
   ]
  },
  {
   "cell_type": "raw",
   "metadata": {},
   "source": [
    "X   жёлтый   красный    другие \n",
    "P     p1       p2      1-p1-p2"
   ]
  },
  {
   "cell_type": "markdown",
   "metadata": {},
   "source": [
    "$\\hat p_1 (X_1, X_2), \\hat p_2 (X_1, X_2)$ - ? "
   ]
  },
  {
   "cell_type": "markdown",
   "metadata": {},
   "source": [
    "Правдоподобие: \n",
    "\n",
    "$$\n",
    "L = p_1^{X_1} \\cdot p_2^{X_2} \\cdot (1 - p_1 - p_2)^{n - X_1 - X_2} \n",
    "$$"
   ]
  },
  {
   "cell_type": "markdown",
   "metadata": {},
   "source": [
    "Логарифмируем: \n",
    "\n",
    "$$\n",
    "\\ln L = X_1 \\cdot \\ln p_1 +  X_2 \\cdot \\ln p_2  + (n - X_1 - X_2) \\cdot  \\ln (1 - p_1 - p_2) \n",
    "$$"
   ]
  },
  {
   "cell_type": "markdown",
   "metadata": {},
   "source": [
    "$$\n",
    "\\begin{cases}\n",
    "\\frac{\\partial \\ln L}{\\partial p_1} = \\frac{X_1}{p_1} - \\frac{n -X_1 - X_2}{1 - p_1 - p_2}\\\\\n",
    "\\frac{\\partial \\ln L}{\\partial p_2} = \\frac{X_2}{p_2} - \\frac{n - X_1 - X_2}{1 - p_1 - p_2}\\\\\n",
    "\\end{cases}\n",
    "$$\n",
    "\n",
    "При приравнивании к нулю возникает щапочка!\n",
    "\n",
    "$$\n",
    "\\begin{cases}\n",
    "\\frac{X_1}{\\hat p_1} - \\frac{n -X_1 - X_2}{1 - \\hat p_1 - \\hat p_2} = 0\\\\\n",
    "\\frac{X_2}{\\hat p_2} - \\frac{n - X_1 - X_2}{1 - \\hat p_1 - \\hat p_2} = 0\\\\\n",
    "\\end{cases}\n",
    "$$\n",
    "\n",
    "Решив уравнение получаем оценки: \n",
    "\n",
    "$$\n",
    "\\begin{cases}\n",
    "\\hat p_1 = \\frac{X_1}{n}\\\\\n",
    "\\hat p_2 = \\frac{X_2}{n}\\\\\n",
    "\\end{cases}\n",
    "$$"
   ]
  },
  {
   "cell_type": "markdown",
   "metadata": {},
   "source": [
    "Займёмся информацией Фишера и дисперсией! \n",
    "\n",
    "- $-H$ и подставить $\\hat p$\n",
    "- $\\mathbb{E}(-H)$ и подставть $\\hat p$ \n",
    "\n",
    "\n",
    "После подстановки $\\hat p$ мы получим $\\hat I(p)$ - оценку информационной матрицы Фишера. Дальше на основе этой оценки мы можем найти дисперсию $\\hat p$ как $[\\hat I(p)]^{-1}$."
   ]
  },
  {
   "cell_type": "markdown",
   "metadata": {},
   "source": [
    "$$\n",
    "\\hat p^{ML} \\sim N(p, [I(p)]^{-1})\n",
    "$$\n",
    "\n",
    "$$\n",
    "\\hat p^{ML} \\sim N(p, [\\hat I(p)]^{-1})\n",
    "$$"
   ]
  },
  {
   "cell_type": "markdown",
   "metadata": {},
   "source": [
    "$$\n",
    "H = \\begin{pmatrix}  \n",
    "     \\frac{\\partial^2 \\ln L}{\\partial p_1^2} &  \\frac{\\partial^2 \\ln L}{\\partial p_1 \\partial p_2} \\\\  \n",
    "      \\frac{\\partial^2 \\ln L}{\\partial p_2 \\partial p_1}  &  \\frac{\\partial^2 \\ln L}{\\partial p_2^2} \\\\  \n",
    "    \\end{pmatrix}\n",
    "$$"
   ]
  },
  {
   "cell_type": "markdown",
   "metadata": {},
   "source": [
    "$$\n",
    "H = \\begin{pmatrix}  \n",
    "       - \\frac{X_1}{p_1^2} - \\frac{n -X_1 - X_2}{(1 - p_1 - p_2)^2} &   - \\frac{n -X_1 - X_2}{(1 - p_1 - p_2)^2}  \\\\  \n",
    "      - \\frac{n -X_1 - X_2}{(1 - p_1 - p_2)^2} &  - \\frac{X_2}{p_2^2} - \\frac{n - X_1 - X_2}{(1 - p_1 - p_2)^2}  \\\\  \n",
    "    \\end{pmatrix}\n",
    "$$\n",
    "\n",
    "Если в $-H$ подставить $\\hat p$, получим $\\hat I(p)$ первым способом. Найдём обраьную матрицу, получится оценка ковариационной матрицы. "
   ]
  },
  {
   "cell_type": "markdown",
   "metadata": {},
   "source": [
    "$$\n",
    "\\mathbb{E} \\left( - \\frac{X_1}{p_1^2} - \\frac{n -X_1 - X_2}{(1 - p_1 - p_2)^2} \\right) =  - \\frac{\\mathbb{E} (X_1)}{p_1^2} - \\frac{n - \\mathbb{E}(X_1) - \\mathbb{E} (X_2)}{(1 - p_1 - p_2)^2} - =  - \\frac{n}{p_1} - \\frac{n}{(1 - p_1 - p_2)}\n",
    "$$"
   ]
  },
  {
   "cell_type": "markdown",
   "metadata": {},
   "source": [
    "$X_1$ - число жёлтых, $X_1 \\sim Bin(n, p_1)$, $\\mathbb{E}(X_1) = n \\cdot p_1$"
   ]
  },
  {
   "cell_type": "markdown",
   "metadata": {},
   "source": [
    "$$\n",
    "\\mathbb{E}(H) = \\begin{pmatrix}  \n",
    "       - \\frac{n}{p_1} - \\frac{n}{1 - p_1 - p_2} &   - \\frac{n}{1 - p_1 - p_2}  \\\\  \n",
    "      - \\frac{n}{1 - p_1 - p_2} &  - \\frac{n}{p_2} - \\frac{n}{1 - p_1 - p_2}  \\\\  \n",
    "    \\end{pmatrix}\n",
    "$$"
   ]
  },
  {
   "cell_type": "markdown",
   "metadata": {},
   "source": [
    "Если в $-\\mathbb{E}(H)$ подставить $\\hat p$, получим $\\hat I(p)$ первым способом. Найдём обраьную матрицу, получится оценка ковариационной матрицы."
   ]
  },
  {
   "cell_type": "code",
   "execution_count": 46,
   "metadata": {},
   "outputs": [],
   "source": [
    "#install.packages(\"maxLik\")\n",
    "library(\"maxLik\") #пакет для MLE"
   ]
  },
  {
   "cell_type": "code",
   "execution_count": 48,
   "metadata": {},
   "outputs": [],
   "source": [
    "lnL = function(p, X){\n",
    "    res = X[1]*log(p[1]) + X[2]*log(p[2]) + X[3]*log(1 - p[1] - p[2])\n",
    "    return(res)\n",
    "}"
   ]
  },
  {
   "cell_type": "code",
   "execution_count": 50,
   "metadata": {},
   "outputs": [
    {
     "data": {
      "text/html": [
       "-372.569211554472"
      ],
      "text/latex": [
       "-372.569211554472"
      ],
      "text/markdown": [
       "-372.569211554472"
      ],
      "text/plain": [
       "[1] -372.5692"
      ]
     },
     "metadata": {},
     "output_type": "display_data"
    }
   ],
   "source": [
    "lnL(c(0.5, 0.2), c(26, 43, 237))"
   ]
  },
  {
   "cell_type": "code",
   "execution_count": 52,
   "metadata": {},
   "outputs": [
    {
     "data": {
      "text/plain": [
       "Maximum Likelihood estimation\n",
       "Newton-Raphson maximisation, 5 iterations\n",
       "Return code 1: gradient close to zero\n",
       "Log-Likelihood: -254.7649 (2 free parameter(s))\n",
       "Estimate(s): 0.1406728 0.1345566 "
      ]
     },
     "metadata": {},
     "output_type": "display_data"
    }
   ],
   "source": [
    "p_init = c(0.33, 0.33)\n",
    "\n",
    "res = maxLik(lnL, start = p_init, X = c(46, 44, 237))\n",
    "res"
   ]
  },
  {
   "cell_type": "code",
   "execution_count": 53,
   "metadata": {},
   "outputs": [
    {
     "data": {
      "text/plain": [
       "--------------------------------------------\n",
       "Maximum Likelihood estimation\n",
       "Newton-Raphson maximisation, 5 iterations\n",
       "Return code 1: gradient close to zero\n",
       "Log-Likelihood: -254.7649 \n",
       "2  free parameters\n",
       "Estimates:\n",
       "     Estimate Std. error t value  Pr(> t)    \n",
       "[1,]  0.14067    0.01923   7.316 2.55e-13 ***\n",
       "[2,]  0.13456    0.01887   7.130 1.00e-12 ***\n",
       "---\n",
       "Signif. codes:  0 ‘***’ 0.001 ‘**’ 0.01 ‘*’ 0.05 ‘.’ 0.1 ‘ ’ 1\n",
       "--------------------------------------------"
      ]
     },
     "metadata": {},
     "output_type": "display_data"
    }
   ],
   "source": [
    "summary(res)"
   ]
  },
  {
   "cell_type": "code",
   "execution_count": 55,
   "metadata": {},
   "outputs": [
    {
     "data": {
      "text/html": [
       "<table>\n",
       "<thead><tr><th scope=col>Estimate</th><th scope=col>Std. error</th><th scope=col>t value</th><th scope=col>Pr(&gt; t)</th></tr></thead>\n",
       "<tbody>\n",
       "\t<tr><td>0.1406728   </td><td>0.01922708  </td><td>7.316388    </td><td>2.547351e-13</td></tr>\n",
       "\t<tr><td>0.1345566   </td><td>0.01887122  </td><td>7.130255    </td><td>1.001833e-12</td></tr>\n",
       "</tbody>\n",
       "</table>\n"
      ],
      "text/latex": [
       "\\begin{tabular}{llll}\n",
       " Estimate & Std. error & t value & Pr(> t)\\\\\n",
       "\\hline\n",
       "\t 0.1406728    & 0.01922708   & 7.316388     & 2.547351e-13\\\\\n",
       "\t 0.1345566    & 0.01887122   & 7.130255     & 1.001833e-12\\\\\n",
       "\\end{tabular}\n"
      ],
      "text/markdown": [
       "\n",
       "| Estimate | Std. error | t value | Pr(> t) |\n",
       "|---|---|---|---|\n",
       "| 0.1406728    | 0.01922708   | 7.316388     | 2.547351e-13 |\n",
       "| 0.1345566    | 0.01887122   | 7.130255     | 1.001833e-12 |\n",
       "\n"
      ],
      "text/plain": [
       "     Estimate  Std. error t value  Pr(> t)     \n",
       "[1,] 0.1406728 0.01922708 7.316388 2.547351e-13\n",
       "[2,] 0.1345566 0.01887122 7.130255 1.001833e-12"
      ]
     },
     "metadata": {},
     "output_type": "display_data"
    }
   ],
   "source": [
    "table = summary(res)\n",
    "table$estimate"
   ]
  },
  {
   "cell_type": "code",
   "execution_count": 56,
   "metadata": {},
   "outputs": [
    {
     "data": {
      "text/html": [
       "-254.764874303474"
      ],
      "text/latex": [
       "-254.764874303474"
      ],
      "text/markdown": [
       "-254.764874303474"
      ],
      "text/plain": [
       "[1] -254.7649"
      ]
     },
     "metadata": {},
     "output_type": "display_data"
    }
   ],
   "source": [
    "table$loglik"
   ]
  },
  {
   "cell_type": "code",
   "execution_count": 64,
   "metadata": {},
   "outputs": [
    {
     "data": {
      "text/html": [
       "<ol class=list-inline>\n",
       "\t<li>0.140672782813527</li>\n",
       "\t<li>0.1345565748763</li>\n",
       "</ol>\n"
      ],
      "text/latex": [
       "\\begin{enumerate*}\n",
       "\\item 0.140672782813527\n",
       "\\item 0.1345565748763\n",
       "\\end{enumerate*}\n"
      ],
      "text/markdown": [
       "1. 0.140672782813527\n",
       "2. 0.1345565748763\n",
       "\n",
       "\n"
      ],
      "text/plain": [
       "[1] 0.1406728 0.1345566"
      ]
     },
     "metadata": {},
     "output_type": "display_data"
    }
   ],
   "source": [
    "p_hat = table$estimate[,1]\n",
    "p_hat"
   ]
  },
  {
   "cell_type": "code",
   "execution_count": 65,
   "metadata": {},
   "outputs": [
    {
     "data": {
      "text/html": [
       "<table>\n",
       "<tbody>\n",
       "\t<tr><td>-2775.6641</td><td> -451.1094</td></tr>\n",
       "\t<tr><td> -451.1094</td><td>-2881.3361</td></tr>\n",
       "</tbody>\n",
       "</table>\n"
      ],
      "text/latex": [
       "\\begin{tabular}{ll}\n",
       "\t -2775.6641 &  -451.1094\\\\\n",
       "\t  -451.1094 & -2881.3361\\\\\n",
       "\\end{tabular}\n"
      ],
      "text/markdown": [
       "\n",
       "| -2775.6641 |  -451.1094 |\n",
       "|  -451.1094 | -2881.3361 |\n",
       "\n"
      ],
      "text/plain": [
       "     [,1]       [,2]      \n",
       "[1,] -2775.6641  -451.1094\n",
       "[2,]  -451.1094 -2881.3361"
      ]
     },
     "metadata": {},
     "output_type": "display_data"
    }
   ],
   "source": [
    "# Ковариационная матрица \n",
    "res$hessian"
   ]
  },
  {
   "cell_type": "code",
   "execution_count": 66,
   "metadata": {},
   "outputs": [
    {
     "data": {
      "text/html": [
       "<table>\n",
       "<tbody>\n",
       "\t<tr><td> 3.696807e-04</td><td>-5.787815e-05</td></tr>\n",
       "\t<tr><td>-5.787815e-05</td><td> 3.561228e-04</td></tr>\n",
       "</tbody>\n",
       "</table>\n"
      ],
      "text/latex": [
       "\\begin{tabular}{ll}\n",
       "\t  3.696807e-04 & -5.787815e-05\\\\\n",
       "\t -5.787815e-05 &  3.561228e-04\\\\\n",
       "\\end{tabular}\n"
      ],
      "text/markdown": [
       "\n",
       "|  3.696807e-04 | -5.787815e-05 |\n",
       "| -5.787815e-05 |  3.561228e-04 |\n",
       "\n"
      ],
      "text/plain": [
       "     [,1]          [,2]         \n",
       "[1,]  3.696807e-04 -5.787815e-05\n",
       "[2,] -5.787815e-05  3.561228e-04"
      ]
     },
     "metadata": {},
     "output_type": "display_data"
    }
   ],
   "source": [
    "p_var = solve(-1*res$hessian)\n",
    "p_var "
   ]
  },
  {
   "cell_type": "markdown",
   "metadata": {},
   "source": [
    "Довирительный интервал для $\\hat p_1$"
   ]
  },
  {
   "cell_type": "code",
   "execution_count": 69,
   "metadata": {},
   "outputs": [
    {
     "data": {
      "text/html": [
       "0.102988395225591"
      ],
      "text/latex": [
       "0.102988395225591"
      ],
      "text/markdown": [
       "0.102988395225591"
      ],
      "text/plain": [
       "[1] 0.1029884"
      ]
     },
     "metadata": {},
     "output_type": "display_data"
    },
    {
     "data": {
      "text/html": [
       "0.178357170401463"
      ],
      "text/latex": [
       "0.178357170401463"
      ],
      "text/markdown": [
       "0.178357170401463"
      ],
      "text/plain": [
       "[1] 0.1783572"
      ]
     },
     "metadata": {},
     "output_type": "display_data"
    }
   ],
   "source": [
    "alpha = 0.05\n",
    "z = qnorm(1 - alpha/2)\n",
    "\n",
    "p_hat[1] - z * sqrt(p_var[1,1])\n",
    "p_hat[1] + z * sqrt(p_var[1,1])"
   ]
  },
  {
   "cell_type": "markdown",
   "metadata": {},
   "source": [
    "Доверительный интервал для $\\hat p_1 - \\hat p_2$ \n",
    "\n",
    "$$\n",
    "Var(\\hat p_1 - \\hat p_2) =  Var(\\hat p_1) + Var(\\hat p_2) - 2 \\cdot Cov(\\hat p_1, \\hat p_2)\n",
    "$$"
   ]
  },
  {
   "cell_type": "code",
   "execution_count": 70,
   "metadata": {},
   "outputs": [
    {
     "data": {
      "text/html": [
       "-0.0507416597715678"
      ],
      "text/latex": [
       "-0.0507416597715678"
      ],
      "text/markdown": [
       "-0.0507416597715678"
      ],
      "text/plain": [
       "[1] -0.05074166"
      ]
     },
     "metadata": {},
     "output_type": "display_data"
    },
    {
     "data": {
      "text/html": [
       "0.0629740756460206"
      ],
      "text/latex": [
       "0.0629740756460206"
      ],
      "text/markdown": [
       "0.0629740756460206"
      ],
      "text/plain": [
       "[1] 0.06297408"
      ]
     },
     "metadata": {},
     "output_type": "display_data"
    }
   ],
   "source": [
    "diff_std = sqrt(p_var[1,1] + p_var[2,2] - 2 * p_var[1,2])\n",
    "diff = p_hat[1] - p_hat[2]\n",
    "\n",
    "diff - z * diff_std\n",
    "diff + z * diff_std"
   ]
  },
  {
   "cell_type": "markdown",
   "metadata": {},
   "source": [
    "-----------"
   ]
  },
  {
   "cell_type": "markdown",
   "metadata": {},
   "source": [
    "## Задаченька 1 (о призраках)\n",
    "\n",
    "<center>\n",
    "<img src=\"https://pbs.twimg.com/media/DqWmCg9X4AAkl0n.jpg\" height=\"200\" width=\"350\"> \n",
    "</center>\n",
    "\n",
    "Фрекен Бок видит призраков! У нас даже есть данные о числе призраков, которых она видела в течение недели: "
   ]
  },
  {
   "cell_type": "code",
   "execution_count": 3,
   "metadata": {},
   "outputs": [],
   "source": [
    "ghosts =  c(1, 2, 0, 0, 2, 0)"
   ]
  },
  {
   "cell_type": "markdown",
   "metadata": {},
   "source": [
    "Предположим, что количество привидений имеет пуассоновское распределение с параметром $\\lambda$. \n",
    "\n",
    "__а)__ Оцените $\\lambda$ с помощью ММП:"
   ]
  },
  {
   "cell_type": "raw",
   "metadata": {},
   "source": [
    "# Выписываем руками"
   ]
  },
  {
   "cell_type": "markdown",
   "metadata": {},
   "source": [
    "Чтобы гарантировать положительность параметра $\\lambda$, можно внутри функции оценивать $\\ln \\lambda$. Правда в плане дисперсий это приведёт к кое-каким проблемам :) "
   ]
  },
  {
   "cell_type": "code",
   "execution_count": null,
   "metadata": {},
   "outputs": [],
   "source": [
    "# вбиваем в компухтер"
   ]
  },
  {
   "cell_type": "markdown",
   "metadata": {},
   "source": [
    "__б)__ Нарисуйте получившийся экстремум и функцию правдоподобия на картинке."
   ]
  },
  {
   "cell_type": "code",
   "execution_count": null,
   "metadata": {},
   "outputs": [],
   "source": [
    "# вбиваем в компухтер"
   ]
  },
  {
   "cell_type": "markdown",
   "metadata": {},
   "source": [
    "__в)__ Постройте для параметра $\\lambda$  $80\\%$ доверительный интервал."
   ]
  },
  {
   "cell_type": "code",
   "execution_count": null,
   "metadata": {},
   "outputs": [],
   "source": [
    "# вбиваем в компухтер"
   ]
  },
  {
   "cell_type": "markdown",
   "metadata": {},
   "source": [
    "__г)__ С помощью теста отношения правдоподобий проверьте гипотезу о том, что $\\lambda = 1$. "
   ]
  },
  {
   "cell_type": "code",
   "execution_count": 4,
   "metadata": {},
   "outputs": [],
   "source": [
    "# Тут я нагло пойду в прошлогоднюю тетрадку и сопру из неё кусок текста :) "
   ]
  },
  {
   "cell_type": "code",
   "execution_count": null,
   "metadata": {},
   "outputs": [],
   "source": []
  },
  {
   "cell_type": "markdown",
   "metadata": {},
   "source": [
    "--------------"
   ]
  },
  {
   "cell_type": "markdown",
   "metadata": {},
   "source": [
    "## Задаченька 2 (о пользе алкоголя)\n",
    "\n",
    "[Как известно](https://www.livelib.ru/quote/305456-malysh-i-karlson-kotoryj-zhivet-na-kryshe-astrid-lindgren), Фрекен Бок пьёт коньяк по утрам.\n",
    "\n",
    "<center>\n",
    "<img src=\"http://semyarf.com/UPLOAD/2016/01/21/frekenbok-216_700_0.jpg\" height=\"200\" width=\"350\"> \n",
    "</center>\n",
    "\n",
    "А у нас даже есть дневные данные (в граммах):"
   ]
  },
  {
   "cell_type": "code",
   "execution_count": 1,
   "metadata": {},
   "outputs": [],
   "source": [
    "x = c(3.2, 7.9, 5.4, 4.9, 6.2, 4.3)"
   ]
  },
  {
   "cell_type": "markdown",
   "metadata": {},
   "source": [
    "__а)__ Предполагая, что $y_i$ независимы и нормальны $N(\\mu, \\sigma^2)$ выпишите функцию правдоподобия."
   ]
  },
  {
   "cell_type": "raw",
   "metadata": {},
   "source": [
    "# Руками!"
   ]
  },
  {
   "cell_type": "markdown",
   "metadata": {},
   "source": [
    "Чтобы гарантировать положительность параметра $\\sigma^2$ функция у нас будет зависеть от вектора параметров $\\theta$, причем $\\theta_1 = \\mu$, а $\\theta_2 = \\ln \\sigma^2$."
   ]
  },
  {
   "cell_type": "code",
   "execution_count": null,
   "metadata": {},
   "outputs": [],
   "source": [
    "# На компе"
   ]
  },
  {
   "cell_type": "markdown",
   "metadata": {},
   "source": [
    "__б)__ Найдите экстремум функции правдоподобия."
   ]
  },
  {
   "cell_type": "code",
   "execution_count": null,
   "metadata": {},
   "outputs": [],
   "source": [
    "# На компе"
   ]
  },
  {
   "cell_type": "markdown",
   "metadata": {},
   "source": [
    "__в)__ Как выглядит ковариационная матрица для оценок максимального правдоподобия? Постройте $80\\%$ доверительный интервал для $\\hat \\mu$."
   ]
  },
  {
   "cell_type": "code",
   "execution_count": null,
   "metadata": {},
   "outputs": [],
   "source": [
    "# На компе"
   ]
  },
  {
   "cell_type": "markdown",
   "metadata": {},
   "source": [
    "__г)__ Проверьте гипотезу о том, что $\\mu = 5$ с помощью теста отношения правдоподобий. "
   ]
  },
  {
   "cell_type": "code",
   "execution_count": null,
   "metadata": {},
   "outputs": [],
   "source": [
    "# На компе"
   ]
  },
  {
   "cell_type": "markdown",
   "metadata": {},
   "source": [
    "__д)__ Проверьте гипотезу о том, что $\\mu = 5$, а $\\sigma^2 = 3$ с помощью теста отношения правдоподобий."
   ]
  },
  {
   "cell_type": "code",
   "execution_count": null,
   "metadata": {},
   "outputs": [],
   "source": [
    "# На компе"
   ]
  },
  {
   "cell_type": "markdown",
   "metadata": {},
   "source": [
    "-----------"
   ]
  },
  {
   "cell_type": "markdown",
   "metadata": {},
   "source": [
    "## Задаченька 3 (о взаимосвязях)\n",
    "\n",
    "Возможно, что Фрекен-Бок видит призраков из-за коньяка.\n",
    "\n",
    "Предположим, что в $i$-й день интенсивность пуассоновского распределения $\\lambda_i$ связана с количеством выпитого коньяка формулой $\\lambda_i = \\exp(a + b y_i)$.\n",
    "\n",
    "__а)__ Оцените параметры $a$ и $b$, лапками выписав функцию правдоподобия. "
   ]
  },
  {
   "cell_type": "code",
   "execution_count": null,
   "metadata": {},
   "outputs": [],
   "source": [
    "# лапками"
   ]
  },
  {
   "cell_type": "code",
   "execution_count": null,
   "metadata": {},
   "outputs": [],
   "source": [
    "# на компухтере"
   ]
  },
  {
   "cell_type": "markdown",
   "metadata": {},
   "source": [
    "__б)__ С помощью теста отношения правдоподобий проверьте гипотезу о взаимосвязи призраков и выпитого коньяка."
   ]
  },
  {
   "cell_type": "code",
   "execution_count": null,
   "metadata": {},
   "outputs": [],
   "source": [
    "# лапками"
   ]
  },
  {
   "cell_type": "markdown",
   "metadata": {},
   "source": [
    "## Задаченька 4 (логистическая регрессия)\n",
    "\n",
    "Предположим другую вероятностную модель. Теперь мы будем предполагать, что сам факт обнаружения хотя бы одного приведения, имеет вероятность $p_i$, зависящую от $y_i$:\n",
    "\n",
    "$$\n",
    "p_i = \\frac{e^{a + b y_i}}{1 + e^{a + b y_i}} = \\frac{1}{1 + e^{-(a + b y_i)}}\n",
    "$$\n",
    "\n",
    "__а)__ Введите дамми-переменную равную 1, если Фрекен Бок видела приведение:"
   ]
  },
  {
   "cell_type": "code",
   "execution_count": null,
   "metadata": {},
   "outputs": [],
   "source": [
    "# на компухтере"
   ]
  },
  {
   "cell_type": "markdown",
   "metadata": {},
   "source": [
    "__б)__ Определив лапками функцию правдоподобия, оцените $a$ и $b$:"
   ]
  },
  {
   "cell_type": "code",
   "execution_count": null,
   "metadata": {},
   "outputs": [],
   "source": [
    "# на компухтере"
   ]
  },
  {
   "cell_type": "markdown",
   "metadata": {},
   "source": [
    "# 3. Многомерный дельта-метод\n",
    "\n",
    "Предположим, что мы воспользовались методом максимального правдоподобия и получили, что \n",
    "\n",
    "$$\n",
    "\\begin{aligned}\n",
    "\\hat p = \\begin{pmatrix} \\frac{1}{3} \\\\ \\frac{2}{3} \\end{pmatrix} & \\hspace{2cm} \\hat{Var}(p) = \\begin{pmatrix} 5 & 2 \\\\ 2 & 1 \\end{pmatrix}\n",
    "\\end{aligned}\n",
    "$$"
   ]
  },
  {
   "cell_type": "markdown",
   "metadata": {},
   "source": [
    "__а)__ Пстройте $80\\%$ асимптотический доверительный интервал для $p_1$."
   ]
  },
  {
   "cell_type": "code",
   "execution_count": null,
   "metadata": {},
   "outputs": [],
   "source": []
  },
  {
   "cell_type": "markdown",
   "metadata": {},
   "source": [
    "__б)__ Пстройте $80\\%$ асимптотический доверительный интервал для $p_1 - p_2$."
   ]
  },
  {
   "cell_type": "code",
   "execution_count": null,
   "metadata": {},
   "outputs": [],
   "source": []
  },
  {
   "cell_type": "markdown",
   "metadata": {},
   "source": [
    "__в)__ Пстройте $80\\%$ асимптотический доверительный интервал для $\\ln p_1$ с помощью дельта-метода."
   ]
  },
  {
   "cell_type": "code",
   "execution_count": null,
   "metadata": {},
   "outputs": [],
   "source": []
  },
  {
   "cell_type": "markdown",
   "metadata": {},
   "source": [
    "__г)__ Пстройте $80\\%$ асимптотический доверительный интервал для $p^2_1 - p^2_2$ с помощью дельа-метода."
   ]
  },
  {
   "cell_type": "code",
   "execution_count": null,
   "metadata": {},
   "outputs": [],
   "source": []
  },
  {
   "cell_type": "markdown",
   "metadata": {},
   "source": [
    "Под занавес докажем многомерный дельта-метод с помощью разложения в ряд Тэйлора!"
   ]
  },
  {
   "cell_type": "code",
   "execution_count": null,
   "metadata": {},
   "outputs": [],
   "source": []
  },
  {
   "cell_type": "markdown",
   "metadata": {},
   "source": [
    "--------------------"
   ]
  }
 ],
 "metadata": {
  "kernelspec": {
   "display_name": "R",
   "language": "R",
   "name": "ir"
  },
  "language_info": {
   "codemirror_mode": "r",
   "file_extension": ".r",
   "mimetype": "text/x-r-source",
   "name": "R",
   "pygments_lexer": "r",
   "version": "3.5.3"
  }
 },
 "nbformat": 4,
 "nbformat_minor": 2
}
