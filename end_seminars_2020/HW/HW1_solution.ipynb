{
 "cells": [
  {
   "cell_type": "markdown",
   "metadata": {},
   "source": [
    "<img src=\"https://raw.githubusercontent.com/FUlyankin/r_probability/master/end_seminars/sem_2/yYGiBqtirSM.jpg\" height=\"300\" width=\"300\"> \n",
    "\n",
    "# <center> R для тервера и матстата. <br>  <br> Домашка номер раз! </center>\n",
    "\n",
    "Данный ноутбук является домашкой по курсу «R для теории вероятностей и математической статистики» (РАНХиГС, 2020). Автор ноутбука - [вот этот парень по имени Филипп.](https://vk.com/ppilif) Если у вас для него есть деньги, слава или женщины, он от этого всего не откажется. Ноутбук распространяется на условиях лицензии [Creative Commons Attribution-Share Alike 4.0.](https://creativecommons.org/licenses/by-sa/4.0/) При использовании обязательно упоминание автора курса и аффилиации. При наличии технической возможности необходимо также указать активную гиперссылку на [страницу курса.](https://fulyankin.github.io/r_probability/) На ней можно найти другие материалы. Фрагменты кода, включенные в этот notebook, публикуются как [общественное достояние.](https://creativecommons.org/publicdomain/zero/1.0/)\n",
    "\n",
    "----------------------\n"
   ]
  },
  {
   "cell_type": "markdown",
   "metadata": {},
   "source": [
    "__Краткий брифинг:__\n",
    "\n",
    "\n",
    "* __Дедлайн:__ __10.05.20__\n",
    "* Первая домашка затрагивает то, что мы смотрели на первых двух парах.\n",
    "* Тетрадка делится на две части: __рыбёшки (65 баллов) и кит (35 баллов).__\n",
    "* Часть задач нужно решить не только с помощью симуляций, но и вручную.\n",
    "* Ваша команда пытается решить как можно больше задач и присылает их мне.\n",
    "* Если очень хочется, можем устроить после всех дедлайнов серию из пар с разбором домашек. \n",
    "* Свои решения постараюсь выложить после дедлайна.\n",
    "* __WARNING:__ [на страничке курса](https://github.com/FUlyankin/r_probability) есть решение домашек прошлого года. Ими можно пользоваться. Там много полезного и интересного! А ещё не стесняйтесь задавать вопросы :) \n",
    "\n",
    "---------------------------\n",
    "\n",
    "* __Как оформлять домашки:__ \n",
    "    1. Компьютерные домашки оформляем либо в связке R + LaTeX, либо в юпитерских тетрадках (если хочется новых технологий), либо в связке R + Markdown. Все шаблоны для этого есть в репозитории. Пожалуйста не нужно присылать мне просто тупой код с выводами в виде комментариев, написанных через решёточки. Я от этого могу сойти с ума. \n",
    "    2. Ручные решение можно оформлять двумя способами: либо вбивать их в файл вместе с кодом. Благо в Markdown, юпитере и других местах поддерживаются теховские формулу. Либо аккуратно оформляйте их на бумаге и присылайте свёрстанную pdf-ку. Не надо кидать мне фотки по одной. Я от этого тоже сойду с ума. Вариант с вбиванием в основной файл - предпочтительнее. \n",
    "    \n",
    "* На странице курса висит [видео-инструкция по оформлению.](https://yadi.sk/i/Pxp_pByP6Em9-A)\n",
    "\n",
    "---------------------------\n",
    "\n",
    "Ближе к делу. С чего начинается любой скрипт? Правильно! С подгрузки пакетов :) "
   ]
  },
  {
   "cell_type": "code",
   "execution_count": 109,
   "metadata": {},
   "outputs": [],
   "source": [
    "library(\"ggplot2\")  # Пакет для красивых графиков \n",
    "library(\"reshape2\")\n",
    "\n",
    "library(\"grid\")     # Пакет для субплотов\n",
    "\n",
    "# Отрегулируем размер картинок, которые будут выдаваться в нашей тетрадке\n",
    "library('repr')\n",
    "options(repr.plot.width=4, repr.plot.height=3)\n",
    "\n",
    "# Внимание! Если вы делаете дз в Rstudio, то вам не нужны пакеты grid, repr и т.п.\n",
    "# Вам нужен только пакет ggplot2! "
   ]
  },
  {
   "cell_type": "markdown",
   "metadata": {},
   "source": [
    "### [2]  Задачка 1\n",
    "\n",
    "Давайте уточним [правило трёх сигм.](https://ru.wikipedia.org/wiki/Среднеквадратическое_отклонение#Правило_трёх_сигм)\n",
    "\n",
    "__Утверждение:__ $99.7\\%$ вероятностной массы случайной величины $X \\sim N(\\mu,\\sigma^2)$ лежит в интервале $\\mu \\pm c \\cdot \\sigma$. Чему равно значение константы $c$? А если речь про 80\\%? "
   ]
  },
  {
   "cell_type": "code",
   "execution_count": 38,
   "metadata": {},
   "outputs": [
    {
     "data": {
      "text/html": [
       "2.96773792534177"
      ],
      "text/latex": [
       "2.96773792534177"
      ],
      "text/markdown": [
       "2.96773792534177"
      ],
      "text/plain": [
       "[1] 2.967738"
      ]
     },
     "metadata": {},
     "output_type": "display_data"
    },
    {
     "data": {
      "text/html": [
       "1.2815515655446"
      ],
      "text/latex": [
       "1.2815515655446"
      ],
      "text/markdown": [
       "1.2815515655446"
      ],
      "text/plain": [
       "[1] 1.281552"
      ]
     },
     "metadata": {},
     "output_type": "display_data"
    }
   ],
   "source": [
    "# деление на два, так как в обоих хвостах должно остаться alpha/2\n",
    "qnorm(1 - (1 - 0.997)/2)\n",
    "qnorm(1 - 0.2/2)"
   ]
  },
  {
   "cell_type": "markdown",
   "metadata": {},
   "source": [
    "### [3] Задачка 2\n",
    "\n",
    "Давайте попробуем проверить несколько свойств математических ожиданий и дисперсий, которые вы доказали на лекциях по теории вероятностей в прошлом семестре. Выберите конкретные случайные величины (любые) и проверьте для них утверждения, перечисленные ниже. "
   ]
  },
  {
   "cell_type": "code",
   "execution_count": 31,
   "metadata": {},
   "outputs": [],
   "source": [
    "# Хочу экспоненциальную и равномерную, нанизанную на экспоненциальную!\n",
    "# Так зависимсоть между величинами будет\n",
    "\n",
    "n_obs = 10^6\n",
    "\n",
    "x = rexp(n_obs, rate = 2)\n",
    "y = x + runif(n_obs, min = 2, max = 5)"
   ]
  },
  {
   "cell_type": "markdown",
   "metadata": {},
   "source": [
    "__[а]__ Верно ли, что $E(X + Y) = E(X) + E(Y)$? "
   ]
  },
  {
   "cell_type": "code",
   "execution_count": 32,
   "metadata": {},
   "outputs": [
    {
     "data": {
      "text/html": [
       "4.50112109619415"
      ],
      "text/latex": [
       "4.50112109619415"
      ],
      "text/markdown": [
       "4.50112109619415"
      ],
      "text/plain": [
       "[1] 4.501121"
      ]
     },
     "metadata": {},
     "output_type": "display_data"
    },
    {
     "data": {
      "text/html": [
       "4.50112109619415"
      ],
      "text/latex": [
       "4.50112109619415"
      ],
      "text/markdown": [
       "4.50112109619415"
      ],
      "text/plain": [
       "[1] 4.501121"
      ]
     },
     "metadata": {},
     "output_type": "display_data"
    }
   ],
   "source": [
    "# a) Из курс тервера мы знаем, что это правда всегда \n",
    "mean(x + y)\n",
    "mean(x) + mean(y)"
   ]
  },
  {
   "cell_type": "markdown",
   "metadata": {},
   "source": [
    "__[б]__ Верно ли, что $E(X \\cdot Y) = E(X) \\cdot E(Y)$?"
   ]
  },
  {
   "cell_type": "code",
   "execution_count": 33,
   "metadata": {},
   "outputs": [
    {
     "data": {
      "text/html": [
       "2.25355227541643"
      ],
      "text/latex": [
       "2.25355227541643"
      ],
      "text/markdown": [
       "2.25355227541643"
      ],
      "text/plain": [
       "[1] 2.253552"
      ]
     },
     "metadata": {},
     "output_type": "display_data"
    },
    {
     "data": {
      "text/html": [
       "2.00223186159474"
      ],
      "text/latex": [
       "2.00223186159474"
      ],
      "text/markdown": [
       "2.00223186159474"
      ],
      "text/plain": [
       "[1] 2.002232"
      ]
     },
     "metadata": {},
     "output_type": "display_data"
    }
   ],
   "source": [
    "# b) Ну тут явно чего-то не хватает...\n",
    "mean(x*y)\n",
    "mean(x)*mean(y)"
   ]
  },
  {
   "cell_type": "code",
   "execution_count": 34,
   "metadata": {},
   "outputs": [
    {
     "data": {
      "text/html": [
       "2.25355252673709"
      ],
      "text/latex": [
       "2.25355252673709"
      ],
      "text/markdown": [
       "2.25355252673709"
      ],
      "text/plain": [
       "[1] 2.253553"
      ]
     },
     "metadata": {},
     "output_type": "display_data"
    }
   ],
   "source": [
    "# Давайте посмотрим лекции по терверу и вспомним чего не хватает :) \n",
    "mean(x)*mean(y) + cov(x,y)"
   ]
  },
  {
   "cell_type": "markdown",
   "metadata": {},
   "source": [
    "__[в]__ Верно ли, что $Var(X + Y) = Var(X) + Var(Y) + 2 \\cdot Cov(X,Y)$? "
   ]
  },
  {
   "cell_type": "code",
   "execution_count": 35,
   "metadata": {},
   "outputs": [
    {
     "data": {
      "text/html": [
       "1.75513789956927"
      ],
      "text/latex": [
       "1.75513789956927"
      ],
      "text/markdown": [
       "1.75513789956927"
      ],
      "text/plain": [
       "[1] 1.755138"
      ]
     },
     "metadata": {},
     "output_type": "display_data"
    },
    {
     "data": {
      "text/html": [
       "1.75513789956927"
      ],
      "text/latex": [
       "1.75513789956927"
      ],
      "text/markdown": [
       "1.75513789956927"
      ],
      "text/plain": [
       "[1] 1.755138"
      ]
     },
     "metadata": {},
     "output_type": "display_data"
    }
   ],
   "source": [
    "#c) Это чистая правда! В лекциях даже доказательство есть!\n",
    "var(x + y)\n",
    "var(x) + var(y) + 2*cov(x,y)"
   ]
  },
  {
   "cell_type": "markdown",
   "metadata": {},
   "source": [
    "__[г]__ Верно ли, что $Var(X \\cdot Y) = Var(X) \\cdot Var(Y)$? "
   ]
  },
  {
   "cell_type": "code",
   "execution_count": 36,
   "metadata": {},
   "outputs": [
    {
     "data": {
      "text/html": [
       "8.2564363471865"
      ],
      "text/latex": [
       "8.2564363471865"
      ],
      "text/markdown": [
       "8.2564363471865"
      ],
      "text/plain": [
       "[1] 8.256436"
      ]
     },
     "metadata": {},
     "output_type": "display_data"
    },
    {
     "data": {
      "text/html": [
       "0.251568397662535"
      ],
      "text/latex": [
       "0.251568397662535"
      ],
      "text/markdown": [
       "0.251568397662535"
      ],
      "text/plain": [
       "[1] 0.2515684"
      ]
     },
     "metadata": {},
     "output_type": "display_data"
    }
   ],
   "source": [
    "#d) Ложь! Очередная! А слабо найти правильную формулу? Она довольно неочевидна :)\n",
    "var(x*y)\n",
    "var(x)*var(y)"
   ]
  },
  {
   "cell_type": "markdown",
   "metadata": {},
   "source": [
    "__[д]__ Верно ли, что если $Cov(X, Y) = 0$, то две случайные величины независимы? Удастся ли проверить это с помощью генераций? "
   ]
  },
  {
   "cell_type": "markdown",
   "metadata": {},
   "source": [
    "Это наглая ложь! Простейший пример. Пусть случайная величина $X$ равновероятно принимает три значения:\n",
    "\n",
    "|$X$|$-1$|$0$|$1$| \n",
    "|---|----|---|---|\n",
    "| $P$  |1/3 |1/3|1/3|\n",
    "\n",
    "Пусть $Z = |X|$.\n",
    "\n",
    "|$Z$|$0$|$1$| \n",
    "|---|---|---|\n",
    "| $P$  |1/3|2/3|\n",
    "\n",
    "Тогда эти две виличины явно зависимы. Одна выражается через другую. Но при этом \n",
    "\n",
    "$$\n",
    "Cov(X,Z) = E(X \\cdot Z) - E(X) \\cdot E(Z) = 0.\n",
    "$$"
   ]
  },
  {
   "cell_type": "code",
   "execution_count": 37,
   "metadata": {},
   "outputs": [
    {
     "data": {
      "text/html": [
       "3.62633552633545e-05"
      ],
      "text/latex": [
       "3.62633552633545e-05"
      ],
      "text/markdown": [
       "3.62633552633545e-05"
      ],
      "text/plain": [
       "[1] 3.626336e-05"
      ]
     },
     "metadata": {},
     "output_type": "display_data"
    }
   ],
   "source": [
    "x = sample(c(-1,0,1), size = n_obs, replace = TRUE)\n",
    "z = abs(x)  # задаём зависимость между z и x  \n",
    "cov(x,z)    # получаем близкое к нулю число"
   ]
  },
  {
   "cell_type": "markdown",
   "metadata": {},
   "source": [
    "### [10]  Задачка 3\n",
    "\n",
    "Таня сидит дома на самоизоляции уже третий месяц. Интернет отключили. Ей скучно. Она достала. из ящика $5$ лампочек, вкрутила их в люстру, поставила посреди комнаты стул и стала ждать, когда первая лампочка перегорит. Время работы лампочек, $T$, имеет экспоненциальное распределение с параметром $\\lambda = 0.2$ минут.\n",
    "\n",
    "-  Какова вероятность того, что первая лапочка проработает больше $10$ минут? "
   ]
  },
  {
   "cell_type": "code",
   "execution_count": 3,
   "metadata": {},
   "outputs": [
    {
     "data": {
      "text/html": [
       "0.135335283236613"
      ],
      "text/latex": [
       "0.135335283236613"
      ],
      "text/markdown": [
       "0.135335283236613"
      ],
      "text/plain": [
       "[1] 0.1353353"
      ]
     },
     "metadata": {},
     "output_type": "display_data"
    }
   ],
   "source": [
    "### ╰( ͡° ͜ʖ ͡° )つ▬▬ι═══════  немого кода там\n",
    "\n",
    "# В этом пункте не надо было ничего генерировать!\n",
    "\n",
    "# P(T1 > 10) = 1 - P(T1 <= 10) = 1 - F(10)\n",
    "1 - pexp(10, rate = 0.2)"
   ]
  },
  {
   "cell_type": "markdown",
   "metadata": {},
   "source": [
    "-  Чему равен для первой лампочки $95\\%$ квантиль? Как проинтерпретировать это число? \n",
    "\n",
    "__Ответ:__  $95\\%$ значений случайной величины меньше, чем $14.98$, т.е. с $95\\%$ вероятностью лампочка проработает меньше этого времени"
   ]
  },
  {
   "cell_type": "code",
   "execution_count": 4,
   "metadata": {},
   "outputs": [
    {
     "data": {
      "text/html": [
       "14.97866136777"
      ],
      "text/latex": [
       "14.97866136777"
      ],
      "text/markdown": [
       "14.97866136777"
      ],
      "text/plain": [
       "[1] 14.97866"
      ]
     },
     "metadata": {},
     "output_type": "display_data"
    }
   ],
   "source": [
    "### ╰( ͡° ͜ʖ ͡° )つ▬▬ι═══════  немого кода сям\n",
    "qexp(0.95, rate=0.2)"
   ]
  },
  {
   "cell_type": "markdown",
   "metadata": {},
   "source": [
    "Пусть случайная велчина $X = \\min(T_1, \\ldots, T_5)$ - время до перегорания первой лампочки. Оцените: \n",
    "\n",
    "- $P(X > 10)$\n",
    "- $P(X > 10 \\mid T_1 > 5)$\n",
    "- $E(X)$\n",
    "- $E(X \\mid T_1 > 5)$"
   ]
  },
  {
   "cell_type": "code",
   "execution_count": 13,
   "metadata": {},
   "outputs": [
    {
     "data": {
      "text/html": [
       "4.5e-05"
      ],
      "text/latex": [
       "4.5e-05"
      ],
      "text/markdown": [
       "4.5e-05"
      ],
      "text/plain": [
       "[1] 4.5e-05"
      ]
     },
     "metadata": {},
     "output_type": "display_data"
    },
    {
     "data": {
      "text/html": [
       "0.000122229797451645"
      ],
      "text/latex": [
       "0.000122229797451645"
      ],
      "text/markdown": [
       "0.000122229797451645"
      ],
      "text/plain": [
       "[1] 0.0001222298"
      ]
     },
     "metadata": {},
     "output_type": "display_data"
    }
   ],
   "source": [
    "### ╰( ͡° ͜ʖ ͡° )つ▬▬ι═══════  немого кода пам\n",
    "n_obs = 10**6\n",
    "k = 5\n",
    "\n",
    "T = rexp(n_obs*k, rate=0.2)\n",
    "T = matrix(T, nrow = k, ncol=n_obs) # каждая строка - лампочка, столбец - наблюдение\n",
    "\n",
    "T1 = T[1,] # первая строка это первая лампа\n",
    "\n",
    "X = apply(T, 2, min) # минимум по каждому столбцу\n",
    "\n",
    "mean(X > 10)\n",
    "mean(X[T1 > 5] > 10)"
   ]
  },
  {
   "cell_type": "code",
   "execution_count": 14,
   "metadata": {},
   "outputs": [
    {
     "data": {
      "text/html": [
       "1.00024200978099"
      ],
      "text/latex": [
       "1.00024200978099"
      ],
      "text/markdown": [
       "1.00024200978099"
      ],
      "text/plain": [
       "[1] 1.000242"
      ]
     },
     "metadata": {},
     "output_type": "display_data"
    },
    {
     "data": {
      "text/html": [
       "1.24677433691119"
      ],
      "text/latex": [
       "1.24677433691119"
      ],
      "text/markdown": [
       "1.24677433691119"
      ],
      "text/plain": [
       "[1] 1.246774"
      ]
     },
     "metadata": {},
     "output_type": "display_data"
    }
   ],
   "source": [
    "mean(X)\n",
    "mean(X[T1 > 5])"
   ]
  },
  {
   "cell_type": "markdown",
   "metadata": {},
   "source": [
    "Пусть случайная величина $Y = \\max(T_1, \\ldots, T_5)$ - время до перегорания последней лампочки. Оцените \n",
    "\n",
    "- $E(Y - X)$\n",
    "- $P(Y > 2 X)$ \n",
    "- $Cov(X,Y)$,\n",
    "- $Var(X), Var(Y)$, какая из дисперсий больше, почему?"
   ]
  },
  {
   "cell_type": "code",
   "execution_count": 15,
   "metadata": {},
   "outputs": [
    {
     "data": {
      "text/html": [
       "10.4171559359298"
      ],
      "text/latex": [
       "10.4171559359298"
      ],
      "text/markdown": [
       "10.4171559359298"
      ],
      "text/plain": [
       "[1] 10.41716"
      ]
     },
     "metadata": {},
     "output_type": "display_data"
    },
    {
     "data": {
      "text/html": [
       "0.991933"
      ],
      "text/latex": [
       "0.991933"
      ],
      "text/markdown": [
       "0.991933"
      ],
      "text/plain": [
       "[1] 0.991933"
      ]
     },
     "metadata": {},
     "output_type": "display_data"
    },
    {
     "data": {
      "text/html": [
       "0.995770759901483"
      ],
      "text/latex": [
       "0.995770759901483"
      ],
      "text/markdown": [
       "0.995770759901483"
      ],
      "text/plain": [
       "[1] 0.9957708"
      ]
     },
     "metadata": {},
     "output_type": "display_data"
    },
    {
     "data": {
      "text/html": [
       "1.00114076060081"
      ],
      "text/latex": [
       "1.00114076060081"
      ],
      "text/markdown": [
       "1.00114076060081"
      ],
      "text/plain": [
       "[1] 1.001141"
      ]
     },
     "metadata": {},
     "output_type": "display_data"
    },
    {
     "data": {
      "text/html": [
       "36.6525920476878"
      ],
      "text/latex": [
       "36.6525920476878"
      ],
      "text/markdown": [
       "36.6525920476878"
      ],
      "text/plain": [
       "[1] 36.65259"
      ]
     },
     "metadata": {},
     "output_type": "display_data"
    }
   ],
   "source": [
    "### ╰( ͡° ͜ʖ ͡° )つ▬▬ι═══════  немого шкода\n",
    "\n",
    "Y = apply(T, 2, max) # максимум по каждому столбцу\n",
    "\n",
    "mean(Y - X)\n",
    "mean(Y > 2*X)\n",
    "cov(X, Y)\n",
    "var(X)\n",
    "var(Y)"
   ]
  },
  {
   "cell_type": "raw",
   "metadata": {},
   "source": [
    "Почему дисперсия Y больше дисперсии X? Всё дело в длинных хвостах экспоненциального распределения. Когда берем максимум от пяти экспоненциально распределенных случайных величин, то чаще попадаем в такие хвосты, чем в тех случаях, когда берем минимум. Отсюда и такой высокий разброс случайной величины Y."
   ]
  },
  {
   "cell_type": "markdown",
   "metadata": {},
   "source": [
    "__[бонусные 20 баллов]__\n",
    "\n",
    "Попробуйте руками на бумажке выяснить какое распределение будет у случайных велчин $X$ и $Y$. \n",
    "\n",
    "__[а]__ Найдите их плотности распрееления. Представим, что у нас $n$ лампочек. Как плотности распределения зависят от $n$?\n",
    "\n",
    "__Решение:__\n",
    "\n",
    "Тут ничего нового. На парах вы должны были решать задачку с поиском того как распределён максимум и минимум из нескольких случайных величин. [Вот решение из учебника Черновой.](https://nsu.ru/mmf/tvims/chernova/tv/lec/node68.html) Я тут лишь выпишу итоговый результат: \n",
    "\n",
    "\\begin{equation*}\n",
    "\\begin{aligned} \n",
    "& F(y) = (F(t))^n = (1 - e^{-\\lambda y})^n, y \\ge 0 \\\\\n",
    "& F(x) = 1 - (1 - F(t))^n = 1 - e^{-\\lambda n x}, x \\ge 0\n",
    "\\end{aligned} \n",
    "\\end{equation*}\n",
    "\n",
    "Чтобы получить плотности просто возьмём производные: \n",
    "\n",
    "\\begin{equation*}\n",
    "\\begin{aligned} \n",
    "& f(y) = \\lambda n e^{-\\lambda y} (1 - e^{-\\lambda y})^{(n-1)}, y \\ge 0  \\\\\n",
    "& f(x) = \\lambda n e^{-\\lambda n x}, x \\ge 0 \n",
    "\\end{aligned} \n",
    "\\end{equation*}\n",
    "\n",
    "Обратите внимание, что $X = \\min(T_1, \\ldots, T_n) \\sim Exp(n \\lambda)$. Это одно из свойств экспоненциальных величин. Минимум из них всегда распределён экспоненциально."
   ]
  },
  {
   "cell_type": "markdown",
   "metadata": {},
   "source": [
    "Нарисуем графики с зависимостью от $n$ при фиксированном $\\lambda$. "
   ]
  },
  {
   "cell_type": "code",
   "execution_count": null,
   "metadata": {},
   "outputs": [],
   "source": []
  },
  {
   "cell_type": "code",
   "execution_count": null,
   "metadata": {},
   "outputs": [],
   "source": [
    "lambda = 0.2 \n"
   ]
  },
  {
   "cell_type": "markdown",
   "metadata": {},
   "source": [
    "Если посчитать предел по $n$ для функции распределения, можно обнаружит к чему будет сходиться последовательность случайных величин $\n",
    "\n",
    "\n",
    "В задаче $15$ пункте в из второй домашки прошлого года можно в качестве бонуса посмотреть на ещё один пример сходимости максиуммов, но уже к экспоненциальному распределению. "
   ]
  },
  {
   "cell_type": "markdown",
   "metadata": {},
   "source": [
    "__[б]__ Найдите $\\mathbb{E}(Y - X)$. Куда оно стремится при $n \\to \\infty$?\n",
    "\n",
    "__Решение:__ \n",
    "\n",
    "$$\n",
    "\\mathbb{E}(Y - X) = \\mathbb{E}(Y) - \\mathbb{E}(X) \n",
    "$$\n",
    "\n",
    "Мы знаем, что  $\\mathbb{E}(X) = \\frac{1}{\\lambda n}$, так как $X \\sim Exp(n \\lambda)$. Можно было бы найти его по-честному. Для этого пришлось бы взять интеграл: \n",
    "\n",
    "$$\n",
    "\\mathbb{E}(X) = \\int_0^{+\\infty} t \\cdot \\lambda n e^{-\\lambda n t} dt = \\frac{1}{\\lambda n} \\int_0^{+\\infty} w^{2 - 1} e^{-w} dw = \\frac{1}{\\lambda n} \\cdot \\Gamma(2) = \\frac{1}{\\lambda n}.\n",
    "$$\n",
    "\n",
    "Можно было бы проинтегрировать по частям, но это жутко неудобно. Лучше воспользоваться гамма-функцией. Если вам не повезло с семинаристом по матану и вы не научились это делать, [вот эта маленькая виньетка](https://drive.google.com/drive/u/1/folders/0BzLQByfHfn5bTGhSVUltQnpEbkE) может помочь. Там же немного задачек на бета-функцию."
   ]
  },
  {
   "cell_type": "code",
   "execution_count": null,
   "metadata": {},
   "outputs": [],
   "source": []
  },
  {
   "cell_type": "code",
   "execution_count": null,
   "metadata": {},
   "outputs": [],
   "source": []
  },
  {
   "cell_type": "code",
   "execution_count": 8,
   "metadata": {},
   "outputs": [],
   "source": [
    "### решение на бумажке"
   ]
  },
  {
   "cell_type": "code",
   "execution_count": null,
   "metadata": {},
   "outputs": [],
   "source": []
  },
  {
   "cell_type": "markdown",
   "metadata": {},
   "source": [
    "\n",
    "- Если это возможно, найдите совместную плотность распределения $f(x, y)$\n",
    "- Найдите $Cov(X, Y)$. Как она зависит от $n$? Куда она сходится при $n \\to \\infty$?\n",
    "\n",
    "__Решение:__ "
   ]
  },
  {
   "cell_type": "code",
   "execution_count": null,
   "metadata": {},
   "outputs": [],
   "source": []
  },
  {
   "cell_type": "markdown",
   "metadata": {},
   "source": [
    "### [5]  Задачка 4\n",
    "\n",
    "Самара стажировался в Бирмане, но его закрыли на карантин. Поэтому он пошёл работать в магазин кассиром и взял себе псевдоним \"баба Зина\".\n",
    "\n",
    "Время между приходами людей в магазин распределено экспоненциально. В среднем за $10$ минут приходит $5$ покупателей. Время обслуживания тоже имеет экспоненциальное распределение. В среднем за $10$ минут баба Зина может обслужить $6$ человек. \n",
    "\n",
    "- Какова вероятность того, что в очереди стоит ровно $5$ человек? \n",
    "- Какова средняя длина очереди? \n",
    "- Постройте для длины очереди гистограмму. Как думаете какое у неё распределение?"
   ]
  },
  {
   "cell_type": "code",
   "execution_count": 9,
   "metadata": {},
   "outputs": [],
   "source": [
    "### ╰( ͡° ͜ʖ ͡° )つ▬▬ι═══════  ещё код\n",
    "\n",
    "\n",
    "# В задачке надо смотреть на диапазоны в 10 минут. \n"
   ]
  },
  {
   "cell_type": "markdown",
   "metadata": {},
   "source": [
    "В магазин на работу вышла тётя Маша. Она обслуживает в среднем $7$ покупателей за $10$ минут. Два клиента подошли к кассам одновременно. Какова вероятность того, что баба Зина обслужит клиента быстрее? "
   ]
  },
  {
   "cell_type": "code",
   "execution_count": 10,
   "metadata": {},
   "outputs": [],
   "source": [
    "### ╰( ͡° ͜ʖ ͡° )つ▬▬ι═══════  снова код"
   ]
  },
  {
   "cell_type": "markdown",
   "metadata": {},
   "source": [
    "### [5]  Задачка 5\n",
    "\n",
    "Пока мир сидит на самоизоляции, технологические компании [тестируют свои беспилотные машины и поезда.](https://www.rbc.ru/technology_and_media/03/04/2020/5e871ecf9a794784dd22f1de)\n",
    "\n",
    "Например, прямо сейчас от станции Ромашково друг за другом в одном направлении отходит $100$ паровозиков с интервалом в одну минуту. Стартовые скорости паравозиков - независимые, равномерные на отрезке $[0;1]$ случайные величины. Когда более быстрый паровозик догоняет более медленный, они снижает свою скорость до скорости догнанного паровозика. \n",
    "\n",
    "Через достаточно длинный интервал времени паровозики разобьются на несколько групп. С помощью симуляций найдите ответ на следующие вопросы.\n",
    "\n",
    "__[бонусные 10 баллов]__ найдите решение пунктов __а, б, в__ руками на бумажке. (это задачка номер 78 из [культурного кода)](https://github.com/bdemeshev/probability_dna/blob/master/probability_dna.pdf)\n",
    "\n",
    "__[а]__  Какова вероятность того, что пятый паровозик - лидер очередной группы? \n",
    "\n",
    "__Решение:__  \n",
    "\n",
    "Чтобы быть лидером своей группы пятый паровозик должен ехать медленнее первых четверых. Из-за того, что мы имеем дело с экспоненциальным распределением, это происходит с вероятностью $\\frac{1}{5}$. "
   ]
  },
  {
   "cell_type": "code",
   "execution_count": 17,
   "metadata": {},
   "outputs": [
    {
     "data": {
      "text/html": [
       "0.200114"
      ],
      "text/latex": [
       "0.200114"
      ],
      "text/markdown": [
       "0.200114"
      ],
      "text/plain": [
       "[1] 0.200114"
      ]
     },
     "metadata": {},
     "output_type": "display_data"
    }
   ],
   "source": [
    "n_obs = 10**6\n",
    "\n",
    "m = 0\n",
    "for(i in 1:n_obs){\n",
    "    x = runif(100) # одна стартовая раскладка скоростей\n",
    "    \n",
    "    cnt = 0\n",
    "    for(item in x[1:4]){\n",
    "        cnt = cnt + (item > x[5])\n",
    "    }\n",
    "\n",
    "    # если скорость всех четырёх выше пятого, он лидер\n",
    "    if(cnt == 4){\n",
    "        m = m + 1 \n",
    "    }\n",
    "}\n",
    "\n",
    "m/n_obs"
   ]
  },
  {
   "cell_type": "markdown",
   "metadata": {},
   "source": [
    "__[б]__  Пусть $X$ - число групп, на которое разбились паравозики. На сколько групп в среднем разбиваются паравозики?\n",
    "\n",
    "__Решение:__ \n",
    "\n",
    "Пусть случайная величина $X_i$ принимает значение $1$, если $i-$ый паровозик является лидером своей группы. Тогда числу групп равно \n",
    "\n",
    "$$\n",
    "X = X_1 + \\ldots + X_n.\n",
    "$$\n",
    "\n",
    "По свойствам математического ожидания, ожидание суммы всегда равно сумме ожиданий. Математическое ожидание $X_i$ равно вероятности того, что $i-$ый паровозик возглавляет свою группу. Паровозик лидер, если все кто перед ним едут быстрее. В силу равномерности получаем, что $i-$ый паровозик лидер с вероятностью $\\frac{1}{i}$. То есть:   \n",
    "\n",
    "$$\n",
    "E(X) = E(X_1) + \\ldots + E(X_n) = 1 + \\frac{1}{2} + \\frac{1}{3} + \\ldots + \\frac{1}{n} \n",
    "$$"
   ]
  },
  {
   "cell_type": "code",
   "execution_count": 18,
   "metadata": {},
   "outputs": [
    {
     "data": {
      "text/html": [
       "5.18737751763962"
      ],
      "text/latex": [
       "5.18737751763962"
      ],
      "text/markdown": [
       "5.18737751763962"
      ],
      "text/plain": [
       "[1] 5.187378"
      ]
     },
     "metadata": {},
     "output_type": "display_data"
    }
   ],
   "source": [
    "s = 0 \n",
    "for(i in 1:100){\n",
    "    s = s + 1/i\n",
    "}\n",
    "\n",
    "s # при симуляциях должны оказаться около этого числа "
   ]
  },
  {
   "cell_type": "markdown",
   "metadata": {},
   "source": [
    "Чтобы выяснить число групп при симуляциях, не надо генерировать время. Мы в состоянии выяснить их число одним проходом по сгенерированному нами массиву. \n",
    "\n",
    "```\n",
    "0.1, 0.2, 0.3, 0.5, 0.4\n",
    "```\n",
    "\n",
    "Самая первая скорость - минимальная. Никто не сможет отстать от первого паровозика. В итоге у нас будет только одна группа. \n",
    "\n",
    "\n",
    "```\n",
    "0.2, 0.5, 0.3, 0.1, 0.4\n",
    "```\n",
    "\n",
    "Четвёртый паровозик отстанет от первого, так как его скорость меньше, и создаст свою группу с блэкджеком и машинистками. Получается, что если мы хотим понять сколько групп из паровозиков у нас получится, мы должны взять первый элемент за минимум нашего массива, а после пройтись по массиву и понять как часто у нас минимум будет изменяться. \n",
    "\n",
    "Во втором примере минимум при проходе по массиву поменяется два раза. Сначала это будет первый элемент, потом четвёртый. То есть получится две группы. \n"
   ]
  },
  {
   "cell_type": "code",
   "execution_count": 19,
   "metadata": {},
   "outputs": [
    {
     "data": {
      "text/html": [
       "5.188574"
      ],
      "text/latex": [
       "5.188574"
      ],
      "text/markdown": [
       "5.188574"
      ],
      "text/plain": [
       "[1] 5.188574"
      ]
     },
     "metadata": {},
     "output_type": "display_data"
    }
   ],
   "source": [
    "n_obs = 10**6\n",
    "groups = rep(0, n_obs)\n",
    "\n",
    "group_count = function(x){\n",
    "    group_cnt = 1 # число групп\n",
    "\n",
    "    # текущая минимальная скорость \n",
    "    mn = x[1]\n",
    "\n",
    "    for(item in x){\n",
    "        # если скорость следующего выше, он остановится перед текущим лидером\n",
    "        # если скорость ниже, у нас есть новый лидер \n",
    "        if(item < mn){ \n",
    "            mn = item\n",
    "            group_cnt = group_cnt + 1\n",
    "        }\n",
    "    }\n",
    "    return(group_cnt)\n",
    "}\n",
    "\n",
    "for(i in 1:n_obs){\n",
    "    \n",
    "    x = runif(100) # одна стартовая раскладка скоростей\n",
    "    groups[i] = group_count(x)\n",
    "}\n",
    "\n",
    "mean(groups)"
   ]
  },
  {
   "cell_type": "markdown",
   "metadata": {},
   "source": [
    "__[в]__  Чему равна дисперсия количества групп?\n",
    "\n",
    "Случайные величины $X_5$ - является ли пятый паровозик лидером группы и $X_7$ - является ли седьмой паровозик лидером группы - независимые. Если пятый - лидер своей группы, это никак не влияет на то является ли седьмой паровозик лидером своей группы. Если пятый лидер своей группы - он движется медленнее первых четырёх, но про седьмой ничего непонятно. И наоборот. Получается, что \n",
    "\n",
    "$$\n",
    "Var(X) = Var(X_1) + \\ldots + Var(X_n) = 0 + \\frac{1}{2} \\cdot \\left(1 - \\frac{1}{2} \\right) + \\frac{1}{3} \\cdot \\left(1 - \\frac{1}{3} \\right) + \\frac{1}{4} \\cdot \\left(1 - \\frac{1}{4} \\right) + \\ldots + \\frac{1}{n} \\cdot \\left(1 - \\frac{1}{n} \\right)\n",
    "$$\n"
   ]
  },
  {
   "cell_type": "code",
   "execution_count": 20,
   "metadata": {},
   "outputs": [
    {
     "data": {
      "text/html": [
       "3.55239361745473"
      ],
      "text/latex": [
       "3.55239361745473"
      ],
      "text/markdown": [
       "3.55239361745473"
      ],
      "text/plain": [
       "[1] 3.552394"
      ]
     },
     "metadata": {},
     "output_type": "display_data"
    }
   ],
   "source": [
    "s = 0 \n",
    "for(i in 2:100){\n",
    "    s = s + 1/i*(1- 1/i)\n",
    "}\n",
    "\n",
    "s # при симуляциях должны оказаться около этого числа "
   ]
  },
  {
   "cell_type": "code",
   "execution_count": 21,
   "metadata": {},
   "outputs": [
    {
     "data": {
      "text/html": [
       "3.54394939047338"
      ],
      "text/latex": [
       "3.54394939047338"
      ],
      "text/markdown": [
       "3.54394939047338"
      ],
      "text/plain": [
       "[1] 3.543949"
      ]
     },
     "metadata": {},
     "output_type": "display_data"
    }
   ],
   "source": [
    "var(groups)"
   ]
  },
  {
   "cell_type": "markdown",
   "metadata": {},
   "source": [
    "__[г]__  Пусть случайная величина $T$ - время, в течение которого праовозики разбиваются на несколько групп. Оцените $E(T)$ и $Var(T)$. \n",
    "\n",
    "__Решение:__ \n",
    "\n",
    "Первый вариант - попробовать решать задачу влоб и тупо смоделировать всё, что происходит на рельсах. Ниже один из множества вариантов такой реализации. "
   ]
  },
  {
   "cell_type": "code",
   "execution_count": 22,
   "metadata": {},
   "outputs": [
    {
     "name": "stdout",
     "output_type": "stream",
     "text": [
      "Позиции:  0.2 0 0 0 0 \n",
      "Скорости: 0.2 0.5 0.3 0.1 0.4 \n",
      "Позиции:  0.4 0.4 0 0 0 \n",
      "Скорости: 0.2 0.2 0.3 0.1 0.4 \n",
      "Позиции:  0.6 0.6 0.3 0 0 \n",
      "Скорости: 0.2 0.2 0.3 0.1 0.4 \n",
      "Позиции:  0.8 0.8 0.6 0.1 0 \n",
      "Скорости: 0.2 0.2 0.3 0.1 0.4 \n",
      "Позиции:  1 1 0.9 0.2 0.2 \n",
      "Скорости: 0.2 0.2 0.3 0.1 0.1 \n",
      "\n",
      "Позиции:  1.4 1.4 1.4 0.4 0.4 \n",
      "Скорости: 0.2 0.2 0.2 0.1 0.1 \n",
      "Времени прошло: 7"
     ]
    },
    {
     "data": {
      "text/html": [
       "7"
      ],
      "text/latex": [
       "7"
      ],
      "text/markdown": [
       "7"
      ],
      "text/plain": [
       "[1] 7"
      ]
     },
     "metadata": {},
     "output_type": "display_data"
    }
   ],
   "source": [
    "# начальная скорость поездов \n",
    "x = c(0.2, 0.5, 0.3, 0.1, 0.4)\n",
    "\n",
    "find_T = function(x, verbouse=FALSE){\n",
    "    # текущая скорость поездов\n",
    "    x_copy = x\n",
    "\n",
    "    # движение поездов\n",
    "    position = rep(0, length(x))\n",
    "\n",
    "    # фаза 1: поезда выезжают из депо\n",
    "    for (t in 1:length(x)){\n",
    "        # выезжает поезд номер t   \n",
    "        # все, кто едет до него получают продвижение вперёд на свою скорость\n",
    "        for(i in 1:t){\n",
    "            position[i] = position[i] + x_copy[i]\n",
    "        }\n",
    "\n",
    "        # ни один последующий поезд не может проехать дальше лидера\n",
    "        for(i in 2:length(x)){\n",
    "            if(position[i] > position[i-1]){\n",
    "                position[i] = position[i-1]  # едет на равне с лидером\n",
    "                x_copy[i] = x_copy[i-1]      # скорость упала до скорости лидера\n",
    "            }\n",
    "        }\n",
    "        \n",
    "        if (verbouse){\n",
    "            cat(\"Позиции: \", position, '\\n')\n",
    "            cat(\"Скорости:\", x_copy, '\\n')\n",
    "        }\n",
    "    }\n",
    "\n",
    "    # фаза 2: движение поездов в обычном режиме пока не будет оптимальное число групп\n",
    "    min_uniq = group_count(x)  # сколько групп в итоге окажется в разбиении\n",
    "\n",
    "    T = length(x)\n",
    "    \n",
    "    # пока число групп не совпало с числом уникальных скоростей - едем!\n",
    "    while(length(unique(x_copy)) > min_uniq){\n",
    "        T = T + 1\n",
    "\n",
    "        for(i in 1:length(x)){  \n",
    "            # идёт движение\n",
    "            position[i] = position[i] + x_copy[i]\n",
    "\n",
    "            # ни один последующий поезд не может проехать дальше лидера\n",
    "            if ((i > 1) && (position[i] > position[i-1])){\n",
    "                position[i] = position[i-1]  # едет на равне с лидером\n",
    "                x_copy[i] = x_copy[i-1]      # скорость упала до скорости лидера\n",
    "            }\n",
    "        }\n",
    "    }\n",
    "    \n",
    "    if (verbouse){\n",
    "        cat('\\n')\n",
    "        cat(\"Позиции: \", position, '\\n')\n",
    "        cat(\"Скорости:\", x_copy, '\\n')\n",
    "        cat(\"Времени прошло:\", T)\n",
    "    }\n",
    "    \n",
    "    return(T)\n",
    "}\n",
    "\n",
    "find_T(x, verbouse=TRUE)"
   ]
  },
  {
   "cell_type": "code",
   "execution_count": 23,
   "metadata": {},
   "outputs": [
    {
     "name": "stdout",
     "output_type": "stream",
     "text": [
      "Позиции:  0.1 0 0 0 0 \n",
      "Скорости: 0.1 0.2 0.3 0.5 0.4 \n",
      "Позиции:  0.2 0.2 0 0 0 \n",
      "Скорости: 0.1 0.2 0.3 0.5 0.4 \n",
      "Позиции:  0.3 0.3 0.3 0 0 \n",
      "Скорости: 0.1 0.1 0.3 0.5 0.4 \n",
      "Позиции:  0.4 0.4 0.4 0.4 0 \n",
      "Скорости: 0.1 0.1 0.1 0.1 0.4 \n",
      "Позиции:  0.5 0.5 0.5 0.5 0.4 \n",
      "Скорости: 0.1 0.1 0.1 0.1 0.4 \n",
      "\n",
      "Позиции:  0.6 0.6 0.6 0.6 0.6 \n",
      "Скорости: 0.1 0.1 0.1 0.1 0.1 \n",
      "Времени прошло: 6"
     ]
    },
    {
     "data": {
      "text/html": [
       "6"
      ],
      "text/latex": [
       "6"
      ],
      "text/markdown": [
       "6"
      ],
      "text/plain": [
       "[1] 6"
      ]
     },
     "metadata": {},
     "output_type": "display_data"
    }
   ],
   "source": [
    "x = c(0.1, 0.2, 0.3, 0.5, 0.4)\n",
    "find_T(x, verbouse=TRUE)"
   ]
  },
  {
   "cell_type": "markdown",
   "metadata": {},
   "source": [
    "Итоговый цикл с симуляциями. "
   ]
  },
  {
   "cell_type": "code",
   "execution_count": 24,
   "metadata": {},
   "outputs": [],
   "source": [
    "n_obs = 10**4\n",
    "\n",
    "groups = rep(0, n_obs)\n",
    "time = rep(0, n_obs)\n",
    "\n",
    "for(i in 1:n_obs){\n",
    "    \n",
    "    x = runif(100) # одна стартовая раскладка скоростей\n",
    "    groups[i] = group_count(x)\n",
    "    time[i] = find_T(x)\n",
    "}"
   ]
  },
  {
   "cell_type": "code",
   "execution_count": 25,
   "metadata": {},
   "outputs": [
    {
     "data": {
      "text/html": [
       "492.6977"
      ],
      "text/latex": [
       "492.6977"
      ],
      "text/markdown": [
       "492.6977"
      ],
      "text/plain": [
       "[1] 492.6977"
      ]
     },
     "metadata": {},
     "output_type": "display_data"
    }
   ],
   "source": [
    "mean(time)"
   ]
  },
  {
   "cell_type": "code",
   "execution_count": 102,
   "metadata": {},
   "outputs": [
    {
     "data": {
      "text/html": [
       "0.00660436352463588"
      ],
      "text/latex": [
       "0.00660436352463588"
      ],
      "text/markdown": [
       "0.00660436352463588"
      ],
      "text/plain": [
       "[1] 0.006604364"
      ]
     },
     "metadata": {},
     "output_type": "display_data"
    }
   ],
   "source": [
    "cor(time, groups)"
   ]
  },
  {
   "cell_type": "code",
   "execution_count": 103,
   "metadata": {},
   "outputs": [
    {
     "data": {
      "image/png": "[encoded data removed]",
      "text/plain": [
       "plot without title"
      ]
     },
     "metadata": {},
     "output_type": "display_data"
    }
   ],
   "source": [
    "qplot(time, groups)"
   ]
  },
  {
   "cell_type": "markdown",
   "metadata": {},
   "source": [
    "Можно поступить умнее и не делать лишних симуляций. Понятное дело, что пока паровозики выезжают из депо стабилизации не произойдёт. То есть $100$ минут точно пройдёт. Когда эти $100$ минут на выезд прошли, нам нужно понять как долго в каждой из групп аутсайдер будет догонять лидера. "
   ]
  },
  {
   "cell_type": "code",
   "execution_count": null,
   "metadata": {},
   "outputs": [],
   "source": []
  },
  {
   "cell_type": "code",
   "execution_count": null,
   "metadata": {},
   "outputs": [],
   "source": []
  },
  {
   "cell_type": "code",
   "execution_count": null,
   "metadata": {},
   "outputs": [],
   "source": [
    "x = c(0.2, 0.5, 0.3, 0.1, 0.4)\n"
   ]
  },
  {
   "cell_type": "code",
   "execution_count": null,
   "metadata": {},
   "outputs": [],
   "source": []
  },
  {
   "cell_type": "markdown",
   "metadata": {},
   "source": [
    "\n",
    "Чтобы понять насколько быстро группы из паровозиков стабилизируются, нам надо посмотреть на размах этих групп. В ситуации\n",
    "\n",
    "```\n",
    "0.1, 0.2, 0.3, 0.5, 0.4\n",
    "```\n",
    "\n",
    "у нас одна группа, в которой дольше всего второй поезд будет догонять первый. \n"
   ]
  },
  {
   "cell_type": "code",
   "execution_count": null,
   "metadata": {},
   "outputs": [],
   "source": []
  },
  {
   "cell_type": "markdown",
   "metadata": {},
   "source": [
    "\n",
    "\n",
    "\n",
    "Самая первая скорость - минимальная. Никто не сможет отстать от первого паровозика. В итоге у нас будет только одна группа. \n",
    "\n",
    "\n",
    "```\n",
    "0.2, 0.5, 0.3, 0.1, 0.4\n",
    "```\n"
   ]
  },
  {
   "cell_type": "code",
   "execution_count": null,
   "metadata": {},
   "outputs": [],
   "source": []
  },
  {
   "cell_type": "code",
   "execution_count": null,
   "metadata": {},
   "outputs": [],
   "source": []
  },
  {
   "cell_type": "code",
   "execution_count": null,
   "metadata": {},
   "outputs": [],
   "source": []
  },
  {
   "cell_type": "code",
   "execution_count": null,
   "metadata": {},
   "outputs": [],
   "source": []
  },
  {
   "cell_type": "markdown",
   "metadata": {},
   "source": [
    "__[д]__ Оцените $Cov(X, T)$."
   ]
  },
  {
   "cell_type": "code",
   "execution_count": null,
   "metadata": {},
   "outputs": [],
   "source": []
  },
  {
   "cell_type": "code",
   "execution_count": null,
   "metadata": {},
   "outputs": [],
   "source": []
  },
  {
   "cell_type": "code",
   "execution_count": 11,
   "metadata": {},
   "outputs": [],
   "source": [
    "### ╰( ͡° ͜ʖ ͡° )つ▬▬ι═══════  снова код"
   ]
  },
  {
   "cell_type": "markdown",
   "metadata": {},
   "source": []
  },
  {
   "cell_type": "code",
   "execution_count": 12,
   "metadata": {},
   "outputs": [],
   "source": [
    "### решение на бумажке"
   ]
  },
  {
   "cell_type": "markdown",
   "metadata": {},
   "source": [
    "### [5]  Задачка 6\n",
    "\n",
    "Денис тоже сидит в самоизоляции. Он берёт карты из хорошо перемешанной колоды с $36$ картами до тех пор, пока не возьмёт даму пик. \n",
    "\n",
    "__[а]__ Сколько в среднем бубновых карт он получит? \n",
    "\n",
    "Пусть каждая карта приносит Денису деньги согласно достоинству: шестёрка - $6$ рублей, $\\ldots$, десятка - $10$рублей, валет - $11$ рублей, дама - $12$ рублей, король - $13$ рублей, туз - $14$ рублей. \n",
    "\n",
    "__[б]__ Какова вероятность того, что Денис наберёт меньше $100$ рублей? "
   ]
  },
  {
   "cell_type": "code",
   "execution_count": 13,
   "metadata": {},
   "outputs": [
    {
     "data": {
      "text/html": [
       "<table>\n",
       "<thead><tr><th scope=col>dost</th><th scope=col>mast</th><th scope=col>id</th><th scope=col>value</th></tr></thead>\n",
       "<tbody>\n",
       "\t<tr><td>6    </td><td>бубны</td><td>1    </td><td> 6   </td></tr>\n",
       "\t<tr><td>7    </td><td>бубны</td><td>2    </td><td> 7   </td></tr>\n",
       "\t<tr><td>8    </td><td>бубны</td><td>3    </td><td> 8   </td></tr>\n",
       "\t<tr><td>9    </td><td>бубны</td><td>4    </td><td> 9   </td></tr>\n",
       "\t<tr><td>10   </td><td>бубны</td><td>5    </td><td>10   </td></tr>\n",
       "\t<tr><td>валет</td><td>бубны</td><td>6    </td><td>11   </td></tr>\n",
       "</tbody>\n",
       "</table>\n"
      ],
      "text/latex": [
       "\\begin{tabular}{r|llll}\n",
       " dost & mast & id & value\\\\\n",
       "\\hline\n",
       "\t 6     & бубны & 1     &  6   \\\\\n",
       "\t 7     & бубны & 2     &  7   \\\\\n",
       "\t 8     & бубны & 3     &  8   \\\\\n",
       "\t 9     & бубны & 4     &  9   \\\\\n",
       "\t 10    & бубны & 5     & 10   \\\\\n",
       "\t валет & бубны & 6     & 11   \\\\\n",
       "\\end{tabular}\n"
      ],
      "text/markdown": [
       "\n",
       "| dost | mast | id | value |\n",
       "|---|---|---|---|\n",
       "| 6     | бубны | 1     |  6    |\n",
       "| 7     | бубны | 2     |  7    |\n",
       "| 8     | бубны | 3     |  8    |\n",
       "| 9     | бубны | 4     |  9    |\n",
       "| 10    | бубны | 5     | 10    |\n",
       "| валет | бубны | 6     | 11    |\n",
       "\n"
      ],
      "text/plain": [
       "  dost  mast  id value\n",
       "1 6     бубны 1   6   \n",
       "2 7     бубны 2   7   \n",
       "3 8     бубны 3   8   \n",
       "4 9     бубны 4   9   \n",
       "5 10    бубны 5  10   \n",
       "6 валет бубны 6  11   "
      ]
     },
     "metadata": {},
     "output_type": "display_data"
    },
    {
     "data": {
      "text/html": [
       "<ol class=list-inline>\n",
       "\t<li>36</li>\n",
       "\t<li>4</li>\n",
       "</ol>\n"
      ],
      "text/latex": [
       "\\begin{enumerate*}\n",
       "\\item 36\n",
       "\\item 4\n",
       "\\end{enumerate*}\n"
      ],
      "text/markdown": [
       "1. 36\n",
       "2. 4\n",
       "\n",
       "\n"
      ],
      "text/plain": [
       "[1] 36  4"
      ]
     },
     "metadata": {},
     "output_type": "display_data"
    }
   ],
   "source": [
    "n_obs = 10**6\n",
    "\n",
    "dost = c(6:10, \"валет\", \"дама\", \"король\", \"туз\") # возможные достоинства карт\n",
    "mast = c(\"бубны\", \"черви\", \"пики\", \"крести\")    # возможные масти\n",
    "\n",
    "koloda = expand.grid(dost, mast) # декартово произведение\n",
    "\n",
    "# сразу добавим в табличку id карт и денежные выигрыши\n",
    "koloda$id = 1:36\n",
    "koloda$value = rep(6:14, 4)\n",
    "\n",
    "# названия столбцов\n",
    "colnames(koloda) <- c(\"dost\", \"mast\",\"id\", \"value\")\n",
    "head(koloda)\n",
    "dim(koloda) # размерность таблицы"
   ]
  },
  {
   "cell_type": "code",
   "execution_count": 26,
   "metadata": {},
   "outputs": [
    {
     "data": {
      "text/html": [
       "<table>\n",
       "<thead><tr><th></th><th scope=col>dost</th><th scope=col>mast</th><th scope=col>id</th><th scope=col>value</th></tr></thead>\n",
       "<tbody>\n",
       "\t<tr><th scope=row>19</th><td>6    </td><td>пики </td><td>19   </td><td> 6   </td></tr>\n",
       "\t<tr><th scope=row>27</th><td>туз  </td><td>пики </td><td>27   </td><td>14   </td></tr>\n",
       "\t<tr><th scope=row>11</th><td>7    </td><td>черви</td><td>11   </td><td> 7   </td></tr>\n",
       "\t<tr><th scope=row>12</th><td>8    </td><td>черви</td><td>12   </td><td> 8   </td></tr>\n",
       "</tbody>\n",
       "</table>\n"
      ],
      "text/latex": [
       "\\begin{tabular}{r|llll}\n",
       "  & dost & mast & id & value\\\\\n",
       "\\hline\n",
       "\t19 & 6     & пики  & 19    &  6   \\\\\n",
       "\t27 & туз   & пики  & 27    & 14   \\\\\n",
       "\t11 & 7     & черви & 11    &  7   \\\\\n",
       "\t12 & 8     & черви & 12    &  8   \\\\\n",
       "\\end{tabular}\n"
      ],
      "text/markdown": [
       "\n",
       "| <!--/--> | dost | mast | id | value |\n",
       "|---|---|---|---|---|\n",
       "| 19 | 6     | пики  | 19    |  6    |\n",
       "| 27 | туз   | пики  | 27    | 14    |\n",
       "| 11 | 7     | черви | 11    |  7    |\n",
       "| 12 | 8     | черви | 12    |  8    |\n",
       "\n"
      ],
      "text/plain": [
       "   dost mast  id value\n",
       "19 6    пики  19  6   \n",
       "27 туз  пики  27 14   \n",
       "11 7    черви 11  7   \n",
       "12 8    черви 12  8   "
      ]
     },
     "metadata": {},
     "output_type": "display_data"
    }
   ],
   "source": [
    "# вытаскиваем 4 карты из колоды\n",
    "z = sample(1:36, 4, replace=FALSE)\n",
    "koloda[z,]"
   ]
  },
  {
   "cell_type": "code",
   "execution_count": 27,
   "metadata": {},
   "outputs": [],
   "source": [
    "s = rep(0, n_obs)  # сюда записываем число очков\n",
    "b = rep(0, n_obs)  # сюда записываем число бубновых карт"
   ]
  },
  {
   "cell_type": "code",
   "execution_count": 28,
   "metadata": {},
   "outputs": [],
   "source": [
    "for (i in 1:n_obs) {\n",
    "  z = sample(1:36, 36, replace=FALSE) # тасуем колоду\n",
    "\n",
    "  # 25 - код пиковой дамы в таблице koloda\n",
    "  id_dama = which(z==25)      # координата дамы\n",
    "  id_nice = z[1:(id_dama-1)]  # коды карт до дамы\n",
    "    \n",
    "  # полученный выигрыш в i-ом опыте\n",
    "  s[i] = sum(koloda$value[id_nice]) \n",
    "  \n",
    "  # число бубновых карт до дамы в i-ом опыте\n",
    "  b[i] = sum(koloda$mast[id_nice] == 'бубны')\n",
    "}"
   ]
  },
  {
   "cell_type": "code",
   "execution_count": 29,
   "metadata": {},
   "outputs": [
    {
     "data": {
      "text/html": [
       "4.499826"
      ],
      "text/latex": [
       "4.499826"
      ],
      "text/markdown": [
       "4.499826"
      ],
      "text/plain": [
       "[1] 4.499826"
      ]
     },
     "metadata": {},
     "output_type": "display_data"
    }
   ],
   "source": [
    "mean(b)  # среднее число бубновых карт за n_obs опытов "
   ]
  },
  {
   "cell_type": "code",
   "execution_count": 30,
   "metadata": {},
   "outputs": [
    {
     "data": {
      "text/html": [
       "0.292022"
      ],
      "text/latex": [
       "0.292022"
      ],
      "text/markdown": [
       "0.292022"
      ],
      "text/plain": [
       "[1] 0.292022"
      ]
     },
     "metadata": {},
     "output_type": "display_data"
    }
   ],
   "source": [
    "mean(s < 100) # вероятность набрать больше 100 рублей"
   ]
  },
  {
   "cell_type": "markdown",
   "metadata": {},
   "source": [
    "### [10]  Задачка 7 (основано на реальных событиях) \n",
    "\n",
    "Филиппу $12$ лет, он играет в покер против своего брата Максима и его плюшевой обезьянки. Игра идёт в обычный покер без джокеров, колодой из $52$ карт, где всем игрокам сдаётся по $5$ карт на руки. \n",
    "\n",
    "С помощью симуляций расчитайте вероятности комбинаций: \n",
    "\n",
    "- Pair (пара) - две карты одного достоинства, три остальные - разного\n",
    "- Two pairs (две пары)\n",
    "- Three of kind (тройка) \n",
    "- Straight (стрит) - пять последовательных карт, есть карты разных мастей\n",
    "- Flush (флэш) - все карты одной масти, но не последовательных достоинств\n",
    "- Full House (фул-хаус) - три карты одного достоинства и две другого\n",
    "- Four of Kind (каре) - четыре карты одного достоинства\n",
    "- Straight Flush (стрит-флэш) - пять последовательных карт одной масти\n",
    "- Royal Flush (роял-флэш) - старшие пять последовательных карт одной масти \n",
    "\n"
   ]
  },
  {
   "cell_type": "code",
   "execution_count": 315,
   "metadata": {},
   "outputs": [
    {
     "data": {
      "text/html": [
       "<table>\n",
       "<thead><tr><th scope=col>dost</th><th scope=col>mast</th><th scope=col>id</th></tr></thead>\n",
       "<tbody>\n",
       "\t<tr><td>2    </td><td>бубны</td><td>1    </td></tr>\n",
       "\t<tr><td>3    </td><td>бубны</td><td>2    </td></tr>\n",
       "\t<tr><td>4    </td><td>бубны</td><td>3    </td></tr>\n",
       "\t<tr><td>5    </td><td>бубны</td><td>4    </td></tr>\n",
       "\t<tr><td>6    </td><td>бубны</td><td>5    </td></tr>\n",
       "\t<tr><td>7    </td><td>бубны</td><td>6    </td></tr>\n",
       "</tbody>\n",
       "</table>\n"
      ],
      "text/latex": [
       "\\begin{tabular}{r|lll}\n",
       " dost & mast & id\\\\\n",
       "\\hline\n",
       "\t 2     & бубны & 1    \\\\\n",
       "\t 3     & бубны & 2    \\\\\n",
       "\t 4     & бубны & 3    \\\\\n",
       "\t 5     & бубны & 4    \\\\\n",
       "\t 6     & бубны & 5    \\\\\n",
       "\t 7     & бубны & 6    \\\\\n",
       "\\end{tabular}\n"
      ],
      "text/markdown": [
       "\n",
       "| dost | mast | id |\n",
       "|---|---|---|\n",
       "| 2     | бубны | 1     |\n",
       "| 3     | бубны | 2     |\n",
       "| 4     | бубны | 3     |\n",
       "| 5     | бубны | 4     |\n",
       "| 6     | бубны | 5     |\n",
       "| 7     | бубны | 6     |\n",
       "\n"
      ],
      "text/plain": [
       "  dost mast  id\n",
       "1 2    бубны 1 \n",
       "2 3    бубны 2 \n",
       "3 4    бубны 3 \n",
       "4 5    бубны 4 \n",
       "5 6    бубны 5 \n",
       "6 7    бубны 6 "
      ]
     },
     "metadata": {},
     "output_type": "display_data"
    },
    {
     "data": {
      "text/html": [
       "<ol class=list-inline>\n",
       "\t<li>52</li>\n",
       "\t<li>3</li>\n",
       "</ol>\n"
      ],
      "text/latex": [
       "\\begin{enumerate*}\n",
       "\\item 52\n",
       "\\item 3\n",
       "\\end{enumerate*}\n"
      ],
      "text/markdown": [
       "1. 52\n",
       "2. 3\n",
       "\n",
       "\n"
      ],
      "text/plain": [
       "[1] 52  3"
      ]
     },
     "metadata": {},
     "output_type": "display_data"
    }
   ],
   "source": [
    "# Важно: это не техасский холдем, тут всё проще, но если вы симулировали его - это ок :) \n",
    "\n",
    "n_obs = 10**6\n",
    "\n",
    "dost = c(2:10, \"валет\", \"дама\", \"король\", \"туз\") # возможные достоинства карт\n",
    "mast = c(\"бубны\", \"черви\", \"пики\", \"крести\")    # возможные масти\n",
    "\n",
    "koloda = expand.grid(dost, mast) # декартово произведение\n",
    "\n",
    "# сразу добавим в табличку id карт и денежные выигрыши\n",
    "koloda$id = 1:52\n",
    "\n",
    "# названия столбцов\n",
    "colnames(koloda) <- c(\"dost\", \"mast\",\"id\")\n",
    "head(koloda)\n",
    "dim(koloda) # размерность таблицы"
   ]
  },
  {
   "cell_type": "code",
   "execution_count": 316,
   "metadata": {},
   "outputs": [
    {
     "data": {
      "text/html": [
       "<table>\n",
       "<thead><tr><th></th><th scope=col>dost</th><th scope=col>mast</th><th scope=col>id</th></tr></thead>\n",
       "<tbody>\n",
       "\t<tr><th scope=row>24</th><td>дама  </td><td>черви </td><td>24    </td></tr>\n",
       "\t<tr><th scope=row>42</th><td>4     </td><td>крести</td><td>42    </td></tr>\n",
       "\t<tr><th scope=row>33</th><td>8     </td><td>пики  </td><td>33    </td></tr>\n",
       "\t<tr><th scope=row>25</th><td>король</td><td>черви </td><td>25    </td></tr>\n",
       "\t<tr><th scope=row>46</th><td>8     </td><td>крести</td><td>46    </td></tr>\n",
       "</tbody>\n",
       "</table>\n"
      ],
      "text/latex": [
       "\\begin{tabular}{r|lll}\n",
       "  & dost & mast & id\\\\\n",
       "\\hline\n",
       "\t24 & дама   & черви  & 24    \\\\\n",
       "\t42 & 4      & крести & 42    \\\\\n",
       "\t33 & 8      & пики   & 33    \\\\\n",
       "\t25 & король & черви  & 25    \\\\\n",
       "\t46 & 8      & крести & 46    \\\\\n",
       "\\end{tabular}\n"
      ],
      "text/markdown": [
       "\n",
       "| <!--/--> | dost | mast | id |\n",
       "|---|---|---|---|\n",
       "| 24 | дама   | черви  | 24     |\n",
       "| 42 | 4      | крести | 42     |\n",
       "| 33 | 8      | пики   | 33     |\n",
       "| 25 | король | черви  | 25     |\n",
       "| 46 | 8      | крести | 46     |\n",
       "\n"
      ],
      "text/plain": [
       "   dost   mast   id\n",
       "24 дама   черви  24\n",
       "42 4      крести 42\n",
       "33 8      пики   33\n",
       "25 король черви  25\n",
       "46 8      крести 46"
      ]
     },
     "metadata": {},
     "output_type": "display_data"
    }
   ],
   "source": [
    "# Пока что нам вообще плевать что происходит с другими игроками, будем просто брать 5 карт из колоды\n",
    "\n",
    "z = sample(1:52, 5, replace=FALSE)\n",
    "my_cards = koloda[z,]\n",
    "my_cards"
   ]
  },
  {
   "cell_type": "code",
   "execution_count": 317,
   "metadata": {},
   "outputs": [
    {
     "data": {
      "text/html": [
       "<ol class=list-inline>\n",
       "\t<li>дама</li>\n",
       "\t<li>4</li>\n",
       "\t<li>8</li>\n",
       "\t<li>король</li>\n",
       "\t<li>8</li>\n",
       "</ol>\n",
       "\n",
       "<details>\n",
       "\t<summary style=display:list-item;cursor:pointer>\n",
       "\t\t<strong>Levels</strong>:\n",
       "\t</summary>\n",
       "\t<ol class=list-inline>\n",
       "\t\t<li>'2'</li>\n",
       "\t\t<li>'3'</li>\n",
       "\t\t<li>'4'</li>\n",
       "\t\t<li>'5'</li>\n",
       "\t\t<li>'6'</li>\n",
       "\t\t<li>'7'</li>\n",
       "\t\t<li>'8'</li>\n",
       "\t\t<li>'9'</li>\n",
       "\t\t<li>'10'</li>\n",
       "\t\t<li>'валет'</li>\n",
       "\t\t<li>'дама'</li>\n",
       "\t\t<li>'король'</li>\n",
       "\t\t<li>'туз'</li>\n",
       "\t</ol>\n",
       "</details>"
      ],
      "text/latex": [
       "\\begin{enumerate*}\n",
       "\\item дама\n",
       "\\item 4\n",
       "\\item 8\n",
       "\\item король\n",
       "\\item 8\n",
       "\\end{enumerate*}\n",
       "\n",
       "\\emph{Levels}: \\begin{enumerate*}\n",
       "\\item '2'\n",
       "\\item '3'\n",
       "\\item '4'\n",
       "\\item '5'\n",
       "\\item '6'\n",
       "\\item '7'\n",
       "\\item '8'\n",
       "\\item '9'\n",
       "\\item '10'\n",
       "\\item 'валет'\n",
       "\\item 'дама'\n",
       "\\item 'король'\n",
       "\\item 'туз'\n",
       "\\end{enumerate*}\n"
      ],
      "text/markdown": [
       "1. дама\n",
       "2. 4\n",
       "3. 8\n",
       "4. король\n",
       "5. 8\n",
       "\n",
       "\n",
       "\n",
       "**Levels**: 1. '2'\n",
       "2. '3'\n",
       "3. '4'\n",
       "4. '5'\n",
       "5. '6'\n",
       "6. '7'\n",
       "7. '8'\n",
       "8. '9'\n",
       "9. '10'\n",
       "10. 'валет'\n",
       "11. 'дама'\n",
       "12. 'король'\n",
       "13. 'туз'\n",
       "\n",
       "\n"
      ],
      "text/plain": [
       "[1] дама   4      8      король 8     \n",
       "Levels: 2 3 4 5 6 7 8 9 10 валет дама король туз"
      ]
     },
     "metadata": {},
     "output_type": "display_data"
    }
   ],
   "source": [
    "my_cards$dost # наша переменная - факторная, в Levels её уровни (фишка R)"
   ]
  },
  {
   "cell_type": "code",
   "execution_count": 318,
   "metadata": {},
   "outputs": [
    {
     "data": {
      "text/html": [
       "<dl class=dl-horizontal>\n",
       "\t<dt>2</dt>\n",
       "\t\t<dd>0</dd>\n",
       "\t<dt>3</dt>\n",
       "\t\t<dd>0</dd>\n",
       "\t<dt>4</dt>\n",
       "\t\t<dd>1</dd>\n",
       "\t<dt>5</dt>\n",
       "\t\t<dd>0</dd>\n",
       "\t<dt>6</dt>\n",
       "\t\t<dd>0</dd>\n",
       "\t<dt>7</dt>\n",
       "\t\t<dd>0</dd>\n",
       "\t<dt>8</dt>\n",
       "\t\t<dd>2</dd>\n",
       "\t<dt>9</dt>\n",
       "\t\t<dd>0</dd>\n",
       "\t<dt>10</dt>\n",
       "\t\t<dd>0</dd>\n",
       "\t<dt>валет</dt>\n",
       "\t\t<dd>0</dd>\n",
       "\t<dt>дама</dt>\n",
       "\t\t<dd>1</dd>\n",
       "\t<dt>король</dt>\n",
       "\t\t<dd>1</dd>\n",
       "\t<dt>туз</dt>\n",
       "\t\t<dd>0</dd>\n",
       "</dl>\n"
      ],
      "text/latex": [
       "\\begin{description*}\n",
       "\\item[2] 0\n",
       "\\item[3] 0\n",
       "\\item[4] 1\n",
       "\\item[5] 0\n",
       "\\item[6] 0\n",
       "\\item[7] 0\n",
       "\\item[8] 2\n",
       "\\item[9] 0\n",
       "\\item[10] 0\n",
       "\\item[валет] 0\n",
       "\\item[дама] 1\n",
       "\\item[король] 1\n",
       "\\item[туз] 0\n",
       "\\end{description*}\n"
      ],
      "text/markdown": [
       "2\n",
       ":   03\n",
       ":   04\n",
       ":   15\n",
       ":   06\n",
       ":   07\n",
       ":   08\n",
       ":   29\n",
       ":   010\n",
       ":   0валет\n",
       ":   0дама\n",
       ":   1король\n",
       ":   1туз\n",
       ":   0\n",
       "\n"
      ],
      "text/plain": [
       "     2      3      4      5      6      7      8      9     10  валет   дама \n",
       "     0      0      1      0      0      0      2      0      0      0      1 \n",
       "король    туз \n",
       "     1      0 "
      ]
     },
     "metadata": {},
     "output_type": "display_data"
    }
   ],
   "source": [
    "summary(my_cards$dost)        # саммари по раскладке"
   ]
  },
  {
   "cell_type": "code",
   "execution_count": 319,
   "metadata": {},
   "outputs": [
    {
     "data": {
      "text/html": [
       "<ol class=list-inline>\n",
       "\t<li>0</li>\n",
       "\t<li>0</li>\n",
       "\t<li>1</li>\n",
       "\t<li>0</li>\n",
       "\t<li>0</li>\n",
       "\t<li>0</li>\n",
       "\t<li>2</li>\n",
       "\t<li>0</li>\n",
       "\t<li>0</li>\n",
       "\t<li>0</li>\n",
       "\t<li>1</li>\n",
       "\t<li>1</li>\n",
       "\t<li>0</li>\n",
       "</ol>\n"
      ],
      "text/latex": [
       "\\begin{enumerate*}\n",
       "\\item 0\n",
       "\\item 0\n",
       "\\item 1\n",
       "\\item 0\n",
       "\\item 0\n",
       "\\item 0\n",
       "\\item 2\n",
       "\\item 0\n",
       "\\item 0\n",
       "\\item 0\n",
       "\\item 1\n",
       "\\item 1\n",
       "\\item 0\n",
       "\\end{enumerate*}\n"
      ],
      "text/markdown": [
       "1. 0\n",
       "2. 0\n",
       "3. 1\n",
       "4. 0\n",
       "5. 0\n",
       "6. 0\n",
       "7. 2\n",
       "8. 0\n",
       "9. 0\n",
       "10. 0\n",
       "11. 1\n",
       "12. 1\n",
       "13. 0\n",
       "\n",
       "\n"
      ],
      "text/plain": [
       " [1] 0 0 1 0 0 0 2 0 0 0 1 1 0"
      ]
     },
     "metadata": {},
     "output_type": "display_data"
    }
   ],
   "source": [
    "dost_cnt = as.numeric(summary(my_cards$dost)) # достали количества для всех достоинств\n",
    "dost_len = length(dost_cnt)\n",
    "dost_cnt\n",
    "\n",
    "# в векторе одна 2 => пара      (sum(dost_cnt == 2) == 1)&(sum(dost_cnt == 1) == 3) второе условие исключает фул-хаус\n",
    "#           две  2 => две пары  (sum(dost_cnt == 2) == 2)\n",
    "#           одна 3 => тройка    (sum(dost_cnt == 3) == 1)&(sum(dost_cnt == 1) == 2) второе условие исключает фул-хаус\n",
    "#           одна 4 => каре      (sum(dost_cnt == 4) == 1)\n",
    "#           2 и 3  => фул-хаус  (sum(dost_cnt == 2) == 1)&(sum(dost_cnt == 3) == 1)"
   ]
  },
  {
   "cell_type": "code",
   "execution_count": 320,
   "metadata": {},
   "outputs": [
    {
     "data": {
      "text/html": [
       "<ol class=list-inline>\n",
       "\t<li>3</li>\n",
       "\t<li>7</li>\n",
       "\t<li>11</li>\n",
       "\t<li>12</li>\n",
       "</ol>\n"
      ],
      "text/latex": [
       "\\begin{enumerate*}\n",
       "\\item 3\n",
       "\\item 7\n",
       "\\item 11\n",
       "\\item 12\n",
       "\\end{enumerate*}\n"
      ],
      "text/markdown": [
       "1. 3\n",
       "2. 7\n",
       "3. 11\n",
       "4. 12\n",
       "\n",
       "\n"
      ],
      "text/plain": [
       "[1]  3  7 11 12"
      ]
     },
     "metadata": {},
     "output_type": "display_data"
    }
   ],
   "source": [
    "order = which(dost_cnt > 0) # показывает позиции какие карты есть \n",
    "order\n",
    "\n",
    "# разные достоинства, по очереди, не одной масти => cтрит  \n",
    "# (sum(dost_cnt == 1) == 5)&(length(unique(diff(order))) == 1)&(length(unique(my_cards$mast)) > 1)\n",
    "\n",
    "# разные достоинства, по очереди, одной масти => стрит-флэш\n",
    "# (sum(dost_cnt == 1) == 5)&(length(unique(diff(order))) == 1)&(length(unique(my_cards$mast)) == 1)\n",
    "\n",
    "# все одной масти, но не по очереди => флэш\n",
    "# (length(unique(my_cards$mast)) == 1)&(length(unique(diff(order))) != 1)\n",
    "\n",
    "# последние 5 по очереди одной масти => роял-флэш\n",
    "# (sum(dost_cnt[(dost_len-5):dost_len]) == 5)&(length(unique(my_cards$mast)) == 1)"
   ]
  },
  {
   "cell_type": "code",
   "execution_count": 321,
   "metadata": {},
   "outputs": [
    {
     "data": {
      "text/html": [
       "<table>\n",
       "<thead><tr><th scope=col>пара</th><th scope=col>две.пары</th><th scope=col>тройка</th><th scope=col>каре</th><th scope=col>фул.хаус</th><th scope=col>стрит</th><th scope=col>стрит.флэш</th><th scope=col>флэш</th><th scope=col>флэш.роял</th></tr></thead>\n",
       "<tbody>\n",
       "\t<tr><td>0.422197</td><td>0.047513</td><td>0.020997</td><td>0.000277</td><td>0.001397</td><td>0.005816</td><td>2.2e-05 </td><td>0.001941</td><td>6e-06   </td></tr>\n",
       "</tbody>\n",
       "</table>\n"
      ],
      "text/latex": [
       "\\begin{tabular}{r|lllllllll}\n",
       " пара & две.пары & тройка & каре & фул.хаус & стрит & стрит.флэш & флэш & флэш.роял\\\\\n",
       "\\hline\n",
       "\t 0.422197 & 0.047513 & 0.020997 & 0.000277 & 0.001397 & 0.005816 & 2.2e-05  & 0.001941 & 6e-06   \\\\\n",
       "\\end{tabular}\n"
      ],
      "text/markdown": [
       "\n",
       "| пара | две.пары | тройка | каре | фул.хаус | стрит | стрит.флэш | флэш | флэш.роял |\n",
       "|---|---|---|---|---|---|---|---|---|\n",
       "| 0.422197 | 0.047513 | 0.020997 | 0.000277 | 0.001397 | 0.005816 | 2.2e-05  | 0.001941 | 6e-06    |\n",
       "\n"
      ],
      "text/plain": [
       "  пара     две.пары тройка   каре     фул.хаус стрит    стрит.флэш флэш    \n",
       "1 0.422197 0.047513 0.020997 0.000277 0.001397 0.005816 2.2e-05    0.001941\n",
       "  флэш.роял\n",
       "1 6e-06    "
      ]
     },
     "metadata": {},
     "output_type": "display_data"
    }
   ],
   "source": [
    "pair_cnt = 0           # пара\n",
    "two_pair_cnt = 0       # две пары\n",
    "three_of_kind_cnt = 0  # тройка\n",
    "four_of_kind_cnt = 0   # каре\n",
    "full_house_cnt = 0     # фул-хаус\n",
    "straight_cnt = 0       # стрит\n",
    "straight_flush_cnt = 0 # стрит-флэш\n",
    "flush_cnt = 0          # флэш\n",
    "royal_flush_cnt = 0    # флэш-роял \n",
    "\n",
    "n_obs = 10**6\n",
    "\n",
    "for(i in 1:n_obs){\n",
    "    # раздача карт \n",
    "    z = sample(1:52, 5, replace=FALSE)\n",
    "    my_cards = koloda[z,]\n",
    "    \n",
    "    dost_cnt = as.numeric(summary(my_cards$dost))\n",
    "    dost_len = length(dost_cnt)\n",
    "    order = which(dost_cnt > 0)\n",
    "    \n",
    "    # подсчитываем успехи для каждого события\n",
    "    pair_cnt = pair_cnt + as.integer((sum(dost_cnt == 2) == 1)&(sum(dost_cnt == 1) == 3)) \n",
    "    two_pair_cnt = two_pair_cnt + as.integer((sum(dost_cnt == 2) == 2))\n",
    "    three_of_kind_cnt = three_of_kind_cnt + as.integer((sum(dost_cnt == 3) == 1)&(sum(dost_cnt == 1) == 2))\n",
    "    four_of_kind_cnt = four_of_kind_cnt + as.integer((sum(dost_cnt == 4) == 1))\n",
    "    full_house_cnt = full_house_cnt + as.integer((sum(dost_cnt == 2) == 1)&(sum(dost_cnt == 3) == 1))\n",
    "\n",
    "    straight_cnt = straight_cnt + as.integer((sum(dost_cnt == 1) == 5)&(length(unique(diff(order))) == 1)&(length(unique(my_cards$mast)) > 1))\n",
    "    straight_flush_cnt = straight_flush_cnt + as.integer((sum(dost_cnt == 1) == 5)&(length(unique(diff(order))) == 1)&(length(unique(my_cards$mast)) == 1))\n",
    "    flush_cnt = flush_cnt + as.integer((length(unique(my_cards$mast)) == 1)&(length(unique(diff(order))) != 1))\n",
    "    royal_flush_cnt = royal_flush_cnt + as.integer((sum(dost_cnt[(dost_len-5):dost_len]) == 5)&(length(unique(my_cards$mast)) == 1))\n",
    "    }\n",
    "\n",
    "# табличка с итоговыми вероятностями\n",
    "data.frame(\"пара\" = pair_cnt/n_obs, \n",
    "          \"две пары\"=two_pair_cnt/n_obs, \n",
    "          \"тройка\"=three_of_kind_cnt/n_obs,\n",
    "          \"каре\"=four_of_kind_cnt/n_obs,\n",
    "          \"фул-хаус\"=full_house_cnt/n_obs,\n",
    "          \"стрит\"=straight_cnt/n_obs,\n",
    "          \"стрит-флэш\"=straight_flush_cnt/n_obs,\n",
    "          \"флэш\"=flush_cnt/n_obs,\n",
    "          \"флэш-роял\"=royal_flush_cnt/n_obs)"
   ]
  },
  {
   "cell_type": "markdown",
   "metadata": {},
   "source": [
    "У Филиппа на руках тройка королей (все, кроме пикового), дама пик и десятка треф. Какова вероятность, что его обыграет плюшевая обезьянка? "
   ]
  },
  {
   "cell_type": "code",
   "execution_count": 322,
   "metadata": {},
   "outputs": [],
   "source": [
    "library(\"dplyr\")\n",
    "\n",
    "# Выбросим карты  Фили\n",
    "\n",
    "# 'дама' 'пики'     37\n",
    "# '10' 'крести'     48\n",
    "# 'король' 'крести' 51\n",
    "# 'король' 'бубны'  12\n",
    "# 'король' 'черви'  25\n",
    "\n",
    "koloda_1 = koloda %>% filter(!id %in% c(37, 48, 51, 12, 25))"
   ]
  },
  {
   "cell_type": "code",
   "execution_count": 323,
   "metadata": {},
   "outputs": [
    {
     "data": {
      "text/html": [
       "0.003932"
      ],
      "text/latex": [
       "0.003932"
      ],
      "text/markdown": [
       "0.003932"
      ],
      "text/plain": [
       "[1] 0.003932"
      ]
     },
     "metadata": {},
     "output_type": "display_data"
    }
   ],
   "source": [
    "# Обезьянке надо побить тройку! Опять же что на руках у третьего игрока - неважно\n",
    "n_obs = 10**6\n",
    "monkey_win = 0\n",
    "\n",
    "for(i in 1:n_obs){\n",
    "    # раздача карт \n",
    "    z = sample(koloda_1$id, 5, replace=FALSE)\n",
    "    my_cards = koloda_1[z,]\n",
    "    \n",
    "    dost_cnt = as.numeric(summary(my_cards$dost))\n",
    "    dost_len = length(dost_cnt)\n",
    "\n",
    "    # Straight\n",
    "    usl_1 = (sum(dost_cnt == 1) == 5)&(length(unique(diff(order))) == 1)&(length(unique(my_cards$mast)) > 1)\n",
    "\n",
    "    # Flush\n",
    "    usl_2 = (length(unique(my_cards$mast)) == 1)&(length(unique(diff(order))) != 1)\n",
    "\n",
    "    # Full House\n",
    "    usl_3 = (sum(dost_cnt == 2) == 1)&(sum(dost_cnt == 3) == 1)\n",
    "\n",
    "    # Four of Kind\n",
    "    usl_4 = (sum(dost_cnt == 4) == 1)\n",
    "\n",
    "    # Straight Flush\n",
    "    usl_5 = (sum(dost_cnt == 1) == 5)&(length(unique(diff(order))) == 1)&(length(unique(my_cards$mast)) == 1)\n",
    "\n",
    "    # Royal Flush\n",
    "    usl_6 = (sum(dost_cnt[(dost_len-5):dost_len]) == 5)&(length(unique(my_cards$mast)) == 1)\n",
    "\n",
    "    # Тройка тузов\n",
    "    usl_7 = (dost_cnt[dost_len] == 3)\n",
    "    \n",
    "    monkey_win = monkey_win + as.integer(usl_1 | usl_2 | usl_3 | usl_4 | usl_5 | usl_6 |usl_7) \n",
    "}\n",
    "\n",
    "monkey_win/n_obs"
   ]
  },
  {
   "cell_type": "markdown",
   "metadata": {},
   "source": [
    "__[бонусные 10]__ посчитайте все эти вероятности на бумажке руками.\n",
    "\n",
    "* __Роял-флэш__  всего таких комбинаций $4$ штуки \n",
    "\n",
    "$$\n",
    "P(A) = \\frac{4}{C_{52}^5} \\approx 0.00000154 = 1.54e-06\n",
    "$$\n",
    "\n",
    "* __Стрит-флэш__ их всего $4 \\cdot 8 = 32$ штуки (от 2 до K)\n",
    "\n",
    "$$\n",
    "P(A) = \\frac{32}{C_{52}^5} \\approx 0.0000123 = 1.23e-05\n",
    "$$\n",
    "\n",
    "* __Карэ__ всего комбинаций четырёх одинаковых карт $13$, к ним может добавиться любая из оставшихся $48$ карт.\n",
    "\n",
    "$$\n",
    "P(A) = \\frac{13 \\cdot 48}{C_{52}^5} \\approx 0.00024 = 2.4e-04\n",
    "$$\n",
    "\n",
    "* __Флэш__ всего есть $4$ масти, каждой по $13$ карт, значит может быть $4 \\cdot C_{13}^5$ флэшей. Из общего числа надо удалить стрит-флэши и роял-флэши. \n",
    "\n",
    "$$\n",
    "P(A) = \\frac{4 \\cdot C_{13}^5 - 32 - 4}{C_{52}^5} = 0.00196\n",
    "$$\n",
    "\n",
    "* __Фулл-хаус__ всего пар может быть $13 \\cdot С_4^2$. К каждой паре может быть $12 \\cdot С_4^3$ сетов. \n",
    "\n",
    "$$\n",
    "P(A) = \\frac{13 \\cdot С_4^2 \\cdot 12 \\cdot С_3^4}{C_{52}^5} = 0.00144\n",
    "$$\n",
    "\n",
    "\n",
    "* __Стрит__ всего мастей $4$, всего комбинаций подряд $9$, карты могут быть любой масти, кроме одинаковой.\n",
    "\n",
    "$$\n",
    "P(A) = \\frac{9 \\cdot 4^5 - 4 - 32}{C_{52}^5} = 0.00353\n",
    "$$\n",
    "\n",
    "\n",
    "* __Сет__ всего возможно $13 \\cdot C_4^3$ сетов. Ещё две карты можно добавить $C_48^2$ способами. Надо убрать фулл-хаусы. \n",
    "\n",
    "$$\n",
    "P(A) = \\frac{13 \\cdot C_4^3 - 13 \\cdot С_4^2 \\cdot 12 \\cdot С_3^4\n",
    "$$"
   ]
  },
  {
   "cell_type": "code",
   "execution_count": null,
   "metadata": {},
   "outputs": [],
   "source": []
  },
  {
   "cell_type": "code",
   "execution_count": 344,
   "metadata": {},
   "outputs": [
    {
     "data": {
      "text/html": [
       "0.00353218210361063"
      ],
      "text/latex": [
       "0.00353218210361063"
      ],
      "text/markdown": [
       "0.00353218210361063"
      ],
      "text/plain": [
       "[1] 0.003532182"
      ]
     },
     "metadata": {},
     "output_type": "display_data"
    }
   ],
   "source": [
    "(9*4**5 - 4 - 32)/binom(52,5)"
   ]
  },
  {
   "cell_type": "code",
   "execution_count": 324,
   "metadata": {},
   "outputs": [
    {
     "data": {
      "text/html": [
       "48"
      ],
      "text/latex": [
       "48"
      ],
      "text/markdown": [
       "48"
      ],
      "text/plain": [
       "[1] 48"
      ]
     },
     "metadata": {},
     "output_type": "display_data"
    }
   ],
   "source": [
    "12*4"
   ]
  },
  {
   "cell_type": "markdown",
   "metadata": {},
   "source": [
    "### [5]  Задачка 8\n",
    "\n",
    "Коронавирус продолжает выкашивать людей! Мише это в конец надоело, поэтому он заперся в своей комнате, в общаге, и разработал новый тест на инфекцию. Тест Миши никогда не ошибается. Есть только один нюанс. Тест очень дорого производить, а тестировать на вирус придётся всю Россию. \n",
    "\n",
    "Миша довольно находчивый, и придумал способ сэкономить. Он предлагает разбить всех людей в России на группы по $k$ человек. Люди из одной группы сдают на анализ свои мазки из носоглотки. Дальше каким-то неведомым образом все эти мазки смешиваются в пробирке, и она сдаётся на тест. Если тест выявляет, что в пробирке всё хорошо, все $k$ человек объявляются здоровыми. Если тест говорит, что в пробирке был вирус, все $k$ человек сдают индивидуальные тесты для поиска больных. \n",
    "\n",
    "__[а]__ Будем предполагать, что вероятность того, что человек инфицирован в день теста составляет $p = 0.001$. На какое количество групп нужно разбить людей, чтобы сэкономить как можно больше тестов? Сколько в среднем тестов будет потрачено?  Ответьте на этот вопрос с помощью симуляций. Все симуляции проводите в расчёте на $1000$ человек."
   ]
  },
  {
   "cell_type": "code",
   "execution_count": 168,
   "metadata": {},
   "outputs": [
    {
     "data": {
      "text/html": [
       "91"
      ],
      "text/latex": [
       "91"
      ],
      "text/markdown": [
       "91"
      ],
      "text/plain": [
       "[1] 91"
      ]
     },
     "metadata": {},
     "output_type": "display_data"
    }
   ],
   "source": [
    "# дробим группу на k групп и находим число проверок\n",
    "\n",
    "check_cnt = function(x, k){    \n",
    "    last_cnt = length(x) %% k                # людей в последней группе\n",
    "    cnt = length(x) %/% k + (last_cnt > 0)   # число групп на проверку\n",
    "\n",
    "    # матрица пациентов размерность [число групп x число людей в группе]\n",
    "    if(last_cnt != 0){\n",
    "        P = matrix(c(x, rep(0, (k - last_cnt))), nrow = cnt)\n",
    "        } else {\n",
    "        P = matrix(x, nrow = cnt)\n",
    "    }\n",
    "\n",
    "    pacients = sum(P[1:nrow(P)-1,] > 0) # число больных групп (кроме последней)\n",
    "    \n",
    "    # число проверок\n",
    "    check = cnt +                            # проверили каждую группу\n",
    "            k*pacients +                     # проверили всех пациентов в больных группах\n",
    "            last_cnt*(sum(P[nrow(P),]) > 0)  # проверили всех из последней группы (если надо)\n",
    "    return (check)\n",
    "}\n",
    "\n",
    "# одна группа из больных\n",
    "x = sample(0:1, 1000, replace = TRUE, prob = c(0.999, 0.001))\n",
    "check_cnt(x, 11)"
   ]
  },
  {
   "cell_type": "code",
   "execution_count": 177,
   "metadata": {},
   "outputs": [],
   "source": [
    "# для каждого k от 2 до 100 делаем по 10**5 симуляций\n",
    "\n",
    "n_obs = 10**4\n",
    "k_mean = rep(0, 10)\n",
    "\n",
    "for(k in 1:100){\n",
    "    s = rep(0, n_obs) # число проверок в каждой симуляции\n",
    "    for(i in 1:n_obs){\n",
    "        x = sample(0:1, 1000, replace = TRUE, prob = c(0.999, 0.001))\n",
    "        s[i] = check_cnt(x, k)\n",
    "    }\n",
    "    k_mean[k] = mean(s) # среднее число проверок при текущем разбиении\n",
    "}\n",
    "\n",
    "qplot(1:length(k_mean), k_mean)\n",
    "k_min = which.min(k_mean)\n",
    "cat(\"Оптимальное число групп: \", k_min, \"\\n\")\n",
    "cat(\"Среднее число тестов:\", k_mean[k_min])"
   ]
  },
  {
   "cell_type": "markdown",
   "metadata": {},
   "source": [
    "__[б]__ Предположим, что тест Миши всё-таки ошибается. Вероятность того, что он объявит здорового больным равна $0.02$. В обратную сторону ошибки не происходит. Какое значиние $k$ окажется оптимальным в таком случае? "
   ]
  },
  {
   "cell_type": "code",
   "execution_count": 181,
   "metadata": {},
   "outputs": [
    {
     "data": {
      "text/html": [
       "7"
      ],
      "text/latex": [
       "7"
      ],
      "text/markdown": [
       "7"
      ],
      "text/plain": [
       "[1] 7"
      ]
     },
     "metadata": {},
     "output_type": "display_data"
    },
    {
     "data": {
      "image/png": "[encoded data removed]",
      "text/plain": [
       "plot without title"
      ]
     },
     "metadata": {},
     "output_type": "display_data"
    }
   ],
   "source": [
    "# Тут если хотябы один тест говорит, что группа больна тестируем всю группу\n",
    "# То чо тест может сказать на отдельном человеке, что он болен ошибочно - игнорируем \n",
    "# \n",
    "# Новая вероятность того, что тестируется вся группа - p*q + p*(1-q) + (1-p)*q = p + (1-p)*q\n",
    "\n",
    "p = 0.001 + (1 - 0.001)*0.02\n",
    "\n",
    "n_obs = 10**4\n",
    "k_mean = rep(0, 10)\n",
    "\n",
    "for(k in 1:100){\n",
    "    s = rep(0, n_obs) # число проверок в каждой симуляции\n",
    "    for(i in 1:n_obs){\n",
    "        x = sample(0:1, 1000, replace = TRUE, prob = c(1-p, p))\n",
    "        s[i] = check_cnt(x, k)\n",
    "    }\n",
    "    k_mean[k] = mean(s) # среднее число проверок при текущем разбиении\n",
    "}\n",
    "\n",
    "qplot(1:length(k_mean), k_mean)\n",
    "k_min = which.min(k_mean)\n",
    "cat(\"Оптимальное число групп: \", k_min, \"\\n\")\n",
    "cat(\"Среднее число тестов:\", k_mean[k_min])"
   ]
  },
  {
   "cell_type": "markdown",
   "metadata": {},
   "source": [
    "__[бонусные 10]__ Попробуйте решить предыдущие два пункта руками для произвольных вероятностей $p$ и $q$. Как именно оптимальное $k$ зависит от этих вероятностей? \n",
    "\n",
    "__Hint:__ При решении уравнения, которое получится после взятия производной от математического ожидания числа проверок, можно воспользоваться разложением в ряд Тэйлора: $(1 - p)^x \\approx 1 - px$. Это можно сделать, если мы предполагаем, что вероятность заболеть, $p$, очень маленькая.   "
   ]
  },
  {
   "cell_type": "markdown",
   "metadata": {},
   "source": [
    "__Решение:__ \n",
    "\n",
    "Такая техника проведения анализа реально использовалась во время $2-$ой мировой войны. Задачку выдернул [с $13$ страницы Лагутина.](https://yadi.sk/i/UuWhEn_L4X_Rwg) Раздел называется \"Поиск больных\". Там же есть решение. Его тут и привожу. \n",
    "\n",
    "Будем для удобства считать, что $n$ всегда делится на $k$. Если не делится, то последняя группа будет не полностью укомплектована. Пусть $X_j$ - число проверок, которое надо сделать в группе $j$. Если там не было больных, это всего одна проверка. Один человек не болеет с вероятностью $1 - p$. Вся группа не болеет с вероятностью $(1 - p)^k$.\n",
    "\n",
    "Если в группе были больные, то это проверка общей пробирки для группы, а также проверка каждого человека в ней, то есть $k + 1$ проверка. Это происходит, если есть хотябы один больной, то есть с вероятностью $1 - (1 - p)^k$.\n",
    "\n",
    "Получается, что \n",
    "\n",
    "\\begin{equation*}\n",
    "X_j = \\begin{cases} \n",
    "1, \\text{ если все здоровы }, (1 - p)^k \\\\\n",
    "k + 1, \\text{ если есть больные }, 1 - (1 - p)^k.\n",
    "\\end{cases}\n",
    "\\end{equation*} \n",
    "\n",
    "Получается, что всего мы сделаем $Z$ проверок:\n",
    "\n",
    "$$\n",
    "Z = X_1 + \\ldots + X_{\\frac{n}{k}}.\n",
    "$$ \n",
    "\n",
    "Наша задача минимизировать среднее число проверок, выбрав оптимальное число групп, то есть\n",
    "\n",
    "$$\n",
    "\\mathbb{E}(Z) = \\mathbb{E}(X_1 + \\ldots + X_{\\frac{n}{k}}) = \\mathbb{E}(X_1) + \\ldots +  \\mathbb{E}(X_{\\frac{n}{k}}) = \\frac{n}{k} \\cdot \\mathbb{E}(X_1) = \\frac{n}{k} \\cdot \\left[1 \\cdot (1-p)^k + (k+1) \\cdot (1 - (1 - p)^k) \\right] \\to \\min_k.\n",
    "$$ \n",
    "\n",
    "Упростим это математическое ожидание\n",
    "\n",
    "$$\n",
    "\\mathbb{E}(Z) = n \\cdot \\left[1 + \\frac{1}{k} - (1-p)^k \\right] \\to \\min_k.\n",
    "$$\n",
    "\n",
    "Если влоб взять производную, у нас получится неразрешимое уравнение\n",
    "\n",
    "$$\n",
    "- \\frac{1}{k^2} - (1 - p)^k \\ln(1 - p) = 0.\n",
    "$$\n",
    "\n",
    "Можно попробовать решить его численно в R, а можно воспользоваться подсказкой про ряд Тэйлора, чтобы получить примерное решение в виде формулы. Мы можем воспользовать сяразложением \n",
    "\n",
    "$$\n",
    "(1 - p)^k \\approx 1 - p \\cdot k\n",
    "$$\n",
    "\n",
    "в ситуациях, когда вероятность $p$ очень маленькая. Обычно мы раскладываем в ряд Тэйлора в окрестности нуля. Нам везёт, люди заболевают вирусом с низкой вероятностью, поэтому тут такое приближение нам подходит. \n",
    "\n",
    "$$\n",
    "\\mathbb{E}(Z) \\approx n \\cdot \\left[1 + \\frac{1}{k} - 1 + p \\cdot k \\right] \\to \\min_k.\n",
    "$$\n",
    "\n",
    "Тут уравнение решается\n",
    "\n",
    "$$\n",
    "- \\frac{1}{k^2} + p = 0 \\quad \\Rightarrow \\quad \\hat k = \\frac{1}{\\sqrt{p}}\n",
    "$$\n",
    "\n",
    "Если предположить как в условиях задачи, что $p = 0.001$, нам надо будет включать в каждую группу $31$ человека. "
   ]
  },
  {
   "cell_type": "code",
   "execution_count": 67,
   "metadata": {},
   "outputs": [
    {
     "data": {
      "text/html": [
       "31.6227766016838"
      ],
      "text/latex": [
       "31.6227766016838"
      ],
      "text/markdown": [
       "31.6227766016838"
      ],
      "text/plain": [
       "[1] 31.62278"
      ]
     },
     "metadata": {},
     "output_type": "display_data"
    }
   ],
   "source": [
    "n = 1000\n",
    "p = 0.001\n",
    "1/sqrt(p)"
   ]
  },
  {
   "cell_type": "markdown",
   "metadata": {},
   "source": [
    "### [2]  Задачка 9\n",
    "\n",
    "У Полины есть не только футболка студпассива, но и выборка, которая на $\\frac{8}{10}$ пришла из нормального распределения с параметрами $0$ и $1$. Оставшаяся часть пришла из [распределения парето](http://ugrad.stat.ubc.ca/R/library/rmutil/html/Pareto.html) с параметарми $20$ и $2$. \n",
    "\n",
    "Правда ли, что хвосты такой смеси тяжелее, чем у стандартного нормального распределения? Нарисуйте гистограмму для смеси и плотность для нормального распределения на одной картинке, чтобы увидеть тяжесть хвостов. \n",
    "\n",
    "Кстати, Полина тоже сидит на самоизоляции дома и ей скучно. "
   ]
  },
  {
   "cell_type": "code",
   "execution_count": 40,
   "metadata": {},
   "outputs": [],
   "source": [
    "#install.packages(\"actuar\")\n",
    "library(\"actuar\")"
   ]
  },
  {
   "cell_type": "code",
   "execution_count": 46,
   "metadata": {},
   "outputs": [
    {
     "name": "stderr",
     "output_type": "stream",
     "text": [
      "`stat_bin()` using `bins = 30`. Pick better value with `binwidth`.\n"
     ]
    },
    {
     "data": {
      "image/png": "[encoded data removed]",
      "text/plain": [
       "plot without title"
      ]
     },
     "metadata": {},
     "output_type": "display_data"
    }
   ],
   "source": [
    "n_obs = 10**6\n",
    "x = c(rnorm(0.8*n_obs), rpareto(0.2*n_obs, 20, 2))\n",
    "\n",
    "df = data.frame(value = x)\n",
    "\n",
    "ggplot(df , aes(x = value)) +\n",
    "         geom_histogram(aes(y = ..density.. )) + \n",
    "         geom_line(aes(x = value, y = dnorm(value)), col = \"red\")"
   ]
  },
  {
   "cell_type": "code",
   "execution_count": 19,
   "metadata": {},
   "outputs": [],
   "source": [
    "### ╰( ͡° ͜ʖ ͡° )つ──☆  кооод"
   ]
  },
  {
   "cell_type": "markdown",
   "metadata": {},
   "source": [
    "### [3]  Задачка 10\n",
    "\n",
    "Пущай у нас есть стрёмная функция распределения. Например, вот такая: \n",
    "\n",
    "$$\n",
    "F(x) = \\left( \\frac{\\ln x}{\\ln \\theta} \\right)^{\\alpha},  \\quad x \\in [1; \\theta]\n",
    "$$\n",
    "\n",
    "Давайте сгенерим из неё выборку с помощью квантильного преобразования. "
   ]
  },
  {
   "cell_type": "code",
   "execution_count": 59,
   "metadata": {},
   "outputs": [
    {
     "data": {
      "image/png": "[encoded data removed]",
      "text/plain": [
       "plot without title"
      ]
     },
     "metadata": {},
     "output_type": "display_data"
    }
   ],
   "source": [
    "# для примера выберем какие-нибудь значиния параметра\n",
    "theta = 40\n",
    "alpha = 2\n",
    "\n",
    "y = runif(10^4, min = 0, max = 1)\n",
    "x = theta**(y**(1/alpha)) # обратная к F(x) функция\n",
    "qplot(x, bins=50)"
   ]
  },
  {
   "cell_type": "markdown",
   "metadata": {},
   "source": [
    "### [5]  Задачка 11\n",
    "\n",
    "У древнего морского монстра ~~Коронавируса~~ Кракена $8$ ног-щупалец. Если отрубить одно щупальце, то взамен него с вероятностью $0.25$ отрастает новое, с вероятностью $0.25$ отрастает два новых, с вероятностью $0.5$, слава Океану, не вырастает ничего. \n",
    "\n",
    "Против Кракена бьётся сам Капитан! Он наносит точные удары и безупречно умело уворачивается от ударов Кракена. \n",
    "\n",
    "__[а]__ Какова вероятность того, что Капитан победит, отрубив ровно $10$ щупалец? \n",
    "\n",
    "__[б]__ Какова вероятность, что бой Капитана и Кракена продлиться вечно? \n",
    "\n",
    "__[в]__ Сколько щупалец в среднем отрубит Капитан прежде, чем победит? \n",
    "\n",
    "Ответьте на эти вопросы с помощью симуляций."
   ]
  },
  {
   "cell_type": "code",
   "execution_count": 199,
   "metadata": {},
   "outputs": [
    {
     "data": {
      "text/html": [
       "52"
      ],
      "text/latex": [
       "52"
      ],
      "text/markdown": [
       "52"
      ],
      "text/plain": [
       "[1] 52"
      ]
     },
     "metadata": {},
     "output_type": "display_data"
    }
   ],
   "source": [
    "# функция для одного боя с монстром\n",
    "\n",
    "the_battle = function(){\n",
    "    legs = 8\n",
    "    chop = 0\n",
    "\n",
    "    # бой останавливается если не осталось щупалец или их больше 1000 (чтобы не было вечного цикла)\n",
    "    while (legs > 0 & chop < 1000){\n",
    "        k = sample(x = c(1,2,0), size = 1, prob = c(0.25,0.25,0.5))\n",
    "        legs = legs + k - 1 # отросло k штук и отрубили 1 \n",
    "        chop = chop + 1 # число отрубленных за бою щупалец\n",
    "    }\n",
    "\n",
    "    return(chop)\n",
    "}\n",
    "\n",
    "the_battle()"
   ]
  },
  {
   "cell_type": "code",
   "execution_count": 200,
   "metadata": {},
   "outputs": [],
   "source": [
    "# делаем кучу битв\n",
    "n_obs = 10**6\n",
    "s = rep(0, n_obs)\n",
    "\n",
    "for(i in 1:n_obs){\n",
    "    s[i] = the_battle()\n",
    "}"
   ]
  },
  {
   "cell_type": "code",
   "execution_count": 201,
   "metadata": {},
   "outputs": [
    {
     "data": {
      "text/html": [
       "0.012862"
      ],
      "text/latex": [
       "0.012862"
      ],
      "text/markdown": [
       "0.012862"
      ],
      "text/plain": [
       "[1] 0.012862"
      ]
     },
     "metadata": {},
     "output_type": "display_data"
    },
    {
     "data": {
      "text/html": [
       "0"
      ],
      "text/latex": [
       "0"
      ],
      "text/markdown": [
       "0"
      ],
      "text/plain": [
       "[1] 0"
      ]
     },
     "metadata": {},
     "output_type": "display_data"
    },
    {
     "data": {
      "text/html": [
       "31.992789"
      ],
      "text/latex": [
       "31.992789"
      ],
      "text/markdown": [
       "31.992789"
      ],
      "text/plain": [
       "[1] 31.99279"
      ]
     },
     "metadata": {},
     "output_type": "display_data"
    }
   ],
   "source": [
    "mean(s == 10) # P(X = 10)\n",
    "mean(s > 900) # добирались ли мы вообще до 1000\n",
    "mean(s)       # E(X) "
   ]
  },
  {
   "cell_type": "markdown",
   "metadata": {},
   "source": [
    "__[бонусные 10]__ А также ручкой на бумаге! Если есть желание научиться решать подобные рекурсивные задачки, можно посмотреть [серию видосов от моего любимого ББ.](https://vimeo.com/showcase/2521777) Смотреть с первого :) \n",
    "\n",
    "__Решение:__ \n",
    "\n",
    "__[а]__ Если отрублено $10$ щупалец, значит либо был один удар породивший два новых щупальца, либо было два удара, породивших по одному новому, а все остальные удары не порождали новых щупалец. \n",
    "\n",
    "$$\n",
    "8 \\cdot 0.5^9 \\cdot 0.25^{1} + C_8^2 \\cdot 0.5^{8} \\cdot 0.25^2\n",
    "$$"
   ]
  },
  {
   "cell_type": "code",
   "execution_count": 187,
   "metadata": {},
   "outputs": [
    {
     "data": {
      "text/html": [
       "0.0107421875"
      ],
      "text/latex": [
       "0.0107421875"
      ],
      "text/markdown": [
       "0.0107421875"
      ],
      "text/plain": [
       "[1] 0.01074219"
      ]
     },
     "metadata": {},
     "output_type": "display_data"
    }
   ],
   "source": [
    "binom = function(n,k) factorial(n)/(factorial(k)*factorial(n-k))\n",
    "8*0.5**9*0.25 + binom(8,2)*0.5**8*0.25**2"
   ]
  },
  {
   "cell_type": "markdown",
   "metadata": {},
   "source": [
    "__[б]__ Вероятность вечного боя равна нулю. Достаточно доказать, что с вероятностью один за конечное время побеждается одноногий кракен. А эта вероятность удовлетворяет уравнению \n",
    "\n",
    "$$\n",
    "p = 0.25 \\cdot p + 0.25 \\cdot p^2 + 0.5.\n",
    "$$\n",
    "\n",
    "Единственный осмысленный корень у этого уравнения - $1$.\n",
    "\n",
    "__[в]__ Замечаем, что на победу над $k$-щупальцевым Кракеном уходит в $k$ раз больше ударов в среднем, чем на победу над $1-$ щупальцевым. Отсюда: \n",
    "\n",
    "$$\n",
    "e_1 = 1 + 0.5 \\cdot 0 + 0.25 \\cdot e_1 + 0.25 \\cdot 2 \\cdot e_1\n",
    "$$\n",
    "\n",
    "Решаем уравнение, получаем $e_1 = 4$ и $e_8 = 32$. \n",
    "\n",
    "-----------------------"
   ]
  },
  {
   "cell_type": "markdown",
   "metadata": {},
   "source": [
    "### [5] Задачка 12\n",
    "\n",
    "У распределения Хи-квадрат есть милое свойство. Известно, что если $X_1, \\ldots, X_n \\sim iid~N(0,1)$, тогда имеет место следующая сходимость по веротяности:\n",
    "\n",
    "$$\n",
    "\\frac{\\chi^2_n}{n} = \\frac{X_1^2 + \\ldots + X_n^2}{n} \\to  1\n",
    "$$\n",
    "\n",
    "Продемонстрируйте с помощью симуляций в R, что это именно так. От вас требуется построить ту же картинку, что мы строили при иллюстрации ЗБЧ. Не забудьте построить для нескольких разных $\\varepsilon$ коридоры и убедиться, что последовательность с некоторого момента начинает пробивать их довольно редко.\n",
    "\n",
    "__Решение:__ \n",
    "\n",
    "__Важно:__ вы же понимаете, что это свойство следует из ЗБЧ? Для случайной величины $\\chi^2_n$ математическое ожидание равно $n$, выходит что в пределе при делении на $n$ должно получиться число $1$."
   ]
  },
  {
   "cell_type": "code",
   "execution_count": 60,
   "metadata": {},
   "outputs": [
    {
     "data": {
      "image/png": "[encoded data removed]",
      "text/plain": [
       "plot without title"
      ]
     },
     "metadata": {},
     "output_type": "display_data"
    }
   ],
   "source": [
    "### ╰( ͡° ͜ʖ ͡° )つ──☆  наколдуй немного магии\n",
    "n_obs = 10^3       # число симуляций\n",
    "s = rep(0, n_obs)  # сюда будем закидывать члены последовательности\n",
    "\n",
    "for(i in 1:n_obs){\n",
    "    s[i] = mean(rnorm(i)^2)\n",
    "}\n",
    "\n",
    "eps1 = 0.2\n",
    "eps2 = 0.1\n",
    "\n",
    "ggplot(data.frame('x'=1:n_obs, 'y'=s)) + \n",
    "  geom_line(aes(x, y)) +\n",
    "\n",
    "  geom_line(aes(x, 1+eps1), col='red')+\n",
    "  geom_line(aes(x, 1-eps1), col='red')+\n",
    "\n",
    "  geom_line(aes(x, 1+eps2), col='blue')+\n",
    "  geom_line(aes(x, 1-eps2), col='blue')"
   ]
  },
  {
   "cell_type": "code",
   "execution_count": null,
   "metadata": {},
   "outputs": [],
   "source": [
    "\n",
    "\n",
    "samp <- \n",
    "#засунем все в датафрейм чтобы рисовать\n",
    "dat <- tibble(value = samp)\n",
    "#рисуем\n"
   ]
  },
  {
   "cell_type": "code",
   "execution_count": 20,
   "metadata": {},
   "outputs": [],
   "source": [
    "### ╰( ͡° ͜ʖ ͡° )つ──☆  напиши в меня коооод"
   ]
  },
  {
   "cell_type": "markdown",
   "metadata": {},
   "source": [
    "Хорошо! Теперь зафиксируйте несколько коридоров также, как мы делали это на паре и пронаблюдайте, как ведут себя вероятности пробить эти коридоры при увеличении $n$."
   ]
  },
  {
   "cell_type": "code",
   "execution_count": null,
   "metadata": {},
   "outputs": [],
   "source": []
  },
  {
   "cell_type": "code",
   "execution_count": 61,
   "metadata": {},
   "outputs": [
    {
     "data": {
      "image/png": "[encoded data removed]",
      "text/plain": [
       "plot without title"
      ]
     },
     "metadata": {},
     "output_type": "display_data"
    }
   ],
   "source": [
    "### ╰( ͡° ͜ʖ ͡° )つ──☆  наколдуй немного магии\n",
    "\n",
    "s1 <- rep(0,times=n_obs) # вектор из нулей для первого коридора\n",
    "s2 <- rep(0,times=n_obs) # вектор из нулей для второго коридора\n",
    "\n",
    "for(i in 1:n_obs){\n",
    "    x <- rep(0,times=1000)\n",
    "    for(j in 1:1000){\n",
    "        x[j] <- mean(rnorm(i)^2)\n",
    "    }\n",
    "    s1[i] <- sum(abs(x) > 1+0.01)/1000\n",
    "    s2[i] <- sum(abs(x) > 1+0.1)/1000\n",
    "    }\n",
    "\n",
    "ggplot(data.frame('x'=1:n_obs, 's1'=s1, 's2'=s2)) + \n",
    "  geom_line(aes(x, s1, color='eps=0.01')) +\n",
    "  geom_line(aes(x, s2, color='eps=0.1'))\n",
    "\n",
    "# для узкого коридора убывание идёт совсем медленно :) "
   ]
  },
  {
   "cell_type": "markdown",
   "metadata": {},
   "source": [
    "Учитывая, что последовательность случайных величин, приведённая выше, сходится к константе, то есть к вырожденному распределению, дисперсия этой последовательности должна сходится к нулю. Продемонстрируйте, что это действительно так. Для этого нужно скопипастить код из второго пункта и немного отредактировать его.  "
   ]
  },
  {
   "cell_type": "code",
   "execution_count": 62,
   "metadata": {},
   "outputs": [
    {
     "data": {
      "image/png": "[encoded data removed]",
      "text/plain": [
       "plot without title"
      ]
     },
     "metadata": {},
     "output_type": "display_data"
    }
   ],
   "source": [
    "### ╰( ͡° ͜ʖ ͡° )つ──☆  наколдуй немного магии\n",
    "\n",
    "n_obs = 100\n",
    "s <- rep(0,times=n_obs) # вектор из нулей для дисперсий\n",
    "\n",
    "for(i in 1:n_obs){\n",
    "    x <- rep(0,times=1000)\n",
    "    for(j in 1:1000){\n",
    "        x[j] <- mean(rnorm(i)^2)\n",
    "    }\n",
    "    s[i] <- var(x)\n",
    "    }\n",
    "\n",
    "qplot(1:n_obs, s, geom='line')"
   ]
  },
  {
   "cell_type": "markdown",
   "metadata": {},
   "source": [
    "Если вы хорошо разбирались в лекциях по математической статистике, у вас должна была возникнуть в голове аналогия с Достаточным условием Чебышёва. Оно говорит, что если оценка неизвестного параметра является несмещённой, $E(\\hat \\theta) = \\theta$ и дисперсия этой оценки стремится к нулю, $Var(\\hat \\theta) \\to 0$ при $n \\to \\infty$, то эта оценка состоятельна. \n",
    "\n",
    "Попробуйте ещё раз посмотреть на картинку, которую вы получили выше и переосмыслить это условие. Также не помешает немного подумать о состоятельности оценки и вспомнить определение состоятельности. "
   ]
  },
  {
   "cell_type": "code",
   "execution_count": 25,
   "metadata": {},
   "outputs": [],
   "source": [
    "### ╰( ͡° ͜ʖ ͡° )つ──☆  наколдуй немного магии"
   ]
  },
  {
   "cell_type": "markdown",
   "metadata": {},
   "source": [
    "### [5] Задачка 13\n",
    "\n",
    "Ксюша ... сидит на самоизоляции. У неё есть куча книг и интернет, но она всё-равно скучает. Скучает по Василию Павловичу Решетникову и его лекциям по матстату. Ей безумно не хватает его экспрессии и таланта расказсчика. Поэтому, чтобы унять всю свою сердечную боль и пустоту, она читает книги [Черновой](https://github.com/FUlyankin/r_probability/raw/master/books/Хороший%20учебник%20по%20матстату.pdf) и [Лагутина](https://yadi.sk/i/UuWhEn_L4X_Rwg) про матстат. \n",
    "\n",
    "Сегодня тоска окончательно разъела сердце Ксюши. Поэтому она стала генеировровать равномерные случайные величины. \n",
    "\n",
    "- Ксюша взяла независимые случайные величны $X, Y \\sim U[1,2]$. Немного поколдовав, она получила случайную величину $Z = \\frac{X}{X + Y}$. С помощью симуляций оцените математическое ожидание этой случайной величины сначала на $10$, потом на $11$, $\\ldots$ , потом на $1000$ наблюдениях. Нарисуйте картинку, на которой будет видно к чему сходится эта оценка. "
   ]
  },
  {
   "cell_type": "code",
   "execution_count": 26,
   "metadata": {},
   "outputs": [],
   "source": [
    "### ╰( ͡° ͜ʖ ͡° )つ──☆  наколдуй немного магии\n",
    "\n",
    "n <- 10000\n",
    "means <- rep(0,n)\n",
    "for(i in 1:n){\n",
    "  x <- runif(i,1,2)\n",
    "  y <- runif(i,1,2)\n",
    "  z <- x/(x+y)\n",
    "  means[i] <- mean(z)\n",
    "}\n",
    "k <- seq(1,n,1)\n",
    "df <- data.frame(k)\n",
    "ggplot(data=df,aes(x=k,y=means))+\n",
    "  geom_line()+\n",
    "  geom_hline(yintercept=0.5,col=\"red\",size=1)"
   ]
  },
  {
   "cell_type": "markdown",
   "metadata": {},
   "source": [
    "- Тепреь Ксюша взяла независимые случайные величны $X, Y \\sim U[-1,1]$. Постройте для $Z$ по аналогии с предыдущей картинку, на которой будет показано к чему сходится оценка математического ожидания этой случайной величины. Как думаете, почему с этой случайной величиной происходит такая странность?"
   ]
  },
  {
   "cell_type": "code",
   "execution_count": 27,
   "metadata": {},
   "outputs": [],
   "source": [
    "### ╰( ͡° ͜ʖ ͡° )つ──☆  наколдуй немного магии\n",
    "\n",
    "means <- rep(0,n)\n",
    "for(i in 1:n){\n",
    "  x <- runif(i,-1,1)\n",
    "  y <- runif(i,-1,1)\n",
    "  z <- x/(x+y)\n",
    "  means[i] <- mean(z)\n",
    "}\n",
    "k <- seq(1,n,1)\n",
    "df <- data.frame(k)\n",
    "ggplot(data=df,aes(x=k,y=means))+\n",
    "  geom_line()+\n",
    "  geom_hline(yintercept=0,col=\"red\",size=1)\n"
   ]
  },
  {
   "cell_type": "markdown",
   "metadata": {},
   "source": [
    "## [35+] Кит-рисёрчер\n",
    "\n",
    "**Добро пожаловать в Кита. Кит — это большая рисёрчерская задача с огромным количеством вопросов. В ките есть как ручные вопросы, так и вопросы для симуляций. За каждый вопрос даётся какое-то количество баллов. В каких-то вопросах требуется решить задачу руками на бумажке. В каких-то вопросах требуется произвести симуляцию в R. Продвинтесь в своём рисёрче над этим китом как можно глубже и срубите куш из баллов.** "
   ]
  },
  {
   "cell_type": "markdown",
   "metadata": {},
   "source": [
    "На Земле есть филиал ада. Расположен он в Москве, утром, в час пик, на кончике лиловой ветки метро. Эта задача про него. "
   ]
  },
  {
   "cell_type": "markdown",
   "metadata": {},
   "source": [
    "Южный кончик лиловой ветки Московского метро состоит из станций: \n",
    "\n",
    "    ж  Пролетарская (впервые есть пересадка, люди выходят)    \n",
    "    п  Волгоградский проспект  \n",
    "    п  Текстильщики   \n",
    "    ж  Кузьминки   \n",
    "    п  Рязянский проспект  \n",
    "    ж  Выхино  \n",
    "    ж  Лермонтвоский проспект   \n",
    "    ж  Жулебино (конечная)\n",
    "\n",
    "\n",
    "Каждое утро на ветке разворачиваются драмматические события:\n",
    "\n",
    "* Поезд едет от станции к станции $5$ минут. Из депо поезда запускают каждые 5 минут. В одном поезде помещается $500$ человек. Вместимость поезда описывается переменной $full$, которая принимает значение от $0$ до $1$ (доля занятых мест).\n",
    "* Рассматривается период работы метро с $6$ часов утра до $15$ часов дня. "
   ]
  },
  {
   "cell_type": "markdown",
   "metadata": {},
   "source": [
    "* Разница во времени пика интенсивности между двумя соседними станциями состовляет $30$ минут. Так, в Жулебино максимальная интенсивность наблюдается в $07:30$, на Лермонтовском проспекте в $08:00$ и так далее.\n",
    "\n",
    "* Все станции делятся на два типа: промышленные и жилые. Пик интенсивности на промышленных станциях в три раза ниже. \n",
    "\n",
    "![](https://raw.githubusercontent.com/FUlyankin/r_probability/master/end_seminars_2020/HW/train_arrive.png)"
   ]
  },
  {
   "cell_type": "code",
   "execution_count": 28,
   "metadata": {},
   "outputs": [],
   "source": [
    "station_name = c('жулебино', 'лермонтовский проспект', 'выхино', 'рязанский проспект', \n",
    "                'кузьминки', 'текстильщики', 'волгоградский проспект', 'пролетарская')\n",
    "\n",
    "station_kind = c('ж', 'ж', 'ж', 'п', 'ж', 'п', 'п', 'ж')"
   ]
  },
  {
   "cell_type": "markdown",
   "metadata": {},
   "source": [
    "Люди прибывают на платформу, чтобы сесть в поезд: \n",
    "\n",
    "* Случайная величина $Z \\sim Poiss(\\lambda)$ - число людей, которое прибыло на платформу в течение минуты. Интенсивность $\\lambda$ зависит от времени и изменяется по функции: "
   ]
  },
  {
   "cell_type": "code",
   "execution_count": 29,
   "metadata": {},
   "outputs": [
    {
     "data": {
      "text/html": [
       "0.248599006677543"
      ],
      "text/latex": [
       "0.248599006677543"
      ],
      "text/markdown": [
       "0.248599006677543"
      ],
      "text/plain": [
       "[1] 0.248599"
      ]
     },
     "metadata": {},
     "output_type": "display_data"
    }
   ],
   "source": [
    "sigmoida = function(x) return(1/(1 + exp(-0.03*x)))\n",
    "f = function(x) return(sigmoida(x)*(1 - sigmoida(x)))\n",
    "f(5)"
   ]
  },
  {
   "cell_type": "code",
   "execution_count": 30,
   "metadata": {},
   "outputs": [
    {
     "data": {
      "image/png": "[encoded data removed]",
      "text/plain": [
       "plot without title"
      ]
     },
     "metadata": {},
     "output_type": "display_data"
    }
   ],
   "source": [
    "x = seq(0,540,0.01)\n",
    "y = 150*f(x - 90)         # для жилых станций множитель 150 (высокий пик)\n",
    "qplot(x, y, geom ='line') # пик на Жулебино в 7:30 (через 90 минут после открытия )"
   ]
  },
  {
   "cell_type": "code",
   "execution_count": 31,
   "metadata": {},
   "outputs": [
    {
     "data": {
      "image/png": "[encoded data removed]",
      "text/plain": [
       "plot without title"
      ]
     },
     "metadata": {},
     "output_type": "display_data"
    }
   ],
   "source": [
    "x = seq(0,540,0.01)\n",
    "y = 50*f(x - 210)         # для промышленных станций множитель 50 (низкий пик)\n",
    "qplot(x, y, geom ='line') # пик на Рязанском проспекте в 9:30 (через 210 минут после открытия)"
   ]
  },
  {
   "cell_type": "markdown",
   "metadata": {},
   "source": [
    "Люди пытаются уехать на работу, но удаётся это далеко не всем:\n",
    "\n",
    "* Каждый человек, который оказался на платформе, пытается зайти в поезд. Случайная величина $X$ принимает значение $1$, если ему это удаётся. Вероятность оказаться в поезде зависит от того насколько он заполнен: \n",
    "\n",
    "$$\n",
    "P(X = 1) = 1 - (full)^k,\n",
    "$$\n",
    "\n",
    "где $full$ - доля, на которую загружен поезд, а $k$ - параметр, отвечающий за решимость людей садиться в него. Так, для Жулебино он равен $0.2$, потому что на очень то хочется заходить в поезд, где не осталось пустых сидений. Лучше подождать новый и присесть. Для Кузьминок он равен $2.6$, потому что поезда приезжают переполненными и люди настроены более решительно. \n",
    "\n",
    "* Будем считать, что люди заходят в поезд по очереди. Сначала первый, потом второй, потом третий и тд. После каждого нового зашедшего человека $full$ меняется и вероятность считается уже с новым значением параметра.\n",
    "\n",
    "\n",
    "![](https://raw.githubusercontent.com/FUlyankin/r_probability/master/end_seminars_2020/HW/fullnes.png)"
   ]
  },
  {
   "cell_type": "markdown",
   "metadata": {},
   "source": [
    "Вам предстоит просимулировать каждую минуту этого прекрасного утра на своём компьютере и ответить на вопросы: \n",
    "\n",
    "__а)__  На какой станции скапливается максимальное число людей? Во сколько это происходит? Постройте картинки с зависимостью числа людей на платформе от времени для каждой станции. Есть ли на этих картинках что-то странное? Как бы вы это объяснили? \n",
    "\n",
    "__б)__  Администрация метро хочет противодействовать проблемам со скапливанием людей. Для этого она придумывает стратегию \"пустой поезд\". Каждый пятый поезд, приезжающий в Кузьминки будет пустым. Он будет проезжать мимо всех станций и забирать людей из Кузьминок. Выберите оптимальное время запуска пустого поезда, руководствуясь результатами из пункта а). Насколько сильно такая стратегия ухудшит состояние всех оставшихся станций? Правда ли, что Кузьминки вздохнут спокойно и разгрузятся? \n",
    "\n",
    "__в)__  Администрация метро решила, что будет считать проблемы, возникающие при загрузке как сумму всех людей на станциях. На какую станцию оптимальнее всего посылать каждый пятый поезд пустым, чтобы минимизировать эту величину? \n",
    "\n",
    "Лучшее решение этой задачи будет направлено в мэрию. И Москва похорошеет ещё пуще прежнего. "
   ]
  },
  {
   "cell_type": "code",
   "execution_count": 32,
   "metadata": {},
   "outputs": [],
   "source": [
    "# Ваш код"
   ]
  },
  {
   "cell_type": "markdown",
   "metadata": {},
   "source": [
    "__ВАЖНО:__ Задача в плане своего условия сформулированна очень громоздко и непонятно. Бонусные баллы можно получить, если придумать как упростить формулировку не потеряв в смысле. Также бонусные баллы можно получить за интересные идеи для симуляций. "
   ]
  },
  {
   "cell_type": "markdown",
   "metadata": {},
   "source": [
    " "
   ]
  }
 ],
 "metadata": {
  "kernelspec": {
   "display_name": "R",
   "language": "R",
   "name": "ir"
  },
  "language_info": {
   "codemirror_mode": "r",
   "file_extension": ".r",
   "mimetype": "text/x-r-source",
   "name": "R",
   "pygments_lexer": "r",
   "version": "3.5.3"
  }
 },
 "nbformat": 4,
 "nbformat_minor": 2
}
