{
 "cells": [
  {
   "cell_type": "markdown",
   "metadata": {},
   "source": [
    "<img src=\"https://raw.githubusercontent.com/FUlyankin/r_probability/master/end_seminars/sem_5/pEbNtDxzx0Q.jpg\" height=\"500\" width=\"500\"> \n",
    "\n",
    "# <center> R для тервера и матстата <br>  <br> Доверительные интервалы: УХ! Порешаем!  </center>\n",
    "\n",
    "---------------\n",
    "\n",
    "Данный ноутбук является конспектом по курсу «R для теории вероятностей и математической статистики» (РАНХиГС, 2020). Автор ноутбука - [вот этот парень по имени Филипп.](https://vk.com/ppilif) Если у вас для него есть деньги, слава или женщины, он от этого всего не откажется. Ноутбук распространяется на условиях лицензии [Creative Commons Attribution-Share Alike 4.0.](https://creativecommons.org/licenses/by-sa/4.0/) При использовании обязательно упоминание автора курса и аффилиации. При наличии технической возможности необходимо также указать активную гиперссылку на [страницу курса.](https://github.com/FUlyankin/r_probability) На ней можно найти другие материалы. Фрагменты кода, включенные в этот notebook, публикуются как [общественное достояние.](https://creativecommons.org/publicdomain/zero/1.0/)\n",
    "\n",
    "-----------"
   ]
  },
  {
   "cell_type": "code",
   "execution_count": 5,
   "metadata": {},
   "outputs": [],
   "source": [
    "library(\"ggplot2\")  # Пакет для красивых графиков \n",
    "library(\"grid\")     # Пакет для субплотов\n",
    "\n",
    "# Отрегулируем размер картинок, которые будут выдаваться в нашей тетрадке\n",
    "library('repr')\n",
    "options(repr.plot.width=4, repr.plot.height=3)"
   ]
  },
  {
   "cell_type": "code",
   "execution_count": 6,
   "metadata": {},
   "outputs": [],
   "source": [
    "library('rio')  # https://www.rdocumentation.org/packages/rio/versions/0.5.16"
   ]
  },
  {
   "cell_type": "markdown",
   "metadata": {},
   "source": [
    "## Упражнение 1 (разброс и смещение) \n",
    "\n",
    "Случайные величины $X_1, X_2, \\ldots, X_n$ независимы и одинаково распределены с неизвестными $\\mathbb{E}(X_i)=\\mu$ и $Var(X_i)=\\sigma^2$. Исследовательница Борислава хочет использовать оценку вида $\\hat\\mu = c (X_1 + X_2 + \\ldots + X_n)$ для неизвестного параметра $\\mu$.\n",
    "\n",
    "$$\n",
    "\\hat X_{n+1} = \\hat \\mu\n",
    "$$\n",
    "\n",
    "\n",
    "\n",
    "__[а]__ При каком $c$ оценка Бориславы будет несмещённой? Возможно ли использовать такое $c$ в практической задаче?"
   ]
  },
  {
   "cell_type": "markdown",
   "metadata": {},
   "source": [
    "$$\n",
    "\\mathbb{E}(\\hat \\mu) = \\mathbb{E}(c (X_1 + X_2 + \\ldots + X_n)) = c \\cdot (\\mathbb{E}(X_1)  + \\mathbb{E}(X_2) + \\ldots + \\mathbb{E}(X_n)) = c \\cdot n \\cdot \\mu \n",
    "$$\n",
    "\n",
    "$$\n",
    "Var(\\hat \\mu) = Var(c (X_1 + X_2 + \\ldots + X_n)) = c^2 \\cdot (Var(X_1)  + Var(X_2) + \\ldots + Var(X_n)) = c^2 \\cdot n \\cdot \\sigma^2\n",
    "$$"
   ]
  },
  {
   "cell_type": "markdown",
   "metadata": {},
   "source": [
    "$$\n",
    "c \\cdot n \\cdot \\mu = \\mu  \\Rightarrow c = \\frac{1}{n}\n",
    "$$"
   ]
  },
  {
   "cell_type": "markdown",
   "metadata": {},
   "source": [
    "__[б]__ При каком $c$ будет минимальной величина $MSE = \\mathbb{E}((\\hat \\mu -\\mu)^2)$? Возможно ли использовать такое $c$ в практической задаче?"
   ]
  },
  {
   "cell_type": "markdown",
   "metadata": {},
   "source": [
    "$$\n",
    "MSE(\\hat \\mu) = Var(\\hat \\mu) + (\\mathbb{E}(\\hat \\mu) - \\mu)^2 = c^2 \\cdot n \\cdot \\sigma^2 + (c \\cdot n \\cdot \\mu - \\mu)^2 \\to \\min_{c}\n",
    "$$"
   ]
  },
  {
   "cell_type": "markdown",
   "metadata": {},
   "source": [
    "\\begin{equation*}\n",
    "\\begin{aligned}\n",
    "& 2 \\cdot c \\cdot n \\cdot \\sigma^2 + 2 \\cdot (c \\cdot n \\cdot \\mu - \\mu) \\cdot n \\cdot \\mu = 0 \\\\\n",
    "& c \\cdot (\\sigma^2 + n \\mu^2) - \\mu^2 = 0\\\\ \n",
    "& c = \\frac{\\mu^2}{\\sigma^2 + n \\mu^2} = \\frac{1}{n + \\frac{\\sigma^2}{\\mu^2}}\n",
    "\\end{aligned} \n",
    "\\end{equation*}"
   ]
  },
  {
   "cell_type": "markdown",
   "metadata": {},
   "source": [
    "__[в]__ Святозар минимизирует по $\\mu$ штрафную функцию\n",
    "  \n",
    "  $$\n",
    "  Q(\\hat\\mu) = \\sum (X_i - \\mu)^2 + \\lambda \\mu^2.\n",
    "  $$\n",
    "  \n",
    "При каком $\\lambda$ оценка Святозара совпадёт с несмещённой оценкой Бориславы? С оценкой минимизирующей MSE?"
   ]
  },
  {
   "cell_type": "markdown",
   "metadata": {},
   "source": [
    "\\begin{equation*}\n",
    "\\begin{aligned}\n",
    "& \\sum (X_i - \\mu)^2 + \\lambda \\mu^2 \\to \\min_{\\mu} \\\\\n",
    "& -2 \\cdot \\sum (X_i - \\hat \\mu) + 2 \\cdot \\lambda \\cdot \\hat \\mu = 0 \\\\\n",
    "& \\sum X_i  = (\\lambda + n) \\cdot \\hat \\mu \\\\\n",
    "& \\hat \\mu = \\frac{1}{n + \\lambda} \\cdot \\sum X_i\n",
    "\\end{aligned} \n",
    "\\end{equation*}"
   ]
  },
  {
   "cell_type": "markdown",
   "metadata": {},
   "source": [
    "## Упражнение 2 (аварии на шахтах) \n",
    "\n",
    "На угольных шахтах ежегодно происходят аварии. Англия довольно давно [собирает информацию](https://github.com/FUlyankin/matstat_online/blob/master/data/coals.csv)) о числе крупных аварий. Именно её нам предстоит проанализировать:\n",
    "\n",
    "* хочется понять как часто в среднем происходят аварии \n",
    "* насколько большой у среднего числа аварий доверительный интервал"
   ]
  },
  {
   "cell_type": "code",
   "execution_count": 6,
   "metadata": {},
   "outputs": [
    {
     "data": {
      "text/html": [
       "<table>\n",
       "<thead><tr><th scope=col>V1</th><th scope=col>year</th><th scope=col>count</th></tr></thead>\n",
       "<tbody>\n",
       "\t<tr><td>1   </td><td>1851</td><td>4   </td></tr>\n",
       "\t<tr><td>2   </td><td>1852</td><td>5   </td></tr>\n",
       "\t<tr><td>3   </td><td>1853</td><td>4   </td></tr>\n",
       "\t<tr><td>4   </td><td>1854</td><td>1   </td></tr>\n",
       "\t<tr><td>5   </td><td>1855</td><td>0   </td></tr>\n",
       "\t<tr><td>6   </td><td>1856</td><td>4   </td></tr>\n",
       "</tbody>\n",
       "</table>\n"
      ],
      "text/latex": [
       "\\begin{tabular}{r|lll}\n",
       " V1 & year & count\\\\\n",
       "\\hline\n",
       "\t 1    & 1851 & 4   \\\\\n",
       "\t 2    & 1852 & 5   \\\\\n",
       "\t 3    & 1853 & 4   \\\\\n",
       "\t 4    & 1854 & 1   \\\\\n",
       "\t 5    & 1855 & 0   \\\\\n",
       "\t 6    & 1856 & 4   \\\\\n",
       "\\end{tabular}\n"
      ],
      "text/markdown": [
       "\n",
       "| V1 | year | count |\n",
       "|---|---|---|\n",
       "| 1    | 1851 | 4    |\n",
       "| 2    | 1852 | 5    |\n",
       "| 3    | 1853 | 4    |\n",
       "| 4    | 1854 | 1    |\n",
       "| 5    | 1855 | 0    |\n",
       "| 6    | 1856 | 4    |\n",
       "\n"
      ],
      "text/plain": [
       "  V1 year count\n",
       "1 1  1851 4    \n",
       "2 2  1852 5    \n",
       "3 3  1853 4    \n",
       "4 4  1854 1    \n",
       "5 5  1855 0    \n",
       "6 6  1856 4    "
      ]
     },
     "metadata": {},
     "output_type": "display_data"
    }
   ],
   "source": [
    "df = import('coals.txt')\n",
    "head(df)"
   ]
  },
  {
   "cell_type": "markdown",
   "metadata": {},
   "source": [
    "Посмотрим на распределение числа аварий. "
   ]
  },
  {
   "cell_type": "code",
   "execution_count": 8,
   "metadata": {},
   "outputs": [
    {
     "name": "stderr",
     "output_type": "stream",
     "text": [
      "`stat_bin()` using `bins = 30`. Pick better value with `binwidth`.\n"
     ]
    },
    {
     "data": {
      "image/png": "[encoded data removed]",
      "text/plain": [
       "plot without title"
      ]
     },
     "metadata": {},
     "output_type": "display_data"
    }
   ],
   "source": [
    "x = df$count\n",
    "qplot(x)"
   ]
  },
  {
   "cell_type": "markdown",
   "metadata": {},
   "source": [
    "Судя по гистограмме уместно предположить, что число аварий имеет распределение Пуассона, $Poiss(\\lambda)$.  То есть, если мы хотим что-то понять про среднее число аварий, нам надо оценить параметр $\\lambda$. \n",
    "\n",
    "$$\n",
    "\\mathbb{P}(X = k) = \\frac{e^{-\\lambda} \\cdot \\lambda^k}{k!}\n",
    "$$\n",
    "\n",
    "\n",
    "$$\n",
    "\\mathbb{E}(X) = \\lambda \\quad Var(X) = \\lambda \n",
    "$$\n",
    "\n",
    "\n",
    "__Задание 1:__ найдите оценку параметра $\\lambda$ с помощью метода моментов.\n",
    "\n",
    "$$\n",
    "\\mathbb{E}(X) \\approx \\bar x_n \\quad \\hat{\\lambda}^{MM} = \\bar x\n",
    "$$"
   ]
  },
  {
   "cell_type": "code",
   "execution_count": 18,
   "metadata": {},
   "outputs": [
    {
     "data": {
      "text/html": [
       "1.70535714285714"
      ],
      "text/latex": [
       "1.70535714285714"
      ],
      "text/markdown": [
       "1.70535714285714"
      ],
      "text/plain": [
       "[1] 1.705357"
      ]
     },
     "metadata": {},
     "output_type": "display_data"
    }
   ],
   "source": [
    "n = length(x)\n",
    "lam_hat = mean(x)\n",
    "lam_hat"
   ]
  },
  {
   "cell_type": "markdown",
   "metadata": {},
   "source": [
    "__Задание 2:__ постройте для неизвестного математического ожидания $\\lambda$ доверительный интервал. Возьмите уровень значимости равный $10\\%$. В качестве ответа вбейте ширину доверительного интервала. "
   ]
  },
  {
   "cell_type": "markdown",
   "metadata": {},
   "source": [
    "\\begin{equation*}\n",
    "\\begin{aligned}\n",
    "& X_1, \\ldots, X_n \\sim iid F \\\\ \n",
    "& \\mathbb{E}(X_i) = \\mu \\quad Var(X_i) = \\sigma^2 \\\\ \n",
    "& \\hat \\mu = \\bar x \\sim N(*, *) \\\\\n",
    "\\end{aligned} \n",
    "\\end{equation*}\n",
    "\n",
    "\\begin{equation*}\n",
    "\\begin{aligned}\n",
    "& \\mathbb{E}(\\hat \\mu) = \\mathbb{E}(\\bar x) = \\mathbb{E} \\left(\\frac{X_1 + \\ldots + X_n}{n} \\right) = \\frac{1}{n} (\\mathbb{E}(X_1) + \\ldots + \\mathbb{E}(X_n)) = \\frac{1}{n} \\cdot n \\cdot \\mathbb{E}(X_1)  = \\mathbb{E}(X_1) = \\mu \\\\ \n",
    "& Var(\\hat \\mu) = Var(\\bar x) = Var \\left(\\frac{X_1 + \\ldots + X_n}{n} \\right) = \\frac{1}{n^2} (Var(X_1) + \\ldots + Var(X_n)) = \\frac{1}{n^2} \\cdot n \\cdot Var(X_1) = \\frac{Var(X_1)}{n} = \\frac{\\sigma^2}{n}\n",
    "\\end{aligned} \n",
    "\\end{equation*}\n",
    "\n",
    "$$\n",
    "\\hat \\mu = \\bar x \\sim N \\left(\\mu, \\frac{\\sigma^2}{n} \\right) \n",
    "$$\n",
    "\n",
    "$$\n",
    "P \\left( z_1 \\le  \\mu \\le z_2 \\right) = 0.95 = 1 - \\alpha \n",
    "$$"
   ]
  },
  {
   "cell_type": "markdown",
   "metadata": {},
   "source": [
    "__Центрирование:__\n",
    "\n",
    "$$\n",
    "\\bar x  - \\mu \\sim N \\left(0, \\frac{\\sigma^2}{n} \\right) \n",
    "$$\n",
    "\n",
    "__Нормирование:__ \n",
    "\n",
    "$$\n",
    "z = \\frac{\\bar x  - \\mu}{\\frac{\\sigma}{\\sqrt{n}}} \\sim N \\left(0, 1 \\right) \n",
    "$$\n",
    "\n",
    "Зафиксируем уровень значимости $\\alpha = 0.05$: \n",
    "\n",
    "$$\n",
    "P \\left( -1.96 \\le \\frac{\\bar x  - \\mu}{\\frac{\\sigma}{\\sqrt{n}}} \\le 1.96 \\right) = 0.95 = 1 - \\alpha \n",
    "$$\n",
    "\n",
    "\n",
    "$$\n",
    "\\bar x - z_{1 - \\frac{\\alpha}{2}} \\cdot \\frac{ \\sigma}{\\sqrt{n}} \\le \\mu \\le \\bar x +  z_{1 - \\frac{\\alpha}{2}} \\cdot \\frac{ \\sigma}{\\sqrt{n}} \n",
    "$$\n",
    "\n",
    "$$\n",
    "\\bar x - z_{1 - \\frac{\\alpha}{2}} \\cdot \\frac{\\hat \\sigma}{\\sqrt{n}} \\le \\mu \\le \\bar x +  z_{1 - \\frac{\\alpha}{2}} \\cdot \\frac{\\hat \\sigma}{\\sqrt{n}} \n",
    "$$"
   ]
  },
  {
   "cell_type": "markdown",
   "metadata": {},
   "source": [
    "--------"
   ]
  },
  {
   "cell_type": "markdown",
   "metadata": {},
   "source": [
    "$$\n",
    "\\bar x \\pm  z_{1 - \\frac{\\alpha}{2}} \\cdot \\frac{\\hat \\sigma}{\\sqrt{n}} \n",
    "$$"
   ]
  },
  {
   "cell_type": "code",
   "execution_count": 19,
   "metadata": {},
   "outputs": [
    {
     "data": {
      "text/html": [
       "1.64748453003519"
      ],
      "text/latex": [
       "1.64748453003519"
      ],
      "text/markdown": [
       "1.64748453003519"
      ],
      "text/plain": [
       "[1] 1.647485"
      ]
     },
     "metadata": {},
     "output_type": "display_data"
    }
   ],
   "source": [
    "sd_hat = sd(x) # первый вариант оценить стандартное отклонение\n",
    "\n",
    "# Разные результаты, так как выборка судя по всему не очень то из распределния Пуассона\n",
    "# mean(x)\n",
    "# var(x)\n",
    "\n",
    "sd_hat = sqrt(lam_hat) # sd, если мы предпложили пуассоновсть выбрки\n",
    "sd_hat = sd(x)         # sd просто посчитаем по выбоке \n",
    "sd_hat"
   ]
  },
  {
   "cell_type": "code",
   "execution_count": 21,
   "metadata": {},
   "outputs": [
    {
     "name": "stdout",
     "output_type": "stream",
     "text": [
      "Доверительный интервал: 1.400244 2.01047"
     ]
    }
   ],
   "source": [
    "alpha = 0.05\n",
    "z = qnorm(1 - alpha/2)\n",
    "\n",
    "left = lam_hat - z * sd_hat/sqrt(n)\n",
    "right = lam_hat + z * sd_hat/sqrt(n)\n",
    "cat(\"Доверительный интервал:\", left, right)"
   ]
  },
  {
   "cell_type": "code",
   "execution_count": 22,
   "metadata": {},
   "outputs": [
    {
     "data": {
      "text/html": [
       "0.610225596497312"
      ],
      "text/latex": [
       "0.610225596497312"
      ],
      "text/markdown": [
       "0.610225596497312"
      ],
      "text/plain": [
       "[1] 0.6102256"
      ]
     },
     "metadata": {},
     "output_type": "display_data"
    }
   ],
   "source": [
    "right - left"
   ]
  },
  {
   "cell_type": "markdown",
   "metadata": {},
   "source": [
    "### Отступление: почему можно заменить дисперсию на её оценку\n",
    "\n",
    "$$\n",
    "z = \\frac{\\bar x  - \\mu}{\\frac{\\sigma}{\\sqrt{n}}} \\Rightarrow N \\left(0, 1 \\right) \n",
    "$$"
   ]
  },
  {
   "cell_type": "markdown",
   "metadata": {},
   "source": [
    "Домножим дробь на $1$: \n",
    "\n",
    "$$\n",
    "1 = \\frac{\\frac{\\hat \\sigma}{\\sqrt{n}}}{\\frac{\\hat \\sigma}{\\sqrt{n}}}\n",
    "$$"
   ]
  },
  {
   "cell_type": "markdown",
   "metadata": {},
   "source": [
    "Получается, что \n",
    "\n",
    "$$\n",
    "\\frac{\\frac{\\hat \\sigma}{\\sqrt{n}}}{\\frac{\\hat \\sigma}{\\sqrt{n}}} \\cdot \\frac{\\bar x  - \\mu}{\\frac{\\sigma}{\\sqrt{n}}} \\Rightarrow N \\left(0, 1 \\right) \n",
    "$$"
   ]
  },
  {
   "cell_type": "markdown",
   "metadata": {},
   "source": [
    "Переставим местами знаменатели! \n",
    "\n",
    "$$\n",
    "\\frac{\\frac{\\hat \\sigma}{\\sqrt{n}}}{\\frac{\\sigma}{\\sqrt{n}}} \\cdot \\frac{\\bar x  - \\mu}{\\frac{\\hat \\sigma}{\\sqrt{n}}} \\Rightarrow N \\left(0, 1 \\right) \n",
    "$$"
   ]
  },
  {
   "cell_type": "markdown",
   "metadata": {},
   "source": [
    "Мы знаем, что $\\hat \\sigma \\overset{p}{\\to} \\sigma$, значит \n",
    "\n",
    "\n",
    "$$\n",
    "\\frac{\\frac{\\hat \\sigma}{\\sqrt{n}}}{\\frac{\\sigma}{\\sqrt{n}}} \\overset{p}{\\to} 1  \\Rightarrow \\frac{\\frac{\\hat \\sigma}{\\sqrt{n}}}{\\frac{\\sigma}{\\sqrt{n}}} \\overset{d}{\\to} 1 \n",
    "$$\n",
    "\n",
    "Получается, что:\n",
    "\n",
    "$$\n",
    "\\frac{\\frac{\\hat \\sigma}{\\sqrt{n}}}{\\frac{\\sigma}{\\sqrt{n}}} \\cdot \\frac{\\bar x  - \\mu}{\\frac{\\hat \\sigma}{\\sqrt{n}}} = 1 \\cdot \\frac{\\bar x  - \\mu}{\\frac{\\hat \\sigma}{\\sqrt{n}}} \\Rightarrow N \\left(0, 1 \\right) \n",
    "$$"
   ]
  },
  {
   "cell_type": "markdown",
   "metadata": {},
   "source": [
    "Выходит, что при замене $\\sigma$ на $\\hat \\sigma$ предельное распределение не ломается. \n",
    "\n",
    "---------------"
   ]
  },
  {
   "cell_type": "markdown",
   "metadata": {},
   "source": [
    "__Задание 3:__  Многие говорят, что в $20$ веке катастроф стало на порядок меньше. Давайте проверим это. Постройте оценку для $\\lambda_1$ по данным до $1900$ года включительно. Постройте оценку для $\\lambda_2$ по данным после $1900$ года. Для разности $\\lambda_1 - \\lambda_2$ постройте $95\\%$ доверительный интервал. "
   ]
  },
  {
   "cell_type": "markdown",
   "metadata": {},
   "source": [
    "\\begin{equation*}\n",
    "\\begin{aligned}\n",
    "\\hat \\lambda_1 = \\bar x  \\sim N \\left(\\lambda_1, \\frac{\\hat \\lambda_1}{n_1} \\right)\\\\\n",
    "\\hat \\lambda_2 = \\bar y  \\sim N \\left(\\lambda_2, \\frac{\\hat \\lambda_2}{n_2} \\right).\n",
    "\\end{aligned} \n",
    "\\end{equation*}"
   ]
  },
  {
   "cell_type": "markdown",
   "metadata": {},
   "source": [
    "Найдём дисперсию и математическое ожидание разности\n",
    "\n",
    "$$\n",
    "\\begin{aligned}\n",
    "& \\mathbb{E}(\\hat \\lambda_1 - \\hat \\lambda_2) = \\mathbb{E}(\\hat \\lambda_1) - \\mathbb{E}(\\hat \\lambda_2) = \\lambda_1 - \\lambda_2 \\\\\n",
    "& Var(\\hat \\lambda_1 - \\hat \\lambda_2) = Var(\\hat \\lambda_1) + Var(\\hat \\lambda_2) = \\frac{\\hat \\lambda_1}{n_1} + \\frac{\\hat \\lambda_2}{n_2} \n",
    "\\end{aligned}\n",
    "$$\n",
    "\n",
    "Получается, что \n",
    "\n",
    "$$\n",
    "\\hat \\lambda_1 - \\hat \\lambda_2 \\sim N \\left( \\lambda_1 - \\lambda_2, \\frac{\\hat \\lambda_1}{n_1} + \\frac{\\hat \\lambda_2}{n_2} \\right).\n",
    "$$\n",
    "\n",
    "Отсюда можно легко найти доверительный интервал для разности интенсивностей: \n",
    "\n",
    "$$\n",
    "\\hat{\\lambda}_1 - \\hat{\\lambda}_2 \\pm z_{1-\\frac{\\alpha}{2}} \\cdot \\sqrt{\\frac{\\hat{\\lambda}_1}{n_1} + \\frac{\\hat{\\lambda}_2}{n_2}}\n",
    "$$"
   ]
  },
  {
   "cell_type": "code",
   "execution_count": 33,
   "metadata": {},
   "outputs": [
    {
     "name": "stdout",
     "output_type": "stream",
     "text": [
      "Доверительный интервал: 1.253592 2.339956"
     ]
    }
   ],
   "source": [
    "x = df[df$year <= 1900,]$count  # выборка для 19 века\n",
    "y = df[df$year > 1900,]$count   # выборка для 20 века\n",
    "\n",
    "lam1_hat = mean(x) \n",
    "n1 = length(x)\n",
    "\n",
    "lam2_hat = mean(y) \n",
    "n2 = length(y)\n",
    "\n",
    "diff = lam1_hat - lam2_hat\n",
    "diff_sd = sqrt(var(x)/n1 + var(y)/n2)\n",
    "\n",
    "alpha = 0.05\n",
    "z = qnorm(1 - alpha/2)\n",
    "\n",
    "left = diff - z * diff_sd\n",
    "right = diff + z * diff_sd\n",
    "cat(\"Доверительный интервал:\", left, right)"
   ]
  },
  {
   "cell_type": "code",
   "execution_count": 34,
   "metadata": {},
   "outputs": [
    {
     "data": {
      "text/html": [
       "1.08636451239493"
      ],
      "text/latex": [
       "1.08636451239493"
      ],
      "text/markdown": [
       "1.08636451239493"
      ],
      "text/plain": [
       "[1] 1.086365"
      ]
     },
     "metadata": {},
     "output_type": "display_data"
    }
   ],
   "source": [
    "right - left"
   ]
  },
  {
   "cell_type": "markdown",
   "metadata": {},
   "source": [
    "Ноль не вошёл в этот доверительный интервал. Это означает, что на уровне значимости $5\\%$ мы можем сказать, что число аварий правда снизилось. "
   ]
  },
  {
   "cell_type": "markdown",
   "metadata": {},
   "source": [
    "### Отступление: дельта-метод\n",
    "\n",
    "Если $X_1, \\ldots, X_n$ независимо и одинаково распределена. При этом $\\mathbb{E}(X) =\\mu$, $Var(X) = \\sigma^2$. И у нас есть функция $g(t)$. У этой функции существует производная. Тогда: \n",
    "\n",
    "$$\n",
    "g(\\bar x) \\sim N \\left( g(\\mu), \\frac{\\sigma^2}{n} \\cdot (g'(\\mu))^2 \\right)\n",
    "$$"
   ]
  },
  {
   "cell_type": "markdown",
   "metadata": {},
   "source": [
    "#### Пример: \n",
    "\n",
    "Выборка $X_1, \\ldots, X_{100} \\sim iid \\hspace{1mm} U[2; 8]$. Как будут распределены $\\bar x_{100}$ и $\\frac{1}{\\bar x_{100}}$? "
   ]
  },
  {
   "cell_type": "markdown",
   "metadata": {},
   "source": [
    "\\begin{equation*}\n",
    "\\begin{aligned}\n",
    "&\\mathbb{E}(X) = \\frac{a + b}{2} = \\frac{8 + 2}{2} = 5\\\\\n",
    "& Var(X) = \\frac{(b - a)^2}{12} = \\frac{(8 - 2)^2}{12} = 3\n",
    "\\end{aligned} \n",
    "\\end{equation*}"
   ]
  },
  {
   "cell_type": "markdown",
   "metadata": {},
   "source": [
    "__а)__ Как распределено $\\bar x_{100}$? "
   ]
  },
  {
   "cell_type": "markdown",
   "metadata": {},
   "source": [
    "$$\n",
    "\\bar x_{100} \\sim N (5, 0.03) \n",
    "$$"
   ]
  },
  {
   "cell_type": "markdown",
   "metadata": {},
   "source": [
    "__б)__ Как распределена $\\frac{1}{\\bar x_{100}}$? "
   ]
  },
  {
   "cell_type": "markdown",
   "metadata": {},
   "source": [
    "\\begin{equation*}\n",
    "\\begin{aligned}\n",
    "& g(t) = \\frac{1}{t} \\\\ \n",
    "& g'(t) = - \\frac{1}{t^2} \\\\\n",
    "\\end{aligned} \n",
    "\\end{equation*}"
   ]
  },
  {
   "cell_type": "markdown",
   "metadata": {},
   "source": [
    "$$\n",
    "\\frac{1}{\\bar x_{100}} \\sim N \\left(\\frac{1}{5}, \\frac{3}{100} \\cdot \\left( - \\frac{1}{25} \\right)^2 \\right) \n",
    "$$"
   ]
  },
  {
   "cell_type": "markdown",
   "metadata": {},
   "source": [
    "__Доказательство:__\n",
    "\n",
    "\\begin{equation*}\n",
    "\\begin{aligned}\n",
    "& g(t) = g(t_0) + g'(t_0) \\cdot (t - t_0) + o(t) \\\\\n",
    "& g(\\bar x) \\approx g(\\mu) + g'(\\mu) \\cdot (\\bar x - \\mu)\n",
    "\\end{aligned} \n",
    "\\end{equation*}\n",
    "\n",
    "Найдём математическое ожидание:"
   ]
  },
  {
   "cell_type": "markdown",
   "metadata": {},
   "source": [
    "$$\n",
    "\\mathbb{E}(g(\\bar x)) \\approx \\mathbb{E}(g(\\mu) + g'(\\mu) \\cdot (\\bar x - \\mu)) = g(\\mu) + g'(\\mu) \\cdot (\\mu - \\mu) = g(\\mu)\n",
    "$$\n",
    "\n",
    "Теперь дисперсию:\n",
    "\n",
    "$$\n",
    "Var(g(\\bar x)) \\approx Var(g(\\mu) + g'(\\mu) \\cdot (\\bar x - \\mu)) = (g'(\\mu))^2 \\cdot Var (\\bar x - \\mu) = (g'(\\mu))^2 \\cdot Var (\\bar x) = (g'(\\mu))^2 \\cdot \\frac{\\sigma^2}{n}\n",
    "$$"
   ]
  },
  {
   "cell_type": "markdown",
   "metadata": {},
   "source": [
    "------"
   ]
  },
  {
   "cell_type": "markdown",
   "metadata": {},
   "source": [
    "__Задание 4:__ Вспомните формулу, по которой считается вероятность того, что Пуассоновская случайная величина примет какое-то значение. Найдите точечную оценку вероятности того, что не произойдёт ни одной аварии. В качестве $\\lambda$ используйте оценку метода моментов, полученную в первом задании. "
   ]
  },
  {
   "cell_type": "markdown",
   "metadata": {},
   "source": [
    "$$\n",
    "\\mathbb{P}(X = 0) = e^{-\\lambda} \\quad g(\\bar x) = e^{-\\bar x} \n",
    "$$\n",
    "\n"
   ]
  },
  {
   "cell_type": "code",
   "execution_count": 38,
   "metadata": {},
   "outputs": [
    {
     "data": {
      "text/html": [
       "0.181707479057266"
      ],
      "text/latex": [
       "0.181707479057266"
      ],
      "text/markdown": [
       "0.181707479057266"
      ],
      "text/plain": [
       "[1] 0.1817075"
      ]
     },
     "metadata": {},
     "output_type": "display_data"
    }
   ],
   "source": [
    "p_hat = exp(-1*lam_hat)\n",
    "p_hat"
   ]
  },
  {
   "cell_type": "markdown",
   "metadata": {},
   "source": [
    "__Задание 5:__ Та вероятность, которую мы нашли в предыдущем пункте - это лишь точечная оценка. Она является функцией от среднего. С помощью дельта-метода постройте для этой вероятности $95\\%$ довертельный интервал. В ответ введите его ширину. "
   ]
  },
  {
   "cell_type": "markdown",
   "metadata": {},
   "source": [
    "$$\n",
    "g(\\bar x) \\sim N \\left( g(\\mu), \\frac{\\sigma^2}{n} \\cdot (g'(\\mu))^2 \\right)\n",
    "$$"
   ]
  },
  {
   "cell_type": "markdown",
   "metadata": {},
   "source": [
    "\\begin{equation*}\n",
    "\\begin{aligned}\n",
    "& g(t) = e^{-t}  &  g'(t) = - e^{-t} \\\\ \n",
    "& g(\\lambda) = e^{-\\lambda} & g'(\\lambda) = - e^{-\\lambda}  \\\\\n",
    "& & (g'(\\lambda))^2 = e^{-2 \\cdot \\lambda}\n",
    "\\end{aligned} \n",
    "\\end{equation*}"
   ]
  },
  {
   "cell_type": "markdown",
   "metadata": {},
   "source": [
    "$$\n",
    "g(\\bar x) \\sim N \\left( e^{-\\lambda}, \\frac{\\lambda}{n} \\cdot e^{-2 \\cdot \\lambda} \\right)\n",
    "$$\n",
    "\n",
    "$$\n",
    "g(\\bar x) \\sim N \\left( e^{-\\lambda}, \\frac{\\hat \\lambda}{n} \\cdot e^{-2 \\cdot \\hat \\lambda} \\right)\n",
    "$$"
   ]
  },
  {
   "cell_type": "code",
   "execution_count": 40,
   "metadata": {},
   "outputs": [],
   "source": [
    "x = df$count\n",
    "\n",
    "lam_hat = mean(x)\n",
    "n = length(x)\n",
    "\n",
    "p_hat = exp(-1*lam_hat)\n",
    "p_se = sqrt(sd(x)/n * exp(-2*lam_hat))"
   ]
  },
  {
   "cell_type": "code",
   "execution_count": 41,
   "metadata": {},
   "outputs": [
    {
     "name": "stdout",
     "output_type": "stream",
     "text": [
      "Доверительный интервал: 0.1385136 0.2249014"
     ]
    }
   ],
   "source": [
    "alpha = 0.05\n",
    "z = qnorm(1 - alpha/2)\n",
    "\n",
    "left = p_hat - z*p_se\n",
    "right = p_hat + z*p_se\n",
    "\n",
    "cat(\"Доверительный интервал:\", left, right)"
   ]
  },
  {
   "cell_type": "markdown",
   "metadata": {},
   "source": [
    "По аналогии можно построить доверительные интервалы для вероятности того, что случайная величина примет значения от нуля до девяти. Проделайте это в качестве необязательного упражнения. :)"
   ]
  },
  {
   "cell_type": "raw",
   "metadata": {},
   "source": [
    "# решение"
   ]
  },
  {
   "cell_type": "code",
   "execution_count": null,
   "metadata": {},
   "outputs": [],
   "source": [
    "# решение"
   ]
  },
  {
   "cell_type": "markdown",
   "metadata": {},
   "source": [
    "В этой терадке нам осталось обсудить последний нюанс. Мы из теории вероятностей знаем, что для случайной величины $X$, имеющей распределение Пуассона $\\mathbb{E}(X) = Var(X) = \\lambda$. Для текущей выборки мы видим, что между дисперсией и средним есть небольшое отличие. "
   ]
  },
  {
   "cell_type": "code",
   "execution_count": 42,
   "metadata": {},
   "outputs": [
    {
     "data": {
      "text/html": [
       "1.70535714285714"
      ],
      "text/latex": [
       "1.70535714285714"
      ],
      "text/markdown": [
       "1.70535714285714"
      ],
      "text/plain": [
       "[1] 1.705357"
      ]
     },
     "metadata": {},
     "output_type": "display_data"
    },
    {
     "data": {
      "text/html": [
       "2.71420527670528"
      ],
      "text/latex": [
       "2.71420527670528"
      ],
      "text/markdown": [
       "2.71420527670528"
      ],
      "text/plain": [
       "[1] 2.714205"
      ]
     },
     "metadata": {},
     "output_type": "display_data"
    }
   ],
   "source": [
    "mean(x)\n",
    "var(x)"
   ]
  },
  {
   "cell_type": "markdown",
   "metadata": {},
   "source": [
    "Не факт, что мы имеем право предполагать, что наша выборка пришла к нам из распределения Пуассона. Все предпосылки о распределениях выборки нужно тестировать. Позже мы научимся это делать.\n",
    "\n",
    "----------"
   ]
  },
  {
   "cell_type": "markdown",
   "metadata": {},
   "source": [
    "## Упражнение 3 (ну нормально же сэмплировали) \n",
    "\n",
    "Выше мы увидели двух союзников.\n",
    "\n",
    "* ЦПТ позволяет строить доверительные интервалы для средних \n",
    "* Дельта-метод обобщает ЦПТ на случай функции от средних (ну либо других нормальных случайных величин) \n",
    "\n",
    "Если выборка пришла к нам из нормального распределения, тогда у нас есть куча других союзников: \n",
    "\n",
    "* Распределение хи-квадрат\n",
    "\n",
    "$$\n",
    "\\chi^2_n = [N(0,1)]^2 + \\ldots + [N(0,1)]^2 \n",
    "$$\n",
    "\n",
    "* Распределение стьюдента \n",
    "\n",
    "$$\n",
    "t(n) = \\frac{N(0,1)}{\\sqrt{\\frac{\\chi^2_n}{n}}}\n",
    "$$\n",
    "\n",
    "* Распределение Фишера \n",
    "\n",
    "$$\n",
    "F(n,m) = \\frac{\\frac{\\chi^2_n}{n}}{\\frac{\\chi^2_m}{m}}\n",
    "$$\n",
    "\n",
    "* Теорема Фишера, которая говорит нам, что \n",
    "\n",
    "$$\n",
    "\\frac{(n-1) \\cdot s^2}{\\sigma^2} \\sim \\chi^2_{n-1}\n",
    "$$\n",
    "\n",
    "Давайте попробуем посмотреть на ситуации, когда эти союзники оказывают нам помощь. \n"
   ]
  },
  {
   "cell_type": "markdown",
   "metadata": {},
   "source": [
    "--------"
   ]
  },
  {
   "cell_type": "markdown",
   "metadata": {},
   "source": [
    "$$\n",
    "z = \\frac{\\bar x  - \\mu}{\\frac{\\sigma}{\\sqrt{n}}} \\Rightarrow N \\left(0, 1 \\right) \n",
    "$$"
   ]
  },
  {
   "cell_type": "markdown",
   "metadata": {},
   "source": [
    "__Вопрос:__ А можно ли на выборку наложить какие-то дополнительные предпосылки, чтобы распределение статистики $z$ оказалось точным? \n",
    "\n",
    "__Можно!__ Надо предположить, что выборка $X_1, \\ldots, X_n$ пришла к нам из конкретного распределния. Например, из нормального. \n",
    "\n",
    "\n",
    "__1)__ Выборка пришла к нам из нормального распределиня, $\\sigma^2$ - мы знаем. "
   ]
  },
  {
   "cell_type": "markdown",
   "metadata": {},
   "source": [
    "$$\n",
    "\\bar x  = \\frac{1}{n} \\cdot(X_1 + \\ldots + X_n) \\sim N \\left( \\mu, \\frac{\\sigma^2}{n} \\right)\n",
    "$$\n",
    "\n",
    "$$\n",
    "\\frac{\\bar x  - \\mu}{\\frac{\\sigma}{\\sqrt{n}}} \\sim N \\left(0, 1 \\right) \n",
    "$$"
   ]
  },
  {
   "cell_type": "markdown",
   "metadata": {},
   "source": [
    "__2)__ Выборка пришла к нам из нормального распределения, $\\sigma^2$ - мы не знаем\n",
    "\n",
    "\n",
    "$$\n",
    "\\frac{\\bar x  - \\mu}{\\frac{s}{\\sqrt{n}}} \\sim  ??? \n",
    "$$"
   ]
  },
  {
   "cell_type": "markdown",
   "metadata": {},
   "source": [
    "\\begin{multline*}\n",
    "\\frac{\\bar x  - \\mu}{\\sqrt{\\frac{s^2}{n}}}  = \\frac{\\bar x  - \\mu}{\\sqrt{\\frac{s^2}{n}}} \\cdot \\frac{\\sqrt{\\frac{\\sigma^2}{(n-1)}}}{\\sqrt{\\frac{\\sigma^2}{(n-1)}}} =  \\frac{\\bar x  - \\mu}{\\sqrt{\\frac{\\sigma^2}{n}}} \\cdot \\frac{\\sqrt{\\frac{\\sigma^2}{n-1}}}{\\sqrt{\\frac{s^2}{n-1}}} = N \\left(0, 1 \\right) \\cdot \\frac{\\sqrt{\\frac{\\sigma^2}{n-1}}}{\\sqrt{\\frac{s^2}{n-1}}} = \\\\ = N \\left(0, 1 \\right) \\cdot \\frac{1}{\\sqrt{\\frac{(n-1) \\cdot s^2}{(n-1) \\cdot \\sigma^2}}} = N \\left(0, 1 \\right) \\cdot \\frac{1}{\\sqrt{\\frac{(n-1) \\cdot s^2}{\\sigma^2}/(n-1)}} = N \\left(0, 1 \\right) \\cdot \\frac{1}{\\sqrt{\\frac{\\chi^2_{n-1}}{n-1}}} = t(n-1)\n",
    "\\end{multline*} "
   ]
  },
  {
   "cell_type": "markdown",
   "metadata": {},
   "source": [
    "Получается, что наша статистика распределена по стьюденту:\n",
    "\n",
    "$$\n",
    "\\frac{\\bar x  - \\mu}{\\sqrt{\\frac{s^2}{n}}} \\sim t(n-1)\n",
    "$$\n",
    "\n",
    "Выходит, что точный доверительный интервал для среднего имеет вид: \n",
    "\n",
    "$$\n",
    "\\bar x  \\pm t_{1- \\frac{\\alpha}{2}}(n-1) \\cdot \\sqrt{\\frac{s^2}{n}}\n",
    "$$"
   ]
  },
  {
   "cell_type": "markdown",
   "metadata": {},
   "source": [
    "---------"
   ]
  },
  {
   "cell_type": "markdown",
   "metadata": {},
   "source": [
    "__3)__ Построим доверительный интервал для $\\sigma^2$, зная $\\mu = 42$ "
   ]
  },
  {
   "cell_type": "markdown",
   "metadata": {},
   "source": [
    "$$\n",
    "s^2 = \\frac{1}{n} \\sum_{i=1}^n (X_i - 42)^2  = \\frac{1}{n} \\sum_{i=1}^n  [ N(0, \\sigma^2) ]^2\n",
    "$$"
   ]
  },
  {
   "cell_type": "markdown",
   "metadata": {},
   "source": [
    "$$\n",
    "s^2 = \\frac{\\sigma^2}{\\sigma^2}\\frac{1}{n} \\sum_{i=1}^n (X_i - 42)^2  =  \\frac{\\sigma^2}{n} \\sum_{i=1}^n \\left(\\frac{X_i - 42}{\\sigma}\\right)^2  =  \\frac{\\sigma^2}{n}  \\sum_{i=1}^n  [ N(0, 1) ]^2\n",
    "$$"
   ]
  },
  {
   "cell_type": "markdown",
   "metadata": {},
   "source": [
    "$$\n",
    "\\frac{n \\cdot s^2}{\\sigma^2} = \\sum_{i=1}^n  [ N(0, 1) ]^2 = \\chi^2_n\n",
    "$$"
   ]
  },
  {
   "cell_type": "markdown",
   "metadata": {},
   "source": [
    "$$\n",
    "\\chi_n^2 \\left(\\frac{\\alpha}{2} \\right) \\le \\frac{n \\cdot s^2}{\\sigma^2} \\le \\chi_n^2 \\left(1 - \\frac{\\alpha}{2} \\right)\n",
    "$$"
   ]
  },
  {
   "cell_type": "markdown",
   "metadata": {},
   "source": [
    "$$\n",
    "\\frac{n \\cdot s^2}{\\chi_n^2 \\left(\\frac{\\alpha}{2} \\right)} \\le \\sigma^2 \\le \\frac{n \\cdot s^2}{\\chi_n^2 \\left(1 - \\frac{\\alpha}{2} \\right)}\n",
    "$$"
   ]
  },
  {
   "cell_type": "markdown",
   "metadata": {},
   "source": [
    "__4)__ Построим доверительный интервал для $\\sigma^2$, не зная $\\mu$. "
   ]
  },
  {
   "cell_type": "markdown",
   "metadata": {},
   "source": [
    "Воспользуемся Теоремой Фишера, которая верна только для выборок из нормаьного распределения! \n",
    "\n",
    "$$\n",
    "\\chi_{n-1}^2 \\left(\\frac{\\alpha}{2} \\right) \\le \\frac{(n - 1) \\cdot s^2}{\\sigma^2} \\le \\chi_{n-1}^2 \\left(1 - \\frac{\\alpha}{2} \\right)\n",
    "$$"
   ]
  },
  {
   "cell_type": "markdown",
   "metadata": {},
   "source": [
    "$$\n",
    "\\frac{(n - 1) \\cdot s^2}{\\chi_{n-1}^2 \\left(\\frac{\\alpha}{2} \\right)} \\le \\sigma^2 \\le \\frac{(n - 1) \\cdot s^2}{\\chi_{n-1}^2 \\left(1 - \\frac{\\alpha}{2} \\right)}\n",
    "$$"
   ]
  },
  {
   "cell_type": "markdown",
   "metadata": {},
   "source": [
    "-------"
   ]
  },
  {
   "cell_type": "markdown",
   "metadata": {},
   "source": [
    "## Упражнение 4 (точный доверительный интервал для равномерного) \n",
    "\n",
    "Пусть выборка пришла к нам из равномерного распределения, $X_1, \\ldots, X_n \\sim iid \\hspace{1mm} U[0; \\theta]$. Мы используем в качестве оценки $\\hat \\theta = X_{max}.$  Нужно построить самый короткий точный доверительный интервал для неизвестного параметра. "
   ]
  },
  {
   "cell_type": "markdown",
   "metadata": {},
   "source": [
    "$$\n",
    "\\frac{X_1}{\\theta}, \\ldots, \\frac{X_n}{\\theta} \\sim iid \\hspace{1mm} U[0;1]\n",
    "$$"
   ]
  },
  {
   "cell_type": "markdown",
   "metadata": {},
   "source": [
    "$$\n",
    "\\frac{X_{max}}{\\theta} \\sim ?\n",
    "$$"
   ]
  },
  {
   "cell_type": "markdown",
   "metadata": {},
   "source": [
    "$$\n",
    "F(x) = \\begin{cases} 0, x < 0 \\\\ x^n, x \\in [0;1] \\\\ 1, x > 1  \\end{cases}\n",
    "$$\n",
    "\n",
    "$$\n",
    "f(x) = \\begin{cases} 0,& x \\notin [0;1] \\\\ n \\cdot x^{n-1},& x \\in [0;1] \\end{cases}\n",
    "$$"
   ]
  },
  {
   "cell_type": "markdown",
   "metadata": {},
   "source": [
    "$$\n",
    "\\mathbb{P} \\left( l \\le \\frac{X_{max}}{\\theta} \\le r \\right) = 1 - \\alpha\n",
    "$$"
   ]
  },
  {
   "cell_type": "code",
   "execution_count": 7,
   "metadata": {},
   "outputs": [
    {
     "data": {
      "image/png": "[encoded data removed]",
      "text/plain": [
       "plot without title"
      ]
     },
     "metadata": {},
     "output_type": "display_data"
    }
   ],
   "source": [
    "x = seq(0,1,0.01)\n",
    "y = 10*x**(9)\n",
    "qplot(x, y, geom='line')"
   ]
  },
  {
   "cell_type": "markdown",
   "metadata": {},
   "source": [
    "$$\n",
    "F(l) = \\alpha \\quad \\Rightarrow \\quad l = F^{-1}(\\alpha) = \\sqrt[n]{\\alpha}\n",
    "$$"
   ]
  },
  {
   "cell_type": "markdown",
   "metadata": {},
   "source": [
    "$$\n",
    "\\mathbb{P} \\left( \\sqrt[n]{\\alpha} \\le \\frac{X_{max}}{\\theta} \\le 1 \\right) = 1 - \\alpha\n",
    "$$"
   ]
  },
  {
   "cell_type": "markdown",
   "metadata": {},
   "source": [
    "$$\n",
    "\\frac{X_{max}}{\\sqrt[n]{\\alpha}} \\le \\theta \\le X_{max}\n",
    "$$"
   ]
  },
  {
   "cell_type": "markdown",
   "metadata": {},
   "source": [
    "У нас есть доверительный интервал для $\\theta$. А что, если я хочу получить доверительный интервал для математического ожидания? "
   ]
  },
  {
   "cell_type": "markdown",
   "metadata": {},
   "source": [
    "$$\n",
    "\\frac{X_{max}}{2 \\cdot \\sqrt[n]{\\alpha}} \\le \\frac{\\theta}{2} \\le \\frac{X_{max}}{2}\n",
    "$$"
   ]
  },
  {
   "cell_type": "markdown",
   "metadata": {},
   "source": [
    "## Упражнение 5 (недвижимая недвижимость) \n",
    "\n",
    "Посмотрим на данные по стоимости квартир в Москве и построим для них парочку интервалов. А ещё красивую картинку. Ради неё пункт и затевается. В [табличке](https://yadi.sk/i/hDxMJ0fw3VSDmu) лежит информация о стоимости квартир в Москве и о основных параметрах этих квартир.\n",
    "\n",
    "__Описание переменных:__\n",
    "\n",
    "```\n",
    "n – номер квартиры по порядку\n",
    "price – цена квартиры в $1000\n",
    "totsp – общая площадь квартиры, кв.м.\n",
    "livesp жилая площадь квартиры, кв.м.\n",
    "kitsp – площадь кухни, кв.м.\n",
    "dist – расстояние от центра в км.\n",
    "metrdist – расстояние до метро в минутах\n",
    "walk – 1 – пешком от метро, 0 – на транспорте\n",
    "brick 1 – кирпичный, монолит ж/б, 0 – другой\n",
    "floor 1 – этаж кроме первого и последнего, 0 – иначе.\n",
    "code – число от 1 до 8, при помощи которого мы группируем наблюдения по\n",
    "подвыборкам:\n",
    "1. Наблюдения сгруппированы на севере, вокруг Калужско-Рижской линии\n",
    "метрополитена\n",
    "2. Север, вокруг Серпуховско-Тимирязевской линии метрополитена\n",
    "3. Северо-запад, вокруг Замоскворецкой линии метрополитена\n",
    "4. Северо-запад, вокруг Таганско-Краснопресненской линии метрополитена\n",
    "5. Юго-восток, вокруг Люблинской линии метрополитена\n",
    "6. Юго-восток, вокруг Таганско-Краснопресненской линии метрополитена\n",
    "7. Восток, вокруг Калиниской линии метрополитена\n",
    "8. Восток, вокруг Арбатско-Покровской линии метрополитена\n",
    "```\n"
   ]
  },
  {
   "cell_type": "markdown",
   "metadata": {},
   "source": [
    "Подгружаем данные и пакеты для работы."
   ]
  },
  {
   "cell_type": "code",
   "execution_count": 9,
   "metadata": {},
   "outputs": [
    {
     "data": {
      "text/html": [
       "<table>\n",
       "<thead><tr><th scope=col>n</th><th scope=col>price</th><th scope=col>totsp</th><th scope=col>livesp</th><th scope=col>kitsp</th><th scope=col>dist</th><th scope=col>metrdist</th><th scope=col>walk</th><th scope=col>brick</th><th scope=col>floor</th><th scope=col>code</th></tr></thead>\n",
       "<tbody>\n",
       "\t<tr><td>1   </td><td> 81 </td><td> 58 </td><td>40  </td><td> 6  </td><td>12.5</td><td>7   </td><td>1   </td><td>1   </td><td>1   </td><td>3   </td></tr>\n",
       "\t<tr><td>2   </td><td> 75 </td><td> 44 </td><td>28  </td><td> 6  </td><td>13.5</td><td>7   </td><td>1   </td><td>0   </td><td>1   </td><td>6   </td></tr>\n",
       "\t<tr><td>3   </td><td>128 </td><td> 70 </td><td>42  </td><td> 6  </td><td>14.5</td><td>3   </td><td>1   </td><td>1   </td><td>1   </td><td>3   </td></tr>\n",
       "\t<tr><td>4   </td><td> 95 </td><td> 61 </td><td>37  </td><td> 6  </td><td>13.5</td><td>7   </td><td>1   </td><td>0   </td><td>1   </td><td>1   </td></tr>\n",
       "\t<tr><td>5   </td><td>330 </td><td>104 </td><td>60  </td><td>11  </td><td>10.5</td><td>7   </td><td>0   </td><td>1   </td><td>1   </td><td>3   </td></tr>\n",
       "\t<tr><td>6   </td><td>137 </td><td> 76 </td><td>50  </td><td> 9  </td><td>11.0</td><td>7   </td><td>1   </td><td>1   </td><td>1   </td><td>8   </td></tr>\n",
       "</tbody>\n",
       "</table>\n"
      ],
      "text/latex": [
       "\\begin{tabular}{r|lllllllllll}\n",
       " n & price & totsp & livesp & kitsp & dist & metrdist & walk & brick & floor & code\\\\\n",
       "\\hline\n",
       "\t 1    &  81  &  58  & 40   &  6   & 12.5 & 7    & 1    & 1    & 1    & 3   \\\\\n",
       "\t 2    &  75  &  44  & 28   &  6   & 13.5 & 7    & 1    & 0    & 1    & 6   \\\\\n",
       "\t 3    & 128  &  70  & 42   &  6   & 14.5 & 3    & 1    & 1    & 1    & 3   \\\\\n",
       "\t 4    &  95  &  61  & 37   &  6   & 13.5 & 7    & 1    & 0    & 1    & 1   \\\\\n",
       "\t 5    & 330  & 104  & 60   & 11   & 10.5 & 7    & 0    & 1    & 1    & 3   \\\\\n",
       "\t 6    & 137  &  76  & 50   &  9   & 11.0 & 7    & 1    & 1    & 1    & 8   \\\\\n",
       "\\end{tabular}\n"
      ],
      "text/markdown": [
       "\n",
       "| n | price | totsp | livesp | kitsp | dist | metrdist | walk | brick | floor | code |\n",
       "|---|---|---|---|---|---|---|---|---|---|---|\n",
       "| 1    |  81  |  58  | 40   |  6   | 12.5 | 7    | 1    | 1    | 1    | 3    |\n",
       "| 2    |  75  |  44  | 28   |  6   | 13.5 | 7    | 1    | 0    | 1    | 6    |\n",
       "| 3    | 128  |  70  | 42   |  6   | 14.5 | 3    | 1    | 1    | 1    | 3    |\n",
       "| 4    |  95  |  61  | 37   |  6   | 13.5 | 7    | 1    | 0    | 1    | 1    |\n",
       "| 5    | 330  | 104  | 60   | 11   | 10.5 | 7    | 0    | 1    | 1    | 3    |\n",
       "| 6    | 137  |  76  | 50   |  9   | 11.0 | 7    | 1    | 1    | 1    | 8    |\n",
       "\n"
      ],
      "text/plain": [
       "  n price totsp livesp kitsp dist metrdist walk brick floor code\n",
       "1 1  81    58   40      6    12.5 7        1    1     1     3   \n",
       "2 2  75    44   28      6    13.5 7        1    0     1     6   \n",
       "3 3 128    70   42      6    14.5 3        1    1     1     3   \n",
       "4 4  95    61   37      6    13.5 7        1    0     1     1   \n",
       "5 5 330   104   60     11    10.5 7        0    1     1     3   \n",
       "6 6 137    76   50      9    11.0 7        1    1     1     8   "
      ]
     },
     "metadata": {},
     "output_type": "display_data"
    }
   ],
   "source": [
    "library('dplyr')\n",
    "library('ggplot2')\n",
    "library('rio')\n",
    "\n",
    "df = import('flat.csv')\n",
    "head(df)"
   ]
  },
  {
   "cell_type": "code",
   "execution_count": 10,
   "metadata": {},
   "outputs": [
    {
     "data": {
      "text/html": [
       "0.279873350768527"
      ],
      "text/latex": [
       "0.279873350768527"
      ],
      "text/markdown": [
       "0.279873350768527"
      ],
      "text/plain": [
       "[1] 0.2798734"
      ]
     },
     "metadata": {},
     "output_type": "display_data"
    }
   ],
   "source": [
    "sin(cos(5))"
   ]
  },
  {
   "cell_type": "code",
   "execution_count": 12,
   "metadata": {},
   "outputs": [
    {
     "data": {
      "text/html": [
       "0.279873350768527"
      ],
      "text/latex": [
       "0.279873350768527"
      ],
      "text/markdown": [
       "0.279873350768527"
      ],
      "text/plain": [
       "[1] 0.2798734"
      ]
     },
     "metadata": {},
     "output_type": "display_data"
    }
   ],
   "source": [
    "5 %>% cos %>% sin"
   ]
  },
  {
   "cell_type": "code",
   "execution_count": 13,
   "metadata": {},
   "outputs": [
    {
     "data": {
      "text/html": [
       "<table>\n",
       "<thead><tr><th scope=col>x_bar</th><th scope=col>s</th></tr></thead>\n",
       "<tbody>\n",
       "\t<tr><td>127.4966</td><td>51.87822</td></tr>\n",
       "</tbody>\n",
       "</table>\n"
      ],
      "text/latex": [
       "\\begin{tabular}{r|ll}\n",
       " x\\_bar & s\\\\\n",
       "\\hline\n",
       "\t 127.4966 & 51.87822\\\\\n",
       "\\end{tabular}\n"
      ],
      "text/markdown": [
       "\n",
       "| x_bar | s |\n",
       "|---|---|\n",
       "| 127.4966 | 51.87822 |\n",
       "\n"
      ],
      "text/plain": [
       "  x_bar    s       \n",
       "1 127.4966 51.87822"
      ]
     },
     "metadata": {},
     "output_type": "display_data"
    }
   ],
   "source": [
    "df %>% summarize(x_bar = mean(price), \n",
    "                 s = sd(price))"
   ]
  },
  {
   "cell_type": "code",
   "execution_count": 24,
   "metadata": {},
   "outputs": [
    {
     "data": {
      "text/html": [
       "<table>\n",
       "<thead><tr><th scope=col>code</th><th scope=col>x_bar</th><th scope=col>s</th></tr></thead>\n",
       "<tbody>\n",
       "\t<tr><td>1       </td><td>134.4118</td><td>49.61951</td></tr>\n",
       "\t<tr><td>2       </td><td>110.3163</td><td>29.51845</td></tr>\n",
       "\t<tr><td>3       </td><td>148.2464</td><td>70.57356</td></tr>\n",
       "\t<tr><td>4       </td><td>148.6938</td><td>73.65683</td></tr>\n",
       "\t<tr><td>5       </td><td>115.7798</td><td>31.50748</td></tr>\n",
       "\t<tr><td>6       </td><td>109.9650</td><td>32.97659</td></tr>\n",
       "\t<tr><td>7       </td><td>114.2301</td><td>33.89749</td></tr>\n",
       "\t<tr><td>8       </td><td>136.7444</td><td>48.63926</td></tr>\n",
       "</tbody>\n",
       "</table>\n"
      ],
      "text/latex": [
       "\\begin{tabular}{r|lll}\n",
       " code & x\\_bar & s\\\\\n",
       "\\hline\n",
       "\t 1        & 134.4118 & 49.61951\\\\\n",
       "\t 2        & 110.3163 & 29.51845\\\\\n",
       "\t 3        & 148.2464 & 70.57356\\\\\n",
       "\t 4        & 148.6938 & 73.65683\\\\\n",
       "\t 5        & 115.7798 & 31.50748\\\\\n",
       "\t 6        & 109.9650 & 32.97659\\\\\n",
       "\t 7        & 114.2301 & 33.89749\\\\\n",
       "\t 8        & 136.7444 & 48.63926\\\\\n",
       "\\end{tabular}\n"
      ],
      "text/markdown": [
       "\n",
       "| code | x_bar | s |\n",
       "|---|---|---|\n",
       "| 1        | 134.4118 | 49.61951 |\n",
       "| 2        | 110.3163 | 29.51845 |\n",
       "| 3        | 148.2464 | 70.57356 |\n",
       "| 4        | 148.6938 | 73.65683 |\n",
       "| 5        | 115.7798 | 31.50748 |\n",
       "| 6        | 109.9650 | 32.97659 |\n",
       "| 7        | 114.2301 | 33.89749 |\n",
       "| 8        | 136.7444 | 48.63926 |\n",
       "\n"
      ],
      "text/plain": [
       "  code x_bar    s       \n",
       "1 1    134.4118 49.61951\n",
       "2 2    110.3163 29.51845\n",
       "3 3    148.2464 70.57356\n",
       "4 4    148.6938 73.65683\n",
       "5 5    115.7798 31.50748\n",
       "6 6    109.9650 32.97659\n",
       "7 7    114.2301 33.89749\n",
       "8 8    136.7444 48.63926"
      ]
     },
     "metadata": {},
     "output_type": "display_data"
    }
   ],
   "source": [
    "df %>% group_by(code) %>% \n",
    "       summarize(x_bar = mean(price), s = sd(price))"
   ]
  },
  {
   "cell_type": "code",
   "execution_count": 30,
   "metadata": {},
   "outputs": [
    {
     "data": {
      "text/html": [
       "<ol class=list-inline>\n",
       "\t<li>0</li>\n",
       "\t<li>0</li>\n",
       "\t<li>1</li>\n",
       "\t<li>1</li>\n",
       "\t<li>1</li>\n",
       "\t<li>0</li>\n",
       "\t<li>0</li>\n",
       "\t<li>1</li>\n",
       "</ol>\n"
      ],
      "text/latex": [
       "\\begin{enumerate*}\n",
       "\\item 0\n",
       "\\item 0\n",
       "\\item 1\n",
       "\\item 1\n",
       "\\item 1\n",
       "\\item 0\n",
       "\\item 0\n",
       "\\item 1\n",
       "\\end{enumerate*}\n"
      ],
      "text/markdown": [
       "1. 0\n",
       "2. 0\n",
       "3. 1\n",
       "4. 1\n",
       "5. 1\n",
       "6. 0\n",
       "7. 0\n",
       "8. 1\n",
       "\n",
       "\n"
      ],
      "text/plain": [
       "[1] 0 0 1 1 1 0 0 1"
      ]
     },
     "metadata": {},
     "output_type": "display_data"
    }
   ],
   "source": [
    "x <- c(4,5,6,7,8, -1, -2, 7)\n",
    "ifelse(x > 5, 1, 0)"
   ]
  },
  {
   "cell_type": "markdown",
   "metadata": {},
   "source": [
    "__а)__ Построить $99\\%$ асимптотический доверительный интервал для средней стоимости квартиры. Построить точный доверительный интервал для средней стоимости квартиры. Какой из них оказался короче? Почему? \n",
    "\n",
    "Асимптотический доверительный интервал: \n",
    "\n",
    "$$\n",
    "\\bar x \\pm z_{1 - \\frac{\\alpha}{2}} \\cdot \\sqrt{\\frac{\\hat s^2}{n}}.\n",
    "$$\n",
    "\n",
    "Точный доверительный интервал: \n",
    "\n",
    "$$\n",
    "\\bar x \\pm t_{1 - \\frac{\\alpha}{2}} \\cdot \\sqrt{\\frac{\\hat s^2}{n}}.\n",
    "$$"
   ]
  },
  {
   "cell_type": "code",
   "execution_count": 22,
   "metadata": {},
   "outputs": [
    {
     "data": {
      "image/png": "[encoded data removed]",
      "text/plain": [
       "plot without title"
      ]
     },
     "metadata": {},
     "output_type": "display_data"
    }
   ],
   "source": [
    "qplot(df$price, bins=50)"
   ]
  },
  {
   "cell_type": "code",
   "execution_count": 23,
   "metadata": {},
   "outputs": [
    {
     "data": {
      "image/png": "[encoded data removed]",
      "text/plain": [
       "plot without title"
      ]
     },
     "metadata": {},
     "output_type": "display_data"
    }
   ],
   "source": [
    "qplot(df$price %>% log, bins=50)"
   ]
  },
  {
   "cell_type": "code",
   "execution_count": 15,
   "metadata": {},
   "outputs": [
    {
     "data": {
      "text/html": [
       "<table>\n",
       "<thead><tr><th scope=col>left</th><th scope=col>right</th></tr></thead>\n",
       "<tbody>\n",
       "\t<tr><td>124.538 </td><td>130.4552</td></tr>\n",
       "</tbody>\n",
       "</table>\n"
      ],
      "text/latex": [
       "\\begin{tabular}{r|ll}\n",
       " left & right\\\\\n",
       "\\hline\n",
       "\t 124.538  & 130.4552\\\\\n",
       "\\end{tabular}\n"
      ],
      "text/markdown": [
       "\n",
       "| left | right |\n",
       "|---|---|\n",
       "| 124.538  | 130.4552 |\n",
       "\n"
      ],
      "text/plain": [
       "  left    right   \n",
       "1 124.538 130.4552"
      ]
     },
     "metadata": {},
     "output_type": "display_data"
    }
   ],
   "source": [
    "alpha = 0.01\n",
    "z_alpha = qnorm(1 - alpha/2)\n",
    "\n",
    "df %>% summarize(\n",
    "            left = mean(price) - z_alpha * (sd(price))/sqrt(length(price)),\n",
    "            right = mean(price) + z_alpha * (sd(price))/sqrt(length(price))\n",
    "                )"
   ]
  },
  {
   "cell_type": "code",
   "execution_count": 18,
   "metadata": {},
   "outputs": [
    {
     "data": {
      "text/html": [
       "2039"
      ],
      "text/latex": [
       "2039"
      ],
      "text/markdown": [
       "2039"
      ],
      "text/plain": [
       "[1] 2039"
      ]
     },
     "metadata": {},
     "output_type": "display_data"
    }
   ],
   "source": [
    "nrow(df)-1"
   ]
  },
  {
   "cell_type": "code",
   "execution_count": 17,
   "metadata": {},
   "outputs": [
    {
     "data": {
      "text/html": [
       "<table>\n",
       "<thead><tr><th scope=col>left</th><th scope=col>right</th></tr></thead>\n",
       "<tbody>\n",
       "\t<tr><td>124.5352</td><td>130.4579</td></tr>\n",
       "</tbody>\n",
       "</table>\n"
      ],
      "text/latex": [
       "\\begin{tabular}{r|ll}\n",
       " left & right\\\\\n",
       "\\hline\n",
       "\t 124.5352 & 130.4579\\\\\n",
       "\\end{tabular}\n"
      ],
      "text/markdown": [
       "\n",
       "| left | right |\n",
       "|---|---|\n",
       "| 124.5352 | 130.4579 |\n",
       "\n"
      ],
      "text/plain": [
       "  left     right   \n",
       "1 124.5352 130.4579"
      ]
     },
     "metadata": {},
     "output_type": "display_data"
    }
   ],
   "source": [
    "alpha = 0.01\n",
    "t_alpha = qt(df=nrow(df)-1, 1 - alpha/2)\n",
    "\n",
    "df %>% summarize(\n",
    "            left = mean(price) - t_alpha * (sd(price))/sqrt(length(price)),\n",
    "            right = mean(price) + t_alpha * (sd(price))/sqrt(length(price))\n",
    "                )"
   ]
  },
  {
   "cell_type": "code",
   "execution_count": null,
   "metadata": {},
   "outputs": [],
   "source": [
    "# Мы с вами до этого узнали, что t(n) => N(0,1) при n -> Infinity"
   ]
  },
  {
   "cell_type": "markdown",
   "metadata": {},
   "source": [
    "__б)__ Построить $99\\%$ асимптотические доверительные интервалы для всех районов. В какие из них попало общее среднее? Постройте красивую визулизацию."
   ]
  },
  {
   "cell_type": "code",
   "execution_count": 27,
   "metadata": {},
   "outputs": [
    {
     "data": {
      "text/html": [
       "<table>\n",
       "<thead><tr><th scope=col>code</th><th scope=col>left</th><th scope=col>right</th></tr></thead>\n",
       "<tbody>\n",
       "\t<tr><td>1       </td><td>126.6621</td><td>142.1615</td></tr>\n",
       "\t<tr><td>2       </td><td>105.1308</td><td>115.5018</td></tr>\n",
       "\t<tr><td>3       </td><td>138.4594</td><td>158.0334</td></tr>\n",
       "\t<tr><td>4       </td><td>135.5701</td><td>161.8175</td></tr>\n",
       "\t<tr><td>5       </td><td>111.3522</td><td>120.2073</td></tr>\n",
       "\t<tr><td>6       </td><td>104.6664</td><td>115.2635</td></tr>\n",
       "\t<tr><td>7       </td><td>108.4220</td><td>120.0381</td></tr>\n",
       "\t<tr><td>8       </td><td>127.4061</td><td>146.0827</td></tr>\n",
       "</tbody>\n",
       "</table>\n"
      ],
      "text/latex": [
       "\\begin{tabular}{r|lll}\n",
       " code & left & right\\\\\n",
       "\\hline\n",
       "\t 1        & 126.6621 & 142.1615\\\\\n",
       "\t 2        & 105.1308 & 115.5018\\\\\n",
       "\t 3        & 138.4594 & 158.0334\\\\\n",
       "\t 4        & 135.5701 & 161.8175\\\\\n",
       "\t 5        & 111.3522 & 120.2073\\\\\n",
       "\t 6        & 104.6664 & 115.2635\\\\\n",
       "\t 7        & 108.4220 & 120.0381\\\\\n",
       "\t 8        & 127.4061 & 146.0827\\\\\n",
       "\\end{tabular}\n"
      ],
      "text/markdown": [
       "\n",
       "| code | left | right |\n",
       "|---|---|---|\n",
       "| 1        | 126.6621 | 142.1615 |\n",
       "| 2        | 105.1308 | 115.5018 |\n",
       "| 3        | 138.4594 | 158.0334 |\n",
       "| 4        | 135.5701 | 161.8175 |\n",
       "| 5        | 111.3522 | 120.2073 |\n",
       "| 6        | 104.6664 | 115.2635 |\n",
       "| 7        | 108.4220 | 120.0381 |\n",
       "| 8        | 127.4061 | 146.0827 |\n",
       "\n"
      ],
      "text/plain": [
       "  code left     right   \n",
       "1 1    126.6621 142.1615\n",
       "2 2    105.1308 115.5018\n",
       "3 3    138.4594 158.0334\n",
       "4 4    135.5701 161.8175\n",
       "5 5    111.3522 120.2073\n",
       "6 6    104.6664 115.2635\n",
       "7 7    108.4220 120.0381\n",
       "8 8    127.4061 146.0827"
      ]
     },
     "metadata": {},
     "output_type": "display_data"
    }
   ],
   "source": [
    "alpha = 0.01\n",
    "z_alpha = qnorm(1 - alpha/2)\n",
    "\n",
    "df_conf = df %>% group_by(code) %>% \n",
    "        summarize(\n",
    "            left = mean(price) - z_alpha * (sd(price))/sqrt(length(price)),\n",
    "            right = mean(price) + z_alpha * (sd(price))/sqrt(length(price))\n",
    "            )\n",
    "\n",
    "df_conf"
   ]
  },
  {
   "cell_type": "code",
   "execution_count": 32,
   "metadata": {},
   "outputs": [
    {
     "name": "stdout",
     "output_type": "stream",
     "text": [
      "[1] 127.4966\n"
     ]
    },
    {
     "data": {
      "text/html": [
       "<table>\n",
       "<thead><tr><th scope=col>code</th><th scope=col>left</th><th scope=col>right</th><th scope=col>capture_mu</th></tr></thead>\n",
       "<tbody>\n",
       "\t<tr><td>1       </td><td>126.6621</td><td>142.1615</td><td>yes     </td></tr>\n",
       "\t<tr><td>2       </td><td>105.1308</td><td>115.5018</td><td>no      </td></tr>\n",
       "\t<tr><td>3       </td><td>138.4594</td><td>158.0334</td><td>no      </td></tr>\n",
       "\t<tr><td>4       </td><td>135.5701</td><td>161.8175</td><td>no      </td></tr>\n",
       "\t<tr><td>5       </td><td>111.3522</td><td>120.2073</td><td>no      </td></tr>\n",
       "\t<tr><td>6       </td><td>104.6664</td><td>115.2635</td><td>no      </td></tr>\n",
       "\t<tr><td>7       </td><td>108.4220</td><td>120.0381</td><td>no      </td></tr>\n",
       "\t<tr><td>8       </td><td>127.4061</td><td>146.0827</td><td>yes     </td></tr>\n",
       "</tbody>\n",
       "</table>\n"
      ],
      "text/latex": [
       "\\begin{tabular}{r|llll}\n",
       " code & left & right & capture\\_mu\\\\\n",
       "\\hline\n",
       "\t 1        & 126.6621 & 142.1615 & yes     \\\\\n",
       "\t 2        & 105.1308 & 115.5018 & no      \\\\\n",
       "\t 3        & 138.4594 & 158.0334 & no      \\\\\n",
       "\t 4        & 135.5701 & 161.8175 & no      \\\\\n",
       "\t 5        & 111.3522 & 120.2073 & no      \\\\\n",
       "\t 6        & 104.6664 & 115.2635 & no      \\\\\n",
       "\t 7        & 108.4220 & 120.0381 & no      \\\\\n",
       "\t 8        & 127.4061 & 146.0827 & yes     \\\\\n",
       "\\end{tabular}\n"
      ],
      "text/markdown": [
       "\n",
       "| code | left | right | capture_mu |\n",
       "|---|---|---|---|\n",
       "| 1        | 126.6621 | 142.1615 | yes      |\n",
       "| 2        | 105.1308 | 115.5018 | no       |\n",
       "| 3        | 138.4594 | 158.0334 | no       |\n",
       "| 4        | 135.5701 | 161.8175 | no       |\n",
       "| 5        | 111.3522 | 120.2073 | no       |\n",
       "| 6        | 104.6664 | 115.2635 | no       |\n",
       "| 7        | 108.4220 | 120.0381 | no       |\n",
       "| 8        | 127.4061 | 146.0827 | yes      |\n",
       "\n"
      ],
      "text/plain": [
       "  code left     right    capture_mu\n",
       "1 1    126.6621 142.1615 yes       \n",
       "2 2    105.1308 115.5018 no        \n",
       "3 3    138.4594 158.0334 no        \n",
       "4 4    135.5701 161.8175 no        \n",
       "5 5    111.3522 120.2073 no        \n",
       "6 6    104.6664 115.2635 no        \n",
       "7 7    108.4220 120.0381 no        \n",
       "8 8    127.4061 146.0827 yes       "
      ]
     },
     "metadata": {},
     "output_type": "display_data"
    }
   ],
   "source": [
    "mu_hat = mean(df$price)\n",
    "print(mu_hat)\n",
    "\n",
    "df_conf = df_conf %>% mutate(capture_mu = ifelse(left <= mu_hat & right >= mu_hat, \"yes\", \"no\"))\n",
    "df_conf"
   ]
  },
  {
   "cell_type": "code",
   "execution_count": 34,
   "metadata": {},
   "outputs": [],
   "source": [
    "ci_data = data.frame(ci_id = df_conf$code,            # откладываю его по оси y \n",
    "                     capture_mu = df_conf$capture_mu, # раскарска в красный или синий\n",
    "                     ci_bounds = c(df_conf$left, df_conf$right) # отрисовываю по оси x интервалы\n",
    "                    )"
   ]
  },
  {
   "cell_type": "code",
   "execution_count": 47,
   "metadata": {},
   "outputs": [
    {
     "data": {
      "image/png": "[encoded data removed]",
      "text/plain": [
       "plot without title"
      ]
     },
     "metadata": {},
     "output_type": "display_data"
    }
   ],
   "source": [
    "ggplot(data = ci_data, aes(x = ci_bounds, y = ci_id, group = ci_id, color = capture_mu)) + \n",
    "        # group - для каждого ci_id свой график \n",
    "        # color - как именно раскрашивать картинки\n",
    "\n",
    "    geom_point(size=1.5) +  # рисует точки (начало и конец интервала)\n",
    "    geom_line() +           # точки соединяет \n",
    "    geom_vline(xintercept = mu_hat, color=\"darkgray\") # прорисовка вертикальной линии с общим средним"
   ]
  },
  {
   "cell_type": "markdown",
   "metadata": {},
   "source": [
    "__в)__  Постройте по всем районам асимптотический $95\\%$ доверительные интервалы для разницы в средней стоимости квартир в монолитных и панельных домах. В каких районах ноль не попадает в доверительный интервал? Что это означает? Постройте красивую картинку по аналогии с лекционной. Раскрасьте все интервалы, где ноль не попал в них в синий цвет, где попал в красный. "
   ]
  },
  {
   "cell_type": "code",
   "execution_count": 70,
   "metadata": {},
   "outputs": [
    {
     "data": {
      "text/html": [
       "<table>\n",
       "<thead><tr><th scope=col>code</th><th scope=col>brick.x</th><th scope=col>mu.x</th><th scope=col>s2.x</th><th scope=col>n.x</th><th scope=col>brick.y</th><th scope=col>mu.y</th><th scope=col>s2.y</th><th scope=col>n.y</th><th scope=col>z</th><th scope=col>left</th><th scope=col>right</th><th scope=col>is_zero</th></tr></thead>\n",
       "<tbody>\n",
       "\t<tr><td>1         </td><td>0         </td><td>123.0000  </td><td>1534.8156 </td><td>180       </td><td>1         </td><td>156.7391  </td><td>3551.558  </td><td> 92       </td><td>1.959964  </td><td>20.2836329</td><td>47.19463  </td><td>no        </td></tr>\n",
       "\t<tr><td>2         </td><td>0         </td><td>105.9516  </td><td> 429.3760 </td><td>186       </td><td>1         </td><td>138.3103  </td><td>2884.365  </td><td> 29       </td><td>1.959964  </td><td>12.5864622</td><td>52.13100  </td><td>no        </td></tr>\n",
       "\t<tr><td>3         </td><td>0         </td><td>134.7337  </td><td>4117.9227 </td><td>169       </td><td>1         </td><td>161.2216  </td><td>5491.636  </td><td>176       </td><td>1.959964  </td><td>11.8774016</td><td>41.09832  </td><td>no        </td></tr>\n",
       "\t<tr><td>4         </td><td>0         </td><td>135.9429  </td><td>3604.6586 </td><td>140       </td><td>1         </td><td>174.5652  </td><td>8212.867  </td><td> 69       </td><td>1.959964  </td><td>15.0396179</td><td>62.20510  </td><td>no        </td></tr>\n",
       "\t<tr><td>5         </td><td>0         </td><td>115.0276  </td><td> 745.2311 </td><td>290       </td><td>1         </td><td>120.5217  </td><td>2577.588  </td><td> 46       </td><td>1.959964  </td><td>-9.5100457</td><td>20.49835  </td><td>yes       </td></tr>\n",
       "\t<tr><td>6         </td><td>0         </td><td>107.2850  </td><td> 969.7257 </td><td>193       </td><td>1         </td><td>118.0469  </td><td>1375.156  </td><td> 64       </td><td>1.959964  </td><td> 0.6702168</td><td>20.85359  </td><td>no        </td></tr>\n",
       "\t<tr><td>7         </td><td>0         </td><td>108.4868  </td><td> 526.9137 </td><td>152       </td><td>1         </td><td>126.0270  </td><td>2241.890  </td><td> 74       </td><td>1.959964  </td><td> 6.1517410</td><td>28.92863  </td><td>no        </td></tr>\n",
       "\t<tr><td>8         </td><td>0         </td><td>126.2535  </td><td>1548.0205 </td><td> 71       </td><td>1         </td><td>143.5780  </td><td>2798.228  </td><td>109       </td><td>1.959964  </td><td> 3.8199077</td><td>30.82901  </td><td>no        </td></tr>\n",
       "</tbody>\n",
       "</table>\n"
      ],
      "text/latex": [
       "\\begin{tabular}{r|lllllllllllll}\n",
       " code & brick.x & mu.x & s2.x & n.x & brick.y & mu.y & s2.y & n.y & z & left & right & is\\_zero\\\\\n",
       "\\hline\n",
       "\t 1          & 0          & 123.0000   & 1534.8156  & 180        & 1          & 156.7391   & 3551.558   &  92        & 1.959964   & 20.2836329 & 47.19463   & no        \\\\\n",
       "\t 2          & 0          & 105.9516   &  429.3760  & 186        & 1          & 138.3103   & 2884.365   &  29        & 1.959964   & 12.5864622 & 52.13100   & no        \\\\\n",
       "\t 3          & 0          & 134.7337   & 4117.9227  & 169        & 1          & 161.2216   & 5491.636   & 176        & 1.959964   & 11.8774016 & 41.09832   & no        \\\\\n",
       "\t 4          & 0          & 135.9429   & 3604.6586  & 140        & 1          & 174.5652   & 8212.867   &  69        & 1.959964   & 15.0396179 & 62.20510   & no        \\\\\n",
       "\t 5          & 0          & 115.0276   &  745.2311  & 290        & 1          & 120.5217   & 2577.588   &  46        & 1.959964   & -9.5100457 & 20.49835   & yes       \\\\\n",
       "\t 6          & 0          & 107.2850   &  969.7257  & 193        & 1          & 118.0469   & 1375.156   &  64        & 1.959964   &  0.6702168 & 20.85359   & no        \\\\\n",
       "\t 7          & 0          & 108.4868   &  526.9137  & 152        & 1          & 126.0270   & 2241.890   &  74        & 1.959964   &  6.1517410 & 28.92863   & no        \\\\\n",
       "\t 8          & 0          & 126.2535   & 1548.0205  &  71        & 1          & 143.5780   & 2798.228   & 109        & 1.959964   &  3.8199077 & 30.82901   & no        \\\\\n",
       "\\end{tabular}\n"
      ],
      "text/markdown": [
       "\n",
       "| code | brick.x | mu.x | s2.x | n.x | brick.y | mu.y | s2.y | n.y | z | left | right | is_zero |\n",
       "|---|---|---|---|---|---|---|---|---|---|---|---|---|\n",
       "| 1          | 0          | 123.0000   | 1534.8156  | 180        | 1          | 156.7391   | 3551.558   |  92        | 1.959964   | 20.2836329 | 47.19463   | no         |\n",
       "| 2          | 0          | 105.9516   |  429.3760  | 186        | 1          | 138.3103   | 2884.365   |  29        | 1.959964   | 12.5864622 | 52.13100   | no         |\n",
       "| 3          | 0          | 134.7337   | 4117.9227  | 169        | 1          | 161.2216   | 5491.636   | 176        | 1.959964   | 11.8774016 | 41.09832   | no         |\n",
       "| 4          | 0          | 135.9429   | 3604.6586  | 140        | 1          | 174.5652   | 8212.867   |  69        | 1.959964   | 15.0396179 | 62.20510   | no         |\n",
       "| 5          | 0          | 115.0276   |  745.2311  | 290        | 1          | 120.5217   | 2577.588   |  46        | 1.959964   | -9.5100457 | 20.49835   | yes        |\n",
       "| 6          | 0          | 107.2850   |  969.7257  | 193        | 1          | 118.0469   | 1375.156   |  64        | 1.959964   |  0.6702168 | 20.85359   | no         |\n",
       "| 7          | 0          | 108.4868   |  526.9137  | 152        | 1          | 126.0270   | 2241.890   |  74        | 1.959964   |  6.1517410 | 28.92863   | no         |\n",
       "| 8          | 0          | 126.2535   | 1548.0205  |  71        | 1          | 143.5780   | 2798.228   | 109        | 1.959964   |  3.8199077 | 30.82901   | no         |\n",
       "\n"
      ],
      "text/plain": [
       "  code brick.x mu.x     s2.x      n.x brick.y mu.y     s2.y     n.y z       \n",
       "1 1    0       123.0000 1534.8156 180 1       156.7391 3551.558  92 1.959964\n",
       "2 2    0       105.9516  429.3760 186 1       138.3103 2884.365  29 1.959964\n",
       "3 3    0       134.7337 4117.9227 169 1       161.2216 5491.636 176 1.959964\n",
       "4 4    0       135.9429 3604.6586 140 1       174.5652 8212.867  69 1.959964\n",
       "5 5    0       115.0276  745.2311 290 1       120.5217 2577.588  46 1.959964\n",
       "6 6    0       107.2850  969.7257 193 1       118.0469 1375.156  64 1.959964\n",
       "7 7    0       108.4868  526.9137 152 1       126.0270 2241.890  74 1.959964\n",
       "8 8    0       126.2535 1548.0205  71 1       143.5780 2798.228 109 1.959964\n",
       "  left       right    is_zero\n",
       "1 20.2836329 47.19463 no     \n",
       "2 12.5864622 52.13100 no     \n",
       "3 11.8774016 41.09832 no     \n",
       "4 15.0396179 62.20510 no     \n",
       "5 -9.5100457 20.49835 yes    \n",
       "6  0.6702168 20.85359 no     \n",
       "7  6.1517410 28.92863 no     \n",
       "8  3.8199077 30.82901 no     "
      ]
     },
     "metadata": {},
     "output_type": "display_data"
    }
   ],
   "source": [
    "alpha = 0.05\n",
    "\n",
    "df_conf = df %>% group_by(code, brick) %>% \n",
    "        summarize(\n",
    "            mu = mean(price), s2 = var(price), n = n()\n",
    "            )\n",
    "\n",
    "df_0 = df_conf %>% filter(brick==0)\n",
    "df_1 = df_conf %>% filter(brick==1)\n",
    "\n",
    "df_conf = left_join(df_0, df_1, by=\"code\")\n",
    "\n",
    "df_stat = df_conf %>% mutate(z = qnorm(1 - alpha/2)) %>% \n",
    "            mutate(left = (mu.y - mu.x) - z * sqrt(s2.x/n.x + s2.y/n.y),\n",
    "                   right = (mu.y - mu.x) + z * sqrt(s2.x/n.x + s2.y/n.y)) %>% \n",
    "            mutate(is_zero = ifelse(left <= 0 & right >= 0, \"yes\", \"no\"))\n",
    "df_stat"
   ]
  },
  {
   "cell_type": "code",
   "execution_count": 71,
   "metadata": {},
   "outputs": [
    {
     "data": {
      "image/png": "[encoded data removed]",
      "text/plain": [
       "plot without title"
      ]
     },
     "metadata": {},
     "output_type": "display_data"
    }
   ],
   "source": [
    "ci_data = data.frame(ci_id = df_stat$code,            # откладываю его по оси y \n",
    "                     capture_mu = df_stat$is_zero,    # раскарска в красный или синий\n",
    "                     ci_bounds = c(df_stat$left, df_stat$right) # отрисовываю по оси x интервалы\n",
    "                    )\n",
    "\n",
    "ggplot(data = ci_data, aes(x = ci_bounds, y = ci_id, group = ci_id, color = capture_mu)) + \n",
    "        # group - для каждого ci_id свой график \n",
    "        # color - как именно раскрашивать картинки\n",
    "\n",
    "    geom_point(size=1.5) +  # рисует точки (начало и конец интервала)\n",
    "    geom_line() +           # точки соединяет \n",
    "    geom_vline(xintercept = 0, color=\"darkgray\") # прорисовка вертикальной линии с общим средним"
   ]
  },
  {
   "cell_type": "markdown",
   "metadata": {},
   "source": [
    "__г)__ Предполагая нормальность распределения цен, постройте $95\\%$ доверительный интервал для дисперсии стоимости квартир. Какой теоремой мы пользуемся, чтобы вывести распределение для дисперсии? Математическое ожидание, конечно же неизвестно. "
   ]
  },
  {
   "cell_type": "code",
   "execution_count": 74,
   "metadata": {},
   "outputs": [
    {
     "data": {
      "text/html": [
       "<ol class=list-inline>\n",
       "\t<li>2534.73629724165</li>\n",
       "\t<li>2865.91303683941</li>\n",
       "</ol>\n"
      ],
      "text/latex": [
       "\\begin{enumerate*}\n",
       "\\item 2534.73629724165\n",
       "\\item 2865.91303683941\n",
       "\\end{enumerate*}\n"
      ],
      "text/markdown": [
       "1. 2534.73629724165\n",
       "2. 2865.91303683941\n",
       "\n",
       "\n"
      ],
      "text/plain": [
       "[1] 2534.736 2865.913"
      ]
     },
     "metadata": {},
     "output_type": "display_data"
    }
   ],
   "source": [
    "alpha = 0.05\n",
    "n = nrow(df)\n",
    "s2 = var(df$price)\n",
    "\n",
    "n*s2/qchisq(c(1 - alpha/2, alpha/2), df = n-1)"
   ]
  },
  {
   "cell_type": "markdown",
   "metadata": {},
   "source": [
    "__д)__ Постройте доверительные интервалы для дисперсии по всем районам. В каких районах разброс в ценах самый высокий? Как думаете, почему именно в них? Как высокая дисперсия цен в районе влияет на вас, как на покупателя? "
   ]
  },
  {
   "cell_type": "code",
   "execution_count": 86,
   "metadata": {},
   "outputs": [
    {
     "data": {
      "text/html": [
       "2166.04517464974"
      ],
      "text/latex": [
       "2166.04517464974"
      ],
      "text/markdown": [
       "2166.04517464974"
      ],
      "text/plain": [
       "[1] 2166.045"
      ]
     },
     "metadata": {},
     "output_type": "display_data"
    }
   ],
   "source": []
  },
  {
   "cell_type": "code",
   "execution_count": 91,
   "metadata": {},
   "outputs": [
    {
     "data": {
      "image/png": "[encoded data removed]",
      "text/plain": [
       "plot without title"
      ]
     },
     "metadata": {},
     "output_type": "display_data"
    }
   ],
   "source": [
    "alpha = 0.05\n",
    "\n",
    "df_conf = df %>% group_by(code) %>% \n",
    "        summarize(\n",
    "            left = n()*var(price)/qchisq(1 -alpha/2, df = n()-1),\n",
    "            right = n()*var(price)/qchisq(alpha/2, df = n()-1)\n",
    "            ) %>% \n",
    "            mutate(is_zero = ifelse(left <= s2 & right >= s2, \"yes\", \"no\"))\n",
    "\n",
    "ci_data = data.frame(ci_id = df_conf$code,            # откладываю его по оси y \n",
    "                     capture_mu = df_conf$is_zero,    # раскарска в красный или синий\n",
    "                     ci_bounds = c(df_conf$left, df_conf$right) # отрисовываю по оси x интервалы\n",
    "                    )\n",
    "\n",
    "ggplot(data = ci_data, aes(x = ci_bounds, y = ci_id, group = ci_id, color = capture_mu)) + \n",
    "        # group - для каждого ci_id свой график \n",
    "        # color - как именно раскрашивать картинки\n",
    "\n",
    "    geom_point(size=1.5) +  # рисует точки (начало и конец интервала)\n",
    "    geom_line() +           # точки соединяет \n",
    "    geom_vline(xintercept = s2, color=\"darkgray\") # прорисовка вертикальной линии с общим средним"
   ]
  },
  {
   "cell_type": "markdown",
   "metadata": {},
   "source": [
    "__е)__ Тут надо немного подумать. Предполагая нормальность распределения, постройте $95\\%$-ый доверительный интервал для отношения дисперсии стоимости квартир в монолитных домах и в панельных домах. \n",
    "\n",
    "__Hint:__ надо понять, какое распределение имеет отношение дисперсий, а после по-честному, отталкиваясь от этого распределния, вывести формулу для доверительного интервала. Роналд Эймлер ##### вам в помощь. "
   ]
  },
  {
   "cell_type": "markdown",
   "metadata": {},
   "source": [
    "* Распределение Фишера \n",
    "\n",
    "$$\n",
    "F(n,m) = \\frac{\\frac{\\chi^2_n}{n}}{\\frac{\\chi^2_m}{m}}\n",
    "$$\n",
    "\n",
    "* Теорема Фишера, которая говорит нам, что \n",
    "\n",
    "$$\n",
    "\\frac{(n-1) \\cdot s^2}{\\sigma^2} \\sim \\chi^2_{n-1}\n",
    "$$"
   ]
  },
  {
   "cell_type": "markdown",
   "metadata": {},
   "source": [
    "$$\n",
    "F(n,m) = \\frac{\\frac{\\frac{(n-1) \\cdot s_n^2}{\\sigma_n^2}}{(n-1)}}{\\frac{\\frac{(m-1) \\cdot s_m^2}{\\sigma_m^2}}{(m-1)}} = \\frac{\\frac{s^2_n}{\\sigma^2_n}}{\\frac{s^2_m}{\\sigma^2_m}} = \\frac{s^2_n \\cdot \\sigma^2_m}{s^2_m \\cdot \\sigma^2_n}\n",
    "$$"
   ]
  },
  {
   "cell_type": "markdown",
   "metadata": {},
   "source": [
    "$$\n",
    "\\mathbb{P}\\left( F_{\\frac{\\alpha}{2}}(n,m) \\le \\frac{s^2_n \\cdot \\sigma^2_m}{s^2_m \\cdot \\sigma^2_n} \\le  F_{1 - \\frac{\\alpha}{2}}(n,m) \\right) = 1 - \\alpha\n",
    "$$"
   ]
  },
  {
   "cell_type": "markdown",
   "metadata": {},
   "source": [
    "$$\n",
    "\\frac{s^2_m}{s^2_n} \\cdot F_{\\frac{\\alpha}{2}}(n,m) \\le \\frac{\\sigma^2_m}{\\sigma^2_n} \\le  \\frac{s^2_m}{s^2_n} \\cdot F_{1 - \\frac{\\alpha}{2}}(n,m)\n",
    "$$"
   ]
  },
  {
   "cell_type": "code",
   "execution_count": 95,
   "metadata": {},
   "outputs": [
    {
     "data": {
      "text/html": [
       "<ol class=list-inline>\n",
       "\t<li>0.342186805354128</li>\n",
       "\t<li>0.444968333267709</li>\n",
       "</ol>\n"
      ],
      "text/latex": [
       "\\begin{enumerate*}\n",
       "\\item 0.342186805354128\n",
       "\\item 0.444968333267709\n",
       "\\end{enumerate*}\n"
      ],
      "text/markdown": [
       "1. 0.342186805354128\n",
       "2. 0.444968333267709\n",
       "\n",
       "\n"
      ],
      "text/plain": [
       "[1] 0.3421868 0.4449683"
      ]
     },
     "metadata": {},
     "output_type": "display_data"
    }
   ],
   "source": [
    "df0 = df %>% filter(brick==0)\n",
    "df1 = df %>% filter(brick==1)\n",
    "\n",
    "var(df0$price)/var(df1$price) * qf(c(alpha/2, 1 - alpha/2), df1=nrow(df1), df2=nrow(df0))"
   ]
  },
  {
   "cell_type": "markdown",
   "metadata": {},
   "source": [
    "Вставил сюда код по районам после пары для полноты картины :) "
   ]
  },
  {
   "cell_type": "code",
   "execution_count": 97,
   "metadata": {},
   "outputs": [
    {
     "data": {
      "text/html": [
       "<table>\n",
       "<thead><tr><th scope=col>code</th><th scope=col>brick.x</th><th scope=col>mu.x</th><th scope=col>s2.x</th><th scope=col>n.x</th><th scope=col>brick.y</th><th scope=col>mu.y</th><th scope=col>s2.y</th><th scope=col>n.y</th><th scope=col>z</th><th scope=col>left</th><th scope=col>right</th><th scope=col>is_zero</th></tr></thead>\n",
       "<tbody>\n",
       "\t<tr><td>1         </td><td>0         </td><td>123.0000  </td><td>1534.8156 </td><td>180       </td><td>1         </td><td>156.7391  </td><td>3551.558  </td><td> 92       </td><td>1.959964  </td><td>20.2836329</td><td>47.19463  </td><td>no        </td></tr>\n",
       "\t<tr><td>2         </td><td>0         </td><td>105.9516  </td><td> 429.3760 </td><td>186       </td><td>1         </td><td>138.3103  </td><td>2884.365  </td><td> 29       </td><td>1.959964  </td><td>12.5864622</td><td>52.13100  </td><td>no        </td></tr>\n",
       "\t<tr><td>3         </td><td>0         </td><td>134.7337  </td><td>4117.9227 </td><td>169       </td><td>1         </td><td>161.2216  </td><td>5491.636  </td><td>176       </td><td>1.959964  </td><td>11.8774016</td><td>41.09832  </td><td>no        </td></tr>\n",
       "\t<tr><td>4         </td><td>0         </td><td>135.9429  </td><td>3604.6586 </td><td>140       </td><td>1         </td><td>174.5652  </td><td>8212.867  </td><td> 69       </td><td>1.959964  </td><td>15.0396179</td><td>62.20510  </td><td>no        </td></tr>\n",
       "\t<tr><td>5         </td><td>0         </td><td>115.0276  </td><td> 745.2311 </td><td>290       </td><td>1         </td><td>120.5217  </td><td>2577.588  </td><td> 46       </td><td>1.959964  </td><td>-9.5100457</td><td>20.49835  </td><td>yes       </td></tr>\n",
       "\t<tr><td>6         </td><td>0         </td><td>107.2850  </td><td> 969.7257 </td><td>193       </td><td>1         </td><td>118.0469  </td><td>1375.156  </td><td> 64       </td><td>1.959964  </td><td> 0.6702168</td><td>20.85359  </td><td>no        </td></tr>\n",
       "\t<tr><td>7         </td><td>0         </td><td>108.4868  </td><td> 526.9137 </td><td>152       </td><td>1         </td><td>126.0270  </td><td>2241.890  </td><td> 74       </td><td>1.959964  </td><td> 6.1517410</td><td>28.92863  </td><td>no        </td></tr>\n",
       "\t<tr><td>8         </td><td>0         </td><td>126.2535  </td><td>1548.0205 </td><td> 71       </td><td>1         </td><td>143.5780  </td><td>2798.228  </td><td>109       </td><td>1.959964  </td><td> 3.8199077</td><td>30.82901  </td><td>no        </td></tr>\n",
       "</tbody>\n",
       "</table>\n"
      ],
      "text/latex": [
       "\\begin{tabular}{r|lllllllllllll}\n",
       " code & brick.x & mu.x & s2.x & n.x & brick.y & mu.y & s2.y & n.y & z & left & right & is\\_zero\\\\\n",
       "\\hline\n",
       "\t 1          & 0          & 123.0000   & 1534.8156  & 180        & 1          & 156.7391   & 3551.558   &  92        & 1.959964   & 20.2836329 & 47.19463   & no        \\\\\n",
       "\t 2          & 0          & 105.9516   &  429.3760  & 186        & 1          & 138.3103   & 2884.365   &  29        & 1.959964   & 12.5864622 & 52.13100   & no        \\\\\n",
       "\t 3          & 0          & 134.7337   & 4117.9227  & 169        & 1          & 161.2216   & 5491.636   & 176        & 1.959964   & 11.8774016 & 41.09832   & no        \\\\\n",
       "\t 4          & 0          & 135.9429   & 3604.6586  & 140        & 1          & 174.5652   & 8212.867   &  69        & 1.959964   & 15.0396179 & 62.20510   & no        \\\\\n",
       "\t 5          & 0          & 115.0276   &  745.2311  & 290        & 1          & 120.5217   & 2577.588   &  46        & 1.959964   & -9.5100457 & 20.49835   & yes       \\\\\n",
       "\t 6          & 0          & 107.2850   &  969.7257  & 193        & 1          & 118.0469   & 1375.156   &  64        & 1.959964   &  0.6702168 & 20.85359   & no        \\\\\n",
       "\t 7          & 0          & 108.4868   &  526.9137  & 152        & 1          & 126.0270   & 2241.890   &  74        & 1.959964   &  6.1517410 & 28.92863   & no        \\\\\n",
       "\t 8          & 0          & 126.2535   & 1548.0205  &  71        & 1          & 143.5780   & 2798.228   & 109        & 1.959964   &  3.8199077 & 30.82901   & no        \\\\\n",
       "\\end{tabular}\n"
      ],
      "text/markdown": [
       "\n",
       "| code | brick.x | mu.x | s2.x | n.x | brick.y | mu.y | s2.y | n.y | z | left | right | is_zero |\n",
       "|---|---|---|---|---|---|---|---|---|---|---|---|---|\n",
       "| 1          | 0          | 123.0000   | 1534.8156  | 180        | 1          | 156.7391   | 3551.558   |  92        | 1.959964   | 20.2836329 | 47.19463   | no         |\n",
       "| 2          | 0          | 105.9516   |  429.3760  | 186        | 1          | 138.3103   | 2884.365   |  29        | 1.959964   | 12.5864622 | 52.13100   | no         |\n",
       "| 3          | 0          | 134.7337   | 4117.9227  | 169        | 1          | 161.2216   | 5491.636   | 176        | 1.959964   | 11.8774016 | 41.09832   | no         |\n",
       "| 4          | 0          | 135.9429   | 3604.6586  | 140        | 1          | 174.5652   | 8212.867   |  69        | 1.959964   | 15.0396179 | 62.20510   | no         |\n",
       "| 5          | 0          | 115.0276   |  745.2311  | 290        | 1          | 120.5217   | 2577.588   |  46        | 1.959964   | -9.5100457 | 20.49835   | yes        |\n",
       "| 6          | 0          | 107.2850   |  969.7257  | 193        | 1          | 118.0469   | 1375.156   |  64        | 1.959964   |  0.6702168 | 20.85359   | no         |\n",
       "| 7          | 0          | 108.4868   |  526.9137  | 152        | 1          | 126.0270   | 2241.890   |  74        | 1.959964   |  6.1517410 | 28.92863   | no         |\n",
       "| 8          | 0          | 126.2535   | 1548.0205  |  71        | 1          | 143.5780   | 2798.228   | 109        | 1.959964   |  3.8199077 | 30.82901   | no         |\n",
       "\n"
      ],
      "text/plain": [
       "  code brick.x mu.x     s2.x      n.x brick.y mu.y     s2.y     n.y z       \n",
       "1 1    0       123.0000 1534.8156 180 1       156.7391 3551.558  92 1.959964\n",
       "2 2    0       105.9516  429.3760 186 1       138.3103 2884.365  29 1.959964\n",
       "3 3    0       134.7337 4117.9227 169 1       161.2216 5491.636 176 1.959964\n",
       "4 4    0       135.9429 3604.6586 140 1       174.5652 8212.867  69 1.959964\n",
       "5 5    0       115.0276  745.2311 290 1       120.5217 2577.588  46 1.959964\n",
       "6 6    0       107.2850  969.7257 193 1       118.0469 1375.156  64 1.959964\n",
       "7 7    0       108.4868  526.9137 152 1       126.0270 2241.890  74 1.959964\n",
       "8 8    0       126.2535 1548.0205  71 1       143.5780 2798.228 109 1.959964\n",
       "  left       right    is_zero\n",
       "1 20.2836329 47.19463 no     \n",
       "2 12.5864622 52.13100 no     \n",
       "3 11.8774016 41.09832 no     \n",
       "4 15.0396179 62.20510 no     \n",
       "5 -9.5100457 20.49835 yes    \n",
       "6  0.6702168 20.85359 no     \n",
       "7  6.1517410 28.92863 no     \n",
       "8  3.8199077 30.82901 no     "
      ]
     },
     "metadata": {},
     "output_type": "display_data"
    }
   ],
   "source": [
    "df_stat "
   ]
  },
  {
   "cell_type": "code",
   "execution_count": 98,
   "metadata": {},
   "outputs": [
    {
     "data": {
      "image/png": "[encoded data removed]",
      "text/plain": [
       "plot without title"
      ]
     },
     "metadata": {},
     "output_type": "display_data"
    }
   ],
   "source": [
    "# Речь идёт про отношение дисперсий, а мы знаем что оно распределено по Фишеру!\n",
    "alpha = 0.05\n",
    "\n",
    "# Все расчёты в этой строчке!\n",
    "df_stat = df_stat %>% mutate(left_s = s2.x/s2.y*qf(alpha/2, n.x-1, n.y-1),\n",
    "                   right_s = s2.x/s2.y*qf(1 - alpha/2, n.x-1, n.y-1))\n",
    "\n",
    "# Дальше пошло строительство картинки \n",
    "# Отношение дисперсий надо сравнивать с 1 \n",
    "df_stat = df_stat %>% mutate(is_sin = ifelse(left_s < 1 & right_s > 1, \"yes\", \"no\"))  \n",
    "\n",
    "# \n",
    "ci_data = data.frame(ci_id = df_stat$code,        # по оси y будем откладывать id района\n",
    "                     is_in = df_stat$is_sin,       # раскраска для интервалов\n",
    "                     ci = c(df_stat$left_s, df_stat$right_s))  # интервалы для оси x \n",
    "\n",
    "ggplot(data = ci_data, aes(x = ci, y = ci_id, group = ci_id, color = is_in)) + \n",
    "    geom_point(size = 2) +\n",
    "    geom_line() +\n",
    "    geom_vline(xintercept = 1, color = \"darkgray\")"
   ]
  },
  {
   "cell_type": "markdown",
   "metadata": {},
   "source": [
    "__ж)__ Сделайте интересные выводы! "
   ]
  },
  {
   "cell_type": "code",
   "execution_count": null,
   "metadata": {},
   "outputs": [],
   "source": [
    "## :)"
   ]
  },
  {
   "cell_type": "markdown",
   "metadata": {},
   "source": [
    " "
   ]
  }
 ],
 "metadata": {
  "kernelspec": {
   "display_name": "R",
   "language": "R",
   "name": "ir"
  },
  "language_info": {
   "codemirror_mode": "r",
   "file_extension": ".r",
   "mimetype": "text/x-r-source",
   "name": "R",
   "pygments_lexer": "r",
   "version": "3.5.3"
  }
 },
 "nbformat": 4,
 "nbformat_minor": 2
}
