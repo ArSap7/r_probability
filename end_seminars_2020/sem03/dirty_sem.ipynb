{
 "cells": [
  {
   "cell_type": "code",
   "execution_count": null,
   "metadata": {},
   "outputs": [],
   "source": []
  },
  {
   "cell_type": "code",
   "execution_count": null,
   "metadata": {},
   "outputs": [],
   "source": []
  },
  {
   "cell_type": "code",
   "execution_count": null,
   "metadata": {},
   "outputs": [],
   "source": []
  },
  {
   "cell_type": "code",
   "execution_count": null,
   "metadata": {},
   "outputs": [],
   "source": []
  },
  {
   "cell_type": "code",
   "execution_count": null,
   "metadata": {},
   "outputs": [],
   "source": []
  },
  {
   "cell_type": "code",
   "execution_count": null,
   "metadata": {},
   "outputs": [],
   "source": []
  },
  {
   "cell_type": "code",
   "execution_count": null,
   "metadata": {},
   "outputs": [],
   "source": []
  },
  {
   "cell_type": "code",
   "execution_count": null,
   "metadata": {},
   "outputs": [],
   "source": []
  },
  {
   "cell_type": "code",
   "execution_count": null,
   "metadata": {},
   "outputs": [],
   "source": []
  },
  {
   "cell_type": "code",
   "execution_count": null,
   "metadata": {},
   "outputs": [],
   "source": []
  },
  {
   "cell_type": "code",
   "execution_count": null,
   "metadata": {},
   "outputs": [],
   "source": []
  },
  {
   "cell_type": "code",
   "execution_count": null,
   "metadata": {},
   "outputs": [],
   "source": []
  },
  {
   "cell_type": "code",
   "execution_count": null,
   "metadata": {},
   "outputs": [],
   "source": []
  },
  {
   "cell_type": "code",
   "execution_count": null,
   "metadata": {},
   "outputs": [],
   "source": []
  },
  {
   "cell_type": "code",
   "execution_count": null,
   "metadata": {},
   "outputs": [],
   "source": []
  },
  {
   "cell_type": "code",
   "execution_count": null,
   "metadata": {},
   "outputs": [],
   "source": []
  },
  {
   "cell_type": "code",
   "execution_count": null,
   "metadata": {},
   "outputs": [],
   "source": []
  },
  {
   "cell_type": "code",
   "execution_count": null,
   "metadata": {},
   "outputs": [],
   "source": []
  },
  {
   "cell_type": "markdown",
   "metadata": {},
   "source": [
    "## 1.3 Про оба свойства сразу\n",
    "\n",
    "Если оценка оказалась состоятельной, это не означает что она несмещённая. Эти два свойства независимы друг от друга и возможны самые разные их комбинации. Давайте попробуем взять случайную величину $X \\sim N(\\mu,1)$ и попробуем придумать такие оценки для параметра $\\mu$, которые будут обладать разными комбинациями из свойств. \n",
    "\n",
    "\n",
    "|  $\\hat \\mu$   |несмещённая          | смещённая             |\n",
    "|---------------|---------------------|-----------------------|\n",
    "|состоятельная  |                     |                       |\n",
    "|несостоятельная|                     |                       |\n",
    "\n",
    "* Несмещённая и состоятельная - среднее! По ЗБЧ сходится к $\\mu$ по вероятности. И с математическим ожиданием всё окей. Вы на лекциях тыщу раз считали. \n",
    "* Состоятельная и смещённая - скоректированное среднее. Это как раз оценка второго шамана. При больших $n$ поправка умирает, это обеспечивает состоятельность. При фиксированных $n$ она есть и это вносит систематическую ошибку. \n",
    "* Несостоятельная, несмещенная - любое наблюдение. Давайте какого бы объёма не оказалась наша выборка, всегда будем оценивать $\\mu$ только по первому наблюдению. Такая оценка окажется несмещённой. При этом она будет несостоятельной, так как мы при увеличении выборки никак не можем на неё повлиять. \n",
    "* Смещённая и несостоятельная - любая ересь, которая пришла вам в глову. Например $arctg(\\bar x)$. \n",
    "\n",
    "\n",
    "|  $\\hat \\mu$   |несмещённая          | смещённая             |\n",
    "|---------------|---------------------|-----------------------|\n",
    "|состоятельная  |        $\\bar x$     |   $\\bar x + ^1/_n$    |\n",
    "|несостоятельная|        $x_1$        |   $arctg(\\bar x)$     |\n",
    "\n",
    "\n",
    "Попробуем сделать то же самое с распределением $X \\sim U[0; a]$.\n",
    "\n",
    "|  $\\hat a  $   |несмещённая          | смещённая             |\n",
    "|---------------|---------------------|-----------------------|\n",
    "|состоятельная  |    $2 \\bar x$       |    $x_{max}    $      |\n",
    "|несостоятельная|     $2 x_1$         |    $x_1^{x_2} -8$     |\n"
   ]
  },
  {
   "cell_type": "code",
   "execution_count": null,
   "metadata": {},
   "outputs": [],
   "source": []
  },
  {
   "cell_type": "code",
   "execution_count": null,
   "metadata": {},
   "outputs": [],
   "source": []
  }
 ],
 "metadata": {
  "kernelspec": {
   "display_name": "R",
   "language": "R",
   "name": "ir"
  },
  "language_info": {
   "codemirror_mode": "r",
   "file_extension": ".r",
   "mimetype": "text/x-r-source",
   "name": "R",
   "pygments_lexer": "r",
   "version": "3.5.3"
  }
 },
 "nbformat": 4,
 "nbformat_minor": 2
}
