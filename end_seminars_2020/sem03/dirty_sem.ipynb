{
 "cells": [
  {
   "cell_type": "markdown",
   "metadata": {},
   "source": [
    "\n",
    "## Моя работа над самосовершенствованием \n",
    "\n",
    "- Следить за скоростью \n",
    "- При написании формул, сначала писать, потом говорить \n",
    "- Заставлять других людей что-нибудь делать \n"
   ]
  },
  {
   "cell_type": "markdown",
   "metadata": {},
   "source": [
    "# 1. История про Дядю Федора \n",
    "\n"
   ]
  },
  {
   "cell_type": "code",
   "execution_count": 4,
   "metadata": {},
   "outputs": [
    {
     "data": {
      "text/html": [
       "170"
      ],
      "text/latex": [
       "170"
      ],
      "text/markdown": [
       "170"
      ],
      "text/plain": [
       "[1] 170"
      ]
     },
     "metadata": {},
     "output_type": "display_data"
    }
   ],
   "source": [
    "# дерявня Гипотезово\n",
    "# по легендам в ней раньше жили Великаны\n",
    "\n",
    "#  генеральная совокупность: \n",
    "#     Маша  Паша  Саша  Даша\n",
    "x <- c(150, 160,  180,  190)\n",
    "mean(x)"
   ]
  },
  {
   "cell_type": "code",
   "execution_count": 5,
   "metadata": {},
   "outputs": [
    {
     "data": {
      "text/html": [
       "170"
      ],
      "text/latex": [
       "170"
      ],
      "text/markdown": [
       "170"
      ],
      "text/plain": [
       "[1] 170"
      ]
     },
     "metadata": {},
     "output_type": "display_data"
    },
    {
     "data": {
      "text/html": [
       "185"
      ],
      "text/latex": [
       "185"
      ],
      "text/markdown": [
       "185"
      ],
      "text/plain": [
       "[1] 185"
      ]
     },
     "metadata": {},
     "output_type": "display_data"
    },
    {
     "data": {
      "text/html": [
       "155"
      ],
      "text/latex": [
       "155"
      ],
      "text/markdown": [
       "155"
      ],
      "text/plain": [
       "[1] 155"
      ]
     },
     "metadata": {},
     "output_type": "display_data"
    }
   ],
   "source": [
    "# X - рост человека \n",
    "# выборки, каждый попытался оценить E(X) \n",
    "xf <- c(190, 150)\n",
    "xs <- c(180, 190)\n",
    "xm <- c(150, 160)\n",
    "\n",
    "mean(xf)\n",
    "mean(xs)\n",
    "mean(xm)"
   ]
  },
  {
   "cell_type": "markdown",
   "metadata": {},
   "source": [
    "$\\mu$ - неизвестный параметр, константа\n",
    "\n",
    "Оценка $\\hat \\mu$ - случайная величина: \n",
    "\n",
    "$$\n",
    "\\hat \\mu = \\bar x = f(x_1, \\ldots, x_n)\n",
    "$$"
   ]
  },
  {
   "cell_type": "code",
   "execution_count": null,
   "metadata": {},
   "outputs": [],
   "source": [
    "means = c( ) \n",
    "# занято --- 10 ячеек памяти  --- занято \n",
    "# занто  ---  заполнил  --- занято \n",
    "\n",
    "# найти новое место 20 ячеек свободно \n",
    "# занято --- 10 ячеек запишу старьё | свободны  --- занято \n",
    "\n",
    "# найти новое место 40 ячеек свободно \n",
    "\n",
    "# Релокации \n",
    "# Скинуть ссылку на видос "
   ]
  },
  {
   "cell_type": "code",
   "execution_count": 25,
   "metadata": {},
   "outputs": [],
   "source": [
    "# Эти пакеты для Rstudio не очень то и нужны \n",
    "# Отрегулируем размер картинок, которые будут выдаваться в нашей тетрадке\n",
    "library('repr')\n",
    "options(repr.plot.width=4, repr.plot.height=2)"
   ]
  },
  {
   "cell_type": "code",
   "execution_count": 26,
   "metadata": {},
   "outputs": [
    {
     "name": "stderr",
     "output_type": "stream",
     "text": [
      "`stat_bin()` using `bins = 30`. Pick better value with `binwidth`.\n"
     ]
    },
    {
     "data": {
      "image/png": "[encoded data removed]",
      "text/plain": [
       "plot without title"
      ]
     },
     "metadata": {},
     "output_type": "display_data"
    }
   ],
   "source": [
    "library(\"ggplot2\")\n",
    "means = c( )\n",
    "\n",
    "for(i in 1:3){\n",
    "    for (j in (i+1):4){\n",
    "        means = append(means, (x[i] + x[j])/2)\n",
    "    }\n",
    "}\n",
    "\n",
    "qplot(means)"
   ]
  },
  {
   "cell_type": "markdown",
   "metadata": {},
   "source": [
    "$$\n",
    "X_1, \\ldots, X_n \\sim iid F\n",
    "$$\n",
    "\n",
    "$$\n",
    "\\mathbb{E}(X_i) = \\mu, Var(X_i) = \\sigma^2\n",
    "$$\n",
    "\n",
    "$$\n",
    "\\hat \\mu = \\bar x \\sim N(*, *) \n",
    "$$"
   ]
  },
  {
   "cell_type": "markdown",
   "metadata": {},
   "source": [
    "$$\n",
    "\\mathbb{E}(\\hat \\mu) = \\mathbb{E}(\\bar x) = \\mathbb{E} \\left(\\frac{X_1 + \\ldots + X_n}{n} \\right) = \\frac{1}{n} (\\mathbb{E}(X_1) + \\ldots + \\mathbb{E}(X_n)) = \\frac{1}{n} \\cdot n \\cdot \\mathbb{E}(X_1)  = \\mathbb{E}(X_1) = \\mu  \n",
    "$$"
   ]
  },
  {
   "cell_type": "markdown",
   "metadata": {},
   "source": [
    "$$\n",
    "Var(\\hat \\mu) = Var(\\bar x) = Var \\left(\\frac{X_1 + \\ldots + X_n}{n} \\right) = \\frac{1}{n^2} (Var(X_1) + \\ldots + Var(X_n)) = \\frac{1}{n^2} \\cdot n \\cdot Var(X_1) = \\frac{Var(X_1)}{n} = \\frac{\\sigma^2}{n} \n",
    "$$"
   ]
  },
  {
   "cell_type": "markdown",
   "metadata": {},
   "source": [
    "$$\n",
    "\\hat \\mu = \\bar x \\sim N \\left(\\mu, \\frac{\\sigma^2}{n} \\right) \n",
    "$$\n",
    "\n",
    "$$\n",
    "P \\left( z_1 \\le  \\mu \\le z_2 \\right) = 0.95 = 1 - \\alpha \n",
    "$$"
   ]
  },
  {
   "cell_type": "code",
   "execution_count": 28,
   "metadata": {},
   "outputs": [
    {
     "data": {
      "text/html": [
       "5.0587989195362"
      ],
      "text/latex": [
       "5.0587989195362"
      ],
      "text/markdown": [
       "5.0587989195362"
      ],
      "text/plain": [
       "[1] 5.058799"
      ]
     },
     "metadata": {},
     "output_type": "display_data"
    }
   ],
   "source": [
    "qnorm(0.975, mean=5, sd=3/100)"
   ]
  },
  {
   "cell_type": "markdown",
   "metadata": {},
   "source": [
    "__Центрирование:__\n",
    "\n",
    "$$\n",
    "\\bar x  - \\mu \\sim N \\left(0, \\frac{\\sigma^2}{n} \\right) \n",
    "$$\n",
    "\n",
    "__Нормирование:__ \n",
    "\n",
    "$$\n",
    "z = \\frac{\\bar x  - \\mu}{\\frac{\\sigma}{\\sqrt{n}}} \\sim N \\left(0, 1 \\right) \n",
    "$$"
   ]
  },
  {
   "cell_type": "markdown",
   "metadata": {},
   "source": [
    "$\\alpha = 0.05$"
   ]
  },
  {
   "cell_type": "markdown",
   "metadata": {},
   "source": [
    "$$\n",
    "P \\left( -1.96 \\le \\frac{\\bar x  - \\mu}{\\frac{\\sigma}{\\sqrt{n}}} \\le 1.96 \\right) = 0.95 = 1 - \\alpha \n",
    "$$"
   ]
  },
  {
   "cell_type": "code",
   "execution_count": 27,
   "metadata": {},
   "outputs": [
    {
     "data": {
      "text/html": [
       "1.95996398454005"
      ],
      "text/latex": [
       "1.95996398454005"
      ],
      "text/markdown": [
       "1.95996398454005"
      ],
      "text/plain": [
       "[1] 1.959964"
      ]
     },
     "metadata": {},
     "output_type": "display_data"
    }
   ],
   "source": [
    "qnorm(0.975)"
   ]
  },
  {
   "cell_type": "markdown",
   "metadata": {},
   "source": [
    "$$\n",
    "\\bar x - z_{1 - \\frac{\\alpha}{2}} \\cdot \\frac{\\hat \\sigma}{\\sqrt{n}} \\le \\mu \\le \\bar x +  z_{1 - \\frac{\\alpha}{2}} \\cdot \\frac{\\hat \\sigma}{\\sqrt{n}} \n",
    "$$"
   ]
  },
  {
   "cell_type": "code",
   "execution_count": 36,
   "metadata": {},
   "outputs": [
    {
     "name": "stdout",
     "output_type": "stream",
     "text": [
      "137.1029 202.8971"
     ]
    }
   ],
   "source": [
    "# X - рост человека \n",
    "# выборки, каждый попытался оценить E(X) \n",
    "xf <- c(190, 150)\n",
    "xs <- c(180, 190)\n",
    "xm <- c(150, 160)\n",
    "\n",
    "alpha = 0.1\n",
    "n = length(xf)\n",
    "mu_hat = mean(xf)\n",
    "sd_hat = sd(xf)\n",
    "q = qnorm(1 - alpha/2)\n",
    "\n",
    "left = mu_hat - q*sd_hat/sqrt(n)\n",
    "right = mu_hat + q*sd_hat/sqrt(n)\n",
    "\n",
    "cat(left, right)"
   ]
  },
  {
   "cell_type": "code",
   "execution_count": 34,
   "metadata": {},
   "outputs": [
    {
     "data": {
      "text/html": [
       "103.033172141956"
      ],
      "text/latex": [
       "103.033172141956"
      ],
      "text/markdown": [
       "103.033172141956"
      ],
      "text/plain": [
       "[1] 103.0332"
      ]
     },
     "metadata": {},
     "output_type": "display_data"
    }
   ],
   "source": [
    "right - left"
   ]
  },
  {
   "cell_type": "markdown",
   "metadata": {},
   "source": [
    "__Проверка гипотез:__ \n",
    "\n",
    "$$\n",
    "z = \\frac{\\bar x  - \\mu}{\\frac{\\sigma}{\\sqrt{n}}} \\sim N \\left(0, 1 \\right) \n",
    "$$\n",
    "\n",
    "$$\n",
    "\\begin{aligned} \n",
    "& \\text{хммм } H_0: \\mu = 200 \\\\\n",
    "& \\text{не хммм } H_1:  \\mu \\ne 200 \\\\\n",
    "\\end{aligned}\n",
    "$$"
   ]
  },
  {
   "cell_type": "markdown",
   "metadata": {},
   "source": [
    "Если гипотеза верна: \n",
    "\n",
    "$$\n",
    "z = \\frac{\\bar x  - 200}{\\frac{\\sigma}{\\sqrt{n}}} \\sim N \\left(0, 1 \\right) \n",
    "$$"
   ]
  },
  {
   "cell_type": "markdown",
   "metadata": {},
   "source": [
    "## Упражнение\n",
    "\n",
    "Если оценка оказалась состоятельной, это не означает что она несмещённая. Эти два свойства независимы друг от друга и возможны самые разные их комбинации. Давайте попробуем взять случайную величину $X \\sim N(\\mu,1)$ и попробуем придумать такие оценки для параметра $\\mu$, которые будут обладать разными комбинациями из свойств. \n",
    "\n",
    "$$\n",
    "X_1, \\ldots, X_n \\sim iid  N(\\mu, 1)\n",
    "$$\n",
    "\n",
    "\n",
    "|  $\\hat \\mu$   |несмещённая          | смещённая             |\n",
    "|---------------|---------------------|-----------------------|\n",
    "|состоятельная  |     $\\bar x$        | $\\bar x + \\frac{1}{n}$|\n",
    "|несостоятельная|      $\\frac{X_{42} + X_1}{2}$               | $\\bar x + 5$          |\n",
    "\n",
    "\n",
    "* Несмещённая и состоятельная - среднее! По ЗБЧ сходится к $\\mu$ по вероятности. И с математическим ожиданием всё окей. Вы на лекциях тыщу раз считали. \n",
    "* Состоятельная и смещённая - скоректированное среднее. Это как раз оценка второго шамана. При больших $n$ поправка умирает, это обеспечивает состоятельность. При фиксированных $n$ она есть и это вносит систематическую ошибку. \n",
    "* Несостоятельная, несмещенная - любое наблюдение. Давайте какого бы объёма не оказалась наша выборка, всегда будем оценивать $\\mu$ только по первому наблюдению. Такая оценка окажется несмещённой. При этом она будет несостоятельной, так как мы при увеличении выборки никак не можем на неё повлиять. \n",
    "* Смещённая и несостоятельная - любая ересь, которая пришла вам в глову. Например $arctg(\\bar x)$. \n",
    "\n"
   ]
  },
  {
   "cell_type": "markdown",
   "metadata": {},
   "source": [
    "$$\n",
    "X_1, \\ldots, X_n \\sim iid  U(0, a)\n",
    "$$\n",
    "\n",
    "\n",
    "|  $\\hat a$   |несмещённая          | смещённая             |\n",
    "|---------------|---------------------|-----------------------|\n",
    "|состоятельная  |   $2 \\cdot \\bar x$          |  $2 \\cdot \\bar x + \\frac{1}{n}, x_{max}$ |\n",
    "|несостоятельная|     $2 \\cdot X_5$               |  $\\bar x$, $\\cos(\\bar x)^{\\ln x_2}$       |\n",
    "\n",
    "\n",
    "$$\n",
    "\\mathbb{E}(X_1) = \\frac{a}{2}\n",
    "$$"
   ]
  },
  {
   "cell_type": "markdown",
   "metadata": {},
   "source": [
    "$$\n",
    "\\begin{aligned}\n",
    "& \\mathbb{E}(\\bar x) =  \\frac{a}{2} \\\\\n",
    "& \\bar x \\to \\mathbb{E}(X_1) = \\frac{a}{2}\n",
    "& 2 \\cdot \\bar x \\to a \\\\ \n",
    "& p\\lim_{n \\to \\infty} 2 \\cdot \\bar x = a \\\\\n",
    "\\end{aligned}\n",
    "$$"
   ]
  },
  {
   "cell_type": "markdown",
   "metadata": {},
   "source": [
    " "
   ]
  }
 ],
 "metadata": {
  "kernelspec": {
   "display_name": "R",
   "language": "R",
   "name": "ir"
  },
  "language_info": {
   "codemirror_mode": "r",
   "file_extension": ".r",
   "mimetype": "text/x-r-source",
   "name": "R",
   "pygments_lexer": "r",
   "version": "3.5.3"
  }
 },
 "nbformat": 4,
 "nbformat_minor": 2
}
