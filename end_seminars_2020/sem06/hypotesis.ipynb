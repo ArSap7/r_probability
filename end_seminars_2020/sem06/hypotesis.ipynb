{
 "cells": [
  {
   "cell_type": "markdown",
   "metadata": {
    "slideshow": {
     "slide_type": "slide"
    }
   },
   "source": [
    "# <center>\n",
    "<img src=\"https://raw.githubusercontent.com/FUlyankin/r_probability/master/end_seminars_2019/sem_6/student_teacher_dist.png\" height=\"300\" width=\"700\"> \n",
    "</center>\n",
    "\n",
    "# <center> R для тервера и матстата. <br>  <br>  Проверка гипотез. Доля, Среднее, Дисперсия. </center>\n"
   ]
  },
  {
   "cell_type": "markdown",
   "metadata": {
    "slideshow": {
     "slide_type": "skip"
    }
   },
   "source": [
    "\n",
    "\n",
    "Данный ноутбук является конспектом по курсу «R для теории вероятностей и математической статистики» (РАНХиГС, 2020). Автор ноутбука - [вот этот парень по имени Филипп.](https://vk.com/ppilif) Если у вас для него есть деньги, слава или женщины, он от этого всего не откажется. Ноутбук распространяется на условиях лицензии [Creative Commons Attribution-Share Alike 4.0.](https://creativecommons.org/licenses/by-sa/4.0/) При использовании обязательно упоминание автора курса и аффилиации. При наличии технической возможности необходимо также указать активную гиперссылку на [страницу курса.](https://github.com/FUlyankin/r_probability) На ней можно найти другие материалы. Фрагменты кода, включенные в этот notebook, публикуются как [общественное достояние.](https://creativecommons.org/publicdomain/zero/1.0/)\n",
    "\n",
    "-----------\n",
    "\n",
    "Ура! Мы добрались до самого главного. До проверки гипотез. Аналитики в разных компаниях проверяют их на ежедневной основе. Давайте попробуем разобраться зачем. Для начала немного кода для красивых картинок в ggplot2. Как обычно, вы не обязаны понимать этот код. Он тут нужен для красоты. "
   ]
  },
  {
   "cell_type": "markdown",
   "metadata": {
    "slideshow": {
     "slide_type": "slide"
    }
   },
   "source": [
    "## Agenda \n",
    "\n",
    "- Как проверять гипотезы\n",
    "\n",
    "- Точные и асимптотические критерии\n",
    "\n",
    "- Гипотезы о долях  \n",
    "\n",
    "- Гипотезы о средних\n",
    "\n",
    "- Гипотезы о дисперсиях"
   ]
  },
  {
   "cell_type": "code",
   "execution_count": 1,
   "metadata": {
    "slideshow": {
     "slide_type": "skip"
    }
   },
   "outputs": [],
   "source": [
    "library(\"ggplot2\")  # Пакет для красивых графиков \n",
    "#library(\"grid\")     # Пакет для субплотов\n",
    "\n",
    "# Отрегулируем размер картинок, которые будут выдаваться в нашей тетрадке\n",
    "#library('repr')\n",
    "#options(repr.plot.width=4, repr.plot.height=3)"
   ]
  },
  {
   "cell_type": "code",
   "execution_count": 2,
   "metadata": {
    "slideshow": {
     "slide_type": "skip"
    }
   },
   "outputs": [],
   "source": [
    "# В этом блоке написаны несколько функций, которые рисуют красивые картинки для проверки гипотез.\n",
    "# Можно не обращать на них внимание :) \n",
    "\n",
    "# Область, которую надо будет закрасить на графике \n",
    "limitRange <- function(fun, min, max) {\n",
    "    function(x) {\n",
    "        y <- fun(x)\n",
    "        y[x < min  |  x > max] <- NA\n",
    "        return(y)\n",
    "    }\n",
    "}\n",
    "\n",
    "z_stat_picture <- function(z_stat, alpha =0.05, alternative = 'two-sided'){\n",
    "    # Опции для размеров графика\n",
    "    options(repr.plot.width=6, repr.plot.height=3)\n",
    "    \n",
    "    # Какие области надо закрасить (зависит от алтиернативы)\n",
    "    if(alternative == 'two-sided'){\n",
    "        z_crit <- qnorm(1-(alpha/2))\n",
    "        dlimit_left  <- limitRange(dnorm, -Inf, -z_crit) \n",
    "        dlimit_right <- limitRange(dnorm, z_crit, Inf) \n",
    "        }\n",
    "    if(alternative == 'less'){\n",
    "        z_crit <- qnorm(alpha)\n",
    "        dlimit_left  <- limitRange(dnorm, -Inf, z_crit)\n",
    "        dlimit_right <- limitRange(dnorm, Inf, Inf)        \n",
    "    }\n",
    "    if(alternative == 'greater'){\n",
    "        z_crit <- qnorm(1 - alpha)\n",
    "        dlimit_left  <- limitRange(dnorm, -Inf, -Inf)\n",
    "        dlimit_right <- limitRange(dnorm, z_crit, Inf)\n",
    "        }        \n",
    "      \n",
    "    # Основная картинка\n",
    "    p <- ggplot(data.frame(x=c(-4,4)), aes(x = x))+\n",
    "       stat_function(fun=dnorm) +  # вся функция \n",
    "       stat_function(fun=dlimit_left, geom=\"area\",  fill=\"blue\", alpha=0.2) +\n",
    "       stat_function(fun=dlimit_right, geom=\"area\", fill=\"blue\", alpha=0.2) +\n",
    "       geom_point(aes(x=z_stat,y=0), color=\"red\", size=2) +\n",
    "       geom_vline(xintercept = z_stat, size=0.3, linetype=\"dashed\", color=\"red\") +\n",
    "       annotate(\"text\", label=round(z_stat,2), x= z_stat, y=0.2, parse=T, size=6, color=\"darkred\")\n",
    "    \n",
    "    # Рисуем критические точки \n",
    "    if(alternative == 'two-sided'){\n",
    "       p <- p + annotate(\"text\", label=round(z_crit,2), x=z_crit+0.1, y=-0.02, parse=T, size=6) + \n",
    "                annotate(\"text\", label=round(-z_crit,2), x=-z_crit-0.1, y=-0.02, parse=T, size=6)\n",
    "        }\n",
    "    if(alternative == 'less'){\n",
    "       p <- p + annotate(\"text\", label=round(z_crit,2), x=z_crit-0.1, y=-0.02, parse=T, size=6)\n",
    "        }\n",
    "    if(alternative == 'greater'){\n",
    "       p <- p + annotate(\"text\", label=round(z_crit,2), x=z_crit+0.1, y=-0.02, parse=T, size=6)\n",
    "        }      \n",
    "    \n",
    "    # Немного заключительных настроек, связанных с темой и вывод на экран \n",
    "    p <- p + theme(\n",
    "             axis.text.x = element_blank(),\n",
    "             axis.text.y = element_blank(),\n",
    "             axis.ticks = element_blank(),\n",
    "             axis.title.x = element_blank(),\n",
    "             axis.title.y = element_blank()\n",
    "            )\n",
    "    \n",
    "    return(p)\n",
    "}"
   ]
  },
  {
   "cell_type": "code",
   "execution_count": 3,
   "metadata": {
    "slideshow": {
     "slide_type": "skip"
    }
   },
   "outputs": [],
   "source": [
    "# Точно такой же рисунок для t-статистики\n",
    "t_stat_picture <- function(t_stat, n, alpha =0.05, alternative = 'two-sided'){\n",
    "    # Опции для размеров графика\n",
    "    options(repr.plot.width=6, repr.plot.height=3)\n",
    "    \n",
    "    # Какие области надо закрасить (зависит от алтиернативы)\n",
    "    if(alternative == 'two-sided'){\n",
    "        t_crit <- qt(1-(alpha/2),df=n)\n",
    "        dlimit_left  <- limitRange(function(x) dt(x, df=n), -Inf, -t_crit) \n",
    "        dlimit_right <- limitRange(function(x) dt(x, df=n), t_crit, Inf) \n",
    "        }\n",
    "    if(alternative == 'less'){\n",
    "        t_crit <- qt(alpha,df=n)\n",
    "        dlimit_left  <- limitRange(function(x) dt(x, df=n), -Inf, t_crit)\n",
    "        dlimit_right <- limitRange(function(x) dt(x, df=n), Inf, Inf)        \n",
    "    }\n",
    "    if(alternative == 'greater'){\n",
    "        t_crit <- qt(1 - alpha,df=n)\n",
    "        dlimit_left  <- limitRange(function(x) dt(x, df=n), -Inf, -Inf)\n",
    "        dlimit_right <- limitRange(function(x) dt(x, df=n), t_crit, Inf)\n",
    "        }        \n",
    "      \n",
    "    # Основная картинка\n",
    "    p <- ggplot(data.frame(x=c(-4, 4)), aes(x = x))+\n",
    "       stat_function(fun=dt, args = list(df=n)) +  # вся функция \n",
    "       stat_function(fun=dlimit_left, geom=\"area\",  fill=\"blue\", alpha=0.2) +\n",
    "       stat_function(fun=dlimit_right, geom=\"area\", fill=\"blue\", alpha=0.2) +\n",
    "       geom_point(aes(x=t_stat,y=0), color=\"red\", size=2) +\n",
    "       geom_vline(xintercept = t_stat, size=0.3, linetype=\"dashed\", color=\"red\") +\n",
    "       annotate(\"text\", label=round(t_stat,2), x= t_stat, y=0.2, parse=T, size=4, color=\"darkred\")\n",
    "    \n",
    "    # Рисуем критические точки \n",
    "    if(alternative == 'two-sided'){\n",
    "       p <- p + annotate(\"text\", label=round(t_crit,2), x=t_crit+0.1, y=-0.02, parse=T, size=4) + \n",
    "                annotate(\"text\", label=round(-t_crit,2), x=-t_crit-0.1, y=-0.02, parse=T, size=4)\n",
    "        }\n",
    "    if(alternative == 'less'){\n",
    "       p <- p + annotate(\"text\", label=round(t_crit,2), x=t_crit-0.1, y=-0.02, parse=T, size=4)\n",
    "        }\n",
    "    if(alternative == 'greater'){\n",
    "       p <- p + annotate(\"text\", label=round(t_crit,2), x=t_crit+0.1, y=-0.02, parse=T, size=4)\n",
    "        }      \n",
    "    \n",
    "    # Немного заключительных настроек, связанных с темой и вывод на экран \n",
    "    p <- p + theme(\n",
    "             axis.text.x = element_blank(),\n",
    "             axis.text.y = element_blank(),\n",
    "             axis.ticks = element_blank(),\n",
    "             axis.title.x = element_blank(),\n",
    "             axis.title.y = element_blank()\n",
    "            )\n",
    "    \n",
    "    return(p)\n",
    "}"
   ]
  },
  {
   "cell_type": "code",
   "execution_count": 4,
   "metadata": {},
   "outputs": [],
   "source": [
    "# Точно такой же рисунок для хи-квадрат\n",
    "chi_stat_picture <- function(chi_stat, n, alpha =0.05, alternative = 'two-sided'){\n",
    "    # Опции для размеров графика\n",
    "    options(repr.plot.width=6, repr.plot.height=3)\n",
    "    \n",
    "    # Какие области надо закрасить (зависит от алтиернативы)\n",
    "    if(alternative == 'two-sided'){\n",
    "        chi_crit1 <- qchisq(1-(alpha/2), df=n)\n",
    "        chi_crit2 <- qchisq(alpha/2, df=n)\n",
    "        dlimit_left  <- limitRange(function(x) dchisq(x, df=n), 0, chi_crit2) \n",
    "        dlimit_right <- limitRange(function(x) dchisq(x, df=n), chi_crit1, Inf) \n",
    "        }\n",
    "    if(alternative == 'less'){\n",
    "        chi_crit2 <- qchisq(alpha,df=n)\n",
    "        dlimit_left  <- limitRange(function(x) dchisq(x, df=n), 0, chi_crit2)\n",
    "        dlimit_right <- limitRange(function(x) dchisq(x, df=n), Inf, Inf)        \n",
    "    }\n",
    "    if(alternative == 'greater'){\n",
    "        chi_crit1 <- qchisq(1 - alpha,df=n)\n",
    "        dlimit_left  <- limitRange(function(x) dchisq(x, df=n), 0, 0)\n",
    "        dlimit_right <- limitRange(function(x) dchisq(x, df=n), chi_crit1, Inf)\n",
    "        }        \n",
    "      \n",
    "    # Основная картинка\n",
    "    p <- ggplot(data.frame(x=c(0, qchisq(1-(alpha/2), df=n) + 10)), aes(x = x))+\n",
    "       stat_function(fun=dchisq, args = list(df=n)) +  # вся функция \n",
    "       stat_function(fun=dlimit_left, geom=\"area\",  fill=\"blue\", alpha=0.2) +\n",
    "       stat_function(fun=dlimit_right, geom=\"area\", fill=\"blue\", alpha=0.2) +\n",
    "       geom_point(aes(x=chi_stat,y=0), color=\"red\", size=2) +\n",
    "       geom_vline(xintercept = chi_stat, size=0.3, linetype=\"dashed\", color=\"red\") +\n",
    "       annotate(\"text\", label=round(chi_stat,2), x= chi_stat, y=0.2, parse=T, size=4, color=\"darkred\")\n",
    "    \n",
    "    # Рисуем критические точки \n",
    "    if(alternative == 'two-sided'){\n",
    "       p <- p + annotate(\"text\", label=round(chi_crit1,2), x=chi_crit1+0.1, y=-0.02, parse=T, size=4) + \n",
    "                annotate(\"text\", label=round(chi_crit2,2), x=chi_crit2-0.1, y=-0.02, parse=T, size=4)\n",
    "        }\n",
    "    if(alternative == 'less'){\n",
    "       p <- p + annotate(\"text\", label=round(chi_crit2,2), x=chi_crit2-0.1, y=-0.02, parse=T, size=4)\n",
    "        }\n",
    "    if(alternative == 'greater'){\n",
    "       p <- p + annotate(\"text\", label=round(chi_crit1,2), x=chi_crit1+0.1, y=-0.02, parse=T, size=4)\n",
    "        }      \n",
    "    \n",
    "    # Немного заключительных настроек, связанных с темой и вывод на экран \n",
    "    p <- p + theme(\n",
    "             axis.text.x = element_blank(),\n",
    "             axis.text.y = element_blank(),\n",
    "             axis.ticks = element_blank(),\n",
    "             axis.title.x = element_blank(),\n",
    "             axis.title.y = element_blank()\n",
    "            )\n",
    "    \n",
    "    return(p)\n",
    "}"
   ]
  },
  {
   "cell_type": "markdown",
   "metadata": {
    "slideshow": {
     "slide_type": "slide"
    }
   },
   "source": [
    "# 1. Что такое гипотезы и зачем их проверять "
   ]
  },
  {
   "cell_type": "markdown",
   "metadata": {
    "slideshow": {
     "slide_type": "skip"
    }
   },
   "source": [
    "На самом деле мы можем сказать, что статистическая гипотеза это абсолютно любое утверждение, которое возникает в нашей голове, если его можно проверить с помощью данных."
   ]
  },
  {
   "cell_type": "markdown",
   "metadata": {
    "slideshow": {
     "slide_type": "slide"
    }
   },
   "source": [
    "#### Примеры гипотез: \n",
    "\n",
    "* В Австралии женщин дискриминируют на рынке труда!\n",
    "\n",
    "* В Питере люди любят кофе больше, чем в москве!\n",
    "\n",
    "* Посетители постоянно покупают в паре пиво и подгузники. Мы могли бы использовать это, чтобы увеличить прибыль. \n",
    "\n",
    "* Осьминог Пауль - настоящий прорицатель! Его предсказания всегда сбываются!\n",
    "\n",
    "* Доходности по акциям Яндекса имеют нормальное распределение! "
   ]
  },
  {
   "cell_type": "markdown",
   "metadata": {
    "slideshow": {
     "slide_type": "skip"
    }
   },
   "source": [
    "\n",
    "Каждое из этих утверждений может быть проверено на данных. Сразу же стоит сказать важную вещь. __Гипотезы нельзя принмать!__ Если кто-то при вас сказал, что он принял гипотезу, нужно срочно ударить этого человека по губам. Предположим, что мы собрали данные, связанные с предсказаниями Пауля. Предположим, что данные не противоречат тому, что Пауль действительно видит будущее. Означает ли это, что Пауль - провидец? \n",
    "\n",
    "Вовсе нет, это означает, что текущие данные не противоречат этому. Возможно, если мы ещё понаблюдаем за предсказаниями Пауля, гипотеза о том, что он провидец, отвергнется. Если данные не противоречат нашему утверждению, это не является доказательством его верности. В матемтике да это всегда да, а нет это хотя бы один раз нет. Возможно, наше нет ещё не наступило. Именно поэтому гипотезы нельзя принимать, но можно не отвергать. __Ещё раз, ещё раз__ если кто-то говорит, что принял гипотезу, нужно уведомить его, что он её вовсе не принял, а не отверг. Не стесняйтесь делать это. "
   ]
  },
  {
   "cell_type": "markdown",
   "metadata": {
    "slideshow": {
     "slide_type": "slide"
    }
   },
   "source": [
    "### Что делать с гипотезами\n",
    "\n",
    "- Можно собирать данные и смотреть не противоречат ли им гипотезы\n",
    "\n",
    "- Это не очень достоверно, надо быть готовым к ошибкам\n",
    "\n",
    "- Гипотезы нельзя принмать, их не отвергают \n"
   ]
  },
  {
   "cell_type": "markdown",
   "metadata": {
    "slideshow": {
     "slide_type": "slide"
    }
   },
   "source": [
    "<center>\n",
    "<img src=\"bond.jpg\" width=\"450\"> \n",
    "</center>\n"
   ]
  },
  {
   "cell_type": "markdown",
   "metadata": {
    "slideshow": {
     "slide_type": "skip"
    }
   },
   "source": [
    "Давайте посмотрим на конкретный пример. Джеймс Бонд утверждает, что он предпочитает пить мартини взболтанным, но не смешанным. Чтобы проверить это на практике, можно предложить ему пройти так называемый blind test, или слепое тестирование. Можно было бы завязать ему глаза, несколько раз предложить на выбор взболтанный и смешанный мартини, а после этого спросить какой напиток он предпочитает В данном случае если бы Джеймс Бонд выбрал взболтанный напиток, это считалось бы успехом, потому что его выбор соответствовал бы его утверждению. В противном случае считалось бы, что произошла неудача. "
   ]
  },
  {
   "cell_type": "markdown",
   "metadata": {
    "slideshow": {
     "slide_type": "slide"
    }
   },
   "source": [
    "### Эксперимент \n",
    "\n",
    "- Завязываем агенту глаза, предлагаем взболтанный и смешанный мартини\n",
    "\n",
    "- Если больше понравился взболтанный $X_i = 1$\n",
    "\n",
    "<center>\n",
    "<img src=\"blackbond.jpg\" width=\"450\"> \n",
    "</center>"
   ]
  },
  {
   "cell_type": "markdown",
   "metadata": {
    "slideshow": {
     "slide_type": "skip"
    }
   },
   "source": [
    "Сформулируем нашу первую гипотезу. Обычно, гипотезу, выдвинутую для проверки называют __нулевой или основной.__ \n",
    "\n",
    "$$H_0: \\quad \\text{ Джеймс Бонд не различает два вида напитков и выбирает наугад.}$$ \n",
    "\n",
    "На языке математики это утверждение можно сформулировать с посощью Бернулиевской случайной величины. Как мы помним, у неё есть единтвенный параметр $p$, вероятность успеха. Если Джеймс Бонд не различает два напитка и берёт их наугад, то $p = 0.5$. Если нет, то он должен выбирать правильный напиток чаще неправильного и $p > 0.5$. Нулевая гипотеза ровно так и будет выглядеть:\n",
    "\n",
    "$$\n",
    "H_0: \\quad p = \\frac{1}{2}\n",
    "$$\n",
    "\n",
    "Эту гипотезу мы должны проверять против какой-то альтернативы. Альтернатива может быть разной. С одной стороны, мы можем рассмотреть двустороннюю альтернативу, состояшую в том, что агент Бонд различает два напитка между собой\n",
    "\n",
    "$$\n",
    "H_1: \\quad p \\ne \\frac{1}{2}.\n",
    "$$\n",
    "\n",
    "С другой, мы могли бы рассмотреть одну из односторонних альтернатив. Например, что Бонд предпочитает именно вболтанный Мартини\n",
    "\n",
    "$$\n",
    "H_1: \\quad p > \\frac{1}{2}.\n",
    "$$"
   ]
  },
  {
   "cell_type": "markdown",
   "metadata": {
    "slideshow": {
     "slide_type": "slide"
    }
   },
   "source": [
    "### Формализация гипотезы \n",
    "\n",
    "$$\n",
    "\\begin{aligned}\n",
    "H_0: & \\quad \\text{Джеймс бонд не различает напитки} \\\\\n",
    "H_1: & \\quad \\text{Бонд различает напитки}\n",
    "\\end{aligned}\n",
    "$$ \n",
    "\n",
    "<br/>\n",
    "\n",
    "Выбока: $X_1, \\ldots, X_n$. Если Бонд не различает два напитка, он берёт их наугад. Сформулируем это в терминах $X \\sim Bern(p)$.\n",
    "\n",
    "$$\n",
    "\\begin{aligned}\n",
    "H_0: & \\quad p = 0.5 \\\\\n",
    "H_1: & \\quad p \\ne 0.5\n",
    "\\end{aligned}\n",
    "$$ "
   ]
  },
  {
   "cell_type": "markdown",
   "metadata": {
    "slideshow": {
     "slide_type": "skip"
    }
   },
   "source": [
    "Эксперимент с завязанными глазами нужно провести $n$ раз. В итоге у нас в руках окажется выборка, по которой мы сможем найти $\\hat p$. Предположим, что на основе 10 испытаний мы получили, что $\\hat p = \\frac{6}{10}$. Означает ли это, что Бонд отвечает за свои слова?  Возникает соблазн сказать, что да, так как число получилось больше $\\frac{1}{2}$, и это ошибочный соблазн. Давайте вспомним немаловажный факт: наша оценка $\\hat p$ это функция от выборки. При других наблюдениях мы могли бы получить другую оценку. Хочется понять насколько сильно эта оценка отличается от нашей."
   ]
  },
  {
   "cell_type": "markdown",
   "metadata": {
    "slideshow": {
     "slide_type": "slide"
    }
   },
   "source": [
    "### Формализация гипотезы\n",
    "\n",
    "- Пусть $10$ экспериментов показали, что $\\hat{p}=0.6$\n",
    "\n",
    "- Джеймс Бонд различает? \n",
    "\n",
    "- ~~Да! Число 0.6 больше, чем 0.5!~~"
   ]
  },
  {
   "cell_type": "markdown",
   "metadata": {
    "slideshow": {
     "slide_type": "fragment"
    }
   },
   "source": [
    "- <span style=\"color:red\"> $\\hat{p}$ - случайная величина, если продолжим собирать выборку, может измениться  </span>\n",
    "- Хотим узнать при текущем объёме выборки насколько $\\hat{p}$ близко к $0.5$"
   ]
  },
  {
   "cell_type": "markdown",
   "metadata": {
    "slideshow": {
     "slide_type": "skip"
    }
   },
   "source": [
    "__Секундочку...__ Мы же уже умеем отвечать на этот вопрос. За точность оценки отвечает доверительный интервал. Мы помним, что "
   ]
  },
  {
   "cell_type": "markdown",
   "metadata": {
    "slideshow": {
     "slide_type": "slide"
    }
   },
   "source": [
    "$$\\hat p \\overset{asy}{\\sim} N \\left(p, \\frac{p(1-p)}{n} \\right)$$"
   ]
  },
  {
   "cell_type": "markdown",
   "metadata": {
    "slideshow": {
     "slide_type": "skip"
    }
   },
   "source": [
    "Исходя отсюда мы можем построить доверительный интервал и всё станет понятнее. Для нашей ситуации получим: "
   ]
  },
  {
   "cell_type": "markdown",
   "metadata": {
    "slideshow": {
     "slide_type": "fragment"
    }
   },
   "source": [
    "$$\n",
    "P\\left(\\hat{p} - 1.96 \\cdot \\sqrt{\\frac{\\hat{p} \\cdot (1 - \\hat{p})}{n}} \\le p \\le \\hat{p} + 1.96 \\cdot \\sqrt{\\frac{\\hat{p} \\cdot (1 - \\hat{p})}{n}} \\right) = 0.95\n",
    "$$"
   ]
  },
  {
   "cell_type": "code",
   "execution_count": 5,
   "metadata": {
    "slideshow": {
     "slide_type": "slide"
    }
   },
   "outputs": [
    {
     "name": "stdout",
     "output_type": "stream",
     "text": [
      "Параметр p с вероятностью 95% лежит между 0.2963637 и 0.9036363 \n",
      "Ширина интервала: 0.6072726"
     ]
    }
   ],
   "source": [
    "p_hat = 0.6\n",
    "n = 10\n",
    "\n",
    "sd_p = sqrt(p_hat*(1-p_hat)/n)\n",
    "p_left  = p_hat - qnorm(1-0.05/2)*sd_p\n",
    "p_right = p_hat + qnorm(1-0.05/2)*sd_p\n",
    "cat('Параметр p с вероятностью 95% лежит между',p_left, 'и', p_right, '\\n')\n",
    "cat('Ширина интервала:', p_right - p_left)"
   ]
  },
  {
   "cell_type": "markdown",
   "metadata": {
    "slideshow": {
     "slide_type": "skip"
    }
   },
   "source": [
    "Диапозон вышел довольно широким. Более того, в него попадает $0.5$. Получается, что Джеймс вполне может врать.  \n",
    "\n",
    "Итак, для разных выборок, наша оценка способностей Бонда различать напитки, может оказаться разной. Если расстояние от оценки до предполагаемого значения, $\\hat p - 0.5$, окажется довольно маленьким, судя по всему, Бонд не может распознавать напитки. Выбор между ними происходит абсолютно случайно.\n",
    "\n",
    "Осталось только формализовать, когда расстояние от нашей оценки $\\hat p$ до $0.5$ маленькое. Так как наша оценка - случайная величина, то и расстояние до $0.5$ будет слачейной величиной. "
   ]
  },
  {
   "cell_type": "markdown",
   "metadata": {
    "slideshow": {
     "slide_type": "slide"
    }
   },
   "source": [
    "Мы знаем, что \n",
    "\n",
    "$$\n",
    "\\hat p \\overset{asy}{\\sim} N \\left(p, \\frac{p(1-p)}{n} \\right)\n",
    "$$\n"
   ]
  },
  {
   "cell_type": "markdown",
   "metadata": {
    "slideshow": {
     "slide_type": "fragment"
    }
   },
   "source": [
    "Если нулевая гипотеза верна, тогда истиное значение $p$ будет равно $0.5$ и \n",
    "\n",
    "$$\n",
    "\\hat p \\overset{asy}{\\sim} N \\left(0.5, \\frac{0.5(1-0.5)}{10} \\right)\n",
    "$$"
   ]
  },
  {
   "cell_type": "markdown",
   "metadata": {
    "slideshow": {
     "slide_type": "slide"
    }
   },
   "source": [
    "Расстояние до $0.5$ будет распределено с нулевым математическим ожиданием \n",
    "\n",
    "$$\n",
    "\\hat p - 0.5 \\overset{asy}{\\sim} N \\left(0, \\frac{0.5(1-0.5)}{10} \\right)\n",
    "$$"
   ]
  },
  {
   "cell_type": "markdown",
   "metadata": {
    "slideshow": {
     "slide_type": "fragment"
    }
   },
   "source": [
    "Поделим всё это для удобства на стандартное отклонение и получим __статистику__ для проверки гипотезы\n",
    "\n",
    "$$\n",
    "\\frac{\\hat p - 0.5}{\\sqrt{\\frac{0.5(1-0.5)}{10}}} \\overset{asy}{\\sim} N (0,1).\n",
    "$$"
   ]
  },
  {
   "cell_type": "markdown",
   "metadata": {
    "slideshow": {
     "slide_type": "slide"
    }
   },
   "source": [
    "### Мера близости \n",
    "\n",
    "- Мы выяснили как распределно \"расстояние\" до значения $0.5$ при верности нулевой гипотезы \n",
    "\n",
    "- Осталось выбрать порог, при котором мы будем считать, что $H_0$ верна \n",
    "\n",
    "- Если альтернатива двусторонняя, очень большие и очень маленькие значения статистики говорят против нашей гипотезы "
   ]
  },
  {
   "cell_type": "markdown",
   "metadata": {
    "slideshow": {
     "slide_type": "skip"
    }
   },
   "source": [
    "На основе этой статистики мы можем судить о том, насколько вероятно было получить по выборке $\\hat p$, если в реальности природа задумала $0.5$. При справедливости альтернативы более вероятны большие значения статистики. Дело осталось за малым - выбрать порог, с которого начинаются такие значения. \n",
    "\n",
    "При проверке гипотезы мы можем ошибиться и отвергунть $H_0$, когда она была верна. Хотелось бы, чтобы количество таких ошибок было заранее зафиксировано. Будем перед проверкой гипотезы объявлять желаемое число таких ошибок - уровень значимости, $\\alpha$. \n",
    "\n",
    "Напомню, что если мы упаковываем $100$ парашютов на $5\\%$ уровне значимости, значит $5$ человек умрут. Если мы зафиксировали для запаковки такой уровень значимости, значит мы готовы смириться с этими смертями. \n",
    "\n",
    "Если альтернатива двусторонняя, то не хотелось бы получить очень маленькие значения статистики или, наоборот, очень большие её значения. Будем считать, что если наблюдаемое значение статистики, $z$ попало в $1-\\alpha$ процентный доверительный интервал, то всё окей и данные не противоречат нулевой гипотизе. "
   ]
  },
  {
   "cell_type": "markdown",
   "metadata": {
    "slideshow": {
     "slide_type": "slide"
    }
   },
   "source": [
    "### Уровень значимости \n",
    "\n",
    "- Если мы отвергаем $H_0$, когда она верна - мы ошибаемся \n",
    "\n",
    "- Фиксируем число ошибок, $\\alpha$ - уровень значимости (обычно берут 1% 5% или 10%)\n",
    "\n",
    "- Если мы упаковываем $100$ парашютов на уровне значимости $5\\%$, то пять парашютистов умрут, и мы готовы с этим смириться \n",
    "\n",
    "- Если статистика попала в $1-\\alpha$% доверительный интервал, то данные не противоречат гипотезе \n"
   ]
  },
  {
   "cell_type": "markdown",
   "metadata": {
    "slideshow": {
     "slide_type": "skip"
    }
   },
   "source": [
    "Посмотрим на то как это выглядит на картинке. Мы зафиксировали $5\\%$ уровень значимости. После посчитали наблюдаемое значение статистики. Оно оказалось равно $0.65$. Критические значения статистики равны $\\pm 1.96$. Мы можем найти их исходя из нормального распределения, также как мы делали это для доверительных интервалов. За ними начинается критическая область. Если наблюдаемое значение попадает в эту область, то мы считаем расстояние между $\\hat p$ и $0.5$ слишком большим. "
   ]
  },
  {
   "cell_type": "code",
   "execution_count": 7,
   "metadata": {
    "slideshow": {
     "slide_type": "slide"
    }
   },
   "outputs": [
    {
     "data": {
      "image/png": "[encoded data removed]",
      "text/plain": [
       "plot without title"
      ]
     },
     "metadata": {},
     "output_type": "display_data"
    }
   ],
   "source": [
    "p_hat = 0.6\n",
    "n = 10\n",
    "\n",
    "sd_p = sqrt(p_hat*(1-p_hat)/n)\n",
    "\n",
    "z_stat = (p_hat - 0.5)/sd_p   # считаем наблюдаемую статистику\n",
    "z_stat_picture(z_stat, alpha = 0.05, alternative = 'two-sided')"
   ]
  },
  {
   "cell_type": "markdown",
   "metadata": {
    "slideshow": {
     "slide_type": "skip"
    }
   },
   "source": [
    "Для нашей сиуации гипотеза о том, что Бонд не различает между собой напитки, не отвергается. Можно выбрать одностороннюю альтернативу\n",
    "\n",
    "$$\n",
    "H_1: \\quad p > \\frac{1}{2}.\n",
    "$$\n",
    "\n",
    "В таком случае против нулевой гипотезы будут свидетельствовать только большие значения статистики и мы все $\\alpha\\%$ критиической области должны перекинуть направо. Гипотеза о рандомности выбора Бонда снова не отвергается. "
   ]
  },
  {
   "cell_type": "code",
   "execution_count": 8,
   "metadata": {
    "slideshow": {
     "slide_type": "slide"
    }
   },
   "outputs": [
    {
     "data": {
      "image/png": "[encoded data removed]",
      "text/plain": [
       "plot without title"
      ]
     },
     "metadata": {},
     "output_type": "display_data"
    }
   ],
   "source": [
    "z_stat_picture(z_stat, alpha = 0.05, alternative = 'greater')"
   ]
  },
  {
   "cell_type": "markdown",
   "metadata": {
    "slideshow": {
     "slide_type": "skip"
    }
   },
   "source": [
    "### Пояснения для картинок: \n",
    "\n",
    "- Голубая область - критическая область, при попадании статистики в неё - гипотеза отвергается, \"расстояние\" оказывается большим\n",
    "\n",
    "- В нашем случае наблюдаемое значение статистики попало в доверительную область \n",
    "\n",
    "- Гипотеза о том, что Бонд не различает между собой напитки, не отвергается для обеих альтернатив \n"
   ]
  },
  {
   "cell_type": "markdown",
   "metadata": {
    "slideshow": {
     "slide_type": "skip"
    }
   },
   "source": [
    "Подведём итоги. Проверка гипотез заключается в понимании того, какая из двух альтернатив наиболее вероятно при имеющихся данных. Она осуществляется с помощью специально подобранных случайных величин, статистик. Статистики подбираются так, чтобы их распределение, при справделивости нулевой гипотезы, было известно. По сути, каждый критерий для проверки гипотезы это полноценная теорема со своими предпосылками, которые могут нарушаться.   Алгоритм проверки гипотез выглядит следующим образом: \n"
   ]
  },
  {
   "cell_type": "markdown",
   "metadata": {
    "slideshow": {
     "slide_type": "slide"
    }
   },
   "source": [
    "### Алгоритм проверки гипотез \n",
    "\n",
    "1. Задаём уровень значимости $\\alpha$ (сколько парашютистов погибнут).\n",
    "2. Формулируем нулевую и альтернативную гипотезы.\n",
    "3. Выбираем статистику для проверки гипотезы.\n",
    "4. Находим наблюдаемое значение статистики по выборке.\n",
    "5. Находим критические точки для выбранной статистики. Именно для этого нам нужно знать её распределение. \n",
    "6. Сравниваем наблюдаемое значение с критическими. Если оно попало в критическую область, отвергаем нулевую гипотезу. Если нет, то не отвергаем."
   ]
  },
  {
   "cell_type": "markdown",
   "metadata": {
    "slideshow": {
     "slide_type": "slide"
    }
   },
   "source": [
    "# 2. Ошибки, которые мы можем совершить"
   ]
  },
  {
   "cell_type": "markdown",
   "metadata": {
    "slideshow": {
     "slide_type": "skip"
    }
   },
   "source": [
    "\n",
    "Проверяя гипотезы, мы можем совершать ошибки. Выделяют две ошибки: первого рода и второго рода. Мы можем либо ошибочно отвергнуть верную гипотезу, либо ошибочно не отвергнуть неверную гипотезу."
   ]
  },
  {
   "cell_type": "markdown",
   "metadata": {
    "slideshow": {
     "slide_type": "slide"
    }
   },
   "source": [
    "|     $\\mbox{ }$      | $H_0$ верна    | $H_0$ не верна |\n",
    "|---------------------|----------------|----------------|\n",
    "|$H_0$ не отвергается |   ok           |Ошибка $2$ рода |\n",
    "|$H_0$ отвергается    |Ошибка $1$ рода |  ok            |"
   ]
  },
  {
   "cell_type": "markdown",
   "metadata": {
    "slideshow": {
     "slide_type": "fragment"
    }
   },
   "source": [
    "- Вероятность ошибки первого рода, $P(H_0 \\text{ отвергнута} \\mid H_0 \\text{ верна})$, называют __уровнем значимости__ и обозначают как $\\alpha$. \n",
    "\n",
    "- Вероятность ошибки второго рода, $P(H_0 \\text{ не отвергнута} \\mid H_0 \\text{ не верна})$, обозначают как $\\beta$. Величину $1-\\beta$ называют __мощностью критерия.__  Критерий с наибольшей мощностью - классный. \n"
   ]
  },
  {
   "cell_type": "markdown",
   "metadata": {
    "slideshow": {
     "slide_type": "slide"
    }
   },
   "source": [
    "### Презумпция нулевой гипотезы \n",
    "\n",
    "- Ошибки первого и второго рода неравнозначны, ошибка первого рода критичнее (фиксируем её в начале)\n",
    "\n",
    "- Ошибка второго рода минимизируется по остаточному принципу\n",
    "\n",
    "> __Презумпция невиновности:__ подсудимый по умолчанию невиновен. Если нет доказательств обратному, нельзя утверждать, что он преступник, даже если он совершил преступление. \n"
   ]
  },
  {
   "cell_type": "markdown",
   "metadata": {
    "slideshow": {
     "slide_type": "slide"
    }
   },
   "source": [
    "![ ](https://pp.userapi.com/c840128/v840128140/6daec/ezr1fAgrFKg.jpg) "
   ]
  },
  {
   "cell_type": "markdown",
   "metadata": {
    "slideshow": {
     "slide_type": "slide"
    }
   },
   "source": [
    "# 3. P-value "
   ]
  },
  {
   "cell_type": "markdown",
   "metadata": {
    "slideshow": {
     "slide_type": "notes"
    }
   },
   "source": [
    "Ещё одно важное определение. __P-значение__ или __достигаемый уровень значимости__ облегчают проверку гипотез и выводятся почти во всех протоколах. В дальнейшем вы регулярно будете сталкиваться с этим понятием. \n",
    "\n",
    "Сначала про то как это выглядит на пальцах. Выше мы с вами для двусторонней альтернативы построили красивую картинку. Давайте немного дополним её. Как обычно, код для рисования картинок можно не понимать. "
   ]
  },
  {
   "cell_type": "code",
   "execution_count": 9,
   "metadata": {
    "slideshow": {
     "slide_type": "slide"
    }
   },
   "outputs": [
    {
     "data": {
      "image/png": "[encoded data removed]",
      "text/plain": [
       "plot without title"
      ]
     },
     "metadata": {},
     "output_type": "display_data"
    }
   ],
   "source": [
    "dlimit_left  <- limitRange(dnorm, -Inf, -z_stat)\n",
    "dlimit_right <- limitRange(dnorm, z_stat, Inf)\n",
    "\n",
    "z_stat_picture(z_stat, alpha = 0.05, alternative = 'two-sided') + \n",
    "    # Делаем красную заливку\n",
    "    stat_function(fun=dlimit_left, geom=\"area\",  fill=\"red\", alpha=0.1) +\n",
    "    stat_function(fun=dlimit_right, geom=\"area\", fill=\"red\", alpha=0.1) +\n",
    "    # Добавляем симметричкую пунктирную линию \n",
    "    geom_point(aes(x=-z_stat,y=0), color=\"red\", size=2) +\n",
    "    geom_vline(xintercept = -z_stat, size=0.3, linetype=\"dashed\", color=\"red\") +\n",
    "    annotate(\"text\", label=round(-z_stat,2), x= -z_stat, y=0.2, parse=T, size=4, color=\"darkred\")"
   ]
  },
  {
   "cell_type": "markdown",
   "metadata": {
    "slideshow": {
     "slide_type": "skip"
    }
   },
   "source": [
    "Цифры $1.96$ и $-1.96$ это критические значения статистики. Голубая площадь за ними в сумме даёт уровень значимости $\\alpha$. Красные точки это наблюдаемое значение статистики $0.65$ и симметричное ему значение $-0.65$. Красная плошадь это и есть P-значение. \n",
    "\n",
    "Если красная площадь получилась больше синей, это означает, что наблюдаемое значение статистики попало между критическими и гипотеза не отвергается. Если красная площадь оказалась меньше синей, то это означает, что наблюдаемое значение ударило в один из хвостов и гипотеза отвергается. Посчитаем для данной ситуации p-значение."
   ]
  },
  {
   "cell_type": "markdown",
   "metadata": {
    "slideshow": {
     "slide_type": "slide"
    }
   },
   "source": [
    "### Подсчёт  pvalue"
   ]
  },
  {
   "cell_type": "code",
   "execution_count": 10,
   "metadata": {
    "slideshow": {
     "slide_type": "fragment"
    }
   },
   "outputs": [
    {
     "data": {
      "text/html": [
       "0.645497224367903"
      ],
      "text/latex": [
       "0.645497224367903"
      ],
      "text/markdown": [
       "0.645497224367903"
      ],
      "text/plain": [
       "[1] 0.6454972"
      ]
     },
     "metadata": {},
     "output_type": "display_data"
    }
   ],
   "source": [
    "z_stat"
   ]
  },
  {
   "cell_type": "code",
   "execution_count": 11,
   "metadata": {
    "slideshow": {
     "slide_type": "fragment"
    }
   },
   "outputs": [
    {
     "data": {
      "text/html": [
       "0.518605016428726"
      ],
      "text/latex": [
       "0.518605016428726"
      ],
      "text/markdown": [
       "0.518605016428726"
      ],
      "text/plain": [
       "[1] 0.518605"
      ]
     },
     "metadata": {},
     "output_type": "display_data"
    }
   ],
   "source": [
    "2*pnorm(-z_stat)"
   ]
  },
  {
   "cell_type": "markdown",
   "metadata": {
    "slideshow": {
     "slide_type": "skip"
    }
   },
   "source": [
    "Получается, что красная площадь равна $0.52$. Это гораздо больше, чем $\\alpha = 0.05$. Значит гипотеза не отвергается. Чем ниже получилось p-значение, тем сильнее данные свидетельствуют против нулевой гипотезы в пользу альтернативы."
   ]
  },
  {
   "cell_type": "markdown",
   "metadata": {
    "slideshow": {
     "slide_type": "fragment"
    }
   },
   "source": [
    "> p-значение упрощает проверку гипотез. В нашем случае оно больше уровня значимости, следовательно гипотеза не отвергается.\n",
    "\n",
    "\n",
    "__Вопрос:__ а какой уровень значимости надо выбрать, чтобы гипотеза впервые отверглась?"
   ]
  },
  {
   "cell_type": "markdown",
   "metadata": {
    "slideshow": {
     "slide_type": "skip"
    }
   },
   "source": [
    "__Ответ:__ равный p-значению. "
   ]
  },
  {
   "cell_type": "markdown",
   "metadata": {
    "slideshow": {
     "slide_type": "slide"
    }
   },
   "source": [
    "### Более формально\n",
    "\n",
    "__Достигаемый уровень значимости__ или __P-значение__ - это вероятность при справедливости нулевой гипотезы получить такое же значение статистики, как в эксперименте или ещё более экстремальное. \n",
    "\n",
    "</br>\n",
    "\n",
    "$$p = P(z \\ge z_{\\text{набл.}} \\mid H_0)$$"
   ]
  },
  {
   "cell_type": "markdown",
   "metadata": {
    "slideshow": {
     "slide_type": "skip"
    }
   },
   "source": [
    "В нашем случае $p = 0.518$. То есть вероятность получить наши или ещё более экстримальные данные при условии справедливости нулевой гипотезы довольно высока. Это говорит в пользу нулевой гипотезы. Если бы вдруг получилось, что $p = 0.002$, то вероятность получить наши или ещё более экстримальные данные при верности нулевой гипотезы была бы очень маленькой и это говорило бы против нулевой гипотезы. Тем не менее, редкие события тоже происходят."
   ]
  },
  {
   "cell_type": "markdown",
   "metadata": {
    "slideshow": {
     "slide_type": "slide"
    }
   },
   "source": [
    "# 4. Параметрические критерии "
   ]
  },
  {
   "cell_type": "markdown",
   "metadata": {
    "slideshow": {
     "slide_type": "fragment"
    }
   },
   "source": [
    "- Обычно нас интересуют средние, доли и дисперсии\n",
    "\n",
    "- Будем проверять гипотезы о них \n",
    "\n",
    "- Каждый критерий для проверки гипотезы - небольшая теорема со своими предпосылками\n",
    "\n",
    "- Сегодня посмотрим параметрические критерии\n",
    "\n",
    "- В гипотезах для таких критериев высказывается предположение о значении параметра распределения, из которого предположительно поступила выборка"
   ]
  },
  {
   "cell_type": "markdown",
   "metadata": {
    "slideshow": {
     "slide_type": "slide"
    }
   },
   "source": [
    "# 5. Доля"
   ]
  },
  {
   "cell_type": "markdown",
   "metadata": {
    "slideshow": {
     "slide_type": "slide"
    }
   },
   "source": [
    "## 5.1 Z-критерий для доли "
   ]
  },
  {
   "cell_type": "markdown",
   "metadata": {
    "slideshow": {
     "slide_type": "fragment"
    }
   },
   "source": [
    "__Выборка:__\n",
    "\n",
    "$$X_1, \\ldots, X_n \\sim iid \\hspace{1mm} Ber(p)$$"
   ]
  },
  {
   "cell_type": "markdown",
   "metadata": {
    "slideshow": {
     "slide_type": "fragment"
    }
   },
   "source": [
    "__Нулевая и альтернативная гипотезы:__\n",
    "\n",
    "$$\n",
    "\\begin{aligned}\n",
    "&H_0: \\hspace{2mm} p = p_0 \\\\\n",
    "&H_1: \\hspace{2mm} p < \\ne > p_0\n",
    "\\end{aligned}\n",
    "$$"
   ]
  },
  {
   "cell_type": "markdown",
   "metadata": {
    "slideshow": {
     "slide_type": "slide"
    }
   },
   "source": [
    "__Асимптотическое распределение оценки $\\hat p = \\bar x$ при верности нулевой гипотезы:__\n",
    "\n",
    "$$\n",
    "\\hat p \\overset{asy}{\\sim} N\\left(p_0, \\frac{p_0(1-p_0)}{n}  \\right)\n",
    "$$"
   ]
  },
  {
   "cell_type": "markdown",
   "metadata": {
    "slideshow": {
     "slide_type": "fragment"
    }
   },
   "source": [
    "__Статистика для проверки гипотезы:__ \n",
    "\n",
    "$$\n",
    "Z = \\frac{\\hat p - p_0}{\\sqrt{\\frac{p_0(1-p_0)}{n}}} \\overset{asy}{\\sim} N(0,1)\n",
    "$$"
   ]
  },
  {
   "cell_type": "markdown",
   "metadata": {
    "slideshow": {
     "slide_type": "slide"
    }
   },
   "source": [
    "###  Задачка про присяжных\n",
    "\n",
    "-  В 70-х годах известный педиатр и автор книг по воспитанию детей Бенджамин Спок был арестован за участие в антивоенной демонстрации. Его дело должен был рассматривать суд присяжных.\n",
    "\n",
    "- Присяжные назначаются многоступенчатой процедурой. На очередном этапе остаётся 300 человек, из которых отбираются финальные 12.\n",
    "\n",
    "- В процессе Бенджамина Спока среди этих 300 только 90 были женщинами"
   ]
  },
  {
   "cell_type": "markdown",
   "metadata": {
    "slideshow": {
     "slide_type": "skip"
    }
   },
   "source": [
    "Поскольку в те времена воспитанием детей занимались в основном женщины, Бенджамин Спок среди них был более популярен, поэтому адвокаты заподозрили, что обвинение специально пытается сделать финальный состав присяжных менее благосклонным к подсудимому."
   ]
  },
  {
   "cell_type": "markdown",
   "metadata": {
    "slideshow": {
     "slide_type": "fragment"
    }
   },
   "source": [
    "- Протест адвокатов. Обвинение специально пытается сделать итоговый состав благосклонным к подсудимому, убирая женщин. \n",
    "\n",
    "- Был ли отбор беспристрастным? "
   ]
  },
  {
   "cell_type": "code",
   "execution_count": 12,
   "metadata": {
    "slideshow": {
     "slide_type": "slide"
    }
   },
   "outputs": [],
   "source": [
    "# Что делать? "
   ]
  },
  {
   "cell_type": "markdown",
   "metadata": {
    "slideshow": {
     "slide_type": "skip"
    }
   },
   "source": [
    "Нулевая гипотеза состоит в том, что процедура отбора беспристрастна, женщины попадают в присяжные с вероятностью $0.5$. Подозрение состоит в том, что для женщин эта вероятность занижена. Из-за этого будем рассматривать в качестве альтернативной гипотезы - одностороннюю. \n",
    "\n",
    "$$\n",
    "\\begin{aligned}\n",
    "&H_0: \\hspace{2mm} p = 0.5  \\hspace{2mm} \\text{Отбор беспрестрастен} \\\\\n",
    "&H_1: \\hspace{2mm} p < 0.5  \\hspace{2mm} \\text{Женщин берут реже}\n",
    "\\end{aligned}\n",
    "$$"
   ]
  },
  {
   "cell_type": "code",
   "execution_count": 13,
   "metadata": {},
   "outputs": [
    {
     "data": {
      "text/html": [
       "0.3"
      ],
      "text/latex": [
       "0.3"
      ],
      "text/markdown": [
       "0.3"
      ],
      "text/plain": [
       "[1] 0.3"
      ]
     },
     "metadata": {},
     "output_type": "display_data"
    }
   ],
   "source": [
    "90/300"
   ]
  },
  {
   "cell_type": "code",
   "execution_count": 14,
   "metadata": {
    "slideshow": {
     "slide_type": "slide"
    }
   },
   "outputs": [
    {
     "name": "stdout",
     "output_type": "stream",
     "text": [
      "p-value: 2.131096e-12"
     ]
    },
    {
     "data": {
      "image/png": "[encoded data removed]",
      "text/plain": [
       "plot without title"
      ]
     },
     "metadata": {},
     "output_type": "display_data"
    }
   ],
   "source": [
    "n = 300\n",
    "p_hat = 90/300\n",
    "z_stat = (p_hat - 0.5)/sqrt(0.5*(1-0.5)/n)\n",
    "p_value = pnorm(z_stat)\n",
    "cat('p-value:',p_value)\n",
    "z_stat_picture(z_stat, alpha = 0.05, alternative = 'less')"
   ]
  },
  {
   "cell_type": "markdown",
   "metadata": {
    "slideshow": {
     "slide_type": "skip"
    }
   },
   "source": [
    "Видим, что наблюдаемое значение статистики оказалось глубоко в критической области. Гипотеза о беспрестрастности отбора отвергается. Значание $pvalue$ оказалось меньше $0.05$. \n",
    "\n",
    "Можно попробовать использовать двустороннюю альтернативу. Это будет означать, что вероятность отбора женщин может быть как занижена, так и завышена."
   ]
  },
  {
   "cell_type": "code",
   "execution_count": 15,
   "metadata": {
    "slideshow": {
     "slide_type": "slide"
    }
   },
   "outputs": [
    {
     "name": "stdout",
     "output_type": "stream",
     "text": [
      "p-value: 4.262192e-12"
     ]
    },
    {
     "data": {
      "image/png": "[encoded data removed]",
      "text/plain": [
       "plot without title"
      ]
     },
     "metadata": {},
     "output_type": "display_data"
    }
   ],
   "source": [
    "n = 300\n",
    "p_hat = 90/n\n",
    "\n",
    "# Вручную\n",
    "z_stat = (p_hat - 0.5)/sqrt(0.5*(1-0.5)/n)\n",
    "z_stat_picture(z_stat, alpha = 0.05, alternative = 'two-sided')\n",
    "p_value = 2*pnorm(z_stat)\n",
    "cat('p-value:',p_value)"
   ]
  },
  {
   "cell_type": "markdown",
   "metadata": {
    "slideshow": {
     "slide_type": "slide"
    }
   },
   "source": [
    "Наши выводы это никак не поменяет. Сделаем то же самое во встроенном в R пакете. Это позволяеь сделать команда [`prop.test`.](http://stat.ethz.ch/R-manual/R-devel/library/stats/html/prop.test.html)"
   ]
  },
  {
   "cell_type": "code",
   "execution_count": 16,
   "metadata": {
    "slideshow": {
     "slide_type": "fragment"
    }
   },
   "outputs": [
    {
     "data": {
      "text/plain": [
       "\n",
       "\t1-sample proportions test without continuity correction\n",
       "\n",
       "data:  90 out of 300, null probability 0.5\n",
       "X-squared = 48, df = 1, p-value = 2.131e-12\n",
       "alternative hypothesis: true p is less than 0.5\n",
       "95 percent confidence interval:\n",
       " 0.0000000 0.3451483\n",
       "sample estimates:\n",
       "  p \n",
       "0.3 \n"
      ]
     },
     "metadata": {},
     "output_type": "display_data"
    }
   ],
   "source": [
    "test_res = prop.test(90, 300, p = 0.5, alternative = \"less\",\n",
    "                     conf.level = 0.95, correct = FALSE)\n",
    "test_res"
   ]
  },
  {
   "cell_type": "markdown",
   "metadata": {
    "slideshow": {
     "slide_type": "skip"
    }
   },
   "source": [
    "На выходе получаем табличку с основными результатами проверки гипотезы. В том числ оценку параметра и доверительный интервал для него. Через знак доллара можно вытянуть отдельные части протокола. "
   ]
  },
  {
   "cell_type": "code",
   "execution_count": 17,
   "metadata": {
    "slideshow": {
     "slide_type": "fragment"
    }
   },
   "outputs": [
    {
     "data": {
      "text/html": [
       "2.13109579892183e-12"
      ],
      "text/latex": [
       "2.13109579892183e-12"
      ],
      "text/markdown": [
       "2.13109579892183e-12"
      ],
      "text/plain": [
       "[1] 2.131096e-12"
      ]
     },
     "metadata": {},
     "output_type": "display_data"
    },
    {
     "data": {
      "text/html": [
       "<strong>p:</strong> 0.3"
      ],
      "text/latex": [
       "\\textbf{p:} 0.3"
      ],
      "text/markdown": [
       "**p:** 0.3"
      ],
      "text/plain": [
       "  p \n",
       "0.3 "
      ]
     },
     "metadata": {},
     "output_type": "display_data"
    }
   ],
   "source": [
    "test_res$p.value\n",
    "test_res$estimate"
   ]
  },
  {
   "cell_type": "markdown",
   "metadata": {
    "slideshow": {
     "slide_type": "slide"
    }
   },
   "source": [
    "## 5.2  Z-критерий для доли для двух независимых выборок\n"
   ]
  },
  {
   "cell_type": "markdown",
   "metadata": {
    "slideshow": {
     "slide_type": "skip"
    }
   },
   "source": [
    "В случае двух выборок будем поступать ровно также, как при строительстве доверительных интервалов. Попробуйте проделать всё, что написано ниже самостоятельно руками."
   ]
  },
  {
   "cell_type": "markdown",
   "metadata": {
    "slideshow": {
     "slide_type": "slide"
    }
   },
   "source": [
    "__Выборки:__\n",
    "\n",
    "$$\n",
    "\\begin{aligned}\n",
    "& X_1, \\ldots, X_{n_1} \\sim iid \\hspace{1mm} Ber(p) \\\\\n",
    "& Y_1, \\ldots, Y_{n_2} \\sim iid \\hspace{1mm} Ber(p)\n",
    "\\end{aligned}\n",
    "$$"
   ]
  },
  {
   "cell_type": "markdown",
   "metadata": {
    "slideshow": {
     "slide_type": "fragment"
    }
   },
   "source": [
    "__Нулевая и альтернативная гипотезы:__\n",
    "\n",
    "$$\n",
    "\\begin{aligned}\n",
    "&H_0: \\hspace{2mm} p_1 = p_2 \\\\\n",
    "&H_1: \\hspace{2mm} p_1 < \\ne > p_2\n",
    "\\end{aligned}\n",
    "$$"
   ]
  },
  {
   "cell_type": "markdown",
   "metadata": {
    "slideshow": {
     "slide_type": "slide"
    }
   },
   "source": [
    "__Асимптотическое распределения оценок $\\hat p_1 = \\bar x$ и $\\hat p_2 = \\bar y$ при верности нулевой гипотезы:__  \n",
    "\n",
    "$$\n",
    "\\hat p_1 \\overset{asy}{\\sim} N\\left(p, \\frac{p(1-p)}{n_1} \\right)\n",
    "$$\n",
    "\n",
    "$$\n",
    "\\hat p_2 \\overset{asy}{\\sim} N\\left(p,\\frac{p(1-p)}{n_2} \\right)\n",
    "$$"
   ]
  },
  {
   "cell_type": "markdown",
   "metadata": {
    "slideshow": {
     "slide_type": "fragment"
    }
   },
   "source": [
    "Значит статистика $\\hat p_1 - \\hat p_2$ тоже будет иметь нормальное распределение. Найдём её параметры: \n",
    "\n",
    "$$\n",
    "\\begin{aligned}\n",
    "& E(\\hat p_1 - \\hat p_2) = p - p = 0\n",
    "& Var(\\hat p_1 - \\hat p_2) = p(1-p)\\frac{n_1 + n_2}{n_1 \\cdot n_2}\n",
    "\\end{aligned}\n",
    "$$"
   ]
  },
  {
   "cell_type": "markdown",
   "metadata": {
    "slideshow": {
     "slide_type": "slide"
    }
   },
   "source": [
    "Статистика для проверки гипотезы: \n",
    "\n",
    "$$\n",
    "Z = \\frac{\\hat p_1 - \\hat p_2}{\\sqrt{P(1-P)\\frac{n_1 + n_2}{n_1 n_2}}} \\overset{asy}{\\sim} N(0,1),\n",
    "$$\n",
    "\n",
    "где $P = \\frac{m_1 + m_2}{n_1 + n_2} = \\frac{\\hat p_1 n_1 + \\hat p_2 n_2}{n_1 + n_2}$\n"
   ]
  },
  {
   "cell_type": "markdown",
   "metadata": {
    "slideshow": {
     "slide_type": "slide"
    }
   },
   "source": [
    "### Рейтинг премьер-министра \n",
    "\n",
    "1600 гражданам Великобритании с правом голоса задают вопрос: одобряют ли они деятельность премьер-министра. 944 человека говорят, что одобряют. Через 6 месяцев опрос повторяется. На этот раз из 1600 опрошенных 880 говорят, что поддерживают премьер-министра. Нужно понять изменился ли рейтинг премьер-министра. "
   ]
  },
  {
   "cell_type": "markdown",
   "metadata": {
    "slideshow": {
     "slide_type": "skip"
    }
   },
   "source": [
    "Чтобы понять, изменился ли рейтинг премьер-министра, нужно использовать статистический критерий. В качестве альтернативной гипотезы уместно взять двустороннюю, так как рейтинг мог как упасть, так и вырасти. Сначала проделаем всё вручную. "
   ]
  },
  {
   "cell_type": "code",
   "execution_count": 18,
   "metadata": {
    "slideshow": {
     "slide_type": "slide"
    }
   },
   "outputs": [],
   "source": [
    "# Что делать? "
   ]
  },
  {
   "cell_type": "markdown",
   "metadata": {
    "slideshow": {
     "slide_type": "skip"
    }
   },
   "source": [
    "В качестве альтернативы будет уместна двусторонняя гипотеза, так как рейтинг мог измениться в любую сторону. \n",
    "\n",
    "$$\n",
    "\\begin{aligned}\n",
    "&H_0: \\hspace{2mm} p_1 = p_2 \\hspace{2mm} \\text{Рейтинг не поменялся} \\\\\n",
    "&H_1: \\hspace{2mm} p_1 \\ne p_2  \\hspace{2mm} \\text{Рейтинг поменялся}\n",
    "\\end{aligned}\n",
    "$$"
   ]
  },
  {
   "cell_type": "code",
   "execution_count": 19,
   "metadata": {
    "slideshow": {
     "slide_type": "slide"
    }
   },
   "outputs": [
    {
     "name": "stdout",
     "output_type": "stream",
     "text": [
      "p-value: 0.02229829"
     ]
    },
    {
     "data": {
      "image/png": "[encoded data removed]",
      "text/plain": [
       "plot without title"
      ]
     },
     "metadata": {},
     "output_type": "display_data"
    }
   ],
   "source": [
    "n1 = 1600 \n",
    "m1 = 944\n",
    "\n",
    "n2 = 1600\n",
    "m2 = 880\n",
    "\n",
    "p1_hat = m1/n1\n",
    "p2_hat = m2/n2\n",
    "P = (m1 + m2)/(n1 + n2)\n",
    "\n",
    "z_stat = (p1_hat - p2_hat)/(sqrt(P*(1-P)*(n1+n2)/(n1*n2)))\n",
    "\n",
    "z_stat_picture(-z_stat, alpha = 0.05, alternative = 'two-sided')\n",
    "p_value = 2*pnorm(-z_stat)\n",
    "cat('p-value:',p_value)"
   ]
  },
  {
   "cell_type": "markdown",
   "metadata": {
    "slideshow": {
     "slide_type": "skip"
    }
   },
   "source": [
    "P-value меньше $0.05$.  На уровне значимости $5\\%$ гипотезе о том, что рейтинг премьера не изменился, отвергается. По-другому мы можем понять то же самое, увидем, что наблюдаемое значение статистики попадает в критическую область. Проверим гипотезу внутренними средствами R и получим тот же результат. "
   ]
  },
  {
   "cell_type": "code",
   "execution_count": 21,
   "metadata": {
    "slideshow": {
     "slide_type": "slide"
    }
   },
   "outputs": [
    {
     "data": {
      "text/plain": [
       "\n",
       "\t2-sample test for equality of proportions without continuity\n",
       "\tcorrection\n",
       "\n",
       "data:  c(m1, m2) out of c(n1, n2)\n",
       "X-squared = 5.2224, df = 1, p-value = 0.0223\n",
       "alternative hypothesis: two.sided\n",
       "95 percent confidence interval:\n",
       " 0.005721636 0.074278364\n",
       "sample estimates:\n",
       "prop 1 prop 2 \n",
       "  0.59   0.55 \n"
      ]
     },
     "metadata": {},
     "output_type": "display_data"
    }
   ],
   "source": [
    "test_res = prop.test(x = c(m1, m2), n = c(n1, n2), correct = FALSE)\n",
    "test_res"
   ]
  },
  {
   "cell_type": "markdown",
   "metadata": {
    "slideshow": {
     "slide_type": "slide"
    }
   },
   "source": [
    "## 5.3 Z-критерий для доли для двух связанных выборок "
   ]
  },
  {
   "cell_type": "markdown",
   "metadata": {
    "slideshow": {
     "slide_type": "fragment"
    }
   },
   "source": [
    "- В обоих опросах участвовали одни и те же люди, выборки связаны между собой\n",
    "\n",
    "- Z критерий предполагает, что выборки независимы\n",
    "\n",
    "- Нужен другой критерий \n"
   ]
  },
  {
   "cell_type": "markdown",
   "metadata": {
    "slideshow": {
     "slide_type": "slide"
    }
   },
   "source": [
    "Мы можем перенести собранные по выборке данные в небольшую табличку\n",
    "\n",
    "|$\\mbox{ } $  | + | - | $\\Sigma$ | \n",
    "|--|---|---|----------|\n",
    "|+ |794|150|944       |\n",
    "|- |86 |570|656       |\n",
    "|$\\Sigma$|880|720|1600|\n"
   ]
  },
  {
   "cell_type": "markdown",
   "metadata": {
    "slideshow": {
     "slide_type": "skip"
    }
   },
   "source": [
    "По столбцам отложим второй опрос, по строчкам первый. Из таблички можно понять, что $794$ человека поддержали премьера в обоих опросах, $150$ только в первом и т.д.  Выше нам не требовалась такая конкретика, поэтому там мы не упоминал кто как голосовал. "
   ]
  },
  {
   "cell_type": "markdown",
   "metadata": {
    "slideshow": {
     "slide_type": "slide"
    }
   },
   "source": [
    "| $\\mbox{ } $  | + | - | $\\Sigma$ | \n",
    "|--|---|---|----------|\n",
    "|+ |e|f|e+f       |\n",
    "|- |g|h|g+h       |\n",
    "|$\\Sigma$|e+g|f+h|n|"
   ]
  },
  {
   "cell_type": "markdown",
   "metadata": {
    "slideshow": {
     "slide_type": "fragment"
    }
   },
   "source": [
    "Если мы будем расчитывать итоговую статистику как \n",
    "\n",
    "$$\n",
    "Z = \\frac{f - g}{\\sqrt{f + g - \\frac{(f-g)^2}{n}}} \\overset{asy}{\\sim} N(0,1),\n",
    "$$\n",
    "\n",
    "то мы внутри неё учтём только недиагональные элементы. То есть только те объекты, на которых значение в выборке различаются. Грубо говоря, это позволит нам подчистить нашу выборку от взаимосвязей."
   ]
  },
  {
   "cell_type": "code",
   "execution_count": 6,
   "metadata": {},
   "outputs": [
    {
     "name": "stdout",
     "output_type": "stream",
     "text": [
      "p-value: 2.804011e-05"
     ]
    },
    {
     "data": {
      "image/png": "[encoded data removed]",
      "text/plain": [
       "plot without title"
      ]
     },
     "metadata": {},
     "output_type": "display_data"
    }
   ],
   "source": [
    "n = 1600\n",
    "f = 150 \n",
    "g = 86\n",
    "\n",
    "z_stat = (f - g)/(sqrt(f + g - (f-g)^2/n))\n",
    "\n",
    "z_stat_picture(z_stat, alpha = 0.05, alternative = 'two-sided')\n",
    "p_value = 2*pnorm(-z_stat)\n",
    "cat('p-value:',p_value)"
   ]
  },
  {
   "cell_type": "code",
   "execution_count": 7,
   "metadata": {},
   "outputs": [
    {
     "name": "stdout",
     "output_type": "stream",
     "text": [
      "p-value: 0.06331779"
     ]
    },
    {
     "data": {
      "image/png": "[encoded data removed]",
      "text/plain": [
       "plot without title"
      ]
     },
     "metadata": {},
     "output_type": "display_data"
    }
   ],
   "source": [
    "n = 100\n",
    "f = 20\n",
    "g = 10\n",
    "\n",
    "z_stat = (f - g)/(sqrt(f + g - (f-g)^2/n))\n",
    "\n",
    "z_stat_picture(z_stat, alpha = 0.05, alternative = 'two-sided')\n",
    "p_value = 2*pnorm(-z_stat)\n",
    "cat('p-value:',p_value)"
   ]
  },
  {
   "cell_type": "markdown",
   "metadata": {
    "slideshow": {
     "slide_type": "skip"
    }
   },
   "source": [
    "Гипотеза о том, что рейтинг премьера не изменился, после такой подчистки, начинает отвергаться более уверенно. Для проверки гипотезы о равенсве доле для связных выборок я не нашёл функции. Придётся реализовать её самостоятельно. "
   ]
  },
  {
   "cell_type": "markdown",
   "metadata": {
    "slideshow": {
     "slide_type": "slide"
    }
   },
   "source": [
    "### Резюме про доли \n",
    "\n",
    "- Проверять гипотезы о долях помогает Z-тест \n",
    "\n",
    "- Он имеет асимптотически нормальное распределение \n",
    "\n",
    "- Статистика для связных выборок и независимых считается немного по-разному\n",
    "\n",
    "- Обе имеют асимптотически нормальное распределение\n"
   ]
  },
  {
   "cell_type": "markdown",
   "metadata": {
    "slideshow": {
     "slide_type": "slide"
    }
   },
   "source": [
    "# 6. Среднее "
   ]
  },
  {
   "cell_type": "markdown",
   "metadata": {
    "slideshow": {
     "slide_type": "slide"
    }
   },
   "source": [
    "## 6.1 Гипотезы о среднем для нормального распределения\n",
    "\n"
   ]
  },
  {
   "cell_type": "markdown",
   "metadata": {
    "slideshow": {
     "slide_type": "skip"
    }
   },
   "source": [
    "Позволяет проверять гипотезы о математических ожиданиях нормального распределения. Предпосылка о наличии нормальности очень критична. Её нужно каждый раз проверять отдельно. На то, как это делается, мы посмотрим на следующей паре. "
   ]
  },
  {
   "cell_type": "markdown",
   "metadata": {
    "slideshow": {
     "slide_type": "slide"
    }
   },
   "source": [
    "__Выборка:__\n",
    "\n",
    "$$\n",
    "X_1, \\ldots, X_n \\sim iid \\hspace{1mm} N(\\mu, \\sigma^2)\n",
    "$$"
   ]
  },
  {
   "cell_type": "markdown",
   "metadata": {
    "slideshow": {
     "slide_type": "fragment"
    }
   },
   "source": [
    "__Нулевая и альтернативная гипотезы:__\n",
    "\n",
    "$$\n",
    "\\begin{aligned}\n",
    "&H_0: \\hspace{2mm} \\mu = \\mu_0 \\\\\n",
    "&H_1: \\hspace{2mm} \\mu < \\ne > \\mu_0\n",
    "\\end{aligned}\n",
    "$$"
   ]
  },
  {
   "cell_type": "markdown",
   "metadata": {
    "slideshow": {
     "slide_type": "slide"
    }
   },
   "source": [
    "__Распределение оценки $\\hat \\mu = \\bar x$ при верности нулевой гипотезы:__ \n",
    "\n",
    "$$\n",
    "\\hat \\mu \\sim N\\left(\\mu_0, \\frac{\\sigma^2}{n}  \\right)\n",
    "$$"
   ]
  },
  {
   "cell_type": "markdown",
   "metadata": {
    "slideshow": {
     "slide_type": "fragment"
    }
   },
   "source": [
    "__Статистика для проверки гипотезы:__\n",
    "\n",
    "$$\n",
    "Z = \\frac{\\hat \\mu - \\mu_0}{\\frac{\\sigma}{\\sqrt{n}}} \\sim N(0,1)\n",
    "$$"
   ]
  },
  {
   "cell_type": "markdown",
   "metadata": {
    "slideshow": {
     "slide_type": "slide"
    }
   },
   "source": [
    "- Обратите внимание, что из-за нормальности распределения это распределение является __точным,__ а не асимптотическим. Это очень важная деталь.  \n",
    "\n",
    "- Обратите внимание на дисперсию. Про неё в нулевой гипотезе не делается никаких предположений. Она уже заранее должна быть для нас известна. Если это так, то с распределением всё хорошо и можно проверять гипотезу."
   ]
  },
  {
   "cell_type": "markdown",
   "metadata": {
    "slideshow": {
     "slide_type": "skip"
    }
   },
   "source": [
    "Что делать, если дисперсия неизвестна? Оценить её по выборке! Тогда у нас будет уже целых два распределения: для среднего и для выборочной дисперсии. Со средним всё просто: "
   ]
  },
  {
   "cell_type": "markdown",
   "metadata": {
    "slideshow": {
     "slide_type": "slide"
    }
   },
   "source": [
    "$$\n",
    "\\hat \\mu \\sim N\\left(\\mu_0, \\frac{\\sigma^2}{n}  \\right)\n",
    "$$"
   ]
  },
  {
   "cell_type": "markdown",
   "metadata": {},
   "source": [
    "С дисперсией чуток сложнее. По Тореме Фишера, если генеральная совокупность имеет нормальное распределение, то статистика "
   ]
  },
  {
   "cell_type": "markdown",
   "metadata": {
    "slideshow": {
     "slide_type": "fragment"
    }
   },
   "source": [
    "$$\n",
    "\\frac{(n-1) \\cdot s^2}{\\sigma^2} \\sim \\chi^2_{n-1}\n",
    "$$ "
   ]
  },
  {
   "cell_type": "markdown",
   "metadata": {
    "slideshow": {
     "slide_type": "skip"
    }
   },
   "source": [
    "Не помните такого факта? Марш в лекции! Найдите его и внимательно изучите! \n",
    "\n",
    "Владея этим фактом, мы можем сделать для статистики для проверки гипотезы небольшой финт, который позволит заменить неизвестное $\\sigma$ на найденное по выборке $s$ и понять как будет распределена итоговая дробь: "
   ]
  },
  {
   "cell_type": "markdown",
   "metadata": {
    "slideshow": {
     "slide_type": "fragment"
    }
   },
   "source": [
    "$$\n",
    "\\frac{\\hat \\mu - \\mu_0}{\\frac{s}{\\sqrt{n}}} = \\frac{\\hat \\mu - \\mu_0}{\\frac{\\sigma}{\\sqrt{n}}} : \\sqrt{\\frac{1}{n-1} \\frac{(n-1) s^2}{\\sigma^2}} \\sim \\frac{N(0,1)}{\\sqrt{\\frac{\\chi^2_{n-1}}{n-1}}} = t_{n-1} \n",
    "$$"
   ]
  },
  {
   "cell_type": "markdown",
   "metadata": {
    "slideshow": {
     "slide_type": "skip"
    }
   },
   "source": [
    "Подытожим. Если дисперсия неизвестна и её надо оценить, то статистика для проверки гипотезы будет иметь распределение Стьюдента: \n",
    "\n",
    "__Статистика для проверки гипотезы:__\n",
    "\n",
    "$$\n",
    "t = \\frac{\\hat \\mu - \\mu_0}{\\frac{s}{\\sqrt{n}}} \\sim t(n-1)\n",
    "$$\n",
    "\n",
    "Обратите внимание, что это распределение точное. Также обратите внимание, что при $n \\to \\infty$ распределение Стьюдента сходится к нормальному. Значит наша статистика будет иметь асимптотически нормальное распределение и при больших $n$ можно смело использовать его для проверки гипотез. Погрешность при его использовании будет небольшой. Но ежели нужен точный результат, а не асимптотический, используйте распределение Стьюдента. "
   ]
  },
  {
   "cell_type": "markdown",
   "metadata": {
    "slideshow": {
     "slide_type": "slide"
    }
   },
   "source": [
    "### Вес детей при рождении \n",
    "\n",
    "- Средний вес детей при рождении 3300 г, у женщин, живущих за чертой бедности - 2800 г\n",
    "\n",
    "- 25 женщин, живущих за чертой бедности, участвовали в экспериментальной программе ведения беременности\n",
    "\n",
    "- Средний вес их детей составил 3075 г, стандартное отклонение 500 г\n",
    "\n",
    "- Эффективна ли программа? "
   ]
  },
  {
   "cell_type": "code",
   "execution_count": null,
   "metadata": {
    "slideshow": {
     "slide_type": "fragment"
    }
   },
   "outputs": [],
   "source": [
    "# Что делать? "
   ]
  },
  {
   "cell_type": "markdown",
   "metadata": {
    "slideshow": {
     "slide_type": "slide"
    }
   },
   "source": [
    "В качестве альтернативы берём правостороннюю, так как вес детей должен был возрасти \n",
    "\n",
    "$$\n",
    "\\begin{aligned}\n",
    "&H_0: \\hspace{2mm} \\mu = 2800  \\hspace{2mm} \\text{Программа не помогла}\\\\\n",
    "&H_1: \\hspace{2mm} \\mu > 2800 \\hspace{2mm} \\text{Программа помогла}\n",
    "\\end{aligned}\n",
    "$$\n",
    "\n",
    "Теоретическая дисперсия неизвестна. Её придётся оценивать. Из-за этого будем использовать $t-$статистику."
   ]
  },
  {
   "cell_type": "code",
   "execution_count": 42,
   "metadata": {
    "slideshow": {
     "slide_type": "slide"
    }
   },
   "outputs": [
    {
     "name": "stdout",
     "output_type": "stream",
     "text": [
      "p-value: 0.005573915"
     ]
    },
    {
     "data": {
      "image/png": "[encoded data removed]",
      "text/plain": [
       "plot without title"
      ]
     },
     "metadata": {},
     "output_type": "display_data"
    }
   ],
   "source": [
    "mu_0 = 2800\n",
    "\n",
    "mu_hat = 3075\n",
    "s = 500\n",
    "n = 25\n",
    "\n",
    "t_stat = sqrt(n)*(mu_hat - mu_0)/s\n",
    "\n",
    "# обратите внимание, что p-value теперь мы считаем по \n",
    "# распределению стьюдента! Картинку тоже строим для него \n",
    "t_stat_picture(t_stat, n, alpha = 0.05, alternative = 'greater')\n",
    "\n",
    "p_value = pt(-t_stat, df=n-1)\n",
    "cat('p-value:',p_value)"
   ]
  },
  {
   "cell_type": "code",
   "execution_count": null,
   "metadata": {},
   "outputs": [],
   "source": []
  },
  {
   "cell_type": "code",
   "execution_count": 53,
   "metadata": {},
   "outputs": [
    {
     "data": {
      "text/html": [
       "2.5"
      ],
      "text/latex": [
       "2.5"
      ],
      "text/markdown": [
       "2.5"
      ],
      "text/plain": [
       "[1] 2.5"
      ]
     },
     "metadata": {},
     "output_type": "display_data"
    },
    {
     "name": "stdout",
     "output_type": "stream",
     "text": [
      "p-value: 0.9929687"
     ]
    },
    {
     "data": {
      "image/png": "[encoded data removed]",
      "text/plain": [
       "plot without title"
      ]
     },
     "metadata": {},
     "output_type": "display_data"
    }
   ],
   "source": [
    "mu_0 = 60\n",
    "\n",
    "mu_hat = 65\n",
    "s = 20\n",
    "n = 100\n",
    "\n",
    "t_stat = sqrt(n)*(mu_hat - mu_0)/s\n",
    "t_stat\n",
    "\n",
    "# обратите внимание, что p-value теперь мы считаем по \n",
    "# распределению стьюдента! Картинку тоже строим для него \n",
    "t_stat_picture(t_stat, n, alpha = 0.05, alternative = 'greater')\n",
    "\n",
    "p_value = pt(t_stat, df=n-1)\n",
    "cat('p-value:',p_value)"
   ]
  },
  {
   "cell_type": "markdown",
   "metadata": {
    "slideshow": {
     "slide_type": "skip"
    }
   },
   "source": [
    "Гипотеза о том, что программа была неэффективной отвергается. Обратите внимание, что у $t$-распределения критические значения отличаются от нормального. Для данной ситуации это $1.71$, а не $1.64$. Напомню, что критическое значение $t$-статистики находится правее из-за более тяжёлых хвостов. Проверить то же самое внутренними средствами R помогает сделать команда [`t.test`.](http://stat.ethz.ch/R-manual/R-devel/library/stats/html/t.test.html) Чуть ниже мы увидим её применение. "
   ]
  },
  {
   "cell_type": "markdown",
   "metadata": {
    "slideshow": {
     "slide_type": "skip"
    }
   },
   "source": [
    "Обратите внимание, при проверки гипотезы, мы неявно пользовались предположением, что вес детей распределён нормально. На практике это часто не так. В следующий раз мы научимся проверять гипотезу о нормальности выборки и ещё раз обсудим зачем она нужна. "
   ]
  },
  {
   "cell_type": "markdown",
   "metadata": {
    "slideshow": {
     "slide_type": "slide"
    }
   },
   "source": [
    "## 6.2 Гипотезы о среднем в общем случае "
   ]
  },
  {
   "cell_type": "markdown",
   "metadata": {
    "slideshow": {
     "slide_type": "slide"
    }
   },
   "source": [
    "Если выборка не распределена нормально, то наша оценка для среднего будет иметь __асимптотически нормальное__ распределение:\n",
    "\n",
    "$$\n",
    "\\hat \\mu \\overset{asy}{\\sim} N\\left(\\mu_0, \\frac{\\sigma^2}{n}  \\right)\n",
    "$$"
   ]
  },
  {
   "cell_type": "markdown",
   "metadata": {
    "slideshow": {
     "slide_type": "skip"
    }
   },
   "source": [
    "В такой ситуации мы не можем легко нащупать точное распределение для статистики. Поэтому для проверки гипотезы мы будем использовать асимптотическое распределение статистики:"
   ]
  },
  {
   "cell_type": "markdown",
   "metadata": {
    "slideshow": {
     "slide_type": "fragment"
    }
   },
   "source": [
    "$$\n",
    "z = \\frac{\\hat \\mu - \\mu_0}{\\frac{\\hat \\sigma}{\\sqrt{n}}} \\overset{asy}{\\sim}  N(0,1)\n",
    "$$"
   ]
  },
  {
   "cell_type": "markdown",
   "metadata": {
    "slideshow": {
     "slide_type": "slide"
    }
   },
   "source": [
    "### Шахты: \n",
    "\n",
    "В [табличке coal](https://yadi.sk/i/wIFZJJ3X3VdPow) лежит статистика о авариях на угольных шахтах в Британии. Исследователь Андрей считает, что они происходят с интенсивностью $3$ штуки за год. Проверьте на $5\\%$ уровне значимости гипотезу об этом. "
   ]
  },
  {
   "cell_type": "code",
   "execution_count": 24,
   "metadata": {
    "slideshow": {
     "slide_type": "fragment"
    }
   },
   "outputs": [
    {
     "data": {
      "text/html": [
       "<table>\n",
       "<thead><tr><th scope=col>X</th><th scope=col>year</th><th scope=col>count</th></tr></thead>\n",
       "<tbody>\n",
       "\t<tr><td>1   </td><td>1851</td><td>4   </td></tr>\n",
       "\t<tr><td>2   </td><td>1852</td><td>5   </td></tr>\n",
       "\t<tr><td>3   </td><td>1853</td><td>4   </td></tr>\n",
       "\t<tr><td>4   </td><td>1854</td><td>1   </td></tr>\n",
       "\t<tr><td>5   </td><td>1855</td><td>0   </td></tr>\n",
       "</tbody>\n",
       "</table>\n"
      ],
      "text/latex": [
       "\\begin{tabular}{r|lll}\n",
       " X & year & count\\\\\n",
       "\\hline\n",
       "\t 1    & 1851 & 4   \\\\\n",
       "\t 2    & 1852 & 5   \\\\\n",
       "\t 3    & 1853 & 4   \\\\\n",
       "\t 4    & 1854 & 1   \\\\\n",
       "\t 5    & 1855 & 0   \\\\\n",
       "\\end{tabular}\n"
      ],
      "text/markdown": [
       "\n",
       "| X | year | count |\n",
       "|---|---|---|\n",
       "| 1    | 1851 | 4    |\n",
       "| 2    | 1852 | 5    |\n",
       "| 3    | 1853 | 4    |\n",
       "| 4    | 1854 | 1    |\n",
       "| 5    | 1855 | 0    |\n",
       "\n"
      ],
      "text/plain": [
       "  X year count\n",
       "1 1 1851 4    \n",
       "2 2 1852 5    \n",
       "3 3 1853 4    \n",
       "4 4 1854 1    \n",
       "5 5 1855 0    "
      ]
     },
     "metadata": {},
     "output_type": "display_data"
    }
   ],
   "source": [
    "# Загружаем табличку с данными \n",
    "df = read.csv('/Users/fulyankin/Yandex.Disk.localized/R/R_prob_data/coal.csv', sep=',')\n",
    "\n",
    "head(df, 5)  # шапка таблицы"
   ]
  },
  {
   "cell_type": "markdown",
   "metadata": {
    "slideshow": {
     "slide_type": "slide"
    }
   },
   "source": [
    "__Гипотеза:__\n",
    "\n",
    "$$\n",
    "\\begin{aligned}\n",
    "&H_0: \\hspace{2mm} \\lambda = 3 \\\\\n",
    "&H_1: \\hspace{2mm} \\lambda \\ne 3\n",
    "\\end{aligned}\n",
    "$$\n",
    "\n",
    "Мы знаем, что $\\hat \\lambda = \\bar x$. Воспользуемся асимптотическим критерием для средних. Как можно убедиться ниже, гипотеза отвергается. "
   ]
  },
  {
   "cell_type": "code",
   "execution_count": 25,
   "metadata": {
    "slideshow": {
     "slide_type": "slide"
    }
   },
   "outputs": [
    {
     "name": "stdout",
     "output_type": "stream",
     "text": [
      "p-value: 8.811492e-07"
     ]
    },
    {
     "data": {
      "image/png": "[encoded data removed]",
      "text/plain": [
       "plot without title"
      ]
     },
     "metadata": {},
     "output_type": "display_data"
    }
   ],
   "source": [
    "n = nrow(df)\n",
    "z_stat = (mean(df$count) - 3)/(var(df$count)/sqrt(n))\n",
    "\n",
    "z_stat_picture(z_stat, alpha = 0.05, alternative = 'two-sided')\n",
    "\n",
    "p_value = pt(z_stat, df=n-1)\n",
    "cat('p-value:',p_value)"
   ]
  },
  {
   "cell_type": "markdown",
   "metadata": {
    "slideshow": {
     "slide_type": "skip"
    }
   },
   "source": [
    "__Ещё раз, ещё раз!__ Критерий для среднего является точным только в случае нормального распределения! Обычно в матстате и метрике ищут нормальное распределение только для того, чтобы пользоваться точными распределениями. Больше ни для чего это не надо. Запомните это!"
   ]
  },
  {
   "cell_type": "markdown",
   "metadata": {
    "slideshow": {
     "slide_type": "slide"
    }
   },
   "source": [
    "## 6.3 Двухвыборочный критерий стьюдента для независимых выборок "
   ]
  },
  {
   "cell_type": "markdown",
   "metadata": {
    "slideshow": {
     "slide_type": "skip"
    }
   },
   "source": [
    "Двухвыборочные критерии Стьюдента позволяют сравнивать средние значение двух выборок из нормальных распределений. Вывести  статистику и её разспеределение можно по аналогии с тем, как мы делали это в доверительных интервалах. \n"
   ]
  },
  {
   "cell_type": "markdown",
   "metadata": {
    "slideshow": {
     "slide_type": "slide"
    }
   },
   "source": [
    "__Выборки:__\n",
    "\n",
    "$$\n",
    "\\begin{aligned}\n",
    "& X_1, \\ldots, X_{n_1} \\sim iid \\hspace{1mm} N(\\mu_1, \\sigma_1^2) \\\\\n",
    "& Y_1, \\ldots, Y_{n_2} \\sim iid \\hspace{1mm} N(\\mu_2, \\sigma_2^2)\n",
    "\\end{aligned}\n",
    "$$"
   ]
  },
  {
   "cell_type": "markdown",
   "metadata": {
    "slideshow": {
     "slide_type": "fragment"
    }
   },
   "source": [
    "__Нулевая и альтернативная гипотезы:__\n",
    "\n",
    "$$\n",
    "\\begin{aligned}\n",
    "&H_0: \\hspace{2mm} \\mu_1 = \\mu_2 \\\\\n",
    "&H_1: \\hspace{2mm} \\mu_1 < \\ne > \\mu_2\n",
    "\\end{aligned}\n",
    "$$"
   ]
  },
  {
   "cell_type": "markdown",
   "metadata": {
    "slideshow": {
     "slide_type": "slide"
    }
   },
   "source": [
    "__Асимптотическое распределения__ оценок $\\hat \\mu_1 = \\bar x$ и $\\hat \\mu_2 = \\bar y$ при верности нулевой гипотезы:\n",
    "\n",
    "$$\n",
    "\\hat \\mu_1 \\sim N\\left(\\mu, \\frac{\\sigma_1}{n_1} \\right)\n",
    "$$\n",
    "\n",
    "$$\n",
    "\\hat \\mu_2 \\sim N\\left(\\mu,\\frac{\\sigma_2}{n_2} \\right)\n",
    "$$"
   ]
  },
  {
   "cell_type": "markdown",
   "metadata": {
    "slideshow": {
     "slide_type": "fragment"
    }
   },
   "source": [
    "Значит статистика $\\hat \\mu_1 - \\hat \\mu_2$ тоже будет иметь нормальное распределение. Найдём её параметры:\n",
    "\n",
    "$$\n",
    "\\begin{aligned}\n",
    "& E(\\hat \\mu_1 - \\hat \\mu_2) = \\mu - \\mu = 0\n",
    "& Var(\\hat \\mu_1 - \\hat \\mu_2) = \\frac{\\sigma_1^2}{n_1} + \\frac{\\sigma_2^2}{n_2}\n",
    "\\end{aligned}\n",
    "$$"
   ]
  },
  {
   "cell_type": "markdown",
   "metadata": {
    "slideshow": {
     "slide_type": "slide"
    }
   },
   "source": [
    "__Статистика для проверки гипотезы:__\n",
    "\n",
    "$$\n",
    "Z = \\frac{\\hat \\mu_1 - \\hat \\mu_2}{\\sqrt{ \\frac{\\sigma_1^2}{n_1} + \\frac{\\sigma_2^2}{n_2}} }\n",
    "$$\n",
    "\n",
    "И вот тут начинаются проблемы. "
   ]
  },
  {
   "cell_type": "markdown",
   "metadata": {
    "slideshow": {
     "slide_type": "slide"
    }
   },
   "source": [
    "## Разные ситуации"
   ]
  },
  {
   "cell_type": "markdown",
   "metadata": {
    "slideshow": {
     "slide_type": "fragment"
    }
   },
   "source": [
    "* Если дисперсии известны, то $Z \\sim N(0,1)$. - Если дисперсии известны и выборки нормально распределены, то \n",
    "\n",
    "$$\n",
    "\\frac{\\hat \\mu_1 - \\hat \\mu_2}{\\sqrt{ \\frac{\\sigma_1^2}{n_1}} + \\frac{\\sigma_2^2}{n_2}}\\sim N(0,1)\n",
    "$$"
   ]
  },
  {
   "cell_type": "markdown",
   "metadata": {
    "slideshow": {
     "slide_type": "slide"
    }
   },
   "source": [
    "- Если дисперсии неизвестны, но равны, то \n",
    "\n",
    "$$ \n",
    "t = \\frac{\\hat \\mu_1 - \\hat \\mu_2}{\\sqrt{ \\frac{s^2}{n_1} + \\frac{s^2}{n_2}}} \\sim t(n_1 + n_2 -2)\n",
    "$$ "
   ]
  },
  {
   "cell_type": "markdown",
   "metadata": {
    "slideshow": {
     "slide_type": "fragment"
    }
   },
   "source": [
    "Дисперсия считается по формуле: \n",
    "\n",
    "$$\n",
    "s^2 = \\frac{(n_1-1) \\cdot s_1^2 + (n_2-1) \\cdot s_2^2}{n_1 + n_2 -2}\n",
    "$$\n"
   ]
  },
  {
   "cell_type": "markdown",
   "metadata": {
    "slideshow": {
     "slide_type": "slide"
    }
   },
   "source": [
    "* В более сложных ситуациях, когда диспресии неизвестные и разные, возникает проблема. Если заменить неизвестные дисперсии на выборочные, получим $t$-статистику, которая при выполнении нулевой гипотезы будет распределена по Стьюденту"
   ]
  },
  {
   "cell_type": "markdown",
   "metadata": {
    "slideshow": {
     "slide_type": "fragment"
    }
   },
   "source": [
    "$$\n",
    "t = \\frac{\\hat \\mu_1 - \\hat \\mu_2}{\\sqrt{ \\frac{s_1^2}{n_1} + \\frac{s_2^2}{n_2}} } \\sim t(\\nu).\n",
    "$$"
   ]
  },
  {
   "cell_type": "markdown",
   "metadata": {
    "slideshow": {
     "slide_type": "slide"
    }
   },
   "source": [
    "Но есть две проблемы. Во-первых, число степеней свободы $\\nu$ у этого распределения будет считатся по довольно сложной формуле: \n",
    "\n",
    "$$\n",
    "\\nu = \\frac{ \\left(\\frac{s_1^2}{n_1} + \\frac{s_2^2}{n_2} \\right)^2 }{ \\frac{s_1^4}{n_1^2(n_1 -1)} + \\frac{s_2^4}{n_2^2(n_2-1)}}\n",
    "$$"
   ]
  },
  {
   "cell_type": "markdown",
   "metadata": {
    "slideshow": {
     "slide_type": "slide"
    }
   },
   "source": [
    "Во-вторых, нулевое распределение будет не точным, а приближённым. Точного решения (то есть точного нулевого распределения для такой статистики) не существует. Это проблема называется [проблемой Беренца-Фишера.](https://ru.wikipedia.org/wiki/Нерешённые_проблемы_статистики) Она говорит, что невозможно точно сравнить две средние величины для выборок, дисперсии которых неизвестны. \n",
    "\n",
    "Апроксимация, которую мы посмотрели выше, будет достаточно точной в двух ситуациях: когда выборки одинаокового объёма. Либо если знак между $n_1$ и $n_2$ такой же , как между $\\sigma_1$ и $\\sigma_2$. То есть, если из выборки с большей дисперсией собрано больше наблюдений. \n",
    "\n",
    "У вас в лекциях были первые две ситуации. Третью ситуацию вы не обсуждали, но я счёл, что вы должны о ней услышать. "
   ]
  },
  {
   "cell_type": "markdown",
   "metadata": {
    "slideshow": {
     "slide_type": "slide"
    }
   },
   "source": [
    "### Стоимость домов в Сиэтле\n",
    "\n",
    "Есть [данные о продажной стоимости](https://yadi.sk/i/Gn5GkSNV3Winsn) недвижимости в Сиэтле для 50 сделок в 2001 году и 50 в 2002. Изменились ли в среднем цены?"
   ]
  },
  {
   "cell_type": "code",
   "execution_count": 26,
   "metadata": {
    "slideshow": {
     "slide_type": "fragment"
    }
   },
   "outputs": [
    {
     "data": {
      "text/html": [
       "<table>\n",
       "<thead><tr><th scope=col>Price</th><th scope=col>Year</th></tr></thead>\n",
       "<tbody>\n",
       "\t<tr><td>142.00</td><td>2002  </td></tr>\n",
       "\t<tr><td>232.00</td><td>2002  </td></tr>\n",
       "\t<tr><td>132.50</td><td>2002  </td></tr>\n",
       "\t<tr><td>200.00</td><td>2002  </td></tr>\n",
       "\t<tr><td>362.00</td><td>2002  </td></tr>\n",
       "\t<tr><td>244.95</td><td>2002  </td></tr>\n",
       "</tbody>\n",
       "</table>\n"
      ],
      "text/latex": [
       "\\begin{tabular}{r|ll}\n",
       " Price & Year\\\\\n",
       "\\hline\n",
       "\t 142.00 & 2002  \\\\\n",
       "\t 232.00 & 2002  \\\\\n",
       "\t 132.50 & 2002  \\\\\n",
       "\t 200.00 & 2002  \\\\\n",
       "\t 362.00 & 2002  \\\\\n",
       "\t 244.95 & 2002  \\\\\n",
       "\\end{tabular}\n"
      ],
      "text/markdown": [
       "\n",
       "| Price | Year |\n",
       "|---|---|\n",
       "| 142.00 | 2002   |\n",
       "| 232.00 | 2002   |\n",
       "| 132.50 | 2002   |\n",
       "| 200.00 | 2002   |\n",
       "| 362.00 | 2002   |\n",
       "| 244.95 | 2002   |\n",
       "\n"
      ],
      "text/plain": [
       "  Price  Year\n",
       "1 142.00 2002\n",
       "2 232.00 2002\n",
       "3 132.50 2002\n",
       "4 200.00 2002\n",
       "5 362.00 2002\n",
       "6 244.95 2002"
      ]
     },
     "metadata": {},
     "output_type": "display_data"
    }
   ],
   "source": [
    "df = read.csv('/Users/fulyankin/Yandex.Disk.localized/R/R_prob_data/seattle.csv', sep='\\t') \n",
    "head(df)"
   ]
  },
  {
   "cell_type": "code",
   "execution_count": 27,
   "metadata": {
    "slideshow": {
     "slide_type": "slide"
    }
   },
   "outputs": [],
   "source": [
    "# Вытащим цены в отдельные векторы\n",
    "price_2002 = df[df$Year == 2002,]$Price\n",
    "price_2001 = df[df$Year == 2001,]$Price"
   ]
  },
  {
   "cell_type": "code",
   "execution_count": 28,
   "metadata": {
    "slideshow": {
     "slide_type": "fragment"
    }
   },
   "outputs": [],
   "source": [
    "# Расчитаем всё необходимое для проверки гипотезы\n",
    "n_1 = length(price_2001)\n",
    "n_2 = length(price_2002)\n",
    "\n",
    "mu_1 = mean(price_2001)\n",
    "mu_2 = mean(price_2002)\n",
    "\n",
    "s_1 = var(price_2001)\n",
    "s_2 = var(price_2002)\n",
    "\n",
    "t_stat = (mu_1 - mu_2)/sqrt(s_1/n_1 + s_2/n_2)"
   ]
  },
  {
   "cell_type": "markdown",
   "metadata": {
    "slideshow": {
     "slide_type": "slide"
    }
   },
   "source": [
    "Мы не можем сказать, что дисперсии известны или равны. Придётся использовать сложную статистику со сложной формулой. Либр придётся сначала проверить гипотезу о равенстве дисперсий, а уже затем проверять гипотезу о равенстве математических ожиданий. "
   ]
  },
  {
   "cell_type": "code",
   "execution_count": 29,
   "metadata": {
    "slideshow": {
     "slide_type": "fragment"
    }
   },
   "outputs": [
    {
     "data": {
      "text/html": [
       "71.8952170780399"
      ],
      "text/latex": [
       "71.8952170780399"
      ],
      "text/markdown": [
       "71.8952170780399"
      ],
      "text/plain": [
       "[1] 71.89522"
      ]
     },
     "metadata": {},
     "output_type": "display_data"
    }
   ],
   "source": [
    "a = (s_1/n_1 + s_2/n_2)^2\n",
    "b = s_1^2/(n_1^2*(n_1-1)) + s_2^2/(n_2^2*(n_2-1))\n",
    "a/b"
   ]
  },
  {
   "cell_type": "code",
   "execution_count": 30,
   "metadata": {
    "slideshow": {
     "slide_type": "fragment"
    }
   },
   "outputs": [
    {
     "name": "stdout",
     "output_type": "stream",
     "text": [
      "p-value: 0.423054"
     ]
    },
    {
     "data": {
      "image/png": "[encoded data removed]",
      "text/plain": [
       "plot without title"
      ]
     },
     "metadata": {},
     "output_type": "display_data"
    }
   ],
   "source": [
    "t_stat_picture(t_stat, 72, alpha = 0.05, alternative = 'two-sided')\n",
    "\n",
    "p_value = 2*pt(t_stat, df=72)\n",
    "cat('p-value:',p_value)"
   ]
  },
  {
   "cell_type": "code",
   "execution_count": 15,
   "metadata": {},
   "outputs": [
    {
     "data": {
      "text/html": [
       "43.8913759052008"
      ],
      "text/latex": [
       "43.8913759052008"
      ],
      "text/markdown": [
       "43.8913759052008"
      ],
      "text/plain": [
       "[1] 43.89138"
      ]
     },
     "metadata": {},
     "output_type": "display_data"
    }
   ],
   "source": [
    "# Расчитаем всё необходимое для проверки гипотезы\n",
    "n_1 = 20\n",
    "n_2 = 30\n",
    "\n",
    "mu_1 = 105\n",
    "mu_2 = 90\n",
    "\n",
    "s_1 = 40\n",
    "s_2 = 50\n",
    "\n",
    "t_stat = (mu_2 - mu_1)/sqrt(s_1/n_1 + s_2/n_2)\n",
    "\n",
    "a = (s_1/n_1 + s_2/n_2)^2\n",
    "b = s_1^2/(n_1^2*(n_1-1)) + s_2^2/(n_2^2*(n_2-1))\n",
    "a/b"
   ]
  },
  {
   "cell_type": "code",
   "execution_count": 16,
   "metadata": {},
   "outputs": [
    {
     "name": "stdout",
     "output_type": "stream",
     "text": [
      "p-value: 3.135538e-11"
     ]
    },
    {
     "data": {
      "image/png": "[encoded data removed]",
      "text/plain": [
       "plot without title"
      ]
     },
     "metadata": {},
     "output_type": "display_data"
    }
   ],
   "source": [
    "t_stat_picture(t_stat, 72, alpha = 0.05, alternative = 'less')\n",
    "\n",
    "p_value = 2*pt(t_stat, df=72)\n",
    "cat('p-value:',p_value)"
   ]
  },
  {
   "cell_type": "code",
   "execution_count": null,
   "metadata": {},
   "outputs": [],
   "source": []
  },
  {
   "cell_type": "markdown",
   "metadata": {
    "slideshow": {
     "slide_type": "skip"
    }
   },
   "source": [
    "Гипотза о равенстве цен не отвергается. Проверим эту же гипотезу внутренней командой R. Аргумент `var.equal` отвечает за равенство дисперсий. Если нам откуда-то известно, что она равны, гипотеза будет проверяться с учётом этого. Можете на досуге попробовать."
   ]
  },
  {
   "cell_type": "code",
   "execution_count": 31,
   "metadata": {
    "slideshow": {
     "slide_type": "slide"
    }
   },
   "outputs": [
    {
     "data": {
      "text/plain": [
       "\n",
       "\tWelch Two Sample t-test\n",
       "\n",
       "data:  price_2001 and price_2002\n",
       "t = -0.80573, df = 71.895, p-value = 0.4231\n",
       "alternative hypothesis: true difference in means is not equal to 0\n",
       "95 percent confidence interval:\n",
       " -140.11588   59.45468\n",
       "sample estimates:\n",
       "mean of x mean of y \n",
       " 288.9265  329.2571 \n"
      ]
     },
     "metadata": {},
     "output_type": "display_data"
    }
   ],
   "source": [
    "t.test(price_2001, price_2002, var.equal = FALSE,\n",
    "       alternative = \"two.sided\", conf.level = 0.95)"
   ]
  },
  {
   "cell_type": "markdown",
   "metadata": {
    "slideshow": {
     "slide_type": "skip"
    }
   },
   "source": [
    "Внутри протокола получаем точно такие же значения статистики, степеней свободы и p-значение, как при расчёте руками. "
   ]
  },
  {
   "cell_type": "markdown",
   "metadata": {
    "slideshow": {
     "slide_type": "slide"
    }
   },
   "source": [
    "## 6.4 Двухвыборочный критерий стьюдента для связанных выборок \n"
   ]
  },
  {
   "cell_type": "markdown",
   "metadata": {
    "slideshow": {
     "slide_type": "fragment"
    }
   },
   "source": [
    "- Измерения делаются на одних и тех же объектах\n",
    "\n",
    "- Это значит, что $\\bar y - \\bar x$ это то же самое, что $\\overline{x-y}$\n",
    "\n",
    "- Благодаря тому, что мы можем смотреть прирост по каждому объекту, мы скатываемся к одновыборочному критерию"
   ]
  },
  {
   "cell_type": "markdown",
   "metadata": {
    "slideshow": {
     "slide_type": "skip"
    }
   },
   "source": [
    "Если выборки связаны между собой, то ситуация очень сильно упрощается. Фактически это означает, что у нас был какой-то объект. Мы пронаблюдали по нему выборку $X_1, \\ldots, X_n$. Потом мы что-то сделали с этим объектом и после пронаблюдаль выбоку $Y_1, \\ldots, Y_n$. После мы решили проверить гипотезу о том, что наше воздействие имело силу. \n",
    "\n",
    "В данном случае разность $\\bar y - \\bar x$ это то же самое, что $\\overline{x-y}$. Таким образом, $t$-критерий для двух связных выборок эквивалентен одновыборочному $t$-критерий, примененному к выборке попарных разностей. "
   ]
  },
  {
   "cell_type": "markdown",
   "metadata": {},
   "source": [
    "$$ d_i = X_i - Y_i $$\n",
    "\n",
    "$$ s^2 = \\frac{1}{n-1}\\sum_{i=1}^n (d_i - \\bar d )^2$$\n",
    "\n",
    "$$ t = \\frac{\\bar{d}}{s/\\sqrt{n}} \\sim t(n-1)$$\n",
    "\n",
    "Из-за того, что мы наблюдаем одни и те же объекты, никаких проблем с дисперсией не возникает."
   ]
  },
  {
   "cell_type": "markdown",
   "metadata": {
    "slideshow": {
     "slide_type": "slide"
    }
   },
   "source": [
    "### Лечение детей\n",
    "\n",
    "- В [таблице](https://yadi.sk/i/-ddOeb363Wipcr) данные о том, как 24 ребёнка прошли тест на способность к подавлению импульсивных поведенческих реакций после недели приёма метилфенидата и после недели приёма плацебо \n",
    "\n",
    "- Каков эффект препарата? "
   ]
  },
  {
   "cell_type": "code",
   "execution_count": null,
   "metadata": {
    "slideshow": {
     "slide_type": "fragment"
    }
   },
   "outputs": [],
   "source": [
    "# Что делать? "
   ]
  },
  {
   "cell_type": "markdown",
   "metadata": {
    "slideshow": {
     "slide_type": "slide"
    }
   },
   "source": [
    "Препараты принимали одни и те же дети. Выборка является связанной. Поэто будем использовать критерий стьюдента для связанных выборок. \n",
    "\n",
    "$$\n",
    "\\begin{aligned}\n",
    "&H_0: \\hspace{2mm} \\mu_1 = \\mu_2 \\hspace{2mm} \\text{Препарат неэффективен} \\\\\n",
    "&H_1: \\hspace{2mm} \\mu_1 > \\mu_2  \\hspace{2mm} \\text{Препарат хорош}\n",
    "\\end{aligned}\n",
    "$$"
   ]
  },
  {
   "cell_type": "code",
   "execution_count": 32,
   "metadata": {
    "slideshow": {
     "slide_type": "slide"
    }
   },
   "outputs": [
    {
     "data": {
      "text/html": [
       "<table>\n",
       "<thead><tr><th scope=col>D0</th><th scope=col>D60</th></tr></thead>\n",
       "<tbody>\n",
       "\t<tr><td>57</td><td>62</td></tr>\n",
       "\t<tr><td>27</td><td>49</td></tr>\n",
       "\t<tr><td>32</td><td>30</td></tr>\n",
       "\t<tr><td>31</td><td>34</td></tr>\n",
       "\t<tr><td>34</td><td>38</td></tr>\n",
       "\t<tr><td>38</td><td>36</td></tr>\n",
       "</tbody>\n",
       "</table>\n"
      ],
      "text/latex": [
       "\\begin{tabular}{r|ll}\n",
       " D0 & D60\\\\\n",
       "\\hline\n",
       "\t 57 & 62\\\\\n",
       "\t 27 & 49\\\\\n",
       "\t 32 & 30\\\\\n",
       "\t 31 & 34\\\\\n",
       "\t 34 & 38\\\\\n",
       "\t 38 & 36\\\\\n",
       "\\end{tabular}\n"
      ],
      "text/markdown": [
       "\n",
       "| D0 | D60 |\n",
       "|---|---|\n",
       "| 57 | 62 |\n",
       "| 27 | 49 |\n",
       "| 32 | 30 |\n",
       "| 31 | 34 |\n",
       "| 34 | 38 |\n",
       "| 38 | 36 |\n",
       "\n"
      ],
      "text/plain": [
       "  D0 D60\n",
       "1 57 62 \n",
       "2 27 49 \n",
       "3 32 30 \n",
       "4 31 34 \n",
       "5 34 38 \n",
       "6 38 36 "
      ]
     },
     "metadata": {},
     "output_type": "display_data"
    }
   ],
   "source": [
    "df = read.csv('/Users/fulyankin/Yandex.Disk.localized/R/R_prob_data/ADHD.csv', sep=' ') \n",
    "head(df)"
   ]
  },
  {
   "cell_type": "code",
   "execution_count": 33,
   "metadata": {
    "slideshow": {
     "slide_type": "slide"
    }
   },
   "outputs": [
    {
     "name": "stdout",
     "output_type": "stream",
     "text": [
      "p-value: 0.003771488"
     ]
    },
    {
     "data": {
      "image/png": "[encoded data removed]",
      "text/plain": [
       "plot without title"
      ]
     },
     "metadata": {},
     "output_type": "display_data"
    }
   ],
   "source": [
    "d = df$D0 - df$D60\n",
    "mu_d = mean(d)\n",
    "s_d = sd(d)\n",
    "n = nrow(df)\n",
    "\n",
    "t_stat = mu_d/(s_d/sqrt(n))\n",
    "\n",
    "t_stat_picture(t_stat, n-1, alpha = 0.05, alternative = 'two-sided')\n",
    "\n",
    "p_value = 2*pt(t_stat, df=n-1)\n",
    "cat('p-value:',p_value)"
   ]
  },
  {
   "cell_type": "code",
   "execution_count": 17,
   "metadata": {},
   "outputs": [
    {
     "name": "stdout",
     "output_type": "stream",
     "text": [
      "p-value: 0.8916925"
     ]
    },
    {
     "data": {
      "image/png": "[encoded data removed]",
      "text/plain": [
       "plot without title"
      ]
     },
     "metadata": {},
     "output_type": "display_data"
    }
   ],
   "source": [
    "mu_d = -6\n",
    "s_d = 92.5\n",
    "n = 5\n",
    "\n",
    "t_stat = mu_d/(s_d/sqrt(n))\n",
    "\n",
    "t_stat_picture(t_stat, n-1, alpha = 0.05, alternative = 'two-sided')\n",
    "\n",
    "p_value = 2*pt(t_stat, df=n-1)\n",
    "cat('p-value:',p_value)"
   ]
  },
  {
   "cell_type": "markdown",
   "metadata": {
    "slideshow": {
     "slide_type": "skip"
    }
   },
   "source": [
    "Гипотеза о том, что лекарство было неэффективно, отвергается. Попробуем внутреннюю команду. Для этого нам понадобится ещё один аргумент, `pared`, отвечающий за связанность выборок. "
   ]
  },
  {
   "cell_type": "code",
   "execution_count": 34,
   "metadata": {
    "slideshow": {
     "slide_type": "slide"
    }
   },
   "outputs": [
    {
     "data": {
      "text/plain": [
       "\n",
       "\tPaired t-test\n",
       "\n",
       "data:  df$D0 and df$D60\n",
       "t = -3.2224, df = 23, p-value = 0.003771\n",
       "alternative hypothesis: true difference in means is not equal to 0\n",
       "95 percent confidence interval:\n",
       " -8.141431 -1.775236\n",
       "sample estimates:\n",
       "mean of the differences \n",
       "              -4.958333 \n"
      ]
     },
     "metadata": {},
     "output_type": "display_data"
    }
   ],
   "source": [
    "t.test(df$D0, df$D60, var.equal = FALSE, paired=TRUE,\n",
    "       alternative = \"two.sided\", conf.level = 0.95)"
   ]
  },
  {
   "cell_type": "markdown",
   "metadata": {
    "slideshow": {
     "slide_type": "slide"
    }
   },
   "source": [
    "Обратите внимание, что если не учесть, что выборки связанные, можно получить неправильный результат и сделать вывод, что лекарство не помогает детям. "
   ]
  },
  {
   "cell_type": "code",
   "execution_count": 35,
   "metadata": {
    "slideshow": {
     "slide_type": "fragment"
    }
   },
   "outputs": [
    {
     "data": {
      "text/plain": [
       "\n",
       "\tWelch Two Sample t-test\n",
       "\n",
       "data:  df$D0 and df$D60\n",
       "t = -1.4522, df = 45.671, p-value = 0.1533\n",
       "alternative hypothesis: true difference in means is not equal to 0\n",
       "95 percent confidence interval:\n",
       " -11.832593   1.915927\n",
       "sample estimates:\n",
       "mean of x mean of y \n",
       " 39.75000  44.70833 \n"
      ]
     },
     "metadata": {},
     "output_type": "display_data"
    }
   ],
   "source": [
    "t.test(df$D0, df$D60, var.equal = FALSE,\n",
    "       alternative = \"two.sided\", conf.level = 0.95)"
   ]
  },
  {
   "cell_type": "markdown",
   "metadata": {
    "slideshow": {
     "slide_type": "slide"
    }
   },
   "source": [
    "## 6.5 Гипотеза о равенстве средних в общем случае"
   ]
  },
  {
   "cell_type": "markdown",
   "metadata": {
    "slideshow": {
     "slide_type": "fragment"
    }
   },
   "source": [
    "Для проверки гипотезы о равенстве средних для произвольных распределений используют асимптотический тест:\n",
    "\n",
    "$$\n",
    "Z = \\frac{\\hat \\mu_1 - \\hat \\mu_2}{\\sqrt{ \\frac{s_1^2}{n_1} + \\frac{s_2^2}{n_2}} } \\overset{asy}{\\sim} N(0,1)\n",
    "$$"
   ]
  },
  {
   "cell_type": "markdown",
   "metadata": {
    "slideshow": {
     "slide_type": "slide"
    }
   },
   "source": [
    "### Резюме про средние\n",
    "\n",
    "- Если выборка распределена нормально, можно использовать t-статистику, имеющую распределение стьюдента\n",
    "\n",
    "- Если средних два и выборки независимы, возможны три разные ситуации\n",
    "\n",
    "- Если выборки связанные, то всё скатывается к одновыборочному критерию\n",
    "\n",
    "- Если выборка распределена не нормально, то используются те же статистики, но они имеют асимптотичеси нормальное распределение\n"
   ]
  },
  {
   "cell_type": "markdown",
   "metadata": {
    "slideshow": {
     "slide_type": "slide"
    }
   },
   "source": [
    "# 7. Дисперсии"
   ]
  },
  {
   "cell_type": "markdown",
   "metadata": {
    "slideshow": {
     "slide_type": "slide"
    }
   },
   "source": [
    "## 7.1 Гипотезы о дисперсии для нормального распределения \n"
   ]
  },
  {
   "cell_type": "markdown",
   "metadata": {
    "slideshow": {
     "slide_type": "fragment"
    }
   },
   "source": [
    "__Выборка:__  $X_1, \\ldots, X_n \\sim iid \\hspace{1mm} N(\\mu, \\sigma^2)$\n"
   ]
  },
  {
   "cell_type": "markdown",
   "metadata": {
    "slideshow": {
     "slide_type": "fragment"
    }
   },
   "source": [
    "__Нулевая и альтернативная гипотезы:__\n",
    "\n",
    "$$\n",
    "\\begin{aligned}\n",
    "&H_0: \\hspace{2mm} \\sigma^2 = \\sigma^2_0 \\\\\n",
    "&H_1: \\hspace{2mm} \\sigma^2 < \\ne > \\sigma^2_0\n",
    "\\end{aligned}\n",
    "$$"
   ]
  },
  {
   "cell_type": "markdown",
   "metadata": {
    "slideshow": {
     "slide_type": "skip"
    }
   },
   "source": [
    "Говоря другими словами, мы хотим понять насколько сильно дисперсия отличается от $\\sigma_0^2$. Для того, чтобы измерить расстояние от полученной по выборке дисперсии до дисперсии, предположенной в нулевой гипотезе, нужна статистика.\n",
    "\n",
    "Вспоминаем, о чём мы говорили в доверительных интервалах. Нужно придумать хорошего союзника. Для нормальных распределений хорошим оказывается теорема Фишера. Из-за неё обычно смотрят на отношение дисперсий: \n",
    "\n",
    "$$\\frac{s^2}{\\sigma_0^2}.$$ \n",
    "\n",
    "Если отношение оказалось близким к единице, то супер! Дисперсии очень похожи и гипотеза не отвергается. Если отношение слишком маленькое или слишком большое, то плохо. Несостыкуется. Как обычно, осталось придумать статистику, которая помогла бы нам понимать когда расстояние получилось слишком большим, а когда слишком маленьким."
   ]
  },
  {
   "cell_type": "markdown",
   "metadata": {
    "slideshow": {
     "slide_type": "slide"
    }
   },
   "source": [
    "- Если математическое ожидание известно, тогда: \n",
    "\n",
    "$$\\frac{n s^2}{\\sigma^2} =\\sum_{i=1}^n \\left(\\frac{X_i - \\mu}{\\sigma_0}\\right)^2 \\sim \\chi^2_n.$$\n",
    "\n",
    "Если математическое ожидание неизестно, то используем теорему Фишера и понимаем, что \n",
    "\n",
    "$$\\frac{(n-1) s^2}{\\sigma^2} =\\sum_{i=1}^n \\left(\\frac{X_i - \\bar x}{\\sigma}\\right)^2 \\sim \\chi^2_{n-1}.$$\n"
   ]
  },
  {
   "cell_type": "markdown",
   "metadata": {
    "slideshow": {
     "slide_type": "skip"
    }
   },
   "source": [
    "Как вы помните из тетрадки про доверительные интервалы, одна степень свободы сгорает из-за того, что мы вынуждены оценивать сразу два параметра: среднее и дисперсию. Это накладывает на нашу выборку одно линейное ограничение и количество случайных величин, доступных для варьирования, уменьшается на одну. Обратите внимание, что из-за нормальности распределения эта статистика является __точной,__ а не асимптотической. Это очень важная деталь. "
   ]
  },
  {
   "cell_type": "markdown",
   "metadata": {
    "slideshow": {
     "slide_type": "slide"
    }
   },
   "source": [
    "### Проблема: \n",
    "\n",
    "Давайте ссимулируем выборку из нормального распределения и проверим обоими критериямигипотезу о дисперсии для него. Будем проверять гипотезу о том, что дисперсия равна $4$  против гипотезы о том, что нет. "
   ]
  },
  {
   "cell_type": "code",
   "execution_count": 53,
   "metadata": {
    "slideshow": {
     "slide_type": "fragment"
    }
   },
   "outputs": [
    {
     "data": {
      "text/html": [
       "<ol class=list-inline>\n",
       "\t<li>9.99790625719065</li>\n",
       "\t<li>15.2484201238416</li>\n",
       "\t<li>9.1598620785111</li>\n",
       "\t<li>10.902701621899</li>\n",
       "\t<li>9.14487852153923</li>\n",
       "\t<li>10.7260326443895</li>\n",
       "\t<li>11.4959361493321</li>\n",
       "\t<li>11.8211746450618</li>\n",
       "\t<li>9.87796043244222</li>\n",
       "\t<li>11.8446511546917</li>\n",
       "</ol>\n"
      ],
      "text/latex": [
       "\\begin{enumerate*}\n",
       "\\item 9.99790625719065\n",
       "\\item 15.2484201238416\n",
       "\\item 9.1598620785111\n",
       "\\item 10.902701621899\n",
       "\\item 9.14487852153923\n",
       "\\item 10.7260326443895\n",
       "\\item 11.4959361493321\n",
       "\\item 11.8211746450618\n",
       "\\item 9.87796043244222\n",
       "\\item 11.8446511546917\n",
       "\\end{enumerate*}\n"
      ],
      "text/markdown": [
       "1. 9.99790625719065\n",
       "2. 15.2484201238416\n",
       "3. 9.1598620785111\n",
       "4. 10.902701621899\n",
       "5. 9.14487852153923\n",
       "6. 10.7260326443895\n",
       "7. 11.4959361493321\n",
       "8. 11.8211746450618\n",
       "9. 9.87796043244222\n",
       "10. 11.8446511546917\n",
       "\n",
       "\n"
      ],
      "text/plain": [
       " [1]  9.997906 15.248420  9.159862 10.902702  9.144879 10.726033 11.495936\n",
       " [8] 11.821175  9.877960 11.844651"
      ]
     },
     "metadata": {},
     "output_type": "display_data"
    }
   ],
   "source": [
    "y <- rnorm(10, mean = 10, sd = 2)\n",
    "y[1:10]"
   ]
  },
  {
   "cell_type": "markdown",
   "metadata": {
    "slideshow": {
     "slide_type": "slide"
    }
   },
   "source": [
    "Преположим, что нам откуда-то известно математическое ожидание. "
   ]
  },
  {
   "cell_type": "code",
   "execution_count": 72,
   "metadata": {
    "slideshow": {
     "slide_type": "fragment"
    }
   },
   "outputs": [
    {
     "data": {
      "text/html": [
       "9.82427746457542"
      ],
      "text/latex": [
       "9.82427746457542"
      ],
      "text/markdown": [
       "9.82427746457542"
      ],
      "text/plain": [
       "[1] 9.824277"
      ]
     },
     "metadata": {},
     "output_type": "display_data"
    },
    {
     "data": {
      "image/png": "[encoded data removed]",
      "text/plain": [
       "plot without title"
      ]
     },
     "metadata": {},
     "output_type": "display_data"
    }
   ],
   "source": [
    "n = length(y) \n",
    "s2 = 1/n*sum((y-10)^2)\n",
    "\n",
    "chi_stat = n*s2/4\n",
    "chi_crit = qchisq(1-0.05/2,df=n)\n",
    "chi_stat\n",
    "\n",
    "chi_stat_picture(chi_stat, n)"
   ]
  },
  {
   "cell_type": "markdown",
   "metadata": {
    "slideshow": {
     "slide_type": "skip"
    }
   },
   "source": [
    "Гипотеза о равенстве дисперсии $4$ не отвергается."
   ]
  },
  {
   "cell_type": "markdown",
   "metadata": {
    "slideshow": {
     "slide_type": "slide"
    }
   },
   "source": [
    "Теперь сделаем то же самое для случая, когда математическое ожидание неизвестно."
   ]
  },
  {
   "cell_type": "code",
   "execution_count": 73,
   "metadata": {
    "slideshow": {
     "slide_type": "fragment"
    }
   },
   "outputs": [
    {
     "data": {
      "text/html": [
       "7.21331088453479"
      ],
      "text/latex": [
       "7.21331088453479"
      ],
      "text/markdown": [
       "7.21331088453479"
      ],
      "text/plain": [
       "[1] 7.213311"
      ]
     },
     "metadata": {},
     "output_type": "display_data"
    },
    {
     "data": {
      "image/png": "[encoded data removed]",
      "text/plain": [
       "plot without title"
      ]
     },
     "metadata": {},
     "output_type": "display_data"
    }
   ],
   "source": [
    "n = length(y) \n",
    "s2 = var(y)\n",
    "\n",
    "chi_stat = (n-1)*s2/4\n",
    "chi_crit = qchisq(1-0.05/2,df=n-1)\n",
    "chi_stat\n",
    "chi_stat_picture(chi_stat, n-1)"
   ]
  },
  {
   "cell_type": "markdown",
   "metadata": {
    "slideshow": {
     "slide_type": "slide"
    }
   },
   "source": [
    "Снова гипотеза не отвергается, но значения статистик при этом получаются другими."
   ]
  },
  {
   "cell_type": "markdown",
   "metadata": {
    "slideshow": {
     "slide_type": "slide"
    }
   },
   "source": [
    "## 7.2 Гипотезы о равенстве дисперсий "
   ]
  },
  {
   "cell_type": "markdown",
   "metadata": {
    "slideshow": {
     "slide_type": "slide"
    }
   },
   "source": [
    "__Выборки:__\n",
    "\n",
    "$$\n",
    "\\begin{aligned}\n",
    "& X_1, \\ldots, X_{n_1} \\sim iid \\hspace{1mm} N(\\mu_1, \\sigma_1^2) \\\\\n",
    "& Y_1, \\ldots, Y_{n_2} \\sim iid \\hspace{1mm} N(\\mu_2, \\sigma_2^2)\n",
    "\\end{aligned}\n",
    "$$"
   ]
  },
  {
   "cell_type": "markdown",
   "metadata": {
    "slideshow": {
     "slide_type": "fragment"
    }
   },
   "source": [
    "__Нулевая и альтернативная гипотезы:__ \n",
    "\n",
    "$$\n",
    "\\begin{aligned}\n",
    "&H_0: \\hspace{2mm} \\sigma^2_1 = \\sigma^2_2 \\\\\n",
    "&H_1: \\hspace{2mm} \\sigma^2_1 < \\ne > \\sigma^2_2\n",
    "\\end{aligned}\n",
    "$$"
   ]
  },
  {
   "cell_type": "markdown",
   "metadata": {
    "slideshow": {
     "slide_type": "slide"
    }
   },
   "source": [
    "По аналогии с предыдущим пунктом, будем смотреть на то, насколько велико расстояние между двумя дисперсиями:\n",
    "\n",
    "$$\n",
    "\\frac{s_1^2}{s_2^2}\n",
    "$$"
   ]
  },
  {
   "cell_type": "markdown",
   "metadata": {
    "slideshow": {
     "slide_type": "skip"
    }
   },
   "source": [
    "Если эта величина окажется близка к единице, значит дисперсии похожи. Осталось найти статистику, которую можно было бы использовать, чтобы понять насколько выборочные дисперсии оказались близки. При верности нулевой гипотезы, обе выборки обладают одинаковой дисперсией, значит мы можем сделать следущий финт:"
   ]
  },
  {
   "cell_type": "markdown",
   "metadata": {
    "slideshow": {
     "slide_type": "fragment"
    }
   },
   "source": [
    "$$\n",
    "F = \\frac{(n_1-1) \\cdot s_1^2}{\\sigma^2 \\cdot (n_1-1)} : \\frac{(n_2-1) \\cdot s_2^2}{\\sigma^2 \\cdot(n_2-1)}\n",
    "$$\n",
    "\n",
    "При верности нулевой гипотезы, получаем, что \n",
    "\n",
    "$$\n",
    "F \\sim \\frac{\\chi^2_{n_1-1}}{n_1-1} : \\frac{\\chi^2_{n_2-1}}{n_2-1} = F(n_1-1,n_2-1).\n",
    "$$"
   ]
  },
  {
   "cell_type": "markdown",
   "metadata": {
    "slideshow": {
     "slide_type": "skip"
    }
   },
   "source": [
    "Отношение дисперсий, при верности нулевой гипотезы, имеет распределение Фишера с $n_1-1$ и $n_2-1$ степенями свободы. Именно его мы и будем использовать как статистику для проверки гипотезы. Ещё раз обращаю ваше внимание на то, что такое распределение будет только при нормальности выборок. \n"
   ]
  },
  {
   "cell_type": "markdown",
   "metadata": {
    "slideshow": {
     "slide_type": "slide"
    }
   },
   "source": [
    "### Проблема: \n",
    "\n",
    "- Вашему вниманию представлены результаты прыжков в длину Васи Сидорова на двух соревнованиях. \n",
    "\n",
    "- На первых среди болельщиц присутствовала Аня Иванова (его первая любовь). \n",
    "\n",
    "- На вторых Аня среди болельщиц не присутствовала. \n",
    "\n",
    "Проверьте гипотезу, состоящую в том, что отсуствие Ани позволяет Васе лучше сконцентрировтаься и прыгать с большей точность. "
   ]
  },
  {
   "cell_type": "code",
   "execution_count": null,
   "metadata": {
    "slideshow": {
     "slide_type": "slide"
    }
   },
   "outputs": [],
   "source": [
    "# Что делать? "
   ]
  },
  {
   "cell_type": "markdown",
   "metadata": {
    "slideshow": {
     "slide_type": "fragment"
    }
   },
   "source": [
    "__Пара гипотез:__\n",
    "\n",
    "$$\n",
    "\\begin{aligned}\n",
    "&H_0: \\hspace{2mm} \\sigma_1^2 = \\sigma_2^2 \\\\\n",
    "&H_1: \\hspace{2mm} \\sigma_1^2 < \\sigma_2^2\n",
    "\\end{aligned}\n",
    "$$"
   ]
  },
  {
   "cell_type": "code",
   "execution_count": 74,
   "metadata": {
    "slideshow": {
     "slide_type": "fragment"
    }
   },
   "outputs": [],
   "source": [
    "first  = c(1.83, 1.64, 2.27, 1.78, 1.89, 2.33, 1.61, 2.31)\n",
    "second = c(2.05, 1.07, 1.59, 1.96, 1.29, 1.52, 1.18, 1.47)"
   ]
  },
  {
   "cell_type": "code",
   "execution_count": 76,
   "metadata": {
    "slideshow": {
     "slide_type": "fragment"
    }
   },
   "outputs": [
    {
     "data": {
      "text/html": [
       "0.744089236767659"
      ],
      "text/latex": [
       "0.744089236767659"
      ],
      "text/markdown": [
       "0.744089236767659"
      ],
      "text/plain": [
       "[1] 0.7440892"
      ]
     },
     "metadata": {},
     "output_type": "display_data"
    },
    {
     "data": {
      "text/html": [
       "0.264058226280386"
      ],
      "text/latex": [
       "0.264058226280386"
      ],
      "text/markdown": [
       "0.264058226280386"
      ],
      "text/plain": [
       "[1] 0.2640582"
      ]
     },
     "metadata": {},
     "output_type": "display_data"
    }
   ],
   "source": [
    "f_stat = var(first)/var(second)\n",
    "f_crit = qf(0.05, df1 = length(first) - 1, df2 = length(second) - 1)\n",
    "\n",
    "f_stat\n",
    "f_crit"
   ]
  },
  {
   "cell_type": "markdown",
   "metadata": {
    "slideshow": {
     "slide_type": "skip"
    }
   },
   "source": [
    "Видим, что гипотеза о том, что Вася прыгает на обоих соревнованиях с одинаковой точностью не отвергается. Аня не оказывает на него никакого влияния. То же самое можно вроверить внутри встроенной команды. \n",
    "\n",
    "В R проверить гипотезы, связанные с равенством дисперсий нормального распределения, позволяет команда [`var.test`.](http://stat.ethz.ch/R-manual/R-devel/library/stats/html/var.test.html)"
   ]
  },
  {
   "cell_type": "code",
   "execution_count": 77,
   "metadata": {
    "slideshow": {
     "slide_type": "slide"
    }
   },
   "outputs": [
    {
     "data": {
      "text/plain": [
       "\n",
       "\tF test to compare two variances\n",
       "\n",
       "data:  first and second\n",
       "F = 0.74409, num df = 7, denom df = 7, p-value = 0.3532\n",
       "alternative hypothesis: true ratio of variances is less than 1\n",
       "95 percent confidence interval:\n",
       " 0.000000 2.817898\n",
       "sample estimates:\n",
       "ratio of variances \n",
       "         0.7440892 \n"
      ]
     },
     "metadata": {},
     "output_type": "display_data"
    }
   ],
   "source": [
    "var.test(first, second, alternative = 'less', conf.level = 0.95)"
   ]
  },
  {
   "cell_type": "markdown",
   "metadata": {
    "slideshow": {
     "slide_type": "slide"
    }
   },
   "source": [
    "### Резюме о дисперсиях \n",
    "\n",
    "- Для нормальных выборок можно использовать статистики Фишера\n",
    "\n",
    "- Для двухвыборочного критерия подойдёт F-критерий \n",
    "\n",
    "- Есть и другие статитсики для проверки гипотезы о дисперсиях, но мы в них углубляться не будем\n"
   ]
  },
  {
   "cell_type": "markdown",
   "metadata": {
    "slideshow": {
     "slide_type": "slide"
    }
   },
   "source": [
    "# 8. Значимость и существенность "
   ]
  },
  {
   "cell_type": "markdown",
   "metadata": {
    "slideshow": {
     "slide_type": "slide"
    }
   },
   "source": [
    "### Значимость и существенность \n",
    "\n",
    "- Интерес представляет не величина p-значения, а размер эффекта - степень отклонения данных от нулевой гипотезы \n",
    "\n",
    "- На основе размера эффекта делается вывод о том, являются ли результаты практически существенными"
   ]
  },
  {
   "cell_type": "markdown",
   "metadata": {
    "slideshow": {
     "slide_type": "skip"
    }
   },
   "source": [
    "На самом деле эксперименты проводятся не для того, чтобы получить значение p-value. Как правило, исследователя интересует размер эффекта, то есть степень отклонения данных от нулевой гипотезы. Например, если эксперимент связан с проверкой способностей предсказателя будущего, то размер эффекта — это вероятность верного предсказания. Если проверяется эффективность лекарства, то размер эффекта — это вероятность выздоровления пациента, который это лекарство принимает, за вычетом эффекта плацебо. При запуске программы лояльности для пользователей интернет-магазина размер эффекта — это последующее увеличение среднего чека.\n",
    "\n",
    "Размер эффекта — это величина, определенная на генеральной совокупности. Но, как правило, у исследователя есть только небольшая выборка из нее, а оценка размера эффекта по выборке — это случайная величина. Маленький достигаемый уровень значимости является показателем того, что такую оценку размера эффекта, какая получена по выборке, с маленькой вероятностью можно было получить случайно.\n",
    "\n",
    "Достигаемый уровень значимости зависит не только от размера эффекта, но и от объема выборки, по которой оценивается эффект. Если выборка небольшая, скорее всего, нулевая гипотеза на ней не отвергается (если только она не слишком дикая). Однако с ростом объема выборки начинают проявляться все более тонкие отклонения данных от нулевой гипотезы. Велика вероятность, что на достаточно большой выборке значительная часть разумных нулевых гипотез будет отвергнута. Именно поэтому, даже если нулевая гипотеза отвергнута, это еще не значит, что полученный эффект имеет какую-то практическую значимость, её нужно оценивать отдельно. Чтобы лучше это понять, давайте рассмотрим несколько примеров."
   ]
  },
  {
   "cell_type": "markdown",
   "metadata": {
    "slideshow": {
     "slide_type": "slide"
    }
   },
   "source": [
    "## Значимость и несущественно \n",
    "\n",
    "- за три года женщины, упражнявшиеся не меньше часа в день, набрали значимо меньше веса, чем женщины, упражнявшиеся меньше 20 минут в день $(p < 0.001)$\n",
    "\n",
    "- разница в набранном весе составила 150 г. \n",
    "\n",
    "- практическая значимость такого эффекта сомнительна"
   ]
  },
  {
   "cell_type": "markdown",
   "metadata": {
    "slideshow": {
     "slide_type": "skip"
    }
   },
   "source": [
    "Первый пример связан с [большим исследованием](https://jamanetwork.com/journals/jama/fullarticle/185585), в рамках которого на протяжении трех лет у большой выборки женщин измеряли вес, а также оценивали, насколько активно они занимаются спортом. По итогам исследования выяснилось, что женщины, которые в течение этого времени упражнялись не меньше часа в день, набрали значительно меньше веса, чем женщины, которые упражнялись менее $20$ минут в день. Статистическая значимость этого результата достаточно высока: $p < 0.001$. Проблема в размере эффекта: разница в набранном весе между двумя исследуемыми группами женщин составила всего $150$ граммов. $150$ граммов за $3$ года — это не очень много. Крайне сомнительно, что этот эффект имеет какую-то практическую значимость."
   ]
  },
  {
   "cell_type": "markdown",
   "metadata": {
    "slideshow": {
     "slide_type": "slide"
    }
   },
   "source": [
    "## Значимо и существенно \n",
    "\n",
    "- в 2002 году клинические испытания гормонального препарата Премарин, облегчающего симптомы менопаузы, были досрочно прерваны\n",
    "\n",
    "- было обнаружено, что его приём ведёт к значимому увеличению риска развития рака груди на $0.08\\%$, риска инсульта на $0.08\\%$ и инфаркта на $0.07\\%$\n",
    "\n",
    "- формально эффект крайне мал, но с учётом численности населения он превращается в тысячи дополнительных смертей"
   ]
  },
  {
   "cell_type": "markdown",
   "metadata": {
    "slideshow": {
     "slide_type": "skip"
    }
   },
   "source": [
    "Еще один пример связан с [клиническими испытаниями гормонального препарата «Премарин» (в книге 2 глава, нет я не читал)](https://books.google.ru/books?hl=ru&lr=&id=UUcgAwAAQBAJ&oi=fnd&pg=PR13&dq=Ellis+P.D.+The+Essential+Guide+to+Effect+Sizes:+Statistical+Power,+Meta-Analysis,+and+the+Interpretation+of+Research+Results&ots=-c3hqlbtiK&sig=a7rI0I80owEfqCbgkEsE1F1ZzKY&redir_esc=y#v=onepage&q=Ellis%20P.D.%20The%20Essential%20Guide%20to%20Effect%20Sizes%3A%20Statistical%20Power%2C%20Meta-Analysis%2C%20and%20the%20Interpretation%20of%20Research%20Results&f=false), который облегчает симптомы менопаузы. В $2002$ году эти испытания были прерваны досрочно, поскольку было обна- ружено, что прием препарата ведет к значимому увеличению риска развития рака груди (на $0.08\\%$), инсульта (на $0.08\\%$) и инфаркта (на $0.07\\%$). Этот эффект статистически значим; при этом на первый взгляд кажется, что размеры эффектов ничтожны. Например, если кому-то сказать, что его любимые конфеты повышают риск возникновения инфаркта на $0.07\\%$, вряд ли это заставит человека отказаться от этих конфет. Тем не менее, если пересчитать размеры эффектов на всю популяцию людей, которым этот препарат может быть потенциально приписан, результатом будут тысячи дополнительных смертей. Разработчики препарата не могут взять на себя эту ответственность, поэтому такой препарат немедленно запрещают и снимают с рынка. Этот пример показывает, что практическую значимость результата нельзя определить на глаз. В идеале она должна определяться человеком, который поставил задачу и понимает предметную область.\n"
   ]
  },
  {
   "cell_type": "markdown",
   "metadata": {
    "slideshow": {
     "slide_type": "slide"
    }
   },
   "source": [
    "## Незначимо, но существенно \n",
    "\n",
    "- лекарство, замедляющее ослабление интеллекта больных Альцгеймером\n",
    "\n",
    "- при испытаниях выяснилось, что разница в IQ контрольной и тестовой групп составляет 13 пунктов\n",
    "\n",
    "- разница статистически нещначима\n",
    "\n",
    "- возможно, выборка мала для детекции эффекта и изучение лекарства стоит продолжить\n",
    "\n"
   ]
  },
  {
   "cell_type": "markdown",
   "metadata": {
    "slideshow": {
     "slide_type": "skip"
    }
   },
   "source": [
    "Еще один пример — это [испытание лекарства, которое замедляет ослабление интеллекта](http://journals.sagepub.com/doi/abs/10.1177/0013164496056005002) у людей, страдающих болезнью Альцгеймера. В этом исследовании очень сложно измерить размер эффекта. В течение эксперимента одна часть испытуемых должна принимать лекарство, а другая — плацебо. Только по прошествии нескольких лет можно будет сравнить эти две группы. Поэтому такое исследование длится долгое время и дорого стоит. Если при испытании оказывается, что разница между снижением IQ в контрольной группе, где люди принимали плацебо, и тестовой группе, где люди принимали препарат, составляет 13 пунктов, это различие очень большое, и на практике этот эффект крайне значим. При этом может оказаться, что ста- тистическая значимость не была достигнута, то есть $p > \\alpha$, и формально нулевую гипотезу об отсутствии эффекта лекарства нельзя отвергнуть. Если предмет исследования очень важен, то, оказавшись в подобной ситуации, возможно, стоит продолжать исследования: набрать еще выборку, уменьшить дисперсию оценки размера эффекта и убедиться в том, что важное открытие не упущено."
   ]
  }
 ],
 "metadata": {
  "celltoolbar": "Slideshow",
  "kernelspec": {
   "display_name": "R",
   "language": "R",
   "name": "ir"
  },
  "language_info": {
   "codemirror_mode": "r",
   "file_extension": ".r",
   "mimetype": "text/x-r-source",
   "name": "R",
   "pygments_lexer": "r",
   "version": "3.5.3"
  }
 },
 "nbformat": 4,
 "nbformat_minor": 2
}
