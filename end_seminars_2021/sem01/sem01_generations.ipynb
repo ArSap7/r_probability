{
 "cells": [
  {
   "cell_type": "markdown",
   "metadata": {},
   "source": [
    "<img src=\"https://raw.githubusercontent.com/FUlyankin/r_probability/master/end_seminars/sem_2/yYGiBqtirSM.jpg\" height=\"300\" width=\"300\"> \n",
    "\n",
    "# <center> R для тервера и матстата <br>  <br> Генерация распределений </center>\n",
    "---------------"
   ]
  },
  {
   "cell_type": "markdown",
   "metadata": {},
   "source": [
    "Вы будете в шоке, но на самом деле R ориентирован на статитсику и всё что с ней связано! Пора бы поизучать его с этой точки зрения...  Подгружать пакеты для разных красивостей можно командой `library`. Вы должны знать об этом с первого курса..."
   ]
  },
  {
   "cell_type": "code",
   "execution_count": 1,
   "metadata": {},
   "outputs": [],
   "source": [
    "library(\"ggplot2\")  # Пакет для красивых графиков \n",
    "     \n",
    "# Если вы работаете в R-studio, вы можете избежать подгрузки пакетов ниже\n",
    "# Отрегулируем размер картинок, которые будут выдаваться в нашей тетрадке\n",
    "library('repr') \n",
    "library(\"grid\")  # Пакет для субплотов\n",
    "options(repr.plot.width=4, repr.plot.height=3)"
   ]
  },
  {
   "cell_type": "markdown",
   "metadata": {},
   "source": [
    "## 1. Генерим случайные величины \n",
    "\n",
    "Иногда для решения задач по теории вероятностей или исследования свойств статистических алгоритмов нужно сгенерировать случайную выборку из какого-нибудь распределения. Чтобы сварить в R любую случайную величину, нужно знать четыре буквы: r, d, p и q. \n",
    "\n",
    "Посмотрим как это работает на примере **нормального распределения**. Того самого распределения, плотность которого выглядит как-то вот так: \n",
    "\n",
    "$$\n",
    "f(x) = \\frac{1}{\\sigma \\sqrt{2 \\pi}} \\cdot  e^{-\\frac{(x - \\mu)^2}{2 \\sigma^2}}\n",
    "$$\n",
    "\n",
    "* `rnorm` эта команда сгенерирует выборку из нормального распределения\n",
    "* `dnorm` эта команда вычислит значение плотности в указанной точке\n",
    "* `pnorm` эта команда находит вероятность \n",
    "* `qnorm` эта команда находит квантили \n",
    "\n",
    "Аналогично можно работать со многими другими распределениями. Нужно только загуглить названия этих распределений. Например, команда `rchisq` всё ещё генерирует выборку, но уже из распределения хи-квадрат. \n",
    "\n",
    "Сгенерируем случайную величину из нормального распределения с математическим ожиданием $5$ и дисперсией $9$. "
   ]
  },
  {
   "cell_type": "code",
   "execution_count": 2,
   "metadata": {},
   "outputs": [
    {
     "data": {
      "text/html": [
       "<ol class=list-inline>\n",
       "\t<li>2.35107720446488</li>\n",
       "\t<li>5.53479702141745</li>\n",
       "\t<li>6.46898831084352</li>\n",
       "\t<li>7.12255005707833</li>\n",
       "\t<li>6.85165267360084</li>\n",
       "\t<li>-1.79365523173511</li>\n",
       "\t<li>8.13929305025961</li>\n",
       "\t<li>3.80019121196325</li>\n",
       "\t<li>7.00541789921939</li>\n",
       "\t<li>4.58961537771239</li>\n",
       "\t<li>2.53897477195728</li>\n",
       "</ol>\n"
      ],
      "text/latex": [
       "\\begin{enumerate*}\n",
       "\\item 2.35107720446488\n",
       "\\item 5.53479702141745\n",
       "\\item 6.46898831084352\n",
       "\\item 7.12255005707833\n",
       "\\item 6.85165267360084\n",
       "\\item -1.79365523173511\n",
       "\\item 8.13929305025961\n",
       "\\item 3.80019121196325\n",
       "\\item 7.00541789921939\n",
       "\\item 4.58961537771239\n",
       "\\item 2.53897477195728\n",
       "\\end{enumerate*}\n"
      ],
      "text/markdown": [
       "1. 2.35107720446488\n",
       "2. 5.53479702141745\n",
       "3. 6.46898831084352\n",
       "4. 7.12255005707833\n",
       "5. 6.85165267360084\n",
       "6. -1.79365523173511\n",
       "7. 8.13929305025961\n",
       "8. 3.80019121196325\n",
       "9. 7.00541789921939\n",
       "10. 4.58961537771239\n",
       "11. 2.53897477195728\n",
       "\n",
       "\n"
      ],
      "text/plain": [
       " [1]  2.351077  5.534797  6.468988  7.122550  6.851653 -1.793655  8.139293\n",
       " [8]  3.800191  7.005418  4.589615  2.538975"
      ]
     },
     "metadata": {},
     "output_type": "display_data"
    }
   ],
   "source": [
    "x <- rnorm(1000, mean=5, sd=3)  # если дисперсия 9, то стандартное отклонение 3\n",
    "x[10:20]"
   ]
  },
  {
   "cell_type": "markdown",
   "metadata": {},
   "source": [
    "Мы можем посчитать какие-нибудь характеристики для нашей случайной величины! "
   ]
  },
  {
   "cell_type": "code",
   "execution_count": 3,
   "metadata": {},
   "outputs": [
    {
     "data": {
      "text/html": [
       "4.90983940666732"
      ],
      "text/latex": [
       "4.90983940666732"
      ],
      "text/markdown": [
       "4.90983940666732"
      ],
      "text/plain": [
       "[1] 4.909839"
      ]
     },
     "metadata": {},
     "output_type": "display_data"
    }
   ],
   "source": [
    "mean(x) # среднее выборочное (при больших n похоже на математическое ожидание)"
   ]
  },
  {
   "cell_type": "code",
   "execution_count": 4,
   "metadata": {},
   "outputs": [
    {
     "data": {
      "text/html": [
       "8.8773228512777"
      ],
      "text/latex": [
       "8.8773228512777"
      ],
      "text/markdown": [
       "8.8773228512777"
      ],
      "text/plain": [
       "[1] 8.877323"
      ]
     },
     "metadata": {},
     "output_type": "display_data"
    }
   ],
   "source": [
    "var(x) # выборочная дисперсия"
   ]
  },
  {
   "cell_type": "code",
   "execution_count": 5,
   "metadata": {},
   "outputs": [
    {
     "data": {
      "text/html": [
       "2.97948365514525"
      ],
      "text/latex": [
       "2.97948365514525"
      ],
      "text/markdown": [
       "2.97948365514525"
      ],
      "text/plain": [
       "[1] 2.979484"
      ]
     },
     "metadata": {},
     "output_type": "display_data"
    }
   ],
   "source": [
    "sd(x) # выборочное стандартное отклонение"
   ]
  },
  {
   "cell_type": "code",
   "execution_count": 6,
   "metadata": {},
   "outputs": [
    {
     "data": {
      "text/html": [
       "4.90533190317594"
      ],
      "text/latex": [
       "4.90533190317594"
      ],
      "text/markdown": [
       "4.90533190317594"
      ],
      "text/plain": [
       "[1] 4.905332"
      ]
     },
     "metadata": {},
     "output_type": "display_data"
    }
   ],
   "source": [
    "median(x) # выборочная медиана"
   ]
  },
  {
   "cell_type": "markdown",
   "metadata": {},
   "source": [
    "Также мы можем построить гистограмму!"
   ]
  },
  {
   "cell_type": "code",
   "execution_count": 7,
   "metadata": {},
   "outputs": [
    {
     "name": "stderr",
     "output_type": "stream",
     "text": [
      "`stat_bin()` using `bins = 30`. Pick better value with `binwidth`.\n"
     ]
    },
    {
     "data": {},
     "metadata": {},
     "output_type": "display_data"
    },
    {
     "data": {
      "image/png": "[encoded data removed]",
      "text/plain": [
       "plot without title"
      ]
     },
     "metadata": {},
     "output_type": "display_data"
    }
   ],
   "source": [
    "qplot(x) # гистограма "
   ]
  },
  {
   "cell_type": "code",
   "execution_count": 8,
   "metadata": {},
   "outputs": [
    {
     "data": {},
     "metadata": {},
     "output_type": "display_data"
    },
    {
     "data": {
      "image/png": "[encoded data removed]",
      "text/plain": [
       "plot without title"
      ]
     },
     "metadata": {},
     "output_type": "display_data"
    }
   ],
   "source": [
    "#построим функцию плотности\n",
    "x <- seq(-5, 15, by=0.01)\n",
    "y <- dnorm(x, mean=5, sd=3)\n",
    "qplot(x, y, geom=\"line\")"
   ]
  },
  {
   "cell_type": "markdown",
   "metadata": {},
   "source": [
    "Найдём вероятность того, что нормально распределённая случайная величина с выбранными параметрами примет значение меньше $3$!\n",
    "\n",
    "$$ P(X < 3) = \\int_{-\\infty}^3 f(x)dx = F(3)$$"
   ]
  },
  {
   "cell_type": "code",
   "execution_count": 9,
   "metadata": {},
   "outputs": [
    {
     "data": {
      "text/html": [
       "0.252492537546923"
      ],
      "text/latex": [
       "0.252492537546923"
      ],
      "text/markdown": [
       "0.252492537546923"
      ],
      "text/plain": [
       "[1] 0.2524925"
      ]
     },
     "metadata": {},
     "output_type": "display_data"
    }
   ],
   "source": [
    "pnorm(3, mean=5, sd=3)"
   ]
  },
  {
   "cell_type": "markdown",
   "metadata": {},
   "source": [
    "А теперь найдём ещё одну вероятность! \n",
    "\n",
    "$$ P(4 < X < 9) = \\int_4^9 f(x) dx = F(9) - F(4)$$"
   ]
  },
  {
   "cell_type": "code",
   "execution_count": 10,
   "metadata": {},
   "outputs": [
    {
     "data": {
      "text/html": [
       "0.539347440092368"
      ],
      "text/latex": [
       "0.539347440092368"
      ],
      "text/markdown": [
       "0.539347440092368"
      ],
      "text/plain": [
       "[1] 0.5393474"
      ]
     },
     "metadata": {},
     "output_type": "display_data"
    }
   ],
   "source": [
    "pnorm(9, mean=5, sd=3) - pnorm(4, mean=5, sd=3)"
   ]
  },
  {
   "cell_type": "markdown",
   "metadata": {},
   "source": [
    "Для полноты картины осталось только найти какой-нибудь квантиль! Не будем забывать о том, что квантиль уровня $\\gamma$ это такое число $q$, что \n",
    "\n",
    "$$P(X < q) = \\gamma$$"
   ]
  },
  {
   "cell_type": "code",
   "execution_count": 11,
   "metadata": {},
   "outputs": [
    {
     "data": {
      "text/html": [
       "6.57320153812412"
      ],
      "text/latex": [
       "6.57320153812412"
      ],
      "text/markdown": [
       "6.57320153812412"
      ],
      "text/plain": [
       "[1] 6.573202"
      ]
     },
     "metadata": {},
     "output_type": "display_data"
    }
   ],
   "source": [
    "qnorm(0.7, mean=5, sd=3)"
   ]
  },
  {
   "cell_type": "markdown",
   "metadata": {},
   "source": [
    "Можно использовать R как весёлый калькулятор для поиска квантелей нормального распределения при проверке гипотез!"
   ]
  },
  {
   "cell_type": "code",
   "execution_count": 12,
   "metadata": {},
   "outputs": [
    {
     "data": {
      "text/html": [
       "<ol class=list-inline>\n",
       "\t<li>1.64485362695147</li>\n",
       "\t<li>1.95996398454005</li>\n",
       "\t<li>2.5758293035489</li>\n",
       "</ol>\n"
      ],
      "text/latex": [
       "\\begin{enumerate*}\n",
       "\\item 1.64485362695147\n",
       "\\item 1.95996398454005\n",
       "\\item 2.5758293035489\n",
       "\\end{enumerate*}\n"
      ],
      "text/markdown": [
       "1. 1.64485362695147\n",
       "2. 1.95996398454005\n",
       "3. 2.5758293035489\n",
       "\n",
       "\n"
      ],
      "text/plain": [
       "[1] 1.644854 1.959964 2.575829"
      ]
     },
     "metadata": {},
     "output_type": "display_data"
    }
   ],
   "source": [
    "x <- c(0.95, 0.975, 0.995)\n",
    "qnorm(x, mean = 0, sd = 1)"
   ]
  },
  {
   "cell_type": "markdown",
   "metadata": {},
   "source": [
    "Рано или поздно у вас вознкнет желание набить татуху с цифрами $1.64$ и $1.96$. Давайте попробуем получить те же самые квантили, но для распределения Стьюдента! "
   ]
  },
  {
   "cell_type": "code",
   "execution_count": 13,
   "metadata": {},
   "outputs": [
    {
     "data": {
      "text/html": [
       "<ol class=list-inline>\n",
       "\t<li>1.81246112281168</li>\n",
       "\t<li>2.22813885198627</li>\n",
       "\t<li>3.16927267261695</li>\n",
       "</ol>\n"
      ],
      "text/latex": [
       "\\begin{enumerate*}\n",
       "\\item 1.81246112281168\n",
       "\\item 2.22813885198627\n",
       "\\item 3.16927267261695\n",
       "\\end{enumerate*}\n"
      ],
      "text/markdown": [
       "1. 1.81246112281168\n",
       "2. 2.22813885198627\n",
       "3. 3.16927267261695\n",
       "\n",
       "\n"
      ],
      "text/plain": [
       "[1] 1.812461 2.228139 3.169273"
      ]
     },
     "metadata": {},
     "output_type": "display_data"
    }
   ],
   "source": [
    "x <- c(0.95, 0.975, 0.995)\n",
    "qt(x, df=10)"
   ]
  },
  {
   "cell_type": "markdown",
   "metadata": {},
   "source": [
    "У распределения Стьюдента обычно при проверке гипотез используется разное количество степеней свободы. Тут какие-то конкретные значения на руку уже не набьёшь. Остался один вопрос на засыпку. А что сгенерирует команда `rnorm(20)`? "
   ]
  },
  {
   "cell_type": "code",
   "execution_count": 14,
   "metadata": {},
   "outputs": [
    {
     "data": {
      "text/html": [
       "<ol class=list-inline>\n",
       "\t<li>-0.272094287026954</li>\n",
       "\t<li>-0.0193140707235025</li>\n",
       "\t<li>0.456690156003642</li>\n",
       "\t<li>1.790013883944</li>\n",
       "\t<li>0.343430859965217</li>\n",
       "\t<li>-0.472894294298738</li>\n",
       "\t<li>-0.077768911379401</li>\n",
       "\t<li>-0.356342787794185</li>\n",
       "\t<li>0.931511315435667</li>\n",
       "\t<li>0.285143678753558</li>\n",
       "\t<li>-0.076007647585753</li>\n",
       "\t<li>-1.362479232561</li>\n",
       "\t<li>-0.00374197758483232</li>\n",
       "\t<li>0.365087627536144</li>\n",
       "\t<li>1.88164152480932</li>\n",
       "\t<li>-0.227227271118219</li>\n",
       "\t<li>-0.619692671337925</li>\n",
       "\t<li>-1.0193954796768</li>\n",
       "\t<li>0.662659735202107</li>\n",
       "\t<li>1.18614876130014</li>\n",
       "</ol>\n"
      ],
      "text/latex": [
       "\\begin{enumerate*}\n",
       "\\item -0.272094287026954\n",
       "\\item -0.0193140707235025\n",
       "\\item 0.456690156003642\n",
       "\\item 1.790013883944\n",
       "\\item 0.343430859965217\n",
       "\\item -0.472894294298738\n",
       "\\item -0.077768911379401\n",
       "\\item -0.356342787794185\n",
       "\\item 0.931511315435667\n",
       "\\item 0.285143678753558\n",
       "\\item -0.076007647585753\n",
       "\\item -1.362479232561\n",
       "\\item -0.00374197758483232\n",
       "\\item 0.365087627536144\n",
       "\\item 1.88164152480932\n",
       "\\item -0.227227271118219\n",
       "\\item -0.619692671337925\n",
       "\\item -1.0193954796768\n",
       "\\item 0.662659735202107\n",
       "\\item 1.18614876130014\n",
       "\\end{enumerate*}\n"
      ],
      "text/markdown": [
       "1. -0.272094287026954\n",
       "2. -0.0193140707235025\n",
       "3. 0.456690156003642\n",
       "4. 1.790013883944\n",
       "5. 0.343430859965217\n",
       "6. -0.472894294298738\n",
       "7. -0.077768911379401\n",
       "8. -0.356342787794185\n",
       "9. 0.931511315435667\n",
       "10. 0.285143678753558\n",
       "11. -0.076007647585753\n",
       "12. -1.362479232561\n",
       "13. -0.00374197758483232\n",
       "14. 0.365087627536144\n",
       "15. 1.88164152480932\n",
       "16. -0.227227271118219\n",
       "17. -0.619692671337925\n",
       "18. -1.0193954796768\n",
       "19. 0.662659735202107\n",
       "20. 1.18614876130014\n",
       "\n",
       "\n"
      ],
      "text/plain": [
       " [1] -0.272094287 -0.019314071  0.456690156  1.790013884  0.343430860\n",
       " [6] -0.472894294 -0.077768911 -0.356342788  0.931511315  0.285143679\n",
       "[11] -0.076007648 -1.362479233 -0.003741978  0.365087628  1.881641525\n",
       "[16] -0.227227271 -0.619692671 -1.019395480  0.662659735  1.186148761"
      ]
     },
     "metadata": {},
     "output_type": "display_data"
    }
   ],
   "source": [
    "rnorm(20)  # конечно выборку N(0,1)"
   ]
  },
  {
   "cell_type": "markdown",
   "metadata": {},
   "source": [
    "## 2. Зачем это надо? \n",
    "\n",
    "Чтобы решать рельные проблемы! Например, с помощью R можно оценить математическое ожидание случайной величины $\\frac{1}{X}$, где $X \\sim N(5; 3)$ без взятия страшных интегралов. Для этого надо лишь вспомнить [Закон Больших Чисел](https://ru.wikipedia.org/wiki/Закон_больших_чисел). Он говорит, что арифметическое среднее по большой выборке стремится по вероятности и почти наверное к математическому ожиданию. Поэтому мы просто сгенерируем большую выборку в миллион наблюдений:"
   ]
  },
  {
   "cell_type": "code",
   "execution_count": 1,
   "metadata": {},
   "outputs": [
    {
     "data": {
      "text/html": [
       "0.682695353040693"
      ],
      "text/latex": [
       "0.682695353040693"
      ],
      "text/markdown": [
       "0.682695353040693"
      ],
      "text/plain": [
       "[1] 0.6826954"
      ]
     },
     "metadata": {},
     "output_type": "display_data"
    }
   ],
   "source": [
    "n_obs <- 10^6\n",
    "x <- rnorm(n_obs, mean = 5, sd = 3)\n",
    "mean(1/x)"
   ]
  },
  {
   "cell_type": "markdown",
   "metadata": {},
   "source": [
    "Вот и наше математическое ожидание! Попробуйте ради забавы найти его на досуге вручную. Или не пробуйте. Также легко оценить многие вероятности. Например, оценим вероятность $P(X_1 + X_2 + X_3^2 > 5)$, где величины $X_i$ независимы и одинаково распределены $X_i \\sim U[0;2]$:"
   ]
  },
  {
   "cell_type": "code",
   "execution_count": 16,
   "metadata": {},
   "outputs": [
    {
     "data": {
      "text/html": [
       "0.14825"
      ],
      "text/latex": [
       "0.14825"
      ],
      "text/markdown": [
       "0.14825"
      ],
      "text/plain": [
       "[1] 0.14825"
      ]
     },
     "metadata": {},
     "output_type": "display_data"
    }
   ],
   "source": [
    "n_obs <- 10^6\n",
    "x_1 <- runif(n_obs, min = 0, max = 2)\n",
    "x_2 <- runif(n_obs, min = 0, max = 2)\n",
    "x_3 <- runif(n_obs, min = 0, max = 2)\n",
    "\n",
    "success <- x_1 + x_2 + x_3^2 > 5\n",
    "sum(success) / n_obs"
   ]
  },
  {
   "cell_type": "markdown",
   "metadata": {},
   "source": [
    "Здесь вектор success будет содержать значение `TRUE` там, где условие `x_1 + x_2 + x_3^2 > 5` выполнено, и `FALSE` там, где условие не выполнено. При сложении командой `sum()` каждое `TRUE` будет посчитано как единица, а каждое `FALSE` как ноль. Поэтому `sum(success)` даст количество раз, когда условие `x_1 + x_2 + x_3^2 > 5` выполнено.\n",
    "\n",
    "И снова, на досуге попробуйте сделать это на бумажке своими руками, но лучше не надо. С такой же лёгкостью можно находить разные условные вероятности. Например, давайте найдём $P(X_1 + X_2 > 0.8 \\mid X_3 < 0.1)$"
   ]
  },
  {
   "cell_type": "code",
   "execution_count": 17,
   "metadata": {},
   "outputs": [
    {
     "data": {
      "text/html": [
       "<ol class=list-inline>\n",
       "\t<li>FALSE</li>\n",
       "\t<li>FALSE</li>\n",
       "\t<li>FALSE</li>\n",
       "\t<li>FALSE</li>\n",
       "\t<li>FALSE</li>\n",
       "\t<li>FALSE</li>\n",
       "\t<li>FALSE</li>\n",
       "\t<li>FALSE</li>\n",
       "\t<li>FALSE</li>\n",
       "\t<li>FALSE</li>\n",
       "</ol>\n"
      ],
      "text/latex": [
       "\\begin{enumerate*}\n",
       "\\item FALSE\n",
       "\\item FALSE\n",
       "\\item FALSE\n",
       "\\item FALSE\n",
       "\\item FALSE\n",
       "\\item FALSE\n",
       "\\item FALSE\n",
       "\\item FALSE\n",
       "\\item FALSE\n",
       "\\item FALSE\n",
       "\\end{enumerate*}\n"
      ],
      "text/markdown": [
       "1. FALSE\n",
       "2. FALSE\n",
       "3. FALSE\n",
       "4. FALSE\n",
       "5. FALSE\n",
       "6. FALSE\n",
       "7. FALSE\n",
       "8. FALSE\n",
       "9. FALSE\n",
       "10. FALSE\n",
       "\n",
       "\n"
      ],
      "text/plain": [
       " [1] FALSE FALSE FALSE FALSE FALSE FALSE FALSE FALSE FALSE FALSE"
      ]
     },
     "metadata": {},
     "output_type": "display_data"
    }
   ],
   "source": [
    "uslovie <- x_3 < 0.1\n",
    "uslovie[1:10]"
   ]
  },
  {
   "cell_type": "code",
   "execution_count": 18,
   "metadata": {},
   "outputs": [
    {
     "data": {
      "text/html": [
       "49522"
      ],
      "text/latex": [
       "49522"
      ],
      "text/markdown": [
       "49522"
      ],
      "text/plain": [
       "[1] 49522"
      ]
     },
     "metadata": {},
     "output_type": "display_data"
    }
   ],
   "source": [
    "# можно посмотреть сколько раз за всю симуляцию x_3 < 0.1\n",
    "sum(uslovie)"
   ]
  },
  {
   "cell_type": "code",
   "execution_count": 19,
   "metadata": {},
   "outputs": [
    {
     "data": {
      "text/html": [
       "0.045634"
      ],
      "text/latex": [
       "0.045634"
      ],
      "text/markdown": [
       "0.045634"
      ],
      "text/plain": [
       "[1] 0.045634"
      ]
     },
     "metadata": {},
     "output_type": "display_data"
    }
   ],
   "source": [
    "# ищем успех при условии\n",
    "success <- x_1[uslovie] + x_2[uslovie] > 0.8\n",
    "\n",
    "sum(success)/ n_obs"
   ]
  },
  {
   "cell_type": "markdown",
   "metadata": {},
   "source": [
    "## 3. Генерация выборок \n",
    "\n",
    "С помощью таких же нехитрых манипуляций можно симулировать различные события. Например, можно сгенерировать выборку без повторений из вектора `1:10` размера `5`. Все элементы будут выбираться равновероятно."
   ]
  },
  {
   "cell_type": "code",
   "execution_count": 20,
   "metadata": {},
   "outputs": [
    {
     "data": {
      "text/html": [
       "<ol class=list-inline>\n",
       "\t<li>3</li>\n",
       "\t<li>8</li>\n",
       "\t<li>6</li>\n",
       "\t<li>9</li>\n",
       "\t<li>2</li>\n",
       "</ol>\n"
      ],
      "text/latex": [
       "\\begin{enumerate*}\n",
       "\\item 3\n",
       "\\item 8\n",
       "\\item 6\n",
       "\\item 9\n",
       "\\item 2\n",
       "\\end{enumerate*}\n"
      ],
      "text/markdown": [
       "1. 3\n",
       "2. 8\n",
       "3. 6\n",
       "4. 9\n",
       "5. 2\n",
       "\n",
       "\n"
      ],
      "text/plain": [
       "[1] 3 8 6 9 2"
      ]
     },
     "metadata": {},
     "output_type": "display_data"
    }
   ],
   "source": [
    "sample(1:10, size = 5)"
   ]
  },
  {
   "cell_type": "markdown",
   "metadata": {},
   "source": [
    "Можно внести в это дело немного хаоса и сгенеровать ту же выборку, но с повторениями. "
   ]
  },
  {
   "cell_type": "code",
   "execution_count": 21,
   "metadata": {},
   "outputs": [
    {
     "data": {
      "text/html": [
       "<ol class=list-inline>\n",
       "\t<li>9</li>\n",
       "\t<li>9</li>\n",
       "\t<li>6</li>\n",
       "\t<li>6</li>\n",
       "\t<li>1</li>\n",
       "</ol>\n"
      ],
      "text/latex": [
       "\\begin{enumerate*}\n",
       "\\item 9\n",
       "\\item 9\n",
       "\\item 6\n",
       "\\item 6\n",
       "\\item 1\n",
       "\\end{enumerate*}\n"
      ],
      "text/markdown": [
       "1. 9\n",
       "2. 9\n",
       "3. 6\n",
       "4. 6\n",
       "5. 1\n",
       "\n",
       "\n"
      ],
      "text/plain": [
       "[1] 9 9 6 6 1"
      ]
     },
     "metadata": {},
     "output_type": "display_data"
    }
   ],
   "source": [
    "sample(1:10, size = 5, replace = TRUE)"
   ]
  },
  {
   "cell_type": "markdown",
   "metadata": {},
   "source": [
    "А ещё можно самостоятельно расставить вероятности событий. Давайте, например ссимулируем 10 подбрасываний неправильной монетки!"
   ]
  },
  {
   "cell_type": "code",
   "execution_count": 22,
   "metadata": {},
   "outputs": [
    {
     "data": {
      "text/html": [
       "<ol class=list-inline>\n",
       "\t<li>'Решка'</li>\n",
       "\t<li>'Орёл'</li>\n",
       "\t<li>'Решка'</li>\n",
       "\t<li>'Решка'</li>\n",
       "\t<li>'Орёл'</li>\n",
       "\t<li>'Решка'</li>\n",
       "\t<li>'Орёл'</li>\n",
       "\t<li>'Решка'</li>\n",
       "\t<li>'Орёл'</li>\n",
       "\t<li>'Орёл'</li>\n",
       "</ol>\n"
      ],
      "text/latex": [
       "\\begin{enumerate*}\n",
       "\\item 'Решка'\n",
       "\\item 'Орёл'\n",
       "\\item 'Решка'\n",
       "\\item 'Решка'\n",
       "\\item 'Орёл'\n",
       "\\item 'Решка'\n",
       "\\item 'Орёл'\n",
       "\\item 'Решка'\n",
       "\\item 'Орёл'\n",
       "\\item 'Орёл'\n",
       "\\end{enumerate*}\n"
      ],
      "text/markdown": [
       "1. 'Решка'\n",
       "2. 'Орёл'\n",
       "3. 'Решка'\n",
       "4. 'Решка'\n",
       "5. 'Орёл'\n",
       "6. 'Решка'\n",
       "7. 'Орёл'\n",
       "8. 'Решка'\n",
       "9. 'Орёл'\n",
       "10. 'Орёл'\n",
       "\n",
       "\n"
      ],
      "text/plain": [
       " [1] \"Решка\" \"Орёл\"  \"Решка\" \"Решка\" \"Орёл\"  \"Решка\" \"Орёл\"  \"Решка\" \"Орёл\" \n",
       "[10] \"Орёл\" "
      ]
     },
     "metadata": {},
     "output_type": "display_data"
    }
   ],
   "source": [
    "sample(c(\"Орёл\", \"Решка\"), size = 10, replace = TRUE, prob = c(0.3, 0.7))"
   ]
  },
  {
   "cell_type": "markdown",
   "metadata": {},
   "source": [
    "А если упороться и ссимулировать огромное число наблюдений, то можно даже оценить вероятность выпадения решек. Хвала __Закону Больших Чисел__ за это!"
   ]
  },
  {
   "cell_type": "code",
   "execution_count": 23,
   "metadata": {},
   "outputs": [
    {
     "data": {
      "text/html": [
       "0.300304"
      ],
      "text/latex": [
       "0.300304"
      ],
      "text/markdown": [
       "0.300304"
      ],
      "text/plain": [
       "[1] 0.300304"
      ]
     },
     "metadata": {},
     "output_type": "display_data"
    }
   ],
   "source": [
    "x <-  sample(c(\"Орёл\", \"Решка\"), size = 10^6, replace = TRUE, prob = c(0.3, 0.7))\n",
    "\n",
    "sum(x == 'Орёл')/length(x)"
   ]
  },
  {
   "cell_type": "markdown",
   "metadata": {},
   "source": [
    "## 4. Зёрна\n",
    "\n",
    "Если выполнить команду `rnorm(10, mean = 2, sd = 3)` на двух разных компьютерах или два раза на одном и том же, то результат будет разный. Не зря же они случайные :) Однако генерирование случайных величин никак не противоречит идее абсолютно точной воспроизводимости исследований. Для того, чтобы получились одинаковые результаты, необходимо синхронизировать генераторы случайных чисел на этих двух компьютерах. Делается это путём задания зерна генератора случайных чисел (seed). Зерно также называют стартовым значением. В качестве зерна подойдёт любое целое число."
   ]
  },
  {
   "cell_type": "code",
   "execution_count": 9,
   "metadata": {},
   "outputs": [
    {
     "data": {
      "text/html": [
       "6.11287534144001"
      ],
      "text/latex": [
       "6.11287534144001"
      ],
      "text/markdown": [
       "6.11287534144001"
      ],
      "text/plain": [
       "[1] 6.112875"
      ]
     },
     "metadata": {},
     "output_type": "display_data"
    }
   ],
   "source": [
    "qrnorm(1, mean = 2, sd = 3)"
   ]
  },
  {
   "cell_type": "code",
   "execution_count": 10,
   "metadata": {},
   "outputs": [
    {
     "data": {
      "text/html": [
       "0.305905485811734"
      ],
      "text/latex": [
       "0.305905485811734"
      ],
      "text/markdown": [
       "0.305905485811734"
      ],
      "text/plain": [
       "[1] 0.3059055"
      ]
     },
     "metadata": {},
     "output_type": "display_data"
    }
   ],
   "source": [
    "rnorm(1, mean = 2, sd = 3)"
   ]
  },
  {
   "cell_type": "markdown",
   "metadata": {},
   "source": [
    "Угадайте, какие числа чаще всего используют для зёрен?\n",
    "\n",
    "Многие алгоритмы в машинном обучении и эконометрике в какой-то степени основаны на случайности. Чтобы добиться воспроизводимых одинаковых результатов, нужно устанавливать зерно генерации. "
   ]
  },
  {
   "cell_type": "markdown",
   "metadata": {},
   "source": [
    "# Задачки"
   ]
  },
  {
   "cell_type": "markdown",
   "metadata": {},
   "source": [
    "## 1. Задачка про булки\n",
    "\n",
    "Каждый день Света съедает случайное количество булочек, которое распределено по Пуассону с параметром $10$. Логарифм затрат в рублях на каждую булочку распределён нормально $N(2,1)$. Ксюша каждый день съедает биномиальное количество булочек $Bin(8, 0.5)$. Затраты Ксюши на каждую булочку распределены равномерно на отрезке $[2;20]$. "
   ]
  },
  {
   "cell_type": "markdown",
   "metadata": {},
   "source": [
    "__а)__ Сколько в среднем Света тратит на булочки за день? "
   ]
  },
  {
   "cell_type": "code",
   "execution_count": null,
   "metadata": {},
   "outputs": [],
   "source": [
    "### ╰( ͡° ͜ʖ ͡° )つ──☆ ваш код"
   ]
  },
  {
   "cell_type": "markdown",
   "metadata": {},
   "source": [
    "__б)__ Чему равна дисперсия дневных расходов Светы? "
   ]
  },
  {
   "cell_type": "code",
   "execution_count": null,
   "metadata": {},
   "outputs": [],
   "source": [
    "### ╰( ͡° ͜ʖ ͡° )つ──☆ ваш код"
   ]
  },
  {
   "cell_type": "markdown",
   "metadata": {},
   "source": [
    "__в)__ Какова вероятность того, что за один день Света потратит больше денег, чем Ксюша? "
   ]
  },
  {
   "cell_type": "code",
   "execution_count": null,
   "metadata": {},
   "outputs": [],
   "source": [
    "### ╰( ͡° ͜ʖ ͡° )つ──☆ ваш код"
   ]
  },
  {
   "cell_type": "markdown",
   "metadata": {},
   "source": [
    "__г)__ Какова условная вероятность того, что Света за день съела больше булочек, чем Ксюша, если известно, что Ксюша потратила больше денег? "
   ]
  },
  {
   "cell_type": "code",
   "execution_count": null,
   "metadata": {},
   "outputs": [],
   "source": [
    "### ╰( ͡° ͜ʖ ͡° )つ──☆ ваш код"
   ]
  },
  {
   "cell_type": "markdown",
   "metadata": {},
   "source": [
    "## 2. Задачка про багеты\n",
    "\n",
    "Удав Анатолий любит французские багеты. Длина французского багета равна $1$ метру. За один заглот Удав Анатолий заглатывает кусок случайной длины, равномерно распределённый на отрезке $[0;1]$. Для того, чтобы съесть весь багет удаву потребуется случайное количество $N$ заглотов. \n",
    "\n",
    "Найдите $E(N)$ и $Var(N)$. Как поменяются ответы, если багет имеет длину $2$ метра? \n",
    "\n",
    "Кстати говоря, эту задачку можно решить руками с помощью метода первого шага. Его мы разберём на второй паре. Правда для этого придётся выписать систему из двух уравниний с интегралами. В сборнике сложных задач по терверу, [культурном коде,](https://github.com/bdemeshev/probability_dna/raw/master/probability_dna.pdf) можно найти три разных решения этой задачки. Она там находится под номером $46$."
   ]
  },
  {
   "cell_type": "code",
   "execution_count": null,
   "metadata": {},
   "outputs": [],
   "source": [
    "### ╰( ͡° ͜ʖ ͡° )つ──☆ ваш код"
   ]
  },
  {
   "cell_type": "markdown",
   "metadata": {},
   "source": [
    "## 3. Задачка с контрольной по терверу :)\n",
    "\n",
    "Для 20 участников соревнований, среди которых 8 российских, в гостинице забронировано 20 номеров. Из них 12 с видом на море. Участники соревнований наугад получают ключи от номернов. Найдите вероятность того, что номера с видом на море достанутся всем российским спортсменам."
   ]
  },
  {
   "cell_type": "code",
   "execution_count": null,
   "metadata": {},
   "outputs": [],
   "source": [
    "### ╰( ͡° ͜ʖ ͡° )つ──☆ ваш код"
   ]
  },
  {
   "cell_type": "markdown",
   "metadata": {},
   "source": [
    "## 4. Задачка про лампочки\n",
    "\n",
    "Таня сидит дома на самоизоляции уже третий месяц. Интернет отключили. Ей скучно. Она достала. из ящика $5$ лампочек, вкрутила их в люстру, поставила посреди комнаты стул и стала ждать, когда первая лампочка перегорит. Время работы лампочек, $T$, имеет экспоненциальное распределение с параметром $\\lambda = 0.2$ минут.\n",
    "\n",
    "__а)__ Какова вероятность того, что первая лапочка проработает больше $10$ минут? "
   ]
  },
  {
   "cell_type": "code",
   "execution_count": null,
   "metadata": {},
   "outputs": [],
   "source": [
    "### ╰( ͡° ͜ʖ ͡° )つ──☆ ваш код"
   ]
  },
  {
   "cell_type": "markdown",
   "metadata": {},
   "source": [
    "__б)__ Чему равен для первой лампочки $95\\%$ квантиль? Как проинтерпретировать это число? "
   ]
  },
  {
   "cell_type": "code",
   "execution_count": null,
   "metadata": {},
   "outputs": [],
   "source": [
    "### ╰( ͡° ͜ʖ ͡° )つ──☆ ваш код"
   ]
  },
  {
   "cell_type": "markdown",
   "metadata": {},
   "source": [
    "__в)__ Пусть случайная велчина $X = \\min(T_1, \\ldots, T_5)$ - время до перегорания первой лампочки. Оцените: \n",
    "\n",
    "- $P(X > 10)$\n",
    "- $P(X > 10 \\mid T_1 > 5)$\n",
    "- $E(X)$\n",
    "- $E(X \\mid T_1 > 5)$"
   ]
  },
  {
   "cell_type": "code",
   "execution_count": null,
   "metadata": {},
   "outputs": [],
   "source": [
    "### ╰( ͡° ͜ʖ ͡° )つ──☆ ваш код"
   ]
  },
  {
   "cell_type": "markdown",
   "metadata": {},
   "source": [
    "__г)__ Пусть случайная величина $Y = \\max(T_1, \\ldots, T_5)$ - время до перегорания последней лампочки. Оцените \n",
    "\n",
    "- $E(Y - X)$\n",
    "- $P(Y > 2 X)$ \n",
    "- $Cov(X,Y)$,\n",
    "- $Var(X), Var(Y)$, какая из дисперсий больше, почему?"
   ]
  },
  {
   "cell_type": "code",
   "execution_count": null,
   "metadata": {},
   "outputs": [],
   "source": [
    "### ╰( ͡° ͜ʖ ͡° )つ──☆ ваш код"
   ]
  },
  {
   "cell_type": "markdown",
   "metadata": {},
   "source": [
    "## Соблюдение авторских прав\n",
    "\n",
    "* При написании первой части блокнота очень сильно (вплоть до копипасты) использовалась [первая глава](https://github.com/bdemeshev/r_manual_book/blob/master/03_statistics_and_more.Rmd) [учебника по языку R для начинающих от Демешева Б.Б.](https://bdemeshev.github.io/r_manual_book/)\n",
    "\n",
    "\n",
    "## Почиташки \n",
    "\n",
    "*  Ещё один недописаный учебник с [разными распределениями и всяким таким в R](http://www.ievbras.ru/ecostat/Kiril/R/Biblio/R_rus/%C7%E0%F0%FF%E4%EE%E2%20%F7%E0%F1%F2%FC_2.pdf)\n",
    "*  [Шпаргалка по ggplot2](https://www.rstudio.com/wp-content/uploads/2015/03/ggplot2-cheatsheet.pdf)"
   ]
  },
  {
   "cell_type": "markdown",
   "metadata": {},
   "source": [
    " "
   ]
  }
 ],
 "metadata": {
  "kernelspec": {
   "display_name": "R",
   "language": "R",
   "name": "ir"
  },
  "language_info": {
   "codemirror_mode": "r",
   "file_extension": ".r",
   "mimetype": "text/x-r-source",
   "name": "R",
   "pygments_lexer": "r",
   "version": "3.5.3"
  }
 },
 "nbformat": 4,
 "nbformat_minor": 2
}
