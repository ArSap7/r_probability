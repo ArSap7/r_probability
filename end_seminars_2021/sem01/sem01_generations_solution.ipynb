{
  "nbformat": 4,
  "nbformat_minor": 0,
  "metadata": {
    "kernelspec": {
      "display_name": "R",
      "language": "R",
      "name": "ir"
    },
    "language_info": {
      "codemirror_mode": "r",
      "file_extension": ".r",
      "mimetype": "text/x-r-source",
      "name": "R",
      "pygments_lexer": "r",
      "version": "3.5.3"
    },
    "colab": {
      "name": "sem01_generations.ipynb",
      "provenance": []
    }
  },
  "cells": [
    {
      "cell_type": "markdown",
      "metadata": {
        "id": "0BnKN6XUvflR"
      },
      "source": [
        "<center>\n",
        "<img src=\"https://raw.githubusercontent.com/FUlyankin/r_probability/master/end_seminars/sem_2/yYGiBqtirSM.jpg\"  width=\"300\"> \n",
        "</center>\n",
        "\n",
        "# <center> R для тервера и матстата <br>  <br> Генерация распределений </center>\n",
        "---------------"
      ]
    },
    {
      "cell_type": "code",
      "metadata": {
        "colab": {
          "base_uri": "https://localhost:8080/",
          "height": 34
        },
        "id": "A7h3lg556u6M",
        "outputId": "a3513c00-72f7-4129-d074-b6c2d31fc9a6"
      },
      "source": [
        "2^10"
      ],
      "execution_count": null,
      "outputs": [
        {
          "output_type": "display_data",
          "data": {
            "text/plain": [
              "[1] 1024"
            ],
            "text/latex": "1024",
            "text/markdown": "1024",
            "text/html": [
              "1024"
            ]
          },
          "metadata": {
            "tags": []
          }
        }
      ]
    },
    {
      "cell_type": "markdown",
      "metadata": {
        "id": "mScqjgU3vflY"
      },
      "source": [
        "Вы будете в шоке, но на самом деле R ориентирован на статитсику и всё что с ней связано! Пора бы поизучать его с этой точки зрения...  Подгружать пакеты для разных красивостей можно командой `library`. Вы должны знать об этом с первого курса..."
      ]
    },
    {
      "cell_type": "code",
      "metadata": {
        "id": "VhC1v1t4vflZ"
      },
      "source": [
        "library(\"ggplot2\")  # Пакет для красивых графиков \n",
        "     \n",
        "# Если вы работаете в R-studio, вы можете избежать подгрузки пакетов ниже\n",
        "# Отрегулируем размер картинок, которые будут выдаваться в нашей тетрадке\n",
        "library('repr') \n",
        "library(\"grid\")  # Пакет для субплотов\n",
        "options(repr.plot.width=4, repr.plot.height=3)"
      ],
      "execution_count": null,
      "outputs": []
    },
    {
      "cell_type": "markdown",
      "metadata": {
        "id": "j61Ymj3wvfla"
      },
      "source": [
        "## 1. Генерим случайные величины \n",
        "\n",
        "Иногда для решения задач по теории вероятностей или исследования свойств статистических алгоритмов нужно сгенерировать случайную выборку из какого-нибудь распределения. Чтобы сварить в R любую случайную величину, нужно знать четыре буквы: r, d, p и q. \n",
        "\n",
        "Посмотрим как это работает на примере **нормального распределения**. Того самого распределения, плотность которого выглядит как-то вот так: \n",
        "\n",
        "$$\n",
        "f(x) = \\frac{1}{\\sigma \\sqrt{2 \\pi}} \\cdot  e^{-\\frac{(x - \\mu)^2}{2 \\sigma^2}}\n",
        "$$\n",
        "\n",
        "* `rnorm` эта команда сгенерирует выборку из нормального распределения\n",
        "* `dnorm` эта команда вычислит значение плотности в указанной точке\n",
        "* `pnorm` эта команда находит вероятность \n",
        "* `qnorm` эта команда находит квантили \n",
        "\n",
        "Аналогично можно работать со многими другими распределениями. Нужно только загуглить названия этих распределений. Например, команда `rchisq` всё ещё генерирует выборку, но уже из распределения хи-квадрат. \n",
        "\n",
        "Сгенерируем случайную величину из нормального распределения с математическим ожиданием $5$ и дисперсией $9$. "
      ]
    },
    {
      "cell_type": "code",
      "metadata": {
        "colab": {
          "base_uri": "https://localhost:8080/",
          "height": 68
        },
        "id": "jl8vb2hxvfla",
        "outputId": "16aaa7bd-ac73-47c3-cc91-c7a1008c4b3a"
      },
      "source": [
        "# если дисперсия 9, то стандартное отклонение 3\n",
        "x <- rnorm(100000, mean=5, sd=3)  \n",
        "x[10:20]"
      ],
      "execution_count": null,
      "outputs": [
        {
          "output_type": "display_data",
          "data": {
            "text/plain": [
              " [1]  3.5525904  0.3127375  4.6688139 14.7630154  9.2239058  2.9469314\n",
              " [7] 10.7093289  4.6003086  8.7999462  4.1497447 -2.1518293"
            ],
            "text/latex": "\\begin{enumerate*}\n\\item 3.55259041182307\n\\item 0.312737473470481\n\\item 4.66881393839186\n\\item 14.7630154116273\n\\item 9.2239058421206\n\\item 2.94693144499543\n\\item 10.7093288551821\n\\item 4.6003085603423\n\\item 8.79994616709546\n\\item 4.14974474041137\n\\item -2.15182926099708\n\\end{enumerate*}\n",
            "text/markdown": "1. 3.55259041182307\n2. 0.312737473470481\n3. 4.66881393839186\n4. 14.7630154116273\n5. 9.2239058421206\n6. 2.94693144499543\n7. 10.7093288551821\n8. 4.6003085603423\n9. 8.79994616709546\n10. 4.14974474041137\n11. -2.15182926099708\n\n\n",
            "text/html": [
              "<style>\n",
              ".list-inline {list-style: none; margin:0; padding: 0}\n",
              ".list-inline>li {display: inline-block}\n",
              ".list-inline>li:not(:last-child)::after {content: \"\\00b7\"; padding: 0 .5ex}\n",
              "</style>\n",
              "<ol class=list-inline><li>3.55259041182307</li><li>0.312737473470481</li><li>4.66881393839186</li><li>14.7630154116273</li><li>9.2239058421206</li><li>2.94693144499543</li><li>10.7093288551821</li><li>4.6003085603423</li><li>8.79994616709546</li><li>4.14974474041137</li><li>-2.15182926099708</li></ol>\n"
            ]
          },
          "metadata": {
            "tags": []
          }
        }
      ]
    },
    {
      "cell_type": "markdown",
      "metadata": {
        "id": "y_spGkhLvflc"
      },
      "source": [
        "Мы можем посчитать какие-нибудь характеристики для нашей случайной величины! "
      ]
    },
    {
      "cell_type": "code",
      "metadata": {
        "colab": {
          "base_uri": "https://localhost:8080/",
          "height": 34
        },
        "id": "tJh4f2nHvflc",
        "outputId": "c078df2b-0d2d-4d50-9723-ef6fcc4c3ec0"
      },
      "source": [
        "mean(x) # среднее выборочное (при больших n похоже на математическое ожидание)"
      ],
      "execution_count": null,
      "outputs": [
        {
          "output_type": "display_data",
          "data": {
            "text/plain": [
              "[1] 5.006884"
            ],
            "text/latex": "5.00688438338771",
            "text/markdown": "5.00688438338771",
            "text/html": [
              "5.00688438338771"
            ]
          },
          "metadata": {
            "tags": []
          }
        }
      ]
    },
    {
      "cell_type": "code",
      "metadata": {
        "colab": {
          "base_uri": "https://localhost:8080/",
          "height": 34
        },
        "id": "_mtjgbt1vflc",
        "outputId": "62186022-4ad7-441b-b349-834438d9da08"
      },
      "source": [
        "var(x) # выборочная дисперсия"
      ],
      "execution_count": null,
      "outputs": [
        {
          "output_type": "display_data",
          "data": {
            "text/plain": [
              "[1] 8.940905"
            ],
            "text/latex": "8.94090538369509",
            "text/markdown": "8.94090538369509",
            "text/html": [
              "8.94090538369509"
            ]
          },
          "metadata": {
            "tags": []
          }
        }
      ]
    },
    {
      "cell_type": "code",
      "metadata": {
        "colab": {
          "base_uri": "https://localhost:8080/",
          "height": 34
        },
        "id": "SHO9YKTJvfld",
        "outputId": "95db16e3-eac7-4ff0-a5ec-ba8f447b5a7b"
      },
      "source": [
        "sd(x) # выборочное стандартное отклонение"
      ],
      "execution_count": null,
      "outputs": [
        {
          "output_type": "display_data",
          "data": {
            "text/plain": [
              "[1] 2.990135"
            ],
            "text/latex": "2.9901346765146",
            "text/markdown": "2.9901346765146",
            "text/html": [
              "2.9901346765146"
            ]
          },
          "metadata": {
            "tags": []
          }
        }
      ]
    },
    {
      "cell_type": "code",
      "metadata": {
        "colab": {
          "base_uri": "https://localhost:8080/",
          "height": 34
        },
        "id": "LgHH5syEvfld",
        "outputId": "0396af2c-0c89-4d50-c591-5dc4886770f5"
      },
      "source": [
        "median(x) # выборочная медиана"
      ],
      "execution_count": null,
      "outputs": [
        {
          "output_type": "display_data",
          "data": {
            "text/plain": [
              "[1] 4.992464"
            ],
            "text/latex": "4.99246430288863",
            "text/markdown": "4.99246430288863",
            "text/html": [
              "4.99246430288863"
            ]
          },
          "metadata": {
            "tags": []
          }
        }
      ]
    },
    {
      "cell_type": "markdown",
      "metadata": {
        "id": "9ToYI-EFvfle"
      },
      "source": [
        "Также мы можем построить гистограмму!"
      ]
    },
    {
      "cell_type": "code",
      "metadata": {
        "colab": {
          "base_uri": "https://localhost:8080/",
          "height": 197
        },
        "id": "-oWLHQ5Vvfle",
        "outputId": "34150d6c-e145-4e4a-923d-e14959f83df7"
      },
      "source": [
        "qplot(x, bins=100) # гистограма "
      ],
      "execution_count": null,
      "outputs": [
        {
          "output_type": "display_data",
          "data": {
            "image/png": "[encoded data removed]",
            "text/plain": [
              "plot without title"
            ]
          },
          "metadata": {
            "tags": [],
            "image/png": {
              "width": 240,
              "height": 180
            }
          }
        }
      ]
    },
    {
      "cell_type": "code",
      "metadata": {
        "colab": {
          "base_uri": "https://localhost:8080/",
          "height": 34
        },
        "id": "-KQPR6Hn8MTA",
        "outputId": "55ee4442-1789-4481-fcd7-1ab8cc0a3b49"
      },
      "source": [
        "seq(-5, 5, by=2)"
      ],
      "execution_count": null,
      "outputs": [
        {
          "output_type": "display_data",
          "data": {
            "text/plain": [
              "[1] -5 -3 -1  1  3  5"
            ],
            "text/latex": "\\begin{enumerate*}\n\\item -5\n\\item -3\n\\item -1\n\\item 1\n\\item 3\n\\item 5\n\\end{enumerate*}\n",
            "text/markdown": "1. -5\n2. -3\n3. -1\n4. 1\n5. 3\n6. 5\n\n\n",
            "text/html": [
              "<style>\n",
              ".list-inline {list-style: none; margin:0; padding: 0}\n",
              ".list-inline>li {display: inline-block}\n",
              ".list-inline>li:not(:last-child)::after {content: \"\\00b7\"; padding: 0 .5ex}\n",
              "</style>\n",
              "<ol class=list-inline><li>-5</li><li>-3</li><li>-1</li><li>1</li><li>3</li><li>5</li></ol>\n"
            ]
          },
          "metadata": {
            "tags": []
          }
        }
      ]
    },
    {
      "cell_type": "code",
      "metadata": {
        "colab": {
          "base_uri": "https://localhost:8080/",
          "height": 197
        },
        "id": "ziMVFDd6vfle",
        "outputId": "2079d13e-9ad5-446b-d313-ac4ad3f333e6"
      },
      "source": [
        "#построим функцию плотности\n",
        "x <- seq(-5, 15, by=0.01)\n",
        "y <- dnorm(x, mean=5, sd=3)\n",
        "qplot(x, y, geom=\"line\")"
      ],
      "execution_count": null,
      "outputs": [
        {
          "output_type": "display_data",
          "data": {
            "image/png": "[encoded data removed]",
            "text/plain": [
              "plot without title"
            ]
          },
          "metadata": {
            "tags": [],
            "image/png": {
              "width": 240,
              "height": 180
            }
          }
        }
      ]
    },
    {
      "cell_type": "markdown",
      "metadata": {
        "id": "bXyZS5MXvflf"
      },
      "source": [
        "Найдём вероятность того, что нормально распределённая случайная величина с выбранными параметрами примет значение меньше $3$!\n",
        "\n",
        "$$ P(X < 3) = \\int_{-\\infty}^3 f(x)dx = F(3)$$"
      ]
    },
    {
      "cell_type": "code",
      "metadata": {
        "colab": {
          "base_uri": "https://localhost:8080/",
          "height": 34
        },
        "id": "VyGBe-Y0vflf",
        "outputId": "9d304658-5112-418e-c240-756509cf561f"
      },
      "source": [
        "pnorm(3, mean=5, sd=3)"
      ],
      "execution_count": null,
      "outputs": [
        {
          "output_type": "display_data",
          "data": {
            "text/plain": [
              "[1] 0.2524925"
            ],
            "text/latex": "0.252492537546923",
            "text/markdown": "0.252492537546923",
            "text/html": [
              "0.252492537546923"
            ]
          },
          "metadata": {
            "tags": []
          }
        }
      ]
    },
    {
      "cell_type": "markdown",
      "metadata": {
        "id": "fr4VPYNqvflf"
      },
      "source": [
        "А теперь найдём ещё одну вероятность! \n",
        "\n",
        "$$ P(4 < X < 9) = \\int_4^9 f(x) dx = F(9) - F(4)$$"
      ]
    },
    {
      "cell_type": "code",
      "metadata": {
        "colab": {
          "base_uri": "https://localhost:8080/",
          "height": 34
        },
        "id": "a9RywPyrvflf",
        "outputId": "b64ae2ef-45a5-404d-e76c-8a1b2fd9cd8a"
      },
      "source": [
        "pnorm(9, mean=5, sd=3) - pnorm(4, mean=5, sd=3)"
      ],
      "execution_count": null,
      "outputs": [
        {
          "output_type": "display_data",
          "data": {
            "text/plain": [
              "[1] 0.5393474"
            ],
            "text/latex": "0.539347440092368",
            "text/markdown": "0.539347440092368",
            "text/html": [
              "0.539347440092368"
            ]
          },
          "metadata": {
            "tags": []
          }
        }
      ]
    },
    {
      "cell_type": "markdown",
      "metadata": {
        "id": "m77OEC_wvflg"
      },
      "source": [
        "Для полноты картины осталось только найти какой-нибудь квантиль! Не будем забывать о том, что квантиль уровня $\\gamma$ это такое число $q$, что \n",
        "\n",
        "$$P(X < q) = \\gamma$$"
      ]
    },
    {
      "cell_type": "code",
      "metadata": {
        "colab": {
          "base_uri": "https://localhost:8080/",
          "height": 34
        },
        "id": "fXyUxHbYvflg",
        "outputId": "7e03c53e-3397-4c0f-f192-b925baa3a72f"
      },
      "source": [
        "qnorm(0.025, mean=0, sd=1)"
      ],
      "execution_count": null,
      "outputs": [
        {
          "output_type": "display_data",
          "data": {
            "text/plain": [
              "[1] -1.959964"
            ],
            "text/latex": "-1.95996398454005",
            "text/markdown": "-1.95996398454005",
            "text/html": [
              "-1.95996398454005"
            ]
          },
          "metadata": {
            "tags": []
          }
        }
      ]
    },
    {
      "cell_type": "markdown",
      "metadata": {
        "id": "PtkiPqqmvflg"
      },
      "source": [
        "Можно использовать R как весёлый калькулятор для поиска квантелей нормального распределения при проверке гипотез!"
      ]
    },
    {
      "cell_type": "code",
      "metadata": {
        "colab": {
          "base_uri": "https://localhost:8080/",
          "height": 34
        },
        "id": "OhSAfJGkvflh",
        "outputId": "d8a9e253-9d35-4890-c031-e0be1cd5eade"
      },
      "source": [
        "x <- c(0.95, 0.975, 0.995)\n",
        "qnorm(x, mean = 0, sd = 1)"
      ],
      "execution_count": null,
      "outputs": [
        {
          "output_type": "display_data",
          "data": {
            "text/plain": [
              "[1] 1.644854 1.959964 2.575829"
            ],
            "text/latex": "\\begin{enumerate*}\n\\item 1.64485362695147\n\\item 1.95996398454005\n\\item 2.5758293035489\n\\end{enumerate*}\n",
            "text/markdown": "1. 1.64485362695147\n2. 1.95996398454005\n3. 2.5758293035489\n\n\n",
            "text/html": [
              "<style>\n",
              ".list-inline {list-style: none; margin:0; padding: 0}\n",
              ".list-inline>li {display: inline-block}\n",
              ".list-inline>li:not(:last-child)::after {content: \"\\00b7\"; padding: 0 .5ex}\n",
              "</style>\n",
              "<ol class=list-inline><li>1.64485362695147</li><li>1.95996398454005</li><li>2.5758293035489</li></ol>\n"
            ]
          },
          "metadata": {
            "tags": []
          }
        }
      ]
    },
    {
      "cell_type": "markdown",
      "metadata": {
        "id": "-hz_5iuTvflh"
      },
      "source": [
        "Рано или поздно у вас вознкнет желание набить татуху с цифрами $1.64$ и $1.96$. Давайте попробуем получить те же самые квантили, но для распределения Стьюдента! "
      ]
    },
    {
      "cell_type": "code",
      "metadata": {
        "colab": {
          "base_uri": "https://localhost:8080/",
          "height": 35
        },
        "id": "wPk3WD5hvflh",
        "outputId": "2cba352c-7fb3-4dc4-a6f9-5b01c65ae8b2"
      },
      "source": [
        "x <- c(0.95, 0.975, 0.995)\n",
        "qt(x, df=10)"
      ],
      "execution_count": null,
      "outputs": [
        {
          "output_type": "display_data",
          "data": {
            "text/plain": [
              "[1] 1.812461 2.228139 3.169273"
            ],
            "text/latex": "\\begin{enumerate*}\n\\item 1.81246112281168\n\\item 2.22813885198627\n\\item 3.16927267261695\n\\end{enumerate*}\n",
            "text/markdown": "1. 1.81246112281168\n2. 2.22813885198627\n3. 3.16927267261695\n\n\n",
            "text/html": [
              "<style>\n",
              ".list-inline {list-style: none; margin:0; padding: 0}\n",
              ".list-inline>li {display: inline-block}\n",
              ".list-inline>li:not(:last-child)::after {content: \"\\00b7\"; padding: 0 .5ex}\n",
              "</style>\n",
              "<ol class=list-inline><li>1.81246112281168</li><li>2.22813885198627</li><li>3.16927267261695</li></ol>\n"
            ]
          },
          "metadata": {
            "tags": []
          }
        }
      ]
    },
    {
      "cell_type": "markdown",
      "metadata": {
        "id": "fMHAP4MBvflh"
      },
      "source": [
        "У распределения Стьюдента обычно при проверке гипотез используется разное количество степеней свободы. Тут какие-то конкретные значения на руку уже не набьёшь. Остался один вопрос на засыпку. А что сгенерирует команда `rnorm(20)`? "
      ]
    },
    {
      "cell_type": "code",
      "metadata": {
        "colab": {
          "base_uri": "https://localhost:8080/",
          "height": 69
        },
        "id": "BDXvEjMpvfli",
        "outputId": "09e55447-5990-40f1-b3fa-90c712e5ee80"
      },
      "source": [
        "rnorm(20)  # конечно выборку N(0,1)"
      ],
      "execution_count": null,
      "outputs": [
        {
          "output_type": "display_data",
          "data": {
            "text/plain": [
              " [1] -0.47777176  0.32091180  0.86503176 -0.38903134  0.17083940  0.99263550\n",
              " [7] -0.28951181 -0.82310934  0.10142028  1.02396358  0.13824872  0.22261503\n",
              "[13] -0.30369132  2.20185513  0.35821175 -0.06589009 -1.56363253  0.58316588\n",
              "[19]  1.17494447 -0.39374515"
            ],
            "text/latex": "\\begin{enumerate*}\n\\item -0.477771759309968\n\\item 0.320911804870213\n\\item 0.865031757017119\n\\item -0.389031341348957\n\\item 0.170839397135565\n\\item 0.992635497871811\n\\item -0.289511806485258\n\\item -0.823109342547862\n\\item 0.101420281056071\n\\item 1.0239635751149\n\\item 0.138248720839143\n\\item 0.222615029293449\n\\item -0.303691317143226\n\\item 2.2018551250337\n\\item 0.358211754084404\n\\item -0.0658900865354559\n\\item -1.56363253075947\n\\item 0.583165880904704\n\\item 1.17494446680149\n\\item -0.393745150685501\n\\end{enumerate*}\n",
            "text/markdown": "1. -0.477771759309968\n2. 0.320911804870213\n3. 0.865031757017119\n4. -0.389031341348957\n5. 0.170839397135565\n6. 0.992635497871811\n7. -0.289511806485258\n8. -0.823109342547862\n9. 0.101420281056071\n10. 1.0239635751149\n11. 0.138248720839143\n12. 0.222615029293449\n13. -0.303691317143226\n14. 2.2018551250337\n15. 0.358211754084404\n16. -0.0658900865354559\n17. -1.56363253075947\n18. 0.583165880904704\n19. 1.17494446680149\n20. -0.393745150685501\n\n\n",
            "text/html": [
              "<style>\n",
              ".list-inline {list-style: none; margin:0; padding: 0}\n",
              ".list-inline>li {display: inline-block}\n",
              ".list-inline>li:not(:last-child)::after {content: \"\\00b7\"; padding: 0 .5ex}\n",
              "</style>\n",
              "<ol class=list-inline><li>-0.477771759309968</li><li>0.320911804870213</li><li>0.865031757017119</li><li>-0.389031341348957</li><li>0.170839397135565</li><li>0.992635497871811</li><li>-0.289511806485258</li><li>-0.823109342547862</li><li>0.101420281056071</li><li>1.0239635751149</li><li>0.138248720839143</li><li>0.222615029293449</li><li>-0.303691317143226</li><li>2.2018551250337</li><li>0.358211754084404</li><li>-0.0658900865354559</li><li>-1.56363253075947</li><li>0.583165880904704</li><li>1.17494446680149</li><li>-0.393745150685501</li></ol>\n"
            ]
          },
          "metadata": {
            "tags": []
          }
        }
      ]
    },
    {
      "cell_type": "markdown",
      "metadata": {
        "id": "E25E_ii5vfli"
      },
      "source": [
        "## 2. Зачем это надо? \n",
        "\n",
        "Чтобы решать рельные проблемы! Например, с помощью R можно оценить математическое ожидание случайной величины $\\frac{1}{X}$, где $X \\sim N(5; 3^2)$ без взятия страшных интегралов. Для этого надо лишь вспомнить [Закон Больших Чисел](https://ru.wikipedia.org/wiki/Закон_больших_чисел). Он говорит, что арифметическое среднее по большой выборке стремится по вероятности и почти наверное к математическому ожиданию. Поэтому мы просто сгенерируем большую выборку в миллион наблюдений:"
      ]
    },
    {
      "cell_type": "code",
      "metadata": {
        "colab": {
          "base_uri": "https://localhost:8080/",
          "height": 34
        },
        "id": "6MVWYwxXvfli",
        "outputId": "1b4085fb-18f2-45f4-d21c-8b4436816d1d"
      },
      "source": [
        "# Запустите эту ячейку несколько раз. Ничего не будет работать и число каждый раз будет стрёмное, \n",
        "# как думаете, почему? \n",
        "\n",
        "n_obs <- 10^6\n",
        "x <- rnorm(n_obs, mean = 5, sd = 3)\n",
        "mean(1/x)"
      ],
      "execution_count": null,
      "outputs": [
        {
          "output_type": "display_data",
          "data": {
            "text/plain": [
              "[1] 0.125907"
            ],
            "text/latex": "0.125907035262044",
            "text/markdown": "0.125907035262044",
            "text/html": [
              "0.125907035262044"
            ]
          },
          "metadata": {
            "tags": []
          }
        }
      ]
    },
    {
      "cell_type": "markdown",
      "metadata": {
        "id": "ok4AJVhpvfli"
      },
      "source": [
        "Вот и наше математическое ожидание! Попробуйте ради забавы найти его на досуге вручную. Или не пробуйте. Также легко оценить многие вероятности. Например, оценим вероятность $P(X_1 + X_2 + X_3^2 > 5)$, где величины $X_i$ независимы и одинаково распределены $X_i \\sim U[0;2]$:"
      ]
    },
    {
      "cell_type": "code",
      "metadata": {
        "colab": {
          "base_uri": "https://localhost:8080/",
          "height": 34
        },
        "id": "0K8HiwAdvflj",
        "outputId": "eb839360-4f8d-4cac-eb58-186a50574312"
      },
      "source": [
        "n_obs <- 10^6\n",
        "x_1 <- runif(n_obs, min = 0, max = 2)\n",
        "x_2 <- runif(n_obs, min = 0, max = 2)\n",
        "x_3 <- runif(n_obs, min = 0, max = 2)\n",
        "\n",
        "success <- x_1 + x_2 + x_3^2 > 5\n",
        "sum(success) / n_obs"
      ],
      "execution_count": null,
      "outputs": [
        {
          "output_type": "display_data",
          "data": {
            "text/plain": [
              "[1] 0.146944"
            ],
            "text/latex": "0.146944",
            "text/markdown": "0.146944",
            "text/html": [
              "0.146944"
            ]
          },
          "metadata": {
            "tags": []
          }
        }
      ]
    },
    {
      "cell_type": "markdown",
      "metadata": {
        "id": "1RUwNlrrvflj"
      },
      "source": [
        "Здесь вектор success будет содержать значение `TRUE` там, где условие `x_1 + x_2 + x_3^2 > 5` выполнено, и `FALSE` там, где условие не выполнено. При сложении командой `sum()` каждое `TRUE` будет посчитано как единица, а каждое `FALSE` как ноль. Поэтому `sum(success)` даст количество раз, когда условие `x_1 + x_2 + x_3^2 > 5` выполнено.\n",
        "\n",
        "И снова, на досуге попробуйте сделать это на бумажке своими руками, но лучше не надо. С такой же лёгкостью можно находить разные условные вероятности. Например, давайте найдём $P(X_1 + X_2 > 0.8 \\mid X_3 < 0.1)$"
      ]
    },
    {
      "cell_type": "code",
      "metadata": {
        "colab": {
          "base_uri": "https://localhost:8080/",
          "height": 34
        },
        "id": "nRvB-50Lvflj",
        "outputId": "864c0c60-c84a-4492-f8e5-22bb388b64e8"
      },
      "source": [
        "uslovie <- x_3 < 0.1\n",
        "uslovie[1:10]"
      ],
      "execution_count": null,
      "outputs": [
        {
          "output_type": "display_data",
          "data": {
            "text/plain": [
              " [1] FALSE FALSE FALSE  TRUE FALSE FALSE FALSE FALSE FALSE FALSE"
            ],
            "text/latex": "\\begin{enumerate*}\n\\item FALSE\n\\item FALSE\n\\item FALSE\n\\item TRUE\n\\item FALSE\n\\item FALSE\n\\item FALSE\n\\item FALSE\n\\item FALSE\n\\item FALSE\n\\end{enumerate*}\n",
            "text/markdown": "1. FALSE\n2. FALSE\n3. FALSE\n4. TRUE\n5. FALSE\n6. FALSE\n7. FALSE\n8. FALSE\n9. FALSE\n10. FALSE\n\n\n",
            "text/html": [
              "<style>\n",
              ".list-inline {list-style: none; margin:0; padding: 0}\n",
              ".list-inline>li {display: inline-block}\n",
              ".list-inline>li:not(:last-child)::after {content: \"\\00b7\"; padding: 0 .5ex}\n",
              "</style>\n",
              "<ol class=list-inline><li>FALSE</li><li>FALSE</li><li>FALSE</li><li>TRUE</li><li>FALSE</li><li>FALSE</li><li>FALSE</li><li>FALSE</li><li>FALSE</li><li>FALSE</li></ol>\n"
            ]
          },
          "metadata": {
            "tags": []
          }
        }
      ]
    },
    {
      "cell_type": "code",
      "metadata": {
        "colab": {
          "base_uri": "https://localhost:8080/",
          "height": 34
        },
        "id": "sqsdHpkfvflj",
        "outputId": "5a127a95-6a40-432c-b1c8-6ecd450ee432"
      },
      "source": [
        "# можно посмотреть сколько раз за всю симуляцию x_3 < 0.1\n",
        "sum(uslovie)"
      ],
      "execution_count": null,
      "outputs": [
        {
          "output_type": "display_data",
          "data": {
            "text/plain": [
              "[1] 50262"
            ],
            "text/latex": "50262",
            "text/markdown": "50262",
            "text/html": [
              "50262"
            ]
          },
          "metadata": {
            "tags": []
          }
        }
      ]
    },
    {
      "cell_type": "code",
      "metadata": {
        "colab": {
          "base_uri": "https://localhost:8080/",
          "height": 34
        },
        "id": "p_D1UUBBvflk",
        "outputId": "1bbd2307-a7d5-4f57-c311-2da5e511b00a"
      },
      "source": [
        "# ищем успех при условии\n",
        "success <- x_1[uslovie] + x_2[uslovie] > 0.8\n",
        "\n",
        "sum(success)/ n_obs"
      ],
      "execution_count": null,
      "outputs": [
        {
          "output_type": "display_data",
          "data": {
            "text/plain": [
              "[1] 0.046199"
            ],
            "text/latex": "0.046199",
            "text/markdown": "0.046199",
            "text/html": [
              "0.046199"
            ]
          },
          "metadata": {
            "tags": []
          }
        }
      ]
    },
    {
      "cell_type": "markdown",
      "metadata": {
        "id": "yO9ZAN81vflk"
      },
      "source": [
        "## 3. Генерация выборок \n",
        "\n",
        "С помощью таких же нехитрых манипуляций можно симулировать различные события. Например, можно сгенерировать выборку без повторений из вектора `1:10` размера `5`. Все элементы будут выбираться равновероятно."
      ]
    },
    {
      "cell_type": "code",
      "metadata": {
        "colab": {
          "base_uri": "https://localhost:8080/",
          "height": 34
        },
        "id": "j4wh5PV9vflk",
        "outputId": "ec8bb527-4be5-4b21-c730-a9300539a788"
      },
      "source": [
        "sample(1:10, size = 5)"
      ],
      "execution_count": null,
      "outputs": [
        {
          "output_type": "display_data",
          "data": {
            "text/plain": [
              "[1] 8 5 9 3 4"
            ],
            "text/latex": "\\begin{enumerate*}\n\\item 8\n\\item 5\n\\item 9\n\\item 3\n\\item 4\n\\end{enumerate*}\n",
            "text/markdown": "1. 8\n2. 5\n3. 9\n4. 3\n5. 4\n\n\n",
            "text/html": [
              "<style>\n",
              ".list-inline {list-style: none; margin:0; padding: 0}\n",
              ".list-inline>li {display: inline-block}\n",
              ".list-inline>li:not(:last-child)::after {content: \"\\00b7\"; padding: 0 .5ex}\n",
              "</style>\n",
              "<ol class=list-inline><li>8</li><li>5</li><li>9</li><li>3</li><li>4</li></ol>\n"
            ]
          },
          "metadata": {
            "tags": []
          }
        }
      ]
    },
    {
      "cell_type": "markdown",
      "metadata": {
        "id": "BDgg383Jvfll"
      },
      "source": [
        "Можно внести в это дело немного хаоса и сгенеровать ту же выборку, но с повторениями. "
      ]
    },
    {
      "cell_type": "code",
      "metadata": {
        "colab": {
          "base_uri": "https://localhost:8080/",
          "height": 34
        },
        "id": "p3EsHjnGvfll",
        "outputId": "b6a74127-d3c5-4876-e1d6-a3fabc3ee72d"
      },
      "source": [
        "sample(1:10, size = 5, replace = TRUE)"
      ],
      "execution_count": null,
      "outputs": [
        {
          "output_type": "display_data",
          "data": {
            "text/plain": [
              "[1] 10  1  5  6  1"
            ],
            "text/latex": "\\begin{enumerate*}\n\\item 10\n\\item 1\n\\item 5\n\\item 6\n\\item 1\n\\end{enumerate*}\n",
            "text/markdown": "1. 10\n2. 1\n3. 5\n4. 6\n5. 1\n\n\n",
            "text/html": [
              "<style>\n",
              ".list-inline {list-style: none; margin:0; padding: 0}\n",
              ".list-inline>li {display: inline-block}\n",
              ".list-inline>li:not(:last-child)::after {content: \"\\00b7\"; padding: 0 .5ex}\n",
              "</style>\n",
              "<ol class=list-inline><li>10</li><li>1</li><li>5</li><li>6</li><li>1</li></ol>\n"
            ]
          },
          "metadata": {
            "tags": []
          }
        }
      ]
    },
    {
      "cell_type": "markdown",
      "metadata": {
        "id": "j5wtGZBKvfll"
      },
      "source": [
        "А ещё можно самостоятельно расставить вероятности событий. Давайте, например ссимулируем 10 подбрасываний неправильной монетки!"
      ]
    },
    {
      "cell_type": "code",
      "metadata": {
        "colab": {
          "base_uri": "https://localhost:8080/",
          "height": 34
        },
        "id": "USwb0Pczvfll",
        "outputId": "69f383ad-13df-4f6c-90a0-7f8ef5f5de05"
      },
      "source": [
        "sample(c(\"Орёл\", \"Решка\"), size = 10, replace = TRUE, prob = c(0.3, 0.7))"
      ],
      "execution_count": null,
      "outputs": [
        {
          "output_type": "display_data",
          "data": {
            "text/plain": [
              " [1] \"Решка\" \"Решка\" \"Решка\" \"Решка\" \"Решка\" \"Орёл\"  \"Решка\" \"Решка\" \"Орёл\" \n",
              "[10] \"Решка\""
            ],
            "text/latex": "\\begin{enumerate*}\n\\item 'Решка'\n\\item 'Решка'\n\\item 'Решка'\n\\item 'Решка'\n\\item 'Решка'\n\\item 'Орёл'\n\\item 'Решка'\n\\item 'Решка'\n\\item 'Орёл'\n\\item 'Решка'\n\\end{enumerate*}\n",
            "text/markdown": "1. 'Решка'\n2. 'Решка'\n3. 'Решка'\n4. 'Решка'\n5. 'Решка'\n6. 'Орёл'\n7. 'Решка'\n8. 'Решка'\n9. 'Орёл'\n10. 'Решка'\n\n\n",
            "text/html": [
              "<style>\n",
              ".list-inline {list-style: none; margin:0; padding: 0}\n",
              ".list-inline>li {display: inline-block}\n",
              ".list-inline>li:not(:last-child)::after {content: \"\\00b7\"; padding: 0 .5ex}\n",
              "</style>\n",
              "<ol class=list-inline><li>'Решка'</li><li>'Решка'</li><li>'Решка'</li><li>'Решка'</li><li>'Решка'</li><li>'Орёл'</li><li>'Решка'</li><li>'Решка'</li><li>'Орёл'</li><li>'Решка'</li></ol>\n"
            ]
          },
          "metadata": {
            "tags": []
          }
        }
      ]
    },
    {
      "cell_type": "markdown",
      "metadata": {
        "id": "-B_3PblNvflm"
      },
      "source": [
        "А если упороться и ссимулировать огромное число наблюдений, то можно даже оценить вероятность выпадения решек. Хвала __Закону Больших Чисел__ за это!"
      ]
    },
    {
      "cell_type": "code",
      "metadata": {
        "colab": {
          "base_uri": "https://localhost:8080/",
          "height": 34
        },
        "id": "Z4rp0R9wvflm",
        "outputId": "cd440d78-83d6-45d8-f99b-f84f1bfe56c5"
      },
      "source": [
        "x <-  sample(c(\"Орёл\", \"Решка\"), size = 10^6, replace = TRUE, prob = c(0.3, 0.7))\n",
        "\n",
        "sum(x == 'Орёл')/length(x)"
      ],
      "execution_count": null,
      "outputs": [
        {
          "output_type": "display_data",
          "data": {
            "text/plain": [
              "[1] 0.300304"
            ],
            "text/latex": "0.300304",
            "text/markdown": "0.300304",
            "text/html": [
              "0.300304"
            ]
          },
          "metadata": {
            "tags": []
          }
        }
      ]
    },
    {
      "cell_type": "markdown",
      "metadata": {
        "id": "Kj6QoPuCvflm"
      },
      "source": [
        "## 4. Зёрна\n",
        "\n",
        "Если выполнить команду `rnorm(10, mean = 2, sd = 3)` на двух разных компьютерах или два раза на одном и том же, то результат будет разный. Не зря же они случайные :) Однако генерирование случайных величин никак не противоречит идее абсолютно точной воспроизводимости исследований. Для того, чтобы получились одинаковые результаты, необходимо синхронизировать генераторы случайных чисел на этих двух компьютерах. Делается это путём задания зерна генератора случайных чисел (seed). Зерно также называют стартовым значением. В качестве зерна подойдёт любое целое число."
      ]
    },
    {
      "cell_type": "code",
      "metadata": {
        "colab": {
          "base_uri": "https://localhost:8080/",
          "height": 34
        },
        "id": "pKsT__vLvfln",
        "outputId": "037cec7d-804d-4746-b5fe-132d0fa05c12"
      },
      "source": [
        "rnorm(1, mean = 2, sd = 3)"
      ],
      "execution_count": null,
      "outputs": [
        {
          "output_type": "display_data",
          "data": {
            "text/plain": [
              "[1] -1.284768"
            ],
            "text/latex": "-1.28476825809919",
            "text/markdown": "-1.28476825809919",
            "text/html": [
              "-1.28476825809919"
            ]
          },
          "metadata": {
            "tags": []
          }
        }
      ]
    },
    {
      "cell_type": "code",
      "metadata": {
        "id": "lNCDjv-Mvfln",
        "colab": {
          "base_uri": "https://localhost:8080/",
          "height": 34
        },
        "outputId": "774171cb-19b2-4cd4-ec10-cd1bd23787d5"
      },
      "source": [
        "set.seed(42)\n",
        "rnorm(1, mean = 2, sd = 3)"
      ],
      "execution_count": null,
      "outputs": [
        {
          "output_type": "display_data",
          "data": {
            "text/plain": [
              "[1] 6.112875"
            ],
            "text/latex": "6.11287534144001",
            "text/markdown": "6.11287534144001",
            "text/html": [
              "6.11287534144001"
            ]
          },
          "metadata": {
            "tags": []
          }
        }
      ]
    },
    {
      "cell_type": "markdown",
      "metadata": {
        "id": "Qna_hdSavfln"
      },
      "source": [
        "Угадайте, какие числа чаще всего используют для зёрен?\n",
        "\n",
        "Многие алгоритмы в машинном обучении и эконометрике в какой-то степени основаны на случайности. Чтобы добиться воспроизводимых одинаковых результатов, нужно устанавливать зерно генерации. "
      ]
    },
    {
      "cell_type": "markdown",
      "metadata": {
        "id": "ftttXpTcvfln"
      },
      "source": [
        "# Задачки"
      ]
    },
    {
      "cell_type": "markdown",
      "metadata": {
        "id": "E6w7WxKDvflo"
      },
      "source": [
        "## 1. Задачка про булки\n",
        "\n",
        "Каждый день Света съедает случайное количество булочек, которое распределено по Пуассону с параметром $10$. Логарифм затрат в рублях на каждую булочку распределён нормально $N(2,1)$. Ксюша каждый день съедает биномиальное количество булочек $Bin(8, 0.5)$. Затраты Ксюши на каждую булочку распределены равномерно на отрезке $[2;20]$. "
      ]
    },
    {
      "cell_type": "markdown",
      "metadata": {
        "id": "kGqbI8CXvflo"
      },
      "source": [
        "__а)__ Сколько в среднем Света тратит на булочки за день? "
      ]
    },
    {
      "cell_type": "code",
      "metadata": {
        "id": "fTgM9TSVvflo",
        "colab": {
          "base_uri": "https://localhost:8080/",
          "height": 34
        },
        "outputId": "8f203467-ab77-4f30-9d31-41f6f00461d4"
      },
      "source": [
        "### ╰( ͡° ͜ʖ ͡° )つ──☆ ваш код\n",
        "xs = rpois(10^6, lambda=10)\n",
        "ps = rnorm(10^6, mean=2, sd=1)\n",
        "mean(xs*ps)"
      ],
      "execution_count": null,
      "outputs": [
        {
          "output_type": "display_data",
          "data": {
            "text/plain": [
              "[1] 19.99426"
            ],
            "text/latex": "19.9942584028588",
            "text/markdown": "19.9942584028588",
            "text/html": [
              "19.9942584028588"
            ]
          },
          "metadata": {
            "tags": []
          }
        }
      ]
    },
    {
      "cell_type": "markdown",
      "metadata": {
        "id": "HImVpSX4vflo"
      },
      "source": [
        "__б)__ Чему равна дисперсия дневных расходов Светы? "
      ]
    },
    {
      "cell_type": "code",
      "metadata": {
        "id": "B6d1_ku_vflo",
        "colab": {
          "base_uri": "https://localhost:8080/",
          "height": 34
        },
        "outputId": "521f1c41-4d06-4b36-a2bd-65e3a2918116"
      },
      "source": [
        "### ╰( ͡° ͜ʖ ͡° )つ──☆ ваш код\n",
        "var(xs*ps)"
      ],
      "execution_count": null,
      "outputs": [
        {
          "output_type": "display_data",
          "data": {
            "text/plain": [
              "[1] 150.0092"
            ],
            "text/latex": "150.009235901187",
            "text/markdown": "150.009235901187",
            "text/html": [
              "150.009235901187"
            ]
          },
          "metadata": {
            "tags": []
          }
        }
      ]
    },
    {
      "cell_type": "markdown",
      "metadata": {
        "id": "iXdKlXFEvflo"
      },
      "source": [
        "__в)__ Какова вероятность того, что за один день Света потратит больше денег, чем Ксюша? "
      ]
    },
    {
      "cell_type": "code",
      "metadata": {
        "id": "CQrq5e0pvflp",
        "colab": {
          "base_uri": "https://localhost:8080/",
          "height": 34
        },
        "outputId": "ce3643a8-81fc-4db7-909d-0e490e19e835"
      },
      "source": [
        "### ╰( ͡° ͜ʖ ͡° )つ──☆ ваш код\n",
        "xs = rpois(10^6, lambda=10)\n",
        "ps = rnorm(10^6, mean=2, sd=1)\n",
        "cost_s = xs*ps\n",
        "\n",
        "xk = rbinom(n=10^6, size=8, p=0.5)\n",
        "pk = runif(10^6, min=2, max=20)\n",
        "cost_k = xk*pk\n",
        "\n",
        "mean(cost_s > cost_k)"
      ],
      "execution_count": null,
      "outputs": [
        {
          "output_type": "display_data",
          "data": {
            "text/plain": [
              "[1] 0.219217"
            ],
            "text/latex": "0.219217",
            "text/markdown": "0.219217",
            "text/html": [
              "0.219217"
            ]
          },
          "metadata": {
            "tags": []
          }
        }
      ]
    },
    {
      "cell_type": "code",
      "metadata": {
        "id": "oknV9RtVBKiy"
      },
      "source": [
        "?rbinom"
      ],
      "execution_count": null,
      "outputs": []
    },
    {
      "cell_type": "code",
      "metadata": {
        "colab": {
          "base_uri": "https://localhost:8080/",
          "height": 34
        },
        "id": "wclsoJVPAxU2",
        "outputId": "1de258b1-f903-403b-94bf-7c5564f9f083"
      },
      "source": [
        "mean(cost_k)"
      ],
      "execution_count": null,
      "outputs": [
        {
          "output_type": "display_data",
          "data": {
            "text/plain": [
              "[1] 44.02618"
            ],
            "text/latex": "44.0261849486898",
            "text/markdown": "44.0261849486898",
            "text/html": [
              "44.0261849486898"
            ]
          },
          "metadata": {
            "tags": []
          }
        }
      ]
    },
    {
      "cell_type": "code",
      "metadata": {
        "colab": {
          "base_uri": "https://localhost:8080/",
          "height": 68
        },
        "id": "aInHe14kAqkk",
        "outputId": "7d8381f7-1ff1-41af-c985-f2fb0f86699a"
      },
      "source": [
        "cost_k[1:10]"
      ],
      "execution_count": null,
      "outputs": [
        {
          "output_type": "display_data",
          "data": {
            "text/plain": [
              " [1] 68.443988 72.585641 75.012706 25.477715 51.405538 64.194085 19.933553\n",
              " [8] 30.710676 35.662409  7.801535"
            ],
            "text/latex": "\\begin{enumerate*}\n\\item 68.4439884056337\n\\item 72.5856405706145\n\\item 75.0127058671787\n\\item 25.4777150601149\n\\item 51.405537514016\n\\item 64.1940846089274\n\\item 19.9335525017232\n\\item 30.7106760288589\n\\item 35.6624089395627\n\\item 7.80153479939327\n\\end{enumerate*}\n",
            "text/markdown": "1. 68.4439884056337\n2. 72.5856405706145\n3. 75.0127058671787\n4. 25.4777150601149\n5. 51.405537514016\n6. 64.1940846089274\n7. 19.9335525017232\n8. 30.7106760288589\n9. 35.6624089395627\n10. 7.80153479939327\n\n\n",
            "text/html": [
              "<style>\n",
              ".list-inline {list-style: none; margin:0; padding: 0}\n",
              ".list-inline>li {display: inline-block}\n",
              ".list-inline>li:not(:last-child)::after {content: \"\\00b7\"; padding: 0 .5ex}\n",
              "</style>\n",
              "<ol class=list-inline><li>68.4439884056337</li><li>72.5856405706145</li><li>75.0127058671787</li><li>25.4777150601149</li><li>51.405537514016</li><li>64.1940846089274</li><li>19.9335525017232</li><li>30.7106760288589</li><li>35.6624089395627</li><li>7.80153479939327</li></ol>\n"
            ]
          },
          "metadata": {
            "tags": []
          }
        }
      ]
    },
    {
      "cell_type": "code",
      "metadata": {
        "colab": {
          "base_uri": "https://localhost:8080/",
          "height": 68
        },
        "id": "Hjkk4EGOAnfc",
        "outputId": "c4f51a27-81c0-4a40-bfa4-a6bd38da19ea"
      },
      "source": [
        "cost_s[1:10]"
      ],
      "execution_count": null,
      "outputs": [
        {
          "output_type": "display_data",
          "data": {
            "text/plain": [
              " [1]  7.313982 20.424115 18.129900 19.209893 23.938447 43.478686 44.986574\n",
              " [8]  4.722209 24.614607  8.368861"
            ],
            "text/latex": "\\begin{enumerate*}\n\\item 7.31398238385896\n\\item 20.4241154978672\n\\item 18.1299000890044\n\\item 19.2098928638175\n\\item 23.938446582047\n\\item 43.4786858580963\n\\item 44.9865739148251\n\\item 4.72220918564633\n\\item 24.6146073312826\n\\item 8.36886144022751\n\\end{enumerate*}\n",
            "text/markdown": "1. 7.31398238385896\n2. 20.4241154978672\n3. 18.1299000890044\n4. 19.2098928638175\n5. 23.938446582047\n6. 43.4786858580963\n7. 44.9865739148251\n8. 4.72220918564633\n9. 24.6146073312826\n10. 8.36886144022751\n\n\n",
            "text/html": [
              "<style>\n",
              ".list-inline {list-style: none; margin:0; padding: 0}\n",
              ".list-inline>li {display: inline-block}\n",
              ".list-inline>li:not(:last-child)::after {content: \"\\00b7\"; padding: 0 .5ex}\n",
              "</style>\n",
              "<ol class=list-inline><li>7.31398238385896</li><li>20.4241154978672</li><li>18.1299000890044</li><li>19.2098928638175</li><li>23.938446582047</li><li>43.4786858580963</li><li>44.9865739148251</li><li>4.72220918564633</li><li>24.6146073312826</li><li>8.36886144022751</li></ol>\n"
            ]
          },
          "metadata": {
            "tags": []
          }
        }
      ]
    },
    {
      "cell_type": "markdown",
      "metadata": {
        "id": "FGWAywP-vflp"
      },
      "source": [
        "__г)__ Какова условная вероятность того, что Света за день съела больше булочек, чем Ксюша, если известно, что Ксюша потратила больше денег? "
      ]
    },
    {
      "cell_type": "code",
      "metadata": {
        "id": "Ub1M2gtIvflp",
        "colab": {
          "base_uri": "https://localhost:8080/",
          "height": 34
        },
        "outputId": "53640b68-a991-4c45-a31d-0ddfdb041ee4"
      },
      "source": [
        "### ╰( ͡° ͜ʖ ͡° )つ──☆ ваш код\n",
        "usl = cost_s > cost_k\n",
        "\n",
        "sum(xs[usl] > xk[usl])/sum(usl)"
      ],
      "execution_count": null,
      "outputs": [
        {
          "output_type": "display_data",
          "data": {
            "text/plain": [
              "[1] 0.9967566"
            ],
            "text/latex": "0.996756638399394",
            "text/markdown": "0.996756638399394",
            "text/html": [
              "0.996756638399394"
            ]
          },
          "metadata": {
            "tags": []
          }
        }
      ]
    },
    {
      "cell_type": "code",
      "metadata": {
        "colab": {
          "base_uri": "https://localhost:8080/",
          "height": 34
        },
        "id": "ETx0mcNHCTqp",
        "outputId": "e16dc094-15c9-4f9f-85c2-7ec14d5793be"
      },
      "source": [
        "mean(xs[usl] > xk[usl])"
      ],
      "execution_count": null,
      "outputs": [
        {
          "output_type": "display_data",
          "data": {
            "text/plain": [
              "[1] 0.9967566"
            ],
            "text/latex": "0.996756638399394",
            "text/markdown": "0.996756638399394",
            "text/html": [
              "0.996756638399394"
            ]
          },
          "metadata": {
            "tags": []
          }
        }
      ]
    },
    {
      "cell_type": "markdown",
      "metadata": {
        "id": "mxYOvSUJvflp"
      },
      "source": [
        "## 2. Задачка про багеты\n",
        "\n",
        "Удав Анатолий любит французские багеты. Длина французского багета равна $1$ метру. За один заглот Удав Анатолий заглатывает кусок случайной длины, равномерно распределённый на отрезке $[0;1]$. Для того, чтобы съесть весь багет удаву потребуется случайное количество $N$ заглотов. \n",
        "\n",
        "Найдите $E(N)$ и $Var(N)$. Как поменяются ответы, если багет имеет длину $2$ метра? \n",
        "\n",
        "Кстати говоря, эту задачку можно решить руками с помощью метода первого шага. Его мы разберём на второй паре. Правда для этого придётся выписать систему из двух уравниний с интегралами. В сборнике сложных задач по терверу, [культурном коде,](https://github.com/bdemeshev/probability_dna/raw/master/probability_dna.pdf) можно найти три разных решения этой задачки. Она там находится под номером $46$."
      ]
    },
    {
      "cell_type": "code",
      "metadata": {
        "id": "UpeoOt-_vflp",
        "colab": {
          "base_uri": "https://localhost:8080/",
          "height": 34
        },
        "outputId": "c6f9a7d1-ddfd-49f3-af2e-7d22933faaa6"
      },
      "source": [
        "### ╰( ͡° ͜ʖ ͡° )つ──☆ ваш код\n",
        "\n",
        "ukus <- function(baget){\n",
        "  cnt = 0\n",
        "  while(baget > 0){\n",
        "    baget = baget - runif(1, min=0, max=1)\n",
        "    cnt = cnt + 1\n",
        "  }\n",
        "  return(cnt)\n",
        "}\n",
        "\n",
        "n_obs = 10^6\n",
        "x = rep(0, n_obs)\n",
        "#x = c()\n",
        "for(i in 1:n_obs){\n",
        "  x[i] = ukus(1)\n",
        "  # долго работает \n",
        "  # x = append(x, ukus(1))\n",
        "}\n",
        "x[1:5]"
      ],
      "execution_count": null,
      "outputs": [
        {
          "output_type": "display_data",
          "data": {
            "text/plain": [
              "[1] 3 3 3 3 4"
            ],
            "text/latex": "\\begin{enumerate*}\n\\item 3\n\\item 3\n\\item 3\n\\item 3\n\\item 4\n\\end{enumerate*}\n",
            "text/markdown": "1. 3\n2. 3\n3. 3\n4. 3\n5. 4\n\n\n",
            "text/html": [
              "<style>\n",
              ".list-inline {list-style: none; margin:0; padding: 0}\n",
              ".list-inline>li {display: inline-block}\n",
              ".list-inline>li:not(:last-child)::after {content: \"\\00b7\"; padding: 0 .5ex}\n",
              "</style>\n",
              "<ol class=list-inline><li>3</li><li>3</li><li>3</li><li>3</li><li>4</li></ol>\n"
            ]
          },
          "metadata": {
            "tags": []
          }
        }
      ]
    },
    {
      "cell_type": "code",
      "metadata": {
        "colab": {
          "base_uri": "https://localhost:8080/",
          "height": 34
        },
        "id": "5IU0gytXEQtx",
        "outputId": "65cc4060-af7c-4ba9-d235-761b3d7d3f4e"
      },
      "source": [
        "mean(x)"
      ],
      "execution_count": null,
      "outputs": [
        {
          "output_type": "display_data",
          "data": {
            "text/plain": [
              "[1] 2.719568"
            ],
            "text/latex": "2.719568",
            "text/markdown": "2.719568",
            "text/html": [
              "2.719568"
            ]
          },
          "metadata": {
            "tags": []
          }
        }
      ]
    },
    {
      "cell_type": "markdown",
      "metadata": {
        "id": "BGVsvXhovflp"
      },
      "source": [
        "## 3. Задачка с контрольной по терверу :)\n",
        "\n",
        "Для 20 участников соревнований, среди которых 8 российских, в гостинице забронировано 20 номеров. Из них 12 с видом на море. Участники соревнований наугад получают ключи от номернов. Найдите вероятность того, что номера с видом на море достанутся всем российским спортсменам."
      ]
    },
    {
      "cell_type": "code",
      "metadata": {
        "id": "HArnRAynvflq",
        "colab": {
          "base_uri": "https://localhost:8080/",
          "height": 34
        },
        "outputId": "ce9cc40d-78a7-4695-a207-6c0efdfbe567"
      },
      "source": [
        "### ╰( ͡° ͜ʖ ͡° )つ──☆ ваш код\n",
        "\n",
        "# вектор номеров\n",
        "room = c(rep('море',12),rep('пустошь',8))\n",
        "room[1:5]"
      ],
      "execution_count": 6,
      "outputs": [
        {
          "output_type": "display_data",
          "data": {
            "text/plain": [
              "[1] \"море\" \"море\" \"море\" \"море\" \"море\""
            ],
            "text/latex": "\\begin{enumerate*}\n\\item 'море'\n\\item 'море'\n\\item 'море'\n\\item 'море'\n\\item 'море'\n\\end{enumerate*}\n",
            "text/markdown": "1. 'море'\n2. 'море'\n3. 'море'\n4. 'море'\n5. 'море'\n\n\n",
            "text/html": [
              "<style>\n",
              ".list-inline {list-style: none; margin:0; padding: 0}\n",
              ".list-inline>li {display: inline-block}\n",
              ".list-inline>li:not(:last-child)::after {content: \"\\00b7\"; padding: 0 .5ex}\n",
              "</style>\n",
              "<ol class=list-inline><li>'море'</li><li>'море'</li><li>'море'</li><li>'море'</li><li>'море'</li></ol>\n"
            ]
          },
          "metadata": {
            "tags": []
          }
        }
      ]
    },
    {
      "cell_type": "code",
      "metadata": {
        "colab": {
          "base_uri": "https://localhost:8080/",
          "height": 34
        },
        "id": "SDilNIPYOKaV",
        "outputId": "a95faaa5-3b53-4024-b95d-da8950340ffc"
      },
      "source": [
        "sample(room)[1:5] # перемешаем номера "
      ],
      "execution_count": 7,
      "outputs": [
        {
          "output_type": "display_data",
          "data": {
            "text/plain": [
              "[1] \"море\"    \"пустошь\" \"пустошь\" \"море\"    \"море\"   "
            ],
            "text/latex": "\\begin{enumerate*}\n\\item 'море'\n\\item 'пустошь'\n\\item 'пустошь'\n\\item 'море'\n\\item 'море'\n\\end{enumerate*}\n",
            "text/markdown": "1. 'море'\n2. 'пустошь'\n3. 'пустошь'\n4. 'море'\n5. 'море'\n\n\n",
            "text/html": [
              "<style>\n",
              ".list-inline {list-style: none; margin:0; padding: 0}\n",
              ".list-inline>li {display: inline-block}\n",
              ".list-inline>li:not(:last-child)::after {content: \"\\00b7\"; padding: 0 .5ex}\n",
              "</style>\n",
              "<ol class=list-inline><li>'море'</li><li>'пустошь'</li><li>'пустошь'</li><li>'море'</li><li>'море'</li></ol>\n"
            ]
          },
          "metadata": {
            "tags": []
          }
        }
      ]
    },
    {
      "cell_type": "code",
      "metadata": {
        "colab": {
          "base_uri": "https://localhost:8080/",
          "height": 34
        },
        "id": "VzaKjucXOKdM",
        "outputId": "cf3996cb-a00c-44d8-d949-c282d9ee1caa"
      },
      "source": [
        "# Будем считать что первые 8 позиций вектора относятся к россиянам\n",
        "sample(room)[1:8] == 'море'"
      ],
      "execution_count": 8,
      "outputs": [
        {
          "output_type": "display_data",
          "data": {
            "text/plain": [
              "[1]  TRUE  TRUE FALSE  TRUE  TRUE  TRUE  TRUE FALSE"
            ],
            "text/latex": "\\begin{enumerate*}\n\\item TRUE\n\\item TRUE\n\\item FALSE\n\\item TRUE\n\\item TRUE\n\\item TRUE\n\\item TRUE\n\\item FALSE\n\\end{enumerate*}\n",
            "text/markdown": "1. TRUE\n2. TRUE\n3. FALSE\n4. TRUE\n5. TRUE\n6. TRUE\n7. TRUE\n8. FALSE\n\n\n",
            "text/html": [
              "<style>\n",
              ".list-inline {list-style: none; margin:0; padding: 0}\n",
              ".list-inline>li {display: inline-block}\n",
              ".list-inline>li:not(:last-child)::after {content: \"\\00b7\"; padding: 0 .5ex}\n",
              "</style>\n",
              "<ol class=list-inline><li>TRUE</li><li>TRUE</li><li>FALSE</li><li>TRUE</li><li>TRUE</li><li>TRUE</li><li>TRUE</li><li>FALSE</li></ol>\n"
            ]
          },
          "metadata": {
            "tags": []
          }
        }
      ]
    },
    {
      "cell_type": "code",
      "metadata": {
        "colab": {
          "base_uri": "https://localhost:8080/",
          "height": 34
        },
        "id": "FVtlsaayOKiP",
        "outputId": "a7b8fb48-58ff-46a7-ce16-83b27141b9cc"
      },
      "source": [
        "n_obs = 10^6\n",
        "\n",
        "# комнаты\n",
        "room = c(rep('море',12),rep('пустошь',8))\n",
        "\n",
        "m = 0\n",
        "for(i in 1:n_obs){\n",
        "    if(sum(sample(room)[1:8] == 'море') == 8){\n",
        "        m = m + 1\n",
        "    }\n",
        "}\n",
        "\n",
        "m/n_obs"
      ],
      "execution_count": 9,
      "outputs": [
        {
          "output_type": "display_data",
          "data": {
            "text/plain": [
              "[1] 0.00389"
            ],
            "text/latex": "0.00389",
            "text/markdown": "0.00389",
            "text/html": [
              "0.00389"
            ]
          },
          "metadata": {
            "tags": []
          }
        }
      ]
    },
    {
      "cell_type": "markdown",
      "metadata": {
        "id": "PJpkGNw4vflq"
      },
      "source": [
        "## 4. Задачка про лампочки\n",
        "\n",
        "Таня сидит дома на самоизоляции уже третий месяц. Интернет отключили. Ей скучно. Она достала. из ящика $5$ лампочек, вкрутила их в люстру, поставила посреди комнаты стул и стала ждать, когда первая лампочка перегорит. Время работы лампочек, $T$, имеет экспоненциальное распределение с параметром $\\lambda = 0.2$ минут.\n",
        "\n",
        "__а)__ Какова вероятность того, что первая лапочка проработает больше $10$ минут? "
      ]
    },
    {
      "cell_type": "code",
      "metadata": {
        "id": "anpckQQ2vflq",
        "colab": {
          "base_uri": "https://localhost:8080/",
          "height": 34
        },
        "outputId": "141312b9-4ec8-4693-c4c0-558c5b991895"
      },
      "source": [
        "### ╰( ͡° ͜ʖ ͡° )つ──☆ ваш код\n",
        "# В этом пункте не надо было ничего генерировать!\n",
        "\n",
        "# P(T1 > 10) = 1 - P(T1 <= 10) = 1 - F(10)\n",
        "\n",
        "1 - pexp(10, rate = 0.2)"
      ],
      "execution_count": 1,
      "outputs": [
        {
          "output_type": "display_data",
          "data": {
            "text/plain": [
              "[1] 0.1353353"
            ],
            "text/latex": "0.135335283236613",
            "text/markdown": "0.135335283236613",
            "text/html": [
              "0.135335283236613"
            ]
          },
          "metadata": {
            "tags": []
          }
        }
      ]
    },
    {
      "cell_type": "markdown",
      "metadata": {
        "id": "IxY9O9dXvflq"
      },
      "source": [
        "__б)__ Чему равен для первой лампочки $95\\%$ квантиль? Как проинтерпретировать это число? "
      ]
    },
    {
      "cell_type": "code",
      "metadata": {
        "id": "6os7T9akvflq",
        "colab": {
          "base_uri": "https://localhost:8080/",
          "height": 34
        },
        "outputId": "d08c398e-b9a8-4884-ae2a-4072b619dd66"
      },
      "source": [
        "### ╰( ͡° ͜ʖ ͡° )つ──☆ ваш код\n",
        "qexp(0.95, rate=0.2)"
      ],
      "execution_count": 2,
      "outputs": [
        {
          "output_type": "display_data",
          "data": {
            "text/plain": [
              "[1] 14.97866"
            ],
            "text/latex": "14.97866136777",
            "text/markdown": "14.97866136777",
            "text/html": [
              "14.97866136777"
            ]
          },
          "metadata": {
            "tags": []
          }
        }
      ]
    },
    {
      "cell_type": "markdown",
      "metadata": {
        "id": "-NSSYYIevflq"
      },
      "source": [
        "__в)__ Пусть случайная велчина $X = \\min(T_1, \\ldots, T_5)$ - время до перегорания первой лампочки. Оцените: \n",
        "\n",
        "- $P(X > 10)$\n",
        "- $P(X > 10 \\mid T_1 > 5)$\n",
        "- $E(X)$\n",
        "- $E(X \\mid T_1 > 5)$"
      ]
    },
    {
      "cell_type": "code",
      "metadata": {
        "id": "_gKwXauvvflr",
        "colab": {
          "base_uri": "https://localhost:8080/",
          "height": 51
        },
        "outputId": "da7d0d43-5685-4432-8820-1680e62c4fcf"
      },
      "source": [
        "### ╰( ͡° ͜ʖ ͡° )つ──☆ ваш код\n",
        "n_obs = 10**6\n",
        "k = 5\n",
        "\n",
        "T = rexp(n_obs*k, rate=0.2)\n",
        "T = matrix(T, nrow = k, ncol=n_obs) # каждая строка - лампочка, столбец - наблюдение\n",
        "\n",
        "T1 = T[1,] # первая строка это первая лампа\n",
        "\n",
        "X = apply(T, 2, min) # минимум по каждому столбцу\n",
        "\n",
        "mean(X > 10)\n",
        "mean(X[T1 > 5] > 10)"
      ],
      "execution_count": 3,
      "outputs": [
        {
          "output_type": "display_data",
          "data": {
            "text/plain": [
              "[1] 5.7e-05"
            ],
            "text/latex": "5.7e-05",
            "text/markdown": "5.7e-05",
            "text/html": [
              "5.7e-05"
            ]
          },
          "metadata": {
            "tags": []
          }
        },
        {
          "output_type": "display_data",
          "data": {
            "text/plain": [
              "[1] 0.0001551624"
            ],
            "text/latex": "0.000155162416940469",
            "text/markdown": "0.000155162416940469",
            "text/html": [
              "0.000155162416940469"
            ]
          },
          "metadata": {
            "tags": []
          }
        }
      ]
    },
    {
      "cell_type": "code",
      "metadata": {
        "colab": {
          "base_uri": "https://localhost:8080/",
          "height": 51
        },
        "id": "rgADN_WDN5aM",
        "outputId": "27fbfeb2-a15f-429a-d982-569d03e6243e"
      },
      "source": [
        "mean(X)\n",
        "mean(X[T1 > 5])"
      ],
      "execution_count": 4,
      "outputs": [
        {
          "output_type": "display_data",
          "data": {
            "text/plain": [
              "[1] 1.000007"
            ],
            "text/latex": "1.0000066283241",
            "text/markdown": "1.0000066283241",
            "text/html": [
              "1.0000066283241"
            ]
          },
          "metadata": {
            "tags": []
          }
        },
        {
          "output_type": "display_data",
          "data": {
            "text/plain": [
              "[1] 1.2473"
            ],
            "text/latex": "1.24729981711887",
            "text/markdown": "1.24729981711887",
            "text/html": [
              "1.24729981711887"
            ]
          },
          "metadata": {
            "tags": []
          }
        }
      ]
    },
    {
      "cell_type": "markdown",
      "metadata": {
        "id": "lyMREE9Vvflr"
      },
      "source": [
        "__г)__ Пусть случайная величина $Y = \\max(T_1, \\ldots, T_5)$ - время до перегорания последней лампочки. Оцените \n",
        "\n",
        "- $E(Y - X)$\n",
        "- $P(Y > 2 X)$ \n",
        "- $Cov(X,Y)$,\n",
        "- $Var(X), Var(Y)$, какая из дисперсий больше, почему?"
      ]
    },
    {
      "cell_type": "code",
      "metadata": {
        "id": "tn3xgfF1vflr",
        "colab": {
          "base_uri": "https://localhost:8080/",
          "height": 102
        },
        "outputId": "7bfac6f5-a62e-41fa-e66f-b96e844ebc99"
      },
      "source": [
        "### ╰( ͡° ͜ʖ ͡° )つ──☆ ваш код\n",
        "Y = apply(T, 2, max) # максимум по каждому столбцу\n",
        "\n",
        "mean(Y - X)\n",
        "mean(Y > 2*X)\n",
        "cov(X, Y)\n",
        "var(X)\n",
        "var(Y)"
      ],
      "execution_count": 5,
      "outputs": [
        {
          "output_type": "display_data",
          "data": {
            "text/plain": [
              "[1] 10.41878"
            ],
            "text/latex": "10.4187770083233",
            "text/markdown": "10.4187770083233",
            "text/html": [
              "10.4187770083233"
            ]
          },
          "metadata": {
            "tags": []
          }
        },
        {
          "output_type": "display_data",
          "data": {
            "text/plain": [
              "[1] 0.992013"
            ],
            "text/latex": "0.992013",
            "text/markdown": "0.992013",
            "text/html": [
              "0.992013"
            ]
          },
          "metadata": {
            "tags": []
          }
        },
        {
          "output_type": "display_data",
          "data": {
            "text/plain": [
              "[1] 1.00317"
            ],
            "text/latex": "1.00316975317319",
            "text/markdown": "1.00316975317319",
            "text/html": [
              "1.00316975317319"
            ]
          },
          "metadata": {
            "tags": []
          }
        },
        {
          "output_type": "display_data",
          "data": {
            "text/plain": [
              "[1] 1.003535"
            ],
            "text/latex": "1.00353514392957",
            "text/markdown": "1.00353514392957",
            "text/html": [
              "1.00353514392957"
            ]
          },
          "metadata": {
            "tags": []
          }
        },
        {
          "output_type": "display_data",
          "data": {
            "text/plain": [
              "[1] 36.52881"
            ],
            "text/latex": "36.5288105552741",
            "text/markdown": "36.5288105552741",
            "text/html": [
              "36.5288105552741"
            ]
          },
          "metadata": {
            "tags": []
          }
        }
      ]
    },
    {
      "cell_type": "markdown",
      "metadata": {
        "id": "DHs2E7Jsvflr"
      },
      "source": [
        "## Соблюдение авторских прав\n",
        "\n",
        "* При написании первой части блокнота очень сильно (вплоть до копипасты) использовалась [первая глава](https://github.com/bdemeshev/r_manual_book/blob/master/03_statistics_and_more.Rmd) [учебника по языку R для начинающих от Демешева Б.Б.](https://bdemeshev.github.io/r_manual_book/)\n",
        "\n",
        "\n",
        "## Почиташки \n",
        "\n",
        "*  Ещё один недописаный учебник с [разными распределениями и всяким таким в R](http://www.ievbras.ru/ecostat/Kiril/R/Biblio/R_rus/%C7%E0%F0%FF%E4%EE%E2%20%F7%E0%F1%F2%FC_2.pdf)\n",
        "*  [Шпаргалка по ggplot2](https://www.rstudio.com/wp-content/uploads/2015/03/ggplot2-cheatsheet.pdf)"
      ]
    }
  ]
}