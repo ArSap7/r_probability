{
 "cells": [
  {
   "cell_type": "markdown",
   "metadata": {},
   "source": [
    "<img src=\"https://raw.githubusercontent.com/FUlyankin/r_probability/master/end_seminars/sem_5/pEbNtDxzx0Q.jpg\" height=\"500\" width=\"500\"> \n",
    "\n",
    "# <center> R для тервера и матстата <br>  <br> Мощь средних </center>"
   ]
  },
  {
   "cell_type": "code",
   "execution_count": 19,
   "metadata": {},
   "outputs": [],
   "source": [
    "library(\"ggplot2\")  # Пакет для красивых графиков \n",
    "library(\"grid\")     # Пакет для субплотов\n",
    "\n",
    "# Отрегулируем размер картинок, которые будут выдаваться в нашей тетрадке\n",
    "library('repr')\n",
    "options(repr.plot.width=4, repr.plot.height=2)"
   ]
  },
  {
   "cell_type": "code",
   "execution_count": 20,
   "metadata": {},
   "outputs": [],
   "source": [
    "library('rio')  # https://www.rdocumentation.org/packages/rio/versions/0.5.16"
   ]
  },
  {
   "cell_type": "markdown",
   "metadata": {},
   "source": [
    "## Упражнение про Киллера\n",
    "\n",
    "Киллер - это весёлая лагерная игра. Краткие правила игры:\n",
    "\n",
    "- Игроки пишут свои имена на карточках и кладут их в шляпу\n",
    "- Игроки рандомно вытаскивают карточки из шляпы \n",
    "- Полученное имя - имя жертвы\n",
    "- Каждый игрок одновременно и убийца и жертва\n",
    "- Чтобы убить другого игрока, надо оказаться с ним наедине и застрелить из пальца\n",
    "- Жертва убитого становится новой жертвой игрока\n",
    "- Побеждает тот, кто совершит наибольшее число убийств\n",
    "\n",
    "На экономическом факультете было два раунда игры в киллера. Все убийства регистрировались в гугл-форме. В табличках `killer_time1.csv` и `killer_time2.csv` лежит время в часах, которое проходило между убийствами."
   ]
  },
  {
   "cell_type": "code",
   "execution_count": 57,
   "metadata": {},
   "outputs": [],
   "source": [
    "df1 = import('killer_time1.csv', dec = \",\", sep='\\t')\n",
    "df2 = import('killer_time2.csv', dec = \",\", sep='\\t')\n",
    "\n",
    "x = df1$hours_between_kill\n",
    "y = df2$hours_between_kill"
   ]
  },
  {
   "cell_type": "code",
   "execution_count": 42,
   "metadata": {},
   "outputs": [
    {
     "name": "stdout",
     "output_type": "stream",
     "text": [
      "[1] 36\n",
      "[1] 17\n"
     ]
    }
   ],
   "source": [
    "print(length(x))\n",
    "print(length(y))"
   ]
  },
  {
   "cell_type": "code",
   "execution_count": 46,
   "metadata": {},
   "outputs": [
    {
     "name": "stderr",
     "output_type": "stream",
     "text": [
      "`stat_bin()` using `bins = 30`. Pick better value with `binwidth`.\n"
     ]
    },
    {
     "data": {
      "image/png": "[encoded data removed]",
      "text/plain": [
       "plot without title"
      ]
     },
     "metadata": {},
     "output_type": "display_data"
    }
   ],
   "source": [
    "qplot(y)"
   ]
  },
  {
   "cell_type": "markdown",
   "metadata": {},
   "source": [
    "Будем считать, что время до следующего убийства имеет экспоненциальное распределение. То есть число убийств - простейший поток событий. \n",
    "\n",
    "__Задание 1:__ найдите оценку параметра $\\lambda$ с помощью метода моментов."
   ]
  },
  {
   "cell_type": "markdown",
   "metadata": {},
   "source": [
    "$$E(X) = \\frac{1}{\\lambda}$$\n",
    "\n",
    "$$Var(X) = \\frac{1}{\\lambda^2}$$"
   ]
  },
  {
   "cell_type": "code",
   "execution_count": 30,
   "metadata": {},
   "outputs": [
    {
     "name": "stdout",
     "output_type": "stream",
     "text": [
      "[1] 0.02584336\n",
      "[1] 0.01649813\n"
     ]
    }
   ],
   "source": [
    "lam_x = 1/mean(x)\n",
    "lam_y = 1/mean(y)\n",
    "\n",
    "print(lam_x)\n",
    "print(lam_y)"
   ]
  },
  {
   "cell_type": "code",
   "execution_count": 31,
   "metadata": {},
   "outputs": [
    {
     "name": "stdout",
     "output_type": "stream",
     "text": [
      "[1] 38.69465\n",
      "[1] 60.61294\n"
     ]
    }
   ],
   "source": [
    "print(1/lam_x)\n",
    "print(1/lam_y)"
   ]
  },
  {
   "cell_type": "code",
   "execution_count": 47,
   "metadata": {},
   "outputs": [
    {
     "name": "stdout",
     "output_type": "stream",
     "text": [
      "[1] 19.51119\n",
      "[1] 24.19629\n"
     ]
    }
   ],
   "source": [
    "print(median(y))\n",
    "print(median(x))"
   ]
  },
  {
   "cell_type": "markdown",
   "metadata": {},
   "source": [
    "__Задание 2:__ постройте для неизвестного параметра $\\lambda$ доверительный интервал. Возьмите уровень значимости равный $10\\%$."
   ]
  },
  {
   "cell_type": "markdown",
   "metadata": {},
   "source": [
    "$$\n",
    "\\hat{\\lambda} = \\frac{1}{\\bar x} \\sim N \\left( \\lambda, \\frac{1}{\\lambda^2 \\cdot n} \\cdot \\lambda^4  \\right)\n",
    "$$"
   ]
  },
  {
   "cell_type": "markdown",
   "metadata": {},
   "source": [
    "$$\n",
    "\\hat{\\lambda} = \\frac{1}{\\bar x} \\sim N \\left( \\lambda, \\frac{1}{\\bar x ^2 \\cdot n}\\right)\n",
    "$$"
   ]
  },
  {
   "cell_type": "markdown",
   "metadata": {},
   "source": [
    "$$ g(t) = \\frac{1}{t} $$\n",
    "\n",
    "$$g'(t) = - \\frac{1}{t^2} $$"
   ]
  },
  {
   "cell_type": "code",
   "execution_count": 45,
   "metadata": {},
   "outputs": [
    {
     "name": "stdout",
     "output_type": "stream",
     "text": [
      "[1] 0.009916437\n",
      "[1] 0.02307982\n",
      "[1] 0.01316338\n"
     ]
    }
   ],
   "source": [
    "#sample = x\n",
    "sample = y\n",
    "\n",
    "alpha = 0.1\n",
    "z = qnorm(1 - alpha/2)\n",
    "\n",
    "left = 1/mean(sample) - z*sqrt(1/(mean(sample)^2 * length(sample)))\n",
    "right = 1/mean(sample) + z*sqrt(1/(mean(sample)^2 * length(sample)))\n",
    "delta = right - left\n",
    "\n",
    "print(left)\n",
    "print(right)\n",
    "print(delta)"
   ]
  },
  {
   "cell_type": "markdown",
   "metadata": {},
   "source": [
    "__Задание 3:__ постройте для неизвестного математического ожидания $\\frac{1}{\\lambda}$ доверительный интервал. Возьмите уровень значимости равный $10\\%$."
   ]
  },
  {
   "cell_type": "markdown",
   "metadata": {},
   "source": [
    "$$\n",
    "\\hat \\mu = \\frac{1}{\\hat \\lambda} = \\bar x \\sim N \\left( \\frac{1}{\\lambda}, \\frac{1}{\\lambda^2 \\cdot n} \\right)\n",
    "$$"
   ]
  },
  {
   "cell_type": "markdown",
   "metadata": {},
   "source": [
    "$$\n",
    "\\hat \\mu = \\frac{1}{\\hat \\lambda} = \\bar x \\sim N \\left( \\frac{1}{\\lambda}, \\frac{\\bar x^2}{n} \\right)\n",
    "$$"
   ]
  },
  {
   "cell_type": "markdown",
   "metadata": {},
   "source": [
    "$$\n",
    "\\bar x \\pm z_{1 - \\frac{\\alpha}{2}} \\cdot \\sqrt{\\frac{\\bar x^2}{n}} \n",
    "$$"
   ]
  },
  {
   "cell_type": "code",
   "execution_count": 41,
   "metadata": {},
   "outputs": [
    {
     "name": "stdout",
     "output_type": "stream",
     "text": [
      "[1] 36.43228\n",
      "[1] 84.7936\n",
      "[1] 48.36132\n"
     ]
    }
   ],
   "source": [
    "#sample = x\n",
    "sample = y\n",
    "\n",
    "alpha = 0.1\n",
    "z = qnorm(1 - alpha/2)\n",
    "\n",
    "left = mean(sample) - z*sqrt(mean(sample)^2/length(sample))\n",
    "right = mean(sample) + z*sqrt(mean(sample)^2/length(sample))\n",
    "delta = right - left\n",
    "\n",
    "print(left)\n",
    "print(right)\n",
    "print(delta)"
   ]
  },
  {
   "cell_type": "markdown",
   "metadata": {},
   "source": [
    "Правда ли, что первая игра была более интенсивной, чем вторая, то есть в течение неё людей убивали быстрее?\n",
    "\n",
    "__Задание 4:__   Постройте для разницы $\\frac{1}{\\lambda_2} - \\frac{1}{\\lambda_1}$ доверительный интервал. Попадает ли в него ноль? Что это означает? "
   ]
  },
  {
   "cell_type": "markdown",
   "metadata": {},
   "source": [
    "$$\n",
    "\\frac{1}{\\hat \\lambda_1} = \\bar x \\sim N \\left( \\frac{1}{\\lambda_1}, \\frac{\\bar x^2}{n} \\right)\n",
    "$$\n",
    "\n",
    "$$\n",
    "\\frac{1}{\\hat \\lambda_2} = \\bar y \\sim N \\left( \\frac{1}{\\lambda_2}, \\frac{\\bar y^2}{m} \\right)\n",
    "$$"
   ]
  },
  {
   "cell_type": "markdown",
   "metadata": {},
   "source": [
    "$$\n",
    "\\frac{1}{\\hat \\lambda_2} - \\frac{1}{\\hat \\lambda_1} = \\bar y - \\bar x \\sim N \\left(\\frac{1}{\\lambda_2} - \\frac{1}{\\lambda_1}, \\frac{\\bar x^2}{n}  + \\frac{\\bar y^2}{m}  \\right)\n",
    "$$"
   ]
  },
  {
   "cell_type": "markdown",
   "metadata": {},
   "source": [
    "$$\n",
    "(\\bar y - \\bar x) \\pm z_{1- \\frac{\\alpha}{2}} \\cdot \\sqrt{\\frac{\\bar x^2}{n}  + \\frac{\\bar y^2}{m} }\n",
    "$$"
   ]
  },
  {
   "cell_type": "code",
   "execution_count": 48,
   "metadata": {},
   "outputs": [
    {
     "name": "stdout",
     "output_type": "stream",
     "text": [
      "[1] -4.486836\n",
      "[1] 48.32341\n",
      "[1] 52.81025\n"
     ]
    }
   ],
   "source": [
    "alpha = 0.1\n",
    "z = qnorm(1 - alpha/2)\n",
    "\n",
    "sd = sqrt(mean(x)^2/length(x) + mean(y)^2/length(y))\n",
    "diff = mean(y) - mean(x)\n",
    "\n",
    "left = diff - z*sd\n",
    "right = diff + z*sd\n",
    "delta = right - left\n",
    "\n",
    "print(left)\n",
    "print(right)\n",
    "print(delta)"
   ]
  },
  {
   "cell_type": "markdown",
   "metadata": {},
   "source": [
    "__Задание 5:__  Проверьте гипотезу о том, что первая игра оказалась более интенсивной. Чётко сформулируйте все предпосылки, гипотезы и критерий, который вы используйте. "
   ]
  },
  {
   "cell_type": "markdown",
   "metadata": {},
   "source": [
    "\\begin{equation*}\n",
    "\\begin{aligned}\n",
    "& H_0 : \\frac{1}{\\lambda_2} = \\frac{1}{\\lambda_1} \\\\\n",
    "& H_a : \\frac{1}{\\lambda_2} > \\frac{1}{\\lambda_1}\n",
    "\\end{aligned}\n",
    "\\end{equation*}"
   ]
  },
  {
   "cell_type": "markdown",
   "metadata": {},
   "source": [
    "__Предпослыки:__ \n",
    "\n",
    "- [x] Выборки собраны незавимо друг от друга + наблюдения независимы\n",
    "- [x] Модель: $X \\sim Exp(\\lambda_1), Y \\sim Exp(\\lambda_2)$\n",
    "- [ ] Вторые моменты конечны (нет выбросов в данных)\n",
    "- [ ] Объём выборки большой"
   ]
  },
  {
   "cell_type": "markdown",
   "metadata": {},
   "source": [
    "$$\n",
    "\\frac{1}{\\hat \\lambda_2} - \\frac{1}{\\hat \\lambda_1} = \\bar y - \\bar x \\sim N \\left(\\frac{1}{\\lambda_2} - \\frac{1}{\\lambda_1}, \\frac{\\bar x^2}{n}  + \\frac{\\bar y^2}{m}  \\right)\n",
    "$$"
   ]
  },
  {
   "cell_type": "markdown",
   "metadata": {},
   "source": [
    "__При верности нулевой гипотезы:__\n",
    "\n",
    "$$\n",
    "\\frac{1}{\\hat \\lambda_2} - \\frac{1}{\\hat \\lambda_1} = \\bar y - \\bar x \\sim N \\left(0, \\frac{\\bar x^2}{n}  + \\frac{\\bar y^2}{m}  \\right)\n",
    "$$"
   ]
  },
  {
   "cell_type": "markdown",
   "metadata": {},
   "source": [
    "$$\n",
    "T = \\frac{\\bar y - \\bar x}{\\sqrt{\\frac{\\bar x^2}{n}  + \\frac{\\bar y^2}{m} }  } \\sim N \\left(0, 1 \\right)\n",
    "$$"
   ]
  },
  {
   "cell_type": "code",
   "execution_count": 49,
   "metadata": {},
   "outputs": [
    {
     "data": {
      "text/html": [
       "1.36535530310646"
      ],
      "text/latex": [
       "1.36535530310646"
      ],
      "text/markdown": [
       "1.36535530310646"
      ],
      "text/plain": [
       "[1] 1.365355"
      ]
     },
     "metadata": {},
     "output_type": "display_data"
    }
   ],
   "source": [
    "T_obs = diff/sd\n",
    "T_obs"
   ]
  },
  {
   "cell_type": "code",
   "execution_count": 50,
   "metadata": {},
   "outputs": [
    {
     "data": {
      "text/html": [
       "1.64485362695147"
      ],
      "text/latex": [
       "1.64485362695147"
      ],
      "text/markdown": [
       "1.64485362695147"
      ],
      "text/plain": [
       "[1] 1.644854"
      ]
     },
     "metadata": {},
     "output_type": "display_data"
    }
   ],
   "source": [
    "alpha = 0.05\n",
    "T_cr = qnorm(1 - alpha)\n",
    "T_cr"
   ]
  },
  {
   "cell_type": "code",
   "execution_count": 51,
   "metadata": {},
   "outputs": [
    {
     "data": {
      "text/html": [
       "0.0860707024709519"
      ],
      "text/latex": [
       "0.0860707024709519"
      ],
      "text/markdown": [
       "0.0860707024709519"
      ],
      "text/plain": [
       "[1] 0.0860707"
      ]
     },
     "metadata": {},
     "output_type": "display_data"
    }
   ],
   "source": [
    "1 - pnorm(T_obs) # pvalue"
   ]
  },
  {
   "cell_type": "code",
   "execution_count": 52,
   "metadata": {},
   "outputs": [
    {
     "data": {
      "text/html": [
       "0.0860707024709519"
      ],
      "text/latex": [
       "0.0860707024709519"
      ],
      "text/markdown": [
       "0.0860707024709519"
      ],
      "text/plain": [
       "[1] 0.0860707"
      ]
     },
     "metadata": {},
     "output_type": "display_data"
    }
   ],
   "source": [
    "pnorm(-T_obs)"
   ]
  },
  {
   "cell_type": "markdown",
   "metadata": {},
   "source": [
    "__Задание 6:__ Насколько адекватно предполагать, что выборка пришла к нам из экспоненциального распределения? \n",
    "\n",
    "С помощью теста Колмогорова проверьте гипотезу о том, что время для первой игры имеет экспоненциальное распределение с параметром $\\lambda = 0.026$.  "
   ]
  },
  {
   "cell_type": "markdown",
   "metadata": {},
   "source": [
    "$$\n",
    "H_0: \\hat{F}_n(x) = F_X(x), \\quad F_X(X) = 1- e^{-\\lambda x} \n",
    "$$"
   ]
  },
  {
   "cell_type": "markdown",
   "metadata": {},
   "source": [
    "$$\n",
    "\\bar x - 6\n",
    "$$"
   ]
  },
  {
   "cell_type": "markdown",
   "metadata": {},
   "source": [
    "$$\n",
    "\\hat{F}_n(x) - F_X(x)\n",
    "$$"
   ]
  },
  {
   "cell_type": "markdown",
   "metadata": {},
   "source": [
    "$$\n",
    "\\sqrt{n} \\cdot \\sup_x |\\hat{F}_n(x) - F_X(x)|\n",
    "$$"
   ]
  },
  {
   "cell_type": "code",
   "execution_count": 58,
   "metadata": {},
   "outputs": [
    {
     "data": {
      "text/plain": [
       "\n",
       "\tOne-sample Kolmogorov-Smirnov test\n",
       "\n",
       "data:  z\n",
       "D = 0.0020965, p-value = 0.7716\n",
       "alternative hypothesis: two-sided\n"
      ]
     },
     "metadata": {},
     "output_type": "display_data"
    }
   ],
   "source": [
    "z <- rnorm(10^5, 1, 2)\n",
    "ks.test(z, \"pnorm\", mean=mean(z), sd=sd(z))"
   ]
  },
  {
   "cell_type": "code",
   "execution_count": 65,
   "metadata": {},
   "outputs": [
    {
     "data": {
      "text/plain": [
       "\n",
       "\tOne-sample Kolmogorov-Smirnov test\n",
       "\n",
       "data:  x\n",
       "D = 0.2178, p-value = 0.05588\n",
       "alternative hypothesis: two-sided\n"
      ]
     },
     "metadata": {},
     "output_type": "display_data"
    }
   ],
   "source": [
    "ks.test(x, \"pexp\", rate=1/mean(x))"
   ]
  },
  {
   "cell_type": "code",
   "execution_count": 66,
   "metadata": {},
   "outputs": [
    {
     "data": {
      "text/plain": [
       "\n",
       "\tOne-sample Kolmogorov-Smirnov test\n",
       "\n",
       "data:  y\n",
       "D = 0.25418, p-value = 0.1866\n",
       "alternative hypothesis: two-sided\n"
      ]
     },
     "metadata": {},
     "output_type": "display_data"
    }
   ],
   "source": [
    "ks.test(y, \"pexp\", rate=1/mean(y))"
   ]
  },
  {
   "cell_type": "markdown",
   "metadata": {},
   "source": [
    "__Задание 7:__ Распределение выглядит как экспоненциальное. Более того, по гистограммам возникает ощущение, что это одинаковое распределение. С помощью теста Колмогорова-Смирнова проверьте гипотезу о том, что обе выборки пришли из одного и того же распределения."
   ]
  },
  {
   "cell_type": "code",
   "execution_count": 67,
   "metadata": {},
   "outputs": [
    {
     "data": {
      "text/plain": [
       "\n",
       "\tTwo-sample Kolmogorov-Smirnov test\n",
       "\n",
       "data:  y and x\n",
       "D = 0.21895, p-value = 0.5453\n",
       "alternative hypothesis: two-sided\n"
      ]
     },
     "metadata": {},
     "output_type": "display_data"
    }
   ],
   "source": [
    "ks.test(y, x)"
   ]
  },
  {
   "cell_type": "markdown",
   "metadata": {},
   "source": [
    "   "
   ]
  }
 ],
 "metadata": {
  "kernelspec": {
   "display_name": "R",
   "language": "R",
   "name": "ir"
  },
  "language_info": {
   "codemirror_mode": "r",
   "file_extension": ".r",
   "mimetype": "text/x-r-source",
   "name": "R",
   "pygments_lexer": "r",
   "version": "3.5.3"
  }
 },
 "nbformat": 4,
 "nbformat_minor": 4
}
