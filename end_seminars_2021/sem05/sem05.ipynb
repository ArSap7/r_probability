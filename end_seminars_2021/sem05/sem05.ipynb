{
 "cells": [
  {
   "cell_type": "markdown",
   "metadata": {},
   "source": [
    "<center>\n",
    "<img src=\"https://raw.githubusercontent.com/FUlyankin/r_probability/master/end_seminars_2020/sem08/real_expect.png\" height=\"300\" width=\"700\"> \n",
    "</center>\n",
    "\n",
    "# <center> R для тервера и матстата <br>  <br> Ошибки, точные критерии, бутстрап </center>"
   ]
  },
  {
   "cell_type": "code",
   "execution_count": 9,
   "metadata": {},
   "outputs": [],
   "source": [
    "library(\"ggplot2\")  # Пакет для красивых графиков \n",
    "library(\"grid\")     # Пакет для субплотов\n",
    "\n",
    "# Отрегулируем размер картинок, которые будут выдаваться в нашей тетрадке\n",
    "library('repr')\n",
    "options(repr.plot.width=4, repr.plot.height=3)"
   ]
  },
  {
   "cell_type": "markdown",
   "metadata": {},
   "source": [
    "## Задачулечка 1: про осьминога\n",
    "\n",
    "Во время ЧЕ по футболу 2008 года и ЧМ 2010 года [Осьминог Пауль](https://ru.wikipedia.org/wiki/Пауль_(осьминог))занимался прогнозированием побед (после он ушёл в финансовую аналитику и IB). Осьминог дал верные прогнозы в $12$ случаях из $14$. Если предположить, что Пауль выбирает победителя наугад, какова вероятность получить 12 верных прогнозов из 14? \n",
    "\n",
    "Можно ли утверждать, что Осьминог обладает даром предвидения? Чётко опишите все предпосылки, которые используйте при проверке гипотезы, а также выбранный вами критерий. "
   ]
  },
  {
   "cell_type": "code",
   "execution_count": null,
   "metadata": {},
   "outputs": [],
   "source": [
    "    # ┬─┬ ノ( ゜-゜ノ)       Писать код самому? \n",
    "    \n",
    "    # (╯° □°)╯︵ ┻━┻"
   ]
  },
  {
   "cell_type": "markdown",
   "metadata": {},
   "source": [
    "## Задачулечка 2: бутстрап\n",
    "\n",
    "Компания Verizon - основная региональная телекоммуникационная компания в западной части США. Она отвечает за поддержание наземной телефонной связи (Incumbent Local Exchange Carrier, ILEC). Кроме того, она продаёт услуги междугородней связи, как и ряд её конкурентов, получивших название (Competing Local Exchange Carriers, CLEC).\n",
    "\n",
    "Когда что-то шло не так, Verizon отвечала за ремонт своего оборудования и оборудования конкурентов. Она должна была делать ремонт оборудования конкурентов также быстро, как и ремонт своего оборудования. За этим следила комиссия по коммунальным услугам. \n",
    "\n",
    "Периодически возникали подозрения, что Verizon ремонтирует чужое оборудование медленнее. Тим Хестерберг, автор [отличной статьи про бустрап,](https://arxiv.org/pdf/1411.5279.pdf) консультировал компанию Verizon во время слушаний о нарушениях. Комиссия сравнивала время ремонта для Verizon и других компаний. Чтобы определить есть ли нарушения, в каждом случае, она проверяла гипотезу о равенстве средних на уровне значимости $1\\%$. \n",
    "\n",
    "Если более $1\\%$ тестов оказывались значимыми, компания должна была бы заплатить высокий штраф. Гипотезы проверялись с помощью $t$-статистик. После консультации Тима, Verizon предложила использовать тесты, робастные к выбросам и никак не завязанные на нормальность исходных распределений.\n",
    "\n",
    "Мы в этом задании попробуем ответить на тот же вопрос, связанный с дискриминацией, но с помощью бустрапа. Для этого мы построим доверительный интервал для разности медиан и посмотрим входит ли в него ноль. Будем использовать уровень значимости в $1\\%$. Доверительный интервал будем строить для одной CLEC-комиании и для Verizon. "
   ]
  },
  {
   "cell_type": "code",
   "execution_count": 4,
   "metadata": {},
   "outputs": [
    {
     "data": {
      "text/html": [
       "<table>\n",
       "<thead><tr><th scope=col>Time</th><th scope=col>Group</th></tr></thead>\n",
       "<tbody>\n",
       "\t<tr><td>17.50</td><td>ILEC </td></tr>\n",
       "\t<tr><td> 2.40</td><td>ILEC </td></tr>\n",
       "\t<tr><td> 0.00</td><td>ILEC </td></tr>\n",
       "\t<tr><td> 0.65</td><td>ILEC </td></tr>\n",
       "\t<tr><td>22.23</td><td>ILEC </td></tr>\n",
       "\t<tr><td> 1.20</td><td>ILEC </td></tr>\n",
       "</tbody>\n",
       "</table>\n"
      ],
      "text/latex": [
       "\\begin{tabular}{r|ll}\n",
       " Time & Group\\\\\n",
       "\\hline\n",
       "\t 17.50 & ILEC \\\\\n",
       "\t  2.40 & ILEC \\\\\n",
       "\t  0.00 & ILEC \\\\\n",
       "\t  0.65 & ILEC \\\\\n",
       "\t 22.23 & ILEC \\\\\n",
       "\t  1.20 & ILEC \\\\\n",
       "\\end{tabular}\n"
      ],
      "text/markdown": [
       "\n",
       "| Time | Group |\n",
       "|---|---|\n",
       "| 17.50 | ILEC  |\n",
       "|  2.40 | ILEC  |\n",
       "|  0.00 | ILEC  |\n",
       "|  0.65 | ILEC  |\n",
       "| 22.23 | ILEC  |\n",
       "|  1.20 | ILEC  |\n",
       "\n"
      ],
      "text/plain": [
       "  Time  Group\n",
       "1 17.50 ILEC \n",
       "2  2.40 ILEC \n",
       "3  0.00 ILEC \n",
       "4  0.65 ILEC \n",
       "5 22.23 ILEC \n",
       "6  1.20 ILEC "
      ]
     },
     "metadata": {},
     "output_type": "display_data"
    }
   ],
   "source": [
    "library('dplyr')\n",
    "library('rio') # тут import, который сам догадается до разделителей и даже excel прочтёт\n",
    "\n",
    "df = import('verizon.txt')\n",
    "\n",
    "# ILEC - внутренний клиент \n",
    "# CLEC - внешние клиенты \n",
    "head(df)"
   ]
  },
  {
   "cell_type": "markdown",
   "metadata": {},
   "source": [
    "В данных есть существенный перекос в количестве наблюдений. Среднее время ремонта CLEC почти вдвое больше, чем для ILEC. Вопрос в том, является ли это свидетельством дискриминации. Если посмотреть на распределение, можно заметить, что распределение времени на ремонт CLEC имеет как минимум один выброс. Тем не менее, если смотреть на медианы, которые робастны (нечувствительны) к выбросам, ситуация, связанная со временем оказывается ещё более драмматичной. "
   ]
  },
  {
   "cell_type": "code",
   "execution_count": 5,
   "metadata": {},
   "outputs": [
    {
     "data": {
      "text/html": [
       "<table>\n",
       "<thead><tr><th scope=col>Group</th><th scope=col>count</th><th scope=col>mean</th><th scope=col>median</th></tr></thead>\n",
       "<tbody>\n",
       "\t<tr><td>CLEC     </td><td>  23     </td><td>16.509130</td><td>14.33    </td></tr>\n",
       "\t<tr><td>ILEC     </td><td>1664     </td><td> 8.411611</td><td> 3.59    </td></tr>\n",
       "</tbody>\n",
       "</table>\n"
      ],
      "text/latex": [
       "\\begin{tabular}{r|llll}\n",
       " Group & count & mean & median\\\\\n",
       "\\hline\n",
       "\t CLEC      &   23      & 16.509130 & 14.33    \\\\\n",
       "\t ILEC      & 1664      &  8.411611 &  3.59    \\\\\n",
       "\\end{tabular}\n"
      ],
      "text/markdown": [
       "\n",
       "| Group | count | mean | median |\n",
       "|---|---|---|---|\n",
       "| CLEC      |   23      | 16.509130 | 14.33     |\n",
       "| ILEC      | 1664      |  8.411611 |  3.59     |\n",
       "\n"
      ],
      "text/plain": [
       "  Group count mean      median\n",
       "1 CLEC    23  16.509130 14.33 \n",
       "2 ILEC  1664   8.411611  3.59 "
      ]
     },
     "metadata": {},
     "output_type": "display_data"
    }
   ],
   "source": [
    "df %>% group_by(Group) %>% \n",
    "summarise(count = n(), mean = mean(Time), median = median(Time))"
   ]
  },
  {
   "cell_type": "code",
   "execution_count": 10,
   "metadata": {},
   "outputs": [
    {
     "data": {
      "image/png": "[encoded data removed]",
      "text/plain": [
       "plot without title"
      ]
     },
     "metadata": {},
     "output_type": "display_data"
    }
   ],
   "source": [
    "qplot(df$Time, bins=20)"
   ]
  },
  {
   "cell_type": "code",
   "execution_count": 13,
   "metadata": {},
   "outputs": [
    {
     "data": {
      "text/html": [
       "<table>\n",
       "<thead><tr><th scope=col>Time</th><th scope=col>Group</th></tr></thead>\n",
       "<tbody>\n",
       "\t<tr><td>5.18</td><td>ILEC</td></tr>\n",
       "\t<tr><td>2.37</td><td>ILEC</td></tr>\n",
       "\t<tr><td>0.00</td><td>ILEC</td></tr>\n",
       "</tbody>\n",
       "</table>\n"
      ],
      "text/latex": [
       "\\begin{tabular}{r|ll}\n",
       " Time & Group\\\\\n",
       "\\hline\n",
       "\t 5.18 & ILEC\\\\\n",
       "\t 2.37 & ILEC\\\\\n",
       "\t 0.00 & ILEC\\\\\n",
       "\\end{tabular}\n"
      ],
      "text/markdown": [
       "\n",
       "| Time | Group |\n",
       "|---|---|\n",
       "| 5.18 | ILEC |\n",
       "| 2.37 | ILEC |\n",
       "| 0.00 | ILEC |\n",
       "\n"
      ],
      "text/plain": [
       "  Time Group\n",
       "1 5.18 ILEC \n",
       "2 2.37 ILEC \n",
       "3 0.00 ILEC "
      ]
     },
     "metadata": {},
     "output_type": "display_data"
    }
   ],
   "source": [
    "df %>% sample_n(size = 3, replace=TRUE)"
   ]
  },
  {
   "cell_type": "markdown",
   "metadata": {},
   "source": [
    "__а)__ Постройте для разницы $med_{CLEC} - med_{Verizion}$ доверительный интервал Эфрона (перцентильный доверительный интервал). \n",
    "\n",
    "- Бутсрапируем: оценку неизвестного параметра\n",
    "- Сэмплируем: $x_1^{*}, \\ldots, x_n^{*}$\n",
    "- Считаем: $\\hat{\\theta}^{*}$\n",
    "- Повторяем: $B$ раз\n",
    "- Строим распределение: $\\hat{\\theta}^{*}_1, \\ldots, \\hat{\\theta}^{*}_B$\n",
    "- Доверительный интервал: $[\\hat{\\theta}^{*}_{\\frac{\\alpha}{2}}; \\hat{\\theta}^{*}_{1 - \\frac{\\alpha}{2}}]$\n",
    "\n",
    "> Если распределение выборки несимметрично, такой доверительный интервал усиливает смещение, присущее изначальной выборке."
   ]
  },
  {
   "cell_type": "markdown",
   "metadata": {},
   "source": [
    "Сделали подвыборку размера $3$ с повторениями, потом по ней можно что-нибудь посчитать. Например, медианы. Закодим бустрап в виде двух функций. Первая будет делать `B_sample` выборок."
   ]
  },
  {
   "cell_type": "code",
   "execution_count": 14,
   "metadata": {},
   "outputs": [],
   "source": [
    "B_sample = 10**4  # количество бустрэп-выборок"
   ]
  },
  {
   "cell_type": "code",
   "execution_count": 18,
   "metadata": {},
   "outputs": [],
   "source": [
    "get_bootstrap_samples <- function(df, B_sample){\n",
    "    \n",
    "    N = nrow(df)      # размер каждой выборки\n",
    "    sample = rep(0,B_sample) # сюда буду записывать медианы\n",
    "\n",
    "    for(i in 1: B_sample){\n",
    "        # генерируем выборки с повторениями соответствующую по размерам оригинальной  \n",
    "        # и записываем её в лист\n",
    "        df_boot = df %>% sample_n(size = N, replace=TRUE)\n",
    "        sample[i] =  median(df_boot$Time)\n",
    "    }\n",
    "    return(sample)\n",
    "}"
   ]
  },
  {
   "cell_type": "code",
   "execution_count": 22,
   "metadata": {},
   "outputs": [
    {
     "data": {
      "text/html": [
       "<ol class=list-inline>\n",
       "\t<li>3.5</li>\n",
       "\t<li>3.6</li>\n",
       "\t<li>3.5</li>\n",
       "</ol>\n"
      ],
      "text/latex": [
       "\\begin{enumerate*}\n",
       "\\item 3.5\n",
       "\\item 3.6\n",
       "\\item 3.5\n",
       "\\end{enumerate*}\n"
      ],
      "text/markdown": [
       "1. 3.5\n",
       "2. 3.6\n",
       "3. 3.5\n",
       "\n",
       "\n"
      ],
      "text/plain": [
       "[1] 3.5 3.6 3.5"
      ]
     },
     "metadata": {},
     "output_type": "display_data"
    }
   ],
   "source": [
    "# одна выборка из трёх сбутстрапированных медиан\n",
    "get_bootstrap_samples(df, 3)"
   ]
  },
  {
   "cell_type": "markdown",
   "metadata": {},
   "source": [
    "Вторая функция будет искать квантили сгерированого распределения. "
   ]
  },
  {
   "cell_type": "code",
   "execution_count": 23,
   "metadata": {},
   "outputs": [],
   "source": [
    "stat_intervals <- function(stat, alpha){\n",
    "    return(quantile(stat, c(alpha/2, (1 - alpha/2)), name = FALSE))\n",
    "    }"
   ]
  },
  {
   "cell_type": "markdown",
   "metadata": {},
   "source": [
    "Отделим данные по внутренним и внешним клиентам друг от друга и построим доверительные интервалы для каждой из медиан. Будем бустрапировать $10000$ выборок. "
   ]
  },
  {
   "cell_type": "code",
   "execution_count": 24,
   "metadata": {},
   "outputs": [
    {
     "data": {
      "text/html": [
       "<ol class=list-inline>\n",
       "\t<li>3.38</li>\n",
       "\t<li>3.625</li>\n",
       "\t<li>3.5</li>\n",
       "\t<li>3.38</li>\n",
       "\t<li>3.5</li>\n",
       "\t<li>3.7</li>\n",
       "\t<li>3.72</li>\n",
       "\t<li>3.77</li>\n",
       "\t<li>3.65</li>\n",
       "\t<li>3.675</li>\n",
       "</ol>\n"
      ],
      "text/latex": [
       "\\begin{enumerate*}\n",
       "\\item 3.38\n",
       "\\item 3.625\n",
       "\\item 3.5\n",
       "\\item 3.38\n",
       "\\item 3.5\n",
       "\\item 3.7\n",
       "\\item 3.72\n",
       "\\item 3.77\n",
       "\\item 3.65\n",
       "\\item 3.675\n",
       "\\end{enumerate*}\n"
      ],
      "text/markdown": [
       "1. 3.38\n",
       "2. 3.625\n",
       "3. 3.5\n",
       "4. 3.38\n",
       "5. 3.5\n",
       "6. 3.7\n",
       "7. 3.72\n",
       "8. 3.77\n",
       "9. 3.65\n",
       "10. 3.675\n",
       "\n",
       "\n"
      ],
      "text/plain": [
       " [1] 3.380 3.625 3.500 3.380 3.500 3.700 3.720 3.770 3.650 3.675"
      ]
     },
     "metadata": {},
     "output_type": "display_data"
    }
   ],
   "source": [
    "ilec = df %>% filter(Group == 'ILEC')\n",
    "ilec_median_scores = get_bootstrap_samples(ilec, 10000)\n",
    "ilec_median_scores[1:10]"
   ]
  },
  {
   "cell_type": "code",
   "execution_count": 25,
   "metadata": {},
   "outputs": [
    {
     "data": {
      "text/html": [
       "<ol class=list-inline>\n",
       "\t<li>14.13</li>\n",
       "\t<li>5.45</li>\n",
       "\t<li>17.97</li>\n",
       "\t<li>20</li>\n",
       "\t<li>19.88</li>\n",
       "\t<li>8.6</li>\n",
       "\t<li>14.13</li>\n",
       "\t<li>14.13</li>\n",
       "\t<li>8.33</li>\n",
       "\t<li>18.57</li>\n",
       "</ol>\n"
      ],
      "text/latex": [
       "\\begin{enumerate*}\n",
       "\\item 14.13\n",
       "\\item 5.45\n",
       "\\item 17.97\n",
       "\\item 20\n",
       "\\item 19.88\n",
       "\\item 8.6\n",
       "\\item 14.13\n",
       "\\item 14.13\n",
       "\\item 8.33\n",
       "\\item 18.57\n",
       "\\end{enumerate*}\n"
      ],
      "text/markdown": [
       "1. 14.13\n",
       "2. 5.45\n",
       "3. 17.97\n",
       "4. 20\n",
       "5. 19.88\n",
       "6. 8.6\n",
       "7. 14.13\n",
       "8. 14.13\n",
       "9. 8.33\n",
       "10. 18.57\n",
       "\n",
       "\n"
      ],
      "text/plain": [
       " [1] 14.13  5.45 17.97 20.00 19.88  8.60 14.13 14.13  8.33 18.57"
      ]
     },
     "metadata": {},
     "output_type": "display_data"
    }
   ],
   "source": [
    "clec = df %>% filter(Group == 'CLEC')\n",
    "clec_median_scores = get_bootstrap_samples(clec, 10000)\n",
    "clec_median_scores[1:10]"
   ]
  },
  {
   "cell_type": "code",
   "execution_count": 26,
   "metadata": {},
   "outputs": [
    {
     "data": {
      "image/png": "[encoded data removed]",
      "text/plain": [
       "plot without title"
      ]
     },
     "metadata": {},
     "output_type": "display_data"
    }
   ],
   "source": [
    "qplot(clec_median_scores,bins = 30)"
   ]
  },
  {
   "cell_type": "code",
   "execution_count": 27,
   "metadata": {},
   "outputs": [
    {
     "data": {
      "image/png": "[encoded data removed]",
      "text/plain": [
       "plot without title"
      ]
     },
     "metadata": {},
     "output_type": "display_data"
    }
   ],
   "source": [
    "qplot(ilec_median_scores, bins = 30)"
   ]
  },
  {
   "cell_type": "code",
   "execution_count": 28,
   "metadata": {},
   "outputs": [
    {
     "name": "stdout",
     "output_type": "stream",
     "text": [
      "95% confidence interval for the ILEC median repair time: 3.22 3.835 \n",
      "95% confidence interval for the CLEC median repair time: 5.8 20"
     ]
    }
   ],
   "source": [
    "cat(\"95% confidence interval for the ILEC median repair time:\", stat_intervals(ilec_median_scores, 0.05),'\\n')\n",
    "cat(\"95% confidence interval for the CLEC median repair time:\", stat_intervals(clec_median_scores, 0.05))"
   ]
  },
  {
   "cell_type": "markdown",
   "metadata": {},
   "source": [
    "По аналогии найдём доверительный интервал для разности медиан. "
   ]
  },
  {
   "cell_type": "code",
   "execution_count": 29,
   "metadata": {},
   "outputs": [
    {
     "name": "stdout",
     "output_type": "stream",
     "text": [
      "95% confidence interval for the diff median repair time: 2.07 16.64012"
     ]
    }
   ],
   "source": [
    "delta_median_scores = clec_median_scores - ilec_median_scores\n",
    "cat(\"95% confidence interval for the diff median repair time:\", stat_intervals(delta_median_scores, 0.05))"
   ]
  },
  {
   "cell_type": "markdown",
   "metadata": {},
   "source": [
    "В целом, перцентильный интервал выглядит самым простым вариантом оценивания, однако в реальности он даёт весьма плохие результаты, так как сильно зависит от того насколько хорошо изначальная выборка аппроксимирует истинное распределение случайной величины. В данной ситуации из-за того, что исходное распределение асимметрично, мы получаем смещение."
   ]
  },
  {
   "cell_type": "markdown",
   "metadata": {},
   "source": [
    "__б)__ Постройте для разницы $med_{CLEC} - med_{Verizion}$ доверительный интервал Холла (обратный перцентильный доверительный интервал). \n",
    "\n",
    "- Бутсрапируем: оценку неизвестного параметра\n",
    "- Сэмплируем: $x_1^{*}, \\ldots, x_n^{*}$\n",
    "- Считаем: $\\hat{q}^{*} = \\hat{\\theta}^{*} - \\hat{\\theta}$\n",
    "- Повторяем: $B$ раз\n",
    "- Строим распределение: $\\hat{q}^{*}_1, \\ldots, \\hat{q}^{*}_B$\n",
    "- Доверительный интервал: $[\\hat{\\theta} - \\hat{q}^{*}_{\\frac{\\alpha}{2}}; \\hat{\\theta} - \\hat{q}^{*}_{1 - \\frac{\\alpha}{2}}]$\n",
    "\n",
    "> Холл в своей работе называл перцентильный интервал \"the wrong pivot, backwards\". Обратный перцентильный интервал для асимметричных распределений делает то же самое, но в обратном направлении."
   ]
  },
  {
   "cell_type": "code",
   "execution_count": null,
   "metadata": {},
   "outputs": [],
   "source": []
  },
  {
   "cell_type": "markdown",
   "metadata": {},
   "source": [
    "__в)__ Постройте $t-$ перцентильный доверительный интервал:\n",
    "\n",
    "- Бутсрапируем: t-статистику\n",
    "- Сэмплируем: $x_1^{*}, \\ldots, x_n^{*}$\n",
    "- Считаем: $t^{*} = \\frac{\\hat{\\theta}^{*} - \\hat{\\theta}}{se^{\\hat{\\theta}^*}}$\n",
    "- Повторяем: $B$ раз\n",
    "- Строим распределение: $t^{*}_1, \\ldots, t^{*}_B$\n",
    "- Доверительный интервал: $[\\hat{\\theta} - t^{*}_{1 - \\frac{\\alpha}{2}} \\cdot se(\\hat{\\theta}); \\hat{\\theta} - t^{*}_{\\frac{\\alpha}{2}}\\cdot se(\\hat{\\theta})]$\n",
    "\n",
    "\n",
    "__Алгоритм для этой задачи:__\n",
    "\n",
    "1. Найдите точечную оценку неизвестного параметра (разность медиан) и точечную оценку стандартного отклонения\n",
    "2. Сгенерируйте $10^5$ boostrap-выборок\n",
    "3. Рассчитайте по каждой выбооке выборочную разницу медиан \n",
    "4. Рассчитайте по каждой выборке стандартную ошибку \n",
    "5. Найдите по каждой выборке $$t^* = \\frac{\\hat \\theta^{*} - \\hat{\\theta}}{S^{*}}$$\n",
    "6. Найдите для $t^{*}$ квантили уровня $0.05$ и $0.995$\n",
    "7. Постройте доверительный интервал для разности медиан\n",
    "\n",
    "В качестве $S^{*}$ исполизуйте сумму стандартных отклонений, посчитанных по выборкам $x$ и $y$. Конечно же, мы используем при таком подходе неправильное стандартное отклонение. При этом мы надеемся, что бутсрэп сам поправит нашу ошибку. При таком подходе главное, чтобы знаменатель сходился по вероятности к какому-нибудь пределу.\n",
    "\n",
    "Можно генерировать стандартное отклонение с помощью двойного бустрапа, но это уже другая история. "
   ]
  },
  {
   "cell_type": "code",
   "execution_count": 38,
   "metadata": {},
   "outputs": [],
   "source": [
    "get_bootstrap_samples <- function(df, B_sample){\n",
    "    \n",
    "    N = nrow(df)      # размер каждой выборки\n",
    "    sample = rep(0,B_sample) # сюда буду записывать медианы\n",
    "    sd_sample = rep(0,B_sample)\n",
    "\n",
    "    for(i in 1: B_sample){\n",
    "        # генерируем выборки с повторениями соответствующую по размерам оригинальной  \n",
    "        # и записываем её в лист\n",
    "        df_boot = df %>% sample_n(size = N, replace=TRUE)\n",
    "        sample[i] =  median(df_boot$Time)\n",
    "        sd_sample[i] = sd(df_boot$Time)\n",
    "    }\n",
    "    return(list('med'=sample, 'sd'=sd_sample))\n",
    "}"
   ]
  },
  {
   "cell_type": "code",
   "execution_count": 42,
   "metadata": {},
   "outputs": [],
   "source": [
    "ilec_median_scores = get_bootstrap_samples(ilec, 10000)\n",
    "clec_median_scores = get_bootstrap_samples(clec, 10000)"
   ]
  },
  {
   "cell_type": "code",
   "execution_count": 51,
   "metadata": {},
   "outputs": [],
   "source": [
    "med_hat = median(clec$Time) - median(ilec$Time)\n",
    "sd_hat = sd(df$Time)\n",
    "\n",
    "ilec_med = ilec_median_scores$med\n",
    "ilec_sd = ilec_median_scores$sd\n",
    "\n",
    "clec_med = clec_median_scores$med\n",
    "clec_sd = clec_median_scores$sd\n",
    "\n",
    "sd = ilec_sd + clec_sd\n",
    "diff = clec_med - ilec_med\n",
    "\n",
    "t = (diff - med_hat)/sd"
   ]
  },
  {
   "cell_type": "code",
   "execution_count": 58,
   "metadata": {},
   "outputs": [],
   "source": [
    "q = quantile(t, c(0.025, 0.975))\n",
    "q1 = q[[1]]\n",
    "q2 = q[[2]]"
   ]
  },
  {
   "cell_type": "code",
   "execution_count": 59,
   "metadata": {},
   "outputs": [
    {
     "data": {
      "text/html": [
       "7.37013541535911"
      ],
      "text/latex": [
       "7.37013541535911"
      ],
      "text/markdown": [
       "7.37013541535911"
      ],
      "text/plain": [
       "[1] 7.370135"
      ]
     },
     "metadata": {},
     "output_type": "display_data"
    }
   ],
   "source": [
    "med_hat - q2*sd_hat"
   ]
  },
  {
   "cell_type": "code",
   "execution_count": 60,
   "metadata": {},
   "outputs": [
    {
     "data": {
      "text/html": [
       "15.9014060719713"
      ],
      "text/latex": [
       "15.9014060719713"
      ],
      "text/markdown": [
       "15.9014060719713"
      ],
      "text/plain": [
       "[1] 15.90141"
      ]
     },
     "metadata": {},
     "output_type": "display_data"
    }
   ],
   "source": [
    "med_hat - q1*sd_hat"
   ]
  },
  {
   "cell_type": "markdown",
   "metadata": {},
   "source": [
    "> У $t$-bootstrap есть одно интересное свойство: он \"уважает\" асимметрию распределений при расчёте доверительных интервалов. [Теория показывает,](http://quantile.ru/03/03-SA.pdf) что последний способ даёт более низкую ошибку в плане асимптотики. "
   ]
  },
  {
   "cell_type": "markdown",
   "metadata": {},
   "source": [
    "## Почиташки:\n",
    "\n",
    "* [Статья про бустрэп от Анатольева,](http://quantile.ru/03/03-SA.pdf) она немного брутальная из-за регрессий и тп. Саму статью вы не поймёте, но в конце неё есть ссылки на то, что можно почитать на более простом уровне и углубиться в тему. \n",
    "* [Годная статейка про бутстрап в R](https://moderndive.com/8-confidence-intervals.html) да и вообще книжка про статистику в R неплохая"
   ]
  },
  {
   "cell_type": "markdown",
   "metadata": {},
   "source": [
    " "
   ]
  }
 ],
 "metadata": {
  "kernelspec": {
   "display_name": "R",
   "language": "R",
   "name": "ir"
  },
  "language_info": {
   "codemirror_mode": "r",
   "file_extension": ".r",
   "mimetype": "text/x-r-source",
   "name": "R",
   "pygments_lexer": "r",
   "version": "3.5.3"
  }
 },
 "nbformat": 4,
 "nbformat_minor": 4
}
