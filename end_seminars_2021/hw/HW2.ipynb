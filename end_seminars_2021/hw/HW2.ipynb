{
 "cells": [
  {
   "cell_type": "markdown",
   "metadata": {},
   "source": [
    "<img src=\"https://raw.githubusercontent.com/FUlyankin/r_probability/master/end_seminars/sem_6/student_teacher_dist.png\" height=\"300\" width=\"600\"> \n",
    "\n",
    "# <center> R для тервера и матстата. <br>  <br> Домашка номер два! </center>"
   ]
  },
  {
   "cell_type": "markdown",
   "metadata": {},
   "source": [
    "__Брифинг:__ \n",
    "\n",
    "1. Что-то мудрое сюда\n",
    "2. Обязательно фиксируйте зерно генератора случайных чисел в экспериментах. При перезапуске кода значения не должны меняться :)\n",
    "3. Залейте тетрадку с решением на Google Colab. Нажмите кнопку share. Разрешите по ней редактировать тетрадку. Залейте ссылку в форму для сдачи домашек. \n",
    "4. Дедлайн: \n",
    "5. [На страничке курса](https://github.com/FUlyankin/r_probability) есть решение домашек прошлого года. Ими можно пользоваться."
   ]
  },
  {
   "cell_type": "code",
   "execution_count": 2,
   "metadata": {},
   "outputs": [],
   "source": [
    "library(\"ggplot2\")  # Пакет для красивых графиков \n",
    "library(\"reshape2\")\n",
    "\n",
    "library('dplyr')  # пакет для работы с таблицами \n",
    "library('rio')\n",
    "\n",
    "\n",
    "library(\"grid\")     # Пакет для субплотов\n",
    "\n",
    "# Отрегулируем размер картинок, которые будут выдаваться в нашей тетрадке\n",
    "library('repr')\n",
    "options(repr.plot.width=4, repr.plot.height=3)"
   ]
  },
  {
   "cell_type": "markdown",
   "metadata": {},
   "source": [
    "-------------------------------------------\n",
    "\n",
    "Попробуйте самостоятельно реализовывать все критерии и доверительные интервалы в виде функций. На вход в эти функции должны попадать данные, на выходе должны оказываться разные полезности и результаты. Например, вот так можно было бы попробовать написать критерий для проверки гипотезы о доли. "
   ]
  },
  {
   "cell_type": "code",
   "execution_count": 3,
   "metadata": {},
   "outputs": [
    {
     "data": {
      "text/html": [
       "<dl>\n",
       "\t<dt>$estimate</dt>\n",
       "\t\t<dd>0.52</dd>\n",
       "\t<dt>$z_crit</dt>\n",
       "\t\t<dd>2.5758293035489</dd>\n",
       "\t<dt>$z_stat</dt>\n",
       "\t\t<dd>0.400320384512718</dd>\n",
       "\t<dt>$p_val</dt>\n",
       "\t\t<dd>0.34446027790223</dd>\n",
       "\t<dt>$alternative</dt>\n",
       "\t\t<dd>'greater'</dd>\n",
       "</dl>\n"
      ],
      "text/latex": [
       "\\begin{description}\n",
       "\\item[\\$estimate] 0.52\n",
       "\\item[\\$z\\_crit] 2.5758293035489\n",
       "\\item[\\$z\\_stat] 0.400320384512718\n",
       "\\item[\\$p\\_val] 0.34446027790223\n",
       "\\item[\\$alternative] 'greater'\n",
       "\\end{description}\n"
      ],
      "text/markdown": [
       "$estimate\n",
       ":   0.52\n",
       "$z_crit\n",
       ":   2.5758293035489\n",
       "$z_stat\n",
       ":   0.400320384512718\n",
       "$p_val\n",
       ":   0.34446027790223\n",
       "$alternative\n",
       ":   'greater'\n",
       "\n",
       "\n"
      ],
      "text/plain": [
       "$estimate\n",
       "[1] 0.52\n",
       "\n",
       "$z_crit\n",
       "[1] 2.575829\n",
       "\n",
       "$z_stat\n",
       "[1] 0.4003204\n",
       "\n",
       "$p_val\n",
       "[1] 0.3444603\n",
       "\n",
       "$alternative\n",
       "[1] \"greater\"\n"
      ]
     },
     "metadata": {},
     "output_type": "display_data"
    }
   ],
   "source": [
    "z.prop = function(m, n, p0, alpha=0.05, alternative=\"two-sided\"){\n",
    "  \n",
    "  p_hat = m/n                       # оценка вероятности \n",
    "  sd_p = sqrt(p_hat*(1-p_hat)/n)    # дисперсия оценки\n",
    "  z_stat = (p_hat - p0)/sd_p        # наблюдаемое значение\n",
    "\n",
    "  # В зависимости от типа альтернативы делаем расчёты\n",
    "  if(alternative == 'two-sided'){\n",
    "      p_val <- 2*pnorm(-abs(z_stat))\n",
    "      z_crit <- qnorm(1-alpha/2)\n",
    "  }\n",
    "  if(alternative == 'lower'){\n",
    "      p_val <- pnorm(-abs(z_stat))\n",
    "      z_crit <- qnorm(alpha)\n",
    "  }\n",
    "  if(alternative == 'greater'){\n",
    "      p_val <- 1 - pnorm(abs(z_stat))\n",
    "      z_crit <- qnorm(1-alpha/2)\n",
    "  }\n",
    "    \n",
    "  # Возвращаем результаты проверки гипотезы в виде списка\n",
    "  return( list(estimate = p_hat, \n",
    "               z_crit = z_crit,\n",
    "               z_stat = z_stat,\n",
    "               p_val = p_val,\n",
    "               alternative = alternative))\n",
    "}\n",
    "\n",
    "result <- z.prop(52, 100, 0.5, alpha=0.01, alternative = 'greater')\n",
    "result"
   ]
  },
  {
   "cell_type": "code",
   "execution_count": 4,
   "metadata": {},
   "outputs": [
    {
     "data": {
      "text/html": [
       "0.34446027790223"
      ],
      "text/latex": [
       "0.34446027790223"
      ],
      "text/markdown": [
       "0.34446027790223"
      ],
      "text/plain": [
       "[1] 0.3444603"
      ]
     },
     "metadata": {},
     "output_type": "display_data"
    }
   ],
   "source": [
    "result$p_val # можно по именам из листа доставать разные циферки :3"
   ]
  },
  {
   "cell_type": "markdown",
   "metadata": {},
   "source": [
    "Если кишка тонка писать свои функции, пользуйтесь готовыми. Но имейте в виду, что не все критерии, которые понадобятся вам в этой тетрадке, реализованы в R в виде одной команды. \n",
    "\n",
    "Если есть желание, можете снабдить выдачу картинками. В [тетрадке с лекции](https://nbviewer.jupyter.org/github/FUlyankin/r_probability/blob/master/end_seminars_2019/sem_6/6.%20Гипотезы%20о%20долях%2C%20средних%20и%20дисперсиях.ipynb) для этого написано несколько функций. Вы можете усовершенствовать их. Не путайте картинки местами! Например, не вздумайте использовать картинку для нормального распределения для t-критерия! Если код в ggplot кажется вам тяжёлым, можете попробовать рисовать картинки, [как во втором ответе тут.](https://stackoverflow.com/questions/36508020/can-r-visualize-the-t-test-or-other-hypothesis-test-results)"
   ]
  },
  {
   "cell_type": "markdown",
   "metadata": {},
   "source": [
    "----------------------------"
   ]
  },
  {
   "cell_type": "code",
   "execution_count": null,
   "metadata": {},
   "outputs": [],
   "source": []
  },
  {
   "cell_type": "code",
   "execution_count": null,
   "metadata": {},
   "outputs": [],
   "source": []
  },
  {
   "cell_type": "code",
   "execution_count": null,
   "metadata": {},
   "outputs": [],
   "source": []
  },
  {
   "cell_type": "code",
   "execution_count": null,
   "metadata": {},
   "outputs": [],
   "source": []
  },
  {
   "cell_type": "code",
   "execution_count": null,
   "metadata": {},
   "outputs": [],
   "source": []
  },
  {
   "cell_type": "code",
   "execution_count": null,
   "metadata": {},
   "outputs": [],
   "source": []
  },
  {
   "cell_type": "code",
   "execution_count": null,
   "metadata": {},
   "outputs": [],
   "source": []
  },
  {
   "cell_type": "code",
   "execution_count": null,
   "metadata": {},
   "outputs": [],
   "source": []
  },
  {
   "cell_type": "code",
   "execution_count": null,
   "metadata": {},
   "outputs": [],
   "source": []
  },
  {
   "cell_type": "code",
   "execution_count": null,
   "metadata": {},
   "outputs": [],
   "source": []
  },
  {
   "cell_type": "code",
   "execution_count": null,
   "metadata": {},
   "outputs": [],
   "source": []
  },
  {
   "cell_type": "code",
   "execution_count": null,
   "metadata": {},
   "outputs": [],
   "source": [
    "### ╰( ͡° ͜ʖ ͡° )つ──☆ скибиди па!"
   ]
  },
  {
   "cell_type": "code",
   "execution_count": null,
   "metadata": {},
   "outputs": [],
   "source": [
    "### ╰( ͡° ͜ʖ ͡° )つ──☆ ратата!"
   ]
  },
  {
   "cell_type": "code",
   "execution_count": null,
   "metadata": {},
   "outputs": [],
   "source": [
    "### ╰( ͡° ͜ʖ ͡° )つ──☆ сккккрааа!"
   ]
  },
  {
   "cell_type": "code",
   "execution_count": null,
   "metadata": {},
   "outputs": [],
   "source": [
    "### ╰( ͡° ͜ʖ ͡° )つ──☆ эщкере"
   ]
  },
  {
   "cell_type": "code",
   "execution_count": null,
   "metadata": {},
   "outputs": [],
   "source": [
    "### ╰( ͡° ͜ʖ ͡° )つ──☆ пау! пау! пау!"
   ]
  },
  {
   "cell_type": "code",
   "execution_count": null,
   "metadata": {},
   "outputs": [],
   "source": [
    "### ╰( ͡° ͜ʖ ͡° )つ──☆ ррррааа!"
   ]
  },
  {
   "cell_type": "code",
   "execution_count": null,
   "metadata": {},
   "outputs": [],
   "source": [
    "### ╰( ͡° ͜ʖ ͡° )つ──☆  пррррррр"
   ]
  },
  {
   "cell_type": "code",
   "execution_count": null,
   "metadata": {},
   "outputs": [],
   "source": [
    "### ╰( ͡° ͜ʖ ͡° )つ──☆ гррррааа"
   ]
  },
  {
   "cell_type": "code",
   "execution_count": null,
   "metadata": {},
   "outputs": [],
   "source": []
  },
  {
   "cell_type": "code",
   "execution_count": null,
   "metadata": {},
   "outputs": [],
   "source": []
  },
  {
   "cell_type": "markdown",
   "metadata": {},
   "source": [
    "### [ ]  Задачка \n",
    "\n",
    "__Чётко выпишите проверяемую гипотезу. Чётко обоснуйте выбранный для её проверки критерий, выпишите все предпосылки, которые вы используете.__\n",
    "\n",
    "Ежегодно более $200000$ людей по всему миру сдают стандартизированный экзамен GMAT при поступлении на программы MBA. Средний результат составляет $525$ баллов, стандартное отклонение — $100$ баллов.\n",
    "\n",
    "Сто студентов закончили специальные подготовительные курсы и сдали экзамен. Средний полученный ими балл — $541.4$. Проверьте гипотезу о неэффективности программы против односторонней альтернативы о том, что программа работает. Отвергается ли на уровне значимости $0.05$ нулевая гипотеза? "
   ]
  },
  {
   "cell_type": "code",
   "execution_count": null,
   "metadata": {},
   "outputs": [],
   "source": [
    "### ╰( ͡° ͜ʖ ͡° )つ──☆ бррря"
   ]
  },
  {
   "cell_type": "markdown",
   "metadata": {},
   "source": [
    "### [ ] Задачка  \n",
    "\n",
    "__Чётко выпишите проверяемую гипотезу. Чётко обоснуйте выбранный для её проверки критерий, выпишите все предпосылки, которые вы используете.__\n",
    "\n",
    "В одном из выпусков программы \"Разрушители легенд\" проверялось, действительно ли заразительна зевота. В эксперименте участвовало $50$ испытуемых. Каждый из них разговаривал с рекрутером; в конце $34$ из $50$ бесед рекрутер зевал. Затем испытуемых просили подождать решения рекрутера в соседней пустой комнате.\n",
    "\n",
    "Во время ожидания $10$ из $34$ испытуемых экспериментальной группы и $4$ из $16$ испытуемых контрольной начали зевать. Таким образом, разница в доле зевающих людей в этих двух группах составила примерно $4.4\\%$. Ведущие заключили, что миф о заразительности зевоты подтверждён.\n",
    "\n",
    "Можно ли утверждать, что доли зевающих в контрольной и экспериментальной группах отличаются статистически значимо? Посчитайте достигаемый уровень значимости ($p-$значение) при альтернативе заразительности зевоты."
   ]
  },
  {
   "cell_type": "code",
   "execution_count": null,
   "metadata": {},
   "outputs": [],
   "source": [
    "### ╰( ͡° ͜ʖ ͡° )つ──☆ як! як! як!"
   ]
  },
  {
   "cell_type": "code",
   "execution_count": null,
   "metadata": {},
   "outputs": [],
   "source": [
    "### ╰( ͡° ͜ʖ ͡° )つ──☆ бррря"
   ]
  },
  {
   "cell_type": "code",
   "execution_count": null,
   "metadata": {},
   "outputs": [],
   "source": [
    "### ╰( ͡° ͜ʖ ͡° )つ──☆ антихайп"
   ]
  },
  {
   "cell_type": "raw",
   "metadata": {},
   "source": [
    "### ╰( ͡° ͜ʖ ͡° )つ──☆ кря"
   ]
  },
  {
   "cell_type": "code",
   "execution_count": null,
   "metadata": {},
   "outputs": [],
   "source": [
    "### ╰( ͡° ͜ʖ ͡° )つ──☆ скрррааа па па ка ка ка скидики па па энд э пу пу дррр бум скьа ду ду ку ку тун тун пум пум"
   ]
  },
  {
   "cell_type": "raw",
   "metadata": {},
   "source": [
    "# Ваш ответ... "
   ]
  },
  {
   "cell_type": "code",
   "execution_count": null,
   "metadata": {},
   "outputs": [],
   "source": []
  },
  {
   "cell_type": "code",
   "execution_count": null,
   "metadata": {},
   "outputs": [],
   "source": []
  },
  {
   "cell_type": "code",
   "execution_count": null,
   "metadata": {},
   "outputs": [],
   "source": []
  },
  {
   "cell_type": "markdown",
   "metadata": {},
   "source": [
    "### [4] Задачка 7\n",
    "\n",
    "Оборудование часто грешит и работает криво. Для каждого станка есть своя допустимая степень кривизны. Например, [в табличке](https://yadi.sk/i/bsjOHeOO3XaTN9) `gear.csv` лежат данные о производстве шестерёнок на станке. Первая колонка это диаметр, произведённой шестерни. Вторая колонка это то, к какой серии относится шестерня. \n",
    "\n",
    "Ясное дело, что станок не всегда делает диаметр равным $1$. У него есть некоторая погрешность. Будем считать, что станок годный, если дисперсия диаметра выпускаемых им шестерёнок не превышает $0.01$. Правда ли, что станок годный?"
   ]
  },
  {
   "cell_type": "code",
   "execution_count": 1,
   "metadata": {},
   "outputs": [
    {
     "ename": "ERROR",
     "evalue": "Error in import(\"/Users/fulyankin/Yandex.Disk.localized/R/R_prob_data/gear.csv\"): не могу найти функцию \"import\"\n",
     "output_type": "error",
     "traceback": [
      "Error in import(\"/Users/fulyankin/Yandex.Disk.localized/R/R_prob_data/gear.csv\"): не могу найти функцию \"import\"\nTraceback:\n"
     ]
    }
   ],
   "source": [
    "df = import('/Users/fulyankin/Yandex.Disk.localized/R/R_prob_data/gear.csv')\n",
    "head(df)"
   ]
  },
  {
   "cell_type": "markdown",
   "metadata": {},
   "source": [
    "__[2]__ Станок из задачки произвёл по очереди $10$ батчей из деталей. Понятное дело, что со временем со станком могут происходить проблемы, погрешность работы может искажаться, и из-за этого возникает необходимость подкрутить его. "
   ]
  },
  {
   "cell_type": "code",
   "execution_count": null,
   "metadata": {},
   "outputs": [],
   "source": [
    "unique(df$BATCH)\n",
    "\n"
   ]
  },
  {
   "cell_type": "markdown",
   "metadata": {},
   "source": [
    "__[2]__ Чтобы понимать, когда подкручивать, на станок нужно настроить какой-то тригер, который будет в случае чего срабатывать и требовать дополнительной проверки станка. Опишите, какую процедуру вы бы для этого использовали. Правда ли, что для $10$ батчей, которые произвёл станок, наш алерт ни разу не сработает? "
   ]
  },
  {
   "cell_type": "code",
   "execution_count": null,
   "metadata": {},
   "outputs": [],
   "source": []
  },
  {
   "cell_type": "markdown",
   "metadata": {},
   "source": [
    "### [3] Задачка 8\n",
    "\n",
    "Во время ЧЕ по футболу 2008 года и ЧМ 2010 года [Осьминог Пауль](https://ru.wikipedia.org/wiki/Пауль_(осьминог))занимался прогнозированием побед (после он ушёл в финансовую аналитику и IB). Осьминог дал верные прогнозы в $12$ случаях из $14$. Если предположить, что Пауль выбирает победителя наугад, какова вероятность получить 12 верных прогнозов из 14? "
   ]
  },
  {
   "cell_type": "raw",
   "metadata": {},
   "source": [
    "# НЕ НАДО НИЧЕГО ТУТ ГЕНЕРИРОВАТЬ! ПРОСТО ПОСЧИТАЙТЕ! "
   ]
  },
  {
   "cell_type": "markdown",
   "metadata": {},
   "source": [
    "Можно ли утверждать, что Осьминог обладает даром предвидения? Используйте для проверки гипотезы асиптотический критерий на основе нормального распределения. Каким получилось p-значение? "
   ]
  },
  {
   "cell_type": "code",
   "execution_count": null,
   "metadata": {},
   "outputs": [],
   "source": [
    "# ╰( ͡° ͜ʖ ͡° )つ──☆ Духовной жаждою томим, В пустыне мрачной я влачился"
   ]
  },
  {
   "cell_type": "markdown",
   "metadata": {},
   "source": [
    "__[бонусные 10]__ На основе распределения Бернулли выведите свой собственный критерий для строительства доверительных интервалов и проверки гипотез. Примените его к этой задачке. "
   ]
  },
  {
   "cell_type": "code",
   "execution_count": null,
   "metadata": {},
   "outputs": [],
   "source": [
    "# ╰( ͡° ͜ʖ ͡° )つ──☆ И шестекрылый серафим на перепутье мне явился \n",
    "# Тут нужны и код и ручное решение"
   ]
  },
  {
   "cell_type": "code",
   "execution_count": null,
   "metadata": {},
   "outputs": [],
   "source": []
  },
  {
   "cell_type": "code",
   "execution_count": null,
   "metadata": {},
   "outputs": [],
   "source": []
  },
  {
   "cell_type": "markdown",
   "metadata": {},
   "source": [
    "### [5] Задачка 9\n",
    "\n",
    "Предположим, что все выпущенные танки имеют порядковый номер. От самого первого выпущенного танка, имеющего номер $1$, до самого последнего танка, имеющего номер $n$. В бою удалось подбить танки с номерами $8$, $12$ и $10$. постройте с помощью [метода моментов оценку количества танков.](https://www.youtube.com/watch?v=AGRhbYmg_fA)\n",
    "\n",
    "__Подсказка:__ Если равновероятно выбирать от $1$ до $q$, то чему равно математическое ожидание? [Честный расчёт](https://www.overleaf.com/project/5e6f443c9f8ad70001cf8399) ищи тут в _вопросах из чата._\n",
    "\n",
    "__Примечание:__ Незадолго до высадки союзников в Нормандии, 6 июня 1944 года, [в распоряжении союзников было всего два немецких танка «Пантера V».](https://en.wikipedia.org/wiki/German_tank_problem) По серийным номерам на шасси танков союзники оценили выпуск в феврале 1944 в 270 танков. Фактический выпуск «Пантер V» согласно немецким документам в феврале 1944 составил 276 танков. "
   ]
  },
  {
   "cell_type": "markdown",
   "metadata": {},
   "source": [
    "Следующие пункты решайте руками на бумажке. \n",
    "\n",
    "__[0.5]__ Найдите $E(X_i)$ и оценку метода моментов. Я не наркоман, я действительно выше дал ссылки на решение этого пункта. Воспроизведите его и осознайте. Особенно честный расчёт математического ожидания. Будет ли оценка несмещённой и состоятельной?  "
   ]
  },
  {
   "cell_type": "raw",
   "metadata": {},
   "source": [
    "# Никакой агрессии - я просто рад"
   ]
  },
  {
   "cell_type": "markdown",
   "metadata": {},
   "source": [
    "__[0.5]__ Найдите $Var(X_i)$.  Вам понадобится тут формула для суммы квадратов первых $n$ чисел. Можете не доказывать её. Но для общей эрудиции посмотрите [одно из доказательств через биномиальные коэффициенты.](https://www.coursera.org/learn/kombinatorika-dlya-nachinayushchikh/lecture/v78nH/sliedstviie-no3-iz-posliedniegho-tozhdiestva) "
   ]
  },
  {
   "cell_type": "raw",
   "metadata": {},
   "source": [
    "# Ноль негатива - просто рад"
   ]
  },
  {
   "cell_type": "markdown",
   "metadata": {},
   "source": [
    "__[0.5]__ Найдите асимптотическое распределение $\\bar x$ для текущей задачи. "
   ]
  },
  {
   "cell_type": "code",
   "execution_count": null,
   "metadata": {},
   "outputs": [],
   "source": [
    "# Что все эти аутсайдеры"
   ]
  },
  {
   "cell_type": "markdown",
   "metadata": {},
   "source": [
    "__[0.5]__ Найдите асимптотическое распределение для оценки метода моментов на число танков. Постройте для числа танков $95\\%$ доверительный интервал. "
   ]
  },
  {
   "cell_type": "code",
   "execution_count": null,
   "metadata": {},
   "outputs": [],
   "source": [
    "# Дружно нюхают дым с моего ствола"
   ]
  },
  {
   "cell_type": "markdown",
   "metadata": {},
   "source": [
    "__[1]__ Найдите для оценки информацию Фишера. Можно ли сделать из неравенство Рао-Фреше-Крамера вывод о том, что наша оценка эффективна? "
   ]
  },
  {
   "cell_type": "code",
   "execution_count": null,
   "metadata": {},
   "outputs": [],
   "source": [
    "# Пепел и пекло - просто ад"
   ]
  },
  {
   "cell_type": "markdown",
   "metadata": {},
   "source": [
    "__[0.5]__ Найдите $MSE$ оценки. "
   ]
  },
  {
   "cell_type": "code",
   "execution_count": null,
   "metadata": {},
   "outputs": [],
   "source": [
    "# Но адреналин прёт - просто вау"
   ]
  },
  {
   "cell_type": "markdown",
   "metadata": {},
   "source": [
    "__[1]__ Представим себе, что мы хотим использовать в качестве оценки параметра $q$ оценку вида $k \\cdot \\hat q^{MM}$, где $\\hat q^{MM}$ - оценка, полученная методом моментов. Найдите $k$, которое минимизирует $MSE$. Какими при этом окажутся смещение и разброс? "
   ]
  },
  {
   "cell_type": "code",
   "execution_count": null,
   "metadata": {},
   "outputs": [],
   "source": [
    "# Я выберу сам - быть мне царём горы тут"
   ]
  },
  {
   "cell_type": "markdown",
   "metadata": {},
   "source": [
    "__[0.5]__  Предположим, что мы для получения оценки пытаемся минимизировать функционал ошибки: \n",
    "\n",
    "$$\n",
    "L(\\hat q) = (\\hat q - \\bar x)^2 + \\lambda \\cdot \\hat q \\to \\min_q\n",
    "$$\n",
    "\n",
    "При каких значениях $\\lambda$ он совпадет с оценкой метода моментов? При каких значениях $\\lambda$ он совпадает с оценокой, минимизирующей $MSE$? Объясните в каких ситуациях имеет смысл использовать оценку, полученную минимизацией $MSE$? "
   ]
  },
  {
   "cell_type": "code",
   "execution_count": null,
   "metadata": {},
   "outputs": [],
   "source": [
    "# Или тлеющим остовом"
   ]
  },
  {
   "cell_type": "markdown",
   "metadata": {},
   "source": [
    "__[бонусные 30]__ Проанализируйте оценку $\\hat q = \\max(X_1, X_2, X_3)$. Найдите её распределение, смещение, дисперсию, MSE. Найдите как именно надо скорректировать оценку, чтобы она стала несмещённой. Найдите как именно надо скорректировать оценку, чтобы минимизировать $MSE$. Будет ли итоговое $MSE$ больше, чем у оценки полученной в предыдущих пунктах с помощью среднего? Объясните почему так происходит с точки зрения интуиции. Как думаете, какую функцию потерь нужно минимизировать, чтобы получить такую оценку? \n",
    "\n",
    "__Примечание:__ вроде бы этот пункт решаемый, но надо будет повозиться с биномиальными и полиномиальными коэффициентами при поиске распределения максимума. "
   ]
  },
  {
   "cell_type": "code",
   "execution_count": null,
   "metadata": {},
   "outputs": [],
   "source": [
    "# ▅███████ ]▄▄▄▄▄▄▄ \n",
    "# █████████▅▄▃ \n",
    "# Il███████████████████] \n",
    "# ◥⊙▲⊙▲⊙▲⊙▲⊙▲⊙▲⊙◤"
   ]
  },
  {
   "cell_type": "markdown",
   "metadata": {},
   "source": [
    "### [3] Задачка 10 \n",
    "\n",
    "Таня всё ещё всерьёз увлечена лампочками. Она решила изучить их срок службы. Время службы лампы (в часах) имеет показательное распределение $Exp(\\lambda)$. Таня уже испытала $100$ лампочек. Оказалось, что в среднем одна лампочка служит $0.52$ года. \n",
    "\n",
    "__[1.5]__ Пусть $g(\\lambda)$ это математическое ожидание срока службы одной лампочки. Найдите эту функцию. Пусть $\\hat \\lambda$ - это оценка метода моментов для $\\lambda$. Какое распределение имеет $g(\\hat \\lambda)$? Найдите параметры этого распределения. Постройте с помощью дельта-метода $95\\%$ доверительный интервал для $g(\\lambda)$. Все вычисления приложите к решению. "
   ]
  },
  {
   "cell_type": "code",
   "execution_count": null,
   "metadata": {},
   "outputs": [],
   "source": [
    "# ваш код "
   ]
  },
  {
   "cell_type": "raw",
   "metadata": {},
   "source": [
    "# а также ручное решение "
   ]
  },
  {
   "cell_type": "markdown",
   "metadata": {},
   "source": [
    "__[1.5]__ Таню заинтересовала ещё и дисперсия! Проделайте для неё все ровно то же самое. "
   ]
  },
  {
   "cell_type": "code",
   "execution_count": null,
   "metadata": {},
   "outputs": [],
   "source": [
    "# ваш код "
   ]
  },
  {
   "cell_type": "raw",
   "metadata": {},
   "source": [
    "# а также ручное решение "
   ]
  },
  {
   "cell_type": "code",
   "execution_count": null,
   "metadata": {},
   "outputs": [],
   "source": []
  },
  {
   "cell_type": "code",
   "execution_count": null,
   "metadata": {},
   "outputs": [],
   "source": []
  },
  {
   "cell_type": "markdown",
   "metadata": {},
   "source": [
    "##  [45+] Кит-рисёрчер\n",
    "\n",
    "**Добро пожаловать в Кита. Кит — это большая рисёрчерская задача с огромным количеством вопросов. В этот раз в нём не будет ничего сложного. Просто очень много вопросов, картинок и выводов о состоянии онлайн-магазина.** "
   ]
  },
  {
   "cell_type": "markdown",
   "metadata": {},
   "source": [
    "Чтобы держать руку на пульсе бизнеса, нужно строить довольно много продуктовых метрик. Более того, нужно понимать насколько адекватно эти метрики построены и насколько сильно они могут колебаться.\n",
    "\n",
    "__Словарик:__ \n",
    "\n",
    "* __retention__ - возвращаемость пользоватяля к использованию продукта через $n$ дней (через день, два, неделю и тд) \n",
    "* __RPU__ - выручка на юзера, купившего товар (revenue per user) \n",
    "* __DAU__ - дневная активная аудитория (daily active user) \n",
    "* __LTV__ - совокупная прибыль, полученная за всё время сотрудничества с клиентом (Lifetime Value) \n",
    "\n"
   ]
  },
  {
   "cell_type": "markdown",
   "metadata": {},
   "source": [
    "Анализировать будем данные по продажам в [гугловом мерчендайз магазине.](https://www.kaggle.com/c/ga-customer-revenue-prediction) Скачайте [табличку с данными с гита.](https://github.com/FUlyankin/r_probability/blob/master/data/marketing_log.csv)\n",
    "\n",
    "- Для решения задачи используйте библиотеку `dplyr` для работы с таблицами. Никаких циклов! Только `groupby`, трубочки, фильтры и тп. \n",
    "- В текстовых полях с выводами не надо писать огромные абзацы текста. Пишите тезисно. "
   ]
  },
  {
   "cell_type": "code",
   "execution_count": null,
   "metadata": {},
   "outputs": [],
   "source": [
    "df = read.csv('../../data/marketing_log.csv', sep='\\t')\n",
    "head(df)"
   ]
  },
  {
   "cell_type": "markdown",
   "metadata": {},
   "source": [
    "__[2]__ Сколько людей пользовались магазином в среднем в течение дня/месяца? Постройте дневной график с суммарным числом пользователей, заходивших на сайт. Постройте месячный график. "
   ]
  },
  {
   "cell_type": "code",
   "execution_count": null,
   "metadata": {},
   "outputs": [],
   "source": [
    "# Призываю команду к коду"
   ]
  },
  {
   "cell_type": "markdown",
   "metadata": {},
   "source": [
    "__[2]__ Проинтепретируйте график: \n",
    "\n",
    "* Наблюдается ли на нём сезонность? Какая она? \n",
    "* Когда в посещении сайта произошёл резкий всплеск? Как думаете с чем это связано? \n",
    "* Хороша ли эта метрика для оценки бизнеса? В чём её минусы?  \n",
    "\n",
    "__Ответ:__"
   ]
  },
  {
   "cell_type": "raw",
   "metadata": {},
   "source": [
    "Призываю команду к ответу! "
   ]
  },
  {
   "cell_type": "markdown",
   "metadata": {},
   "source": [
    "__[1] Постройте график с числом пользовательских сессий.__"
   ]
  },
  {
   "cell_type": "code",
   "execution_count": null,
   "metadata": {},
   "outputs": [],
   "source": [
    "# Призываю команду к коду"
   ]
  },
  {
   "cell_type": "markdown",
   "metadata": {},
   "source": [
    "__[1]__ Насколько он сильно отличается от графика с числом уникальных пользователей. Как думаете о чём это может сигнализировать?  "
   ]
  },
  {
   "cell_type": "raw",
   "metadata": {},
   "source": [
    "Призываю команду к ответу! "
   ]
  },
  {
   "cell_type": "markdown",
   "metadata": {},
   "source": [
    "__Посмотрим на возвращаемость пользователей (retention).__ \n",
    "\n",
    "* `retention_1`  - вернулся ли игрок после **первого** дня с момента посещения магазина?\n",
    "* `retention_7`  - вернулся ли игрок после **седьмого** дня с момента посещения магазина?\n",
    "\n",
    "__[1]__ Заведите колонку: _дата первого появления юзера._"
   ]
  },
  {
   "cell_type": "code",
   "execution_count": null,
   "metadata": {},
   "outputs": [],
   "source": [
    "# Призываю команду к коду"
   ]
  },
  {
   "cell_type": "markdown",
   "metadata": {},
   "source": [
    "__[1]__ Посмотрите на то, как распределено число дней между текуим и первым посещением. Для этого постройте гистограмму. "
   ]
  },
  {
   "cell_type": "code",
   "execution_count": null,
   "metadata": {},
   "outputs": [],
   "source": [
    "# Призываю команду к коду"
   ]
  },
  {
   "cell_type": "markdown",
   "metadata": {},
   "source": [
    "__[1]__ Что интересного на ней вы видите? "
   ]
  },
  {
   "cell_type": "raw",
   "metadata": {},
   "source": [
    "Призываю команду к ответу! "
   ]
  },
  {
   "cell_type": "markdown",
   "metadata": {},
   "source": [
    "__[1]__ Создайте колонку с разностью в днях между первым и последним посещениями. Назовите её `daysFromFirstVisit`."
   ]
  },
  {
   "cell_type": "code",
   "execution_count": null,
   "metadata": {},
   "outputs": [],
   "source": [
    "# Призываю команду к коду"
   ]
  },
  {
   "cell_type": "markdown",
   "metadata": {},
   "source": [
    "__[2]__ Посчитаем `retention_7`. Если `daysFromFirstVisit` оказывается больше $7$, значит человек вернулся более, чем через $7$ дней после первого посещения. Доля таких людей для каждого дня и есть `retention_7`. Найдите её для каждого дня и постройте картинку. "
   ]
  },
  {
   "cell_type": "code",
   "execution_count": null,
   "metadata": {},
   "outputs": [],
   "source": [
    "# Призываю команду к коду"
   ]
  },
  {
   "cell_type": "markdown",
   "metadata": {},
   "source": [
    "__[2]__ Есть много точечных оценок доли людей, которая возвращается для каждой даты. Но этого мало, каждая точка строится по разному числу наблюдений и нам хотелось бы понимать насколько оценка точная. Возвращаемость - это доля. Значит можно построить для неё $95\\%$ доверителльный интервал с помощью ЦПТ:\n",
    "\n",
    "$$\n",
    "\\hat p \\pm z_{1 - \\frac{\\alpha}{2}} \\cdot \\sqrt{\\frac{\\hat p \\cdot (1 - \\hat p)}{n}} \n",
    "$$"
   ]
  },
  {
   "cell_type": "code",
   "execution_count": null,
   "metadata": {},
   "outputs": [],
   "source": [
    "# Призываю команду к коду"
   ]
  },
  {
   "cell_type": "markdown",
   "metadata": {},
   "source": [
    "__[2]__ Постройте для семидневной возвращаемости $95\\%$ доверительный интервал Уилсона.\n",
    "\n",
    "$$\\frac1{ 1 + \\frac{z^2}{n} } \\left( \\hat{p} + \\frac{z^2}{2n} \\pm z \\sqrt{ \\frac{ \\hat{p}\\left(1-\\hat{p}\\right)}{n} + \\frac{\n",
    "z^2}{4n^2} } \\right), \\;\\; z \\equiv z_{1-\\frac{\\alpha}{2}}$$ "
   ]
  },
  {
   "cell_type": "code",
   "execution_count": null,
   "metadata": {},
   "outputs": [],
   "source": [
    "# Призываю команду к коду"
   ]
  },
  {
   "cell_type": "markdown",
   "metadata": {},
   "source": [
    "__[1]__ В каких ситуациях он обычно используется? Шире он получился или уже? Как думаете, почему? "
   ]
  },
  {
   "cell_type": "raw",
   "metadata": {},
   "source": [
    "Призываю команду к ответу! "
   ]
  },
  {
   "cell_type": "markdown",
   "metadata": {},
   "source": [
    "__[3]__ Финальный заход на анализ возвращаемости. [Построим heatmap](http://www.sthda.com/english/wiki/ggplot2-quick-correlation-matrix-heatmap-r-software-and-data-visualization) с возвращаемостью по когортам. За когорту будем рассматривать людей, пришедших в течение конкретного месяца. Должна получиться примерно такая картинка: \n",
    "\n",
    "![](https://raw.githubusercontent.com/FUlyankin/r_probability/master/end_seminars_2020/HW/retention.png) \n"
   ]
  },
  {
   "cell_type": "markdown",
   "metadata": {},
   "source": [
    "По оси $y$ откладывайте месяц первого прихода. По оси $x$ откладывается месяц, на который мы смотрим __retention.__ Например, клетка на пересечении да `2017-01` по $x$ и `2016-08` по $y$ - число людей, которые вернулис на сайт в январе $2017$ и при этом зарегистрировались в августе $2016$. "
   ]
  },
  {
   "cell_type": "code",
   "execution_count": null,
   "metadata": {},
   "outputs": [],
   "source": [
    "# Призываю команду к коду"
   ]
  },
  {
   "cell_type": "markdown",
   "metadata": {},
   "source": [
    "__[1]__ Какие выводы вы можете сделать о возврате пользователей после всех манипуляций с retention? "
   ]
  },
  {
   "cell_type": "raw",
   "metadata": {},
   "source": [
    "Призываю команду к ответу! "
   ]
  },
  {
   "cell_type": "markdown",
   "metadata": {},
   "source": [
    "__Проанализируем продажи.__\n",
    "\n",
    "__[1]__ Какой процент людей, зашедших на сайт делает покупки?"
   ]
  },
  {
   "cell_type": "code",
   "execution_count": null,
   "metadata": {},
   "outputs": [],
   "source": [
    "# Призываю команду к коду"
   ]
  },
  {
   "cell_type": "markdown",
   "metadata": {},
   "source": [
    "__[1]__ После какого посещения они делают свою первую покупку? Постройте гистограмму."
   ]
  },
  {
   "cell_type": "code",
   "execution_count": null,
   "metadata": {},
   "outputs": [],
   "source": [
    "# Призываю команду к коду"
   ]
  },
  {
   "cell_type": "markdown",
   "metadata": {},
   "source": [
    "__[1]__ Сколько покупок делает один пользователь? Постройте гистограмму числа покупок."
   ]
  },
  {
   "cell_type": "code",
   "execution_count": null,
   "metadata": {},
   "outputs": [],
   "source": [
    "# Призываю команду к коду"
   ]
  },
  {
   "cell_type": "markdown",
   "metadata": {},
   "source": [
    "__[1]__ Какие выводы о покупках можно сделать на основе построенных картинок? "
   ]
  },
  {
   "cell_type": "raw",
   "metadata": {},
   "source": [
    "Призываю команду к ответу! "
   ]
  },
  {
   "cell_type": "markdown",
   "metadata": {},
   "source": [
    "__[1]__ Отберите в маленькую табличку все записи лога, которые соотвествуют покупке. "
   ]
  },
  {
   "cell_type": "code",
   "execution_count": null,
   "metadata": {},
   "outputs": [],
   "source": [
    "# Призываю команду к коду"
   ]
  },
  {
   "cell_type": "markdown",
   "metadata": {},
   "source": [
    "__[1]__ Посмотрите на то как выглядит распределение стоимости покупок."
   ]
  },
  {
   "cell_type": "code",
   "execution_count": null,
   "metadata": {},
   "outputs": [],
   "source": [
    "# Призываю команду к коду"
   ]
  },
  {
   "cell_type": "markdown",
   "metadata": {},
   "source": [
    "В данных явно есть выбросы. Видно, что у распределения очень длинный хвост. Нам хотелось бы построить для средней выручки с пользователя доверительный интервал, но выбросы будут мешать нам использовать ЦПТ, которая предполагает что все случайные величины, участвующие в поиске среднего имеют одинаковое распределение, и аномалии не встречаются. \n",
    "\n",
    "__[1]__ Давайте избавимся от выбросов. Для этого найдите $95\\%$ квантиль и срежте все наблюдения, где выручка больше него. Снова постройте гистограмму. "
   ]
  },
  {
   "cell_type": "code",
   "execution_count": null,
   "metadata": {},
   "outputs": [],
   "source": [
    "# Призываю команду к коду"
   ]
  },
  {
   "cell_type": "markdown",
   "metadata": {},
   "source": [
    "__[1]__ Посчитайте по выручке среднее, стандартное отклонение и число наблюдений для каждого месяца."
   ]
  },
  {
   "cell_type": "code",
   "execution_count": null,
   "metadata": {},
   "outputs": [],
   "source": [
    "# Призываю команду к коду"
   ]
  },
  {
   "cell_type": "markdown",
   "metadata": {},
   "source": [
    "__[1]__ Наконец, воспользуемся формулой для строительства доверительного интервала для среднего: \n",
    "\n",
    "$$\n",
    "\\hat \\mu \\pm z_{1 - \\frac{\\alpha}{2}} \\cdot \\sqrt{\\frac{\\hat{\\sigma}^2}{n}}.\n",
    "$$\n",
    "\n",
    "Изобразите месячную динамику средней RPU на картинке. Нанесите на неё $95\\%$ доверительный интервал. "
   ]
  },
  {
   "cell_type": "code",
   "execution_count": null,
   "metadata": {},
   "outputs": [],
   "source": [
    "# Призываю команду к коду"
   ]
  },
  {
   "cell_type": "markdown",
   "metadata": {},
   "source": [
    "__[1]__ Какие выводы после проведённого анализа вы можете сделать?"
   ]
  },
  {
   "cell_type": "raw",
   "metadata": {},
   "source": [
    "Призываю команду к ответу! "
   ]
  },
  {
   "cell_type": "markdown",
   "metadata": {},
   "source": [
    "__[2]__ Посчитайте сколько суммарно приносят денег разные пользователи в течение всего своего взаимодействия с магазином. Постройте для средне-месячного LTV такую же картинку как и для retention."
   ]
  },
  {
   "cell_type": "code",
   "execution_count": null,
   "metadata": {},
   "outputs": [],
   "source": [
    "# Призываю команду к коду"
   ]
  },
  {
   "cell_type": "markdown",
   "metadata": {},
   "source": [
    "__[1]__ Какие выводы вы можете сделать? "
   ]
  },
  {
   "cell_type": "raw",
   "metadata": {},
   "source": [
    "Призываю команду к ответу! "
   ]
  },
  {
   "cell_type": "markdown",
   "metadata": {},
   "source": [
    "__[2]__ С каких устройств (колонка `deviceCategory`) покупки осуществляются чаще всего? Постройте столбиковую диаграмму для числа покупок с каждого типа девайска (десктоп, мобила, планшет). "
   ]
  },
  {
   "cell_type": "code",
   "execution_count": null,
   "metadata": {},
   "outputs": [],
   "source": [
    "# Призываю команду к коду"
   ]
  },
  {
   "cell_type": "markdown",
   "metadata": {},
   "source": [
    "__[2]__ Как выручка распределена по устройствам? Постройте ящик с усами или виалончель, чтобы посмотреть на это. "
   ]
  },
  {
   "cell_type": "code",
   "execution_count": null,
   "metadata": {},
   "outputs": [],
   "source": [
    "# Призываю команду к коду"
   ]
  },
  {
   "cell_type": "markdown",
   "metadata": {},
   "source": [
    "__[1]__ Какой вывод вы можете сделать на основе построеных картинок? \n",
    "\n",
    "__Ответ:__ "
   ]
  },
  {
   "cell_type": "code",
   "execution_count": null,
   "metadata": {},
   "outputs": [],
   "source": [
    "Призываю команду к ответу! "
   ]
  },
  {
   "cell_type": "markdown",
   "metadata": {},
   "source": [
    "__[2]__ Проверьте гипотезу о том, что число среднняя выручка с десктопа больше, чем с мобилы и планшета. Строго опишите ту процедуру, которую вы используете для проверки этой гипотезы. "
   ]
  },
  {
   "cell_type": "code",
   "execution_count": null,
   "metadata": {},
   "outputs": [],
   "source": [
    "# Призываю команду к коду"
   ]
  },
  {
   "cell_type": "markdown",
   "metadata": {},
   "source": [
    "__[2]__ Постройте доверительный интервал для месячной средней выручки в разбивке по девайсам. Как думаете меняется ли во времени доходность разных девайсов или одни из них на протяжении всего периода приносят значимо больше денег, чем другие? "
   ]
  },
  {
   "cell_type": "code",
   "execution_count": null,
   "metadata": {},
   "outputs": [],
   "source": [
    "# Призываю команду к коду"
   ]
  },
  {
   "cell_type": "markdown",
   "metadata": {},
   "source": [
    "__[бонусные 10]__ На какие ещё вещи вам было бы интересно посмотреть по текущему датасету? Если это возможно, изучите их. "
   ]
  },
  {
   "cell_type": "code",
   "execution_count": null,
   "metadata": {},
   "outputs": [],
   "source": [
    "# Призываю команду к коду"
   ]
  },
  {
   "cell_type": "markdown",
   "metadata": {},
   "source": [
    "__[2]__ На основе всего проведённого анализа сделайте выводы о текущем состоянии магазина и дайте ему пару советов: \n",
    "\n",
    "__Выводы:__ "
   ]
  },
  {
   "cell_type": "raw",
   "metadata": {},
   "source": [
    "Призываю команду к ответу! "
   ]
  },
  {
   "cell_type": "markdown",
   "metadata": {},
   "source": [
    " "
   ]
  }
 ],
 "metadata": {
  "kernelspec": {
   "display_name": "R",
   "language": "R",
   "name": "ir"
  },
  "language_info": {
   "codemirror_mode": "r",
   "file_extension": ".r",
   "mimetype": "text/x-r-source",
   "name": "R",
   "pygments_lexer": "r",
   "version": "3.5.3"
  }
 },
 "nbformat": 4,
 "nbformat_minor": 2
}
