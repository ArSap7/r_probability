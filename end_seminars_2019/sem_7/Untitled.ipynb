{
 "cells": [
  {
   "cell_type": "markdown",
   "metadata": {},
   "source": [
    "<center>\n",
    "<img src=\"https://raw.githubusercontent.com/FUlyankin/r_probability/master/end_seminars_2019/sem_6/student_teacher_dist.png\" height=\"300\" width=\"700\"> \n",
    "</center>\n",
    "\n",
    "# <center> R для тервера и матстата. <br>  <br>  Важные штуки про тестирование гипотез. </center>\n"
   ]
  },
  {
   "cell_type": "markdown",
   "metadata": {},
   "source": [
    "\n",
    "Данный ноутбук является конспектом по курсу «R для теории вероятностей и математической статистики» (РАНХиГС, 2019). Автор ноутбука [вот этот парень по имени Филипп.](https://vk.com/ppilif) Если у вас для него есть деньги, слава или женщины, он от этого всего не откажется. Ноутбук распространяется на условиях лицензии [Creative Commons Attribution-Share Alike 4.0.](https://creativecommons.org/licenses/by-sa/4.0/) При использовании обязательно упоминание автора курса и аффилиации. При наличии технической возможности необходимо также указать активную гиперссылку на [страницу курса.](https://fulyankin.github.io/r_probability/) На ней можно найти другие материалы. Фрагменты кода, включенные в этот notebook, публикуются как [общественное достояние.](https://creativecommons.org/publicdomain/zero/1.0/)\n",
    "\n",
    "---------\n",
    "\n",
    "В прошлой тетрадке мы поговорили о том, как можно проверять гипотезы о долях, средних и дисперсиях с помощью параметрических тестов. В этой тетрадке мы попробуем обсудить ещё несколько важных моментов, сопряжённых с тестами. План будет следующим: "
   ]
  },
  {
   "cell_type": "code",
   "execution_count": 12,
   "metadata": {},
   "outputs": [],
   "source": [
    "library(\"ggplot2\")  # Пакет для красивых графиков \n",
    "library(\"grid\")     # Пакет для субплотов\n",
    "\n",
    "# Отрегулируем размер картинок, которые будут выдаваться в нашей тетрадке\n",
    "library('repr')\n",
    "options(repr.plot.width=4, repr.plot.height=3)"
   ]
  },
  {
   "cell_type": "markdown",
   "metadata": {},
   "source": [
    "## Agenda \n",
    "\n",
    "- Ещё разок про тест отношения правдоподобий\n",
    "\n",
    "- Бутстрэп\n",
    "\n",
    "- Множественная проверка гипотез"
   ]
  },
  {
   "cell_type": "markdown",
   "metadata": {
    "slideshow": {
     "slide_type": "slide"
    }
   },
   "source": [
    "## Способы проверить гипотезу\n",
    "\n",
    "- Параметрические критерии \n",
    "\n",
    "- Непараметрические критерии\n",
    "\n",
    "- Тест отношения правдоподобий \n",
    "\n",
    "- Бутстрэп "
   ]
  },
  {
   "cell_type": "markdown",
   "metadata": {
    "slideshow": {
     "slide_type": "skip"
    }
   },
   "source": [
    "Мы уже говорили про тест отношения правдоподобий в прошлый раз, но вы все были в этот момент опустошены, поэтому давайте обсудим его ещё разок. "
   ]
  },
  {
   "cell_type": "markdown",
   "metadata": {
    "slideshow": {
     "slide_type": "slide"
    }
   },
   "source": [
    "# 1. Критерий отношения правдоподобий\n",
    "\n",
    "</br> \n",
    "\n",
    "__Шаг первый:__ оценили модель методом максимального правдоподобия без ограничений и получили $L(\\hat \\theta_{ML})$\n",
    "\n",
    "</br>\n",
    "\n",
    "__Шаг второй:__ оценили модель, наложив ограничение и получили $L(\\hat \\theta_{0})$\n",
    "\n",
    "</br>\n",
    "\n",
    "Оказывается, что \n",
    "\n",
    "$$\n",
    "LR = 2\\cdot(\\ln L(\\hat \\theta_{ML}) - \\ln L(\\theta_0)) \\sim \\chi^2_q,\n",
    "$$\n",
    "где $q$ — число ограничений"
   ]
  },
  {
   "cell_type": "markdown",
   "metadata": {
    "slideshow": {
     "slide_type": "slide"
    }
   },
   "source": [
    "### Пример первый\n",
    "\n",
    "</br>\n",
    "\n",
    "Пусть $X_1, \\ldots, X_{30} \\sim iid \\hspace{1mm} Pois(\\lambda)$ — количество серий ИП, которое смотрит Ульяна каждый день. Получилось, что $\\sum X_i = 100$. Нужно проверить гипотезу о том, что \n",
    "\n",
    "$$\n",
    "H_0: \\lambda = 2 \\\\\n",
    "H_A: \\lambda \\ne 2\n",
    "$$"
   ]
  },
  {
   "cell_type": "markdown",
   "metadata": {
    "slideshow": {
     "slide_type": "slide"
    }
   },
   "source": [
    "$$ \n",
    "lnL = \\sum x_i \\ln \\lambda - n \\lambda\n",
    "$$"
   ]
  },
  {
   "cell_type": "markdown",
   "metadata": {
    "slideshow": {
     "slide_type": "fragment"
    }
   },
   "source": [
    "$$\n",
    "\\hat{\\lambda}^{ML} = \\bar x = \\frac{10}{3}\n",
    "$$"
   ]
  },
  {
   "cell_type": "markdown",
   "metadata": {
    "slideshow": {
     "slide_type": "fragment"
    }
   },
   "source": [
    "$$\n",
    "LR = 2\\cdot(\\ln L(\\hat \\theta_{ML}) - \\ln L(\\theta_0)) \\sim \\chi^2_q,\n",
    "$$"
   ]
  },
  {
   "cell_type": "code",
   "execution_count": 4,
   "metadata": {
    "slideshow": {
     "slide_type": "fragment"
    }
   },
   "outputs": [
    {
     "data": {
      "text/html": [
       "22.1651247531982"
      ],
      "text/latex": [
       "22.1651247531982"
      ],
      "text/markdown": [
       "22.1651247531982"
      ],
      "text/plain": [
       "[1] 22.16512"
      ]
     },
     "metadata": {},
     "output_type": "display_data"
    },
    {
     "data": {
      "text/html": [
       "3.84145882069412"
      ],
      "text/latex": [
       "3.84145882069412"
      ],
      "text/markdown": [
       "3.84145882069412"
      ],
      "text/plain": [
       "[1] 3.841459"
      ]
     },
     "metadata": {},
     "output_type": "display_data"
    }
   ],
   "source": [
    "lnL <- function(l){\n",
    "    return(100*log(l) - 30*l)\n",
    "  }\n",
    "\n",
    "2*(lnL(10/3) - lnL(2))  # наблюдаемое значение\n",
    "qchisq(0.95, df=1)      # критическое значение"
   ]
  },
  {
   "cell_type": "code",
   "execution_count": null,
   "metadata": {},
   "outputs": [],
   "source": []
  },
  {
   "cell_type": "code",
   "execution_count": null,
   "metadata": {},
   "outputs": [],
   "source": [
    "## Пример второй \n",
    "\n",
    "В [табличке](https://yadi.sk/i/hDxMJ0fw3VSDmu) лежит информация о стоимости квартир в Москве и о основных параметрах этих квартир. Пусть цена на квартиры имеет логарифмически нормальное распределение. Оцените параметры $\\mu$ и $\\sigma$ методом максимального правдоподобия. Постройте для оценок доверительные интервалы. \n",
    "\n",
    "\n",
    "```{r, echo = FALSE}\n",
    "df = read.csv('/Users/fulyankin/Yandex.Disk.localized/R/R_prob_data/flat.csv', sep='\\t') \n",
    "\n",
    "head(df)\n",
    "```\n",
    "\n",
    "\n",
    "\n",
    "## Пример второй \n",
    "\n",
    "```{r, results = 'hold'}\n",
    "\n",
    "x = log(df$price)\n",
    "\n",
    "lnL <- function(param,data) {\n",
    "  n <- length(data)\n",
    "  result <- -n/2*log(2*pi)-n/2*log(param[2]^2)-sum((data-param[1])^2)/(2*param[2]^2)\n",
    "  return(result)\n",
    "}\n",
    "\n",
    "library('maxLik') \n",
    "\n",
    "res <- maxLik(lnL, start=c(0.1,0.1),data=x)\n",
    "summary(res)\n",
    "\n",
    "```\n",
    "\n",
    "\n",
    "## Пример второй \n",
    "\n",
    "```{r, results = 'hold'}\n",
    "\n",
    "#lnL_res <- function(sigma,data) lnL(c(5,sigma),x)\n",
    "#res_restr <- maxLik(lnL_res, start=0.1,data=x)\n",
    "#summary(res_restr)\n",
    "#par_restr <- c(5, res_restr$estimate)\n",
    "\n",
    "#2*(lnL(par, x) - lnL(par_restr, x))\n",
    "#qchisq(0.975, df=1)\n",
    "```\n",
    "\n",
    "\n",
    "## Критерии максимальной мощности \n",
    "\n",
    "- В примерах выше мы сравнивали $\\frac{L_{ML}}{L_R}$ с единицей\n",
    "\n",
    "- На основе этого мы делали вывод насколько сильно различаются два правдоподобия и решали что делать с гипотезой\n",
    "\n",
    "- Сравнивать отношение правдоподобий можно не с единицей, а с какой-то константой $c$\n",
    "\n",
    "- Лемма Неймана-Пирсона утверждает, что можно подобрать $c$ таким, чтобы у критерий была максимальная мощность (это было на лекции)\n",
    "\n",
    "- Подробнее смотри в Черновой страницы 86-67\n",
    "\n",
    "\n",
    "\n"
   ]
  },
  {
   "cell_type": "code",
   "execution_count": null,
   "metadata": {},
   "outputs": [],
   "source": []
  },
  {
   "cell_type": "code",
   "execution_count": null,
   "metadata": {},
   "outputs": [],
   "source": []
  },
  {
   "cell_type": "markdown",
   "metadata": {
    "slideshow": {
     "slide_type": "slide"
    }
   },
   "source": [
    "# 2. Бутсрап"
   ]
  },
  {
   "attachments": {},
   "cell_type": "markdown",
   "metadata": {
    "slideshow": {
     "slide_type": "skip"
    }
   },
   "source": [
    "\n",
    "__Бутстрап__ - это метод оценки статистик сложных распределений. Часто возникает необходимость проверить гипотезу о какой-то очень неудобной статистике, распределение которой неизвестно или построить для неё доверительный интервал. \n",
    "\n",
    "Чтобы сделать это, надо придумать как распределение этой статистики получить. Мы с вами уже знаем два способа сделать это. \n",
    "\n",
    "Способ номер один называется параметрическим. Мы предполагаем, что генеральная совокупность имеет какое-то распределение. Мы можем даже проверить гипотезу об этом с помощью какого-нибудь критерия. После мы на основе этого распределения можем придумать адекватную случайную величину для проверки гипотезы. Именно так мы поступали раньше. Иногда такую случайную величину придумать сложно или вовсе невозможно. Например, поди придумай адекватный критерий для медианы или моды. К тому же не очень понятно из каких соображений выбирать семейство распределений для проверки гипотезы, так как про данные ничего неизвестно. Другим способом был тест отношения правдоподобий. Пришло время познакомиться с третьим методом.\n",
    "\n",
    "Он говорит следующее: давайте извлечём из генеральной совокупности какое-то количество выборок, посчитаем по ним нашу статистику, для которой доверительный интервалы мы хотим получить, а потом оценим эмпирически её выборочное распределение и на его основе получим доверительные интервалы. Этот способ применим скорее в теории, чем на практике. Если мы можем генерировать бесконечное число выборок из генеральной совокупности, то для нас незатруднительно посчитать истинное значение интересующих нас параметров.  \n",
    "\n",
    "Эти мысли подводят нас к идее бутстрапа. В нашем распоряжении есть выборка. Давайте сделаем вид, что она и есть генеральная совокупность и будем извлекать из неё с повторением элементы. На основе получившихся подвыборок мы можем оценить всё, что нашей душе угодно. Поначалу такое кажется безумием, но это реально работает. И есть даже несколько теорем, которые доказывают почему это работает и как нужно правильно делать это в сложных ситуациях. \n",
    "\n",
    "Опишем бутстрап чуть более формально. Пусть имеется выборка $X$ размера $N$. Равномерно возьмём из выборки $N$ объектов с возвращением. Это означает, что мы будем $N$ раз выбирать произвольный объект выборки (считаем, что каждый объект достаётся с одинаковой вероятность $\\frac{1}{N}$), причём каждый раз мы выбираем из всех исходных $N$ объектов. Можно представить себе мешок, из которого достают шарики: выбранный на каком-то шаге шарик возвращается обратно в мешок, и следующий выбор опять делается равновероятно из того же числа шариков. Конечно же из-за возвращения среди них окажутся повторы. \n",
    "\n",
    "Обозначим новую выборку через $X_1$. Повторяя процедуру $B$ раз, сгенерируем $B$ подвыборок $X_1, \\ldots, X_B$. Теперь мы имеем достаточно большое число выборок и можем оценивать различные статистики исходного распределения."
   ]
  },
  {
   "cell_type": "markdown",
   "metadata": {
    "slideshow": {
     "slide_type": "slide"
    }
   },
   "source": [
    "\n",
    "\n",
    "![](https://raw.githubusercontent.com/FUlyankin/r_probability/master/end_seminars/sem_7/7.1%20presa_AB/bootstrap.png)"
   ]
  },
  {
   "cell_type": "markdown",
   "metadata": {
    "slideshow": {
     "slide_type": "slide"
    }
   },
   "source": [
    "![](https://hsto.org/getpro/habr/post_images/198/14a/3f7/19814a3f7efaa3b7d1a3f8ab35889832.jpg)"
   ]
  },
  {
   "cell_type": "markdown",
   "metadata": {
    "slideshow": {
     "slide_type": "skip"
    }
   },
   "source": [
    "По изначальной выборке мы могли посчитать всего одну статистику. По сгенерированным подвыборкам мы можем посчитать $B$ статистик и увидеть как наша неизвестная статистика распределена. Скорее всего, вам кажется это сложным. Давайте попробуем посмотреть на конкретный пример. Возможно, станет легче. Но это неточно. "
   ]
  },
  {
   "cell_type": "markdown",
   "metadata": {
    "slideshow": {
     "slide_type": "slide"
    }
   },
   "source": [
    "## Проблема \n",
    "\n",
    "Verizon — основная региональная телекоммуникационная компания (Incumbent Local Exchange Carrier, ILEC) в западной \n",
    "части США. В связи с этим данная компания обязана предоставлять сервис ремонта телекоммуникационного оборудования \n",
    "не только для своих клиентов, но и для клиентов других локальных телекоммуникационых компаний (Competing Local Exchange Carriers, CLEC). При этом в случаях, когда время ремонта оборудования для клиентов других компаний существенно выше, чем для собственных, Verizon может быть оштрафована. \n",
    "\n",
    "Проверим правда ли время на ремонт своего оборудования существенно ниже чем время на ремонт других компаний."
   ]
  },
  {
   "cell_type": "code",
   "execution_count": 13,
   "metadata": {
    "slideshow": {
     "slide_type": "slide"
    }
   },
   "outputs": [
    {
     "data": {
      "text/html": [
       "<table>\n",
       "<thead><tr><th scope=col>Time</th><th scope=col>Group</th></tr></thead>\n",
       "<tbody>\n",
       "\t<tr><td>17.50</td><td>ILEC </td></tr>\n",
       "\t<tr><td> 2.40</td><td>ILEC </td></tr>\n",
       "\t<tr><td> 0.00</td><td>ILEC </td></tr>\n",
       "\t<tr><td> 0.65</td><td>ILEC </td></tr>\n",
       "\t<tr><td>22.23</td><td>ILEC </td></tr>\n",
       "\t<tr><td> 1.20</td><td>ILEC </td></tr>\n",
       "</tbody>\n",
       "</table>\n"
      ],
      "text/latex": [
       "\\begin{tabular}{r|ll}\n",
       " Time & Group\\\\\n",
       "\\hline\n",
       "\t 17.50 & ILEC \\\\\n",
       "\t  2.40 & ILEC \\\\\n",
       "\t  0.00 & ILEC \\\\\n",
       "\t  0.65 & ILEC \\\\\n",
       "\t 22.23 & ILEC \\\\\n",
       "\t  1.20 & ILEC \\\\\n",
       "\\end{tabular}\n"
      ],
      "text/markdown": [
       "\n",
       "| Time | Group |\n",
       "|---|---|\n",
       "| 17.50 | ILEC  |\n",
       "|  2.40 | ILEC  |\n",
       "|  0.00 | ILEC  |\n",
       "|  0.65 | ILEC  |\n",
       "| 22.23 | ILEC  |\n",
       "|  1.20 | ILEC  |\n",
       "\n"
      ],
      "text/plain": [
       "  Time  Group\n",
       "1 17.50 ILEC \n",
       "2  2.40 ILEC \n",
       "3  0.00 ILEC \n",
       "4  0.65 ILEC \n",
       "5 22.23 ILEC \n",
       "6  1.20 ILEC "
      ]
     },
     "metadata": {},
     "output_type": "display_data"
    }
   ],
   "source": [
    "library('dplyr')\n",
    "library('rio') # тут import, который сам догадается до разделителей и даже excel прочтёт\n",
    "\n",
    "df = import('/Users/fulyankin/Yandex.Disk.localized/R/R_prob_data/verizon.csv')\n",
    "# ILEC - внутренний клиент \n",
    "# CLEC - внешние клиенты \n",
    "head(df)"
   ]
  },
  {
   "cell_type": "markdown",
   "metadata": {
    "slideshow": {
     "slide_type": "slide"
    }
   },
   "source": [
    "* В выборке имеется сильный перекос в наблюдениях. "
   ]
  },
  {
   "cell_type": "code",
   "execution_count": 23,
   "metadata": {
    "slideshow": {
     "slide_type": "fragment"
    }
   },
   "outputs": [
    {
     "data": {
      "text/html": [
       "<table>\n",
       "<thead><tr><th scope=col>Group</th><th scope=col>count</th><th scope=col>mean</th><th scope=col>median</th></tr></thead>\n",
       "<tbody>\n",
       "\t<tr><td>CLEC     </td><td>  23     </td><td>16.509130</td><td>14.33    </td></tr>\n",
       "\t<tr><td>ILEC     </td><td>1664     </td><td> 8.411611</td><td> 3.59    </td></tr>\n",
       "</tbody>\n",
       "</table>\n"
      ],
      "text/latex": [
       "\\begin{tabular}{r|llll}\n",
       " Group & count & mean & median\\\\\n",
       "\\hline\n",
       "\t CLEC      &   23      & 16.509130 & 14.33    \\\\\n",
       "\t ILEC      & 1664      &  8.411611 &  3.59    \\\\\n",
       "\\end{tabular}\n"
      ],
      "text/markdown": [
       "\n",
       "| Group | count | mean | median |\n",
       "|---|---|---|---|\n",
       "| CLEC      |   23      | 16.509130 | 14.33     |\n",
       "| ILEC      | 1664      |  8.411611 |  3.59     |\n",
       "\n"
      ],
      "text/plain": [
       "  Group count mean      median\n",
       "1 CLEC    23  16.509130 14.33 \n",
       "2 ILEC  1664   8.411611  3.59 "
      ]
     },
     "metadata": {},
     "output_type": "display_data"
    }
   ],
   "source": [
    "df %>% group_by(Group) %>% summarise(count = n(), mean = mean(Time), median = median(Time))"
   ]
  },
  {
   "cell_type": "markdown",
   "metadata": {
    "slideshow": {
     "slide_type": "fragment"
    }
   },
   "source": [
    "* В выборке есть выбросы. "
   ]
  },
  {
   "cell_type": "code",
   "execution_count": 15,
   "metadata": {
    "slideshow": {
     "slide_type": "fragment"
    }
   },
   "outputs": [
    {
     "name": "stderr",
     "output_type": "stream",
     "text": [
      "`stat_bin()` using `bins = 30`. Pick better value with `binwidth`.\n"
     ]
    },
    {
     "data": {
      "image/png": "[encoded data removed]",
      "text/plain": [
       "plot without title"
      ]
     },
     "metadata": {},
     "output_type": "display_data"
    }
   ],
   "source": [
    "qplot(df$Time)"
   ]
  },
  {
   "cell_type": "markdown",
   "metadata": {
    "slideshow": {
     "slide_type": "slide"
    }
   },
   "source": [
    "Из-за этого средние будут не очень адекватной оценкой для типичного представителя выборки. Используя их, мы будем искуственно находиться на стороне компании. Поэтому гораздо уместнее сформулировать в терминах медиан, так как они нечувствительны к выбросам в отличие от средних. \n",
    "\n",
    "$$\n",
    "\\begin{aligned}\n",
    "&H_0: \\hspace{2mm} med_1 = med_2 \\\\\n",
    "&H_1: \\hspace{2mm} med_1 > med_2\n",
    "\\end{aligned}\n",
    "$$"
   ]
  },
  {
   "cell_type": "markdown",
   "metadata": {
    "slideshow": {
     "slide_type": "skip"
    }
   },
   "source": [
    "Беда в том, что для медиан как раз у нас нет хорошей статистики. Это весомый повод прибегнуть к бустрапу!"
   ]
  },
  {
   "cell_type": "code",
   "execution_count": 38,
   "metadata": {
    "slideshow": {
     "slide_type": "slide"
    }
   },
   "outputs": [
    {
     "data": {
      "text/html": [
       "<table>\n",
       "<thead><tr><th scope=col>Time</th><th scope=col>Group</th></tr></thead>\n",
       "<tbody>\n",
       "\t<tr><td>3.58</td><td>ILEC</td></tr>\n",
       "\t<tr><td>5.02</td><td>ILEC</td></tr>\n",
       "\t<tr><td>4.38</td><td>ILEC</td></tr>\n",
       "</tbody>\n",
       "</table>\n"
      ],
      "text/latex": [
       "\\begin{tabular}{r|ll}\n",
       " Time & Group\\\\\n",
       "\\hline\n",
       "\t 3.58 & ILEC\\\\\n",
       "\t 5.02 & ILEC\\\\\n",
       "\t 4.38 & ILEC\\\\\n",
       "\\end{tabular}\n"
      ],
      "text/markdown": [
       "\n",
       "| Time | Group |\n",
       "|---|---|\n",
       "| 3.58 | ILEC |\n",
       "| 5.02 | ILEC |\n",
       "| 4.38 | ILEC |\n",
       "\n"
      ],
      "text/plain": [
       "  Time Group\n",
       "1 3.58 ILEC \n",
       "2 5.02 ILEC \n",
       "3 4.38 ILEC "
      ]
     },
     "metadata": {},
     "output_type": "display_data"
    }
   ],
   "source": [
    "df %>% sample_n(size = 3, replace=TRUE)"
   ]
  },
  {
   "cell_type": "markdown",
   "metadata": {
    "slideshow": {
     "slide_type": "skip"
    }
   },
   "source": [
    "Сделали подвыборку размера $3$ с повторениями, потом по ней можно что-нибудь посчитать. Например, медианы. Закодим бустрап в виде двух функций. Первая будет делать `B_sample` выборок."
   ]
  },
  {
   "cell_type": "code",
   "execution_count": 103,
   "metadata": {
    "slideshow": {
     "slide_type": "slide"
    }
   },
   "outputs": [],
   "source": [
    "get_bootstrap_samples <- function(data, B_sample){\n",
    "    samples = list() # лист, куда мы будем записывать выборки\n",
    "    \n",
    "    for(i in 1:B_sample){\n",
    "        # генерируем выборки с повторениями соответствующую по размерам оригинальной  \n",
    "        # и записываем её в лист\n",
    "        samples[[i]] = sample(data, size = length(data), replace=TRUE)\n",
    "        }\n",
    "    return(samples)\n",
    "    }"
   ]
  },
  {
   "cell_type": "code",
   "execution_count": 94,
   "metadata": {
    "slideshow": {
     "slide_type": "fragment"
    }
   },
   "outputs": [],
   "source": [
    "# неколько сбустрапированных выборк\n",
    "# get_bootstrap_sample(df$Time, 3)"
   ]
  },
  {
   "cell_type": "markdown",
   "metadata": {
    "slideshow": {
     "slide_type": "skip"
    }
   },
   "source": [
    "Вторая функция будет искать квантили сгерированого распределения. "
   ]
  },
  {
   "cell_type": "code",
   "execution_count": 104,
   "metadata": {
    "slideshow": {
     "slide_type": "slide"
    }
   },
   "outputs": [],
   "source": [
    "stat_intervals <- function(stat, alpha){\n",
    "    return(quantile(stat, c(alpha/2,(1-alpha/2)), name = FALSE))\n",
    "    }"
   ]
  },
  {
   "cell_type": "markdown",
   "metadata": {
    "slideshow": {
     "slide_type": "skip"
    }
   },
   "source": [
    "Отделим данные по внутренним и внешним клиентам друг от друга и построим доверительные интервалы для каждой из медиан. Будем бустрапировать $1000$ выборок. "
   ]
  },
  {
   "cell_type": "code",
   "execution_count": 125,
   "metadata": {
    "slideshow": {
     "slide_type": "slide"
    }
   },
   "outputs": [],
   "source": [
    "ilec = df %>% filter(Group == 'ILEC')\n",
    "clec = df %>% filter(Group == 'CLEC')\n",
    "\n",
    "# Делаем 1000 выборок для первой таблички и считаем по каждой медиану \n",
    "# функция lapply применяет функцию median к каждой выборке \n",
    "# команда as.numeric сделает листы векторами\n",
    "\n",
    "clec_median_scores = as.numeric(lapply(get_bootstrap_samples(clec$Time, 10000), median))\n",
    "ilec_median_scores = as.numeric(lapply(get_bootstrap_samples(ilec$Time, 10000), median))"
   ]
  },
  {
   "cell_type": "markdown",
   "metadata": {
    "slideshow": {
     "slide_type": "slide"
    }
   },
   "source": [
    "Смотрим на итоговые доверительный интервалы. "
   ]
  },
  {
   "cell_type": "code",
   "execution_count": 126,
   "metadata": {
    "slideshow": {
     "slide_type": "fragment"
    }
   },
   "outputs": [
    {
     "name": "stdout",
     "output_type": "stream",
     "text": [
      "95% confidence interval for the ILEC median repair time: 3.22 3.84 \n",
      "95% confidence interval for the CLEC median repair time: 5.45 20"
     ]
    }
   ],
   "source": [
    "cat(\"95% confidence interval for the ILEC median repair time:\", stat_intervals(ilec_median_scores, 0.05),'\\n')\n",
    "cat(\"95% confidence interval for the CLEC median repair time:\", stat_intervals(clec_median_scores, 0.05))"
   ]
  },
  {
   "cell_type": "markdown",
   "metadata": {
    "slideshow": {
     "slide_type": "slide"
    }
   },
   "source": [
    "По аналогии найдём доверительный интервал для разности медиан. "
   ]
  },
  {
   "cell_type": "code",
   "execution_count": 127,
   "metadata": {
    "slideshow": {
     "slide_type": "fragment"
    }
   },
   "outputs": [
    {
     "name": "stdout",
     "output_type": "stream",
     "text": [
      "95% confidence interval for the diff median repair time: 2.02 16.66"
     ]
    }
   ],
   "source": [
    "delta_median_scores = clec_median_scores - ilec_median_scores\n",
    "cat(\"95% confidence interval for the diff median repair time:\", stat_intervals(delta_median_scores, 0.05))"
   ]
  },
  {
   "cell_type": "markdown",
   "metadata": {
    "slideshow": {
     "slide_type": "slide"
    }
   },
   "source": [
    "Оценим вероятность того, что разность больше нуля. "
   ]
  },
  {
   "cell_type": "code",
   "execution_count": 128,
   "metadata": {
    "slideshow": {
     "slide_type": "fragment"
    }
   },
   "outputs": [
    {
     "data": {
      "text/html": [
       "0.9987"
      ],
      "text/latex": [
       "0.9987"
      ],
      "text/markdown": [
       "0.9987"
      ],
      "text/plain": [
       "[1] 0.9987"
      ]
     },
     "metadata": {},
     "output_type": "display_data"
    }
   ],
   "source": [
    "sum(delta_median_scores > 0)/length(delta_median_scores)"
   ]
  },
  {
   "cell_type": "markdown",
   "metadata": {
    "slideshow": {
     "slide_type": "slide"
    }
   },
   "source": [
    "Кажется, команию пришло время оштрафовать. Ещё один пример на бустрап мы посмотрим в тетрадке с поющими котами ближе к концу пары. "
   ]
  },
  {
   "cell_type": "markdown",
   "metadata": {},
   "source": [
    "№"
   ]
  },
  {
   "cell_type": "code",
   "execution_count": null,
   "metadata": {},
   "outputs": [],
   "source": []
  },
  {
   "cell_type": "code",
   "execution_count": null,
   "metadata": {},
   "outputs": [],
   "source": []
  },
  {
   "cell_type": "markdown",
   "metadata": {
    "slideshow": {
     "slide_type": "slide"
    }
   },
   "source": [
    "# 3. Последовательная проверка гипотез "
   ]
  },
  {
   "cell_type": "markdown",
   "metadata": {
    "slideshow": {
     "slide_type": "slide"
    }
   },
   "source": [
    "## История про Зомби-лосося\n",
    "\n",
    "<center>\n",
    "<img src=\"https://raw.githubusercontent.com/FUlyankin/r_probability/master/end_seminars/sem_7/6.2%20presa%20-%20bootstrap%2C%20LR/losos.jpg\" width=\"600\"> \n",
    "</center>"
   ]
  },
  {
   "cell_type": "markdown",
   "metadata": {
    "slideshow": {
     "slide_type": "slide"
    }
   },
   "source": [
    "## История про Зомби-лосося\n",
    "\n",
    "- В 2012 году ряд авторов получил шнобелевскую премию по нейробиологии\n",
    "\n",
    "- Нужно было протестировать аппарат МРТ, обычно для этого берут шарик с маслом и сканируют его \n",
    "\n",
    "<center>\n",
    "<img src=\"https://raw.githubusercontent.com/FUlyankin/r_probability/master/end_seminars/sem_7/6.2%20presa%20-%20bootstrap%2C%20LR/mrt.jpg\" width=\"400\"> \n",
    "</center>"
   ]
  },
  {
   "cell_type": "markdown",
   "metadata": {
    "slideshow": {
     "slide_type": "slide"
    }
   },
   "source": [
    "## История про Зомби-лосося\n",
    "\n",
    "- Скучно, купили мёртвого лосося\n",
    "\n",
    "- Стали показывать ему фотки людей\n",
    "\n",
    "- Задача показать, что в голове лосося нет мозговой активности \n",
    "\n",
    "- Аппарат МРТ возвращает кучу данных. Один объект - воксель. Для исследования активности мозга в целом, надо провести множественное тестирование гипотез относительно каждого вокселя.\n",
    "\n",
    "- Оказалось, что у лосося есть рекация в мозгу на людей, написали [статью](http://prefrontal.org/files/posters/Bennett-Salmon-2009.pdf)"
   ]
  },
  {
   "cell_type": "markdown",
   "metadata": {
    "slideshow": {
     "slide_type": "slide"
    }
   },
   "source": [
    "## Проверка гипотезы \n",
    "\n",
    "__Уровень значимости:__  $P(\\text{отвергнуть} H_0 \\mid H_0 \\text{верна}) = \\alpha$ \n",
    "\n",
    "__Выборка:__ $X_1, \\ldots, X_n \\sim iid \\hspace{1mm} F_X(x, \\theta)$\n",
    "\n",
    "__Нулевая гипотеза:__ $H_0 : \\theta = \\theta_0 $ \n",
    "\n",
    "__Альтернатива:__ $H_1 : \\theta \\ne \\theta_0 $ \n",
    "\n",
    "__Статистика:__ $T(X_1, \\ldots, X_n)$\n",
    "\n",
    "Если $p$-значение $< \\alpha$, гипотеза отвергается "
   ]
  },
  {
   "cell_type": "markdown",
   "metadata": {
    "slideshow": {
     "slide_type": "slide"
    }
   },
   "source": [
    "## Две гипотезы \n",
    "\n",
    "- Гипотеза сразу о двух параметрах \n",
    "\n",
    "- Всё усложняется: можно ошибиться в обеих гипотезах, ошибиться только в первой или только во второй\n",
    "\n",
    "- Накопление вероятности ошибки первого рода \n",
    "\n",
    "$$\n",
    "P(\\text{ошибочно отвергнуть } H_0 ) = P(\\text{ошибочно отвергнуть хотя бы одну из гипотез}) \\le \\\\\n",
    "\\le P(\\text{ошибка в первой}) + P(\\text{ошибка во второй}) = \\alpha + \\alpha = 2\\alpha\n",
    "$$"
   ]
  },
  {
   "cell_type": "markdown",
   "metadata": {
    "slideshow": {
     "slide_type": "slide"
    }
   },
   "source": [
    "## Рецепт лечения \n",
    "\n",
    "- Будем проверять каждую из двух гипотез на уровне значимости $\\frac{\\alpha}{2}$\n",
    "\n",
    "- Если гипотез $K$, то каждую проверяем на уровне $\\frac{\\alpha}{K}$\n",
    "\n",
    "- Такой подход называется __поправкой Бонферрони__"
   ]
  },
  {
   "cell_type": "markdown",
   "metadata": {
    "slideshow": {
     "slide_type": "slide"
    }
   },
   "source": [
    "## Разрешение парадокса о лососе\n",
    "\n",
    "- Если ввести поправку Бонферрони, мёртвый лосось остаётся мёртвым\n",
    "\n",
    "- Реальный вклад в науку, анализ работ по нйробиологии до 2010 года показал, что окло 40% не используют поправку при множественном тестировании гипотез\n",
    "\n",
    "- После публикации количество статей, где его не используют упало до 10%"
   ]
  },
  {
   "cell_type": "markdown",
   "metadata": {
    "slideshow": {
     "slide_type": "slide"
    }
   },
   "source": [
    "## Проблема: \n",
    "\n",
    "Говорят, Джордж Р.Р. Мартин, автор цикла ``Песнь Льда и Огня'', истребляет Старков: чаще ``убивает'' персонажей, относящихся к этому дому, чем персонажей других домов. В таблице ниже приведено количество персонажей, относящихся к тому или иному дому, упомянутых за первые $4$ книги, а так же количество погибших персонажей.\n",
    "\n",
    "| Дом | Упомянутые персонажи | Погибшие персонажи |\n",
    "|-----|---------------------|------|\n",
    "|House Stark\t| 72 | 18 |\n",
    "|House Lannister | 49 | 11 |\n",
    "|House Greyjoy | 41 | 12 |\n",
    "|Night's Watch |105 | 41 |\n",
    "\n",
    "\n",
    "Данные взяты из [датасета по ссылке.](https://www.kaggle.com/mylesoneill/game-of-thrones) Нужно проверить гипотезу об этом на $5\\%$ уровне значимости. "
   ]
  },
  {
   "cell_type": "markdown",
   "metadata": {
    "slideshow": {
     "slide_type": "slide"
    }
   },
   "source": [
    "## Формализация задачи\n",
    "\n",
    "Нам нужно проверить гипотезу о том, что доля смертей среди старков совпадает со всеми остальными долями против альтернативы, что хотя бы в одной из ситуаций смертность в доме Старков больше:\n",
    "\n",
    "\\begin{equation*}\n",
    "\\begin{aligned} \n",
    "H_0: p_1 = p_2 \\\\\n",
    "H_1: p_1 > p_2 \n",
    "\\end{aligned}\n",
    "\\end{equation*}\n",
    "\n",
    "Протестируем все гипотезы без коррекции на множественное тестирование, а потом введём её. "
   ]
  },
  {
   "cell_type": "code",
   "execution_count": 129,
   "metadata": {
    "slideshow": {
     "slide_type": "slide"
    }
   },
   "outputs": [],
   "source": [
    "n_st = 72 \n",
    "m_st = 18\n",
    "\n",
    "n_lan = 49\n",
    "m_lan = 11\n",
    "\n",
    "n_gr = 41\n",
    "m_gr = 12 \n",
    "\n",
    "n_nw = 105\n",
    "m_nw = 41 \n",
    "\n",
    "alpha = 0.05"
   ]
  },
  {
   "cell_type": "markdown",
   "metadata": {
    "slideshow": {
     "slide_type": "slide"
    }
   },
   "source": [
    "Закодим тест для проверки гипотезы о равенстве долей в виде двух функций. Одна будет считать значение статистики, вторая находить `p_value`. "
   ]
  },
  {
   "cell_type": "code",
   "execution_count": 141,
   "metadata": {
    "slideshow": {
     "slide_type": "fragment"
    }
   },
   "outputs": [],
   "source": [
    "proportions_diff_zstat = function(n1, m1, n2, m2){ \n",
    "    p1 = m1/n1\n",
    "    p2 = m2/n2\n",
    "    P = (p1*n1 + p2*n2)/(n1 + n2)\n",
    "    z_stat = (p1 - p2)/sqrt(P * (1-P) * (1/n1 + 1/n2))\n",
    "    return(z_stat)\n",
    "}\n",
    "\n",
    "proportions_diff_ztest = function(z_stat, alternative = 'two-sided'){\n",
    "    if(alternative == 'two-sided'){\n",
    "        return(2 * (1 - pnorm(np.abs(z_stat))))\n",
    "    }\n",
    "    \n",
    "    if(alternative == 'less'){\n",
    "        return(pnorm(z_stat))\n",
    "    }\n",
    "    \n",
    "    if(alternative == 'greater'){\n",
    "        return(1 - pnorm(z_stat))\n",
    "    }\n",
    "}"
   ]
  },
  {
   "cell_type": "markdown",
   "metadata": {
    "slideshow": {
     "slide_type": "slide"
    }
   },
   "source": [
    "Проверяем три гипотезы! "
   ]
  },
  {
   "cell_type": "code",
   "execution_count": 145,
   "metadata": {
    "slideshow": {
     "slide_type": "fragment"
    }
   },
   "outputs": [
    {
     "data": {
      "text/html": [
       "0.689356939101605"
      ],
      "text/latex": [
       "0.689356939101605"
      ],
      "text/markdown": [
       "0.689356939101605"
      ],
      "text/plain": [
       "[1] 0.6893569"
      ]
     },
     "metadata": {},
     "output_type": "display_data"
    },
    {
     "data": {
      "text/html": [
       "0.373467127205706"
      ],
      "text/latex": [
       "0.373467127205706"
      ],
      "text/markdown": [
       "0.373467127205706"
      ],
      "text/plain": [
       "[1] 0.3734671"
      ]
     },
     "metadata": {},
     "output_type": "display_data"
    },
    {
     "data": {
      "text/html": [
       "0.974264141304402"
      ],
      "text/latex": [
       "0.974264141304402"
      ],
      "text/markdown": [
       "0.974264141304402"
      ],
      "text/plain": [
       "[1] 0.9742641"
      ]
     },
     "metadata": {},
     "output_type": "display_data"
    }
   ],
   "source": [
    "# Для всех трёх случаев гипотеза о рпвенстве долей не отвергается. \n",
    "proportions_diff_ztest(proportions_diff_zstat(n_st, m_st, n_gr, m_gr),'greater')\n",
    "proportions_diff_ztest(proportions_diff_zstat(n_st, m_st, n_lan, m_lan),'greater')\n",
    "proportions_diff_ztest(proportions_diff_zstat(n_st, m_st, n_nw, m_nw),'greater')"
   ]
  },
  {
   "cell_type": "markdown",
   "metadata": {
    "slideshow": {
     "slide_type": "fragment"
    }
   },
   "source": [
    "Чтобы ввести коррекцию Бонферони, будем сравнивать с $\\frac{\\alpha}{3}$. "
   ]
  },
  {
   "cell_type": "markdown",
   "metadata": {
    "slideshow": {
     "slide_type": "slide"
    }
   },
   "source": [
    "## Другие поправки \n",
    "\n",
    "- Поправку Бонферрони очень просто применять, но у такой процедуры низкая мощность \n",
    "\n",
    "- Можно улучшить её, если брать $\\alpha_i$ разными "
   ]
  },
  {
   "cell_type": "markdown",
   "metadata": {
    "slideshow": {
     "slide_type": "slide"
    }
   },
   "source": [
    "## Нисходящие методы \n",
    "\n",
    "- Отсортируем полученные p-значения \n",
    "\n",
    "$$\n",
    "p_{(1)} \\le p_{(2)} \\le \\ldots \\le p_{(m)}\n",
    "$$\n",
    "- Если $p_{(1)} \\ge \\alpha_1$, не отвергаем все нулевые гипотезы, иначе отвергаем $H_{(1)}$ и продолжаем \n",
    "\n",
    "- Если $p_{(2)} \\ge \\alpha_2$, не отвергаем все нулевые гипотезы, иначе отвергаем $H_{(2)}$ и продолжаем \n",
    "\n",
    "- Делаем так, пока не закончатся гипотезы"
   ]
  },
  {
   "cell_type": "markdown",
   "metadata": {
    "slideshow": {
     "slide_type": "slide"
    }
   },
   "source": [
    "## Метод Холма \n",
    "\n",
    "Если взять уровни значимости \n",
    "\n",
    "$$\\alpha_1 = \\frac{\\alpha}{m}, \\alpha_2 = \\frac{\\alpha}{m-1}, \\ldots, \\alpha_i = \\frac{\\alpha}{m-i+1}, \\ldots, \\alpha_m = \\alpha$$ \n",
    "мы получим __метод холма.__ "
   ]
  },
  {
   "cell_type": "markdown",
   "metadata": {},
   "source": [
    "\n",
    "\n",
    "\n",
    "\n",
    "\n"
   ]
  },
  {
   "cell_type": "code",
   "execution_count": null,
   "metadata": {},
   "outputs": [],
   "source": []
  },
  {
   "cell_type": "markdown",
   "metadata": {},
   "source": [
    "# 4. Ошибки первого и второго рода "
   ]
  },
  {
   "cell_type": "code",
   "execution_count": null,
   "metadata": {},
   "outputs": [],
   "source": []
  },
  {
   "cell_type": "code",
   "execution_count": null,
   "metadata": {},
   "outputs": [],
   "source": []
  },
  {
   "cell_type": "code",
   "execution_count": null,
   "metadata": {},
   "outputs": [],
   "source": []
  },
  {
   "cell_type": "markdown",
   "metadata": {},
   "source": []
  }
 ],
 "metadata": {
  "celltoolbar": "Slideshow",
  "kernelspec": {
   "display_name": "R",
   "language": "R",
   "name": "ir"
  },
  "language_info": {
   "codemirror_mode": "r",
   "file_extension": ".r",
   "mimetype": "text/x-r-source",
   "name": "R",
   "pygments_lexer": "r",
   "version": "3.5.3"
  }
 },
 "nbformat": 4,
 "nbformat_minor": 2
}
