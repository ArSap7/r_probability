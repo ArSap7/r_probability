{
 "cells": [
  {
   "cell_type": "markdown",
   "metadata": {
    "slideshow": {
     "slide_type": "slide"
    }
   },
   "source": [
    "<center>\n",
    "\n",
    "# R для тервера и матстата\n",
    "## 4.1 Что хочет статистик?\n",
    "\n",
    "<br>\n",
    "\n",
    "<center>\n",
    "<img src=\"https://st.kp.yandex.net/im/kadr/2/2/1/kinopoisk.ru-What-Women-Want-2219360.jpg\" width=\"350\"> \n",
    "\n"
   ]
  },
  {
   "cell_type": "markdown",
   "metadata": {
    "slideshow": {
     "slide_type": "skip"
    }
   },
   "source": [
    "Данный ноутбук является конспектом по курсу «R для теории вероятностей и математической статистики» (РАНХиГС, 2019). Автор ноутбука [вот этот парень по имени Филипп.](https://vk.com/ppilif) Если у вас для него есть деньги, слава или женщины, он от этого всего не откажется. Ноутбук распространяется на условиях лицензии [Creative Commons Attribution-Share Alike 4.0.](https://creativecommons.org/licenses/by-sa/4.0/) При использовании обязательно упоминание автора курса и аффилиации. При наличии технической возможности необходимо также указать активную гиперссылку на [страницу курса.](https://fulyankin.github.io/R_probability/) На ней можно найти другие материалы. Фрагменты кода, включенные в этот notebook, публикуются как [общественное достояние.](https://creativecommons.org/publicdomain/zero/1.0/)\n",
    "\n",
    "-------------------------------\n"
   ]
  },
  {
   "cell_type": "markdown",
   "metadata": {
    "slideshow": {
     "slide_type": "skip"
    }
   },
   "source": [
    "Двигаемся дальше. В прошлый раз мы поговорили про различные виды сходимости случайных величин. Обычно вы будете вспоминать про них в ситуациях, когда приходится говорить про различные статистические оценки и их свойства. Именно о них пойдёт речь в этой тетрадке. \n",
    "\n",
    "Каждый статистик хочет трёх вещей: несмещённости, состоятельности и эффективности. Однако одно дело хотеть этого,совершенно другое - понимать зачем ты этого хочешь. В первой части тетрадки мы попробуем понять зачем этого всего нужно хотеть и посмотреть на то как выглядят эти присловутые несмещённость, состоятельность и эффективность. "
   ]
  },
  {
   "cell_type": "code",
   "execution_count": 119,
   "metadata": {
    "slideshow": {
     "slide_type": "skip"
    }
   },
   "outputs": [],
   "source": [
    "library(\"ggplot2\")  # Пакет для красивых графиков \n",
    "library(\"grid\")     # Пакет для субплотов\n",
    "\n",
    "# Отрегулируем размер картинок, которые будут выдаваться в нашей тетрадке\n",
    "library('repr')\n",
    "options(repr.plot.width=4, repr.plot.height=3)"
   ]
  },
  {
   "cell_type": "markdown",
   "metadata": {
    "slideshow": {
     "slide_type": "slide"
    }
   },
   "source": [
    "# 1. Любой статистик хочет \n",
    "\n",
    "* Несмещённость \n",
    "* Состоятельность \n",
    "* Эффективность"
   ]
  },
  {
   "cell_type": "markdown",
   "metadata": {
    "slideshow": {
     "slide_type": "slide"
    }
   },
   "source": [
    "## 1.1 Про несмещённость \n",
    "\n",
    "Первым свойством, которое мы обсудем, станет несмещённость. Начнём с определения. \n",
    "\n",
    "__Определение:__  Оценка $\\hat \\theta$ параметра $\\theta$ называется __несмещённой,__ если $E(\\hat \\theta) = \\theta$.\n",
    "\n",
    "Хорошо. А теперь попробуйте объяснить это бабушке простым языком. Слабо? "
   ]
  },
  {
   "cell_type": "markdown",
   "metadata": {
    "slideshow": {
     "slide_type": "skip"
    }
   },
   "source": [
    "Давайте попробуем разобраться вместе. Для этого нам предстоит отправиться в долину реки Лимпопо. В ней обитает племя аборигенов, которое охотится на мамонтов. Предположим, что процесс порождения данных создавал мамонтов в долине реки Лимпопо следующим образом: он сгерерировал 10 тысяч мамонтов со средним весом 300 кг и стандартным отклонением 100 кг. "
   ]
  },
  {
   "cell_type": "code",
   "execution_count": 1,
   "metadata": {
    "slideshow": {
     "slide_type": "slide"
    }
   },
   "outputs": [
    {
     "data": {
      "text/html": [
       "<ol class=list-inline>\n",
       "\t<li>282.78145938348</li>\n",
       "\t<li>435.73410441111</li>\n",
       "\t<li>398.651031774748</li>\n",
       "\t<li>352.332667099777</li>\n",
       "\t<li>320.100597212231</li>\n",
       "</ol>\n"
      ],
      "text/latex": [
       "\\begin{enumerate*}\n",
       "\\item 282.78145938348\n",
       "\\item 435.73410441111\n",
       "\\item 398.651031774748\n",
       "\\item 352.332667099777\n",
       "\\item 320.100597212231\n",
       "\\end{enumerate*}\n"
      ],
      "text/markdown": [
       "1. 282.78145938348\n",
       "2. 435.73410441111\n",
       "3. 398.651031774748\n",
       "4. 352.332667099777\n",
       "5. 320.100597212231\n",
       "\n",
       "\n"
      ],
      "text/plain": [
       "[1] 282.7815 435.7341 398.6510 352.3327 320.1006"
      ]
     },
     "metadata": {},
     "output_type": "display_data"
    }
   ],
   "source": [
    "x_mamont = rnorm(10^4, mean=300, sd=100) # вся генеральная совокупность \n",
    "x_mamont[1:5]"
   ]
  },
  {
   "cell_type": "markdown",
   "metadata": {
    "slideshow": {
     "slide_type": "skip"
    }
   },
   "source": [
    "Каждый день племя стабильно убивает одного мамонта. От среднего веса убитого мамонта зависит то насколько сильно племя будет голодать. Конечно же, аборигенам хотелось бы знать о добыче заранее. Для этого в племени держат трёх шаманов. Все три шамана живут на вершине одинокой горы, с которой стабильно видна сотня мамонтнов, случайно забредшая в долину реки Лимпопо. Все три шамана обладают ясным взором и могут определить вес мамонта с одного взгляда."
   ]
  },
  {
   "cell_type": "markdown",
   "metadata": {
    "slideshow": {
     "slide_type": "slide"
    }
   },
   "source": [
    "Шаман Одэхингум ([паблик вконтакте](https://vk.com/topic-29582719_26068566) говорит, что это переводится как лёгкое колебание воды) уверен в своём взоре и без толики сомнения каждый раз сообщает вождю, что вес мамонта, которого поймает племя будет \n",
    "\n",
    "$$ \\hat \\theta_{od} = \\frac{1}{n}\\sum_{i=1}^{n} x_i.$$\n"
   ]
  },
  {
   "cell_type": "markdown",
   "metadata": {
    "slideshow": {
     "slide_type": "slide"
    }
   },
   "source": [
    "Шаман Пэпина (что означает это имя, можно посмотреть в том же паблике) также обладает хорошим взором. Вместе с этим он обладает комплексом неполноценности. Он боится сделать слишком оптимистичный прогноз. Поэтому он считает среднее по сотне мамонтов и немного занижает его на волшебную константу\n",
    "\n",
    "$$ \\hat \\theta_{pe} = \\frac{1}{n}\\sum_{i=1}^{n} x_i - \\frac{4200}{n}.$$"
   ]
  },
  {
   "cell_type": "markdown",
   "metadata": {
    "slideshow": {
     "slide_type": "slide"
    }
   },
   "source": [
    "Шаман Апониви среди трёх шаманов больше всего не уверен в себе. Он сильнее всех коректирует свой прогноз\n",
    "\n",
    "$$ \\hat \\theta_{ap} = \\frac{1}{n}\\sum_{i=1}^{n} x_i - \\frac{5 \\cdot (n+1)}{n}.$$"
   ]
  },
  {
   "cell_type": "markdown",
   "metadata": {
    "slideshow": {
     "slide_type": "skip"
    }
   },
   "source": [
    "Итак, у нас есть три шамана-оценивателя. Давайте разбираться какими свойствами эти шаманы обладают. Посмотрим на истиный средний вес мамонтов по генеральной совокупности. "
   ]
  },
  {
   "cell_type": "code",
   "execution_count": 120,
   "metadata": {
    "slideshow": {
     "slide_type": "slide"
    }
   },
   "outputs": [
    {
     "data": {
      "text/html": [
       "299.355833595804"
      ],
      "text/latex": [
       "299.355833595804"
      ],
      "text/markdown": [
       "299.355833595804"
      ],
      "text/plain": [
       "[1] 299.3558"
      ]
     },
     "metadata": {},
     "output_type": "display_data"
    }
   ],
   "source": [
    "mean(x_mamont)"
   ]
  },
  {
   "cell_type": "markdown",
   "metadata": {
    "slideshow": {
     "slide_type": "skip"
    }
   },
   "source": [
    "Попробуем извлечь подвыборку из сотни мамонтов и посмотреть что будет происходить с ней. Ясное дело, раз на раз не приходится. Иногда вес мамонта оказыватся гораздо больше среднего. Иногда меньше."
   ]
  },
  {
   "cell_type": "code",
   "execution_count": 123,
   "metadata": {
    "slideshow": {
     "slide_type": "slide"
    }
   },
   "outputs": [
    {
     "data": {
      "text/html": [
       "297.03039521014"
      ],
      "text/latex": [
       "297.03039521014"
      ],
      "text/markdown": [
       "297.03039521014"
      ],
      "text/plain": [
       "[1] 297.0304"
      ]
     },
     "metadata": {},
     "output_type": "display_data"
    }
   ],
   "source": [
    "x_sample = sample(x_mamont, size = 100) \n",
    "\n",
    "mean(x_sample) # Раз на раз не приходится :3"
   ]
  },
  {
   "cell_type": "markdown",
   "metadata": {
    "slideshow": {
     "slide_type": "fragment"
    }
   },
   "source": [
    "Ну что-ж! Давайте оценивать веса мамонтов. Предположим, что шаманы работают на протяжении 200 дней. Давайте посмотрим насколько хорошо они в течение этого периода будут помогать вождю. "
   ]
  },
  {
   "cell_type": "code",
   "execution_count": 124,
   "metadata": {
    "slideshow": {
     "slide_type": "slide"
    }
   },
   "outputs": [],
   "source": [
    "th_od = rep(0,200)\n",
    "th_pe = rep(0,200)\n",
    "th_ap = rep(0,200)\n",
    "\n",
    "for(i in 1:200){\n",
    "    x_sample = sample(x_mamont, size = 100) \n",
    "    th_od[i] = mean(x_sample)\n",
    "    th_pe[i] = mean(x_sample) - 4200/100\n",
    "    th_ap[i] = mean(x_sample) - 5*(100+1)/100    \n",
    "}"
   ]
  },
  {
   "cell_type": "markdown",
   "metadata": {
    "slideshow": {
     "slide_type": "skip"
    }
   },
   "source": [
    "Одэхингум, пользуясь своей формулой в среднем будет угадывать математическое ожидание веса мамонта. Вождь ему за это может сказать только спасибо. Оценка оказывается несмещённой. "
   ]
  },
  {
   "cell_type": "code",
   "execution_count": 125,
   "metadata": {
    "slideshow": {
     "slide_type": "slide"
    }
   },
   "outputs": [
    {
     "data": {
      "text/html": [
       "298.954419700457"
      ],
      "text/latex": [
       "298.954419700457"
      ],
      "text/markdown": [
       "298.954419700457"
      ],
      "text/plain": [
       "[1] 298.9544"
      ]
     },
     "metadata": {},
     "output_type": "display_data"
    }
   ],
   "source": [
    "mean(th_od)"
   ]
  },
  {
   "cell_type": "markdown",
   "metadata": {
    "slideshow": {
     "slide_type": "skip"
    }
   },
   "source": [
    "Пэпина, используя свой подход будет очень сильно занижать вес. То есть, используя свою формулу для прогнозирования добычи охотников, шаман будет систематически ошибаться. Его оценка оказывается смещённой."
   ]
  },
  {
   "cell_type": "code",
   "execution_count": 126,
   "metadata": {
    "slideshow": {
     "slide_type": "fragment"
    }
   },
   "outputs": [
    {
     "data": {
      "text/html": [
       "256.954419700457"
      ],
      "text/latex": [
       "256.954419700457"
      ],
      "text/markdown": [
       "256.954419700457"
      ],
      "text/plain": [
       "[1] 256.9544"
      ]
     },
     "metadata": {},
     "output_type": "display_data"
    }
   ],
   "source": [
    "mean(th_pe)"
   ]
  },
  {
   "cell_type": "markdown",
   "metadata": {
    "slideshow": {
     "slide_type": "skip"
    }
   },
   "source": [
    "Оценка Апониви также окажется смещёной, но гораздо меньше. "
   ]
  },
  {
   "cell_type": "code",
   "execution_count": 127,
   "metadata": {
    "slideshow": {
     "slide_type": "fragment"
    }
   },
   "outputs": [
    {
     "data": {
      "text/html": [
       "293.904419700457"
      ],
      "text/latex": [
       "293.904419700457"
      ],
      "text/markdown": [
       "293.904419700457"
      ],
      "text/plain": [
       "[1] 293.9044"
      ]
     },
     "metadata": {},
     "output_type": "display_data"
    }
   ],
   "source": [
    "mean(th_ap)"
   ]
  },
  {
   "cell_type": "markdown",
   "metadata": {
    "slideshow": {
     "slide_type": "slide"
    }
   },
   "source": [
    "![](https://upload.wikimedia.org/wikipedia/commons/3/32/Densityvsbox.png)"
   ]
  },
  {
   "cell_type": "code",
   "execution_count": 135,
   "metadata": {
    "slideshow": {
     "slide_type": "slide"
    }
   },
   "outputs": [
    {
     "data": {
      "text/html": [
       "<table>\n",
       "<thead><tr><th scope=col>theta</th><th scope=col>who</th></tr></thead>\n",
       "<tbody>\n",
       "\t<tr><td>304.7187 </td><td>Odahingum</td></tr>\n",
       "\t<tr><td>298.1863 </td><td>Odahingum</td></tr>\n",
       "\t<tr><td>309.0638 </td><td>Odahingum</td></tr>\n",
       "\t<tr><td>312.8581 </td><td>Odahingum</td></tr>\n",
       "\t<tr><td>312.7131 </td><td>Odahingum</td></tr>\n",
       "</tbody>\n",
       "</table>\n"
      ],
      "text/latex": [
       "\\begin{tabular}{r|ll}\n",
       " theta & who\\\\\n",
       "\\hline\n",
       "\t 304.7187  & Odahingum\\\\\n",
       "\t 298.1863  & Odahingum\\\\\n",
       "\t 309.0638  & Odahingum\\\\\n",
       "\t 312.8581  & Odahingum\\\\\n",
       "\t 312.7131  & Odahingum\\\\\n",
       "\\end{tabular}\n"
      ],
      "text/markdown": [
       "\n",
       "| theta | who |\n",
       "|---|---|\n",
       "| 304.7187  | Odahingum |\n",
       "| 298.1863  | Odahingum |\n",
       "| 309.0638  | Odahingum |\n",
       "| 312.8581  | Odahingum |\n",
       "| 312.7131  | Odahingum |\n",
       "\n"
      ],
      "text/plain": [
       "  theta    who      \n",
       "1 304.7187 Odahingum\n",
       "2 298.1863 Odahingum\n",
       "3 309.0638 Odahingum\n",
       "4 312.8581 Odahingum\n",
       "5 312.7131 Odahingum"
      ]
     },
     "metadata": {},
     "output_type": "display_data"
    }
   ],
   "source": [
    "df = data.frame('theta' = c(th_od, th_pe, th_ap),\n",
    "                'who' = c(rep('Odahingum',200), rep('Pappina',200), rep('Opanovi',200)))\n",
    "head(df,5)"
   ]
  },
  {
   "cell_type": "code",
   "execution_count": 140,
   "metadata": {
    "scrolled": false,
    "slideshow": {
     "slide_type": "slide"
    }
   },
   "outputs": [
    {
     "data": {
      "image/png": "[encoded data removed]",
      "text/plain": [
       "plot without title"
      ]
     },
     "metadata": {},
     "output_type": "display_data"
    }
   ],
   "source": [
    "ggplot(df, aes(who, theta)) + geom_boxplot()"
   ]
  },
  {
   "cell_type": "markdown",
   "metadata": {
    "slideshow": {
     "slide_type": "skip"
    }
   },
   "source": [
    "Можно попробовать построить виолончель. Это то же самое, что и ящик с усами, но покрасивше. "
   ]
  },
  {
   "cell_type": "code",
   "execution_count": 141,
   "metadata": {
    "slideshow": {
     "slide_type": "slide"
    }
   },
   "outputs": [
    {
     "data": {
      "image/png": "[encoded data removed]",
      "text/plain": [
       "plot without title"
      ]
     },
     "metadata": {},
     "output_type": "display_data"
    }
   ],
   "source": [
    "ggplot(df, aes(who, theta)) + geom_violin()"
   ]
  },
  {
   "cell_type": "markdown",
   "metadata": {},
   "source": [
    "Что мы видим? Последний ящик с усами мдвинут довольно сильно вниз по отношению к остальным. Это и есть то самое смещение в оценивателе. Второй ящик сдвинулся вниз совсем малость. Если попробовать генерировать разное число наблюдений, можно увидеть как второй ящик постепенно двигается вверх. Третий при этом остаётся на месте. "
   ]
  },
  {
   "cell_type": "code",
   "execution_count": null,
   "metadata": {},
   "outputs": [],
   "source": []
  },
  {
   "cell_type": "markdown",
   "metadata": {},
   "source": [
    "Хех. Шаманы. Детский сад, скажите вы. Подавай нам что-нибудь из бизнеса. Окей, договорились. Давайте предположим, что шаманы прогнозируют не вес мамонта, а то на какую сумму в среднем будут наступать страховые случаи. Ясное дело, что наш  бюджет на статистические исследования довольно сильно ограничен. И ежедневно мы можем собирать информацию только от ограниченного числа респондентов. Если мы стабильно будем на основе этой информации получать смещённую оценку страхового покрытия, то вместо получения прибыли в среднем, мы легко можем оказаться банкротами. \n",
    "\n",
    "__Ещё раз, ещё раз:__ несмещённость это свойство оценки при фиксированном размере выборки $n$. Оно означает, что ошибка \"в среднем\", то есть при систематическом использовании оценки, отсутствует. Это довольно хорошее свойство, но не обязательное. Достаточно, чтобы смещение оценки уменьшалось с ростом объёма выборки. Такая оценка называется асимптотически несмещённой. "
   ]
  },
  {
   "cell_type": "markdown",
   "metadata": {},
   "source": [
    "## 1.2 Про состоятельность "
   ]
  },
  {
   "cell_type": "code",
   "execution_count": null,
   "metadata": {},
   "outputs": [],
   "source": []
  },
  {
   "cell_type": "markdown",
   "metadata": {
    "slideshow": {
     "slide_type": "skip"
    }
   },
   "source": [
    "## 1.3 Про оба свойства сразу\n",
    "\n",
    "Если оценка оказалась состоятельной, это не означает что она несмещённая. Эти два свойства независимы друг от друга и возможны самые разные их комбинации. Давайте попробуем взять случайную величину $X \\sim N(\\mu,1)$ и попробуем придумать такие оценки для параметра $\\mu$, которые будут обладать разными комбинациями из свойств. \n",
    "\n",
    "\n",
    "|  $\\hat \\mu$   |несмещённая          | смещённая             |\n",
    "|---------------|---------------------|-----------------------|\n",
    "|состоятельная  |                     |                       |\n",
    "|несостоятельная|                     |                       |\n",
    "\n",
    "* Несмещённая и состоятельная - среднее! По ЗБЧ сходится к $\\mu$ по вероятности. И с математическим ожиданием всё окей. Вы на лекциях тыщу раз считали. \n",
    "* Состоятельная и смещённая - скоректированное среднее. Это как раз оценка второго шамана. При больших $n$ поправка умирает, это обеспечивает состоятельность. При фиксированных $n$ она есть и это вносит систематическую ошибку. \n",
    "* Несостоятельная, несмещенная - любое наблюдение. Давайте какого бы объёма не оказалась наша выборка, всегда будем оценивать $\\mu$ только по первому наблюдению. Такая оценка окажется несмещённой. При этом она будет несостоятельной, так как мы при увеличении выборки никак не можем на неё повлиять. \n",
    "* Смещённая и несостоятельная - любая ересь, которая пришла вам в глову. Например $arctg(\\bar x)$. \n",
    "\n",
    "\n",
    "|  $\\hat \\mu$   |несмещённая          | смещённая             |\n",
    "|---------------|---------------------|-----------------------|\n",
    "|состоятельная  |        $\\bar x$     |   $\\bar x + ^1/_n$    |\n",
    "|несостоятельная|        $x_1$        |   $arctg(\\bar x)$     |\n"
   ]
  },
  {
   "cell_type": "markdown",
   "metadata": {
    "slideshow": {
     "slide_type": "skip"
    }
   },
   "source": [
    "Попробуем сделать то же самое с распределением $X \\sim U[0; a]$.\n",
    "\n",
    "|  $\\hat a  $   |несмещённая          | смещённая             |\n",
    "|---------------|---------------------|-----------------------|\n",
    "|состоятельная  |    $2 \\bar x$       |    $x_{max}    $      |\n",
    "|несостоятельная|     $2 x_1$         |    $x_1^{x_2} -8$     |\n"
   ]
  },
  {
   "cell_type": "markdown",
   "metadata": {},
   "source": [
    "## 1.4 С"
   ]
  },
  {
   "cell_type": "code",
   "execution_count": 78,
   "metadata": {},
   "outputs": [
    {
     "data": {
      "text/html": [
       "<ol class=list-inline>\n",
       "\t<li>10.3917164826122</li>\n",
       "\t<li>9.07086875363111</li>\n",
       "\t<li>14.0737323058215</li>\n",
       "\t<li>6.87737694999698</li>\n",
       "\t<li>6.84210901504744</li>\n",
       "</ol>\n"
      ],
      "text/latex": [
       "\\begin{enumerate*}\n",
       "\\item 10.3917164826122\n",
       "\\item 9.07086875363111\n",
       "\\item 14.0737323058215\n",
       "\\item 6.87737694999698\n",
       "\\item 6.84210901504744\n",
       "\\end{enumerate*}\n"
      ],
      "text/markdown": [
       "1. 10.3917164826122\n",
       "2. 9.07086875363111\n",
       "3. 14.0737323058215\n",
       "4. 6.87737694999698\n",
       "5. 6.84210901504744\n",
       "\n",
       "\n"
      ],
      "text/plain": [
       "[1] 10.391716  9.070869 14.073732  6.877377  6.842109"
      ]
     },
     "metadata": {},
     "output_type": "display_data"
    }
   ],
   "source": [
    "x_general = rnorm(10^4, mean=10, sd=3) # вся генеральная совокупность \n",
    "x_general[1:5]"
   ]
  },
  {
   "cell_type": "code",
   "execution_count": 79,
   "metadata": {},
   "outputs": [
    {
     "data": {
      "text/html": [
       "<table>\n",
       "<thead><tr><th scope=col>estimation</th><th scope=col>estimator</th></tr></thead>\n",
       "<tbody>\n",
       "\t<tr><td>11.302500  </td><td>estimator_1</td></tr>\n",
       "\t<tr><td>10.783764  </td><td>estimator_1</td></tr>\n",
       "\t<tr><td>10.551149  </td><td>estimator_1</td></tr>\n",
       "\t<tr><td> 9.720656  </td><td>estimator_1</td></tr>\n",
       "\t<tr><td> 9.320209  </td><td>estimator_1</td></tr>\n",
       "</tbody>\n",
       "</table>\n"
      ],
      "text/latex": [
       "\\begin{tabular}{r|ll}\n",
       " estimation & estimator\\\\\n",
       "\\hline\n",
       "\t 11.302500     & estimator\\_1\\\\\n",
       "\t 10.783764     & estimator\\_1\\\\\n",
       "\t 10.551149     & estimator\\_1\\\\\n",
       "\t  9.720656     & estimator\\_1\\\\\n",
       "\t  9.320209     & estimator\\_1\\\\\n",
       "\\end{tabular}\n"
      ],
      "text/markdown": [
       "\n",
       "| estimation | estimator |\n",
       "|---|---|\n",
       "| 11.302500   | estimator_1 |\n",
       "| 10.783764   | estimator_1 |\n",
       "| 10.551149   | estimator_1 |\n",
       "|  9.720656   | estimator_1 |\n",
       "|  9.320209   | estimator_1 |\n",
       "\n"
      ],
      "text/plain": [
       "  estimation estimator  \n",
       "1 11.302500  estimator_1\n",
       "2 10.783764  estimator_1\n",
       "3 10.551149  estimator_1\n",
       "4  9.720656  estimator_1\n",
       "5  9.320209  estimator_1"
      ]
     },
     "metadata": {},
     "output_type": "display_data"
    }
   ],
   "source": [
    "n_obs = 100\n",
    "estimation_1 = rep(0,n_obs)\n",
    "estimation_2 = rep(0,n_obs)\n",
    "\n",
    "n_sample = 10\n",
    "lambda = 15\n",
    "\n",
    "for(i in 1:n_obs){\n",
    "    x_sample = sample(x_general, size = n_sample) \n",
    "    estimation_1[i] = sum(x_sample)/n_sample\n",
    "    estimation_2[i] = sum(x_sample)/(n_sample + lambda)\n",
    "}\n",
    "\n",
    "df = data.frame(estimation =c(estimation_1, estimation_2),\n",
    "                estimator = c(rep('estimator_1',100),rep('estimator_2',100)))\n",
    "\n",
    "head(df,5)"
   ]
  },
  {
   "cell_type": "code",
   "execution_count": 80,
   "metadata": {},
   "outputs": [
    {
     "data": {
      "text/html": [
       "0.970739996874353"
      ],
      "text/latex": [
       "0.970739996874353"
      ],
      "text/markdown": [
       "0.970739996874353"
      ],
      "text/plain": [
       "[1] 0.97074"
      ]
     },
     "metadata": {},
     "output_type": "display_data"
    },
    {
     "data": {
      "text/html": [
       "0.155318399499896"
      ],
      "text/latex": [
       "0.155318399499896"
      ],
      "text/markdown": [
       "0.155318399499896"
      ],
      "text/plain": [
       "[1] 0.1553184"
      ]
     },
     "metadata": {},
     "output_type": "display_data"
    }
   ],
   "source": [
    "var(estimation_1)\n",
    "var(estimation_2)"
   ]
  },
  {
   "cell_type": "code",
   "execution_count": 81,
   "metadata": {},
   "outputs": [
    {
     "data": {
      "image/png": "[encoded data removed]",
      "text/plain": [
       "plot without title"
      ]
     },
     "metadata": {},
     "output_type": "display_data"
    }
   ],
   "source": [
    "ggplot(df, aes(estimator, estimation)) + geom_violin()"
   ]
  },
  {
   "cell_type": "code",
   "execution_count": 82,
   "metadata": {},
   "outputs": [
    {
     "data": {
      "image/png": "[encoded data removed]",
      "text/plain": [
       "plot without title"
      ]
     },
     "metadata": {},
     "output_type": "display_data"
    }
   ],
   "source": [
    "ggplot(df, aes(estimator, estimation)) + geom_boxplot()"
   ]
  },
  {
   "cell_type": "code",
   "execution_count": null,
   "metadata": {},
   "outputs": [],
   "source": []
  },
  {
   "cell_type": "code",
   "execution_count": null,
   "metadata": {},
   "outputs": [],
   "source": []
  }
 ],
 "metadata": {
  "celltoolbar": "Slideshow",
  "kernelspec": {
   "display_name": "R",
   "language": "R",
   "name": "ir"
  },
  "language_info": {
   "codemirror_mode": "r",
   "file_extension": ".r",
   "mimetype": "text/x-r-source",
   "name": "R",
   "pygments_lexer": "r",
   "version": "3.5.3"
  }
 },
 "nbformat": 4,
 "nbformat_minor": 2
}
