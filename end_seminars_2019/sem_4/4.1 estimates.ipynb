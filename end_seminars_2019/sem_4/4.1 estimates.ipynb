{
 "cells": [
  {
   "cell_type": "markdown",
   "metadata": {
    "slideshow": {
     "slide_type": "slide"
    }
   },
   "source": [
    "<center>\n",
    "<img src=\"https://st.kp.yandex.net/im/kadr/2/2/1/kinopoisk.ru-What-Women-Want-2219360.jpg\" width=\"350\"> \n",
    "\n",
    "\n",
    "# R для тервера и матстата\n",
    "## 4.1 Что хочет статистик?\n"
   ]
  },
  {
   "cell_type": "markdown",
   "metadata": {
    "slideshow": {
     "slide_type": "skip"
    }
   },
   "source": [
    "Данный ноутбук является конспектом по курсу «R для теории вероятностей и математической статистики» (РАНХиГС, 2019). Автор ноутбука - [вот этот парень по имени Филипп.](https://vk.com/ppilif) Если у вас для него есть деньги, слава или женщины, он от этого всего не откажется. Ноутбук распространяется на условиях лицензии [Creative Commons Attribution-Share Alike 4.0.](https://creativecommons.org/licenses/by-sa/4.0/) При использовании обязательно упоминание автора курса и аффилиации. При наличии технической возможности необходимо также указать активную гиперссылку на [страницу курса.](https://fulyankin.github.io/R_probability/) На ней можно найти другие материалы. Фрагменты кода, включенные в этот notebook, публикуются как [общественное достояние.](https://creativecommons.org/publicdomain/zero/1.0/)\n",
    "\n",
    "-------------------------------\n"
   ]
  },
  {
   "cell_type": "markdown",
   "metadata": {
    "slideshow": {
     "slide_type": "skip"
    }
   },
   "source": [
    "Двигаемся дальше. В прошлый раз мы поговорили про различные виды сходимости случайных величин. Обычно вы будете вспоминать про них в ситуациях, когда приходится говорить про различные статистические оценки и их свойства. Именно о них пойдёт речь в этой тетрадке. \n",
    "\n",
    "Каждый статистик хочет трёх вещей: несмещённости, состоятельности и эффективности. Однако одно дело хотеть этого,совершенно другое - понимать зачем ты этого хочешь. В первой части тетрадки мы попробуем понять зачем этого всего нужно хотеть и посмотреть на то как выглядят эти присловутые несмещённость, состоятельность и эффективность. "
   ]
  },
  {
   "cell_type": "code",
   "execution_count": 119,
   "metadata": {
    "slideshow": {
     "slide_type": "skip"
    }
   },
   "outputs": [],
   "source": [
    "library(\"ggplot2\")  # Пакет для красивых графиков \n",
    "library(\"grid\")     # Пакет для субплотов\n",
    "\n",
    "# Отрегулируем размер картинок, которые будут выдаваться в нашей тетрадке\n",
    "library('repr')\n",
    "options(repr.plot.width=4, repr.plot.height=3)"
   ]
  },
  {
   "cell_type": "markdown",
   "metadata": {
    "slideshow": {
     "slide_type": "slide"
    }
   },
   "source": [
    "# 1. Любой статистик хочет \n",
    "\n",
    "* Несмещённость \n",
    "* Состоятельность \n",
    "* Эффективность"
   ]
  },
  {
   "cell_type": "markdown",
   "metadata": {
    "slideshow": {
     "slide_type": "slide"
    }
   },
   "source": [
    "## 1.1 Про несмещённость \n",
    "\n",
    "Первым свойством, которое мы обсудем, станет несмещённость. Начнём с определения. \n",
    "\n",
    "__Определение:__  Оценка $\\hat \\theta$ параметра $\\theta$ называется __несмещённой,__ если $E(\\hat \\theta) = \\theta$.\n",
    "\n",
    "Хорошо. А теперь попробуйте объяснить это бабушке простым языком. Слабо? "
   ]
  },
  {
   "cell_type": "markdown",
   "metadata": {
    "slideshow": {
     "slide_type": "skip"
    }
   },
   "source": [
    "Давайте попробуем разобраться вместе. Для этого нам предстоит отправиться в долину реки Лимпопо. В ней обитает племя аборигенов, которое охотится на мамонтов. Предположим, что процесс порождения данных создавал мамонтов в долине реки Лимпопо следующим образом: он сгерерировал 10 тысяч мамонтов со средним весом 300 кг и стандартным отклонением 100 кг. "
   ]
  },
  {
   "cell_type": "code",
   "execution_count": 1,
   "metadata": {
    "slideshow": {
     "slide_type": "slide"
    }
   },
   "outputs": [
    {
     "data": {
      "text/html": [
       "<ol class=list-inline>\n",
       "\t<li>282.78145938348</li>\n",
       "\t<li>435.73410441111</li>\n",
       "\t<li>398.651031774748</li>\n",
       "\t<li>352.332667099777</li>\n",
       "\t<li>320.100597212231</li>\n",
       "</ol>\n"
      ],
      "text/latex": [
       "\\begin{enumerate*}\n",
       "\\item 282.78145938348\n",
       "\\item 435.73410441111\n",
       "\\item 398.651031774748\n",
       "\\item 352.332667099777\n",
       "\\item 320.100597212231\n",
       "\\end{enumerate*}\n"
      ],
      "text/markdown": [
       "1. 282.78145938348\n",
       "2. 435.73410441111\n",
       "3. 398.651031774748\n",
       "4. 352.332667099777\n",
       "5. 320.100597212231\n",
       "\n",
       "\n"
      ],
      "text/plain": [
       "[1] 282.7815 435.7341 398.6510 352.3327 320.1006"
      ]
     },
     "metadata": {},
     "output_type": "display_data"
    }
   ],
   "source": [
    "x_mamont = rnorm(10^4, mean=300, sd=100) # вся генеральная совокупность \n",
    "x_mamont[1:5]"
   ]
  },
  {
   "cell_type": "markdown",
   "metadata": {
    "slideshow": {
     "slide_type": "skip"
    }
   },
   "source": [
    "Каждый день племя стабильно убивает одного мамонта. От среднего веса убитого мамонта зависит то насколько сильно племя будет голодать. Конечно же, аборигенам хотелось бы знать о добыче заранее. Для этого в племени держат трёх шаманов. Все три шамана живут на вершине одинокой горы, с которой стабильно видна сотня мамонтнов, случайно забредшая в долину реки Лимпопо. Все три шамана обладают ясным взором и могут определить вес мамонта с одного взгляда."
   ]
  },
  {
   "cell_type": "markdown",
   "metadata": {
    "slideshow": {
     "slide_type": "slide"
    }
   },
   "source": [
    "Шаман Одэхингум ([паблик вконтакте](https://vk.com/topic-29582719_26068566) говорит, что это переводится как лёгкое колебание воды) уверен в своём взоре и без толики сомнения каждый раз сообщает вождю, что вес мамонта, которого поймает племя будет \n",
    "\n",
    "$$ \\hat \\theta_{od} = \\frac{1}{n}\\sum_{i=1}^{n} x_i.$$\n"
   ]
  },
  {
   "cell_type": "markdown",
   "metadata": {
    "slideshow": {
     "slide_type": "slide"
    }
   },
   "source": [
    "Шаман Пэпина (что означает это имя, можно посмотреть в том же паблике) также обладает хорошим взором. Вместе с этим он обладает комплексом неполноценности. Он боится сделать слишком оптимистичный прогноз. Поэтому он считает среднее по сотне мамонтов и немного занижает его на волшебную константу\n",
    "\n",
    "$$ \\hat \\theta_{pe} = \\frac{1}{n}\\sum_{i=1}^{n} x_i - \\frac{4200}{n}.$$"
   ]
  },
  {
   "cell_type": "markdown",
   "metadata": {
    "slideshow": {
     "slide_type": "slide"
    }
   },
   "source": [
    "Шаман Апониви среди трёх шаманов больше всего не уверен в себе. Он сильнее всех коректирует свой прогноз\n",
    "\n",
    "$$ \\hat \\theta_{ap} = \\frac{1}{n}\\sum_{i=1}^{n} x_i - \\frac{5 \\cdot (n+1)}{n}.$$"
   ]
  },
  {
   "cell_type": "markdown",
   "metadata": {
    "slideshow": {
     "slide_type": "skip"
    }
   },
   "source": [
    "Итак, у нас есть три шамана-оценивателя. Давайте разбираться какими свойствами эти шаманы обладают. Посмотрим на истиный средний вес мамонтов по генеральной совокупности. "
   ]
  },
  {
   "cell_type": "code",
   "execution_count": 120,
   "metadata": {
    "slideshow": {
     "slide_type": "slide"
    }
   },
   "outputs": [
    {
     "data": {
      "text/html": [
       "299.355833595804"
      ],
      "text/latex": [
       "299.355833595804"
      ],
      "text/markdown": [
       "299.355833595804"
      ],
      "text/plain": [
       "[1] 299.3558"
      ]
     },
     "metadata": {},
     "output_type": "display_data"
    }
   ],
   "source": [
    "mean(x_mamont)"
   ]
  },
  {
   "cell_type": "markdown",
   "metadata": {
    "slideshow": {
     "slide_type": "skip"
    }
   },
   "source": [
    "Попробуем извлечь подвыборку из сотни мамонтов и посмотреть что будет происходить с ней. Ясное дело, раз на раз не приходится. Иногда вес мамонта оказыватся гораздо больше среднего. Иногда меньше."
   ]
  },
  {
   "cell_type": "code",
   "execution_count": 123,
   "metadata": {
    "slideshow": {
     "slide_type": "slide"
    }
   },
   "outputs": [
    {
     "data": {
      "text/html": [
       "297.03039521014"
      ],
      "text/latex": [
       "297.03039521014"
      ],
      "text/markdown": [
       "297.03039521014"
      ],
      "text/plain": [
       "[1] 297.0304"
      ]
     },
     "metadata": {},
     "output_type": "display_data"
    }
   ],
   "source": [
    "x_sample = sample(x_mamont, size = 100) \n",
    "\n",
    "mean(x_sample) # Раз на раз не приходится :3"
   ]
  },
  {
   "cell_type": "markdown",
   "metadata": {
    "slideshow": {
     "slide_type": "fragment"
    }
   },
   "source": [
    "Ну что-ж! Давайте оценивать веса мамонтов. Предположим, что шаманы работают на протяжении 200 дней. Давайте посмотрим насколько хорошо они в течение этого периода будут помогать вождю. "
   ]
  },
  {
   "cell_type": "code",
   "execution_count": 124,
   "metadata": {
    "slideshow": {
     "slide_type": "slide"
    }
   },
   "outputs": [],
   "source": [
    "th_od = rep(0,200)\n",
    "th_pe = rep(0,200)\n",
    "th_ap = rep(0,200)\n",
    "\n",
    "for(i in 1:200){\n",
    "    x_sample = sample(x_mamont, size = 100) \n",
    "    th_od[i] = mean(x_sample)\n",
    "    th_pe[i] = mean(x_sample) - 4200/100\n",
    "    th_ap[i] = mean(x_sample) - 5*(100+1)/100    \n",
    "}"
   ]
  },
  {
   "cell_type": "markdown",
   "metadata": {
    "slideshow": {
     "slide_type": "skip"
    }
   },
   "source": [
    "Одэхингум, пользуясь своей формулой в среднем будет угадывать математическое ожидание веса мамонта. Вождь ему за это может сказать только спасибо. Оценка оказывается несмещённой. "
   ]
  },
  {
   "cell_type": "code",
   "execution_count": 125,
   "metadata": {
    "slideshow": {
     "slide_type": "slide"
    }
   },
   "outputs": [
    {
     "data": {
      "text/html": [
       "298.954419700457"
      ],
      "text/latex": [
       "298.954419700457"
      ],
      "text/markdown": [
       "298.954419700457"
      ],
      "text/plain": [
       "[1] 298.9544"
      ]
     },
     "metadata": {},
     "output_type": "display_data"
    }
   ],
   "source": [
    "mean(th_od)"
   ]
  },
  {
   "cell_type": "markdown",
   "metadata": {
    "slideshow": {
     "slide_type": "skip"
    }
   },
   "source": [
    "Пэпина, используя свой подход будет очень сильно занижать вес. То есть, используя свою формулу для прогнозирования добычи охотников, шаман будет систематически ошибаться. Его оценка оказывается смещённой."
   ]
  },
  {
   "cell_type": "code",
   "execution_count": 126,
   "metadata": {
    "slideshow": {
     "slide_type": "fragment"
    }
   },
   "outputs": [
    {
     "data": {
      "text/html": [
       "256.954419700457"
      ],
      "text/latex": [
       "256.954419700457"
      ],
      "text/markdown": [
       "256.954419700457"
      ],
      "text/plain": [
       "[1] 256.9544"
      ]
     },
     "metadata": {},
     "output_type": "display_data"
    }
   ],
   "source": [
    "mean(th_pe)"
   ]
  },
  {
   "cell_type": "markdown",
   "metadata": {
    "slideshow": {
     "slide_type": "skip"
    }
   },
   "source": [
    "Оценка Апониви также окажется смещёной, но гораздо меньше. "
   ]
  },
  {
   "cell_type": "code",
   "execution_count": 127,
   "metadata": {
    "slideshow": {
     "slide_type": "fragment"
    }
   },
   "outputs": [
    {
     "data": {
      "text/html": [
       "293.904419700457"
      ],
      "text/latex": [
       "293.904419700457"
      ],
      "text/markdown": [
       "293.904419700457"
      ],
      "text/plain": [
       "[1] 293.9044"
      ]
     },
     "metadata": {},
     "output_type": "display_data"
    }
   ],
   "source": [
    "mean(th_ap)"
   ]
  },
  {
   "cell_type": "markdown",
   "metadata": {
    "slideshow": {
     "slide_type": "slide"
    }
   },
   "source": [
    "![](https://upload.wikimedia.org/wikipedia/commons/3/32/Densityvsbox.png)"
   ]
  },
  {
   "cell_type": "code",
   "execution_count": 135,
   "metadata": {
    "slideshow": {
     "slide_type": "slide"
    }
   },
   "outputs": [
    {
     "data": {
      "text/html": [
       "<table>\n",
       "<thead><tr><th scope=col>theta</th><th scope=col>who</th></tr></thead>\n",
       "<tbody>\n",
       "\t<tr><td>304.7187 </td><td>Odahingum</td></tr>\n",
       "\t<tr><td>298.1863 </td><td>Odahingum</td></tr>\n",
       "\t<tr><td>309.0638 </td><td>Odahingum</td></tr>\n",
       "\t<tr><td>312.8581 </td><td>Odahingum</td></tr>\n",
       "\t<tr><td>312.7131 </td><td>Odahingum</td></tr>\n",
       "</tbody>\n",
       "</table>\n"
      ],
      "text/latex": [
       "\\begin{tabular}{r|ll}\n",
       " theta & who\\\\\n",
       "\\hline\n",
       "\t 304.7187  & Odahingum\\\\\n",
       "\t 298.1863  & Odahingum\\\\\n",
       "\t 309.0638  & Odahingum\\\\\n",
       "\t 312.8581  & Odahingum\\\\\n",
       "\t 312.7131  & Odahingum\\\\\n",
       "\\end{tabular}\n"
      ],
      "text/markdown": [
       "\n",
       "| theta | who |\n",
       "|---|---|\n",
       "| 304.7187  | Odahingum |\n",
       "| 298.1863  | Odahingum |\n",
       "| 309.0638  | Odahingum |\n",
       "| 312.8581  | Odahingum |\n",
       "| 312.7131  | Odahingum |\n",
       "\n"
      ],
      "text/plain": [
       "  theta    who      \n",
       "1 304.7187 Odahingum\n",
       "2 298.1863 Odahingum\n",
       "3 309.0638 Odahingum\n",
       "4 312.8581 Odahingum\n",
       "5 312.7131 Odahingum"
      ]
     },
     "metadata": {},
     "output_type": "display_data"
    }
   ],
   "source": [
    "df = data.frame('theta' = c(th_od, th_pe, th_ap),\n",
    "                'who' = c(rep('Odahingum',200), rep('Pappina',200), rep('Opanovi',200)))\n",
    "head(df,5)"
   ]
  },
  {
   "cell_type": "code",
   "execution_count": 140,
   "metadata": {
    "scrolled": false,
    "slideshow": {
     "slide_type": "slide"
    }
   },
   "outputs": [
    {
     "data": {
      "image/png": "[encoded data removed]",
      "text/plain": [
       "plot without title"
      ]
     },
     "metadata": {},
     "output_type": "display_data"
    }
   ],
   "source": [
    "ggplot(df, aes(who, theta)) + geom_boxplot()"
   ]
  },
  {
   "cell_type": "markdown",
   "metadata": {
    "slideshow": {
     "slide_type": "skip"
    }
   },
   "source": [
    "Можно попробовать построить виолончель. Это то же самое, что и ящик с усами, но покрасивше. "
   ]
  },
  {
   "cell_type": "code",
   "execution_count": 141,
   "metadata": {
    "slideshow": {
     "slide_type": "slide"
    }
   },
   "outputs": [
    {
     "data": {
      "image/png": "[encoded data removed]",
      "text/plain": [
       "plot without title"
      ]
     },
     "metadata": {},
     "output_type": "display_data"
    }
   ],
   "source": [
    "ggplot(df, aes(who, theta)) + geom_violin()"
   ]
  },
  {
   "cell_type": "markdown",
   "metadata": {
    "slideshow": {
     "slide_type": "skip"
    }
   },
   "source": [
    "Что мы видим? Последний ящик с усами мдвинут довольно сильно вниз по отношению к остальным. Это и есть то самое смещение в оценивателе. Второй ящик сдвинулся вниз совсем малость. \n",
    "\n",
    "Давайте попробуем посмотреть как ведут себя распределения оценок шамонов в динамике, при росте числа наблюдений."
   ]
  },
  {
   "cell_type": "markdown",
   "metadata": {
    "slideshow": {
     "slide_type": "skip"
    }
   },
   "source": [
    "<center>\n",
    "<img src=\"https://raw.githubusercontent.com/FUlyankin/r_probability/master/end_seminars_2019/gif_creator/animation_boxplot.gif\" width=\"500\"> \n",
    "</center>"
   ]
  },
  {
   "cell_type": "markdown",
   "metadata": {
    "slideshow": {
     "slide_type": "skip"
    }
   },
   "source": [
    "Что мы видим? \n",
    "\n",
    "* Красный ящик соответствует несмещённому оценивателю. \n",
    "\n",
    "\n",
    "$$ \\hat \\theta_{od} = \\frac{1}{n}\\sum_{i=1}^{n} x_i.$$\n",
    "\n",
    "Он остаётся в районе $300$, то есть в районе реального среднего значения. Дисперсия оценки при росте числа наблюдений падает и ящик сжимается. Это обычное адекватное поведение оценки. \n",
    "\n",
    "* Синий ящик соответствет асимптотически несмещенной оценке.\n",
    "\n",
    "$$ \\hat \\theta_{pe} = \\frac{1}{n}\\sum_{i=1}^{n} x_i - \\frac{4200}{n}.$$\n",
    "\n",
    "В нём есть константа, на которую шаман коректирует свой прогноз. Чем больше наблюдений оказалось под взором шамана, тем сильнее он уверен в своём предсказании и тем сильнее он уменьшает коректировку. Такая оценка при маленьком числе наблюдений даёт довольно сильное смещение. При росте $n$ смещение уменьшается. На картинке это вырожается в том, что синий ящик постепенно движется вправо, к реальному среднему и положению аналогичному красному ящику. \n",
    "\n",
    "* Лиловый ящик соотвествует смещённой оценке. \n",
    "\n",
    "$$ \\hat \\theta_{ap} = \\frac{1}{n}\\sum_{i=1}^{n} x_i - \\frac{5 \\cdot (n+1)}{n}.$$\n",
    "\n",
    "Из-за корекции, ящик всегда находится немного левее истиного значения. Мы ошибаемся в этой ситуации при любом числе наблюдений."
   ]
  },
  {
   "cell_type": "markdown",
   "metadata": {
    "slideshow": {
     "slide_type": "skip"
    }
   },
   "source": [
    "Хех. Шаманы. Детский сад, скажите вы. Подавай нам что-нибудь из бизнеса. Окей, договорились. Давайте предположим, что шаманы прогнозируют не вес мамонта, а то на какую сумму в среднем будут наступать страховые случаи. Ясное дело, что наш  бюджет на статистические исследования довольно сильно ограничен. И ежедневно мы можем собирать информацию только от ограниченного числа респондентов. Если мы стабильно будем на основе этой информации получать смещённую оценку страхового покрытия, то вместо получения прибыли в среднем, мы легко можем оказаться банкротами. \n",
    "\n",
    "__Ещё раз, ещё раз:__ несмещённость это свойство оценки при фиксированном размере выборки $n$. Оно означает, что ошибка \"в среднем\", то есть при систематическом использовании оценки, отсутствует. Это довольно хорошее свойство, но не обязательное. Достаточно, чтобы смещение оценки уменьшалось с ростом объёма выборки. Такая оценка называется асимптотически несмещённой. "
   ]
  },
  {
   "cell_type": "markdown",
   "metadata": {
    "slideshow": {
     "slide_type": "skip"
    }
   },
   "source": [
    "## 1.2 Про состоятельность \n",
    "\n",
    "Второй свойство это состоятельность! \n",
    "\n",
    "__Определение:__  Оценка $\\hat \\theta$ параметра $\\theta$ называется __состоятельной,__ если $\\hat \\theta \\to \\theta$ по вероятности при росте $n$. \n",
    "\n",
    "Это бабушке объяснить попроще. Давайте посмотрим что будет происходить при увеличении высоты горы с нашими шаманами. Чем выше гора, тем больше мамонтов с неё видно. Пусть первые $200$ дней шаманы видят по $100$ мамонтов, вторые $200$ дней по $200$ мамонтов и так до $10000$. Давайте посмотрим что будет происходить с их ошибками."
   ]
  },
  {
   "cell_type": "code",
   "execution_count": 142,
   "metadata": {
    "slideshow": {
     "slide_type": "skip"
    }
   },
   "outputs": [],
   "source": [
    "# Пусть число мамонтов растёт от 100 до 10000\n",
    "# Посмотрим какую среднюю ошибку будет совершать в таком случае каждый шаман \n",
    "\n",
    "th_od_c = rep(0,100)\n",
    "th_pe_c = rep(0,100)\n",
    "th_ap_c = rep(0,100)\n",
    "\n",
    "for(j in seq(100,10000,100)){\n",
    "    \n",
    "    # пусть каждое число мамонтов наблюдается по 200 дней\n",
    "    # тогда мы сможем смотреть на среднюю ошибку при каждой численности\n",
    "    th_od = rep(0,200)\n",
    "    th_pe = rep(0,200)\n",
    "    th_ap = rep(0,200)\n",
    "\n",
    "    for(i in 1:200){\n",
    "        x_sample = sample(x_mamont, size = j) \n",
    "        th_od[i] = mean(x_sample)\n",
    "        th_pe[i] = mean(x_sample) - 4200/j\n",
    "        th_ap[i] = mean(x_sample) - 5*(j+1)/j    \n",
    "    }\n",
    "    \n",
    "    # смотрим на среднюю ошибку в течение 200 дней\n",
    "    th_od_c[j/100] = mean(th_od)\n",
    "    th_pe_c[j/100] = mean(th_pe)\n",
    "    th_ap_c[j/100] = mean(th_ap)\n",
    "}"
   ]
  },
  {
   "cell_type": "markdown",
   "metadata": {
    "slideshow": {
     "slide_type": "skip"
    }
   },
   "source": [
    "Ошибка первого шамана в среднем никак не меняется. Он продолжает в среднем попадать в средний вес мамомнтов. Дисперсия оценки падает с увеличением числа наблюдений. Если вы добросовестно изучали предыдущие блокноты, то у вас сейчас во всю флэшбэчит на сходимость по вероятности. Да, это именно она. Эта оценка состоятельна. \n",
    "\n",
    "\n",
    "$$ \\hat \\theta_{od} = \\frac{1}{n}\\sum_{i=1}^{n} x_i \\to \\theta $$\n",
    "\n"
   ]
  },
  {
   "cell_type": "code",
   "execution_count": 143,
   "metadata": {
    "slideshow": {
     "slide_type": "skip"
    }
   },
   "outputs": [
    {
     "data": {
      "image/png": "[encoded data removed]",
      "text/plain": [
       "plot without title"
      ]
     },
     "metadata": {},
     "output_type": "display_data"
    }
   ],
   "source": [
    "qplot(seq(100,10000,100), th_od_c, geom='line')"
   ]
  },
  {
   "cell_type": "markdown",
   "metadata": {
    "slideshow": {
     "slide_type": "skip"
    }
   },
   "source": [
    "У второго шамана аналогичная ситуация. Поправка при $n \\to \\infty$ схлопывается в ноль, а оценка сходится по вероятности к истиному параметру\n",
    "\n",
    "$$ \\hat \\theta_{pe} = \\frac{1}{n}\\sum_{i=1}^{n} x_i - \\frac{4200}{n} \\to \\theta.$$\n",
    "\n",
    "Обратите внимание, что с движением $n$ к бесконечности поправка падает. Это означает, что при большом числе мамонтов, систематическая ошибка шамана будет маленькой. Такие оценки называются асимптотически несмещёнными. "
   ]
  },
  {
   "cell_type": "code",
   "execution_count": 144,
   "metadata": {
    "slideshow": {
     "slide_type": "skip"
    }
   },
   "outputs": [
    {
     "data": {
      "image/png": "[encoded data removed]",
      "text/plain": [
       "plot without title"
      ]
     },
     "metadata": {},
     "output_type": "display_data"
    }
   ],
   "source": [
    "qplot(seq(100,10000,100), th_pe_c, geom='line')"
   ]
  },
  {
   "cell_type": "markdown",
   "metadata": {
    "slideshow": {
     "slide_type": "skip"
    }
   },
   "source": [
    "Самые большие проблемы у третьего шамана. Из-за его поправки оценка сходится, но не туда куда надо. При $n \\to \\infty$ мы приходим не к истиному значению параметра, а в другую точку \n",
    "\n",
    "$$ \\hat \\theta_{ap} = \\frac{1}{n}\\sum_{i=1}^{n} x_i - \\frac{5 \\cdot (n+1)}{n} \\to \\theta - 5.$$\n",
    "\n",
    "Мало того, что оценка смещена, так ещё и нет смысла расширять выборку. "
   ]
  },
  {
   "cell_type": "code",
   "execution_count": 145,
   "metadata": {
    "slideshow": {
     "slide_type": "skip"
    }
   },
   "outputs": [
    {
     "data": {
      "image/png": "[encoded data removed]",
      "text/plain": [
       "plot without title"
      ]
     },
     "metadata": {},
     "output_type": "display_data"
    }
   ],
   "source": [
    "qplot(seq(100,10000,100), th_ap_c, geom='line')"
   ]
  },
  {
   "cell_type": "markdown",
   "metadata": {
    "slideshow": {
     "slide_type": "skip"
    }
   },
   "source": [
    "__Ещё раз, ещё раз:__ нельзя путать состоятельности и несмещённость. Состоятельность означает, что мы при расширении выборки приходим к истине. Несмещённость, что мы при фиксированном размере выборке в среднем не ошибаемся. Состоятельность это то свойство оценки, за которое стоит бороться. Без этого свойства нет никакого смысла использовать оценку. "
   ]
  },
  {
   "cell_type": "markdown",
   "metadata": {
    "slideshow": {
     "slide_type": "skip"
    }
   },
   "source": [
    "## 1.3 Про оба свойства сразу\n",
    "\n",
    "Если оценка оказалась состоятельной, это не означает что она несмещённая. Эти два свойства независимы друг от друга и возможны самые разные их комбинации. Давайте попробуем взять случайную величину $X \\sim N(\\mu,1)$ и попробуем придумать такие оценки для параметра $\\mu$, которые будут обладать разными комбинациями из свойств. \n",
    "\n",
    "\n",
    "|  $\\hat \\mu$   |несмещённая          | смещённая             |\n",
    "|---------------|---------------------|-----------------------|\n",
    "|состоятельная  |                     |                       |\n",
    "|несостоятельная|                     |                       |\n",
    "\n",
    "* Несмещённая и состоятельная - среднее! По ЗБЧ сходится к $\\mu$ по вероятности. И с математическим ожиданием всё окей. Вы на лекциях тыщу раз считали. \n",
    "* Состоятельная и смещённая - скоректированное среднее. Это как раз оценка второго шамана. При больших $n$ поправка умирает, это обеспечивает состоятельность. При фиксированных $n$ она есть и это вносит систематическую ошибку. \n",
    "* Несостоятельная, несмещенная - любое наблюдение. Давайте какого бы объёма не оказалась наша выборка, всегда будем оценивать $\\mu$ только по первому наблюдению. Такая оценка окажется несмещённой. При этом она будет несостоятельной, так как мы при увеличении выборки никак не можем на неё повлиять. \n",
    "* Смещённая и несостоятельная - любая ересь, которая пришла вам в глову. Например $arctg(\\bar x)$. \n",
    "\n",
    "\n",
    "|  $\\hat \\mu$   |несмещённая          | смещённая             |\n",
    "|---------------|---------------------|-----------------------|\n",
    "|состоятельная  |        $\\bar x$     |   $\\bar x + ^1/_n$    |\n",
    "|несостоятельная|        $x_1$        |   $arctg(\\bar x)$     |\n"
   ]
  },
  {
   "cell_type": "markdown",
   "metadata": {
    "slideshow": {
     "slide_type": "skip"
    }
   },
   "source": [
    "Попробуем сделать то же самое с распределением $X \\sim U[0; a]$.\n",
    "\n",
    "|  $\\hat a  $   |несмещённая          | смещённая             |\n",
    "|---------------|---------------------|-----------------------|\n",
    "|состоятельная  |    $2 \\bar x$       |    $x_{max}    $      |\n",
    "|несостоятельная|     $2 x_1$         |    $x_1^{x_2} -8$     |\n"
   ]
  },
  {
   "cell_type": "markdown",
   "metadata": {
    "slideshow": {
     "slide_type": "skip"
    }
   },
   "source": [
    "## 1.4 Достаточное условие Чебышёва\n",
    "\n",
    "__Теорема:__ Если оценка $\\hat \\theta$ несмещенная и её дисперсия $Var(\\hat \\theta) \\to 0$ при увеличении выборки, то эта оценка состоятельная.  \n",
    "\n",
    "Хочу ещё раз подчеркнуть ваше внимание, что это работает только тогда, когда оценка несмещённая. Например, для третьего шамана, дисперсия оценки падает при $n \\to \\infty$, но из-за смещения оценка сходится не к истине, а к истине минус пять. "
   ]
  },
  {
   "cell_type": "markdown",
   "metadata": {
    "slideshow": {
     "slide_type": "slide"
    }
   },
   "source": [
    "# 2. Кексы про выборку "
   ]
  },
  {
   "cell_type": "markdown",
   "metadata": {
    "slideshow": {
     "slide_type": "skip"
    }
   },
   "source": [
    "Иногда бывают ситуации, когда мы с теоретической точки зрения хорошо подобрали оцениватели, но при этом наши оценки всё равно обладают плохими свойствами. Такое происходит, когда мы не очень внимательно относимся к предпосылкам. Например, большая часть оценок хорошо работает только при репрезентативной, случайной, выборке. Если мы будем собирать её не очень случайно, то оценки перестанут быть хорошими. \n",
    "\n",
    "В этом разделе находится пара кексов, связанных с выборкой. Если вы раньше никогда не встречались с этими кексами, подумайте самостоятельно пару минут над тем что было сделано не так, и только потом читайте ответ."
   ]
  },
  {
   "cell_type": "markdown",
   "metadata": {
    "slideshow": {
     "slide_type": "slide"
    }
   },
   "source": [
    "## Первый кекс"
   ]
  },
  {
   "cell_type": "markdown",
   "metadata": {
    "slideshow": {
     "slide_type": "skip"
    }
   },
   "source": [
    "__Проблема:__ В Америке был интересный казус, когда журнал \"Литерари Дайджест\" опросил аж 10 миллионов человек насчёт выборов президента. Это огросное количество респондентов: для достоверной статистики хватило бы 2-3 тысячи правильно собранных овтетов. Журнал предсказал победу ресупбликанцу Альфу Лэндону со значительным перевесом (60 на 40), а выборы выиграл демократ Франклин Рузвельт - как раз с таким же перевесом, но в обратную сторону. Как думаете, почему? \n",
    "\n",
    "\n",
    "__Ответ:__ Когда стали разбираться, как же так, выяснилось, что выборка нерепрезентативна, большинство подписчиков журнала были республиканцами, а в попытке сгладить это несоответсвие журнал рассылал бюллетени по телефонным книгам. Но не учел забавного факта: телефоны были доступны только среднему и высшему классу общества, а это были, в основном, республиканцы. Выборка оказалась смещённой и оценки, получившиеся на выходе не обладали хорошими свойствами. "
   ]
  },
  {
   "cell_type": "markdown",
   "metadata": {
    "slideshow": {
     "slide_type": "fragment"
    }
   },
   "source": [
    "* Выбор! Журнал «Литерари Дайджест» опросил $10$ млн. человек \n",
    "* Предсказал победу республиканцу Альфу Лэндону($60$ на $40$)\n",
    "* Выборы выиграл демократ Франклин Рузвельт (как раз с таким же перевесом, но в обратную сторону)\n",
    "* Как думаете, почему?\n",
    "\n",
    "<center> \n",
    "<img src=\"https://odysseyonline-img.rbl.ms/simage/https%3A%2F%2Faz616578.vo.msecnd.net%2Ffiles%2F2016%2F09%2F12%2F636093062941659772-1250537044_tumblr_nkr8qtg0XA1rlo1q2o1_1280.jpg/2000%2C2000/%2Fw0p1yvcB3gtK%2FFy/img.jpg\"  width=\"650\"> "
   ]
  },
  {
   "cell_type": "markdown",
   "metadata": {
    "slideshow": {
     "slide_type": "slide"
    }
   },
   "source": [
    "## Второй кекс "
   ]
  },
  {
   "cell_type": "markdown",
   "metadata": {
    "slideshow": {
     "slide_type": "fragment"
    }
   },
   "source": [
    "* Часто вконтакте можно увидеть такие посты\n",
    "\n",
    "<center>\n",
    "<img src=\"https://raw.githubusercontent.com/FUlyankin/r_probability/master/end_seminars/sem_4/research.png\" width=\"550\">\n",
    "</center>\n",
    "\n",
    "* Как считаете, какие проблемы возникнут у исследователя с выборкой? Удастся ли ему получить хорошие оценки? \n"
   ]
  },
  {
   "cell_type": "markdown",
   "metadata": {
    "slideshow": {
     "slide_type": "skip"
    }
   },
   "source": [
    "\n",
    "__Ответ:__ Возникает штука, которая называется проблема самоотрбора. Анкету, которая вывешена таким образом, заполнит далеко не каждый человек. Полученная в конечном итоге выборка не будет случайной. Она охватит лишь какой-то конкретный сегмент друзей пользователя. \n",
    "\n",
    "Более того, заполнение анкеты может само по себе зависеть от какой-то скрытой переменной. Это приведёт к смещённым и несостоятельным результатам даже если удастся выйти за круг друзей и добиться случайного заполнения анкеты. Например, в данном случае  маловероятно, что люди с высокой зарплатой решат потратить своё время на заполнение подобной анкеты. Их время слишком дорого стоит. Анкету в основном заполнят безработные студенты, залипающие вконтакте. В конечном итоге, имея в выборке мало примеров людей с высокой зарплптой, мы будем исследовать не совсем то явление, которое собирались исследовать в начале и сделаем некоректные выводы. "
   ]
  },
  {
   "cell_type": "markdown",
   "metadata": {
    "slideshow": {
     "slide_type": "slide"
    }
   },
   "source": [
    "## Третий кекс "
   ]
  },
  {
   "cell_type": "markdown",
   "metadata": {
    "slideshow": {
     "slide_type": "fragment"
    }
   },
   "source": [
    "* Фермер хочет оценить урожайность пшеницы от количества внесённых удобрений. Для этого он проводит эксперимент по выращиванию пшеницы. Он делит поле на две части. На правую он вносит удобрения, на левую нет. Как думаете, у него получится адекватно оценить влияние удобрений на урожайность?\n",
    "\n",
    "<center>\n",
    "<img src=\"https://abbiewatchesstuff.files.wordpress.com/2014/11/interstellar_movie_still_2.jpg\" width=\"550\">\n",
    "</center>"
   ]
  },
  {
   "cell_type": "markdown",
   "metadata": {
    "slideshow": {
     "slide_type": "skip"
    }
   },
   "source": [
    "__Ответ:__  Снова выборка делается неслучайно. Мы можем столкнуться с ситуацией, когда правая часть поля более солнечная, чем левая. И тогда справа растения будут хорошими, а на левой нет. Мы, при этом спишем это на успешное использование удобрений, хотя на самом деле удобрения тут были ни при чём. Исследуемые нами переменные могут легко зависеть от какой-нибудь третьей переменной. Из-за этого оценки могут получиться плохими. При дизайне эксперимента надо стремиться предусмотреть такие ситуации и избежать их. Например, в случае фермера, надо рандомизировать использование удобрения на поле. Те кусты, где оно было использовано, можно пометить ленточкой, чтобы не забыть. "
   ]
  },
  {
   "cell_type": "markdown",
   "metadata": {
    "slideshow": {
     "slide_type": "slide"
    }
   },
   "source": [
    "## Четвёртый кекс"
   ]
  },
  {
   "cell_type": "markdown",
   "metadata": {
    "slideshow": {
     "slide_type": "fragment"
    }
   },
   "source": [
    "Во время Второй Мировой войны американские военные собрали статистику попаданий пуль в фюзеляж самолёта. По самолётам, вернувшимся из полёта на базу, была составлена карта повреждений среднестатистического самолёта. С этими данными военные обратились к статистику Абрахаму Вальду с вопросом, в каких местах следует увеличить броню самолёта.\n",
    "Что посоветовал Абрахам Вальд и почему?\n",
    "\n",
    "<br>\n",
    "\n",
    "<center>\n",
    "<img src=\"https://www.navolne.life/images/post/352600-1513406705.jpg\" width=\"300\">\n",
    "</center>"
   ]
  },
  {
   "cell_type": "markdown",
   "metadata": {
    "slideshow": {
     "slide_type": "skip"
    }
   },
   "source": [
    "__Ответ:__ Броню следует увеличить в тех местах, где меньше всего следов от пуль. Отсутствие следов пуль в некотором месте означает, что попадание в это место приводит к тому, что самолёт не возвращается на базу.\n",
    "\n",
    "Если говорить глобально и немного с натяжкой, то в этом кексе мы сталкиваемся с проблемой отсутсвия негативных примеров. Самолёты, которые были сбиты, не вернулись на базу. \n",
    "\n",
    "Такая проблема часто возникает перед рекомендательными системами. В случае рекомендации товаров у нас есть матрица каких-то событий, например, матрица покупок. В ней будут присутствовать только положительные примеры, то есть случаи, когда человек что-то купил: ему понравился товар, пользователь был готов потратить на это деньги, и в итоге потратил деньги. В то же время в матрице не будет примеров товаров, про которые точно известно, что человек никогда это не купит. Невозможно понять: человек не видел этот товар и поэтому не купил, или он его не купил, потому что он ему не нравится. Приходится искать выходи из этой ситуации и придумывать разные специальные модели. \n",
    "\n",
    "<br>\n",
    "\n",
    "<center>\n",
    "<img src=\"http://blog.nua.kharkov.ua/wp-content/uploads/2017/09/Fig-1-Analogy-between-bullet-free-plane-critical-areas-and-hypomutated-proteins.png\" width=\"800\">\n",
    "</center>"
   ]
  },
  {
   "cell_type": "markdown",
   "metadata": {
    "slideshow": {
     "slide_type": "slide"
    }
   },
   "source": [
    "## Мораль\n",
    "\n",
    "К смещению оценок и несостоятельности могут приводить разные причины. При исследовании надо обязательнос следить за репрезентативностью выборки. Данные нужно собирать аккуратно."
   ]
  },
  {
   "cell_type": "markdown",
   "metadata": {
    "slideshow": {
     "slide_type": "skip"
    }
   },
   "source": [
    "# 3.  Про сравнение оценок между собой и эффективность \n",
    "\n",
    "Предположим, что у нас есть две оценки. Они обе классные, несмещённые и состоятельные. Возникает вопрос: а какую взять то? Для того, чтобы выбрать, вводят свойство эффективности. \n",
    "\n",
    "__Определение:__ Оценка $\\hat \\theta$ параметра $\\theta$ называется __эффективной в некотором классе оценок,__ если её дисперсия, $Var(\\hat \\theta)$ в этом классе оценок при заданном объёме выборке минимальна. \n",
    "\n",
    "Зачем это нужно? Для того, чтобы доверительные интервалы для оценок были как можно уже, то есть для того, чтобы оценка была как можно точнее.\n",
    "\n",
    "Давайте посмотрим на следующий пример. Пусть мы оценили методом максимального правдоподобия параметр $\\theta$ для равномерного распределения $U[0; \\theta]$ двумя методами. Методом моментов и методом максимального правдоподобия. Получилось, что: \n",
    "\n",
    "$$\\hat \\theta_{MM} = 2 \\bar x, \\qquad \\qquad \\hat \\theta_{ML} = \\frac{n+2}{n} \\cdot x_{max}$$\n",
    "\n",
    "Какую из этих двух оценок вы бы стали использовать? Какая лучше? Обе оценки являются несмещёнными и состоятельными. \n",
    "\n",
    "Ну давайте посмотрим! Можно руками посчитать, что:\n",
    "\n",
    "$$ E(\\hat \\theta_{MM} - \\theta)^2 = \\frac{\\theta^2}{3n} \\qquad \\qquad E(\\hat \\theta_{ML} - \\theta)^2 = \\frac{2 \\theta^2}{n(n+1)}$$\n",
    "\n",
    "Получится, что при $n = 1,2$ дисперсии совпадут. При $n >2$ оценка максимального правдоподобия будет обладать меньшей дисперсией. Доверительные интервалы, основанные на ней окажутся короче, а наши прогнозы точнее.  Давайте нарисуем картинки для этих двух оценок. "
   ]
  },
  {
   "cell_type": "code",
   "execution_count": 146,
   "metadata": {
    "slideshow": {
     "slide_type": "skip"
    }
   },
   "outputs": [],
   "source": [
    "x_general = runif(10^6, 0, 10)             # генеральная совокупность "
   ]
  },
  {
   "cell_type": "code",
   "execution_count": 147,
   "metadata": {
    "slideshow": {
     "slide_type": "skip"
    }
   },
   "outputs": [],
   "source": [
    "# Будем делать подвыборки в 100 наблюдений и строить оценки. \n",
    "n_obs = 10^4\n",
    "\n",
    "th_mm = rep(0,n_obs)\n",
    "th_ml = rep(0,n_obs)\n",
    "\n",
    "for(i in 1:n_obs){\n",
    "    x_sample = sample(x_general, size = 100) \n",
    "    th_mm[i] = 2*mean(x_sample)\n",
    "    th_ml[i] = (100+2)/100*max(x_sample)\n",
    "}"
   ]
  },
  {
   "cell_type": "code",
   "execution_count": 148,
   "metadata": {
    "slideshow": {
     "slide_type": "skip"
    }
   },
   "outputs": [
    {
     "data": {
      "image/png": "[encoded data removed]",
      "text/plain": [
       "plot without title"
      ]
     },
     "metadata": {},
     "output_type": "display_data"
    }
   ],
   "source": [
    "ggplot(data.frame(th_mm, th_ml)) +\n",
    "    geom_histogram(aes(x=th_mm),bins=30, alpha=0.5, fill='red')+\n",
    "    geom_histogram(aes(x=th_ml),bins=30, alpha=0.5, fill='blue')"
   ]
  },
  {
   "cell_type": "markdown",
   "metadata": {
    "slideshow": {
     "slide_type": "skip"
    }
   },
   "source": [
    "При выборке объёма сто, у оценки максимального правдоподобия, действительно будет меньший разброс. По сравнению с оценкой метода моментов, она более крутая. И на практике следовало бы выбрать её. Когда у оценки самый маленький разброс в классе всех несмещённых оценок, её называют эффективной. \n",
    "\n",
    "__Ещё раз, ещё раз:__ эффективность позволяет строить более узкие доверительные интервалы и впоследствие более точные прогнозы. "
   ]
  },
  {
   "cell_type": "markdown",
   "metadata": {
    "slideshow": {
     "slide_type": "skip"
    }
   },
   "source": [
    "## 4. Про баланс между смещением и разбросом\n",
    "\n",
    "Обычно чтобы сравнить оценки между собой, считают их среднеквадратическую ошибку, $MSE$ (mean squered error): \n",
    "\n",
    "$$\n",
    "MSE(\\hat \\theta) = E((\\hat \\theta - \\theta)^2)\n",
    "$$\n",
    "\n",
    "Эта штука представляет из себя среднюю ошибку, которую мы совершаем, если используем оценку параметра $\\hat \\theta$. Чем меньше такая ошибка, тем лучше наша оценка. Именно поэтому обычно оценки между собой сравнивают в смысле среднего квадратического. Говорят, что одна оценка не хуже другой, если \n",
    "\n",
    "$$\n",
    "E((\\theta_1 - \\theta)^2) \\le E((\\theta_2 - \\theta)^2).\n",
    "$$\n",
    "\n",
    "Важно отметить, что в классе всех возможных оценок не существет наилучшей в смысле среднего квадратического подхода. Из-за этого говорят о наилучших оценках в каких-то классах. В нашем случае, мы говорим об эффективных оценках в классе несмещённых оценок.  \n",
    "\n",
    "Давайте немного поанализируем $MSE$. Пусть для удобства $E(\\hat \\theta) = \\tilde \\theta$. Тогда\n",
    "\n",
    "\\begin{multline}\n",
    "MSE(\\hat \\theta) = E[(\\hat \\theta - \\theta)^2] = E[(\\hat \\theta - \\tilde \\theta + \\tilde \\theta - \\theta)^2] = E[(\\hat \\theta - \\tilde \\theta)^2] + 2 \\cdot (\\tilde \\theta - \\theta) \\cdot E[\\hat \\theta -  \\tilde \\theta] + E(\\tilde \\theta - \\theta)^2 = \\\\ = Var(\\hat \\theta) + 0 + (\\tilde \\theta - \\theta)^2 = Var(\\hat \\theta) + bias(\\hat \\theta)^2.\n",
    "\\end{multline}"
   ]
  },
  {
   "cell_type": "markdown",
   "metadata": {
    "slideshow": {
     "slide_type": "skip"
    }
   },
   "source": [
    "Мы взяли ошибку и выяснили, что её можно записать в виде суммы из двух составляющих.\n",
    "\n",
    "* __разброс (variance)__  или дисперсия оценки, \n",
    "* квадрат __смещения (bias)__ или математическое ожидание разности между истинным значением параметра и оценкой.\n",
    "\n",
    "Понятно, что разброс характеризует возможное разнообразияе оценок (из-за случайности нашей выборки), а смещение говорит о том насколько хорошо наша оценка настроена на целевое значение параметра. Если внимательно посмотреть на это уравнение, можно увидеть кучу полезностей: \n",
    "\n",
    "1. Если смещение нулевое, MSE совпадает с дисперсией ошибки. Мы можем сравнивать несмещённые оценки между собой в контексте привычной для нас эффективности.\n",
    "2. Если оценка несмещенная, ошибка равна дисперсии. Если дисперсия стремится к нулю при $n \\to \\infty$, наша ошибка также сходится к нулю. Получается условие Чебышева, которое мы использовали на семинарах для доказательства состоятельности разных оценок. \n",
    "3. В голове рождается мысль, что можно попробовать поймать какой-то баланс между смещением и разбросом и за счёт этого добиться у оценок более интересных свойств. Обычно этим активно занимаются в машинном обучении. Возможно, мы об этом в будущем ещё поговорим. А пока остановимся. \n",
    "\n",
    "Часто разброс и смещение иллюстрируют такими картинками."
   ]
  },
  {
   "cell_type": "markdown",
   "metadata": {
    "slideshow": {
     "slide_type": "skip"
    }
   },
   "source": [
    "<center>\n",
    "<img src=\"https://www.cs.cornell.edu/courses/cs4780/2015fa/web/lecturenotes/images/bias_variance/bullseye.png\" width=\"500\"> \n",
    "</center>"
   ]
  },
  {
   "cell_type": "markdown",
   "metadata": {
    "slideshow": {
     "slide_type": "skip"
    }
   },
   "source": [
    "Если провести аналогию, что оценивание – это игра в дартс, то самый лучший игрок будет иметь небольшое смещение и разброс – его дротики ложатся кучно «в яблочко», если у игрока большое смещение, то они сгруппированы около другой точки, а если большой разброс, то они ложатся совсем не кучно."
   ]
  }
 ],
 "metadata": {
  "celltoolbar": "Slideshow",
  "kernelspec": {
   "display_name": "R",
   "language": "R",
   "name": "ir"
  },
  "language_info": {
   "codemirror_mode": "r",
   "file_extension": ".r",
   "mimetype": "text/x-r-source",
   "name": "R",
   "pygments_lexer": "r",
   "version": "3.5.3"
  }
 },
 "nbformat": 4,
 "nbformat_minor": 2
}
