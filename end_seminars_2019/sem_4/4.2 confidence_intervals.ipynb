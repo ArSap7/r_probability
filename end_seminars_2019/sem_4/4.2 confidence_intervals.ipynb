{
 "cells": [
  {
   "cell_type": "markdown",
   "metadata": {
    "slideshow": {
     "slide_type": "slide"
    }
   },
   "source": [
    "<center>\n",
    "<img src=\"https://raw.githubusercontent.com/FUlyankin/r_probability/master/end_seminars/sem_5/pEbNtDxzx0Q.jpg\" height=\"500\" width=\"500\"> \n",
    "\n",
    "\n",
    "# R для тервера и матстата\n",
    "\n",
    "## 4.3 Доверительные интервалы\n"
   ]
  },
  {
   "cell_type": "markdown",
   "metadata": {
    "slideshow": {
     "slide_type": "skip"
    }
   },
   "source": [
    "Данный ноутбук является домашкой по курсу «R для теории вероятностей и математической статистики» (РАНХиГС, 2019). Автор ноутбука [вот этот парень по имени Филипп.](https://vk.com/ppilif) Если у вас для него есть деньги, слава или женщины, он от этого всего не откажется. Ноутбук распространяется на условиях лицензии [Creative Commons Attribution-Share Alike 4.0.](https://creativecommons.org/licenses/by-sa/4.0/) При использовании обязательно упоминание автора курса и аффилиации. При наличии технической возможности необходимо также указать активную гиперссылку на [страницу курса.](https://fulyankin.github.io/R_probability/) На ней можно найти другие материалы. Фрагменты кода, включенные в этот notebook, публикуются как [общественное достояние.](https://creativecommons.org/publicdomain/zero/1.0/)\n",
    "\n",
    "------------------------"
   ]
  },
  {
   "cell_type": "markdown",
   "metadata": {
    "slideshow": {
     "slide_type": "skip"
    }
   },
   "source": [
    "Мы поговорили про генерации, сходимости, да и вообще в принципе про случайные величины, которые обитают внутри сундука. Вы же ещё помните про тот магический сундук, который выплёвывает на нас выборки? Теперь пришло время поговорить о том как работать с испражнениями этого сундука. В этой тетрадке мы поговорим: \n",
    "\n",
    "* "
   ]
  },
  {
   "cell_type": "code",
   "execution_count": null,
   "metadata": {},
   "outputs": [],
   "source": []
  },
  {
   "cell_type": "markdown",
   "metadata": {
    "slideshow": {
     "slide_type": "skip"
    }
   },
   "source": [
    "В этой тетрадке мы обсудим почему среднее это очень круто. Мы сделаем переход от точечных оценок к интервальным и попытаемся разобраться как строятся доверительные интервалы, а также обсудим __дельта-метод.__ Итак, план: \n",
    "\n",
    "1. Мощь средних, асимптотические доверительные интервалы \n",
    "2. Дельта-метод \n",
    "3. Всё и сразу в задачке про Свету\n",
    "4. Точные доверительные интервалы"
   ]
  },
  {
   "cell_type": "code",
   "execution_count": null,
   "metadata": {},
   "outputs": [],
   "source": []
  },
  {
   "cell_type": "markdown",
   "metadata": {
    "slideshow": {
     "slide_type": "skip"
    }
   },
   "source": [
    "## 2. Дельта-метод\n",
    "\n",
    "Очень часто оценки, которые мы получаем выражаются через средние. Например, типичная оценка, полученая методом моментов может выглядеть как-нибудь так: \n",
    "\n",
    "$$\n",
    "\\hat \\theta = \\frac{\\overline{x^2} - \\bar x}{\\overline{ \\ln x}}. \n",
    "$$\n",
    "\n",
    "Было бы круто построить для таких оценок доверительные интервалы. Для этого нужно знать распределение $\\hat \\theta$.  Дельта-метод позволяет его получить. Сам по себе он является обобщением центральной предельной теоремы. \n",
    "\n",
    "__Теорема (дельта-метод):__ \n",
    "\n",
    "Если $X_1, \\ldots, X_n$ независимые одинаково распределённые случайные величины с математическим ожиданием $\\mu$ и дисперсией $\\sigma^2$, а $g(t)$ диференцируемая на множестве действительных чисел функция, тогда случайная величина $g(\\bar X)$ будет иметь асимптотически нормальное распределение с математическим ожиданием $g(\\mu)$ и дисперсией $\\frac{\\sigma^2}{n} \\cdot (g'(\\mu))^2$. То есть\n",
    "\n",
    "$$\n",
    "g(\\bar X) \\sim N( g(\\mu), \\frac{\\sigma^2}{n} \\cdot (g'(\\mu))^2).\n",
    "$$\n",
    "\n",
    "На паре мы попробовали воспользоваться дельта-методом для пары ситуаций. Например, мы выяслинили, что если случайные величины $X_1, \\ldots, X_n$ взяты из распределения равномерного на отрезке $[2; 8]$, тогда:\n",
    "\n",
    "$$ \\sin(\\pi \\cdot \\bar x) \\sim N(0, \\frac{3}{n} \\cdot \\pi^2)$$\n",
    "\n",
    "Давайте попробуем убидиться в этом на симуляциях. "
   ]
  },
  {
   "cell_type": "code",
   "execution_count": 21,
   "metadata": {
    "slideshow": {
     "slide_type": "skip"
    }
   },
   "outputs": [
    {
     "data": {
      "image/png": "[encoded data removed]",
      "text/plain": [
       "plot without title"
      ]
     },
     "metadata": {},
     "output_type": "display_data"
    }
   ],
   "source": [
    "n_obs = 10^5       # симуляция может быть много!\n",
    "y = rep(0,n_obs)\n",
    "for(i in 1:n_obs){\n",
    "    y[i] = sin(pi*mean(runif(100, 2, 8))) # но среднее по выборке 100! \n",
    "}\n",
    "\n",
    "# Получается милый купол \n",
    "# Понимаете ли вы, почему он не выходит за отрезок 0,1\n",
    "# Понимаете ли вы, почему мы говорим при этом про нормальное распределение?! \n",
    "\n",
    "# Правильно! Все теоремы выше являются асимптотическими, то есть распределение Y\n",
    "# хорошо приближается нормальным при большом n, но нормальным оно не является. \n",
    "# Оно становится им только при бесконечном n.\n",
    "\n",
    "qplot(y, bins=30)"
   ]
  },
  {
   "cell_type": "code",
   "execution_count": 22,
   "metadata": {
    "slideshow": {
     "slide_type": "skip"
    }
   },
   "outputs": [
    {
     "data": {
      "text/html": [
       "-0.00107797330163062"
      ],
      "text/latex": [
       "-0.00107797330163062"
      ],
      "text/markdown": [
       "-0.00107797330163062"
      ],
      "text/plain": [
       "[1] -0.001077973"
      ]
     },
     "metadata": {},
     "output_type": "display_data"
    }
   ],
   "source": [
    "mean(y) # близко к нулю "
   ]
  },
  {
   "cell_type": "code",
   "execution_count": 23,
   "metadata": {
    "slideshow": {
     "slide_type": "skip"
    }
   },
   "outputs": [
    {
     "data": {
      "text/html": [
       "0.296088132032681"
      ],
      "text/latex": [
       "0.296088132032681"
      ],
      "text/markdown": [
       "0.296088132032681"
      ],
      "text/plain": [
       "[1] 0.2960881"
      ]
     },
     "metadata": {},
     "output_type": "display_data"
    },
    {
     "data": {
      "text/html": [
       "0.223499460417402"
      ],
      "text/latex": [
       "0.223499460417402"
      ],
      "text/markdown": [
       "0.223499460417402"
      ],
      "text/plain": [
       "[1] 0.2234995"
      ]
     },
     "metadata": {},
     "output_type": "display_data"
    }
   ],
   "source": [
    "0.03*pi^2\n",
    "var(y) # близко к тому, что написано выше)"
   ]
  },
  {
   "cell_type": "markdown",
   "metadata": {},
   "source": []
  },
  {
   "cell_type": "markdown",
   "metadata": {},
   "source": []
  },
  {
   "cell_type": "markdown",
   "metadata": {},
   "source": [
    "Теперь давайте немного пофантазируем и представим себе параметр $\\lambda^2$. Логично взять в качестве оценки для него $\\bar x^2$. Давайте воспользуемся дельта-методом и построим для такой оценки асимптотический доверительный интервал. \n",
    "\n",
    "$$\n",
    "\\begin{aligned}\n",
    "E(X) &= Var(X) = \\lambda \\\\ \n",
    "g(t) &= t^2 \\\\ \n",
    "g'(t) &= 2t \\\\\n",
    "\\end{aligned}\n",
    "$$\n",
    "\n",
    "В итоге получаем, что $$\\bar x^2 \\sim N \\left(\\lambda^2, \\frac{\\lambda}{n} \\cdot 4 \\lambda^2  \\right).$$ Исходя отсюда строим доверительный интервал:\n",
    "\n",
    "$$\n",
    "\\bar x^2 \\pm  z_{1-\\frac{\\alpha}{2}} \\cdot \\sqrt{\\frac{4 \\bar x^3}{n}}\n",
    "$$"
   ]
  },
  {
   "cell_type": "code",
   "execution_count": 56,
   "metadata": {},
   "outputs": [
    {
     "data": {
      "text/html": [
       "15.6207850515294"
      ],
      "text/latex": [
       "15.6207850515294"
      ],
      "text/markdown": [
       "15.6207850515294"
      ],
      "text/plain": [
       "[1] 15.62079"
      ]
     },
     "metadata": {},
     "output_type": "display_data"
    },
    {
     "data": {
      "text/html": [
       "16.3792149484706"
      ],
      "text/latex": [
       "16.3792149484706"
      ],
      "text/markdown": [
       "16.3792149484706"
      ],
      "text/plain": [
       "[1] 16.37921"
      ]
     },
     "metadata": {},
     "output_type": "display_data"
    }
   ],
   "source": [
    "mean(x)^2 - z_alpha*sqrt(4*mean(x)^3/length(x))\n",
    "mean(x)^2 + z_alpha*sqrt(4*mean(x)^3/length(x))"
   ]
  },
  {
   "cell_type": "markdown",
   "metadata": {},
   "source": [
    "Вот такие вот пироги! Надеюсь, что вы что-то почувствовали, решая эту задачку и у вас в голове выработалось понимание, что в матстате нет отдельных сюжетов и всё довольно сильно переплетено. Дальше мы попытаемся развить эту интуицию."
   ]
  },
  {
   "cell_type": "markdown",
   "metadata": {},
   "source": [
    "# 4. Точные доверительные интервалы\n",
    "\n",
    "В общем случае $\\bar x$ имеет асимптотически нормальное распределение. Когда $X \\sim N(\\mu, \\sigma^2)$, статистика $\\bar x$ имеет в точности нормальное распределение. Это означает, что для данного узкого случая мы можем построить точные доверительные интервалы. \n",
    "\n",
    "## 4.1 Доверительный интервал для математического ожидания нормального распределения \n",
    "\n",
    "Пусть процесс порождения данных даровал нам случайную величину из нормального распределения, $X \\sim N(\\mu, \\sigma^2)$. Сгенерируем для неё генеральную совокупность! "
   ]
  },
  {
   "cell_type": "code",
   "execution_count": 108,
   "metadata": {},
   "outputs": [],
   "source": [
    "set.seed(42)\n",
    "x_general = rnorm(10^5, mean = 4, sd = 50)"
   ]
  },
  {
   "cell_type": "markdown",
   "metadata": {},
   "source": [
    "Мы пронаблюдали какую-то выборку, при этом о задумке природы относительно генеральной совокупности ничего не зная."
   ]
  },
  {
   "cell_type": "code",
   "execution_count": 109,
   "metadata": {},
   "outputs": [],
   "source": [
    "set.seed(42)\n",
    "x_sample = sample(x = x_general, size = 100)"
   ]
  },
  {
   "cell_type": "markdown",
   "metadata": {},
   "source": [
    "По этой выборке мы оценили параметр $\\mu$. Как мы помним, хорошей оценкой для него является среднее. "
   ]
  },
  {
   "cell_type": "code",
   "execution_count": 110,
   "metadata": {},
   "outputs": [
    {
     "data": {
      "text/html": [
       "6.24937833676195"
      ],
      "text/latex": [
       "6.24937833676195"
      ],
      "text/markdown": [
       "6.24937833676195"
      ],
      "text/plain": [
       "[1] 6.249378"
      ]
     },
     "metadata": {},
     "output_type": "display_data"
    }
   ],
   "source": [
    "mu_hat = mean(x_sample)\n",
    "mu_hat"
   ]
  },
  {
   "cell_type": "markdown",
   "metadata": {},
   "source": [
    "При этом истиное значение мю было равно"
   ]
  },
  {
   "cell_type": "code",
   "execution_count": 111,
   "metadata": {},
   "outputs": [
    {
     "data": {
      "text/html": [
       "3.79369088501736"
      ],
      "text/latex": [
       "3.79369088501736"
      ],
      "text/markdown": [
       "3.79369088501736"
      ],
      "text/plain": [
       "[1] 3.793691"
      ]
     },
     "metadata": {},
     "output_type": "display_data"
    }
   ],
   "source": [
    "mean(x_general)"
   ]
  },
  {
   "cell_type": "markdown",
   "metadata": {},
   "source": [
    "Мы знаем, что \n",
    "\n",
    "$$\n",
    "\\bar x \\sim N(\\mu, \\frac{\\sigma^2}{n}).\n",
    "$$\n",
    "\n",
    "Причём это распределение получено не на основе ЦПТ. Оно является точным. \n",
    "\n",
    "$$\n",
    "\\bar x = \\frac{x_1 + \\ldots + x_n}{n}\n",
    "$$\n",
    "\n",
    "Случайные величины $x_1, \\ldots, x_n$ имеют нормальное распределение. Как мы помним из свойств нормального распределения, сумма нормальных распределений распределена нормально. То, что среднее будет распределено именно с такими параметрами, вы должны получить сами. Если вы не можете сделать это, пишите мне в л.c. У вас большие проблемы. Зная, что среднее иммеет нормальное распрделение, рассуждая по аналогии с долей любителей кофе, получаем доверительный интервал для $\\mu$:\n",
    "\n",
    "$$\n",
    "\\bar{x} - z_{1-\\frac{\\alpha}{2}} \\frac{\\sigma}{\\sqrt{n}} \\le \\mu \\le \\bar{x} + z_{1-\\frac{\\alpha}{2}} \\frac{\\sigma}{\\sqrt{n}}\n",
    "$$\n",
    "\n",
    "\n",
    "В этой формуле есть один неизвестный нам элемент, $\\sigma$. Допустим, нам откуда-то известно, что дисперсия $\\sigma^2=50^2$. Построим доверительные интервал для этого случая."
   ]
  },
  {
   "cell_type": "code",
   "execution_count": 112,
   "metadata": {},
   "outputs": [
    {
     "name": "stdout",
     "output_type": "stream",
     "text": [
      "Параметр mu с вероятностью 95% лежит между -3.550442 и 16.0492 \n",
      "Длина интервала: 19.59964"
     ]
    }
   ],
   "source": [
    "mu_hat  = mean(x_sample)\n",
    "mu_left = mu_hat - qnorm(1-0.05/2)*50/sqrt(100)\n",
    "mu_right= mu_hat + qnorm(1-0.05/2)*50/sqrt(100)\n",
    "cat('Параметр mu с вероятностью 95% лежит между',mu_left, 'и',mu_right, '\\n')\n",
    "cat('Длина интервала:', mu_right-mu_left)"
   ]
  },
  {
   "cell_type": "markdown",
   "metadata": {},
   "source": [
    "В чём минус этого интервала? Дисперсия взята с потолка. Случаи, когда она известна, очень редки. Пример случая, когда можно использовать такой интервал, - оценка работы некоторого прибора. В таких ситуациях известна его погрешность, а значит, и дисперсия. \n",
    "\n",
    "В случаях, когда она неизвестна, её нужно оценить по выборке. Тогда мы можем сказать, что выборочное среднее будет иметь распределение:\n",
    "\n",
    "$$\n",
    "\\bar x \\sim N(\\mu, \\frac{s^2}{n}).\n",
    "$$\n",
    "\n",
    "Это распределение уже будет асимптотическим, потому что мы считали оценку дисперсии по выборке. Посмотрим каким окажется доверительный интервал: "
   ]
  },
  {
   "cell_type": "code",
   "execution_count": 113,
   "metadata": {},
   "outputs": [
    {
     "name": "stdout",
     "output_type": "stream",
     "text": [
      "Параметр mu с вероятностью 95% лежит между -2.967016 и 15.46577 \n",
      "Длина интервала: 18.43279"
     ]
    }
   ],
   "source": [
    "mu_hat  = mean(x_sample)\n",
    "mu_left = mu_hat - qnorm(1-0.05/2)*sd(x_sample)/sqrt(100)\n",
    "mu_right= mu_hat + qnorm(1-0.05/2)*sd(x_sample)/sqrt(100)\n",
    "cat('Параметр mu с вероятностью 95% лежит между',mu_left, 'и',mu_right, '\\n')\n",
    "cat('Длина интервала:', mu_right-mu_left)"
   ]
  },
  {
   "cell_type": "markdown",
   "metadata": {},
   "source": [
    "В чём минус такого интервала? Он асимптотический. А можно было бы построить точный. Можно показать, что случайная величина $\\sqrt{n} \\cdot \\frac{\\bar x - \\mu}{s}$ имеет распределение стьюдента с $n-1$ степенью свободы. \n",
    "\n",
    "Что делать, если дисперсия неизвестна? Оценить её по выборке! Тогда у нас будет уже целых два распределения: для среднего и для выборочной дисперсии. Со средним всё просто: \n",
    "\n",
    "$$\n",
    "\\hat \\mu \\sim N\\left(\\mu, \\frac{\\sigma^2}{n}  \\right)\n",
    "$$\n",
    "\n",
    "С дисперсией чуток сложнее. По Тореме Фишера, если генеральная совокупность имеет нормальное распределение, то статистика $\\frac{n s^2}{\\sigma^2} \\sim \\chi^2_{n-1}$. Не помните такого факта? Марш в лекции! Найдите его и внимательно изучите!\n",
    "\n",
    "Владея этим фактом, мы можем сделать для статистики для проверки гипотезы небольшой финт: \n",
    "\n",
    "$$\n",
    "\\frac{\\bar x - \\mu}{\\frac{s}{\\sqrt{n}}} = \\frac{\\bar x - \\mu}{\\frac{\\sigma}{\\sqrt{n}}} : \\sqrt{\\frac{1}{n-1} \\frac{(n-1) s^2}{\\sigma^2}} \\sim \\frac{N(0,1)}{\\sqrt{\\frac{\\chi^2_{n-1}}{n-1}}} = t_{n-1} \n",
    "$$\n",
    "\n",
    "Подытожим. Если дисперсия неизвестна и её надо оценить, то\n",
    "\n",
    "$$\n",
    "\\frac{\\bar x - \\mu}{\\frac{s}{\\sqrt{n}}} \\sim t(n-1).\n",
    "$$\n",
    "\n",
    "Обратите внимание, что это распределение точное. Также обратите внимание, что при $n \\to \\infty$ распределение Стьюдента сходится к нормальному. Значит наша статистика будет иметь асимптотически нормальное распределение и при больших $n$ можно смело использовать его. Погрешность при его использовании будет небольшой. Но ежели нужен точный результат, а не асимптотический, используйте распределение Стьюдента. Зная точное распределение, мы можем построить для математического ожидания точный доверительный интервал: \n",
    "\n",
    "$$\n",
    "\\bar{x} \\pm t_{1-\\frac{\\alpha}{2}} \\frac{s}{\\sqrt{n}}\n",
    "$$\n"
   ]
  },
  {
   "cell_type": "code",
   "execution_count": null,
   "metadata": {},
   "outputs": [],
   "source": [
    "mu_hat  = mean(x_sample)\n",
    "mu_left = mu_hat - qt(1-0.05/2, df=99)*sd(x_sample)/sqrt(100)\n",
    "mu_right= mu_hat + qt(1-0.05/2, df=99)*sd(x_sample)/sqrt(100)\n",
    "cat('Параметр mu с вероятностью 95% лежит между',mu_left, 'и',mu_right, '\\n')\n",
    "cat('Длина интервала:', mu_right-mu_left)"
   ]
  },
  {
   "cell_type": "markdown",
   "metadata": {},
   "source": [
    "Обратите внимание, что на тех же самых наблюдениях, доверительный интервал, основанный на $t$-статистике, обладает немного большей длиной. Как считаете с чем это связано? \n",
    "\n",
    "Конечно же с тем, что он точный! Хвосты распределения Стьюдента толще хвостов нормального распределения. Из-за этого, ширина интервала больше. Точный интервал гарантированно накрывает истиное значение параметра в $95\\%$ случаев. Асимптотический интервал делает это только при бесконечно большом $n$. \n",
    "\n",
    "В R есть встроенная команда `t.test`, позволяющая строить доверительные интервалы для средних, а также проверять для них гипотезы. Сейчас нас интересует из этой команды только строчка с $95\\%$ доверительным интервалом. Он совпадает с тем, что мы посчитале выше вручную. "
   ]
  },
  {
   "cell_type": "code",
   "execution_count": 114,
   "metadata": {},
   "outputs": [
    {
     "data": {
      "text/plain": [
       "\n",
       "\tOne Sample t-test\n",
       "\n",
       "data:  x_sample\n",
       "t = 1.329, df = 99, p-value = 0.1869\n",
       "alternative hypothesis: true mean is not equal to 0\n",
       "95 percent confidence interval:\n",
       " -3.081062 15.579818\n",
       "sample estimates:\n",
       "mean of x \n",
       " 6.249378 \n"
      ]
     },
     "metadata": {},
     "output_type": "display_data"
    }
   ],
   "source": [
    "tt <- t.test(x_sample)\n",
    "tt"
   ]
  },
  {
   "cell_type": "code",
   "execution_count": 115,
   "metadata": {},
   "outputs": [
    {
     "data": {
      "text/html": [
       "<ol class=list-inline>\n",
       "\t<li>-3.08106155128027</li>\n",
       "\t<li>15.5798182248042</li>\n",
       "</ol>\n"
      ],
      "text/latex": [
       "\\begin{enumerate*}\n",
       "\\item -3.08106155128027\n",
       "\\item 15.5798182248042\n",
       "\\end{enumerate*}\n"
      ],
      "text/markdown": [
       "1. -3.08106155128027\n",
       "2. 15.5798182248042\n",
       "\n",
       "\n"
      ],
      "text/plain": [
       "[1] -3.081062 15.579818\n",
       "attr(,\"conf.level\")\n",
       "[1] 0.95"
      ]
     },
     "metadata": {},
     "output_type": "display_data"
    }
   ],
   "source": [
    "tt$conf.int"
   ]
  },
  {
   "cell_type": "markdown",
   "metadata": {},
   "source": [
    "## 4.2 Доверительный интервал для дисперсии нормального распределения \n",
    "\n",
    "По аналогии мы можем построить точные доверительные интервалы для дисперсии. Как для случая, когда мы знаем математическое ожидание, так и для случая когда мы его не знаем. Оба доверительных интервала будут точными. \n",
    "\n",
    "Делай раз! Пусть $ X \\sim N(\\mu, \\sigma^2)$ и мы знаем, что $\\mu = 4.$  В таком случае \n",
    "\n",
    "$$s^2 = \\frac{1}{n} \\sum_{i=1}^n (X_i - 4)^2.$$\n",
    "\n",
    "Каждая случайная величина $X_i - 4$ будет иметь нормальное распределение с нулевым математическим ожиданием и дисперсией $\\sigma^2$. Хотелось бы, чтобы эта величина имела распределение $N(0,1)$, тогда бы в нашем распоряжении оказалась бы сумма квадратов $n$ стандартных случайных величин, которая распределена как $\\chi^2_n$. Тогда бы мы смогли построить доверительный интервал для $\\sigma^2$, отталкиваясь от этого распределения. Поделим штуку в скобках на сигму. Тогда придётся поделить $s^2$ на $\\sigma^2$\n",
    "\n",
    "$$\\frac{s^2}{\\sigma^2} = \\frac{1}{n} \\sum_{i=1}^n \\left(\\frac{X_i - 4}{\\sigma}\\right)^2.$$\n",
    "\n",
    "Почти готово. Осталось избавиться от буквы $n$. Для этого домножаем обе части на неё и получаем справа случайную величину, имеющую \"хи-квадрат\" распределение\n",
    "\n",
    "$$\\frac{n s^2}{\\sigma^2} =\\sum_{i=1}^n \\left(\\frac{X_i - 4}{\\sigma}\\right)^2 \\sim \\chi^2_n.$$"
   ]
  },
  {
   "cell_type": "markdown",
   "metadata": {},
   "source": [
    "С вероятностью $95\\%$ будет выполнено неравенство\n",
    "\n",
    "$$\n",
    "\\chi^2_n (\\frac{\\alpha}{2}) \\le \\frac{n s^2}{\\sigma^2} \\le \\chi^2_n (1-\\frac{\\alpha}{2}).\n",
    "$$\n",
    "\n",
    "Разворачиваем его относительно нашего параметра $\\sigma^2$\n",
    "\n",
    "$$\n",
    "\\frac{n s^2}{\\chi^2_n (1 - \\frac{\\alpha}{2})}\n",
    "\\le \\sigma^2 \\le \\frac{n s^2}{\\chi^2_n (\\frac{\\alpha}{2})}.\n",
    "$$\n",
    "\n",
    "Готово! Это распределение точное. В случае, если математическое ожидание неизвестно, у нас начинаются проблемы. Оценка дисперсии будет завязана на среднем\n",
    "\n",
    "$$s^2 = \\frac{1}{n-1} \\sum_{i=1}^n (X_i - \\bar x)^2.$$\n",
    "\n",
    "Случайная величина $X_i - \\bar x$ не будет нормально распределена почти наверное (подумайте почему почти наверное). К счастью, возникшие проблемы решает теорема Фишера, которая говорит, что \n",
    "\n",
    "$$\n",
    "\\frac{(n-1) s^2}{\\sigma^2}  \\sim \\chi^2_{n-1}.\n",
    "$$\n",
    "\n",
    "В случае, когда среднее неизвестно мы снова получаем распределение хи-квадрат, но уже с $n-1$ степенью свободы. Интуитивно можно сказать, что это происходит из-за того, что мы сковываем нашу выборку двумя уравнениями: на среднее и на выборочную дисперсию. Из-за этого между двумя наблюдениями из выборки возникает линейная зависимомть и мы можем свободно варьеровать в ней только $n-1$ случайную величину. Полученное в итоге распределение тоже будет точным."
   ]
  },
  {
   "cell_type": "code",
   "execution_count": 116,
   "metadata": {},
   "outputs": [
    {
     "data": {
      "text/html": [
       "2396.56420727466"
      ],
      "text/latex": [
       "2396.56420727466"
      ],
      "text/markdown": [
       "2396.56420727466"
      ],
      "text/plain": [
       "[1] 2396.564"
      ]
     },
     "metadata": {},
     "output_type": "display_data"
    }
   ],
   "source": [
    "x_sample = sample(x = x_general, size = 1000)\n",
    "var(x_sample)"
   ]
  },
  {
   "cell_type": "code",
   "execution_count": 117,
   "metadata": {},
   "outputs": [
    {
     "name": "stdout",
     "output_type": "stream",
     "text": [
      "Параметр mu с вероятностью 95% лежит между 2197.559 и 2618.857 \n",
      "Длина интервала: 421.2977"
     ]
    }
   ],
   "source": [
    "# Если знаем математическое ожидание!\n",
    "n = length(x_sample)\n",
    "s = sqrt(1/n*sum((x_sample - 4)^2))\n",
    "\n",
    "sigma_left  = n*s^2/(qchisq(1 - 0.05/2,df=n))\n",
    "sigma_right = n*s^2/(qchisq(0.05/2,df=n))\n",
    "\n",
    "cat('Параметр mu с вероятностью 95% лежит между',sigma_left, 'и', sigma_right, '\\n')\n",
    "cat('Длина интервала:', sigma_right - sigma_left)"
   ]
  },
  {
   "cell_type": "code",
   "execution_count": 118,
   "metadata": {
    "scrolled": true
   },
   "outputs": [
    {
     "name": "stdout",
     "output_type": "stream",
     "text": [
      "Параметр mu с вероятностью 95% лежит между 2199.537 и 2621.444 \n",
      "Длина интервала: 421.9072"
     ]
    }
   ],
   "source": [
    "# Если не знаем математического ожидания!\n",
    "n = length(x_sample)\n",
    "s = sd(x_sample)\n",
    "\n",
    "sigma_left  = (n-1)*s^2/(qchisq(1 - 0.05/2,df=n-1))\n",
    "sigma_right = (n-1)*s^2/(qchisq(0.05/2,df=n-1))\n",
    "\n",
    "cat('Параметр mu с вероятностью 95% лежит между',sigma_left, 'и', sigma_right, '\\n')\n",
    "cat('Длина интервала:', sigma_right - sigma_left)"
   ]
  },
  {
   "cell_type": "markdown",
   "metadata": {},
   "source": [
    "## 4.3 Общая схема строительства точных доверительных интервалов\n",
    "\n",
    "На самом деле можно постараться построить точный доверительный интервал и для других распределений. Например, в [учебнике Черновой](http://old.nsu.ru/mmf/tvims/chernova/tv/lec/node53.html) на страницах $60-61$ это делается для равномерного распределения. Если интересно, немпременно загляните туда. "
   ]
  }
 ],
 "metadata": {
  "celltoolbar": "Slideshow",
  "kernelspec": {
   "display_name": "R",
   "language": "R",
   "name": "ir"
  },
  "language_info": {
   "codemirror_mode": "r",
   "file_extension": ".r",
   "mimetype": "text/x-r-source",
   "name": "R",
   "pygments_lexer": "r",
   "version": "3.5.3"
  }
 },
 "nbformat": 4,
 "nbformat_minor": 2
}
