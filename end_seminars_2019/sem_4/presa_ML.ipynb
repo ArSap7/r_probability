{
 "cells": [
  {
   "cell_type": "markdown",
   "metadata": {
    "slideshow": {
     "slide_type": "slide"
    }
   },
   "source": [
    "<center>\n",
    "\n",
    "# R для тервера и матстата\n",
    "### Максимальное правдоподобие, акт 1\n",
    "\n",
    "<center>\n",
    "<img src=\"https://raw.githubusercontent.com/FUlyankin/r_probability/master/end_seminars/sem_4/M_MPlain_grande.png\" height=\"200\" width=\"350\"> \n",
    "\n",
    "\n",
    "\n"
   ]
  },
  {
   "cell_type": "markdown",
   "metadata": {
    "slideshow": {
     "slide_type": "skip"
    }
   },
   "source": [
    "\n",
    "Метод максимального правдоподобия — это основная лошадка современной статистики. Функция правдоподобия встречается абсолютно во всех областях от эконометрики и байесовской статистики до нейронных сетей и рекомендательных систем. Из-за этого очень важно как следует понять как она устроена. \n",
    "\n",
    "В этой тетрадке именно этим мы и займёмся. Для начала мы попробуем посмотреть на поднаготную метода максимального правдоподобия и понять где это там в нём зарыта информация Фишера. И почему это вообще информация. Скорее всего, вас довольно давно будоражит этот вопрос. Затем мы решим в R парочку задачек. "
   ]
  },
  {
   "cell_type": "code",
   "execution_count": 1,
   "metadata": {
    "slideshow": {
     "slide_type": "skip"
    }
   },
   "outputs": [],
   "source": [
    "library(\"ggplot2\")  # Пакет для красивых графиков \n",
    "library(\"grid\")     # Пакет для субплотов\n",
    "\n",
    "# Отрегулируем размер картинок, которые будут выдаваться в нашей тетрадке\n",
    "library('repr')\n",
    "options(repr.plot.width=4, repr.plot.height=3)"
   ]
  },
  {
   "cell_type": "markdown",
   "metadata": {
    "slideshow": {
     "slide_type": "slide"
    }
   },
   "source": [
    "## Задача про фонтан \n",
    "\n",
    "* Саша приехал в южный город и увидел, что там есть фонтан и он работает\n",
    "* Теперь все мысли Юры о том, как часто работает этот фонтан\n",
    "\n",
    "https://s.tcdn.co/f83/2b2/f832b2ac-6a68-3fd1-96f9-d9ec0e1484b0/5.png"
   ]
  },
  {
   "cell_type": "markdown",
   "metadata": {},
   "source": []
  },
  {
   "cell_type": "code",
   "execution_count": null,
   "metadata": {},
   "outputs": [],
   "source": []
  },
  {
   "cell_type": "code",
   "execution_count": null,
   "metadata": {},
   "outputs": [],
   "source": []
  }
 ],
 "metadata": {
  "celltoolbar": "Slideshow",
  "kernelspec": {
   "display_name": "R",
   "language": "R",
   "name": "ir"
  },
  "language_info": {
   "codemirror_mode": "r",
   "file_extension": ".r",
   "mimetype": "text/x-r-source",
   "name": "R",
   "pygments_lexer": "r",
   "version": "3.4.4"
  }
 },
 "nbformat": 4,
 "nbformat_minor": 2
}
