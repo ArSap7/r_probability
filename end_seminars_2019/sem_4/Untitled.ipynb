{
 "cells": [
  {
   "cell_type": "code",
   "execution_count": null,
   "metadata": {},
   "outputs": [],
   "source": []
  },
  {
   "cell_type": "code",
   "execution_count": null,
   "metadata": {},
   "outputs": [],
   "source": []
  },
  {
   "cell_type": "code",
   "execution_count": null,
   "metadata": {},
   "outputs": [],
   "source": []
  },
  {
   "cell_type": "code",
   "execution_count": 4,
   "metadata": {},
   "outputs": [
    {
     "data": {
      "text/html": [
       "6.14285714285714"
      ],
      "text/latex": [
       "6.14285714285714"
      ],
      "text/markdown": [
       "6.14285714285714"
      ],
      "text/plain": [
       "[1] 6.142857"
      ]
     },
     "metadata": {},
     "output_type": "display_data"
    }
   ],
   "source": [
    "x <- c(4, 5, 7, 12, 1, 7, 7)\n",
    "l_hat = mean(x)\n",
    "l_hat"
   ]
  },
  {
   "cell_type": "code",
   "execution_count": 6,
   "metadata": {},
   "outputs": [
    {
     "data": {
      "text/html": [
       "4.30680809450466"
      ],
      "text/latex": [
       "4.30680809450466"
      ],
      "text/markdown": [
       "4.30680809450466"
      ],
      "text/plain": [
       "[1] 4.306808"
      ]
     },
     "metadata": {},
     "output_type": "display_data"
    },
    {
     "data": {
      "text/html": [
       "7.97890619120963"
      ],
      "text/latex": [
       "7.97890619120963"
      ],
      "text/markdown": [
       "7.97890619120963"
      ],
      "text/plain": [
       "[1] 7.978906"
      ]
     },
     "metadata": {},
     "output_type": "display_data"
    }
   ],
   "source": [
    "alpha = 0.05\n",
    "\n",
    "n = length(x)\n",
    "left = l_hat - qnorm(1 - alpha/2)*sqrt(l_hat/n)\n",
    "right = l_hat + qnorm(1 - alpha/2)*sqrt(l_hat/n)\n",
    "left\n",
    "right"
   ]
  },
  {
   "cell_type": "code",
   "execution_count": null,
   "metadata": {},
   "outputs": [],
   "source": []
  },
  {
   "cell_type": "code",
   "execution_count": null,
   "metadata": {},
   "outputs": [],
   "source": []
  }
 ],
 "metadata": {
  "kernelspec": {
   "display_name": "R",
   "language": "R",
   "name": "ir"
  },
  "language_info": {
   "codemirror_mode": "r",
   "file_extension": ".r",
   "mimetype": "text/x-r-source",
   "name": "R",
   "pygments_lexer": "r",
   "version": "3.5.3"
  }
 },
 "nbformat": 4,
 "nbformat_minor": 2
}
