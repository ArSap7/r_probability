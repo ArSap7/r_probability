{
 "cells": [
  {
   "cell_type": "markdown",
   "metadata": {},
   "source": [
    "<img src=\"https://raw.githubusercontent.com/FUlyankin/r_probability/master/end_seminars/sem_4/M_MPlain_grande.png\" height=\"300\" width=\"300\"> \n",
    "\n",
    "\n",
    "# <center> R для тервера и матстата. <br>  <br> Домашка номер три! </center>\n",
    "\n",
    "Данный ноутбук является домашкой по курсу «R для теории вероятностей и математической статистики» (РАНХиГС, 2019). Автор ноутбука [вот этот парень по имени Филипп.](https://vk.com/ppilif) Если у вас для него есть деньги, слава или женщины, он от этого всего не откажется. Ноутбук распространяется на условиях лицензии [Creative Commons Attribution-Share Alike 4.0.](https://creativecommons.org/licenses/by-sa/4.0/) При использовании обязательно упоминание автора курса и аффилиации. При наличии технической возможности необходимо также указать активную гиперссылку на [страницу курса.](https://fulyankin.github.io/R_probability/) На ней можно найти другие материалы. Фрагменты кода, включенные в этот notebook, публикуются как [общественное достояние.](https://creativecommons.org/publicdomain/zero/1.0/)\n",
    "\n",
    "----------------------\n",
    "\n",
    "Приветствую вас внутри третьей домашки."
   ]
  },
  {
   "cell_type": "code",
   "execution_count": 1,
   "metadata": {},
   "outputs": [
    {
     "name": "stderr",
     "output_type": "stream",
     "text": [
      "Loading required package: miscTools\n",
      "\n",
      "Please cite the 'maxLik' package as:\n",
      "Henningsen, Arne and Toomet, Ott (2011). maxLik: A package for maximum likelihood estimation in R. Computational Statistics 26(3), 443-458. DOI 10.1007/s00180-010-0217-1.\n",
      "\n",
      "If you have questions, suggestions, or comments regarding the 'maxLik' package, please use a forum or 'tracker' at maxLik's R-Forge site:\n",
      "https://r-forge.r-project.org/projects/maxlik/\n",
      "\n",
      "Attaching package: ‘dplyr’\n",
      "\n",
      "The following objects are masked from ‘package:stats’:\n",
      "\n",
      "    filter, lag\n",
      "\n",
      "The following objects are masked from ‘package:base’:\n",
      "\n",
      "    intersect, setdiff, setequal, union\n",
      "\n"
     ]
    }
   ],
   "source": [
    "library('maxLik') # пакет для метода макс. правдоподобия\n",
    "library('dplyr')  # пакет для работы с таблицами \n",
    "\n",
    "library(\"ggplot2\")  # Пакет для красивых графиков \n",
    "library(\"grid\")     # Пакет для субплотов\n",
    "\n",
    "# Отрегулируем размер картинок, которые будут выдаваться в нашей тетрадке\n",
    "library('repr')\n",
    "options(repr.plot.width=4, repr.plot.height=3)"
   ]
  },
  {
   "cell_type": "markdown",
   "metadata": {},
   "source": [
    "## Задачка 1\n",
    "\n",
    "Александр раздобыл два золотых слитка массой $m$ каждый. Также он раздобыл весы, которые работают с некоторой погрешностью. Сначала Саша положил на весы первый золотой слиток и получил в результате взвешивания $m + \\varepsilon_1$, где $ \\varepsilon_1$ - случайная величина, ошибка первого взвешивания. Затем Саша положил на весы сразу оба слитка и получил в результате взвешивания $2m + \\varepsilon_2$, где $ \\varepsilon_2$ - случайная величина, ошибка второго взвешивания. Оказалось, что $y_1 = 60$, $y_2 = 110$.\n",
    "\n",
    "С помощью метода максимального правдоподобия оцените вес слитка $m$ и погрешность весов, $b$, если ошибки не зависят друг от друга и \n",
    "\n",
    "a)  $\\varepsilon_i \\sim U[-b,b]$\n",
    "\n",
    "b)  $\\varepsilon_i \\sim N(0,b^2)$\n",
    "\n",
    "Сначала решите задачу ручками, а затем в R. \n",
    "\n",
    "c) Постройте на компьютере для обоих случаев $95\\%$ доверительный интервал для параметров $b$ и $m$.\n",
    "\n",
    "Матрицу Гессе для оценки дисперсий оценок параметров тоже нужно найти руками. При поиске доверительного интервала можно воспользоваться готовой оценкой матрицы из пакета. "
   ]
  },
  {
   "cell_type": "code",
   "execution_count": null,
   "metadata": {},
   "outputs": [],
   "source": [
    "# ваши записи на бумажках и коды :3 "
   ]
  },
  {
   "cell_type": "markdown",
   "metadata": {},
   "source": [
    "## Задачка 2\n",
    "\n",
    "В [табличке](https://yadi.sk/i/hDxMJ0fw3VSDmu) лежит информация о стоимости квартир в Москве и о основных параметрах этих квартир. Пусть цена на квартиры имеет логарифмически нормальное распределение. Оцените параметры $\\mu$ и $\\sigma$ методом максимального правдоподобия. Постройте для оценок доверительные интервалы. "
   ]
  },
  {
   "cell_type": "code",
   "execution_count": null,
   "metadata": {},
   "outputs": [],
   "source": []
  },
  {
   "cell_type": "markdown",
   "metadata": {},
   "source": [
    "## Задачка 3 \n",
    "\n"
   ]
  },
  {
   "cell_type": "code",
   "execution_count": null,
   "metadata": {},
   "outputs": [],
   "source": []
  },
  {
   "cell_type": "code",
   "execution_count": null,
   "metadata": {},
   "outputs": [],
   "source": []
  },
  {
   "cell_type": "code",
   "execution_count": null,
   "metadata": {},
   "outputs": [],
   "source": []
  },
  {
   "cell_type": "code",
   "execution_count": null,
   "metadata": {},
   "outputs": [],
   "source": []
  },
  {
   "cell_type": "code",
   "execution_count": null,
   "metadata": {},
   "outputs": [],
   "source": []
  },
  {
   "cell_type": "code",
   "execution_count": null,
   "metadata": {},
   "outputs": [],
   "source": []
  },
  {
   "cell_type": "code",
   "execution_count": null,
   "metadata": {},
   "outputs": [],
   "source": []
  },
  {
   "cell_type": "code",
   "execution_count": null,
   "metadata": {},
   "outputs": [],
   "source": []
  },
  {
   "cell_type": "code",
   "execution_count": null,
   "metadata": {},
   "outputs": [],
   "source": []
  },
  {
   "cell_type": "code",
   "execution_count": null,
   "metadata": {},
   "outputs": [],
   "source": []
  },
  {
   "cell_type": "code",
   "execution_count": null,
   "metadata": {},
   "outputs": [],
   "source": []
  },
  {
   "cell_type": "code",
   "execution_count": null,
   "metadata": {},
   "outputs": [],
   "source": []
  },
  {
   "cell_type": "code",
   "execution_count": null,
   "metadata": {},
   "outputs": [],
   "source": []
  },
  {
   "cell_type": "code",
   "execution_count": null,
   "metadata": {},
   "outputs": [],
   "source": []
  },
  {
   "cell_type": "code",
   "execution_count": null,
   "metadata": {},
   "outputs": [],
   "source": []
  },
  {
   "cell_type": "markdown",
   "metadata": {},
   "source": [
    "## Задачка 3\n",
    "\n",
    "a) Cгенерируйте выборку из распределения $U[0; a]$. Возмите в качестве $a$ своё любимое число. Найдите руками оценку максимального правдоподобия для параметра $a$. После найдите её с помощью R. Насколько то, что вы получили соответствует вашим ожиданиям? Почему всё произошло именно так?\n"
   ]
  },
  {
   "cell_type": "code",
   "execution_count": 51,
   "metadata": {},
   "outputs": [
    {
     "data": {},
     "metadata": {},
     "output_type": "display_data"
    },
    {
     "data": {
      "image/png": "[encoded data removed]",
      "text/plain": [
       "plot without title"
      ]
     },
     "metadata": {},
     "output_type": "display_data"
    }
   ],
   "source": [
    "X <- runif(1000, min=1, max=4)\n",
    "\n",
    "lnL <- function(a, X){\n",
    "    ans <- -length(X)*log(a)\n",
    "    return(ans)\n",
    "}\n",
    "\n",
    "a <- seq(0, 12, by = 0.01)\n",
    "y <- lnL(a[1:length(a)], X)\n",
    "qplot(a, y, geom='line')"
   ]
  },
  {
   "cell_type": "code",
   "execution_count": null,
   "metadata": {},
   "outputs": [],
   "source": []
  },
  {
   "cell_type": "markdown",
   "metadata": {},
   "source": [
    "b) Сгенерируйте выборку из распределения $U[1-\\theta; 1+\\theta]$. В качестве $\\theta$ возьмите любимое число сына маминой подруги. Найдите оценку для $\\theta$ руками. После найдите её с помощью R. Насколько то, что вы получили, соответствует вашим ожиданиям? Почему всё произошло именно так? "
   ]
  },
  {
   "cell_type": "code",
   "execution_count": null,
   "metadata": {},
   "outputs": [],
   "source": [
    "# Ваш код здесь"
   ]
  },
  {
   "cell_type": "markdown",
   "metadata": {},
   "source": [
    "с) Являются ли оценки, которые вы получили для пунктов a) и b) состоятельными и несмещёнными? "
   ]
  },
  {
   "cell_type": "code",
   "execution_count": null,
   "metadata": {},
   "outputs": [],
   "source": [
    "# Ваш код, если это необходимо :) "
   ]
  },
  {
   "cell_type": "markdown",
   "metadata": {},
   "source": [
    "d) Какая из оценок лучше? Почему? Какая оценка обладает в пределе меньшей дисперсией? "
   ]
  },
  {
   "cell_type": "code",
   "execution_count": null,
   "metadata": {},
   "outputs": [],
   "source": [
    "# Вопрос поставлен некоректно. Просят сравнить между собой оценки для разных параметров. \n",
    "# Никто мне про этот косяк не сказал, значит либо вы балбесы, либо никто не делал :("
   ]
  },
  {
   "cell_type": "markdown",
   "metadata": {},
   "source": [
    "## Задачка 4\n",
    "\n",
    "Каждый из группы второкурсников, пришедшей на пару подкинул монетку два раза и никому не рассказывал, что у него выпало. В зависимости от того, что выпало на монетках, а также от того пробовал ли человек наркотики или нет, он сказал одну из двух фраз: болото или феечка Винкс.\n",
    "\n",
    "\n",
    "|           |был хотя бы один орел| не было ни одного орла|\n",
    "|-----------|---------------------|-----------------------|\n",
    "|пробовал   |   болото            | феечка Винкс          |\n",
    "|не пробовал|  феечка Винкс       |      болото           |\n",
    "\n",
    "\n",
    "Ответы распределились следующим образом: \n",
    "\n",
    "Болото сказали 10 человек, феечка Винкс сказали 4 человека.\n",
    "\n",
    "a) Оцените методом максимального правдоподобия долю второкурсников, пробовавших наркотики. \n",
    "\n",
    "b) Найдите $\\hat{Var}(\\hat p)$.\n",
    "\n",
    "c) Постройте $80\\%$ доверительный интервал для доли пробовавших наркотики. "
   ]
  },
  {
   "cell_type": "code",
   "execution_count": null,
   "metadata": {},
   "outputs": [],
   "source": [
    "# Ваш код"
   ]
  },
  {
   "cell_type": "code",
   "execution_count": null,
   "metadata": {},
   "outputs": [],
   "source": []
  },
  {
   "cell_type": "code",
   "execution_count": null,
   "metadata": {},
   "outputs": [],
   "source": []
  },
  {
   "cell_type": "code",
   "execution_count": null,
   "metadata": {},
   "outputs": [],
   "source": []
  },
  {
   "cell_type": "code",
   "execution_count": null,
   "metadata": {},
   "outputs": [],
   "source": []
  },
  {
   "cell_type": "code",
   "execution_count": null,
   "metadata": {},
   "outputs": [],
   "source": []
  },
  {
   "cell_type": "markdown",
   "metadata": {},
   "source": [
    "## Задачка 5\n",
    "\n",
    "В группе [мемы про машинное обучение для взрослых мужиков](https://vk.com/weirdkerneltricks) постят мемы про машинное обучение для взрослых мужиков. Взрослые мужики смотрят мемы про машинное обучение, лайкают их, комментируют и репостят. В итоге рождается [табличка со статистикой.](https://yadi.sk/i/D9prr_lu3VRywS) \n",
    "\n",
    "Предположим, что просмотры, лайки, число комментариев и репосты имеют распределение Пуассона, $X_i \\sim Poiss(\\lambda)$. Также будем предполагать, что число лайков (и других показателей) на текущем посте не зависит от числа лайков на других постах.\n",
    "\n",
    "a) Оцените методом максимального правдоподобия параметр $\\lambda$ для каждой из четырёх случайных величин. Проинтерпретируйте полученые оценки. \n",
    "\n",
    "b) Постройте для всех четырёх ситуаций доверительные интервалы для параметра $\\lambda$. Почему для одних случайных величин он получился более узким, а для других более широким? \n",
    "\n",
    "с) Сколько лайков, репостов, комментариев и просмотров окажется под следующим постом? Постройте для своего прогноза $95\\%$ доверительный интервал. "
   ]
  },
  {
   "cell_type": "code",
   "execution_count": 3,
   "metadata": {},
   "outputs": [
    {
     "data": {
      "text/html": [
       "<ol class=list-inline>\n",
       "\t<li>4</li>\n",
       "\t<li>9</li>\n",
       "\t<li>0</li>\n",
       "\t<li>0</li>\n",
       "\t<li>0</li>\n",
       "\t<li>0</li>\n",
       "\t<li>4</li>\n",
       "\t<li>0</li>\n",
       "\t<li>0</li>\n",
       "\t<li>3</li>\n",
       "</ol>\n"
      ],
      "text/latex": [
       "\\begin{enumerate*}\n",
       "\\item 4\n",
       "\\item 9\n",
       "\\item 0\n",
       "\\item 0\n",
       "\\item 0\n",
       "\\item 0\n",
       "\\item 4\n",
       "\\item 0\n",
       "\\item 0\n",
       "\\item 3\n",
       "\\end{enumerate*}\n"
      ],
      "text/markdown": [
       "1. 4\n",
       "2. 9\n",
       "3. 0\n",
       "4. 0\n",
       "5. 0\n",
       "6. 0\n",
       "7. 4\n",
       "8. 0\n",
       "9. 0\n",
       "10. 3\n",
       "\n",
       "\n"
      ],
      "text/plain": [
       " [1] 4 9 0 0 0 0 4 0 0 3"
      ]
     },
     "metadata": {},
     "output_type": "display_data"
    }
   ],
   "source": [
    "df = read.csv('/Users/fulyankin/Yandex.Disk.localized/R/R_prob_data//memes_likes.csv', sep=';') \n",
    "d<-df$comments \n",
    "d[1:10]"
   ]
  },
  {
   "cell_type": "code",
   "execution_count": 23,
   "metadata": {},
   "outputs": [
    {
     "name": "stderr",
     "output_type": "stream",
     "text": [
      "`stat_bin()` using `bins = 30`. Pick better value with `binwidth`.\n"
     ]
    },
    {
     "data": {},
     "metadata": {},
     "output_type": "display_data"
    },
    {
     "data": {
      "image/png": "[encoded data removed]",
      "text/plain": [
       "plot without title"
      ]
     },
     "metadata": {},
     "output_type": "display_data"
    }
   ],
   "source": [
    "qplot(df$comments)"
   ]
  },
  {
   "cell_type": "code",
   "execution_count": 28,
   "metadata": {},
   "outputs": [
    {
     "data": {
      "text/html": [
       "-9.32453910566812"
      ],
      "text/latex": [
       "-9.32453910566812"
      ],
      "text/markdown": [
       "-9.32453910566812"
      ],
      "text/plain": [
       "[1] -9.324539"
      ]
     },
     "metadata": {},
     "output_type": "display_data"
    },
    {
     "data": {
      "text/plain": [
       "--------------------------------------------\n",
       "Maximum Likelihood estimation\n",
       "Newton-Raphson maximisation, 4 iterations\n",
       "Return code 1: gradient close to zero\n",
       "Log-Likelihood: 359.415 \n",
       "1  free parameters\n",
       "Estimates:\n",
       "     Estimate Std. error t value Pr(> t)    \n",
       "[1,]   4.1980     0.1456   28.84  <2e-16 ***\n",
       "---\n",
       "Signif. codes:  0 ‘***’ 0.001 ‘**’ 0.01 ‘*’ 0.05 ‘.’ 0.1 ‘ ’ 1\n",
       "--------------------------------------------"
      ]
     },
     "metadata": {},
     "output_type": "display_data"
    }
   ],
   "source": [
    "log_lik <- function(Lambda,data) { \n",
    "    n <- length(data) \n",
    "    result <- -Lambda*n + sum(data) * log(Lambda)\n",
    "    return(result) \n",
    "} \n",
    "\n",
    "log_lik(7, c(1,2,3))\n",
    "\n",
    "result <- maxLik(log_lik, start=5,data=d)\n",
    "summary(result)"
   ]
  },
  {
   "cell_type": "code",
   "execution_count": 25,
   "metadata": {},
   "outputs": [
    {
     "data": {
      "text/plain": [
       "--------------------------------------------\n",
       "Maximum Likelihood estimation\n",
       "Newton-Raphson maximisation, 4 iterations\n",
       "Return code 1: gradient close to zero\n",
       "Log-Likelihood: 359.415 \n",
       "1  free parameters\n",
       "Estimates:\n",
       "     Estimate Std. error t value Pr(> t)    \n",
       "[1,]   4.1980     0.1456   28.84  <2e-16 ***\n",
       "---\n",
       "Signif. codes:  0 ‘***’ 0.001 ‘**’ 0.01 ‘*’ 0.05 ‘.’ 0.1 ‘ ’ 1\n",
       "--------------------------------------------"
      ]
     },
     "metadata": {},
     "output_type": "display_data"
    }
   ],
   "source": []
  },
  {
   "cell_type": "code",
   "execution_count": null,
   "metadata": {},
   "outputs": [],
   "source": []
  },
  {
   "cell_type": "code",
   "execution_count": 27,
   "metadata": {},
   "outputs": [
    {
     "data": {
      "text/html": [
       "4.19796755347344"
      ],
      "text/latex": [
       "4.19796755347344"
      ],
      "text/markdown": [
       "4.19796755347344"
      ],
      "text/plain": [
       "[1] 4.197968"
      ]
     },
     "metadata": {},
     "output_type": "display_data"
    },
    {
     "data": {
      "text/html": [
       "4.19796954314721"
      ],
      "text/latex": [
       "4.19796954314721"
      ],
      "text/markdown": [
       "4.19796954314721"
      ],
      "text/plain": [
       "[1] 4.19797"
      ]
     },
     "metadata": {},
     "output_type": "display_data"
    }
   ],
   "source": [
    "res <- nlm(log_lik, 2, hessian=TRUE, d) \n",
    "res$estimate\n",
    "mean(d)"
   ]
  },
  {
   "cell_type": "code",
   "execution_count": null,
   "metadata": {},
   "outputs": [],
   "source": [
    "# минимизируем минус правдоподобие <=> максимизируем правдоподобие\n",
    "res <- nlm(lnL,c(1/3,1/3),\n",
    "            hessian=TRUE,\n",
    "            X=c(x1,x2),n)"
   ]
  },
  {
   "cell_type": "code",
   "execution_count": 12,
   "metadata": {},
   "outputs": [
    {
     "data": {
      "text/html": [
       "4.19796954314721"
      ],
      "text/latex": [
       "4.19796954314721"
      ],
      "text/markdown": [
       "4.19796954314721"
      ],
      "text/plain": [
       "[1] 4.19797"
      ]
     },
     "metadata": {},
     "output_type": "display_data"
    }
   ],
   "source": []
  },
  {
   "cell_type": "markdown",
   "metadata": {},
   "source": []
  },
  {
   "cell_type": "code",
   "execution_count": null,
   "metadata": {},
   "outputs": [],
   "source": [
    "# Ваш код"
   ]
  },
  {
   "cell_type": "markdown",
   "metadata": {},
   "source": [
    "## Задачка 7\n",
    "\n",
    "В этой задачке есть всё. Пусть $X_1, \\ldots, X_n$ независимые случайные величины с плотностью распределения \n",
    "\n",
    "$$\n",
    "f_X(x) = \\begin{cases} (a+1) \\cdot x^a, \\quad x \\in [0;1] \\\\ 0, \\text{ иначе} \\end{cases}\n",
    "$$\n",
    "\n",
    "a) Найдите руками для параметра $a$ оценку методом моментов. Найдите оценку методом максимального правдоподобия. \n",
    "\n",
    "b) Найдите асимптотические распределения этих оценок. \n",
    "\n",
    "с) Постройте на основе этих распределений $95\\%$ доверительные интервалы. Для какой оценки доверительный интервал оказался короче? \n",
    "\n",
    "d) Какая из оценок является асимптотически более крутой? Для ответа на этот вопрос найдите $$\\lim_{n \\to \\infty} \\frac{\\hat Var(\\hat a_{ML})}{\\hat Var(\\hat a_{MM})}.$$\n",
    "\n",
    "e) Сгенерируйте в R выборку объёма $100$ из этого распределения. Постройте оценки, а также доверительные интервалы для них. Правда ли, что результаты, полученные в пунктах с) и d) верны для этой выборки? "
   ]
  },
  {
   "cell_type": "code",
   "execution_count": null,
   "metadata": {},
   "outputs": [],
   "source": [
    "# Ваш код здесь"
   ]
  }
 ],
 "metadata": {
  "kernelspec": {
   "display_name": "R",
   "language": "R",
   "name": "ir"
  },
  "language_info": {
   "codemirror_mode": "r",
   "file_extension": ".r",
   "mimetype": "text/x-r-source",
   "name": "R",
   "pygments_lexer": "r",
   "version": "3.4.4"
  }
 },
 "nbformat": 4,
 "nbformat_minor": 2
}
