{
 "cells": [
  {
   "cell_type": "markdown",
   "metadata": {},
   "source": [
    "<img src=\"https://raw.githubusercontent.com/FUlyankin/r_probability/master/end_seminars/sem_4/M_MPlain_grande.png\" height=\"300\" width=\"300\"> \n",
    "\n",
    "\n",
    "# <center> R для тервера и матстата. <br>  <br> Домашка номер три! </center>\n",
    "\n",
    "Данный ноутбук является домашкой по курсу «R для теории вероятностей и математической статистики» (РАНХиГС, 2019). Автор ноутбука [вот этот парень по имени Филипп.](https://vk.com/ppilif) Если у вас для него есть деньги, слава или женщины, он от этого всего не откажется. Ноутбук распространяется на условиях лицензии [Creative Commons Attribution-Share Alike 4.0.](https://creativecommons.org/licenses/by-sa/4.0/) При использовании обязательно упоминание автора курса и аффилиации. При наличии технической возможности необходимо также указать активную гиперссылку на [страницу курса.](https://fulyankin.github.io/R_probability/) На ней можно найти другие материалы. Фрагменты кода, включенные в этот notebook, публикуются как [общественное достояние.](https://creativecommons.org/publicdomain/zero/1.0/)\n",
    "\n",
    "----------------------\n",
    "\n",
    "Приветствую вас внутри третьей домашки. __Краткий брифинг:__ \n"
   ]
  },
  {
   "cell_type": "markdown",
   "metadata": {},
   "source": [
    "* __Дедлайн: 16.06.19__\n",
    "* Третья домашка затрагивает метод максимального правдоподобия, построение доверительных интервалов, немного проверку гипотез и свойства оценок. \n",
    "* Она построена как последовательность из небольших рисёрчей, в ходе которых вы будете пытаться находить по данным ответы на реальные вопросы. Несколько маленьких рисёрчей - рыбёшки. Огромный рисёрч про лайки и пуассоновские модели - кит. \n",
    "* Довольно часто вам придётся выводить что-нибудь руками. В основном, выписывать правдоподобие и что-нибудь делать с ним. После нужно будет вбивать его в виде функции и оптимизировать. __Все ваши ручные вычисления должны быть приложены к решению.__ \n",
    "* __WARNING:__ решений прошлого года для этой домашки нет. Она свежая. \n",
    "\n",
    "---------------------------\n",
    "\n",
    "* __Как оформлять домашки:__ \n",
    "    1. Компьютерные домашки оформляем либо в связке R + LaTeX, либо в юпитерских тетрадках (если хочется новых технологий), либо в связке R + Markdown. Все шаблоны для этого есть в репозитории. Пожалуйста, не нужно присылать мне просто тупой код с выводами в виде комментариев, написанных через решёточки. Я от этого могу сойти с ума. \n",
    "    2. Ручные решение можно оформлять двумя способами: либо вбивать их в файл вместе с кодом. Благо в Markdown, юпитере и других местах поддерживаются теховские формулу. Либо аккуратно оформляйте их на бумаге и присылайте свёрстанную pdf-ку. Не надо кидать мне фотки по одной. Я от этого тоже сойду с ума. Вариант с вбиванием в основной файл - предпочтительнее. Заодно попрактикуетесь в формулах для LaTeX. \n",
    "    \n",
    "* На странице курса висит [видео-инструкция по оформлению.](https://yadi.sk/i/Pxp_pByP6Em9-A)\n",
    "\n",
    "---------------------------\n",
    "\n",
    "Ближе к делу. С чего начинается любой скрипт? Правильно! С подгрузки пакетов :) "
   ]
  },
  {
   "cell_type": "code",
   "execution_count": 69,
   "metadata": {},
   "outputs": [],
   "source": [
    "library('maxLik') # пакет для метода макс. правдоподобия\n",
    "library('dplyr')  # пакет для работы с таблицами \n",
    "\n",
    "library(\"ggplot2\")  # Пакет для красивых графиков \n",
    "library(\"grid\")     # Пакет для субплотов\n",
    "\n",
    "# Отрегулируем размер картинок, которые будут выдаваться в нашей тетрадке\n",
    "library('repr')\n",
    "options(repr.plot.width=4, repr.plot.height=3)"
   ]
  },
  {
   "cell_type": "markdown",
   "metadata": {},
   "source": [
    "# 1. Рыбёшки "
   ]
  },
  {
   "cell_type": "markdown",
   "metadata": {},
   "source": [
    "### [10] Задачка 1 (Наркотики)\n",
    "\n",
    "Каждый из группы второкурсников, пришедшей на пару подкинул монетку два раза и никому не рассказывал, что у него выпало. В зависимости от того, что выпало на монетках, а также от того пробовал ли человек наркотики или нет, он сказал одну из двух фраз: болото или феечка Винкс.\n",
    "\n",
    "\n",
    "|    ?       |был хотя бы один орел| не было ни одного орла|\n",
    "|-----------|---------------------|-----------------------|\n",
    "|пробовал   |   болото            | феечка Винкс          |\n",
    "|не пробовал|  феечка Винкс       |      болото           |\n",
    "\n",
    "\n",
    "Ответы распределились следующим образом: \n",
    "\n",
    "Болото сказали 10 человек, феечка Винкс сказали 4 человека.\n",
    "\n",
    "__a)__ Оцените методом максимального правдоподобия долю второкурсников, пробовавших наркотики. Сделайте все необходимые выводы на бумажке, после вбейте в R и найдите оценку. \n",
    "\n",
    "__b)__ Найдите $\\hat{Var}(\\hat p)$.\n",
    "\n",
    "__c)__ Постройте $80\\%$ доверительный интервал для доли пробовавших наркотики. "
   ]
  },
  {
   "cell_type": "code",
   "execution_count": null,
   "metadata": {},
   "outputs": [],
   "source": []
  },
  {
   "cell_type": "markdown",
   "metadata": {},
   "source": [
    "### [?] Задачка 2 (Попасть на Титаник и Выжить)\n",
    "\n",
    "\n",
    "ну либо осьминог пауль, я хз. Вроде титаник нормуль. Сюда проверить гипотезу методом отношений о чемнить а потом хуякнуть модель с параметром для мужин и женщин и гипотезу о равенстве вероятностей, отсылка к логрегрессии почитать про материалы прошлого года"
   ]
  },
  {
   "cell_type": "code",
   "execution_count": null,
   "metadata": {},
   "outputs": [],
   "source": []
  },
  {
   "cell_type": "code",
   "execution_count": null,
   "metadata": {},
   "outputs": [],
   "source": []
  },
  {
   "cell_type": "markdown",
   "metadata": {},
   "source": [
    "### Задачка 3 (Сериалы)\n",
    "\n",
    "Оцените методом максимального правдоподобия какия сериалы Филипп посмотрел за последний год. Для каждого сериала дайте обоснование, почему вы решили, что я его смотрел. Каждый угаданный сериал принесёт вам дополнительный балл.  Каждый неправильно предположенный сериал отнимет у вас один балл. Правильно угаданные сериалы без обоснования тоже отбирут у вас один балл. "
   ]
  },
  {
   "cell_type": "code",
   "execution_count": null,
   "metadata": {},
   "outputs": [],
   "source": [
    "### :3 "
   ]
  },
  {
   "cell_type": "markdown",
   "metadata": {},
   "source": [
    "### [?] Задачка 4 (Недвижимая недвижимость)\n",
    "\n",
    "В [табличке](https://yadi.sk/i/hDxMJ0fw3VSDmu) лежит информация о стоимости квартир в Москве и о основных параметрах этих квартир.\n",
    "\n",
    "__Описание переменных:__\n",
    "\n",
    "```\n",
    "n – номер квартиры по порядку\n",
    "price – цена квартиры в $1000\n",
    "totsp – общая площадь квартиры, кв.м.\n",
    "livesp жилая площадь квартиры, кв.м.\n",
    "kitsp – площадь кухни, кв.м.\n",
    "dist – расстояние от центра в км.\n",
    "metrdist – расстояние до метро в минутах\n",
    "walk – 1 – пешком от метро, 0 – на транспорте\n",
    "brick 1 – кирпичный, монолит ж/б, 0 – другой\n",
    "floor 1 – этаж кроме первого и последнего, 0 – иначе.\n",
    "code – число от 1 до 8, при помощи которого мы группируем наблюдения по\n",
    "подвыборкам:\n",
    "1. Наблюдения сгруппированы на севере, вокруг Калужско-Рижской линии\n",
    "метрополитена\n",
    "2. Север, вокруг Серпуховско-Тимирязевской линии метрополитена\n",
    "3. Северо-запад, вокруг Замоскворецкой линии метрополитена\n",
    "4. Северо-запад, вокруг Таганско-Краснопресненской линии метрополитена\n",
    "5. Юго-восток, вокруг Люблинской линии метрополитена\n",
    "6. Юго-восток, вокруг Таганско-Краснопресненской линии метрополитена\n",
    "7. Восток, вокруг Калиниской линии метрополитена\n",
    "8. Восток, вокруг Арбатско-Покровской линии метрополитена\n",
    "```\n",
    "\n",
    "На паре по довреительным интервалам мы уже работали с этой табилицей. Мы обсудили многие вещи про цены. В этой домашке мы продолжим рисёрчить цены. Нас ждёт несколько неожиданных нюансов. "
   ]
  },
  {
   "cell_type": "code",
   "execution_count": 7,
   "metadata": {},
   "outputs": [
    {
     "data": {
      "text/html": [
       "2040"
      ],
      "text/latex": [
       "2040"
      ],
      "text/markdown": [
       "2040"
      ],
      "text/plain": [
       "[1] 2040"
      ]
     },
     "metadata": {},
     "output_type": "display_data"
    },
    {
     "data": {
      "text/html": [
       "<table>\n",
       "<thead><tr><th scope=col>n</th><th scope=col>price</th><th scope=col>totsp</th><th scope=col>livesp</th><th scope=col>kitsp</th><th scope=col>dist</th><th scope=col>metrdist</th><th scope=col>walk</th><th scope=col>brick</th><th scope=col>floor</th><th scope=col>code</th></tr></thead>\n",
       "<tbody>\n",
       "\t<tr><td>1   </td><td> 81 </td><td> 58 </td><td>40  </td><td> 6  </td><td>12.5</td><td>7   </td><td>1   </td><td>1   </td><td>1   </td><td>3   </td></tr>\n",
       "\t<tr><td>2   </td><td> 75 </td><td> 44 </td><td>28  </td><td> 6  </td><td>13.5</td><td>7   </td><td>1   </td><td>0   </td><td>1   </td><td>6   </td></tr>\n",
       "\t<tr><td>3   </td><td>128 </td><td> 70 </td><td>42  </td><td> 6  </td><td>14.5</td><td>3   </td><td>1   </td><td>1   </td><td>1   </td><td>3   </td></tr>\n",
       "\t<tr><td>4   </td><td> 95 </td><td> 61 </td><td>37  </td><td> 6  </td><td>13.5</td><td>7   </td><td>1   </td><td>0   </td><td>1   </td><td>1   </td></tr>\n",
       "\t<tr><td>5   </td><td>330 </td><td>104 </td><td>60  </td><td>11  </td><td>10.5</td><td>7   </td><td>0   </td><td>1   </td><td>1   </td><td>3   </td></tr>\n",
       "\t<tr><td>6   </td><td>137 </td><td> 76 </td><td>50  </td><td> 9  </td><td>11.0</td><td>7   </td><td>1   </td><td>1   </td><td>1   </td><td>8   </td></tr>\n",
       "</tbody>\n",
       "</table>\n"
      ],
      "text/latex": [
       "\\begin{tabular}{r|lllllllllll}\n",
       " n & price & totsp & livesp & kitsp & dist & metrdist & walk & brick & floor & code\\\\\n",
       "\\hline\n",
       "\t 1    &  81  &  58  & 40   &  6   & 12.5 & 7    & 1    & 1    & 1    & 3   \\\\\n",
       "\t 2    &  75  &  44  & 28   &  6   & 13.5 & 7    & 1    & 0    & 1    & 6   \\\\\n",
       "\t 3    & 128  &  70  & 42   &  6   & 14.5 & 3    & 1    & 1    & 1    & 3   \\\\\n",
       "\t 4    &  95  &  61  & 37   &  6   & 13.5 & 7    & 1    & 0    & 1    & 1   \\\\\n",
       "\t 5    & 330  & 104  & 60   & 11   & 10.5 & 7    & 0    & 1    & 1    & 3   \\\\\n",
       "\t 6    & 137  &  76  & 50   &  9   & 11.0 & 7    & 1    & 1    & 1    & 8   \\\\\n",
       "\\end{tabular}\n"
      ],
      "text/markdown": [
       "\n",
       "| n | price | totsp | livesp | kitsp | dist | metrdist | walk | brick | floor | code |\n",
       "|---|---|---|---|---|---|---|---|---|---|---|\n",
       "| 1    |  81  |  58  | 40   |  6   | 12.5 | 7    | 1    | 1    | 1    | 3    |\n",
       "| 2    |  75  |  44  | 28   |  6   | 13.5 | 7    | 1    | 0    | 1    | 6    |\n",
       "| 3    | 128  |  70  | 42   |  6   | 14.5 | 3    | 1    | 1    | 1    | 3    |\n",
       "| 4    |  95  |  61  | 37   |  6   | 13.5 | 7    | 1    | 0    | 1    | 1    |\n",
       "| 5    | 330  | 104  | 60   | 11   | 10.5 | 7    | 0    | 1    | 1    | 3    |\n",
       "| 6    | 137  |  76  | 50   |  9   | 11.0 | 7    | 1    | 1    | 1    | 8    |\n",
       "\n"
      ],
      "text/plain": [
       "  n price totsp livesp kitsp dist metrdist walk brick floor code\n",
       "1 1  81    58   40      6    12.5 7        1    1     1     3   \n",
       "2 2  75    44   28      6    13.5 7        1    0     1     6   \n",
       "3 3 128    70   42      6    14.5 3        1    1     1     3   \n",
       "4 4  95    61   37      6    13.5 7        1    0     1     1   \n",
       "5 5 330   104   60     11    10.5 7        0    1     1     3   \n",
       "6 6 137    76   50      9    11.0 7        1    1     1     8   "
      ]
     },
     "metadata": {},
     "output_type": "display_data"
    }
   ],
   "source": [
    "df = read.csv('/Users/fulyankin/Yandex.Disk.localized/R/R_prob_data/flat.csv', sep='\\t')\n",
    "nrow(df) # сколько всего строчек в табличке \n",
    "head(df)"
   ]
  },
  {
   "cell_type": "markdown",
   "metadata": {},
   "source": [
    "__[а]__ Сразу прыгаем в пекло. Предположим, что цена на квартиру имеет нормальное распределение, $price \\sim N(\\mu, \\sigma^2)$. Выпишите для этой задачки функцию правдоподобия, найдите оценки для параметров, а также оценку их ковариационной матрицы. Сделайте всё это руками на листочке. "
   ]
  },
  {
   "cell_type": "code",
   "execution_count": null,
   "metadata": {},
   "outputs": [],
   "source": []
  },
  {
   "cell_type": "markdown",
   "metadata": {},
   "source": [
    "__[б]__ Найдите оценки для $\\mu$ и $\\sigma^2$ на компьютере. Правда ли, что они асимптотически независимы? Правда ли, что они просто независимы (тут надо вспомнить вторую домашку, доказывать это опять не надо, хватит ответа да или нет). "
   ]
  },
  {
   "cell_type": "code",
   "execution_count": null,
   "metadata": {},
   "outputs": [],
   "source": []
  },
  {
   "cell_type": "markdown",
   "metadata": {},
   "source": [
    "__[в]__ Постройте для средней цены $90\\%$ доверительный интервал."
   ]
  },
  {
   "cell_type": "code",
   "execution_count": null,
   "metadata": {},
   "outputs": [],
   "source": []
  },
  {
   "cell_type": "markdown",
   "metadata": {},
   "source": [
    "__[г]__ С чего всё началось? Сундук выплюнул на нас выборку, а мы выдвинули предпосылку, что она из нормального распределения. Постройте для цен гистограмму. Как думаете, верна ли эта предпосылка? Есть ли в ценах выбросы? "
   ]
  },
  {
   "cell_type": "code",
   "execution_count": null,
   "metadata": {},
   "outputs": [],
   "source": []
  },
  {
   "cell_type": "markdown",
   "metadata": {},
   "source": [
    "__[д]__ Попробуем исправиться. Давайте возьмём от цен логарифм. Постройте для $\\ln(price)$ гистограмму. Стало ли распределение более похожим на нормальное? Что стало с выбросами? "
   ]
  },
  {
   "cell_type": "code",
   "execution_count": null,
   "metadata": {},
   "outputs": [],
   "source": []
  },
  {
   "cell_type": "markdown",
   "metadata": {},
   "source": [
    "__[е]__ Иногда исследователи предполагают, что цены имеют логнормальное распределение. Если вы никогда не слышали про него, [бегом на википедию!](https://en.wikipedia.org/wiki/Log-normal_distribution)  Обратите внимание на раздел `Occurrence and applications`, там есть примеры, в которых используют эту модель. \n",
    "\n",
    "Есть случайная величина $price$. Для неё у нас есть $E(price) = \\mu$ и $Var(price) = \\sigma^2$. Ест случайная величина $\\ln(price) \\sim N(a, \\tau^2)$. Параметры этих двух случайных величин взаимосвязаны между собой. И вы даже знаете как, если сходили на википедию. Методом максимального правдоподобия найдите оценку для параметров $a$ и $\\tau^2$. "
   ]
  },
  {
   "cell_type": "code",
   "execution_count": null,
   "metadata": {},
   "outputs": [],
   "source": []
  },
  {
   "cell_type": "markdown",
   "metadata": {},
   "source": [
    "__[ж]__ Помните свойство инвариантности оценок максимального правдоподобия, состоящее в том, что если $\\hat \\theta$ это оценка для $\\theta$, тогда $g(\\hat \\theta)$ это оценка для $g(\\theta)$. Примените это свойство и получите оценки для $\\mu$ и $\\sigma^2$. Насколько координально новые оценки отличаются от старых? "
   ]
  },
  {
   "cell_type": "code",
   "execution_count": null,
   "metadata": {},
   "outputs": [],
   "source": []
  },
  {
   "cell_type": "markdown",
   "metadata": {},
   "source": [
    "__[з]__ Вспоминаем про свойства максимального правдоподобия. Оценки, полученные этим методом имеют асимптотически нормальное распределение. Интересующая нас оценка $$\\hat \\mu = g(\\hat a, \\hat \\tau^2)$$ - это функция от оценок максимального правдоподобия. Мы хотели бы построить для $\\hat \\mu$ доверительный интервал. Беда в том, что мы не знаем для него дисперсии. \n",
    "\n",
    "Вспоминаем другую замечательную штуку, дельта-метод. Он говорил нам, что если \n",
    "\n",
    "$$X \\sim N(\\mu; \\sigma^2),$$ \n",
    "\n",
    "тогда \n",
    "\n",
    "$$g(X) \\sim N(g(\\mu); \\sigma^2 \\cdot (g'(\\mu))^2).$$ \n",
    "\n",
    "Как мы это получили? Просто разложили функцию $g$ в ряд Тэйлора. Все распределения были асимптотическими. \n",
    "\n",
    "В нашей ситуации беда в том, что функция $g$ зависит сразу от двух асимптотически нормальных случайных величин. Нам нужно обобщить дельта-метод на случай функции от нескольких аргументов и раскладывать в ряд Тэйлора по двум аргументам. Давайте посмотрим на то, как это работает на конкретном примере. "
   ]
  },
  {
   "cell_type": "markdown",
   "metadata": {},
   "source": [
    "Пущай у нас есть две оценки $\\hat a$ и $\\hat \\tau^2$. И нас интересует $g(a, \\tau^2) = \\frac{\\tau^2}{a}$. Если вы правильно сделали всё для поиска ковариационной матрицы, у вас должно было получится, что \n",
    "\n",
    "$$\n",
    "[-H]^{-1} = \\begin{pmatrix} \\frac{\\tau^2}{n} & 0 \\\\ 0 & \\frac{\\tau^2}{2n} \\end{pmatrix} \n",
    "$$\n",
    "\n",
    "Если мы подставим сюда оценку $\\hat \\tau^2$, то мы получим оценку ковариационной матрицы для вектора параметров.\n",
    "\n",
    "Когда мы говорили о одномерном случае мы просто умножали дисперсию на квадрат производной. Сейчас у нашей функции два параметра. Значит производных тоже две. Найдём её градиент. \n",
    "\n",
    "$$\n",
    "\\nabla g = \\begin{pmatrix} \\frac{\\partial g}{\\partial a} \\\\ \\frac{\\partial g}{\\partial \\tau^2}  \\end{pmatrix} = \\begin{pmatrix} \\frac{-\\tau^2}{a^2} \\\\ \\frac{1}{a} \\end{pmatrix} \n",
    "$$\n",
    "\n",
    "Выражение $\\nabla g^T \\cdot [-H]^{-1} \\cdot \\nabla g$ это ровно то же самое, что умножение на квадрат производной в одномерном случае. Закончим поиск дисперсии для функции $g$:\n",
    "\n"
   ]
  },
  {
   "cell_type": "markdown",
   "metadata": {},
   "source": [
    "$$\n",
    "Var(g(a, \\tau^2)) = \\begin{pmatrix} \\frac{-\\tau^2}{a^2} \\\\ \\frac{1}{a} \\end{pmatrix}^T \\cdot \\begin{pmatrix} \\frac{\\tau^2}{n} & 0 \\\\ 0 & \\frac{\\tau^2}{2n} \\end{pmatrix} \\cdot \\begin{pmatrix} \\frac{-\\tau^2}{a^2} \\\\ \\frac{1}{a} \\end{pmatrix} = \\frac{1}{n} \\cdot \\left(\\frac{1}{a^4} + \\frac{\\tau^2}{2a^2} \\right).\n",
    "$$\n",
    "\n",
    "Чтобы получить оценку для дисперсии, нужно подставить в формулу $\\hat a$ и $\\hat \\tau^2$. Дальше можно стоить для $g$ доверительный интервал."
   ]
  },
  {
   "cell_type": "markdown",
   "metadata": {},
   "source": [
    "__Подытожим.__ Если вектор $\\hat \\theta$ имеет асимптотическое многомерное нормальное распределение \n",
    "\n",
    "$$ \n",
    "\\hat \\theta \\sim N(\\theta; Var(\\theta)),\n",
    "$$\n",
    "\n",
    "и у нас есть диффириенцируемая функция $g(\\theta)$, тогда случайная величина \n",
    "\n",
    "$$\n",
    "g(\\hat \\theta) \\sim N \\left( g(\\theta); \\nabla g^T \\cdot Var(\\theta) \\cdot \\nabla g \\right)\n",
    "$$\n",
    "\n",
    "__Что я хочу от вас:__ Найдите распределение средней цены и постройте для неё $90\\%$ доверительный интервал. Насколько координально он отличается от интервала, поулченного в пункте __[в]?__"
   ]
  },
  {
   "cell_type": "code",
   "execution_count": null,
   "metadata": {},
   "outputs": [],
   "source": []
  },
  {
   "cell_type": "markdown",
   "metadata": {},
   "source": [
    "__Мораль:__ мы попробовали сходу замоделировать цены, отталкиваясь от предпосылки, что они распределены нормально. Мы напоролись на проблемы, связанные с тем, что наши предпослыки не выполнялись в реальности. Во многом анализ данных целиком и полностью состаит из отчаянной борьбы за предпосылки. Часто приходится довольно долго подбирать такую спецификацию модели, которая лучше ляжет на данные. Обычноб перед тем как ринуться в бой, проверяют серию из различных гипотез. Мы посмотрим на то, как это делается в следующие разы, когда резко погрузимся в финансовый мир. \n",
    "\n",
    "Логарифмирование переменной это довольно частый приём, с помощью которого у распределения пытаются обрубить длинный хвост и сгладить распределение признака. Благодаря этому сглаживанию модели, основанные на нормальности (например тот же самый МНК), начинают работать лучше. Есть целый набор нормализующих преобразований, который называется __преобразованием Бокса-Кокса.__ На эконометрике вы будете его обсуждать. Наверное. \n",
    "\n",
    "----------------------------"
   ]
  },
  {
   "cell_type": "markdown",
   "metadata": {},
   "source": [
    "### [?] Задачка 5 (Кролики) \n",
    "\n",
    "Впервые европейцы появились на берешах Австралии в $1606$ году. Голландцы под руководством Виллема Янсзона сошли на её прекрасные берега. Приплыли они в пустыню. Поэтому сразу же взошли на борт и свалили.  В $1788$ году к Австралии пришвартовались несколько Британских кораблей. Пришвартовались они с правильной стороны материка. Это позволило основать в Австралии колонию для осуждённых, которая впоследствии превратилась в Сидней. С тех пор Австралия использовалась англичанами как тюрьма. \n",
    "\n",
    "Со временем на материке появились и другие, никак не связанные с преступниками колонии. В $1901$ году Австралийские колонии создали свою собственную федерацию. На $2014$ год население Австралии составляет $23$ млн. человек (население Москвы - около $15$ млн.). \n",
    "\n",
    "В $1858$ году колонисты привезли в Австралию $24$ кролика. Год спустя этих длинноухих зверьков  можно было увидеть за $100$ километров от места высадки — и на север, и на запад. А через $3-4$ года число кроликов  возросло до $750$ миллионов. И начался хаос.\n",
    "\n",
    "Кролики на пастбищах начали соперничать с овцами и коровами. Десять кроликов съедали столько травы, сколько съедала одна овца. Только вот от овцы можно получить мяса в три раза больше. Фермеры уже подсчитывали свои убытки и объявили кроликам настоящую войну. Более того, кролики начали вытеснять из привычных зон обитания местные уникальные виды. К борьбе с кроликами подключились и ученые.\n",
    "\n",
    "Сама борьба с кроликами принесла немало бед для Австралийской флоры и фауны. Первоначально решили завезти естественных врагов кроликов – лисиц, хорьков, кошек, горностаев, ласок. Но попытка не увенчалась успехом. Привезенные виды также стали активно размножаться. Вместо того, чтобы охотиться на быстрых кроликов, они стали поедать местных сумчатых животных и птиц, которые были не так быстры и не могли сопротивляться новым хищникам.\n",
    "\n",
    "Тогда обратились к традиционным методам – ядохимикаты, отстрел, взрывание нор. Это было не эффективно, учитывая огромную численность животных. В штате Западная Австралия в период с $1901$ по $1907$ гг. построили огромный проволочный забор. Он так и называется – «Забор от кроликов №1». Забор постоянно патрулируется на машинах, кроличьи подкопы засыпаются, кролики отстреливаются. \n",
    "\n",
    "Сначала забор патрулировали на верблюдах, привезённых из Африки (ничему жизнь не учит австралийских колонистов). После появления автомашин, верблюдов за ненадобностью выпустили на волю, они расплодились, стали уничтожать пастбища, и в Австралии появилась новая проблема.\n",
    "\n",
    "В середине $50$-х гг. $20$ века для борьбы с кроликами стали использовать достижения медицины. В Австралию привезли кроличьих блох и комаров, зараженных вирусом миксоматоза. Это заболевание вызывает опухоли и смерть кроликов. Таким образом было уничтожено около $90\\%$ заболевших животных. Но оставшиеся кролики выработали иммунитет, с течением времени стали реже заболевать и ещё реже умирать. Так что на данный момент проблема кроликов в Австралии до сих пор не решена.\n",
    "\n",
    "* [Серия Симпсонов, где вместо кроликов — лягушки.  Но мы то понимаем...](http://www.simp-fan.ru/episode/616/)\n",
    "* [О кроликах и Австралии на википедии.](https://ru.wikipedia.org/wiki/Кролики_в_Австралии)\n",
    "\n",
    "<img src=\"https://upload.wikimedia.org/wikipedia/commons/4/49/Rabbits_MyxomatosisTrial_WardangIsland_1938.jpg\" width=\"600\"> "
   ]
  },
  {
   "cell_type": "markdown",
   "metadata": {},
   "source": [
    "В этой задачке мы попробуем немного поработать с результатами исследований $1956$ года. В нём [Феннер и его коллеги](https://www.cambridge.org/core/services/aop-cambridge-core/content/view/8B829D0C0E0BFBBE4C6279BD3B272EA7/S002217240004451Xa.pdf/further_studies_on_the_mechanism_of_mosquito_transmission_of_myxomatosis_in_the_european_rabbit.pdf) изучали разные вирусы, из-за которых умирают кролики. Табличка с собранными данными есть внутри R в пакете `emdbook`. Установим пакет и подгрузим данные. "
   ]
  },
  {
   "cell_type": "code",
   "execution_count": 89,
   "metadata": {},
   "outputs": [
    {
     "data": {
      "text/html": [
       "<table>\n",
       "<thead><tr><th scope=col>grade</th><th scope=col>day</th><th scope=col>titer</th></tr></thead>\n",
       "<tbody>\n",
       "\t<tr><td>1    </td><td>2    </td><td>5.207</td></tr>\n",
       "\t<tr><td>1    </td><td>2    </td><td>5.734</td></tr>\n",
       "\t<tr><td>1    </td><td>2    </td><td>6.613</td></tr>\n",
       "\t<tr><td>1    </td><td>3    </td><td>5.997</td></tr>\n",
       "\t<tr><td>1    </td><td>3    </td><td>6.612</td></tr>\n",
       "\t<tr><td>1    </td><td>3    </td><td>6.810</td></tr>\n",
       "</tbody>\n",
       "</table>\n"
      ],
      "text/latex": [
       "\\begin{tabular}{r|lll}\n",
       " grade & day & titer\\\\\n",
       "\\hline\n",
       "\t 1     & 2     & 5.207\\\\\n",
       "\t 1     & 2     & 5.734\\\\\n",
       "\t 1     & 2     & 6.613\\\\\n",
       "\t 1     & 3     & 5.997\\\\\n",
       "\t 1     & 3     & 6.612\\\\\n",
       "\t 1     & 3     & 6.810\\\\\n",
       "\\end{tabular}\n"
      ],
      "text/markdown": [
       "\n",
       "| grade | day | titer |\n",
       "|---|---|---|\n",
       "| 1     | 2     | 5.207 |\n",
       "| 1     | 2     | 5.734 |\n",
       "| 1     | 2     | 6.613 |\n",
       "| 1     | 3     | 5.997 |\n",
       "| 1     | 3     | 6.612 |\n",
       "| 1     | 3     | 6.810 |\n",
       "\n"
      ],
      "text/plain": [
       "  grade day titer\n",
       "1 1     2   5.207\n",
       "2 1     2   5.734\n",
       "3 1     2   6.613\n",
       "4 1     3   5.997\n",
       "5 1     3   6.612\n",
       "6 1     3   6.810"
      ]
     },
     "metadata": {},
     "output_type": "display_data"
    }
   ],
   "source": [
    "#install.packages('emdbook')\n",
    "library('emdbook')\n",
    "\n",
    "# подгрузили данные \n",
    "data(MyxoTiter_sum)\n",
    "df = MyxoTiter_sum  #переименовал для удобства \n",
    "\n",
    "# глянули на них \n",
    "head(df)"
   ]
  },
  {
   "cell_type": "markdown",
   "metadata": {},
   "source": [
    "В колонке `grade` находится штамм вируса titr. Всего их в исследовании $5$ разновидностей. Пока что мы сосредоточимся на первом. В колонке `titer` находится показатель концентрации вируса в коже кролика. Измерение делалось в разные дни после заражения. Мы будем игнорировать этот факт и притворимся, что все измерения пришли к нам из одного распределения, которое не зависит от времени. То есть мы предположим, что выборка независима и одинакого распределена (на самом деле это неправда и чуть позже мы откажемся от такого подхода).\n",
    "\n",
    "Сконцентрируем внимание на первом штамме вируса."
   ]
  },
  {
   "cell_type": "code",
   "execution_count": 92,
   "metadata": {},
   "outputs": [],
   "source": [
    "df = df[df['grade'] == 1, ]"
   ]
  },
  {
   "cell_type": "markdown",
   "metadata": {},
   "source": [
    "Будем препдполагать, что данные о концентрации вируса пришли к нам из [гамма-распределения.](https://en.wikipedia.org/wiki/Gamma_distribution) Из того самого распределения из ваших контрольных! Почему именно оно? Концентрация принимает положительные значения в рамках какого-то фиксированного промежутка, а дальше начинается хвост распределения. Надо только понять где этот промежуток и насколько резко он обрывается. Параметры гамма-распределения помогают сделать это. \n",
    "\n",
    "__[а]__ Посмотрите на плотность гамма-распределения на Википедии. Попытайтесь проинтерпретировать за что отвечают его параметры. \n",
    "\n",
    "Экспоненциальное распределение, кстати говоря частный случай гамма-распределения. Давайте в этом убедимся.Выпишите плотность гамма-распределения. \n",
    "\n",
    "* при каких значениях параметров он совпадает с экспоненциальным\n",
    "* при каких значениях параметров оно совпадает с хи-квадрат распределением\n",
    "\n",
    "Вспомните как для экспоненциального распределения интерпретируется параметр $\\alpha$. Снова подумайте про интерпретацию параметров гамма-распределения. "
   ]
  },
  {
   "cell_type": "code",
   "execution_count": null,
   "metadata": {},
   "outputs": [],
   "source": []
  },
  {
   "cell_type": "markdown",
   "metadata": {},
   "source": [
    "__[б]__ Методом максимального правдоподобия оцените параметры гамма-распределения. Если есть проблемы с вбиванием функции правдоподобия, воспользуйтесь приёмом с `dgamma` из лекции. "
   ]
  },
  {
   "cell_type": "code",
   "execution_count": 93,
   "metadata": {},
   "outputs": [],
   "source": [
    "gammaNLL1 = function(th, X){\n",
    "  return(sum(log(dgamma(X, shape = th[1], scale = th[2]))))\n",
    "}"
   ]
  },
  {
   "cell_type": "code",
   "execution_count": 94,
   "metadata": {
    "scrolled": false
   },
   "outputs": [
    {
     "data": {
      "text/plain": [
       "Maximum Likelihood estimation\n",
       "Newton-Raphson maximisation, 7 iterations\n",
       "Return code 2: successive function values within tolerance limit\n",
       "Log-Likelihood: -37.66714 (2 free parameter(s))\n",
       "Estimate(s): 49.61192 0.1395647 "
      ]
     },
     "metadata": {},
     "output_type": "display_data"
    }
   ],
   "source": [
    "res <- maxLik(gammaNLL1,  start = c(45.8, 0.151), X = df$titer)\n",
    "res"
   ]
  },
  {
   "cell_type": "markdown",
   "metadata": {},
   "source": [
    "__[в]__ На одном графике постройте гистограмму для первого штамма и оценённую в ходе метода максимального правдоподобия плотность распределения."
   ]
  },
  {
   "cell_type": "code",
   "execution_count": 95,
   "metadata": {},
   "outputs": [
    {
     "data": {
      "image/png": "[encoded data removed]",
      "text/plain": [
       "plot without title"
      ]
     },
     "metadata": {},
     "output_type": "display_data"
    }
   ],
   "source": [
    "f <- dgamma\n",
    "fun_args <- list(shape =  49.6119, scale= 0.1395647)\n",
    "sample = df$titer\n",
    "\n",
    "binwidth = 0.2 # ширина бинов\n",
    "ggplot(df, aes(x = sample, binwidth = binwidth))+\n",
    "# Наносим гистограмму \n",
    "geom_histogram(aes(y=..density..), binwidth = binwidth, colour = \"white\", \n",
    "                                   fill = \"cornflowerblue\", size = 0.1)+\n",
    "                                # цвет линий разделителей, заливка, толщина линий разделителей\n",
    "# Наносим плотность распределения\n",
    "stat_function(fun = f, args = fun_args, color = \"darkred\", size = 1)"
   ]
  },
  {
   "cell_type": "markdown",
   "metadata": {},
   "source": [
    "Пришло время отказаться от предпосылки, что наши наблюдения по кроликам не зависят от времени. Это гнусная ложь. Усложняем модель!  Концентрация вируса изменяется в зависимости от количества дней, которое она присутствует внутри кроликов. \n",
    "\n",
    "__[г]__ О, мой любитель графиков! Построй картинку, на которой будет видна зависимость концентрации вируса от времени (`qplot` поможет). Какой характер носит эта зависимость? "
   ]
  },
  {
   "cell_type": "code",
   "execution_count": 96,
   "metadata": {},
   "outputs": [
    {
     "data": {
      "image/png": "[encoded data removed]",
      "text/plain": [
       "plot without title"
      ]
     },
     "metadata": {},
     "output_type": "display_data"
    }
   ],
   "source": [
    "qplot(df$day, df$titer)"
   ]
  },
  {
   "cell_type": "markdown",
   "metadata": {},
   "source": [
    "Обычно для всяких штук, связанных с динамикой какой-то величины во времени, используют модели времени жизни. Они завязаны на гамма-распределение. Так можно замоделировать динамику различных популяций, [объём дневных осадков](http://journals.tubitak.gov.tr/engineering/issues/muh-00-24-6/muh-24-6-7-9909-13.pdf). А ещё [экономический рост.](https://www.bcu.gub.uy/Comunicaciones/Jornadas%20de%20Economa/CAYSSIALS_GASTON_2017_4770.pdf)"
   ]
  },
  {
   "cell_type": "markdown",
   "metadata": {},
   "source": [
    "Простейшим примером модели времени жизни является [модель Рикера.](https://en.wikipedia.org/wiki/Ricker_model) Давайте попробуем использовать её, чтобы промодлировать зависимость концентрации вируса в кроликах от времени. \n",
    "\n",
    "\\begin{equation*} \n",
    "\\begin{aligned}\n",
    "& m = a \\cdot t \\cdot e^{-b \\cdot t} \\\\\n",
    "& X \\sim Gamma(shape = s, scale = m) \\\\ \n",
    "\\end{aligned}\n",
    "\\end{equation*}"
   ]
  },
  {
   "cell_type": "markdown",
   "metadata": {},
   "source": [
    "Будем снова использовать гамма-распределение, чтобы описывать концентрацию вируса $X$ в момент $t$. Параметр `scale` отвечает за интенсивность вируса в кролике. Мы хотим, чтобы он зависил от времени. Пусть вирусв крови кролика копится экспоненциально, то есть ведёт себя как функция $f(t) = a \\cdot t \\cdot e^{-b \\cdot t}$.\n",
    "\n",
    "__[д]__ Постройте при разных значениях $a$ и $b$ график функции $f(t)$, описывающей процесс накопления вируса. "
   ]
  },
  {
   "cell_type": "code",
   "execution_count": null,
   "metadata": {},
   "outputs": [],
   "source": []
  },
  {
   "cell_type": "markdown",
   "metadata": {},
   "source": [
    "__[е]__ Методом максимального правдоподобия оцените параметры $a, b$ и $s$.  "
   ]
  },
  {
   "cell_type": "code",
   "execution_count": 128,
   "metadata": {},
   "outputs": [],
   "source": [
    "gammaNLL2 = function(th, X){\n",
    "  m = th[2]*X$day * exp(-th[3] * X$day)\n",
    "  return(sum(log(dgamma(X$titer, shape = th[1], scale = m))))\n",
    "}"
   ]
  },
  {
   "cell_type": "code",
   "execution_count": 131,
   "metadata": {},
   "outputs": [
    {
     "name": "stderr",
     "output_type": "stream",
     "text": [
      "Warning message in dgamma(X$titer, shape = th[1], scale = m):\n",
      "“созданы NaN”Warning message in dgamma(X$titer, shape = th[1], scale = m):\n",
      "“созданы NaN”Warning message in dgamma(X$titer, shape = th[1], scale = m):\n",
      "“созданы NaN”Warning message in dgamma(X$titer, shape = th[1], scale = m):\n",
      "“созданы NaN”Warning message in dgamma(X$titer, shape = th[1], scale = m):\n",
      "“созданы NaN”Warning message in dgamma(X$titer, shape = th[1], scale = m):\n",
      "“созданы NaN”Warning message in dgamma(X$titer, shape = th[1], scale = m):\n",
      "“созданы NaN”Warning message in dgamma(X$titer, shape = th[1], scale = m):\n",
      "“созданы NaN”Warning message in dgamma(X$titer, shape = th[1], scale = m):\n",
      "“созданы NaN”Warning message in dgamma(X$titer, shape = th[1], scale = m):\n",
      "“созданы NaN”Warning message in dgamma(X$titer, shape = th[1], scale = m):\n",
      "“созданы NaN”Warning message in dgamma(X$titer, shape = th[1], scale = m):\n",
      "“созданы NaN”Warning message in dgamma(X$titer, shape = th[1], scale = m):\n",
      "“созданы NaN”Warning message in dgamma(X$titer, shape = th[1], scale = m):\n",
      "“созданы NaN”Warning message in dgamma(X$titer, shape = th[1], scale = m):\n",
      "“созданы NaN”Warning message in dgamma(X$titer, shape = th[1], scale = m):\n",
      "“созданы NaN”Warning message in dgamma(X$titer, shape = th[1], scale = m):\n",
      "“созданы NaN”Warning message in dgamma(X$titer, shape = th[1], scale = m):\n",
      "“созданы NaN”Warning message in dgamma(X$titer, shape = th[1], scale = m):\n",
      "“созданы NaN”Warning message in dgamma(X$titer, shape = th[1], scale = m):\n",
      "“созданы NaN”Warning message in dgamma(X$titer, shape = th[1], scale = m):\n",
      "“созданы NaN”Warning message in dgamma(X$titer, shape = th[1], scale = m):\n",
      "“созданы NaN”Warning message in dgamma(X$titer, shape = th[1], scale = m):\n",
      "“созданы NaN”Warning message in dgamma(X$titer, shape = th[1], scale = m):\n",
      "“созданы NaN”Warning message in dgamma(X$titer, shape = th[1], scale = m):\n",
      "“созданы NaN”Warning message in dgamma(X$titer, shape = th[1], scale = m):\n",
      "“созданы NaN”Warning message in dgamma(X$titer, shape = th[1], scale = m):\n",
      "“созданы NaN”Warning message in dgamma(X$titer, shape = th[1], scale = m):\n",
      "“созданы NaN”Warning message in dgamma(X$titer, shape = th[1], scale = m):\n",
      "“созданы NaN”Warning message in dgamma(X$titer, shape = th[1], scale = m):\n",
      "“созданы NaN”Warning message in dgamma(X$titer, shape = th[1], scale = m):\n",
      "“созданы NaN”Warning message in dgamma(X$titer, shape = th[1], scale = m):\n",
      "“созданы NaN”Warning message in dgamma(X$titer, shape = th[1], scale = m):\n",
      "“созданы NaN”Warning message in dgamma(X$titer, shape = th[1], scale = m):\n",
      "“созданы NaN”Warning message in dgamma(X$titer, shape = th[1], scale = m):\n",
      "“созданы NaN”Warning message in dgamma(X$titer, shape = th[1], scale = m):\n",
      "“созданы NaN”Warning message in dgamma(X$titer, shape = th[1], scale = m):\n",
      "“созданы NaN”Warning message in dgamma(X$titer, shape = th[1], scale = m):\n",
      "“созданы NaN”Warning message in dgamma(X$titer, shape = th[1], scale = m):\n",
      "“созданы NaN”Warning message in dgamma(X$titer, shape = th[1], scale = m):\n",
      "“созданы NaN”Warning message in dgamma(X$titer, shape = th[1], scale = m):\n",
      "“созданы NaN”Warning message in dgamma(X$titer, shape = th[1], scale = m):\n",
      "“созданы NaN”Warning message in dgamma(X$titer, shape = th[1], scale = m):\n",
      "“созданы NaN”Warning message in dgamma(X$titer, shape = th[1], scale = m):\n",
      "“созданы NaN”Warning message in dgamma(X$titer, shape = th[1], scale = m):\n",
      "“созданы NaN”Warning message in dgamma(X$titer, shape = th[1], scale = m):\n",
      "“созданы NaN”Warning message in dgamma(X$titer, shape = th[1], scale = m):\n",
      "“созданы NaN”Warning message in dgamma(X$titer, shape = th[1], scale = m):\n",
      "“созданы NaN”"
     ]
    },
    {
     "data": {
      "text/plain": [
       "Maximum Likelihood estimation\n",
       "Newton-Raphson maximisation, 34 iterations\n",
       "Return code 2: successive function values within tolerance limit\n",
       "Log-Likelihood: -29.50914 (3 free parameter(s))\n",
       "Estimate(s): 90.49696 0.03935213 0.1713292 "
      ]
     },
     "metadata": {},
     "output_type": "display_data"
    }
   ],
   "source": [
    "res <- maxLik(gammaNLL2,  start = c(20, 6, 0.2), X = df)\n",
    "res"
   ]
  },
  {
   "cell_type": "markdown",
   "metadata": {},
   "source": [
    "__[ж]__ Постройте такую же диаграмму, как в пункте __г,__ но кроме точек, отвечающих за наблюдения, нарисуйте ещё и оценённый трэнд, по которому происходит накопление вируса. "
   ]
  },
  {
   "cell_type": "code",
   "execution_count": null,
   "metadata": {},
   "outputs": [],
   "source": []
  },
  {
   "cell_type": "code",
   "execution_count": null,
   "metadata": {},
   "outputs": [],
   "source": []
  },
  {
   "cell_type": "code",
   "execution_count": null,
   "metadata": {},
   "outputs": [],
   "source": []
  },
  {
   "cell_type": "code",
   "execution_count": null,
   "metadata": {},
   "outputs": [],
   "source": []
  },
  {
   "cell_type": "markdown",
   "metadata": {},
   "source": []
  },
  {
   "cell_type": "code",
   "execution_count": 22,
   "metadata": {},
   "outputs": [
    {
     "name": "stderr",
     "output_type": "stream",
     "text": [
      "Warning message in data(MyxoTiter_sum):\n",
      "“data set ‘MyxoTiter_sum’ not found”"
     ]
    }
   ],
   "source": []
  },
  {
   "cell_type": "markdown",
   "metadata": {},
   "source": []
  },
  {
   "cell_type": "code",
   "execution_count": null,
   "metadata": {},
   "outputs": [],
   "source": []
  },
  {
   "cell_type": "markdown",
   "metadata": {},
   "source": [
    "### [10] Задачка 5 (Наркотики)\n",
    "\n",
    "\n",
    "ЧЕЛЕНДЖЕР!!! \n",
    "МБ ПУАССОН со структурным сдвигом \n",
    "\n",
    "какая нить хрень в стиле баба люба сидит на кассе и ждёт клиента, прошли столько то, время между событиями среднее такое, гипотеза о равных интенсивностях тестом ML \n"
   ]
  },
  {
   "cell_type": "code",
   "execution_count": null,
   "metadata": {},
   "outputs": [],
   "source": []
  },
  {
   "cell_type": "markdown",
   "metadata": {},
   "source": [
    "## Задачка 1\n",
    "\n",
    "\n",
    "* Бернулли на лягушках из бложика епта \n",
    "\n",
    "* Отдельная задачка на регулярность распределения и ML оценку нащупыванием по выборке \n",
    "\n",
    "* Мы делали задачку на нормальное распределение и слитки, но руками вообще ничего не выводили. Почему? Потому что это домашнее задание! :)  Для недвижимости наверное\n",
    "\n",
    "* сюда задачу про подтягунов и ML \n",
    "\n",
    "\n",
    "Нормальное для цен, доверительный интервал для средней. правда ли что оценки независимы по матрице гессе, дальше гистограмма как думаете правильно ли мы выбрали модель и выполнены ли предпосылки вней \n",
    "\n",
    "\n",
    "ПРОСИТЬ РИСОВАТЬ ФУНКЦИЮ ПРАВДОПОДОБИЯ!!! \n"
   ]
  },
  {
   "cell_type": "code",
   "execution_count": null,
   "metadata": {},
   "outputs": [],
   "source": [
    "# ваши записи на бумажках и коды :3 "
   ]
  },
  {
   "cell_type": "code",
   "execution_count": null,
   "metadata": {},
   "outputs": [],
   "source": []
  },
  {
   "cell_type": "code",
   "execution_count": null,
   "metadata": {},
   "outputs": [],
   "source": []
  },
  {
   "cell_type": "code",
   "execution_count": null,
   "metadata": {},
   "outputs": [],
   "source": []
  },
  {
   "cell_type": "markdown",
   "metadata": {},
   "source": [
    "## Задачка 3\n",
    "\n",
    "a) Cгенерируйте выборку из распределения $U[0; a]$. Возмите в качестве $a$ своё любимое число. Найдите руками оценку максимального правдоподобия для параметра $a$. После найдите её с помощью R. Насколько то, что вы получили соответствует вашим ожиданиям? Почему всё произошло именно так?\n"
   ]
  },
  {
   "cell_type": "code",
   "execution_count": 51,
   "metadata": {},
   "outputs": [
    {
     "data": {},
     "metadata": {},
     "output_type": "display_data"
    },
    {
     "data": {
      "image/png": "[encoded data removed]",
      "text/plain": [
       "plot without title"
      ]
     },
     "metadata": {},
     "output_type": "display_data"
    }
   ],
   "source": [
    "X <- runif(1000, min=1, max=4)\n",
    "\n",
    "lnL <- function(a, X){\n",
    "    ans <- -length(X)*log(a)\n",
    "    return(ans)\n",
    "}\n",
    "\n",
    "a <- seq(0, 12, by = 0.01)\n",
    "y <- lnL(a[1:length(a)], X)\n",
    "qplot(a, y, geom='line')"
   ]
  },
  {
   "cell_type": "code",
   "execution_count": null,
   "metadata": {},
   "outputs": [],
   "source": []
  },
  {
   "cell_type": "markdown",
   "metadata": {},
   "source": [
    "b) Сгенерируйте выборку из распределения $U[1-\\theta; 1+\\theta]$. В качестве $\\theta$ возьмите любимое число сына маминой подруги. Найдите оценку для $\\theta$ руками. После найдите её с помощью R. Насколько то, что вы получили, соответствует вашим ожиданиям? Почему всё произошло именно так? "
   ]
  },
  {
   "cell_type": "code",
   "execution_count": null,
   "metadata": {},
   "outputs": [],
   "source": [
    "# Ваш код здесь"
   ]
  },
  {
   "cell_type": "markdown",
   "metadata": {},
   "source": [
    "с) Являются ли оценки, которые вы получили для пунктов a) и b) состоятельными и несмещёнными? "
   ]
  },
  {
   "cell_type": "code",
   "execution_count": null,
   "metadata": {},
   "outputs": [],
   "source": [
    "# Ваш код, если это необходимо :) "
   ]
  },
  {
   "cell_type": "markdown",
   "metadata": {},
   "source": [
    "d) Какая из оценок лучше? Почему? Какая оценка обладает в пределе меньшей дисперсией? "
   ]
  },
  {
   "cell_type": "code",
   "execution_count": null,
   "metadata": {},
   "outputs": [],
   "source": [
    "# Вопрос поставлен некоректно. Просят сравнить между собой оценки для разных параметров. \n",
    "# Никто мне про этот косяк не сказал, значит либо вы балбесы, либо никто не делал :("
   ]
  },
  {
   "cell_type": "markdown",
   "metadata": {},
   "source": [
    "## Задачка 4\n",
    "\n"
   ]
  },
  {
   "cell_type": "markdown",
   "metadata": {},
   "source": [
    "\n",
    "* задача найти влоб оценку максимального правдоподобия а потом как функцию, сравнить, поч так. Думаю, что логарифм разности вероятностей или тип того \n",
    "\n",
    "* доверительный интервал для какой-нибудь суммы параметров (наверное в пуассоновском потоке поделить лайки на мужские и женские или в недвижимости сделать смесь из двух распределений \n",
    "\n",
    "* \n"
   ]
  },
  {
   "cell_type": "code",
   "execution_count": null,
   "metadata": {},
   "outputs": [],
   "source": []
  },
  {
   "cell_type": "code",
   "execution_count": null,
   "metadata": {},
   "outputs": [],
   "source": []
  },
  {
   "cell_type": "markdown",
   "metadata": {},
   "source": []
  },
  {
   "cell_type": "code",
   "execution_count": null,
   "metadata": {},
   "outputs": [],
   "source": []
  },
  {
   "cell_type": "code",
   "execution_count": null,
   "metadata": {},
   "outputs": [],
   "source": []
  },
  {
   "cell_type": "code",
   "execution_count": null,
   "metadata": {},
   "outputs": [],
   "source": []
  },
  {
   "cell_type": "code",
   "execution_count": null,
   "metadata": {},
   "outputs": [],
   "source": []
  },
  {
   "cell_type": "code",
   "execution_count": null,
   "metadata": {},
   "outputs": [],
   "source": []
  },
  {
   "cell_type": "markdown",
   "metadata": {},
   "source": [
    "## Задачка 7\n",
    "\n",
    "В этой задачке есть всё. Пусть $X_1, \\ldots, X_n$ независимые случайные величины с плотностью распределения \n",
    "\n",
    "$$\n",
    "f_X(x) = \\begin{cases} (a+1) \\cdot x^a, \\quad x \\in [0;1] \\\\ 0, \\text{ иначе} \\end{cases}\n",
    "$$\n",
    "\n",
    "a) Найдите руками для параметра $a$ оценку методом моментов. Найдите оценку методом максимального правдоподобия. \n",
    "\n",
    "b) Найдите асимптотические распределения этих оценок. \n",
    "\n",
    "с) Постройте на основе этих распределений $95\\%$ доверительные интервалы. Для какой оценки доверительный интервал оказался короче? \n",
    "\n",
    "d) Какая из оценок является асимптотически более крутой? Для ответа на этот вопрос найдите $$\\lim_{n \\to \\infty} \\frac{\\hat Var(\\hat a_{ML})}{\\hat Var(\\hat a_{MM})}.$$\n",
    "\n",
    "e) Сгенерируйте в R выборку объёма $100$ из этого распределения. Постройте оценки, а также доверительные интервалы для них. Правда ли, что результаты, полученные в пунктах с) и d) верны для этой выборки? "
   ]
  },
  {
   "cell_type": "code",
   "execution_count": null,
   "metadata": {},
   "outputs": [],
   "source": [
    "# Ваш код здесь"
   ]
  },
  {
   "cell_type": "code",
   "execution_count": null,
   "metadata": {},
   "outputs": [],
   "source": []
  },
  {
   "cell_type": "markdown",
   "metadata": {},
   "source": [
    "## 2. [?] Кит-рисёрчер (мемы для взрослых мужиков) \n",
    "\n",
    "Добро пожаловать в Кита. Кит - это большая рисёрчерская задача с огромным количеством вопросов. В ките есть как ручные вопросы, так и вопросы для симуляций. За каждый вопрос даётся какое-то количество баллов. В каких-то вопросах требуется решить задачу руками на бумажке. В каких-то вопросах требуется произвести симуляцию в R. Продвинтесь в своём рисёрче над этим китом как можно глубже и срубите куш из баллов.\n",
    "\n",
    "> **Сегодня будем обсуждать лайки и мемы для юных леди.** "
   ]
  },
  {
   "cell_type": "markdown",
   "metadata": {},
   "source": [
    "В группе [мемы про машинное обучение для ~~взрослых мужиков~~ юных леди](https://vk.com/weirdreparametrizationtrick) постят мемы про машинное обучение. Юные леди смотрят мемы про машинное обучение, лайкают их, комментируют и репостят. В итоге рождается [табличка со статистикой.](https://yadi.sk/i/D9prr_lu3VRywS) "
   ]
  },
  {
   "cell_type": "code",
   "execution_count": 16,
   "metadata": {},
   "outputs": [
    {
     "data": {
      "text/html": [
       "197"
      ],
      "text/latex": [
       "197"
      ],
      "text/markdown": [
       "197"
      ],
      "text/plain": [
       "[1] 197"
      ]
     },
     "metadata": {},
     "output_type": "display_data"
    },
    {
     "data": {
      "text/html": [
       "<table>\n",
       "<thead><tr><th scope=col>X</th><th scope=col>Date</th><th scope=col>likes</th><th scope=col>comments</th><th scope=col>views</th><th scope=col>reposts</th></tr></thead>\n",
       "<tbody>\n",
       "\t<tr><td>0                  </td><td>2018-05-04 20:23:54</td><td> 6                 </td><td>4                  </td><td>185                </td><td>0                  </td></tr>\n",
       "\t<tr><td>1                  </td><td>2018-05-02 01:20:28</td><td>13                 </td><td>9                  </td><td>309                </td><td>0                  </td></tr>\n",
       "\t<tr><td>2                  </td><td>2018-04-29 16:48:14</td><td> 0                 </td><td>0                  </td><td>147                </td><td>0                  </td></tr>\n",
       "\t<tr><td>3                  </td><td>2018-04-22 17:03:31</td><td> 3                 </td><td>0                  </td><td>326                </td><td>0                  </td></tr>\n",
       "\t<tr><td>4                  </td><td>2018-04-16 14:47:33</td><td> 4                 </td><td>0                  </td><td>417                </td><td>0                  </td></tr>\n",
       "\t<tr><td>5                  </td><td>2018-04-12 17:37:35</td><td> 9                 </td><td>0                  </td><td>504                </td><td>1                  </td></tr>\n",
       "</tbody>\n",
       "</table>\n"
      ],
      "text/latex": [
       "\\begin{tabular}{r|llllll}\n",
       " X & Date & likes & comments & views & reposts\\\\\n",
       "\\hline\n",
       "\t 0                   & 2018-05-04 20:23:54 &  6                  & 4                   & 185                 & 0                  \\\\\n",
       "\t 1                   & 2018-05-02 01:20:28 & 13                  & 9                   & 309                 & 0                  \\\\\n",
       "\t 2                   & 2018-04-29 16:48:14 &  0                  & 0                   & 147                 & 0                  \\\\\n",
       "\t 3                   & 2018-04-22 17:03:31 &  3                  & 0                   & 326                 & 0                  \\\\\n",
       "\t 4                   & 2018-04-16 14:47:33 &  4                  & 0                   & 417                 & 0                  \\\\\n",
       "\t 5                   & 2018-04-12 17:37:35 &  9                  & 0                   & 504                 & 1                  \\\\\n",
       "\\end{tabular}\n"
      ],
      "text/markdown": [
       "\n",
       "| X | Date | likes | comments | views | reposts |\n",
       "|---|---|---|---|---|---|\n",
       "| 0                   | 2018-05-04 20:23:54 |  6                  | 4                   | 185                 | 0                   |\n",
       "| 1                   | 2018-05-02 01:20:28 | 13                  | 9                   | 309                 | 0                   |\n",
       "| 2                   | 2018-04-29 16:48:14 |  0                  | 0                   | 147                 | 0                   |\n",
       "| 3                   | 2018-04-22 17:03:31 |  3                  | 0                   | 326                 | 0                   |\n",
       "| 4                   | 2018-04-16 14:47:33 |  4                  | 0                   | 417                 | 0                   |\n",
       "| 5                   | 2018-04-12 17:37:35 |  9                  | 0                   | 504                 | 1                   |\n",
       "\n"
      ],
      "text/plain": [
       "  X Date                likes comments views reposts\n",
       "1 0 2018-05-04 20:23:54  6    4        185   0      \n",
       "2 1 2018-05-02 01:20:28 13    9        309   0      \n",
       "3 2 2018-04-29 16:48:14  0    0        147   0      \n",
       "4 3 2018-04-22 17:03:31  3    0        326   0      \n",
       "5 4 2018-04-16 14:47:33  4    0        417   0      \n",
       "6 5 2018-04-12 17:37:35  9    0        504   1      "
      ]
     },
     "metadata": {},
     "output_type": "display_data"
    }
   ],
   "source": [
    "df = read.csv('/Users/fulyankin/Yandex.Disk.localized/R/R_prob_data//memes_likes.csv', sep=';') \n",
    "nrow(df)\n",
    "head(df)"
   ]
  },
  {
   "cell_type": "markdown",
   "metadata": {},
   "source": [
    "Нам предстоит очень серьёзно поработать с этой табличкой. \n",
    "\n",
    "__[a]__ Постройте для числа лайков, числа комментов, числа репостов и числа просмотров гистограммы. Как вы думаете, какие именно распределения выплюнули из сундука на нас эти выборки? "
   ]
  },
  {
   "cell_type": "code",
   "execution_count": null,
   "metadata": {},
   "outputs": [],
   "source": []
  },
  {
   "cell_type": "markdown",
   "metadata": {},
   "source": [
    "__[б]__ "
   ]
  },
  {
   "cell_type": "code",
   "execution_count": null,
   "metadata": {},
   "outputs": [],
   "source": []
  },
  {
   "cell_type": "code",
   "execution_count": null,
   "metadata": {},
   "outputs": [],
   "source": []
  },
  {
   "cell_type": "code",
   "execution_count": null,
   "metadata": {},
   "outputs": [],
   "source": []
  },
  {
   "cell_type": "code",
   "execution_count": null,
   "metadata": {},
   "outputs": [],
   "source": []
  },
  {
   "cell_type": "code",
   "execution_count": 21,
   "metadata": {},
   "outputs": [
    {
     "name": "stderr",
     "output_type": "stream",
     "text": [
      "`stat_bin()` using `bins = 30`. Pick better value with `binwidth`.\n"
     ]
    },
    {
     "data": {
      "image/png": "[encoded data removed]",
      "text/plain": [
       "plot without title"
      ]
     },
     "metadata": {},
     "output_type": "display_data"
    }
   ],
   "source": [
    "qplot(df$comments)"
   ]
  },
  {
   "cell_type": "code",
   "execution_count": 20,
   "metadata": {},
   "outputs": [
    {
     "name": "stderr",
     "output_type": "stream",
     "text": [
      "`stat_bin()` using `bins = 30`. Pick better value with `binwidth`.\n",
      "Warning message:\n",
      "“Removed 106 rows containing non-finite values (stat_bin).”"
     ]
    },
    {
     "data": {
      "image/png": "[encoded data removed]",
      "text/plain": [
       "plot without title"
      ]
     },
     "metadata": {},
     "output_type": "display_data"
    }
   ],
   "source": [
    "qplot(df$views)"
   ]
  },
  {
   "cell_type": "markdown",
   "metadata": {},
   "source": [
    "Для репостов две модели: геометрическое распределение и пуассона, сравнить их между собой. \n",
    "для лайков и коментов пуассона ну либо также и српвнить я хз \n",
    "для просмотров нормальное попробовать \n",
    "\n",
    "для комментов zero_inflated model \n",
    "\n",
    "параметр beta - чувствительность интенсивности комментов к просмотрам или типа того, руками + ML оценку "
   ]
  },
  {
   "cell_type": "code",
   "execution_count": null,
   "metadata": {},
   "outputs": [],
   "source": []
  },
  {
   "cell_type": "code",
   "execution_count": null,
   "metadata": {},
   "outputs": [],
   "source": [
    "log_lik <- function(Lambda,data) { \n",
    "    n <- length(data) \n",
    "    result <- -Lambda*n + sum(data) * log(Lambda)\n",
    "    return(result) \n",
    "} \n",
    "\n",
    "log_lik(7, c(1,2,3))\n",
    "\n",
    "result <- maxLik(log_lik, start=5,data=d)\n",
    "summary(result)"
   ]
  },
  {
   "cell_type": "code",
   "execution_count": null,
   "metadata": {},
   "outputs": [],
   "source": [
    "res <- nlm(log_lik, 2, hessian=TRUE, d) \n",
    "res$estimate\n",
    "mean(d)"
   ]
  },
  {
   "cell_type": "code",
   "execution_count": null,
   "metadata": {},
   "outputs": [],
   "source": []
  },
  {
   "cell_type": "code",
   "execution_count": null,
   "metadata": {},
   "outputs": [],
   "source": [
    "# минимизируем минус правдоподобие <=> максимизируем правдоподобие\n",
    "res <- nlm(lnL,c(1/3,1/3),\n",
    "            hessian=TRUE,\n",
    "            X=c(x1,x2),n)"
   ]
  },
  {
   "cell_type": "code",
   "execution_count": null,
   "metadata": {},
   "outputs": [],
   "source": []
  },
  {
   "cell_type": "code",
   "execution_count": null,
   "metadata": {},
   "outputs": [],
   "source": []
  },
  {
   "cell_type": "code",
   "execution_count": null,
   "metadata": {},
   "outputs": [],
   "source": []
  },
  {
   "cell_type": "markdown",
   "metadata": {},
   "source": [
    "Предположим, что просмотры, лайки, число комментариев и репосты имеют распределение Пуассона, $X_i \\sim Poiss(\\lambda)$. Также будем предполагать, что число лайков (и других показателей) на текущем посте не зависит от числа лайков на других постах.\n",
    "\n",
    "a) Оцените методом максимального правдоподобия параметр $\\lambda$ для каждой из четырёх случайных величин. Проинтерпретируйте полученые оценки. \n",
    "\n",
    "b) Постройте для всех четырёх ситуаций доверительные интервалы для параметра $\\lambda$. Почему для одних случайных величин он получился более узким, а для других более широким? \n",
    "\n",
    "с) Сколько лайков, репостов, комментариев и просмотров окажется под следующим постом? Постройте для своего прогноза $95\\%$ доверительный интервал. "
   ]
  },
  {
   "cell_type": "code",
   "execution_count": null,
   "metadata": {},
   "outputs": [],
   "source": []
  },
  {
   "cell_type": "code",
   "execution_count": null,
   "metadata": {},
   "outputs": [],
   "source": []
  }
 ],
 "metadata": {
  "kernelspec": {
   "display_name": "R",
   "language": "R",
   "name": "ir"
  },
  "language_info": {
   "codemirror_mode": "r",
   "file_extension": ".r",
   "mimetype": "text/x-r-source",
   "name": "R",
   "pygments_lexer": "r",
   "version": "3.5.3"
  }
 },
 "nbformat": 4,
 "nbformat_minor": 2
}
