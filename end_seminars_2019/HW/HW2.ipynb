{
 "cells": [
  {
   "cell_type": "markdown",
   "metadata": {},
   "source": [
    "<img src=\"https://raw.githubusercontent.com/FUlyankin/r_probability/master/800x800-04.jpg\" height=\"300\" width=\"300\"> \n",
    "\n",
    "# <center> R для тервера и матстата. <br>  <br> Домашка номер два! </center>\n",
    "\n",
    "\n",
    "Данный ноутбук является конспектом по курсу «R для теории вероятностей и математической статистики» (РАНХиГС, 2019). Автор ноутбука [вот этот парень по имени Филипп.](https://vk.com/ppilif) Если у вас для него есть деньги, слава или женщины, он от этого всего не откажется. Ноутбук распространяется на условиях лицензии [Creative Commons Attribution-Share Alike 4.0.](https://creativecommons.org/licenses/by-sa/4.0/) При использовании обязательно упоминание автора курса и аффилиации. При наличии технической возможности необходимо также указать активную гиперссылку на [страницу курса.](https://fulyankin.github.io/R_probability/) На ней можно найти другие материалы. Фрагменты кода, включенные в этот notebook, публикуются как [общественное достояние.](https://creativecommons.org/publicdomain/zero/1.0/)\n",
    "\n",
    "----------------------\n",
    "\n",
    "Приветствую вас внутри второй домашки."
   ]
  },
  {
   "cell_type": "code",
   "execution_count": 3,
   "metadata": {},
   "outputs": [],
   "source": [
    "library(\"ggplot2\")  # Пакет для красивых графиков \n",
    "library(\"grid\")     # Пакет для субплотов\n",
    "\n",
    "# Отрегулируем размер картинок, которые будут выдаваться в нашей тетрадке\n",
    "library('repr')\n",
    "options(repr.plot.width=4, repr.plot.height=3)"
   ]
  },
  {
   "cell_type": "markdown",
   "metadata": {},
   "source": [
    "# 1. Рыбёшки"
   ]
  },
  {
   "cell_type": "markdown",
   "metadata": {},
   "source": [
    "### [ ] Задачка 1 (Квантильное-1)\n",
    "\n",
    "Сгенерируйте выборку для случайной величины, которая обладает следующей функцией распределения:\n",
    "\n",
    "\n",
    "$$\n",
    "F(x) = \\begin{cases} 0, x \\le 0 \\\\ \\sin(x), x \\in (0, \\pi/2] \\\\ 1, x>\\pi/2 \\end{cases}\n",
    "$$\n"
   ]
  },
  {
   "cell_type": "code",
   "execution_count": null,
   "metadata": {},
   "outputs": [],
   "source": []
  },
  {
   "cell_type": "markdown",
   "metadata": {},
   "source": [
    "### [ ] Задачка 2  (Квантильное-2)\n",
    "\n",
    "Тоже на него, по материалам шада шонить"
   ]
  },
  {
   "cell_type": "code",
   "execution_count": null,
   "metadata": {},
   "outputs": [],
   "source": []
  },
  {
   "cell_type": "code",
   "execution_count": null,
   "metadata": {},
   "outputs": [],
   "source": []
  },
  {
   "cell_type": "markdown",
   "metadata": {},
   "source": [
    "### [ ] Задачка 3 \n",
    "\n",
    "У распределения Хи-квадрат есть милое свойство. Известно, что если $X_1, \\ldots, X_n \\sim iid~N(0,1)$, тогда имеет место следующая сходимость по веротяности:\n",
    "\n",
    "$$\n",
    "\\frac{\\chi^2_n}{n} = \\frac{X_1^2 + \\ldots + X_n^2}{n} \\to  1\n",
    "$$\n",
    "\n",
    "Продемонстрируйте с помощью симуляций в R, что это именно так. От вас требуется построить ту же картинку, что мы строили при иллюстрации ЗБЧ. Не забудьте построить для нескольких разных $\\varepsilon$ коридоры и убедиться, что последовательность с некоторого момента начинает пробивать их довольно редко."
   ]
  },
  {
   "cell_type": "code",
   "execution_count": null,
   "metadata": {},
   "outputs": [],
   "source": []
  },
  {
   "cell_type": "markdown",
   "metadata": {},
   "source": [
    "Хорошо! Теперь зафиксируйте несколько коридоров также как мы делали это на паре и пронаблюдайте как ведут себя вероятности пробить эти коридоры при увеличении $n$."
   ]
  },
  {
   "cell_type": "code",
   "execution_count": null,
   "metadata": {},
   "outputs": [],
   "source": []
  },
  {
   "cell_type": "markdown",
   "metadata": {},
   "source": [
    "Учитывая, что последовательность случайных величин, приведённая выше, сходится к константе, то есть к вырожденному распределению, дисперсия этой последовательности должна сходиться к нулю. Продемонстрируйте, что это действительно так. Для этого нужно скопипастить код из второго пункта и немного отредактировать его.  "
   ]
  },
  {
   "cell_type": "code",
   "execution_count": null,
   "metadata": {},
   "outputs": [],
   "source": []
  },
  {
   "cell_type": "markdown",
   "metadata": {},
   "source": [
    "Если вы хорошо разбирались в лекциях по математической статистике, у вас должна была возникнуть в голове аналогия с Достаточным условием Чебышёва. Оно говорит, что если оценка неизвестного параметра является несмешённой, $E(\\hat \\theta) = \\theta$ и дисперсия этой оценки стремится к нулю, $Var(\\hat \\theta) \\to 0$ при $n \\to \\infty$, то эта оценка состоятельна. \n",
    "\n",
    "Попробуйте ещё раз посмотреть на картинку, которую вы получили выше и переосмыслить это условие. "
   ]
  },
  {
   "cell_type": "code",
   "execution_count": null,
   "metadata": {},
   "outputs": [],
   "source": []
  },
  {
   "cell_type": "markdown",
   "metadata": {},
   "source": [
    "### [ ] Задачка 4 (распределение Коши) \n",
    "\n",
    "Распределение Коши тот ещё фрукт. У стандартного распределения Коши следующая плотность: \n",
    "\n",
    "$$\n",
    "f_X(x) = \\frac{1}{\\pi(1+x^2)}\n",
    "$$\n",
    "\n",
    "Выглядит довольно красиво, но эта красота обманчива. У распределения Коши есть куча проблем. Одна из таких проблем это отсутствие математического ожидания и дисперсии. Закон больших чисел позволяет нам сказать, что для некоторых распределений \n",
    "\n",
    "$$ P( \\mid \\bar x - E(X)\\mid \\le \\varepsilon  ) \\to 1, $$\n",
    "\n",
    "то есть выборочное среднее по вероятности сходится к математическому ожиданию. Как мы знаем, для распределения Коши математического ожидания не существует. Интересно было бы узнать к чему в таком случае сходится выборочное среднее. Для решения вам понадобится функция `rcauchy`.\n",
    "\n",
    "Постройте для выборочного среднего распределения Коши картинку, которую мы строили при иллюстрации ЗБЧ. Попытайтесь проинтерпретировать то, что вы увидете. Если не получается, не печальтесь. Когда я печалюсь, я обычно перестаю печалиться и просто становлюсь клёвым. И это правда. Советую вам делать также. "
   ]
  },
  {
   "cell_type": "code",
   "execution_count": null,
   "metadata": {},
   "outputs": [],
   "source": []
  },
  {
   "cell_type": "markdown",
   "metadata": {},
   "source": [
    "Хорошо! Теперь зафиксируйте несколько коридоров также как мы делали это на паре и пронаблюдайте как ведут себя вероятности пробить эти коридоры при увеличении $n$."
   ]
  },
  {
   "cell_type": "code",
   "execution_count": null,
   "metadata": {},
   "outputs": [],
   "source": []
  },
  {
   "cell_type": "markdown",
   "metadata": {},
   "source": [
    "Попробуйте точно также посмотреть к чему сходится выборочная дисперсия. "
   ]
  },
  {
   "cell_type": "code",
   "execution_count": null,
   "metadata": {},
   "outputs": [],
   "source": []
  },
  {
   "cell_type": "markdown",
   "metadata": {},
   "source": [
    "У распределения Коши тоже есть разные забавные свойства. Например, если у нас есть две независимые нормально распределённые случайные виличины $X_1 \\sim N(0,1)$ и $X_2 \\sim N(0,1)$, то случайная величина $Y = \\dfrac{X_1}{X_2}$ будет иметь распределение Коши. Если вы хорошо учите математическую статистку, то вы уже догадались, что распределение Стьюдента с одной степенью свободы, $t(1)$ — это ни что иное как распределение Коши. Посмотрите в лекциях чему равно математическое ожидание и дисперсия для распределеняи Стьюдента и попытайтесь соотнести это с тем, что было получено вами выше."
   ]
  },
  {
   "cell_type": "code",
   "execution_count": null,
   "metadata": {},
   "outputs": [],
   "source": []
  },
  {
   "cell_type": "markdown",
   "metadata": {},
   "source": [
    "### [ ] Задачка 5 \n",
    "\n",
    "Любая сходимость из домашки! "
   ]
  },
  {
   "cell_type": "code",
   "execution_count": null,
   "metadata": {},
   "outputs": [],
   "source": []
  },
  {
   "cell_type": "markdown",
   "metadata": {},
   "source": [
    "### [ ] Задачка 6\n",
    "\n",
    "Любая сходимость из домашки! "
   ]
  },
  {
   "cell_type": "code",
   "execution_count": null,
   "metadata": {},
   "outputs": [],
   "source": []
  },
  {
   "cell_type": "markdown",
   "metadata": {},
   "source": [
    "### [ ] Задачка 7\n",
    "\n",
    "Начинающий каратист Вася тренируется бить кирпичи ударом ладони. Каждый день он бьёт ладонью по кирпичу до пор, пока тот не расколется от одного удара. Предположим, что вероятность разбить кирпич с одного удара равна $p$ и неизменна во времени. Величины $X_1, X_2, \\ldots , X_n$ — количества ударов которые потребовались Васе в соответствующий день. Заполните для неизвестного параметра $p$ табличку: \n",
    "\n",
    "|  $\\hat p  $   |несмещённая          | смещённая             |\n",
    "|---------------|---------------------|-----------------------|\n",
    "|состоятельная  |                     |                       |\n",
    "|несостоятельная|                     |                       |\n",
    "\n",
    "В каждую клетку поместите как минимум две разные оценки. Покажите для всех оценок из таблички, что вы поместили их в правильные места."
   ]
  },
  {
   "cell_type": "code",
   "execution_count": null,
   "metadata": {},
   "outputs": [],
   "source": []
  },
  {
   "cell_type": "markdown",
   "metadata": {},
   "source": [
    "### [ ] Задачка 8\n",
    "\n",
    "Мы знаем, что для выборки $X_1, \\ldots, X_n \\sim iid N(\\mu, \\sigma^2)$ хорошими оценками параметров будут\n",
    "\n",
    "\\begin{aligned} \n",
    "& \\hat \\mu = \\bar x = \\frac{1}{n} \\sum_{i=1}^n x_i \\\\\n",
    "& \\hat \\sigma^2 = s^2 = \\frac{1}{n-1} \\sum_{i=1}^n (x_i - \\bar x)^2.\n",
    "\\end{aligned}\n",
    "\n",
    "У этих оценок есть ещё одна полезная особенность. Случайные величины $\\hat \\mu$ и $\\hat \\sigma^2$ независимы. \n",
    "\n",
    "a) Покажите, что эти две величины независимы с помощью симуляций. Сформулируйте все утверждения, которые вы будете для этого использовать.\n",
    "\n",
    "b) Докажите это руками. "
   ]
  },
  {
   "cell_type": "code",
   "execution_count": null,
   "metadata": {},
   "outputs": [],
   "source": []
  },
  {
   "cell_type": "markdown",
   "metadata": {},
   "source": [
    "### [ ] Задачка 9\n",
    "\n",
    "Пусть случайная величина $X$ - цвет конфетки M&M's из упаковки. Она имеет распределение:\n",
    "\n",
    "\n",
    "|$X$             | красная    | жёлтая  | другой цвет  |\n",
    "|:--------------:|:----------:|:-------:|:------------:|\n",
    "| $P( \\ldots )$  | $p_1$      | $p_2$   | $1 - p_1-p_2$|\n",
    "\n",
    "\n",
    "Если у нас завалялась выборка из конфеток $X_1, \\ldots, X_n$  и в ней $n_1$ конфеток оказались красными, а $n_2$ жёлтыми, тогда хорошими оценками для $p_1$ и $p_2$ будут $\\frac{n_1}{n}$ и $\\frac{n_2}{n}.$\n",
    "\n",
    "С помощью симуляций выясните являются ли случайные величины $\\hat p_1$ и $\\hat p_2$ независимыми. "
   ]
  },
  {
   "cell_type": "code",
   "execution_count": null,
   "metadata": {},
   "outputs": [],
   "source": []
  },
  {
   "cell_type": "markdown",
   "metadata": {},
   "source": [
    "### [ ] Задачка 10\n",
    "\n",
    "У Дианы есть выборка $X_1, \\dots, X_n \\sim iid N(0, \\sigma^2)$. Она собирается использовать для параметра $\\sigma$ нестандартную оценку $\\hat \\sigma = \\frac{1}{n} \\sum_{i=1}^n |x_i|$. Вручную: \n",
    "\n",
    "* Найдите плотность распределения для случайной величины $|X|$\n",
    "* Проверьте является ли оценка смещённой, найдите её `bias`, если да, то скоректируйте её\n",
    "* Найдите дисперсию скоректированной оценки\n",
    "* Определите является ли оценка состоятельной\n",
    "* Найдите для обеих оценок $MSE$\n",
    "\n",
    "Пусть природа решила, что $\\sigma^2 = 16$. С помощью симуляций проверьте\n",
    "\n",
    "* Несмещённость оценки\n",
    "* Состоятельность оценки \n",
    "* Постройте на одном графике распределение для  скорректированной на смещение $\\hat \\sigma$ из условия задачи, а также для классической $\\hat s$. Какая из них эффективнее?"
   ]
  },
  {
   "cell_type": "code",
   "execution_count": null,
   "metadata": {},
   "outputs": [],
   "source": []
  },
  {
   "cell_type": "markdown",
   "metadata": {},
   "source": [
    "### [ ] Задачка 11 (баланс между разбросом и смещением) \n",
    "\n",
    "На примере экспоненциального распределения! "
   ]
  },
  {
   "cell_type": "code",
   "execution_count": null,
   "metadata": {},
   "outputs": [],
   "source": []
  },
  {
   "cell_type": "markdown",
   "metadata": {},
   "source": [
    "### [ ] Задачка 12 (робастность к выбросам) \n",
    "\n",
    "Владлен\n",
    "\n",
    "Про робастность. Первый пункт: есть нормальное распределение. Я хочу оценку для $\\mu$. Строю через среднее и медиану, сравниваю между собой. \n",
    "\n",
    "Пункт второй: теперь это смесь 9 нормального и 1 парето, откуда приходят выбросы. Показать как среднее агриться на выбросы и подстраивается, а медиане насрать. "
   ]
  },
  {
   "cell_type": "code",
   "execution_count": null,
   "metadata": {},
   "outputs": [],
   "source": []
  },
  {
   "cell_type": "markdown",
   "metadata": {},
   "source": [
    "### [ ]  Задачка 13 \n",
    "\n",
    "Посмотреть в Черновой что-нибудь на посравнивать между собой оценки "
   ]
  },
  {
   "cell_type": "code",
   "execution_count": null,
   "metadata": {},
   "outputs": [],
   "source": []
  },
  {
   "cell_type": "markdown",
   "metadata": {},
   "source": [
    "### [ ]  Задачка 14\n",
    "\n",
    "Давайте уточним правило трёх сигм. Утвержедение: 99.7% вероятностной массы случайной величины $X \\sim N(\\mu,\\sigma^2)$ лежит в интервале $\\mu +- c \\cdot \\sigma$. Чему равно значение константы $c$? А если речь про 80\\%? "
   ]
  },
  {
   "cell_type": "code",
   "execution_count": null,
   "metadata": {},
   "outputs": [],
   "source": []
  },
  {
   "cell_type": "markdown",
   "metadata": {},
   "source": [
    "### [ ] Задачка 15 \n",
    "\n",
    "Для $61$ большого города в Англии и Уэльсе известны средняя годовая смертность на $100000$ населения (по данным за 1958-1964 гг.) и концентрация кальция в питьевой воде (в частях на миллион). Чем выше концентрация кальция, тем жёстче вода. Города дополнительно поделены на северные и южные. Данные лежат [в табличке water.txt.]() \n",
    "\n",
    "В первом пункте этой задачки нужно построить доверительный интервал для средней годовой смертности в больших городах. Для начала выведете его руками из ЦПТ. После постройте $95\\%$ доверительный интервал для средней годовой смертности в больших городах."
   ]
  },
  {
   "cell_type": "code",
   "execution_count": null,
   "metadata": {},
   "outputs": [],
   "source": [
    "# Ваш код"
   ]
  },
  {
   "cell_type": "markdown",
   "metadata": {},
   "source": [
    "Постройте $95\\%$ доверительный интервал для средней годовой смертности по всем южным городам."
   ]
  },
  {
   "cell_type": "code",
   "execution_count": null,
   "metadata": {},
   "outputs": [],
   "source": [
    "# Ваш код"
   ]
  },
  {
   "cell_type": "markdown",
   "metadata": {},
   "source": [
    "Постройте такой же доверительный интервал для средней годовой смертности по всем северным городам. Пересекются ли эти интервалы? Как вы думаете какой из этого можно сделать вывод? "
   ]
  },
  {
   "cell_type": "code",
   "execution_count": null,
   "metadata": {},
   "outputs": [],
   "source": [
    "# Ваш код"
   ]
  },
  {
   "cell_type": "markdown",
   "metadata": {},
   "source": [
    "Пересекаются ли доверительный интервалы для средней жёсткости воды в северных и южных городах?"
   ]
  },
  {
   "cell_type": "code",
   "execution_count": null,
   "metadata": {},
   "outputs": [],
   "source": [
    "# Ваш код"
   ]
  },
  {
   "cell_type": "markdown",
   "metadata": {},
   "source": [
    "Вспомните формулу доверительного интервала, выведенную выше. При $\\sigma = 1$ какой нужен объём выборки, чтобы на уровне доверия $95\\%$ оценить среднее с точностью $\\pm 0.1$? "
   ]
  },
  {
   "cell_type": "code",
   "execution_count": null,
   "metadata": {},
   "outputs": [],
   "source": [
    "# Ваш код"
   ]
  },
  {
   "cell_type": "markdown",
   "metadata": {},
   "source": [
    "Выведите на основе ЦПТ и свойств нормального распределения распределение случайной величины $\\bar x_1 - \\bar x_2$, где $\\bar x_1$ - средняя жесткость на севере, а $\\bar x_1$ на юге. Постройте для этой разницы исходя из полученного распределения доверительный интервал. Все выведения дублируют то, что мы делали на лекции для долей. "
   ]
  },
  {
   "cell_type": "code",
   "execution_count": null,
   "metadata": {},
   "outputs": [],
   "source": [
    "# Ваш код"
   ]
  },
  {
   "cell_type": "markdown",
   "metadata": {},
   "source": [
    "Постройте доверительные интервалы для дисперсии среднегодовой смертности в южных городах и в северных городах. Насколько сильно отличаются эти доверительные интервалы? Пересекаются ли они? Что это значит?"
   ]
  },
  {
   "cell_type": "code",
   "execution_count": null,
   "metadata": {},
   "outputs": [],
   "source": [
    "# Ваш код"
   ]
  },
  {
   "cell_type": "markdown",
   "metadata": {},
   "source": [
    "### [ ] Задачка 16 \n",
    "\n",
    "Большая часть млекопитающих неспособны во взрослом возрасте переваривать лактозу, содержащуюся в молоке. У людей за расщепление лактозы отвечает фермент лактаза, кодируемый геном LCT. У людей с вариантом 13910T этого гена лактаза продолжает функционировать на протяжении всей жизни. Распределение этого варианта гена сильно варьируется в различных генетических популяциях.\n",
    "\n",
    "Из $50\\%$ исследованных представителей народа майя вариант 13910T был обнаружен у одного. Постройте нормальный $95\\%$ доверительный интервал для доли носителей варианта 13910T в популяции майя. "
   ]
  },
  {
   "cell_type": "code",
   "execution_count": null,
   "metadata": {},
   "outputs": [],
   "source": [
    "# Ваш код"
   ]
  },
  {
   "cell_type": "markdown",
   "metadata": {},
   "source": [
    "В условиях предыдущей задачи постройте $95\\%$ доверительный интервал Уилсона для доли носителей варианта 13910T в популяции майя.\n",
    "\n",
    "Какой из двух построенных доверительных интервалов выглядит более вменяемым, учитывая, что параметр, для которого строится оценка, меняется от $0$ до $1$? Почему так произошло? "
   ]
  },
  {
   "cell_type": "code",
   "execution_count": null,
   "metadata": {},
   "outputs": [],
   "source": [
    "# Ваш код"
   ]
  },
  {
   "cell_type": "markdown",
   "metadata": {},
   "source": [
    "Пусть в популяции майя действительно $2\\%$ носителей варианта 13910T, как в выборке, которую мы исследовали. Какой объём выборки нужен, чтобы с помощью нормального интервала оценить долю носителей гена 13910T с точностью $\\pm 0.01$ на уровне доверия $95\\%$?"
   ]
  },
  {
   "cell_type": "code",
   "execution_count": null,
   "metadata": {},
   "outputs": [],
   "source": [
    "# Ваш код"
   ]
  },
  {
   "cell_type": "markdown",
   "metadata": {},
   "source": [
    "Постройте график зависимости объёма выборки, необходимого для оценки для доли носителей гена 13910T с точностью $\\pm 0.01$ на уровне доверия $95\\%$, от неизвестного параметра $p$. Посмотрите, при каком значении $p$ нужно больше всего испытуемых. Как вы думаете, насколько вероятно, что выборка, которую мы анализируем, взята из случайной величины с этим значением параметра?\n",
    "\n",
    "Как бы вы не ответили на последний вопрос, рассмотреть объём выборки, необходимый при таком $p$, всё равно полезно — это даёт максимально пессимистичную оценку необходимого объёма выборки.\n",
    "\n",
    "Какой объём выборки нужен в худшем случае, чтобы с помощью нормального интервала оценить долю носителей гена 13910T с точностью $\\pm 0.01$ на уровне доверия $95\\%$?"
   ]
  },
  {
   "cell_type": "code",
   "execution_count": null,
   "metadata": {},
   "outputs": [],
   "source": [
    "# Ваш код"
   ]
  },
  {
   "cell_type": "markdown",
   "metadata": {},
   "source": [
    "### [ ] Задачка 17 \n",
    "\n",
    "Оценка метода моментов из шадовской стрёмной домашки. Распределение из этого номера наверх в генерацию квантильным преобразованием. \n",
    "\n",
    "Находим несколько оценок методом моментов, корректируем их и проверяем какая оценка эффективнее :) \n",
    "\n",
    "Про дельта-метод и распределение + доверительный интервал "
   ]
  },
  {
   "cell_type": "code",
   "execution_count": null,
   "metadata": {},
   "outputs": [],
   "source": []
  },
  {
   "cell_type": "markdown",
   "metadata": {},
   "source": [
    "### [ ] Задачка 18\n",
    "\n",
    "Теоретическая задачка! Пусть у нас есть выборка $X_1, \\ldots, X_n \\sim Exp(\\alpha)$. Все наблюдения независимые. Когда мы пытаемся методом моментов оценить параметр $\\alpha$, мы получаем $\\hat \\alpha = \\frac{1}{\\bar x}$. Для начала вам нужно построить асимптотический доверительный интервал для параметра $\\alpha$. Сделать это надо двумя способами. \n",
    "\n",
    "\n",
    "__Способ 1:__ сделаем репараметризацию и введём параметр $\\lambda = \\frac{1}{\\alpha}$. Для $\\lambda$ оценкой метода моментов будет $\\bar x$. Постройте на основе ЦПТ асимптотический доверительный интервал для $\\lambda$, а после перейдите от неё к $\\alpha$. \n",
    "\n",
    "__Способ 2:__ не будем делать никаких репараметризаций. Просто-напросто вспомним, что $\\frac{1}{\\bar x}$ - это функция от среднего, и мы можем построить для неё распределение на основе дельта-метода. Найдите асимптотическое распределение для $\\frac{1}{\\bar x}$ и исходя из него постройте доверительный интервал для $\\alpha$. \n",
    "\n",
    "Пусть уровень доверия $\\gamma = 0.95$. Сгенерируйте выборку размера $100$ из экспоненциального распределения. Постройте доверительный интервал. Теперь сгенерируйте выборку размера $200$. Снова постройте доверительный интервал. Насколько уменьшилась его ширина? Выведите формулу, в которой будет явно видно как ширина доверительного интервала зависит от размера выборки. "
   ]
  },
  {
   "cell_type": "code",
   "execution_count": null,
   "metadata": {},
   "outputs": [],
   "source": [
    "# Ваш код здесь "
   ]
  },
  {
   "cell_type": "markdown",
   "metadata": {},
   "source": [
    "Предположим, что мы теперь хотим построить оценку метода моментов для $\\alpha^2$. Так как это дисперсия, исходя из метода моментов, логично взять оценку $\\frac{1}{\\bar x^2}$. Найдите асимптотическое распределение этой оценки с помощью дельта-метода. Постройте доверительный интервал для неё на основе выборки, сгенерированной выше."
   ]
  },
  {
   "cell_type": "code",
   "execution_count": null,
   "metadata": {},
   "outputs": [],
   "source": [
    "# Ваш код здесь"
   ]
  },
  {
   "cell_type": "markdown",
   "metadata": {},
   "source": [
    "### [ ] Задачка 19\n"
   ]
  },
  {
   "cell_type": "code",
   "execution_count": null,
   "metadata": {},
   "outputs": [],
   "source": []
  },
  {
   "cell_type": "markdown",
   "metadata": {},
   "source": [
    "### [ ] Задачка 20\n"
   ]
  },
  {
   "cell_type": "code",
   "execution_count": null,
   "metadata": {},
   "outputs": [],
   "source": []
  },
  {
   "cell_type": "markdown",
   "metadata": {},
   "source": [
    "## 2. [40+] Кит-рисёрчер (Кризис)\n",
    "\n",
    "Добро пожаловать в Кита. Кит - это большая рисёрчерская задача с огромным количеством вопросов. В ките есть как ручные вопросы, так и вопросы для симуляций. За каждый вопрос даётся какое-то количество баллов. В каких-то вопросах требуется решить задачу руками на бумажке. В каких-то вопросах требуется произвести симуляцию в R. Продвинтесь в своём рисёрче над этим китом как можно глубже и срубите куш из баллов.\n",
    "\n",
    "> **На мой узкопрофессиональный взгляд, этот Кит проще предыдущего.** "
   ]
  },
  {
   "cell_type": "markdown",
   "metadata": {},
   "source": [
    "Давайте поиграем в кризис! Представим себе фондовый рынок. Пусть динамика акций на нём описывается случайными блужданиями. То есть цена в текущий момент времени определяется как \n",
    "\n",
    "$$\n",
    "y_t = y_{t-1} + \\varepsilon_t.\n",
    "$$\n",
    "\n",
    "При этом значение $y_0$, из которого стартует симуляция, равно $20$. Будем считать, что когда акция выпускается на рынок, она стоит $20\\$$. Также будем считать, что $\\varepsilon_t \\sim N(0, 3^2)$. \n",
    "\n",
    "Получается, что цена акции сегодня - это вчерашняя цена + какой-то случайный шум. Для полного понимания того, как устроен процесс, давайте ссимулируем как ведёт себя одна ценная бумага."
   ]
  },
  {
   "cell_type": "code",
   "execution_count": 12,
   "metadata": {},
   "outputs": [
    {
     "data": {
      "image/png": "[encoded data removed]",
      "text/plain": [
       "plot without title"
      ]
     },
     "metadata": {},
     "output_type": "display_data"
    }
   ],
   "source": [
    "n_obs = 100\n",
    "y = rep(20, n_obs)\n",
    "\n",
    "for(i in 2:n_obs){\n",
    "    # максимум берём, чтобы не было отрицательных цен \n",
    "    y[i] = max(0, y[i-1] + rnorm(1, mean=0, sd=3))\n",
    "}\n",
    "\n",
    "qplot(1:n_obs, y, geom='line')"
   ]
  },
  {
   "cell_type": "markdown",
   "metadata": {},
   "source": [
    "Давайте с помощью симуляций попробуем ответить на парочку вопросов. \n",
    "\n",
    "__[ ] а)__ Предположим, что мы закупаемся акциями в момент эмиссии. Мы решаем, что будем держать ценную бумагу у себя на руках до тех пора, пока её стоймость либо не дойдёт до $100$ долларов и мы не обогатимся, либо пока она не упадёт до нуля и мы не станем банкротами. Случайная величина $T$ - момент нашего ухода с рынка. Найдите с помощью симуляций $E(T)$, $Var(T)$ и постройте для неё гистограмму.  "
   ]
  },
  {
   "cell_type": "code",
   "execution_count": null,
   "metadata": {},
   "outputs": [],
   "source": []
  },
  {
   "cell_type": "markdown",
   "metadata": {},
   "source": [
    "Давайте поиграем в кризис. Сгенерируем сотню случайных блужданий длины $3500$ (около $10$ лет). Будем считать, что экономика погрузилась в кризис, если в течение $10$ периодов подряд $30$ ценных бумаг падают в цене.\n",
    "\n",
    "__[ ] б)__ Какова вероятность того, что в течение $10$ лет будет хотя бы один кризис? "
   ]
  },
  {
   "cell_type": "code",
   "execution_count": null,
   "metadata": {},
   "outputs": [],
   "source": []
  },
  {
   "cell_type": "markdown",
   "metadata": {},
   "source": [
    "__[ ] в)__ Пусть случайная величина $Y$ - число кризисов за $10$ лет. Найдите спомощью симуляций её распределение. Оценить $E(Y)$. Пусть"
   ]
  },
  {
   "cell_type": "code",
   "execution_count": null,
   "metadata": {},
   "outputs": [],
   "source": []
  },
  {
   "cell_type": "markdown",
   "metadata": {},
   "source": [
    "__[ ] г)__ среднее время между кризисами "
   ]
  },
  {
   "cell_type": "code",
   "execution_count": null,
   "metadata": {},
   "outputs": [],
   "source": []
  },
  {
   "cell_type": "markdown",
   "metadata": {},
   "source": [
    "__[ ]  )__ Предположим, что нас интересует величина $Cov(y_t, y_{t-1})$. \n",
    "\n",
    "![ВЫВЕСТИ ТЕОРЕТИЧЕСКУЮ ХАРАКТЕРИСТИКУ]( )\n",
    "\n",
    "Мы хотели бы оценить её с помощью теоретического аналога $\\overline{xy} - \\bar x \\cdot \\bar y$. Будет ли эта оценка состоятельной? Проверьте это с помощью симуляций. "
   ]
  },
  {
   "cell_type": "code",
   "execution_count": 13,
   "metadata": {},
   "outputs": [],
   "source": [
    "n_obs = 1000\n",
    "cov_est = rep(0, n_obs)\n",
    "\n",
    "y = rep(20, n_obs)\n",
    "\n",
    "for(i in 2:n_obs){\n",
    "    # максимум берём, чтобы не было отрицательных цен \n",
    "    y[i] = max(0, y[i-1] + rnorm(1, mean=0, sd=3))\n",
    "}\n"
   ]
  },
  {
   "cell_type": "code",
   "execution_count": 16,
   "metadata": {},
   "outputs": [
    {
     "data": {
      "text/html": [
       "0.996471839184177"
      ],
      "text/latex": [
       "0.996471839184177"
      ],
      "text/markdown": [
       "0.996471839184177"
      ],
      "text/plain": [
       "[1] 0.9964718"
      ]
     },
     "metadata": {},
     "output_type": "display_data"
    }
   ],
   "source": [
    "cov(y[1:n_obs-1], y[2:n_obs])/var(y)"
   ]
  },
  {
   "cell_type": "code",
   "execution_count": null,
   "metadata": {},
   "outputs": [],
   "source": []
  },
  {
   "cell_type": "code",
   "execution_count": null,
   "metadata": {},
   "outputs": [],
   "source": []
  },
  {
   "cell_type": "markdown",
   "metadata": {},
   "source": [
    "* Что-нибудь про различные стратегии торговли + какую-нибудь херню про формирование портфелей и портфельную теорию марковица"
   ]
  },
  {
   "cell_type": "code",
   "execution_count": null,
   "metadata": {},
   "outputs": [],
   "source": []
  },
  {
   "cell_type": "markdown",
   "metadata": {},
   "source": [
    "* T - момент остановки торгов, найти его распределение, дисперсию если стратегия - корридор \n",
    "\n",
    "Взять какие-нибудь две стратегии для действий и два параметра по ним, оценить ченить "
   ]
  },
  {
   "cell_type": "code",
   "execution_count": null,
   "metadata": {},
   "outputs": [],
   "source": []
  },
  {
   "cell_type": "markdown",
   "metadata": {},
   "source": [
    "Теперь перейдём к реальности. Подгрузим данные по бумагам из индекса $S\\&P-500$. Попробуем посмотреть что на этих бумагах будет происходить в ретроспективе. Ответьте на следущие вопросы: \n",
    "\n",
    "__[ ] )__ Сколько в течение рассматриваемого периода было кризисов? "
   ]
  },
  {
   "cell_type": "code",
   "execution_count": null,
   "metadata": {},
   "outputs": [],
   "source": []
  },
  {
   "cell_type": "markdown",
   "metadata": {},
   "source": [
    "Пусть мы покупаем 1 января ... одну из ценных бумаг.  Как бы вы оценили по данным момент остановки T? "
   ]
  },
  {
   "cell_type": "code",
   "execution_count": null,
   "metadata": {},
   "outputs": [],
   "source": []
  },
  {
   "cell_type": "code",
   "execution_count": null,
   "metadata": {},
   "outputs": [],
   "source": []
  },
  {
   "cell_type": "code",
   "execution_count": null,
   "metadata": {},
   "outputs": [],
   "source": []
  }
 ],
 "metadata": {
  "kernelspec": {
   "display_name": "R",
   "language": "R",
   "name": "ir"
  },
  "language_info": {
   "codemirror_mode": "r",
   "file_extension": ".r",
   "mimetype": "text/x-r-source",
   "name": "R",
   "pygments_lexer": "r",
   "version": "3.5.3"
  }
 },
 "nbformat": 4,
 "nbformat_minor": 2
}
