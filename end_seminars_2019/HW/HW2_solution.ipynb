{
 "cells": [
  {
   "cell_type": "markdown",
   "metadata": {},
   "source": [
    "<img src=\"https://raw.githubusercontent.com/FUlyankin/r_probability/master/800x800-04.jpg\" height=\"300\" width=\"300\"> \n",
    "\n",
    "# <center> R для тервера и матстата. <br>  <br> Домашка номер два! </center>\n",
    "\n",
    "\n",
    "Данный ноутбук является домашкой по курсу «R для теории вероятностей и математической статистики» (РАНХиГС, 2019). Автор ноутбука - [вот этот парень по имени Филипп.](https://vk.com/ppilif) Если у вас для него есть деньги, слава или женщины, он от этого всего не откажется. Ноутбук распространяется на условиях лицензии [Creative Commons Attribution-Share Alike 4.0.](https://creativecommons.org/licenses/by-sa/4.0/) При использовании обязательно упоминание автора курса и аффилиации. При наличии технической возможности необходимо также указать активную гиперссылку на [страницу курса.](https://fulyankin.github.io/r_probability/) На ней можно найти другие материалы. Фрагменты кода, включенные в этот notebook, публикуются как [общественное достояние.](https://creativecommons.org/publicdomain/zero/1.0/)\n",
    "\n",
    "----------------------\n",
    "\n",
    "Приветствую вас внутри второй домашки. __Краткий брифинг:__ \n",
    "\n",
    "* _НУ чё? Упоролись первой домашкой?_ Пришло время упороться второй раз! \n",
    "* __Дедлайн: 02.06.19__\n",
    "* Вторая домашка затрагивает сходимости случайных величин, свойства оценок и доверительные интервалы\n",
    "* В домашке нет кита, мне он не понравился и я его удалил, остались одни рыбёшки. \n",
    "* __Важно:__ задачек много, я отсортировал их в порядке важности. Те задачки, что на самом верху - на свойства оценок и доверительные интервалы, нужно решить в первую очередь. Всё, что связано со сходимостями - во вторую. Если у вас мало времени, лучше посвятите его доверительным интервалам. \n",
    "* Часть задач снова нужно решить руками. \n",
    "* Ваша команда пытается решить как можно больше задач и присылает их мне.\n",
    "* Если очень хочется, можем устроить после всех дедлайнов серию из пар с разбором домашек. \n",
    "* Свои решения постараюсь выложить после дедлайна.\n",
    "* __WARNING:__ [на страничке курса](https://fulyankin.github.io/r_probability/) есть решение домашек прошлого года. Ими можно пользоваться. Правда, если вы что-то там нашли, нужно не просто перебить код, а понять его и осознать. \n",
    "\n",
    "---------------------------\n",
    "\n",
    "* __Как оформлять домашки:__ \n",
    "    1. Компьютерные домашки оформляем либо в связке R + LaTeX, либо в юпитерских тетрадках (если хочется новых технологий), либо в связке R + Markdown. Все шаблоны для этого есть в репозитории. Пожалуйста, не нужно присылать мне просто тупой код с выводами в виде комментариев, написанных через решёточки. Я от этого могу сойти с ума. \n",
    "    2. Ручные решение можно оформлять двумя способами: либо вбивать их в файл вместе с кодом. Благо в Markdown, юпитере и других местах поддерживаются теховские формулу. Либо аккуратно оформляйте их на бумаге и присылайте свёрстанную pdf-ку. Не надо кидать мне фотки по одной. Я от этого тоже сойду с ума. Вариант с вбиванием в основной файл - предпочтительнее. Заодно попрактикуетесь в формулах для LaTeX. \n",
    "    \n",
    "* На странице курса висит [видео-инструкция по оформлению.](https://yadi.sk/i/Pxp_pByP6Em9-A)\n",
    "\n",
    "---------------------------\n",
    "\n",
    "Ближе к делу. С чего начинается любой скрипт? Правильно! С подгрузки пакетов :) "
   ]
  },
  {
   "cell_type": "code",
   "execution_count": 1,
   "metadata": {},
   "outputs": [],
   "source": [
    "library(\"ggplot2\")  # Пакет для красивых графиков \n",
    "library(\"grid\")     # Пакет для субплотов\n",
    "\n",
    "# Отрегулируем размер картинок, которые будут выдаваться в нашей тетрадке\n",
    "library('repr')\n",
    "options(repr.plot.width=4, repr.plot.height=3)"
   ]
  },
  {
   "cell_type": "markdown",
   "metadata": {},
   "source": [
    "# 1. Рыбёшки"
   ]
  },
  {
   "cell_type": "markdown",
   "metadata": {},
   "source": [
    "### [2] Задачка 1\n",
    "\n",
    "Начинающий каратист Вася тренируется бить кирпичи ударом ладони. Каждый день он бьёт ладонью по кирпичу до тех пор, пока тот не расколется от одного удара. Предположим, что вероятность разбить кирпич с одного удара равна $p$ и неизменна во времени. Величины $X_1, X_2, \\ldots , X_n$ — количество ударов, которое потребовались Васе в соответствующий день. Заполните для неизвестного параметра $p$ табличку: \n",
    "\n",
    "|  $\\hat p  $       |несмещённая          | смещённая             |\n",
    "|-------------------|---------------------|-----------------------|\n",
    "|__состоятельная__  |       $\\mbox{ }$    |      $\\mbox{ }$       |\n",
    "|__несостоятельная__|       $\\mbox{ }$    |      $\\mbox{ }$       |\n",
    "\n",
    "Покажите для всех оценок из таблички, что вы поместили их в правильные места. Для каждой ячейки придумайте по два примера оценок. \n",
    "\n",
    "__Решение:__ \n",
    "\n",
    "Я мог бы притвориться, что задумал это всё специально. Но на самом деле я фиганул распределение из головы не подумав. А вы не подумав, попытались решить с ходу эту задачку. На самом деле она сложная. Жаль, что вы этого и не заметили и глупостей понаписали :( \n",
    "\n",
    "Геометрическое распределение можно определить двумя способами. Либо включать успех в счётчик, либо нет. Идеологически от этого ничего не меняется. Выпишем характеристики распределения. \n",
    "\n",
    "\\begin{equation*}\n",
    "\\begin{aligned}\n",
    "&E(X) = \\frac{1}{p} \\\\\n",
    "&Var(X) = \\frac{1-p}{p^2} \\\\\n",
    "&E(X^2) = Var(X) + E(X)^2 = \\frac{2 - p}{p^2}  \n",
    "\\end{aligned}\n",
    "\\end{equation*}\n",
    "\n",
    "Из уравнения для первого момента получаем оценку $\\hat p = \\frac{1}{\\bar x}$. Все вы нашли её. Однако, кто вам сказал, что это несмещённая оценка? Все вы рассуждали, что \n",
    "\n",
    "$$E(\\bar x) = \\frac{1}{p} \\Rightarrow E \\left( \\frac{1}{\\bar x} \\right) = \\frac{1}{E(\\bar x)} = p$$\n",
    "\n",
    "__Это неверная логика!__ У математического ожидания нет свойства $E \\left( \\frac{1}{X} \\right) = \\frac{1}{E(X)}$. Можно по-честному посчитать математическое ожидание дроби и убедиться, что оценка __будет смещена.__ \n",
    "\n",
    "Перед тем, как на эту дробь бросаться, неплохо было бы понять как распределена сумма $X_1 + \\ldots + X_n$. Мы с вами уже сталкивались с этой суммой на паре. Правда в немного замаскированном виде. Помните задачку про киндеры и игуану?  Там мы покупали киндеры, пока не попадалась новая игрушка. То есть как раз смотрели на сумму геометрических распределений с разными вероятностями $p_i$. Такая штука, где рассматривается сумма геометрических распределений, называется coupon collection problem.  Вот [неплохая презенташка про это.](https://pdfs.semanticscholar.org/2c7c/6b2d0a92e890c11a802ecce35dd4935b4fc8.pdf)\n",
    "\n",
    "Тут ситуация попроще, и вероятность везде одинаковая. Если аккуратно применить формулу свёртки $n$ раз, можно получить, что сумма имеет [негативное биномиальное](https://en.wikipedia.org/wiki/Negative_binomial_distribution) распределение. [Вот тут расписан первый шаг](https://math.stackexchange.com/questions/1435545/probability-mass-function-of-sum-of-two-independent-geometric-random-variables) для суммы из двух величин. Дальше надо повторить $n$ раз то же самое и накопить коэффициент $C_{k+r-1}^k$. \n",
    "\n",
    "Теперь наконец-то можно найти математическое ожидание $\\frac{1}{\\bar x}$. Дело иметь придётся с нетривиальной суммой и свойствами биномиальных коэффициентов. В итоге, [смещение](https://en.wikipedia.org/wiki/Geometric_distribution) окажется равно $\\frac{p \\cdot (1-p)}{n}$. И дальше уже можно попробовать скоректировать оценку. \n",
    "\n",
    "---------------------------------"
   ]
  },
  {
   "cell_type": "markdown",
   "metadata": {},
   "source": [
    "Теперь об оставшихся клетках. __Ребята, блин!__ \n",
    "\n",
    "* Если у вас была оценка $e$ и вы сделали $e + \\frac{1}{n}$, у вас повреждена несмещённость, но при этом всё нормально с состоятельностью. \n",
    "* Если у вас была оценка $e$ и вы сделали $e + 4$, то оба свойства перестают работать. Математическое ожидание съезжает на $4$, и оценка сходится к чему-то на $4$ больше истины. \n",
    "* Если вы берёте в качестве оценки $X_{28}$, то никакой состоятельности точно не будет. Потому что это одно наблюдение. Вы чего так на ерунде косячите :( "
   ]
  },
  {
   "cell_type": "code",
   "execution_count": 2,
   "metadata": {},
   "outputs": [],
   "source": [
    "### ╰( ͡° ͜ʖ ͡° )つ──☆*:・ﾟ код тут не нужен"
   ]
  },
  {
   "cell_type": "markdown",
   "metadata": {},
   "source": [
    "### [2]  Задачка 2\n",
    "\n",
    "Давайте уточним правило трёх сигм. \n",
    "\n",
    "__Утверждение:__ $99.7\\%$ вероятностной массы случайной величины $X \\sim N(\\mu,\\sigma^2)$ лежит в интервале $\\mu \\pm c \\cdot \\sigma$. Чему равно значение константы $c$? А если речь про 80\\%? "
   ]
  },
  {
   "cell_type": "code",
   "execution_count": 3,
   "metadata": {},
   "outputs": [
    {
     "data": {
      "text/html": [
       "2.96773792534177"
      ],
      "text/latex": [
       "2.96773792534177"
      ],
      "text/markdown": [
       "2.96773792534177"
      ],
      "text/plain": [
       "[1] 2.967738"
      ]
     },
     "metadata": {},
     "output_type": "display_data"
    },
    {
     "data": {
      "text/html": [
       "1.2815515655446"
      ],
      "text/latex": [
       "1.2815515655446"
      ],
      "text/markdown": [
       "1.2815515655446"
      ],
      "text/plain": [
       "[1] 1.281552"
      ]
     },
     "metadata": {},
     "output_type": "display_data"
    }
   ],
   "source": [
    "### ╰( ͡° ͜ʖ ͡° )つ──☆ я изгоняю тебя Саруман, как яд изгоняют из раны\n",
    "\n",
    "qnorm(1 - (1 - 0.997)/2)\n",
    "qnorm(1 - 0.2/2)"
   ]
  },
  {
   "cell_type": "markdown",
   "metadata": {},
   "source": [
    "### [10] Задачка 3\n",
    "\n",
    "Для $61$ большого города в Англии и Уэльсе известны средняя годовая смертность на $100000$ населения (по данным за 1958-1964 гг.) и концентрация кальция в питьевой воде (в частях на миллион). Чем выше концентрация кальция, тем жёстче вода. Города дополнительно поделены на северные и южные. Данные лежат [в табличке water.txt.](https://yadi.sk/i/l7SqdKFm-JBO9g) \n",
    "\n",
    "В первом пункте этой задачки нужно построить асимптотический доверительный интервал для средней годовой смертности в больших городах. Для начала выведете его руками из ЦПТ. По аналогии с тем, как мы сделали это для $\\lambda$ из модели Пуассона. После постройте $95\\%$ доверительный интервал для средней годовой смертности в больших городах.\n",
    "\n",
    "__Решение:__ \n",
    "\n",
    "Выведение в лекциях ищите!"
   ]
  },
  {
   "cell_type": "code",
   "execution_count": 4,
   "metadata": {},
   "outputs": [
    {
     "data": {
      "text/html": [
       "<table>\n",
       "<thead><tr><th scope=col>location</th><th scope=col>town</th><th scope=col>mortality</th><th scope=col>hardness</th></tr></thead>\n",
       "<tbody>\n",
       "\t<tr><td>South     </td><td>Bath      </td><td>1247      </td><td>105       </td></tr>\n",
       "\t<tr><td>North     </td><td>Birkenhead</td><td>1668      </td><td> 17       </td></tr>\n",
       "\t<tr><td>South     </td><td>Birmingham</td><td>1466      </td><td>  5       </td></tr>\n",
       "\t<tr><td>North     </td><td>Blackburn </td><td>1800      </td><td> 14       </td></tr>\n",
       "\t<tr><td>North     </td><td>Blackpool </td><td>1609      </td><td> 18       </td></tr>\n",
       "\t<tr><td>North     </td><td>Bolton    </td><td>1558      </td><td> 10       </td></tr>\n",
       "</tbody>\n",
       "</table>\n"
      ],
      "text/latex": [
       "\\begin{tabular}{r|llll}\n",
       " location & town & mortality & hardness\\\\\n",
       "\\hline\n",
       "\t South      & Bath       & 1247       & 105       \\\\\n",
       "\t North      & Birkenhead & 1668       &  17       \\\\\n",
       "\t South      & Birmingham & 1466       &   5       \\\\\n",
       "\t North      & Blackburn  & 1800       &  14       \\\\\n",
       "\t North      & Blackpool  & 1609       &  18       \\\\\n",
       "\t North      & Bolton     & 1558       &  10       \\\\\n",
       "\\end{tabular}\n"
      ],
      "text/markdown": [
       "\n",
       "| location | town | mortality | hardness |\n",
       "|---|---|---|---|\n",
       "| South      | Bath       | 1247       | 105        |\n",
       "| North      | Birkenhead | 1668       |  17        |\n",
       "| South      | Birmingham | 1466       |   5        |\n",
       "| North      | Blackburn  | 1800       |  14        |\n",
       "| North      | Blackpool  | 1609       |  18        |\n",
       "| North      | Bolton     | 1558       |  10        |\n",
       "\n"
      ],
      "text/plain": [
       "  location town       mortality hardness\n",
       "1 South    Bath       1247      105     \n",
       "2 North    Birkenhead 1668       17     \n",
       "3 South    Birmingham 1466        5     \n",
       "4 North    Blackburn  1800       14     \n",
       "5 North    Blackpool  1609       18     \n",
       "6 North    Bolton     1558       10     "
      ]
     },
     "metadata": {},
     "output_type": "display_data"
    }
   ],
   "source": [
    "df = read.csv('/Users/fulyankin/Yandex.Disk.localized/R/R_prob_data/water.txt', sep='\\t')\n",
    "head(df)"
   ]
  },
  {
   "cell_type": "code",
   "execution_count": 5,
   "metadata": {},
   "outputs": [
    {
     "name": "stdout",
     "output_type": "stream",
     "text": [
      "Среднее с вероятностью 95% лежит между 1477.053 и 1571.243 \n",
      "Длина интервала: 94.19007"
     ]
    }
   ],
   "source": [
    "### ╰( ͡° ͜ʖ ͡° )つ▬▬ι═══════  Peace is a lie, there is only passion.\n",
    "asy_norm_conf = function(x, alpha){\n",
    "\n",
    "    z_alpha = qnorm(1 - alpha/2)\n",
    "    \n",
    "    n = length(x)\n",
    "    mu_hat = mean(x)\n",
    "    sd = sd(x)\n",
    "\n",
    "    left = mu_hat - z_alpha * sd/sqrt(n)\n",
    "    right = mu_hat + z_alpha * sd/sqrt(n)\n",
    "\n",
    "    cat('Среднее с вероятностью 95% лежит между',left, 'и',right, '\\n')\n",
    "    cat('Длина интервала:', right-left)   \n",
    "    }\n",
    "\n",
    "asy_norm_conf(df$mortality, 0.05)"
   ]
  },
  {
   "cell_type": "markdown",
   "metadata": {},
   "source": [
    "Постройте $95\\%$ точный доверительный интервал для средней годовой смертности. Помните, что для этого мы используем распределение Стьюдента? \n",
    "\n",
    "* Воспроизведите формулы для выведения этого интервала. \n",
    "* Какой теоремой мы пользуемся при конструировании распределения для среднего? \n",
    "* Правда ли, что при этом мы предполагаем, что годовая смертность имеет нормальное распределение? \n",
    "* Может ли это оказаться неправдой?\n",
    "* Постройте интервал в R. \n",
    "* Он получился длиннее асимптотического? Почему? "
   ]
  },
  {
   "cell_type": "code",
   "execution_count": 6,
   "metadata": {},
   "outputs": [
    {
     "name": "stdout",
     "output_type": "stream",
     "text": [
      "Среднее с вероятностью 95% лежит между 1476.083 и 1572.212 \n",
      "Длина интервала: 96.1284"
     ]
    }
   ],
   "source": [
    "### ╰( ͡° ͜ʖ ͡° )つ▬▬ι═══════   Through passion, I gain strength.\n",
    "\n",
    "alpha = 0.05\n",
    "\n",
    "x = df$mortality\n",
    "\n",
    "n = length(x)\n",
    "t_alpha = qt(1 - alpha/2, df=n-1)\n",
    "\n",
    "mu_hat = mean(x)\n",
    "sd = sd(x)\n",
    "\n",
    "left = mu_hat - t_alpha * sd/sqrt(n)\n",
    "right = mu_hat + t_alpha * sd/sqrt(n)\n",
    "\n",
    "cat('Среднее с вероятностью 95% лежит между',left, 'и',right, '\\n')\n",
    "cat('Длина интервала:', right-left)\n",
    "\n",
    "# Интервал вышел длиннее асимптотического, так как у распределения Стьюдента хвосты \n",
    "# тяжелее, чем у нормального, и это позволяет за счёт коррекции на оценку s^2 \n",
    "# получить точный интервал (при условии что выборка нормальная)"
   ]
  },
  {
   "cell_type": "markdown",
   "metadata": {},
   "source": [
    "Постройте $95\\%$ асимптотический доверительный интервал для средней годовой смертности по всем южным городам."
   ]
  },
  {
   "cell_type": "code",
   "execution_count": 7,
   "metadata": {},
   "outputs": [
    {
     "name": "stdout",
     "output_type": "stream",
     "text": [
      "Среднее с вероятностью 95% лежит между 1322.891 и 1430.724 \n",
      "Длина интервала: 107.8335"
     ]
    }
   ],
   "source": [
    "### ╰( ͡° ͜ʖ ͡° )つ▬▬ι═══════   Through strength, I gain power.\n",
    "asy_norm_conf(df[df$location == 'South',]$mortality, 0.05)"
   ]
  },
  {
   "cell_type": "markdown",
   "metadata": {},
   "source": [
    "Постройте такой же асимптотический доверительный интервал для средней годовой смертности по всем северным городам."
   ]
  },
  {
   "cell_type": "code",
   "execution_count": 8,
   "metadata": {},
   "outputs": [
    {
     "name": "stdout",
     "output_type": "stream",
     "text": [
      "Среднее с вероятностью 95% лежит между 1588.234 и 1678.966 \n",
      "Длина интервала: 90.73286"
     ]
    }
   ],
   "source": [
    "### ╰( ͡° ͜ʖ ͡° )つ▬▬ι═══════   Through power, I gain victory.\n",
    "asy_norm_conf(df[df$location == 'North',]$mortality, 0.05)"
   ]
  },
  {
   "cell_type": "markdown",
   "metadata": {},
   "source": [
    "Пересекаются ли доверительный интервалы для средней жёсткости воды в северных и южных городах? Как вы думаете, какой из этого можно сделать вывод? "
   ]
  },
  {
   "cell_type": "code",
   "execution_count": 9,
   "metadata": {},
   "outputs": [],
   "source": [
    "### ╰( ͡° ͜ʖ ͡° )つ▬▬ι═══════  Through victory, my chains are broken.\n",
    "\n",
    "# Жёсткость воды в регионах разная (но чисто формально лучше проверить гипотезу)\n",
    "# потому что эта процедура обладает более низкой мощностью, вам предстоит \n",
    "# доказать это в четвёртой домашке!"
   ]
  },
  {
   "cell_type": "markdown",
   "metadata": {},
   "source": [
    "В лекционной тетрадке есть кусочек, где мы выводим формулу для поиска необходимого объёма выборки, чтобы на уровне доверия $1 - \\alpha$ оценить долю с фиксированной точностью. Выведите такую же формулу для среднего. При $\\sigma = 1$ какой нужен объём выборки, чтобы на уровне доверия $95\\%$ оценить среднее с точностью $\\pm 0.1$? \n",
    "\n",
    "\n",
    "Доверительный интервал имеет вид \n",
    "\n",
    "$$\n",
    "\\bar x - z \\cdot \\frac{s}{\\sqrt{n}} \\le \\mu \\le \\bar x + z \\cdot \\frac{s}{\\sqrt{n}}\n",
    "$$\n",
    "\n",
    "Вычитаем из правой границы левую, получаем \n",
    "\n",
    "$$\n",
    "right - left = 2 \\cdot z \\cdot \\frac{s}{\\sqrt{n}}.\n",
    "$$\n",
    "\n",
    "Отсюда получаем, что \n",
    "\n",
    "$$\n",
    "n = \\frac{4 \\cdot z^2 \\cdot s^2}{(right - left)^2}\n",
    "$$\n",
    "\n",
    "\n",
    "Мы хотим иметь точность $\\pm 0.1$, значит, $right - left = 0.2$. Тогда, если дисперсия неизвестна, \n",
    "\n",
    "$$\n",
    "n = 100\\cdot t_{1 - \\frac{\\alpha}{2}}^2 (n-1) \\cdot s^2.\n",
    "$$\n",
    "\n",
    "Если дисперсия известна, тогда \n",
    "\n",
    "$$\n",
    "n = 100\\cdot z_{1 - \\frac{\\alpha}{2}}^2  \\cdot s^2.\n",
    "$$\n",
    "\n",
    "Найдем необходимый объем выборки, если $\\sigma = 1$"
   ]
  },
  {
   "cell_type": "code",
   "execution_count": 10,
   "metadata": {},
   "outputs": [
    {
     "data": {
      "text/html": [
       "384.145882069412"
      ],
      "text/latex": [
       "384.145882069412"
      ],
      "text/markdown": [
       "384.145882069412"
      ],
      "text/plain": [
       "[1] 384.1459"
      ]
     },
     "metadata": {},
     "output_type": "display_data"
    }
   ],
   "source": [
    "### ╰( ͡° ͜ʖ ͡° )つ▬▬ι═══════  The Force shall free me.\n",
    "\n",
    "sigma = 1\n",
    "n = 100*(qnorm(1-alpha/2))^2 * sigma^2\n",
    "n"
   ]
  },
  {
   "cell_type": "markdown",
   "metadata": {},
   "source": [
    "Выведите на основе ЦПТ и свойств нормального распределения распределение случайной величины $\\bar x_1 - \\bar x_2$, где $\\bar x_1$ - средняя жесткость на севере, а $\\bar x_2$ на юге. Постройте для этой разницы исходя из полученного распределения доверительный интервал. Все выведения дублируют то, что мы делали на лекции для долей и пуассона. Если вы не поняли этого, самое время разобраться :) \n",
    "\n",
    "Помним, что \n",
    "\n",
    "$$\n",
    "\\bar x \\sim N(\\mu_1, \\frac{\\sigma^2_1}{n_1}) \\\\ \n",
    "\\bar{y} \\sim N(\\mu_2, \\frac{\\sigma^2_2}{n_2}) \\\\ \n",
    "\\bar{x} - \\bar y \\sim N(\\mu_1 - \\mu_2, \\frac{\\sigma^2_1}{n_1} +  \\frac{\\sigma^2_2}{n_2} ) \\\\ \n",
    "$$\n",
    "\n",
    "\n",
    "Тогда Доверительный интервал примет вид \n",
    "\n",
    "$$\n",
    "(\\bar{x} - \\bar y)  \\pm z_{1-\\frac{\\alpha}{2}}\\cdot \\sqrt{\\frac{\\sigma^2_1}{n_1} +  \\frac{\\sigma^2_2}{n_2}}\n",
    "$$\n",
    "\n",
    "Осталось только построить его."
   ]
  },
  {
   "cell_type": "code",
   "execution_count": 11,
   "metadata": {},
   "outputs": [
    {
     "name": "stdout",
     "output_type": "stream",
     "text": [
      "Среднее с вероятностью 95% лежит между 21.60284 и 57.13562 \n",
      "Длина интервала: 35.53277"
     ]
    }
   ],
   "source": [
    "### ╰( ͡° ͜ʖ ͡° )つ▬▬ι═══════  bzzzzzzzzzz\n",
    "alpha = 0.05\n",
    "z_alpha = qnorm(1 - alpha/2)\n",
    "\n",
    "x = df[df$location == 'South',]$hardness\n",
    "y = df[df$location == 'North',]$hardness\n",
    "\n",
    "n1 = length(x)\n",
    "n2 = length(y)\n",
    "\n",
    "mu1 = mean(x)\n",
    "mu2 = mean(y)\n",
    "\n",
    "var1 = var(x)\n",
    "var2 = var(y)\n",
    "\n",
    "left = (mu1 - mu2) - z_alpha * sqrt(var1/n1 + var2/n2)\n",
    "right = (mu1 - mu2) + z_alpha * sqrt(var1/n1 + var2/n2)\n",
    "\n",
    "cat('Среднее с вероятностью 95% лежит между',left, 'и',right, '\\n')\n",
    "cat('Длина интервала:', right-left)   "
   ]
  },
  {
   "cell_type": "markdown",
   "metadata": {},
   "source": [
    "### [10] Задачка 4\n",
    "\n",
    "Большая часть млекопитающих неспособны во взрослом возрасте переваривать лактозу, содержащуюся в молоке. У людей за расщепление лактозы отвечает фермент лактаза, кодируемый геном LCT. У людей с вариантом 13910T этого гена лактаза продолжает функционировать на протяжении всей жизни. Распределение этого варианта гена сильно варьируется в различных генетических популяциях.\n",
    "\n",
    "Из $50$ исследованных представителей индейцев майя, вариант 13910T был обнаружен у одного. Постройте нормальный $95\\%$ доверительный интервал для доли носителей варианта 13910T в популяции майя. Формулу можно не выводить, но раздел про доли в лекции прочитать ещё разок не помешает. "
   ]
  },
  {
   "cell_type": "code",
   "execution_count": 12,
   "metadata": {},
   "outputs": [
    {
     "name": "stdout",
     "output_type": "stream",
     "text": [
      "Среднее с вероятностью 95% лежит между -0.01880531 и 0.05880531 \n",
      "Длина интервала: 0.07761061"
     ]
    }
   ],
   "source": [
    "### ╰( ͡° ͜ʖ ͡° )つ──☆ когда вода всемирного потопа\n",
    "alpha = 0.05\n",
    "p_hat = 1/50\n",
    "n = 50\n",
    "\n",
    "sd_p = sqrt(p_hat*(1-p_hat)/n)\n",
    "\n",
    "left = p_hat - qnorm(1-alpha/2)*sd_p\n",
    "right = p_hat + qnorm(1-alpha/2)*sd_p\n",
    "\n",
    "cat('Среднее с вероятностью 95% лежит между',left, 'и',right, '\\n')\n",
    "cat('Длина интервала:', right-left)   "
   ]
  },
  {
   "cell_type": "markdown",
   "metadata": {},
   "source": [
    "В условиях предыдущей задачи постройте $95\\%$ доверительный интервал Уилсона для доли носителей варианта 13910T в популяции майя.\n",
    "\n",
    "Какой из двух построенных доверительных интервалов выглядит более вменяемым, учитывая, что параметр, для которого строится оценка, меняется от $0$ до $1$? Почему так произошло? В каких ситуациях на практике обычно используют интервал Уилсона? "
   ]
  },
  {
   "cell_type": "code",
   "execution_count": 13,
   "metadata": {},
   "outputs": [
    {
     "data": {
      "text/html": [
       "<table>\n",
       "<thead><tr><th scope=col>method</th><th scope=col>x</th><th scope=col>n</th><th scope=col>mean</th><th scope=col>lower</th><th scope=col>upper</th></tr></thead>\n",
       "<tbody>\n",
       "\t<tr><td>asymptotic  </td><td>1           </td><td>50          </td><td>0.02        </td><td>-0.018805307</td><td>0.05880531  </td></tr>\n",
       "\t<tr><td>wilson      </td><td>1           </td><td>50          </td><td>0.02        </td><td> 0.003539259</td><td>0.10495444  </td></tr>\n",
       "</tbody>\n",
       "</table>\n"
      ],
      "text/latex": [
       "\\begin{tabular}{r|llllll}\n",
       " method & x & n & mean & lower & upper\\\\\n",
       "\\hline\n",
       "\t asymptotic   & 1            & 50           & 0.02         & -0.018805307 & 0.05880531  \\\\\n",
       "\t wilson       & 1            & 50           & 0.02         &  0.003539259 & 0.10495444  \\\\\n",
       "\\end{tabular}\n"
      ],
      "text/markdown": [
       "\n",
       "| method | x | n | mean | lower | upper |\n",
       "|---|---|---|---|---|---|\n",
       "| asymptotic   | 1            | 50           | 0.02         | -0.018805307 | 0.05880531   |\n",
       "| wilson       | 1            | 50           | 0.02         |  0.003539259 | 0.10495444   |\n",
       "\n"
      ],
      "text/plain": [
       "  method     x n  mean lower        upper     \n",
       "1 asymptotic 1 50 0.02 -0.018805307 0.05880531\n",
       "2 wilson     1 50 0.02  0.003539259 0.10495444"
      ]
     },
     "metadata": {},
     "output_type": "display_data"
    }
   ],
   "source": [
    "### ╰( ͡° ͜ʖ ͡° )つ──☆ покинула границы берегов\n",
    "\n",
    "library('binom') # Можно было оба пункта в одну строчку, но это не так весело :) \n",
    "binom.confint(1, 50, conf.level = 0.95, methods = c('asymptotic', 'wilson'))\n",
    "\n",
    "# Уилсон оказался адекватнее, так как параметр лежит от 0 до 1. Интервал предназначен для ситуаций когда p\n",
    "# близко к 0 или 1."
   ]
  },
  {
   "cell_type": "markdown",
   "metadata": {},
   "source": [
    "Пусть в популяции майя действительно $2\\%$ носителей варианта 13910T, как в выборке, которую мы исследовали. Какой объём выборки нужен, чтобы с помощью нормального интервала оценить долю носителей гена 13910T с точностью $\\pm 0.01$ на уровне доверия $95\\%$?"
   ]
  },
  {
   "cell_type": "code",
   "execution_count": 14,
   "metadata": {},
   "outputs": [
    {
     "data": {
      "text/html": [
       "753"
      ],
      "text/latex": [
       "753"
      ],
      "text/markdown": [
       "753"
      ],
      "text/plain": [
       "[1] 753"
      ]
     },
     "metadata": {},
     "output_type": "display_data"
    }
   ],
   "source": [
    "### ╰( ͡° ͜ʖ ͡° )つ──☆ из пены уходящего потока\n",
    "\n",
    "sample_len <- function(alpha, len){\n",
    "    return(ceiling(4*qnorm(1 - alpha/2)^2*p_hat*(1 - p_hat)/len^2))\n",
    "    }\n",
    "\n",
    "sample_len(0.05, 0.02)"
   ]
  },
  {
   "cell_type": "markdown",
   "metadata": {},
   "source": [
    "Постройте график зависимости объёма выборки, необходимого для оценки для доли носителей гена 13910T с точностью $\\pm 0.01$ на уровне доверия $95\\%$, от неизвестного параметра $p$. Посмотрите, при каком значении $p$ нужно больше всего испытуемых. Как вы думаете, насколько вероятно, что выборка, которую мы анализируем, взята из случайной величины с этим значением параметра?\n",
    "\n",
    "Как бы вы не ответили на последний вопрос, рассмотреть объём выборки, необходимый при таком $p$, всё равно полезно — это даёт максимально пессимистичную оценку необходимого объёма выборки.\n",
    "\n",
    "Какой объём выборки нужен в худшем случае, чтобы с помощью нормального интервала оценить долю носителей гена 13910T с точностью $\\pm 0.01$ на уровне доверия $95\\%$?"
   ]
  },
  {
   "cell_type": "code",
   "execution_count": 15,
   "metadata": {},
   "outputs": [
    {
     "data": {
      "image/png": "[encoded data removed]",
      "text/plain": [
       "plot without title"
      ]
     },
     "metadata": {},
     "output_type": "display_data"
    }
   ],
   "source": [
    "### ╰( ͡° ͜ʖ ͡° )つ──☆ на сушу тихо выбралась любовь\n",
    "\n",
    "sample_len <- function(p_hat){\n",
    "    alpha = 0.05\n",
    "    len = 0.02\n",
    "    return(ceiling(4*qnorm(1 - alpha/2)^2*p_hat*(1 - p_hat)/len^2))\n",
    "    }\n",
    "\n",
    "p = seq(0,1,0.01)\n",
    "size = sample_len(p)\n",
    "qplot(p, size, geom='line')"
   ]
  },
  {
   "cell_type": "code",
   "execution_count": 16,
   "metadata": {},
   "outputs": [
    {
     "data": {
      "text/html": [
       "9604"
      ],
      "text/latex": [
       "9604"
      ],
      "text/markdown": [
       "9604"
      ],
      "text/plain": [
       "[1] 9604"
      ]
     },
     "metadata": {},
     "output_type": "display_data"
    }
   ],
   "source": [
    "max(size)"
   ]
  },
  {
   "cell_type": "markdown",
   "metadata": {},
   "source": [
    "### [10] Задачка 5\n",
    "\n",
    "Снова поговорим про недвижимость. На лекции мы уже смотрели на неё. \n",
    "\n",
    "В [табличке](https://yadi.sk/i/hDxMJ0fw3VSDmu) лежит информация о стоимости квартир в Москве и о основных параметрах этих квартир. В переменной `price` записаны цены. В `code` записано число от 1 до 8, при помощи которого мы группируем наблюдения по подвыборкам:\n",
    "\n",
    "```\n",
    "            1. Наблюдения сгруппированы на севере, вокруг Калужско-Рижской линии\n",
    "            метрополитена\n",
    "            2. Север, вокруг Серпуховско-Тимирязевской линии метрополитена\n",
    "            3. Северо-запад, вокруг Замоскворецкой линии метрополитена\n",
    "            4. Северо-запад, вокруг Таганско-Краснопресненской линии метрополитена\n",
    "            5. Юго-восток, вокруг Люблинской линии метрополитена\n",
    "            6. Юго-восток, вокруг Таганско-Краснопресненской линии метрополитена\n",
    "            7. Восток, вокруг Калиниской линии метрополитена\n",
    "            8. Восток, вокруг Арбатско-Покровской линии метрополитена\n",
    "```\n",
    "\n",
    "В переменной `brick` лежит информация о том монолитный это дом (`brick = 1`) или панельный."
   ]
  },
  {
   "cell_type": "code",
   "execution_count": 17,
   "metadata": {},
   "outputs": [
    {
     "name": "stderr",
     "output_type": "stream",
     "text": [
      "\n",
      "Attaching package: ‘dplyr’\n",
      "\n",
      "The following objects are masked from ‘package:stats’:\n",
      "\n",
      "    filter, lag\n",
      "\n",
      "The following objects are masked from ‘package:base’:\n",
      "\n",
      "    intersect, setdiff, setequal, union\n",
      "\n"
     ]
    },
    {
     "data": {
      "text/html": [
       "<table>\n",
       "<thead><tr><th scope=col>n</th><th scope=col>price</th><th scope=col>totsp</th><th scope=col>livesp</th><th scope=col>kitsp</th><th scope=col>dist</th><th scope=col>metrdist</th><th scope=col>walk</th><th scope=col>brick</th><th scope=col>floor</th><th scope=col>code</th></tr></thead>\n",
       "<tbody>\n",
       "\t<tr><td>1   </td><td> 81 </td><td> 58 </td><td>40  </td><td> 6  </td><td>12.5</td><td>7   </td><td>1   </td><td>1   </td><td>1   </td><td>3   </td></tr>\n",
       "\t<tr><td>2   </td><td> 75 </td><td> 44 </td><td>28  </td><td> 6  </td><td>13.5</td><td>7   </td><td>1   </td><td>0   </td><td>1   </td><td>6   </td></tr>\n",
       "\t<tr><td>3   </td><td>128 </td><td> 70 </td><td>42  </td><td> 6  </td><td>14.5</td><td>3   </td><td>1   </td><td>1   </td><td>1   </td><td>3   </td></tr>\n",
       "\t<tr><td>4   </td><td> 95 </td><td> 61 </td><td>37  </td><td> 6  </td><td>13.5</td><td>7   </td><td>1   </td><td>0   </td><td>1   </td><td>1   </td></tr>\n",
       "\t<tr><td>5   </td><td>330 </td><td>104 </td><td>60  </td><td>11  </td><td>10.5</td><td>7   </td><td>0   </td><td>1   </td><td>1   </td><td>3   </td></tr>\n",
       "\t<tr><td>6   </td><td>137 </td><td> 76 </td><td>50  </td><td> 9  </td><td>11.0</td><td>7   </td><td>1   </td><td>1   </td><td>1   </td><td>8   </td></tr>\n",
       "</tbody>\n",
       "</table>\n"
      ],
      "text/latex": [
       "\\begin{tabular}{r|lllllllllll}\n",
       " n & price & totsp & livesp & kitsp & dist & metrdist & walk & brick & floor & code\\\\\n",
       "\\hline\n",
       "\t 1    &  81  &  58  & 40   &  6   & 12.5 & 7    & 1    & 1    & 1    & 3   \\\\\n",
       "\t 2    &  75  &  44  & 28   &  6   & 13.5 & 7    & 1    & 0    & 1    & 6   \\\\\n",
       "\t 3    & 128  &  70  & 42   &  6   & 14.5 & 3    & 1    & 1    & 1    & 3   \\\\\n",
       "\t 4    &  95  &  61  & 37   &  6   & 13.5 & 7    & 1    & 0    & 1    & 1   \\\\\n",
       "\t 5    & 330  & 104  & 60   & 11   & 10.5 & 7    & 0    & 1    & 1    & 3   \\\\\n",
       "\t 6    & 137  &  76  & 50   &  9   & 11.0 & 7    & 1    & 1    & 1    & 8   \\\\\n",
       "\\end{tabular}\n"
      ],
      "text/markdown": [
       "\n",
       "| n | price | totsp | livesp | kitsp | dist | metrdist | walk | brick | floor | code |\n",
       "|---|---|---|---|---|---|---|---|---|---|---|\n",
       "| 1    |  81  |  58  | 40   |  6   | 12.5 | 7    | 1    | 1    | 1    | 3    |\n",
       "| 2    |  75  |  44  | 28   |  6   | 13.5 | 7    | 1    | 0    | 1    | 6    |\n",
       "| 3    | 128  |  70  | 42   |  6   | 14.5 | 3    | 1    | 1    | 1    | 3    |\n",
       "| 4    |  95  |  61  | 37   |  6   | 13.5 | 7    | 1    | 0    | 1    | 1    |\n",
       "| 5    | 330  | 104  | 60   | 11   | 10.5 | 7    | 0    | 1    | 1    | 3    |\n",
       "| 6    | 137  |  76  | 50   |  9   | 11.0 | 7    | 1    | 1    | 1    | 8    |\n",
       "\n"
      ],
      "text/plain": [
       "  n price totsp livesp kitsp dist metrdist walk brick floor code\n",
       "1 1  81    58   40      6    12.5 7        1    1     1     3   \n",
       "2 2  75    44   28      6    13.5 7        1    0     1     6   \n",
       "3 3 128    70   42      6    14.5 3        1    1     1     3   \n",
       "4 4  95    61   37      6    13.5 7        1    0     1     1   \n",
       "5 5 330   104   60     11    10.5 7        0    1     1     3   \n",
       "6 6 137    76   50      9    11.0 7        1    1     1     8   "
      ]
     },
     "metadata": {},
     "output_type": "display_data"
    }
   ],
   "source": [
    "library('dplyr')\n",
    "library('ggplot2')\n",
    "library('rio')\n",
    "\n",
    "df = import('/Users/fulyankin/Yandex.Disk.localized/R/R_prob_data/flat.csv')\n",
    "head(df)"
   ]
  },
  {
   "cell_type": "markdown",
   "metadata": {},
   "source": [
    "На паре мы немного поисследовали цены в разных районах и построили для каждого района среднюю оценку стоимости квартиры. Где-то она оказалась больше, где-то меньше. Будем предполагать, что стоимость квартир имеет нормальное распределение (в следующей домашке мы выясним, что это не так). \n",
    "\n",
    "__[а]__  Постройте по всем районам точные $95\\%$ доверительные интервалы для разницы в средней стоимости квартир в монолитных и панельных домах. В каких районах ноль не попадает в доверительный интервал? Что это означает? Постройте красивую картинку по аналогии с лекционной. Раскрасьте все интервалы, где ноль не попал в них в синий цвет, где попал в красный. "
   ]
  },
  {
   "cell_type": "code",
   "execution_count": 18,
   "metadata": {},
   "outputs": [
    {
     "data": {
      "text/html": [
       "<table>\n",
       "<thead><tr><th scope=col>code</th><th scope=col>n1</th><th scope=col>mu1</th><th scope=col>s1</th><th scope=col>n2</th><th scope=col>mu2</th><th scope=col>s2</th><th scope=col>n</th></tr></thead>\n",
       "<tbody>\n",
       "\t<tr><td>1       </td><td>180     </td><td>123.0000</td><td>39.17672</td><td> 92     </td><td>156.7391</td><td>59.59495</td><td> 92     </td></tr>\n",
       "\t<tr><td>2       </td><td>186     </td><td>105.9516</td><td>20.72139</td><td> 29     </td><td>138.3103</td><td>53.70628</td><td> 29     </td></tr>\n",
       "\t<tr><td>3       </td><td>169     </td><td>134.7337</td><td>64.17104</td><td>176     </td><td>161.2216</td><td>74.10558</td><td>176     </td></tr>\n",
       "\t<tr><td>4       </td><td>140     </td><td>135.9429</td><td>60.03881</td><td> 69     </td><td>174.5652</td><td>90.62487</td><td> 69     </td></tr>\n",
       "\t<tr><td>5       </td><td>290     </td><td>115.0276</td><td>27.29892</td><td> 46     </td><td>120.5217</td><td>50.76996</td><td> 46     </td></tr>\n",
       "\t<tr><td>6       </td><td>193     </td><td>107.2850</td><td>31.14042</td><td> 64     </td><td>118.0469</td><td>37.08310</td><td> 64     </td></tr>\n",
       "\t<tr><td>7       </td><td>152     </td><td>108.4868</td><td>22.95460</td><td> 74     </td><td>126.0270</td><td>47.34860</td><td> 74     </td></tr>\n",
       "\t<tr><td>8       </td><td> 71     </td><td>126.2535</td><td>39.34489</td><td>109     </td><td>143.5780</td><td>52.89828</td><td>109     </td></tr>\n",
       "</tbody>\n",
       "</table>\n"
      ],
      "text/latex": [
       "\\begin{tabular}{r|llllllll}\n",
       " code & n1 & mu1 & s1 & n2 & mu2 & s2 & n\\\\\n",
       "\\hline\n",
       "\t 1        & 180      & 123.0000 & 39.17672 &  92      & 156.7391 & 59.59495 &  92     \\\\\n",
       "\t 2        & 186      & 105.9516 & 20.72139 &  29      & 138.3103 & 53.70628 &  29     \\\\\n",
       "\t 3        & 169      & 134.7337 & 64.17104 & 176      & 161.2216 & 74.10558 & 176     \\\\\n",
       "\t 4        & 140      & 135.9429 & 60.03881 &  69      & 174.5652 & 90.62487 &  69     \\\\\n",
       "\t 5        & 290      & 115.0276 & 27.29892 &  46      & 120.5217 & 50.76996 &  46     \\\\\n",
       "\t 6        & 193      & 107.2850 & 31.14042 &  64      & 118.0469 & 37.08310 &  64     \\\\\n",
       "\t 7        & 152      & 108.4868 & 22.95460 &  74      & 126.0270 & 47.34860 &  74     \\\\\n",
       "\t 8        &  71      & 126.2535 & 39.34489 & 109      & 143.5780 & 52.89828 & 109     \\\\\n",
       "\\end{tabular}\n"
      ],
      "text/markdown": [
       "\n",
       "| code | n1 | mu1 | s1 | n2 | mu2 | s2 | n |\n",
       "|---|---|---|---|---|---|---|---|\n",
       "| 1        | 180      | 123.0000 | 39.17672 |  92      | 156.7391 | 59.59495 |  92      |\n",
       "| 2        | 186      | 105.9516 | 20.72139 |  29      | 138.3103 | 53.70628 |  29      |\n",
       "| 3        | 169      | 134.7337 | 64.17104 | 176      | 161.2216 | 74.10558 | 176      |\n",
       "| 4        | 140      | 135.9429 | 60.03881 |  69      | 174.5652 | 90.62487 |  69      |\n",
       "| 5        | 290      | 115.0276 | 27.29892 |  46      | 120.5217 | 50.76996 |  46      |\n",
       "| 6        | 193      | 107.2850 | 31.14042 |  64      | 118.0469 | 37.08310 |  64      |\n",
       "| 7        | 152      | 108.4868 | 22.95460 |  74      | 126.0270 | 47.34860 |  74      |\n",
       "| 8        |  71      | 126.2535 | 39.34489 | 109      | 143.5780 | 52.89828 | 109      |\n",
       "\n"
      ],
      "text/plain": [
       "  code n1  mu1      s1       n2  mu2      s2       n  \n",
       "1 1    180 123.0000 39.17672  92 156.7391 59.59495  92\n",
       "2 2    186 105.9516 20.72139  29 138.3103 53.70628  29\n",
       "3 3    169 134.7337 64.17104 176 161.2216 74.10558 176\n",
       "4 4    140 135.9429 60.03881  69 174.5652 90.62487  69\n",
       "5 5    290 115.0276 27.29892  46 120.5217 50.76996  46\n",
       "6 6    193 107.2850 31.14042  64 118.0469 37.08310  64\n",
       "7 7    152 108.4868 22.95460  74 126.0270 47.34860  74\n",
       "8 8     71 126.2535 39.34489 109 143.5780 52.89828 109"
      ]
     },
     "metadata": {},
     "output_type": "display_data"
    }
   ],
   "source": [
    "### ╰( ͡° ͜ʖ ͡° )つ──☆ бум и ты умеешь решать задачи\n",
    "alpha = 0.05\n",
    "\n",
    "# Подсчитали число объектов первого типа и второго\n",
    "dn = df %>% filter(brick==0) %>% group_by(code) %>% summarise(n1 = n(), mu1 = mean(price), s1 = sd(price))\n",
    "dm = df %>% filter(brick==1) %>% group_by(code) %>% count(n2 = n(), mu2 = mean(price), s2 = sd(price))\n",
    "\n",
    "# объединили таблички в одну\n",
    "df_stat = left_join(dn, dm, by= 'code')\n",
    "df_stat"
   ]
  },
  {
   "cell_type": "code",
   "execution_count": 19,
   "metadata": {},
   "outputs": [
    {
     "data": {
      "text/html": [
       "<table>\n",
       "<thead><tr><th scope=col>code</th><th scope=col>n1</th><th scope=col>mu1</th><th scope=col>s1</th><th scope=col>n2</th><th scope=col>mu2</th><th scope=col>s2</th><th scope=col>n</th><th scope=col>t_alpha</th></tr></thead>\n",
       "<tbody>\n",
       "\t<tr><td>1        </td><td>180      </td><td>123.0000 </td><td>39.17672 </td><td> 92      </td><td>156.7391 </td><td>59.59495 </td><td> 92      </td><td>-1.650517</td></tr>\n",
       "\t<tr><td>2        </td><td>186      </td><td>105.9516 </td><td>20.72139 </td><td> 29      </td><td>138.3103 </td><td>53.70628 </td><td> 29      </td><td>-1.652039</td></tr>\n",
       "\t<tr><td>3        </td><td>169      </td><td>134.7337 </td><td>64.17104 </td><td>176      </td><td>161.2216 </td><td>74.10558 </td><td>176      </td><td>-1.649308</td></tr>\n",
       "\t<tr><td>4        </td><td>140      </td><td>135.9429 </td><td>60.03881 </td><td> 69      </td><td>174.5652 </td><td>90.62487 </td><td> 69      </td><td>-1.652248</td></tr>\n",
       "\t<tr><td>5        </td><td>290      </td><td>115.0276 </td><td>27.29892 </td><td> 46      </td><td>120.5217 </td><td>50.76996 </td><td> 46      </td><td>-1.649429</td></tr>\n",
       "\t<tr><td>6        </td><td>193      </td><td>107.2850 </td><td>31.14042 </td><td> 64      </td><td>118.0469 </td><td>37.08310 </td><td> 64      </td><td>-1.650851</td></tr>\n",
       "\t<tr><td>7        </td><td>152      </td><td>108.4868 </td><td>22.95460 </td><td> 74      </td><td>126.0270 </td><td>47.34860 </td><td> 74      </td><td>-1.651685</td></tr>\n",
       "\t<tr><td>8        </td><td> 71      </td><td>126.2535 </td><td>39.34489 </td><td>109      </td><td>143.5780 </td><td>52.89828 </td><td>109      </td><td>-1.653459</td></tr>\n",
       "</tbody>\n",
       "</table>\n"
      ],
      "text/latex": [
       "\\begin{tabular}{r|lllllllll}\n",
       " code & n1 & mu1 & s1 & n2 & mu2 & s2 & n & t\\_alpha\\\\\n",
       "\\hline\n",
       "\t 1         & 180       & 123.0000  & 39.17672  &  92       & 156.7391  & 59.59495  &  92       & -1.650517\\\\\n",
       "\t 2         & 186       & 105.9516  & 20.72139  &  29       & 138.3103  & 53.70628  &  29       & -1.652039\\\\\n",
       "\t 3         & 169       & 134.7337  & 64.17104  & 176       & 161.2216  & 74.10558  & 176       & -1.649308\\\\\n",
       "\t 4         & 140       & 135.9429  & 60.03881  &  69       & 174.5652  & 90.62487  &  69       & -1.652248\\\\\n",
       "\t 5         & 290       & 115.0276  & 27.29892  &  46       & 120.5217  & 50.76996  &  46       & -1.649429\\\\\n",
       "\t 6         & 193       & 107.2850  & 31.14042  &  64       & 118.0469  & 37.08310  &  64       & -1.650851\\\\\n",
       "\t 7         & 152       & 108.4868  & 22.95460  &  74       & 126.0270  & 47.34860  &  74       & -1.651685\\\\\n",
       "\t 8         &  71       & 126.2535  & 39.34489  & 109       & 143.5780  & 52.89828  & 109       & -1.653459\\\\\n",
       "\\end{tabular}\n"
      ],
      "text/markdown": [
       "\n",
       "| code | n1 | mu1 | s1 | n2 | mu2 | s2 | n | t_alpha |\n",
       "|---|---|---|---|---|---|---|---|---|\n",
       "| 1         | 180       | 123.0000  | 39.17672  |  92       | 156.7391  | 59.59495  |  92       | -1.650517 |\n",
       "| 2         | 186       | 105.9516  | 20.72139  |  29       | 138.3103  | 53.70628  |  29       | -1.652039 |\n",
       "| 3         | 169       | 134.7337  | 64.17104  | 176       | 161.2216  | 74.10558  | 176       | -1.649308 |\n",
       "| 4         | 140       | 135.9429  | 60.03881  |  69       | 174.5652  | 90.62487  |  69       | -1.652248 |\n",
       "| 5         | 290       | 115.0276  | 27.29892  |  46       | 120.5217  | 50.76996  |  46       | -1.649429 |\n",
       "| 6         | 193       | 107.2850  | 31.14042  |  64       | 118.0469  | 37.08310  |  64       | -1.650851 |\n",
       "| 7         | 152       | 108.4868  | 22.95460  |  74       | 126.0270  | 47.34860  |  74       | -1.651685 |\n",
       "| 8         |  71       | 126.2535  | 39.34489  | 109       | 143.5780  | 52.89828  | 109       | -1.653459 |\n",
       "\n"
      ],
      "text/plain": [
       "  code n1  mu1      s1       n2  mu2      s2       n   t_alpha  \n",
       "1 1    180 123.0000 39.17672  92 156.7391 59.59495  92 -1.650517\n",
       "2 2    186 105.9516 20.72139  29 138.3103 53.70628  29 -1.652039\n",
       "3 3    169 134.7337 64.17104 176 161.2216 74.10558 176 -1.649308\n",
       "4 4    140 135.9429 60.03881  69 174.5652 90.62487  69 -1.652248\n",
       "5 5    290 115.0276 27.29892  46 120.5217 50.76996  46 -1.649429\n",
       "6 6    193 107.2850 31.14042  64 118.0469 37.08310  64 -1.650851\n",
       "7 7    152 108.4868 22.95460  74 126.0270 47.34860  74 -1.651685\n",
       "8 8     71 126.2535 39.34489 109 143.5780 52.89828 109 -1.653459"
      ]
     },
     "metadata": {},
     "output_type": "display_data"
    }
   ],
   "source": [
    "df_stat = df_stat %>% mutate(t_alpha = qt(df = n1 + n2 - 2, alpha))\n",
    "df_stat "
   ]
  },
  {
   "cell_type": "code",
   "execution_count": 20,
   "metadata": {},
   "outputs": [
    {
     "data": {
      "text/html": [
       "<table>\n",
       "<thead><tr><th scope=col>code</th><th scope=col>n1</th><th scope=col>mu1</th><th scope=col>s1</th><th scope=col>n2</th><th scope=col>mu2</th><th scope=col>s2</th><th scope=col>n</th><th scope=col>t_alpha</th><th scope=col>left_mu</th><th scope=col>right_mu</th></tr></thead>\n",
       "<tbody>\n",
       "\t<tr><td>1        </td><td>180      </td><td>123.0000 </td><td>39.17672 </td><td> 92      </td><td>156.7391 </td><td>59.59495 </td><td> 92      </td><td>-1.650517</td><td>22.408043</td><td>45.07022 </td></tr>\n",
       "\t<tr><td>2        </td><td>186      </td><td>105.9516 </td><td>20.72139 </td><td> 29      </td><td>138.3103 </td><td>53.70628 </td><td> 29      </td><td>-1.652039</td><td>15.692835</td><td>49.02463 </td></tr>\n",
       "\t<tr><td>3        </td><td>169      </td><td>134.7337 </td><td>64.17104 </td><td>176      </td><td>161.2216 </td><td>74.10558 </td><td>176      </td><td>-1.649308</td><td>14.193171</td><td>38.78256 </td></tr>\n",
       "\t<tr><td>4        </td><td>140      </td><td>135.9429 </td><td>60.03881 </td><td> 69      </td><td>174.5652 </td><td>90.62487 </td><td> 69      </td><td>-1.652248</td><td>18.742127</td><td>58.50259 </td></tr>\n",
       "\t<tr><td>5        </td><td>290      </td><td>115.0276 </td><td>27.29892 </td><td> 46      </td><td>120.5217 </td><td>50.76996 </td><td> 46      </td><td>-1.649429</td><td>-7.132790</td><td>18.12110 </td></tr>\n",
       "\t<tr><td>6        </td><td>193      </td><td>107.2850 </td><td>31.14042 </td><td> 64      </td><td>118.0469 </td><td>37.08310 </td><td> 64      </td><td>-1.650851</td><td> 2.261812</td><td>19.26199 </td></tr>\n",
       "\t<tr><td>7        </td><td>152      </td><td>108.4868 </td><td>22.95460 </td><td> 74      </td><td>126.0270 </td><td>47.34860 </td><td> 74      </td><td>-1.651685</td><td> 7.943010</td><td>27.13736 </td></tr>\n",
       "\t<tr><td>8        </td><td> 71      </td><td>126.2535 </td><td>39.34489 </td><td>109      </td><td>143.5780 </td><td>52.89828 </td><td>109      </td><td>-1.653459</td><td> 5.931789</td><td>28.71713 </td></tr>\n",
       "</tbody>\n",
       "</table>\n"
      ],
      "text/latex": [
       "\\begin{tabular}{r|lllllllllll}\n",
       " code & n1 & mu1 & s1 & n2 & mu2 & s2 & n & t\\_alpha & left\\_mu & right\\_mu\\\\\n",
       "\\hline\n",
       "\t 1         & 180       & 123.0000  & 39.17672  &  92       & 156.7391  & 59.59495  &  92       & -1.650517 & 22.408043 & 45.07022 \\\\\n",
       "\t 2         & 186       & 105.9516  & 20.72139  &  29       & 138.3103  & 53.70628  &  29       & -1.652039 & 15.692835 & 49.02463 \\\\\n",
       "\t 3         & 169       & 134.7337  & 64.17104  & 176       & 161.2216  & 74.10558  & 176       & -1.649308 & 14.193171 & 38.78256 \\\\\n",
       "\t 4         & 140       & 135.9429  & 60.03881  &  69       & 174.5652  & 90.62487  &  69       & -1.652248 & 18.742127 & 58.50259 \\\\\n",
       "\t 5         & 290       & 115.0276  & 27.29892  &  46       & 120.5217  & 50.76996  &  46       & -1.649429 & -7.132790 & 18.12110 \\\\\n",
       "\t 6         & 193       & 107.2850  & 31.14042  &  64       & 118.0469  & 37.08310  &  64       & -1.650851 &  2.261812 & 19.26199 \\\\\n",
       "\t 7         & 152       & 108.4868  & 22.95460  &  74       & 126.0270  & 47.34860  &  74       & -1.651685 &  7.943010 & 27.13736 \\\\\n",
       "\t 8         &  71       & 126.2535  & 39.34489  & 109       & 143.5780  & 52.89828  & 109       & -1.653459 &  5.931789 & 28.71713 \\\\\n",
       "\\end{tabular}\n"
      ],
      "text/markdown": [
       "\n",
       "| code | n1 | mu1 | s1 | n2 | mu2 | s2 | n | t_alpha | left_mu | right_mu |\n",
       "|---|---|---|---|---|---|---|---|---|---|---|\n",
       "| 1         | 180       | 123.0000  | 39.17672  |  92       | 156.7391  | 59.59495  |  92       | -1.650517 | 22.408043 | 45.07022  |\n",
       "| 2         | 186       | 105.9516  | 20.72139  |  29       | 138.3103  | 53.70628  |  29       | -1.652039 | 15.692835 | 49.02463  |\n",
       "| 3         | 169       | 134.7337  | 64.17104  | 176       | 161.2216  | 74.10558  | 176       | -1.649308 | 14.193171 | 38.78256  |\n",
       "| 4         | 140       | 135.9429  | 60.03881  |  69       | 174.5652  | 90.62487  |  69       | -1.652248 | 18.742127 | 58.50259  |\n",
       "| 5         | 290       | 115.0276  | 27.29892  |  46       | 120.5217  | 50.76996  |  46       | -1.649429 | -7.132790 | 18.12110  |\n",
       "| 6         | 193       | 107.2850  | 31.14042  |  64       | 118.0469  | 37.08310  |  64       | -1.650851 |  2.261812 | 19.26199  |\n",
       "| 7         | 152       | 108.4868  | 22.95460  |  74       | 126.0270  | 47.34860  |  74       | -1.651685 |  7.943010 | 27.13736  |\n",
       "| 8         |  71       | 126.2535  | 39.34489  | 109       | 143.5780  | 52.89828  | 109       | -1.653459 |  5.931789 | 28.71713  |\n",
       "\n"
      ],
      "text/plain": [
       "  code n1  mu1      s1       n2  mu2      s2       n   t_alpha   left_mu  \n",
       "1 1    180 123.0000 39.17672  92 156.7391 59.59495  92 -1.650517 22.408043\n",
       "2 2    186 105.9516 20.72139  29 138.3103 53.70628  29 -1.652039 15.692835\n",
       "3 3    169 134.7337 64.17104 176 161.2216 74.10558 176 -1.649308 14.193171\n",
       "4 4    140 135.9429 60.03881  69 174.5652 90.62487  69 -1.652248 18.742127\n",
       "5 5    290 115.0276 27.29892  46 120.5217 50.76996  46 -1.649429 -7.132790\n",
       "6 6    193 107.2850 31.14042  64 118.0469 37.08310  64 -1.650851  2.261812\n",
       "7 7    152 108.4868 22.95460  74 126.0270 47.34860  74 -1.651685  7.943010\n",
       "8 8     71 126.2535 39.34489 109 143.5780 52.89828 109 -1.653459  5.931789\n",
       "  right_mu\n",
       "1 45.07022\n",
       "2 49.02463\n",
       "3 38.78256\n",
       "4 58.50259\n",
       "5 18.12110\n",
       "6 19.26199\n",
       "7 27.13736\n",
       "8 28.71713"
      ]
     },
     "metadata": {},
     "output_type": "display_data"
    }
   ],
   "source": [
    "df_stat = df_stat %>% mutate(left_mu = (mu2 - mu1) + t_alpha* sqrt(s1^2/n1 + s2^2/n2), \n",
    "                   right_mu = (mu2 - mu1) - t_alpha* sqrt(s1^2/n1 + s2^2/n2))\n",
    "df_stat                 "
   ]
  },
  {
   "cell_type": "code",
   "execution_count": 21,
   "metadata": {},
   "outputs": [
    {
     "data": {
      "text/html": [
       "<table>\n",
       "<thead><tr><th scope=col>code</th><th scope=col>n1</th><th scope=col>mu1</th><th scope=col>s1</th><th scope=col>n2</th><th scope=col>mu2</th><th scope=col>s2</th><th scope=col>n</th><th scope=col>t_alpha</th><th scope=col>left_mu</th><th scope=col>right_mu</th><th scope=col>is_in</th></tr></thead>\n",
       "<tbody>\n",
       "\t<tr><td>1        </td><td>180      </td><td>123.0000 </td><td>39.17672 </td><td> 92      </td><td>156.7391 </td><td>59.59495 </td><td> 92      </td><td>-1.650517</td><td>22.408043</td><td>45.07022 </td><td>no       </td></tr>\n",
       "\t<tr><td>2        </td><td>186      </td><td>105.9516 </td><td>20.72139 </td><td> 29      </td><td>138.3103 </td><td>53.70628 </td><td> 29      </td><td>-1.652039</td><td>15.692835</td><td>49.02463 </td><td>no       </td></tr>\n",
       "\t<tr><td>3        </td><td>169      </td><td>134.7337 </td><td>64.17104 </td><td>176      </td><td>161.2216 </td><td>74.10558 </td><td>176      </td><td>-1.649308</td><td>14.193171</td><td>38.78256 </td><td>no       </td></tr>\n",
       "\t<tr><td>4        </td><td>140      </td><td>135.9429 </td><td>60.03881 </td><td> 69      </td><td>174.5652 </td><td>90.62487 </td><td> 69      </td><td>-1.652248</td><td>18.742127</td><td>58.50259 </td><td>no       </td></tr>\n",
       "\t<tr><td>5        </td><td>290      </td><td>115.0276 </td><td>27.29892 </td><td> 46      </td><td>120.5217 </td><td>50.76996 </td><td> 46      </td><td>-1.649429</td><td>-7.132790</td><td>18.12110 </td><td>yes      </td></tr>\n",
       "\t<tr><td>6        </td><td>193      </td><td>107.2850 </td><td>31.14042 </td><td> 64      </td><td>118.0469 </td><td>37.08310 </td><td> 64      </td><td>-1.650851</td><td> 2.261812</td><td>19.26199 </td><td>no       </td></tr>\n",
       "\t<tr><td>7        </td><td>152      </td><td>108.4868 </td><td>22.95460 </td><td> 74      </td><td>126.0270 </td><td>47.34860 </td><td> 74      </td><td>-1.651685</td><td> 7.943010</td><td>27.13736 </td><td>no       </td></tr>\n",
       "\t<tr><td>8        </td><td> 71      </td><td>126.2535 </td><td>39.34489 </td><td>109      </td><td>143.5780 </td><td>52.89828 </td><td>109      </td><td>-1.653459</td><td> 5.931789</td><td>28.71713 </td><td>no       </td></tr>\n",
       "</tbody>\n",
       "</table>\n"
      ],
      "text/latex": [
       "\\begin{tabular}{r|llllllllllll}\n",
       " code & n1 & mu1 & s1 & n2 & mu2 & s2 & n & t\\_alpha & left\\_mu & right\\_mu & is\\_in\\\\\n",
       "\\hline\n",
       "\t 1         & 180       & 123.0000  & 39.17672  &  92       & 156.7391  & 59.59495  &  92       & -1.650517 & 22.408043 & 45.07022  & no       \\\\\n",
       "\t 2         & 186       & 105.9516  & 20.72139  &  29       & 138.3103  & 53.70628  &  29       & -1.652039 & 15.692835 & 49.02463  & no       \\\\\n",
       "\t 3         & 169       & 134.7337  & 64.17104  & 176       & 161.2216  & 74.10558  & 176       & -1.649308 & 14.193171 & 38.78256  & no       \\\\\n",
       "\t 4         & 140       & 135.9429  & 60.03881  &  69       & 174.5652  & 90.62487  &  69       & -1.652248 & 18.742127 & 58.50259  & no       \\\\\n",
       "\t 5         & 290       & 115.0276  & 27.29892  &  46       & 120.5217  & 50.76996  &  46       & -1.649429 & -7.132790 & 18.12110  & yes      \\\\\n",
       "\t 6         & 193       & 107.2850  & 31.14042  &  64       & 118.0469  & 37.08310  &  64       & -1.650851 &  2.261812 & 19.26199  & no       \\\\\n",
       "\t 7         & 152       & 108.4868  & 22.95460  &  74       & 126.0270  & 47.34860  &  74       & -1.651685 &  7.943010 & 27.13736  & no       \\\\\n",
       "\t 8         &  71       & 126.2535  & 39.34489  & 109       & 143.5780  & 52.89828  & 109       & -1.653459 &  5.931789 & 28.71713  & no       \\\\\n",
       "\\end{tabular}\n"
      ],
      "text/markdown": [
       "\n",
       "| code | n1 | mu1 | s1 | n2 | mu2 | s2 | n | t_alpha | left_mu | right_mu | is_in |\n",
       "|---|---|---|---|---|---|---|---|---|---|---|---|\n",
       "| 1         | 180       | 123.0000  | 39.17672  |  92       | 156.7391  | 59.59495  |  92       | -1.650517 | 22.408043 | 45.07022  | no        |\n",
       "| 2         | 186       | 105.9516  | 20.72139  |  29       | 138.3103  | 53.70628  |  29       | -1.652039 | 15.692835 | 49.02463  | no        |\n",
       "| 3         | 169       | 134.7337  | 64.17104  | 176       | 161.2216  | 74.10558  | 176       | -1.649308 | 14.193171 | 38.78256  | no        |\n",
       "| 4         | 140       | 135.9429  | 60.03881  |  69       | 174.5652  | 90.62487  |  69       | -1.652248 | 18.742127 | 58.50259  | no        |\n",
       "| 5         | 290       | 115.0276  | 27.29892  |  46       | 120.5217  | 50.76996  |  46       | -1.649429 | -7.132790 | 18.12110  | yes       |\n",
       "| 6         | 193       | 107.2850  | 31.14042  |  64       | 118.0469  | 37.08310  |  64       | -1.650851 |  2.261812 | 19.26199  | no        |\n",
       "| 7         | 152       | 108.4868  | 22.95460  |  74       | 126.0270  | 47.34860  |  74       | -1.651685 |  7.943010 | 27.13736  | no        |\n",
       "| 8         |  71       | 126.2535  | 39.34489  | 109       | 143.5780  | 52.89828  | 109       | -1.653459 |  5.931789 | 28.71713  | no        |\n",
       "\n"
      ],
      "text/plain": [
       "  code n1  mu1      s1       n2  mu2      s2       n   t_alpha   left_mu  \n",
       "1 1    180 123.0000 39.17672  92 156.7391 59.59495  92 -1.650517 22.408043\n",
       "2 2    186 105.9516 20.72139  29 138.3103 53.70628  29 -1.652039 15.692835\n",
       "3 3    169 134.7337 64.17104 176 161.2216 74.10558 176 -1.649308 14.193171\n",
       "4 4    140 135.9429 60.03881  69 174.5652 90.62487  69 -1.652248 18.742127\n",
       "5 5    290 115.0276 27.29892  46 120.5217 50.76996  46 -1.649429 -7.132790\n",
       "6 6    193 107.2850 31.14042  64 118.0469 37.08310  64 -1.650851  2.261812\n",
       "7 7    152 108.4868 22.95460  74 126.0270 47.34860  74 -1.651685  7.943010\n",
       "8 8     71 126.2535 39.34489 109 143.5780 52.89828 109 -1.653459  5.931789\n",
       "  right_mu is_in\n",
       "1 45.07022 no   \n",
       "2 49.02463 no   \n",
       "3 38.78256 no   \n",
       "4 58.50259 no   \n",
       "5 18.12110 yes  \n",
       "6 19.26199 no   \n",
       "7 27.13736 no   \n",
       "8 28.71713 no   "
      ]
     },
     "metadata": {},
     "output_type": "display_data"
    }
   ],
   "source": [
    "df_stat = df_stat %>% mutate(is_in = ifelse(left_mu < 0 & right_mu > 0, \"yes\", \"no\"))  \n",
    "df_stat"
   ]
  },
  {
   "cell_type": "code",
   "execution_count": 22,
   "metadata": {},
   "outputs": [
    {
     "data": {
      "text/html": [
       "<table>\n",
       "<thead><tr><th scope=col>ci_id</th><th scope=col>is_in</th><th scope=col>ci</th></tr></thead>\n",
       "<tbody>\n",
       "\t<tr><td>1        </td><td>no       </td><td>22.408043</td></tr>\n",
       "\t<tr><td>2        </td><td>no       </td><td>15.692835</td></tr>\n",
       "\t<tr><td>3        </td><td>no       </td><td>14.193171</td></tr>\n",
       "\t<tr><td>4        </td><td>no       </td><td>18.742127</td></tr>\n",
       "\t<tr><td>5        </td><td>yes      </td><td>-7.132790</td></tr>\n",
       "\t<tr><td>6        </td><td>no       </td><td> 2.261812</td></tr>\n",
       "</tbody>\n",
       "</table>\n"
      ],
      "text/latex": [
       "\\begin{tabular}{r|lll}\n",
       " ci\\_id & is\\_in & ci\\\\\n",
       "\\hline\n",
       "\t 1         & no        & 22.408043\\\\\n",
       "\t 2         & no        & 15.692835\\\\\n",
       "\t 3         & no        & 14.193171\\\\\n",
       "\t 4         & no        & 18.742127\\\\\n",
       "\t 5         & yes       & -7.132790\\\\\n",
       "\t 6         & no        &  2.261812\\\\\n",
       "\\end{tabular}\n"
      ],
      "text/markdown": [
       "\n",
       "| ci_id | is_in | ci |\n",
       "|---|---|---|\n",
       "| 1         | no        | 22.408043 |\n",
       "| 2         | no        | 15.692835 |\n",
       "| 3         | no        | 14.193171 |\n",
       "| 4         | no        | 18.742127 |\n",
       "| 5         | yes       | -7.132790 |\n",
       "| 6         | no        |  2.261812 |\n",
       "\n"
      ],
      "text/plain": [
       "  ci_id is_in ci       \n",
       "1 1     no    22.408043\n",
       "2 2     no    15.692835\n",
       "3 3     no    14.193171\n",
       "4 4     no    18.742127\n",
       "5 5     yes   -7.132790\n",
       "6 6     no     2.261812"
      ]
     },
     "metadata": {},
     "output_type": "display_data"
    }
   ],
   "source": [
    "ci_data = data.frame(ci_id = df_stat$code,        # по оси y будем откладывать id района\n",
    "                     is_in = df_stat$is_in,       # раскраска для интервалов\n",
    "                     ci = c(df_stat$left_mu, df_stat$right_mu))  # интервалы для оси x \n",
    "ci_data %>% head()"
   ]
  },
  {
   "cell_type": "code",
   "execution_count": 23,
   "metadata": {},
   "outputs": [
    {
     "data": {
      "image/png": "[encoded data removed]",
      "text/plain": [
       "plot without title"
      ]
     },
     "metadata": {},
     "output_type": "display_data"
    }
   ],
   "source": [
    "ggplot(data = ci_data, aes(x = ci, y = ci_id, group = ci_id, color = is_in)) + \n",
    "    # рисуем в начале и конце интервала точки\n",
    "    geom_point(size = 2) +\n",
    "    # соединяем эти точки линией\n",
    "    geom_line() +\n",
    "    # прорисовываем на картинке 0 в виде серой черты\n",
    "    geom_vline(xintercept = 0, color = \"darkgray\")"
   ]
  },
  {
   "cell_type": "markdown",
   "metadata": {},
   "source": [
    "__[б]__ Предполагая нормальность распределения цен, постройте $95\\%$ доверительный интервал для дисперсии стоимости квартир. Какой теоремой мы пользуемся, чтобы вывести распределение для дисперсии? Математическое ожидание, конечно же неизвестно. "
   ]
  },
  {
   "cell_type": "code",
   "execution_count": 24,
   "metadata": {},
   "outputs": [
    {
     "data": {
      "text/html": [
       "<ol class=list-inline>\n",
       "\t<li>2534.74</li>\n",
       "\t<li>2865.91</li>\n",
       "</ol>\n"
      ],
      "text/latex": [
       "\\begin{enumerate*}\n",
       "\\item 2534.74\n",
       "\\item 2865.91\n",
       "\\end{enumerate*}\n"
      ],
      "text/markdown": [
       "1. 2534.74\n",
       "2. 2865.91\n",
       "\n",
       "\n"
      ],
      "text/plain": [
       "[1] 2534.74 2865.91"
      ]
     },
     "metadata": {},
     "output_type": "display_data"
    }
   ],
   "source": [
    "### ╰( ͡° ͜ʖ ͡° )つ──☆ вжух и ты умеешь писать код на R\n",
    "\n",
    "# Конечно теоремой Фишера! \n",
    "round(nrow(df) * var(df$price)/qchisq(c(0.975,0.025),df=nrow(df) - 1),2)"
   ]
  },
  {
   "cell_type": "markdown",
   "metadata": {},
   "source": [
    "__[в]__ Постройте доверительные интервалы для дисперсии по всем районам. В каких районах разброс в ценах самый высокий? Как думаете, почему именно в них? Как высокая дисперсия цен в районе влияет на вас, как на покупателя? "
   ]
  },
  {
   "cell_type": "code",
   "execution_count": 25,
   "metadata": {},
   "outputs": [
    {
     "data": {
      "image/png": "[encoded data removed]",
      "text/plain": [
       "plot without title"
      ]
     },
     "metadata": {},
     "output_type": "display_data"
    }
   ],
   "source": [
    "### ╰( ͡° ͜ʖ ͡° )つ──☆ пау и ты умеешь строить доверительные интервалы\n",
    "df_var = df %>% group_by(code) %>% summarise(left = n()*var(price)/qchisq(0.975, df = n() - 1),\n",
    "                                            right = n()*var(price)/qchisq(0.025, df = n() - 1))\n",
    "\n",
    "ci_data = data.frame(ci_id = df_var$code,        \n",
    "                     ci = c(df_var$left, df_var$right))\n",
    "\n",
    "ggplot(data = ci_data, aes(x = ci, y = ci_id, group = ci_id, color = 'r')) + \n",
    "    geom_point(size = 2) +\n",
    "    geom_line()"
   ]
  },
  {
   "cell_type": "markdown",
   "metadata": {},
   "source": [
    "__[г]__ Тут надо немного подумать. Предполагая нормальность распределения, постройте $95\\%$-ый доверительный интервал для отношения дисперсии стоимости квартир в монолитных домах и в панельных домах. \n",
    "\n",
    "__Hint:__ надо понять, какое распределение имеет отношение дисперсий, а после по-честному, отталкиваясь от этого распределния, вывести формулу для доверительного интервала. Роналд Эймлер ##### вам в помощь. "
   ]
  },
  {
   "cell_type": "code",
   "execution_count": 26,
   "metadata": {},
   "outputs": [
    {
     "data": {
      "image/png": "[encoded data removed]",
      "text/plain": [
       "plot without title"
      ]
     },
     "metadata": {},
     "output_type": "display_data"
    }
   ],
   "source": [
    "### ╰( ͡° ͜ʖ ͡° )つ──☆ любые доверительные интервалы\n",
    "\n",
    "# Речь идёт про отношение дисперсий, а мы знаем что оно распределено по Фишеру!\n",
    "alpha = 0.05\n",
    "\n",
    "# Все расчёты в этой строчке!\n",
    "df_stat = df_stat %>% mutate(left_s = s1/s2*qf(alpha/2, n1-1, n2-1),\n",
    "                   right_s = s1/s2*qf(1 - alpha/2, n1-1, n2-1))\n",
    "\n",
    "# Дальше пошло строительство картинки \n",
    "# Отношение дисперсий надо сравнивать с 1 \n",
    "df_stat = df_stat %>% mutate(is_sin = ifelse(left_s < 1 & right_s > 1, \"yes\", \"no\"))  \n",
    "\n",
    "# \n",
    "ci_data = data.frame(ci_id = df_stat$code,        # по оси y будем откладывать id района\n",
    "                     is_in = df_stat$is_sin,       # раскраска для интервалов\n",
    "                     ci = c(df_stat$left_s, df_stat$right_s))  # интервалы для оси x \n",
    "\n",
    "ggplot(data = ci_data, aes(x = ci, y = ci_id, group = ci_id, color = is_in)) + \n",
    "    geom_point(size = 2) +\n",
    "    geom_line() +\n",
    "    geom_vline(xintercept = 1, color = \"darkgray\")"
   ]
  },
  {
   "cell_type": "markdown",
   "metadata": {},
   "source": [
    "__Ваши интересные выводы:__ \n",
    "\n",
    "* Видно, что самый большой разброс в ценах в 3 и 4 районах, т.е. на Северо-Западе. Как покупатель, я скорее найду нужный мне вариант в этих районах.\n",
    "* Наибольший разброс в ценах получился в 4, 3, 8 районах (1) Северо-запад, вокруг Таганско-Краснопресненской линии метрополитена (2) Северо-запад, вокруг Замоскворецкой линии метрополитена (3) Восток, вокруг Арбатско-Покровской линии метрополитена, возможно это происходит, потому, что, с одной стороны, эти районы близки к центру и там очень респектабельные дома, с другой стороны, там много домов советской постройки с дешевым ремонтом и плохой планировкой.Большой разброс цен вляет на покупателя тем, что покупатель может выбирать жилье из разных вариантов: квартира в центре за дёшево, но с плохим ремонтом, либо хорошая квартира, но дорогая."
   ]
  },
  {
   "cell_type": "markdown",
   "metadata": {},
   "source": [
    "### [2] Задачка 6\n",
    "\n",
    "Слыхали ли вы когда-нибудь про [зефирный тест?](https://ru.wikipedia.org/wiki/Зефирный_эксперимент) В интернетах [можно найти много забавных видео](https://www.youtube.com/watch?v=goZkgVA68iw) про то как его проводят.\n",
    "\n",
    "__Давайте обсудим суть теста.__ Кладём перед ребёнком зефир. Говорим, что если он его не сожрёт в течение $15$ минут, то дадим ещё один. Оставляем ребёнка в полном одиночистве. Впервые тест проводили в 1960-х в Стенфорде. В 1990-е авторы эксперимента изучили повзрослевших зефирных респондентов и заявили, что те, кто в дестве справился с искушением, оказались гораздо успешнее своих сородичей съевших зефирку. Начиная с этого момента, зефирные приколы стали модными. \n",
    "\n",
    "Через какое-то время появилось опровержение зефирного теста. Оказалось, что авторы исследования немножечко налажали с репрезентативностью. Во-первых, ребята отобрали для исследования всего-лишь $90$ детей. Да ещё и всех из детского садика Стэнфорда. Не каждый бедняк может позволить себе такой детский садик. В связи со всем этим возникает вопрос: \n",
    "\n",
    "* Что за взаимосвязи на самом деле, скорее всего, нашли авторы? \n",
    "* Как все косяки были исправлены в новом исследовании? "
   ]
  },
  {
   "cell_type": "markdown",
   "metadata": {},
   "source": [
    "Задачка придумана по мотивам [поста из канала Хулиномика.](https://t.me/hoolinomics) Решение будет просто копи-пастой текста с него. \n",
    "\n",
    "__Решение:__ \n",
    "\n",
    "Пытливый читатель, копающий тему богатства и успеха, конечно, слышал о знаменитом тесте. Положите перед ребёнком зефир и дайте ему 15 минут подумать. В полном одиночестве. Если малыш выдержит и не сожрёт его, то получит ещё один. Но ребёнок может просто съесть то, что перед ним, – тогда второй зефирки ему не полагается. Вроде бы понятно и логично: потерпи, чтобы получить набежавшие проценты. Как говорится, два раза – это два раза. Когда-то считалось, что успех в этом маленьком тесте гарантирует успех в школе, институте и вообще в жизни. Эксперимент проводили в 1960-х годах, а в 1990-х его авторы изучили повзрослевших испытуемых и громогласно заявили: те, кто в детстве справился с искушением, оказались гораздо лучше устроены по жизни, чем те, кто зефирку сразу съел. Дальше вы понели.\n",
    "\n",
    "В своё время я очень котировал этот опыт над людьми и всячески поощрял (да и сейчас поощряю) эффект отложенного вознаграждения. Удержать себя от соблазна сейчас, чтобы получить что-то хорошее в будущем. Я стараюсь этот принцип использовать повсеместно, вплоть до того, чтобы парковаться всегда задом, чтобы при выезде не тратить время. Кто его знает, что произойдёт и куда придётся поспешить. Лучше потратить лишнюю минуту и поставить машину таким образом, чтобы выезжать было легко и удобно. И так во всём: сначала помыть посуду, потом пожрать. Сначала полезное, потом вкусное. Сначала уборка, потом ужин. Сначала помятую и мелкую клубничку, потом целенькую и крупную. Сначала жена, потом любовница. Сначала открыть, потом выпить…\n",
    "\n",
    "Но Джессика Каларко в журнале The Atlantic  представила весьма удивительные новости по этому поводу. Оказывается, дело тут не в силе воле (или сила воли сильно коррелирует с чем-то ещё), а в изобилии и богатстве, которое в семье у ребёнка либо есть, либо хуй.\n",
    "\n",
    "Новое исследование  Тайлера Уаттса с коллегами блестяще это показало. Во-первых, им показалось (вполне закономерно), что 90 детей в первоначальном эксперименте – это не так уж много. К тому же, все испытуемые были из детского сада при Стэнфорде. На этот раз ребята проверили гипотезу почти на тысяче детей, собранных из всевозможных слоёв общества. При этом они учли важные факторы, такие как, например, материальное положение семьи и образование родителей.\n",
    "\n",
    "В итоге новое исследование обнаружило довольно слабое подтверждение базовой гипотезы (что способность откладывать удовольствие приводит к успеху в жизни). Вместо этого вышло, что возможность продержаться до второй зефирины большей частью определяется финансовым положением семьи ребёнка – и вот оно-то большей частью и объясняет будущие успехи. А вовсе не умение откладывать удовольствие на потом!\n",
    "\n",
    "Обнаружилось, что среди детей, мамы которых получили высшее образование, не было никакой разницы в дальнейшей успеваемости. А у тех детей, мамы которых не доучились, преимущество «выигравших» объяснялось социальными факторами, а не способностью дождаться вторую зефирку. Как только исследователи принимали во внимание обстановку в доме трёхлетних испытуемых (например, количество книг на полках, или реакцию мам на просьбы детей), широко воспетая способность «откладывать удовольствие на потом» внезапно переставала означать что-то особенное. Самоконтроль, взятый отдельно от всего, не позволяет детям преодолеть пропасть в благосостоянии и социальном окружении.\n",
    "\n",
    "Если подумать, то результаты знаменитого теста можно объяснить массой причин. Например, жизнь детей из бедных семей не гарантирует им вообще какую-либо еду, не говоря уже о сладостях. В ожидании ведь есть определённый риск. Даже если родители и обещали им что-то вкусненькое на выходных, вполне вероятно, что финансовая необходимость заставит их поменять своё решение, и вместо обещанных чупа-чупсов мама купит домой пачку риса.\n",
    "\n",
    "А если вы родились в состоятельной семье, то отложить удовольствие на потом вам не составит особого труда. Опыт подскажет, что финансовое положение семьи стабильно, и у родителей есть ресурсы, чтобы выполнить свои обещания. И даже если такой ребёнок не станет дожидаться второго зефира, у него будет шанс получить вместо него что-то вкусное чуть позже.\n",
    "\n",
    "Исследователи поведенческой экономики из Гарварда и Принстона написали в 2013 году книгу о бедности  под названием «Скудность . Почему обладание малым означает так много». Дело в том, что состояние нехватки чего-либо изменяет образ мышления людей. Бедность легко может сподвигнуть человека на сиюминутную награду. Маргиналы просто иначе оценивают то, что им доступно. Другими словами, второй зефир не имеет значения, если ты сомневаешься, что тебе вообще достанется зефир.\n",
    "\n",
    "Эти выводы намекают на то, что бедняки стараются баловать детей при первой возможности, а состоятельные родители имеют склонность поощрять ребёнка дождаться более жирной награды. Краска для волос или конфеты могут показаться дурацким подарком, но не забывайте о том, что это порой единственное, что может себе позволить семья из Тамбовской области. А нищим детишкам какая-никакая сиюминутная радость заметно улучшит несчастную жизнь. Ведь у них нет никакой гарантии, что завтра случится хоть что-то хорошее.\n",
    "\n",
    "Итак, давайте ещё раз обдумаем привычки бедноты. Во-первых, неоправданно рискованное поведение: наркотики, алкоголь, приятели из криминального мира, ну и там же ранняя беременность. Давай рискнём, детка, вдруг успею вынуть! Нищие с огромным трудом балансируют между работой, учёбой, семьёй, друзьями и супругами. Они по уши в долгах, им постоянно хочется есть, зачастую негде жить, они болеют и не лечатся по-человечески, дорога на работу занимает несколько часов (столько же на учёбу), и спят они по 5 часов в лучшем случае – если не работают во вторую смену. Даже если они и хотят выбиться в люди, их образ жизни сам собой провоцирует вредные для финансового благополучия привычки. Не умея зарабатывать, они не умеют и тратить. А зефир тут, похоже, ни при чём."
   ]
  },
  {
   "cell_type": "code",
   "execution_count": 27,
   "metadata": {},
   "outputs": [],
   "source": [
    "### ╰( ͡° ͜ʖ ͡° )つ──☆  зефирио"
   ]
  },
  {
   "cell_type": "markdown",
   "metadata": {},
   "source": [
    "### [10] Задачка 7\n",
    "\n",
    "Пусть у нас есть выборка $X_1, \\ldots, X_n \\sim Exp(\\alpha)$. Все наблюдения независимые. Когда мы пытаемся методом моментов оценить параметр $\\alpha$, мы получаем $\\hat \\alpha = \\frac{1}{\\bar x}$. Для начала вам нужно построить асимптотический доверительный интервал для параметра $\\alpha$. Сделать это надо двумя способами. \n",
    "\n",
    "\n",
    "__Способ 1:__ сделаем репараметризацию и введём параметр $\\lambda = \\frac{1}{\\alpha}$. Для $\\lambda$ оценкой метода моментов будет $\\bar x$. Постройте на основе ЦПТ асимптотический доверительный интервал для $\\lambda$, а после перейдите от неё к $\\alpha$. \n",
    "\n",
    "__Решение:__ \n",
    "\n",
    "Тогда оценкой максимального правдоподобия для $\\lambda$ будет как раз $\\bar x$. А оно имеет асимптотически нормальное распределение: \n",
    "\n",
    "$$\n",
    "\\bar x \\sim N (\\lambda, \\frac{\\lambda^2}{n}).\n",
    "$$\n",
    "\n",
    "Мы можем построить доверительный интервал для $\\lambda$. Мы знаем, что \n",
    "\n",
    "$$\n",
    "\\frac{\\bar x - \\lambda}{\\frac{\\lambda}{\\sqrt{n}}} = \\sqrt{n}\\left(\\frac{\\bar x}{\\lambda} - 1 \\right) = \\sqrt{n} (\\alpha \\bar x - 1) \\sim N(0,1),\n",
    "$$\n",
    "\n",
    "тогда\n",
    "\n",
    "$$\n",
    "- z_{1-\\frac{\\alpha}{2}}\\le \\sqrt{n} (\\alpha \\bar x - 1) \\le  z_{1-\\frac{\\alpha}{2}}.\n",
    "$$\n",
    "\n",
    "В итоге получаем:\n",
    "\n",
    "$$\n",
    "\\frac{1}{\\bar x} - z_{1-\\frac{\\alpha}{2}} \\cdot \\frac{1}{\\sqrt{n} \\bar{x}} \\le \\alpha \\le \\frac{1}{\\bar x} + z_{1-\\frac{\\alpha}{2}} \\cdot \\frac{1}{\\sqrt{n} \\bar{x}}.\n",
    "$$"
   ]
  },
  {
   "cell_type": "markdown",
   "metadata": {},
   "source": [
    "__Способ 2:__ не будем делать никаких репараметризаций. Просто-напросто вспомним, что $\\frac{1}{\\bar x}$ - это функция от среднего, и мы можем построить для неё распределение на основе дельта-метода. Найдите асимптотическое распределение для $\\frac{1}{\\bar x}$ и исходя из него постройте доверительный интервал для $\\alpha$. \n",
    "\n",
    "__Решение:__ наша оценка это функция от среднего! А для таких ситуаций есть дельта-метод, который поможет нам найти характеристики нашего параметра. Ну а дальше всё построится само. \n",
    "\n",
    "$$\n",
    "\\begin{aligned}\n",
    "E(X) = \\frac{1}{\\alpha} \\\\  Var(X) = \\frac{1}{\\alpha^2} \\\\\n",
    "g(t) = \\frac{1}{t} \\\\ g'(t) = -\\frac{1}{t^2} \\\\\n",
    "\\end{aligned}\n",
    "$$\n",
    "\n",
    "В итоге получаем, что $$\\frac{1}{\\bar x} \\sim N \\left(\\alpha, \\frac{\\alpha^2}{n} \\right).$$ Исходя отсюда строим доверительный интервал:\n",
    "\n",
    "$$\n",
    "\\frac{1}{\\bar x} - z_{1-\\frac{\\alpha}{2}} \\cdot \\frac{1}{\\sqrt{n} \\bar{x}} \\le \\alpha \\le \\frac{1}{\\bar x} + z_{1-\\frac{\\alpha}{2}} \\cdot \\frac{1}{\\sqrt{n} \\bar{x}}\n",
    "$$\n"
   ]
  },
  {
   "cell_type": "code",
   "execution_count": 28,
   "metadata": {},
   "outputs": [],
   "source": [
    "### ╰( ͡° ͜ʖ ͡° )つ──☆ да, чувак, план прост, поэтому и хорош"
   ]
  },
  {
   "cell_type": "markdown",
   "metadata": {},
   "source": [
    "Пусть уровень доверия $1 - \\alpha = 0.95$. Сгенерируйте выборку размера $100$ из экспоненциального распределения. Постройте доверительный интервал. Теперь сгенерируйте выборку размера $200$. Снова постройте доверительный интервал. Насколько уменьшилась его ширина? Выведите формулу, в которой будет явно видно как ширина доверительного интервала зависит от размера выборки. "
   ]
  },
  {
   "cell_type": "code",
   "execution_count": 29,
   "metadata": {},
   "outputs": [
    {
     "name": "stdout",
     "output_type": "stream",
     "text": [
      "alpha с вероятностью 95% лежит между 3.960443 и 5.891361 \n",
      "Длина интервала: 1.930918"
     ]
    }
   ],
   "source": [
    "### ╰( ͡° ͜ʖ ͡° )つ──☆ когда план сложный\n",
    "\n",
    "alpha = 0.05\n",
    "n = 100\n",
    "\n",
    "x = rexp(n, 5) \n",
    "z = qnorm(1-alpha/2)\n",
    "\n",
    "\n",
    "left <- 1/mean(x) - z*1/ (mean(x)*sqrt(n))\n",
    "right <- 1/mean(x) + z*1/ (mean(x)*sqrt(n))\n",
    "\n",
    "cat('alpha с вероятностью 95% лежит между',left, 'и',right, '\\n')\n",
    "cat('Длина интервала:', right-left)   "
   ]
  },
  {
   "cell_type": "code",
   "execution_count": 30,
   "metadata": {},
   "outputs": [
    {
     "name": "stdout",
     "output_type": "stream",
     "text": [
      "alpha с вероятностью 95% лежит между 4.744407 и 6.271042 \n",
      "Длина интервала: 1.526635"
     ]
    }
   ],
   "source": [
    "alpha = 0.05\n",
    "n = 200\n",
    "\n",
    "x = rexp(n, 5) \n",
    "z = qnorm(1-alpha/2)\n",
    "\n",
    "left <- 1/mean(x) - z*1/ (mean(x)*sqrt(n))\n",
    "right <- 1/mean(x) + z*1/ (mean(x)*sqrt(n))\n",
    "\n",
    "cat('alpha с вероятностью 95% лежит между',left, 'и',right, '\\n')\n",
    "cat('Длина интервала:', right-left) "
   ]
  },
  {
   "cell_type": "markdown",
   "metadata": {},
   "source": [
    "__Формула для длины:__ \n",
    "\n",
    "$$\n",
    "right - left = 2 \\cdot z_{1-\\frac{\\alpha}{2}} \\cdot \\frac{1}{\\sqrt{n} \\bar{x}}\n",
    "$$"
   ]
  },
  {
   "cell_type": "code",
   "execution_count": 31,
   "metadata": {},
   "outputs": [
    {
     "data": {
      "text/html": [
       "1.52663525046895"
      ],
      "text/latex": [
       "1.52663525046895"
      ],
      "text/markdown": [
       "1.52663525046895"
      ],
      "text/plain": [
       "[1] 1.526635"
      ]
     },
     "metadata": {},
     "output_type": "display_data"
    }
   ],
   "source": [
    "2*z*1/(mean(x)*sqrt(n))"
   ]
  },
  {
   "cell_type": "markdown",
   "metadata": {},
   "source": [
    "Предположим, что мы теперь хотим построить оценку метода моментов для $\\alpha^2$. Так как это дисперсия, исходя из метода моментов, логично взять оценку $\\frac{1}{\\bar x^2}$. Найдите асимптотическое распределение этой оценки с помощью дельта-метода. Постройте доверительный интервал для неё на основе выборки, сгенерированной выше.\n",
    "\n",
    "\n",
    "$$\n",
    "\\begin{aligned}\n",
    "E(X) = \\frac{1}{\\alpha} \\\\  Var(X) = \\frac{1}{\\alpha^2} \\\\\n",
    "g(t) = t^2 \\\\ g'(t) = 2 \\cdot t \\\\\n",
    "\\end{aligned}\n",
    "$$\n",
    "\n",
    "В итоге получаем, что $$\\bar x^2 \\sim N \\left(\\frac{1}{\\alpha^2}, \\frac{1}{n \\cdot \\alpha^2} \\cdot \\frac{4}{\\alpha^2} \\right).$$ Исходя отсюда строим доверительный интервал:\n",
    "\n",
    "$$\n",
    "\\frac{1}{\\bar x^2 \\pm z_{1 - \\frac{\\alpha}{2}} \\cdot \\frac{2 \\cdot \\bar x^2}{\\sqrt{n}}}\n",
    "$$\n"
   ]
  },
  {
   "cell_type": "code",
   "execution_count": 32,
   "metadata": {},
   "outputs": [
    {
     "name": "stdout",
     "output_type": "stream",
     "text": [
      "alpha с вероятностью 95% лежит между 23.75155 и 41.96765 \n",
      "Длина интервала: 18.2161"
     ]
    }
   ],
   "source": [
    "### ╰( ͡° ͜ʖ ͡° )つ──☆ всё может пойти наперекосяк\n",
    "\n",
    "left <- 1/(mean(x)^2 + z*2*mean(x)^2*1/sqrt(n))\n",
    "right <- 1/(mean(x)^2 - z*2*mean(x)^2*1/sqrt(n))\n",
    "\n",
    "cat('alpha с вероятностью 95% лежит между',left, 'и',right, '\\n')\n",
    "cat('Длина интервала:', right-left) "
   ]
  },
  {
   "cell_type": "markdown",
   "metadata": {},
   "source": [
    "### [2] Задачка 8 (Квантильное-1)\n",
    "\n",
    "Сгенерируйте выборку для случайной величины, которая обладает следующей функцией распределения:\n",
    "\n",
    "\n",
    "$$\n",
    "F(x) = \\begin{cases} 0, x \\le 0 \\\\ \\sin(x), x \\in (0, \\pi/2] \\\\ 1, x>\\pi/2 \\end{cases}\n",
    "$$\n"
   ]
  },
  {
   "cell_type": "code",
   "execution_count": 33,
   "metadata": {},
   "outputs": [
    {
     "data": {
      "text/html": [
       "1.56935859566203"
      ],
      "text/latex": [
       "1.56935859566203"
      ],
      "text/markdown": [
       "1.56935859566203"
      ],
      "text/plain": [
       "[1] 1.569359"
      ]
     },
     "metadata": {},
     "output_type": "display_data"
    },
    {
     "name": "stderr",
     "output_type": "stream",
     "text": [
      "`stat_bin()` using `bins = 30`. Pick better value with `binwidth`.\n"
     ]
    },
    {
     "data": {
      "image/png": "[encoded data removed]",
      "text/plain": [
       "plot without title"
      ]
     },
     "metadata": {},
     "output_type": "display_data"
    }
   ],
   "source": [
    "### ╰( ͡° ͜ʖ ͡° )つ──☆ пау! пау! пау!\n",
    "\n",
    "y = runif(10^6,min = 0, max=1) \n",
    "x = asin(y)\n",
    "max(x)\n",
    "qplot(x)"
   ]
  },
  {
   "cell_type": "markdown",
   "metadata": {},
   "source": [
    "### [4] Задачка 9\n",
    "\n",
    "Мы знаем, что для выборки $X_1, \\ldots, X_n \\sim iid N(\\mu, \\sigma^2)$ хорошими оценками параметров будут\n",
    "\n",
    "\\begin{aligned} \n",
    "& \\hat \\mu = \\bar x = \\frac{1}{n} \\sum_{i=1}^n x_i \\\\\n",
    "& \\hat \\sigma^2 = s^2 = \\frac{1}{n-1} \\sum_{i=1}^n (x_i - \\bar x)^2.\n",
    "\\end{aligned}\n",
    "\n",
    "У этих оценок есть ещё одна полезная особенность. Случайные величины $\\hat \\mu$ и $\\hat \\sigma^2$ независимы. \n",
    "\n",
    "__[a]__ Покажите, что эти две величины независимы с помощью симуляций.\n",
    "\n",
    "Давайте вспомним важную штуку. Нулевая ковариация не означает независимости. Пример, когда ковариация нулевая, но зависимость есть, лежит в первой домашке. Две случайные величины называются независимыми, если \n",
    "\n",
    "$$\n",
    "F(x,y) = F(x) \\cdot F(y).\n",
    "$$\n",
    "\n",
    "Если мы хотим на симуляциях убедиться в их независимости, нужно генерить эмпирические функции распределения. Этим и займёмся. "
   ]
  },
  {
   "cell_type": "code",
   "execution_count": 34,
   "metadata": {},
   "outputs": [],
   "source": [
    "### ╰( ͡° ͜ʖ ͡° )つ──☆ сккккрааа! \n",
    "\n",
    "# Сгенерируем две выборки большоооого размера :) \n",
    "n_obs = 10^6\n",
    "\n",
    "mu = rep(0, n_obs)\n",
    "s2 = rep(0, n_obs)\n",
    "\n",
    "for(i in 1: n_obs){\n",
    "    x = rnorm(1000, mean=5, sd=1)\n",
    "    mu[i] = mean(x)\n",
    "    s2[i]= var(x)   \n",
    "}"
   ]
  },
  {
   "cell_type": "code",
   "execution_count": 35,
   "metadata": {},
   "outputs": [
    {
     "data": {
      "text/html": [
       "-0.000150350874130641"
      ],
      "text/latex": [
       "-0.000150350874130641"
      ],
      "text/markdown": [
       "-0.000150350874130641"
      ],
      "text/plain": [
       "[1] -0.0001503509"
      ]
     },
     "metadata": {},
     "output_type": "display_data"
    }
   ],
   "source": [
    "cor(mu, s2) # ради интереса"
   ]
  },
  {
   "cell_type": "code",
   "execution_count": 36,
   "metadata": {},
   "outputs": [],
   "source": [
    "# Шкалы, чтобы сравнивать\n",
    "x = seq(min(mu), max(mu), len=100)\n",
    "y = seq(min(s2), max(s2), len=100)"
   ]
  },
  {
   "cell_type": "markdown",
   "metadata": {},
   "source": [
    "Заведём две матрицы. В одну будем записывать $F(x,y)$, а во вторую $F(x) \\cdot F(y)$. "
   ]
  },
  {
   "cell_type": "code",
   "execution_count": 37,
   "metadata": {},
   "outputs": [],
   "source": [
    "f_xy = matrix(rep(0, length(x)*length(y)),nrow=length(x))\n",
    "fx_fy = matrix(rep(0, length(x)*length(y)),nrow=length(x))\n",
    "\n",
    "# а затем матрицу \n",
    "for(i in 1:length(x)){\n",
    "    for(j in 1:length(y)){\n",
    "       f_xy[i,j] = mean(mu <= x[i] & s2 <= y[j])\n",
    "       fx_fy[i,j] = mean(mu <= x[i]) * mean(s2 <= y[i])\n",
    "        \n",
    "    }\n",
    "}"
   ]
  },
  {
   "cell_type": "markdown",
   "metadata": {},
   "source": [
    "Отлично! Теперь нам надо убедиться, что все произведения совпадают с совместной функцией распределения с точностью до какой-то погрешности. "
   ]
  },
  {
   "cell_type": "code",
   "execution_count": 38,
   "metadata": {},
   "outputs": [
    {
     "data": {
      "text/html": [
       "6030"
      ],
      "text/latex": [
       "6030"
      ],
      "text/markdown": [
       "6030"
      ],
      "text/plain": [
       "[1] 6030"
      ]
     },
     "metadata": {},
     "output_type": "display_data"
    }
   ],
   "source": [
    "# Больше половины случаев неплохо (наверное)\n",
    "sum(abs(f_xy - fx_fy) < 0.1)"
   ]
  },
  {
   "cell_type": "markdown",
   "metadata": {},
   "source": [
    "__[b]__ Докажите это руками. \n",
    "\n",
    "__Hint:__ во втором пункте для начала найдите $Cov(x_1, x_1 - \\bar x)$.\n",
    "\n",
    "__Решение:__ \n",
    "\n",
    "Хотим доказать, что $\\bar x$ не зависит от $s^2$. Для начала докажем, что $\\bar x$ независит от $(x_1 - \\bar x), \\ldots, (x_n - \\bar x)$. Мы знаем, что $x_1$ нормальная. Значит $\\bar x$ и $x_i - \\bar x$ тоже нормальные. Значит, если ковариация между ними нулевая, тогда эти случайные величины будут независимыми. Найдём её\n",
    "\n",
    "$$\n",
    "Cov(\\bar x, x_1 - \\bar x) = E[\\bar x \\cdot (x_1 - \\bar x)] - E(\\bar x) \\cdot E(x_1 - \\bar x) = E[\\bar x \\cdot (x_1 - \\bar x)] - E(\\bar x) \\cdot (\\mu - \\mu) =  E[\\bar x \\cdot (x_1 - \\bar x)]\n",
    "$$\n",
    "\n",
    "Помним, что $E(X^2) = Var(X) + E(X)^2$. Воспользуемся этим фактом два раза и наведём кучу арифметики: \n",
    "\n",
    "\\begin{multline*}\n",
    "E[\\bar x \\cdot (x_1 - \\bar x)] = E[\\bar x \\cdot x_1] - E(\\bar x^2) = E[\\bar x \\cdot x_1] - \\left(\\frac{\\sigma^2}{n} + \\mu^2 \\right) = \\\\ = \\frac{1}{n} \\cdot \\sum_{i =2}^n E(x_i) \\cdot E(x_1) + \\frac{1}{n} E(x_1^2) - \\left(\\frac{\\sigma^2}{n} + \\mu^2 \\right) = \\frac{(n-1) \\cdot \\mu^2}{n} +\\frac{\\sigma^2 + \\mu^2}{n} - \\frac{\\sigma^2}{n} - \\mu^2 = 0\n",
    "\\end{multline*}\n",
    "\n",
    "Получилось, что $\\bar x$ независима от всех компонент $(x_i - \\bar x)$. Выборочная дисперсия $s^2$ это функция от случайных величин $x_i - \\bar x$. Значит она тоже независит от $\\bar x$. "
   ]
  },
  {
   "cell_type": "markdown",
   "metadata": {},
   "source": [
    "### [2] Задачка 10\n",
    "\n",
    "Пусть случайная величина $X$ - цвет конфетки M&M's из упаковки. Она имеет распределение:\n",
    "\n",
    "\n",
    "|$X$             | красная    | жёлтая  | другой цвет  |\n",
    "|:--------------:|:----------:|:-------:|:------------:|\n",
    "| $P( \\ldots )$  | $p_1$      | $p_2$   | $1 - p_1-p_2$|\n",
    "\n",
    "\n",
    "Если у нас завалялась выборка из конфеток $X_1, \\ldots, X_n$  и в ней $n_1$ конфеток оказались красными, а $n_2$ жёлтыми, тогда хорошими оценками для $p_1$ и $p_2$ будут $\\frac{n_1}{n}$ и $\\frac{n_2}{n}.$\n",
    "\n",
    "С помощью симуляций выясните, являются ли случайные величины $\\hat p_1$ и $\\hat p_2$ независимыми. "
   ]
  },
  {
   "cell_type": "code",
   "execution_count": 39,
   "metadata": {},
   "outputs": [
    {
     "data": {
      "text/html": [
       "-0.763790918069871"
      ],
      "text/latex": [
       "-0.763790918069871"
      ],
      "text/markdown": [
       "-0.763790918069871"
      ],
      "text/plain": [
       "[1] -0.7637909"
      ]
     },
     "metadata": {},
     "output_type": "display_data"
    }
   ],
   "source": [
    "### ╰( ͡° ͜ʖ ͡° )つ──☆ эщ\n",
    "n = 10^6\n",
    "\n",
    "p1 = rep(0, n)\n",
    "p2 = rep(0, n)\n",
    "\n",
    "for(i in 1:n){\n",
    "    x = sample(size = 100, replace = TRUE, x=c(1,2,3), prob = c(0.7, 0.2, 0.1))\n",
    "    p1[i] = mean(x == 1)\n",
    "    p2[i] = mean(x == 2)\n",
    "}\n",
    "\n",
    "cor(p1, p2)"
   ]
  },
  {
   "cell_type": "markdown",
   "metadata": {},
   "source": [
    "В математике да это всегда да, а нет это хотябы один раз нет. "
   ]
  },
  {
   "cell_type": "markdown",
   "metadata": {},
   "source": [
    "### [10] Задачка 11\n",
    "\n",
    "У Дианы есть выборка $X_1, \\dots, X_n \\sim iid N(0, \\sigma^2)$. Она собирается использовать для параметра $\\sigma$ нестандартную оценку $\\hat \\sigma = \\frac{1}{n} \\sum_{i=1}^n |x_i|$. Вручную: \n",
    "\n",
    "__[a]__ Найдите плотность распределения для случайной величины $|X|$"
   ]
  },
  {
   "cell_type": "markdown",
   "metadata": {},
   "source": [
    "__Решение:__ \n",
    "\n",
    "\\begin{equation*}\n",
    "\\begin{aligned}\n",
    "& F(y) =  P(Y \\le y) = P(|X| \\le y) = P(-y \\le X \\le y) = F(y) - F(-y) \\\\\n",
    "& f(y) = F'(y) = f(y) + f(-y) = 2 f(y) = \\frac{2}{\\sqrt{2 \\pi \\sigma^2}} \\cdot e^{- \\frac{y^2}{2 \\sigma^2}}.\n",
    "\\end{aligned} \n",
    "\\end{equation*}\n",
    "\n",
    "Найдём математическое ожидание. Для этого под знаком интеграла сделаем замену $t = \\frac{y^2}{2 \\sigma^2}$. Получится, что $y = \\sqrt{2 t \\sigma^2}$, $dy = \\frac{2 \\sigma^2}{ 2 \\sqrt{2 \\sigma^2 t}} dt$. Пределы интегрирования никак не поменяются. Такой заменой мы приведём интеграл к удобоваримому виду: \n",
    "\n",
    "\\begin{multline*}\n",
    "E(Y) = \\int_0^{+\\infty} \\frac{2y}{\\sqrt{2 \\pi \\sigma^2}} \\cdot e^{- \\frac{y^2}{2 \\sigma^2}} dy = \\frac{\\sqrt{2 \\sigma^2}}{\\sqrt{2 \\sigma^2}} \\cdot \\sigma^2 \\cdot \\frac{2}{\\sqrt{2 \\pi \\sigma^2}} \\cdot \\int_0^{+ \\infty} e^{-t} dt = \\sqrt{\\frac{2}{\\pi}} \\cdot \\sqrt{\\sigma^2}.\n",
    "\\end{multline*}\n",
    "\n",
    "Теперь найдём дисперсию. Так как  $E(Y^2) = E(|X|^2) = E(X^2) = \\sigma^2$, получаем что \n",
    "\n",
    "$$\n",
    "Var(Y) = \\sigma^2 - \\frac{2}{\\pi} \\cdot \\sigma^2 = \\left(1 - \\frac{2}{\\pi} \\right) \\cdot \\sigma^2.\n",
    "$$"
   ]
  },
  {
   "cell_type": "markdown",
   "metadata": {},
   "source": [
    "__[б]__ Проверьте, является ли оценка $\\hat \\sigma$ смещённой, найдите её $bias$, если оценка смещена, то скорректируйте её\n",
    "\n",
    "__Решение:__\n",
    "\n",
    "\n",
    "$$\n",
    "E(\\hat \\sigma) = E \\left( \\frac{1}{n} \\sum_{i=1}^n |X_i|   \\right) = E(Y) = \\sqrt{\\frac{2}{\\pi}} \\cdot \\sigma.\n",
    "$$\n",
    "\n",
    "Оценка оказалась смещена. Построим исправленную оценку так, чтобы при поиске математического ожидания от неё лишняя константа сгорала: \n",
    "\n",
    "\\begin{equation*}\n",
    " \\hat \\sigma = \\sqrt{\\frac{\\pi}{2}} \\cdot  \\frac{1}{n} \\sum_{i=1}^n |X_i| \n",
    "\\end{equation*}\n",
    "\n",
    "Найдём смещение оценки: \n",
    "\n",
    "\\begin{equation*}\n",
    "bias(\\hat \\sigma) = E(\\hat \\sigma) - \\sigma =  \\sqrt{\\frac{2}{\\pi}} \\sigma - \\sigma.\n",
    "\\end{equation*}"
   ]
  },
  {
   "cell_type": "markdown",
   "metadata": {},
   "source": [
    "__[в]__ Найдите дисперсию скорректированной оценки\n",
    "\n",
    "__Решение:__\n",
    "\n",
    "Найдём дисперсию для базовой оценки: \n",
    "\n",
    "$$\n",
    "Var(\\hat \\sigma) = \\frac{1}{n} Var(Y) = \\frac{1}{n} \\cdot \\left(1 - \\frac{2}{\\pi} \\right) \\cdot \\sigma^2.\n",
    "$$\n",
    "\n",
    "Найдём дисперсию для скорректированной оценки: \n",
    "\n",
    "$$\n",
    "Var(\\hat \\sigma)  = \\frac{1}{n} \\cdot \\left( \\frac{\\pi}{2} - 1 \\right) \\cdot \\sigma^2.\n",
    "$$"
   ]
  },
  {
   "cell_type": "markdown",
   "metadata": {},
   "source": [
    "__[г]__ Определите, является ли оценка состоятельной\n",
    "\n",
    "\n",
    " По закону больших чисел среднее случайных величин сходится к их математическому ожиданию, то есть \n",
    "\n",
    "$$\n",
    "\\hat \\sigma \\to \\sqrt{\\frac{\\pi}{2}}  \\cdot \\sqrt{\\frac{2}{\\pi}} \\cdot \\sigma = \\sigma.\n",
    "$$\n",
    "\n",
    "Да, скорректированная оценка является состоятельной. "
   ]
  },
  {
   "cell_type": "markdown",
   "metadata": {},
   "source": [
    "__[д]__ Найдите для несмещённой оценки $MSE$\n",
    "\n",
    "Найдём двумя способами MSE. Во-первых,  \n",
    "\n",
    "$$\n",
    "MSE = bias(\\hat \\sigma)^2 + Var(\\hat \\sigma) = \\left[ \\frac{1}{n} + \\frac{2}{\\pi} \\cdot \\left(1 - \\frac{1}{n} \\right) - 2 \\cdot \\sqrt{\\frac{2}{\\pi}} + 1   \\right] \\cdot \\sigma^2.\n",
    "$$\n",
    "\n",
    "Во-вторых: \n",
    "\n",
    "\\begin{multline*} \n",
    "MSE=  (\\hat \\sigma - \\sigma)^2 = E \\left( \\frac{1}{n} \\sum |X_i| - \\sigma \\right)^2  = E \\left[ \\left( \\frac{1}{n} \\sum |X_i| \\right)^2 - 2 \\cdot \\frac{\\sigma}{n} \\sum |X_i| + \\sigma^2 \\right] = \\\\ = \\frac{1}{n^2} E[ (|X_1| + \\ldots + |X_n|)^2] - \\frac{2 \\sigma}{n} \\sum E(|X_i|) + \\sigma^2 = \\frac{1}{n^2} \\cdot (n E(X^2) + n (n-1) E(X)^2) - \\frac{2 \\sigma}{n} \\sum E(|X_i|) + \\sigma^2 = \\\\ = \\frac{\\sigma^2}{n} + \\frac{n-1}{n} \\cdot \\frac{2}{\\pi} \\sigma^2 - 2 \\sigma \\cdot \\sqrt{\\frac{2}{\\pi}} \\cdot \\sigma + \\sigma^2  = \\left[ \\frac{1}{n} + \\frac{2}{\\pi} \\cdot \\left(1 - \\frac{1}{n} \\right) - 2 \\cdot \\sqrt{\\frac{2}{\\pi}} + 1  \\right] \\cdot \\sigma^2.\n",
    "\\end{multline*}"
   ]
  },
  {
   "cell_type": "markdown",
   "metadata": {},
   "source": [
    "Пусть природа решила, что $\\sigma^2 = 16$. С помощью симуляций проверьте\n",
    "\n",
    "__[е]__ Несмещённость оценки"
   ]
  },
  {
   "cell_type": "code",
   "execution_count": 40,
   "metadata": {},
   "outputs": [
    {
     "data": {
      "text/html": [
       "3.19139253200301"
      ],
      "text/latex": [
       "3.19139253200301"
      ],
      "text/markdown": [
       "3.19139253200301"
      ],
      "text/plain": [
       "[1] 3.191393"
      ]
     },
     "metadata": {},
     "output_type": "display_data"
    }
   ],
   "source": [
    "### ╰( ͡° ͜ʖ ͡° )つ──☆ взбздых и ты на изи решаешь любые теоретические задачи\n",
    "s2 = 16\n",
    "\n",
    "n_obs = 10^6\n",
    "\n",
    "s_hat = rep(0, n_obs)\n",
    "\n",
    "for(i in 1: n_obs){\n",
    "    x = rnorm(100, mean=0, sd=sqrt(s2))\n",
    "    s_hat[i] = mean(abs(x))\n",
    "}\n",
    "\n",
    "mean(s_hat)"
   ]
  },
  {
   "cell_type": "markdown",
   "metadata": {},
   "source": [
    "Видим, что математическое ожидание отличается от $4$. Оценка смещена. "
   ]
  },
  {
   "cell_type": "code",
   "execution_count": 41,
   "metadata": {},
   "outputs": [
    {
     "data": {
      "text/html": [
       "3.99981737808248"
      ],
      "text/latex": [
       "3.99981737808248"
      ],
      "text/markdown": [
       "3.99981737808248"
      ],
      "text/plain": [
       "[1] 3.999817"
      ]
     },
     "metadata": {},
     "output_type": "display_data"
    }
   ],
   "source": [
    "sqrt(pi/2)*mean(s_hat) # скорректировали и получили хорошую оценку :) "
   ]
  },
  {
   "cell_type": "markdown",
   "metadata": {},
   "source": [
    "__[ж]__ Состоятельность оценки "
   ]
  },
  {
   "cell_type": "code",
   "execution_count": 42,
   "metadata": {},
   "outputs": [
    {
     "data": {
      "image/png": "[encoded data removed]",
      "text/plain": [
       "plot without title"
      ]
     },
     "metadata": {},
     "output_type": "display_data"
    }
   ],
   "source": [
    "n_obs = 10^3\n",
    "\n",
    "s_hat = rep(0, n_obs)\n",
    "\n",
    "for(i in 1: n_obs){\n",
    "    x = rnorm(i*100, mean=0, sd=sqrt(s2))\n",
    "    s_hat[i] = sqrt(pi/2)*mean(abs(x))\n",
    "}\n",
    "\n",
    "ggplot(data.frame('x'=1:n_obs, 'y'=s_hat)) + \n",
    "  geom_line(aes(x, y)) +\n",
    "  geom_line(aes(x, sqrt(s2)), col='red')"
   ]
  },
  {
   "cell_type": "markdown",
   "metadata": {},
   "source": [
    "__[з]__ Постройте на одном графике распределение для  скорректированной на смещение $\\hat \\sigma$ из условия задачи, а также для классической $\\hat s$. Какая из них эффективнее? "
   ]
  },
  {
   "cell_type": "code",
   "execution_count": 43,
   "metadata": {},
   "outputs": [
    {
     "data": {
      "image/png": "[encoded data removed]",
      "text/plain": [
       "plot without title"
      ]
     },
     "metadata": {},
     "output_type": "display_data"
    }
   ],
   "source": [
    "n_obs = 10^5\n",
    "\n",
    "s_hat = rep(0, n_obs)\n",
    "s_canon = rep(0, n_obs)\n",
    "\n",
    "for(i in 1: n_obs){\n",
    "    x = rnorm(100, mean=0, sd=sqrt(s2))\n",
    "    s_hat[i] = sqrt(pi/2)*mean(abs(x))\n",
    "    s_canon[i] = sd(x)\n",
    "}\n",
    "\n",
    "ggplot(data.frame(s_hat, s_canon)) +\n",
    "    geom_histogram(aes(x=s_hat),bins=100, alpha=0.3, fill='red')+\n",
    "    geom_histogram(aes(x=s_canon),bins=100, alpha=0.3, fill='blue')"
   ]
  },
  {
   "cell_type": "code",
   "execution_count": 44,
   "metadata": {},
   "outputs": [
    {
     "data": {
      "text/html": [
       "0.0908768836522302"
      ],
      "text/latex": [
       "0.0908768836522302"
      ],
      "text/markdown": [
       "0.0908768836522302"
      ],
      "text/plain": [
       "[1] 0.09087688"
      ]
     },
     "metadata": {},
     "output_type": "display_data"
    },
    {
     "data": {
      "text/html": [
       "0.08018180810084"
      ],
      "text/latex": [
       "0.08018180810084"
      ],
      "text/markdown": [
       "0.08018180810084"
      ],
      "text/plain": [
       "[1] 0.08018181"
      ]
     },
     "metadata": {},
     "output_type": "display_data"
    }
   ],
   "source": [
    "var(s_hat)\n",
    "var(s_canon)"
   ]
  },
  {
   "cell_type": "code",
   "execution_count": 45,
   "metadata": {},
   "outputs": [],
   "source": [
    "# По генерации видим, что купол канонической оценки вытянут вверх сильнее, \n",
    "# а хвосты тоньше, значит она эффективнее\n",
    "# Подсчёт дисперсии подвтерждает это :) "
   ]
  },
  {
   "cell_type": "markdown",
   "metadata": {},
   "source": [
    "### [2] Задачка 12  (Квантильное-2)\n",
    "\n",
    "Пущай у нас есть стрёмная функция распределения. Например, вот такая: \n",
    "\n",
    "$$\n",
    "F(x) = \\left( \\frac{\\ln x}{\\ln \\theta} \\right)^{\\alpha},  \\quad x \\in [1; \\theta]\n",
    "$$\n",
    "\n",
    "Давайте сгенерим из неё выборку с помощью квантильного преобразования. "
   ]
  },
  {
   "cell_type": "code",
   "execution_count": 46,
   "metadata": {},
   "outputs": [
    {
     "name": "stderr",
     "output_type": "stream",
     "text": [
      "`stat_bin()` using `bins = 30`. Pick better value with `binwidth`.\n"
     ]
    },
    {
     "data": {
      "image/png": "[encoded data removed]",
      "text/plain": [
       "plot without title"
      ]
     },
     "metadata": {},
     "output_type": "display_data"
    }
   ],
   "source": [
    "### ╰( ͡° ͜ʖ ͡° )つ──☆  Жалеть нужно не мёртвых, Гарри. Жалеть нужно живых. \n",
    "\n",
    "# для примера выберем какие-нибудь значиния параметра\n",
    "theta = 10\n",
    "alpha = 2\n",
    "\n",
    "y = runif(10^4, min = 0, max = 1)\n",
    "x = theta^(y^(1/alpha))\n",
    "qplot(x)"
   ]
  },
  {
   "cell_type": "markdown",
   "metadata": {},
   "source": [
    "### [4] Задачка 13\n",
    "\n",
    "Помните страшную функцию распределения из предыдущей задачи? \n",
    "\n",
    "$$\n",
    "F(x) = \\left( \\frac{\\ln x}{\\ln \\theta} \\right)^{\\alpha},  \\quad x \\in [1; \\theta]\n",
    "$$\n",
    "\n",
    "__[а]__ Найдите для параметра $\\alpha$ оценку методом моментов. Возьмите для оценки математическое ожидание $E(\\ln X)$. Для него можно легко взять интеграл. С помощью дельта-метода выясните, как именно распределена полученная оценка и постройте для неё доверительный интервал. \n",
    "\n",
    "__Решение:__ \n",
    "\n",
    "Найдём математическое ожидание логарифма и его дисперсию: \n",
    "\n",
    "\\begin{equation*}\n",
    "\\begin{aligned}\n",
    "& E(\\ln X) = \\int_1^{\\theta} \\ln x \\cdot F'(x) dx = \\frac{a}{1+a} \\cdot \\ln \\theta \\\\\n",
    "& E(\\ln^2 X) = \\int_1^{\\theta} \\ln^2 x \\cdot F'(x) dx = \\frac{a}{2+a} \\cdot \\ln^2 \\theta \\\\ \n",
    "& Var(\\ln X) = E(\\ln^2 X) - (E(\\ln X))^2 = \\frac{a}{(1 + a)^2 \\cdot (2 + a)} \\cdot \\ln^2 \\theta \n",
    "\\end{aligned}\n",
    "\\end{equation*}\n",
    "\n",
    "Найдём методом моментов оценку для $\\theta$, приравняв теоретический момент к эмпирическому: \n",
    "\n",
    "$$\n",
    "\\overline{\\ln x} = \\frac{a}{1+a} \\cdot \\ln \\theta \\Rightarrow \\hat a = \\frac{\\overline{\\ln x}}{\\ln \\theta - \\overline{\\ln x}}\n",
    "$$\n",
    "\n",
    "По ЦПТ мы знаем, что \n",
    "\n",
    "$$\n",
    "\\overline{\\ln x} \\overset{asy}{\\sim} N \\left( \\frac{a}{1+a} \\cdot \\ln \\theta; \\frac{1}{n} \\cdot \\frac{a}{(1 + a)^2 \\cdot (2 + a)} \\cdot \\ln^2 \\theta  \\right)\n",
    "$$\n",
    "\n",
    "Воспользуемся дельта-методом. \n",
    "\n",
    "\\begin{equation*}\n",
    "\\begin{aligned}\n",
    "& g(t) = \\frac{t}{\\ln \\theta - t} \\\\ \n",
    "& g'(t) = \\frac{\\ln \\theta}{(\\ln \\theta - t)^2} \\\\ \n",
    "& g(\\mu) = a \\\\\n",
    "& g'(\\mu) = \\frac{(a + 1)^2}{\\ln \\theta}\n",
    "\\end{aligned}\n",
    "\\end{equation*}\n",
    "\n",
    "Получается, что \n",
    "\n",
    "\n",
    "$$\n",
    "\\hat a \\overset{asy}{\\sim} N \\left(a; \\frac{1}{n} \\cdot \\frac{a \\cdot (1 + a)^2}{(2 + a)} \\right)\n",
    "$$\n",
    "\n",
    "Ровно по той же логике, как и в семинаре по доверительным интервалам (теорема Слуцкого), мы можем поменять в дисперсии $a$ на $\\hat a$ и сказать, что \n",
    "\n",
    "\n",
    "$$\n",
    "\\hat a \\overset{asy}{\\sim} N \\left(a; \\frac{1}{n} \\cdot \\frac{\\hat a \\cdot (1 + \\hat a)^2}{(2 + \\hat a)} \\right)\n",
    "$$"
   ]
  },
  {
   "cell_type": "markdown",
   "metadata": {},
   "source": [
    "В итоге получаем асимптотический доверительный интервал \n",
    "\n",
    "$$\n",
    "\\hat a \\pm z_{1 - \\frac{\\alpha}{2}} \\cdot \\sqrt{ \\frac{\\hat a \\cdot (1 + \\hat a)^2}{n \\cdot (2 + \\hat a)}}\n",
    "$$\n",
    "\n",
    "\n"
   ]
  },
  {
   "cell_type": "markdown",
   "metadata": {},
   "source": [
    "__[б]__ Сгенерируйте выборку объёма $1000$. Сделайте подвыборку объёма $100$. Постройте для этой подвыборки $80\\%$ асимптотический доверительный интервал."
   ]
  },
  {
   "cell_type": "code",
   "execution_count": 47,
   "metadata": {},
   "outputs": [
    {
     "name": "stdout",
     "output_type": "stream",
     "text": [
      "Доверительный интервал: 1.60692 2.449148"
     ]
    }
   ],
   "source": [
    "### ╰( ͡° ͜ʖ ͡° )つ──☆  хаос - это не провал, хаос - это лестница! \n",
    "\n",
    "# сгенерировали в прошлом упражнении! \n",
    "n = 100\n",
    "x_sample = sample(x = x, size = n)\n",
    "\n",
    "alpha = 0.05\n",
    "z_alpha = qnorm(1 - alpha/2)\n",
    "\n",
    "# будем считать, что theta известно \n",
    "a_hat = mean(log(x))/(log(10) - mean(log(x)))\n",
    "\n",
    "left = a_hat - z_alpha*sqrt(a_hat*(1 + a_hat)^2/(n*(2+a_hat)))\n",
    "right = a_hat + z_alpha*sqrt(a_hat*(1 + a_hat)^2/(n*(2+a_hat)))\n",
    "cat('Доверительный интервал:', left, right)"
   ]
  },
  {
   "cell_type": "markdown",
   "metadata": {},
   "source": [
    "### [4] Задачка 14\n",
    "\n",
    "Пусть случайные величины $X_1, \\ldots, X_n \\sim U[0;1]$ и независимы. С помощью дельта-метода выясните, как примерно распределено среднее геометрическое: \n",
    "\n",
    "$$\n",
    "Z = \\sqrt[100]{\\prod_{i=1}^{100} x_i}.\n",
    "$$\n",
    "\n",
    "Не забывайте, что логарифм произведения равен сумме логарифмов. \n",
    "\n",
    "__Решение:__ \n",
    "\n",
    "$$\n",
    "\\ln Z = \\frac{1}{100} \\sum_{i=1}^{100} \\ln x_i.\n",
    "$$\n",
    "\n",
    "Это среднее. К нему можно применить ЦПТ. Для этого нам понадобится $E(\\ln X_1)$ и $Var(\\ln X_1)$. Найдём их\n",
    "\n",
    "\\begin{equation*}\n",
    "\\begin{aligned}\n",
    "& E(\\ln X_1) = \\int_0^1 \\ln x dx = -1 \n",
    "& E(\\ln^2 X_1) = 2\n",
    "& Var(\\ln X_1) = 2 - (-1)^2 = 1\n",
    "\\end{aligned}\n",
    "\\end{equation*}\n",
    "\n",
    "Выходит, что по ЦПТ \n",
    "\n",
    "$$\n",
    "\\overline{\\ln x} \\sim N \\left( -1, \\frac{1}{100} \\right).\n",
    "$$\n",
    "\n",
    "У нас $g(t) = e^t$. Воспользовавшись дельта-методом получаем, что \n",
    "\n",
    "$$\n",
    "Z = e^{\\overline{\\ln x}} \\sim \\sim N \\left( \\frac{1}{e}, \\frac{1}{100} \\cdot \\frac{1}{e^2} \\right).\n",
    "$$"
   ]
  },
  {
   "cell_type": "code",
   "execution_count": 48,
   "metadata": {},
   "outputs": [],
   "source": [
    "### ╰( ͡° ͜ʖ ͡° )つ──☆  код не нужен"
   ]
  },
  {
   "cell_type": "markdown",
   "metadata": {},
   "source": [
    "### [3 + бонусные 5] Задачка 15\n",
    "\n",
    "В этой задачке делаем первый заход на сходимости случайных величин. "
   ]
  },
  {
   "cell_type": "markdown",
   "metadata": {},
   "source": [
    "__[a]__ Докажите, что последовательность случайных величин  $X_n \\sim Binomial\\left(n, \\frac{\\lambda}{n}\\right)$ сходится по распределению к распределению Пуассона с параметром $\\lambda$. \n",
    "\n",
    "__Решение:__ \n",
    "\n",
    "Выпишем для случайной величины $X_n$ вероятность того, что она принимает конкретное значение $k$. Так как $X_n$ имеет биномиальное распределение, \n",
    "\n",
    "$$\n",
    "P(X_n = k) =  C_{n}^k \\cdot \\left( \\frac{\\lambda}{n} \\right)^k \\cdot \\left(1-\\frac{\\lambda}{n} \\right) ^{n-k} = \\frac{n!}{k! (n-k)!} \\cdot \\left( \\frac{\\lambda}{n} \\right)^k \\cdot \\left(1-\\frac{\\lambda}{n} \\right) ^{n-k}\n",
    "$$\n",
    "\n",
    "Нам нужно выяснить как ведёт себя это выражение при $n \\to \\infty$. Значение $k$ остаётся постоянным. \n",
    "\n",
    "$$\n",
    "\\lim_{n\\to\\infty} P(X_n = k) = \\lim_{n\\to\\infty} \\frac{\\lambda^k}{k!} \\cdot \\frac{n \\cdot (n-1) \\cdot (n-2) \\cdot \\ldots \\cdot (n-k+1)}{n^k} \\cdot \\left( 1-\\frac{\\lambda}{n} \\right)^n \\cdot \\left(1-\\frac{\\lambda}{n} \\right)^{-k} = \\frac{\\lambda^k \\cdot e^{-\\lambda}}{k!}\n",
    "$$\n",
    "\n",
    "Первый множитель выносится за знак предела, так как там $k$ фиксировано. Во втором множителе степено числителя равна $k$, степень знаменателя также равна $k$. Выходит, что в пределе выйдет единица. Третий множитель - это второй замечательный предел. Четвёртый множитель в пределе даёт единицу.\n",
    "\n",
    "\\begin{equation*}\n",
    "\\begin{aligned}\n",
    "& \\lim_{n\\to\\infty} \\frac{n \\cdot (n-1) \\cdot (n-2) \\cdot \\ldots \\cdot (n-k+1)}{n^k} = 1 \\\\ \n",
    "& \\lim_{n\\to\\infty} \\left(1-\\frac{\\lambda}{n} \\right)^{-k} = 1^{-k} = 1 \\\\\n",
    "& \\lim_{n\\to\\infty} \\left( 1-\\frac{\\lambda}{n} \\right)^n = e^{-\\lambda}\n",
    "\\end{aligned}\n",
    "\\end{equation*}\n",
    "\n",
    "Получаем в пределе распределение Пуассона. "
   ]
  },
  {
   "cell_type": "markdown",
   "metadata": {},
   "source": [
    "__[б]__ Докажите, что последовательность случайных величин \t$X_n \\sim Geom(\\frac{\\lambda}{n})$, $Y_n = \\frac{1}{n} X_n$ сходится по распределению к экспоненциальному распределению с параметром $\\lambda$. \n",
    "\n",
    "__Решение:__ \n",
    "\n",
    "Нам надо понять к чему сойдётся вероятность $P(Y_n \\le y) = P(\\frac{1}{n} \\cdot X_n \\le y) = P(X_n \\le n \\cdot y)$. Случайная величина $X_n$ имеет геометрическое распределение с параметром $p = \\frac{\\lambda}{n}$. Кажется начал проступать рецепт решения задачки. Нужно нащупать функцию распределения для геометрической случайной величины, а после найти её предел. \n",
    "\n",
    "$$\n",
    "P(X_n \\le x) = \\sum_{k=1}^x (1-p)^{k-1} \\cdot p = p \\cdot \\sum_{k=1}^x (1-p)^{k-1} = p \\cdot \\frac{1 - (1-p)^x}{1 - (1-p)} = 1 - (1 - p)^x.\n",
    "$$\n",
    "\n",
    "Тут мы просто воспользовались определением функции распределения и формулой для суммы геометрической прогрессии.\n",
    "\n",
    "Величина $n \\cdot y$ может принимать любые действительные значения. Георметрически распределённая случайная величина принимает только целые значения. Когда будем подставлять $n \\cdot y$ вместо $x$ в сумму, сделаем округление вниз. Обычно такое округление обозначают как $\\lfloor n \\cdot y \\rfloor$. Остаётся только вспомнить второй замечательный предел, и получить ответ: \n",
    "\n",
    "$$\n",
    "\\lim_{n \\to \\infty} P(X_n \\le n \\cdot y) = 1 - \\left(1 - \\frac{\\lambda}{n} \\right)^{\\lfloor n \\cdot y \\rfloor} = 1 - e^{- \\lambda y}.\n",
    "$$"
   ]
  },
  {
   "cell_type": "markdown",
   "metadata": {},
   "source": [
    "__[в]__ Случайные величины $X_n \\sim U[a;b]$. Пусть $Y_n = \\max(X_1, \\ldots, X_n)$. Покажите, что \n",
    "\t\t\n",
    "$$\n",
    "Z_n = n \\cdot \\frac{b - Y_n}{b - a} \\overset{d}{\\to}  Exp(1)\n",
    "$$  \n",
    "\n",
    "__Решение:__ \n",
    "\n",
    "Мы помним, что \n",
    "\n",
    "$$\n",
    "F_{Y_n}(Y_n \\le y) = P(Y_n \\le y) = P(\\max(X_1, \\ldots, X_n) \\le y) = P(X_1 \\le y) \\cdot \\ldots \\cdot P(X_n \\le y) = [F_X(y)]^n = \\left[ \\frac{x-a}{b-a}  \\right]^n\n",
    "$$\n",
    "\n",
    "Теперь нам нужно пристально посмотреть на $Z_n$: \n",
    "\n",
    "\\begin{multline*}\n",
    "F_{Z_n}(z) = P(Z_n \\le z) = P \\left( \\frac{b-Y_n}{b-a} \\cdot n \\le z \\right) = P \\left(-Y_n \\le \\frac{z \\cdot (b-a)}{n} - b \\right) = \\\\ = 1 - P \\left(Y_n \\le  b - \\frac{z}{n}\\cdot(b-a)\\right) =  1 - F_{Y_n} \\left( b-\\frac{z}{n} \\cdot (b-a)\\right) = 1 - \\left(1 - \\frac{z}{n} \\right)^n\n",
    "\\end{multline*}\n",
    "\n",
    "Теперь найдём предел. \n",
    "\n",
    "$$\n",
    "\\lim_{n\\to \\infty} F_{Z_n} (z) = \\lim_{n\\to \\infty} 1- \\left(1-\\frac{z}{n} \\right)^n = 1- e^{-z}\n",
    "$$\n",
    "\n",
    "Получаем экспоненциальное распределение. Тут, на самом деле, хорошо было бы по-честному расписать что происходит с функцией $F_{Z_n}(z)$ при разных значениях $z$ и найти ту самую единственную и неповторимую точку разрыва. Пример того, как это делается у вас есть в семинаре :) "
   ]
  },
  {
   "cell_type": "markdown",
   "metadata": {},
   "source": [
    "__[г]__ __Бонусный пункт:__  Пусть $X \\sim Exp\\left(\\frac{1}{\\lambda} \\right)$. Пусть $F(x)$ — функция распределения для $Exp(1)$. Нужно найти распределение случайной величины $Y = F(X)$. И выяснить к чему сходится это распределение при $\\lambda \\to \\infty$, при $\\lambda \\to 1$ и при $\\lambda \\to 0$."
   ]
  },
  {
   "cell_type": "markdown",
   "metadata": {},
   "source": [
    "__Решение:__ \n",
    "\n",
    "Нас интересует случайная величина $Y = 1 - e^{-X}$. Мы знаем, что $F(x)$ - функция распределения, значит $Y$ принимает значения на отрезке от $0$ до $1$. Найдём функцию распределения случайной величины $Y = F(X)$. Будем делать это по определению: \n",
    "\n",
    "$$\n",
    "F(y) = P(Y \\le y) = \\begin{cases}0, \\text{ если } y \\le 0 \\\\ 1, \\text{ если } y > 1 \\\\ P(F(X) \\le y), \\text{ если } y \\in (0; 1].    \\end{cases}\n",
    "$$\n",
    "\n",
    "Самая интересная тут последняя строчка. Немного поработаем с ней.\n",
    "\n",
    "$$\n",
    "P(F(X) \\le y) = P(X \\le F^{-1}(y)) = P \\left( X \\le - \\ln(1 - y) \\right) = F_X \\left( - \\ln(1 - y)  \\right) = 1-{(1-y)}^{\\frac{1}{\\lambda}}.\n",
    "$$\n",
    "\n",
    "Дело осталось за малым, найти пределы для функции распределения случайной величины $Y$. Если $\\lambda \\to \\infty$, получаем в пределе единицу. То есть \n",
    "\n",
    "$$\n",
    "F(y) = P(Y \\le y) = \\begin{cases}0, \\text{ если } y \\le 0 \\\\ 1, \\text{ если } y > 0 \\end{cases}\n",
    "$$\n",
    "\n",
    "Получилось выражденное распределение. Случайная величина принимает только одно значение, равное $1$. Если $\\lambda \\to 1$, получаем в пределе $y$, то есть равномерное распределение \n",
    "\n",
    "$$\n",
    "F(y) = P(Y \\le y) = \\begin{cases}0, \\text{ если } y \\le 0 \\\\ 1, \\text{ если } y > 1 \\\\ y, \\text{ если } y \\in (0; 1].    \\end{cases}\n",
    "$$\n",
    "\n",
    "При $\\lambda \\to \\infty$ получаем, что сходимости по распределению нет, так как для интервала $(0;2)$ выполняется сходимость к $1$, а для оставшейся части функция уходит на бесконечность. Чтобы сходимость по распределению имела место, у нас должно быть конечное число точек с разрывами. \n",
    "\n",
    "\n",
    "\n",
    "\n"
   ]
  },
  {
   "cell_type": "code",
   "execution_count": 49,
   "metadata": {},
   "outputs": [],
   "source": [
    "### ╰( ͡° ͜ʖ ͡° )つ──☆  код снова не нужен"
   ]
  },
  {
   "cell_type": "markdown",
   "metadata": {},
   "source": [
    "### [13] Задачка 16\n",
    "\n",
    "Определите как (по распределению, по вероятности, в среднем) и к чему сходятся следущие последовательности случайных величин: \n",
    "\n",
    "* $X_n \\sim U\\left[0 ; \\frac{1}{n} \\right]$\n",
    "* $X_n \\sim N\\left(0, \\frac{1}{n}\\right)$ \n",
    "* $X_n \\sim Exp(n)$\n",
    "* $X_n \\sim Exp\\left(\\frac{1}{n} \\right)$\n",
    "* $X_n \\sim Bern\\left(\\frac{1}{n}\\right)$\n",
    "* $X_n \\sim N\\left(\\frac{n-1}{n+1}, 9\\right)$\n",
    "* $X_n \\sim N\\left(0, \\frac{5 + n}{n^2}\\right)$\n",
    "* $X_n \\sim N \\left(\\frac{n-8}{n^2 + 8}, \\frac{n+1}{n-1} \\right)$\n",
    "* $X_n \\sim t(n)$\n",
    "* $X_n = \\frac{Y_n}{n}$, где $Y_n \\sim \\chi^2_n$\n",
    "* $X_n = \\frac{Y_n}{n+5}$, где $Y_n \\sim \\chi^2_n$\n",
    "* $X_n = 2011 \\cdot  Y_n$, где $Y_n \\sim F_{2011,n}$\n",
    "* $X_n = \\frac{Y_n - n}{\\sqrt{n}}$, где $Y_n \\sim \\chi^2_n$\n",
    "\n",
    "За каждую последовательность ставится $1$ балл. Обоснование должно быть дано максимально чётко. "
   ]
  },
  {
   "cell_type": "code",
   "execution_count": 50,
   "metadata": {},
   "outputs": [],
   "source": [
    "### ╰( ͡° ͜ʖ ͡° )つ──☆  код опять не нужен"
   ]
  },
  {
   "cell_type": "markdown",
   "metadata": {},
   "source": [
    "__В этой задаче все решения, по большей части однотипны. Иногда надо было обращать внимание на кое-какие тонкие нюансы. Мне очень лениво вбивать все решения. Но если вам ну очень хочется узнать правильное решение какого-либо из этих пунктов, пишите в личку, я его распишу для вас на бумажке.__"
   ]
  },
  {
   "cell_type": "markdown",
   "metadata": {},
   "source": [
    "### [4] Задачка 17\n",
    "\n",
    "У распределения Хи-квадрат есть милое свойство. Известно, что если $X_1, \\ldots, X_n \\sim iid~N(0,1)$, тогда имеет место следующая сходимость по веротяности:\n",
    "\n",
    "$$\n",
    "\\frac{\\chi^2_n}{n} = \\frac{X_1^2 + \\ldots + X_n^2}{n} \\to  1\n",
    "$$\n",
    "\n",
    "Продемонстрируйте с помощью симуляций в R, что это именно так. От вас требуется построить ту же картинку, что мы строили при иллюстрации ЗБЧ. Не забудьте построить для нескольких разных $\\varepsilon$ коридоры и убедиться, что последовательность с некоторого момента начинает пробивать их довольно редко.\n",
    "\n",
    "__Важно:__ вы же понимаете, что это свойство следует из ЗБЧ? "
   ]
  },
  {
   "cell_type": "code",
   "execution_count": 51,
   "metadata": {},
   "outputs": [
    {
     "data": {
      "image/png": "[encoded data removed]",
      "text/plain": [
       "plot without title"
      ]
     },
     "metadata": {},
     "output_type": "display_data"
    }
   ],
   "source": [
    "### ╰( ͡° ͜ʖ ͡° )つ──☆ скибиди па!\n",
    "\n",
    "n_obs = 10^3       # число симуляций\n",
    "s = rep(0, n_obs)  # сюда будем закидывать члены последовательности\n",
    "\n",
    "for(i in 1:n_obs){\n",
    "    s[i] = mean(rnorm(i)^2)\n",
    "}\n",
    "\n",
    "eps1 = 0.2\n",
    "eps2 = 0.1\n",
    "\n",
    "ggplot(data.frame('x'=1:n_obs, 'y'=s)) + \n",
    "  geom_line(aes(x, y)) +\n",
    "\n",
    "  geom_line(aes(x, 1+eps1), col='red')+\n",
    "  geom_line(aes(x, 1-eps1), col='red')+\n",
    "\n",
    "  geom_line(aes(x, 1+eps2), col='blue')+\n",
    "  geom_line(aes(x, 1-eps2), col='blue')"
   ]
  },
  {
   "cell_type": "markdown",
   "metadata": {},
   "source": [
    "Хорошо! Теперь зафиксируйте несколько коридоров также, как мы делали это на паре и пронаблюдайте, как ведут себя вероятности пробить эти коридоры при увеличении $n$."
   ]
  },
  {
   "cell_type": "code",
   "execution_count": 52,
   "metadata": {},
   "outputs": [
    {
     "data": {
      "image/png": "[encoded data removed]",
      "text/plain": [
       "plot without title"
      ]
     },
     "metadata": {},
     "output_type": "display_data"
    }
   ],
   "source": [
    "### ╰( ͡° ͜ʖ ͡° )つ──☆ зенда фаразенда\n",
    "\n",
    "n_obs = 10^3\n",
    "s1 <- rep(0,times=n_obs) # вектор из нулей для первого коридора\n",
    "s2 <- rep(0,times=n_obs) # вектор из нулей для второго коридора\n",
    "\n",
    "for(i in 1:n_obs){\n",
    "    x <- rep(0,times=1000)\n",
    "    for(j in 1:1000){\n",
    "        x[j] <- mean(rnorm(i)^2)\n",
    "    }\n",
    "    s1[i] <- sum(abs(x) > 1+0.01)/1000\n",
    "    s2[i] <- sum(abs(x) > 1+0.1)/1000\n",
    "    }\n",
    "\n",
    "ggplot(data.frame('x'=1:n_obs, 's1'=s1, 's2'=s2)) + \n",
    "  geom_line(aes(x, s1, color='eps=0.01')) +\n",
    "  geom_line(aes(x, s2, color='eps=0.1'))\n",
    "\n",
    "# для узкого коридора убывание идёт совсем медленно :) "
   ]
  },
  {
   "cell_type": "markdown",
   "metadata": {},
   "source": [
    "Учитывая, что последовательность случайных величин, приведённая выше, сходится к константе, то есть к вырожденному распределению, дисперсия этой последовательности должна сходится к нулю. Продемонстрируйте, что это действительно так. Для этого нужно скопипастить код из второго пункта и немного отредактировать его.  "
   ]
  },
  {
   "cell_type": "code",
   "execution_count": 53,
   "metadata": {},
   "outputs": [
    {
     "data": {
      "image/png": "[encoded data removed]",
      "text/plain": [
       "plot without title"
      ]
     },
     "metadata": {},
     "output_type": "display_data"
    }
   ],
   "source": [
    "### ╰( ͡° ͜ʖ ͡° )つ──☆ ратата! \n",
    "\n",
    "n_obs = 100\n",
    "s <- rep(0,times=n_obs) # вектор из нулей для дисперсий\n",
    "\n",
    "for(i in 1:n_obs){\n",
    "    x <- rep(0,times=1000)\n",
    "    for(j in 1:1000){\n",
    "        x[j] <- mean(rnorm(i)^2)\n",
    "    }\n",
    "    s[i] <- var(x)\n",
    "    }\n",
    "\n",
    "qplot(1:n_obs, s, geom='line')"
   ]
  },
  {
   "cell_type": "markdown",
   "metadata": {},
   "source": [
    "Если вы хорошо разбирались в лекциях по математической статистике, у вас должна была возникнуть в голове аналогия с Достаточным условием Чебышёва. Оно говорит, что если оценка неизвестного параметра является несмещённой, $E(\\hat \\theta) = \\theta$ и дисперсия этой оценки стремится к нулю, $Var(\\hat \\theta) \\to 0$ при $n \\to \\infty$, то эта оценка состоятельна. \n",
    "\n",
    "Попробуйте ещё раз посмотреть на картинку, которую вы получили выше и переосмыслить это условие. Также не помешает немного подумать о состоятельности оценки и вспомнить определение состоятельности. "
   ]
  },
  {
   "cell_type": "markdown",
   "metadata": {},
   "source": [
    "### [6] Задачка 18 (распределение Коши) \n",
    "\n",
    "Распределение Коши тот ещё фрукт. У стандартного распределения Коши следующая плотность: \n",
    "\n",
    "$$\n",
    "f_X(x) = \\frac{1}{\\pi(1+x^2)}\n",
    "$$\n",
    "\n",
    "Выглядит довольно красиво, но эта красота обманчива. У распределения Коши есть куча проблем. Одна из таких проблем - это отсутствие математического ожидания и дисперсии. Закон больших чисел позволяет нам сказать, что для некоторых распределений \n",
    "\n",
    "$$ P( \\mid \\bar x - E(X)\\mid \\le \\varepsilon  ) \\to 1, $$\n",
    "\n",
    "то есть выборочное среднее по вероятности сходится к математическому ожиданию. Как мы знаем, для распределения Коши математического ожидания не существует. Интересно было бы узнать к чему в таком случае сходится выборочное среднее. Для решения вам понадобится функция `rcauchy`.\n",
    "\n",
    "Постройте для выборочного среднего распределения Коши картинку, которую мы строили при иллюстрации ЗБЧ. Попытайтесь проинтерпретировать то, что вы увидите. Если не получается, не печальтесь. Когда я печалюсь, я обычно перестаю печалиться и просто становлюсь клёвым. И это правда. Советую вам делать также. "
   ]
  },
  {
   "cell_type": "code",
   "execution_count": 54,
   "metadata": {},
   "outputs": [
    {
     "data": {
      "image/png": "[encoded data removed]",
      "text/plain": [
       "plot without title"
      ]
     },
     "metadata": {},
     "output_type": "display_data"
    }
   ],
   "source": [
    "### ╰( ͡° ͜ʖ ͡° )つ──☆ авада кедавра\n",
    "\n",
    "# Чудо, а не задание! Копипаста кода и замена распределения на Коши :) \n",
    "\n",
    "n_obs = 10^3\n",
    "z = rep(0, n_obs)  # вектор для средних\n",
    "\n",
    "for(i in 1:n_obs){\n",
    "    z[i] = mean(rcauchy(i))\n",
    "}\n",
    "\n",
    "qplot(1:n_obs, z, geom='line')"
   ]
  },
  {
   "cell_type": "markdown",
   "metadata": {},
   "source": [
    "Хорошо! Теперь зафиксируйте несколько коридоров также, как мы делали это на паре и пронаблюдайте, как ведут себя вероятности пробить эти коридоры при увеличении $n$."
   ]
  },
  {
   "cell_type": "code",
   "execution_count": 55,
   "metadata": {},
   "outputs": [
    {
     "data": {
      "image/png": "[encoded data removed]",
      "text/plain": [
       "plot without title"
      ]
     },
     "metadata": {},
     "output_type": "display_data"
    }
   ],
   "source": [
    "### ╰( ͡° ͜ʖ ͡° )つ──☆ империо\n",
    "\n",
    "n_obs = 10^3\n",
    "s1 <- rep(0,times=n_obs) # вектор из нулей для первого коридора\n",
    "s2 <- rep(0,times=n_obs) # вектор из нулей для второго коридора\n",
    "\n",
    "for(i in 1:n_obs){\n",
    "    x <- rep(0,times=1000)\n",
    "    for(j in 1:1000){\n",
    "        x[j] <- mean(rcauchy(i))\n",
    "    }\n",
    "    s1[i] <- sum(abs(x) > 1+0.01)/1000\n",
    "    s2[i] <- sum(abs(x) > 1+0.1)/1000\n",
    "    }\n",
    "\n",
    "ggplot(data.frame('x'=1:n_obs, 's1'=s1, 's2'=s2)) + \n",
    "  geom_line(aes(x, s1, color='eps=0.01')) +\n",
    "  geom_line(aes(x, s2, color='eps=0.1'))"
   ]
  },
  {
   "cell_type": "markdown",
   "metadata": {},
   "source": [
    "Попробуйте точно также посмотреть к чему сходится выборочная дисперсия. "
   ]
  },
  {
   "cell_type": "code",
   "execution_count": 56,
   "metadata": {},
   "outputs": [
    {
     "name": "stderr",
     "output_type": "stream",
     "text": [
      "Warning message:\n",
      "“Removed 1 rows containing missing values (geom_path).”"
     ]
    },
    {
     "data": {
      "image/png": "[encoded data removed]",
      "text/plain": [
       "plot without title"
      ]
     },
     "metadata": {},
     "output_type": "display_data"
    }
   ],
   "source": [
    "### ╰( ͡° ͜ʖ ͡° )つ──☆ круцио\n",
    "\n",
    "# И ещё одна копипаста кода \n",
    "n_obs = 10^3\n",
    "z = rep(0, n_obs)  # вектор для выборочных дисперсий\n",
    "\n",
    "for(i in 1:n_obs){\n",
    "    z[i] = var(rcauchy(i))\n",
    "}\n",
    "\n",
    "qplot(1:n_obs, z, geom='line')"
   ]
  },
  {
   "cell_type": "markdown",
   "metadata": {},
   "source": [
    "У распределения Коши тоже есть разные забавные свойства. Например, если у нас есть две независимые нормально распределённые случайные величины $X_1 \\sim N(0,1)$ и $X_2 \\sim N(0,1)$, то случайная величина $Y = \\dfrac{X_1}{X_2}$ будет иметь распределение Коши. Если вы хорошо учите математическую статистку, то вы уже догадались, что распределение Стьюдента с одной степенью свободы, $t(1)$ — это ни что иное, как распределение Коши. Посмотрите в лекциях, чему равно математическое ожидание и дисперсия для распределеняи Стьюдента и попытайтесь соотнести это с тем, что было получено вами выше. А ещё [почитайте блог Дьяконова.](https://dyakonov.org/2016/03/04/тяжёлые-хвосты/) У него много крутых мыслей по разным темам, связанным с анализом данных. "
   ]
  },
  {
   "cell_type": "code",
   "execution_count": 57,
   "metadata": {},
   "outputs": [],
   "source": [
    "# Напишите свои мысли в виде связного текста! А то сниму баллы."
   ]
  },
  {
   "cell_type": "markdown",
   "metadata": {},
   "source": [
    "![](https://cs7.pikabu.ru/post_img/2017/12/25/5/1514185823137275190.jpg)"
   ]
  }
 ],
 "metadata": {
  "kernelspec": {
   "display_name": "R",
   "language": "R",
   "name": "ir"
  },
  "language_info": {
   "codemirror_mode": "r",
   "file_extension": ".r",
   "mimetype": "text/x-r-source",
   "name": "R",
   "pygments_lexer": "r",
   "version": "3.5.3"
  }
 },
 "nbformat": 4,
 "nbformat_minor": 2
}
