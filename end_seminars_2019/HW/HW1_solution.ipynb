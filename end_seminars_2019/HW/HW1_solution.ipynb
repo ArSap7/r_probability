{
 "cells": [
  {
   "cell_type": "markdown",
   "metadata": {},
   "source": [
    "<img src=\"https://raw.githubusercontent.com/FUlyankin/r_probability/master/end_seminars/sem_2/yYGiBqtirSM.jpg\" height=\"300\" width=\"300\"> \n",
    "\n",
    "# <center> R для тервера и матстата. <br>  <br> Домашка номер раз! </center>\n",
    "\n",
    "Данный ноутбук является домашкой по курсу «R для теории вероятностей и математической статистики» (РАНХиГС, 2019). Автор ноутбука [вот этот парень по имени Филипп.](https://vk.com/ppilif) Если у вас для него есть деньги, слава или женщины, он от этого всего не откажется. Ноутбук распространяется на условиях лицензии [Creative Commons Attribution-Share Alike 4.0.](https://creativecommons.org/licenses/by-sa/4.0/) При использовании обязательно упоминание автора курса и аффилиации. При наличии технической возможности необходимо также указать активную гиперссылку на [страницу курса.](https://fulyankin.github.io/r_probability/) На ней можно найти другие материалы. Фрагменты кода, включенные в этот notebook, публикуются как [общественное достояние.](https://creativecommons.org/publicdomain/zero/1.0/)\n",
    "\n",
    "----------------------\n",
    "\n",
    "Приветствую вас внутри первой домашки. У каждой домашки должны быть свои герои (но это не точно). Моими героями являетесь вы! Вы - герои не потому, что я хочу кого-то простебать или обидеть, а потому что, когда любишь, хочется увековечить. Кто-то называет именами любимых людей вновь открытые звёзды и острова, кто-то созданную для нира папку на рабочем столе, а кто-то делает их героями своих историй. Будем искренне верить и надеяться, что я не Джордж Мартин, и в моих историях никто не погибнет. "
   ]
  },
  {
   "cell_type": "markdown",
   "metadata": {},
   "source": [
    "__Краткий брифинг:__\n",
    "\n",
    "\n",
    "* __Дедлайн:__ __12.05.19__\n",
    "* Первая домашка затрагивает то, что мы смотрели на первых двух парах.\n",
    "* Тетрадка делится на две части: __рыбёшки (60 баллов) и кит (40 баллов).__\n",
    "* Часть задач нужно решить не только с помощью симуляций, но и вручную.\n",
    "* Ваша команда пытается решить как можно больше задач и присылает их мне.\n",
    "* Если очень хочется, можем устроить после всех дедлайнов серию из пар с разбором домашек. \n",
    "* Свои решения постараюсь выложить после дедлайна.\n",
    "* __WARNING:__ [на страничке курса](https://fulyankin.github.io/r_probability/) есть решение домашек прошлого года. Ими можно пользоваться. \n",
    "\n",
    "---------------------------\n",
    "\n",
    "* __Как оформлять домашки:__ \n",
    "    1. Компьютерные домашки оформляем либо в связке R + LaTeX, либо в юпитерских тетрадках (если хочется новых технологий), либо в связке R + Markdown. Все шаблоны для этого есть в репозитории. Пожалуйста не нужно присылать мне просто тупой код с выводами в виде комментариев, написанных через решёточки. Я от этого могу сойти с ума. \n",
    "    2. Ручные решение можно оформлять двумя способами: либо вбивать их в файл вместе с кодом. Благо в Markdown, юпитере и других местах поддерживаются теховские формулу. Либо аккуратно оформляйте их на бумаге и присылайте свёрстанную pdf-ку. Не надо кидать мне фотки по одной. Я от этого тоже сойду с ума. Вариант с вбиванием в основной файл - предпочтительнее. \n",
    "    \n",
    "* На странице курса висит [видео-инструкция по оформлению.](https://yadi.sk/i/Pxp_pByP6Em9-A)\n",
    "\n",
    "---------------------------\n",
    "\n",
    "Ближе к делу. С чего начинается любой скрипт? Правильно! С подгрузки пакетов :) "
   ]
  },
  {
   "cell_type": "code",
   "execution_count": 38,
   "metadata": {},
   "outputs": [],
   "source": [
    "library(\"ggplot2\")  # Пакет для красивых графиков \n",
    "library(\"grid\")     # Пакет для субплотов\n",
    "\n",
    "# Отрегулируем размер картинок, которые будут выдаваться в нашей тетрадке\n",
    "library('repr')\n",
    "options(repr.plot.width=4, repr.plot.height=3)\n",
    "\n",
    "# Внимание! Если вы делаете дз в Rstudio, то вам не нужны пакеты grid, repr и т.п.\n",
    "# Вам нужен только пакет ggplot2! "
   ]
  },
  {
   "cell_type": "markdown",
   "metadata": {},
   "source": [
    "## Полезные функции:"
   ]
  },
  {
   "cell_type": "code",
   "execution_count": 2,
   "metadata": {},
   "outputs": [
    {
     "data": {
      "text/html": [
       "<ol class=list-inline>\n",
       "\t<li>2</li>\n",
       "\t<li>2</li>\n",
       "\t<li>2</li>\n",
       "\t<li>2</li>\n",
       "\t<li>2</li>\n",
       "</ol>\n"
      ],
      "text/latex": [
       "\\begin{enumerate*}\n",
       "\\item 2\n",
       "\\item 2\n",
       "\\item 2\n",
       "\\item 2\n",
       "\\item 2\n",
       "\\end{enumerate*}\n"
      ],
      "text/markdown": [
       "1. 2\n",
       "2. 2\n",
       "3. 2\n",
       "4. 2\n",
       "5. 2\n",
       "\n",
       "\n"
      ],
      "text/plain": [
       "[1] 2 2 2 2 2"
      ]
     },
     "metadata": {},
     "output_type": "display_data"
    }
   ],
   "source": [
    "rep(2, 5)  # повторяет число 2 целых 5 раз"
   ]
  },
  {
   "cell_type": "code",
   "execution_count": 3,
   "metadata": {},
   "outputs": [
    {
     "data": {
      "text/html": [
       "<ol class=list-inline>\n",
       "\t<li>0</li>\n",
       "\t<li>0.2</li>\n",
       "\t<li>0.4</li>\n",
       "\t<li>0.6</li>\n",
       "\t<li>0.8</li>\n",
       "\t<li>1</li>\n",
       "</ol>\n"
      ],
      "text/latex": [
       "\\begin{enumerate*}\n",
       "\\item 0\n",
       "\\item 0.2\n",
       "\\item 0.4\n",
       "\\item 0.6\n",
       "\\item 0.8\n",
       "\\item 1\n",
       "\\end{enumerate*}\n"
      ],
      "text/markdown": [
       "1. 0\n",
       "2. 0.2\n",
       "3. 0.4\n",
       "4. 0.6\n",
       "5. 0.8\n",
       "6. 1\n",
       "\n",
       "\n"
      ],
      "text/plain": [
       "[1] 0.0 0.2 0.4 0.6 0.8 1.0"
      ]
     },
     "metadata": {},
     "output_type": "display_data"
    }
   ],
   "source": [
    "seq(0, 1, 0.2)  # выдаёт все числа от 0 до 1 с шагом 0.2 "
   ]
  },
  {
   "cell_type": "code",
   "execution_count": 4,
   "metadata": {},
   "outputs": [
    {
     "data": {
      "text/html": [
       "<ol class=list-inline>\n",
       "\t<li>1</li>\n",
       "\t<li>-1</li>\n",
       "\t<li>2</li>\n",
       "</ol>\n"
      ],
      "text/latex": [
       "\\begin{enumerate*}\n",
       "\\item 1\n",
       "\\item -1\n",
       "\\item 2\n",
       "\\end{enumerate*}\n"
      ],
      "text/markdown": [
       "1. 1\n",
       "2. -1\n",
       "3. 2\n",
       "\n",
       "\n"
      ],
      "text/plain": [
       "[1]  1 -1  2"
      ]
     },
     "metadata": {},
     "output_type": "display_data"
    }
   ],
   "source": [
    "x <- c(1, 2, 3)\n",
    "y <- c(2, -1, 4)\n",
    "z <- c(3, 5, 2)\n",
    "\n",
    "pmin(x, y, z)   # находит поэлементные минимумы во всех векторах"
   ]
  },
  {
   "cell_type": "code",
   "execution_count": 5,
   "metadata": {},
   "outputs": [
    {
     "data": {
      "text/html": [
       "3"
      ],
      "text/latex": [
       "3"
      ],
      "text/markdown": [
       "3"
      ],
      "text/plain": [
       "[1] 3"
      ]
     },
     "metadata": {},
     "output_type": "display_data"
    }
   ],
   "source": [
    "which.max(x) # выдаёт позицию максимума"
   ]
  },
  {
   "cell_type": "code",
   "execution_count": 6,
   "metadata": {},
   "outputs": [
    {
     "data": {
      "text/html": [
       "<ol class=list-inline>\n",
       "\t<li>1</li>\n",
       "\t<li>2</li>\n",
       "\t<li>6</li>\n",
       "</ol>\n"
      ],
      "text/latex": [
       "\\begin{enumerate*}\n",
       "\\item 1\n",
       "\\item 2\n",
       "\\item 6\n",
       "\\end{enumerate*}\n"
      ],
      "text/markdown": [
       "1. 1\n",
       "2. 2\n",
       "3. 6\n",
       "\n",
       "\n"
      ],
      "text/plain": [
       "[1] 1 2 6"
      ]
     },
     "metadata": {},
     "output_type": "display_data"
    }
   ],
   "source": [
    "cumprod(x)  # кумулятивное (накапливающееся) произведение\n",
    "# 1, 1*2, 1*2*3 и тд"
   ]
  },
  {
   "cell_type": "code",
   "execution_count": 7,
   "metadata": {},
   "outputs": [
    {
     "data": {
      "text/html": [
       "<ol class=list-inline>\n",
       "\t<li>1</li>\n",
       "\t<li>3</li>\n",
       "\t<li>6</li>\n",
       "</ol>\n"
      ],
      "text/latex": [
       "\\begin{enumerate*}\n",
       "\\item 1\n",
       "\\item 3\n",
       "\\item 6\n",
       "\\end{enumerate*}\n"
      ],
      "text/markdown": [
       "1. 1\n",
       "2. 3\n",
       "3. 6\n",
       "\n",
       "\n"
      ],
      "text/plain": [
       "[1] 1 3 6"
      ]
     },
     "metadata": {},
     "output_type": "display_data"
    }
   ],
   "source": [
    "cumsum(x)  # кумулятивная сумма\n",
    "# 1, 1 + 2, 1 + 2 + 3 и тд "
   ]
  },
  {
   "cell_type": "code",
   "execution_count": 8,
   "metadata": {},
   "outputs": [
    {
     "name": "stdout",
     "output_type": "stream",
     "text": [
      "[1] 25\n",
      "[1] 5929\n",
      "[1] 9\n"
     ]
    }
   ],
   "source": [
    "# В R можно писать вот такие пафосные циклы:\n",
    "# item будет по очереди принимать все значения из списка c(5,77,3)\n",
    "# это питоновский стиль написания циклов, привыкайте :)\n",
    "\n",
    "for(item in c(5,77,3)){\n",
    "    print(item^2)\n",
    "}"
   ]
  },
  {
   "cell_type": "markdown",
   "metadata": {},
   "source": [
    "## 1. Мелкие рыбёшки\n",
    "\n",
    "В этом разделе вас ждёт много довольно простых задачек. "
   ]
  },
  {
   "cell_type": "markdown",
   "metadata": {},
   "source": [
    "### [2]  Задачка 1 (скучная) \n",
    "\n",
    "В R [куча встроенных наборов данных.](https://vincentarelbundock.github.io/Rdatasets/datasets.html) Например, в наборе данных `women` лежит немного данных про рост и вес американских женщин. "
   ]
  },
  {
   "cell_type": "code",
   "execution_count": 9,
   "metadata": {},
   "outputs": [
    {
     "data": {
      "text/html": [
       "<table>\n",
       "<thead><tr><th scope=col>height</th><th scope=col>weight</th></tr></thead>\n",
       "<tbody>\n",
       "\t<tr><td>58 </td><td>115</td></tr>\n",
       "\t<tr><td>59 </td><td>117</td></tr>\n",
       "\t<tr><td>60 </td><td>120</td></tr>\n",
       "\t<tr><td>61 </td><td>123</td></tr>\n",
       "\t<tr><td>62 </td><td>126</td></tr>\n",
       "</tbody>\n",
       "</table>\n"
      ],
      "text/latex": [
       "\\begin{tabular}{r|ll}\n",
       " height & weight\\\\\n",
       "\\hline\n",
       "\t 58  & 115\\\\\n",
       "\t 59  & 117\\\\\n",
       "\t 60  & 120\\\\\n",
       "\t 61  & 123\\\\\n",
       "\t 62  & 126\\\\\n",
       "\\end{tabular}\n"
      ],
      "text/markdown": [
       "\n",
       "| height | weight |\n",
       "|---|---|\n",
       "| 58  | 115 |\n",
       "| 59  | 117 |\n",
       "| 60  | 120 |\n",
       "| 61  | 123 |\n",
       "| 62  | 126 |\n",
       "\n"
      ],
      "text/plain": [
       "  height weight\n",
       "1 58     115   \n",
       "2 59     117   \n",
       "3 60     120   \n",
       "4 61     123   \n",
       "5 62     126   "
      ]
     },
     "metadata": {},
     "output_type": "display_data"
    }
   ],
   "source": [
    "head(women,5)  # команда head позволяет посмотреть на\n",
    "               # первые пять строк таблички "
   ]
  },
  {
   "cell_type": "markdown",
   "metadata": {},
   "source": [
    "* Постройте гистограмму с распределением веса женщин\n",
    "* Постройте эмпирическую функцию распределения для веса женщин\n",
    "* Постройте scatterplot веса и роста\n",
    "\n",
    "Найдите базовые характеристики распределения:\n",
    "\n",
    "* средний вес женщины\n",
    "* медианный вес женщины\n",
    "* дисперсию веса женщины\n",
    "* среднее квадратическое отклонения веса женщин\n",
    "* эмпирические квантили уровня 5%, 50% и 95%. \n",
    "* правда ли, что 50% квантиль совпал с медианой? А почему?\n",
    "* почему я выбрал для этого задания именно этот датасет?  **(За правильный ответ на этот вопрос плюс 4 балла)**"
   ]
  },
  {
   "cell_type": "code",
   "execution_count": 31,
   "metadata": {},
   "outputs": [],
   "source": [
    "x = women$weight"
   ]
  },
  {
   "cell_type": "code",
   "execution_count": 36,
   "metadata": {},
   "outputs": [
    {
     "data": {
      "image/png": "[encoded data removed]",
      "text/plain": [
       "plot without title"
      ]
     },
     "metadata": {},
     "output_type": "display_data"
    }
   ],
   "source": [
    "qplot(x, bins=7)"
   ]
  },
  {
   "cell_type": "code",
   "execution_count": 37,
   "metadata": {},
   "outputs": [
    {
     "data": {
      "image/png": "[encoded data removed]",
      "text/plain": [
       "plot without title"
      ]
     },
     "metadata": {},
     "output_type": "display_data"
    }
   ],
   "source": [
    "ggplot(women, aes(x = weight)) + stat_ecdf( )"
   ]
  },
  {
   "cell_type": "code",
   "execution_count": 38,
   "metadata": {},
   "outputs": [
    {
     "data": {
      "image/png": "[encoded data removed]",
      "text/plain": [
       "plot without title"
      ]
     },
     "metadata": {},
     "output_type": "display_data"
    }
   ],
   "source": [
    "qplot(women$weight, women$height)"
   ]
  },
  {
   "cell_type": "code",
   "execution_count": 27,
   "metadata": {},
   "outputs": [
    {
     "data": {
      "text/html": [
       "136.733333333333"
      ],
      "text/latex": [
       "136.733333333333"
      ],
      "text/markdown": [
       "136.733333333333"
      ],
      "text/plain": [
       "[1] 136.7333"
      ]
     },
     "metadata": {},
     "output_type": "display_data"
    },
    {
     "data": {
      "text/html": [
       "135"
      ],
      "text/latex": [
       "135"
      ],
      "text/markdown": [
       "135"
      ],
      "text/plain": [
       "[1] 135"
      ]
     },
     "metadata": {},
     "output_type": "display_data"
    }
   ],
   "source": [
    "mean(x)\n",
    "median(x)"
   ]
  },
  {
   "cell_type": "code",
   "execution_count": 29,
   "metadata": {},
   "outputs": [
    {
     "data": {
      "text/html": [
       "240.209523809524"
      ],
      "text/latex": [
       "240.209523809524"
      ],
      "text/markdown": [
       "240.209523809524"
      ],
      "text/plain": [
       "[1] 240.2095"
      ]
     },
     "metadata": {},
     "output_type": "display_data"
    },
    {
     "data": {
      "text/html": [
       "15.4986942614378"
      ],
      "text/latex": [
       "15.4986942614378"
      ],
      "text/markdown": [
       "15.4986942614378"
      ],
      "text/plain": [
       "[1] 15.49869"
      ]
     },
     "metadata": {},
     "output_type": "display_data"
    }
   ],
   "source": [
    "var(x)\n",
    "sd(x)"
   ]
  },
  {
   "cell_type": "code",
   "execution_count": 30,
   "metadata": {},
   "outputs": [
    {
     "data": {
      "text/html": [
       "<dl class=dl-horizontal>\n",
       "\t<dt>5%</dt>\n",
       "\t\t<dd>116.4</dd>\n",
       "\t<dt>50%</dt>\n",
       "\t\t<dd>135</dd>\n",
       "\t<dt>95%</dt>\n",
       "\t\t<dd>160.5</dd>\n",
       "</dl>\n"
      ],
      "text/latex": [
       "\\begin{description*}\n",
       "\\item[5\\textbackslash{}\\%] 116.4\n",
       "\\item[50\\textbackslash{}\\%] 135\n",
       "\\item[95\\textbackslash{}\\%] 160.5\n",
       "\\end{description*}\n"
      ],
      "text/markdown": [
       "5%\n",
       ":   116.450%\n",
       ":   13595%\n",
       ":   160.5\n",
       "\n"
      ],
      "text/plain": [
       "   5%   50%   95% \n",
       "116.4 135.0 160.5 "
      ]
     },
     "metadata": {},
     "output_type": "display_data"
    }
   ],
   "source": [
    "quantile(x,c(0.05, 0.5, 0.95))"
   ]
  },
  {
   "cell_type": "code",
   "execution_count": null,
   "metadata": {},
   "outputs": [],
   "source": [
    "# да правда, она и есть 50% квантиль "
   ]
  },
  {
   "cell_type": "code",
   "execution_count": null,
   "metadata": {},
   "outputs": [],
   "source": [
    "# не буду тут это писать, спросите лично"
   ]
  },
  {
   "cell_type": "markdown",
   "metadata": {},
   "source": [
    "### [2]  Задачка 2 \n",
    "Случайная величина $X$ имеет распределение Пуассона с $\\lambda = 2$. Иногда пишут, что $X \\sim Pois(2)$. С помощью симуляций оцените $P(X > 10)$, $P(X > 10 \\mid X > 5)$, $P(X > 5 \\cap X < 7)$, а также $E(X^7)$ и $E(X \\mid X > 5)$. "
   ]
  },
  {
   "cell_type": "markdown",
   "metadata": {},
   "source": [
    "__Решение:__ Всегда, когда генерируете какую-то случайную величину, стаьте `seed` для воспроизводимости. Мало ли я перезапущу ваш код, а там сгенерируется совсем другое... "
   ]
  },
  {
   "cell_type": "code",
   "execution_count": 15,
   "metadata": {},
   "outputs": [
    {
     "data": {
      "text/html": [
       "1.999915"
      ],
      "text/latex": [
       "1.999915"
      ],
      "text/markdown": [
       "1.999915"
      ],
      "text/plain": [
       "[1] 1.999915"
      ]
     },
     "metadata": {},
     "output_type": "display_data"
    }
   ],
   "source": [
    "set.seed(42) # ставьте всегда како\n",
    "\n",
    "n_obs = 10^6 \n",
    "x <- rpois(n_obs, lambda = 2) # сгенерировали выборку\n",
    "\n",
    "mean(x)"
   ]
  },
  {
   "cell_type": "markdown",
   "metadata": {},
   "source": [
    "Ещё имеет смысл проверить правда ли оценка $\\lambda$ после генерации равна $2$. Если отличается, не очень хорошо. Всегда, когда делаете генерации, чётко следите за тем, что в вашей выборке предпосылки $\\pm$ выполнены."
   ]
  },
  {
   "cell_type": "code",
   "execution_count": 21,
   "metadata": {},
   "outputs": [
    {
     "data": {
      "text/html": [
       "1.2e-05"
      ],
      "text/latex": [
       "1.2e-05"
      ],
      "text/markdown": [
       "1.2e-05"
      ],
      "text/plain": [
       "[1] 1.2e-05"
      ]
     },
     "metadata": {},
     "output_type": "display_data"
    },
    {
     "data": {
      "text/html": [
       "8.30822436848067e-06"
      ],
      "text/latex": [
       "8.30822436848067e-06"
      ],
      "text/markdown": [
       "8.30822436848067e-06"
      ],
      "text/plain": [
       "[1] 8.308224e-06"
      ]
     },
     "metadata": {},
     "output_type": "display_data"
    }
   ],
   "source": [
    "# P(X > 10)\n",
    "mean(x > 10)\n",
    "# либо \n",
    "1 - ppois(10, lambda = 2)"
   ]
  },
  {
   "cell_type": "code",
   "execution_count": 22,
   "metadata": {},
   "outputs": [
    {
     "data": {
      "text/html": [
       "0.000732019764533642"
      ],
      "text/latex": [
       "0.000732019764533642"
      ],
      "text/markdown": [
       "0.000732019764533642"
      ],
      "text/plain": [
       "[1] 0.0007320198"
      ]
     },
     "metadata": {},
     "output_type": "display_data"
    }
   ],
   "source": [
    "# P(X > 10 | X > 5)\n",
    "mean(x[x > 5] > 10)"
   ]
  },
  {
   "cell_type": "code",
   "execution_count": 24,
   "metadata": {},
   "outputs": [
    {
     "data": {
      "text/html": [
       "0.012013"
      ],
      "text/latex": [
       "0.012013"
      ],
      "text/markdown": [
       "0.012013"
      ],
      "text/plain": [
       "[1] 0.012013"
      ]
     },
     "metadata": {},
     "output_type": "display_data"
    }
   ],
   "source": [
    "# P(X > 5 & X < 7)\n",
    "mean((x > 5) & (x < 7))"
   ]
  },
  {
   "cell_type": "code",
   "execution_count": 25,
   "metadata": {},
   "outputs": [
    {
     "data": {
      "text/html": [
       "13939.332037"
      ],
      "text/latex": [
       "13939.332037"
      ],
      "text/markdown": [
       "13939.332037"
      ],
      "text/plain": [
       "[1] 13939.33"
      ]
     },
     "metadata": {},
     "output_type": "display_data"
    }
   ],
   "source": [
    "# E(X^7)\n",
    "mean(x**7)"
   ]
  },
  {
   "cell_type": "code",
   "execution_count": 26,
   "metadata": {},
   "outputs": [
    {
     "data": {
      "text/html": [
       "6.34545232721283"
      ],
      "text/latex": [
       "6.34545232721283"
      ],
      "text/markdown": [
       "6.34545232721283"
      ],
      "text/plain": [
       "[1] 6.345452"
      ]
     },
     "metadata": {},
     "output_type": "display_data"
    }
   ],
   "source": [
    "#E(X | X > 5)\n",
    "mean(x[x > 5])"
   ]
  },
  {
   "cell_type": "markdown",
   "metadata": {},
   "source": [
    "### [1] Задачка 3 \n",
    "\n",
    "Предположим, что вы получаете в среднем три спам-письма в день. Какова доля дней, в которые вы получаете пять или больше спам-писем?\n",
    "\n",
    "__Решение:__ Нам дана свобода мыслить как мы хотим. Предполагаля примерно такой ход мыслей: спам-письма это случайная величниа счётчик, наверное, её логично моделировать распределением Пуассона. Но если вы взяли любое другое распределение, тоже ок. \n",
    "\n",
    "Можно было найти вероятность либо через функцию распределения:"
   ]
  },
  {
   "cell_type": "code",
   "execution_count": 7,
   "metadata": {},
   "outputs": [
    {
     "data": {
      "text/html": [
       "0.184736755476228"
      ],
      "text/latex": [
       "0.184736755476228"
      ],
      "text/markdown": [
       "0.184736755476228"
      ],
      "text/plain": [
       "[1] 0.1847368"
      ]
     },
     "metadata": {},
     "output_type": "display_data"
    }
   ],
   "source": [
    "# 1 - P(X <= 4) = 1 - F(4)\n",
    "1 - ppois(4, lambda=3)"
   ]
  },
  {
   "cell_type": "markdown",
   "metadata": {},
   "source": [
    "либо напрямую через вероятности:"
   ]
  },
  {
   "cell_type": "code",
   "execution_count": 6,
   "metadata": {},
   "outputs": [
    {
     "data": {
      "text/html": [
       "0.184736755476228"
      ],
      "text/latex": [
       "0.184736755476228"
      ],
      "text/markdown": [
       "0.184736755476228"
      ],
      "text/plain": [
       "[1] 0.1847368"
      ]
     },
     "metadata": {},
     "output_type": "display_data"
    }
   ],
   "source": [
    "# 1 - [P(X = 0) + P(X = 1) + ... + P(X = 4)]\n",
    "1 - (dpois(0, lambda=3) + dpois(1, lambda=3) + dpois(2, lambda=3) + dpois(3, lambda=3) +  dpois(4, lambda=3))"
   ]
  },
  {
   "cell_type": "markdown",
   "metadata": {},
   "source": [
    "### [4] Задачка 4\n",
    "\n",
    "Куратор Вова случайным образом с возможностью повторов выбирает $5$ наутральных чисел от $1$ до $100$. После выбора он раздаёт эти числа $5$ второкурсникам. Каждый второкурсник берёт экспоненциальное распределение $Exp(\\lambda_i)$, где $\\lambda_i$ - число, выданное Вовой и выбрасывает из него случайное число. Получаются случайные величины $X_1, X_2, X_3, X_4$ и $X_5$. \n",
    "\n",
    "После этого Вова собирает все выпавшие числа назад и вычисляет \n",
    "\n",
    "$$ Y_1 = \\min(X_1, \\ldots, X_5), \\qquad Y_2 = \\max(X_1, \\ldots, X_5)$$\n",
    "\n",
    "а также \n",
    "\n",
    "$$ Z = \\frac{Y_1}{Y_1 + Y_2}.$$\n",
    "\n",
    "С помощью симуляций оцените: \n",
    "\n",
    "a) $P(Y_2 > 3 Y_1)$"
   ]
  },
  {
   "cell_type": "code",
   "execution_count": 65,
   "metadata": {},
   "outputs": [],
   "source": [
    "n_obs <- 10^6\n",
    "\n",
    "x1 <- rep(0, n_obs)\n",
    "y1 <- rep(0, n_obs)\n",
    "y2 <- rep(0, n_obs)\n",
    "\n",
    "for(i in 1:n_obs){\n",
    "    x = sample(size=5, x=1:100, replace = TRUE)\n",
    "\n",
    "    cur = rep(0, 5)\n",
    "    \n",
    "    for(j in 1:5){\n",
    "        # важно! вектор иксов - один, их не два! \n",
    "        cur[j] = rexp(1, rate = x[j])\n",
    "    }\n",
    "    \n",
    "    x1[i] = cur[1]\n",
    "    y1[i] = min(cur)\n",
    "    y2[i] = max(cur)\n",
    "}\n",
    "\n",
    "z = y1/(y1 + y2)"
   ]
  },
  {
   "cell_type": "code",
   "execution_count": 58,
   "metadata": {},
   "outputs": [
    {
     "data": {
      "text/html": [
       "0.981278"
      ],
      "text/latex": [
       "0.981278"
      ],
      "text/markdown": [
       "0.981278"
      ],
      "text/plain": [
       "[1] 0.981278"
      ]
     },
     "metadata": {},
     "output_type": "display_data"
    }
   ],
   "source": [
    "mean(y2 > 3*y1)"
   ]
  },
  {
   "cell_type": "markdown",
   "metadata": {},
   "source": [
    "б) $E(Z)$ и $Var(Z)$ \n"
   ]
  },
  {
   "cell_type": "code",
   "execution_count": 59,
   "metadata": {},
   "outputs": [
    {
     "data": {
      "text/html": [
       "0.0554447513555817"
      ],
      "text/latex": [
       "0.0554447513555817"
      ],
      "text/markdown": [
       "0.0554447513555817"
      ],
      "text/plain": [
       "[1] 0.05544475"
      ]
     },
     "metadata": {},
     "output_type": "display_data"
    },
    {
     "data": {
      "text/html": [
       "0.00398526420289146"
      ],
      "text/latex": [
       "0.00398526420289146"
      ],
      "text/markdown": [
       "0.00398526420289146"
      ],
      "text/plain": [
       "[1] 0.003985264"
      ]
     },
     "metadata": {},
     "output_type": "display_data"
    }
   ],
   "source": [
    "mean(z)\n",
    "var(z)"
   ]
  },
  {
   "cell_type": "markdown",
   "metadata": {},
   "source": [
    "в) $P(Y_2 > 3 \\cdot Y_1 \\mid Z > 0.5)$"
   ]
  },
  {
   "cell_type": "code",
   "execution_count": 60,
   "metadata": {},
   "outputs": [
    {
     "data": {
      "text/html": [
       "0"
      ],
      "text/latex": [
       "0"
      ],
      "text/markdown": [
       "0"
      ],
      "text/plain": [
       "[1] 0"
      ]
     },
     "metadata": {},
     "output_type": "display_data"
    }
   ],
   "source": [
    "usl = z > 0.5\n",
    "sum(usl) # =( "
   ]
  },
  {
   "cell_type": "code",
   "execution_count": 64,
   "metadata": {},
   "outputs": [],
   "source": [
    "# Неудачно я этот пункт сформулировал :("
   ]
  },
  {
   "cell_type": "markdown",
   "metadata": {},
   "source": [
    "г) $E(Z \\mid X_1 > 80)$"
   ]
  },
  {
   "cell_type": "code",
   "execution_count": 66,
   "metadata": {},
   "outputs": [
    {
     "data": {
      "text/html": [
       "NaN"
      ],
      "text/latex": [
       "NaN"
      ],
      "text/markdown": [
       "NaN"
      ],
      "text/plain": [
       "[1] NaN"
      ]
     },
     "metadata": {},
     "output_type": "display_data"
    }
   ],
   "source": [
    "mean(z[x1 > 80])"
   ]
  },
  {
   "cell_type": "markdown",
   "metadata": {},
   "source": [
    "д) $Corr(Z, Y_1)$, $Corr(Z, Y_2)$, $Corr(Y_1, Y_2)$"
   ]
  },
  {
   "cell_type": "code",
   "execution_count": 67,
   "metadata": {},
   "outputs": [
    {
     "data": {
      "text/html": [
       "0.537071232229612"
      ],
      "text/latex": [
       "0.537071232229612"
      ],
      "text/markdown": [
       "0.537071232229612"
      ],
      "text/plain": [
       "[1] 0.5370712"
      ]
     },
     "metadata": {},
     "output_type": "display_data"
    },
    {
     "data": {
      "text/html": [
       "-0.272801725585534"
      ],
      "text/latex": [
       "-0.272801725585534"
      ],
      "text/markdown": [
       "-0.272801725585534"
      ],
      "text/plain": [
       "[1] -0.2728017"
      ]
     },
     "metadata": {},
     "output_type": "display_data"
    },
    {
     "data": {
      "text/html": [
       "0.0879505932042007"
      ],
      "text/latex": [
       "0.0879505932042007"
      ],
      "text/markdown": [
       "0.0879505932042007"
      ],
      "text/plain": [
       "[1] 0.08795059"
      ]
     },
     "metadata": {},
     "output_type": "display_data"
    }
   ],
   "source": [
    "# Тут надо было спросить у вас про интуицию, и только потом просить генерить\n",
    "cor(z, y1)\n",
    "cor(z, y2)\n",
    "cor(y1, y2)"
   ]
  },
  {
   "cell_type": "markdown",
   "metadata": {},
   "source": [
    "е) постройте гистограмму для случайной величины $Z$\n"
   ]
  },
  {
   "cell_type": "code",
   "execution_count": 68,
   "metadata": {},
   "outputs": [
    {
     "data": {
      "image/png": "[encoded data removed]",
      "text/plain": [
       "plot without title"
      ]
     },
     "metadata": {},
     "output_type": "display_data"
    }
   ],
   "source": [
    "qplot(z, bins=100)"
   ]
  },
  {
   "cell_type": "markdown",
   "metadata": {},
   "source": [
    "### [2] Задачка 5\n",
    "\n",
    "Юра завёл себе две нейросетки и два сервера и начал их обучать. Две нейросети обучаются независимо на двух серверах. Время их обучения $T_1$ и $T_2$ равномерно распределено на отрезке $[1;3]$ (обучение измеряется в минутах). В процессе обучения сервер может упасть. Момент падения сервера $T$ распределён экспоненциально с параметром $\\lambda = 0.3$. Момент падаения сервера не зависит от времени обучения нейросеток. Известно, что одна из нейросетей успела обучиться, а вторая не успела. Какова вероятность того, что $T \\le 1.5$?\n",
    "\n",
    "**Hint:** при решении задачи помните о том, что у вас две нейросетки!"
   ]
  },
  {
   "cell_type": "code",
   "execution_count": 70,
   "metadata": {},
   "outputs": [],
   "source": [
    "T1 <- runif(n_obs, min = 1, max = 3)\n",
    "T2 <- 3*runif(n_obs) + 1  # то же самое можно сгенеить вот так\n",
    "\n",
    "T <- rexp(n_obs, rate = 0.3) "
   ]
  },
  {
   "cell_type": "markdown",
   "metadata": {},
   "source": [
    "Тут генерация на формулу Байеса, но для непрерывных случайных велчин. У нас есть бсесконечное число гипотез, нас интересует отрезок $T \\le 1.5$ для пересчёта :) "
   ]
  },
  {
   "cell_type": "code",
   "execution_count": 73,
   "metadata": {},
   "outputs": [
    {
     "data": {
      "text/html": [
       "0.142045"
      ],
      "text/latex": [
       "0.142045"
      ],
      "text/markdown": [
       "0.142045"
      ],
      "text/plain": [
       "[1] 0.142045"
      ]
     },
     "metadata": {},
     "output_type": "display_data"
    }
   ],
   "source": [
    "usl1 = (T1 >= T)&(T2 < T) # Первая не смогла обучиться, вторая смогла \n",
    "usl2 = (T1 < T)&(T2 >= T) # Наоборот \n",
    "\n",
    "# оценка для полной вероятности (кстати говоря, так то она не нужна) \n",
    "mean(usl1 | usl2)"
   ]
  },
  {
   "cell_type": "code",
   "execution_count": 74,
   "metadata": {},
   "outputs": [
    {
     "data": {
      "text/html": [
       "0.127269527262487"
      ],
      "text/latex": [
       "0.127269527262487"
      ],
      "text/markdown": [
       "0.127269527262487"
      ],
      "text/plain": [
       "[1] 0.1272695"
      ]
     },
     "metadata": {},
     "output_type": "display_data"
    }
   ],
   "source": [
    "# Находим нужную вероятность \n",
    "mean(T[usl1 | usl2] <= 1.5)"
   ]
  },
  {
   "cell_type": "code",
   "execution_count": 75,
   "metadata": {},
   "outputs": [
    {
     "data": {
      "text/html": [
       "142045"
      ],
      "text/latex": [
       "142045"
      ],
      "text/markdown": [
       "142045"
      ],
      "text/plain": [
       "[1] 142045"
      ]
     },
     "metadata": {},
     "output_type": "display_data"
    }
   ],
   "source": [
    "length(T[usl1 | usl2]) # проверка достаточно ли событий для оценки"
   ]
  },
  {
   "cell_type": "markdown",
   "metadata": {},
   "source": [
    "__Важно!__ Если вы оцениваете вероятность как сумму делить на сумму, то тут нужно делить не на `n_obs`, а на `sum(usl1 | usl2)`, так как известно, что одна из нейросетей упала."
   ]
  },
  {
   "cell_type": "code",
   "execution_count": 76,
   "metadata": {},
   "outputs": [
    {
     "data": {
      "text/html": [
       "0.127269527262487"
      ],
      "text/latex": [
       "0.127269527262487"
      ],
      "text/markdown": [
       "0.127269527262487"
      ],
      "text/plain": [
       "[1] 0.1272695"
      ]
     },
     "metadata": {},
     "output_type": "display_data"
    }
   ],
   "source": [
    "sum(T[usl1 | usl2] <= 1.5)/sum(usl1 | usl2)"
   ]
  },
  {
   "cell_type": "markdown",
   "metadata": {},
   "source": [
    "### [4] Задачка 6\n",
    "\n",
    "Каждый день Света съедает случайное количество булочек, которое распределено по Пуассону с параметром $10$. Логарифм затрат в рублях на каждую булочку распределён нормально $N(2,1)$. Ксюша каждый день съедает биномиальное количество булочек $Bin(8, 0.5)$. Затраты Ксюши на каждую булочку распределены равномерно на отрезке $[2;20]$. "
   ]
  },
  {
   "cell_type": "markdown",
   "metadata": {},
   "source": [
    "__Решение:__ можно прочесть задачу двояко. Первый вариант: цена на все булочки в рамках одного дня одинаковая. Второй вариант: цена на каждую булочку в течение дня случайная. Я имел в виду первый вариант. "
   ]
  },
  {
   "cell_type": "markdown",
   "metadata": {},
   "source": [
    "__а)__ Сколько в среднем Света тратит на булочки за день? "
   ]
  },
  {
   "cell_type": "code",
   "execution_count": 117,
   "metadata": {},
   "outputs": [
    {
     "data": {
      "text/html": [
       "121.464597795492"
      ],
      "text/latex": [
       "121.464597795492"
      ],
      "text/markdown": [
       "121.464597795492"
      ],
      "text/plain": [
       "[1] 121.4646"
      ]
     },
     "metadata": {},
     "output_type": "display_data"
    }
   ],
   "source": [
    "n_obs = 10^6\n",
    "x1 = rpois(n_obs, lambda = 10)   # спрос светы на булочки\n",
    "p1 = rnorm(n_obs, mean=2, sd=1)  # цена булочек \n",
    "\n",
    "costs1 = exp(p1)*x1  # расхрды Светы \n",
    "mean(costs1)"
   ]
  },
  {
   "cell_type": "markdown",
   "metadata": {},
   "source": [
    "__б)__ Чему равна дисперсия дневных расходов Светы? "
   ]
  },
  {
   "cell_type": "code",
   "execution_count": 118,
   "metadata": {},
   "outputs": [
    {
     "data": {
      "text/html": [
       "29537.2195590307"
      ],
      "text/latex": [
       "29537.2195590307"
      ],
      "text/markdown": [
       "29537.2195590307"
      ],
      "text/plain": [
       "[1] 29537.22"
      ]
     },
     "metadata": {},
     "output_type": "display_data"
    }
   ],
   "source": [
    "var(costs1)"
   ]
  },
  {
   "cell_type": "markdown",
   "metadata": {},
   "source": [
    "__в)__ Какова вероятность того, что за один день Света потратит больше денег, чем Ксюша? "
   ]
  },
  {
   "cell_type": "code",
   "execution_count": 122,
   "metadata": {},
   "outputs": [
    {
     "data": {
      "text/html": [
       "44.052747138581"
      ],
      "text/latex": [
       "44.052747138581"
      ],
      "text/markdown": [
       "44.052747138581"
      ],
      "text/plain": [
       "[1] 44.05275"
      ]
     },
     "metadata": {},
     "output_type": "display_data"
    }
   ],
   "source": [
    "# Осторожнее! В rbinom аргумент n - число генераций, size - число испытаний!\n",
    "# rbinom(n, size, prob)\n",
    "# https://www.tutorialspoint.com/r/r_binomial_distribution.htm\n",
    "\n",
    "x2 = rbinom(n_obs, size = 8, prob = 0.5)  # спрос светы на булочки\n",
    "p2 = runif(n_obs, min=2, max=20)          # цена булочек \n",
    "\n",
    "costs2 = p2*x2  # расходы Ксюши\n",
    "mean(costs2)"
   ]
  },
  {
   "cell_type": "code",
   "execution_count": 123,
   "metadata": {},
   "outputs": [
    {
     "data": {
      "text/html": [
       "0.698293"
      ],
      "text/latex": [
       "0.698293"
      ],
      "text/markdown": [
       "0.698293"
      ],
      "text/plain": [
       "[1] 0.698293"
      ]
     },
     "metadata": {},
     "output_type": "display_data"
    }
   ],
   "source": [
    "# нужная вероятность\n",
    "mean(costs1 > costs2)"
   ]
  },
  {
   "cell_type": "markdown",
   "metadata": {},
   "source": [
    "__г)__ Какова условная вероятность того, что Света за день съела больше булочек, чем Ксюша, если известно, что Ксюша потратила больше денег? "
   ]
  },
  {
   "cell_type": "code",
   "execution_count": 124,
   "metadata": {},
   "outputs": [
    {
     "data": {
      "text/html": [
       "0.898308623929839"
      ],
      "text/latex": [
       "0.898308623929839"
      ],
      "text/markdown": [
       "0.898308623929839"
      ],
      "text/plain": [
       "[1] 0.8983086"
      ]
     },
     "metadata": {},
     "output_type": "display_data"
    }
   ],
   "source": [
    "usl <- costs1 < costs2\n",
    "mean(x1[usl] > x2[usl])"
   ]
  },
  {
   "cell_type": "code",
   "execution_count": 125,
   "metadata": {},
   "outputs": [
    {
     "data": {
      "text/html": [
       "301707"
      ],
      "text/latex": [
       "301707"
      ],
      "text/markdown": [
       "301707"
      ],
      "text/plain": [
       "[1] 301707"
      ]
     },
     "metadata": {},
     "output_type": "display_data"
    }
   ],
   "source": [
    "sum(usl) # много ли у нас примеров для оценивания"
   ]
  },
  {
   "cell_type": "markdown",
   "metadata": {},
   "source": [
    "### [3] Задачка 7\n",
    "\n",
    "Удав Анатолий любит французские багеты. Длина французского багета равна $1$ метру. За один заглот Удав Анатолий заглатывает кусок случайной длины равномерно распределённый на отрезке $[0;1]$. Для того, чтобы съесть весь багет удаву потребуется случайное количество $N$ заглотов. \n",
    "\n",
    "Найдите $E(N)$ и $Var(N)$. Как поменяются ответы, если багет имеет длину $2$ метра? \n",
    "\n",
    "Кстати говоря, эту задачку можно решить руками с помощью метода первого шага. Его мы разберём на второй паре. Правда для этого придётся выписать систему из двух уравниний с интегралами. В сборнике сложных задач по терверу, [культурном коде,](https://github.com/bdemeshev/probability_dna/raw/master/probability_dna.pdf) можно найти три разных решения этой задачки. Она там находится под номером $46$."
   ]
  },
  {
   "cell_type": "code",
   "execution_count": 81,
   "metadata": {},
   "outputs": [
    {
     "data": {
      "text/html": [
       "2"
      ],
      "text/latex": [
       "2"
      ],
      "text/markdown": [
       "2"
      ],
      "text/plain": [
       "[1] 2"
      ]
     },
     "metadata": {},
     "output_type": "display_data"
    }
   ],
   "source": [
    "# Багеты! Давайте начнём с одной итерации эксперемента\n",
    "\n",
    "l = 1 # длина багета\n",
    "m = 0 # число заглотов\n",
    "\n",
    "# пока длина багета больше 0 \n",
    "while(l > 0){\n",
    "    # делай заглоты \n",
    "    l = l - runif(1)\n",
    "    m = m + 1 # на один заглот стало больше\n",
    "}\n",
    "\n",
    "m"
   ]
  },
  {
   "cell_type": "markdown",
   "metadata": {},
   "source": [
    "В принципе это всё. Теперь нужно сделать этот эксперимент с заглотами много-много раз. "
   ]
  },
  {
   "cell_type": "code",
   "execution_count": 84,
   "metadata": {},
   "outputs": [],
   "source": [
    "n_obs <- 10^6\n",
    "N <- rep(0, n_obs)\n",
    "\n",
    "for(i in 1:n_obs){\n",
    "    l = 1 # длина багета\n",
    "    m = 0 # число заглотов\n",
    "\n",
    "    # пока длина багета больше 0 \n",
    "    while(l > 0){\n",
    "        # делай заглоты \n",
    "        l = l - runif(1)\n",
    "        m = m + 1 # на один заглот стало больше\n",
    "    }\n",
    "    N[i] = m # сохранили текущее число заглотов\n",
    "}"
   ]
  },
  {
   "cell_type": "code",
   "execution_count": 83,
   "metadata": {},
   "outputs": [
    {
     "data": {
      "text/html": [
       "2.717215"
      ],
      "text/latex": [
       "2.717215"
      ],
      "text/markdown": [
       "2.717215"
      ],
      "text/plain": [
       "[1] 2.717215"
      ]
     },
     "metadata": {},
     "output_type": "display_data"
    },
    {
     "data": {
      "text/html": [
       "0.764008407783409"
      ],
      "text/latex": [
       "0.764008407783409"
      ],
      "text/markdown": [
       "0.764008407783409"
      ],
      "text/plain": [
       "[1] 0.7640084"
      ]
     },
     "metadata": {},
     "output_type": "display_data"
    }
   ],
   "source": [
    "mean(N)\n",
    "var(N)"
   ]
  },
  {
   "cell_type": "code",
   "execution_count": 85,
   "metadata": {},
   "outputs": [
    {
     "data": {
      "text/html": [
       "4.67248"
      ],
      "text/latex": [
       "4.67248"
      ],
      "text/markdown": [
       "4.67248"
      ],
      "text/plain": [
       "[1] 4.67248"
      ]
     },
     "metadata": {},
     "output_type": "display_data"
    },
    {
     "data": {
      "text/html": [
       "1.54173619133618"
      ],
      "text/latex": [
       "1.54173619133618"
      ],
      "text/markdown": [
       "1.54173619133618"
      ],
      "text/plain": [
       "[1] 1.541736"
      ]
     },
     "metadata": {},
     "output_type": "display_data"
    }
   ],
   "source": [
    "# Увеличиваем в коде выше длину багета до 2 и получаем эту строчку \n",
    "mean(N)\n",
    "var(N)"
   ]
  },
  {
   "cell_type": "markdown",
   "metadata": {},
   "source": [
    "### [2] Задачка 8\n",
    "\n",
    "На шнуре длиной $1$ м случайным образом делают два разреза. С какой вероятностью хотя бы один из получившихся кусков будет длиннее $0.5 м$?\n",
    "\n"
   ]
  },
  {
   "cell_type": "code",
   "execution_count": 96,
   "metadata": {},
   "outputs": [
    {
     "data": {
      "text/html": [
       "0.749675"
      ],
      "text/latex": [
       "0.749675"
      ],
      "text/markdown": [
       "0.749675"
      ],
      "text/plain": [
       "[1] 0.749675"
      ]
     },
     "metadata": {},
     "output_type": "display_data"
    }
   ],
   "source": [
    "n_obs = 10^6\n",
    "\n",
    "x1 = runif(n_obs) # первый надрез \n",
    "x2 = runif(n_obs) # второй надрез \n",
    "\n",
    "usl_1 = (x1 < x2)&(x1 > 0.5 | x2 - x1 > 0.5 | 1 - x2 > 0.5)  # первый вариант \n",
    "usl_2 = (x1 >= x2)&(1 - x1 > 0.5 | x1 - x2 > 0.5 | x2 > 0.5) # второй вариант \n",
    "\n",
    "mean(usl_1 | usl_2)"
   ]
  },
  {
   "cell_type": "markdown",
   "metadata": {},
   "source": [
    "### [2] Задачка 9 \n",
    "\n",
    "Семён любит мешать не только джим бим с колой, но и распределения! И вот сейчас две трети её данных идут в смесь из экспоненциального распределения с параметром $\\lambda = 1$, а остальная треть из стандартного нормального. Как это часто бывает, Сёма сначала намешал, а потом чёт подумал подумал и всё Диме отдал. И теперь у Димы проблема со свойствами намешанного распределения.\n",
    "\n",
    "Сгенерируйте выборку из распределения Семёна и помогите Диме оценить математическое ожидание и дисперсию случайной величины, постройте гистограмму. "
   ]
  },
  {
   "cell_type": "code",
   "execution_count": 99,
   "metadata": {},
   "outputs": [
    {
     "data": {
      "text/html": [
       "0.667303342149929"
      ],
      "text/latex": [
       "0.667303342149929"
      ],
      "text/markdown": [
       "0.667303342149929"
      ],
      "text/plain": [
       "[1] 0.6673033"
      ]
     },
     "metadata": {},
     "output_type": "display_data"
    },
    {
     "data": {
      "text/html": [
       "1.21977463188932"
      ],
      "text/latex": [
       "1.21977463188932"
      ],
      "text/markdown": [
       "1.21977463188932"
      ],
      "text/plain": [
       "[1] 1.219775"
      ]
     },
     "metadata": {},
     "output_type": "display_data"
    }
   ],
   "source": [
    "n_obs <- 10^6\n",
    "\n",
    "# round, чтобы код не бросал ошибку\n",
    "X1 <- rexp(round(2/3*n_obs), rate = 1)\n",
    "X2 <- rnorm(round(1/3*n_obs))\n",
    "\n",
    "# объединили в одно целое \n",
    "Y <- c(X1,X2)\n",
    "\n",
    "mean(Y)\n",
    "var(Y)"
   ]
  },
  {
   "cell_type": "code",
   "execution_count": 101,
   "metadata": {},
   "outputs": [
    {
     "data": {
      "image/png": "[encoded data removed]",
      "text/plain": [
       "plot without title"
      ]
     },
     "metadata": {},
     "output_type": "display_data"
    }
   ],
   "source": [
    "qplot(Y, bins=100) # обратите внимание на то, что правый хвост очень длинный "
   ]
  },
  {
   "cell_type": "markdown",
   "metadata": {},
   "source": [
    "### [3] Задачка 10\n",
    "\n",
    "Помните? Мы всё это изучаем, чтобы решать реальные проблемы! С помощью генераций в R мы можем оценить любое математическое ожидание и любые вероятности. Нам позволяет сделать это великий и могучий фундаментальный ЗБЧ!\n",
    "\n",
    "Давайте попробуем проверить несколько свойств математических ожиданий и дисперсий, которые вы доказали на лекциях по теории вероятностей в прошлом семестре. Выберите конкретные случайные величины (любые) и проверьте для них утверждения, перечисленные ниже. "
   ]
  },
  {
   "cell_type": "code",
   "execution_count": 104,
   "metadata": {},
   "outputs": [],
   "source": [
    "# Хочу экспоненциальную и равномерную, нанизанную на экспоненциальную!\n",
    "# Так зависимсоть между величинами будет\n",
    "\n",
    "n_obs = 10^6\n",
    "\n",
    "x = rexp(n_obs, rate = 2)\n",
    "y = x + runif(n_obs, min = 2, max = 5)"
   ]
  },
  {
   "cell_type": "markdown",
   "metadata": {},
   "source": [
    "__a)__ Верно ли, что $E(X + Y) = E(X) + E(Y)$? "
   ]
  },
  {
   "cell_type": "code",
   "execution_count": 105,
   "metadata": {},
   "outputs": [
    {
     "data": {
      "text/html": [
       "4.50134310021882"
      ],
      "text/latex": [
       "4.50134310021882"
      ],
      "text/markdown": [
       "4.50134310021882"
      ],
      "text/plain": [
       "[1] 4.501343"
      ]
     },
     "metadata": {},
     "output_type": "display_data"
    },
    {
     "data": {
      "text/html": [
       "4.50134310021882"
      ],
      "text/latex": [
       "4.50134310021882"
      ],
      "text/markdown": [
       "4.50134310021882"
      ],
      "text/plain": [
       "[1] 4.501343"
      ]
     },
     "metadata": {},
     "output_type": "display_data"
    }
   ],
   "source": [
    "# a) Из курс тервера мы знаем, что это правда всегда \n",
    "mean(x + y)\n",
    "mean(x) + mean(y)"
   ]
  },
  {
   "cell_type": "markdown",
   "metadata": {},
   "source": [
    "__b)__ Верно ли, что $E(X \\cdot Y) = E(X) \\cdot E(Y)$?"
   ]
  },
  {
   "cell_type": "code",
   "execution_count": 106,
   "metadata": {},
   "outputs": [
    {
     "data": {
      "text/html": [
       "2.25191947780228"
      ],
      "text/latex": [
       "2.25191947780228"
      ],
      "text/markdown": [
       "2.25191947780228"
      ],
      "text/plain": [
       "[1] 2.251919"
      ]
     },
     "metadata": {},
     "output_type": "display_data"
    },
    {
     "data": {
      "text/html": [
       "2.00172678986578"
      ],
      "text/latex": [
       "2.00172678986578"
      ],
      "text/markdown": [
       "2.00172678986578"
      ],
      "text/plain": [
       "[1] 2.001727"
      ]
     },
     "metadata": {},
     "output_type": "display_data"
    }
   ],
   "source": [
    "# b) Ну тут явно чего-то не хватает...\n",
    "mean(x*y)\n",
    "mean(x)*mean(y)"
   ]
  },
  {
   "cell_type": "code",
   "execution_count": 107,
   "metadata": {},
   "outputs": [
    {
     "data": {
      "text/html": [
       "2.25191972799522"
      ],
      "text/latex": [
       "2.25191972799522"
      ],
      "text/markdown": [
       "2.25191972799522"
      ],
      "text/plain": [
       "[1] 2.25192"
      ]
     },
     "metadata": {},
     "output_type": "display_data"
    }
   ],
   "source": [
    "# Давайте посмотрим лекции по терверу и вспомним чего не хватает :) \n",
    "mean(x)*mean(y) + cov(x,y)"
   ]
  },
  {
   "cell_type": "markdown",
   "metadata": {},
   "source": [
    "__c)__ Верно ли, что $Var(X + Y) = Var(X) + Var(Y) + 2 \\cdot Cov(X,Y)$? "
   ]
  },
  {
   "cell_type": "code",
   "execution_count": 108,
   "metadata": {},
   "outputs": [
    {
     "data": {
      "text/html": [
       "1.75127922174725"
      ],
      "text/latex": [
       "1.75127922174725"
      ],
      "text/markdown": [
       "1.75127922174725"
      ],
      "text/plain": [
       "[1] 1.751279"
      ]
     },
     "metadata": {},
     "output_type": "display_data"
    },
    {
     "data": {
      "text/html": [
       "1.75127922174725"
      ],
      "text/latex": [
       "1.75127922174725"
      ],
      "text/markdown": [
       "1.75127922174725"
      ],
      "text/plain": [
       "[1] 1.751279"
      ]
     },
     "metadata": {},
     "output_type": "display_data"
    }
   ],
   "source": [
    "#c) Это чистая правда! В лекциях даже доказательство есть!\n",
    "var(x + y)\n",
    "var(x) + var(y) + 2*cov(x,y)"
   ]
  },
  {
   "cell_type": "markdown",
   "metadata": {},
   "source": [
    "__d)__ Верно ли, что $Var(X \\cdot Y) = Var(X) \\cdot Var(Y)$? "
   ]
  },
  {
   "cell_type": "code",
   "execution_count": 109,
   "metadata": {},
   "outputs": [
    {
     "data": {
      "text/html": [
       "8.1879748477371"
      ],
      "text/latex": [
       "8.1879748477371"
      ],
      "text/markdown": [
       "8.1879748477371"
      ],
      "text/plain": [
       "[1] 8.187975"
      ]
     },
     "metadata": {},
     "output_type": "display_data"
    },
    {
     "data": {
      "text/html": [
       "0.250268234210009"
      ],
      "text/latex": [
       "0.250268234210009"
      ],
      "text/markdown": [
       "0.250268234210009"
      ],
      "text/plain": [
       "[1] 0.2502682"
      ]
     },
     "metadata": {},
     "output_type": "display_data"
    }
   ],
   "source": [
    "#d) Ложь! Очередная! А слабо найти правильную формулу? Она довольно неочевидна :)\n",
    "var(x*y)\n",
    "var(x)*var(y)"
   ]
  },
  {
   "cell_type": "markdown",
   "metadata": {},
   "source": [
    "__e)__ Верно ли, что если $Cov(X, Y) = 0$, то две случайные величины независимы? Удастся ли проверить это с помощью генераций? "
   ]
  },
  {
   "cell_type": "markdown",
   "metadata": {},
   "source": [
    "Это наглая ложь! Простейший пример. Пусть случайная величина $X$ равновероятно принимает три значения:\n",
    "\n",
    "|$X$|$-1$|$0$|$1$| \n",
    "|---|----|---|---|\n",
    "| $P$  |1/3 |1/3|1/3|\n",
    "\n",
    "Пусть $Z = |X|$.\n",
    "\n",
    "|$Z$|$0$|$1$| \n",
    "|---|---|---|\n",
    "| $P$  |1/3|2/3|\n",
    "\n",
    "Тогда эти две виличины явно зависимы. Одна выражается через другую. Но при этом \n",
    "\n",
    "$$\n",
    "Cov(X,Z) = E(X \\cdot Z) - E(X) \\cdot E(Z) = 0.\n",
    "$$"
   ]
  },
  {
   "cell_type": "code",
   "execution_count": 110,
   "metadata": {},
   "outputs": [
    {
     "data": {
      "text/html": [
       "0.000518950175950176"
      ],
      "text/latex": [
       "0.000518950175950176"
      ],
      "text/markdown": [
       "0.000518950175950176"
      ],
      "text/plain": [
       "[1] 0.0005189502"
      ]
     },
     "metadata": {},
     "output_type": "display_data"
    }
   ],
   "source": [
    "x = sample(c(-1,0,1), size = n_obs, replace = TRUE)\n",
    "z = abs(x)  # задаём зависимость между z и x  \n",
    "cov(x,z)    # получаем близкое к нулю число"
   ]
  },
  {
   "cell_type": "markdown",
   "metadata": {},
   "source": [
    "### [4] Задачка 11\n",
    "\n",
    "Филя и Никита решили попытать счастья и попасть на стажировку в ЦБ. В качестве вступительного испытания, они получили листочки с задачками по терверу и случайным процессам. Одна из задач из листочка выглядела следующим образом:\n",
    "\n",
    "Пусть $X \\sim N(0, \\sigma^2)$. Пусть $\\Phi(x)$ — функция распределения для $N(0,1)$. Нужно найти математическое ожидание для случайной величины $\\Phi(X)$. \n",
    "\n",
    "Собеседователи, дав Филе и Никите задание, сказали, что у них 2 часа и куда-то ушли. Пользоваться можно чем угодно (но это не точно). В голове у парней есть какое-то решение. Правда они в нём не уверены. Зато у них с собой есть ноутбуки. Помогите Филе и Никите оценить $E(\\Phi(X))$ с помощью симуляций. Постройте для случайной величины $\\Phi(X)$ гистограмму. На Возьмите $\\sigma = 1$, после $\\sigma = 3$, после $\\sigma = 100$. Как ведут себя математическое ожидание и распределение при росте дисперсии?\n",
    "\n",
    "__P.S.__ На стажировку в ЦБ парни конечно же не попали."
   ]
  },
  {
   "cell_type": "code",
   "execution_count": 128,
   "metadata": {
    "scrolled": false
   },
   "outputs": [
    {
     "data": {
      "text/html": [
       "0.499703572669997"
      ],
      "text/latex": [
       "0.499703572669997"
      ],
      "text/markdown": [
       "0.499703572669997"
      ],
      "text/plain": [
       "[1] 0.4997036"
      ]
     },
     "metadata": {},
     "output_type": "display_data"
    },
    {
     "name": "stderr",
     "output_type": "stream",
     "text": [
      "`stat_bin()` using `bins = 30`. Pick better value with `binwidth`.\n"
     ]
    },
    {
     "data": {
      "image/png": "[encoded data removed]",
      "text/plain": [
       "plot without title"
      ]
     },
     "metadata": {},
     "output_type": "display_data"
    }
   ],
   "source": [
    "# В этом пункте всё логично,  в соответствии с квантильным преобразованием \n",
    "# (на него мы посмотрим на третьей паре) мы получили равномерное распределение\n",
    "\n",
    "n_obs = 10^6\n",
    "x <- rnorm(n_obs, mean=0, sd=1)\n",
    "y <- pnorm(x)\n",
    "mean(y)\n",
    "qplot(y)"
   ]
  },
  {
   "cell_type": "code",
   "execution_count": 129,
   "metadata": {},
   "outputs": [
    {
     "data": {
      "text/html": [
       "0.500255252425958"
      ],
      "text/latex": [
       "0.500255252425958"
      ],
      "text/markdown": [
       "0.500255252425958"
      ],
      "text/plain": [
       "[1] 0.5002553"
      ]
     },
     "metadata": {},
     "output_type": "display_data"
    },
    {
     "name": "stderr",
     "output_type": "stream",
     "text": [
      "`stat_bin()` using `bins = 30`. Pick better value with `binwidth`.\n"
     ]
    },
    {
     "data": {
      "image/png": "[encoded data removed]",
      "text/plain": [
       "plot without title"
      ]
     },
     "metadata": {},
     "output_type": "display_data"
    }
   ],
   "source": [
    "# Тут уже результат будет поинтереснее и непредсказумее! \n",
    "# распределение начало разъезжаться в разные стороны\n",
    "\n",
    "n_obs = 10^6\n",
    "x <- rnorm(n_obs, mean=0, sd=3)\n",
    "y <- pnorm(x)\n",
    "mean(y)\n",
    "qplot(y)"
   ]
  },
  {
   "cell_type": "code",
   "execution_count": 130,
   "metadata": {},
   "outputs": [
    {
     "data": {
      "text/html": [
       "0.499424031211278"
      ],
      "text/latex": [
       "0.499424031211278"
      ],
      "text/markdown": [
       "0.499424031211278"
      ],
      "text/plain": [
       "[1] 0.499424"
      ]
     },
     "metadata": {},
     "output_type": "display_data"
    },
    {
     "name": "stderr",
     "output_type": "stream",
     "text": [
      "`stat_bin()` using `bins = 30`. Pick better value with `binwidth`.\n"
     ]
    },
    {
     "data": {
      "image/png": "[encoded data removed]",
      "text/plain": [
       "plot without title"
      ]
     },
     "metadata": {},
     "output_type": "display_data"
    }
   ],
   "source": [
    "# При огромной дисперсии оно совсем-совсем разъехалось и \n",
    "# в пределе получится дискретная случайная величина! \n",
    "\n",
    "n_obs = 10^6\n",
    "x <- rnorm(n_obs, mean=0, sd=100)\n",
    "y <- pnorm(x)\n",
    "mean(y)\n",
    "qplot(y)"
   ]
  },
  {
   "cell_type": "markdown",
   "metadata": {},
   "source": [
    "Давайте попробуем повыяснять почему такое происходит. Для этого решим по-честному теоретическую задачку и найдём предел для функции распределения нашей новоиспечённой случайной величины. $\\Phi(x)$ - функция распределения, значит принимает значения на отрезке от $0$ до $1$. Найдём функцию распределения случайной величины $Y = \\Phi(X)$. Будем делать это по определению: \n",
    "\n",
    "$$\n",
    "F(y) = P(Y \\le y) = \\begin{cases}0, \\text{ если } y \\le 0 \\\\ 1, \\text{ если } y > 1 \\\\ P(\\Phi(X) \\le y), \\text{ если } y \\in (0; 1].    \\end{cases}\n",
    "$$\n",
    "\n",
    "Самая интересная тут последняя строчка. Немного поработаем с ней.\n",
    "\n",
    "$$\n",
    "P(\\Phi(X) \\le y) = P(X \\le \\Phi^{-1}(y)) = P \\left( \\frac{X}{\\sigma} \\le \\frac{ \\Phi^{-1}(y)}{\\sigma} \\right) = \\Phi \\left( \\frac{ \\Phi^{-1}(y)}{\\sigma} \\right).\n",
    "$$\n",
    "\n",
    "Дело осталось за малым, найти придел для функции распределения случайной величины $Y$. При $\\sigma \\to \\infty$ выражение $\\frac{ \\Phi^{-1}(y)}{\\sigma}$ сходится к нулю. Нормальное распределения симметрично относительно нуля. Значит $\\Phi(0) = \\frac{1}{2}$.  В пределе получаем функцию \n",
    "\n",
    "$$\n",
    "F(y) = P(Y \\le y) = \\begin{cases}0, \\text{ если } y \\le 0 \\\\ 1, \\text{ если } y > 1 \\\\ \\frac{1}{2}, \\text{ если } y \\in (0; 1].    \\end{cases}\n",
    "$$\n",
    "\n",
    "Как мы помним из лекций, функция распределения всегда задаёт какую-то одну конкретную случайную величину. В данном случае мы получили функцию распределения для случайной величины, принмающей либо значение $1$ либо $0$ с вероятностями $0.5$. Ровно этот резулььаь выше у нас получился на графике. "
   ]
  },
  {
   "cell_type": "markdown",
   "metadata": {},
   "source": [
    "### [6] Задачка 12\n",
    "\n",
    "__За генерацию можно получить только 1 балл. Она, блин, делается в две строчки. Остальное ставится за ручное решение.__\n",
    "\n",
    "Чтобы получить на посвяте стакан Уколовки, разлитый лично Димой Генераловым, нужно решить задачку по терверу. Случайные величины $X$, $Y$ и $Z$ равномерны на отрезке $[0;1]$ и независимы. Диму интересует случайная величина $(XY)^Z$. Ему очень интересно было бы узнать её распределение. "
   ]
  },
  {
   "cell_type": "code",
   "execution_count": 131,
   "metadata": {},
   "outputs": [
    {
     "name": "stderr",
     "output_type": "stream",
     "text": [
      "`stat_bin()` using `bins = 30`. Pick better value with `binwidth`.\n"
     ]
    },
    {
     "data": {
      "image/png": "[encoded data removed]",
      "text/plain": [
       "plot without title"
      ]
     },
     "metadata": {},
     "output_type": "display_data"
    }
   ],
   "source": [
    "n_obs = 10^6\n",
    "X <- runif(n_obs)\n",
    "Y <- runif(n_obs)\n",
    "Z <- runif(n_obs)\n",
    "\n",
    "M = (X*Y)**Z\n",
    "qplot(M)"
   ]
  },
  {
   "cell_type": "code",
   "execution_count": 133,
   "metadata": {},
   "outputs": [
    {
     "data": {
      "text/plain": [
       "\n",
       "\tOne-sample Kolmogorov-Smirnov test\n",
       "\n",
       "data:  M\n",
       "D = 0.0010553, p-value = 0.2154\n",
       "alternative hypothesis: two-sided\n"
      ]
     },
     "metadata": {},
     "output_type": "display_data"
    }
   ],
   "source": [
    "# Понравилось у парней, что они проверили что распределение нормальное тестом Колмогорова.\n",
    "# Про это мы будем говорить в будущем, поэтому это забегание вперёд паровоза, но забегание правильное.\n",
    "ks.test(M, \"punif\", 0, 1)"
   ]
  },
  {
   "cell_type": "markdown",
   "metadata": {},
   "source": [
    "Это было довольно просто, не так ли? Давайте займёмся кое-чем более интересным, попробуем найти плотность распределения случайной величины $(XY)^Z$ вручную. Это не особо сложно. Перед нами просто-напросто возникнет несколько интегралов, которые придётся взять. Задача, как и Удав Анатолий из [культурного кода.](https://github.com/bdemeshev/probability_dna/raw/master/probability_dna.pdf) Но её решения там нет.\n",
    "\n",
    "__a)__ Какое распределение имеет случайная величина $- \\ln X$?\n",
    "\n",
    "__Решение:__\n",
    "\n",
    "$X, Y, Z$ распределены равномерно на $[0; 1]$. Для них $F(x) = x$. Давайте найдём плотность случайной величины $X_1 = -\\ln X$. План будет таким: из определения найдём функцию распределения, а потом возьмём от неё производную. Погнали: \n",
    "\n",
    "$$\n",
    "F(x_1) = P(X_1 \\le x_1) = P(- \\ln X \\le x_1) = P(\\ln X \\ge -x_1) = 1 - P(\\ln X \\le -x_1) = 1 - P(X \\le e^{-x_1}) = 1 - e^{-x_1}\n",
    "$$\n",
    "\n",
    "Берём производную, получаем плотность распределения:\n",
    "\n",
    "$$\n",
    "f(x_1) = F'(x_1) = -e^{x_1}\n",
    "$$\n",
    "\n",
    "Не забываем про область определения случайной величины. Если $x \\in [0; 1]$, тогда $-\\ln x \\in [0; + \\infty)$. Выходит, что $X_1$ имеет экспоненциальное распределение, $Exp(1)$."
   ]
  },
  {
   "cell_type": "markdown",
   "metadata": {},
   "source": [
    "__б)__ Какое распределение у случайной величины $-(\\ln X + \\ln Y)$\n",
    "\n",
    "__Решение:__ \n",
    "\n",
    "Нам надо понять как распределена сумма $X_1 + Y_1$, то есть сумма двух независимых экспоненциальных случайных величин. Можно пойти в семинары, вспомнить формулу свёртки и воспользоваться ей. Вспомните как она выводится, ибо в следующем пункте нам надо будет самостоятельно вывести свёртку для произведения. Итак, $U = X_1 + Y_1$. Формула свёртки выглядит как-то так: \n",
    "\n",
    "$$\n",
    "f(u) = \\int_{-\\infty}^{+\\infty} -e^{-x_1} \\cdot - e^{-(u - x_1)} dx_1\n",
    "$$\n",
    "\n",
    "Немного поразбираемся в том, как ведут себя наши случайные величины. Обе принимают значение от $0$ до $+\\infty$. У первой экспоненты в степени всё хорошо всегда, $x_1$ модет ползать по всему отреку. Для второй экспоненты, в степени находится $x_2 = u - x_1$. Мы знаем, $x_2$ должен принимать значения от $0$ до $+\\infty$. Но если $x_1 > u$, тогда наступает беда и степень становится отрицательной. Когда $x_2$ отрицательный, плотность принимает нулевое значение. \n",
    "\n",
    "<img src=\"https://raw.githubusercontent.com/FUlyankin/r_probability/master/end_seminars_2019/HW/images/exp_sum.png\" width=\"500\"> \n",
    "\n",
    "\n",
    "Получается, что на отрезке $[0; u]$ наша плотность будет ненулевой. В диапазоне между ~~отчаянием и надеждой~~ $(-\\infty; 0)$ и $(u; +\\infty)$. Случайная величина зануляется. \n",
    "\n",
    "$$\n",
    "f(u) = \\int_{0}^{u} -e^{-x_1} \\cdot - e^{-(u - x_1)} dx_1 = e^{-u} \\int_0^u d x_1 = u \\cdot e^{-u}.\n",
    "$$\n",
    "\n",
    "На $u$ никих дополнительных ограничений не накладывалось. Она бегает от $[0; + \\infty)$, как ей и положено. \n",
    "\n",
    "\n",
    " "
   ]
  },
  {
   "cell_type": "markdown",
   "metadata": {},
   "source": [
    "__в)__ Найдите функцию распределения для случайной величины $-Z (\\ln X + \\ln Y)$\n",
    "\n",
    "__Решение:__ \n",
    "\n",
    "Нам нужно вывести аналог формулы свёртки для произведения, а после найти как распределена случайная величина $T = U \\cdot Z$. Посмним, что $U$ бегает от $0$ до $+\\infty$, а $Z$ от $0$ до $1$. Выведем для $T$ функцию распределения: \n",
    "\n",
    "$$\n",
    "F_T(t) = P(T \\le t) = P(Z \\cdot U \\le t)\n",
    "$$\n",
    "\n",
    "Нам нужно найти эту вероятность. Случайные величины взаимосвязаны между собой формулой  $t = x_1 \\cdot x_2$.  Нарисуем картиночку. \n",
    "\n",
    "<img src=\"https://raw.githubusercontent.com/FUlyankin/r_probability/master/end_seminars_2019/HW/images/prod.png\" width=\"400\"> \n",
    "\n",
    "Нас интересует область, где $x_1 \\cdot x_2 \\le t$, то есть $x_2 \\le \\frac{t}{x_1}$. То есть область под синей кривой. Будем держать в голове, что по оси $x_2$ мы можем поднятся наверх только до $1$. Эта ось отвечает за случайную величину $Z$. \n",
    "\n",
    "Выходит, что вероятность того, что при произвольном $t$ выполнится $x_1 \\cdot x_2 \\le t$ равна площади под синей кривой. То есть \n",
    "\n",
    "$$\n",
    "F_T(t) = P(T \\le t) = P(Z \\cdot U \\le t) = \\int_0^1 \\int_0^{\\frac{t}{x_2}} f(x_1) \\cdot f(x_2) dx_1 dx_2.\n",
    "$$\n",
    "\n",
    "Взяв этот двойной интеграл, получаем функцию распределения: \n",
    "\n",
    "$$\n",
    "= \\int_0^1 \\int_0^{\\frac{t}{x_2}} x_1 \\cdot e^{-x_1} \\cdot 1 \\cdot  dx_1 dx_2  = 1-e^{-t}.\n",
    "$$\n",
    "\n"
   ]
  },
  {
   "cell_type": "markdown",
   "metadata": {},
   "source": [
    "__Для полноты картины выведем формулу свёртки для произведения случайных величин (так скучно написал эту фразу, аж самому тошно).__ Интерал выше - это функция распределения. Чтобы получить из неё плотность, нужно взять производную по $t$. Сделаем это. Не будем забывать, что $x_1 = \\frac{t}{x_2}$. \n",
    "\n",
    "$$\n",
    "f_T(t) = \\int_0^1 \\frac{1}{x_2} \\cdot f(\\frac{t}{x_2}) \\cdot f(x_2) d x_2 \n",
    "$$\n",
    "\n",
    "Если воспользоваться этой формулой, можно получить \n",
    "\n",
    "$$\n",
    "f_T(t) = e^{-t}.\n",
    "$$\n",
    "\n",
    "Обратите внимание, что здесь мы играли только в положительной области ($x > 0, y>0$). Если бы игра шла на всей числовой прямой, формула была бы немного другой. Пример выведения формулы для частного случайных величин можно глянуть в [Гнеденко](https://yadi.sk/i/O4hwgm4Xxz05yQ) на странице 143. Там же, кстати говоря, можно найти выведение плотностей для $\\chi^2_n$, Cтьюдента и Фишира. Мало ли вас всегда интересовало почему они именно такие."
   ]
  },
  {
   "cell_type": "markdown",
   "metadata": {},
   "source": [
    "__г)__ Наконец вы готовы ответить на главный вопрос: какое распределение у $(XY)^Z$.\n",
    "\n",
    "__Решение:__ \n",
    "\n",
    "Мы получили, что $T = -Z (\\ln X + \\ln Y) = -\\ln(XY)^{Z} \\sim Exp(1)$. Интересующая нас $W = (XY)^Z = e^{-T}$. \n",
    "\n",
    "$$\n",
    "F(w) = P(W \\le w) = P(e^{-T} \\le w) = P(-T \\le \\ln w) = 1 - P(T \\le - \\ln w)  = 1 - (1 - e^{-\\ln w}) = w\n",
    "$$\n",
    "\n",
    "Посмотрим на область определения. $T$ распределена от $0$ до $+\\infty$. Значит $e^{-T}$ от $0$ до $1$. Получаем на выходе, что $W \\sim U[0;1]$. "
   ]
  },
  {
   "cell_type": "markdown",
   "metadata": {},
   "source": [
    "### [2] Задачка 13\n",
    "\n",
    "Пока все однокурсники Самира занимались одномерными случайными величинами, он увлёкся матрицами. И вот теперь он хочет пропихнуть свои увлечения в теорию вероятностей. Самир собирается сгенерировать случайную квадратную матрицу $A$, где каждый элемент матрицы взят из равномерного на $[0;1]$ распределения. \n",
    "\n",
    "Пусть случайная величина $X$ — это определитель случайной матрицы. Помогите Самиру найти $E(X)$. Чему равна вероятность того, что матрица $A$ вырождена? Постройте для этой случайной величины гистограмму. \n",
    "\n",
    "Пусть случайная величина $Y$ — это самое большое собственное значение этой матрицы. Помогите Самиру найти $E(Y)$. Постройте гистограмму. \n",
    "\n",
    "Перед тем как решать задачу, выскажите свои априорные представления относительно этих распределений, опираясь на свою интуицию и знание линала. Подтвердились ли они? "
   ]
  },
  {
   "cell_type": "code",
   "execution_count": 48,
   "metadata": {},
   "outputs": [],
   "source": [
    "n_obs = 10^5\n",
    "\n",
    "# размерность матрицы можно было зафиксировать, можно было выбирать \n",
    "# на каждом шаге рандомно (почему бы и нет, в условии ничего ж не прописано)\n",
    "# в решении поступлю вторым способом\n",
    "\n",
    "x <- rep(0, n_obs)\n",
    "y <- rep(0, n_obs)\n",
    "\n",
    "for(i in 1:n_obs){\n",
    "    n = sample(2:10, size = 1) # выберем какуюнибудь размерность \n",
    "    A = matrix(runif(n^2), nrow=n, ncol=n, byrow=T)\n",
    "    x[i] <- det(A)\n",
    "                \n",
    "    # иногда собственные числа бывают комплексными, будем брать модуль от них\n",
    "    # (почему нет? в условии это не запрещалось)\n",
    "    y[i] <- max(abs(eigen(A)$values))\n",
    "}              "
   ]
  },
  {
   "cell_type": "code",
   "execution_count": 53,
   "metadata": {
    "scrolled": false
   },
   "outputs": [
    {
     "data": {
      "image/png": "[encoded data removed]",
      "text/plain": [
       "plot without title"
      ]
     },
     "metadata": {},
     "output_type": "display_data"
    }
   ],
   "source": [
    "qplot(x, bins=100)"
   ]
  },
  {
   "cell_type": "code",
   "execution_count": 54,
   "metadata": {},
   "outputs": [
    {
     "data": {
      "text/html": [
       "-3.89913062386641e-05"
      ],
      "text/latex": [
       "-3.89913062386641e-05"
      ],
      "text/markdown": [
       "-3.89913062386641e-05"
      ],
      "text/plain": [
       "[1] -3.899131e-05"
      ]
     },
     "metadata": {},
     "output_type": "display_data"
    }
   ],
   "source": [
    "mean(x) # билзко к нулю, с чего бы этого... "
   ]
  },
  {
   "cell_type": "code",
   "execution_count": 55,
   "metadata": {
    "scrolled": false
   },
   "outputs": [
    {
     "data": {
      "image/png": "[encoded data removed]",
      "text/plain": [
       "plot without title"
      ]
     },
     "metadata": {},
     "output_type": "display_data"
    }
   ],
   "source": [
    "qplot(y, bins=100) # классная же гистограмма! просто огненная! "
   ]
  },
  {
   "cell_type": "code",
   "execution_count": 52,
   "metadata": {},
   "outputs": [
    {
     "data": {
      "text/html": [
       "2.99666567181499"
      ],
      "text/latex": [
       "2.99666567181499"
      ],
      "text/markdown": [
       "2.99666567181499"
      ],
      "text/plain": [
       "[1] 2.996666"
      ]
     },
     "metadata": {},
     "output_type": "display_data"
    }
   ],
   "source": [
    "mean(y)"
   ]
  },
  {
   "cell_type": "markdown",
   "metadata": {},
   "source": [
    "### [4] Задачка 14\n",
    "\n",
    "Закон больших чисел — это теорема, которая позволяет людям зарабатывать деньги! В 1600-х годах люди научились составлять актуарные таблицы. Это такие таблицы, где указана ожидаемая продолжительность жизни для данного возраста и пола. Люди начали собирать данные о смертности и оценивать вероятность дожития человека до определённого возраста. На этом строились тарифы на страхование. \n",
    "\n",
    "Появление подобных таблиц обязано зарождению в течение 1600-х годов теории вероятности, которая впервые объяснила людям как случайные вещи при достаточно больших масштабах сглаживаются и становятся очень даже предсказуемыми. Надо признать, что у страхования было довольно трудное детство — как раз потому, что люди плоховато понимали концепцию вероятности. В голове довольно трудно удержать её. Многие люди и по сей день ошибочно думают, что могут влиять на случайность каким-то образом. Например, некоторые думают, что чаще других выбрасывают на кубике шестёрки. Более того, люди довольно плохо понимают условные вероятности. \n",
    "\n",
    "Несмотря на всё это недопонимание, страховые компании в наше время на диверсификации рисков делают кэш. Давайте представим, что мы в их шкуре и замутим простенький бизнес, связанный со страховками. Конечно же бизнес мы будем делать в России. Для того, чтобы как следует сделать его, мы нашли [актуарные таблицы для России 2009 года выпуска.](https://yadi.sk/i/-k-9kB263Uv8uH)"
   ]
  },
  {
   "cell_type": "code",
   "execution_count": 3,
   "metadata": {},
   "outputs": [
    {
     "data": {
      "text/html": [
       "<table>\n",
       "<thead><tr><th scope=col>X</th><th scope=col>Мужчины.и.женщины.город</th><th scope=col>Мужчины.город</th><th scope=col>Женщины.город</th><th scope=col>Мужчины.и.женщины.село</th><th scope=col>Мужчины.село</th><th scope=col>Женщины.село</th></tr></thead>\n",
       "<tbody>\n",
       "\t<tr><td>0 лет   </td><td>0.992525</td><td>0.991658</td><td>0.993442</td><td>0.990321</td><td>0.989209</td><td>0.991496</td></tr>\n",
       "\t<tr><td>1 год   </td><td>0.999307</td><td>0.999221</td><td>0.999397</td><td>0.998812</td><td>0.998709</td><td>0.998921</td></tr>\n",
       "\t<tr><td>2 года  </td><td>0.999558</td><td>0.999517</td><td>0.999601</td><td>0.999358</td><td>0.999298</td><td>0.999420</td></tr>\n",
       "\t<tr><td>3 года  </td><td>0.999668</td><td>0.999609</td><td>0.999730</td><td>0.999441</td><td>0.999288</td><td>0.999601</td></tr>\n",
       "\t<tr><td>4 года  </td><td>0.999700</td><td>0.999671</td><td>0.999731</td><td>0.999524</td><td>0.999445</td><td>0.999607</td></tr>\n",
       "\t<tr><td>5 лет   </td><td>0.999695</td><td>0.999636</td><td>0.999757</td><td>0.999515</td><td>0.999444</td><td>0.999589</td></tr>\n",
       "</tbody>\n",
       "</table>\n"
      ],
      "text/latex": [
       "\\begin{tabular}{r|lllllll}\n",
       " X & Мужчины.и.женщины.город & Мужчины.город & Женщины.город & Мужчины.и.женщины.село & Мужчины.село & Женщины.село\\\\\n",
       "\\hline\n",
       "\t 0 лет    & 0.992525 & 0.991658 & 0.993442 & 0.990321 & 0.989209 & 0.991496\\\\\n",
       "\t 1 год    & 0.999307 & 0.999221 & 0.999397 & 0.998812 & 0.998709 & 0.998921\\\\\n",
       "\t 2 года   & 0.999558 & 0.999517 & 0.999601 & 0.999358 & 0.999298 & 0.999420\\\\\n",
       "\t 3 года   & 0.999668 & 0.999609 & 0.999730 & 0.999441 & 0.999288 & 0.999601\\\\\n",
       "\t 4 года   & 0.999700 & 0.999671 & 0.999731 & 0.999524 & 0.999445 & 0.999607\\\\\n",
       "\t 5 лет    & 0.999695 & 0.999636 & 0.999757 & 0.999515 & 0.999444 & 0.999589\\\\\n",
       "\\end{tabular}\n"
      ],
      "text/markdown": [
       "\n",
       "| X | Мужчины.и.женщины.город | Мужчины.город | Женщины.город | Мужчины.и.женщины.село | Мужчины.село | Женщины.село |\n",
       "|---|---|---|---|---|---|---|\n",
       "| 0 лет    | 0.992525 | 0.991658 | 0.993442 | 0.990321 | 0.989209 | 0.991496 |\n",
       "| 1 год    | 0.999307 | 0.999221 | 0.999397 | 0.998812 | 0.998709 | 0.998921 |\n",
       "| 2 года   | 0.999558 | 0.999517 | 0.999601 | 0.999358 | 0.999298 | 0.999420 |\n",
       "| 3 года   | 0.999668 | 0.999609 | 0.999730 | 0.999441 | 0.999288 | 0.999601 |\n",
       "| 4 года   | 0.999700 | 0.999671 | 0.999731 | 0.999524 | 0.999445 | 0.999607 |\n",
       "| 5 лет    | 0.999695 | 0.999636 | 0.999757 | 0.999515 | 0.999444 | 0.999589 |\n",
       "\n"
      ],
      "text/plain": [
       "  X      Мужчины.и.женщины.город Мужчины.город Женщины.город\n",
       "1 0 лет  0.992525                0.991658      0.993442     \n",
       "2 1 год  0.999307                0.999221      0.999397     \n",
       "3 2 года 0.999558                0.999517      0.999601     \n",
       "4 3 года 0.999668                0.999609      0.999730     \n",
       "5 4 года 0.999700                0.999671      0.999731     \n",
       "6 5 лет  0.999695                0.999636      0.999757     \n",
       "  Мужчины.и.женщины.село Мужчины.село Женщины.село\n",
       "1 0.990321               0.989209     0.991496    \n",
       "2 0.998812               0.998709     0.998921    \n",
       "3 0.999358               0.999298     0.999420    \n",
       "4 0.999441               0.999288     0.999601    \n",
       "5 0.999524               0.999445     0.999607    \n",
       "6 0.999515               0.999444     0.999589    "
      ]
     },
     "metadata": {},
     "output_type": "display_data"
    }
   ],
   "source": [
    "df = read.csv('/Users/fulyankin/Yandex.Disk.localized/R/R_prob_data/aktuar2009.csv', sep=';', dec=',')\n",
    "head(df)"
   ]
  },
  {
   "cell_type": "markdown",
   "metadata": {},
   "source": [
    "В табличке находится вероятность того, что человек проживёт конкретный год. В первой строке вероятность дожить до года, во второй до 2 лет, если человек уже дожил до года и так далее. Значит, если мы хотим узнать, какова вероятность того, что человек проживёт два года, мы должны умножить вероятность прожить первый год на вероятность прожить второй год. Из части __полезные функции,__ которая была в самом начале, можно узнать, что посчитать такую вероятность, помогает функция `cumprod`. Давайте посмотрим каково в России живётся женщинам и мужчинам. "
   ]
  },
  {
   "cell_type": "code",
   "execution_count": 4,
   "metadata": {},
   "outputs": [
    {
     "data": {
      "image/png": "[encoded data removed]",
      "text/plain": [
       "plot without title"
      ]
     },
     "metadata": {},
     "output_type": "display_data"
    }
   ],
   "source": [
    "df['age'] = 0:100\n",
    "df['man_prob'] = cumprod(df[,3])   # вероятность дожить до какого-то возраста\n",
    "df['woman_prob'] = cumprod(df[,4])\n",
    "\n",
    "ggplot(df, aes(age))+\n",
    "    geom_line(aes(y=man_prob, colour = \"man\"))+\n",
    "    geom_line(aes(y=woman_prob, colour = \"woman\"))"
   ]
  },
  {
   "cell_type": "markdown",
   "metadata": {},
   "source": [
    "Что мы видим? А ничего хорошего. Рыжая кривая — вероятность того, что мужчина доживёт до конкретного возраста. Голубая - женщина. Женщины намного живучее, чем мужчины. Страховать их от несчастий намного выгоднее. Было бы интересно узнать насколько это выгоднее. Будем смотреть на женщин и мужчин, которые живут в городах. \n",
    "\n"
   ]
  },
  {
   "cell_type": "markdown",
   "metadata": {},
   "source": [
    "- Пусть мы продаём страховки только 25-летним городским дамам. Сколько нужно клиентов, чтобы с вероятностью 99% прибыль оказалась положительной.\n",
    "\n",
    "- Пусть мы продаём страховки только 60-летним городским дамам по той же цене. Сколько нужно клиентов, чтобы с вероятностью 99% прибыль оказалась положительной. \n",
    "\n",
    "Для простоты будем предполагать, что выплата в случае смерти составлят $10^6$ рублей."
   ]
  },
  {
   "cell_type": "code",
   "execution_count": null,
   "metadata": {},
   "outputs": [],
   "source": [
    "# ваш код"
   ]
  },
  {
   "cell_type": "markdown",
   "metadata": {},
   "source": [
    "* Выясните, начиная с какого возраста страховка для мужчин стоит дешевле, чем страховка для женщин. "
   ]
  },
  {
   "cell_type": "code",
   "execution_count": null,
   "metadata": {},
   "outputs": [],
   "source": [
    "# ваш код"
   ]
  },
  {
   "cell_type": "markdown",
   "metadata": {},
   "source": [
    "### [6]  Задачка 15 (Парадокс дней рождений)\n",
    "\n",
    "\n",
    "Вы когда-нибудь слышали про парадокс дней рождений? На википедии есть статья. Остановитесь, не нужно её гуглить. Давайте попробуем поразмышлять. Как думаете какова вероятность того, что в комнате, в которой находится $23$ человека, хотя бы у двоих из них дни рождения совпадают (не у вас с кем-нибудь совпадёт, а у двоих произвольных людей)? \n",
    "\n",
    "__Внимание, ответ:__ вероятность этого $0.5$. Если в комнате $50$ человек, то вероятность этого возрастает до $0.97$. Получается, что если вы находитесь в большой аудитории, то вы смело можете ставить деньги на то, что в ней дни рождения у каких-нибудь двух произвольных людей совпадут. Делая такие ставки довольно часто, вы сможете обогатиться. Конечно же, иногда вы будете проигрывать, но математическое ожидание такой игры будет суперположительным. Например, если вы будете ставить $1000$ рублей, ваш ожидаемый выигрыш составит\n",
    "\n",
    "$$\n",
    "E(X) = 0.97\\cdot1000 - 0.03\\cdot1000.\n",
    "$$ \n",
    "\n",
    "Слабо найти вероятность того, что хотя бы у двоих людей из $n$ дни рождения совпадут руками? Если слабо, добро пожаловать на [википедию.](https://ru.wikipedia.org/wiki/Парадокс_дней_рождения)\n",
    "\n",
    "Почему нам трудно в это поверить? Ответ математический: степени трудно осознать. Как визирь в [древней задаче про шахматы и зёрнышки,](https://ru.wikipedia.org/wiki/Задача_о_зёрнах_на_шахматной_доске) мы плохо понимаем степенную функцию. Даже если мы подучились математике и статистике, это всё равно как-то непривычно. Вот пример неправильной логики: какова вероятность выпадения $10$ решек подряд?\n",
    "\n",
    "Нетренированный мозг может составить примерно такую цепочку мыслей: одна решка - $50%$, две решки - $25%$. Значит десяток решек в $10$ раз труднее, ну то есть $5%$. Ну вот мы и облажались. Реальный шанс это $0.5^{10}$. Ошиблись немного. Примерно в $50$ раз.\n",
    "\n",
    "Итак, в произвольной группе из $50$ человек вероятность того, что хотя бы у двоих людей дни рождения совпадут равна $0.97$. Но это всё только в теории. При решении задачи мы предполагаем, что рождения людей равномерно распределены в течение года. Однако на практике это может быть не так. В связи с этим реальная вероятность может отличаться от теоретической. \n",
    "\n",
    "В этой задачке вам предстоит проверить парадокс дней рождений на эмпирических данных. В табличке `vk_bdates.csv` лежит информация о $4589300$ пользователей из вконтакте. В табличке можно найти данные о имени пользователя `first_name`, его поле `sex`, его родном городе `home_town`, городе проживания `city`, дне `bdate`, месяце `bmonth` и годе `byear` рождения. Также там лежит информация о том удалена ли его страничка `deactivated`. "
   ]
  },
  {
   "cell_type": "markdown",
   "metadata": {},
   "source": [
    "__[3] Простая часть (её решение можно найти во второй домашке прошлого года):__ \n",
    "\n",
    "Попробуйте на основе данных из этой таблички проверить парадокс дней рождений. Проверять его мы будем, конечно же в R. __Обратите внимание, что часто придётся прогонять один и тот же код. Не надо его копировать. Оформите его в виде функции.__ \n",
    "\n",
    "__Таблица тут: https://yadi.sk/d/hcysIe6d3Uv8rr__"
   ]
  },
  {
   "cell_type": "code",
   "execution_count": 10,
   "metadata": {},
   "outputs": [
    {
     "data": {
      "text/html": [
       "<ol class=list-inline>\n",
       "\t<li>4589300</li>\n",
       "\t<li>11</li>\n",
       "</ol>\n"
      ],
      "text/latex": [
       "\\begin{enumerate*}\n",
       "\\item 4589300\n",
       "\\item 11\n",
       "\\end{enumerate*}\n"
      ],
      "text/markdown": [
       "1. 4589300\n",
       "2. 11\n",
       "\n",
       "\n"
      ],
      "text/plain": [
       "[1] 4589300      11"
      ]
     },
     "metadata": {},
     "output_type": "display_data"
    },
    {
     "data": {
      "text/html": [
       "<table>\n",
       "<thead><tr><th scope=col>X</th><th scope=col>city</th><th scope=col>deactivated</th><th scope=col>first_name</th><th scope=col>home_town</th><th scope=col>id</th><th scope=col>last_name</th><th scope=col>sex</th><th scope=col>byear</th><th scope=col>bmonth</th><th scope=col>bday</th></tr></thead>\n",
       "<tbody>\n",
       "\t<tr><td>0              </td><td>Москва         </td><td>               </td><td>Илья           </td><td>               </td><td> 5             </td><td>Перекопский    </td><td>2              </td><td>  NA           </td><td>11             </td><td>18             </td></tr>\n",
       "\t<tr><td>1              </td><td>Санкт-Петербург</td><td>               </td><td>Николай        </td><td>               </td><td> 6             </td><td>Дуров          </td><td>2              </td><td>  NA           </td><td>NA             </td><td>NA             </td></tr>\n",
       "\t<tr><td>2              </td><td>Санкт-Петербург</td><td>               </td><td>Михаил         </td><td>Санкт-Петербург</td><td>11             </td><td>Петров         </td><td>2              </td><td>  NA           </td><td>12             </td><td>18             </td></tr>\n",
       "\t<tr><td>3              </td><td>Санкт-Петербург</td><td>               </td><td>Татьяна        </td><td>               </td><td>34             </td><td>Плуталова      </td><td>1              </td><td>  NA           </td><td>NA             </td><td>NA             </td></tr>\n",
       "\t<tr><td>4              </td><td>               </td><td>banned         </td><td>Габриел        </td><td>               </td><td>47             </td><td>Шалел          </td><td>2              </td><td>  NA           </td><td>NA             </td><td>NA             </td></tr>\n",
       "\t<tr><td>5              </td><td>               </td><td>               </td><td>Сергей         </td><td>               </td><td>57             </td><td>Владимиров     </td><td>2              </td><td>  NA           </td><td>NA             </td><td>NA             </td></tr>\n",
       "\t<tr><td>6              </td><td>Москва         </td><td>               </td><td>Людмила        </td><td>               </td><td>71             </td><td>Романченко     </td><td>1              </td><td>  NA           </td><td> 2             </td><td> 7             </td></tr>\n",
       "\t<tr><td>7              </td><td>Санкт-Петербург</td><td>               </td><td>Наташа         </td><td>               </td><td>74             </td><td>Филимонова     </td><td>1              </td><td>1988           </td><td> 7             </td><td>18             </td></tr>\n",
       "\t<tr><td>8              </td><td>               </td><td>banned         </td><td>Давид          </td><td>               </td><td>79             </td><td>Спектер        </td><td>2              </td><td>  NA           </td><td>NA             </td><td>NA             </td></tr>\n",
       "\t<tr><td>9              </td><td>Санкт-Петербург</td><td>               </td><td>Фёдор          </td><td>Санкт-Петербург</td><td>84             </td><td>Медведев       </td><td>2              </td><td>  NA           </td><td>NA             </td><td>NA             </td></tr>\n",
       "</tbody>\n",
       "</table>\n"
      ],
      "text/latex": [
       "\\begin{tabular}{r|lllllllllll}\n",
       " X & city & deactivated & first\\_name & home\\_town & id & last\\_name & sex & byear & bmonth & bday\\\\\n",
       "\\hline\n",
       "\t 0               & Москва          &                 & Илья            &                 &  5              & Перекопский     & 2               &   NA            & 11              & 18             \\\\\n",
       "\t 1               & Санкт-Петербург &                 & Николай         &                 &  6              & Дуров           & 2               &   NA            & NA              & NA             \\\\\n",
       "\t 2               & Санкт-Петербург &                 & Михаил          & Санкт-Петербург & 11              & Петров          & 2               &   NA            & 12              & 18             \\\\\n",
       "\t 3               & Санкт-Петербург &                 & Татьяна         &                 & 34              & Плуталова       & 1               &   NA            & NA              & NA             \\\\\n",
       "\t 4               &                 & banned          & Габриел         &                 & 47              & Шалел           & 2               &   NA            & NA              & NA             \\\\\n",
       "\t 5               &                 &                 & Сергей          &                 & 57              & Владимиров      & 2               &   NA            & NA              & NA             \\\\\n",
       "\t 6               & Москва          &                 & Людмила         &                 & 71              & Романченко      & 1               &   NA            &  2              &  7             \\\\\n",
       "\t 7               & Санкт-Петербург &                 & Наташа          &                 & 74              & Филимонова      & 1               & 1988            &  7              & 18             \\\\\n",
       "\t 8               &                 & banned          & Давид           &                 & 79              & Спектер         & 2               &   NA            & NA              & NA             \\\\\n",
       "\t 9               & Санкт-Петербург &                 & Фёдор           & Санкт-Петербург & 84              & Медведев        & 2               &   NA            & NA              & NA             \\\\\n",
       "\\end{tabular}\n"
      ],
      "text/markdown": [
       "\n",
       "| X | city | deactivated | first_name | home_town | id | last_name | sex | byear | bmonth | bday |\n",
       "|---|---|---|---|---|---|---|---|---|---|---|\n",
       "| 0               | Москва          |                 | Илья            |                 |  5              | Перекопский     | 2               |   NA            | 11              | 18              |\n",
       "| 1               | Санкт-Петербург |                 | Николай         |                 |  6              | Дуров           | 2               |   NA            | NA              | NA              |\n",
       "| 2               | Санкт-Петербург |                 | Михаил          | Санкт-Петербург | 11              | Петров          | 2               |   NA            | 12              | 18              |\n",
       "| 3               | Санкт-Петербург |                 | Татьяна         |                 | 34              | Плуталова       | 1               |   NA            | NA              | NA              |\n",
       "| 4               |                 | banned          | Габриел         |                 | 47              | Шалел           | 2               |   NA            | NA              | NA              |\n",
       "| 5               |                 |                 | Сергей          |                 | 57              | Владимиров      | 2               |   NA            | NA              | NA              |\n",
       "| 6               | Москва          |                 | Людмила         |                 | 71              | Романченко      | 1               |   NA            |  2              |  7              |\n",
       "| 7               | Санкт-Петербург |                 | Наташа          |                 | 74              | Филимонова      | 1               | 1988            |  7              | 18              |\n",
       "| 8               |                 | banned          | Давид           |                 | 79              | Спектер         | 2               |   NA            | NA              | NA              |\n",
       "| 9               | Санкт-Петербург |                 | Фёдор           | Санкт-Петербург | 84              | Медведев        | 2               |   NA            | NA              | NA              |\n",
       "\n"
      ],
      "text/plain": [
       "   X city            deactivated first_name home_town       id last_name   sex\n",
       "1  0 Москва                      Илья                        5 Перекопский 2  \n",
       "2  1 Санкт-Петербург             Николай                     6 Дуров       2  \n",
       "3  2 Санкт-Петербург             Михаил     Санкт-Петербург 11 Петров      2  \n",
       "4  3 Санкт-Петербург             Татьяна                    34 Плуталова   1  \n",
       "5  4                 banned      Габриел                    47 Шалел       2  \n",
       "6  5                             Сергей                     57 Владимиров  2  \n",
       "7  6 Москва                      Людмила                    71 Романченко  1  \n",
       "8  7 Санкт-Петербург             Наташа                     74 Филимонова  1  \n",
       "9  8                 banned      Давид                      79 Спектер     2  \n",
       "10 9 Санкт-Петербург             Фёдор      Санкт-Петербург 84 Медведев    2  \n",
       "   byear bmonth bday\n",
       "1    NA  11     18  \n",
       "2    NA  NA     NA  \n",
       "3    NA  12     18  \n",
       "4    NA  NA     NA  \n",
       "5    NA  NA     NA  \n",
       "6    NA  NA     NA  \n",
       "7    NA   2      7  \n",
       "8  1988   7     18  \n",
       "9    NA  NA     NA  \n",
       "10   NA  NA     NA  "
      ]
     },
     "metadata": {},
     "output_type": "display_data"
    }
   ],
   "source": [
    "df = read.csv('/Users/fulyankin/Yandex.Disk.localized/R/R_prob_data/vk_bdates.csv', sep='\\t', dec='.')\n",
    "\n",
    "dim(df)   # размер таблицы\n",
    "head(df,10)  # её шапочка "
   ]
  },
  {
   "cell_type": "code",
   "execution_count": 14,
   "metadata": {},
   "outputs": [
    {
     "data": {
      "image/png": "[encoded data removed]",
      "text/plain": [
       "plot without title"
      ]
     },
     "metadata": {},
     "output_type": "display_data"
    }
   ],
   "source": [
    "# Когда будете строить такой график, избавьтесь от колонки NA\n",
    "# Это позволяет сделать грамотное выполнение 1 и 2 пунктов инструкции :) \n",
    "ggplot(df, aes(x=factor(bmonth)))+\n",
    "  geom_bar(stat=\"count\", width=0.7, fill=\"steelblue\")"
   ]
  },
  {
   "cell_type": "markdown",
   "metadata": {},
   "source": [
    "От вас требуется: \n",
    "\n",
    "__1.__ Удалить из таблички всех людей, чьи страницы были забанены или удалены."
   ]
  },
  {
   "cell_type": "code",
   "execution_count": 15,
   "metadata": {},
   "outputs": [],
   "source": [
    "# Будем работать с табличками в пакете dplyr, если он у вас не стоит, поставьте \n",
    "\n",
    "library('dplyr')\n",
    "options(repr.plot.width=8, repr.plot.height=3) # размер картинок"
   ]
  },
  {
   "cell_type": "code",
   "execution_count": 16,
   "metadata": {},
   "outputs": [
    {
     "data": {
      "text/html": [
       "<table>\n",
       "<thead><tr><th scope=col>deactivated</th></tr></thead>\n",
       "<tbody>\n",
       "\t<tr><td>       </td></tr>\n",
       "\t<tr><td>banned </td></tr>\n",
       "\t<tr><td>deleted</td></tr>\n",
       "</tbody>\n",
       "</table>\n"
      ],
      "text/latex": [
       "\\begin{tabular}{r|l}\n",
       " deactivated\\\\\n",
       "\\hline\n",
       "\t        \\\\\n",
       "\t banned \\\\\n",
       "\t deleted\\\\\n",
       "\\end{tabular}\n"
      ],
      "text/markdown": [
       "\n",
       "| deactivated |\n",
       "|---|\n",
       "|         |\n",
       "| banned  |\n",
       "| deleted |\n",
       "\n"
      ],
      "text/plain": [
       "  deactivated\n",
       "1            \n",
       "2 banned     \n",
       "3 deleted    "
      ]
     },
     "metadata": {},
     "output_type": "display_data"
    }
   ],
   "source": [
    "# Посмотрим какие у нас в колонке deactivated бывают значения. \n",
    "# Можно сделать это напрямую\n",
    "# команда select вытащила столбец из таблицы, distinct оставила уникальные значения\n",
    "distinct(select(df, deactivated))"
   ]
  },
  {
   "cell_type": "code",
   "execution_count": 17,
   "metadata": {},
   "outputs": [
    {
     "data": {
      "text/html": [
       "<table>\n",
       "<thead><tr><th scope=col>deactivated</th></tr></thead>\n",
       "<tbody>\n",
       "\t<tr><td>       </td></tr>\n",
       "\t<tr><td>banned </td></tr>\n",
       "\t<tr><td>deleted</td></tr>\n",
       "</tbody>\n",
       "</table>\n"
      ],
      "text/latex": [
       "\\begin{tabular}{r|l}\n",
       " deactivated\\\\\n",
       "\\hline\n",
       "\t        \\\\\n",
       "\t banned \\\\\n",
       "\t deleted\\\\\n",
       "\\end{tabular}\n"
      ],
      "text/markdown": [
       "\n",
       "| deactivated |\n",
       "|---|\n",
       "|         |\n",
       "| banned  |\n",
       "| deleted |\n",
       "\n"
      ],
      "text/plain": [
       "  deactivated\n",
       "1            \n",
       "2 banned     \n",
       "3 deleted    "
      ]
     },
     "metadata": {},
     "output_type": "display_data"
    }
   ],
   "source": [
    "# А можно сделать это через трубочку, которая будет последовательно применять \n",
    "# команды к тому, что стоит слева :)\n",
    "\n",
    "df %>% select(deactivated) %>% distinct()"
   ]
  },
  {
   "cell_type": "code",
   "execution_count": 18,
   "metadata": {},
   "outputs": [
    {
     "name": "stdout",
     "output_type": "stream",
     "text": [
      "Были забанены: 255167 \n",
      "Удалили свои страницы: 635954"
     ]
    }
   ],
   "source": [
    "# Посмотрим сколько у нас в таблице заблоченых и удалённых людей\n",
    "# cat это модный print\n",
    "\n",
    "cat('Были забанены:', sum(df$deactivated == 'banned'),'\\n')\n",
    "cat('Удалили свои страницы:', sum(df$deactivated == 'deleted'))"
   ]
  },
  {
   "cell_type": "code",
   "execution_count": 19,
   "metadata": {},
   "outputs": [
    {
     "data": {
      "text/html": [
       "<table>\n",
       "<thead><tr><th scope=col>X</th><th scope=col>city</th><th scope=col>deactivated</th><th scope=col>first_name</th><th scope=col>home_town</th><th scope=col>id</th><th scope=col>last_name</th><th scope=col>sex</th><th scope=col>byear</th><th scope=col>bmonth</th><th scope=col>bday</th></tr></thead>\n",
       "<tbody>\n",
       "\t<tr><td>0              </td><td>Москва         </td><td>               </td><td>Илья           </td><td>               </td><td> 5             </td><td>Перекопский    </td><td>2              </td><td>NA             </td><td>11             </td><td>18             </td></tr>\n",
       "\t<tr><td>1              </td><td>Санкт-Петербург</td><td>               </td><td>Николай        </td><td>               </td><td> 6             </td><td>Дуров          </td><td>2              </td><td>NA             </td><td>NA             </td><td>NA             </td></tr>\n",
       "\t<tr><td>2              </td><td>Санкт-Петербург</td><td>               </td><td>Михаил         </td><td>Санкт-Петербург</td><td>11             </td><td>Петров         </td><td>2              </td><td>NA             </td><td>12             </td><td>18             </td></tr>\n",
       "\t<tr><td>3              </td><td>Санкт-Петербург</td><td>               </td><td>Татьяна        </td><td>               </td><td>34             </td><td>Плуталова      </td><td>1              </td><td>NA             </td><td>NA             </td><td>NA             </td></tr>\n",
       "\t<tr><td>5              </td><td>               </td><td>               </td><td>Сергей         </td><td>               </td><td>57             </td><td>Владимиров     </td><td>2              </td><td>NA             </td><td>NA             </td><td>NA             </td></tr>\n",
       "\t<tr><td>6              </td><td>Москва         </td><td>               </td><td>Людмила        </td><td>               </td><td>71             </td><td>Романченко     </td><td>1              </td><td>NA             </td><td> 2             </td><td> 7             </td></tr>\n",
       "</tbody>\n",
       "</table>\n"
      ],
      "text/latex": [
       "\\begin{tabular}{r|lllllllllll}\n",
       " X & city & deactivated & first\\_name & home\\_town & id & last\\_name & sex & byear & bmonth & bday\\\\\n",
       "\\hline\n",
       "\t 0               & Москва          &                 & Илья            &                 &  5              & Перекопский     & 2               & NA              & 11              & 18             \\\\\n",
       "\t 1               & Санкт-Петербург &                 & Николай         &                 &  6              & Дуров           & 2               & NA              & NA              & NA             \\\\\n",
       "\t 2               & Санкт-Петербург &                 & Михаил          & Санкт-Петербург & 11              & Петров          & 2               & NA              & 12              & 18             \\\\\n",
       "\t 3               & Санкт-Петербург &                 & Татьяна         &                 & 34              & Плуталова       & 1               & NA              & NA              & NA             \\\\\n",
       "\t 5               &                 &                 & Сергей          &                 & 57              & Владимиров      & 2               & NA              & NA              & NA             \\\\\n",
       "\t 6               & Москва          &                 & Людмила         &                 & 71              & Романченко      & 1               & NA              &  2              &  7             \\\\\n",
       "\\end{tabular}\n"
      ],
      "text/markdown": [
       "\n",
       "| X | city | deactivated | first_name | home_town | id | last_name | sex | byear | bmonth | bday |\n",
       "|---|---|---|---|---|---|---|---|---|---|---|\n",
       "| 0               | Москва          |                 | Илья            |                 |  5              | Перекопский     | 2               | NA              | 11              | 18              |\n",
       "| 1               | Санкт-Петербург |                 | Николай         |                 |  6              | Дуров           | 2               | NA              | NA              | NA              |\n",
       "| 2               | Санкт-Петербург |                 | Михаил          | Санкт-Петербург | 11              | Петров          | 2               | NA              | 12              | 18              |\n",
       "| 3               | Санкт-Петербург |                 | Татьяна         |                 | 34              | Плуталова       | 1               | NA              | NA              | NA              |\n",
       "| 5               |                 |                 | Сергей          |                 | 57              | Владимиров      | 2               | NA              | NA              | NA              |\n",
       "| 6               | Москва          |                 | Людмила         |                 | 71              | Романченко      | 1               | NA              |  2              |  7              |\n",
       "\n"
      ],
      "text/plain": [
       "  X city            deactivated first_name home_town       id last_name   sex\n",
       "1 0 Москва                      Илья                        5 Перекопский 2  \n",
       "2 1 Санкт-Петербург             Николай                     6 Дуров       2  \n",
       "3 2 Санкт-Петербург             Михаил     Санкт-Петербург 11 Петров      2  \n",
       "4 3 Санкт-Петербург             Татьяна                    34 Плуталова   1  \n",
       "5 5                             Сергей                     57 Владимиров  2  \n",
       "6 6 Москва                      Людмила                    71 Романченко  1  \n",
       "  byear bmonth bday\n",
       "1 NA    11     18  \n",
       "2 NA    NA     NA  \n",
       "3 NA    12     18  \n",
       "4 NA    NA     NA  \n",
       "5 NA    NA     NA  \n",
       "6 NA     2      7  "
      ]
     },
     "metadata": {},
     "output_type": "display_data"
    }
   ],
   "source": [
    "# 1. Чистим таблицу от удалённых и забаненых \n",
    "\n",
    "df_clean = df %>% filter(deactivated != 'banned', deactivated != 'deleted')\n",
    "head(df_clean)"
   ]
  },
  {
   "cell_type": "code",
   "execution_count": 20,
   "metadata": {},
   "outputs": [],
   "source": [
    "# Срез df_clean = df[(df$deactivated != 'banned')&(df$deactivated != 'deleted'),]\n",
    "# дал бы на выход то же самое, но он бы отработал медленнее деплировской фильтрации.\n",
    "# Ниже все срезы мы будем делать командой filter()."
   ]
  },
  {
   "cell_type": "markdown",
   "metadata": {},
   "source": [
    "__2.__ Удалить из таблички всех людей, для которых недоступны день и месяц рождения."
   ]
  },
  {
   "cell_type": "code",
   "execution_count": 21,
   "metadata": {},
   "outputs": [
    {
     "data": {
      "text/html": [
       "<ol class=list-inline>\n",
       "\t<li>2570799</li>\n",
       "\t<li>11</li>\n",
       "</ol>\n"
      ],
      "text/latex": [
       "\\begin{enumerate*}\n",
       "\\item 2570799\n",
       "\\item 11\n",
       "\\end{enumerate*}\n"
      ],
      "text/markdown": [
       "1. 2570799\n",
       "2. 11\n",
       "\n",
       "\n"
      ],
      "text/plain": [
       "[1] 2570799      11"
      ]
     },
     "metadata": {},
     "output_type": "display_data"
    },
    {
     "data": {
      "text/html": [
       "<table>\n",
       "<thead><tr><th scope=col>X</th><th scope=col>city</th><th scope=col>deactivated</th><th scope=col>first_name</th><th scope=col>home_town</th><th scope=col>id</th><th scope=col>last_name</th><th scope=col>sex</th><th scope=col>byear</th><th scope=col>bmonth</th><th scope=col>bday</th></tr></thead>\n",
       "<tbody>\n",
       "\t<tr><td> 0             </td><td>Москва         </td><td>               </td><td>Илья           </td><td>               </td><td>  5            </td><td>Перекопский    </td><td>2              </td><td>  NA           </td><td>11             </td><td>18             </td></tr>\n",
       "\t<tr><td> 2             </td><td>Санкт-Петербург</td><td>               </td><td>Михаил         </td><td>Санкт-Петербург</td><td> 11            </td><td>Петров         </td><td>2              </td><td>  NA           </td><td>12             </td><td>18             </td></tr>\n",
       "\t<tr><td> 6             </td><td>Москва         </td><td>               </td><td>Людмила        </td><td>               </td><td> 71            </td><td>Романченко     </td><td>1              </td><td>  NA           </td><td> 2             </td><td> 7             </td></tr>\n",
       "\t<tr><td> 7             </td><td>Санкт-Петербург</td><td>               </td><td>Наташа         </td><td>               </td><td> 74            </td><td>Филимонова     </td><td>1              </td><td>1988           </td><td> 7             </td><td>18             </td></tr>\n",
       "\t<tr><td>10             </td><td>Санкт-Петербург</td><td>               </td><td>Михаил         </td><td>               </td><td>175            </td><td>Захаренков     </td><td>2              </td><td>1981           </td><td>11             </td><td>23             </td></tr>\n",
       "\t<tr><td>13             </td><td>Turku          </td><td>               </td><td>Павел          </td><td>St. Petersburg </td><td>208            </td><td>Антипов        </td><td>2              </td><td>  NA           </td><td>11             </td><td>30             </td></tr>\n",
       "</tbody>\n",
       "</table>\n"
      ],
      "text/latex": [
       "\\begin{tabular}{r|lllllllllll}\n",
       " X & city & deactivated & first\\_name & home\\_town & id & last\\_name & sex & byear & bmonth & bday\\\\\n",
       "\\hline\n",
       "\t  0              & Москва          &                 & Илья            &                 &   5             & Перекопский     & 2               &   NA            & 11              & 18             \\\\\n",
       "\t  2              & Санкт-Петербург &                 & Михаил          & Санкт-Петербург &  11             & Петров          & 2               &   NA            & 12              & 18             \\\\\n",
       "\t  6              & Москва          &                 & Людмила         &                 &  71             & Романченко      & 1               &   NA            &  2              &  7             \\\\\n",
       "\t  7              & Санкт-Петербург &                 & Наташа          &                 &  74             & Филимонова      & 1               & 1988            &  7              & 18             \\\\\n",
       "\t 10              & Санкт-Петербург &                 & Михаил          &                 & 175             & Захаренков      & 2               & 1981            & 11              & 23             \\\\\n",
       "\t 13              & Turku           &                 & Павел           & St. Petersburg  & 208             & Антипов         & 2               &   NA            & 11              & 30             \\\\\n",
       "\\end{tabular}\n"
      ],
      "text/markdown": [
       "\n",
       "| X | city | deactivated | first_name | home_town | id | last_name | sex | byear | bmonth | bday |\n",
       "|---|---|---|---|---|---|---|---|---|---|---|\n",
       "|  0              | Москва          |                 | Илья            |                 |   5             | Перекопский     | 2               |   NA            | 11              | 18              |\n",
       "|  2              | Санкт-Петербург |                 | Михаил          | Санкт-Петербург |  11             | Петров          | 2               |   NA            | 12              | 18              |\n",
       "|  6              | Москва          |                 | Людмила         |                 |  71             | Романченко      | 1               |   NA            |  2              |  7              |\n",
       "|  7              | Санкт-Петербург |                 | Наташа          |                 |  74             | Филимонова      | 1               | 1988            |  7              | 18              |\n",
       "| 10              | Санкт-Петербург |                 | Михаил          |                 | 175             | Захаренков      | 2               | 1981            | 11              | 23              |\n",
       "| 13              | Turku           |                 | Павел           | St. Petersburg  | 208             | Антипов         | 2               |   NA            | 11              | 30              |\n",
       "\n"
      ],
      "text/plain": [
       "  X  city            deactivated first_name home_town       id  last_name   sex\n",
       "1  0 Москва                      Илья                         5 Перекопский 2  \n",
       "2  2 Санкт-Петербург             Михаил     Санкт-Петербург  11 Петров      2  \n",
       "3  6 Москва                      Людмила                     71 Романченко  1  \n",
       "4  7 Санкт-Петербург             Наташа                      74 Филимонова  1  \n",
       "5 10 Санкт-Петербург             Михаил                     175 Захаренков  2  \n",
       "6 13 Turku                       Павел      St. Petersburg  208 Антипов     2  \n",
       "  byear bmonth bday\n",
       "1   NA  11     18  \n",
       "2   NA  12     18  \n",
       "3   NA   2      7  \n",
       "4 1988   7     18  \n",
       "5 1981  11     23  \n",
       "6   NA  11     30  "
      ]
     },
     "metadata": {},
     "output_type": "display_data"
    }
   ],
   "source": [
    "# 2. Дропаем NA по дням и месяцам\n",
    "df_dropna = df_clean %>% filter(!is.na(bday),!is.na(bmonth))\n",
    "\n",
    "dim(df_dropna)  # число строк довольно сильно упало :(\n",
    "head(df_dropna)"
   ]
  },
  {
   "cell_type": "markdown",
   "metadata": {},
   "source": [
    "__3.__ Постройте гистограмму, на которой было бы понятно в какой месяц родилось какое количество людей. Команда для этого приведена ниже. Как считате, помесячная рождаемость имеет равномерное распределение?"
   ]
  },
  {
   "cell_type": "code",
   "execution_count": 22,
   "metadata": {},
   "outputs": [
    {
     "data": {
      "image/png": "[encoded data removed]",
      "text/plain": [
       "plot without title"
      ]
     },
     "metadata": {},
     "output_type": "display_data"
    }
   ],
   "source": [
    "# 3. Гистограмма с рождаемостью по месяцам \n",
    "ggplot(df_dropna, aes(x=factor(bmonth)))+\n",
    "    geom_bar(stat=\"count\", width=0.7, fill=\"steelblue\") + \n",
    "    xlab('Month') + ylab('Count')"
   ]
  },
  {
   "cell_type": "markdown",
   "metadata": {},
   "source": [
    "Такс такс такс, что тут у нас. Учитывая, что выборка довольно большого объёма, сложно списать разницу в высоте столбиков на случайность. Если мы будем проверять гипотезу о равномерности распределения, скорее всего, она будет отвергаться. Почему-то в конце года рождается меньше людей. "
   ]
  },
  {
   "cell_type": "markdown",
   "metadata": {},
   "source": [
    "__4.__ Постройте точно такую же гистограмму для дней рождений. Вас ждёт небольшой сюрприз. Избавьтесь от этого сюрприза, чтобы он не замусоривал данные. Как считате, подневная рождаемость имеет равномерное распределение? "
   ]
  },
  {
   "cell_type": "code",
   "execution_count": 23,
   "metadata": {},
   "outputs": [
    {
     "data": {
      "image/png": "[encoded data removed]",
      "text/plain": [
       "plot without title"
      ]
     },
     "metadata": {},
     "output_type": "display_data"
    }
   ],
   "source": [
    "# 4. Аналогичная картинка для дней \n",
    "ggplot(df_dropna, aes(x=factor(bday)))+\n",
    "    geom_bar(stat=\"count\", width=0.7, fill=\"steelblue\") + \n",
    "    xlab('Days') + ylab('Count')"
   ]
  },
  {
   "cell_type": "code",
   "execution_count": 24,
   "metadata": {},
   "outputs": [
    {
     "data": {
      "text/html": [
       "<table>\n",
       "<thead><tr><th></th><th scope=col>bday</th></tr></thead>\n",
       "<tbody>\n",
       "\t<tr><th scope=row>34</th><td>       1984</td></tr>\n",
       "\t<tr><th scope=row>35</th><td>        -99</td></tr>\n",
       "\t<tr><th scope=row>36</th><td>        666</td></tr>\n",
       "\t<tr><th scope=row>37</th><td>-1234567890</td></tr>\n",
       "\t<tr><th scope=row>38</th><td>        313</td></tr>\n",
       "\t<tr><th scope=row>39</th><td>       -111</td></tr>\n",
       "</tbody>\n",
       "</table>\n"
      ],
      "text/latex": [
       "\\begin{tabular}{r|l}\n",
       "  & bday\\\\\n",
       "\\hline\n",
       "\t34 &        1984\\\\\n",
       "\t35 &         -99\\\\\n",
       "\t36 &         666\\\\\n",
       "\t37 & -1234567890\\\\\n",
       "\t38 &         313\\\\\n",
       "\t39 &        -111\\\\\n",
       "\\end{tabular}\n"
      ],
      "text/markdown": [
       "\n",
       "| <!--/--> | bday |\n",
       "|---|---|\n",
       "| 34 |        1984 |\n",
       "| 35 |         -99 |\n",
       "| 36 |         666 |\n",
       "| 37 | -1234567890 |\n",
       "| 38 |         313 |\n",
       "| 39 |        -111 |\n",
       "\n"
      ],
      "text/plain": [
       "   bday       \n",
       "34        1984\n",
       "35         -99\n",
       "36         666\n",
       "37 -1234567890\n",
       "38         313\n",
       "39        -111"
      ]
     },
     "metadata": {},
     "output_type": "display_data"
    }
   ],
   "source": [
    "# Что за?! \n",
    "df_dropna %>% select(bday) %>% distinct() %>% tail()"
   ]
  },
  {
   "cell_type": "markdown",
   "metadata": {},
   "source": [
    "Сюрприз! Вконтакте есть баги в записях. Служба поддержки отвечат, что в давнем времени была возможность обходить валидацию и писать некорректные данные в некоторые поля. Придётся нам отфильтровать это. "
   ]
  },
  {
   "cell_type": "code",
   "execution_count": 25,
   "metadata": {},
   "outputs": [
    {
     "data": {
      "image/png": "[encoded data removed]",
      "text/plain": [
       "plot without title"
      ]
     },
     "metadata": {},
     "output_type": "display_data"
    }
   ],
   "source": [
    "df_dropna = df_dropna %>% filter(bday >=0, bday <=31)\n",
    "\n",
    "ggplot(df_dropna, aes(x=factor(bday)))+\n",
    "    geom_bar(stat=\"count\", width=0.7, fill=\"steelblue\") + \n",
    "    xlab('Days') + ylab('Count')"
   ]
  },
  {
   "cell_type": "markdown",
   "metadata": {},
   "source": [
    "Снова равномерное распределение не особо наблюдается. Почему-то дети любят рождаться в самом начале месяца. "
   ]
  },
  {
   "cell_type": "markdown",
   "metadata": {},
   "source": [
    "__5.__ Эмпирически оцените вероятность того, что в группе из 50 произвольных людей найдутся хотя бы двое с одинаковым днём рождения. Для этого напишите цикл, в ходе которого из таблички с помощью команды `sample` будет делаться подвыборка из 50 строк. Для этих 50 строк внутри условия вы должны проверить совпадение дней рождений. Если совпало, то нужно запомнить это в переменную счётчик, которую вы впоследствии, чтобы получить вероятность, поделите на длину цикла."
   ]
  },
  {
   "cell_type": "code",
   "execution_count": 64,
   "metadata": {},
   "outputs": [
    {
     "data": {
      "text/html": [
       "47"
      ],
      "text/latex": [
       "47"
      ],
      "text/markdown": [
       "47"
      ],
      "text/plain": [
       "[1] 47"
      ]
     },
     "metadata": {},
     "output_type": "display_data"
    }
   ],
   "source": [
    "# sample_n  выбрала рандомные 50 строк \n",
    "# после мы выбрали колонку с датами\n",
    "# в колонке с датами оставили уникальные значения\n",
    "# подсчитали их количество \n",
    "# если уникальных значений меньше 50, значит два др совпали \n",
    "\n",
    "df_dropna %>% sample_n(50) %>% select(bdate) %>% distinct() %>% nrow()"
   ]
  },
  {
   "cell_type": "code",
   "execution_count": 65,
   "metadata": {},
   "outputs": [],
   "source": [
    "# Засунем всё это в функцию \n",
    "# Аргументы: \n",
    "#     df - таблица \n",
    "#     n_ppl - сколько случайных людей должно оказаться в комнате \n",
    "#     n_obs - сколько генераций с выбором людей надо сделать \n",
    "#     col_name - какая колонка нас интересует\n",
    "\n",
    "prob_estimator <- function(df, n_ppl, n_obs, colname){\n",
    "    \n",
    "    m = 0\n",
    "    for(i in 1:n_obs){\n",
    "        k = df %>% sample_n(n_ppl) %>% select(colname) %>% distinct() %>% nrow()\n",
    "        if(k != n_ppl){\n",
    "            m = m + 1\n",
    "        }\n",
    "    }\n",
    "\n",
    "    return(m/n_obs)\n",
    "}"
   ]
  },
  {
   "cell_type": "code",
   "execution_count": 67,
   "metadata": {},
   "outputs": [
    {
     "data": {
      "text/html": [
       "1"
      ],
      "text/latex": [
       "1"
      ],
      "text/markdown": [
       "1"
      ],
      "text/plain": [
       "[1] 1"
      ]
     },
     "metadata": {},
     "output_type": "display_data"
    }
   ],
   "source": [
    "# для 100 человек\n",
    "prob_estimator(df_dropna, 100, 1000, 'bdate')"
   ]
  },
  {
   "cell_type": "code",
   "execution_count": 68,
   "metadata": {},
   "outputs": [
    {
     "data": {
      "text/html": [
       "0.513"
      ],
      "text/latex": [
       "0.513"
      ],
      "text/markdown": [
       "0.513"
      ],
      "text/plain": [
       "[1] 0.513"
      ]
     },
     "metadata": {},
     "output_type": "display_data"
    }
   ],
   "source": [
    "# Посмотрим то же самое для 23 человек \n",
    "prob_estimator(df_dropna, 23, 1000, 'bdate')"
   ]
  },
  {
   "cell_type": "markdown",
   "metadata": {},
   "source": [
    "Вроде бы всё более-менее согласуется с теорией и вероятности получаются похожими на неё, хоть и немного другими. Попробуем позапускать эксперимент на разном числе людей в группе. Оценки будем строить на основе $1000$ наблюдений. На основе запусков составим следущую забавную табличку: \n",
    "\n",
    "\n",
    "| Людей в группе |Теоретическая вероятность|Эмпирическая вероятность|\n",
    "|----------------|-------------------------|------------------------|\n",
    "|10              |0.12                     | 0.13                   |\n",
    "|20              |0.41                     | 0.45                   |\n",
    "|30              |0.70                     | 0.71                   |\n",
    "|50              |0.97                     | 0.98                   |\n",
    "|100             |0.99                     | 1                      |\n",
    "\n",
    "Поосторожнее с идеей проверить правильной ли получилась табличка. Код для оценивания всех вероятностей в ней работает довольно долго. \n",
    "\n",
    "В конечном счёте наши оценки довольно похожи на цифры, полученные в теории. Парадокс дней рождений разрешён в нашу пользу. На самом деле неплохо было бы построить для каждой из долей доверительный интервалы и чисто формально проверить гипотезу о том, что каждая из долей совпадает с теоретической, но это мы оставим до будущих занятий. "
   ]
  },
  {
   "cell_type": "markdown",
   "metadata": {},
   "source": [
    "__6.__ Попробуйте проделать ту же оценку отдельно для подмножества женщин и подмножества мужчин. Насколько оценки вероятностей разнятся? "
   ]
  },
  {
   "cell_type": "code",
   "execution_count": 69,
   "metadata": {},
   "outputs": [
    {
     "data": {
      "text/html": [
       "0.982"
      ],
      "text/latex": [
       "0.982"
      ],
      "text/markdown": [
       "0.982"
      ],
      "text/plain": [
       "[1] 0.982"
      ]
     },
     "metadata": {},
     "output_type": "display_data"
    },
    {
     "data": {
      "text/html": [
       "0.971"
      ],
      "text/latex": [
       "0.971"
      ],
      "text/markdown": [
       "0.971"
      ],
      "text/plain": [
       "[1] 0.971"
      ]
     },
     "metadata": {},
     "output_type": "display_data"
    }
   ],
   "source": [
    "df_male = df_dropna %>% filter(sex == 2)\n",
    "df_female = df_dropna %>% filter(sex == 1)\n",
    "\n",
    "prob_estimator(df_male,   50, 1000, 'bdate')\n",
    "prob_estimator(df_female, 50, 1000, 'bdate')"
   ]
  },
  {
   "cell_type": "code",
   "execution_count": 70,
   "metadata": {},
   "outputs": [
    {
     "data": {
      "text/html": [
       "0.534"
      ],
      "text/latex": [
       "0.534"
      ],
      "text/markdown": [
       "0.534"
      ],
      "text/plain": [
       "[1] 0.534"
      ]
     },
     "metadata": {},
     "output_type": "display_data"
    },
    {
     "data": {
      "text/html": [
       "0.502"
      ],
      "text/latex": [
       "0.502"
      ],
      "text/markdown": [
       "0.502"
      ],
      "text/plain": [
       "[1] 0.502"
      ]
     },
     "metadata": {},
     "output_type": "display_data"
    }
   ],
   "source": [
    "prob_estimator(df_male,   23, 1000, 'bdate')\n",
    "prob_estimator(df_female, 23, 1000, 'bdate')"
   ]
  },
  {
   "cell_type": "markdown",
   "metadata": {},
   "source": [
    "Оценки разнятся не то чтобы особо сильно. Опять же, было бы неплохо проверить гипотезу о равенстве долей для мужчин и женщин. Но это тоже остаётся на будущее.\n",
    "\n",
    "На самом деле мы с вами только что впервые попробовали вскрыть внутренности сундука, о котором мы говорили на прошлой паре, по итоговой выборке. Закон больших чисел в форме Бернулли (помните из лекций по терверу?) позволил нам оценить вероятность события на основе его частоты. Очень круто, когда математика разрешает тебе сделать что-нибудь клёвое. "
   ]
  },
  {
   "cell_type": "markdown",
   "metadata": {},
   "source": [
    "__[3] Простая часть, решения которой в домашке прошло года нет__\n",
    "\n",
    "__1.__ Сколько в итоговой, прошедшей все фильтры из предыдущего пункта, выборке есть уникальных имён? Какое мужское имя самое популярное? Какое женское имя самое популярное? Постройте гистограмму для 30 самых популярных имён.  \n"
   ]
  },
  {
   "cell_type": "code",
   "execution_count": 71,
   "metadata": {},
   "outputs": [
    {
     "data": {
      "text/html": [
       "119378"
      ],
      "text/latex": [
       "119378"
      ],
      "text/markdown": [
       "119378"
      ],
      "text/plain": [
       "[1] 119378"
      ]
     },
     "metadata": {},
     "output_type": "display_data"
    }
   ],
   "source": [
    "# уникальных имён\n",
    "df_dropna %>% select(first_name) %>% distinct() %>% nrow()"
   ]
  },
  {
   "cell_type": "code",
   "execution_count": 72,
   "metadata": {},
   "outputs": [
    {
     "data": {
      "text/html": [
       "77704"
      ],
      "text/latex": [
       "77704"
      ],
      "text/markdown": [
       "77704"
      ],
      "text/plain": [
       "[1] 77704"
      ]
     },
     "metadata": {},
     "output_type": "display_data"
    }
   ],
   "source": [
    "# из них мужские\n",
    "df_male %>% select(first_name) %>% distinct() %>% nrow()"
   ]
  },
  {
   "cell_type": "code",
   "execution_count": 73,
   "metadata": {},
   "outputs": [
    {
     "data": {
      "text/html": [
       "49248"
      ],
      "text/latex": [
       "49248"
      ],
      "text/markdown": [
       "49248"
      ],
      "text/plain": [
       "[1] 49248"
      ]
     },
     "metadata": {},
     "output_type": "display_data"
    }
   ],
   "source": [
    "# из них женские\n",
    "df_female %>% select(first_name) %>% distinct() %>% nrow()"
   ]
  },
  {
   "cell_type": "markdown",
   "metadata": {},
   "source": [
    "Будем делать вид, что Максим - Макс и т.п это разные имена. Мы пока не умеем исправлять такие вещи. Но в будущем обязательно научимся на каком-нибудь курсе по анализу текстов. :3 "
   ]
  },
  {
   "cell_type": "code",
   "execution_count": 83,
   "metadata": {},
   "outputs": [
    {
     "data": {
      "text/html": [
       "<table>\n",
       "<thead><tr><th scope=col>first_name</th><th scope=col>count</th></tr></thead>\n",
       "<tbody>\n",
       "\t<tr><td>Иван     </td><td>19541    </td></tr>\n",
       "\t<tr><td>Евгений  </td><td>20313    </td></tr>\n",
       "\t<tr><td>Денис    </td><td>20865    </td></tr>\n",
       "\t<tr><td>Никита   </td><td>22458    </td></tr>\n",
       "\t<tr><td>Максим   </td><td>31290    </td></tr>\n",
       "\t<tr><td>Дмитрий  </td><td>32661    </td></tr>\n",
       "\t<tr><td>Алексей  </td><td>33392    </td></tr>\n",
       "\t<tr><td>Сергей   </td><td>43808    </td></tr>\n",
       "\t<tr><td>Андрей   </td><td>44452    </td></tr>\n",
       "\t<tr><td>Александр</td><td>57455    </td></tr>\n",
       "</tbody>\n",
       "</table>\n"
      ],
      "text/latex": [
       "\\begin{tabular}{r|ll}\n",
       " first\\_name & count\\\\\n",
       "\\hline\n",
       "\t Иван      & 19541    \\\\\n",
       "\t Евгений   & 20313    \\\\\n",
       "\t Денис     & 20865    \\\\\n",
       "\t Никита    & 22458    \\\\\n",
       "\t Максим    & 31290    \\\\\n",
       "\t Дмитрий   & 32661    \\\\\n",
       "\t Алексей   & 33392    \\\\\n",
       "\t Сергей    & 43808    \\\\\n",
       "\t Андрей    & 44452    \\\\\n",
       "\t Александр & 57455    \\\\\n",
       "\\end{tabular}\n"
      ],
      "text/markdown": [
       "\n",
       "| first_name | count |\n",
       "|---|---|\n",
       "| Иван      | 19541     |\n",
       "| Евгений   | 20313     |\n",
       "| Денис     | 20865     |\n",
       "| Никита    | 22458     |\n",
       "| Максим    | 31290     |\n",
       "| Дмитрий   | 32661     |\n",
       "| Алексей   | 33392     |\n",
       "| Сергей    | 43808     |\n",
       "| Андрей    | 44452     |\n",
       "| Александр | 57455     |\n",
       "\n"
      ],
      "text/plain": [
       "   first_name count\n",
       "1  Иван       19541\n",
       "2  Евгений    20313\n",
       "3  Денис      20865\n",
       "4  Никита     22458\n",
       "5  Максим     31290\n",
       "6  Дмитрий    32661\n",
       "7  Алексей    33392\n",
       "8  Сергей     43808\n",
       "9  Андрей     44452\n",
       "10 Александр  57455"
      ]
     },
     "metadata": {},
     "output_type": "display_data"
    }
   ],
   "source": [
    "        # группировка по именам    для каждого считаем число    потом сортируем   топ внизу \n",
    "df_male %>% group_by(first_name) %>% summarise(count = n()) %>% arrange(count) %>% tail(10)"
   ]
  },
  {
   "cell_type": "code",
   "execution_count": 84,
   "metadata": {},
   "outputs": [
    {
     "data": {
      "text/html": [
       "<table>\n",
       "<thead><tr><th scope=col>first_name</th><th scope=col>count</th></tr></thead>\n",
       "<tbody>\n",
       "\t<tr><td>Мария    </td><td>22829    </td></tr>\n",
       "\t<tr><td>Виктория </td><td>23204    </td></tr>\n",
       "\t<tr><td>Ольга    </td><td>23805    </td></tr>\n",
       "\t<tr><td>Юлия     </td><td>24084    </td></tr>\n",
       "\t<tr><td>Ирина    </td><td>24522    </td></tr>\n",
       "\t<tr><td>Екатерина</td><td>24988    </td></tr>\n",
       "\t<tr><td>Анна     </td><td>25332    </td></tr>\n",
       "\t<tr><td>Татьяна  </td><td>26215    </td></tr>\n",
       "\t<tr><td>Елена    </td><td>30588    </td></tr>\n",
       "\t<tr><td>Анастасия</td><td>37298    </td></tr>\n",
       "</tbody>\n",
       "</table>\n"
      ],
      "text/latex": [
       "\\begin{tabular}{r|ll}\n",
       " first\\_name & count\\\\\n",
       "\\hline\n",
       "\t Мария     & 22829    \\\\\n",
       "\t Виктория  & 23204    \\\\\n",
       "\t Ольга     & 23805    \\\\\n",
       "\t Юлия      & 24084    \\\\\n",
       "\t Ирина     & 24522    \\\\\n",
       "\t Екатерина & 24988    \\\\\n",
       "\t Анна      & 25332    \\\\\n",
       "\t Татьяна   & 26215    \\\\\n",
       "\t Елена     & 30588    \\\\\n",
       "\t Анастасия & 37298    \\\\\n",
       "\\end{tabular}\n"
      ],
      "text/markdown": [
       "\n",
       "| first_name | count |\n",
       "|---|---|\n",
       "| Мария     | 22829     |\n",
       "| Виктория  | 23204     |\n",
       "| Ольга     | 23805     |\n",
       "| Юлия      | 24084     |\n",
       "| Ирина     | 24522     |\n",
       "| Екатерина | 24988     |\n",
       "| Анна      | 25332     |\n",
       "| Татьяна   | 26215     |\n",
       "| Елена     | 30588     |\n",
       "| Анастасия | 37298     |\n",
       "\n"
      ],
      "text/plain": [
       "   first_name count\n",
       "1  Мария      22829\n",
       "2  Виктория   23204\n",
       "3  Ольга      23805\n",
       "4  Юлия       24084\n",
       "5  Ирина      24522\n",
       "6  Екатерина  24988\n",
       "7  Анна       25332\n",
       "8  Татьяна    26215\n",
       "9  Елена      30588\n",
       "10 Анастасия  37298"
      ]
     },
     "metadata": {},
     "output_type": "display_data"
    }
   ],
   "source": [
    "         # группировка по именам    для каждого считаем число    потом сортируем   топ внизу \n",
    "df_female %>% group_by(first_name) %>% summarise(count = n()) %>% arrange(count) %>% tail(10)"
   ]
  },
  {
   "cell_type": "markdown",
   "metadata": {},
   "source": [
    "__2.__ Оцените вероятность того, что в группе из 50 произвольных людей найдутся хотя бы двое с одинаковыми именами. Она оказалась больше или меньше, чем в пункте про дни рождения?"
   ]
  },
  {
   "cell_type": "code",
   "execution_count": 85,
   "metadata": {},
   "outputs": [
    {
     "data": {
      "text/html": [
       "0.993"
      ],
      "text/latex": [
       "0.993"
      ],
      "text/markdown": [
       "0.993"
      ],
      "text/plain": [
       "[1] 0.993"
      ]
     },
     "metadata": {},
     "output_type": "display_data"
    }
   ],
   "source": [
    "# используем ту же самую функцию,но меняем имя колонки \n",
    "prob_estimator(df_dropna, 50, 1000, 'first_name')"
   ]
  },
  {
   "cell_type": "markdown",
   "metadata": {},
   "source": [
    "__3.__ Разнятся ли эти вероятности между мужчинами и женщинами? "
   ]
  },
  {
   "cell_type": "code",
   "execution_count": 86,
   "metadata": {},
   "outputs": [
    {
     "data": {
      "text/html": [
       "1"
      ],
      "text/latex": [
       "1"
      ],
      "text/markdown": [
       "1"
      ],
      "text/plain": [
       "[1] 1"
      ]
     },
     "metadata": {},
     "output_type": "display_data"
    }
   ],
   "source": [
    "# используем ту же самую функцию, но меняем имя колонки и имя таблиц\n",
    "prob_estimator(df_male, 50, 1000, 'first_name')"
   ]
  },
  {
   "cell_type": "code",
   "execution_count": 87,
   "metadata": {},
   "outputs": [
    {
     "data": {
      "text/html": [
       "1"
      ],
      "text/latex": [
       "1"
      ],
      "text/markdown": [
       "1"
      ],
      "text/plain": [
       "[1] 1"
      ]
     },
     "metadata": {},
     "output_type": "display_data"
    }
   ],
   "source": [
    "prob_estimator(df_female, 50, 1000, 'first_name')"
   ]
  },
  {
   "cell_type": "markdown",
   "metadata": {},
   "source": [
    "### [2] Задачка 16\n",
    "\n",
    "Предположим, что рост $100$ второкурсников распределен нормально со средним $175$ см и стандартным отклонением $8$ см. Если сделать выборку в $5$ человек и посчитать по ней средний рост $\\bar x$, то какими будут $E(\\bar x)$ и $Var(\\bar x)$, если выборки делаются \n",
    "\t \n",
    "__а)__ с возвращением, то есть наблюдения $x_1, \\ldots, x_5$ производятся независимо;\n",
    "\t \t\n",
    "__б)__ без возвращения, то есть наблюдения зависимы.\n",
    "\n",
    "Решите задачу вручную и проверьте своё решение с помощью симуляций."
   ]
  },
  {
   "cell_type": "code",
   "execution_count": 89,
   "metadata": {},
   "outputs": [
    {
     "data": {
      "text/html": [
       "175.530778716378"
      ],
      "text/latex": [
       "175.530778716378"
      ],
      "text/markdown": [
       "175.530778716378"
      ],
      "text/plain": [
       "[1] 175.5308"
      ]
     },
     "metadata": {},
     "output_type": "display_data"
    },
    {
     "data": {
      "text/html": [
       "8.06896888495762"
      ],
      "text/latex": [
       "8.06896888495762"
      ],
      "text/markdown": [
       "8.06896888495762"
      ],
      "text/plain": [
       "[1] 8.068969"
      ]
     },
     "metadata": {},
     "output_type": "display_data"
    }
   ],
   "source": [
    "set.seed(40)\n",
    "x <- rnorm(100, mean=175, sd=8)\n",
    "\n",
    "# Нужно сгенерить так, чтобы значения были близки к теории, \n",
    "# иначе дальнейшие сэмплы будут далеки от расчётов на бумажке\n",
    "mean(x)\n",
    "sd(x)"
   ]
  },
  {
   "cell_type": "markdown",
   "metadata": {},
   "source": [
    "__Cценарий 1: отбор без повторения.__\n",
    "\n",
    "Тут ничего особенного. Всё ровно как в лекциях. \n",
    "\n",
    "\\begin{equation} \n",
    "\\begin{aligned} \n",
    "& E(\\bar x) = \\frac{1}{n} \\sum_{i=1}^n E(x_i) = E(x_i) = 175 \\\\ \n",
    "& Var(\\bar x) = \\frac{1}{n^2} \\sum_{i=1}^n Var(x_i) = \\frac{Var(x_i)}{n} = \\frac{8^2}{5} = 12.8\n",
    "\\end{aligned}\n",
    "\\end{equation}"
   ]
  },
  {
   "cell_type": "code",
   "execution_count": 90,
   "metadata": {},
   "outputs": [
    {
     "data": {
      "text/html": [
       "175.532200249253"
      ],
      "text/latex": [
       "175.532200249253"
      ],
      "text/markdown": [
       "175.532200249253"
      ],
      "text/plain": [
       "[1] 175.5322"
      ]
     },
     "metadata": {},
     "output_type": "display_data"
    },
    {
     "data": {
      "text/html": [
       "12.8811143326075"
      ],
      "text/latex": [
       "12.8811143326075"
      ],
      "text/markdown": [
       "12.8811143326075"
      ],
      "text/plain": [
       "[1] 12.88111"
      ]
     },
     "metadata": {},
     "output_type": "display_data"
    }
   ],
   "source": [
    "# Делаем n_obs выборок с возвращением\n",
    "n_obs = 10^6\n",
    "\n",
    "mean_1 = rep(0, n_obs)\n",
    "\n",
    "for(i in 1:n_obs){\n",
    "    sample_1 = sample(x, size=5, replace = TRUE)\n",
    "    mean_1[i] = mean(sample_1)\n",
    "    }\n",
    "\n",
    "mean(mean_1)\n",
    "var(mean_1)"
   ]
  },
  {
   "cell_type": "markdown",
   "metadata": {},
   "source": [
    "__Cценарий 2: отбор c повторением.__\n",
    "\n",
    "Тут происходит несчастье. Раньше иы всегда пользовались тем, что выборка независимо одинаково распределена. Тут это неправда. Каждое наблюдение, которое мы вытягиваем не может быть вытянуто второй раз. Это влияет на следущее наблюдение. Между случайными величинами $X_1, \\ldots, X_n$ возникает связь. Давайте посмотрим что из-за этой связи произойдёт с дисперсией среднего. \n",
    "\n",
    "\\begin{equation} \n",
    "\\begin{aligned} \n",
    "& E(\\bar x) = \\frac{1}{n} \\sum_{i=1}^n E(x_i) = E(x_i) = 175 \\\\ \n",
    "& Var(\\bar x) = \\frac{n \\cdot Var(x_i) + 2 \\cdot C_n^2 \\cdot Cov(x_i,x_j)}{n^2}\n",
    "\\end{aligned}\n",
    "\\end{equation}\n",
    "\n",
    "Ковариацию можно найти, вспомнив что сумма случайностей неслучайна, как в семинарской задачке с кубиком. У нас всего $100$ второкурсников. Это размер нашей генеральной совокупности. То есть $X_1 + \\ldots + X_{100}$ всегда будет какой-то константой. Ковариация случайной величины и константы это ноль. Получаем, что: \n",
    "\n",
    "\\begin{equation} \n",
    "\\begin{aligned} \n",
    "&Cov(X_1, X_1 + \\ldots + X_{100}) = 0 \\\\\n",
    "&Cov(X_1, X_1) + Cov(X_1,X_2) + \\ldots + Cov(X_1, X_{100}) = 0 \\\\\n",
    "&Var(X_1) + (n-1) \\cdot Cov(X_1,X_2) = 0 \\\\\n",
    "&Cov(X_1,X_2) = -\\frac{Var(X_1)}{n-1}\n",
    "\\end{aligned}\n",
    "\\end{equation}\n",
    "\n",
    "Добиваем задачку. \n",
    "\n",
    "$$\n",
    "Var(\\bar x) = \\frac{n \\cdot Var(x_i) + 2 \\cdot C_n^2 \\cdot Cov(x_i,x_j)}{n^2}  = \\frac{5 \\cdot 8^2 + 5 \\cdot 4 \\cdot (- ^64/_{99})}{25} = 12.28 \n",
    "$$\n",
    "\n",
    "Получается, что при повторных выборках дисперсия меньше. Давайте сгенерируем это добро, а после обсудим что это всё означает с теоретической точки зрения. "
   ]
  },
  {
   "cell_type": "code",
   "execution_count": 91,
   "metadata": {},
   "outputs": [
    {
     "data": {
      "text/html": [
       "175.534453269664"
      ],
      "text/latex": [
       "175.534453269664"
      ],
      "text/markdown": [
       "175.534453269664"
      ],
      "text/plain": [
       "[1] 175.5345"
      ]
     },
     "metadata": {},
     "output_type": "display_data"
    },
    {
     "data": {
      "text/html": [
       "12.3786128535239"
      ],
      "text/latex": [
       "12.3786128535239"
      ],
      "text/markdown": [
       "12.3786128535239"
      ],
      "text/plain": [
       "[1] 12.37861"
      ]
     },
     "metadata": {},
     "output_type": "display_data"
    }
   ],
   "source": [
    "# Делаем n_obs выборок без возвращения\n",
    "mean_2 = rep(0, n_obs)\n",
    "\n",
    "for(i in 1:n_obs){\n",
    "    sample_2 = sample(x, size=5, replace = FALSE)\n",
    "    mean_2[i] = mean(sample_2)\n",
    "    }\n",
    "\n",
    "mean(mean_2)\n",
    "var(mean_2)"
   ]
  },
  {
   "cell_type": "markdown",
   "metadata": {},
   "source": [
    "__Мораль:__  В матстате, перед построением оценки или доверительного интервала, мы постоянно предполагаем, что наши наблюдения $x_1, \\ldots, x_n$ одинаково и независимо распределены. В реальности это может быть не так. В задачке выше при большой выборке ковариация между соседними наблюдениями будет ничтожно маленькой и мы можем смело пренебрегать той маленькой взаимосвязью между наблюдениями, так как она никак не скажется на итоговых результатах. \n",
    "\n",
    "А, что если выборка очень маленькая? Мало ли ковариация будет положительной, а дисперсия большой... Тогда все предпосылке катятся в пекло.  Эта задачка именно об этом. Попытайтесь придумать ситуацию, когда в выборке между наблюдениями резко возникает зависимость, причём ещё и положительная. "
   ]
  },
  {
   "cell_type": "markdown",
   "metadata": {},
   "source": [
    "### [2]  Задачка 17\n",
    "\n",
    "У Маши 30 разных пар туфель. И она говорит, что мало! Пёс Шарик утащил без разбору на левые и правые $17$ туфель. Какова вероятность того, что у маши останется ровно $13$ полных пар? Пусть случайная величина $X$ — число полных пар у Маши. Найдите $E(X)$ и $Var(X)$.\n",
    "\n",
    "Решите задачу вручную и проверьте своё решение с помощью симуляций."
   ]
  },
  {
   "cell_type": "markdown",
   "metadata": {},
   "source": [
    "__Найдём вероятность того, что у Маши останется 13 полных пар.__ Шарик тащит $17$ туфелек. Всего вариантов стащить туфли у него $C_{60}^{17}$, потому что всего у Маши туфелек $60$ штук. Чтобы у Маши осталось ровно $13$ пар, остальные $17$ Шарик должен подпортить. Значит он сначала выбирает $17$ пар из $30$, а после в каждой паре выбирает какую туфельку покорёжить. Получаем $C_{30}^{17} \\cdot 2^{17}$ способов. Итого:\n",
    "\n",
    "$$\n",
    "P(A) = \\frac{C_{30}^{17} \\cdot 2^{17}}{C_{60}^{17}} \\approx 0.04 \n",
    "$$"
   ]
  },
  {
   "cell_type": "markdown",
   "metadata": {},
   "source": [
    "__Найдём теперь математическое ожидание числа оставшихся пар.__  Пусть $X$ - число полных пар у Маши. Разобьём эту случайную величину в сумму простейших $X = X_1 + \\ldots + X_{30}$, где \n",
    "\n",
    "\\begin{equation*}\n",
    "X_i = \n",
    " \\begin{cases}\n",
    "   1, &\\text{если i-ая пара осталась}\\\\\n",
    "   0, &\\text{если i-ая пара не осталась}\n",
    " \\end{cases}\n",
    "\\end{equation*}\n",
    "\n",
    "Найдём $P(X_i = 1)$. Для этого нужно, чтобы Шарик точно не трогал нашу пару, но трогал остальные. Это может произойти $C_{58}^{17}$ способами, то есть \n",
    "\n",
    "$$\n",
    "P(X_i = 1) = \\frac{C_{58}^{17}}{C_{60}^{17}} \\approx 0.51\n",
    "$$\n",
    "\n",
    "Получается, что \n",
    "\n",
    "$$\n",
    "E(X) = E(X_1) + \\ldots + E(X_{30}) = 30 \\cdot E(X_i) = 30 \\cdot P(X_i = 1) \\approx 15.3\n",
    "$$"
   ]
  },
  {
   "cell_type": "markdown",
   "metadata": {},
   "source": [
    "__Теперь найдём дисперсию числа оставшихся пар.__\n",
    "\n",
    "$$\n",
    "Var(X) = Var(X_1 +....+ X_{30}) = Var(X_1) +....+ Var(X_{30}) + 2Cov(X_1,X_2) +.....+2Cov(X_{29},X_{30}) = 30 \\cdot Var(X1) + 2 \\cdot C_{30}^{2} \\cdot Cov(X_1,X_2)\n",
    "$$\n",
    "\n",
    "Найдём дисперсию $X_1$. \n",
    "\n",
    "$$\n",
    "Var(X_1) = E(X_1^2) - E(X_1)^2 = P(X_1 = 1) - (P(X_1 = 1))^2 \\approx  0.249\n",
    "$$\n",
    "\n",
    "Теперь нам нужно найти ковариацию. Для этого нам понадобится $E(X_1 \\cdot X_2) = P(X_1 = 1, X_2 = 1)$. Чтобы ни первая, ни вторая пара не оказались у Шарика, он должен вынести какие-то другие пары, получаетcя, что \n",
    "\n",
    "$$\n",
    "E(X_1 \\cdot X_2) = P(X_1 = 1, X_2 = 1) = \\frac{C_{56}^{17}}{C_{60}^{17}}\n",
    "$$\n",
    "\n",
    "Выходит, что \n",
    "\n",
    "$$\n",
    "Cov(X_1, X_2) = E(X_1 \\cdot X_2) - E(X_1) \\cdot E(X_2) \\approx -0.0071.\n",
    "$$\n",
    "\n",
    "В итоге получаем, что \n",
    "\n",
    "$$\n",
    "Var(X) = 30 \\cdot 0.038 - 2 \\cdot C_{30}^2 \\cdot 0.0072 \\approx 1.24\n",
    "$$\n",
    "\n"
   ]
  },
  {
   "cell_type": "markdown",
   "metadata": {},
   "source": [
    "__Ну а теперь симуляции.__"
   ]
  },
  {
   "cell_type": "code",
   "execution_count": 127,
   "metadata": {},
   "outputs": [],
   "source": [
    "n_obs <- 10^6\n",
    "\n",
    "# сколько и когда оставалось у Маши \n",
    "masha <- rep(0, n_obs)\n",
    "\n",
    "for(j in 1:n_obs){\n",
    "    # тут лежат туфли, первые 30 индексов - левые, вторые 30 - правые \n",
    "    # 0 означает, что туфля у Маши, 1 что у Шарика \n",
    "    shoes <- rep(0, 60) \n",
    "    \n",
    "    # Шарик делает свой ход\n",
    "    ind <- sample(1:60, size = 17, replace = FALSE)\n",
    "    shoes[ind] <- 1 # пометим единичкое все туфли, которые Шарик украл \n",
    "    \n",
    "    # смотрим какие туфли в одинаковом состоянии\n",
    "    both <- (shoes[1:30] == shoes[31:60])\n",
    "    \n",
    "    # при этом они должны быть у Маши \n",
    "    masha[j] = sum(shoes[1:30][both] != 1)\n",
    "}"
   ]
  },
  {
   "cell_type": "code",
   "execution_count": 128,
   "metadata": {},
   "outputs": [
    {
     "data": {
      "text/html": [
       "0.040753"
      ],
      "text/latex": [
       "0.040753"
      ],
      "text/markdown": [
       "0.040753"
      ],
      "text/plain": [
       "[1] 0.040753"
      ]
     },
     "metadata": {},
     "output_type": "display_data"
    },
    {
     "data": {
      "text/html": [
       "15.307108"
      ],
      "text/latex": [
       "15.307108"
      ],
      "text/markdown": [
       "15.307108"
      ],
      "text/plain": [
       "[1] 15.30711"
      ]
     },
     "metadata": {},
     "output_type": "display_data"
    },
    {
     "data": {
      "text/html": [
       "1.23988791622391"
      ],
      "text/latex": [
       "1.23988791622391"
      ],
      "text/markdown": [
       "1.23988791622391"
      ],
      "text/plain": [
       "[1] 1.239888"
      ]
     },
     "metadata": {},
     "output_type": "display_data"
    }
   ],
   "source": [
    "mean(masha==13)  # вероятность, что у Маши останется ровно 13 пар\n",
    "mean(masha)      # среднее число пар у Маши\n",
    "var(masha)       # дисперсия числа пар "
   ]
  },
  {
   "cell_type": "markdown",
   "metadata": {},
   "source": [
    "### [3]  Задачка 18 \n",
    "\n",
    "ЛСП постоянно подбрасывает монетку и орёт \"орёл - решка\". \n",
    "\t\n",
    "* Когда выпадает $OPOP$,  ЛСП успокаивается и ныряет в ванну. Сколько в среднем раз ему нужно подбросить монетку, чтобы нырнуть?\n",
    "* Когда выпадает комбинация $POPP$, ЛСП просто теряется в мире цифрового глянца. Сколько в среднем раз ему нужно подбросить монетку, чтобы потеряться? \n",
    "* Пусть теперь ЛСП хочет получить любую из этих двух комбинаций. Какова вероятность того, что ЛСП потеряется, а не нырнёт, то есть что $POPP$ появится раньше,  чем $OPOP$? \n",
    "\n",
    "Решите задачку вручную и проверьте своё решение с помощью симуляций."
   ]
  },
  {
   "cell_type": "markdown",
   "metadata": {},
   "source": [
    "__Решение:__ \n",
    "\n",
    "* Нарисуем граф состояний для этой игры. Искать среднее число ходов будем методом первого шага. \n",
    "\n",
    "Такс. Мы подкинули монету. Выпал либо орел, либо решка. Если решка, то для нас ничего не поменялось и мы как будто бы в начале игры. Если орёл, то мы накопили одну полезную букву. Дальше монетку подкидываем второй раз. Есл орёл, то мы ничего не накопили, остаёмся в той же вершине. Если решка, то мы накопили вторую полезную букву и получили $OP$. \n",
    "\n",
    "Снова подкинули монетку. Если выпала решка, то все наши накопления пошли на смарку и мы откатились в начало игры. Если выпал орёл, мы получили $OPO$. Дальше снова кидаем монетку и илбо получаем $OPOP$, либо выпадает орёл, который портит наши накопления и мы откатываемся в состояние $O$, потому что мы получаем $OPOO$. И самое полезное для нас это первый орёл, который поможет начать копить историю заново. Граф готов. \n",
    "\n",
    "<img src=\"https://raw.githubusercontent.com/FUlyankin/r_probability/master/end_seminars_2019/HW/images/lsp_1.png\" width=\"300\"> \n",
    "\n",
    "\n",
    "Теперь составим систему уравнений. Пусть $e_i$ - среднее число шагов до попадания в вершину $OPOP$ из вершины $i$. Пусть вершина $O$ - вторая, $OP$ - третья и так далее. Делаем шаг из первой вершины. \n",
    "\n",
    "$$\n",
    "e_1 = \\frac{1}{2} \\cdot (1 + e_1) + \\frac{1}{2} \\cdot (1 + e_2).\n",
    "$$\n",
    "\n",
    "Если выпал орёл, мы сделали один шаг и остались в $1$. Если выпала решка, мы сделали один шаг и попали в $2$. Уравнение для первой вершины готово, нужно ещё три. Составляем их по аналогии. \n",
    "\n",
    "$$\n",
    "\\begin{cases}\n",
    "e_1 =& \\frac{1}{2} \\cdot (1 + e_1) + \\frac{1}{2} \\cdot (1 + e_2) \\\\ \n",
    "e_2 =& \\frac{1}{2} \\cdot (1 + e_2) + \\frac{1}{2} \\cdot (1 + e_3) \\\\ \n",
    "e_3 =& \\frac{1}{2} \\cdot (1 + e_1) + \\frac{1}{2} \\cdot (1 + e_4) \\\\ \n",
    "e_4 =& \\frac{1}{2} \\cdot (1 + e_2) + \\frac{1}{2} \\cdot 1  \\\\ \n",
    "\\end{cases} \n",
    "$$\n",
    "\n",
    "Решаем систему, получаем, что $e_1 = 20$. Теперь симуляции. "
   ]
  },
  {
   "cell_type": "code",
   "execution_count": 196,
   "metadata": {},
   "outputs": [
    {
     "data": {
      "text/html": [
       "32"
      ],
      "text/latex": [
       "32"
      ],
      "text/markdown": [
       "32"
      ],
      "text/plain": [
       "[1] 32"
      ]
     },
     "metadata": {},
     "output_type": "display_data"
    }
   ],
   "source": [
    "# Сначала код для одной симуляции! \n",
    "# Пущай 1 - орёл, 0 - решка, мы хотим 1010 \n",
    "\n",
    "k = 4 # сколько сделано шагов\n",
    "x = sample(x = c(1,0), size = 4, replace=TRUE)\n",
    "\n",
    "# пока последние 4 символа не такие как нам надо, подбрасываем монетку\n",
    "while(sum(x[(k-3):k] == c(1,0,1,0)) !=4 ){\n",
    "    x = append(x, sample(x = c(1,0), size = 1))\n",
    "    k = k + 1\n",
    "}\n",
    "\n",
    "k"
   ]
  },
  {
   "cell_type": "code",
   "execution_count": 211,
   "metadata": {},
   "outputs": [],
   "source": [
    "# Теперь повторяем симуляцию много раза \n",
    "n_obs = 10^5\n",
    "\n",
    "T <- rep(0, n_obs)\n",
    "for(i in 1:n_obs){\n",
    "    k = 4 # сколько сделано шагов\n",
    "    x = sample(x = c(1,0), size = 4, replace=TRUE)\n",
    "\n",
    "    # пока последние 4 символа не такие как нам надо, подбрасываем монетку\n",
    "    while(sum(x[(k-3):k] == c(1,0,1,0)) !=4 ){\n",
    "        x = append(x, sample(x = c(1,0), size = 1))\n",
    "        k = k + 1\n",
    "    }\n",
    "    T[i] = k\n",
    "}\n",
    "\n",
    "# P.S. Осторожнее с while! Случайно можно впасть в вечный цикл..."
   ]
  },
  {
   "cell_type": "code",
   "execution_count": 212,
   "metadata": {},
   "outputs": [
    {
     "data": {
      "text/html": [
       "20.00671"
      ],
      "text/latex": [
       "20.00671"
      ],
      "text/markdown": [
       "20.00671"
      ],
      "text/plain": [
       "[1] 20.00671"
      ]
     },
     "metadata": {},
     "output_type": "display_data"
    },
    {
     "data": {
      "image/png": "[encoded data removed]",
      "text/plain": [
       "plot without title"
      ]
     },
     "metadata": {},
     "output_type": "display_data"
    }
   ],
   "source": [
    "mean(T) \n",
    "qplot(T, bins=100)"
   ]
  },
  {
   "cell_type": "markdown",
   "metadata": {},
   "source": [
    "* Снова рисуем граф состояний. \n",
    "\n",
    "<img src=\"https://raw.githubusercontent.com/FUlyankin/r_probability/master/end_seminars_2019/HW/images/lsp_2.png\" width=\"300\"> \n",
    "\n",
    "По аналогии с тем, что было в предыдущем пункте, составляем систему и решаем её. \n",
    "\n",
    "$$\n",
    "\\begin{cases}\n",
    "e_1 =& \\frac{1}{2} \\cdot (1 + e_1) + \\frac{1}{2} \\cdot (1 + e_2) \\\\ \n",
    "e_2 =& \\frac{1}{2} \\cdot (1 + e_2) + \\frac{1}{2} \\cdot (1 + e_3) \\\\ \n",
    "e_3 =& \\frac{1}{2} \\cdot (1 + e_1) + \\frac{1}{2} \\cdot (1 + e_4) \\\\ \n",
    "e_4 =& \\frac{1}{2} \\cdot (1 + e_3) + \\frac{1}{2} \\cdot 1  \\\\ \n",
    "\\end{cases} \n",
    "$$\n",
    "\n",
    "Получаем, что $e_1 = 18$. Обратите внимание, что разница между двумя графами в четвёртом уравнении. Из-за этого разные результаты. Пункт с симуляциями пропустим, так как они один в один такие же, как в предыдущем пункте, но надо последовательность прсото заменить на другую. \n"
   ]
  },
  {
   "cell_type": "markdown",
   "metadata": {},
   "source": [
    "* Ну и ещё разок нарисуем граф состояний. \n",
    "\n",
    "<img src=\"https://raw.githubusercontent.com/FUlyankin/r_probability/master/end_seminars_2019/HW/images/lsp_3.png\" width=\"450\"> \n",
    "\n",
    "Тут нас уже интересуют не математические ожидания, а вероятности. Судя \n",
    "\n",
    "\n",
    "Пусть $p_i$ - вероятность оказаться в $OPOP$, находясь при этом в вершине $i$. Составляем систему уравнений: \n",
    "\n",
    "$$\n",
    "\\begin{cases}\n",
    "p_1 = \\frac{1}{2} \\cdot p_2 + \\frac{1}{2} \\cdot p_3 \\\\ \n",
    "p_2 = \\frac{1}{2} \\cdot p_2 + \\frac{1}{2} \\cdot p_4 \\\\ \n",
    "p_3 = \\frac{1}{2} \\cdot p_5 + \\frac{1}{2} \\cdot p_3 \\\\ \n",
    "p_4 = \\frac{1}{2} \\cdot p_6 + \\frac{1}{2} \\cdot p_3 \\\\\n",
    "p_5 = \\frac{1}{2} \\cdot p_2 + \\frac{1}{2} \\cdot p_7 \\\\\n",
    "p_6 = \\frac{1}{2} \\cdot p_2 + \\frac{1}{2} \\cdot 1 \\\\ \n",
    "p_7 = \\frac{1}{2} \\cdot p_6 + \\frac{1}{2} \\cdot 0 \\\\ \n",
    "\\end{cases} \n",
    "$$\n",
    "\n",
    "Решаем систему, получаем что $P(OPOP) = \\frac{9}{14}.$ При этом $P(POPP) = 1 - P(OPOP) = \\frac{5}{14}$, так как игра не будет длиться вечно.  Теперь симуляции. Повторим код из первой симуляции и будем следить за появлением двух последовательностей. "
   ]
  },
  {
   "cell_type": "code",
   "execution_count": 228,
   "metadata": {},
   "outputs": [
    {
     "data": {
      "text/html": [
       "0.6402"
      ],
      "text/latex": [
       "0.6402"
      ],
      "text/markdown": [
       "0.6402"
      ],
      "text/plain": [
       "[1] 0.6402"
      ]
     },
     "metadata": {},
     "output_type": "display_data"
    }
   ],
   "source": [
    "# Теперь повторяем симуляцию много раза \n",
    "n_obs = 10^4\n",
    "\n",
    "m <- 0 # счётчик для ОРОР\n",
    "for(i in 1:n_obs){\n",
    "    k = 4 # сколько сделано шагов\n",
    "    x = sample(x = c(1,0), size = 4, replace=TRUE)\n",
    "    \n",
    "    # проверка того, что произошло в первые шаги (иначе оценка сильно ниже!!!)\n",
    "    if(sum(x[(k-3):k] == c(1,0,1,0)) == 4){\n",
    "        m = m + 1\n",
    "    }\n",
    "\n",
    "    # пока последние 4 символа не такие как нам надо, подбрасываем монетку\n",
    "    while((sum(x[(k-3):k] == c(1,0,1,0)) !=4)&(sum(x[(k-3):k] == c(0,1,0,0)) !=4)){\n",
    "        x = append(x, sample(x = c(1,0), size = 1))\n",
    "        k = k + 1\n",
    "        if(sum(x[(k-3):k] == c(1,0,1,0)) == 4){\n",
    "            m = m + 1\n",
    "        }\n",
    "    }\n",
    "}\n",
    "\n",
    "m/n_obs"
   ]
  },
  {
   "cell_type": "code",
   "execution_count": 227,
   "metadata": {},
   "outputs": [
    {
     "data": {
      "text/html": [
       "0.642857142857143"
      ],
      "text/latex": [
       "0.642857142857143"
      ],
      "text/markdown": [
       "0.642857142857143"
      ],
      "text/plain": [
       "[1] 0.6428571"
      ]
     },
     "metadata": {},
     "output_type": "display_data"
    }
   ],
   "source": [
    "9/14"
   ]
  },
  {
   "cell_type": "markdown",
   "metadata": {},
   "source": [
    "__Мораль:__ в методе первого шага обычно просто достаточно понять как именно выглядит рекурентная связь внутри нашего графа. И задачка сразу же раскалывается :) "
   ]
  },
  {
   "cell_type": "markdown",
   "metadata": {},
   "source": [
    "### [2] Задачка 19\n",
    "\n",
    "Решите задачки вручную: \n",
    "\n",
    "* $k$ различных космонавтов собираются высадиться на $m$ различных планет. Каждый космонавт выбирает себе планету независимо и равновероятно. Пусть $X$ — количество планет, на которые никто не высадился. Найдите $E(X)$.\n",
    "\n",
    "* В ряд стоят $n$ гномов. Издали на них смотрит дракон. Гномы разной высоты. Сколько в среднем гномов видит дракон? Какова дисперсия числа увиденных гномов?"
   ]
  },
  {
   "cell_type": "markdown",
   "metadata": {},
   "source": [
    "__Решение:__ \n",
    "\n",
    "* Сначала про космонавтов. Пусть $k$ - число космонавтов, а $m$ - число различных планет. Построим случайную величину $X$ - число планет, на которых никто не высадился. Тогда $X = X_1 + \\ldots + X_m$.  Случайная величина $X_i$ будет принимать значение $1$, если на $i$-ую планету никто не высадился и $0$, если на $i-$ую планету кто-то высадился. Найдём вероятность того, что $X_i = 1$. На нашей планете никого быть не должно. Все должны быть на чужой. Значит \n",
    "\n",
    "$$\n",
    "P(X_i = 1) = \\left(\\frac{m-1}{m} \\right)^k.\n",
    "$$\n",
    "\n",
    "Мы готовы найти итоговый ответ: \n",
    "\n",
    "$$\n",
    "E(X) = E(X_1 + \\ldots + X_m) = E(X_1) + \\ldots + E(X_m) = m \\cdot E(X_i) = m \\cdot P(X_i = 1) = m \\cdot \\left(\\frac{m-1}{m} \\right)^k.\n",
    "$$"
   ]
  },
  {
   "cell_type": "markdown",
   "metadata": {},
   "source": [
    "* Теперь про гномов. Пусть $n$ - число гномов. Случайная величина $X$ - число тех гномов, которых видит дракон. Введём случайную величину $X_i$ по следующему правилу: \n",
    "\n",
    "$$\n",
    "\\begin{equation*}\n",
    "X_i = \n",
    " \\begin{cases}\n",
    "   1, &\\text{если дракон увидел i-го гнома по порядку}\\\\\n",
    "   0, &\\text{если не увидел}\n",
    " \\end{cases}\n",
    "\\end{equation*}\n",
    "$$\n",
    "\n",
    "Какова вероятность того, что дракон увидит самого мелкого гнома? Коненчо же, $P(X_1 = 1) = \\frac{(n-1)!}{n!} = \\frac{1}{n}$. Если он стоит первым, его видно. Иначе нет. Какова вероятность того, что дракон увидит предпоследнего по высоте гнома? Ну либо он до мелкого, либо после (но тогда оба в начале очереди). Остальные двигаются как угодно. Получаем, что $P(X_2 = 1) = \\frac{(n-2)!}{n!} + \\frac{(n-1)!}{n!} = \\frac{1}{n-1}$. По аналогии получаем остальные вероятности. Выходит, что \n",
    "\n",
    "$$\n",
    "E(X) = E(X_1) + \\ldots + E(X_n) = \\frac{1}{n}  + \\ldots + \\frac{1}{3} + \\frac{1}{2} + 1.\n",
    "$$\n",
    "\n",
    "Теперь дисперсия. Случайные величны $X_i$ и $X_j$ независимы. Например, возьмём первых двух гномов. Пусть $X_2 = 1$. Даёт ли это нам информацию о том, что происходит с первым гномом? Видит ли его дракон? \n",
    "\n",
    "$$\n",
    "P(X_1 = 1 \\mid X_2 = 1) = \\frac{P(X_1 = 1 \\cap X_2 = 1)}{P(X_2 = 1)} = \\frac{\\frac{(n-2)!}{n!}}{\\frac{1}{(n-1)}} = \\frac{1}{n} = P(X_1 = 1). \n",
    "$$\n",
    "\n",
    "Аналогичные рассуждения можно построить для любых $i,j$. Выходит, что случайные величины независимые. Осталось только заметить, что $E(X_i^2) = E(X_i)$ и получить, что \n",
    "\n",
    "$$\n",
    "Var(X_k) = E(X_k) - E(X_k)^2 = \\frac{1}{k} - \\frac{1}{k^2}.\n",
    "$$\n",
    "\n",
    "Тогда \n",
    "\n",
    "$$\n",
    " Var(X) = \\sum\\limits_{k=1}^{n}(\\frac{1}{k} - \\frac{1}{k^2})\n",
    "$$"
   ]
  },
  {
   "cell_type": "markdown",
   "metadata": {},
   "source": [
    "### [4]  Задачка 20\n",
    "\n",
    "Илье Муромцу предстоит дорога к камню. И от камня начинаются ещё три дороги. Каждая из тех дорог снова оканчивается камнем. И от каждого камня начинаются ещё три дороги. И каждые три дороги кончаются камнем.... И так далее до бесконечности. На каждой дороге можно встретить живущего на ней трёхголового Змея Горыныча с вероятностью (хм, вы не поверите!) одна третья. Какова вероятность того, что у Ильи Муромца существует возможность пройти свой бесконечный жизненный путь, так ни разу и не встретив Змея Горыныча? \n",
    "\n",
    "Решите задачу вручную и проверьте своё решение с помощью симуляции. \n",
    "\n",
    "**Hint:** наверное, лучше всего делать симуляции с помощью рекурсивной функции на походы Ильи Муромца."
   ]
  },
  {
   "cell_type": "markdown",
   "metadata": {},
   "source": [
    "__Решение:__ Эта задачка была сложной. Для начала нарисуем граф состояний и попытаемся понять как именно в нём устроен метод первого шага. \n",
    "\n",
    "\n"
   ]
  },
  {
   "cell_type": "markdown",
   "metadata": {},
   "source": [
    "Теперь симуляции. Ключевая проблема для симуляций заключается в том, что Илья Муромец должен найти бесконечный жизненный путь. У нас нет столько компьютерных мощностей, чтобы бесконечные пути симулировать. Нам придётся доходить до какого-то определённого периода (например, сотого или тысячного) и начиная с него говорить, что Илья вышел на бесконечный путь. По-другому никак не выйдет. Давайте попробуем написать функцию, которая помогает Илье ходить по его жизненным дорогам. Можно сделать это с рекурсией, можно без. Мы попробуем с рекурсией. "
   ]
  },
  {
   "cell_type": "code",
   "execution_count": null,
   "metadata": {},
   "outputs": [],
   "source": [
    "# Ваше решение и кодище, желательно АДСКИЙ КОДИЩЕ"
   ]
  },
  {
   "cell_type": "code",
   "execution_count": null,
   "metadata": {},
   "outputs": [],
   "source": []
  },
  {
   "cell_type": "code",
   "execution_count": null,
   "metadata": {},
   "outputs": [],
   "source": []
  },
  {
   "cell_type": "markdown",
   "metadata": {},
   "source": [
    "## 2. [40+] Кит-рисёрчер\n",
    "\n",
    "**Добро пожаловать в Кита. Кит — это большая рисёрчерская задача с огромным количеством вопросов. В ките есть как ручные вопросы, так и вопросы для симуляций. За каждый вопрос даётся какое-то количество баллов. В каких-то вопросах требуется решить задачу руками на бумажке. В каких-то вопросах требуется произвести симуляцию в R. Продвинтесь в своём рисёрче над этим китом как можно глубже и срубите куш из баллов.** \n",
    "\n",
    "**Частично решение этого кита можно найти в логах предыдущего года. Если на вас нападёт отчаяние, можете заглянуть в них.** "
   ]
  },
  {
   "cell_type": "markdown",
   "metadata": {},
   "source": [
    "Эконом играет в киллера! Всего участие в игре принимает $100$ человек. Краткие правила игры: \n",
    "\n",
    "1. Каждый игрок одновременно и убийца и жертва. \n",
    "2. Игроку даётся конверт, в котором лежит имя человека, которого он должен убить. \n",
    "3. Сам игрок также находится у кого-то в конверте. Нужно не допустить своей смерти. \n",
    "4. Чтобы убить другого игрока, надо оказаться с ним наедине и застрелить из пальца. \n",
    "5. Жертва убитого становится новой жертвой игрока. \n",
    "6. Побеждает тот, кто совершит наибольшее число убийств. \n",
    "\n",
    "Организаторы игры сразу же столкнулись с несколькими проблемами. Первая проблема это __суицидники.__ Если Максиму в конверте попался Максим, то Максим должен убить сам себя. Он - суицидник.  В такой ситуации организаторам придётся поменять конверт. Хотелось бы, чтобы подобных ситуаций было как можно меньше.\n",
    "\n",
    "**a)[1]** Какова вероятность, что суицидником окажется именно Максим? Найдите эту вероятность руками. \n",
    "\n",
    "__Ответ:__ Всего раздач конвертов может быть $n!$, вариантов, когда в конверте у Максима именно он, $(n-1)!$. Значит вероятность суицида для Максима $\\frac{1}{n}$. "
   ]
  },
  {
   "cell_type": "markdown",
   "metadata": {},
   "source": [
    "**б) [1]** Оцените с помощью симуляций вероятность того, что хотя бы один человек получит в конверте сам себя."
   ]
  },
  {
   "cell_type": "code",
   "execution_count": 136,
   "metadata": {},
   "outputs": [
    {
     "data": {
      "text/html": [
       "0.63215"
      ],
      "text/latex": [
       "0.63215"
      ],
      "text/markdown": [
       "0.63215"
      ],
      "text/plain": [
       "[1] 0.63215"
      ]
     },
     "metadata": {},
     "output_type": "display_data"
    }
   ],
   "source": [
    "n_obs = 10^6  # устроим миллион раздач! \n",
    "n = 100       # число игроков\n",
    "\n",
    "x = rep(0, n_obs)  # сюда будем заносить число суицидников\n",
    "for(i in 1:n_obs){\n",
    "    konv = sample(1:n)      # раздача конвертов (случайная перестановка)\n",
    "    x[i] = sum(konv == 1:n) # число суицидников в раздаче \n",
    "}\n",
    "\n",
    "sum(x > 0)/n_obs  # вероятность хотя бы одного суицида "
   ]
  },
  {
   "cell_type": "markdown",
   "metadata": {},
   "source": [
    "**в) [2]** Найдите руками вероятность того, что хотя бы один человек получит сам себя. \n",
    "\n",
    "__Ответ:__ Это вопрос на беспорядки. Помните? Мы нахоидили их число на паре через формулу включений. Мы спрашивали, какова вероятность того, что никто в баре не сядет на своё место. В итоге мы выяснили, что это примерно $\\frac{1}{e}$. Тут один в один та же самая задачка. Вероятность, что ни один человек не получит в конверте себя это то же самое, что ни один человек не сядет на своё место. \n",
    "\n",
    "Нас интересует дополнение к беспорядку, что будет хотя бы один суицидник. Вычитаем $\\frac{1}{e}$ из $1$, получаем ответ. Точно такой же, как при генерации в пункте __б.__\n"
   ]
  },
  {
   "cell_type": "code",
   "execution_count": 138,
   "metadata": {},
   "outputs": [
    {
     "data": {
      "text/html": [
       "0.632120558828558"
      ],
      "text/latex": [
       "0.632120558828558"
      ],
      "text/markdown": [
       "0.632120558828558"
      ],
      "text/plain": [
       "[1] 0.6321206"
      ]
     },
     "metadata": {},
     "output_type": "display_data"
    }
   ],
   "source": [
    "1 - 1/exp(1)"
   ]
  },
  {
   "cell_type": "markdown",
   "metadata": {},
   "source": [
    "**г) [2]** Пусть случайная величина $X$ - количество суицидников. Оцените $E(X)$ с помощью симуляций. Проинтерпретируйте величину $E(X)$. Что она означает для организаторов игры? "
   ]
  },
  {
   "cell_type": "code",
   "execution_count": null,
   "metadata": {},
   "outputs": [],
   "source": [
    "mean(x) # среднее число суицидников\n",
    "\n",
    "# Организаторы должны быть готовы заменить один конверт. \n",
    "# Один из игроков достанет себя, и это тервер, а не закон подлости."
   ]
  },
  {
   "cell_type": "markdown",
   "metadata": {},
   "source": [
    " **д) [2]** Найдите $E(X)$ руками.\n",
    " \n",
    "__Ответ:__  Мы можем разложить случайную величину $X$ в сумму индексов. Пусть \n",
    " \n",
    " $$\n",
    " X = X_1 + \\ldots + X_n, где \n",
    " $$\n",
    " \n",
    " случайная величина $X_i$ принимает значение $1$ только тогда, когда у человека в конверте он же сам. Вероятность этого события мы нашли в первом пункте на примере Максима. Выходит, что \n",
    " \n",
    "$$\n",
    "E(X_i) = P(X_i = 1) \\cdot 1 + P(X_i = 0) \\cdot 0 = P(X_i = 1) = \\frac{1}{n}.\n",
    "$$\n",
    "\n",
    "Ещё мы знаем, что $E(X_1 + X_2 + \\ldots + X_n) = E(X_1) + \\ldots + E(X_n)$ всегда. Значит $E(X) = n \\cdot E(X_1) = 1$."
   ]
  },
  {
   "cell_type": "markdown",
   "metadata": {},
   "source": [
    "Вторая проблема это __мэтчинги__. Если у Глеба в конверте оказалась Аня, а у Ани в конверте оказался Глеб, то между ними возник мэтчинг. Когда игроки останутся наедине, они попробуют убить друг друга, и у них ничего не выйдет. Организаторам придётся заменить Ане и Глебу конверты с жертвами. \n",
    "\n",
    "**е) [1]**  Какова вероятность того, что мэтчинг возникнет именно между Аней и Глебом? \n",
    "\n",
    "__Ответ:__ нужно зафиксировать двоих. Они друг у друга, остальных можно двигать как угодно.\n",
    "\n",
    "$$\n",
    "P(\\text{мэтчинг у Ани и Глеба}) = \\frac{(n-2)!}{n!} = \\frac{1}{n \\cdot (n-1)} = 0.0001\n",
    "$$\n",
    "\n",
    "**ж) [3]** Оцените вероятность того, что в раздаче возник хотя бы один мэтчинг. \n",
    "\n",
    "__Внимание!__ В решении прошлого года, в этом пункте была ошибка! Я забыл удалить из раздач суицидников. Спасибо Юре Белякову, что нашёл эту ошибку. "
   ]
  },
  {
   "cell_type": "code",
   "execution_count": 139,
   "metadata": {},
   "outputs": [
    {
     "data": {
      "text/html": [
       "2"
      ],
      "text/latex": [
       "2"
      ],
      "text/markdown": [
       "2"
      ],
      "text/plain": [
       "[1] 2"
      ]
     },
     "metadata": {},
     "output_type": "display_data"
    },
    {
     "data": {
      "text/html": [
       "5"
      ],
      "text/latex": [
       "5"
      ],
      "text/markdown": [
       "5"
      ],
      "text/plain": [
       "[1] 5"
      ]
     },
     "metadata": {},
     "output_type": "display_data"
    }
   ],
   "source": [
    "# Мэтчинги это уже чуть более серьёзный разговор. На позиции i должно оказаться j, а на позиции j i\n",
    "\n",
    "# Простой пример: [3,5,1,2,4]\n",
    "# Между 3 и 1 игроком мэтчинг, так как x[1] = 3, а x[3] = 1\n",
    "# это то же самое что и x[x[1]] = 1 или x[x[3]] = 3\n",
    "\n",
    "z = c(3,5,1,2,4)\n",
    "sum(z[z] == 1:5) # получается двойка\n",
    "                 \n",
    "z = c(3,2,1,5,4) # два мэтчинга и суицидник\n",
    "sum(z[z] == 1:5) # нечётное число "
   ]
  },
  {
   "cell_type": "code",
   "execution_count": 140,
   "metadata": {},
   "outputs": [
    {
     "data": {
      "text/html": [
       "0"
      ],
      "text/latex": [
       "0"
      ],
      "text/markdown": [
       "0"
      ],
      "text/plain": [
       "[1] 0"
      ]
     },
     "metadata": {},
     "output_type": "display_data"
    }
   ],
   "source": [
    "konv = sample(1:n)            # раздача конвертов\n",
    "sum(konv[konv] == 1:n) %/% 2  # число мэтчингов"
   ]
  },
  {
   "cell_type": "code",
   "execution_count": 143,
   "metadata": {},
   "outputs": [
    {
     "data": {
      "text/html": [
       "0.393701"
      ],
      "text/latex": [
       "0.393701"
      ],
      "text/markdown": [
       "0.393701"
      ],
      "text/plain": [
       "[1] 0.393701"
      ]
     },
     "metadata": {},
     "output_type": "display_data"
    }
   ],
   "source": [
    "# А теперь всё вместе! \n",
    "\n",
    "n_obs = 10^6  # устроим миллион раздач! \n",
    "n = 100       # число игроков\n",
    "\n",
    "y = rep(0, n_obs)  # сюда будем заносить число мэтчингов в раздаче\n",
    "\n",
    "for(i in 1:n_obs){\n",
    "    konv = sample(1:n)              # раздача конвертов \n",
    "    match = konv[konv] == 1:n       # есть мэтчинг\n",
    "    suic = konv != 1:n              # не суицидники\n",
    "    y[i] = sum(suic & match)  %/% 2 # число мэтчингов\n",
    "}\n",
    "\n",
    "sum(y > 0)/n_obs  # вероятность хотя бы одного мэтчинга"
   ]
  },
  {
   "cell_type": "markdown",
   "metadata": {},
   "source": [
    "**з) [3]** Пусть случайная величина $Y$ - количество мэтчингов. Оцените $E(Y)$. Проинтерпретируйте величину $E(Y)$. Что она означает для организаторов?"
   ]
  },
  {
   "cell_type": "code",
   "execution_count": 144,
   "metadata": {},
   "outputs": [
    {
     "data": {
      "text/html": [
       "0.500626"
      ],
      "text/latex": [
       "0.500626"
      ],
      "text/markdown": [
       "0.500626"
      ],
      "text/plain": [
       "[1] 0.500626"
      ]
     },
     "metadata": {},
     "output_type": "display_data"
    }
   ],
   "source": [
    "mean(y)\n",
    "\n",
    "# В среднем мэтчинг будет возникать в одной из двух игр, \n",
    "# не такая страшная проблема как суицид, но надо быть готовым"
   ]
  },
  {
   "cell_type": "markdown",
   "metadata": {},
   "source": [
    "**и) [3]** Найдите $E(Y)$ руками.\n",
    "\n",
    "__Ответ:__ Поступим точно такжеб как и с суицидами. Разобьём $Y$ в сумму простейших. Пусть случайные величины $Y_{1,2}, Y_{1,3} \\ldots Y_{99,100}$ устроены как: \n",
    "\n",
    "\\begin{equation*}\n",
    "Y_{i,j} = \n",
    " \\begin{cases}\n",
    "   1 &\\text{, если у $i$-го игрока есть мэтчинг с $j$-им игроком}\\\\\n",
    "   0 &\\text{, иначе,}\n",
    " \\end{cases}\n",
    "\\end{equation*}\n",
    "\n",
    "тогда $Y = Y_{1,2} + \\ldots + Y_{99,100}$. Вероятность мэтчинга мы уже нашли выше. Оказалось, что это $p(Y_{i,j} = 1) = \\frac{1}{(n-1)\\cdot n}$. В итоге получаем, что \n",
    "\n",
    "$$\n",
    "E(Y) = E(Y_{1,2} + Y_{1,3} + \\ldots + Y_{99,100}) = E(Y_{1,2}) + \\ldots + E(Y_{99,100}) = C_{100}^2 \\cdot E(Y_{1,2}) = \\frac{4950} {99 \\cdot 100} = 0.5\n",
    "$$\n",
    "\n",
    "\n"
   ]
  },
  {
   "cell_type": "markdown",
   "metadata": {},
   "source": [
    "__к) [1]__  Кроме мэтчингов в игре существуют цепи. Например, у Ахмеда в конверте могла оказаться Рита, у Риты Максим, а у Максима Ахмед. Игроки выстраиваются в цепь. После того как Рита убьёт Максима, а затем Ахмеда, цепь замкнётся и у Риты окажется она же сама. Какова вероятность того, что в игре ни один игрок в ходе замыкания такой цепи не окажется сам у себя? \n",
    "\n",
    "__л) [х.з.]__ Вы понимаете, что любая раздача конвертов приводит к появлению какого-то количества подобных цепей. Каждая цепь — это какой-то граф. В итоговом графе может существовать различное количество компонент связности. Когда цепь в каждой из них замыкается, у человека в конверте оказывается он сам. Пусть случайная величина $Z$ — количество таких компонент, возникшее в игре при раздаче. Найдите $E(Z)$. Постройте для $Z$ гистограмму. \n",
    "\n",
    "Именно это я попросил сделать в прошлом году. Моё решение получилось довольно убойным. Его можно найти в прошлогодней домашке. Если вы сможете сделать это проще, накину баллов."
   ]
  },
  {
   "cell_type": "code",
   "execution_count": null,
   "metadata": {},
   "outputs": [],
   "source": [
    "# Ну тут ты скорее всего уже не напишешь кода"
   ]
  },
  {
   "cell_type": "markdown",
   "metadata": {},
   "source": [
    "Усложняем ситуацию! Предположим, что на игру отводится $24 \\cdot 60$ часов. Последовательность убийств — это поток событий. Время, которое проходит между убийствами описывается экспоненциальным распределением с параметром $\\alpha = 0.08$.\n",
    "\n",
    "__м) [1]__  Сколько в среднем проходит часов между убийствами? \n",
    "\n",
    "__н) [5]__  Какова вероятность того, что через $30$ дней в игре останется меньше $50$ человек? При симуляциях можно считать, что если в какой-то момент человек оказался в конверте сам у себя, он умирает. Если возник мэтчинг, умирают оба человека. Цепочку, на которой происходит убийство выбирайте случайно на основе равномерного распределения."
   ]
  },
  {
   "cell_type": "code",
   "execution_count": null,
   "metadata": {},
   "outputs": [],
   "source": [
    "# Мало кто заполнит код здесь... "
   ]
  },
  {
   "cell_type": "markdown",
   "metadata": {},
   "source": [
    "__о) [5]__ Найдите математическое ожидание числа игроков, выживших после $30$ дней. "
   ]
  },
  {
   "cell_type": "code",
   "execution_count": null,
   "metadata": {},
   "outputs": [],
   "source": [
    "# Ну за этот пункт баллы точно никто не получит"
   ]
  },
  {
   "cell_type": "markdown",
   "metadata": {},
   "source": [
    "Предположим, что со временем игра протухает. Поначалу всем весело и все хотят убивать, но ближе к середине энтузиазм скатывается в ноль. Пусть $\\alpha$ в самом начале равна $0.08$. Каждые 48 часов она уменьшается в два раза.\n",
    "\n",
    "__п) [5]__ Какова вероятность того, что через $30$ дней в игре останется меньше $50$ человек? Каково математическое ожидание выживших? "
   ]
  },
  {
   "cell_type": "code",
   "execution_count": null,
   "metadata": {},
   "outputs": [],
   "source": [
    "# Тут баллы тоже никто не получит "
   ]
  },
  {
   "cell_type": "markdown",
   "metadata": {},
   "source": [
    "Организаторы игры не хотят, чтобы игра протухла. Перед тем как запустить игру, они построили кучу симуляций и решили, что каждые $7$ дней в полночь они будут награждать самого топового убийцу специальным призом. Каждый раз, когда происходит награждение, $\\alpha$ подскакивает на $0.02$. \n",
    "\n",
    "__р) [5]__ Какова вероятность того, что через $30$ дней в игре останется меньше $50$ человек? Каково математическое ожидание выживших?"
   ]
  },
  {
   "cell_type": "code",
   "execution_count": null,
   "metadata": {},
   "outputs": [],
   "source": [
    "# Тут никто код не напишет и подавно, я реалист"
   ]
  }
 ],
 "metadata": {
  "kernelspec": {
   "display_name": "R",
   "language": "R",
   "name": "ir"
  },
  "language_info": {
   "codemirror_mode": "r",
   "file_extension": ".r",
   "mimetype": "text/x-r-source",
   "name": "R",
   "pygments_lexer": "r",
   "version": "3.5.3"
  }
 },
 "nbformat": 4,
 "nbformat_minor": 2
}
