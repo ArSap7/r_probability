{
 "cells": [
  {
   "cell_type": "markdown",
   "metadata": {},
   "source": [
    "<img src=\"https://raw.githubusercontent.com/FUlyankin/r_probability/master/end_seminars/sem_2/yYGiBqtirSM.jpg\" height=\"300\" width=\"300\"> \n",
    "\n",
    "# <center> R для тервера и матстата. <br>  <br> Домашка номер раз! </center>\n",
    "\n",
    "Данный ноутбук является домашкой по курсу «R для теории вероятностей и математической статистики» (РАНХиГС, 2019). Автор ноутбука [вот этот парень по имени Филипп.](https://vk.com/ppilif) Если у вас для него есть деньги, слава или женщины, он от этого всего не откажется. Ноутбук распространяется на условиях лицензии [Creative Commons Attribution-Share Alike 4.0.](https://creativecommons.org/licenses/by-sa/4.0/) При использовании обязательно упоминание автора курса и аффилиации. При наличии технической возможности необходимо также указать активную гиперссылку на [страницу курса.](https://fulyankin.github.io/r_probability/) На ней можно найти другие материалы. Фрагменты кода, включенные в этот notebook, публикуются как [общественное достояние.](https://creativecommons.org/publicdomain/zero/1.0/)\n",
    "\n",
    "----------------------\n",
    "\n",
    "Приветствую вас внутри первой домашки. У каждой домашки должны быть свои герои (но это не точно). Моими героями являетесь вы! Вы - герои не потому, что я хочу кого-то простебать или обидеть, а потому что, когда любишь, хочется увековечить. Кто-то называет именами любимых людей вновь открытые звёзды и острова, кто-то созданную для нира папку на рабочем столе, а кто-то делает их героями своих историй. Будем искренне верить и надеяться, что я не Джордж Мартин, и в моих историях никто не погибнет. "
   ]
  },
  {
   "cell_type": "markdown",
   "metadata": {},
   "source": [
    "__Краткий брифинг:__\n",
    "\n",
    "\n",
    "* __Дедлайн:__ __12.05.19__\n",
    "* Первая домашка затрагивает то, что мы смотрели на первых двух парах.\n",
    "* Тетрадка делится на две части: __рыбёшки (60 баллов) и кит (40 баллов).__\n",
    "* Часть задач нужно решить не только с помощью симуляций, но и вручную.\n",
    "* Ваша команда пытается решить как можно больше задач и присылает их мне.\n",
    "* Если очень хочется, можем устроить после всех дедлайнов серию из пар с разбором домашек. \n",
    "* Свои решения постараюсь выложить после дедлайна.\n",
    "* __WARNING:__ [на страничке курса](https://fulyankin.github.io/r_probability/) есть решение домашек прошлого года. Ими можно пользоваться. \n",
    "\n",
    "---------------------------\n",
    "\n",
    "* __Как оформлять домашки:__ \n",
    "    1. Компьютерные домашки оформляем либо в связке R + LaTeX, либо в юпитерских тетрадках (если хочется новых технологий), либо в связке R + Markdown. Все шаблоны для этого есть в репозитории. Пожалуйста не нужно присылать мне просто тупой код с выводами в виде комментариев, написанных через решёточки. Я от этого могу сойти с ума. \n",
    "    2. Ручные решение можно оформлять двумя способами: либо вбивать их в файл вместе с кодом. Благо в Markdown, юпитере и других местах поддерживаются теховские формулу. Либо аккуратно оформляйте их на бумаге и присылайте свёрстанную pdf-ку. Не надо кидать мне фотки по одной. Я от этого тоже сойду с ума. Вариант с вбиванием в основной файл - предпочтительнее. \n",
    "    \n",
    "* На странице курса висит [видео-инструкция по оформлению.](https://yadi.sk/i/Pxp_pByP6Em9-A)\n",
    "\n",
    "---------------------------\n",
    "\n",
    "Ближе к делу. С чего начинается любой скрипт? Правильно! С подгрузки пакетов :) "
   ]
  },
  {
   "cell_type": "code",
   "execution_count": 2,
   "metadata": {},
   "outputs": [],
   "source": [
    "library(\"ggplot2\")  # Пакет для красивых графиков \n",
    "library(\"grid\")     # Пакет для субплотов\n",
    "\n",
    "# Отрегулируем размер картинок, которые будут выдаваться в нашей тетрадке\n",
    "library('repr')\n",
    "options(repr.plot.width=4, repr.plot.height=3)\n",
    "\n",
    "# Внимание! Если вы делаете дз в Rstudio, то вам не нужны пакеты grid, repr и т.п.\n",
    "# Вам нужен только пакет ggplot2! "
   ]
  },
  {
   "cell_type": "markdown",
   "metadata": {},
   "source": [
    "## Полезные функции:"
   ]
  },
  {
   "cell_type": "code",
   "execution_count": 3,
   "metadata": {},
   "outputs": [
    {
     "data": {
      "text/html": [
       "<ol class=list-inline>\n",
       "\t<li>2</li>\n",
       "\t<li>2</li>\n",
       "\t<li>2</li>\n",
       "\t<li>2</li>\n",
       "\t<li>2</li>\n",
       "</ol>\n"
      ],
      "text/latex": [
       "\\begin{enumerate*}\n",
       "\\item 2\n",
       "\\item 2\n",
       "\\item 2\n",
       "\\item 2\n",
       "\\item 2\n",
       "\\end{enumerate*}\n"
      ],
      "text/markdown": [
       "1. 2\n",
       "2. 2\n",
       "3. 2\n",
       "4. 2\n",
       "5. 2\n",
       "\n",
       "\n"
      ],
      "text/plain": [
       "[1] 2 2 2 2 2"
      ]
     },
     "metadata": {},
     "output_type": "display_data"
    }
   ],
   "source": [
    "rep(2, 5)  # повторяет число 2 целых 5 раз"
   ]
  },
  {
   "cell_type": "code",
   "execution_count": 4,
   "metadata": {},
   "outputs": [
    {
     "data": {
      "text/html": [
       "<ol class=list-inline>\n",
       "\t<li>0</li>\n",
       "\t<li>0.2</li>\n",
       "\t<li>0.4</li>\n",
       "\t<li>0.6</li>\n",
       "\t<li>0.8</li>\n",
       "\t<li>1</li>\n",
       "</ol>\n"
      ],
      "text/latex": [
       "\\begin{enumerate*}\n",
       "\\item 0\n",
       "\\item 0.2\n",
       "\\item 0.4\n",
       "\\item 0.6\n",
       "\\item 0.8\n",
       "\\item 1\n",
       "\\end{enumerate*}\n"
      ],
      "text/markdown": [
       "1. 0\n",
       "2. 0.2\n",
       "3. 0.4\n",
       "4. 0.6\n",
       "5. 0.8\n",
       "6. 1\n",
       "\n",
       "\n"
      ],
      "text/plain": [
       "[1] 0.0 0.2 0.4 0.6 0.8 1.0"
      ]
     },
     "metadata": {},
     "output_type": "display_data"
    }
   ],
   "source": [
    "seq(0, 1, 0.2)  # выдаёт все числа от 0 до 1 с шагом 0.2 "
   ]
  },
  {
   "cell_type": "code",
   "execution_count": 5,
   "metadata": {},
   "outputs": [
    {
     "data": {
      "text/html": [
       "<ol class=list-inline>\n",
       "\t<li>1</li>\n",
       "\t<li>-1</li>\n",
       "\t<li>2</li>\n",
       "</ol>\n"
      ],
      "text/latex": [
       "\\begin{enumerate*}\n",
       "\\item 1\n",
       "\\item -1\n",
       "\\item 2\n",
       "\\end{enumerate*}\n"
      ],
      "text/markdown": [
       "1. 1\n",
       "2. -1\n",
       "3. 2\n",
       "\n",
       "\n"
      ],
      "text/plain": [
       "[1]  1 -1  2"
      ]
     },
     "metadata": {},
     "output_type": "display_data"
    }
   ],
   "source": [
    "x <- c(1, 2, 3)\n",
    "y <- c(2, -1, 4)\n",
    "z <- c(3, 5, 2)\n",
    "\n",
    "pmin(x, y, z)   # находит поэлементные минимумы во всех векторах"
   ]
  },
  {
   "cell_type": "code",
   "execution_count": 6,
   "metadata": {},
   "outputs": [
    {
     "data": {
      "text/html": [
       "3"
      ],
      "text/latex": [
       "3"
      ],
      "text/markdown": [
       "3"
      ],
      "text/plain": [
       "[1] 3"
      ]
     },
     "metadata": {},
     "output_type": "display_data"
    }
   ],
   "source": [
    "which.max(x) # выдаёт позицию максимума"
   ]
  },
  {
   "cell_type": "code",
   "execution_count": 7,
   "metadata": {},
   "outputs": [
    {
     "data": {
      "text/html": [
       "<ol class=list-inline>\n",
       "\t<li>1</li>\n",
       "\t<li>2</li>\n",
       "\t<li>6</li>\n",
       "</ol>\n"
      ],
      "text/latex": [
       "\\begin{enumerate*}\n",
       "\\item 1\n",
       "\\item 2\n",
       "\\item 6\n",
       "\\end{enumerate*}\n"
      ],
      "text/markdown": [
       "1. 1\n",
       "2. 2\n",
       "3. 6\n",
       "\n",
       "\n"
      ],
      "text/plain": [
       "[1] 1 2 6"
      ]
     },
     "metadata": {},
     "output_type": "display_data"
    }
   ],
   "source": [
    "cumprod(x)  # кумулятивное (накапливающееся) произведение\n",
    "# 1, 1*2, 1*2*3 и тд"
   ]
  },
  {
   "cell_type": "code",
   "execution_count": 8,
   "metadata": {},
   "outputs": [
    {
     "data": {
      "text/html": [
       "<ol class=list-inline>\n",
       "\t<li>1</li>\n",
       "\t<li>3</li>\n",
       "\t<li>6</li>\n",
       "</ol>\n"
      ],
      "text/latex": [
       "\\begin{enumerate*}\n",
       "\\item 1\n",
       "\\item 3\n",
       "\\item 6\n",
       "\\end{enumerate*}\n"
      ],
      "text/markdown": [
       "1. 1\n",
       "2. 3\n",
       "3. 6\n",
       "\n",
       "\n"
      ],
      "text/plain": [
       "[1] 1 3 6"
      ]
     },
     "metadata": {},
     "output_type": "display_data"
    }
   ],
   "source": [
    "cumsum(x)  # кумулятивная сумма\n",
    "# 1, 1 + 2, 1 + 2 + 3 и тд "
   ]
  },
  {
   "cell_type": "code",
   "execution_count": 9,
   "metadata": {},
   "outputs": [
    {
     "name": "stdout",
     "output_type": "stream",
     "text": [
      "[1] 25\n",
      "[1] 5929\n",
      "[1] 9\n"
     ]
    }
   ],
   "source": [
    "# В R можно писать вот такие пафосные циклы:\n",
    "# item будет по очереди принимать все значения из списка c(5,77,3)\n",
    "# это питоновский стиль написания циклов, привыкайте :)\n",
    "\n",
    "for(item in c(5,77,3)){\n",
    "    print(item^2)\n",
    "}"
   ]
  },
  {
   "cell_type": "markdown",
   "metadata": {},
   "source": [
    "## 1. Мелкие рыбёшки\n",
    "\n",
    "В этом разделе вас ждёт много довольно простых задачек. "
   ]
  },
  {
   "cell_type": "markdown",
   "metadata": {},
   "source": [
    "### [2]  Задачка 1 (скучная) \n",
    "\n",
    "В R [куча встроенных наборов данных.](https://vincentarelbundock.github.io/Rdatasets/datasets.html) Например, в наборе данных `women` лежит немного данных про рост и вес американских женщин. "
   ]
  },
  {
   "cell_type": "code",
   "execution_count": 10,
   "metadata": {},
   "outputs": [
    {
     "data": {
      "text/html": [
       "<table>\n",
       "<thead><tr><th scope=col>height</th><th scope=col>weight</th></tr></thead>\n",
       "<tbody>\n",
       "\t<tr><td>58 </td><td>115</td></tr>\n",
       "\t<tr><td>59 </td><td>117</td></tr>\n",
       "\t<tr><td>60 </td><td>120</td></tr>\n",
       "\t<tr><td>61 </td><td>123</td></tr>\n",
       "\t<tr><td>62 </td><td>126</td></tr>\n",
       "</tbody>\n",
       "</table>\n"
      ],
      "text/latex": [
       "\\begin{tabular}{r|ll}\n",
       " height & weight\\\\\n",
       "\\hline\n",
       "\t 58  & 115\\\\\n",
       "\t 59  & 117\\\\\n",
       "\t 60  & 120\\\\\n",
       "\t 61  & 123\\\\\n",
       "\t 62  & 126\\\\\n",
       "\\end{tabular}\n"
      ],
      "text/markdown": [
       "\n",
       "| height | weight |\n",
       "|---|---|\n",
       "| 58  | 115 |\n",
       "| 59  | 117 |\n",
       "| 60  | 120 |\n",
       "| 61  | 123 |\n",
       "| 62  | 126 |\n",
       "\n"
      ],
      "text/plain": [
       "  height weight\n",
       "1 58     115   \n",
       "2 59     117   \n",
       "3 60     120   \n",
       "4 61     123   \n",
       "5 62     126   "
      ]
     },
     "metadata": {},
     "output_type": "display_data"
    }
   ],
   "source": [
    "head(women,5)  # команда head позволяет посмотреть на\n",
    "               # первые пять строк таблички "
   ]
  },
  {
   "cell_type": "markdown",
   "metadata": {},
   "source": [
    "* Постройте гистограмму с распределением веса женщин\n",
    "* Постройте эмпирическую функцию распределения для веса женщин\n",
    "* Постройте scatterplot веса и роста\n",
    "\n",
    "Найдите базовые характеристики распределения:\n",
    "\n",
    "* средний вес женщины\n",
    "* медианный вес женщины\n",
    "* дисперсию веса женщины\n",
    "* среднее квадратическое отклонения веса женщин\n",
    "* эмпирические квантили уровня 5%, 50% и 95%. \n",
    "* правда ли, что 50% квантиль совпал с медианой? А почему?\n",
    "* почему я выбрал для этого задания именно этот датасет?  **(За правильный ответ на этот вопрос плюс 4 балла)**"
   ]
  },
  {
   "cell_type": "code",
   "execution_count": null,
   "metadata": {},
   "outputs": [],
   "source": [
    "# немного кода для решения задачи "
   ]
  },
  {
   "cell_type": "markdown",
   "metadata": {},
   "source": [
    "### [2]  Задачка 2 \n",
    "Случайная величина $X$ имеет распределение Пуассона с $\\lambda = 2$. Иногда пишут, что $X \\sim Pois(2)$. С помощью симуляций оцените $P(X > 10)$, $P(X > 10 \\mid X > 5)$, $P(X > 5 \\cap X < 7)$, а также $E(X^7)$ и $E(X \\mid X > 5)$. "
   ]
  },
  {
   "cell_type": "code",
   "execution_count": null,
   "metadata": {},
   "outputs": [],
   "source": [
    "# чуть побольше кода для решения задачи"
   ]
  },
  {
   "cell_type": "markdown",
   "metadata": {},
   "source": [
    "### [1] Задачка 3 \n",
    "\n",
    "Предположим, что вы получаете в среднем три спам-письма в день. Какова доля дней, в которые вы получаете пять или больше спам-писем?"
   ]
  },
  {
   "cell_type": "code",
   "execution_count": null,
   "metadata": {},
   "outputs": [],
   "source": [
    "# совсем мало кода для решения задачи"
   ]
  },
  {
   "cell_type": "markdown",
   "metadata": {},
   "source": [
    "### [4] Задачка 4\n",
    "\n",
    "Куратор Вова случайным образом с возможностью повторов выбирает $5$ наутральных чисел от $1$ до $100$. После выбора он раздаёт эти числа шестерым второкурсникам. Каждый второкурсник берёт экспоненциальное распределение $Exp(\\lambda_i)$, где $\\lambda_i$ - число, выданное Вовой и выбрасывает из него случайное число. Получаются случайные величины $X_1, X_2, X_3, X_4$ и $X_5$. \n",
    "\n",
    "После этого Вова собирает все выпавшие числа назад и вычисляет \n",
    "\n",
    "$$ Y_1 = \\min(X_1, \\ldots, X_5), \\qquad Y_2 = \\max(X_1, \\ldots, X_5)$$\n",
    "\n",
    "а также \n",
    "\n",
    "$$ Z = \\frac{Y_1}{Y_1 + Y_2}.$$\n",
    "\n",
    "С помощью симуляций оцените: \n",
    "\n",
    "a) $P(Y_2 > 3 Y_1)$\n",
    "\n",
    "б) $E(Z)$ и $Var(Z)$ \n",
    "\n",
    "в) $P(Y_2 > 3 \\cdot Y_1 \\mid Z > 0.5)$\n",
    "\n",
    "г) $E(Z \\mid X_1 > 80)$\n",
    "\n",
    "д) $Corr(Z, Y_1)$, $Corr(Z, Y_2)$, $Corr(Y_1, Y_2)$\n",
    "\n",
    "е) постройте гистограмму для случайной величины $Z$\n"
   ]
  },
  {
   "cell_type": "code",
   "execution_count": null,
   "metadata": {},
   "outputs": [],
   "source": [
    "# среднее количество кода для решения задачки "
   ]
  },
  {
   "cell_type": "markdown",
   "metadata": {},
   "source": [
    "### [2] Задачка 5\n",
    "\n",
    "Юра завёл себе две нейросетки и два сервера и начал их обучать. Две нейросети обучаются независимо на двух серверах. Время их обучения $T_1$ и $T_2$ равномерно распределено на отрезке $[1;3]$ (обучение измеряется в минутах). В процессе обучения сервер может упасть. Момент падения сервера $T$ распределён экспоненциально с параметром $\\lambda = 0.3$. Момент падаения сервера не зависит от времени обучения нейросеток. Известно, что одна из нейросетей успела обучиться, а вторая не успела. Какова вероятность того, что $T \\le 1.5$?\n",
    "\n",
    "**Hint:** при решении задачи помните о том, что у вас две нейросетки!"
   ]
  },
  {
   "cell_type": "code",
   "execution_count": null,
   "metadata": {},
   "outputs": [],
   "source": [
    "# немного кода для решения задачки, будет позорно, если Юра её не сможет решить..."
   ]
  },
  {
   "cell_type": "markdown",
   "metadata": {},
   "source": [
    "### [4] Задачка 6\n",
    "\n",
    "Каждый день Света съедает случайное количество булочек, которое распределено по Пуассону с параметром $10$. Логарифм затрат в рублях на каждую булочку распределён нормально $N(2,1)$. Ксюша каждый день съедает биномиальное количество булочек $Bin(8, 0.5)$. Затраты Ксюши на каждую булочку распределены равномерно на отрезке $[2;20]$. \n",
    "\n",
    "а) Сколько в среднем Света тратит на булочки за день? \n",
    "\n",
    "б) Чему равна дисперсия дневных расходов Светы? \n",
    "\n",
    "в) Какова вероятность того, что за один день Света потратит больше денег, чем Ксюша? \n",
    "\n",
    "г) Какова условная вероятность того, что Света за день съела больше булочек, чем Ксюша, если известно, что Ксюша потратила больше денег? "
   ]
  },
  {
   "cell_type": "code",
   "execution_count": null,
   "metadata": {},
   "outputs": [],
   "source": [
    "# придётся написать немного кода "
   ]
  },
  {
   "cell_type": "markdown",
   "metadata": {},
   "source": [
    "### [3] Задачка 7\n",
    "\n",
    "Удав Анатолий любит французские багеты. Длина французского багета равна $1$ метру. За один заглот Удав Анатолий заглатывает кусок случайной длины равномерно распределённый на отрезке $[0;1]$. Для того, чтобы съесть весь багет удаву потребуется случайное количество $N$ заглотов. \n",
    "\n",
    "Найдите $E(N)$ и $Var(N)$. Как поменяются ответы, если багет имеет длину $2$ метра? \n",
    "\n",
    "Кстати говоря, эту задачку можно решить руками с помощью метода первого шага. Его мы разберём на второй паре. Правда для этого придётся выписать систему из двух уравниний с интегралами. В сборнике сложных задач по терверу, [культурном коде,](https://github.com/bdemeshev/probability_dna/raw/master/probability_dna.pdf) можно найти три разных решения этой задачки. Она там находится под номером $46$."
   ]
  },
  {
   "cell_type": "code",
   "execution_count": null,
   "metadata": {},
   "outputs": [],
   "source": [
    "# ваш код"
   ]
  },
  {
   "cell_type": "markdown",
   "metadata": {},
   "source": [
    "### [2] Задачка 8\n",
    "\n",
    "На шнуре длиной $1$ м случайным образом делают два разреза. С какой вероятностью хотя бы один из получившихся кусков будет длиннее $0.5 м$?\n",
    "\n"
   ]
  },
  {
   "cell_type": "code",
   "execution_count": null,
   "metadata": {},
   "outputs": [],
   "source": [
    "# ваши супер-пуперрр вычисления"
   ]
  },
  {
   "cell_type": "markdown",
   "metadata": {},
   "source": [
    "### [2] Задачка 9 \n",
    "\n",
    "Ира любит мешать не только джим бим с колой, но и распределения! И вот сейчас две трети её данных идут в смесь из экспоненциального распределения с параметром $\\lambda = 1$, а остальная треть из стандартного нормального. Как это часто бывает, Ира сначала намешала, а потом чёт подумала подумала и всё Оле отдала. И теперь у Оли проблема со свойствами намешанного распределения.\n",
    "\n",
    "Сгенерируйте выборку из распределения Иры и помогите Оле оценить математическое ожидание и дисперсию случайной величины, постройте гистограмму. "
   ]
  },
  {
   "cell_type": "code",
   "execution_count": null,
   "metadata": {},
   "outputs": [],
   "source": [
    "# немного кода во благо Оли!"
   ]
  },
  {
   "cell_type": "markdown",
   "metadata": {},
   "source": [
    "### [3] Задачка 10\n",
    "\n",
    "Помните? Мы всё это изучаем, чтобы решать реальные проблемы! С помощью генераций в R мы можем оценить любое математическое ожидание и любые вероятности. Нам позволяет сделать это великий и могучий фундаментальный ЗБЧ!\n",
    "\n",
    "Давайте попробуем проверить несколько свойств математических ожиданий и дисперсий, которые вы доказали на лекциях по теории вероятностей в прошлом семестре. Выберите конкретные случайные величины (любые) и проверьте для них утверждения, перечисленные ниже. \n",
    "\n",
    "a) Верно ли, что $E(X + Y) = E(X) + E(Y)$? \n",
    "\n",
    "b) Верно ли, что $E(X \\cdot Y) = E(X) \\cdot E(Y)$?\n",
    "\n",
    "c) Верно ли, что $Var(X + Y) = Var(X) + Var(Y) + 2 \\cdot Cov(X,Y)$? \n",
    "\n",
    "d) Верно ли, что $Var(X \\cdot Y) = Var(X) \\cdot Var(Y)$? \n",
    "\n",
    "e) Верно ли, что если $Cov(X, Y) = 0$, то две случайные величины независимы? Удастся ли проверить это с помощью генераций? "
   ]
  },
  {
   "cell_type": "code",
   "execution_count": null,
   "metadata": {},
   "outputs": [],
   "source": [
    "# ваша проверка свойств на какой-нибудь случайной величине, что люба вашему сердцу"
   ]
  },
  {
   "cell_type": "markdown",
   "metadata": {},
   "source": [
    "### [4] Задачка 11\n",
    "\n",
    "Филя и Никита решили попытать счастья и попасть на стажировку в ЦБ. В качестве вступительного испытания, они получили листочки с задачками по терверу и случайным процессам. Одна из задач из листочка выглядела следующим образом:\n",
    "\n",
    "Пусть $X \\sim N(0, \\sigma^2)$. Пусть $\\Phi(x)$ - функция распределения для $N(0,1)$. Нужно найти математическое ожидание для случайной величины $\\Phi(X)$. \n",
    "\n",
    "Собеседователи, дав Филе и Никите задание, сказали, что у них 2 часа и куда-то ушли. Пользоваться можно чем угодно (но это не точно). В голове у парней есть какое-то решение. Правда они в нём не уверены. Зато у них с собой есть ноутбуки. Помогите Филе и Никите оценить $E(\\Phi(X))$ с помощью симуляций. Постройте для случайной величины $\\Phi(X)$ гистограмму. На Возьмите $\\sigma = 1$, после $\\sigma = 3$, после $\\sigma = 100$. Как ведут себя математическое ожидание и распределение при росте десперсии?\n",
    "\n",
    "__P.S.__ На стажировку в ЦБ парни конечно же не попали."
   ]
  },
  {
   "cell_type": "code",
   "execution_count": null,
   "metadata": {},
   "outputs": [],
   "source": [
    "# ваши полурисёрческие изыскания "
   ]
  },
  {
   "cell_type": "markdown",
   "metadata": {},
   "source": [
    "### [6] Задачка 12\n",
    "\n",
    "__За генерацию можно получить только 1 балл. Она, блин, делается в две строчки. Остальное ставится за ручное решение.__\n",
    "\n",
    "Чтобы получить на посвяте стакан Уколовки, разлитый лично Димой Генераловым, нужно решить задачку по терверу. Случайные величины $X$, $Y$ и $Z$ равномерны на отрезке $[0;1]$ и независимы. Диму интересует случайная величина $(XY)^Z$. Ему очень интересно было бы узнать её распределение. "
   ]
  },
  {
   "cell_type": "code",
   "execution_count": null,
   "metadata": {},
   "outputs": [],
   "source": [
    "# генерация"
   ]
  },
  {
   "cell_type": "markdown",
   "metadata": {},
   "source": [
    "Это было довольно просто, не так ли? Давайте займёмся кое-чем более интересным, попробуем найти плотность распределения случайной величины $(XY)^Z$ вручную. Это не особо сложно. Перед нами просто-напросто возникнет несколько интегралов, которые придётся взять.\n",
    "\n",
    "\n",
    "a) Какое распределение имеет случайная величина $- \\ln X$? \n",
    "\n",
    "б) Какое распределение у случайной величины $-(\\ln X + \\ln Y)$\n",
    "\n",
    "в) Найдите функцию распределения для случайной величины $-Z (\\ln X + \\ln Y)$\n",
    "\n",
    "г) Наконец вы готовы ответить на главный вопрос: какое распределение у $(XY)^Z$.\n",
    "\n",
    "Задача, как и Удав Анатолий из [культурного кода.](https://github.com/bdemeshev/probability_dna/raw/master/probability_dna.pdf) Но её решения там нет."
   ]
  },
  {
   "cell_type": "code",
   "execution_count": null,
   "metadata": {},
   "outputs": [],
   "source": [
    "# ручное решение :3 "
   ]
  },
  {
   "cell_type": "markdown",
   "metadata": {},
   "source": [
    "### [2] Задачка 13\n",
    "\n",
    "Пока все однокурсники Самира занимались одномерными случайными величинами, он увлёкся матрицами. И вот теперь он хочет пропихнуть свои увлечения в теорию вероятностей. Самир собирается сгенерировать случайную квадратную матрицу $A$, где каждый элемент матрицы взят из равномерного на $[0;1]$ распределения. \n",
    "\n",
    "Пусть случайная величина $X$ — это определитель случайной матрицы. Помогите Самиру найти $E(X)$. Чему равна вероятность того, что матрица $A$ вырождена? Постройте для этой случайной величины гистограмму. \n",
    "\n",
    "Пусть случайная величина $Y$ — это самое большое собственное значение этой матрицы. Помогите Самиру найти $E(Y)$. Постройте гистограмму. \n",
    "\n",
    "Перед тем как решать задачу, выскажите свои априорные представления относительно этих распределений, опираясь на свою интуицию и знание линала. Подтвердились ли они? "
   ]
  },
  {
   "cell_type": "code",
   "execution_count": null,
   "metadata": {},
   "outputs": [],
   "source": [
    "# ваши генерации"
   ]
  },
  {
   "cell_type": "markdown",
   "metadata": {},
   "source": [
    "### [4] Задачка 14\n",
    "\n",
    "Закон больших чисел — это теорема, которая позволяет людям зарабатывать деньги! В 1600-х годах люди научились состовлять актуарные таблицы. Это такие таблицы, где указана ожидаемая продолжительность жизни для данного возраста и пола. Люди начали собирать данные о смертности и оценивать вероятность дожития человека до определённого возраста. На этом строились тарифы на страхование. \n",
    "\n",
    "Появление подобных таблиц обязано зарождению в течение 1600-х годов теории вероятности, которая впервые объяснила людям как случайные вещи при достаточно больших масштабах сглаживаются и становятся очень даже предсказуемыми. Надо признать, что у страхования было довольно трудное детство — как раз потому, что люди плоховато понимали концепцию вероятности. В голове довольно трудно удержать её. Многие люди и по сей день ошибочно думают, что могут влиять на случайность каким-то образом. Например, некоторые думают, что чаще других выбрасывают на кубике шестёрки. Более того, люди довольно плохо понимают условные вероятности. \n",
    "\n",
    "Несмотря на всё это недопонимание, страховые компании в наше время на диверсификации рисков делают кэш. Давайте представим, что мы в их шкуре и замутим простенький бизнес, связанный со страховками. Конечно же бизнес мы будем делать в России. Для того, чтобы как следует сделать его, мы нашли [актуарные таблицы для России 2009 года выпуска.](https://yadi.sk/i/-k-9kB263Uv8uH)"
   ]
  },
  {
   "cell_type": "code",
   "execution_count": 11,
   "metadata": {},
   "outputs": [
    {
     "data": {
      "text/html": [
       "<table>\n",
       "<thead><tr><th scope=col>X</th><th scope=col>Мужчины.и.женщины.город</th><th scope=col>Мужчины.город</th><th scope=col>Женщины.город</th><th scope=col>Мужчины.и.женщины.село</th><th scope=col>Мужчины.село</th><th scope=col>Женщины.село</th></tr></thead>\n",
       "<tbody>\n",
       "\t<tr><td>0 лет   </td><td>0.992525</td><td>0.991658</td><td>0.993442</td><td>0.990321</td><td>0.989209</td><td>0.991496</td></tr>\n",
       "\t<tr><td>1 год   </td><td>0.999307</td><td>0.999221</td><td>0.999397</td><td>0.998812</td><td>0.998709</td><td>0.998921</td></tr>\n",
       "\t<tr><td>2 года  </td><td>0.999558</td><td>0.999517</td><td>0.999601</td><td>0.999358</td><td>0.999298</td><td>0.999420</td></tr>\n",
       "\t<tr><td>3 года  </td><td>0.999668</td><td>0.999609</td><td>0.999730</td><td>0.999441</td><td>0.999288</td><td>0.999601</td></tr>\n",
       "\t<tr><td>4 года  </td><td>0.999700</td><td>0.999671</td><td>0.999731</td><td>0.999524</td><td>0.999445</td><td>0.999607</td></tr>\n",
       "\t<tr><td>5 лет   </td><td>0.999695</td><td>0.999636</td><td>0.999757</td><td>0.999515</td><td>0.999444</td><td>0.999589</td></tr>\n",
       "</tbody>\n",
       "</table>\n"
      ],
      "text/latex": [
       "\\begin{tabular}{r|lllllll}\n",
       " X & Мужчины.и.женщины.город & Мужчины.город & Женщины.город & Мужчины.и.женщины.село & Мужчины.село & Женщины.село\\\\\n",
       "\\hline\n",
       "\t 0 лет    & 0.992525 & 0.991658 & 0.993442 & 0.990321 & 0.989209 & 0.991496\\\\\n",
       "\t 1 год    & 0.999307 & 0.999221 & 0.999397 & 0.998812 & 0.998709 & 0.998921\\\\\n",
       "\t 2 года   & 0.999558 & 0.999517 & 0.999601 & 0.999358 & 0.999298 & 0.999420\\\\\n",
       "\t 3 года   & 0.999668 & 0.999609 & 0.999730 & 0.999441 & 0.999288 & 0.999601\\\\\n",
       "\t 4 года   & 0.999700 & 0.999671 & 0.999731 & 0.999524 & 0.999445 & 0.999607\\\\\n",
       "\t 5 лет    & 0.999695 & 0.999636 & 0.999757 & 0.999515 & 0.999444 & 0.999589\\\\\n",
       "\\end{tabular}\n"
      ],
      "text/markdown": [
       "\n",
       "| X | Мужчины.и.женщины.город | Мужчины.город | Женщины.город | Мужчины.и.женщины.село | Мужчины.село | Женщины.село |\n",
       "|---|---|---|---|---|---|---|\n",
       "| 0 лет    | 0.992525 | 0.991658 | 0.993442 | 0.990321 | 0.989209 | 0.991496 |\n",
       "| 1 год    | 0.999307 | 0.999221 | 0.999397 | 0.998812 | 0.998709 | 0.998921 |\n",
       "| 2 года   | 0.999558 | 0.999517 | 0.999601 | 0.999358 | 0.999298 | 0.999420 |\n",
       "| 3 года   | 0.999668 | 0.999609 | 0.999730 | 0.999441 | 0.999288 | 0.999601 |\n",
       "| 4 года   | 0.999700 | 0.999671 | 0.999731 | 0.999524 | 0.999445 | 0.999607 |\n",
       "| 5 лет    | 0.999695 | 0.999636 | 0.999757 | 0.999515 | 0.999444 | 0.999589 |\n",
       "\n"
      ],
      "text/plain": [
       "  X      Мужчины.и.женщины.город Мужчины.город Женщины.город\n",
       "1 0 лет  0.992525                0.991658      0.993442     \n",
       "2 1 год  0.999307                0.999221      0.999397     \n",
       "3 2 года 0.999558                0.999517      0.999601     \n",
       "4 3 года 0.999668                0.999609      0.999730     \n",
       "5 4 года 0.999700                0.999671      0.999731     \n",
       "6 5 лет  0.999695                0.999636      0.999757     \n",
       "  Мужчины.и.женщины.село Мужчины.село Женщины.село\n",
       "1 0.990321               0.989209     0.991496    \n",
       "2 0.998812               0.998709     0.998921    \n",
       "3 0.999358               0.999298     0.999420    \n",
       "4 0.999441               0.999288     0.999601    \n",
       "5 0.999524               0.999445     0.999607    \n",
       "6 0.999515               0.999444     0.999589    "
      ]
     },
     "metadata": {},
     "output_type": "display_data"
    }
   ],
   "source": [
    "df = read.csv('/Users/fulyankin/Yandex.Disk.localized/R/R_prob_data/aktuar2009.csv', sep=';', dec=',')\n",
    "head(df)"
   ]
  },
  {
   "cell_type": "markdown",
   "metadata": {},
   "source": [
    "В табличке находится вероятность того, что человек проживёт конкретный год. В первой строке вероятность дожить до года, во второй до 2 лет, если человек уже дожил до года и так далее. Значит, если мы хотим узнать, какова вероятность того, что человек проживёт два года, мы должны умножить вероятность прожить первый год на вероятность прожить второй год. Из части __полезные функции,__ которая была в самом начале, можно узнать, что посчитать такую вероятность, помогает функция `cumprod`. Давайте посмотрим каково в России живётся женщинам и мужчинам. "
   ]
  },
  {
   "cell_type": "code",
   "execution_count": 12,
   "metadata": {},
   "outputs": [
    {
     "data": {
      "image/png": "[encoded data removed]",
      "text/plain": [
       "plot without title"
      ]
     },
     "metadata": {},
     "output_type": "display_data"
    }
   ],
   "source": [
    "df['age'] = 0:100\n",
    "df['man_prob'] = cumprod(df[,3])   # вероятность дожить до какого-то возраста\n",
    "df['woman_prob'] = cumprod(df[,4])\n",
    "\n",
    "ggplot(df, aes(age))+\n",
    "    geom_line(aes(y=man_prob, colour = \"man\"))+\n",
    "    geom_line(aes(y=woman_prob, colour = \"woman\"))"
   ]
  },
  {
   "cell_type": "markdown",
   "metadata": {},
   "source": [
    "Что мы видим? А ничего хорошего. Рыжая кривая - вероятность того, что мужчина доживёт до конкретного возраста. Голубая - женщина. Женщины намного живучее, чем мужчины. Страховать их от несчастий намного выгоднее. Было бы интересно узнать насколько это выгоднее. Будем смотреть на женщин и мужчин, которые живут в городах. \n",
    "\n"
   ]
  },
  {
   "cell_type": "markdown",
   "metadata": {},
   "source": [
    "- Пусть мы продаём страховки только 25-летним городским дамам. Сколько нужно клиентов, чтобы с вероятностью 99% прибыль оказалась положительной.\n",
    "\n",
    "- Пусть мы продаём страховки только 60-летним городским дамам по той же цене. Сколько нужно клиентов, чтобы с вероятностью 99% прибыль оказалась положительной. \n",
    "\n",
    "Для простоты будем предполагать, что выплата в случае смерти составлят $10^6$ рублей."
   ]
  },
  {
   "cell_type": "code",
   "execution_count": null,
   "metadata": {},
   "outputs": [],
   "source": [
    "# ваш код"
   ]
  },
  {
   "cell_type": "markdown",
   "metadata": {},
   "source": [
    "* Выясните, начиная с какого возраста страховка для мужчин стоит дешевле, чем страховка для женщин. "
   ]
  },
  {
   "cell_type": "code",
   "execution_count": null,
   "metadata": {},
   "outputs": [],
   "source": [
    "# ваш код"
   ]
  },
  {
   "cell_type": "markdown",
   "metadata": {},
   "source": [
    "### [6]  Задачка 15 (Парадокс дней рождений)\n",
    "\n",
    "\n",
    "Вы когда-нибудь слышали про парадокс дней рождений? На википедии есть статья. Остановитесь, не нужно её гуглить. Давайте попробуем поразмышлять. Как думаете какова вероятность того, что в комнате, в которой находится $23$ человека, хотя бы у двоих из них дни рождения совпадают (не у вас с кем-нибудь совпадёт, а у двоих произвольных людей)? \n",
    "\n",
    "__Внимание, ответ:__ вероятность этого $0.5$. Если в комнате $50$ человек, то вероятность этого возрастает до $0.97$. Получается, что если вы находитесь в большой аудитории, то вы смело можете ставить деньги на то, что в ней дни рождения у каких-нибудь двух произвольных людей совпадут. Делая такие ставки довольно часто, вы сможете обогатиться. Конечно же, иногда вы будете проигрывать, но математическое ожидание такой игры будет суперположительным. Например, если вы будете ставить $1000$ рублей, ваш ожидаемый выигрыш составит\n",
    "\n",
    "$$\n",
    "E(X) = 0.97\\cdot1000 - 0.03\\cdot1000.\n",
    "$$ \n",
    "\n",
    "Слабо найти вероятность того, что хотя бы у двоих людей из $n$ дни рождения совпадут руками? Если слабо, добро пожаловать на [википедию.](https://ru.wikipedia.org/wiki/Парадокс_дней_рождения)\n",
    "\n",
    "Почему нам трудно в это поверить? Ответ математический: степени трудно осознать. Как визирь в [древней задаче про шахматы и зёрнышки,](https://ru.wikipedia.org/wiki/Задача_о_зёрнах_на_шахматной_доске) мы плохо понимаем степенную функцию. Даже если мы подучились математике и статистике, это всё равно как-то непривычно. Вот пример неправильной логики: какова вероятность выпадения $10$ решек подряд?\n",
    "\n",
    "Нетренированный мозг может составить примерно такую цепочку мыслей: одна решка - $50%$, две решки - $25%$. Значит десяток решек в $10$ раз труднее, ну то есть $5%$. Ну вот мы и облажались. Реальный шанс это $0.5^{10}$. Ошиблись немного. Примерно в $50$ раз.\n",
    "\n",
    "Итак, в произвольной группе из $50$ человек вероятность того, что хотя бы у двоих людей дни рождения совпадут равна $0.97$. Но это всё только в теории. При решении задачи мы предполагаем, что рождения людей равномерно распределены в течение года. Однако на практике это может быть не так. В связи с этим реальная вероятность может отличаться от теоретической. \n",
    "\n",
    "В этой задачке вам предстоит проверить парадокс дней рождений на эмпирических данных. В табличке `vk_bdates.csv` лежит информация о $4589300$ пользователей из вконтакте. В табличке можно найти данные о имени пользователя `first_name`, его поле `sex`, его родном городе `home_town`, городе проживания `city`, дне `bdate`, месяце `bmonth` и годе `byear` рождения. Также там лежит информация о том удалена ли его страничка `deactivated`. "
   ]
  },
  {
   "cell_type": "markdown",
   "metadata": {},
   "source": [
    "__[3] Простая часть (её решение можно найти во второй домашке прошлого года):__ \n",
    "\n",
    "Попробуйте на основе данных из этой таблички проверить парадокс дней рождений. Проверять его мы будем, конечно же в R. __Обратите внимание, что часто придётся прогонять один и тот же код. Не надо его копировать. Оформите его в виде функции.__ От вас требуется: \n",
    "\n",
    "1. Удалить из таблички всех людей, чьи страницы были забанены или удалены.\n",
    "2. Удалить из таблички всех людей, для которых недоступны день и месяц рождения.\n",
    "3. Постройте гистограмму, на которой было бы понятно в какой месяц родилось какое количество людей. Команда для этого приведена ниже. Как считате помесячная рождаемость имеет равномерное распределение?\n",
    "4. Постройте точно такую же гистограмму для дней рождений. Вас ждёт небольшой сюрприз. Избавьтесь от этого сюрприза, чтобы он не замусоривал данные. Как считатет, подневная рождаемость имеет равномерное распределение? \n",
    "5. Эмпирически оцените вероятность того, что в группе из 50 произвольных людей найдётся хотя бы двое с одинаковым днём рождения. Для этого напишите цикл, в ходе которого из таблички с помощью команды `sample` будет делаться подвыборка из 50 строк. Для этих 50 строк внутри условия вы должны проверить совпадение дней рождений. Если совпало, то нужно запомнить это в переменную счётчик, которую вы впоследствии, чтобы получить вероятность, поделите на длину цикла. \n",
    "6. Попробуйте проделать ту же оценку отдельно для подмножества женщин и подмножества мужчин. Насколько оценки вероятностей разнятся? \n",
    "\n",
    "__Таблица тут: https://yadi.sk/d/hcysIe6d3Uv8rr__"
   ]
  },
  {
   "cell_type": "code",
   "execution_count": 13,
   "metadata": {},
   "outputs": [
    {
     "data": {
      "text/html": [
       "<ol class=list-inline>\n",
       "\t<li>4589300</li>\n",
       "\t<li>11</li>\n",
       "</ol>\n"
      ],
      "text/latex": [
       "\\begin{enumerate*}\n",
       "\\item 4589300\n",
       "\\item 11\n",
       "\\end{enumerate*}\n"
      ],
      "text/markdown": [
       "1. 4589300\n",
       "2. 11\n",
       "\n",
       "\n"
      ],
      "text/plain": [
       "[1] 4589300      11"
      ]
     },
     "metadata": {},
     "output_type": "display_data"
    },
    {
     "data": {
      "text/html": [
       "<table>\n",
       "<thead><tr><th scope=col>X</th><th scope=col>city</th><th scope=col>deactivated</th><th scope=col>first_name</th><th scope=col>home_town</th><th scope=col>id</th><th scope=col>last_name</th><th scope=col>sex</th><th scope=col>byear</th><th scope=col>bmonth</th><th scope=col>bday</th></tr></thead>\n",
       "<tbody>\n",
       "\t<tr><td>0              </td><td>Москва         </td><td>               </td><td>Илья           </td><td>               </td><td> 5             </td><td>Перекопский    </td><td>2              </td><td>  NA           </td><td>11             </td><td>18             </td></tr>\n",
       "\t<tr><td>1              </td><td>Санкт-Петербург</td><td>               </td><td>Николай        </td><td>               </td><td> 6             </td><td>Дуров          </td><td>2              </td><td>  NA           </td><td>NA             </td><td>NA             </td></tr>\n",
       "\t<tr><td>2              </td><td>Санкт-Петербург</td><td>               </td><td>Михаил         </td><td>Санкт-Петербург</td><td>11             </td><td>Петров         </td><td>2              </td><td>  NA           </td><td>12             </td><td>18             </td></tr>\n",
       "\t<tr><td>3              </td><td>Санкт-Петербург</td><td>               </td><td>Татьяна        </td><td>               </td><td>34             </td><td>Плуталова      </td><td>1              </td><td>  NA           </td><td>NA             </td><td>NA             </td></tr>\n",
       "\t<tr><td>4              </td><td>               </td><td>banned         </td><td>Габриел        </td><td>               </td><td>47             </td><td>Шалел          </td><td>2              </td><td>  NA           </td><td>NA             </td><td>NA             </td></tr>\n",
       "\t<tr><td>5              </td><td>               </td><td>               </td><td>Сергей         </td><td>               </td><td>57             </td><td>Владимиров     </td><td>2              </td><td>  NA           </td><td>NA             </td><td>NA             </td></tr>\n",
       "\t<tr><td>6              </td><td>Москва         </td><td>               </td><td>Людмила        </td><td>               </td><td>71             </td><td>Романченко     </td><td>1              </td><td>  NA           </td><td> 2             </td><td> 7             </td></tr>\n",
       "\t<tr><td>7              </td><td>Санкт-Петербург</td><td>               </td><td>Наташа         </td><td>               </td><td>74             </td><td>Филимонова     </td><td>1              </td><td>1988           </td><td> 7             </td><td>18             </td></tr>\n",
       "\t<tr><td>8              </td><td>               </td><td>banned         </td><td>Давид          </td><td>               </td><td>79             </td><td>Спектер        </td><td>2              </td><td>  NA           </td><td>NA             </td><td>NA             </td></tr>\n",
       "\t<tr><td>9              </td><td>Санкт-Петербург</td><td>               </td><td>Фёдор          </td><td>Санкт-Петербург</td><td>84             </td><td>Медведев       </td><td>2              </td><td>  NA           </td><td>NA             </td><td>NA             </td></tr>\n",
       "</tbody>\n",
       "</table>\n"
      ],
      "text/latex": [
       "\\begin{tabular}{r|lllllllllll}\n",
       " X & city & deactivated & first\\_name & home\\_town & id & last\\_name & sex & byear & bmonth & bday\\\\\n",
       "\\hline\n",
       "\t 0               & Москва          &                 & Илья            &                 &  5              & Перекопский     & 2               &   NA            & 11              & 18             \\\\\n",
       "\t 1               & Санкт-Петербург &                 & Николай         &                 &  6              & Дуров           & 2               &   NA            & NA              & NA             \\\\\n",
       "\t 2               & Санкт-Петербург &                 & Михаил          & Санкт-Петербург & 11              & Петров          & 2               &   NA            & 12              & 18             \\\\\n",
       "\t 3               & Санкт-Петербург &                 & Татьяна         &                 & 34              & Плуталова       & 1               &   NA            & NA              & NA             \\\\\n",
       "\t 4               &                 & banned          & Габриел         &                 & 47              & Шалел           & 2               &   NA            & NA              & NA             \\\\\n",
       "\t 5               &                 &                 & Сергей          &                 & 57              & Владимиров      & 2               &   NA            & NA              & NA             \\\\\n",
       "\t 6               & Москва          &                 & Людмила         &                 & 71              & Романченко      & 1               &   NA            &  2              &  7             \\\\\n",
       "\t 7               & Санкт-Петербург &                 & Наташа          &                 & 74              & Филимонова      & 1               & 1988            &  7              & 18             \\\\\n",
       "\t 8               &                 & banned          & Давид           &                 & 79              & Спектер         & 2               &   NA            & NA              & NA             \\\\\n",
       "\t 9               & Санкт-Петербург &                 & Фёдор           & Санкт-Петербург & 84              & Медведев        & 2               &   NA            & NA              & NA             \\\\\n",
       "\\end{tabular}\n"
      ],
      "text/markdown": [
       "\n",
       "| X | city | deactivated | first_name | home_town | id | last_name | sex | byear | bmonth | bday |\n",
       "|---|---|---|---|---|---|---|---|---|---|---|\n",
       "| 0               | Москва          |                 | Илья            |                 |  5              | Перекопский     | 2               |   NA            | 11              | 18              |\n",
       "| 1               | Санкт-Петербург |                 | Николай         |                 |  6              | Дуров           | 2               |   NA            | NA              | NA              |\n",
       "| 2               | Санкт-Петербург |                 | Михаил          | Санкт-Петербург | 11              | Петров          | 2               |   NA            | 12              | 18              |\n",
       "| 3               | Санкт-Петербург |                 | Татьяна         |                 | 34              | Плуталова       | 1               |   NA            | NA              | NA              |\n",
       "| 4               |                 | banned          | Габриел         |                 | 47              | Шалел           | 2               |   NA            | NA              | NA              |\n",
       "| 5               |                 |                 | Сергей          |                 | 57              | Владимиров      | 2               |   NA            | NA              | NA              |\n",
       "| 6               | Москва          |                 | Людмила         |                 | 71              | Романченко      | 1               |   NA            |  2              |  7              |\n",
       "| 7               | Санкт-Петербург |                 | Наташа          |                 | 74              | Филимонова      | 1               | 1988            |  7              | 18              |\n",
       "| 8               |                 | banned          | Давид           |                 | 79              | Спектер         | 2               |   NA            | NA              | NA              |\n",
       "| 9               | Санкт-Петербург |                 | Фёдор           | Санкт-Петербург | 84              | Медведев        | 2               |   NA            | NA              | NA              |\n",
       "\n"
      ],
      "text/plain": [
       "   X city            deactivated first_name home_town       id last_name   sex\n",
       "1  0 Москва                      Илья                        5 Перекопский 2  \n",
       "2  1 Санкт-Петербург             Николай                     6 Дуров       2  \n",
       "3  2 Санкт-Петербург             Михаил     Санкт-Петербург 11 Петров      2  \n",
       "4  3 Санкт-Петербург             Татьяна                    34 Плуталова   1  \n",
       "5  4                 banned      Габриел                    47 Шалел       2  \n",
       "6  5                             Сергей                     57 Владимиров  2  \n",
       "7  6 Москва                      Людмила                    71 Романченко  1  \n",
       "8  7 Санкт-Петербург             Наташа                     74 Филимонова  1  \n",
       "9  8                 banned      Давид                      79 Спектер     2  \n",
       "10 9 Санкт-Петербург             Фёдор      Санкт-Петербург 84 Медведев    2  \n",
       "   byear bmonth bday\n",
       "1    NA  11     18  \n",
       "2    NA  NA     NA  \n",
       "3    NA  12     18  \n",
       "4    NA  NA     NA  \n",
       "5    NA  NA     NA  \n",
       "6    NA  NA     NA  \n",
       "7    NA   2      7  \n",
       "8  1988   7     18  \n",
       "9    NA  NA     NA  \n",
       "10   NA  NA     NA  "
      ]
     },
     "metadata": {},
     "output_type": "display_data"
    }
   ],
   "source": [
    "df = read.csv('/Users/fulyankin/Yandex.Disk.localized/R/R_prob_data/vk_bdates.csv', sep='\\t', dec='.')\n",
    "\n",
    "dim(df)   # размер таблицы\n",
    "head(df,10)  # её шапочка "
   ]
  },
  {
   "cell_type": "code",
   "execution_count": 14,
   "metadata": {},
   "outputs": [
    {
     "data": {
      "image/png": "[encoded data removed]",
      "text/plain": [
       "plot without title"
      ]
     },
     "metadata": {},
     "output_type": "display_data"
    }
   ],
   "source": [
    "# Когда будете строить такой график, избавьтесь от колонки NA\n",
    "# Это позволяет сделать грамотное выполнение 1 и 2 пунктов инструкции :) \n",
    "ggplot(df, aes(x=factor(bmonth)))+\n",
    "  geom_bar(stat=\"count\", width=0.7, fill=\"steelblue\")"
   ]
  },
  {
   "cell_type": "code",
   "execution_count": null,
   "metadata": {},
   "outputs": [],
   "source": [
    "# Код, который вы скатали с домашки прошлого года, но при этом поняли и осмыслили! "
   ]
  },
  {
   "cell_type": "markdown",
   "metadata": {},
   "source": [
    "__[3] Простая часть, решения которой в домашке прошло года нет__\n",
    "\n",
    "1. Сколько в итоговой, прошедшей все фильтры из предыдущего пункта, выборке есть уникальных имён? Какое мужское имя самое популярное? Какое женское имя самое популярное? Постройте гистограмму для 30 самых популярных имён.  \n",
    "2. Оцените вероятность того, что в группе из 50 произвольных людей найдётся хотя бы двое с одинаковыми именами. Она оказалась больше или меньше, чем в пункте про дни рождения?\n",
    "3. Разнятся ли эти вероятности между мужчинами и женщинами? "
   ]
  },
  {
   "cell_type": "code",
   "execution_count": null,
   "metadata": {},
   "outputs": [],
   "source": [
    "# Доказательство того, что вы осмыслили скатаный в прошлой части задачи код."
   ]
  },
  {
   "cell_type": "markdown",
   "metadata": {},
   "source": [
    "### [2] Задачка 16\n",
    "\n",
    "Предположим, что рост $100$ второкурсников распределен нормально со средним $175$ см и стандартным отклонением $8$ см. Если сделать выборку в $5$ человек и посчитать по ней средний рост $\\bar x$, то какими будут $E(\\bar x)$ и $Var(\\bar x)$, если выборки делаются \n",
    "\t \n",
    "а) с возвращением, то есть наблюдения $x_1, \\ldots, x_5$ производятся независимо;\n",
    "\t \t\n",
    "б) без возвращения, то есть наблюдения зависимы.\n",
    "\n",
    "Решите задачу вручную и проверьте своё решение с помощью симуляций."
   ]
  },
  {
   "cell_type": "code",
   "execution_count": null,
   "metadata": {},
   "outputs": [],
   "source": [
    "# ваше ручное решение и проверка"
   ]
  },
  {
   "cell_type": "markdown",
   "metadata": {},
   "source": [
    "### [2]  Задачка 17\n",
    "\n",
    "У Маши 30 разных пар туфель. И она говорит, сто мало! Пёс Шарик утащил без разбору на левые и правые $17$ туфель. Какова вероятность того, что у маши останется ровно $13$ полных пар? Пусть случайная величина $X$ — число полных пар у Маши. Найдите $E(X)$ и $Var(X)$.\n",
    "\n",
    "Решите задачу вручную и проверьте своё решение с помощью симуляций."
   ]
  },
  {
   "cell_type": "code",
   "execution_count": null,
   "metadata": {},
   "outputs": [],
   "source": [
    "# ваше ручное решение и проверка"
   ]
  },
  {
   "cell_type": "markdown",
   "metadata": {},
   "source": [
    "### [3]  Задачка 18 \n",
    "\n",
    "ЛСП постоянно подбрасывает монетку и орёт <<орёл - решка>>. \n",
    "\t\n",
    "* Когда выпадает $OPOP$,  ЛСП успокаивается и ныряет в ванну. Сколько в среднем раз ему нужно подбросить монетку, чтобы нырнуть?\n",
    "* Когда выпадает комбинация $POPP$, ЛСП просто теряется в мире цифрового глянца. Сколько в среднем раз ему нужно подбросить монетку, чтобы потеряться? \n",
    "* Пусть теперь ЛСП ЛСП хочет получить любую из этих двух комбинаций. Какова вероятность того, что ЛСП потеряется, а не нырнёт, то есть что $POPP$ появится раньше,  чем $OPOP$? \n",
    "\n",
    "Решите задачку вручную и проверьте своё решение с помощью симуляций."
   ]
  },
  {
   "cell_type": "code",
   "execution_count": null,
   "metadata": {},
   "outputs": [],
   "source": [
    "# решение руками да на компухтере"
   ]
  },
  {
   "cell_type": "markdown",
   "metadata": {},
   "source": [
    "### [2] Задачка 19\n",
    "\n",
    "Решите задачки вручную: \n",
    "\n",
    "* $k$ различных космонавтов собираются высадиться на $m$ различных планет. Каждый космонавт выбирает себе планету независимо и равновероятно. Пусть $X$ — количество планет, на которые никто не высадился. Найдите $E(X)$.\n",
    "\n",
    "* В ряд стоят $n$ гномов. Издали на них смотрит дракон. Гномы разной высоты. Сколько в среднем гномов видит дракон? Какова дисперсия числа увиденных гномов?"
   ]
  },
  {
   "cell_type": "code",
   "execution_count": null,
   "metadata": {},
   "outputs": [],
   "source": [
    "# ЧЁ ЖДЁШЬ? РЕШАЙ! "
   ]
  },
  {
   "cell_type": "markdown",
   "metadata": {},
   "source": [
    "### [4]  Задачка 20\n",
    "\n",
    "Илье Муромцу предстоит дорога к камню. И от камня начинаются ещё три дороги. Каждая из тех дорог снова оканчивается камнем. И от каждого камня начинаются ещё три дороги. И каждые три дороги кончаются камнем.... И так далее до бесконечности. На каждой дороге можно встретить живущего на ней трёхголового Змея Горыныча с вероятностью (хм, вы не поверите!) одна третья. Какова вероятность того, что у Ильи Муромца существует возможность пройти свой бесконечный жизненный путь, так ни разу и не встретив Змея Горыныча? \n",
    "\n",
    "Решите задачу вручную и проверьте своё решение с помощью симуляции. **Hint:** наверное, лучше всего делать симуляции с помощью рекурсивной функции на походы Ильи Муромца."
   ]
  },
  {
   "cell_type": "code",
   "execution_count": null,
   "metadata": {},
   "outputs": [],
   "source": [
    "# Ваше решение и кодище, желательно АДСКИЙ КОДИЩЕ"
   ]
  },
  {
   "cell_type": "markdown",
   "metadata": {},
   "source": [
    "## 2. [40+] Кит-рисёрчер\n",
    "\n",
    "**Добро пожаловать в Кита. Кит - это большая рисёрчерская задача с огромным количеством вопросов. В ките есть как ручные вопросы, так и вопросы для симуляций. За каждый вопрос даётся какое-то количество баллов. В каких-то вопросах требуется решить задачу руками на бумажке. В каких-то вопросах требуется произвести симуляцию в R. Продвинтесь в своём рисёрче над этим китом как можно глубже и срубите куш из баллов.** \n",
    "\n",
    "**Частично решение этого кита можно найти в логах предыдущего года. Если на вас нападёт отчаяние, можете заглянуть в них.** "
   ]
  },
  {
   "cell_type": "markdown",
   "metadata": {},
   "source": [
    "Эконом играет в киллера! Всего участие в игре принимает $100$ человек. Краткие правила игры: \n",
    "\n",
    "1. Каждый игрок одновременно и убийца и жертва. \n",
    "2. Игроку даётся конверт, в котором лежит имя человека, которого он должен убить. \n",
    "3. Сам игрок также находится у кого-то в конверте. Нужно не допустить своей смерти. \n",
    "4. Чтобы убить другого игрока, надо оказаться с ним наедине и застрелить из пальца. \n",
    "5. Жертва убитого становится новой жертвой игрока. \n",
    "6. Побеждает тот, кто совершит наибольшее число убийств. \n",
    "\n",
    "Организаторы игры сразу же столкнулись с несколькими проблемами. Первая проблема это __суицидники.__ Если Максиму в конверте попался Максим, то Максим должен убить сам себя. Он - суицидник.  В такой ситуации организаторам придётся поменять конверт. Хотелось бы, чтобы подобных ситуаций было как можно меньше.\n",
    "\n",
    "**a)[1]** Какова вероятность, что суицидником окажется именно Максим? Найдите эту вероятность руками. "
   ]
  },
  {
   "cell_type": "markdown",
   "metadata": {},
   "source": [
    "**б) [1]** Оцените с помощью симуляций вероятность того, что хотя бы один человек получит в конверте сам себя."
   ]
  },
  {
   "cell_type": "code",
   "execution_count": null,
   "metadata": {},
   "outputs": [],
   "source": [
    "# Напиши немного кода, будь умничкой"
   ]
  },
  {
   "cell_type": "markdown",
   "metadata": {},
   "source": [
    "**в) [2]** Найдите руками вероятность того, что хотя бы один человек получит сам себя. "
   ]
  },
  {
   "cell_type": "markdown",
   "metadata": {},
   "source": [
    "**г) [2]** Пусть случайная величина $X$ - количество суицидников. Оцените $E(X)$ с помощью симуляций. Проинтерпретируйте величину $E(X)$. Что она означает для организаторов игры? "
   ]
  },
  {
   "cell_type": "code",
   "execution_count": null,
   "metadata": {},
   "outputs": [],
   "source": [
    "# Ты уже чуток написал, напиши ещё немного"
   ]
  },
  {
   "cell_type": "markdown",
   "metadata": {},
   "source": [
    " **д) [2]** Найдите $E(X)$ руками."
   ]
  },
  {
   "cell_type": "markdown",
   "metadata": {},
   "source": [
    "Вторая проблема это __мэтчинги__. Если у Глеба в конверте оказалась Аня, а у Ани в конверте оказался Глеб, то между ними возник мэтчинг. Когда игроки останутся наедине, они попробуют убить друг-друга, и у них ничего не выйдет. Организатором придётся заменить Ане и Глебу конверты с жертвами. \n",
    "\n",
    "**е) [1]**  Какова вероятность того, что мэтчинг возникнет именно между Аней и Глебом? \n",
    "\n",
    "**ж) [3]** Оцените вероятность того, что в раздаче возник хотя бы один мэтчинг. "
   ]
  },
  {
   "cell_type": "code",
   "execution_count": null,
   "metadata": {},
   "outputs": [],
   "source": [
    "# Поднажми! Задачка скоро расколится"
   ]
  },
  {
   "cell_type": "markdown",
   "metadata": {},
   "source": [
    "**з) [3]** Пусть случайная величина $Y$ - количество мэтчингов. Оцените $E(Y)$. Проинтерпретируйте величину $E(Y)$. Что она означает для организаторов?"
   ]
  },
  {
   "cell_type": "code",
   "execution_count": null,
   "metadata": {},
   "outputs": [],
   "source": [
    "# Ещё чуток кода и ты сможешь всё!"
   ]
  },
  {
   "cell_type": "markdown",
   "metadata": {},
   "source": [
    "**и) [3]** Найдите $E(Y)$ руками."
   ]
  },
  {
   "cell_type": "markdown",
   "metadata": {},
   "source": [
    "__к) [1]__  Кроме мэтчингов в игре существуют цепи. Например, у Ахмеда в конверте могла оказаться Рита, у Риты Максим, а у Максима Ахмед. Игроки выстраиваются в цепь. После того как Рита убьёт Максима, а затем Ахмеда, цепь замкнётся и у Риты окажется она же сама. Какова вероятность того, что в игре ни один игрок в ходе замыкания такой цепи не окажется сам у себя? \n",
    "\n",
    "__л) [х.з.]__ Вы понимаете, что любая раздача конвертов приводит к появлению какого-то количества подобных цепей. Каждая цепь это какой-то граф. В итоговом графе может существовать различное количество компонент связности. Когда цепь в каждой из них замыкается, у человека в конверте оказывается он сам. Пусть случайная величина $Z$ - количество таких компонент, возникшее в игре при раздаче. Найдите $E(Z)$. Постройте для $Z$ гистограмму. \n",
    "\n",
    "Именно это я попросил сделать в прошлом году. Моё решение получилось довольно убойным. Его можно найти в прошлогодней домашке. Если вы сможете сделать это проще, накину баллов."
   ]
  },
  {
   "cell_type": "code",
   "execution_count": null,
   "metadata": {},
   "outputs": [],
   "source": [
    "# Ну тут ты скорее всего уже не напишешь кода"
   ]
  },
  {
   "cell_type": "markdown",
   "metadata": {},
   "source": [
    "Усложняем ситуацию! Предположим, что на игру отводится $24 \\cdot 60$ часов. Последовательность убийств это поток событий. Время, которое проходит между убийствами описывается экспоненциальным распределением с параметром $\\alpha = 0.08$.\n",
    "\n",
    "__м) [1]__  Сколько в среднем проходит часов между убийствами? \n",
    "\n",
    "__н) [5]__  Какова вероятность того, что через $30$ дней в игре останется меньше $50$ человек? При симуляциях можно считать, что если в какой-то момент человек оказался в конверте сам у себя, он умирает. Если возник мэтчинг, умирают оба человека. Цепочку, на которой происходит убийство выбирайте случайно на основе равномерного распределения."
   ]
  },
  {
   "cell_type": "code",
   "execution_count": null,
   "metadata": {},
   "outputs": [],
   "source": [
    "# Мало кто заполнит код здесь... "
   ]
  },
  {
   "cell_type": "markdown",
   "metadata": {},
   "source": [
    "__о) [5]__ Найдите математическое ожидание числа игроков, выживших после $30$ дней. "
   ]
  },
  {
   "cell_type": "code",
   "execution_count": null,
   "metadata": {},
   "outputs": [],
   "source": [
    "# Ну за этот пункт баллы точно никто не получит"
   ]
  },
  {
   "cell_type": "markdown",
   "metadata": {},
   "source": [
    "Предположим, что со временем игра протухает. Поначалу всем весело и все хотят убивать, но ближе к середине энтузиазм скатывается в ноль. Пусть $\\alpha$ в самом начале равна $0.08$. Каждые 48 часов она уменьшается в два раза.\n",
    "\n",
    "__п) [5]__ Какова вероятность того, что через $30$ дней в игре останется меньше $50$ человек? Каково математическое ожидание выживших? "
   ]
  },
  {
   "cell_type": "code",
   "execution_count": null,
   "metadata": {},
   "outputs": [],
   "source": [
    "# Тут быллы тоже никто не получит "
   ]
  },
  {
   "cell_type": "markdown",
   "metadata": {},
   "source": [
    "Организаторы игры не хотят, чтобы игра протухла. Перед тем как запустить игру, они построили кучу симуляций и решили, что каждые $7$ дней в полночь они будут награждать самого топового убийцу специальным призом. Каждый раз, когда происходит награждение, $\\alpha$ подскакивает на $0.02$. \n",
    "\n",
    "__р) [5]__ Какова вероятность того, что через $30$ дней в игре останется меньше $50$ человек? Каково математическое ожидание выживших?"
   ]
  },
  {
   "cell_type": "code",
   "execution_count": null,
   "metadata": {},
   "outputs": [],
   "source": [
    "# Тут никто код не напишет и подавно, я реалист"
   ]
  }
 ],
 "metadata": {
  "kernelspec": {
   "display_name": "R",
   "language": "R",
   "name": "ir"
  },
  "language_info": {
   "codemirror_mode": "r",
   "file_extension": ".r",
   "mimetype": "text/x-r-source",
   "name": "R",
   "pygments_lexer": "r",
   "version": "3.5.3"
  }
 },
 "nbformat": 4,
 "nbformat_minor": 2
}
