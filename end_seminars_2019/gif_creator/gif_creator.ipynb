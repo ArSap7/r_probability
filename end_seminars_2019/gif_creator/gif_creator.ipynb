{
 "cells": [
  {
   "cell_type": "markdown",
   "metadata": {},
   "source": [
    "# Создаём гифки"
   ]
  },
  {
   "cell_type": "code",
   "execution_count": 5,
   "metadata": {},
   "outputs": [],
   "source": [
    "import os\n",
    "import glob\n",
    "import imageio\n",
    "\n",
    "import numpy as np \n",
    "import pandas as pd\n",
    "\n",
    "import matplotlib.pyplot as plt\n",
    "import scipy.stats as sts\n",
    "plt.style.use('ggplot')   # Правильный стиль графиков   \n",
    "\n",
    "%matplotlib inline\n",
    "\n",
    "images = 'images/'"
   ]
  },
  {
   "cell_type": "markdown",
   "metadata": {},
   "source": [
    "### 1. Закон больших чисел"
   ]
  },
  {
   "cell_type": "code",
   "execution_count": null,
   "metadata": {},
   "outputs": [],
   "source": [
    "x = [ ]\n",
    "y = [ ]\n",
    "s = 0\n",
    "\n",
    "for i in range(100):\n",
    "    x.append(i)\n",
    "    s += np.random.choice([1,2,3,4,5,6])\n",
    "    y.append(s/len(x))\n",
    "    \n",
    "    fig, ax = plt.subplots()\n",
    "    ax.set_xlabel('Число побрасываний')\n",
    "    ax.set_ylabel('Среднее')\n",
    "    ax.set_ylim(1,6)\n",
    "    ax.set_xlim(0,100)\n",
    "\n",
    "    ax.plot(x, y)\n",
    "    ax.plot(list(range(100)),[3.5]*100)\n",
    "    \n",
    "    fig.savefig('images/{}.png'.format(i), dpi=80)\n",
    "    "
   ]
  },
  {
   "cell_type": "code",
   "execution_count": 61,
   "metadata": {},
   "outputs": [],
   "source": [
    "pause = 1\n",
    "animated_gif_name = 'animation_LLN.gif'\n",
    "\n",
    "def create_animated_gif(files, animated_gif_name, pause=0):\n",
    "    if pause != 0:\n",
    "        # Load the gifs up several times in the array, to slow down the animation\n",
    "        frames = []\n",
    "        for file in files:\n",
    "            count = 0\n",
    "            while count < pause:\n",
    "                frames.append(file)\n",
    "                count+=1\n",
    "        print(\"Total number of frames in the animation:\", len(frames))\n",
    "        files = frames\n",
    "    images = [imageio.imread(file) for file in files]\n",
    "    imageio.mimsave(animated_gif_name, images, duration = 0.005)"
   ]
  },
  {
   "cell_type": "code",
   "execution_count": 103,
   "metadata": {},
   "outputs": [
    {
     "name": "stdout",
     "output_type": "stream",
     "text": [
      "Total number of frames in the animation: 100\n"
     ]
    }
   ],
   "source": [
    "image_path = 'images/*.png'\n",
    "files = glob.glob(image_path)\n",
    "files = sorted(files, key = lambda w: int(w.split('/')[-1].split('.')[0]))\n",
    "create_animated_gif(files, animated_gif_name, pause)"
   ]
  },
  {
   "cell_type": "markdown",
   "metadata": {},
   "source": [
    "![](animation_LLN.gif)"
   ]
  },
  {
   "cell_type": "code",
   "execution_count": 82,
   "metadata": {},
   "outputs": [],
   "source": [
    "for f in glob.glob(\"images/*.png\"):\n",
    "    os.remove(f)"
   ]
  },
  {
   "cell_type": "markdown",
   "metadata": {},
   "source": [
    "### 2. ЦПТ "
   ]
  },
  {
   "cell_type": "code",
   "execution_count": null,
   "metadata": {},
   "outputs": [],
   "source": [
    "#rv = sts.uniform(loc=0, scale=1)\n",
    "rv = sts.chi2(1)\n",
    "\n",
    "x = np.zeros(10000)\n",
    "for i in range(1,100):\n",
    "    x += rv.rvs(10000)\n",
    "    #y = (x - i*0.5)*np.sqrt(12)/np.sqrt(i)\n",
    "    y = (x - i*1)/((2*i)**0.5)\n",
    "    fig, ax = plt.subplots()\n",
    "    #ax.set_xlabel('Число побрасываний')\n",
    "    #ax.set_ylabel('Среднее')\n",
    "    ax.set_ylim(0,0.5)\n",
    "    ax.set_xlim(-5,5)\n",
    "\n",
    "    ax.hist(y, bins=40,normed=True,color='grey', alpha=0.8, label = '$n=%s$' % i) \n",
    "    \n",
    "    mu = 0 # Находим мат ожидание и дисперсию на википедии! \n",
    "    sigma = 1\n",
    "    norm_rv = sts.norm(loc=mu, scale=sigma)  # Генерим нормальное распределение\n",
    "    z = np.linspace(-5,5,100)                # Решётка для прорисовки графика\n",
    "    pdf = norm_rv.pdf(z)\n",
    "    ax.plot(z, pdf, lw=3, color='blue')\n",
    "    ax.legend()  # Добавляем легенду и подписываем оси\n",
    "    fig.savefig('images/{}.png'.format(i), dpi=80)"
   ]
  },
  {
   "cell_type": "code",
   "execution_count": 78,
   "metadata": {},
   "outputs": [],
   "source": [
    "pause = 1\n",
    "animated_gif_name = 'animation_CPT_2.gif'"
   ]
  },
  {
   "cell_type": "code",
   "execution_count": 79,
   "metadata": {},
   "outputs": [
    {
     "name": "stdout",
     "output_type": "stream",
     "text": [
      "Total number of frames in the animation: 99\n"
     ]
    }
   ],
   "source": [
    "image_path = 'images/*.png'\n",
    "files = glob.glob(image_path)\n",
    "files = sorted(files, key = lambda w: int(w.split('/')[-1].split('.')[0]))\n",
    "create_animated_gif(files, animated_gif_name, pause)"
   ]
  },
  {
   "cell_type": "code",
   "execution_count": null,
   "metadata": {},
   "outputs": [],
   "source": []
  },
  {
   "cell_type": "code",
   "execution_count": null,
   "metadata": {},
   "outputs": [],
   "source": []
  },
  {
   "cell_type": "code",
   "execution_count": null,
   "metadata": {},
   "outputs": [],
   "source": []
  },
  {
   "cell_type": "code",
   "execution_count": null,
   "metadata": {},
   "outputs": [],
   "source": []
  },
  {
   "cell_type": "code",
   "execution_count": null,
   "metadata": {},
   "outputs": [],
   "source": []
  },
  {
   "cell_type": "code",
   "execution_count": null,
   "metadata": {},
   "outputs": [],
   "source": []
  },
  {
   "cell_type": "code",
   "execution_count": null,
   "metadata": {},
   "outputs": [],
   "source": []
  }
 ],
 "metadata": {
  "kernelspec": {
   "display_name": "Python 3",
   "language": "python",
   "name": "python3"
  },
  "language_info": {
   "codemirror_mode": {
    "name": "ipython",
    "version": 3
   },
   "file_extension": ".py",
   "mimetype": "text/x-python",
   "name": "python",
   "nbconvert_exporter": "python",
   "pygments_lexer": "ipython3",
   "version": "3.7.2"
  }
 },
 "nbformat": 4,
 "nbformat_minor": 2
}
