{
 "cells": [
  {
   "cell_type": "markdown",
   "metadata": {},
   "source": [
    "# Создаём гифки"
   ]
  },
  {
   "cell_type": "code",
   "execution_count": 11,
   "metadata": {},
   "outputs": [],
   "source": [
    "import os\n",
    "import glob\n",
    "import imageio\n",
    "\n",
    "import numpy as np \n",
    "import pandas as pd\n",
    "\n",
    "import matplotlib.pyplot as plt\n",
    "import scipy.stats as sts\n",
    "plt.style.use('ggplot')   # Правильный стиль графиков   \n",
    "\n",
    "%matplotlib inline\n",
    "\n",
    "images = 'images/'"
   ]
  },
  {
   "cell_type": "code",
   "execution_count": 12,
   "metadata": {},
   "outputs": [],
   "source": [
    "def create_animated_gif(files, animated_gif_name, pause=0):\n",
    "    if pause != 0:\n",
    "        # Load the gifs up several times in the array, to slow down the animation\n",
    "        frames = []\n",
    "        for file in files:\n",
    "            count = 0\n",
    "            while count < pause:\n",
    "                frames.append(file)\n",
    "                count+=1\n",
    "        print(\"Total number of frames in the animation:\", len(frames))\n",
    "        files = frames\n",
    "    images = [imageio.imread(file) for file in files]\n",
    "    imageio.mimsave(animated_gif_name, images, duration = 0.005)"
   ]
  },
  {
   "cell_type": "code",
   "execution_count": 126,
   "metadata": {},
   "outputs": [],
   "source": [
    "for f in glob.glob(\"images/*.png\"):\n",
    "    os.remove(f)"
   ]
  },
  {
   "cell_type": "markdown",
   "metadata": {},
   "source": [
    "### 1. Закон больших чисел"
   ]
  },
  {
   "cell_type": "code",
   "execution_count": null,
   "metadata": {},
   "outputs": [],
   "source": [
    "x = [ ]\n",
    "y = [ ]\n",
    "s = 0\n",
    "\n",
    "for i in range(100):\n",
    "    x.append(i)\n",
    "    s += np.random.choice([1,2,3,4,5,6])\n",
    "    y.append(s/len(x))\n",
    "    \n",
    "    fig, ax = plt.subplots()\n",
    "    ax.set_xlabel('Число побрасываний')\n",
    "    ax.set_ylabel('Среднее')\n",
    "    ax.set_ylim(1,6)\n",
    "    ax.set_xlim(0,100)\n",
    "\n",
    "    ax.plot(x, y)\n",
    "    ax.plot(list(range(100)),[3.5]*100)\n",
    "    \n",
    "    fig.savefig('images/{}.png'.format(i), dpi=80)\n",
    "    "
   ]
  },
  {
   "cell_type": "code",
   "execution_count": null,
   "metadata": {},
   "outputs": [],
   "source": [
    "pause = 1\n",
    "animated_gif_name = 'animation_LLN.gif'"
   ]
  },
  {
   "cell_type": "code",
   "execution_count": 103,
   "metadata": {},
   "outputs": [
    {
     "name": "stdout",
     "output_type": "stream",
     "text": [
      "Total number of frames in the animation: 100\n"
     ]
    }
   ],
   "source": [
    "image_path = 'images/*.png'\n",
    "files = glob.glob(image_path)\n",
    "files = sorted(files, key = lambda w: int(w.split('/')[-1].split('.')[0]))\n",
    "create_animated_gif(files, animated_gif_name, pause)"
   ]
  },
  {
   "cell_type": "markdown",
   "metadata": {},
   "source": [
    "![](animation_LLN.gif)"
   ]
  },
  {
   "cell_type": "markdown",
   "metadata": {},
   "source": [
    "### 2. ЦПТ "
   ]
  },
  {
   "cell_type": "code",
   "execution_count": null,
   "metadata": {},
   "outputs": [],
   "source": [
    "#rv = sts.uniform(loc=0, scale=1)\n",
    "rv = sts.chi2(1)\n",
    "\n",
    "x = np.zeros(10000)\n",
    "for i in range(1,100):\n",
    "    x += rv.rvs(10000)\n",
    "    #y = (x - i*0.5)*np.sqrt(12)/np.sqrt(i)\n",
    "    y = (x - i*1)/((2*i)**0.5)\n",
    "    fig, ax = plt.subplots()\n",
    "    #ax.set_xlabel('Число побрасываний')\n",
    "    #ax.set_ylabel('Среднее')\n",
    "    ax.set_ylim(0,0.5)\n",
    "    ax.set_xlim(-5,5)\n",
    "\n",
    "    ax.hist(y, bins=40,normed=True,color='grey', alpha=0.8, label = '$n=%s$' % i) \n",
    "    \n",
    "    mu = 0 # Находим мат ожидание и дисперсию на википедии! \n",
    "    sigma = 1\n",
    "    norm_rv = sts.norm(loc=mu, scale=sigma)  # Генерим нормальное распределение\n",
    "    z = np.linspace(-5,5,100)                # Решётка для прорисовки графика\n",
    "    pdf = norm_rv.pdf(z)\n",
    "    ax.plot(z, pdf, lw=3, color='blue')\n",
    "    ax.legend()  # Добавляем легенду и подписываем оси\n",
    "    fig.savefig('images/{}.png'.format(i), dpi=80)"
   ]
  },
  {
   "cell_type": "code",
   "execution_count": 78,
   "metadata": {},
   "outputs": [],
   "source": [
    "pause = 1\n",
    "animated_gif_name = 'animation_CPT_2.gif'"
   ]
  },
  {
   "cell_type": "code",
   "execution_count": 79,
   "metadata": {},
   "outputs": [
    {
     "name": "stdout",
     "output_type": "stream",
     "text": [
      "Total number of frames in the animation: 99\n"
     ]
    }
   ],
   "source": [
    "image_path = 'images/*.png'\n",
    "files = glob.glob(image_path)\n",
    "files = sorted(files, key = lambda w: int(w.split('/')[-1].split('.')[0]))\n",
    "create_animated_gif(files, animated_gif_name, pause)"
   ]
  },
  {
   "cell_type": "markdown",
   "metadata": {},
   "source": [
    "![](animation_CPT_2.gif)"
   ]
  },
  {
   "cell_type": "markdown",
   "metadata": {},
   "source": [
    "## 3. Смещение и ящик с усами"
   ]
  },
  {
   "cell_type": "code",
   "execution_count": 99,
   "metadata": {},
   "outputs": [],
   "source": [
    "import pandas as pd\n",
    "import numpy as np\n",
    "import seaborn as sns\n",
    "\n",
    "rv = sts.norm(loc=300, scale=100)\n",
    "x = rv.rvs(10000)\n",
    "\n",
    "def get_means(size):\n",
    "    th_od = [ ]\n",
    "    th_pe = [ ]\n",
    "    th_ap = [ ]\n",
    "    \n",
    "    for i in range(100):\n",
    "        x_sample = np.random.choice(x, size=size, replace=False)\n",
    "        th_od.append(np.mean(x_sample))\n",
    "        th_pe.append(np.mean(x_sample) - 4200/size)\n",
    "        th_ap.append(np.mean(x_sample) - 5*(size + 1)/size)\n",
    "        \n",
    "    return th_od, th_pe, th_ap"
   ]
  },
  {
   "cell_type": "code",
   "execution_count": null,
   "metadata": {
    "scrolled": true
   },
   "outputs": [],
   "source": [
    "for size in range(50, 4300, 50):\n",
    "    th_od, th_pe, th_ap =  get_means(size)\n",
    "    df = pd.DataFrame([th_od + th_pe + th_ap, \n",
    "                      ['Odahingum']*len(th_od) + ['Pappina']*len(th_pe) + ['Opanovi']*len(th_ap)]).T\n",
    "    df.columns = ['mammoth', 'who']\n",
    "    df.mammoth = df.mammoth.astype(float)\n",
    "\n",
    "    fig, axes = plt.subplots(1, 1, sharey=True, figsize=(8,8))\n",
    "    sns.boxplot(x='mammoth', y='who', data=df, ax=axes)\n",
    "    axes.set_xlim(270,320)\n",
    "    fig.savefig('images/{}.png'.format(size), dpi=80)"
   ]
  },
  {
   "cell_type": "code",
   "execution_count": 102,
   "metadata": {},
   "outputs": [],
   "source": [
    "pause = 1\n",
    "animated_gif_name = 'animation_boxplot.gif'"
   ]
  },
  {
   "cell_type": "code",
   "execution_count": 103,
   "metadata": {},
   "outputs": [
    {
     "name": "stdout",
     "output_type": "stream",
     "text": [
      "Total number of frames in the animation: 85\n"
     ]
    }
   ],
   "source": [
    "image_path = 'images/*.png'\n",
    "files = glob.glob(image_path)\n",
    "files = sorted(files, key = lambda w: int(w.split('/')[-1].split('.')[0]))\n",
    "create_animated_gif(files, animated_gif_name, pause)"
   ]
  },
  {
   "cell_type": "markdown",
   "metadata": {},
   "source": [
    "![](animation_boxplot.gif)"
   ]
  },
  {
   "cell_type": "markdown",
   "metadata": {},
   "source": [
    "## 4. Сходимость по вероятности"
   ]
  },
  {
   "cell_type": "code",
   "execution_count": null,
   "metadata": {},
   "outputs": [],
   "source": [
    "import pandas as pd\n",
    "import numpy as np\n",
    "import seaborn as sns\n",
    "\n",
    "mu = 2\n",
    "sigma = 0.05\n",
    "\n",
    "#rv = sts.norm(loc=mu, scale=sigma)\n",
    "rv = sts.cauchy(loc=mu, scale=sigma)\n",
    "n = 200\n",
    "\n",
    "eps1 = 0.1\n",
    "eps2 = 0.05\n",
    "\n",
    "xx = [ ]\n",
    "y = [ ]\n",
    "p1 = [ ]\n",
    "p2 = [ ]\n",
    "var_y = [ ]\n",
    "\n",
    "for i in range(1,n):\n",
    "    # генерим среднее\n",
    "    x = rv.rvs(i)\n",
    "    xx.append(i)\n",
    "    y.append(np.mean(x))\n",
    "\n",
    "    # вероятность пробить тоннель\n",
    "    z = [ ]\n",
    "    for j in range(1000):\n",
    "        z.append(np.mean(rv.rvs(i)))\n",
    "    p1.append(np.sum(np.abs(np.array(z)) > mu + eps1)/1000)\n",
    "    p2.append(np.sum(np.abs(np.array(z)) > mu + eps2)/1000)\n",
    "    var_y.append(np.var(z))\n",
    "    \n",
    "    \n",
    "    fig, ax = plt.subplots(1,3,figsize=(16, 4))\n",
    "\n",
    "    # среднее\n",
    "    ax[0].set_xlabel('Число наблюдений')\n",
    "    ax[0].set_ylabel('Среднее')\n",
    "    ax[0].set_ylim(1.2,2.7)\n",
    "    ax[0].set_xlim(1,n)\n",
    "    ax[0].plot(xx, y,  label = 'среднее')\n",
    "    ax[0].plot(list(range(1,n)),[2]*(n-1), lw=3,  label = 'математическое ожидание')\n",
    "    ax[0].plot(list(range(1,n)),[2 + eps1]*(n-1), lw=2, linestyle='dashed', color=\"g\", label = 'окно 0.1')\n",
    "    ax[0].plot(list(range(1,n)),[2 - eps1]*(n-1), lw=2, linestyle='dashed', color=\"g\")\n",
    "    ax[0].plot(list(range(1,n)),[2 + eps2]*(n-1), lw=2, linestyle='dashed', color=\"c\", label = 'окно 0.05')\n",
    "    ax[0].plot(list(range(1,n)),[2 - eps2]*(n-1), lw=2, linestyle='dashed', color=\"c\")\n",
    "    ax[0].legend() \n",
    "    \n",
    "\n",
    "    # вероятность пробоины\n",
    "    ax[1].set_xlabel('Число наблюдений')\n",
    "    ax[1].set_ylabel('Верояность пробоины')\n",
    "    ax[1].set_ylim(0,1)\n",
    "    ax[1].set_xlim(1,n)\n",
    "    ax[1].plot(xx, p1, color='g',  label = 'окно размера 0.1')\n",
    "    ax[1].plot(xx, p2, color='c',  label = 'окно размера 0.05')\n",
    "    ax[1].legend() \n",
    "\n",
    "    # дисперсия среднего\n",
    "    ax[2].set_xlabel('Число наблюдений')\n",
    "    ax[2].set_ylabel('Дисперсия среднего')\n",
    "    ax[2].set_ylim(0,3)\n",
    "    ax[2].set_xlim(1,n)\n",
    "    ax[2].plot(xx, var_y, color=\"#ff7f0e\",  label = 'дисперсия среднего')\n",
    "    ax[2].legend() \n",
    "\n",
    "    fig.savefig('images/{}.png'.format(i), dpi=80)"
   ]
  },
  {
   "cell_type": "code",
   "execution_count": 19,
   "metadata": {},
   "outputs": [],
   "source": [
    "pause = 1\n",
    "animated_gif_name = 'animation_prob_unconv.gif'"
   ]
  },
  {
   "cell_type": "code",
   "execution_count": 20,
   "metadata": {},
   "outputs": [
    {
     "name": "stdout",
     "output_type": "stream",
     "text": [
      "Total number of frames in the animation: 199\n"
     ]
    }
   ],
   "source": [
    "image_path = 'images/*.png'\n",
    "files = glob.glob(image_path)\n",
    "files = sorted(files, key = lambda w: int(w.split('/')[-1].split('.')[0]))\n",
    "create_animated_gif(files, animated_gif_name, pause)"
   ]
  },
  {
   "cell_type": "markdown",
   "metadata": {},
   "source": [
    "![](animation_prob_conv.gif)"
   ]
  },
  {
   "cell_type": "markdown",
   "metadata": {},
   "source": [
    "![](animation_prob_unconv.gif)"
   ]
  },
  {
   "cell_type": "markdown",
   "metadata": {},
   "source": [
    "## 5. Сходимость по распределению "
   ]
  },
  {
   "cell_type": "markdown",
   "metadata": {},
   "source": [
    "### Стьюдент к нормальному"
   ]
  },
  {
   "cell_type": "code",
   "execution_count": null,
   "metadata": {
    "scrolled": true
   },
   "outputs": [],
   "source": [
    "x = np.linspace(-5,5,100)\n",
    "rv_limit = sts.norm( )\n",
    "pdf_limit = rv_limit.pdf(x)\n",
    "cdf_limit = rv_limit.cdf(x)\n",
    "\n",
    "for k in range(1,30):\n",
    "    rv = sts.t(df=k)\n",
    "    pdf = rv.pdf(x)\n",
    "    cdf = rv.cdf(x) \n",
    "    \n",
    "    fig, ax = plt.subplots(1,2,figsize=(16, 4))    \n",
    "    ax[0].set_ylim(-0.03,0.45)\n",
    "    ax[0].plot(x, pdf, label=\"$t(k=%s)$\" % k, lw=1.2)\n",
    "    ax[0].plot(x, pdf_limit, label='N(0,1)', linestyle='dashed', lw=2)\n",
    "    ax[0].set_title(\"Плотность распределения (PDF)\")\n",
    "    ax[0].legend() \n",
    "\n",
    "    ax[1].set_ylim(-0.1,1.1)\n",
    "    ax[1].plot(x, cdf, label=\"$t(k=%s)$\" % k, lw=1.2)\n",
    "    ax[1].plot(x, cdf_limit, label='N(0,1)', linestyle='dashed', lw=2)\n",
    "    ax[1].set_title(\"Функция распределения (CDF)\")\n",
    "    ax[1].legend() \n",
    "    \n",
    "    fig.savefig('images/{}.png'.format(k), dpi=80)"
   ]
  },
  {
   "cell_type": "code",
   "execution_count": 76,
   "metadata": {},
   "outputs": [],
   "source": [
    "pause = 1\n",
    "animated_gif_name = 'animation_convdist_student.gif'"
   ]
  },
  {
   "cell_type": "code",
   "execution_count": 77,
   "metadata": {},
   "outputs": [
    {
     "name": "stdout",
     "output_type": "stream",
     "text": [
      "Total number of frames in the animation: 29\n"
     ]
    }
   ],
   "source": [
    "image_path = 'images/*.png'\n",
    "files = glob.glob(image_path)\n",
    "files = sorted(files, key = lambda w: int(w.split('/')[-1].split('.')[0]))\n",
    "create_animated_gif(files, animated_gif_name, pause)"
   ]
  },
  {
   "cell_type": "markdown",
   "metadata": {},
   "source": [
    "![](animation_convdist_student.gif)"
   ]
  },
  {
   "cell_type": "markdown",
   "metadata": {},
   "source": [
    "### Максимум из равноверных"
   ]
  },
  {
   "cell_type": "code",
   "execution_count": null,
   "metadata": {},
   "outputs": [],
   "source": [
    "x = np.linspace(0,1,100)\n",
    "rv_limit = sts.norm( )\n",
    "pdf_limit = rv_limit.pdf(x)\n",
    "cdf_limit = rv_limit.cdf(x)\n",
    "\n",
    "for k in range(1,50):    \n",
    "    pdf = k*(1 - x)**(k-1)\n",
    "    cdf = 1 - (1 - x)**k\n",
    "    \n",
    "    fig, ax = plt.subplots(1,2,figsize=(16, 4))    \n",
    "    ax[0].set_ylim(-0.1,10.1)\n",
    "    ax[0].plot(x, pdf, label=\"$1 - max(X_1, \\ldots, X_{%s})$\" % k, lw=1.2)\n",
    "    # ax[0].plot(x, pdf_limit, label='N(0,1)', linestyle='dashed', lw=2)\n",
    "    ax[0].set_title(\"Плотность распределения (PDF)\")\n",
    "    ax[0].legend() \n",
    "\n",
    "    ax[1].set_ylim(-0.1,1.1)\n",
    "    ax[1].plot(x, cdf, label=\"$1 - max(X_1, \\ldots, X_{%s})$\" % k, lw=1.2)\n",
    "    # ax[1].plot(x, cdf_limit, label='N(0,1)', linestyle='dashed', lw=2)\n",
    "    ax[1].set_title(\"Функция распределения (CDF)\")\n",
    "    ax[1].legend() \n",
    "    \n",
    "    fig.savefig('images/{}.png'.format(k), dpi=80)"
   ]
  },
  {
   "cell_type": "code",
   "execution_count": 118,
   "metadata": {},
   "outputs": [],
   "source": [
    "pause = 1\n",
    "animated_gif_name = 'animation_convdist_unif_1.gif'"
   ]
  },
  {
   "cell_type": "code",
   "execution_count": 119,
   "metadata": {},
   "outputs": [
    {
     "name": "stdout",
     "output_type": "stream",
     "text": [
      "Total number of frames in the animation: 49\n"
     ]
    }
   ],
   "source": [
    "image_path = 'images/*.png'\n",
    "files = glob.glob(image_path)\n",
    "files = sorted(files, key = lambda w: int(w.split('/')[-1].split('.')[0]))\n",
    "create_animated_gif(files, animated_gif_name, pause)"
   ]
  },
  {
   "cell_type": "markdown",
   "metadata": {},
   "source": [
    "![](animation_convdist_unif_1.gif)"
   ]
  },
  {
   "cell_type": "markdown",
   "metadata": {},
   "source": [
    "То же самое, но пронормированное на $n$ и из-за этого сходящееся к экспоненциальному."
   ]
  },
  {
   "cell_type": "code",
   "execution_count": null,
   "metadata": {
    "scrolled": true
   },
   "outputs": [],
   "source": [
    "x = np.linspace(0,1,100)\n",
    "rv_limit = sts.expon()\n",
    "pdf_limit = rv_limit.pdf(x)\n",
    "cdf_limit = rv_limit.cdf(x)\n",
    "\n",
    "for k in range(1,30):    \n",
    "    pdf = (1 - x/k)**(k-1)\n",
    "    cdf = 1 - (1 - x/k)**k\n",
    "    \n",
    "    fig, ax = plt.subplots(1,2,figsize=(16, 4))    \n",
    "    ax[0].set_ylim(-0.1,1.1)\n",
    "    ax[0].plot(x, pdf, label=\"$n \\cdot (1 - max(X_1, \\ldots, X_{%s}))$\" % k, lw=1.2)\n",
    "    ax[0].plot(x, pdf_limit, label='Exp(1)', linestyle='dashed', lw=2)\n",
    "    ax[0].set_title(\"Плотность распределения (PDF)\")\n",
    "    ax[0].legend() \n",
    "\n",
    "    ax[1].set_ylim(-0.1,1.1)\n",
    "    ax[1].plot(x, cdf, label=\"$n \\cdot (1 - max(X_1, \\ldots, X_{%s}))$\" % k, lw=1.2)\n",
    "    ax[1].plot(x, cdf_limit, label='Exp(1)', linestyle='dashed', lw=2)\n",
    "    ax[1].set_title(\"Функция распределения (CDF)\")\n",
    "    ax[1].legend() \n",
    "    \n",
    "    fig.savefig('images/{}.png'.format(k), dpi=80)"
   ]
  },
  {
   "cell_type": "code",
   "execution_count": 128,
   "metadata": {},
   "outputs": [],
   "source": [
    "pause = 1\n",
    "animated_gif_name = 'animation_convdist_unif_exp.gif'"
   ]
  },
  {
   "cell_type": "code",
   "execution_count": 129,
   "metadata": {},
   "outputs": [
    {
     "name": "stdout",
     "output_type": "stream",
     "text": [
      "Total number of frames in the animation: 29\n"
     ]
    }
   ],
   "source": [
    "image_path = 'images/*.png'\n",
    "files = glob.glob(image_path)\n",
    "files = sorted(files, key = lambda w: int(w.split('/')[-1].split('.')[0]))\n",
    "create_animated_gif(files, animated_gif_name, pause)"
   ]
  },
  {
   "cell_type": "markdown",
   "metadata": {},
   "source": [
    "![](animation_convdist_unif_exp.gif)"
   ]
  },
  {
   "cell_type": "markdown",
   "metadata": {},
   "source": [
    "### Пуассон"
   ]
  },
  {
   "cell_type": "code",
   "execution_count": 130,
   "metadata": {},
   "outputs": [
    {
     "data": {
      "text/plain": [
       "-0.6080000000000005"
      ]
     },
     "execution_count": 130,
     "metadata": {},
     "output_type": "execute_result"
    }
   ],
   "source": [
    "-2*2*(3 - 1.424*2)"
   ]
  },
  {
   "cell_type": "code",
   "execution_count": 131,
   "metadata": {},
   "outputs": [
    {
     "data": {
      "text/plain": [
       "1.4848"
      ]
     },
     "execution_count": 131,
     "metadata": {},
     "output_type": "execute_result"
    }
   ],
   "source": [
    "1.424 + 0.1*0.608"
   ]
  },
  {
   "cell_type": "code",
   "execution_count": 146,
   "metadata": {},
   "outputs": [
    {
     "data": {
      "text/plain": [
       "-0.6931471805599453"
      ]
     },
     "execution_count": 146,
     "metadata": {},
     "output_type": "execute_result"
    }
   ],
   "source": [
    "1/2*np.log(1/2) + 1/2*np.log(1/2)"
   ]
  },
  {
   "cell_type": "code",
   "execution_count": 145,
   "metadata": {},
   "outputs": [
    {
     "data": {
      "text/plain": [
       "0.48"
      ]
     },
     "execution_count": 145,
     "metadata": {},
     "output_type": "execute_result"
    }
   ],
   "source": [
    "1/4*0.64"
   ]
  },
  {
   "cell_type": "markdown",
   "metadata": {},
   "source": [
    "## План по гифкам: \n",
    "\n",
    "* Гифка про пуассона и тп "
   ]
  },
  {
   "cell_type": "code",
   "execution_count": null,
   "metadata": {},
   "outputs": [],
   "source": []
  },
  {
   "cell_type": "code",
   "execution_count": null,
   "metadata": {},
   "outputs": [],
   "source": []
  }
 ],
 "metadata": {
  "kernelspec": {
   "display_name": "Python 3",
   "language": "python",
   "name": "python3"
  },
  "language_info": {
   "codemirror_mode": {
    "name": "ipython",
    "version": 3
   },
   "file_extension": ".py",
   "mimetype": "text/x-python",
   "name": "python",
   "nbconvert_exporter": "python",
   "pygments_lexer": "ipython3",
   "version": "3.7.2"
  }
 },
 "nbformat": 4,
 "nbformat_minor": 2
}
