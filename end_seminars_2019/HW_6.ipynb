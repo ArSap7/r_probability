{
 "cells": [
  {
   "cell_type": "markdown",
   "metadata": {},
   "source": [
    "<img src=\"https://raw.githubusercontent.com/FUlyankin/r_probability/master/end_seminars/sem_6/student_teacher_dist.png\" height=\"300\" width=\"600\"> \n",
    "\n",
    "# <center> R для тервера и матстата. <br>  <br> Домашка номер шесть! </center>\n",
    "\n",
    "Данный ноутбук является домашкой по курсу «R для теории вероятностей и математической статистики» (РАНХиГС, 2017-2018). Автор ноутбука [вот этот парень по имени Филипп.](https://vk.com/ppilif) Если у вас для него есть деньги, слава или женщины, он от этого всего не откажется. Ноутбук распространяется на условиях лицензии [Creative Commons Attribution-Share Alike 4.0.](https://creativecommons.org/licenses/by-sa/4.0/) При использовании обязательно упоминание автора курса и аффилиации. При наличии технической возможности необходимо также указать активную гиперссылку на [страницу курса.](https://fulyankin.github.io/R_probability/) На ней можно найти другие материалы. Фрагменты кода, включенные в этот notebook, публикуются как [общественное достояние.](https://creativecommons.org/publicdomain/zero/1.0/)\n",
    "\n",
    "----------------------\n",
    "\n",
    "Приветствую вас внутри шестой домашки. __Краткий брифинг:__\n",
    "\n",
    "* Вас ждут задачи на проверку гипотез.\n",
    "* При решении каждой задачи чётко обосновывайте выборк критерия и проверяйте все необходимые для его работы предпосылки.\n",
    "* Попробуйте вбивать все критерии вручную, я бы на вашем месте попробовал бы писать полноценные функции для проверки гипотез. Например, вот так вот будет выглядеть функция для проверки гипотезы о доли. \n",
    "* Не забывайте держать уровень значимости под контролем. "
   ]
  },
  {
   "cell_type": "code",
   "execution_count": null,
   "metadata": {},
   "outputs": [],
   "source": []
  },
  {
   "cell_type": "code",
   "execution_count": null,
   "metadata": {},
   "outputs": [],
   "source": []
  },
  {
   "cell_type": "markdown",
   "metadata": {},
   "source": []
  },
  {
   "cell_type": "markdown",
   "metadata": {},
   "source": [
    "## [Задачка 3](https://nplus1.ru/news/2018/06/12/flynn-effect?utm_source=Telegram&utm_campaign=Social)\n",
    "\n",
    "В 1984 году американский ученый Джеймс Флинн [опубликовал](http://psycnet.apa.org/record/1984-11828-001) в журнале Psychological Bulletin статью под названием «The mean IQ of Americans: Massive gains 1932 to 1978». В ней описывался любопытный статистический феномен, который выражался в постепенном повышении показателей коэффициента IQ у американцев — примерно на 15 пунктов за четыре десятилетия. Причем аналогичный рост впоследствии наблюдался не только в США, но и в других странах и по всему миру в целом.\n",
    "\n",
    "Однако в последние годы ученые регистрируют обратный тренд — все больше исследований показывает, что начиная с 1970-х годов уровень IQ в некоторых западных странах начал постепенно снижаться. В [одной из последних работ](http://sci-hub.tw/http://www.pnas.org/content/early/2018/06/05/1718793115) этот эффект исследуется на норвежских призывниках, собранных с 1970 по 2009 год. Иссоедование охватывает мужчин, рожденных в 1962–1991 году. Возраст участников составлял 18-19 лет.\n",
    "\n",
    "\n",
    "Скопировать табличку отсюда и наформулировать гипотез о среднем: http://www.pnas.org/content/pnas/suppl/2018/06/06/1718793115.DCSupplemental/pnas.1718793115.sapp.pdf"
   ]
  },
  {
   "cell_type": "code",
   "execution_count": null,
   "metadata": {},
   "outputs": [],
   "source": []
  },
  {
   "cell_type": "markdown",
   "metadata": {},
   "source": [
    "Ещё идея для задачи:  https://nplus1.ru/news/2017/07/28/social-media-complexity"
   ]
  },
  {
   "cell_type": "code",
   "execution_count": null,
   "metadata": {},
   "outputs": [],
   "source": []
  },
  {
   "cell_type": "code",
   "execution_count": null,
   "metadata": {},
   "outputs": [],
   "source": []
  },
  {
   "cell_type": "code",
   "execution_count": null,
   "metadata": {},
   "outputs": [],
   "source": []
  },
  {
   "cell_type": "markdown",
   "metadata": {},
   "source": [
    "## Биг рисёрч проблем"
   ]
  },
  {
   "cell_type": "code",
   "execution_count": null,
   "metadata": {},
   "outputs": [],
   "source": []
  },
  {
   "cell_type": "code",
   "execution_count": null,
   "metadata": {},
   "outputs": [],
   "source": []
  },
  {
   "cell_type": "code",
   "execution_count": null,
   "metadata": {},
   "outputs": [],
   "source": []
  }
 ],
 "metadata": {
  "kernelspec": {
   "display_name": "R",
   "language": "R",
   "name": "ir"
  },
  "language_info": {
   "codemirror_mode": "r",
   "file_extension": ".r",
   "mimetype": "text/x-r-source",
   "name": "R",
   "pygments_lexer": "r",
   "version": "3.5.3"
  }
 },
 "nbformat": 4,
 "nbformat_minor": 2
}
