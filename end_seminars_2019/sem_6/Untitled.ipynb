{
 "cells": [
  {
   "cell_type": "markdown",
   "metadata": {
    "slideshow": {
     "slide_type": "slide"
    }
   },
   "source": [
    "<img src=\" \" height=\"300\" width=\"300\"> \n",
    "\n",
    "# <center> R для тервера и матстата. <br>  <br> 6.1 Проверка гипотез. Часть первая. </center>\n"
   ]
  },
  {
   "cell_type": "markdown",
   "metadata": {
    "slideshow": {
     "slide_type": "skip"
    }
   },
   "source": [
    "\n",
    "Данный ноутбук является конспектом по курсу «R для теории вероятностей и математической статистики» (РАНХиГС, 2017-2018). Автор ноутбука [вот этот парень по имени Филипп.](https://vk.com/ppilif) Если у вас для него есть деньги, слава или женщины, он от этого всего не откажется. Ноутбук распространяется на условиях лицензии [Creative Commons Attribution-Share Alike 4.0.](https://creativecommons.org/licenses/by-sa/4.0/) При использовании обязательно упоминание автора курса и аффилиации. При наличии технической возможности необходимо также указать активную гиперссылку на [страницу курса.](https://fulyankin.github.io/R_probability/) На ней можно найти другие материалы. Фрагменты кода, включенные в этот notebook, публикуются как [общественное достояние.](https://creativecommons.org/publicdomain/zero/1.0/)\n",
    "\n",
    "---------\n",
    "\n",
    "Ура! Мы добрались до самого главного. До проверки гипотез. Аналитики в разных компаниях проверяют их на ежедневной основе. Давайте попробуем разобраться зачем. Для начала немного кода для красивых картинок в ggplot2. Как обычно, вы не обязаны понимать этот код. Он тут нужен для красоты. "
   ]
  },
  {
   "cell_type": "code",
   "execution_count": 3,
   "metadata": {},
   "outputs": [],
   "source": [
    "library(\"ggplot2\")  # Пакет для красивых графиков \n",
    "library(\"grid\")     # Пакет для субплотов\n",
    "\n",
    "# Отрегулируем размер картинок, которые будут выдаваться в нашей тетрадке\n",
    "library('repr')\n",
    "options(repr.plot.width=4, repr.plot.height=3)"
   ]
  },
  {
   "cell_type": "code",
   "execution_count": 4,
   "metadata": {
    "slideshow": {
     "slide_type": "skip"
    }
   },
   "outputs": [],
   "source": [
    "# В этом блоке написаны несколько функций, которые рисуют красивые картинки для проверки гипотез.\n",
    "# Можно не обращать на них внимание :) \n",
    "\n",
    "# Область, которую надо будет закрасить на графике \n",
    "limitRange <- function(fun, min, max) {\n",
    "    function(x) {\n",
    "        y <- fun(x)\n",
    "        y[x < min  |  x > max] <- NA\n",
    "        return(y)\n",
    "    }\n",
    "}\n",
    "\n",
    "z_stat_picture <- function(z_stat, alpha =0.05, alternative = 'two-sided'){\n",
    "    # Опции для размеров графика\n",
    "    options(repr.plot.width=6, repr.plot.height=3)\n",
    "    \n",
    "    # Какие области надо закрасить (зависит от алтиернативы)\n",
    "    if(alternative == 'two-sided'){\n",
    "        z_crit <- qnorm(1-(alpha/2))\n",
    "        dlimit_left  <- limitRange(dnorm, -Inf, -z_crit) \n",
    "        dlimit_right <- limitRange(dnorm, z_crit, Inf) \n",
    "        }\n",
    "    if(alternative == 'less'){\n",
    "        z_crit <- qnorm(alpha)\n",
    "        dlimit_left  <- limitRange(dnorm, -Inf, z_crit)\n",
    "        dlimit_right <- limitRange(dnorm, Inf, Inf)        \n",
    "    }\n",
    "    if(alternative == 'greater'){\n",
    "        z_crit <- qnorm(1 - alpha)\n",
    "        dlimit_left  <- limitRange(dnorm, -Inf, -Inf)\n",
    "        dlimit_right <- limitRange(dnorm, z_crit, Inf)\n",
    "        }        \n",
    "      \n",
    "    # Основная картинка\n",
    "    p <- ggplot(data.frame(x=c(-4,4)), aes(x = x))+\n",
    "       stat_function(fun=dnorm) +  # вся функция \n",
    "       stat_function(fun=dlimit_left, geom=\"area\",  fill=\"blue\", alpha=0.2) +\n",
    "       stat_function(fun=dlimit_right, geom=\"area\", fill=\"blue\", alpha=0.2) +\n",
    "       geom_point(aes(x=z_stat,y=0), color=\"red\", size=2) +\n",
    "       geom_vline(xintercept = z_stat, size=0.3, linetype=\"dashed\", color=\"red\") +\n",
    "       annotate(\"text\", label=round(z_stat,2), x= z_stat, y=0.2, parse=T, size=4, color=\"darkred\")\n",
    "    \n",
    "    # Рисуем критические точки \n",
    "    if(alternative == 'two-sided'){\n",
    "       p <- p + annotate(\"text\", label=round(z_crit,2), x=z_crit+0.1, y=-0.02, parse=T, size=4) + \n",
    "                annotate(\"text\", label=round(-z_crit,2), x=-z_crit-0.1, y=-0.02, parse=T, size=4)\n",
    "        }\n",
    "    if(alternative == 'less'){\n",
    "       p <- p + annotate(\"text\", label=round(z_crit,2), x=z_crit-0.1, y=-0.02, parse=T, size=4)\n",
    "        }\n",
    "    if(alternative == 'greater'){\n",
    "       p <- p + annotate(\"text\", label=round(z_crit,2), x=z_crit+0.1, y=-0.02, parse=T, size=4)\n",
    "        }      \n",
    "    \n",
    "    # Немного заключительных настроек, связанных с темой и вывод на экран \n",
    "    p <- p + theme(\n",
    "             axis.text.x = element_blank(),\n",
    "             axis.text.y = element_blank(),\n",
    "             axis.ticks = element_blank(),\n",
    "             axis.title.x = element_blank(),\n",
    "             axis.title.y = element_blank()\n",
    "            )\n",
    "    \n",
    "    return(p)\n",
    "}"
   ]
  },
  {
   "cell_type": "code",
   "execution_count": 5,
   "metadata": {},
   "outputs": [],
   "source": [
    "# Точно такой же рисунок для t-статистики\n",
    "t_stat_picture <- function(t_stat, n, alpha =0.05, alternative = 'two-sided'){\n",
    "    # Опции для размеров графика\n",
    "    options(repr.plot.width=6, repr.plot.height=3)\n",
    "    \n",
    "    # Какие области надо закрасить (зависит от алтиернативы)\n",
    "    if(alternative == 'two-sided'){\n",
    "        t_crit <- qt(1-(alpha/2),df=n)\n",
    "        dlimit_left  <- limitRange(function(x) dt(x, df=n), -Inf, -t_crit) \n",
    "        dlimit_right <- limitRange(function(x) dt(x, df=n), t_crit, Inf) \n",
    "        }\n",
    "    if(alternative == 'less'){\n",
    "        t_crit <- qt(alpha,df=n)\n",
    "        dlimit_left  <- limitRange(function(x) dt(x, df=n), -Inf, t_crit)\n",
    "        dlimit_right <- limitRange(function(x) dt(x, df=n), Inf, Inf)        \n",
    "    }\n",
    "    if(alternative == 'greater'){\n",
    "        t_crit <- qt(1 - alpha,df=n)\n",
    "        dlimit_left  <- limitRange(function(x) dt(x, df=n), -Inf, -Inf)\n",
    "        dlimit_right <- limitRange(function(x) dt(x, df=n), t_crit, Inf)\n",
    "        }        \n",
    "      \n",
    "    # Основная картинка\n",
    "    p <- ggplot(data.frame(x=c(-4, 4)), aes(x = x))+\n",
    "       stat_function(fun=dt, args = list(df=n)) +  # вся функция \n",
    "       stat_function(fun=dlimit_left, geom=\"area\",  fill=\"blue\", alpha=0.2) +\n",
    "       stat_function(fun=dlimit_right, geom=\"area\", fill=\"blue\", alpha=0.2) +\n",
    "       geom_point(aes(x=t_stat,y=0), color=\"red\", size=2) +\n",
    "       geom_vline(xintercept = t_stat, size=0.3, linetype=\"dashed\", color=\"red\") +\n",
    "       annotate(\"text\", label=round(t_stat,2), x= t_stat, y=0.2, parse=T, size=4, color=\"darkred\")\n",
    "    \n",
    "    # Рисуем критические точки \n",
    "    if(alternative == 'two-sided'){\n",
    "       p <- p + annotate(\"text\", label=round(t_crit,2), x=t_crit+0.1, y=-0.02, parse=T, size=4) + \n",
    "                annotate(\"text\", label=round(-t_crit,2), x=-t_crit-0.1, y=-0.02, parse=T, size=4)\n",
    "        }\n",
    "    if(alternative == 'less'){\n",
    "       p <- p + annotate(\"text\", label=round(t_crit,2), x=t_crit-0.1, y=-0.02, parse=T, size=4)\n",
    "        }\n",
    "    if(alternative == 'greater'){\n",
    "       p <- p + annotate(\"text\", label=round(t_crit,2), x=t_crit+0.1, y=-0.02, parse=T, size=4)\n",
    "        }      \n",
    "    \n",
    "    # Немного заключительных настроек, связанных с темой и вывод на экран \n",
    "    p <- p + theme(\n",
    "             axis.text.x = element_blank(),\n",
    "             axis.text.y = element_blank(),\n",
    "             axis.ticks = element_blank(),\n",
    "             axis.title.x = element_blank(),\n",
    "             axis.title.y = element_blank()\n",
    "            )\n",
    "    \n",
    "    return(p)\n",
    "}"
   ]
  },
  {
   "cell_type": "markdown",
   "metadata": {},
   "source": [
    "## Agenda \n",
    "\n",
    "- Как проверять гипотезы\n",
    "\n",
    "- Точные и асимптотические критерии\n",
    "\n",
    "- Гипотезы о долях  \n",
    "\n",
    "- Гипотезы о средних\n",
    "\n",
    "- Гипотезы о дисперсиях\n"
   ]
  },
  {
   "cell_type": "markdown",
   "metadata": {
    "slideshow": {
     "slide_type": "slide"
    }
   },
   "source": [
    "# 1. Что такое гипотезы и зачем их проверять "
   ]
  },
  {
   "cell_type": "markdown",
   "metadata": {
    "slideshow": {
     "slide_type": "skip"
    }
   },
   "source": [
    "На самом деле мы можем сказать, что статистическая гипотеза это абсолютно любое утверждение, которое возникает в нашей голове, если его можно проверить с помощью данных."
   ]
  },
  {
   "cell_type": "markdown",
   "metadata": {
    "slideshow": {
     "slide_type": "slide"
    }
   },
   "source": [
    "#### Примеры гипотез: \n",
    "\n",
    "* В Австралии женщин дискриминируют на рынке труда!\n",
    "\n",
    "* В Питере люди любят кофе больше, чем в москве!\n",
    "\n",
    "* Посетители постоянно покупают в паре пиво и подгузники. Мы могли бы использовать это, чтобы увеличить прибыль. \n",
    "\n",
    "* Осьминог Пауль - настоящий прорицатель! Его предсказания всегда сбываются!\n",
    "\n",
    "* Доходности по акциям Яндекса имеют нормальное распределение! "
   ]
  },
  {
   "cell_type": "markdown",
   "metadata": {
    "slideshow": {
     "slide_type": "skip"
    }
   },
   "source": [
    "\n",
    "Каждое из этих утверждений может быть проверено на данных. Сразу же стоит сказать важную вещь. __Гипотезы нельзя принмать!__ Если кто-то при вас сказал, что он принял гипотезу, нужно срочно ударить этого человека по губам. Предположим, что мы собрали данные, связанные с предсказаниями Пауля. Предположим, что данные не противоречат тому, что Пауль действительно видит будущее. Означает ли это, что Пауль - провидец? \n",
    "\n",
    "Вовсе нет, это означает, что текущие данные не противоречат этому. Возможно, если мы ещё понаблюдаем за предсказаниями Пауля, гипотеза о том, что он провидец, отвергнется. Если данные не противоречат нашему утверждению, это не является доказательством его верности. В матемтике да это всегда да, а нет это хотя бы один раз нет. Возможно, наше нет ещё не наступило. Именно поэтому гипотезы нельзя принимать, но можно не отвергать. __Ещё раз, ещё раз__ если кто-то говорит, что принял гипотезу, нужно уведомить его, что он её вовсе не принял, а не отверг. Не стесняйтесь делать это. "
   ]
  },
  {
   "cell_type": "markdown",
   "metadata": {},
   "source": []
  },
  {
   "cell_type": "code",
   "execution_count": null,
   "metadata": {},
   "outputs": [],
   "source": []
  },
  {
   "cell_type": "code",
   "execution_count": null,
   "metadata": {},
   "outputs": [],
   "source": []
  },
  {
   "cell_type": "markdown",
   "metadata": {},
   "source": [
    "\n",
    "\n",
    "## Примеры гипотез \n",
    "\n",
    "\n",
    "\n",
    "\n",
    "\n",
    "## Что делать с гипотезами\n",
    "\n",
    "- Можно собирать данные и смотреть не противоречат ли им гипотезы\n",
    "\n",
    "- Это не очень достоверно, надо быть готовым к ошибкам\n",
    "\n",
    "- Гипотезы нельзя принмать, их не отвергают \n"
   ]
  },
  {
   "cell_type": "code",
   "execution_count": null,
   "metadata": {},
   "outputs": [],
   "source": []
  },
  {
   "cell_type": "markdown",
   "metadata": {},
   "source": [
    "\n",
    "\n",
    "Давайте посмотрим на конкретный пример. Джеймс Бонд утверждает, что он предпочитает пить мартини взболтанным, но не смешанным. Чтобы проверить это на практике, можно предложить ему пройти так называемый blind test, или слепое тестирование. Можно было бы завязать ему глаза, несколько раз предложить на выбор взболтанный и смешанный мартини, а после этого спросить какой напиток он предпочитает В данном случае если бы Джеймс Бонд выбрал взболтанный напиток, это считалось бы успехом, потому что его выбор соответствовал бы его утверждению. В противном случае считалось бы, что произошла неудача. \n",
    "\n",
    "Сформулируем нашу первую гипотезу! Обычно, гипотезу, выдвинутую для проверки называют __нулевой или основной.__ \n",
    "\n",
    "$$H_0: \\quad \\text{ Джеймс Бонд не различает два вида напитков и выбирает наугад.}$$ \n",
    "\n",
    "На языке математики это утверждение можно сформулировать с посощью Бернулиевской случайной величины. Как мы помним, у неё есть единтвенный параметр $p$, вероятность успеха. Если Джеймс Бонд не различает два напитка и берёт их наугад, то $p = 0.5$. Если нет, то он должен выбирать правильный напиток чаще неправильного и $p > 0.5$. Нулевая гипотеза рвоно так и будет выглядеть:\n",
    "\n",
    "$$\n",
    "H_0: \\quad p = \\frac{1}{2}\n",
    "$$\n",
    "\n",
    "Эту гипотезу мы должны проверять против какой-то альтернативы. Альтернатива может быть разной. С одной стороны, мы можем рассмотреть двустороннюю альтернативу, состояшую в том, что агент Бонд различает два напитка между собой\n",
    "\n",
    "$$\n",
    "H_1: \\quad p \\ne \\frac{1}{2}.\n",
    "$$\n",
    "\n",
    "С другой, мы могли бы рассмотреть одну из односторонних альтернатив. Например, что Бонд предпочитает именно вболтанный Мартини\n",
    "\n",
    "$$\n",
    "H_1: \\quad p > \\frac{1}{2}.\n",
    "$$\n",
    "\n",
    "Эксперимент с завязанными глазами нужно провести $n$ раз. В итоге у нас в руках окажется выборка, по которой мы сможем найти $\\hat p$. Предположим, что на основе 10 испытаний мы получили, что $\\hat p = \\frac{6}{10}$. Означает ли это, что Бонд отвечает за свои слова? \n",
    "\n",
    "Возникает соблазн сказать, что да, так как число получилось больше $\\frac{1}{2}$, и это ошибочный соблазн. Давайте вспомним немаловажный факт: наша оценка $\\hat p$ это функция от выборки. При других наблюдениях мы могли бы получить другую оценку. Хочется понять насколько сильно эта оценка отличается от нашей.\n",
    "\n",
    "Секундочку! Мы же уже умеем отвечать на этот вопрос. За точность оценки отвечает доверительный интервал. Мы помним, что \n",
    "\n",
    "$$\\hat p \\sim N \\left(p, \\frac{p(1-p)}{n} \\right).$$\n",
    "\n",
    "Исходя отсюда мы можем построить доверительный интервал и всё станет понятнее. Для нашей ситуации получим: "
   ]
  },
  {
   "cell_type": "code",
   "execution_count": null,
   "metadata": {},
   "outputs": [],
   "source": []
  },
  {
   "cell_type": "code",
   "execution_count": null,
   "metadata": {},
   "outputs": [],
   "source": []
  },
  {
   "cell_type": "code",
   "execution_count": null,
   "metadata": {},
   "outputs": [],
   "source": []
  },
  {
   "cell_type": "code",
   "execution_count": null,
   "metadata": {},
   "outputs": [],
   "source": []
  },
  {
   "cell_type": "code",
   "execution_count": null,
   "metadata": {},
   "outputs": [],
   "source": []
  }
 ],
 "metadata": {
  "celltoolbar": "Slideshow",
  "kernelspec": {
   "display_name": "R",
   "language": "R",
   "name": "ir"
  },
  "language_info": {
   "codemirror_mode": "r",
   "file_extension": ".r",
   "mimetype": "text/x-r-source",
   "name": "R",
   "pygments_lexer": "r",
   "version": "3.5.3"
  }
 },
 "nbformat": 4,
 "nbformat_minor": 2
}
