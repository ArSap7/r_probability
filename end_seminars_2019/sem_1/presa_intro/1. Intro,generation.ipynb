{
 "cells": [
  {
   "cell_type": "markdown",
   "metadata": {
    "slideshow": {
     "slide_type": "slide"
    }
   },
   "source": [
    "<center>\n",
    "\n",
    "# R для тервера и матстата  <br> <br> Шо за случайности да как их генерить \n",
    "\n",
    "<br> \n",
    "\n",
    "<center>\n",
    "<img src=\"https://raw.githubusercontent.com/FUlyankin/r_probability/master/end_seminars/sem_2/yYGiBqtirSM.jpg\" height=\"300\" width=\"500\"> "
   ]
  },
  {
   "cell_type": "markdown",
   "metadata": {
    "slideshow": {
     "slide_type": "skip"
    }
   },
   "source": [
    "Данный ноутбук является конспектом по курсу «R для теории вероятностей и математической статистики» (РАНХиГС, 2019). Автор ноутбука - [вот этот парень по имени Филипп.](https://vk.com/ppilif) Если у вас для него есть деньги, слава или женщины, он от этого всего не откажется. Ноутбук распространяется на условиях лицензии [Creative Commons Attribution-Share Alike 4.0.](https://creativecommons.org/licenses/by-sa/4.0/) При использовании обязательно упоминание автора курса и аффилиации. При наличии технической возможности необходимо также указать активную гиперссылку на [страницу курса.](https://fulyankin.github.io/R_probability/) На ней можно найти другие материалы. Фрагменты кода, включенные в этот notebook, публикуются как [общественное достояние.](https://creativecommons.org/publicdomain/zero/1.0/)\n"
   ]
  },
  {
   "cell_type": "markdown",
   "metadata": {
    "slideshow": {
     "slide_type": "slide"
    }
   },
   "source": [
    "## Чем будем заниматься \n",
    "\n",
    "- Посмотрим на то, что уже заботали под новым углом\n",
    "\n",
    "- Немного углубим знания, выработаем интуицию\n",
    "\n",
    "- Будем смотреть презы, писать код, болтать, решать задачки на доске\n",
    "\n",
    "- Посмотрим на примеры задач, которые приходится решать аналитикам\n"
   ]
  },
  {
   "cell_type": "markdown",
   "metadata": {
    "slideshow": {
     "slide_type": "slide"
    }
   },
   "source": [
    "## В чём будем заниматься \n",
    "\n",
    "- Конечно же в R\n",
    "\n",
    "- R очень лёгок в освоении\n",
    "\n",
    "- Одна из самыз красивых визуализаций данных \n",
    "\n",
    "- Очень хорош в работе со статистикой \n",
    "\n",
    "- Много готовых пакетов и большое комьюнити\n",
    "\n",
    "- Используется многими компаниями в работе, вот устаревший [мини-список](https://blog.revolutionanalytics.com/2014/05/companies-using-r-in-2014.html)"
   ]
  },
  {
   "cell_type": "markdown",
   "metadata": {
    "slideshow": {
     "slide_type": "slide"
    }
   },
   "source": [
    "## Чему мы хотим научиться\n",
    "\n",
    "* Увидеть картину мира целиком, а не отдельные её части\n",
    "* Чётко осознавать какие именно методы из статистики можно применить к задаче\n",
    "* Понимать что за задача перед нами стоит и уметь переводить её на язык математики \n",
    "* Использовать всю мощь R для этих целей"
   ]
  },
  {
   "cell_type": "markdown",
   "metadata": {
    "slideshow": {
     "slide_type": "slide"
    }
   },
   "source": [
    "## Про активности \n",
    "\n",
    "- Не делаешь сам $\\Rightarrow$ никогда не научишься $\\Rightarrow$ $4$ ~~большие~~ огромные домашки, за каждую можно набрать $100$ баллов\n",
    "\n",
    "- Домашки делаются в командах по три человека\n",
    "\n",
    "- Баллы ставятся на команду\n",
    "\n",
    "- Для зачёта и оценки $10$ надо набрать на команду $100$ баллов\n",
    "\n",
    "- В каждой домашке много рыбёшек и большой кит, можно решать только то, к чему лежит душа  "
   ]
  },
  {
   "cell_type": "markdown",
   "metadata": {
    "slideshow": {
     "slide_type": "slide"
    }
   },
   "source": [
    "## Регистрация команд \n",
    "\n",
    "* Нужно разбиться на команды по три человека и [зарегистрироваться в форме](https://docs.google.com/forms/d/e/1FAIpQLSfW1e5wSWF42xlYxjE-XpXusxd7BMKROrdaiz2lPPio_OPsqw/viewform)\n",
    "* Название своей команды нужно держать в тайне, у нас анонимное состязание, потому что есть супер-приз"
   ]
  },
  {
   "cell_type": "markdown",
   "metadata": {
    "slideshow": {
     "slide_type": "slide"
    }
   },
   "source": [
    "## Суперприз\n",
    "    \n",
    "- Две команды, набравшие наибольшее количество баллов свожу почилить с винишком, пиццей и настолками на крышу Яндекса\n",
    "\n",
    "- Команда может претендовать на крышу, если она набрала больше $100$ баллов\n",
    "\n",
    "<center>\n",
    "<img src=\"https://webpromoexperts.com.ua/images/uploads/blogs/skorostnaa-ekskursia-po-moskovskomu-ofisu-and-/UPijZLN5vs.jpg\"  width=\"500\">"
   ]
  },
  {
   "cell_type": "markdown",
   "metadata": {
    "slideshow": {
     "slide_type": "slide"
    }
   },
   "source": [
    "## Страничка курса со всей инфой: \n",
    "\n",
    "https://fulyankin.github.io/r_probability/"
   ]
  },
  {
   "cell_type": "markdown",
   "metadata": {
    "slideshow": {
     "slide_type": "slide"
    }
   },
   "source": [
    "# Показать как сдавать домашки! \n",
    "\n",
    "* __Опасность:__ не смочь собрать в R домашку \n",
    "* __Лечение:__ написать мне и попросить помочь, я всегда отвечу \n",
    "* Я в академии в четверг весь день, иногда в пятницу, можно подойти с ноутом\n",
    "* В команде вас трое, а файл на всех один: разделение труда. Кто-то решает, кто-то вбивает. \n",
    "* [Видео с запуском R и созданием pdf с домашкой](https://yadi.sk/i/Pxp_pByP6Em9-A)"
   ]
  },
  {
   "cell_type": "markdown",
   "metadata": {
    "slideshow": {
     "slide_type": "slide"
    }
   },
   "source": [
    "<center>\n",
    "<img src=\"https://raw.githubusercontent.com/FUlyankin/r_probability/master/end_seminars_2019/sem_1/presa_intro/laba.jpg\"  width=\"1000\">"
   ]
  },
  {
   "cell_type": "markdown",
   "metadata": {
    "slideshow": {
     "slide_type": "slide"
    }
   },
   "source": [
    "<center>\n",
    "<img src=\"https://raw.githubusercontent.com/FUlyankin/r_probability/master/end_seminars_2019/sem_1/presa_intro/laba_2.jpg\"  width=\"1000\">"
   ]
  },
  {
   "cell_type": "markdown",
   "metadata": {
    "slideshow": {
     "slide_type": "slide"
    }
   },
   "source": [
    "# 1. Зачем мы учили тервер?"
   ]
  },
  {
   "cell_type": "markdown",
   "metadata": {
    "slideshow": {
     "slide_type": "slide"
    }
   },
   "source": [
    "## Теория вероятностей \n",
    "\n",
    "- Мы изучали вероятности\n",
    "\n",
    "- Мы изучали события \n",
    "\n",
    "- Мы изучали случайные величины и их распределения \n",
    "\n",
    "- __ЗАЧЕМ МЫ ЭТО ДЕЛАЛИ?__"
   ]
  },
  {
   "cell_type": "markdown",
   "metadata": {
    "slideshow": {
     "slide_type": "slide"
    }
   },
   "source": [
    "## Случайные ли величины? \n",
    "\n",
    "<center>\n",
    "<img src=\"https://raw.githubusercontent.com/FUlyankin/r_probability/master/end_seminars_2019/sem_1/presa_intro/intro_vinsent.png\"  width=\"1000\"> \n",
    "</center>"
   ]
  },
  {
   "cell_type": "markdown",
   "metadata": {
    "slideshow": {
     "slide_type": "slide"
    }
   },
   "source": [
    "<center>\n",
    "<img src=\"https://raw.githubusercontent.com/FUlyankin/r_probability/master/end_seminars_2019/sem_1/presa_intro/intro_1.png\"  width=\"3000\"> \n",
    "</center>"
   ]
  },
  {
   "cell_type": "markdown",
   "metadata": {
    "slideshow": {
     "slide_type": "slide"
    }
   },
   "source": [
    "## Демон Лапласа \n",
    "\n",
    "<center>\n",
    "<img src=\"https://raw.githubusercontent.com/FUlyankin/r_probability/master/end_seminars_2019/sem_1/presa_intro/intro_laplas.png\" width=\"1000\"> \n",
    "</center>"
   ]
  },
  {
   "cell_type": "markdown",
   "metadata": {
    "slideshow": {
     "slide_type": "slide"
    }
   },
   "source": [
    "## Байесовский взгляд на вероятность \n",
    "\n",
    "- Лаплас: детерминизм, мы могли бы идеально прогнозировать вселенную, если бы измерили точное положение каждого атома. Издержки этого огромны. \n",
    "\n",
    "- Между совершенством природы и несовершенством человеческого познания огромный разрыв. \n",
    "\n",
    "- Неопределённость — результат этого разрыва. Случайность — это результат нашего невежества, а вероятность способ это невежество измерить. "
   ]
  },
  {
   "cell_type": "markdown",
   "metadata": {
    "slideshow": {
     "slide_type": "slide"
    }
   },
   "source": [
    "## Частотный взгляд на вероятность \n",
    "\n",
    "- Наука не может рассматривать вероятность как субъективную меру невежества.\n",
    "\n",
    "- Можно оценивать вероятности только тех событий, которые происходят более одного раза.\n",
    "\n",
    "- Вопрос «Какова вероятность, что кандидат N победит на выборах?» не имеет ответа, так как событие уникально и не обладает «частотой».\n",
    "\n"
   ]
  },
  {
   "cell_type": "markdown",
   "metadata": {
    "slideshow": {
     "slide_type": "slide"
    }
   },
   "source": [
    "## Что мы имеем \n",
    "\n",
    "<center>\n",
    "<img src=\"https://raw.githubusercontent.com/FUlyankin/r_probability/master/end_seminars_2019/sem_1/presa_intro/intro_sunduk.png\" width=\"900\"> \n",
    "</center>\n",
    "\n",
    "- <font size=\"5.5\"> Сундук — различные процесс порождения данных. Теория вероятностей изучает этот сундук. В реальности мы его не видим. </font>\n",
    "\n",
    "- <font size=\"5.5\"> В реальном мире мы видим выборки, которые сундук выплёвывает на нас. Математическая статистика изучает испражнения сундука и по ним пытается восстановить его внутренности. </font> \n"
   ]
  },
  {
   "cell_type": "markdown",
   "metadata": {
    "slideshow": {
     "slide_type": "slide"
    }
   },
   "source": [
    "## Хлам из сундука\n",
    "\n",
    "<center>\n",
    "<img src=\"https://raw.githubusercontent.com/FUlyankin/r_probability/master/end_seminars_2019/sem_1/presa_intro/intro_inside_sunduk.png\" width=\"1000\"> \n",
    "</center>"
   ]
  },
  {
   "cell_type": "markdown",
   "metadata": {
    "slideshow": {
     "slide_type": "slide"
    }
   },
   "source": [
    "## Чем плюётся сундук \n",
    "\n",
    "- Выборки, по которым можно попробовать восстановить его внутренности \n",
    "\n",
    "<center>\n",
    "<img src=\"https://raw.githubusercontent.com/FUlyankin/r_probability/master/end_seminars_2019/sem_1/presa_intro/intro_inside_sunduk_2.png\" width=\"1000\"> \n",
    "</center>"
   ]
  },
  {
   "cell_type": "markdown",
   "metadata": {
    "slideshow": {
     "slide_type": "slide"
    }
   },
   "source": [
    "## Базовые теоремы \n",
    "\n",
    "- Все манипуляции по восстановлению внутренностей сундука по его испражнениям позволяет делать ряд теорем.\n",
    "\n",
    "- Некоторые из них вы уже выучили!\n",
    "\n",
    "- __Что это за теоремы?__ "
   ]
  },
  {
   "cell_type": "markdown",
   "metadata": {
    "slideshow": {
     "slide_type": "slide"
    }
   },
   "source": [
    "# 2. Закон больших чисел"
   ]
  },
  {
   "cell_type": "markdown",
   "metadata": {
    "slideshow": {
     "slide_type": "subslide"
    }
   },
   "source": [
    "## Закон больших чисел \n",
    "\n",
    "- ЗБЧ утверждает, что среднее арифметическое большого числа похожих случайных величин «стабилизируется» с рочтом их числа\n",
    "\n",
    "- Как бы сильно случайные величины не отклонялись от своего среднего значения, эти отклонения взаимно гасятся и среднее арифметическое приближается к постоянной величине\n",
    "\n",
    "$$\n",
    "\\frac{X_1 + \\ldots + X_n}{n} - \\frac{E(X_1) + \\ldots + E(X_n)}{n} \\overset{p}{\\to} 0\n",
    "$$\n",
    "\n",
    "- ЗБЧ сформулировано довольно много: Чебышёва,Хинчина и тд\n",
    "\n"
   ]
  },
  {
   "cell_type": "markdown",
   "metadata": {
    "slideshow": {
     "slide_type": "subslide"
    }
   },
   "source": [
    "## Закон больших чисел \n",
    "\n",
    "<center>\n",
    "<img src=\"https://raw.githubusercontent.com/FUlyankin/r_probability/master/end_seminars_2019/gif_creator/animation_LLN.gif\" width=\"800\"> \n",
    "</center>"
   ]
  },
  {
   "cell_type": "markdown",
   "metadata": {
    "slideshow": {
     "slide_type": "subslide"
    }
   },
   "source": [
    "## Вопрос про больницы\n",
    "\n",
    "- Есть две больницы: маленькая и большая \n",
    "\n",
    "<center>\n",
    "<img src=\"https://raw.githubusercontent.com/FUlyankin/r_probability/master/end_seminars_2019/sem_1/presa_intro/intro_ill.png\" width=\"600\"> \n",
    "</center>\n",
    "\n",
    "- В обеих принимают роды, выяснилось, что в одной из больниц оценка вероятности появления мальчика составила $0.7$\n",
    "\n",
    "- В какой из больниц это произошло и почему? \n"
   ]
  },
  {
   "cell_type": "markdown",
   "metadata": {
    "slideshow": {
     "slide_type": "subslide"
    }
   },
   "source": [
    "## Вопрос про больницы\n",
    "\n",
    "Есть две больницы: маленькая и большая \n",
    "\n",
    "<center>\n",
    "<img src=\"https://raw.githubusercontent.com/FUlyankin/r_probability/master/end_seminars_2019/sem_1/presa_intro/intro_ill.png\" width=\"600\"> \n",
    "</center>\n",
    "\n",
    "- Скорее всего, это произошло в маленькой больнице. При малых объёмах выборки вероятность отклониться от $0.5$ больше. Именно это нашёптывает нам ЗБЧ. "
   ]
  },
  {
   "cell_type": "markdown",
   "metadata": {
    "slideshow": {
     "slide_type": "subslide"
    }
   },
   "source": [
    "\n",
    "### Слабая форма ЗБЧ (Пафнутий Львович Чебышёв)\n",
    "\n",
    "Пусть $X_1, \\ldots, X_n$ попарно независимые и одинаково распределённые случайные величины с конечным вторым моментом, $E(X_i^2) < \\infty$, тогда имеет место сходимость:\n",
    "\n",
    "$$\n",
    "\\frac{X_1 + \\ldots + X_n}{n} \\overset{p}{\\to} E(X_1)\n",
    "$$"
   ]
  },
  {
   "cell_type": "markdown",
   "metadata": {
    "slideshow": {
     "slide_type": "subslide"
    }
   },
   "source": [
    "### Сильная форма ЗБЧ\n",
    "\n",
    "Пусть $X_1, \\ldots, X_n$ попарно независимые и одинаково распределённые случайные величины с конечным вторым моментом, $E(X_i^2) < \\infty$, причём $\\sum_{k=1}^{\\infty} \\frac{Var(X_k)}{k^2} < \\infty$, тогда имеет место сходимость \n",
    "\n",
    "$$\n",
    "\\frac{X_1 + \\ldots + X_n}{n} \\overset{п.н.}{\\to} E(X_1)\n",
    "$$"
   ]
  },
  {
   "cell_type": "markdown",
   "metadata": {
    "slideshow": {
     "slide_type": "subslide"
    }
   },
   "source": [
    "## Страховые компании \n",
    "\n",
    "- Примерно с $1600$-х годов ЗБЧ позволяет зарабатывать деньги на страховании\n",
    "\n",
    "- __Упражнение:__ для $25$-летней девушки вероятность прожить ещё год составляет $0.9$. Страховка в год стоить $1000$ рублей при взносе в $110$ рублей. Какой будет средняя прибыль компании с одной страховки? \n"
   ]
  },
  {
   "cell_type": "markdown",
   "metadata": {
    "slideshow": {
     "slide_type": "subslide"
    }
   },
   "source": [
    "## Страховые компании \n",
    "\n",
    "$X_i$ — прибыль с одной страховки \n",
    "\n",
    "  $X_i$     | $110$  | $-890$\n",
    " ---------- | ------ | -------------\n",
    "$P(\\ldots)$ | $0.9$  | $0.1$\n",
    "\n",
    "Средняя прибыль компании составит $\\frac{1}{n} \\sum X_i$. По закону больших чисел:\n",
    "\n",
    "$$\n",
    "\\frac{1}{n} \\sum_{i=1}^n X_i \\overset{p}{\\to} E(X_1) = 0.9 \\cdot 110 - 0.1 \\cdot 890 = 10\n",
    "$$"
   ]
  },
  {
   "cell_type": "markdown",
   "metadata": {
    "slideshow": {
     "slide_type": "subslide"
    }
   },
   "source": [
    "## Генерации разных штук\n",
    "\n",
    "- Другой ништяк, который нам разрешает ЗБЧ — генерация случайных величин для оценки разных математических ожиданий и т.п.\n",
    "\n",
    "- Не можешь посчитать? Сгенерируй! \n",
    "\n",
    "- Обычно такие генерации называют методом Монте-Карло \n"
   ]
  },
  {
   "cell_type": "markdown",
   "metadata": {
    "slideshow": {
     "slide_type": "subslide"
    }
   },
   "source": [
    "## Метод Монте-Карло\n",
    "\n",
    "- __Метод Монте-Карло__ это общее название группы численных методов, основанных на получении большого числа реализаций случайного процесса, который формируется таким образом, чтобы его вероятностные характеристики совпадали с аналогичными величинами решаемой задачи \n"
   ]
  },
  {
   "cell_type": "markdown",
   "metadata": {
    "slideshow": {
     "slide_type": "slide"
    }
   },
   "source": [
    "# 3. Генерации в R"
   ]
  },
  {
   "cell_type": "code",
   "execution_count": 5,
   "metadata": {
    "slideshow": {
     "slide_type": "skip"
    }
   },
   "outputs": [],
   "source": [
    "library(\"ggplot2\")  # Пакет для красивых графиков \n",
    "     \n",
    "# Если вы работаете в R-studio, вы можете избежать подгрузки пакетов ниже\n",
    "# Отрегулируем размер картинок, которые будут выдаваться в нашей тетрадке\n",
    "library('repr') \n",
    "library(\"grid\")  # Пакет для субплотов\n",
    "options(repr.plot.width=4, repr.plot.height=3)"
   ]
  },
  {
   "cell_type": "markdown",
   "metadata": {
    "slideshow": {
     "slide_type": "subslide"
    }
   },
   "source": [
    "## Генерации в R \n",
    "\n",
    "Чтобы сварить в R любую случайную величину, нужно знать четыре буквы: $r$, $d$, $p$ и $q$. \n",
    "\n",
    "* `rnorm` эта команда сгенерирует выборку из нормального распределения\n",
    "* `dnorm` эта команда вычислит значение плотности в указанной точке\n",
    "* `pnorm` эта команда находит вероятность \n",
    "* `qnorm` эта команда находит квантили "
   ]
  },
  {
   "cell_type": "markdown",
   "metadata": {
    "slideshow": {
     "slide_type": "subslide"
    }
   },
   "source": [
    "## Генерируем нормальную выборку\n",
    "\n",
    "Хочу сгенерировать нормальную случайную величину $X \\sim N(\\mu, \\sigma^2)$:\n",
    "\n",
    "$$\n",
    "f(x) = \\frac{1}{\\sigma \\sqrt{2 \\pi}} \\cdot  e^{-\\frac{(x - \\mu)^2}{2 \\sigma^2}}\n",
    "$$"
   ]
  },
  {
   "cell_type": "code",
   "execution_count": 8,
   "metadata": {
    "slideshow": {
     "slide_type": "fragment"
    }
   },
   "outputs": [
    {
     "data": {
      "text/html": [
       "<ol class=list-inline>\n",
       "\t<li>3.44389035979933</li>\n",
       "\t<li>7.59097440961776</li>\n",
       "\t<li>3.6506566737062</li>\n",
       "\t<li>4.72979997241011</li>\n",
       "</ol>\n"
      ],
      "text/latex": [
       "\\begin{enumerate*}\n",
       "\\item 3.44389035979933\n",
       "\\item 7.59097440961776\n",
       "\\item 3.6506566737062\n",
       "\\item 4.72979997241011\n",
       "\\end{enumerate*}\n"
      ],
      "text/markdown": [
       "1. 3.44389035979933\n",
       "2. 7.59097440961776\n",
       "3. 3.6506566737062\n",
       "4. 4.72979997241011\n",
       "\n",
       "\n"
      ],
      "text/plain": [
       "[1] 3.443890 7.590974 3.650657 4.729800"
      ]
     },
     "metadata": {},
     "output_type": "display_data"
    }
   ],
   "source": [
    "x <- rnorm(4, mean=5, sd=3)  # если дисперсия 9, \n",
    "x                            # то стандартное отклонение 3"
   ]
  },
  {
   "cell_type": "markdown",
   "metadata": {
    "slideshow": {
     "slide_type": "subslide"
    }
   },
   "source": [
    "Хочу узнать $f(3)$\n"
   ]
  },
  {
   "cell_type": "code",
   "execution_count": 9,
   "metadata": {
    "slideshow": {
     "slide_type": "fragment"
    }
   },
   "outputs": [
    {
     "data": {
      "text/html": [
       "0.106482668507451"
      ],
      "text/latex": [
       "0.106482668507451"
      ],
      "text/markdown": [
       "0.106482668507451"
      ],
      "text/plain": [
       "[1] 0.1064827"
      ]
     },
     "metadata": {},
     "output_type": "display_data"
    }
   ],
   "source": [
    "dnorm(3, mean=5, sd=3)"
   ]
  },
  {
   "cell_type": "markdown",
   "metadata": {
    "slideshow": {
     "slide_type": "fragment"
    }
   },
   "source": [
    "Хочу узнать $F(3) = P(X < 3) = \\int_{-\\infty}^3 f(x)dx$"
   ]
  },
  {
   "cell_type": "code",
   "execution_count": 1,
   "metadata": {
    "slideshow": {
     "slide_type": "fragment"
    }
   },
   "outputs": [
    {
     "data": {
      "text/html": [
       "0.252492537546923"
      ],
      "text/latex": [
       "0.252492537546923"
      ],
      "text/markdown": [
       "0.252492537546923"
      ],
      "text/plain": [
       "[1] 0.2524925"
      ]
     },
     "metadata": {},
     "output_type": "display_data"
    }
   ],
   "source": [
    "pnorm(3, mean=5, sd=3)  "
   ]
  },
  {
   "cell_type": "markdown",
   "metadata": {
    "slideshow": {
     "slide_type": "subslide"
    }
   },
   "source": [
    "Хочу узнать $P(4 < X < 9)$ - ? "
   ]
  },
  {
   "cell_type": "markdown",
   "metadata": {
    "slideshow": {
     "slide_type": "subslide"
    }
   },
   "source": [
    "Хочу узнать \n",
    "\n",
    "$$P(4 < X < 9) =  \\int_4^9 f(x) dx = F(9) - F(4)$$"
   ]
  },
  {
   "cell_type": "code",
   "execution_count": 10,
   "metadata": {
    "slideshow": {
     "slide_type": "fragment"
    }
   },
   "outputs": [
    {
     "data": {
      "text/html": [
       "0.539347440092368"
      ],
      "text/latex": [
       "0.539347440092368"
      ],
      "text/markdown": [
       "0.539347440092368"
      ],
      "text/plain": [
       "[1] 0.5393474"
      ]
     },
     "metadata": {},
     "output_type": "display_data"
    }
   ],
   "source": [
    "pnorm(9, mean=5, sd=3) - pnorm(4, mean=5, sd=3)"
   ]
  },
  {
   "cell_type": "markdown",
   "metadata": {
    "slideshow": {
     "slide_type": "subslide"
    }
   },
   "source": [
    "Квантиль уровня $\\gamma$ это такое число $q$, что:\n",
    "\n",
    "$$\n",
    "P(X < q) = \\gamma\n",
    "$$"
   ]
  },
  {
   "cell_type": "code",
   "execution_count": 7,
   "metadata": {
    "slideshow": {
     "slide_type": "fragment"
    }
   },
   "outputs": [
    {
     "data": {
      "text/html": [
       "1.95996398454005"
      ],
      "text/latex": [
       "1.95996398454005"
      ],
      "text/markdown": [
       "1.95996398454005"
      ],
      "text/plain": [
       "[1] 1.959964"
      ]
     },
     "metadata": {},
     "output_type": "display_data"
    }
   ],
   "source": [
    "qnorm(1 - 0.05/2, mean=0, sd=1)   "
   ]
  },
  {
   "cell_type": "code",
   "execution_count": 12,
   "metadata": {
    "slideshow": {
     "slide_type": "fragment"
    }
   },
   "outputs": [
    {
     "data": {
      "text/html": [
       "<ol class=list-inline>\n",
       "\t<li>1.64485362695147</li>\n",
       "\t<li>1.95996398454005</li>\n",
       "\t<li>2.5758293035489</li>\n",
       "</ol>\n"
      ],
      "text/latex": [
       "\\begin{enumerate*}\n",
       "\\item 1.64485362695147\n",
       "\\item 1.95996398454005\n",
       "\\item 2.5758293035489\n",
       "\\end{enumerate*}\n"
      ],
      "text/markdown": [
       "1. 1.64485362695147\n",
       "2. 1.95996398454005\n",
       "3. 2.5758293035489\n",
       "\n",
       "\n"
      ],
      "text/plain": [
       "[1] 1.644854 1.959964 2.575829"
      ]
     },
     "metadata": {},
     "output_type": "display_data"
    }
   ],
   "source": [
    "x <- c(0.95, 0.975, 0.995)\n",
    "qnorm(x, mean = 0, sd = 1)   "
   ]
  },
  {
   "cell_type": "code",
   "execution_count": 15,
   "metadata": {
    "slideshow": {
     "slide_type": "fragment"
    }
   },
   "outputs": [
    {
     "data": {
      "text/html": [
       "<ol class=list-inline>\n",
       "\t<li>1.81246112281168</li>\n",
       "\t<li>2.22813885198627</li>\n",
       "\t<li>3.16927267261695</li>\n",
       "</ol>\n"
      ],
      "text/latex": [
       "\\begin{enumerate*}\n",
       "\\item 1.81246112281168\n",
       "\\item 2.22813885198627\n",
       "\\item 3.16927267261695\n",
       "\\end{enumerate*}\n"
      ],
      "text/markdown": [
       "1. 1.81246112281168\n",
       "2. 2.22813885198627\n",
       "3. 3.16927267261695\n",
       "\n",
       "\n"
      ],
      "text/plain": [
       "[1] 1.812461 2.228139 3.169273"
      ]
     },
     "metadata": {},
     "output_type": "display_data"
    }
   ],
   "source": [
    "# квантили для другого распределения!\n",
    "x <- c(0.95, 0.975, 0.995)\n",
    "qt(x, df = 10)  "
   ]
  },
  {
   "cell_type": "markdown",
   "metadata": {
    "slideshow": {
     "slide_type": "subslide"
    }
   },
   "source": [
    "Что сгенерирует код? "
   ]
  },
  {
   "cell_type": "code",
   "execution_count": 8,
   "metadata": {
    "slideshow": {
     "slide_type": "fragment"
    }
   },
   "outputs": [
    {
     "data": {
      "text/html": [
       "<ol class=list-inline>\n",
       "\t<li>-0.707120663342578</li>\n",
       "\t<li>-0.980011188525533</li>\n",
       "\t<li>0.396645732489923</li>\n",
       "\t<li>-0.839942216948569</li>\n",
       "\t<li>1.75183863777376</li>\n",
       "\t<li>1.08577247385991</li>\n",
       "\t<li>-0.396472256977632</li>\n",
       "\t<li>-0.893778576611249</li>\n",
       "\t<li>-0.274953778469149</li>\n",
       "\t<li>-0.630480321588603</li>\n",
       "</ol>\n"
      ],
      "text/latex": [
       "\\begin{enumerate*}\n",
       "\\item -0.707120663342578\n",
       "\\item -0.980011188525533\n",
       "\\item 0.396645732489923\n",
       "\\item -0.839942216948569\n",
       "\\item 1.75183863777376\n",
       "\\item 1.08577247385991\n",
       "\\item -0.396472256977632\n",
       "\\item -0.893778576611249\n",
       "\\item -0.274953778469149\n",
       "\\item -0.630480321588603\n",
       "\\end{enumerate*}\n"
      ],
      "text/markdown": [
       "1. -0.707120663342578\n",
       "2. -0.980011188525533\n",
       "3. 0.396645732489923\n",
       "4. -0.839942216948569\n",
       "5. 1.75183863777376\n",
       "6. 1.08577247385991\n",
       "7. -0.396472256977632\n",
       "8. -0.893778576611249\n",
       "9. -0.274953778469149\n",
       "10. -0.630480321588603\n",
       "\n",
       "\n"
      ],
      "text/plain": [
       " [1] -0.7071207 -0.9800112  0.3966457 -0.8399422  1.7518386  1.0857725\n",
       " [7] -0.3964723 -0.8937786 -0.2749538 -0.6304803"
      ]
     },
     "metadata": {},
     "output_type": "display_data"
    }
   ],
   "source": [
    "rnorm(10)"
   ]
  },
  {
   "cell_type": "markdown",
   "metadata": {
    "slideshow": {
     "slide_type": "subslide"
    }
   },
   "source": [
    "## Характеристики случайных величин"
   ]
  },
  {
   "cell_type": "code",
   "execution_count": 16,
   "metadata": {
    "slideshow": {
     "slide_type": "fragment"
    }
   },
   "outputs": [
    {
     "data": {
      "text/html": [
       "5.06609288087727"
      ],
      "text/latex": [
       "5.06609288087727"
      ],
      "text/markdown": [
       "5.06609288087727"
      ],
      "text/plain": [
       "[1] 5.066093"
      ]
     },
     "metadata": {},
     "output_type": "display_data"
    },
    {
     "data": {
      "text/html": [
       "9.32616290031186"
      ],
      "text/latex": [
       "9.32616290031186"
      ],
      "text/markdown": [
       "9.32616290031186"
      ],
      "text/plain": [
       "[1] 9.326163"
      ]
     },
     "metadata": {},
     "output_type": "display_data"
    },
    {
     "data": {
      "text/html": [
       "3.05387670024706"
      ],
      "text/latex": [
       "3.05387670024706"
      ],
      "text/markdown": [
       "3.05387670024706"
      ],
      "text/plain": [
       "[1] 3.053877"
      ]
     },
     "metadata": {},
     "output_type": "display_data"
    },
    {
     "data": {
      "text/html": [
       "4.97530492460927"
      ],
      "text/latex": [
       "4.97530492460927"
      ],
      "text/markdown": [
       "4.97530492460927"
      ],
      "text/plain": [
       "[1] 4.975305"
      ]
     },
     "metadata": {},
     "output_type": "display_data"
    }
   ],
   "source": [
    "x <- rnorm(1000, mean=5, sd=3)\n",
    "\n",
    "mean(x) # среднее\n",
    "\n",
    "var(x) # выборочная дисперсия\n",
    "\n",
    "sd(x) # выборочное стандартное отклонение\n",
    "\n",
    "median(x) # выборочная медиана"
   ]
  },
  {
   "cell_type": "markdown",
   "metadata": {
    "slideshow": {
     "slide_type": "subslide"
    }
   },
   "source": [
    "## Гистограмма "
   ]
  },
  {
   "cell_type": "code",
   "execution_count": 17,
   "metadata": {
    "slideshow": {
     "slide_type": "fragment"
    }
   },
   "outputs": [
    {
     "name": "stderr",
     "output_type": "stream",
     "text": [
      "`stat_bin()` using `bins = 30`. Pick better value with `binwidth`.\n"
     ]
    },
    {
     "data": {
      "image/png": "[encoded data removed]",
      "text/plain": [
       "plot without title"
      ]
     },
     "metadata": {},
     "output_type": "display_data"
    }
   ],
   "source": [
    "library(\"ggplot2\")  # пакет для красивых картинок\n",
    "\n",
    "x <- rnorm(1000, mean=5, sd=3)\n",
    "\n",
    "qplot(x) # гистограма "
   ]
  },
  {
   "cell_type": "markdown",
   "metadata": {
    "slideshow": {
     "slide_type": "subslide"
    }
   },
   "source": [
    "## Плотность распределения"
   ]
  },
  {
   "cell_type": "code",
   "execution_count": 14,
   "metadata": {
    "slideshow": {
     "slide_type": "fragment"
    }
   },
   "outputs": [
    {
     "data": {
      "image/png": "[encoded data removed]",
      "text/plain": [
       "plot without title"
      ]
     },
     "metadata": {},
     "output_type": "display_data"
    }
   ],
   "source": [
    "library(\"ggplot2\")  # пакет для красивых картинок\n",
    "\n",
    "x <- seq(-5, 15, by=0.01)\n",
    "y <- dnorm(x, mean=5, sd=3)\n",
    "\n",
    "qplot(x, y, geom=\"line\")"
   ]
  },
  {
   "cell_type": "markdown",
   "metadata": {
    "slideshow": {
     "slide_type": "subslide"
    }
   },
   "source": [
    "## Функция распределения"
   ]
  },
  {
   "cell_type": "code",
   "execution_count": 19,
   "metadata": {
    "slideshow": {
     "slide_type": "fragment"
    }
   },
   "outputs": [
    {
     "data": {
      "image/png": "[encoded data removed]",
      "text/plain": [
       "plot without title"
      ]
     },
     "metadata": {},
     "output_type": "display_data"
    }
   ],
   "source": [
    "library(\"ggplot2\")  # пакет для красивых картинок\n",
    "\n",
    "x <- seq(-5, 15, by=0.01)\n",
    "y <- pnorm(x, mean=5, sd=3)\n",
    "\n",
    "qplot(x, y, geom=\"line\")"
   ]
  },
  {
   "cell_type": "markdown",
   "metadata": {
    "slideshow": {
     "slide_type": "subslide"
    }
   },
   "source": [
    "## Зачем всё это надо?!\n",
    "\n",
    "- Чтобы решать реальные проблемы! Например, пусть $X \\sim N(5,3)$. Как найти $E \\left(\\frac{1}{X} \\right)$? "
   ]
  },
  {
   "cell_type": "markdown",
   "metadata": {
    "slideshow": {
     "slide_type": "fragment"
    }
   },
   "source": [
    "- Спосбо первый: \n",
    "\n",
    "$$\n",
    "E \\left(\\frac{1}{X} \\right) = \\int_{-\\infty}^{+\\infty} \\frac{1}{x} \\cdot \\frac{1}{\\sigma \\sqrt{2 \\pi}} \\cdot  e^{-\\frac{(x - 5)^2}{2 \\cdot 3^2}} dx\n",
    "$$"
   ]
  },
  {
   "cell_type": "markdown",
   "metadata": {
    "slideshow": {
     "slide_type": "subslide"
    }
   },
   "source": [
    "- Чтобы решать реальные проблемы! Например, пусть $X \\sim N(5,3)$. Как найти $E \\left(\\frac{1}{X} \\right)$? \n",
    "\n",
    "- Спосбо второй (ЗБЧ разрешает нам так делать): "
   ]
  },
  {
   "cell_type": "code",
   "execution_count": 20,
   "metadata": {
    "slideshow": {
     "slide_type": "fragment"
    }
   },
   "outputs": [
    {
     "data": {
      "text/html": [
       "0.0767308182919124"
      ],
      "text/latex": [
       "0.0767308182919124"
      ],
      "text/markdown": [
       "0.0767308182919124"
      ],
      "text/plain": [
       "[1] 0.07673082"
      ]
     },
     "metadata": {},
     "output_type": "display_data"
    }
   ],
   "source": [
    "n_obs <- 10^6 # число наблюдений \n",
    "\n",
    "x <- rnorm(n_obs, mean = 5, sd = 3)\n",
    "\n",
    "mean(1/x)"
   ]
  },
  {
   "cell_type": "markdown",
   "metadata": {
    "slideshow": {
     "slide_type": "subslide"
    }
   },
   "source": [
    "## Зачем всё это надо?\n",
    "\n",
    "- $X_1, X_2, X_3 \\sim U[0;2]$, независимые\n",
    "\n",
    "- Хотим знать $P(X_1 + X_2 + X_3^2 > 5)$"
   ]
  },
  {
   "cell_type": "code",
   "execution_count": 23,
   "metadata": {
    "slideshow": {
     "slide_type": "fragment"
    }
   },
   "outputs": [
    {
     "data": {
      "text/html": [
       "<ol class=list-inline>\n",
       "\t<li>FALSE</li>\n",
       "\t<li>FALSE</li>\n",
       "\t<li>FALSE</li>\n",
       "\t<li>FALSE</li>\n",
       "\t<li>TRUE</li>\n",
       "</ol>\n"
      ],
      "text/latex": [
       "\\begin{enumerate*}\n",
       "\\item FALSE\n",
       "\\item FALSE\n",
       "\\item FALSE\n",
       "\\item FALSE\n",
       "\\item TRUE\n",
       "\\end{enumerate*}\n"
      ],
      "text/markdown": [
       "1. FALSE\n",
       "2. FALSE\n",
       "3. FALSE\n",
       "4. FALSE\n",
       "5. TRUE\n",
       "\n",
       "\n"
      ],
      "text/plain": [
       "[1] FALSE FALSE FALSE FALSE  TRUE"
      ]
     },
     "metadata": {},
     "output_type": "display_data"
    },
    {
     "data": {
      "text/html": [
       "0.147573"
      ],
      "text/latex": [
       "0.147573"
      ],
      "text/markdown": [
       "0.147573"
      ],
      "text/plain": [
       "[1] 0.147573"
      ]
     },
     "metadata": {},
     "output_type": "display_data"
    }
   ],
   "source": [
    "n_obs <- 10^6\n",
    "x_1 <- runif(n_obs, min = 0, max = 2)\n",
    "x_2 <- runif(n_obs, min = 0, max = 2)\n",
    "x_3 <- runif(n_obs, min = 0, max = 2)\n",
    "\n",
    "success <- x_1 + x_2 + x_3^2 > 5\n",
    "success[1:5]\n",
    "sum(success) / n_obs"
   ]
  },
  {
   "cell_type": "markdown",
   "metadata": {
    "slideshow": {
     "slide_type": "subslide"
    }
   },
   "source": [
    "## Зачем всё это надо?\n",
    "\n",
    "- $X_1, X_2, X_3 \\sim U[0;2]$, независимые\n",
    "\n",
    "- Хотим знать $$P(X_1 + X_2 > 0.8 \\mid X_3 < 0.1)$$\n"
   ]
  },
  {
   "cell_type": "code",
   "execution_count": 28,
   "metadata": {
    "slideshow": {
     "slide_type": "fragment"
    }
   },
   "outputs": [
    {
     "data": {
      "text/html": [
       "<ol class=list-inline>\n",
       "\t<li>0.415671448688954</li>\n",
       "\t<li>0.721095726825297</li>\n",
       "\t<li>1.74133329978213</li>\n",
       "</ol>\n"
      ],
      "text/latex": [
       "\\begin{enumerate*}\n",
       "\\item 0.415671448688954\n",
       "\\item 0.721095726825297\n",
       "\\item 1.74133329978213\n",
       "\\end{enumerate*}\n"
      ],
      "text/markdown": [
       "1. 0.415671448688954\n",
       "2. 0.721095726825297\n",
       "3. 1.74133329978213\n",
       "\n",
       "\n"
      ],
      "text/plain": [
       "[1] 0.4156714 0.7210957 1.7413333"
      ]
     },
     "metadata": {},
     "output_type": "display_data"
    },
    {
     "data": {
      "text/html": [
       "<ol class=list-inline>\n",
       "\t<li>FALSE</li>\n",
       "\t<li>FALSE</li>\n",
       "\t<li>TRUE</li>\n",
       "</ol>\n"
      ],
      "text/latex": [
       "\\begin{enumerate*}\n",
       "\\item FALSE\n",
       "\\item FALSE\n",
       "\\item TRUE\n",
       "\\end{enumerate*}\n"
      ],
      "text/markdown": [
       "1. FALSE\n",
       "2. FALSE\n",
       "3. TRUE\n",
       "\n",
       "\n"
      ],
      "text/plain": [
       "[1] FALSE FALSE  TRUE"
      ]
     },
     "metadata": {},
     "output_type": "display_data"
    },
    {
     "data": {
      "text/html": [
       "<ol class=list-inline>\n",
       "\t<li>1.74133329978213</li>\n",
       "\t<li>1.82215116219595</li>\n",
       "\t<li>0.446165119297802</li>\n",
       "</ol>\n"
      ],
      "text/latex": [
       "\\begin{enumerate*}\n",
       "\\item 1.74133329978213\n",
       "\\item 1.82215116219595\n",
       "\\item 0.446165119297802\n",
       "\\end{enumerate*}\n"
      ],
      "text/markdown": [
       "1. 1.74133329978213\n",
       "2. 1.82215116219595\n",
       "3. 0.446165119297802\n",
       "\n",
       "\n"
      ],
      "text/plain": [
       "[1] 1.7413333 1.8221512 0.4461651"
      ]
     },
     "metadata": {},
     "output_type": "display_data"
    }
   ],
   "source": [
    "n_obs <- 10^6\n",
    "x_1 <- runif(n_obs, min = 0, max = 2)\n",
    "x_2 <- runif(n_obs, min = 0, max = 2)\n",
    "x_3 <- runif(n_obs, min = 0, max = 2)\n",
    "\n",
    "uslovie <- x_3 < 0.1\n",
    "x_1[1:3]\n",
    "uslovie[1:3]\n",
    "x_1[uslovie][1:3]"
   ]
  },
  {
   "cell_type": "code",
   "execution_count": 29,
   "metadata": {
    "slideshow": {
     "slide_type": "subslide"
    }
   },
   "outputs": [
    {
     "data": {
      "text/html": [
       "0.045767"
      ],
      "text/latex": [
       "0.045767"
      ],
      "text/markdown": [
       "0.045767"
      ],
      "text/plain": [
       "[1] 0.045767"
      ]
     },
     "metadata": {},
     "output_type": "display_data"
    }
   ],
   "source": [
    "n_obs <- 10^6\n",
    "x_1 <- runif(n_obs, min = 0, max = 2)\n",
    "x_2 <- runif(n_obs, min = 0, max = 2)\n",
    "x_3 <- runif(n_obs, min = 0, max = 2)\n",
    "\n",
    "uslovie <- x_3 < 0.1\n",
    "\n",
    "success <- x_1[uslovie] + x_2[uslovie] > 0.8\n",
    "\n",
    "sum(success)/n_obs"
   ]
  },
  {
   "cell_type": "markdown",
   "metadata": {
    "slideshow": {
     "slide_type": "subslide"
    }
   },
   "source": [
    "## Генерация выборок \n",
    "\n",
    "- С такой же лёгкостью можно генерировать любые выборки"
   ]
  },
  {
   "cell_type": "code",
   "execution_count": 30,
   "metadata": {
    "slideshow": {
     "slide_type": "fragment"
    }
   },
   "outputs": [
    {
     "data": {
      "text/html": [
       "<ol class=list-inline>\n",
       "\t<li>4</li>\n",
       "\t<li>3</li>\n",
       "\t<li>6</li>\n",
       "\t<li>10</li>\n",
       "\t<li>5</li>\n",
       "\t<li>8</li>\n",
       "\t<li>1</li>\n",
       "\t<li>7</li>\n",
       "</ol>\n"
      ],
      "text/latex": [
       "\\begin{enumerate*}\n",
       "\\item 4\n",
       "\\item 3\n",
       "\\item 6\n",
       "\\item 10\n",
       "\\item 5\n",
       "\\item 8\n",
       "\\item 1\n",
       "\\item 7\n",
       "\\end{enumerate*}\n"
      ],
      "text/markdown": [
       "1. 4\n",
       "2. 3\n",
       "3. 6\n",
       "4. 10\n",
       "5. 5\n",
       "6. 8\n",
       "7. 1\n",
       "8. 7\n",
       "\n",
       "\n"
      ],
      "text/plain": [
       "[1]  4  3  6 10  5  8  1  7"
      ]
     },
     "metadata": {},
     "output_type": "display_data"
    }
   ],
   "source": [
    "sample(1:10, size = 8)  # выборка без повторений"
   ]
  },
  {
   "cell_type": "code",
   "execution_count": 31,
   "metadata": {
    "slideshow": {
     "slide_type": "fragment"
    }
   },
   "outputs": [
    {
     "data": {
      "text/html": [
       "<ol class=list-inline>\n",
       "\t<li>8</li>\n",
       "\t<li>10</li>\n",
       "\t<li>3</li>\n",
       "\t<li>5</li>\n",
       "\t<li>6</li>\n",
       "\t<li>9</li>\n",
       "\t<li>9</li>\n",
       "\t<li>6</li>\n",
       "</ol>\n"
      ],
      "text/latex": [
       "\\begin{enumerate*}\n",
       "\\item 8\n",
       "\\item 10\n",
       "\\item 3\n",
       "\\item 5\n",
       "\\item 6\n",
       "\\item 9\n",
       "\\item 9\n",
       "\\item 6\n",
       "\\end{enumerate*}\n"
      ],
      "text/markdown": [
       "1. 8\n",
       "2. 10\n",
       "3. 3\n",
       "4. 5\n",
       "5. 6\n",
       "6. 9\n",
       "7. 9\n",
       "8. 6\n",
       "\n",
       "\n"
      ],
      "text/plain": [
       "[1]  8 10  3  5  6  9  9  6"
      ]
     },
     "metadata": {},
     "output_type": "display_data"
    }
   ],
   "source": [
    "sample(1:10, size = 8, replace = TRUE) # с повторениями"
   ]
  },
  {
   "cell_type": "code",
   "execution_count": 15,
   "metadata": {
    "slideshow": {
     "slide_type": "fragment"
    }
   },
   "outputs": [
    {
     "data": {
      "text/html": [
       "<ol class=list-inline>\n",
       "\t<li>'Решка'</li>\n",
       "\t<li>'Решка'</li>\n",
       "\t<li>'Решка'</li>\n",
       "\t<li>'Решка'</li>\n",
       "\t<li>'Решка'</li>\n",
       "</ol>\n"
      ],
      "text/latex": [
       "\\begin{enumerate*}\n",
       "\\item 'Решка'\n",
       "\\item 'Решка'\n",
       "\\item 'Решка'\n",
       "\\item 'Решка'\n",
       "\\item 'Решка'\n",
       "\\end{enumerate*}\n"
      ],
      "text/markdown": [
       "1. 'Решка'\n",
       "2. 'Решка'\n",
       "3. 'Решка'\n",
       "4. 'Решка'\n",
       "5. 'Решка'\n",
       "\n",
       "\n"
      ],
      "text/plain": [
       "[1] \"Решка\" \"Решка\" \"Решка\" \"Решка\" \"Решка\""
      ]
     },
     "metadata": {},
     "output_type": "display_data"
    }
   ],
   "source": [
    "# неправильная монетка \n",
    "sample(c(\"Орёл\", \"Решка\"), size = 5, replace = TRUE, prob = c(0.3, 0.7))"
   ]
  },
  {
   "cell_type": "markdown",
   "metadata": {
    "slideshow": {
     "slide_type": "subslide"
    }
   },
   "source": [
    "## ЗБЧ и монетка"
   ]
  },
  {
   "cell_type": "code",
   "execution_count": 33,
   "metadata": {
    "slideshow": {
     "slide_type": "fragment"
    }
   },
   "outputs": [
    {
     "data": {
      "text/html": [
       "0.299637"
      ],
      "text/latex": [
       "0.299637"
      ],
      "text/markdown": [
       "0.299637"
      ],
      "text/plain": [
       "[1] 0.299637"
      ]
     },
     "metadata": {},
     "output_type": "display_data"
    }
   ],
   "source": [
    "x <-  sample(c(\"Орёл\", \"Решка\"), size = 10^6, replace = TRUE, prob = c(0.3, 0.7))\n",
    "\n",
    "sum(x == 'Орёл')/length(x)"
   ]
  },
  {
   "cell_type": "markdown",
   "metadata": {
    "slideshow": {
     "slide_type": "slide"
    }
   },
   "source": [
    "# 4. Центральная предельная теорема (ЦПТ)"
   ]
  },
  {
   "cell_type": "markdown",
   "metadata": {
    "slideshow": {
     "slide_type": "subslide"
    }
   },
   "source": [
    "## ЦПТ \n",
    "\n",
    "- При определённых условиях сумма достаточно большого числа случайных величин имеет распределение близкое к нормальному \n",
    "\n",
    "- __Главное:__ чтобы случайные величины были похожи и не было такого, что одна резко выделяется на фоне остальных \n",
    "\n",
    "- Есть много разных ЦПТ с разными условиями "
   ]
  },
  {
   "cell_type": "markdown",
   "metadata": {
    "slideshow": {
     "slide_type": "subslide"
    }
   },
   "source": [
    "## Классическая формулировка ЦПТ \n",
    "\n",
    "Пусть $X_1, \\ldots, X_n, \\ldots$ — последовательность независимых одинаковых случайных велчин с конечным вторым моментом $E(X_i^2) < \\infty$. Тогда \n",
    "\n",
    "<br>\n",
    "\n",
    "$$\n",
    "\\frac{(X_1 + \\ldots + X_n) - n \\cdot E(X_1)}{\\sqrt{n \\cdot Var(X_1)}} \\overset{d}{\\to} N(0,1)\n",
    "$$\n"
   ]
  },
  {
   "cell_type": "markdown",
   "metadata": {
    "slideshow": {
     "slide_type": "subslide"
    }
   },
   "source": [
    "## ЦПТ и равномерное распределение\n",
    "\n",
    "- Пусть $X \\sim U[-1;1]$, пусть $Y = X_1 + \\ldots + X_n$ \n"
   ]
  },
  {
   "cell_type": "code",
   "execution_count": 39,
   "metadata": {
    "slideshow": {
     "slide_type": "fragment"
    }
   },
   "outputs": [],
   "source": [
    "n = 10^4\n",
    "X1 <- runif(n, min = -1, max = 1)\n",
    "X2 <- runif(n, min = -1, max = 1)\n",
    "X3 <- runif(n, min = -1, max = 1)\n",
    "X4 <- runif(n, min = -1, max = 1)"
   ]
  },
  {
   "cell_type": "code",
   "execution_count": 40,
   "metadata": {
    "slideshow": {
     "slide_type": "subslide"
    }
   },
   "outputs": [
    {
     "data": {
      "image/png": "[encoded data removed]",
      "text/plain": [
       "plot without title"
      ]
     },
     "metadata": {},
     "output_type": "display_data"
    }
   ],
   "source": [
    "qplot(X1, bins = 70)"
   ]
  },
  {
   "cell_type": "code",
   "execution_count": 41,
   "metadata": {
    "slideshow": {
     "slide_type": "subslide"
    }
   },
   "outputs": [
    {
     "data": {
      "image/png": "[encoded data removed]",
      "text/plain": [
       "plot without title"
      ]
     },
     "metadata": {},
     "output_type": "display_data"
    }
   ],
   "source": [
    "qplot(X1 + X2, bins = 70)"
   ]
  },
  {
   "cell_type": "code",
   "execution_count": 42,
   "metadata": {
    "slideshow": {
     "slide_type": "subslide"
    }
   },
   "outputs": [
    {
     "data": {
      "image/png": "[encoded data removed]",
      "text/plain": [
       "plot without title"
      ]
     },
     "metadata": {},
     "output_type": "display_data"
    }
   ],
   "source": [
    "qplot(X1 + X2 + X3, bins = 70)"
   ]
  },
  {
   "cell_type": "code",
   "execution_count": 43,
   "metadata": {
    "slideshow": {
     "slide_type": "subslide"
    }
   },
   "outputs": [
    {
     "data": {
      "image/png": "[encoded data removed]",
      "text/plain": [
       "plot without title"
      ]
     },
     "metadata": {},
     "output_type": "display_data"
    }
   ],
   "source": [
    "qplot(X1 + X2 + X3 + X4, bins = 70) "
   ]
  },
  {
   "cell_type": "markdown",
   "metadata": {
    "slideshow": {
     "slide_type": "subslide"
    }
   },
   "source": [
    "## ЦПТ для равномерного\n",
    "\n",
    "<center>\n",
    "<img src=\"https://raw.githubusercontent.com/FUlyankin/r_probability/master/end_seminars_2019/gif_creator/animation_CPT_1.gif\" width=\"650\"> \n",
    "</center>\n"
   ]
  },
  {
   "cell_type": "markdown",
   "metadata": {
    "slideshow": {
     "slide_type": "subslide"
    }
   },
   "source": [
    "## ЦПТ для $\\chi^2_1$\n",
    "\n",
    "<center>\n",
    "<img src=\"https://raw.githubusercontent.com/FUlyankin/r_probability/master/end_seminars_2019/gif_creator/animation_CPT_2.gif\" width=\"650\"> \n",
    "</center>\n"
   ]
  },
  {
   "cell_type": "markdown",
   "metadata": {
    "slideshow": {
     "slide_type": "subslide"
    }
   },
   "source": [
    "## Доска Гальтона \n",
    "\n",
    "<center>\n",
    "<img src=\"https://raw.githubusercontent.com/FUlyankin/r_probability/master/end_seminars_2019/sem_1/presa_intro/intro_galton.png\" width=\"800\"> \n",
    "</center>"
   ]
  },
  {
   "cell_type": "markdown",
   "metadata": {
    "slideshow": {
     "slide_type": "subslide"
    }
   },
   "source": [
    "<center>\n",
    "<img src=\"https://thumbs.gfycat.com/PleasingMeaslyGalapagossealion-max-1mb.gif\" width=\"400\"> \n",
    "</center>"
   ]
  },
  {
   "cell_type": "markdown",
   "metadata": {
    "slideshow": {
     "slide_type": "subslide"
    }
   },
   "source": [
    "## ЦПТ на пальцевых пальцах\n",
    "\n",
    "- $Y$ — время прихода Стаса на первую пару "
   ]
  },
  {
   "cell_type": "markdown",
   "metadata": {
    "slideshow": {
     "slide_type": "fragment"
    }
   },
   "source": [
    "- На Стаса прыгнул кот и он проснулся пораньше, ускорение на $X_1$ "
   ]
  },
  {
   "cell_type": "markdown",
   "metadata": {
    "slideshow": {
     "slide_type": "fragment"
    }
   },
   "source": [
    "- Пока готовил завтрак, убежало молоко, задержка на $X_2$ "
   ]
  },
  {
   "cell_type": "markdown",
   "metadata": {
    "slideshow": {
     "slide_type": "fragment"
    }
   },
   "source": [
    "- Быстро приехал автобус, ускорение на $X_3$ "
   ]
  },
  {
   "cell_type": "markdown",
   "metadata": {
    "slideshow": {
     "slide_type": "fragment"
    }
   },
   "source": [
    "- Встал в неожиданную пробку, задержка на $X_4$ "
   ]
  },
  {
   "cell_type": "markdown",
   "metadata": {
    "slideshow": {
     "slide_type": "subslide"
    }
   },
   "source": [
    "## ЦПТ на пальцевых пальцах\n",
    "\n",
    "<center>\n",
    "<img src=\"https://raw.githubusercontent.com/FUlyankin/r_probability/master/end_seminars_2019/sem_1/presa_intro/intro_milk.png\" height=\"200\"> \n",
    "</center>\n",
    "\n",
    "- Ни одна из величин не выделяется! \n"
   ]
  },
  {
   "cell_type": "markdown",
   "metadata": {
    "slideshow": {
     "slide_type": "subslide"
    }
   },
   "source": [
    "## ЦПТ и ЗБЧ как скорости\n",
    "\n",
    "В ЗБЧ: \n",
    "\n",
    "$$\n",
    "\\frac{X_1 + \\ldots + X_n - n E(X_1)}{n} \\overset{p}{\\to} 0\n",
    "$$\n",
    "\n",
    "<br>\n",
    "\n",
    "В ЦПТ та же дробь домножается на $\\sqrt{n}$, это замедляет сходимость и мы приходим к более интересному результату: \n",
    "\n",
    "$$\n",
    "\\sqrt{n} \\cdot \\frac{X_1 + \\ldots + X_n - n E(X_1)}{n} \\overset{d}{\\to} N(0, Var(X_1))\n",
    "$$"
   ]
  },
  {
   "cell_type": "markdown",
   "metadata": {
    "slideshow": {
     "slide_type": "subslide"
    }
   },
   "source": [
    "## Крайнестан и среднестан \n",
    "\n",
    "- ЦПТ и ЗБЧ работают в среднестане \n",
    "\n",
    "- А что, если какая-то одна случайная величина выбивается? \n",
    "\n",
    "- Тогда мы перемещаемся из среднестана в крайнестан и сталкиваемся с проблемой тяжёлых хвостов \n",
    "\n",
    "- О тяжёлых хвостах мы ещё поговорим, они часто выскакивают в мире финансов \n"
   ]
  },
  {
   "cell_type": "markdown",
   "metadata": {
    "slideshow": {
     "slide_type": "subslide"
    }
   },
   "source": [
    "## Фальш в среднестане \n",
    "\n",
    "<center>\n",
    "<img src=\"https://raw.githubusercontent.com/FUlyankin/r_probability/master/end_seminars_2019/sem_1/presa_intro/intro_EGE_poland.jpg\" width=\"800\"> \n",
    "</center>\n"
   ]
  },
  {
   "cell_type": "markdown",
   "metadata": {
    "slideshow": {
     "slide_type": "subslide"
    }
   },
   "source": [
    "## Фальш на выборах\n",
    "\n",
    "<center>\n",
    "<img src=\"https://raw.githubusercontent.com/FUlyankin/r_probability/master/end_seminars_2019/sem_1/presa_intro/intro_meduza.png\" width=\"1200\"> \n",
    "</center>\n"
   ]
  },
  {
   "cell_type": "markdown",
   "metadata": {
    "slideshow": {
     "slide_type": "subslide"
    }
   },
   "source": [
    "## Фальш на выборах\n",
    "\n",
    "<center>\n",
    "<img src=\"https://raw.githubusercontent.com/FUlyankin/r_probability/master/end_seminars_2019/sem_1/presa_intro/intro_vote_yavka.jpg\" width=\"700\"> \n",
    "</center>"
   ]
  },
  {
   "cell_type": "markdown",
   "metadata": {
    "slideshow": {
     "slide_type": "slide"
    }
   },
   "source": [
    "# 5. Решаем вместе задачки на генерации"
   ]
  },
  {
   "cell_type": "markdown",
   "metadata": {
    "slideshow": {
     "slide_type": "slide"
    }
   },
   "source": [
    "## 5.1 Камила, Вика и монетки \n",
    "\n",
    "Две монеты, вероятности орла равны $0.6$ и $0.4$. Камила подбрасывает первую монетку до появления орла. Вика вторую.\n",
    "\n",
    "__а)__ Найдите с помощью симуляций вероятность того, что Вика сделает больше подбрасываний, чем Камила"
   ]
  },
  {
   "cell_type": "markdown",
   "metadata": {
    "slideshow": {
     "slide_type": "subslide"
    }
   },
   "source": [
    "__а)__ Найдите с помощью симуляций вероятность того, что Вика сделает больше подбрасываний, чем Камила"
   ]
  },
  {
   "cell_type": "code",
   "execution_count": 44,
   "metadata": {
    "slideshow": {
     "slide_type": "fragment"
    }
   },
   "outputs": [],
   "source": [
    "n_obs = 10^6\n",
    "p1 = 0.6\n",
    "p2 = 0.4 "
   ]
  },
  {
   "cell_type": "code",
   "execution_count": 45,
   "metadata": {
    "slideshow": {
     "slide_type": "fragment"
    }
   },
   "outputs": [
    {
     "data": {
      "text/html": [
       "<ol class=list-inline>\n",
       "\t<li>0</li>\n",
       "\t<li>0</li>\n",
       "\t<li>0</li>\n",
       "\t<li>1</li>\n",
       "\t<li>0</li>\n",
       "\t<li>0</li>\n",
       "\t<li>0</li>\n",
       "\t<li>0</li>\n",
       "\t<li>2</li>\n",
       "\t<li>1</li>\n",
       "</ol>\n"
      ],
      "text/latex": [
       "\\begin{enumerate*}\n",
       "\\item 0\n",
       "\\item 0\n",
       "\\item 0\n",
       "\\item 1\n",
       "\\item 0\n",
       "\\item 0\n",
       "\\item 0\n",
       "\\item 0\n",
       "\\item 2\n",
       "\\item 1\n",
       "\\end{enumerate*}\n"
      ],
      "text/markdown": [
       "1. 0\n",
       "2. 0\n",
       "3. 0\n",
       "4. 1\n",
       "5. 0\n",
       "6. 0\n",
       "7. 0\n",
       "8. 0\n",
       "9. 2\n",
       "10. 1\n",
       "\n",
       "\n"
      ],
      "text/plain": [
       " [1] 0 0 0 1 0 0 0 0 2 1"
      ]
     },
     "metadata": {},
     "output_type": "display_data"
    }
   ],
   "source": [
    "# симулируем подбрасывания Вики и Камилы\n",
    "x_kamila = rgeom(n_obs, prob = p1)\n",
    "x_vika = rgeom(n_obs, prob = p2)\n",
    "\n",
    "x_kamila[1:10]  # в векторе стоит число подбрасываний до первого орла"
   ]
  },
  {
   "cell_type": "code",
   "execution_count": 46,
   "metadata": {
    "slideshow": {
     "slide_type": "fragment"
    }
   },
   "outputs": [
    {
     "data": {
      "text/html": [
       "0.473411"
      ],
      "text/latex": [
       "0.473411"
      ],
      "text/markdown": [
       "0.473411"
      ],
      "text/plain": [
       "[1] 0.473411"
      ]
     },
     "metadata": {},
     "output_type": "display_data"
    }
   ],
   "source": [
    "sum(x_vika > x_kamila)/n_obs"
   ]
  },
  {
   "cell_type": "markdown",
   "metadata": {
    "slideshow": {
     "slide_type": "subslide"
    }
   },
   "source": [
    "__б)__ Камила сделает больше подбрасываний, чем Вика;"
   ]
  },
  {
   "cell_type": "code",
   "execution_count": 48,
   "metadata": {
    "slideshow": {
     "slide_type": "fragment"
    }
   },
   "outputs": [
    {
     "data": {
      "text/html": [
       "<ol class=list-inline>\n",
       "\t<li>0</li>\n",
       "\t<li>1</li>\n",
       "\t<li>2</li>\n",
       "\t<li>0</li>\n",
       "\t<li>0</li>\n",
       "\t<li>1</li>\n",
       "\t<li>0</li>\n",
       "\t<li>2</li>\n",
       "\t<li>0</li>\n",
       "\t<li>0</li>\n",
       "</ol>\n"
      ],
      "text/latex": [
       "\\begin{enumerate*}\n",
       "\\item 0\n",
       "\\item 1\n",
       "\\item 2\n",
       "\\item 0\n",
       "\\item 0\n",
       "\\item 1\n",
       "\\item 0\n",
       "\\item 2\n",
       "\\item 0\n",
       "\\item 0\n",
       "\\end{enumerate*}\n"
      ],
      "text/markdown": [
       "1. 0\n",
       "2. 1\n",
       "3. 2\n",
       "4. 0\n",
       "5. 0\n",
       "6. 1\n",
       "7. 0\n",
       "8. 2\n",
       "9. 0\n",
       "10. 0\n",
       "\n",
       "\n"
      ],
      "text/plain": [
       " [1] 0 1 2 0 0 1 0 2 0 0"
      ]
     },
     "metadata": {},
     "output_type": "display_data"
    }
   ],
   "source": [
    "n_obs = 10^6\n",
    "p1 = 0.6\n",
    "p2 = 0.4 \n",
    "\n",
    "# симулируем подбрасывания Вики и Камилы\n",
    "x_kamila = rgeom(n_obs, prob = p1)\n",
    "x_vika = rgeom(n_obs, prob = p2)\n",
    "\n",
    "x_kamila[1:10]  # в векторе стоит число подбрасываний до первого орла"
   ]
  },
  {
   "cell_type": "code",
   "execution_count": 49,
   "metadata": {
    "slideshow": {
     "slide_type": "fragment"
    }
   },
   "outputs": [
    {
     "data": {
      "text/html": [
       "0.210238"
      ],
      "text/latex": [
       "0.210238"
      ],
      "text/markdown": [
       "0.210238"
      ],
      "text/plain": [
       "[1] 0.210238"
      ]
     },
     "metadata": {},
     "output_type": "display_data"
    }
   ],
   "source": [
    "sum(x_vika < x_kamila)/n_obs"
   ]
  },
  {
   "cell_type": "markdown",
   "metadata": {
    "slideshow": {
     "slide_type": "subslide"
    }
   },
   "source": [
    "__в)__ Камила и Вика сделают одинаковое число подбрасываний"
   ]
  },
  {
   "cell_type": "code",
   "execution_count": 52,
   "metadata": {
    "slideshow": {
     "slide_type": "fragment"
    }
   },
   "outputs": [
    {
     "data": {
      "text/html": [
       "0.31644"
      ],
      "text/latex": [
       "0.31644"
      ],
      "text/markdown": [
       "0.31644"
      ],
      "text/plain": [
       "[1] 0.31644"
      ]
     },
     "metadata": {},
     "output_type": "display_data"
    }
   ],
   "source": [
    "sum(x_vika == x_kamila)/n_obs"
   ]
  },
  {
   "cell_type": "markdown",
   "metadata": {
    "slideshow": {
     "slide_type": "fragment"
    }
   },
   "source": [
    "__г)__ Верно ли, что в сумме эти три вероятности дают единицу? Логично ли это?"
   ]
  },
  {
   "cell_type": "code",
   "execution_count": 51,
   "metadata": {
    "slideshow": {
     "slide_type": "fragment"
    }
   },
   "outputs": [
    {
     "data": {
      "text/html": [
       "1"
      ],
      "text/latex": [
       "1"
      ],
      "text/markdown": [
       "1"
      ],
      "text/plain": [
       "[1] 1"
      ]
     },
     "metadata": {},
     "output_type": "display_data"
    }
   ],
   "source": [
    "sum(x_vika > x_kamila)/n_obs + sum(x_vika < x_kamila)/n_obs + sum(x_vika == x_kamila)/n_obs"
   ]
  },
  {
   "cell_type": "markdown",
   "metadata": {
    "slideshow": {
     "slide_type": "slide"
    }
   },
   "source": [
    "# 5.2 Человек и параход\n",
    "\n",
    "Иван Фёдорович Крузенштерн (ШТО?!) случайным образом с возможностью повторов выбирает $10$ натуральных чисел от $1$ до $100$. Пусть $X$ — минимум из этих чисел, а $Y$ — максимум. С помощью симуляций оцените:"
   ]
  },
  {
   "cell_type": "markdown",
   "metadata": {
    "slideshow": {
     "slide_type": "subslide"
    }
   },
   "source": [
    "__а)__ $P(Y > 3X)$"
   ]
  },
  {
   "cell_type": "code",
   "execution_count": 2,
   "metadata": {
    "slideshow": {
     "slide_type": "fragment"
    }
   },
   "outputs": [
    {
     "data": {
      "text/html": [
       "<ol class=list-inline>\n",
       "\t<li>95</li>\n",
       "\t<li>37</li>\n",
       "\t<li>87</li>\n",
       "\t<li>49</li>\n",
       "\t<li>46</li>\n",
       "</ol>\n"
      ],
      "text/latex": [
       "\\begin{enumerate*}\n",
       "\\item 95\n",
       "\\item 37\n",
       "\\item 87\n",
       "\\item 49\n",
       "\\item 46\n",
       "\\end{enumerate*}\n"
      ],
      "text/markdown": [
       "1. 95\n",
       "2. 37\n",
       "3. 87\n",
       "4. 49\n",
       "5. 46\n",
       "\n",
       "\n"
      ],
      "text/plain": [
       "[1] 95 37 87 49 46"
      ]
     },
     "metadata": {},
     "output_type": "display_data"
    }
   ],
   "source": [
    "natural <- sample(1:100, size = 5, replace = TRUE)\n",
    "natural"
   ]
  },
  {
   "cell_type": "code",
   "execution_count": 3,
   "metadata": {
    "slideshow": {
     "slide_type": "fragment"
    }
   },
   "outputs": [
    {
     "data": {
      "text/html": [
       "37"
      ],
      "text/latex": [
       "37"
      ],
      "text/markdown": [
       "37"
      ],
      "text/plain": [
       "[1] 37"
      ]
     },
     "metadata": {},
     "output_type": "display_data"
    },
    {
     "data": {
      "text/html": [
       "95"
      ],
      "text/latex": [
       "95"
      ],
      "text/markdown": [
       "95"
      ],
      "text/plain": [
       "[1] 95"
      ]
     },
     "metadata": {},
     "output_type": "display_data"
    }
   ],
   "source": [
    "min(natural)  # случайная величина X\n",
    "max(natural)  # случайная величина Y"
   ]
  },
  {
   "cell_type": "markdown",
   "metadata": {
    "slideshow": {
     "slide_type": "subslide"
    }
   },
   "source": [
    "__а)__ $P(Y > 3X)$"
   ]
  },
  {
   "cell_type": "code",
   "execution_count": 4,
   "metadata": {
    "slideshow": {
     "slide_type": "fragment"
    }
   },
   "outputs": [],
   "source": [
    "n_obs = 10^6\n",
    "x = rep(0, n_obs)  \n",
    "y = rep(0, n_obs)"
   ]
  },
  {
   "cell_type": "code",
   "execution_count": 5,
   "metadata": {
    "slideshow": {
     "slide_type": "fragment"
    }
   },
   "outputs": [
    {
     "data": {
      "text/html": [
       "<ol class=list-inline>\n",
       "\t<li>2</li>\n",
       "\t<li>3</li>\n",
       "\t<li>5</li>\n",
       "\t<li>13</li>\n",
       "\t<li>10</li>\n",
       "</ol>\n"
      ],
      "text/latex": [
       "\\begin{enumerate*}\n",
       "\\item 2\n",
       "\\item 3\n",
       "\\item 5\n",
       "\\item 13\n",
       "\\item 10\n",
       "\\end{enumerate*}\n"
      ],
      "text/markdown": [
       "1. 2\n",
       "2. 3\n",
       "3. 5\n",
       "4. 13\n",
       "5. 10\n",
       "\n",
       "\n"
      ],
      "text/plain": [
       "[1]  2  3  5 13 10"
      ]
     },
     "metadata": {},
     "output_type": "display_data"
    }
   ],
   "source": [
    "for(i in 1:n_obs){\n",
    "    natural = sample(1:100, size = 10, replace = TRUE)  # сгенерировали выборку\n",
    "    x[i] = min(natural)                                 # нашли минимум и максимум для неё\n",
    "    y[i] = max(natural)\n",
    "}\n",
    "x[1:5]"
   ]
  },
  {
   "cell_type": "code",
   "execution_count": 6,
   "metadata": {
    "slideshow": {
     "slide_type": "fragment"
    }
   },
   "outputs": [
    {
     "data": {
      "text/html": [
       "<ol class=list-inline>\n",
       "\t<li>TRUE</li>\n",
       "\t<li>TRUE</li>\n",
       "\t<li>TRUE</li>\n",
       "\t<li>TRUE</li>\n",
       "\t<li>TRUE</li>\n",
       "</ol>\n"
      ],
      "text/latex": [
       "\\begin{enumerate*}\n",
       "\\item TRUE\n",
       "\\item TRUE\n",
       "\\item TRUE\n",
       "\\item TRUE\n",
       "\\item TRUE\n",
       "\\end{enumerate*}\n"
      ],
      "text/markdown": [
       "1. TRUE\n",
       "2. TRUE\n",
       "3. TRUE\n",
       "4. TRUE\n",
       "5. TRUE\n",
       "\n",
       "\n"
      ],
      "text/plain": [
       "[1] TRUE TRUE TRUE TRUE TRUE"
      ]
     },
     "metadata": {},
     "output_type": "display_data"
    }
   ],
   "source": [
    "success = y > 3*x\n",
    "success[1:5]"
   ]
  },
  {
   "cell_type": "code",
   "execution_count": 7,
   "metadata": {
    "slideshow": {
     "slide_type": "fragment"
    }
   },
   "outputs": [
    {
     "data": {
      "text/html": [
       "0.971832"
      ],
      "text/latex": [
       "0.971832"
      ],
      "text/markdown": [
       "0.971832"
      ],
      "text/plain": [
       "[1] 0.971832"
      ]
     },
     "metadata": {},
     "output_type": "display_data"
    }
   ],
   "source": [
    "sum(success) / n_obs "
   ]
  },
  {
   "cell_type": "markdown",
   "metadata": {
    "slideshow": {
     "slide_type": "subslide"
    }
   },
   "source": [
    "__б)__ $E(X \\cdot Y)$"
   ]
  },
  {
   "cell_type": "code",
   "execution_count": 8,
   "metadata": {
    "slideshow": {
     "slide_type": "fragment"
    }
   },
   "outputs": [
    {
     "data": {
      "text/html": [
       "884.453621"
      ],
      "text/latex": [
       "884.453621"
      ],
      "text/markdown": [
       "884.453621"
      ],
      "text/plain": [
       "[1] 884.4536"
      ]
     },
     "metadata": {},
     "output_type": "display_data"
    }
   ],
   "source": [
    "mean(x*y)"
   ]
  },
  {
   "cell_type": "markdown",
   "metadata": {
    "slideshow": {
     "slide_type": "subslide"
    }
   },
   "source": [
    "__в)__ $P(Y > 3X \\mid Y < X^2)$"
   ]
  },
  {
   "cell_type": "code",
   "execution_count": 9,
   "metadata": {
    "slideshow": {
     "slide_type": "fragment"
    }
   },
   "outputs": [
    {
     "data": {
      "text/html": [
       "<ol class=list-inline>\n",
       "\t<li>FALSE</li>\n",
       "\t<li>FALSE</li>\n",
       "\t<li>FALSE</li>\n",
       "\t<li>FALSE</li>\n",
       "\t<li>TRUE</li>\n",
       "\t<li>TRUE</li>\n",
       "\t<li>TRUE</li>\n",
       "</ol>\n"
      ],
      "text/latex": [
       "\\begin{enumerate*}\n",
       "\\item FALSE\n",
       "\\item FALSE\n",
       "\\item FALSE\n",
       "\\item FALSE\n",
       "\\item TRUE\n",
       "\\item TRUE\n",
       "\\item TRUE\n",
       "\\end{enumerate*}\n"
      ],
      "text/markdown": [
       "1. FALSE\n",
       "2. FALSE\n",
       "3. FALSE\n",
       "4. FALSE\n",
       "5. TRUE\n",
       "6. TRUE\n",
       "7. TRUE\n",
       "\n",
       "\n"
      ],
      "text/plain": [
       "[1] FALSE FALSE FALSE FALSE  TRUE  TRUE  TRUE"
      ]
     },
     "metadata": {},
     "output_type": "display_data"
    },
    {
     "data": {
      "text/html": [
       "<ol class=list-inline>\n",
       "\t<li>5</li>\n",
       "\t<li>6</li>\n",
       "\t<li>7</li>\n",
       "</ol>\n"
      ],
      "text/latex": [
       "\\begin{enumerate*}\n",
       "\\item 5\n",
       "\\item 6\n",
       "\\item 7\n",
       "\\end{enumerate*}\n"
      ],
      "text/markdown": [
       "1. 5\n",
       "2. 6\n",
       "3. 7\n",
       "\n",
       "\n"
      ],
      "text/plain": [
       "[1] 5 6 7"
      ]
     },
     "metadata": {},
     "output_type": "display_data"
    }
   ],
   "source": [
    "z <- c(1,2,3,4,5,6,7)\n",
    "z > 4\n",
    "\n",
    "z[z > 4]"
   ]
  },
  {
   "cell_type": "code",
   "execution_count": 10,
   "metadata": {
    "slideshow": {
     "slide_type": "fragment"
    }
   },
   "outputs": [
    {
     "data": {
      "text/html": [
       "<ol class=list-inline>\n",
       "\t<li>FALSE</li>\n",
       "\t<li>FALSE</li>\n",
       "\t<li>FALSE</li>\n",
       "\t<li>TRUE</li>\n",
       "\t<li>TRUE</li>\n",
       "</ol>\n"
      ],
      "text/latex": [
       "\\begin{enumerate*}\n",
       "\\item FALSE\n",
       "\\item FALSE\n",
       "\\item FALSE\n",
       "\\item TRUE\n",
       "\\item TRUE\n",
       "\\end{enumerate*}\n"
      ],
      "text/markdown": [
       "1. FALSE\n",
       "2. FALSE\n",
       "3. FALSE\n",
       "4. TRUE\n",
       "5. TRUE\n",
       "\n",
       "\n"
      ],
      "text/plain": [
       "[1] FALSE FALSE FALSE  TRUE  TRUE"
      ]
     },
     "metadata": {},
     "output_type": "display_data"
    }
   ],
   "source": [
    "usl = y < x^2\n",
    "usl[1:5]"
   ]
  },
  {
   "cell_type": "code",
   "execution_count": 11,
   "metadata": {
    "slideshow": {
     "slide_type": "fragment"
    }
   },
   "outputs": [
    {
     "data": {
      "text/html": [
       "0.928028473824471"
      ],
      "text/latex": [
       "0.928028473824471"
      ],
      "text/markdown": [
       "0.928028473824471"
      ],
      "text/plain": [
       "[1] 0.9280285"
      ]
     },
     "metadata": {},
     "output_type": "display_data"
    }
   ],
   "source": [
    "success <- y[usl] > 3*x[usl]\n",
    "sum(success) / sum(usl)"
   ]
  },
  {
   "cell_type": "markdown",
   "metadata": {
    "slideshow": {
     "slide_type": "subslide"
    }
   },
   "source": [
    "__г)__ $E(X \\cdot Y \\mid Y < X^2)$"
   ]
  },
  {
   "cell_type": "code",
   "execution_count": 12,
   "metadata": {
    "slideshow": {
     "slide_type": "fragment"
    }
   },
   "outputs": [
    {
     "data": {
      "text/html": [
       "1636.77765428219"
      ],
      "text/latex": [
       "1636.77765428219"
      ],
      "text/markdown": [
       "1636.77765428219"
      ],
      "text/plain": [
       "[1] 1636.778"
      ]
     },
     "metadata": {},
     "output_type": "display_data"
    }
   ],
   "source": [
    "mean(x[usl]*y[usl])"
   ]
  },
  {
   "cell_type": "markdown",
   "metadata": {
    "slideshow": {
     "slide_type": "subslide"
    }
   },
   "source": [
    "__д)__ $E \\left( \\frac{X}{X + 2Y} \\right)$"
   ]
  },
  {
   "cell_type": "code",
   "execution_count": 13,
   "metadata": {
    "slideshow": {
     "slide_type": "fragment"
    }
   },
   "outputs": [
    {
     "data": {
      "text/html": [
       "0.0482978237199387"
      ],
      "text/latex": [
       "0.0482978237199387"
      ],
      "text/markdown": [
       "0.0482978237199387"
      ],
      "text/plain": [
       "[1] 0.04829782"
      ]
     },
     "metadata": {},
     "output_type": "display_data"
    }
   ],
   "source": [
    "z = x/(x + 2*y)\n",
    "mean(z)"
   ]
  },
  {
   "cell_type": "markdown",
   "metadata": {
    "slideshow": {
     "slide_type": "fragment"
    }
   },
   "source": [
    "__е)__ $Corr(X,Y)$"
   ]
  },
  {
   "cell_type": "code",
   "execution_count": 14,
   "metadata": {
    "slideshow": {
     "slide_type": "fragment"
    }
   },
   "outputs": [
    {
     "data": {
      "text/html": [
       "0.0986460764318367"
      ],
      "text/latex": [
       "0.0986460764318367"
      ],
      "text/markdown": [
       "0.0986460764318367"
      ],
      "text/plain": [
       "[1] 0.09864608"
      ]
     },
     "metadata": {},
     "output_type": "display_data"
    }
   ],
   "source": [
    "cor(x,y)"
   ]
  },
  {
   "cell_type": "markdown",
   "metadata": {
    "slideshow": {
     "slide_type": "slide"
    }
   },
   "source": [
    "# 5.3 Call me maybe "
   ]
  },
  {
   "cell_type": "markdown",
   "metadata": {
    "slideshow": {
     "slide_type": "subslide"
    }
   },
   "source": [
    "Известно, что в пятизначном номере телефона все цифры разные. Какова вероятность того, что при этом условии среди них только одна цифра чётная (номер может начинаться с нуля)?"
   ]
  },
  {
   "cell_type": "code",
   "execution_count": 66,
   "metadata": {
    "slideshow": {
     "slide_type": "fragment"
    }
   },
   "outputs": [
    {
     "data": {
      "text/html": [
       "<ol class=list-inline>\n",
       "\t<li>5</li>\n",
       "\t<li>7</li>\n",
       "\t<li>8</li>\n",
       "\t<li>6</li>\n",
       "\t<li>3</li>\n",
       "</ol>\n"
      ],
      "text/latex": [
       "\\begin{enumerate*}\n",
       "\\item 5\n",
       "\\item 7\n",
       "\\item 8\n",
       "\\item 6\n",
       "\\item 3\n",
       "\\end{enumerate*}\n"
      ],
      "text/markdown": [
       "1. 5\n",
       "2. 7\n",
       "3. 8\n",
       "4. 6\n",
       "5. 3\n",
       "\n",
       "\n"
      ],
      "text/plain": [
       "[1] 5 7 8 6 3"
      ]
     },
     "metadata": {},
     "output_type": "display_data"
    }
   ],
   "source": [
    "# генерируем номер телефона\n",
    "sample(size = 5, 0:9, replace = FALSE)"
   ]
  },
  {
   "cell_type": "code",
   "execution_count": 67,
   "metadata": {
    "slideshow": {
     "slide_type": "fragment"
    }
   },
   "outputs": [
    {
     "data": {
      "text/html": [
       "<ol class=list-inline>\n",
       "\t<li>0</li>\n",
       "\t<li>0</li>\n",
       "\t<li>0</li>\n",
       "\t<li>1</li>\n",
       "\t<li>1</li>\n",
       "</ol>\n"
      ],
      "text/latex": [
       "\\begin{enumerate*}\n",
       "\\item 0\n",
       "\\item 0\n",
       "\\item 0\n",
       "\\item 1\n",
       "\\item 1\n",
       "\\end{enumerate*}\n"
      ],
      "text/markdown": [
       "1. 0\n",
       "2. 0\n",
       "3. 0\n",
       "4. 1\n",
       "5. 1\n",
       "\n",
       "\n"
      ],
      "text/plain": [
       "[1] 0 0 0 1 1"
      ]
     },
     "metadata": {},
     "output_type": "display_data"
    }
   ],
   "source": [
    "# проверяем все цифры на чётность \n",
    "sample(size = 5, 0:9, replace = FALSE) %% 2"
   ]
  },
  {
   "cell_type": "code",
   "execution_count": 68,
   "metadata": {
    "slideshow": {
     "slide_type": "fragment"
    }
   },
   "outputs": [
    {
     "data": {
      "text/html": [
       "2"
      ],
      "text/latex": [
       "2"
      ],
      "text/markdown": [
       "2"
      ],
      "text/plain": [
       "[1] 2"
      ]
     },
     "metadata": {},
     "output_type": "display_data"
    }
   ],
   "source": [
    "# смотрим сколько в сумме нечётных цифр\n",
    "sum(sample(size = 5, 0:9, replace = FALSE) %% 2)"
   ]
  },
  {
   "cell_type": "code",
   "execution_count": 69,
   "metadata": {
    "slideshow": {
     "slide_type": "subslide"
    }
   },
   "outputs": [
    {
     "data": {
      "text/html": [
       "0.099513"
      ],
      "text/latex": [
       "0.099513"
      ],
      "text/markdown": [
       "0.099513"
      ],
      "text/plain": [
       "[1] 0.099513"
      ]
     },
     "metadata": {},
     "output_type": "display_data"
    }
   ],
   "source": [
    "# и всё это в цикле!\n",
    "n_obs = 10^6\n",
    "\n",
    "m = 0\n",
    "for( i in 1:n_obs){\n",
    "    # если 4 нечётные, значит одна чётная\n",
    "    if(sum(sample(size = 5, 0:9, replace = FALSE) %% 2) == 4){\n",
    "        m = m + 1\n",
    "    }\n",
    "}\n",
    "\n",
    "m/n_obs"
   ]
  },
  {
   "cell_type": "markdown",
   "metadata": {
    "slideshow": {
     "slide_type": "slide"
    }
   },
   "source": [
    "# 5.4 О спорт, ты — мир"
   ]
  },
  {
   "cell_type": "markdown",
   "metadata": {
    "slideshow": {
     "slide_type": "subslide"
    }
   },
   "source": [
    "Для  $20$  участников соревнований, среди которых  $8$  российских, в гостинице забронировано  $20$  номеров. Из них  $12$  с видом на море. Участники соревнований наугад получают ключи от номернов. Найдите вероятность того, что номера с видом на море достанутся всем российским спортсменам."
   ]
  },
  {
   "cell_type": "code",
   "execution_count": 71,
   "metadata": {
    "slideshow": {
     "slide_type": "fragment"
    }
   },
   "outputs": [
    {
     "data": {
      "text/html": [
       "<ol class=list-inline>\n",
       "\t<li>'море'</li>\n",
       "\t<li>'море'</li>\n",
       "\t<li>'море'</li>\n",
       "\t<li>'море'</li>\n",
       "\t<li>'море'</li>\n",
       "</ol>\n"
      ],
      "text/latex": [
       "\\begin{enumerate*}\n",
       "\\item 'море'\n",
       "\\item 'море'\n",
       "\\item 'море'\n",
       "\\item 'море'\n",
       "\\item 'море'\n",
       "\\end{enumerate*}\n"
      ],
      "text/markdown": [
       "1. 'море'\n",
       "2. 'море'\n",
       "3. 'море'\n",
       "4. 'море'\n",
       "5. 'море'\n",
       "\n",
       "\n"
      ],
      "text/plain": [
       "[1] \"море\" \"море\" \"море\" \"море\" \"море\""
      ]
     },
     "metadata": {},
     "output_type": "display_data"
    }
   ],
   "source": [
    "# вектор номеров\n",
    "room = c(rep('море',12),rep('пустошь',8))\n",
    "room[1:5]"
   ]
  },
  {
   "cell_type": "code",
   "execution_count": 72,
   "metadata": {
    "slideshow": {
     "slide_type": "fragment"
    }
   },
   "outputs": [
    {
     "data": {
      "text/html": [
       "<ol class=list-inline>\n",
       "\t<li>'пустошь'</li>\n",
       "\t<li>'пустошь'</li>\n",
       "\t<li>'море'</li>\n",
       "\t<li>'море'</li>\n",
       "\t<li>'море'</li>\n",
       "</ol>\n"
      ],
      "text/latex": [
       "\\begin{enumerate*}\n",
       "\\item 'пустошь'\n",
       "\\item 'пустошь'\n",
       "\\item 'море'\n",
       "\\item 'море'\n",
       "\\item 'море'\n",
       "\\end{enumerate*}\n"
      ],
      "text/markdown": [
       "1. 'пустошь'\n",
       "2. 'пустошь'\n",
       "3. 'море'\n",
       "4. 'море'\n",
       "5. 'море'\n",
       "\n",
       "\n"
      ],
      "text/plain": [
       "[1] \"пустошь\" \"пустошь\" \"море\"    \"море\"    \"море\"   "
      ]
     },
     "metadata": {},
     "output_type": "display_data"
    }
   ],
   "source": [
    "sample(room)[1:5] # перемешаем номера "
   ]
  },
  {
   "cell_type": "code",
   "execution_count": 74,
   "metadata": {
    "slideshow": {
     "slide_type": "fragment"
    }
   },
   "outputs": [
    {
     "data": {
      "text/html": [
       "<ol class=list-inline>\n",
       "\t<li>FALSE</li>\n",
       "\t<li>TRUE</li>\n",
       "\t<li>FALSE</li>\n",
       "\t<li>FALSE</li>\n",
       "\t<li>FALSE</li>\n",
       "\t<li>TRUE</li>\n",
       "\t<li>TRUE</li>\n",
       "\t<li>FALSE</li>\n",
       "</ol>\n"
      ],
      "text/latex": [
       "\\begin{enumerate*}\n",
       "\\item FALSE\n",
       "\\item TRUE\n",
       "\\item FALSE\n",
       "\\item FALSE\n",
       "\\item FALSE\n",
       "\\item TRUE\n",
       "\\item TRUE\n",
       "\\item FALSE\n",
       "\\end{enumerate*}\n"
      ],
      "text/markdown": [
       "1. FALSE\n",
       "2. TRUE\n",
       "3. FALSE\n",
       "4. FALSE\n",
       "5. FALSE\n",
       "6. TRUE\n",
       "7. TRUE\n",
       "8. FALSE\n",
       "\n",
       "\n"
      ],
      "text/plain": [
       "[1] FALSE  TRUE FALSE FALSE FALSE  TRUE  TRUE FALSE"
      ]
     },
     "metadata": {},
     "output_type": "display_data"
    }
   ],
   "source": [
    "# Будем считать что первые 8 позиций вектора относятся к россиянам\n",
    "sample(room)[1:8] == 'море'"
   ]
  },
  {
   "cell_type": "code",
   "execution_count": 75,
   "metadata": {
    "slideshow": {
     "slide_type": "subslide"
    }
   },
   "outputs": [
    {
     "data": {
      "text/html": [
       "0.003901"
      ],
      "text/latex": [
       "0.003901"
      ],
      "text/markdown": [
       "0.003901"
      ],
      "text/plain": [
       "[1] 0.003901"
      ]
     },
     "metadata": {},
     "output_type": "display_data"
    }
   ],
   "source": [
    "n_obs = 10^6\n",
    "\n",
    "# комнаты\n",
    "room = c(rep('море',12),rep('пустошь',8))\n",
    "\n",
    "m = 0\n",
    "for(i in 1:n_obs){\n",
    "    if(sum(sample(room)[1:8] == 'море') == 8){\n",
    "        m = m + 1\n",
    "    }\n",
    "}\n",
    "\n",
    "m/n_obs"
   ]
  },
  {
   "cell_type": "markdown",
   "metadata": {
    "slideshow": {
     "slide_type": "slide"
    }
   },
   "source": [
    "# 5.5 Ещё не успели забыть ЗБЧ?"
   ]
  },
  {
   "cell_type": "markdown",
   "metadata": {
    "slideshow": {
     "slide_type": "subslide"
    }
   },
   "source": [
    "- В начале пары мы смотрели такую картинку, давайте нарисуем её сами!\n",
    "\n",
    "<center>\n",
    "<img src=\"intro_lbn.png\" width=\"800\"> \n",
    "</center>"
   ]
  },
  {
   "cell_type": "markdown",
   "metadata": {
    "slideshow": {
     "slide_type": "subslide"
    }
   },
   "source": [
    "Игральная кость. Нам хочется узнать какое среднее значение на ней будет выпадать при увеличении количества бросков."
   ]
  },
  {
   "cell_type": "code",
   "execution_count": 77,
   "metadata": {
    "slideshow": {
     "slide_type": "fragment"
    }
   },
   "outputs": [
    {
     "data": {
      "text/html": [
       "2"
      ],
      "text/latex": [
       "2"
      ],
      "text/markdown": [
       "2"
      ],
      "text/plain": [
       "[1] 2"
      ]
     },
     "metadata": {},
     "output_type": "display_data"
    },
    {
     "data": {
      "text/html": [
       "<ol class=list-inline>\n",
       "\t<li>5</li>\n",
       "\t<li>3</li>\n",
       "</ol>\n"
      ],
      "text/latex": [
       "\\begin{enumerate*}\n",
       "\\item 5\n",
       "\\item 3\n",
       "\\end{enumerate*}\n"
      ],
      "text/markdown": [
       "1. 5\n",
       "2. 3\n",
       "\n",
       "\n"
      ],
      "text/plain": [
       "[1] 5 3"
      ]
     },
     "metadata": {},
     "output_type": "display_data"
    },
    {
     "data": {
      "text/html": [
       "<ol class=list-inline>\n",
       "\t<li>4</li>\n",
       "\t<li>3</li>\n",
       "\t<li>4</li>\n",
       "</ol>\n"
      ],
      "text/latex": [
       "\\begin{enumerate*}\n",
       "\\item 4\n",
       "\\item 3\n",
       "\\item 4\n",
       "\\end{enumerate*}\n"
      ],
      "text/markdown": [
       "1. 4\n",
       "2. 3\n",
       "3. 4\n",
       "\n",
       "\n"
      ],
      "text/plain": [
       "[1] 4 3 4"
      ]
     },
     "metadata": {},
     "output_type": "display_data"
    },
    {
     "data": {
      "text/html": [
       "<ol class=list-inline>\n",
       "\t<li>2</li>\n",
       "\t<li>6</li>\n",
       "\t<li>1</li>\n",
       "\t<li>2</li>\n",
       "</ol>\n"
      ],
      "text/latex": [
       "\\begin{enumerate*}\n",
       "\\item 2\n",
       "\\item 6\n",
       "\\item 1\n",
       "\\item 2\n",
       "\\end{enumerate*}\n"
      ],
      "text/markdown": [
       "1. 2\n",
       "2. 6\n",
       "3. 1\n",
       "4. 2\n",
       "\n",
       "\n"
      ],
      "text/plain": [
       "[1] 2 6 1 2"
      ]
     },
     "metadata": {},
     "output_type": "display_data"
    }
   ],
   "source": [
    "sample(1:6, size = 1, replace = TRUE)\n",
    "\n",
    "sample(1:6, size = 2, replace = TRUE)\n",
    "\n",
    "sample(1:6, size = 3, replace = TRUE)\n",
    "\n",
    "sample(1:6, size = 4, replace = TRUE)"
   ]
  },
  {
   "cell_type": "code",
   "execution_count": 5,
   "metadata": {
    "slideshow": {
     "slide_type": "subslide"
    }
   },
   "outputs": [
    {
     "data": {
      "text/html": [
       "<ol class=list-inline>\n",
       "\t<li>4</li>\n",
       "\t<li>6</li>\n",
       "\t<li>3.66666666666667</li>\n",
       "\t<li>3.5</li>\n",
       "\t<li>4.2</li>\n",
       "</ol>\n"
      ],
      "text/latex": [
       "\\begin{enumerate*}\n",
       "\\item 4\n",
       "\\item 6\n",
       "\\item 3.66666666666667\n",
       "\\item 3.5\n",
       "\\item 4.2\n",
       "\\end{enumerate*}\n"
      ],
      "text/markdown": [
       "1. 4\n",
       "2. 6\n",
       "3. 3.66666666666667\n",
       "4. 3.5\n",
       "5. 4.2\n",
       "\n",
       "\n"
      ],
      "text/plain": [
       "[1] 4.000000 6.000000 3.666667 3.500000 4.200000"
      ]
     },
     "metadata": {},
     "output_type": "display_data"
    }
   ],
   "source": [
    "n_obs = 500\n",
    "kubik = rep(0, n_obs)\n",
    "\n",
    "for(n in 1:n_obs){ # n - количество подбрасываний кубика\n",
    "    \n",
    "    # Сделали выборку \n",
    "    smpl = sample(1:6, size = n, replace = TRUE)\n",
    "    \n",
    "    # Подсчитали среднее значение и запомнили его \n",
    "    kubik[n] = mean(smpl)   \n",
    "}\n",
    "\n",
    "kubik[1:5]"
   ]
  },
  {
   "cell_type": "code",
   "execution_count": 6,
   "metadata": {
    "slideshow": {
     "slide_type": "subslide"
    }
   },
   "outputs": [
    {
     "data": {
      "image/png": "[encoded data removed]",
      "text/plain": [
       "plot without title"
      ]
     },
     "metadata": {},
     "output_type": "display_data"
    }
   ],
   "source": [
    "qplot(1:n_obs, kubik, geom='line', xlab='number of observations', ylab='result')"
   ]
  },
  {
   "cell_type": "code",
   "execution_count": 7,
   "metadata": {
    "slideshow": {
     "slide_type": "subslide"
    }
   },
   "outputs": [
    {
     "data": {
      "text/html": [
       "<table>\n",
       "<thead><tr><th scope=col>n</th><th scope=col>kubik</th><th scope=col>mean</th></tr></thead>\n",
       "<tbody>\n",
       "\t<tr><td>1  </td><td>4  </td><td>3.5</td></tr>\n",
       "\t<tr><td>2  </td><td>6  </td><td>3.5</td></tr>\n",
       "</tbody>\n",
       "</table>\n"
      ],
      "text/latex": [
       "\\begin{tabular}{r|lll}\n",
       " n & kubik & mean\\\\\n",
       "\\hline\n",
       "\t 1   & 4   & 3.5\\\\\n",
       "\t 2   & 6   & 3.5\\\\\n",
       "\\end{tabular}\n"
      ],
      "text/markdown": [
       "\n",
       "| n | kubik | mean |\n",
       "|---|---|---|\n",
       "| 1   | 4   | 3.5 |\n",
       "| 2   | 6   | 3.5 |\n",
       "\n"
      ],
      "text/plain": [
       "  n kubik mean\n",
       "1 1 4     3.5 \n",
       "2 2 6     3.5 "
      ]
     },
     "metadata": {},
     "output_type": "display_data"
    }
   ],
   "source": [
    "df = data.frame(n = 1:n_obs, kubik = kubik, mean = rep(3.5,n_obs))\n",
    "head(df,2)"
   ]
  },
  {
   "cell_type": "code",
   "execution_count": 23,
   "metadata": {
    "slideshow": {
     "slide_type": "fragment"
    }
   },
   "outputs": [
    {
     "data": {
      "image/png": "[encoded data removed]",
      "text/plain": [
       "plot without title"
      ]
     },
     "metadata": {},
     "output_type": "display_data"
    }
   ],
   "source": [
    "# https://colorscheme.ru/color-converter.html\n",
    "ggplot(df, aes(n)) + \n",
    "  geom_line(aes(y=kubik), color=\"#0aa120\", alpha = 0.6) + \n",
    "  geom_line(aes(y=mean), color=\"blue\",size=1.2) +\n",
    "  xlab('number of observations') + ylab('result') +\n",
    "  ggtitle('Law of large numbers')"
   ]
  },
  {
   "cell_type": "markdown",
   "metadata": {
    "slideshow": {
     "slide_type": "slide"
    }
   },
   "source": [
    "# 5.6 Миша продаёт газеты"
   ]
  },
  {
   "cell_type": "markdown",
   "metadata": {
    "slideshow": {
     "slide_type": "subslide"
    }
   },
   "source": [
    "## Миша и газетный бизнес\n",
    "\n",
    "__Смешная предыстория, которая не влезла на слайд.__\n",
    "\n",
    "Покупать газету Миша решил по $15$ рублей, а продавать за $30$. Количество потенциальных покупателей - случайная величина с распределением Пуассона. Опытным путём было установлено, что среднее значение этой величины равно $50$. Нераспроданные газеты ничего не стоят. Пусть $n$- количество газет, максимизирующее ожидаемую прибыль Мишы. \n",
    "\n",
    "С помощью компьютера найдите оптимальное значение $n$ и ожидаемую прибыль."
   ]
  },
  {
   "cell_type": "markdown",
   "metadata": {
    "slideshow": {
     "slide_type": "subslide"
    }
   },
   "source": [
    "## Стохастическая прибыль\n",
    "\n",
    "$$\n",
    "\\Pi = 30 \\cdot X - 15 \\cdot n \\to \\max_{n} \n",
    "$$"
   ]
  },
  {
   "cell_type": "code",
   "execution_count": 81,
   "metadata": {
    "slideshow": {
     "slide_type": "fragment"
    }
   },
   "outputs": [
    {
     "data": {
      "text/html": [
       "<ol class=list-inline>\n",
       "\t<li>51</li>\n",
       "\t<li>40</li>\n",
       "\t<li>35</li>\n",
       "\t<li>62</li>\n",
       "\t<li>53</li>\n",
       "</ol>\n"
      ],
      "text/latex": [
       "\\begin{enumerate*}\n",
       "\\item 51\n",
       "\\item 40\n",
       "\\item 35\n",
       "\\item 62\n",
       "\\item 53\n",
       "\\end{enumerate*}\n"
      ],
      "text/markdown": [
       "1. 51\n",
       "2. 40\n",
       "3. 35\n",
       "4. 62\n",
       "5. 53\n",
       "\n",
       "\n"
      ],
      "text/plain": [
       "[1] 51 40 35 62 53"
      ]
     },
     "metadata": {},
     "output_type": "display_data"
    },
    {
     "data": {
      "text/html": [
       "<ol class=list-inline>\n",
       "\t<li>1230</li>\n",
       "\t<li>900</li>\n",
       "\t<li>750</li>\n",
       "\t<li>1560</li>\n",
       "\t<li>1290</li>\n",
       "</ol>\n"
      ],
      "text/latex": [
       "\\begin{enumerate*}\n",
       "\\item 1230\n",
       "\\item 900\n",
       "\\item 750\n",
       "\\item 1560\n",
       "\\item 1290\n",
       "\\end{enumerate*}\n"
      ],
      "text/markdown": [
       "1. 1230\n",
       "2. 900\n",
       "3. 750\n",
       "4. 1560\n",
       "5. 1290\n",
       "\n",
       "\n"
      ],
      "text/plain": [
       "[1] 1230  900  750 1560 1290"
      ]
     },
     "metadata": {},
     "output_type": "display_data"
    },
    {
     "data": {
      "text/html": [
       "1199.89653"
      ],
      "text/latex": [
       "1199.89653"
      ],
      "text/markdown": [
       "1199.89653"
      ],
      "text/plain": [
       "[1] 1199.897"
      ]
     },
     "metadata": {},
     "output_type": "display_data"
    }
   ],
   "source": [
    "n_obs = 10^6  # число наблюдений \n",
    "\n",
    "cost = 15   # издержки на покупку газеты \n",
    "price = 30  # цена, по которой будем продавать газету \n",
    "\n",
    "x = rpois(n_obs, lambda = 50)  # среднее значение совпадает с lambda\n",
    "x[1:5]\n",
    "\n",
    "profit = x*price - 20*cost \n",
    "profit[1:5]\n",
    "\n",
    "# найдём среднюю прибыль \n",
    "mean(profit)"
   ]
  },
  {
   "cell_type": "code",
   "execution_count": 82,
   "metadata": {
    "slideshow": {
     "slide_type": "subslide"
    }
   },
   "outputs": [],
   "source": [
    "n_obs = 10^6  # число наблюдений \n",
    "\n",
    "profits = rep(0,100) # будем записывать средние прибыли\n",
    "for(s in 1:100){\n",
    "    x = rpois(n_obs, lambda = 50)  # генерируем покупочки \n",
    "    \n",
    "    x[x > s] = s  # нельзя продать лишнее\n",
    "    \n",
    "    profits[s] = mean(x*price - s*cost)  # запоминем среднюю прибыль\n",
    "}"
   ]
  },
  {
   "cell_type": "code",
   "execution_count": 83,
   "metadata": {
    "slideshow": {
     "slide_type": "subslide"
    }
   },
   "outputs": [
    {
     "data": {
      "image/png": "[encoded data removed]",
      "text/plain": [
       "plot without title"
      ]
     },
     "metadata": {},
     "output_type": "display_data"
    }
   ],
   "source": [
    "qplot(1:100, profits, geom='line')"
   ]
  },
  {
   "cell_type": "code",
   "execution_count": 84,
   "metadata": {
    "slideshow": {
     "slide_type": "fragment"
    }
   },
   "outputs": [
    {
     "data": {
      "text/html": [
       "665.65521"
      ],
      "text/latex": [
       "665.65521"
      ],
      "text/markdown": [
       "665.65521"
      ],
      "text/plain": [
       "[1] 665.6552"
      ]
     },
     "metadata": {},
     "output_type": "display_data"
    },
    {
     "data": {
      "text/html": [
       "50"
      ],
      "text/latex": [
       "50"
      ],
      "text/markdown": [
       "50"
      ],
      "text/plain": [
       "[1] 50"
      ]
     },
     "metadata": {},
     "output_type": "display_data"
    }
   ],
   "source": [
    "max(profits)\n",
    "which.max(profits)"
   ]
  },
  {
   "cell_type": "code",
   "execution_count": 87,
   "metadata": {
    "slideshow": {
     "slide_type": "subslide"
    }
   },
   "outputs": [
    {
     "data": {
      "text/html": [
       "207.004054023229"
      ],
      "text/latex": [
       "207.004054023229"
      ],
      "text/markdown": [
       "207.004054023229"
      ],
      "text/plain": [
       "[1] 207.0041"
      ]
     },
     "metadata": {},
     "output_type": "display_data"
    }
   ],
   "source": [
    "sqrt(var(profits))"
   ]
  },
  {
   "cell_type": "markdown",
   "metadata": {
    "slideshow": {
     "slide_type": "subslide"
    }
   },
   "source": [
    "## Дисперсия прибыли"
   ]
  },
  {
   "cell_type": "code",
   "execution_count": null,
   "metadata": {
    "slideshow": {
     "slide_type": "fragment"
    }
   },
   "outputs": [],
   "source": [
    "n_obs = 10^6  # число наблюдений \n",
    "\n",
    "profits = rep(0,100)    # будем записывать средние прибыли\n",
    "std_error = rep(0,100)  # сюда будем записыват ошибку\n",
    "for(s in 1:100){\n",
    "    x = rpois(n_obs, lambda = 50)  # генерируем покупочки \n",
    "    \n",
    "    x[x > s] = s  # нельзя продать лишнее\n",
    "    profits[s] = mean(x*price - s*cost)         # запоминем среднюю прибыль\n",
    "    std_error[s] = sqrt(var(x*price - s*cost))  # запоминаем дисперсию\n",
    "}"
   ]
  },
  {
   "cell_type": "code",
   "execution_count": 100,
   "metadata": {
    "slideshow": {
     "slide_type": "subslide"
    }
   },
   "outputs": [
    {
     "data": {
      "text/html": [
       "<table>\n",
       "<thead><tr><th scope=col>s</th><th scope=col>profit</th><th scope=col>std_error</th></tr></thead>\n",
       "<tbody>\n",
       "\t<tr><td>1 </td><td>15</td><td>0 </td></tr>\n",
       "\t<tr><td>2 </td><td>30</td><td>0 </td></tr>\n",
       "</tbody>\n",
       "</table>\n"
      ],
      "text/latex": [
       "\\begin{tabular}{r|lll}\n",
       " s & profit & std\\_error\\\\\n",
       "\\hline\n",
       "\t 1  & 15 & 0 \\\\\n",
       "\t 2  & 30 & 0 \\\\\n",
       "\\end{tabular}\n"
      ],
      "text/markdown": [
       "\n",
       "| s | profit | std_error |\n",
       "|---|---|---|\n",
       "| 1  | 15 | 0  |\n",
       "| 2  | 30 | 0  |\n",
       "\n"
      ],
      "text/plain": [
       "  s profit std_error\n",
       "1 1 15     0        \n",
       "2 2 30     0        "
      ]
     },
     "metadata": {},
     "output_type": "display_data"
    }
   ],
   "source": [
    "df = data.frame(s = 1:100, profit = profits, std_error = std_error)\n",
    "head(df,2)"
   ]
  },
  {
   "cell_type": "code",
   "execution_count": 101,
   "metadata": {
    "slideshow": {
     "slide_type": "fragment"
    }
   },
   "outputs": [
    {
     "data": {
      "image/png": "[encoded data removed]",
      "text/plain": [
       "plot without title"
      ]
     },
     "metadata": {},
     "output_type": "display_data"
    }
   ],
   "source": [
    "ggplot(df, aes(s)) + \n",
    "  geom_line(aes(y=profit), colour=\"blue\") + \n",
    "  geom_ribbon(aes(ymin = profit - 2*std_error,\n",
    "                  ymax = profit + 2*std_error), alpha=0.2)"
   ]
  },
  {
   "cell_type": "markdown",
   "metadata": {
    "slideshow": {
     "slide_type": "slide"
    }
   },
   "source": [
    "## 5.7 Зёрна \n"
   ]
  },
  {
   "cell_type": "code",
   "execution_count": 61,
   "metadata": {
    "slideshow": {
     "slide_type": "fragment"
    }
   },
   "outputs": [
    {
     "data": {
      "text/html": [
       "6.11287534144001"
      ],
      "text/latex": [
       "6.11287534144001"
      ],
      "text/markdown": [
       "6.11287534144001"
      ],
      "text/plain": [
       "[1] 6.112875"
      ]
     },
     "metadata": {},
     "output_type": "display_data"
    }
   ],
   "source": [
    "set.seed(42)\n",
    "rnorm(1, mean = 2, sd = 3)"
   ]
  },
  {
   "cell_type": "code",
   "execution_count": 65,
   "metadata": {
    "slideshow": {
     "slide_type": "fragment"
    }
   },
   "outputs": [
    {
     "data": {
      "text/html": [
       "3.212804969423"
      ],
      "text/latex": [
       "3.212804969423"
      ],
      "text/markdown": [
       "3.212804969423"
      ],
      "text/plain": [
       "[1] 3.212805"
      ]
     },
     "metadata": {},
     "output_type": "display_data"
    }
   ],
   "source": [
    "rnorm(1, mean = 2, sd = 3)"
   ]
  },
  {
   "cell_type": "markdown",
   "metadata": {
    "slideshow": {
     "slide_type": "slide"
    }
   },
   "source": [
    "# 6. Случайные величины бывают очень разными"
   ]
  },
  {
   "cell_type": "code",
   "execution_count": 6,
   "metadata": {
    "slideshow": {
     "slide_type": "skip"
    }
   },
   "outputs": [],
   "source": [
    "picture <- function(x){\n",
    "    df = data.frame(sample = x)\n",
    "\n",
    "    # Размеры картинки \n",
    "    options(repr.plot.width=8, repr.plot.height=3)\n",
    "\n",
    "    binwidth = 1  # ширина бинов\n",
    "    p1 = ggplot(df, aes(x = sample, binwidth = binwidth))+\n",
    "            # Наносим гистограмму \n",
    "            geom_histogram(aes(y=..density..), binwidth = binwidth, colour = \"white\", \n",
    "                                               fill = \"cornflowerblue\", size = 0.1)\n",
    "                                            # цвет линий разделителей, заливка, толщина линий разделителей\n",
    "\n",
    "    p2 = ggplot(df, aes(x = sample, binwidth = binwidth))+\n",
    "            stat_ecdf(color = \"darkred\", size = 1)\n",
    "\n",
    "    # Располагаем графики рядом. Этот код нужен только для юпитерской тетрадки. \n",
    "    pushViewport(viewport(layout = grid.layout(1, 2)))\n",
    "    print(p1, vp = viewport(layout.pos.row = 1, layout.pos.col = 1))\n",
    "    print(p2, vp = viewport(layout.pos.row = 1, layout.pos.col = 2))\n",
    "    }"
   ]
  },
  {
   "cell_type": "markdown",
   "metadata": {
    "slideshow": {
     "slide_type": "subslide"
    }
   },
   "source": [
    "* Как бы вы замоделировали подбрасывание монетки? "
   ]
  },
  {
   "cell_type": "markdown",
   "metadata": {
    "slideshow": {
     "slide_type": "fragment"
    }
   },
   "source": [
    "\\begin{equation}\n",
    "\\begin{aligned} \n",
    "& X \\sim Bern(p) \\\\\n",
    "& E(x) = p  \\\\\n",
    "& Var(X) = p \\cdot (1-p)\n",
    "\\end{aligned}\n",
    "\\end{equation}"
   ]
  },
  {
   "cell_type": "markdown",
   "metadata": {
    "slideshow": {
     "slide_type": "subslide"
    }
   },
   "source": [
    "* Как бы вы замоделировали число попаданий в баскетбольную корзину?"
   ]
  },
  {
   "cell_type": "markdown",
   "metadata": {
    "slideshow": {
     "slide_type": "fragment"
    }
   },
   "source": [
    "\\begin{equation}\n",
    "\\begin{aligned} \n",
    "& X_i \\sim Bern(p) \\\\\n",
    "& Y = X_1 + \\ldots + X_n \\quad \\Rightarrow \\quad Y \\sim Bin(p,n)\\\\\n",
    "& P(Y = k) = C_n^k \\cdot p^k \\cdot (1-p)^{n-k} \\\\\n",
    "& E(x) = n \\cdot p  \\\\\n",
    "& Var(X) = n \\cdot p \\cdot (1-p)\n",
    "\\end{aligned}\n",
    "\\end{equation}"
   ]
  },
  {
   "cell_type": "markdown",
   "metadata": {
    "slideshow": {
     "slide_type": "subslide"
    }
   },
   "source": [
    "* Биномиальное распределение используется для моделирования числа успехов в серии из $n$ испытаний"
   ]
  },
  {
   "cell_type": "code",
   "execution_count": 7,
   "metadata": {
    "slideshow": {
     "slide_type": "fragment"
    }
   },
   "outputs": [
    {
     "data": {
      "image/png": "[encoded data removed]",
      "text/plain": [
       "plot without title"
      ]
     },
     "metadata": {},
     "output_type": "display_data"
    }
   ],
   "source": [
    "n = 1000\n",
    "size = 20\n",
    "p = 0.5\n",
    "\n",
    "x <- rbinom(n, size = size, prob = p)\n",
    "picture(x)"
   ]
  },
  {
   "cell_type": "markdown",
   "metadata": {
    "slideshow": {
     "slide_type": "subslide"
    }
   },
   "source": [
    "* Число людей в очереди "
   ]
  },
  {
   "cell_type": "markdown",
   "metadata": {
    "slideshow": {
     "slide_type": "fragment"
    }
   },
   "source": [
    "<center>\n",
    "<img src=\"https://raw.githubusercontent.com/FUlyankin/r_probability/master/end_seminars_2019/sem_1/presa_intro/poiss_pic.png\" width=\"800\"> \n",
    "</center>"
   ]
  },
  {
   "cell_type": "markdown",
   "metadata": {
    "slideshow": {
     "slide_type": "fragment"
    }
   },
   "source": [
    "\\begin{equation}\n",
    "\\begin{aligned} \n",
    "& X \\sim Poiss(\\lambda) \\\\\n",
    "& P(X = k) = \\frac{\\lambda^k \\cdot e^{-\\lambda}}{k!} \\\\\n",
    "& E(x) = Var(X) = \\lambda  \\\\\n",
    "\\end{aligned}\n",
    "\\end{equation}"
   ]
  },
  {
   "cell_type": "code",
   "execution_count": 15,
   "metadata": {
    "slideshow": {
     "slide_type": "fragment"
    }
   },
   "outputs": [
    {
     "data": {
      "image/png": "[encoded data removed]",
      "text/plain": [
       "plot without title"
      ]
     },
     "metadata": {},
     "output_type": "display_data"
    }
   ],
   "source": [
    "n = 1000\n",
    "\n",
    "# Распределение Пуассона, Pois(lambda)\n",
    "lambda =3\n",
    "x <- rpois(n, lambda = lambda)\n",
    "\n",
    "picture(x)"
   ]
  },
  {
   "cell_type": "markdown",
   "metadata": {
    "slideshow": {
     "slide_type": "fragment"
    }
   },
   "source": [
    "* Распределение Пуассона часто используется для моделирования \"событий-счётчиков\", при этом $\\lambda$ это интенсивность потока событий.\n",
    "\n",
    "* Если у нас ест несколько суммирующихся между собой потоков, их интенсивности суммируются. То есть, если \n",
    "\n",
    "$$\n",
    "X_1, \\ldots, X_k \\sim Poiss(\\lambda_i) \\quad \\Rightarrow \\quad X_1 + \\ldots + X_k \\sim Poiss(\\lambda_1 + \\ldots + \\lambda_k)\n",
    "$$\n",
    "\n"
   ]
  },
  {
   "cell_type": "markdown",
   "metadata": {
    "slideshow": {
     "slide_type": "subslide"
    }
   },
   "source": [
    "* Точное время прихода Стаса на первую пару"
   ]
  },
  {
   "cell_type": "markdown",
   "metadata": {
    "slideshow": {
     "slide_type": "fragment"
    }
   },
   "source": [
    "<center>\n",
    "<img src=\"https://raw.githubusercontent.com/FUlyankin/r_probability/master/end_seminars_2019/sem_1/presa_intro/stas_first.png\" width=\"600\"> \n",
    "</center>"
   ]
  },
  {
   "cell_type": "markdown",
   "metadata": {
    "slideshow": {
     "slide_type": "subslide"
    }
   },
   "source": [
    "* Погрешность весов"
   ]
  },
  {
   "cell_type": "code",
   "execution_count": 20,
   "metadata": {
    "slideshow": {
     "slide_type": "fragment"
    }
   },
   "outputs": [
    {
     "data": {
      "image/png": "[encoded data removed]",
      "text/plain": [
       "plot without title"
      ]
     },
     "metadata": {},
     "output_type": "display_data"
    }
   ],
   "source": [
    "n = 1000\n",
    "\n",
    "# Нормальное распределение, N(mu, sigma)\n",
    "mu = 0;  sigma = 1\n",
    "x <- rnorm(n, mean = mu, sd = sigma)\n",
    "picture(x)"
   ]
  },
  {
   "cell_type": "markdown",
   "metadata": {
    "slideshow": {
     "slide_type": "subslide"
    }
   },
   "source": [
    "* Время до поломки станка, время до смерти, любое время между событиями в потоке\n",
    "\n",
    "<center>\n",
    "<img src=\"http://vremyakryma.ru/wp-content/uploads/2018/11/vremia_daly.jpg\" width=\"500\"> \n",
    "</center>"
   ]
  },
  {
   "cell_type": "markdown",
   "metadata": {
    "slideshow": {
     "slide_type": "fragment"
    }
   },
   "source": [
    "\\begin{equation}\n",
    "\\begin{aligned} \n",
    "& X \\sim Exp(\\alpha)  &f(x) = \\alpha \\cdot e^{-\\alpha x} \\\\\n",
    "& E(x)= \\frac{1}{\\alpha}  &Var(X) = \\frac{1}{\\alpha^2}\n",
    "\\end{aligned}\n",
    "\\end{equation}"
   ]
  },
  {
   "cell_type": "code",
   "execution_count": 21,
   "metadata": {
    "slideshow": {
     "slide_type": "subslide"
    }
   },
   "outputs": [
    {
     "data": {
      "image/png": "[encoded data removed]",
      "text/plain": [
       "plot without title"
      ]
     },
     "metadata": {},
     "output_type": "display_data"
    }
   ],
   "source": [
    "n = 10000\n",
    "\n",
    "# Экспоненциальное распределение, Exp(alpha)\n",
    "alpha = 0.1\n",
    "\n",
    "x <- rexp(n, rate = alpha)\n",
    "picture(x)"
   ]
  },
  {
   "cell_type": "markdown",
   "metadata": {
    "slideshow": {
     "slide_type": "subslide"
    }
   },
   "source": [
    "* У экспоненциального распределения нет памяти, то есть если $X \\sim Exp(\\alpha)$, тогда $P(X > s+t \\mid X \\ge s) = P(X > t)$\n",
    "* Пример: пусть автобусы приходят на остановку случайно, но с некоторой фиксированной средней интенсивностью. Тогда количество времени, уже затраченное пассажиром на ожидание автобуса, не влияет на время, которое ему ещё придётся прождать\n",
    "* Время между потоком пуассоновских событий имеет экспоненциальное распределение\n",
    "* $Exp(\\frac{1}{2}) = \\chi^2_2$\n"
   ]
  },
  {
   "cell_type": "markdown",
   "metadata": {
    "slideshow": {
     "slide_type": "subslide"
    }
   },
   "source": [
    "* Время, в которое в течение суток родится ребёнок "
   ]
  },
  {
   "cell_type": "code",
   "execution_count": 26,
   "metadata": {
    "scrolled": false,
    "slideshow": {
     "slide_type": "fragment"
    }
   },
   "outputs": [
    {
     "data": {
      "image/png": "[encoded data removed]",
      "text/plain": [
       "plot without title"
      ]
     },
     "metadata": {},
     "output_type": "display_data"
    }
   ],
   "source": [
    "# Равномерное распределение, U[mn;mx]\n",
    "n = 10000\n",
    "mn=0; mx=24\n",
    "\n",
    "x <- runif(n, min = mn, max = mx)\n",
    "picture(x)"
   ]
  },
  {
   "cell_type": "markdown",
   "metadata": {
    "slideshow": {
     "slide_type": "slide"
    }
   },
   "source": [
    "## Взаимосвязи между распределениями \n",
    "\n",
    "http://www.math.wm.edu/~leemis/2008amstat.pdf"
   ]
  },
  {
   "cell_type": "markdown",
   "metadata": {
    "slideshow": {
     "slide_type": "slide"
    }
   },
   "source": [
    "# Что мы сделали? \n",
    "\n",
    "- Поняли, что тервер и матстат помогают нам выразить наше невежество\n",
    "- Вспомнили что такое ЗБЧ и ЦПТ и поговорили о том какие вещи они нам разрешают делать\n",
    "- Поговорили о том как в R генерируются случайные величины и решили пару задачек\n",
    "- Обсудили, что распределения бывают разными\n",
    "\n",
    "- - - - - - -\n",
    "- Поделились на команды \n",
    "- Приступили к решению первой домашки\n"
   ]
  }
 ],
 "metadata": {
  "celltoolbar": "Slideshow",
  "kernelspec": {
   "display_name": "R",
   "language": "R",
   "name": "ir"
  },
  "language_info": {
   "codemirror_mode": "r",
   "file_extension": ".r",
   "mimetype": "text/x-r-source",
   "name": "R",
   "pygments_lexer": "r",
   "version": "3.5.3"
  }
 },
 "nbformat": 4,
 "nbformat_minor": 2
}
