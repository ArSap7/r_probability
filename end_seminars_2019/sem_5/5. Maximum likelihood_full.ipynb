{
 "cells": [
  {
   "cell_type": "markdown",
   "metadata": {
    "slideshow": {
     "slide_type": "slide"
    }
   },
   "source": [
    "<center>\n",
    "\n",
    "# R для тервера и матстата\n",
    "## Максимальное правдоподобие\n",
    "\n",
    "<center>\n",
    "<img src=\"https://raw.githubusercontent.com/FUlyankin/r_probability/master/end_seminars/sem_4/M_MPlain_grande.png\" height=\"200\" width=\"350\"> \n",
    "\n",
    "\n",
    "\n"
   ]
  },
  {
   "cell_type": "markdown",
   "metadata": {
    "slideshow": {
     "slide_type": "skip"
    }
   },
   "source": [
    "Данный ноутбук является конспектом по курсу «R для теории вероятностей и математической статистики» (РАНХиГС, 2019). Автор ноутбука - [вот этот парень по имени Филипп.](https://vk.com/ppilif) Если у вас для него есть деньги, слава или женщины, он от этого всего не откажется. Ноутбук распространяется на условиях лицензии [Creative Commons Attribution-Share Alike 4.0.](https://creativecommons.org/licenses/by-sa/4.0/) При использовании обязательно упоминание автора курса и аффилиации. При наличии технической возможности необходимо также указать активную гиперссылку на [страницу курса.](https://fulyankin.github.io/R_probability/) На ней можно найти другие материалы. Фрагменты кода, включенные в этот notebook, публикуются как [общественное достояние.](https://creativecommons.org/publicdomain/zero/1.0/)\n",
    "\n",
    "-------------------------------\n"
   ]
  },
  {
   "cell_type": "markdown",
   "metadata": {
    "slideshow": {
     "slide_type": "skip"
    }
   },
   "source": [
    "В прошлый раз мы с вами поговорили точечные оценки, их свойства и доверительные интервалы. Также мы немного вспомнили метод моментов, который помогает эти самые точечные оценки получать. Сегодня мы во всех подробностях обсудим другой метод получения точечных оценок, __метод максимального правдоподобия.__\n",
    "\n",
    "Метод максимального правдоподобия — это основная лошадка современной статистики. Функция правдоподобия встречается абсолютно во всех областях от эконометрики и байесовской статистики до нейронных сетей и рекомендательных систем. Из-за этого очень важно как следует понять как она устроена. В этой тетрадке именно этим мы и займёмся. Итак, сегодня в программе: \n",
    "\n",
    "* Что такое метод максимального правдоподобия, вырабатываем интуицию \n",
    "* Решаем задачу про конфеты и смотрим на свойства оценок максимального правдоподобия \n",
    "* Из метода максимального правдоподобия на нас неожиданно выпрыгивает информация Фишера, разбираемся с тем почему эта штука называется информацией Фишера\n",
    "* Решаем несколько задачек\n",
    "* Строим тест отношения правдоподобий __(НЕ ПУТАТЬ С ЛЕММОЙ Неймана-Пирсона из ваших лекций, где тоже фигурировало отношение правдоподобий! Это разные вещи!)__"
   ]
  },
  {
   "cell_type": "code",
   "execution_count": 1,
   "metadata": {
    "slideshow": {
     "slide_type": "skip"
    }
   },
   "outputs": [],
   "source": [
    "library(\"ggplot2\")  # Пакет для красивых графиков \n",
    "library(\"grid\")     # Пакет для субплотов\n",
    "\n",
    "# Отрегулируем размер картинок, которые будут выдаваться в нашей тетрадке\n",
    "library('repr')\n",
    "options(repr.plot.width=4, repr.plot.height=3)"
   ]
  },
  {
   "cell_type": "markdown",
   "metadata": {
    "slideshow": {
     "slide_type": "slide"
    }
   },
   "source": [
    "# 1. Задача про фонтан "
   ]
  },
  {
   "cell_type": "markdown",
   "metadata": {
    "slideshow": {
     "slide_type": "slide"
    }
   },
   "source": [
    "## Задача про фонтан \n",
    "\n",
    "* Юра приехал в южный город и увидел, что там есть фонтан и он работает\n",
    "* Теперь все мысли Юры о том, как часто работает этот фонтан\n",
    "\n",
    "<center>\n",
    "<img src=\"http://www.eventloglstic.ru/wp-content/uploads/2015/04/fontan-e1429209246662.jpg\" width=\"200\"> "
   ]
  },
  {
   "cell_type": "markdown",
   "metadata": {
    "slideshow": {
     "slide_type": "slide"
    }
   },
   "source": [
    "## Задача про фонтан \n",
    "\n",
    "__Гипотезы:__ \n",
    "\n",
    "1. Фонтан работает раз в году и нам повезло приехать в правильный день\n",
    "2. Фонтан работает каждые выходные, а мы как раз приехали в выходные\n",
    "3. Фонтан работает всегда\n",
    "\n",
    "<center>\n",
    "<img src=\"https://s.tcdn.co/f83/2b2/f832b2ac-6a68-3fd1-96f9-d9ec0e1484b0/5.png\" width=\"150\"> "
   ]
  },
  {
   "cell_type": "markdown",
   "metadata": {
    "slideshow": {
     "slide_type": "skip"
    }
   },
   "source": [
    "Мы хотим оценить параметр $\\theta$ - работоспособность фонтана. У нас есть в голове несколько гипотез о том, какие именно значения может принимать $\\theta$. У нас есть одно наблюдение \n",
    "\n",
    "$$x_1 = \\text{сегодня фонтан работал}.$$  \n",
    "\n",
    "Перед нами стоит непосильная задача. Мы должны, руководствуясь этим наблюдением, выбрать для параметра оптимальное значение. Метод максимального правдоподобия подсказывает нам неплохой принцип принятия решения: __что я вижу, то и есть на самом деле.__ Давайте попробуем формализовать этот принцип на языке математики. \n",
    "\n",
    "Найдём вероятность получить наблюдение $x_1$ в нашу коллекцию, пройдясь по всем гипотезам. Та гипотеза, при которой эта вероятность будет самой большой - самая правдоподобная. На ней мы и остановимся. Какова вероятность увидеть работающий фонтан именно сегодня, если он работает раз в году? Довольно низкая, всего лишь $\\frac{1}{365}$. Потому что дней в году всего $365$, и мы должны приехать в правильный. \n",
    "\n",
    "Какова вероятность увидеть работающий фонтан именно сегодня, если он работает только по выходным? В году примерно треть дней - выходные. Значит вероятность составит $\\sim \\frac{1}{3}$. Кстати говоря, можно записать это как \n",
    "\n",
    "$$P(x_1 = \\text{работает} \\mid \\theta = \\text{по выходным}).$$  \n",
    "\n",
    "Какова вероятность увидеть работающий фонтан, если он работает каждый день? Правильно! Это единица. Что у нас получается? Мы нашли вероятность получить наше наблюдение, $P(x_1 \\mid \\theta)$ при разных значениях $\\theta$. Потом мы сказали, что, наверное, самым приемлимым будет такое $\\theta$, при котором вероятность увидеть выборку, максимальна и решили задачу \n",
    "\n",
    "$$\n",
    "P(x_1 \\mid \\theta) \\to \\max_{\\theta}.\n",
    "$$\n",
    "\n",
    "Вероятность получить нашу выборку при конкретном значении парметра называется __правдоподобием.__ Мы пытаемся её максимизировать. Поэтому оценка, получаемая на выходе называется __оценкой максимального правдоподобия.__"
   ]
  },
  {
   "cell_type": "markdown",
   "metadata": {
    "slideshow": {
     "slide_type": "slide"
    }
   },
   "source": [
    "## Задача про фонтан \n",
    "\n",
    "__Гипотезы:__ \n",
    "\n",
    "1. Фонтан работает раз в году и нам повезло приехать в правильный день  $\\color{red}{\\frac{1}{365}}$\n",
    "2. Фонтан работает каждые выходные, а мы как раз приехали в выходные $\\color{red}{\\sim \\frac{1}{3}}$\n",
    "3. Фонтан работает всегда $\\color{red}{1}$\n",
    "\n",
    "<center>\n",
    "<img src=\"https://s.tcdn.co/f83/2b2/f832b2ac-6a68-3fd1-96f9-d9ec0e1484b0/5.png\" width=\"150\"> "
   ]
  },
  {
   "cell_type": "markdown",
   "metadata": {
    "slideshow": {
     "slide_type": "slide"
    }
   },
   "source": [
    "# 2. Правдоподобие и информация Фишера "
   ]
  },
  {
   "cell_type": "markdown",
   "metadata": {
    "slideshow": {
     "slide_type": "skip"
    }
   },
   "source": [
    "Давайте немного формализуем задачу. Для этого я тут продублирую материалы из лекций."
   ]
  },
  {
   "cell_type": "markdown",
   "metadata": {
    "slideshow": {
     "slide_type": "slide"
    }
   },
   "source": [
    "\n",
    "__Выборка выпрыгнула из сундука:__ $x_1, \\ldots, x_n$\n",
    "\n",
    "<br>\n",
    "<center>\n",
    "<img src=\"https://raw.githubusercontent.com/FUlyankin/r_probability/master/end_seminars/sem_2/yYGiBqtirSM.jpg\" width=\"300\"> \n",
    "</center> \n",
    "\n",
    "Мы не знаем, кто выплюнул на нас её из сундука, но можем предположить, что это случайная величина с полотностью $f(x \\mid \\theta)$. Про $\\theta$ ничего не знаем. Видим выборку, хотим оценить."
   ]
  },
  {
   "cell_type": "markdown",
   "metadata": {
    "slideshow": {
     "slide_type": "slide"
    }
   },
   "source": [
    "Запишем правдоподобие наших данных, то есть вероятность пронаблюдать именно эту выборку: \n",
    "\n",
    "$$L( \\theta \\mid x_1, \\ldots, x_n) = f(x_1, \\ldots, x_n \\mid \\theta) = \\prod_{i=1}^n f(x_i \\mid \\theta) \\to \\max_{\\theta}$$"
   ]
  },
  {
   "cell_type": "markdown",
   "metadata": {
    "slideshow": {
     "slide_type": "skip"
    }
   },
   "source": [
    "Наша выборка фиксирована. При разных значениях $\\theta$ мы получаем большую или меньшую вероятность получить выборку близку к наблюдаемой. Было бы круто найти такое значение $\\theta$, для которого эта вероятность оказалась бы максимальной. \n",
    "\n",
    "Обратите внимание, что функцию $L( \\theta \\mid x_1, \\ldots, x_n)$ уже нельзя трактовать как плотность распределения. Параметр $\\theta$ здесь не рассматривается как случайная величина, он фиксирован. Интеграл $L( \\theta \\mid x_1, \\ldots, x_n)$ по всем возможным значениям $\\theta$ не будет равен единице. "
   ]
  },
  {
   "cell_type": "markdown",
   "metadata": {
    "slideshow": {
     "slide_type": "slide"
    }
   },
   "source": [
    "Для максимизации правдоподобия нам придётся брать производные. Куда приятнее их брать от логарифма:\n",
    "\n",
    "$$\n",
    "\\ln L( \\theta \\mid x_1, \\ldots, x_n) =  \\sum_{i=1}^n \\ln f(x_i \\mid \\theta) \\to \\max_{\\theta}\n",
    "$$"
   ]
  },
  {
   "cell_type": "markdown",
   "metadata": {
    "slideshow": {
     "slide_type": "fragment"
    }
   },
   "source": [
    "Берём производную и приравниваем её к нулю. \n",
    "\n",
    "$$\n",
    "\\frac{\\partial \\ln L}{\\partial \\theta} = \\sum_{i=1}^n \\frac{\\partial \\ln f(x_i \\mid \\theta)}{\\partial \\theta} = 0\n",
    "$$\n",
    "\n",
    "Решив это уравнение мы получим оценку максимального правдоподобия. "
   ]
  },
  {
   "cell_type": "markdown",
   "metadata": {
    "slideshow": {
     "slide_type": "skip"
    }
   },
   "source": [
    "Посмотрим на одно слагаемое $\\ln f(x_i \\mid \\theta)$. Его можно интерпретировать как логарифм правдоподобия, посчитанного на основании только одного наблюдения $x_i$.\n",
    "\n",
    "Когда у нас в выборке появляются новые наблюдения, к нашей функции плюсуется дополнительное слагаемое. Интересно было бы посмотреть на то, как при этом функция изменяется.  У нас есть R. Сгенерируем выборку объёма $5$ из нормального стандартного распределения и посмотрим. "
   ]
  },
  {
   "cell_type": "code",
   "execution_count": 2,
   "metadata": {
    "slideshow": {
     "slide_type": "slide"
    }
   },
   "outputs": [
    {
     "data": {
      "text/html": [
       "<ol class=list-inline>\n",
       "\t<li>1.05387804080692</li>\n",
       "\t<li>-0.589403239099697</li>\n",
       "\t<li>0.255157590028931</li>\n",
       "\t<li>-1.1369319104315</li>\n",
       "\t<li>-0.530180388117131</li>\n",
       "</ol>\n"
      ],
      "text/latex": [
       "\\begin{enumerate*}\n",
       "\\item 1.05387804080692\n",
       "\\item -0.589403239099697\n",
       "\\item 0.255157590028931\n",
       "\\item -1.1369319104315\n",
       "\\item -0.530180388117131\n",
       "\\end{enumerate*}\n"
      ],
      "text/markdown": [
       "1. 1.05387804080692\n",
       "2. -0.589403239099697\n",
       "3. 0.255157590028931\n",
       "4. -1.1369319104315\n",
       "5. -0.530180388117131\n",
       "\n",
       "\n"
      ],
      "text/plain": [
       "[1]  1.0538780 -0.5894032  0.2551576 -1.1369319 -0.5301804"
      ]
     },
     "metadata": {},
     "output_type": "display_data"
    }
   ],
   "source": [
    "x <- rnorm(5)\n",
    "x"
   ]
  },
  {
   "cell_type": "markdown",
   "metadata": {
    "slideshow": {
     "slide_type": "skip"
    }
   },
   "source": [
    "Выпишем для нормального распределения логарифмическую функцию правдоподобия. Она будет зависеть от двух векторов: выборки и параметров."
   ]
  },
  {
   "cell_type": "markdown",
   "metadata": {
    "slideshow": {
     "slide_type": "slide"
    }
   },
   "source": [
    "$$\n",
    "\\ln L(\\mu, \\sigma^2 \\mid x) = -\\frac{n}{2}\\ln(2\\pi)-\\frac{n}{2}\\ln(\\sigma^2)-\\sum_{i=1}^n\\frac{(x_i - \\mu)^2}{2\\sigma^2}\n",
    "$$\n",
    "\n",
    "\n",
    "Предположим, что $\\sigma = 1$, и нам хочется оценить только $\\mu$. Перебьём такую функцию в R."
   ]
  },
  {
   "cell_type": "code",
   "execution_count": 3,
   "metadata": {
    "slideshow": {
     "slide_type": "fragment"
    }
   },
   "outputs": [],
   "source": [
    "# mu - оцениваемый параметр\n",
    "# x - вектор данных\n",
    "\n",
    "log_lik <- function(mu, x) {\n",
    "  n <- length(x)\n",
    "  result <- -n/2*log(2*pi)-n/2*log(1)-sum((x-mu)^2)/(2*1)\n",
    "  return(result)\n",
    "}"
   ]
  },
  {
   "cell_type": "markdown",
   "metadata": {
    "slideshow": {
     "slide_type": "slide"
    }
   },
   "source": [
    "Найдём значение нашей функции в какой-нибудь точке. Какое из значений $\\mu$ более правдоподобно?"
   ]
  },
  {
   "cell_type": "code",
   "execution_count": 4,
   "metadata": {
    "slideshow": {
     "slide_type": "fragment"
    }
   },
   "outputs": [
    {
     "data": {
      "text/html": [
       "-9.59060552873938"
      ],
      "text/latex": [
       "-9.59060552873938"
      ],
      "text/markdown": [
       "-9.59060552873938"
      ],
      "text/plain": [
       "[1] -9.590606"
      ]
     },
     "metadata": {},
     "output_type": "display_data"
    },
    {
     "data": {
      "text/html": [
       "-265.617924690052"
      ],
      "text/latex": [
       "-265.617924690052"
      ],
      "text/markdown": [
       "-265.617924690052"
      ],
      "text/plain": [
       "[1] -265.6179"
      ]
     },
     "metadata": {},
     "output_type": "display_data"
    }
   ],
   "source": [
    "log_lik(1,x)\n",
    "log_lik(10,x)"
   ]
  },
  {
   "cell_type": "markdown",
   "metadata": {
    "slideshow": {
     "slide_type": "slide"
    }
   },
   "source": [
    "Теперь посмотрим как правдоподобие выглядит на картинке."
   ]
  },
  {
   "cell_type": "code",
   "execution_count": 5,
   "metadata": {
    "slideshow": {
     "slide_type": "fragment"
    }
   },
   "outputs": [
    {
     "data": {
      "image/png": "[encoded data removed]",
      "text/plain": [
       "plot without title"
      ]
     },
     "metadata": {},
     "output_type": "display_data"
    }
   ],
   "source": [
    "mu  = seq(-12,12,0.01)\n",
    "lnL = rep(0,length(mu))\n",
    "\n",
    "for(i in 1:length(lnL)){\n",
    "    lnL[i] = log_lik(mu[i], x)\n",
    "}\n",
    "\n",
    "qplot(mu, lnL, geom='line')"
   ]
  },
  {
   "cell_type": "markdown",
   "metadata": {
    "slideshow": {
     "slide_type": "fragment"
    }
   },
   "source": [
    "Максимум достигается в районе нуля, но не чётко в нуле."
   ]
  },
  {
   "cell_type": "markdown",
   "metadata": {
    "slideshow": {
     "slide_type": "slide"
    }
   },
   "source": [
    "Построим такие же функции для отдельных наблюдений. "
   ]
  },
  {
   "cell_type": "code",
   "execution_count": 6,
   "metadata": {
    "slideshow": {
     "slide_type": "slide"
    }
   },
   "outputs": [
    {
     "data": {
      "image/png": "[encoded data removed]",
      "text/plain": [
       "plot without title"
      ]
     },
     "metadata": {},
     "output_type": "display_data"
    }
   ],
   "source": [
    "mu  = seq(-12,12,0.01)\n",
    "\n",
    "lnL = rep(0,length(mu))\n",
    "lnL1 = rep(0,length(mu))\n",
    "lnL2 = rep(0,length(mu))\n",
    "\n",
    "for(i in 1:length(lnL)){\n",
    "    lnL[i] = log_lik(mu[i], x)\n",
    "    lnL1[i] = log_lik(mu[i], x[1])\n",
    "    lnL2[i] = log_lik(mu[i], x[2])\n",
    "}\n",
    "\n",
    "df_L = data.frame(mu=mu,lnL = lnL, lnL1 = lnL1, lnL2 = lnL2)\n",
    "\n",
    "ggplot(df_L, aes(x=mu))+\n",
    "    geom_line(aes(y=lnL))+\n",
    "    geom_line(aes(y=lnL1),color='red')+\n",
    "    geom_line(aes(y=lnL2),color='red')"
   ]
  },
  {
   "cell_type": "markdown",
   "metadata": {
    "slideshow": {
     "slide_type": "skip"
    }
   },
   "source": [
    "Черная функция для всей выборки равна сумме логарифмических правдоподобий для отдельных наблюдений (красные линии). У каждого слагаемого своя выпуклость. Чем более выпукло слагаемое, тем более острым оно делает пик при суммировании\n",
    "Общая функция правдоподобия имеет более выраженный максимум по сравнению с функциями правдоподобия для отдельных наблюдений\n",
    "\n",
    "Можно построить аналогичную картинку, на которой мы будем постепенно накапливать наблюдения внутри нашей суммы. При добавлении всё новых слагаемых, максимум будет становиться более чётким. "
   ]
  },
  {
   "cell_type": "code",
   "execution_count": 7,
   "metadata": {
    "slideshow": {
     "slide_type": "slide"
    }
   },
   "outputs": [],
   "source": [
    "lnL = rep(0,length(mu))\n",
    "lnL1 = rep(0,length(mu))\n",
    "lnL2 = rep(0,length(mu))\n",
    "lnL3 = rep(0,length(mu))\n",
    "lnL4 = rep(0,length(mu))\n",
    "lnL5 = rep(0,length(mu))\n",
    "\n",
    "for(i in 1:length(lnL)){\n",
    "    lnL[i] = log_lik(mu[i], x)\n",
    "    lnL1[i] = log_lik(mu[i], x[1])\n",
    "    lnL2[i] = log_lik(mu[i], x[1:2])\n",
    "    lnL3[i] = log_lik(mu[i], x[1:3])\n",
    "    lnL4[i] = log_lik(mu[i], x[1:4])\n",
    "}\n",
    "\n",
    "df_L = data.frame(mu=mu,lnL = lnL, lnL1 = lnL1, lnL2 = lnL2,\n",
    "                  lnL3 = lnL3,lnL4 = lnL4)"
   ]
  },
  {
   "cell_type": "code",
   "execution_count": 8,
   "metadata": {
    "slideshow": {
     "slide_type": "slide"
    }
   },
   "outputs": [
    {
     "data": {
      "image/png": "[encoded data removed]",
      "text/plain": [
       "plot without title"
      ]
     },
     "metadata": {},
     "output_type": "display_data"
    }
   ],
   "source": [
    "ggplot(df_L, aes(x=mu))+\n",
    "    geom_line(aes(y=lnL))+\n",
    "    geom_line(aes(y=lnL1),color='red')+\n",
    "    geom_line(aes(y=lnL2),color='red')+\n",
    "    geom_line(aes(y=lnL3),color='red')+\n",
    "    geom_line(aes(y=lnL4),color='red')"
   ]
  },
  {
   "cell_type": "markdown",
   "metadata": {
    "slideshow": {
     "slide_type": "skip"
    }
   },
   "source": [
    "Каждая красная линия - добавление к сумме нового слагаемоего. С каждым слагаемым максимум становится всё более выраженым. Каждое слагаемое добавляет нам информации. Объём этой информации зависит от выпуклости функции правдоподобия для отдельного наблюдения.\n",
    "\n",
    "Чем более выпукла функция, тем более выражен максимум, тем более сильно мы уверенны в том, что оценка параметра была найдена хорошо."
   ]
  },
  {
   "cell_type": "markdown",
   "metadata": {
    "slideshow": {
     "slide_type": "slide"
    }
   },
   "source": [
    "Что отвечает за выпуклость функции? Правильно! Вторая производная. Именно её, взятую со знаком минус, интерпретируют как наблюдённую информацию.  \n",
    "\n",
    "$$\n",
    "I_o(\\theta) =  - \\left( \\frac{\\partial^2 \\ln L}{\\partial \\theta^2}  \\right)\n",
    "$$"
   ]
  },
  {
   "cell_type": "markdown",
   "metadata": {
    "slideshow": {
     "slide_type": "fragment"
    }
   },
   "source": [
    "Почему со знаком минус? Потому что у нас максимум, в точке максимума вторая производная отрицательна. А информация должна быть положительной. Если параметр векторный, то в этом случае наблюдённая информация представляется наблюдённой информационной матрицей: \n",
    "\n",
    "$$\n",
    "I_o(\\theta) =  - \\left( \\frac{\\partial^2 \\ln L}{\\partial \\theta_i \\partial \\theta_j}  \\right) = - H\n",
    "$$"
   ]
  },
  {
   "cell_type": "markdown",
   "metadata": {
    "slideshow": {
     "slide_type": "skip"
    }
   },
   "source": [
    "Индекс $\"o\"$ в данном случае обозначает observed, информацию, которую мы реально видели. В матрице $I_o(\\theta)$ во всех клетках стоят числа. Они зависят от конкретных значений наблюдений. \n",
    "\n",
    "Обратите внимание, что на первой картинке, правдоподобия, построенные для разных наблюдений выпуклы по разному. Получается, что каждое наблюдение вносит в заострённость нашего правдоподобия разный вклад, то есть в каждом наблюдении содержится разное количество информации. "
   ]
  },
  {
   "cell_type": "markdown",
   "metadata": {
    "slideshow": {
     "slide_type": "slide"
    }
   },
   "source": [
    "Математическое ожидание этой матрицы по распределению $x$ называется информационной матрицей Фишера. \n",
    "\n",
    "$$\n",
    "I(\\theta) =  - E\\left( \\frac{\\partial^2 \\ln L}{\\partial \\theta_i \\partial \\theta_j}  \\right) = -E(H)\n",
    "$$\n"
   ]
  },
  {
   "cell_type": "markdown",
   "metadata": {
    "slideshow": {
     "slide_type": "skip"
    }
   },
   "source": [
    "Ожидаемая информация зависит только от закона распределения наблюдений. Она отражает то, какую информацию в среднем вносит в наше правдоподобие, каждое наблюдение. \n",
    "\n",
    "__Если функция плотности $f(x \\mid \\theta)$ удовлетворяет условиям регулярности__, то тогда для любой несмещённой оценки $\\hat \\theta$ выполняется неравенство Рао-Фреше-Крамера: \n",
    "\n",
    "$$\n",
    "Var(\\hat \\theta) \\ge [I(\\theta)]^{-1}\n",
    "$$\n",
    "\n",
    "Более того, в этом случае \n",
    "\n",
    "$$\n",
    "I(\\theta) =  - E\\left( \\frac{\\partial^2 \\ln L}{\\partial \\theta^2}  \\right) = E\\left[ \\left( \\frac{\\partial \\ln L}{\\partial \\theta} \\right)^2  \\right],\n",
    "$$\n",
    "\n",
    "но доказывать это здесь, мы не будем. А вот условия регулярности чуть ниже обсудим. До них нам осталось чуточку потерпеть. __При тех же условиях регулярности,__ оценка максимального правдоподоия обладает набором приятных асимптотических свойств: \n",
    "\n",
    "1. Инвариантность, если $\\hat \\theta$ оценка для $\\theta$, то $g(\\hat \\theta)$ оценка для $g(\\theta)$ \n",
    "2. Состоятельность \n",
    "3. Асимптотическая несмещённость\n",
    "4. Асимптотическая эффективность\n",
    "5. Асимптотическая нормальность: \n",
    "\n",
    "$$\n",
    "\\hat \\theta \\to N(\\theta, I(\\theta)^{-1}) \n",
    "$$\n",
    "\n",
    "\n",
    "\n",
    "Асимптотическую нормальность обычно используют на практике для строительства доверительных интервалов и проверки гипотез. Чтобы сделать это, нужно найти подходящую оценку для информации Фишера, посчитанную на основе выборки. \n",
    "\n",
    "Обычно поступают двумя путями: либо заменяют в матрице Гессе, $-H$, все $\\theta$ на оценки, либо заменяют в матрице $-E(H)$ все $\\theta$ на оценки. Именно так мы с вами поступим, когда будем решать задачки.\n"
   ]
  },
  {
   "cell_type": "markdown",
   "metadata": {
    "slideshow": {
     "slide_type": "skip"
    }
   },
   "source": [
    "__Теперь про условия регулярности.__ Они бывают очень разными. Каждый автор учебника формулирует их по-своему. По большому счёту всё сводится к двум вещам: \n",
    "\n",
    "1. Область определения случайной величины не зависит от параметра\n",
    "2. Можно брать производные и с ними всё хоршо\n",
    "\n",
    "[В книге Черновой,](https://github.com/FUlyankin/r_probability/raw/master/books/Хороший%20учебник%20по%20матстату.pdf) которую я рекомендую вам полностью прочитать [(её книгу по тереру тоже),](https://github.com/FUlyankin/r_probability/raw/master/books/Хороший%20учебник%20по%20терверу.pdf) требуется, чтобы   $\\sqrt{f(x, \\theta)}$ была всюду диффириенцируема по $\\theta$ и чтобы информация фишера была конечной и существовала. На самом деле можно брать разные условия регулярности и доказывать, что одни следуют из других.\n",
    "\n",
    "Условия регулярности нужны, чтобы при доказательстве свойств оценок максимального правдоподобия, обходить узкие места. Грубо говоря, в доказательстве нужно взять производную? Она должна существовать. В доказательстве нужно поменять местами интеграл и производную? Давайте ка вспомним какие условия нужны для этого в матане и потребуем их! Не более того. И это как-то скучно. За любой математической конструкцией должна быть какая-то интуиция. Давайте попробуем её нащупать. \n",
    "\n",
    "Дело в том, что распределения случайных величин бывают разными. Есть простые, гладкие распределения вроде нормального или экспоненциального. У них есть математические ожидания, производные, область определения не зависит от значения параметра. Из-за этого метод максимального правдоподобия отрабатывает на ура. Если случайная величина устроена сложно, то внутри метода что-то ломается. В таких ситуациях говорят, что столкнулись с __нерегулярным случаем.__ В самом конце пары мы поговорим о равномерном распределении, где есть зависимость области определения случайной величины от оцениваемого параметра. Забавно, что равномерное распределение оказывается сложным с точки зрения условий регулярности. "
   ]
  },
  {
   "cell_type": "markdown",
   "metadata": {
    "slideshow": {
     "slide_type": "slide"
    }
   },
   "source": [
    "# 3. Задача про M&M-сины\n",
    "\n",
    "\n",
    "<img src=\"https://raw.githubusercontent.com/FUlyankin/r_probability/master/end_seminars/sem_4/manams_col.png\" height=\"750\" width=\"750\"> \n",
    "\n",
    "На картинке ниже находится эм-энд-мсовый тймлайн. Можно посмотреть в какие годы какими были цвета у конфеток."
   ]
  },
  {
   "cell_type": "markdown",
   "metadata": {
    "slideshow": {
     "slide_type": "skip"
    }
   },
   "source": [
    "Я купил несколько упаковок с конфетками и посчитал как часто в них встречаются жёлтые конфетки и красные конфетки. Красных оказалось $46$ штук. Жёлтых $44$ штуки. Остальных цветов $237$ штук. \n",
    "\n",
    "Великий и могучий сундук вывалил на меня такие числа. Теперь я хочу узнать что внутри. Я предполагаю, что данные порождались следущей случайной величиной: \n",
    "\n",
    "| $X$ | красная | жёлтая | другой цвет   |\n",
    "|---|---------|--------|---------------|\n",
    "| $P(X=k)$  |  $p_1$  |  $p_2$ |  $1-p_1 - p_2$|\n",
    "\n",
    "У нас в выборке есть $X_1$ красных конфеток и $X_2$ жёлтых. $p_1$ и $p_2$ это ненаблюдаемые константы. $X_1$ и $X_2$ это наблюдаемые случайные величины. Наша цель найти $\\hat p_1(X_1, X_2)$ и  $\\hat p_2(X_1, X_2)$. \n",
    "\n",
    "Для этого выписываем функцию правдоподобия! \n",
    "\n",
    "$$\n",
    "L = p_1^{X_1} \\cdot p_2^{X_2} \\cdot (1-p_1-p_2)^{n-X_1-X_2}\n",
    "$$\n",
    "\n",
    "Логарифмируем её:\n",
    "\n",
    "$$\n",
    "ln L = X_1 \\ln p_1 + X_2 \\ln p_2 + (n - X_1 - X_2) \\ln(1-p_1-p_2)\n",
    "$$\n",
    "\n",
    "Чтобы найти максимум, берём производные!\n",
    "\n",
    "$$\n",
    "\\begin{cases} \n",
    "\\frac{\\partial \\ln L}{\\partial p_1} = \\frac{X_1}{p_1} - \\frac{n-X_1-X_2}{1-p_1-p_2} \\\\\n",
    "\\frac{\\partial \\ln L}{\\partial p_2} = \\frac{X_2}{p_2} - \\frac{n-X_1-X_2}{1-p_1-p_2}\n",
    "\\end{cases}\n",
    "$$\n",
    "\n",
    "Приравниваем всё это добро к нулю, над буквами $p$ появляются колпачки. С этого момента мы имеем дело с оценками параметров. При настоящих значениях $p$ производные могут быть не равны нулю в доставшихся нам $x_i$. \n",
    "\n",
    "В результате решения системы получаем, что \n",
    "\n",
    "$$\n",
    "\\begin{cases} \n",
    "\\hat p_1^{ML} = \\frac{X_1}{n} \\\\\n",
    "\\hat p_2^{ML} = \\frac{X_2}{n}\n",
    "\\end{cases}\n",
    "$$\n",
    "\n",
    "В общем то это довольно логичный результат. То, что я вижу вне ящика, то и происходит в ящике. Таковы наши оценки. \n"
   ]
  },
  {
   "cell_type": "markdown",
   "metadata": {
    "slideshow": {
     "slide_type": "skip"
    }
   },
   "source": [
    "Займёмся вторыми производными. Через них найдём оценку информационной матрицы $I$. Это можно сделать двумя способами:\n",
    "\n",
    "* найти $-H$ и подставить в неё $\\hat p$\n",
    "* найти $-E(H)$  и подставить в неё $\\hat p$\n",
    "\n",
    "Дальше на основе $\\hat I$ мы можем найти оценку для $Var(\\hat p)$. Эта оценка позволит нам построить для оценок $\\hat p$ доверительные интервалы и понять насколько точными получились наши результаты."
   ]
  },
  {
   "cell_type": "markdown",
   "metadata": {
    "slideshow": {
     "slide_type": "skip"
    }
   },
   "source": [
    "Найдём матрицу Гессе:\n",
    "\n",
    "$$\n",
    "H = \\begin{pmatrix} \n",
    "\\frac{\\partial^2 \\ln L}{\\partial p_1^2}, \\frac{\\partial^2 \\ln L}{\\partial p_1 \\partial  p_2} \\\\\n",
    "\\frac{\\partial^2 \\ln L}{\\partial p_2 \\partial p_1}, \\frac{\\partial^2 \\ln L}{\\partial p_2^2}\n",
    "\\end{pmatrix}\n",
    "$$\n",
    "\n",
    "Сделать это несложно. Нужно просто взять четыре производные. \n",
    "\n",
    "$$\n",
    "H = \\begin{pmatrix} \n",
    "-\\frac{X_1}{p_1^2} - \\frac{n-X_1 -X_2}{(1-p_1-p_2)^2}, - \\frac{n-X_1 -X_2}{(1-p_1-p_2)^2} \\\\\n",
    "- \\frac{n-X_1 -X_2}{(1-p_1-p_2)^2}, -\\frac{X_2}{p_2^2} - \\frac{n-X_1 -X_2}{(1-p_1-p_2)^2}\n",
    "\\end{pmatrix}\n",
    "$$\n",
    "\n",
    "Значение $-H$ в точке $\\hat p$ будет оценкой информационной матрицы, $\\hat I$. Осталось подставить в неё $\\hat p$ и обратить. Делать это вручную лениво. Давайте воспользуемся для этого мощью R."
   ]
  },
  {
   "cell_type": "code",
   "execution_count": 9,
   "metadata": {
    "slideshow": {
     "slide_type": "slide"
    }
   },
   "outputs": [
    {
     "data": {
      "text/html": [
       "<table>\n",
       "<tbody>\n",
       "\t<tr><td>2791.6751</td><td> 444.7363</td></tr>\n",
       "\t<tr><td> 444.7363</td><td>2689.6343</td></tr>\n",
       "</tbody>\n",
       "</table>\n"
      ],
      "text/latex": [
       "\\begin{tabular}{ll}\n",
       "\t 2791.6751 &  444.7363\\\\\n",
       "\t  444.7363 & 2689.6343\\\\\n",
       "\\end{tabular}\n"
      ],
      "text/markdown": [
       "\n",
       "| 2791.6751 |  444.7363 |\n",
       "|  444.7363 | 2689.6343 |\n",
       "\n"
      ],
      "text/plain": [
       "     [,1]      [,2]     \n",
       "[1,] 2791.6751  444.7363\n",
       "[2,]  444.7363 2689.6343"
      ]
     },
     "metadata": {},
     "output_type": "display_data"
    }
   ],
   "source": [
    "# задаем оценку информационной матрицы руками\n",
    "# Первый способ - подставим в -H оценки параметров: \n",
    "x1 = 46\n",
    "x2 = 44 \n",
    "x3 = 237 \n",
    "n = x1 + x2 + x3\n",
    "\n",
    "hat.I <- matrix(c(x1/0.14^2+237/0.73^2, 237/0.73^2,\n",
    "                  237/0.73^2, x2/0.14^2+237/0.73^2),nrow=2)\n",
    "hat.I"
   ]
  },
  {
   "cell_type": "code",
   "execution_count": 10,
   "metadata": {
    "slideshow": {
     "slide_type": "slide"
    }
   },
   "outputs": [
    {
     "data": {
      "text/html": [
       "<table>\n",
       "<tbody>\n",
       "\t<tr><td> 3.678990e-04</td><td>-6.083283e-05</td></tr>\n",
       "\t<tr><td>-6.083283e-05</td><td> 3.818566e-04</td></tr>\n",
       "</tbody>\n",
       "</table>\n"
      ],
      "text/latex": [
       "\\begin{tabular}{ll}\n",
       "\t  3.678990e-04 & -6.083283e-05\\\\\n",
       "\t -6.083283e-05 &  3.818566e-04\\\\\n",
       "\\end{tabular}\n"
      ],
      "text/markdown": [
       "\n",
       "|  3.678990e-04 | -6.083283e-05 |\n",
       "| -6.083283e-05 |  3.818566e-04 |\n",
       "\n"
      ],
      "text/plain": [
       "     [,1]          [,2]         \n",
       "[1,]  3.678990e-04 -6.083283e-05\n",
       "[2,] -6.083283e-05  3.818566e-04"
      ]
     },
     "metadata": {},
     "output_type": "display_data"
    }
   ],
   "source": [
    "# считаем обратную --- это будет оценка ковариационной матрицы ошибок\n",
    "hat.Var <- solve(hat.I)\n",
    "hat.Var"
   ]
  },
  {
   "cell_type": "markdown",
   "metadata": {
    "slideshow": {
     "slide_type": "skip"
    }
   },
   "source": [
    "Мы получили оценку ковариационной матрицы для наших параметров $\\hat p_1$ и $\\hat p_2$. На диагонали стоят оценки дисперсий этих параметров, на побочной диагонали стоит ковариация между нашими оценками. \n",
    "\n",
    "Построи оценку ковариационной матрицы вторым способом. Для этого найдём $E(H)$. Как мы помним, $X_i \\sim Bin(n,p_1)$. Значит $E(X_1) = np_1$. Получается, что: \n",
    "\n",
    "$$\n",
    "E(H) = \\begin{pmatrix} \n",
    "-\\frac{n}{p_1} - \\frac{n}{1-p_1-p_2}, - \\frac{n}{1-p_1-p_2} \\\\\n",
    "- \\frac{n}{1-p_1-p_2}, -\\frac{n}{p_2} - \\frac{n}{1-p_1-p_2}\n",
    "\\end{pmatrix}\n",
    "$$\n",
    "\n",
    "Подставими в матрицу $\\hat p$ и обратим её."
   ]
  },
  {
   "cell_type": "code",
   "execution_count": 11,
   "metadata": {
    "slideshow": {
     "slide_type": "slide"
    }
   },
   "outputs": [
    {
     "data": {
      "text/html": [
       "<table>\n",
       "<tbody>\n",
       "\t<tr><td>2783.6595</td><td> 447.9452</td></tr>\n",
       "\t<tr><td> 447.9452</td><td>2783.6595</td></tr>\n",
       "</tbody>\n",
       "</table>\n"
      ],
      "text/latex": [
       "\\begin{tabular}{ll}\n",
       "\t 2783.6595 &  447.9452\\\\\n",
       "\t  447.9452 & 2783.6595\\\\\n",
       "\\end{tabular}\n"
      ],
      "text/markdown": [
       "\n",
       "| 2783.6595 |  447.9452 |\n",
       "|  447.9452 | 2783.6595 |\n",
       "\n"
      ],
      "text/plain": [
       "     [,1]      [,2]     \n",
       "[1,] 2783.6595  447.9452\n",
       "[2,]  447.9452 2783.6595"
      ]
     },
     "metadata": {},
     "output_type": "display_data"
    }
   ],
   "source": [
    "# Второй способ - подставим в -E(H) оценки параметров: \n",
    "hat.I <- matrix(c(n/0.14 + n/0.73, n/0.73,\n",
    "                  n/0.73, n/0.14 + n/0.73),nrow=2)\n",
    "hat.I"
   ]
  },
  {
   "cell_type": "code",
   "execution_count": 12,
   "metadata": {
    "slideshow": {
     "slide_type": "slide"
    }
   },
   "outputs": [
    {
     "data": {
      "text/html": [
       "<table>\n",
       "<tbody>\n",
       "\t<tr><td> 3.687892e-04</td><td>-5.934538e-05</td></tr>\n",
       "\t<tr><td>-5.934538e-05</td><td> 3.687892e-04</td></tr>\n",
       "</tbody>\n",
       "</table>\n"
      ],
      "text/latex": [
       "\\begin{tabular}{ll}\n",
       "\t  3.687892e-04 & -5.934538e-05\\\\\n",
       "\t -5.934538e-05 &  3.687892e-04\\\\\n",
       "\\end{tabular}\n"
      ],
      "text/markdown": [
       "\n",
       "|  3.687892e-04 | -5.934538e-05 |\n",
       "| -5.934538e-05 |  3.687892e-04 |\n",
       "\n"
      ],
      "text/plain": [
       "     [,1]          [,2]         \n",
       "[1,]  3.687892e-04 -5.934538e-05\n",
       "[2,] -5.934538e-05  3.687892e-04"
      ]
     },
     "metadata": {},
     "output_type": "display_data"
    }
   ],
   "source": [
    "# считаем обратную --- это будет оценка ковариационной матрицы ошибок\n",
    "hat.Var <- solve(hat.I)\n",
    "hat.Var"
   ]
  },
  {
   "cell_type": "markdown",
   "metadata": {
    "slideshow": {
     "slide_type": "fragment"
    }
   },
   "source": [
    "__Вопрос:__ являются ли оценки зависимыми?"
   ]
  },
  {
   "cell_type": "markdown",
   "metadata": {
    "slideshow": {
     "slide_type": "slide"
    }
   },
   "source": [
    "# 4. Пакет maxLik"
   ]
  },
  {
   "cell_type": "markdown",
   "metadata": {
    "slideshow": {
     "slide_type": "skip"
    }
   },
   "source": [
    "Это милый результат, но он довольно ручной. Мне бы хотелось теперь проделать все те же изыскания в R от начала до конца. Для этого будем использовать пакет `maxLik`. \n",
    "\n",
    "Выписываем нашу логарифмическую функцию правдоподобия. Она будет зависеть от двух аргументов: выборки и параметров, которые нужно оценить. В дальнейшем нам нужно максимизировать функцию правдоподобия."
   ]
  },
  {
   "cell_type": "code",
   "execution_count": 14,
   "metadata": {
    "slideshow": {
     "slide_type": "slide"
    }
   },
   "outputs": [],
   "source": [
    "# install.packages('maxLik')  # если пакет не установлен\n",
    "library('maxLik') # пакет для метода макс. правдоподобия\n",
    "\n",
    "# Логарифмическое правдоподобие\n",
    "lnL <- function(p,X) {\n",
    "    ans <- X[1]*log(p[1])+X[2]*log(p[2])+ (X[3])*log(1-p[1]-p[2])\n",
    "  return(ans)\n",
    "}\n",
    "\n",
    "# Задаём точку для старта, а также выборку, которая пойдёт на вход lnL\n",
    "res <- maxLik(lnL, start=c(0.1,0.1), X=c(44, 46, 237))"
   ]
  },
  {
   "cell_type": "code",
   "execution_count": 15,
   "metadata": {
    "slideshow": {
     "slide_type": "fragment"
    }
   },
   "outputs": [
    {
     "data": {
      "text/plain": [
       "--------------------------------------------\n",
       "Maximum Likelihood estimation\n",
       "Newton-Raphson maximisation, 4 iterations\n",
       "Return code 1: gradient close to zero\n",
       "Log-Likelihood: -254.7649 \n",
       "2  free parameters\n",
       "Estimates:\n",
       "     Estimate Std. error t value  Pr(> t)    \n",
       "[1,]  0.13456    0.01887   7.130 1.00e-12 ***\n",
       "[2,]  0.14067    0.01923   7.316 2.55e-13 ***\n",
       "---\n",
       "Signif. codes:  0 ‘***’ 0.001 ‘**’ 0.01 ‘*’ 0.05 ‘.’ 0.1 ‘ ’ 1\n",
       "--------------------------------------------"
      ]
     },
     "metadata": {},
     "output_type": "display_data"
    }
   ],
   "source": [
    "summary(res) # краткий отчет о результатах оценивания\n",
    "\n",
    "# первый столбик --- сами оценки по методу максимального правдоподобия\n",
    "# второй столбик --- оценки стандартных ошибок\n",
    "# т.е. корни из диагональных элементов оценённой ковариационной матрицы\n",
    "# в третьем и четвёртом столбиках проверятся гипотеза о равенстве этих параметров нулю,\n",
    "# но об этом позже :)"
   ]
  },
  {
   "cell_type": "code",
   "execution_count": 16,
   "metadata": {
    "slideshow": {
     "slide_type": "slide"
    }
   },
   "outputs": [
    {
     "data": {
      "text/html": [
       "<table>\n",
       "<thead><tr><th scope=col>Estimate</th><th scope=col>Std. error</th><th scope=col>t value</th><th scope=col>Pr(&gt; t)</th></tr></thead>\n",
       "<tbody>\n",
       "\t<tr><td>0.1345566   </td><td>0.01887130  </td><td>7.130222    </td><td>1.002075e-12</td></tr>\n",
       "\t<tr><td>0.1406728   </td><td>0.01922697  </td><td>7.316428    </td><td>2.546578e-13</td></tr>\n",
       "</tbody>\n",
       "</table>\n"
      ],
      "text/latex": [
       "\\begin{tabular}{llll}\n",
       " Estimate & Std. error & t value & Pr(> t)\\\\\n",
       "\\hline\n",
       "\t 0.1345566    & 0.01887130   & 7.130222     & 1.002075e-12\\\\\n",
       "\t 0.1406728    & 0.01922697   & 7.316428     & 2.546578e-13\\\\\n",
       "\\end{tabular}\n"
      ],
      "text/markdown": [
       "\n",
       "| Estimate | Std. error | t value | Pr(> t) |\n",
       "|---|---|---|---|\n",
       "| 0.1345566    | 0.01887130   | 7.130222     | 1.002075e-12 |\n",
       "| 0.1406728    | 0.01922697   | 7.316428     | 2.546578e-13 |\n",
       "\n"
      ],
      "text/plain": [
       "     Estimate  Std. error t value  Pr(> t)     \n",
       "[1,] 0.1345566 0.01887130 7.130222 1.002075e-12\n",
       "[2,] 0.1406728 0.01922697 7.316428 2.546578e-13"
      ]
     },
     "metadata": {},
     "output_type": "display_data"
    }
   ],
   "source": [
    "# можно вытащить протокол из summary в табличку\n",
    "result_table = summary(res) \n",
    "result_table$estimate"
   ]
  },
  {
   "cell_type": "code",
   "execution_count": 17,
   "metadata": {
    "slideshow": {
     "slide_type": "fragment"
    }
   },
   "outputs": [
    {
     "data": {
      "text/html": [
       "-254.764874303474"
      ],
      "text/latex": [
       "-254.764874303474"
      ],
      "text/markdown": [
       "-254.764874303474"
      ],
      "text/plain": [
       "[1] -254.7649"
      ]
     },
     "metadata": {},
     "output_type": "display_data"
    }
   ],
   "source": [
    "# можно вытащить ещё чего-нибудь эдакого\n",
    "result_table$loglik "
   ]
  },
  {
   "cell_type": "code",
   "execution_count": 18,
   "metadata": {
    "slideshow": {
     "slide_type": "slide"
    }
   },
   "outputs": [
    {
     "data": {
      "text/html": [
       "<ol class=list-inline>\n",
       "\t<li>0.134556574942643</li>\n",
       "\t<li>0.140672782905346</li>\n",
       "</ol>\n"
      ],
      "text/latex": [
       "\\begin{enumerate*}\n",
       "\\item 0.134556574942643\n",
       "\\item 0.140672782905346\n",
       "\\end{enumerate*}\n"
      ],
      "text/markdown": [
       "1. 0.134556574942643\n",
       "2. 0.140672782905346\n",
       "\n",
       "\n"
      ],
      "text/plain": [
       "[1] 0.1345566 0.1406728"
      ]
     },
     "metadata": {},
     "output_type": "display_data"
    }
   ],
   "source": [
    "p = res$estimate  # оценки\n",
    "p"
   ]
  },
  {
   "cell_type": "code",
   "execution_count": 19,
   "metadata": {
    "slideshow": {
     "slide_type": "fragment"
    }
   },
   "outputs": [
    {
     "data": {
      "text/html": [
       "<table>\n",
       "<tbody>\n",
       "\t<tr><td>-2881.3361</td><td> -451.1946</td></tr>\n",
       "\t<tr><td> -451.1946</td><td>-2775.7210</td></tr>\n",
       "</tbody>\n",
       "</table>\n"
      ],
      "text/latex": [
       "\\begin{tabular}{ll}\n",
       "\t -2881.3361 &  -451.1946\\\\\n",
       "\t  -451.1946 & -2775.7210\\\\\n",
       "\\end{tabular}\n"
      ],
      "text/markdown": [
       "\n",
       "| -2881.3361 |  -451.1946 |\n",
       "|  -451.1946 | -2775.7210 |\n",
       "\n"
      ],
      "text/plain": [
       "     [,1]       [,2]      \n",
       "[1,] -2881.3361  -451.1946\n",
       "[2,]  -451.1946 -2775.7210"
      ]
     },
     "metadata": {},
     "output_type": "display_data"
    }
   ],
   "source": [
    "res$hessian # оценка матрицы Гессе"
   ]
  },
  {
   "cell_type": "code",
   "execution_count": 20,
   "metadata": {
    "slideshow": {
     "slide_type": "fragment"
    }
   },
   "outputs": [
    {
     "data": {
      "text/html": [
       "<table>\n",
       "<tbody>\n",
       "\t<tr><td> 3.561261e-04</td><td>-5.788845e-05</td></tr>\n",
       "\t<tr><td>-5.788845e-05</td><td> 3.696765e-04</td></tr>\n",
       "</tbody>\n",
       "</table>\n"
      ],
      "text/latex": [
       "\\begin{tabular}{ll}\n",
       "\t  3.561261e-04 & -5.788845e-05\\\\\n",
       "\t -5.788845e-05 &  3.696765e-04\\\\\n",
       "\\end{tabular}\n"
      ],
      "text/markdown": [
       "\n",
       "|  3.561261e-04 | -5.788845e-05 |\n",
       "| -5.788845e-05 |  3.696765e-04 |\n",
       "\n"
      ],
      "text/plain": [
       "     [,1]          [,2]         \n",
       "[1,]  3.561261e-04 -5.788845e-05\n",
       "[2,] -5.788845e-05  3.696765e-04"
      ]
     },
     "metadata": {},
     "output_type": "display_data"
    }
   ],
   "source": [
    "p_var = solve(-1*res$hessian)  # оценка ковариационной матрицы оценок\n",
    "p_var"
   ]
  },
  {
   "cell_type": "markdown",
   "metadata": {
    "slideshow": {
     "slide_type": "slide"
    }
   },
   "source": [
    "__Упражнение:__ Давайте же построим асимптотический доверительный интервал для $\\hat p_1$:"
   ]
  },
  {
   "cell_type": "code",
   "execution_count": 65,
   "metadata": {
    "slideshow": {
     "slide_type": "fragment"
    }
   },
   "outputs": [
    {
     "data": {
      "text/html": [
       "0.0975694998000463"
      ],
      "text/latex": [
       "0.0975694998000463"
      ],
      "text/markdown": [
       "0.0975694998000463"
      ],
      "text/plain": [
       "[1] 0.0975695"
      ]
     },
     "metadata": {},
     "output_type": "display_data"
    },
    {
     "data": {
      "text/html": [
       "0.17154365008524"
      ],
      "text/latex": [
       "0.17154365008524"
      ],
      "text/markdown": [
       "0.17154365008524"
      ],
      "text/plain": [
       "[1] 0.1715437"
      ]
     },
     "metadata": {},
     "output_type": "display_data"
    }
   ],
   "source": [
    "alpha = 0.05\n",
    "z_alpha = qnorm(1 - alpha/2)\n",
    "\n",
    "p[1] - z_alpha*sqrt(p_var[1,1])\n",
    "p[1] + z_alpha*sqrt(p_var[1,1])"
   ]
  },
  {
   "cell_type": "markdown",
   "metadata": {
    "slideshow": {
     "slide_type": "slide"
    }
   },
   "source": [
    "__Упражнение:__ как построить доверительный интервал для разницы $\\hat p_1 - \\hat p_2$? "
   ]
  },
  {
   "cell_type": "markdown",
   "metadata": {
    "slideshow": {
     "slide_type": "fragment"
    }
   },
   "source": [
    "$$\n",
    "Var( \\hat p_1 - \\hat p_2) = Var(\\hat p_1) + Var(\\hat p_2) + 2 Cov(\\hat p_1, -\\hat p_2) =  Var(\\hat p_1) + Var(\\hat p_2) - 2 Cov(\\hat p_1, \\hat p_2)\n",
    "$$"
   ]
  },
  {
   "cell_type": "code",
   "execution_count": 72,
   "metadata": {
    "slideshow": {
     "slide_type": "fragment"
    }
   },
   "outputs": [
    {
     "data": {
      "text/html": [
       "-0.062974744358241"
      ],
      "text/latex": [
       "-0.062974744358241"
      ],
      "text/markdown": [
       "-0.062974744358241"
      ],
      "text/plain": [
       "[1] -0.06297474"
      ]
     },
     "metadata": {},
     "output_type": "display_data"
    },
    {
     "data": {
      "text/html": [
       "0.0507423284328344"
      ],
      "text/latex": [
       "0.0507423284328344"
      ],
      "text/markdown": [
       "0.0507423284328344"
      ],
      "text/plain": [
       "[1] 0.05074233"
      ]
     },
     "metadata": {},
     "output_type": "display_data"
    }
   ],
   "source": [
    "diff_std = sqrt(p_var[1,1] + p_var[2,2] - 2*p_var[1,2])\n",
    "diff = p[1] - p[2]\n",
    "\n",
    "diff - z_alpha*diff_std\n",
    "diff + z_alpha*diff_std"
   ]
  },
  {
   "cell_type": "markdown",
   "metadata": {
    "slideshow": {
     "slide_type": "fragment"
    }
   },
   "source": [
    "Ноль попал в доверительный интервал. Что это, означает? "
   ]
  },
  {
   "cell_type": "markdown",
   "metadata": {
    "slideshow": {
     "slide_type": "slide"
    }
   },
   "source": [
    "# 5. Аварии на угольных шахтах  \n",
    "\n",
    "В [табличке](https://yadi.sk/i/wIFZJJ3X3VdPow) лежат данные о количестве крупных аварий на английских угольных шахтах. Хочется оценить интенсивность этих аварий. "
   ]
  },
  {
   "cell_type": "code",
   "execution_count": 22,
   "metadata": {
    "slideshow": {
     "slide_type": "fragment"
    }
   },
   "outputs": [
    {
     "data": {
      "text/html": [
       "<table>\n",
       "<thead><tr><th scope=col>X</th><th scope=col>year</th><th scope=col>count</th></tr></thead>\n",
       "<tbody>\n",
       "\t<tr><td>1   </td><td>1851</td><td>4   </td></tr>\n",
       "\t<tr><td>2   </td><td>1852</td><td>5   </td></tr>\n",
       "\t<tr><td>3   </td><td>1853</td><td>4   </td></tr>\n",
       "\t<tr><td>4   </td><td>1854</td><td>1   </td></tr>\n",
       "\t<tr><td>5   </td><td>1855</td><td>0   </td></tr>\n",
       "\t<tr><td>6   </td><td>1856</td><td>4   </td></tr>\n",
       "</tbody>\n",
       "</table>\n"
      ],
      "text/latex": [
       "\\begin{tabular}{r|lll}\n",
       " X & year & count\\\\\n",
       "\\hline\n",
       "\t 1    & 1851 & 4   \\\\\n",
       "\t 2    & 1852 & 5   \\\\\n",
       "\t 3    & 1853 & 4   \\\\\n",
       "\t 4    & 1854 & 1   \\\\\n",
       "\t 5    & 1855 & 0   \\\\\n",
       "\t 6    & 1856 & 4   \\\\\n",
       "\\end{tabular}\n"
      ],
      "text/markdown": [
       "\n",
       "| X | year | count |\n",
       "|---|---|---|\n",
       "| 1    | 1851 | 4    |\n",
       "| 2    | 1852 | 5    |\n",
       "| 3    | 1853 | 4    |\n",
       "| 4    | 1854 | 1    |\n",
       "| 5    | 1855 | 0    |\n",
       "| 6    | 1856 | 4    |\n",
       "\n"
      ],
      "text/plain": [
       "  X year count\n",
       "1 1 1851 4    \n",
       "2 2 1852 5    \n",
       "3 3 1853 4    \n",
       "4 4 1854 1    \n",
       "5 5 1855 0    \n",
       "6 6 1856 4    "
      ]
     },
     "metadata": {},
     "output_type": "display_data"
    }
   ],
   "source": [
    "df = read.csv('/Users/fulyankin/Yandex.Disk.localized/R/R_prob_data/coal.csv', sep=',')\n",
    "head(df)"
   ]
  },
  {
   "cell_type": "code",
   "execution_count": 23,
   "metadata": {
    "slideshow": {
     "slide_type": "slide"
    }
   },
   "outputs": [
    {
     "data": {
      "text/html": [
       "112"
      ],
      "text/latex": [
       "112"
      ],
      "text/markdown": [
       "112"
      ],
      "text/plain": [
       "[1] 112"
      ]
     },
     "metadata": {},
     "output_type": "display_data"
    },
    {
     "data": {
      "image/png": "[encoded data removed]",
      "text/plain": [
       "plot without title"
      ]
     },
     "metadata": {},
     "output_type": "display_data"
    }
   ],
   "source": [
    "x <- df$count        # наша выборка \n",
    "length(x)            # размер выборки \n",
    "qplot(x, bins=30)"
   ]
  },
  {
   "cell_type": "markdown",
   "metadata": {
    "slideshow": {
     "slide_type": "skip"
    }
   },
   "source": [
    "Судя по гистограмме уместно предположить, что число аварий имеет распределение Пуассона, $Poiss(\\lambda)$. Попробуем оценить параметр $\\lambda$ методом максимального правдоподобия. \n",
    "\n",
    "Вероятность значения: $$ P(X = k) = \\frac{e^{-\\lambda} \\lambda^k}{k!}$$\n",
    "\n",
    "Логарифмическое правдоподобие: $$ \\ln L = \\sum x_i \\ln \\lambda - n \\lambda$$\n",
    "\n",
    "Производная номер один: $$ \\frac{\\partial \\ln L}{\\partial \\lambda} =  \\frac{\\sum x_i}{\\lambda}  - n $$\n",
    "\n",
    "Оценка максимального правдоподобия: $$\\hat \\lambda^{ML} = \\bar x$$\n",
    "\n",
    "А теперь всё то эе самое, но в R!"
   ]
  },
  {
   "cell_type": "code",
   "execution_count": 24,
   "metadata": {
    "slideshow": {
     "slide_type": "slide"
    }
   },
   "outputs": [],
   "source": [
    "lnL <- function(lambda, x) {\n",
    "  n <- length(x)\n",
    "  answer <- -lambda*n+log(lambda)*sum(x)\n",
    "  return(answer)\n",
    "}"
   ]
  },
  {
   "cell_type": "code",
   "execution_count": 25,
   "metadata": {
    "slideshow": {
     "slide_type": "fragment"
    }
   },
   "outputs": [
    {
     "data": {
      "text/html": [
       "-112"
      ],
      "text/latex": [
       "-112"
      ],
      "text/markdown": [
       "-112"
      ],
      "text/plain": [
       "[1] -112"
      ]
     },
     "metadata": {},
     "output_type": "display_data"
    },
    {
     "data": {
      "text/html": [
       "-188.39111148695"
      ],
      "text/latex": [
       "-188.39111148695"
      ],
      "text/markdown": [
       "-188.39111148695"
      ],
      "text/plain": [
       "[1] -188.3911"
      ]
     },
     "metadata": {},
     "output_type": "display_data"
    }
   ],
   "source": [
    "# Пара значений функции\n",
    "lnL(1, x)\n",
    "lnL(0.5, x)"
   ]
  },
  {
   "cell_type": "markdown",
   "metadata": {
    "slideshow": {
     "slide_type": "slide"
    }
   },
   "source": [
    "Кстати говоря, можно было не делать все эти расчёты и вбить функцию правдоподобия вот так: "
   ]
  },
  {
   "cell_type": "code",
   "execution_count": 26,
   "metadata": {
    "slideshow": {
     "slide_type": "fragment"
    }
   },
   "outputs": [
    {
     "data": {
      "text/html": [
       "-226.80879194192"
      ],
      "text/latex": [
       "-226.80879194192"
      ],
      "text/markdown": [
       "-226.80879194192"
      ],
      "text/plain": [
       "[1] -226.8088"
      ]
     },
     "metadata": {},
     "output_type": "display_data"
    }
   ],
   "source": [
    "lnL_2 <- function(lambda, x) {\n",
    "  answer <- dpois(x = x, lambda = lambda)\n",
    "  return(sum(log(answer)))\n",
    "}\n",
    "\n",
    "lnL_2(1, x)"
   ]
  },
  {
   "cell_type": "markdown",
   "metadata": {
    "slideshow": {
     "slide_type": "fragment"
    }
   },
   "source": [
    "Точка на выходе получилась другой, потому что в ручном варианте мы избавились от всех лишних констант. Тут они остались. Если мы будем максимизировать `lnL_2` вместо `lnL`, мы получим тот же результат. Но таскать за собой константы не очень хочется. Иногда они портят процедуру сходимости, поэтому мы будем использовать ручной вариант. __В домашках, в тех местах, где сложно вбить функцию правдоподобия в явном виде (например, гамма-распределение), используйте вариант с `lnL_2`.__  "
   ]
  },
  {
   "cell_type": "markdown",
   "metadata": {
    "slideshow": {
     "slide_type": "slide"
    }
   },
   "source": [
    "Давайте посмотрим как выглядит наша функция правдоподобия на картинке. Мы ещё никогда не смотрели на неё на реальной выборке. "
   ]
  },
  {
   "cell_type": "code",
   "execution_count": 27,
   "metadata": {
    "slideshow": {
     "slide_type": "fragment"
    }
   },
   "outputs": [
    {
     "data": {
      "image/png": "[encoded data removed]",
      "text/plain": [
       "plot without title"
      ]
     },
     "metadata": {},
     "output_type": "display_data"
    }
   ],
   "source": [
    "lambda = seq(0.1, 10, 0.1)\n",
    "likelihood = lnL(lambda, x)\n",
    "qplot(lambda, likelihood, geom='line')"
   ]
  },
  {
   "cell_type": "markdown",
   "metadata": {
    "slideshow": {
     "slide_type": "slide"
    }
   },
   "source": [
    "Ещё давайте посмотрим небольшую гифку с тем, как эта функция правдоподобия накапливается из отдельных наблюдений.\n",
    "\n",
    "![Гифка]( )"
   ]
  },
  {
   "cell_type": "markdown",
   "metadata": {
    "slideshow": {
     "slide_type": "slide"
    }
   },
   "source": [
    "Давайте найдём оценку максимального правдоподобия. Пакет позволяет. "
   ]
  },
  {
   "cell_type": "code",
   "execution_count": 110,
   "metadata": {
    "slideshow": {
     "slide_type": "fragment"
    }
   },
   "outputs": [
    {
     "data": {
      "text/plain": [
       "--------------------------------------------\n",
       "Maximum Likelihood estimation\n",
       "Newton-Raphson maximisation, 4 iterations\n",
       "Return code 1: gradient close to zero\n",
       "Log-Likelihood: -203.8579 \n",
       "1  free parameters\n",
       "Estimates:\n",
       "     Estimate Std. error t value Pr(> t)    \n",
       "[1,]   1.7054     0.1234   13.82  <2e-16 ***\n",
       "---\n",
       "Signif. codes:  0 ‘***’ 0.001 ‘**’ 0.01 ‘*’ 0.05 ‘.’ 0.1 ‘ ’ 1\n",
       "--------------------------------------------"
      ]
     },
     "metadata": {},
     "output_type": "display_data"
    }
   ],
   "source": [
    "result <- maxLik(lnL, start=2, x=x)\n",
    "summary(result)"
   ]
  },
  {
   "cell_type": "code",
   "execution_count": 79,
   "metadata": {
    "slideshow": {
     "slide_type": "fragment"
    }
   },
   "outputs": [
    {
     "data": {
      "text/html": [
       "1.70535714285714"
      ],
      "text/latex": [
       "1.70535714285714"
      ],
      "text/markdown": [
       "1.70535714285714"
      ],
      "text/plain": [
       "[1] 1.705357"
      ]
     },
     "metadata": {},
     "output_type": "display_data"
    }
   ],
   "source": [
    "# сверимся с теорией! Оценка получилась хорошей :) \n",
    "mean(x)"
   ]
  },
  {
   "cell_type": "code",
   "execution_count": 81,
   "metadata": {
    "slideshow": {
     "slide_type": "fragment"
    }
   },
   "outputs": [],
   "source": [
    "# Вытащим оценку в отдельную переменную\n",
    "lambda_hat <- result$estimate"
   ]
  },
  {
   "cell_type": "markdown",
   "metadata": {
    "slideshow": {
     "slide_type": "skip"
    }
   },
   "source": [
    "Оценка есть. Теперь хотим доверительный интервал. Сначала построим его вручную, чтобы закрепить теорию. Для этого нам нужна вторая производная :\n",
    "\n",
    "$$ \\frac{\\partial^2 \\ln L}{\\partial \\lambda^2} =  -\\frac{\\sum x_i}{\\lambda^2} $$\n",
    "\n",
    "В этой задачке только один параметр. Поэтому матрица гессе это только одна единственная производная. Давайте найдём оценку дисперсии для нашей $\\hat \\lambda$: \n",
    "\n",
    "$$\n",
    "- H = \\frac{\\sum x_i}{\\lambda^2}\n",
    "$$\n",
    "\n",
    "$$\n",
    "- E(H) =  \\frac{n}{\\lambda}\n",
    "$$"
   ]
  },
  {
   "cell_type": "code",
   "execution_count": 82,
   "metadata": {
    "slideshow": {
     "slide_type": "slide"
    }
   },
   "outputs": [
    {
     "data": {
      "text/html": [
       "0.0152264030656858"
      ],
      "text/latex": [
       "0.0152264030656858"
      ],
      "text/markdown": [
       "0.0152264030656858"
      ],
      "text/plain": [
       "[1] 0.0152264"
      ]
     },
     "metadata": {},
     "output_type": "display_data"
    }
   ],
   "source": [
    "# Первая оценка: \n",
    "1/(sum(x)/lambda_hat^2)"
   ]
  },
  {
   "cell_type": "code",
   "execution_count": 83,
   "metadata": {
    "slideshow": {
     "slide_type": "fragment"
    }
   },
   "outputs": [
    {
     "data": {
      "text/html": [
       "0.0152264030634552"
      ],
      "text/latex": [
       "0.0152264030634552"
      ],
      "text/markdown": [
       "0.0152264030634552"
      ],
      "text/plain": [
       "[1] 0.0152264"
      ]
     },
     "metadata": {},
     "output_type": "display_data"
    }
   ],
   "source": [
    "# Вторая оценка: \n",
    "1/(length(x)/lambda_hat)"
   ]
  },
  {
   "cell_type": "code",
   "execution_count": 84,
   "metadata": {
    "slideshow": {
     "slide_type": "fragment"
    }
   },
   "outputs": [
    {
     "data": {
      "text/html": [
       "<table>\n",
       "<tbody>\n",
       "\t<tr><td>0.01523463</td></tr>\n",
       "</tbody>\n",
       "</table>\n"
      ],
      "text/latex": [
       "\\begin{tabular}{l}\n",
       "\t 0.01523463\\\\\n",
       "\\end{tabular}\n"
      ],
      "text/markdown": [
       "\n",
       "| 0.01523463 |\n",
       "\n"
      ],
      "text/plain": [
       "     [,1]      \n",
       "[1,] 0.01523463"
      ]
     },
     "metadata": {},
     "output_type": "display_data"
    }
   ],
   "source": [
    "# Оценка из пакета: \n",
    "-1*1/result$hessian"
   ]
  },
  {
   "cell_type": "markdown",
   "metadata": {
    "slideshow": {
     "slide_type": "skip"
    }
   },
   "source": [
    "Давайте попробуем воспользоваться этой оценкой. Мы с вами помним, что оценка максимального правдоподобия довольно няшная. Она имеет асимптотически нормальное распределение: \n",
    "\n",
    "$$\\hat \\lambda \\sim N(\\lambda, 0.015)$$\n",
    "\n",
    "Давайте построим для неё, отталкиваясь от этой информации доверительный интервал."
   ]
  },
  {
   "cell_type": "code",
   "execution_count": 86,
   "metadata": {
    "slideshow": {
     "slide_type": "slide"
    }
   },
   "outputs": [
    {
     "name": "stdout",
     "output_type": "stream",
     "text": [
      "Параметр lambda с вероятностью 95% лежит между 1.463441 и 1.947273"
     ]
    }
   ],
   "source": [
    "alpha = 0.05\n",
    "\n",
    "z_alpha = qnorm(1 - alpha/2)\n",
    "\n",
    "se = sqrt(-1*1/result$hessian)\n",
    "\n",
    "lambda_left  = lambda_hat - z_alpha*se\n",
    "lambda_right = lambda_hat + z_alpha*se\n",
    "cat('Параметр lambda с вероятностью 95% лежит между',lambda_left, 'и',lambda_right)"
   ]
  },
  {
   "cell_type": "markdown",
   "metadata": {
    "slideshow": {
     "slide_type": "slide"
    }
   },
   "source": [
    "Обратите внимание, что интервал получился довольно коротким. Это сигнализирует о высокой точности оценки. Давайте посмотрим с какой вероятностью в следующем году произойдёт какое количество катастроф, то есть построим прогноз для наших угольных шахт:"
   ]
  },
  {
   "cell_type": "code",
   "execution_count": 87,
   "metadata": {
    "slideshow": {
     "slide_type": "fragment"
    }
   },
   "outputs": [
    {
     "data": {
      "text/html": [
       "<ol class=list-inline>\n",
       "\t<li>0.18</li>\n",
       "\t<li>0.31</li>\n",
       "\t<li>0.26</li>\n",
       "\t<li>0.15</li>\n",
       "\t<li>0.06</li>\n",
       "\t<li>0.02</li>\n",
       "</ol>\n"
      ],
      "text/latex": [
       "\\begin{enumerate*}\n",
       "\\item 0.18\n",
       "\\item 0.31\n",
       "\\item 0.26\n",
       "\\item 0.15\n",
       "\\item 0.06\n",
       "\\item 0.02\n",
       "\\end{enumerate*}\n"
      ],
      "text/markdown": [
       "1. 0.18\n",
       "2. 0.31\n",
       "3. 0.26\n",
       "4. 0.15\n",
       "5. 0.06\n",
       "6. 0.02\n",
       "\n",
       "\n"
      ],
      "text/plain": [
       "[1] 0.18 0.31 0.26 0.15 0.06 0.02"
      ]
     },
     "metadata": {},
     "output_type": "display_data"
    }
   ],
   "source": [
    "f <- 0:5\n",
    "round(exp(-lambda_hat)*lambda_hat^f/factorial(f),2)"
   ]
  },
  {
   "cell_type": "markdown",
   "metadata": {
    "slideshow": {
     "slide_type": "skip"
    }
   },
   "source": [
    "Вероятнее всего на шахте произойдёт две катастрофы. Надо быть готовым к этому. \n",
    "\n",
    "На практике распределение Пуассона часто используют во всемирной организации здравоохрания. У каждого вируса гриппа есть свои особенности и нельзя привить людей сразу от всех недугов. Поэтому с помощью распределения Пуассона пытаются прогнозировать какие разновидности гриппа будут самыми популярными. Вакцину для прививок специфицируют именно под эти разновидности. Ясное дело, что они оценивают на основе распределения Пуассона более сложные модели. Например, Пуассоновскую регрессию. __Если захотите со мной ещё факультативов, поговорим про неё в будущем.__ "
   ]
  },
  {
   "cell_type": "markdown",
   "metadata": {
    "slideshow": {
     "slide_type": "skip"
    }
   },
   "source": [
    "Остался последний нюанс. Выше мы сказали, что если функция плотности $f(x \\mid \\theta)$ удовлетворяет условиям регулярности, то тогда для любой несмещённой оценки $\\hat \\theta$ выполняется:\n",
    "\n",
    "$$\n",
    "I(\\theta) =  E\\left( \\frac{\\partial^2 \\ln L}{\\partial \\theta^2}  \\right) = E\\left[ \\left( \\frac{\\partial \\ln L}{\\partial \\theta} \\right)^2  \\right],\n",
    "$$\n",
    "\n",
    "то есть вторая производная является ничем иным как информацией Фишера. Давайте убедимся в этом на примере распределения Пуассона. Для простоты будем считать, что у нас есть только одно наблюдение и \n",
    "\n",
    "$$\\ln L = \\ln f(x,\\lambda).$$ \n",
    "\n",
    "Если мы откроем семинары/лекции или ручками найдём информацию Фишера для распределения Пуассона, мы увидим, что:\n",
    "\n",
    "$$\n",
    "J(\\lambda) = \\frac{1}{\\lambda}\n",
    "$$\n",
    "\n",
    "Это совпадает с $-E(H)$ для одного наблюдения. __Остановитесь! И задумайтесь о том в чём смысл информации Фишера, при чём тут вторая производная и почему это информация.__ Если вы смогли ответить на эти вопросы, двигайтесь дальше. Если не смогли, то перечитайте начало блокнота. Если вы всё ещё ничего не поняли, пишите в лс :)"
   ]
  },
  {
   "cell_type": "markdown",
   "metadata": {
    "slideshow": {
     "slide_type": "slide"
    }
   },
   "source": [
    "# 6. Задача про наркотики, сбор статистики"
   ]
  },
  {
   "cell_type": "markdown",
   "metadata": {
    "slideshow": {
     "slide_type": "slide"
    }
   },
   "source": [
    "# 7. Тест отношения правдоподобий\n",
    "\n"
   ]
  },
  {
   "cell_type": "code",
   "execution_count": null,
   "metadata": {},
   "outputs": [],
   "source": []
  },
  {
   "cell_type": "markdown",
   "metadata": {},
   "source": [
    "\n",
    "Итак, есть небольшое количество простых известных распределений. \n",
    "\n",
    "\n",
    "\n",
    "\n",
    "И это можно. Оказыватеся, что  \n",
    "\n",
    "$$\n",
    "LR = 2\\cdot(\\ln L(\\hat \\theta_ML) - \\ln L(\\theta_0)) \\sim \\chi^2_q,\n",
    "$$\n",
    "\n",
    "где $q$ это количество ограничений. Проверка любой параметрической гипотезы благодаря методу максимального правдоподобия сводится к простому рецепту:\n",
    "\n",
    "1. Оцениваем модель без ограничений. \n",
    "2. Оцениваем модель с ограничением, которое на неё накладывает $H_0$.\n",
    "3. Смотрим как сильно отличаются правдоподобия. "
   ]
  },
  {
   "cell_type": "code",
   "execution_count": null,
   "metadata": {},
   "outputs": [],
   "source": []
  },
  {
   "cell_type": "code",
   "execution_count": null,
   "metadata": {},
   "outputs": [],
   "source": []
  },
  {
   "cell_type": "markdown",
   "metadata": {
    "slideshow": {
     "slide_type": "slide"
    }
   },
   "source": [
    "# 8. Толи нормальные толи равномерные весы "
   ]
  },
  {
   "cell_type": "markdown",
   "metadata": {
    "slideshow": {
     "slide_type": "slide"
    }
   },
   "source": [
    "Решим ещё одну задачку. Пусть Ира раздобыла два золотых слитка массой $m$ каждый (для неё это вообще не проблема, её отец же король, а она принцесса). Также она раздобыла весы, которые работают с погрешностью. \n",
    "\n",
    "Сначала Ира положила на весы первый золотой слиток и получила в результате взвешивания $m + \\varepsilon_1$, где $ \\varepsilon_1$ - случайная величина, ошибка первого взвешивания. Затем Ира положила на весы сразу оба слитка и получил в результате взвешивания $2m + \\varepsilon_2$, где $ \\varepsilon_2$ - случайная величина, ошибка второго взвешивания. Оказалось, что $y_1 = 60$, $y_2 = 110$.\n",
    "\n",
    "__a)__ Теперь Ира хочет с помощью метода максимального правдоподобия оценить вес слитка $m$ и погрешность весов $\\sigma$, если ошибки не зависят друг от друга и при этом \n",
    "\n",
    "$$\\varepsilon_i \\sim N(0,\\sigma^2)$$\n",
    "\n",
    "__b)__ Ира хочет $80\\%$ доверительные интревалы для обоих параметров \n",
    "\n",
    "__с)__ Ира хочет проверить гипотезу о том, что $m = 70$ с помощью статистики отношения правдоподобий. \n",
    "\n",
    "__d)__ А ещё у Иры есть такая гипотеза: "
   ]
  },
  {
   "cell_type": "markdown",
   "metadata": {
    "slideshow": {
     "slide_type": "slide"
    }
   },
   "source": [
    "Для начала осознаем как распределена выборка. \n",
    "\n",
    "\\begin{equation*}\n",
    "\\begin{aligned}\n",
    "& y_1 = m + \\varepsilon_1 \\sim N(m, \\sigma^2) \\\\\n",
    "& y_2 = 2m + \\varepsilon_2 \\sim N(2m, \\sigma^2)\n",
    "\\end{aligned}\n",
    "\\end{equation*}\n",
    "\n",
    "Выписываем функцию правдоподобия: \n",
    "\n",
    "$$\n",
    "L = \\frac{1}{\\sqrt{2 \\pi \\sigma^2}} \\cdot e^{-\\frac{(y_1 - m)^2}{2 \\sigma^2}} \\cdot \\frac{1}{\\sqrt{2 \\pi \\sigma^2}} \\cdot e^{-\\frac{(y_2 - 2m)^2}{2 \\sigma^2}}\n",
    "$$\n",
    "\n",
    "Прологарифмируем: \n",
    "\n",
    "$$\n",
    "\\ln L \\propto - \\ln \\sigma^2 - \\frac{(y_1 -m)^2 + (y_2 - 2m)^2}{2 \\sigma^2}\n",
    "$$\n",
    "\n",
    "Значком $\\propto$ обычно обозначают равенство с точностью до константы. Мы, когда выписывали логарифм правдоподобия, избавились от лишних констант, которые никак не влияли на решение задачи. Вбиваем функцию в R. "
   ]
  },
  {
   "cell_type": "code",
   "execution_count": 125,
   "metadata": {
    "slideshow": {
     "slide_type": "slide"
    }
   },
   "outputs": [
    {
     "data": {
      "text/html": [
       "-3650.69314718056"
      ],
      "text/latex": [
       "-3650.69314718056"
      ],
      "text/markdown": [
       "-3650.69314718056"
      ],
      "text/plain": [
       "[1] -3650.693"
      ]
     },
     "metadata": {},
     "output_type": "display_data"
    }
   ],
   "source": [
    "y <- c(60, 110)\n",
    "\n",
    "lnL <- function(th, y){\n",
    "    return(-log(th[2]) - ((y[1] - th[1])^2 + (y[2] - 2*th[1])^2)/(2*th[2]))\n",
    "}\n",
    "\n",
    "# все наши параметры в векторе th\n",
    "lnL(c(2,2), y)"
   ]
  },
  {
   "cell_type": "markdown",
   "metadata": {
    "slideshow": {
     "slide_type": "slide"
    }
   },
   "source": [
    "Находим оптимум:"
   ]
  },
  {
   "cell_type": "code",
   "execution_count": 130,
   "metadata": {
    "slideshow": {
     "slide_type": "fragment"
    }
   },
   "outputs": [
    {
     "name": "stderr",
     "output_type": "stream",
     "text": [
      "Warning message in log(th[2]):\n",
      "“созданы NaN”Warning message in log(th[2]):\n",
      "“созданы NaN”Warning message in log(th[2]):\n",
      "“созданы NaN”Warning message in log(th[2]):\n",
      "“созданы NaN”Warning message in log(th[2]):\n",
      "“созданы NaN”Warning message in log(th[2]):\n",
      "“созданы NaN”Warning message in log(th[2]):\n",
      "“созданы NaN”Warning message in log(th[2]):\n",
      "“созданы NaN”Warning message in log(th[2]):\n",
      "“созданы NaN”Warning message in log(th[2]):\n",
      "“созданы NaN”Warning message in log(th[2]):\n",
      "“созданы NaN”Warning message in log(th[2]):\n",
      "“созданы NaN”Warning message in log(th[2]):\n",
      "“созданы NaN”Warning message in log(th[2]):\n",
      "“созданы NaN”Warning message in log(th[2]):\n",
      "“созданы NaN”Warning message in log(th[2]):\n",
      "“созданы NaN”Warning message in log(th[2]):\n",
      "“созданы NaN”Warning message in log(th[2]):\n",
      "“созданы NaN”Warning message in log(th[2]):\n",
      "“созданы NaN”Warning message in log(th[2]):\n",
      "“созданы NaN”Warning message in log(th[2]):\n",
      "“созданы NaN”Warning message in log(th[2]):\n",
      "“созданы NaN”Warning message in log(th[2]):\n",
      "“созданы NaN”"
     ]
    },
    {
     "data": {
      "text/plain": [
       "--------------------------------------------\n",
       "Maximum Likelihood estimation\n",
       "Newton-Raphson maximisation, 21 iterations\n",
       "Return code 1: gradient close to zero\n",
       "Log-Likelihood: -3.302585 \n",
       "2  free parameters\n",
       "Estimates:\n",
       "     Estimate Std. error t value Pr(> t)    \n",
       "[1,]   56.000      1.414  39.600  <2e-16 ***\n",
       "[2,]   10.000      9.895   1.011   0.312    \n",
       "---\n",
       "Signif. codes:  0 ‘***’ 0.001 ‘**’ 0.01 ‘*’ 0.05 ‘.’ 0.1 ‘ ’ 1\n",
       "--------------------------------------------"
      ]
     },
     "metadata": {},
     "output_type": "display_data"
    }
   ],
   "source": [
    "result <- maxLik(lnL, start=c(2,4), y=y)\n",
    "summary(result)"
   ]
  },
  {
   "cell_type": "markdown",
   "metadata": {
    "slideshow": {
     "slide_type": "skip"
    }
   },
   "source": [
    "При желании можно свериться с ручными оценками: \n",
    "\n",
    "\\begin{equation*}\n",
    "\\begin{aligned}\n",
    "& \\hat m = \\frac{y_1 + 2 \\cdot y_2}{5} \\\\\n",
    "& \\hat \\sigma^2 = \\frac{1}{2} \\cdot((y_1 - \\hat m)^2 + (y_2 - 2 \\hat m)^2)\n",
    "\\end{aligned}\n",
    "\\end{equation*}"
   ]
  },
  {
   "cell_type": "markdown",
   "metadata": {
    "slideshow": {
     "slide_type": "slide"
    }
   },
   "source": [
    "Давайте построим $80%$ доверительный интервал для $\\sigma^2$. "
   ]
  },
  {
   "cell_type": "code",
   "execution_count": 133,
   "metadata": {
    "slideshow": {
     "slide_type": "fragment"
    }
   },
   "outputs": [
    {
     "data": {
      "text/html": [
       "<table>\n",
       "<thead><tr><th scope=col>Estimate</th><th scope=col>Std. error</th><th scope=col>t value</th><th scope=col>Pr(&gt; t)</th></tr></thead>\n",
       "<tbody>\n",
       "\t<tr><td>56.00000 </td><td>1.414151 </td><td>39.599740</td><td>0.0000000</td></tr>\n",
       "\t<tr><td> 9.99991 </td><td>9.894662 </td><td> 1.010637</td><td>0.3121903</td></tr>\n",
       "</tbody>\n",
       "</table>\n"
      ],
      "text/latex": [
       "\\begin{tabular}{llll}\n",
       " Estimate & Std. error & t value & Pr(> t)\\\\\n",
       "\\hline\n",
       "\t 56.00000  & 1.414151  & 39.599740 & 0.0000000\\\\\n",
       "\t  9.99991  & 9.894662  &  1.010637 & 0.3121903\\\\\n",
       "\\end{tabular}\n"
      ],
      "text/markdown": [
       "\n",
       "| Estimate | Std. error | t value | Pr(> t) |\n",
       "|---|---|---|---|\n",
       "| 56.00000  | 1.414151  | 39.599740 | 0.0000000 |\n",
       "|  9.99991  | 9.894662  |  1.010637 | 0.3121903 |\n",
       "\n"
      ],
      "text/plain": [
       "     Estimate Std. error t value   Pr(> t)  \n",
       "[1,] 56.00000 1.414151   39.599740 0.0000000\n",
       "[2,]  9.99991 9.894662    1.010637 0.3121903"
      ]
     },
     "metadata": {},
     "output_type": "display_data"
    }
   ],
   "source": [
    "table <- summary(result)$estimate\n",
    "table"
   ]
  },
  {
   "cell_type": "code",
   "execution_count": 140,
   "metadata": {
    "slideshow": {
     "slide_type": "fragment"
    }
   },
   "outputs": [
    {
     "name": "stdout",
     "output_type": "stream",
     "text": [
      "Параметр mu с вероятностью 95% лежит между -2.68061 и 22.68043 \n",
      "Длина интервала: 25.36104"
     ]
    }
   ],
   "source": [
    "alpha = 0.2\n",
    "z_alpha = qnorm(1 - alpha/2)\n",
    "left = table[2,1] -  z_alpha*table[2,2]\n",
    "right = table[2,1] +  z_alpha*table[2,2]\n",
    "cat('Параметр mu с вероятностью 95% лежит между', left, 'и',right, '\\n')\n",
    "cat('Длина интервала:', right - left)"
   ]
  },
  {
   "cell_type": "markdown",
   "metadata": {
    "slideshow": {
     "slide_type": "slide"
    }
   },
   "source": [
    "Теперь проверим гипотезу, что $m = 70$. Для этого будем использовать статистику отношения правдоподобий. "
   ]
  },
  {
   "cell_type": "code",
   "execution_count": null,
   "metadata": {},
   "outputs": [],
   "source": []
  },
  {
   "cell_type": "code",
   "execution_count": null,
   "metadata": {},
   "outputs": [],
   "source": []
  },
  {
   "cell_type": "code",
   "execution_count": null,
   "metadata": {},
   "outputs": [],
   "source": []
  },
  {
   "cell_type": "markdown",
   "metadata": {},
   "source": [
    "С помощью метода максимального правдоподобия оцените вес слитка $m$ и погрешность весов, $b$, если ошибки не зависят друг от друга и \n",
    "\n",
    "a)  $\\varepsilon_i \\sim U[-b,b]$"
   ]
  },
  {
   "cell_type": "markdown",
   "metadata": {},
   "source": [
    "Сначала решите задачу ручками, а затем в R. \n",
    "\n",
    "c) Постройте на компьютере для обоих случаев $95\\%$ доверительный интервал для параметров $b$ и $m$.\n",
    "\n",
    "Матрицу Гессе для оценки дисперсий оценок параметров тоже нужно найти руками. При поиске доверительного интервала можно воспользоваться готовой оценкой матрицы из пакета. "
   ]
  },
  {
   "cell_type": "code",
   "execution_count": null,
   "metadata": {},
   "outputs": [],
   "source": []
  },
  {
   "cell_type": "code",
   "execution_count": null,
   "metadata": {},
   "outputs": [],
   "source": []
  },
  {
   "cell_type": "markdown",
   "metadata": {
    "slideshow": {
     "slide_type": "slide"
    }
   },
   "source": [
    "# Что мы сегодня осознали? \n",
    "\n",
    "* Метод максимального правдоподобия - что я вижу, то и есть на самом деле.  \n",
    "* Производные содержут в себе информацию и именно они используются для её передачи в современной статистике и машинном обучении. Например, вторая производная функции правдоподобия говорит о том, насколько ярко выражен пик правдоподобия. \n",
    "* Информация Фишера говорит о острие пика, это усреднённая по выборке вторая производная, взятая со знаком минус (потому что мы максимизируем правдоподобие, в оптимуме вторая производная отрицательна, надо это компенсировать ещё одним минусом).\n"
   ]
  }
 ],
 "metadata": {
  "celltoolbar": "Slideshow",
  "kernelspec": {
   "display_name": "R",
   "language": "R",
   "name": "ir"
  },
  "language_info": {
   "codemirror_mode": "r",
   "file_extension": ".r",
   "mimetype": "text/x-r-source",
   "name": "R",
   "pygments_lexer": "r",
   "version": "3.5.3"
  }
 },
 "nbformat": 4,
 "nbformat_minor": 2
}
