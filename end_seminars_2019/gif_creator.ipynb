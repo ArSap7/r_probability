{
 "cells": [
  {
   "cell_type": "code",
   "execution_count": null,
   "metadata": {},
   "outputs": [],
   "source": []
  },
  {
   "cell_type": "code",
   "execution_count": null,
   "metadata": {},
   "outputs": [],
   "source": []
  },
  {
   "cell_type": "code",
   "execution_count": null,
   "metadata": {},
   "outputs": [],
   "source": []
  },
  {
   "cell_type": "code",
   "execution_count": null,
   "metadata": {},
   "outputs": [],
   "source": []
  },
  {
   "cell_type": "code",
   "execution_count": null,
   "metadata": {},
   "outputs": [],
   "source": []
  },
  {
   "cell_type": "code",
   "execution_count": null,
   "metadata": {},
   "outputs": [],
   "source": []
  },
  {
   "cell_type": "code",
   "execution_count": null,
   "metadata": {},
   "outputs": [],
   "source": [
    "np.random.seed(1342)\n",
    "\n",
    "p_c = 0.3 \n",
    "p_t = 0.4\n",
    "alpha = 0.05\n",
    "beta = 0.2\n",
    "\n",
    "n_max = get_size(p_c, p_t, alpha, beta)\n",
    "c = p_c + stats.norm.ppf(1 - alpha, loc=0, scale=1)*np.sqrt(p_c*(1 - p_c)/n_max)\n",
    "print n_max, c\n",
    "\n",
    "def plot_sample_size_frames(do_dorm, width, height):\n",
    "    left_x = c - width\n",
    "    right_x = c + width\n",
    "\n",
    "    n_list = range(5, n_max, 1) + [n_max]\n",
    "    for f in glob.glob(\"./../images/sample_size_gif/*_%s.*\" % \n",
    "                       ('normed' if do_dorm else 'real')):\n",
    "        os.remove(f)\n",
    "    for n in tqdm_notebook(n_list):\n",
    "        s_c = np.sqrt(p_c*(1 - p_c)/n)\n",
    "        s_t = np.sqrt(p_t*(1 - p_t)/n)\n",
    "\n",
    "        c_c = p_c + stats.norm.ppf(1 - alpha, loc=0, scale=1)*s_c\n",
    "        c_t = p_t + stats.norm.ppf(beta, loc=0, scale=1)*s_t\n",
    "\n",
    "        support = np.linspace(left_x, right_x, 1000)\n",
    "        y_c = stats.norm.pdf(support, loc=p_c, scale=s_c)\n",
    "        y_t = stats.norm.pdf(support, loc=p_t, scale=s_t)\n",
    "        if do_dorm:\n",
    "            y_c /= max(y_c.max(), y_t.max())\n",
    "            y_t /= max(y_c.max(), y_t.max())\n",
    "\n",
    "        fig, ax = plt.subplots()\n",
    "        ax.plot(support, y_c, color='r', label='y control')\n",
    "        ax.plot(support, y_t, color='b', label='y treatment')\n",
    "\n",
    "        ax.set_ylim(0, height)\n",
    "        ax.set_xlim(left_x, right_x)\n",
    "\n",
    "        ax.axvline(c, color='g', label='c')\n",
    "        ax.axvline(c_c, color='m', label='c_c')\n",
    "        ax.axvline(c_t, color='c', label='c_p')\n",
    "        ax.axvline(p_c, color='r', alpha=0.3, linestyle='--', label='p_c')\n",
    "        ax.axvline(p_t, color='b', alpha=0.3, linestyle='--', label='p_t')\n",
    "\n",
    "        ax.fill_between(support[support <= c_t], \n",
    "                        y_t[support <= c_t], \n",
    "                        color='b', alpha=0.2, label='b: power')\n",
    "        ax.fill_between(support[support >= c_c], \n",
    "                        y_c[support >= c_c], \n",
    "                        color='r', alpha=0.2, label='a: significance')\n",
    "\n",
    "        ax.legend(loc='upper right', prop={'size': 20})\n",
    "\n",
    "        ax.set_title('Sample size: %i' % n, fontsize=20)\n",
    "\n",
    "        fig.savefig('./../images/sample_size_gif/%i_%s.png' % \n",
    "                    (n, 'normed' if do_dorm else 'real'), dpi=80)\n",
    "\n",
    "        plt.close(fig)\n",
    "\n",
    "plot_sample_size_frames(do_dorm=True, width=0.5, height=1.1)\n",
    "plot_sample_size_frames(do_dorm = False, width=1, height=2.5)\n",
    "\n",
    "!convert -delay 5 $(for i in $(seq 5 1 142); do echo ./../images/sample_size_gif/${i}_normed.png; done) -loop 0 ./../images/sample_size_gif/sample_size_normed.gif\n",
    "for f in glob.glob(\"./../images/sample_size_gif/*_normed.png\"):\n",
    "    os.remove(f)\n",
    "\n",
    "!convert -delay 5 $(for i in $(seq 5 1 142); do echo ./../images/sample_size_gif/${i}_real.png; done) -loop 0 ./../images/sample_size_gif/sample_size_real.gif\n",
    "for f in glob.glob(\"./../images/sample_size_gif/*_real.png\"):\n",
    "    os.remove(f)"
   ]
  },
  {
   "cell_type": "code",
   "execution_count": null,
   "metadata": {},
   "outputs": [],
   "source": []
  },
  {
   "cell_type": "code",
   "execution_count": null,
   "metadata": {},
   "outputs": [],
   "source": []
  }
 ],
 "metadata": {
  "kernelspec": {
   "display_name": "Python 3",
   "language": "python",
   "name": "python3"
  }
 },
 "nbformat": 4,
 "nbformat_minor": 2
}
